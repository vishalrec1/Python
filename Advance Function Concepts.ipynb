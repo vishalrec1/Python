{
 "cells": [
  {
   "cell_type": "markdown",
   "metadata": {},
   "source": [
    "Python functions are first class objects.\n",
    "\n",
    "First class objects in a language are handled uniformly throughout. They may be stored in data structures, passed as arguments,\n",
    "or used in control structures. Python supports the concept of First Class functions.\n",
    "\n",
    "Properties of first class functions:\n",
    "\n",
    "    A function is an instance of the Object type.\n",
    "\n",
    "    You can store the function in a variable.\n",
    "\n",
    "    You can pass the function as a parameter to another function.\n",
    "\n",
    "    You can return the function from a function.\n",
    "\n",
    "    You can store them in data structures such as hash tables, lists, dictionary"
   ]
  },
  {
   "cell_type": "code",
   "execution_count": 7,
   "metadata": {},
   "outputs": [],
   "source": [
    "#TOPICS COVERED IN THIS NOTEBOOK ARE AS FOLLOWS:\n",
    "\n",
    "#1 ASSIGNING FUNCTION TO A VARIABLE\n",
    "\n",
    "#2 DEFINING FUNCTION INSIDE ANOTHER FUNCTION\n",
    "\n",
    "#3 RETURNING FUNCTION AND ASSIGNING IT TO VARIABLE\n",
    "\n",
    "#4 PASSING FUNCTION AS AN ARGUMENT TO ANOTHER FUNCTION. FUNCTIONS ARE THE OBJECTS THAT CAN BE PASSED TO OTHER OBJECTS\n",
    "\n",
    "#5 DECORATOR\n"
   ]
  },
  {
   "cell_type": "markdown",
   "metadata": {},
   "source": [
    "#### 1 ASSIGNING FUNCTION TO A VARIABLE"
   ]
  },
  {
   "cell_type": "code",
   "execution_count": 1,
   "metadata": {},
   "outputs": [],
   "source": [
    "def add(n1,n2):\n",
    "    return n1+n2"
   ]
  },
  {
   "cell_type": "code",
   "execution_count": 2,
   "metadata": {},
   "outputs": [
    {
     "data": {
      "text/plain": [
       "7"
      ]
     },
     "execution_count": 2,
     "metadata": {},
     "output_type": "execute_result"
    }
   ],
   "source": [
    "add(3,4)"
   ]
  },
  {
   "cell_type": "code",
   "execution_count": 6,
   "metadata": {},
   "outputs": [],
   "source": [
    "#ASSIGN FUNCTION TO A VARIABLE AND EXECUTE THE FUNCTION OF THE VARIABLE"
   ]
  },
  {
   "cell_type": "code",
   "execution_count": 4,
   "metadata": {},
   "outputs": [],
   "source": [
    "summation = add"
   ]
  },
  {
   "cell_type": "code",
   "execution_count": 5,
   "metadata": {},
   "outputs": [
    {
     "data": {
      "text/plain": [
       "7"
      ]
     },
     "execution_count": 5,
     "metadata": {},
     "output_type": "execute_result"
    }
   ],
   "source": [
    "summation(3,4)"
   ]
  },
  {
   "cell_type": "code",
   "execution_count": null,
   "metadata": {},
   "outputs": [],
   "source": [
    "#CHECK IF \"summation\" POINTS TO \"add\" OR CREATED ITS COPY"
   ]
  },
  {
   "cell_type": "code",
   "execution_count": 8,
   "metadata": {},
   "outputs": [
    {
     "data": {
      "text/plain": [
       "50"
      ]
     },
     "execution_count": 8,
     "metadata": {},
     "output_type": "execute_result"
    }
   ],
   "source": [
    "add(10,40)"
   ]
  },
  {
   "cell_type": "code",
   "execution_count": 9,
   "metadata": {},
   "outputs": [
    {
     "data": {
      "text/plain": [
       "50"
      ]
     },
     "execution_count": 9,
     "metadata": {},
     "output_type": "execute_result"
    }
   ],
   "source": [
    "summation(10,40)"
   ]
  },
  {
   "cell_type": "code",
   "execution_count": 10,
   "metadata": {},
   "outputs": [],
   "source": [
    "del add"
   ]
  },
  {
   "cell_type": "code",
   "execution_count": 11,
   "metadata": {},
   "outputs": [
    {
     "ename": "NameError",
     "evalue": "name 'add' is not defined",
     "output_type": "error",
     "traceback": [
      "\u001b[1;31m---------------------------------------------------------------------------\u001b[0m",
      "\u001b[1;31mNameError\u001b[0m                                 Traceback (most recent call last)",
      "\u001b[1;32m<ipython-input-11-99af1591c10d>\u001b[0m in \u001b[0;36m<module>\u001b[1;34m\u001b[0m\n\u001b[1;32m----> 1\u001b[1;33m \u001b[0madd\u001b[0m\u001b[1;33m(\u001b[0m\u001b[1;36m9\u001b[0m\u001b[1;33m,\u001b[0m\u001b[1;36m8\u001b[0m\u001b[1;33m)\u001b[0m\u001b[1;33m\u001b[0m\u001b[1;33m\u001b[0m\u001b[0m\n\u001b[0m",
      "\u001b[1;31mNameError\u001b[0m: name 'add' is not defined"
     ]
    }
   ],
   "source": [
    "add(9,8)"
   ]
  },
  {
   "cell_type": "code",
   "execution_count": 12,
   "metadata": {},
   "outputs": [
    {
     "data": {
      "text/plain": [
       "17"
      ]
     },
     "execution_count": 12,
     "metadata": {},
     "output_type": "execute_result"
    }
   ],
   "source": [
    "summation(9,8)"
   ]
  },
  {
   "cell_type": "markdown",
   "metadata": {},
   "source": [
    "#### 2 DEFINING FUNCTION INSIDE ANOTHER FUNCTION"
   ]
  },
  {
   "cell_type": "code",
   "execution_count": 23,
   "metadata": {},
   "outputs": [],
   "source": [
    "def outer():\n",
    "    print('This is the beginning of outer function')\n",
    "\n",
    "    def inner1():\n",
    "        print('\\tThis is inner1 function')\n",
    "    \n",
    "    def inner11():\n",
    "        print('\\tThis is inner11 function')\n",
    "\n",
    "        def inner21():\n",
    "            print('\\t\\tThis is inner21 function')\n",
    "\n",
    "        inner21()\n",
    "    \n",
    "    inner1()\n",
    "    inner11()\n",
    "    \n",
    "    print('This is the end of outer function')"
   ]
  },
  {
   "cell_type": "code",
   "execution_count": 24,
   "metadata": {},
   "outputs": [
    {
     "name": "stdout",
     "output_type": "stream",
     "text": [
      "This is the beginning of outer function\n",
      "\tThis is inner1 function\n",
      "\tThis is inner11 function\n",
      "\t\tThis is inner21 function\n",
      "This is the end of outer function\n"
     ]
    }
   ],
   "source": [
    "outer()"
   ]
  },
  {
   "cell_type": "code",
   "execution_count": 25,
   "metadata": {},
   "outputs": [
    {
     "data": {
      "text/plain": [
       "<function __main__.outer()>"
      ]
     },
     "execution_count": 25,
     "metadata": {},
     "output_type": "execute_result"
    }
   ],
   "source": [
    "outer"
   ]
  },
  {
   "cell_type": "markdown",
   "metadata": {},
   "source": [
    "#### 3 RETURNING FUNCTION AND ASSIGNING IT TO VARIABLE"
   ]
  },
  {
   "cell_type": "code",
   "execution_count": 17,
   "metadata": {},
   "outputs": [],
   "source": [
    "def num(n):\n",
    "    print('The number passed to the function is ',n)\n",
    "    \n",
    "    #DEFINING FUNCTION INSIDE THE \"num\" FUNCTION\n",
    "    \n",
    "    def odd():\n",
    "        print('User has provided Odd Number')\n",
    "    \n",
    "    def even():\n",
    "        print('User has provided Even Number')\n",
    "    \n",
    "    if n%2 == 0:\n",
    "        return even # RETURNING FUNCTION\n",
    "    else:\n",
    "        return odd # RETURNING FUNCTION"
   ]
  },
  {
   "cell_type": "code",
   "execution_count": 18,
   "metadata": {},
   "outputs": [
    {
     "name": "stdout",
     "output_type": "stream",
     "text": [
      "The number passed to the function is  6\n"
     ]
    }
   ],
   "source": [
    "e = num(6)"
   ]
  },
  {
   "cell_type": "code",
   "execution_count": 19,
   "metadata": {},
   "outputs": [
    {
     "data": {
      "text/plain": [
       "<function __main__.num.<locals>.even()>"
      ]
     },
     "execution_count": 19,
     "metadata": {},
     "output_type": "execute_result"
    }
   ],
   "source": [
    "e"
   ]
  },
  {
   "cell_type": "code",
   "execution_count": 20,
   "metadata": {},
   "outputs": [
    {
     "name": "stdout",
     "output_type": "stream",
     "text": [
      "User has provided Even Number\n"
     ]
    }
   ],
   "source": [
    "e()"
   ]
  },
  {
   "cell_type": "code",
   "execution_count": 21,
   "metadata": {},
   "outputs": [
    {
     "name": "stdout",
     "output_type": "stream",
     "text": [
      "The number passed to the function is  9\n"
     ]
    }
   ],
   "source": [
    "o = num(9)"
   ]
  },
  {
   "cell_type": "code",
   "execution_count": 22,
   "metadata": {},
   "outputs": [
    {
     "name": "stdout",
     "output_type": "stream",
     "text": [
      "User has provided Odd Number\n"
     ]
    }
   ],
   "source": [
    "o()"
   ]
  },
  {
   "cell_type": "markdown",
   "metadata": {},
   "source": [
    "#### 4 PASSING FUNCTION AS AN ARGUMENT TO ANOTHER FUNCTION"
   ]
  },
  {
   "cell_type": "code",
   "execution_count": 26,
   "metadata": {},
   "outputs": [],
   "source": [
    "def charactercount(txt):\n",
    "    cnt = 0\n",
    "    for c in txt:\n",
    "        if c == ' ':\n",
    "            continue\n",
    "        cnt = cnt + 1\n",
    "    print('The number of characters in the text are : ', cnt)\n",
    "    return cnt"
   ]
  },
  {
   "cell_type": "code",
   "execution_count": 28,
   "metadata": {},
   "outputs": [],
   "source": [
    "def wordcount(txt):\n",
    "    #w = txt.split()\n",
    "    print('The Number of Words in the text are ',len(txt.split()))\n",
    "    return len(txt.split())"
   ]
  },
  {
   "cell_type": "code",
   "execution_count": 31,
   "metadata": {},
   "outputs": [],
   "source": [
    "def getText(func):\n",
    "    txt = input('Please enter text : ')\n",
    "    func(txt)\n",
    "    return txt"
   ]
  },
  {
   "cell_type": "code",
   "execution_count": 32,
   "metadata": {},
   "outputs": [
    {
     "name": "stdout",
     "output_type": "stream",
     "text": [
      "Please enter text : My Name is Vishal Aggarwal\n",
      "The Number of Words in the text are  5\n"
     ]
    },
    {
     "data": {
      "text/plain": [
       "'My Name is Vishal Aggarwal'"
      ]
     },
     "execution_count": 32,
     "metadata": {},
     "output_type": "execute_result"
    }
   ],
   "source": [
    "getText(wordcount)"
   ]
  },
  {
   "cell_type": "code",
   "execution_count": 34,
   "metadata": {},
   "outputs": [],
   "source": [
    "def getTextDetails(func1,func2):\n",
    "    txt = input('Please enter text : ')\n",
    "    func1(txt)\n",
    "    func2(txt)"
   ]
  },
  {
   "cell_type": "code",
   "execution_count": 35,
   "metadata": {},
   "outputs": [
    {
     "name": "stdout",
     "output_type": "stream",
     "text": [
      "Please enter text : My Name is Vishal Aggarwal\n",
      "The number of characters in the text are :  22\n",
      "The Number of Words in the text are  5\n"
     ]
    }
   ],
   "source": [
    "getTextDetails(charactercount,wordcount)"
   ]
  },
  {
   "cell_type": "markdown",
   "metadata": {},
   "source": [
    "#### 5 DECORATORS"
   ]
  },
  {
   "cell_type": "markdown",
   "metadata": {},
   "source": [
    "Decorators can be thought of as functions which modify the functionality of another function. They help to make your code shorter and more \"Pythonic\".\n",
    "\n",
    "A decorator in Python is a function that takes another function as its argument, and returns yet another function. \n",
    "Decorators can be extremely useful as they allow the extension of an existing function, without any modification to the original function source code.\n",
    "\n",
    "Use Cases:\n",
    "Enhance the functionality of an existing function without modifying the original function\n",
    "Modify several functions in the same way"
   ]
  },
  {
   "cell_type": "code",
   "execution_count": 78,
   "metadata": {},
   "outputs": [],
   "source": [
    "#Lets assume that originally user asked for a function that read input from user and store it in a file as follows:\n",
    "\n",
    "def getText():\n",
    "    #READ THE INPUT FROM USER\n",
    "    txt = input('Please enter text : \\n\\n')\n",
    "    \n",
    "    #STORE THE TEXT IN A FILE\n",
    "    with open('input.txt','w') as inputfile:\n",
    "        inputfile.writelines(txt)\n",
    "    \n",
    "    #READ THE TEXT FROM THE FILE CREATED ABOVE\n",
    "    with open('input.txt','r') as readfile:\n",
    "        ln = readfile.readline()\n",
    "        \n",
    "    print('\\n\\nThe Lines captured in the file are  : \\n\\n', ln)\n",
    "\n",
    "    return txt"
   ]
  },
  {
   "cell_type": "code",
   "execution_count": 41,
   "metadata": {},
   "outputs": [
    {
     "name": "stdout",
     "output_type": "stream",
     "text": [
      "Please enter text : As part of our efforts to do everything we can to safely serve your needs, we have made the decision to temporarily suspend the use of paper coupons in our clubs in order to reduce touchpoints and help mitigate the spread of coronavirus.\n",
      "The Line captured in the file is  :  As part of our efforts to do everything we can to safely serve your needs, we have made the decision to temporarily suspend the use of paper coupons in our clubs in order to reduce touchpoints and help mitigate the spread of coronavirus.\n"
     ]
    },
    {
     "data": {
      "text/plain": [
       "'As part of our efforts to do everything we can to safely serve your needs, we have made the decision to temporarily suspend the use of paper coupons in our clubs in order to reduce touchpoints and help mitigate the spread of coronavirus.'"
      ]
     },
     "execution_count": 41,
     "metadata": {},
     "output_type": "execute_result"
    }
   ],
   "source": [
    "getText()"
   ]
  },
  {
   "cell_type": "code",
   "execution_count": 79,
   "metadata": {},
   "outputs": [],
   "source": [
    "#After using this function for a while, user asked to enhance the functionality to COUNT WORDS and COUNT CHARACTERS. Decorators are used here.\n",
    "\n",
    "def func_decorator(func):\n",
    "    \n",
    "    def decorated_func():\n",
    "        txt = func() #CALL THE FUNCTION THAT NEEDS TO BE DECORATED\n",
    "        \n",
    "        #COUNT WORDS\n",
    "        #print('The Number of Words in the text are ',len(txt.split()))\n",
    "        adtnl_txt = ('The Number of Words in the text are ' + str(len(txt.split())))\n",
    "        \n",
    "          \n",
    "        #COUNT CHARACTERS    \n",
    "        cnt = 0\n",
    "        for c in txt:\n",
    "            if c == ' ':\n",
    "                continue\n",
    "            cnt = cnt + 1\n",
    "        #print('The Number of Characters in the text are : ', cnt)    \n",
    "        adtnl_txt = adtnl_txt + '. ' + ('The Number of Characters in the text are ' + str(cnt))\n",
    "        \n",
    "        #STORE THE ADDITIONAL TEXT IN A FILE\n",
    "        with open('input.txt','w+') as inputfile:\n",
    "            inputfile.writelines(adtnl_txt)\n",
    "\n",
    "            \n",
    "        #READ THE TEXT FROM THE FILE CREATED ABOVE\n",
    "        with open('input.txt','r') as readfile:\n",
    "            ln = readfile.readlines()\n",
    "        print(ln)\n",
    "        \n",
    "    return decorated_func"
   ]
  },
  {
   "cell_type": "code",
   "execution_count": 80,
   "metadata": {},
   "outputs": [],
   "source": [
    "getTextDetails = func_decorator(getText)"
   ]
  },
  {
   "cell_type": "code",
   "execution_count": 81,
   "metadata": {},
   "outputs": [
    {
     "name": "stdout",
     "output_type": "stream",
     "text": [
      "Please enter text : \n",
      "\n",
      "As part of our efforts to do everything we can to safely serve your needs, we have made the decision to temporarily suspend the use of paper coupons in our clubs in order to reduce touchpoints and help mitigate the spread of coronavirus. For the safety of you and our team members, until further notice our clubs will not be accepting any paper coupons beginning on March 30, 2020.\n",
      "\n",
      "\n",
      "The Lines captured in the file are  : \n",
      "\n",
      " As part of our efforts to do everything we can to safely serve your needs, we have made the decision to temporarily suspend the use of paper coupons in our clubs in order to reduce touchpoints and help mitigate the spread of coronavirus. For the safety of you and our team members, until further notice our clubs will not be accepting any paper coupons beginning on March 30, 2020.\n",
      "['The Number of Words in the text are 69. The Number of Characters in the text are 313']\n"
     ]
    }
   ],
   "source": [
    "getTextDetails()"
   ]
  },
  {
   "cell_type": "code",
   "execution_count": null,
   "metadata": {},
   "outputs": [],
   "source": [
    "#WE CAN DECORATE THE ORIGINAL FUNCTION AS FOLLOWS"
   ]
  },
  {
   "cell_type": "code",
   "execution_count": 82,
   "metadata": {},
   "outputs": [],
   "source": [
    "@func_decorator\n",
    "def getText():\n",
    "    #READ THE INPUT FROM USER\n",
    "    txt = input('Please enter text : \\n\\n')\n",
    "    \n",
    "    #STORE THE TEXT IN A FILE\n",
    "    with open('input.txt','w') as inputfile:\n",
    "        inputfile.writelines(txt)\n",
    "    \n",
    "    #READ THE TEXT FROM THE FILE CREATED ABOVE\n",
    "    with open('input.txt','r') as readfile:\n",
    "        ln = readfile.readline()\n",
    "        \n",
    "    print('\\n\\nThe Lines captured in the file are  : \\n\\n', ln)\n",
    "\n",
    "    return txt"
   ]
  },
  {
   "cell_type": "code",
   "execution_count": 83,
   "metadata": {},
   "outputs": [
    {
     "name": "stdout",
     "output_type": "stream",
     "text": [
      "Please enter text : \n",
      "\n",
      "As part of our efforts to do everything we can to safely serve your needs, we have made the decision to temporarily suspend the use of paper coupons in our clubs in order to reduce touchpoints and help mitigate the spread of coronavirus. For the safety of you and our team members, until further notice our clubs will not be accepting any paper coupons beginning on March 30, 2020.\n",
      "\n",
      "\n",
      "The Lines captured in the file are  : \n",
      "\n",
      " As part of our efforts to do everything we can to safely serve your needs, we have made the decision to temporarily suspend the use of paper coupons in our clubs in order to reduce touchpoints and help mitigate the spread of coronavirus. For the safety of you and our team members, until further notice our clubs will not be accepting any paper coupons beginning on March 30, 2020.\n",
      "['The Number of Words in the text are 69. The Number of Characters in the text are 313']\n"
     ]
    }
   ],
   "source": [
    "getText()"
   ]
  },
  {
   "cell_type": "code",
   "execution_count": 84,
   "metadata": {},
   "outputs": [],
   "source": [
    "#@func_decorator\n",
    "def getText():\n",
    "    #READ THE INPUT FROM USER\n",
    "    txt = input('Please enter text : \\n\\n')\n",
    "    \n",
    "    #STORE THE TEXT IN A FILE\n",
    "    with open('input.txt','w') as inputfile:\n",
    "        inputfile.writelines(txt)\n",
    "    \n",
    "    #READ THE TEXT FROM THE FILE CREATED ABOVE\n",
    "    with open('input.txt','r') as readfile:\n",
    "        ln = readfile.readline()\n",
    "        \n",
    "    print('\\n\\nThe Lines captured in the file are  : \\n\\n', ln)\n",
    "\n",
    "    return txt"
   ]
  },
  {
   "cell_type": "code",
   "execution_count": 85,
   "metadata": {},
   "outputs": [
    {
     "name": "stdout",
     "output_type": "stream",
     "text": [
      "Please enter text : \n",
      "\n",
      "As part of our efforts to do everything we can to safely serve your needs, we have made the decision to temporarily suspend the use of paper coupons in our clubs in order to reduce touchpoints and help mitigate the spread of coronavirus. For the safety of you and our team members, until further notice our clubs will not be accepting any paper coupons beginning on March 30, 2020.\n",
      "\n",
      "\n",
      "The Lines captured in the file are  : \n",
      "\n",
      " As part of our efforts to do everything we can to safely serve your needs, we have made the decision to temporarily suspend the use of paper coupons in our clubs in order to reduce touchpoints and help mitigate the spread of coronavirus. For the safety of you and our team members, until further notice our clubs will not be accepting any paper coupons beginning on March 30, 2020.\n"
     ]
    },
    {
     "data": {
      "text/plain": [
       "'As part of our efforts to do everything we can to safely serve your needs, we have made the decision to temporarily suspend the use of paper coupons in our clubs in order to reduce touchpoints and help mitigate the spread of coronavirus. For the safety of you and our team members, until further notice our clubs will not be accepting any paper coupons beginning on March 30, 2020.'"
      ]
     },
     "execution_count": 85,
     "metadata": {},
     "output_type": "execute_result"
    }
   ],
   "source": [
    "getText()"
   ]
  },
  {
   "cell_type": "code",
   "execution_count": null,
   "metadata": {},
   "outputs": [],
   "source": []
  }
 ],
 "metadata": {
  "kernelspec": {
   "display_name": "Python 3",
   "language": "python",
   "name": "python3"
  },
  "language_info": {
   "codemirror_mode": {
    "name": "ipython",
    "version": 3
   },
   "file_extension": ".py",
   "mimetype": "text/x-python",
   "name": "python",
   "nbconvert_exporter": "python",
   "pygments_lexer": "ipython3",
   "version": "3.7.6"
  }
 },
 "nbformat": 4,
 "nbformat_minor": 4
}
