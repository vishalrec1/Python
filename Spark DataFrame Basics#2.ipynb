{
 "cells": [
  {
   "cell_type": "code",
   "execution_count": 1,
   "metadata": {},
   "outputs": [],
   "source": [
    "from pyspark.sql import SparkSession"
   ]
  },
  {
   "cell_type": "code",
   "execution_count": 2,
   "metadata": {},
   "outputs": [],
   "source": [
    "sprk_sess = SparkSession.builder.appName('spark_ops').getOrCreate()"
   ]
  },
  {
   "cell_type": "code",
   "execution_count": 3,
   "metadata": {},
   "outputs": [],
   "source": [
    "csv_df = sprk_sess.read.csv('rdu_weather_history.csv',header=True,inferSchema=True,sep=';')"
   ]
  },
  {
   "cell_type": "code",
   "execution_count": 9,
   "metadata": {},
   "outputs": [
    {
     "data": {
      "text/plain": [
       "pyspark.sql.dataframe.DataFrame"
      ]
     },
     "execution_count": 9,
     "metadata": {},
     "output_type": "execute_result"
    }
   ],
   "source": [
    "type(csv_df)"
   ]
  },
  {
   "cell_type": "code",
   "execution_count": 4,
   "metadata": {},
   "outputs": [
    {
     "name": "stdout",
     "output_type": "stream",
     "text": [
      "root\n",
      " |-- date: timestamp (nullable = true)\n",
      " |-- temperaturemin: double (nullable = true)\n",
      " |-- temperaturemax: double (nullable = true)\n",
      " |-- precipitation: double (nullable = true)\n",
      " |-- snowfall: double (nullable = true)\n",
      " |-- snowdepth: double (nullable = true)\n",
      " |-- avgwindspeed: double (nullable = true)\n",
      " |-- fastest2minwinddir: integer (nullable = true)\n",
      " |-- fastest2minwindspeed: double (nullable = true)\n",
      " |-- fastest5secwinddir: integer (nullable = true)\n",
      " |-- fastest5secwindspeed: double (nullable = true)\n",
      " |-- fog: string (nullable = true)\n",
      " |-- fogheavy: string (nullable = true)\n",
      " |-- mist: string (nullable = true)\n",
      " |-- rain: string (nullable = true)\n",
      " |-- fogground: string (nullable = true)\n",
      " |-- ice: string (nullable = true)\n",
      " |-- glaze: string (nullable = true)\n",
      " |-- drizzle: string (nullable = true)\n",
      " |-- snow: string (nullable = true)\n",
      " |-- freezingrain: string (nullable = true)\n",
      " |-- smokehaze: string (nullable = true)\n",
      " |-- thunder: string (nullable = true)\n",
      " |-- highwind: string (nullable = true)\n",
      " |-- hail: string (nullable = true)\n",
      " |-- blowingsnow: string (nullable = true)\n",
      " |-- dust: string (nullable = true)\n",
      " |-- freezingfog: string (nullable = true)\n",
      "\n"
     ]
    }
   ],
   "source": [
    "csv_df.printSchema()"
   ]
  },
  {
   "cell_type": "code",
   "execution_count": 5,
   "metadata": {},
   "outputs": [
    {
     "data": {
      "text/plain": [
       "['date',\n",
       " 'temperaturemin',\n",
       " 'temperaturemax',\n",
       " 'precipitation',\n",
       " 'snowfall',\n",
       " 'snowdepth',\n",
       " 'avgwindspeed',\n",
       " 'fastest2minwinddir',\n",
       " 'fastest2minwindspeed',\n",
       " 'fastest5secwinddir',\n",
       " 'fastest5secwindspeed',\n",
       " 'fog',\n",
       " 'fogheavy',\n",
       " 'mist',\n",
       " 'rain',\n",
       " 'fogground',\n",
       " 'ice',\n",
       " 'glaze',\n",
       " 'drizzle',\n",
       " 'snow',\n",
       " 'freezingrain',\n",
       " 'smokehaze',\n",
       " 'thunder',\n",
       " 'highwind',\n",
       " 'hail',\n",
       " 'blowingsnow',\n",
       " 'dust',\n",
       " 'freezingfog']"
      ]
     },
     "execution_count": 5,
     "metadata": {},
     "output_type": "execute_result"
    }
   ],
   "source": [
    "csv_df.columns"
   ]
  },
  {
   "cell_type": "code",
   "execution_count": 65,
   "metadata": {},
   "outputs": [
    {
     "data": {
      "text/plain": [
       "28"
      ]
     },
     "execution_count": 65,
     "metadata": {},
     "output_type": "execute_result"
    }
   ],
   "source": [
    "len(csv_df.columns)"
   ]
  },
  {
   "cell_type": "code",
   "execution_count": 59,
   "metadata": {},
   "outputs": [
    {
     "data": {
      "text/plain": [
       "DataFrame[summary: string, temperaturemin: string, temperaturemax: string, precipitation: string, snowfall: string, snowdepth: string, avgwindspeed: string, fastest2minwinddir: string, fastest2minwindspeed: string, fastest5secwinddir: string, fastest5secwindspeed: string, fog: string, fogheavy: string, mist: string, rain: string, fogground: string, ice: string, glaze: string, drizzle: string, snow: string, freezingrain: string, smokehaze: string, thunder: string, highwind: string, hail: string, blowingsnow: string, dust: string, freezingfog: string]"
      ]
     },
     "execution_count": 59,
     "metadata": {},
     "output_type": "execute_result"
    }
   ],
   "source": [
    "csv_df.describe()"
   ]
  },
  {
   "cell_type": "code",
   "execution_count": 66,
   "metadata": {},
   "outputs": [
    {
     "name": "stdout",
     "output_type": "stream",
     "text": [
      "+-------+------------------+------------------+-------------------+--------------------+-------------------+------------------+\n",
      "|summary|    temperaturemin|    temperaturemax|      precipitation|            snowfall|          snowdepth|      avgwindspeed|\n",
      "+-------+------------------+------------------+-------------------+--------------------+-------------------+------------------+\n",
      "|  count|              4870|              4870|               4870|                4870|               4870|              4868|\n",
      "|   mean|  50.8452772073925| 72.15121149897334|0.12882956878850058|0.013353182751540042|0.01670431211498974|5.8825061626951545|\n",
      "| stddev|16.142808753936464|16.459005428470608|  0.367784307000846| 0.21083299787643506| 0.2075011496153487|2.9389954879312006|\n",
      "|    min|               4.1|              23.2|                0.0|                 0.0|                0.0|               0.0|\n",
      "|    max|              80.1|             105.1|               6.45|                7.01|               5.91|             20.36|\n",
      "+-------+------------------+------------------+-------------------+--------------------+-------------------+------------------+\n",
      "\n"
     ]
    }
   ],
   "source": [
    "csv_df.describe(['date','temperaturemin','temperaturemax','precipitation','snowfall','snowdepth','avgwindspeed']).show()"
   ]
  },
  {
   "cell_type": "code",
   "execution_count": 63,
   "metadata": {},
   "outputs": [
    {
     "data": {
      "text/plain": [
       "StructType(List(StructField(date,TimestampType,true),StructField(temperaturemin,DoubleType,true),StructField(temperaturemax,DoubleType,true),StructField(precipitation,DoubleType,true),StructField(snowfall,DoubleType,true),StructField(snowdepth,DoubleType,true),StructField(avgwindspeed,DoubleType,true),StructField(fastest2minwinddir,IntegerType,true),StructField(fastest2minwindspeed,DoubleType,true),StructField(fastest5secwinddir,IntegerType,true),StructField(fastest5secwindspeed,DoubleType,true),StructField(fog,StringType,true),StructField(fogheavy,StringType,true),StructField(mist,StringType,true),StructField(rain,StringType,true),StructField(fogground,StringType,true),StructField(ice,StringType,true),StructField(glaze,StringType,true),StructField(drizzle,StringType,true),StructField(snow,StringType,true),StructField(freezingrain,StringType,true),StructField(smokehaze,StringType,true),StructField(thunder,StringType,true),StructField(highwind,StringType,true),StructField(hail,StringType,true),StructField(blowingsnow,StringType,true),StructField(dust,StringType,true),StructField(freezingfog,StringType,true)))"
      ]
     },
     "execution_count": 63,
     "metadata": {},
     "output_type": "execute_result"
    }
   ],
   "source": [
    "csv_df.schema"
   ]
  },
  {
   "cell_type": "code",
   "execution_count": 64,
   "metadata": {},
   "outputs": [
    {
     "data": {
      "text/plain": [
       "4870"
      ]
     },
     "execution_count": 64,
     "metadata": {},
     "output_type": "execute_result"
    }
   ],
   "source": [
    "csv_df.count()"
   ]
  },
  {
   "cell_type": "markdown",
   "metadata": {},
   "source": [
    "#### Column Objects and Row Objects ---Important Concept"
   ]
  },
  {
   "cell_type": "code",
   "execution_count": null,
   "metadata": {},
   "outputs": [],
   "source": [
    "#In a Spark Dataframe, Columns represent Column Object and Rows represent Rows Dataframe. \n",
    "#In distributed environment, this sort of representation is required to distribute the data and then map the processed data back."
   ]
  },
  {
   "cell_type": "code",
   "execution_count": 6,
   "metadata": {},
   "outputs": [
    {
     "data": {
      "text/plain": [
       "Column<b'date'>"
      ]
     },
     "execution_count": 6,
     "metadata": {},
     "output_type": "execute_result"
    }
   ],
   "source": [
    "csv_df['date']"
   ]
  },
  {
   "cell_type": "code",
   "execution_count": 7,
   "metadata": {},
   "outputs": [
    {
     "data": {
      "text/plain": [
       "pyspark.sql.column.Column"
      ]
     },
     "execution_count": 7,
     "metadata": {},
     "output_type": "execute_result"
    }
   ],
   "source": [
    "type(csv_df['date']) ##Columns are the Spark Objects"
   ]
  },
  {
   "cell_type": "code",
   "execution_count": 8,
   "metadata": {},
   "outputs": [
    {
     "data": {
      "text/plain": [
       "[Row(date=datetime.datetime(2007, 1, 6, 0, 0), temperaturemin=50.0, temperaturemax=71.1, precipitation=0.13, snowfall=0.0, snowdepth=0.0, avgwindspeed=8.05, fastest2minwinddir=230, fastest2minwindspeed=17.9, fastest5secwinddir=230, fastest5secwindspeed=21.92, fog='Yes', fogheavy='No', mist='Yes', rain='Yes', fogground='No', ice='No', glaze='No', drizzle='No', snow='No', freezingrain='No', smokehaze='No', thunder='No', highwind='No', hail='No', blowingsnow='No', dust='No', freezingfog='No'),\n",
       " Row(date=datetime.datetime(2007, 1, 9, 0, 0), temperaturemin=30.0, temperaturemax=55.0, precipitation=0.0, snowfall=0.0, snowdepth=0.0, avgwindspeed=7.61, fastest2minwinddir=280, fastest2minwindspeed=23.04, fastest5secwinddir=270, fastest5secwindspeed=29.08, fog='No', fogheavy='No', mist='No', rain='Yes', fogground='No', ice='No', glaze='No', drizzle='No', snow='No', freezingrain='No', smokehaze='No', thunder='No', highwind='No', hail='No', blowingsnow='No', dust='No', freezingfog='No'),\n",
       " Row(date=datetime.datetime(2007, 1, 14, 0, 0), temperaturemin=50.0, temperaturemax=73.9, precipitation=0.0, snowfall=0.0, snowdepth=0.0, avgwindspeed=8.5, fastest2minwinddir=230, fastest2minwindspeed=21.03, fastest5secwinddir=230, fastest5secwindspeed=25.05, fog='No', fogheavy='No', mist='No', rain='No', fogground='No', ice='No', glaze='No', drizzle='No', snow='No', freezingrain='No', smokehaze='No', thunder='No', highwind='No', hail='No', blowingsnow='No', dust='No', freezingfog='No'),\n",
       " Row(date=datetime.datetime(2007, 1, 15, 0, 0), temperaturemin=57.0, temperaturemax=73.9, precipitation=0.0, snowfall=0.0, snowdepth=0.0, avgwindspeed=13.2, fastest2minwinddir=230, fastest2minwindspeed=23.94, fastest5secwinddir=230, fastest5secwindspeed=29.08, fog='No', fogheavy='No', mist='No', rain='No', fogground='No', ice='No', glaze='No', drizzle='No', snow='No', freezingrain='No', smokehaze='No', thunder='No', highwind='No', hail='No', blowingsnow='No', dust='No', freezingfog='No'),\n",
       " Row(date=datetime.datetime(2007, 1, 20, 0, 0), temperaturemin=26.1, temperaturemax=48.0, precipitation=0.0, snowfall=0.0, snowdepth=0.0, avgwindspeed=4.92, fastest2minwinddir=290, fastest2minwindspeed=16.11, fastest5secwinddir=320, fastest5secwindspeed=21.03, fog='No', fogheavy='No', mist='No', rain='No', fogground='No', ice='No', glaze='No', drizzle='No', snow='No', freezingrain='No', smokehaze='No', thunder='No', highwind='No', hail='No', blowingsnow='No', dust='No', freezingfog='No')]"
      ]
     },
     "execution_count": 8,
     "metadata": {},
     "output_type": "execute_result"
    }
   ],
   "source": [
    "csv_df.head(5)  # Row Objects."
   ]
  },
  {
   "cell_type": "code",
   "execution_count": 10,
   "metadata": {},
   "outputs": [
    {
     "data": {
      "text/plain": [
       "[Row(date=datetime.datetime(2007, 1, 6, 0, 0), temperaturemin=50.0, temperaturemax=71.1, precipitation=0.13, snowfall=0.0, snowdepth=0.0, avgwindspeed=8.05, fastest2minwinddir=230, fastest2minwindspeed=17.9, fastest5secwinddir=230, fastest5secwindspeed=21.92, fog='Yes', fogheavy='No', mist='Yes', rain='Yes', fogground='No', ice='No', glaze='No', drizzle='No', snow='No', freezingrain='No', smokehaze='No', thunder='No', highwind='No', hail='No', blowingsnow='No', dust='No', freezingfog='No'),\n",
       " Row(date=datetime.datetime(2007, 1, 9, 0, 0), temperaturemin=30.0, temperaturemax=55.0, precipitation=0.0, snowfall=0.0, snowdepth=0.0, avgwindspeed=7.61, fastest2minwinddir=280, fastest2minwindspeed=23.04, fastest5secwinddir=270, fastest5secwindspeed=29.08, fog='No', fogheavy='No', mist='No', rain='Yes', fogground='No', ice='No', glaze='No', drizzle='No', snow='No', freezingrain='No', smokehaze='No', thunder='No', highwind='No', hail='No', blowingsnow='No', dust='No', freezingfog='No'),\n",
       " Row(date=datetime.datetime(2007, 1, 14, 0, 0), temperaturemin=50.0, temperaturemax=73.9, precipitation=0.0, snowfall=0.0, snowdepth=0.0, avgwindspeed=8.5, fastest2minwinddir=230, fastest2minwindspeed=21.03, fastest5secwinddir=230, fastest5secwindspeed=25.05, fog='No', fogheavy='No', mist='No', rain='No', fogground='No', ice='No', glaze='No', drizzle='No', snow='No', freezingrain='No', smokehaze='No', thunder='No', highwind='No', hail='No', blowingsnow='No', dust='No', freezingfog='No'),\n",
       " Row(date=datetime.datetime(2007, 1, 15, 0, 0), temperaturemin=57.0, temperaturemax=73.9, precipitation=0.0, snowfall=0.0, snowdepth=0.0, avgwindspeed=13.2, fastest2minwinddir=230, fastest2minwindspeed=23.94, fastest5secwinddir=230, fastest5secwindspeed=29.08, fog='No', fogheavy='No', mist='No', rain='No', fogground='No', ice='No', glaze='No', drizzle='No', snow='No', freezingrain='No', smokehaze='No', thunder='No', highwind='No', hail='No', blowingsnow='No', dust='No', freezingfog='No'),\n",
       " Row(date=datetime.datetime(2007, 1, 20, 0, 0), temperaturemin=26.1, temperaturemax=48.0, precipitation=0.0, snowfall=0.0, snowdepth=0.0, avgwindspeed=4.92, fastest2minwinddir=290, fastest2minwindspeed=16.11, fastest5secwinddir=320, fastest5secwindspeed=21.03, fog='No', fogheavy='No', mist='No', rain='No', fogground='No', ice='No', glaze='No', drizzle='No', snow='No', freezingrain='No', smokehaze='No', thunder='No', highwind='No', hail='No', blowingsnow='No', dust='No', freezingfog='No'),\n",
       " Row(date=datetime.datetime(2007, 1, 22, 0, 0), temperaturemin=33.1, temperaturemax=41.0, precipitation=0.08, snowfall=0.0, snowdepth=0.0, avgwindspeed=2.01, fastest2minwinddir=230, fastest2minwindspeed=8.05, fastest5secwinddir=10, fastest5secwindspeed=12.08, fog='Yes', fogheavy='No', mist='Yes', rain='Yes', fogground='No', ice='No', glaze='No', drizzle='Yes', snow='No', freezingrain='No', smokehaze='No', thunder='No', highwind='No', hail='No', blowingsnow='No', dust='No', freezingfog='No'),\n",
       " Row(date=datetime.datetime(2007, 1, 24, 0, 0), temperaturemin=30.0, temperaturemax=48.9, precipitation=0.0, snowfall=0.0, snowdepth=0.0, avgwindspeed=2.91, fastest2minwinddir=50, fastest2minwindspeed=14.09, fastest5secwinddir=50, fastest5secwindspeed=17.0, fog='Yes', fogheavy='No', mist='No', rain='No', fogground='No', ice='No', glaze='No', drizzle='No', snow='No', freezingrain='No', smokehaze='No', thunder='No', highwind='No', hail='No', blowingsnow='No', dust='No', freezingfog='No'),\n",
       " Row(date=datetime.datetime(2007, 1, 27, 0, 0), temperaturemin=32.0, temperaturemax=64.0, precipitation=0.0, snowfall=0.0, snowdepth=0.0, avgwindspeed=11.41, fastest2minwinddir=230, fastest2minwindspeed=19.91, fastest5secwinddir=230, fastest5secwindspeed=23.04, fog='No', fogheavy='No', mist='No', rain='No', fogground='No', ice='No', glaze='No', drizzle='No', snow='No', freezingrain='No', smokehaze='No', thunder='No', highwind='No', hail='No', blowingsnow='No', dust='No', freezingfog='No'),\n",
       " Row(date=datetime.datetime(2007, 1, 30, 0, 0), temperaturemin=24.1, temperaturemax=48.9, precipitation=0.0, snowfall=0.0, snowdepth=0.0, avgwindspeed=5.82, fastest2minwinddir=220, fastest2minwindspeed=17.9, fastest5secwinddir=220, fastest5secwindspeed=21.03, fog='No', fogheavy='No', mist='No', rain='No', fogground='No', ice='No', glaze='No', drizzle='No', snow='No', freezingrain='No', smokehaze='No', thunder='No', highwind='No', hail='No', blowingsnow='No', dust='No', freezingfog='No'),\n",
       " Row(date=datetime.datetime(2007, 2, 8, 0, 0), temperaturemin=27.0, temperaturemax=48.0, precipitation=0.0, snowfall=0.0, snowdepth=0.0, avgwindspeed=3.13, fastest2minwinddir=300, fastest2minwindspeed=14.99, fastest5secwinddir=280, fastest5secwindspeed=17.9, fog='No', fogheavy='No', mist='No', rain='No', fogground='No', ice='No', glaze='No', drizzle='No', snow='No', freezingrain='No', smokehaze='No', thunder='No', highwind='No', hail='No', blowingsnow='No', dust='No', freezingfog='No'),\n",
       " Row(date=datetime.datetime(2007, 2, 12, 0, 0), temperaturemin=26.1, temperaturemax=64.0, precipitation=0.0, snowfall=0.0, snowdepth=0.0, avgwindspeed=4.03, fastest2minwinddir=220, fastest2minwindspeed=19.91, fastest5secwinddir=220, fastest5secwindspeed=23.04, fog='No', fogheavy='No', mist='No', rain='No', fogground='No', ice='No', glaze='No', drizzle='No', snow='No', freezingrain='No', smokehaze='No', thunder='No', highwind='No', hail='No', blowingsnow='No', dust='No', freezingfog='No'),\n",
       " Row(date=datetime.datetime(2007, 2, 13, 0, 0), temperaturemin=37.9, temperaturemax=50.0, precipitation=0.59, snowfall=0.0, snowdepth=0.0, avgwindspeed=6.71, fastest2minwinddir=10, fastest2minwindspeed=21.03, fastest5secwinddir=10, fastest5secwindspeed=25.95, fog='Yes', fogheavy='Yes', mist='Yes', rain='Yes', fogground='No', ice='No', glaze='No', drizzle='No', snow='No', freezingrain='No', smokehaze='No', thunder='No', highwind='No', hail='No', blowingsnow='No', dust='No', freezingfog='No'),\n",
       " Row(date=datetime.datetime(2007, 2, 17, 0, 0), temperaturemin=19.0, temperaturemax=48.0, precipitation=0.0, snowfall=0.0, snowdepth=0.0, avgwindspeed=7.61, fastest2minwinddir=230, fastest2minwindspeed=23.94, fastest5secwinddir=200, fastest5secwindspeed=29.08, fog='No', fogheavy='No', mist='No', rain='No', fogground='No', ice='No', glaze='No', drizzle='No', snow='No', freezingrain='No', smokehaze='No', thunder='No', highwind='No', hail='No', blowingsnow='No', dust='No', freezingfog='No'),\n",
       " Row(date=datetime.datetime(2007, 2, 21, 0, 0), temperaturemin=50.0, temperaturemax=73.0, precipitation=0.01, snowfall=0.0, snowdepth=0.0, avgwindspeed=7.16, fastest2minwinddir=230, fastest2minwindspeed=21.92, fastest5secwinddir=220, fastest5secwindspeed=25.05, fog='Yes', fogheavy='No', mist='No', rain='Yes', fogground='No', ice='No', glaze='No', drizzle='No', snow='No', freezingrain='No', smokehaze='No', thunder='No', highwind='No', hail='No', blowingsnow='No', dust='No', freezingfog='No'),\n",
       " Row(date=datetime.datetime(2007, 2, 23, 0, 0), temperaturemin=37.0, temperaturemax=55.0, precipitation=0.0, snowfall=0.0, snowdepth=0.0, avgwindspeed=7.61, fastest2minwinddir=290, fastest2minwindspeed=17.9, fastest5secwinddir=260, fastest5secwindspeed=25.05, fog='No', fogheavy='No', mist='No', rain='No', fogground='No', ice='No', glaze='No', drizzle='No', snow='No', freezingrain='No', smokehaze='No', thunder='No', highwind='No', hail='No', blowingsnow='No', dust='No', freezingfog='No'),\n",
       " Row(date=datetime.datetime(2007, 2, 28, 0, 0), temperaturemin=37.9, temperaturemax=61.0, precipitation=0.0, snowfall=0.0, snowdepth=0.0, avgwindspeed=4.92, fastest2minwinddir=90, fastest2minwindspeed=14.09, fastest5secwinddir=90, fastest5secwindspeed=17.0, fog='No', fogheavy='No', mist='No', rain='No', fogground='No', ice='No', glaze='No', drizzle='No', snow='No', freezingrain='No', smokehaze='No', thunder='No', highwind='No', hail='No', blowingsnow='No', dust='No', freezingfog='No'),\n",
       " Row(date=datetime.datetime(2007, 3, 1, 0, 0), temperaturemin=41.0, temperaturemax=66.9, precipitation=0.2, snowfall=0.0, snowdepth=0.0, avgwindspeed=10.29, fastest2minwinddir=170, fastest2minwindspeed=27.96, fastest5secwinddir=150, fastest5secwindspeed=34.9, fog='Yes', fogheavy='No', mist='Yes', rain='Yes', fogground='No', ice='No', glaze='No', drizzle='No', snow='No', freezingrain='No', smokehaze='No', thunder='No', highwind='No', hail='No', blowingsnow='No', dust='No', freezingfog='No'),\n",
       " Row(date=datetime.datetime(2007, 3, 11, 0, 0), temperaturemin=39.9, temperaturemax=70.0, precipitation=0.0, snowfall=0.0, snowdepth=0.0, avgwindspeed=5.14, fastest2minwinddir=30, fastest2minwindspeed=16.11, fastest5secwinddir=30, fastest5secwindspeed=21.03, fog='No', fogheavy='No', mist='No', rain='Yes', fogground='No', ice='No', glaze='No', drizzle='No', snow='No', freezingrain='No', smokehaze='No', thunder='No', highwind='No', hail='No', blowingsnow='No', dust='No', freezingfog='No'),\n",
       " Row(date=datetime.datetime(2007, 3, 15, 0, 0), temperaturemin=57.0, temperaturemax=81.0, precipitation=0.0, snowfall=0.0, snowdepth=0.0, avgwindspeed=9.4, fastest2minwinddir=220, fastest2minwindspeed=21.92, fastest5secwinddir=210, fastest5secwindspeed=25.95, fog='No', fogheavy='No', mist='No', rain='Yes', fogground='No', ice='No', glaze='No', drizzle='No', snow='No', freezingrain='No', smokehaze='No', thunder='No', highwind='No', hail='No', blowingsnow='No', dust='No', freezingfog='No'),\n",
       " Row(date=datetime.datetime(2007, 3, 17, 0, 0), temperaturemin=33.1, temperaturemax=48.9, precipitation=0.0, snowfall=0.0, snowdepth=0.0, avgwindspeed=7.38, fastest2minwinddir=330, fastest2minwindspeed=19.91, fastest5secwinddir=330, fastest5secwindspeed=29.08, fog='No', fogheavy='No', mist='No', rain='No', fogground='No', ice='No', glaze='No', drizzle='No', snow='No', freezingrain='No', smokehaze='No', thunder='No', highwind='No', hail='No', blowingsnow='No', dust='No', freezingfog='No'),\n",
       " Row(date=datetime.datetime(2007, 3, 21, 0, 0), temperaturemin=50.0, temperaturemax=63.0, precipitation=0.0, snowfall=0.0, snowdepth=0.0, avgwindspeed=9.17, fastest2minwinddir=90, fastest2minwindspeed=21.92, fastest5secwinddir=90, fastest5secwindspeed=25.95, fog='No', fogheavy='No', mist='No', rain='No', fogground='No', ice='No', glaze='No', drizzle='No', snow='No', freezingrain='No', smokehaze='No', thunder='No', highwind='No', hail='No', blowingsnow='No', dust='No', freezingfog='No'),\n",
       " Row(date=datetime.datetime(2007, 3, 23, 0, 0), temperaturemin=53.1, temperaturemax=82.9, precipitation=0.0, snowfall=0.0, snowdepth=0.0, avgwindspeed=7.83, fastest2minwinddir=230, fastest2minwindspeed=17.0, fastest5secwinddir=230, fastest5secwindspeed=21.03, fog='No', fogheavy='No', mist='No', rain='No', fogground='No', ice='No', glaze='No', drizzle='No', snow='No', freezingrain='No', smokehaze='No', thunder='No', highwind='No', hail='No', blowingsnow='No', dust='No', freezingfog='No'),\n",
       " Row(date=datetime.datetime(2007, 3, 26, 0, 0), temperaturemin=44.1, temperaturemax=73.9, precipitation=0.0, snowfall=0.0, snowdepth=0.0, avgwindspeed=6.04, fastest2minwinddir=230, fastest2minwindspeed=16.11, fastest5secwinddir=210, fastest5secwindspeed=21.92, fog='No', fogheavy='No', mist='No', rain='No', fogground='No', ice='No', glaze='No', drizzle='No', snow='No', freezingrain='No', smokehaze='No', thunder='No', highwind='No', hail='No', blowingsnow='No', dust='No', freezingfog='No'),\n",
       " Row(date=datetime.datetime(2007, 4, 3, 0, 0), temperaturemin=53.1, temperaturemax=86.0, precipitation=0.0, snowfall=0.0, snowdepth=0.0, avgwindspeed=4.03, fastest2minwinddir=180, fastest2minwindspeed=16.11, fastest5secwinddir=170, fastest5secwindspeed=21.03, fog='Yes', fogheavy='No', mist='Yes', rain='No', fogground='Yes', ice='No', glaze='No', drizzle='No', snow='No', freezingrain='No', smokehaze='No', thunder='Yes', highwind='No', hail='No', blowingsnow='No', dust='No', freezingfog='No'),\n",
       " Row(date=datetime.datetime(2007, 4, 5, 0, 0), temperaturemin=41.0, temperaturemax=57.9, precipitation=0.0, snowfall=0.0, snowdepth=0.0, avgwindspeed=3.58, fastest2minwinddir=310, fastest2minwindspeed=14.99, fastest5secwinddir=320, fastest5secwindspeed=23.94, fog='No', fogheavy='No', mist='No', rain='No', fogground='No', ice='No', glaze='No', drizzle='No', snow='No', freezingrain='No', smokehaze='No', thunder='No', highwind='No', hail='No', blowingsnow='No', dust='No', freezingfog='No'),\n",
       " Row(date=datetime.datetime(2007, 4, 8, 0, 0), temperaturemin=27.0, temperaturemax=55.9, precipitation=0.0, snowfall=0.0, snowdepth=0.0, avgwindspeed=2.91, fastest2minwinddir=240, fastest2minwindspeed=19.91, fastest5secwinddir=240, fastest5secwindspeed=25.05, fog='No', fogheavy='No', mist='No', rain='No', fogground='No', ice='No', glaze='No', drizzle='No', snow='No', freezingrain='No', smokehaze='No', thunder='No', highwind='No', hail='No', blowingsnow='No', dust='No', freezingfog='No'),\n",
       " Row(date=datetime.datetime(2007, 4, 11, 0, 0), temperaturemin=46.0, temperaturemax=59.0, precipitation=0.73, snowfall=0.0, snowdepth=0.0, avgwindspeed=6.49, fastest2minwinddir=140, fastest2minwindspeed=17.9, fastest5secwinddir=150, fastest5secwindspeed=25.05, fog='Yes', fogheavy='No', mist='No', rain='Yes', fogground='No', ice='No', glaze='No', drizzle='Yes', snow='No', freezingrain='No', smokehaze='Yes', thunder='Yes', highwind='No', hail='No', blowingsnow='No', dust='No', freezingfog='No'),\n",
       " Row(date=datetime.datetime(2007, 4, 15, 0, 0), temperaturemin=42.1, temperaturemax=77.0, precipitation=1.76, snowfall=0.0, snowdepth=0.0, avgwindspeed=12.75, fastest2minwinddir=180, fastest2minwindspeed=25.05, fastest5secwinddir=300, fastest5secwindspeed=29.97, fog='Yes', fogheavy='No', mist='Yes', rain='Yes', fogground='No', ice='No', glaze='No', drizzle='No', snow='No', freezingrain='No', smokehaze='No', thunder='Yes', highwind='No', hail='No', blowingsnow='No', dust='No', freezingfog='No'),\n",
       " Row(date=datetime.datetime(2007, 4, 17, 0, 0), temperaturemin=46.9, temperaturemax=72.0, precipitation=0.0, snowfall=0.0, snowdepth=0.0, avgwindspeed=7.61, fastest2minwinddir=360, fastest2minwindspeed=19.91, fastest5secwinddir=320, fastest5secwindspeed=29.08, fog='No', fogheavy='No', mist='No', rain='No', fogground='No', ice='No', glaze='No', drizzle='No', snow='No', freezingrain='No', smokehaze='No', thunder='No', highwind='No', hail='No', blowingsnow='No', dust='No', freezingfog='No'),\n",
       " Row(date=datetime.datetime(2007, 4, 18, 0, 0), temperaturemin=42.1, temperaturemax=66.9, precipitation=0.0, snowfall=0.0, snowdepth=0.0, avgwindspeed=6.04, fastest2minwinddir=90, fastest2minwindspeed=14.99, fastest5secwinddir=100, fastest5secwindspeed=19.91, fog='No', fogheavy='No', mist='No', rain='No', fogground='No', ice='No', glaze='No', drizzle='No', snow='No', freezingrain='No', smokehaze='No', thunder='No', highwind='No', hail='No', blowingsnow='No', dust='No', freezingfog='No'),\n",
       " Row(date=datetime.datetime(2007, 4, 19, 0, 0), temperaturemin=44.1, temperaturemax=57.9, precipitation=0.04, snowfall=0.0, snowdepth=0.0, avgwindspeed=4.47, fastest2minwinddir=90, fastest2minwindspeed=12.97, fastest5secwinddir=90, fastest5secwindspeed=16.11, fog='Yes', fogheavy='No', mist='Yes', rain='Yes', fogground='No', ice='No', glaze='No', drizzle='No', snow='No', freezingrain='No', smokehaze='No', thunder='No', highwind='No', hail='No', blowingsnow='No', dust='No', freezingfog='No'),\n",
       " Row(date=datetime.datetime(2007, 4, 21, 0, 0), temperaturemin=39.9, temperaturemax=77.0, precipitation=0.0, snowfall=0.0, snowdepth=0.0, avgwindspeed=2.24, fastest2minwinddir=50, fastest2minwindspeed=8.95, fastest5secwinddir=140, fastest5secwindspeed=14.99, fog='Yes', fogheavy='No', mist='Yes', rain='No', fogground='No', ice='No', glaze='No', drizzle='No', snow='No', freezingrain='No', smokehaze='No', thunder='No', highwind='No', hail='No', blowingsnow='No', dust='No', freezingfog='No'),\n",
       " Row(date=datetime.datetime(2007, 4, 25, 0, 0), temperaturemin=61.0, temperaturemax=87.1, precipitation=0.0, snowfall=0.0, snowdepth=0.0, avgwindspeed=10.29, fastest2minwinddir=230, fastest2minwindspeed=23.94, fastest5secwinddir=230, fastest5secwindspeed=29.97, fog='Yes', fogheavy='No', mist='No', rain='No', fogground='No', ice='No', glaze='No', drizzle='No', snow='No', freezingrain='No', smokehaze='Yes', thunder='No', highwind='No', hail='No', blowingsnow='No', dust='No', freezingfog='No'),\n",
       " Row(date=datetime.datetime(2007, 4, 29, 0, 0), temperaturemin=53.1, temperaturemax=80.1, precipitation=0.0, snowfall=0.0, snowdepth=0.0, avgwindspeed=6.49, fastest2minwinddir=300, fastest2minwindspeed=17.9, fastest5secwinddir=290, fastest5secwindspeed=25.05, fog='No', fogheavy='No', mist='No', rain='No', fogground='No', ice='No', glaze='No', drizzle='No', snow='No', freezingrain='No', smokehaze='No', thunder='No', highwind='No', hail='No', blowingsnow='No', dust='No', freezingfog='No'),\n",
       " Row(date=datetime.datetime(2007, 5, 10, 0, 0), temperaturemin=63.0, temperaturemax=82.9, precipitation=0.0, snowfall=0.0, snowdepth=0.0, avgwindspeed=2.91, fastest2minwinddir=20, fastest2minwindspeed=10.07, fastest5secwinddir=20, fastest5secwindspeed=12.97, fog='Yes', fogheavy='Yes', mist='Yes', rain='No', fogground='No', ice='No', glaze='No', drizzle='No', snow='No', freezingrain='No', smokehaze='Yes', thunder='No', highwind='No', hail='No', blowingsnow='No', dust='No', freezingfog='No'),\n",
       " Row(date=datetime.datetime(2007, 5, 19, 0, 0), temperaturemin=43.0, temperaturemax=73.0, precipitation=0.0, snowfall=0.0, snowdepth=0.0, avgwindspeed=3.58, fastest2minwinddir=290, fastest2minwindspeed=12.97, fastest5secwinddir=280, fastest5secwindspeed=16.11, fog='Yes', fogheavy='No', mist='Yes', rain='No', fogground='No', ice='No', glaze='No', drizzle='No', snow='No', freezingrain='No', smokehaze='No', thunder='No', highwind='No', hail='No', blowingsnow='No', dust='No', freezingfog='No'),\n",
       " Row(date=datetime.datetime(2007, 5, 21, 0, 0), temperaturemin=54.0, temperaturemax=88.0, precipitation=0.0, snowfall=0.0, snowdepth=0.0, avgwindspeed=3.36, fastest2minwinddir=120, fastest2minwindspeed=17.0, fastest5secwinddir=120, fastest5secwindspeed=19.91, fog='No', fogheavy='No', mist='No', rain='No', fogground='No', ice='No', glaze='No', drizzle='No', snow='No', freezingrain='No', smokehaze='No', thunder='No', highwind='No', hail='No', blowingsnow='No', dust='No', freezingfog='No'),\n",
       " Row(date=datetime.datetime(2007, 6, 2, 0, 0), temperaturemin=66.0, temperaturemax=82.9, precipitation=0.13, snowfall=0.0, snowdepth=0.0, avgwindspeed=7.38, fastest2minwinddir=100, fastest2minwindspeed=14.09, fastest5secwinddir=90, fastest5secwindspeed=17.9, fog='Yes', fogheavy='No', mist='Yes', rain='Yes', fogground='No', ice='No', glaze='No', drizzle='No', snow='No', freezingrain='No', smokehaze='No', thunder='No', highwind='No', hail='No', blowingsnow='No', dust='No', freezingfog='No'),\n",
       " Row(date=datetime.datetime(2007, 6, 8, 0, 0), temperaturemin=73.0, temperaturemax=96.1, precipitation=0.0, snowfall=0.0, snowdepth=0.0, avgwindspeed=8.05, fastest2minwinddir=240, fastest2minwindspeed=14.09, fastest5secwinddir=240, fastest5secwindspeed=19.91, fog='Yes', fogheavy='No', mist='Yes', rain='No', fogground='No', ice='No', glaze='No', drizzle='No', snow='No', freezingrain='No', smokehaze='Yes', thunder='No', highwind='No', hail='No', blowingsnow='No', dust='No', freezingfog='No'),\n",
       " Row(date=datetime.datetime(2007, 6, 10, 0, 0), temperaturemin=69.1, temperaturemax=87.1, precipitation=0.0, snowfall=0.0, snowdepth=0.0, avgwindspeed=6.49, fastest2minwinddir=100, fastest2minwindspeed=14.99, fastest5secwinddir=100, fastest5secwindspeed=19.91, fog='Yes', fogheavy='No', mist='Yes', rain='No', fogground='No', ice='No', glaze='No', drizzle='No', snow='No', freezingrain='No', smokehaze='Yes', thunder='No', highwind='No', hail='No', blowingsnow='No', dust='No', freezingfog='No'),\n",
       " Row(date=datetime.datetime(2007, 6, 18, 0, 0), temperaturemin=63.0, temperaturemax=96.1, precipitation=0.0, snowfall=0.0, snowdepth=0.0, avgwindspeed=3.13, fastest2minwinddir=220, fastest2minwindspeed=12.08, fastest5secwinddir=220, fastest5secwindspeed=14.09, fog='Yes', fogheavy='No', mist='Yes', rain='No', fogground='No', ice='No', glaze='No', drizzle='No', snow='No', freezingrain='No', smokehaze='Yes', thunder='No', highwind='No', hail='No', blowingsnow='No', dust='No', freezingfog='No'),\n",
       " Row(date=datetime.datetime(2007, 7, 11, 0, 0), temperaturemin=70.0, temperaturemax=95.0, precipitation=0.82, snowfall=0.0, snowdepth=0.0, avgwindspeed=10.07, fastest2minwinddir=220, fastest2minwindspeed=36.01, fastest5secwinddir=210, fastest5secwindspeed=42.95, fog='Yes', fogheavy='No', mist='Yes', rain='Yes', fogground='No', ice='No', glaze='No', drizzle='No', snow='No', freezingrain='No', smokehaze='Yes', thunder='Yes', highwind='Yes', hail='No', blowingsnow='No', dust='No', freezingfog='No'),\n",
       " Row(date=datetime.datetime(2007, 7, 13, 0, 0), temperaturemin=64.0, temperaturemax=81.0, precipitation=0.0, snowfall=0.0, snowdepth=0.0, avgwindspeed=2.91, fastest2minwinddir=50, fastest2minwindspeed=8.95, fastest5secwinddir=110, fastest5secwindspeed=12.97, fog='Yes', fogheavy='No', mist='No', rain='Yes', fogground='No', ice='No', glaze='No', drizzle='No', snow='No', freezingrain='No', smokehaze='Yes', thunder='No', highwind='No', hail='No', blowingsnow='No', dust='No', freezingfog='No'),\n",
       " Row(date=datetime.datetime(2007, 7, 16, 0, 0), temperaturemin=70.0, temperaturemax=91.9, precipitation=0.0, snowfall=0.0, snowdepth=0.0, avgwindspeed=8.05, fastest2minwinddir=230, fastest2minwindspeed=16.11, fastest5secwinddir=210, fastest5secwindspeed=19.91, fog='No', fogheavy='No', mist='No', rain='No', fogground='No', ice='No', glaze='No', drizzle='No', snow='No', freezingrain='No', smokehaze='Yes', thunder='No', highwind='No', hail='No', blowingsnow='No', dust='No', freezingfog='No'),\n",
       " Row(date=datetime.datetime(2007, 7, 18, 0, 0), temperaturemin=71.1, temperaturemax=91.0, precipitation=0.08, snowfall=0.0, snowdepth=0.0, avgwindspeed=5.82, fastest2minwinddir=240, fastest2minwindspeed=14.99, fastest5secwinddir=230, fastest5secwindspeed=17.9, fog='Yes', fogheavy='No', mist='Yes', rain='Yes', fogground='No', ice='No', glaze='No', drizzle='No', snow='No', freezingrain='No', smokehaze='No', thunder='Yes', highwind='No', hail='No', blowingsnow='No', dust='No', freezingfog='No'),\n",
       " Row(date=datetime.datetime(2007, 7, 19, 0, 0), temperaturemin=71.1, temperaturemax=93.9, precipitation=0.0, snowfall=0.0, snowdepth=0.0, avgwindspeed=7.38, fastest2minwinddir=230, fastest2minwindspeed=17.9, fastest5secwinddir=230, fastest5secwindspeed=21.92, fog='Yes', fogheavy='No', mist='Yes', rain='No', fogground='No', ice='No', glaze='No', drizzle='No', snow='No', freezingrain='No', smokehaze='No', thunder='No', highwind='No', hail='No', blowingsnow='No', dust='No', freezingfog='No'),\n",
       " Row(date=datetime.datetime(2007, 7, 21, 0, 0), temperaturemin=62.1, temperaturemax=84.0, precipitation=0.0, snowfall=0.0, snowdepth=0.0, avgwindspeed=6.71, fastest2minwinddir=40, fastest2minwindspeed=17.0, fastest5secwinddir=30, fastest5secwindspeed=19.91, fog='No', fogheavy='No', mist='No', rain='No', fogground='No', ice='No', glaze='No', drizzle='No', snow='No', freezingrain='No', smokehaze='No', thunder='No', highwind='No', hail='No', blowingsnow='No', dust='No', freezingfog='No'),\n",
       " Row(date=datetime.datetime(2007, 7, 29, 0, 0), temperaturemin=66.9, temperaturemax=89.1, precipitation=0.0, snowfall=0.0, snowdepth=0.0, avgwindspeed=4.25, fastest2minwinddir=160, fastest2minwindspeed=16.11, fastest5secwinddir=150, fastest5secwindspeed=19.91, fog='Yes', fogheavy='No', mist='Yes', rain='No', fogground='Yes', ice='No', glaze='No', drizzle='No', snow='No', freezingrain='No', smokehaze='No', thunder='No', highwind='No', hail='No', blowingsnow='No', dust='No', freezingfog='No'),\n",
       " Row(date=datetime.datetime(2007, 7, 31, 0, 0), temperaturemin=70.0, temperaturemax=89.1, precipitation=0.0, snowfall=0.0, snowdepth=0.0, avgwindspeed=6.26, fastest2minwinddir=40, fastest2minwindspeed=14.99, fastest5secwinddir=50, fastest5secwindspeed=17.0, fog='Yes', fogheavy='Yes', mist='Yes', rain='No', fogground='No', ice='No', glaze='No', drizzle='No', snow='No', freezingrain='No', smokehaze='Yes', thunder='No', highwind='No', hail='No', blowingsnow='No', dust='No', freezingfog='No'),\n",
       " Row(date=datetime.datetime(2007, 8, 1, 0, 0), temperaturemin=69.1, temperaturemax=91.9, precipitation=0.0, snowfall=0.0, snowdepth=0.0, avgwindspeed=4.47, fastest2minwinddir=80, fastest2minwindspeed=14.09, fastest5secwinddir=90, fastest5secwindspeed=17.0, fog='Yes', fogheavy='No', mist='Yes', rain='No', fogground='No', ice='No', glaze='No', drizzle='No', snow='No', freezingrain='No', smokehaze='Yes', thunder='No', highwind='No', hail='No', blowingsnow='No', dust='No', freezingfog='No'),\n",
       " Row(date=datetime.datetime(2007, 8, 8, 0, 0), temperaturemin=75.9, temperaturemax=102.0, precipitation=0.17, snowfall=0.0, snowdepth=0.0, avgwindspeed=4.47, fastest2minwinddir=200, fastest2minwindspeed=16.11, fastest5secwinddir=220, fastest5secwindspeed=19.91, fog='Yes', fogheavy='No', mist='Yes', rain='Yes', fogground='No', ice='No', glaze='No', drizzle='No', snow='No', freezingrain='No', smokehaze='Yes', thunder='No', highwind='No', hail='No', blowingsnow='No', dust='No', freezingfog='No'),\n",
       " Row(date=datetime.datetime(2007, 8, 17, 0, 0), temperaturemin=73.9, temperaturemax=97.0, precipitation=0.01, snowfall=0.0, snowdepth=0.0, avgwindspeed=6.71, fastest2minwinddir=30, fastest2minwindspeed=21.03, fastest5secwinddir=40, fastest5secwindspeed=27.96, fog='Yes', fogheavy='No', mist='No', rain='Yes', fogground='No', ice='No', glaze='No', drizzle='No', snow='No', freezingrain='No', smokehaze='Yes', thunder='Yes', highwind='No', hail='No', blowingsnow='No', dust='No', freezingfog='No'),\n",
       " Row(date=datetime.datetime(2007, 8, 19, 0, 0), temperaturemin=70.0, temperaturemax=97.0, precipitation=0.0, snowfall=0.0, snowdepth=0.0, avgwindspeed=9.84, fastest2minwinddir=220, fastest2minwindspeed=17.0, fastest5secwinddir=210, fastest5secwindspeed=21.03, fog='No', fogheavy='No', mist='No', rain='No', fogground='No', ice='No', glaze='No', drizzle='No', snow='No', freezingrain='No', smokehaze='Yes', thunder='No', highwind='No', hail='No', blowingsnow='No', dust='No', freezingfog='No'),\n",
       " Row(date=datetime.datetime(2007, 8, 25, 0, 0), temperaturemin=75.0, temperaturemax=99.0, precipitation=0.0, snowfall=0.0, snowdepth=0.0, avgwindspeed=8.95, fastest2minwinddir=220, fastest2minwindspeed=17.0, fastest5secwinddir=210, fastest5secwindspeed=21.03, fog='Yes', fogheavy='No', mist='Yes', rain='No', fogground='No', ice='No', glaze='No', drizzle='No', snow='No', freezingrain='No', smokehaze='Yes', thunder='No', highwind='No', hail='No', blowingsnow='No', dust='No', freezingfog='No'),\n",
       " Row(date=datetime.datetime(2007, 9, 10, 0, 0), temperaturemin=66.9, temperaturemax=100.9, precipitation=0.0, snowfall=0.0, snowdepth=0.0, avgwindspeed=7.16, fastest2minwinddir=210, fastest2minwindspeed=16.11, fastest5secwinddir=230, fastest5secwindspeed=21.92, fog='No', fogheavy='No', mist='No', rain='No', fogground='No', ice='No', glaze='No', drizzle='No', snow='No', freezingrain='No', smokehaze='No', thunder='No', highwind='No', hail='No', blowingsnow='No', dust='No', freezingfog='No'),\n",
       " Row(date=datetime.datetime(2007, 9, 28, 0, 0), temperaturemin=64.0, temperaturemax=84.9, precipitation=0.0, snowfall=0.0, snowdepth=0.0, avgwindspeed=6.49, fastest2minwinddir=320, fastest2minwindspeed=16.11, fastest5secwinddir=340, fastest5secwindspeed=21.03, fog='No', fogheavy='No', mist='No', rain='No', fogground='No', ice='No', glaze='No', drizzle='No', snow='No', freezingrain='No', smokehaze='No', thunder='No', highwind='No', hail='No', blowingsnow='No', dust='No', freezingfog='No'),\n",
       " Row(date=datetime.datetime(2007, 9, 29, 0, 0), temperaturemin=50.0, temperaturemax=79.0, precipitation=0.0, snowfall=0.0, snowdepth=0.0, avgwindspeed=6.71, fastest2minwinddir=40, fastest2minwindspeed=19.91, fastest5secwinddir=20, fastest5secwindspeed=21.92, fog='No', fogheavy='No', mist='No', rain='No', fogground='No', ice='No', glaze='No', drizzle='No', snow='No', freezingrain='No', smokehaze='No', thunder='No', highwind='No', hail='No', blowingsnow='No', dust='No', freezingfog='No'),\n",
       " Row(date=datetime.datetime(2007, 9, 30, 0, 0), temperaturemin=48.0, temperaturemax=80.1, precipitation=0.0, snowfall=0.0, snowdepth=0.0, avgwindspeed=6.71, fastest2minwinddir=50, fastest2minwindspeed=16.11, fastest5secwinddir=90, fastest5secwindspeed=21.92, fog='No', fogheavy='No', mist='No', rain='No', fogground='No', ice='No', glaze='No', drizzle='No', snow='No', freezingrain='No', smokehaze='No', thunder='No', highwind='No', hail='No', blowingsnow='No', dust='No', freezingfog='No'),\n",
       " Row(date=datetime.datetime(2007, 10, 1, 0, 0), temperaturemin=53.1, temperaturemax=82.0, precipitation=0.0, snowfall=0.0, snowdepth=0.0, avgwindspeed=6.71, fastest2minwinddir=80, fastest2minwindspeed=14.09, fastest5secwinddir=90, fastest5secwindspeed=17.0, fog='No', fogheavy='No', mist='No', rain='No', fogground='No', ice='No', glaze='No', drizzle='No', snow='No', freezingrain='No', smokehaze='No', thunder='No', highwind='No', hail='No', blowingsnow='No', dust='No', freezingfog='No'),\n",
       " Row(date=datetime.datetime(2007, 10, 3, 0, 0), temperaturemin=63.0, temperaturemax=84.9, precipitation=0.0, snowfall=0.0, snowdepth=0.0, avgwindspeed=3.36, fastest2minwinddir=70, fastest2minwindspeed=10.07, fastest5secwinddir=90, fastest5secwindspeed=14.09, fog='Yes', fogheavy='Yes', mist='Yes', rain='No', fogground='No', ice='No', glaze='No', drizzle='No', snow='No', freezingrain='No', smokehaze='No', thunder='No', highwind='No', hail='No', blowingsnow='No', dust='No', freezingfog='No'),\n",
       " Row(date=datetime.datetime(2007, 10, 7, 0, 0), temperaturemin=64.0, temperaturemax=90.0, precipitation=0.0, snowfall=0.0, snowdepth=0.0, avgwindspeed=1.79, fastest2minwinddir=170, fastest2minwindspeed=8.05, fastest5secwinddir=160, fastest5secwindspeed=10.07, fog='Yes', fogheavy='Yes', mist='Yes', rain='No', fogground='No', ice='No', glaze='No', drizzle='No', snow='No', freezingrain='No', smokehaze='No', thunder='No', highwind='No', hail='No', blowingsnow='No', dust='No', freezingfog='No'),\n",
       " Row(date=datetime.datetime(2007, 10, 8, 0, 0), temperaturemin=64.9, temperaturemax=93.0, precipitation=0.0, snowfall=0.0, snowdepth=0.0, avgwindspeed=1.79, fastest2minwinddir=180, fastest2minwindspeed=8.05, fastest5secwinddir=170, fastest5secwindspeed=12.97, fog='Yes', fogheavy='No', mist='No', rain='No', fogground='Yes', ice='No', glaze='No', drizzle='No', snow='No', freezingrain='No', smokehaze='No', thunder='No', highwind='No', hail='No', blowingsnow='No', dust='No', freezingfog='No'),\n",
       " Row(date=datetime.datetime(2007, 10, 11, 0, 0), temperaturemin=51.1, temperaturemax=69.1, precipitation=0.0, snowfall=0.0, snowdepth=0.0, avgwindspeed=7.61, fastest2minwinddir=300, fastest2minwindspeed=14.99, fastest5secwinddir=330, fastest5secwindspeed=21.92, fog='No', fogheavy='No', mist='No', rain='No', fogground='No', ice='No', glaze='No', drizzle='No', snow='No', freezingrain='No', smokehaze='No', thunder='No', highwind='No', hail='No', blowingsnow='No', dust='No', freezingfog='No'),\n",
       " Row(date=datetime.datetime(2007, 10, 24, 0, 0), temperaturemin=70.0, temperaturemax=78.1, precipitation=1.72, snowfall=0.0, snowdepth=0.0, avgwindspeed=6.93, fastest2minwinddir=210, fastest2minwindspeed=21.03, fastest5secwinddir=220, fastest5secwindspeed=25.95, fog='Yes', fogheavy='No', mist='Yes', rain='Yes', fogground='No', ice='No', glaze='No', drizzle='No', snow='No', freezingrain='No', smokehaze='No', thunder='Yes', highwind='No', hail='No', blowingsnow='No', dust='No', freezingfog='No'),\n",
       " Row(date=datetime.datetime(2007, 10, 29, 0, 0), temperaturemin=37.0, temperaturemax=61.0, precipitation=0.0, snowfall=0.0, snowdepth=0.0, avgwindspeed=4.47, fastest2minwinddir=50, fastest2minwindspeed=16.11, fastest5secwinddir=40, fastest5secwindspeed=19.91, fog='No', fogheavy='No', mist='No', rain='No', fogground='No', ice='No', glaze='No', drizzle='No', snow='No', freezingrain='No', smokehaze='No', thunder='No', highwind='No', hail='No', blowingsnow='No', dust='No', freezingfog='No'),\n",
       " Row(date=datetime.datetime(2007, 10, 30, 0, 0), temperaturemin=33.1, temperaturemax=66.9, precipitation=0.0, snowfall=0.0, snowdepth=0.0, avgwindspeed=1.12, fastest2minwinddir=50, fastest2minwindspeed=8.05, fastest5secwinddir=140, fastest5secwindspeed=12.08, fog='Yes', fogheavy='No', mist='No', rain='No', fogground='No', ice='No', glaze='No', drizzle='No', snow='No', freezingrain='No', smokehaze='No', thunder='No', highwind='No', hail='No', blowingsnow='No', dust='No', freezingfog='No'),\n",
       " Row(date=datetime.datetime(2007, 11, 1, 0, 0), temperaturemin=53.1, temperaturemax=78.1, precipitation=0.0, snowfall=0.0, snowdepth=0.0, avgwindspeed=4.47, fastest2minwinddir=40, fastest2minwindspeed=19.91, fastest5secwinddir=50, fastest5secwindspeed=25.95, fog='Yes', fogheavy='No', mist='No', rain='No', fogground='No', ice='No', glaze='No', drizzle='No', snow='No', freezingrain='No', smokehaze='No', thunder='No', highwind='No', hail='No', blowingsnow='No', dust='No', freezingfog='No'),\n",
       " Row(date=datetime.datetime(2007, 11, 7, 0, 0), temperaturemin=30.0, temperaturemax=55.0, precipitation=0.0, snowfall=0.0, snowdepth=0.0, avgwindspeed=3.8, fastest2minwinddir=40, fastest2minwindspeed=12.97, fastest5secwinddir=20, fastest5secwindspeed=16.11, fog='No', fogheavy='No', mist='No', rain='No', fogground='No', ice='No', glaze='No', drizzle='No', snow='No', freezingrain='No', smokehaze='No', thunder='No', highwind='No', hail='No', blowingsnow='No', dust='No', freezingfog='No'),\n",
       " Row(date=datetime.datetime(2007, 11, 9, 0, 0), temperaturemin=34.0, temperaturemax=61.0, precipitation=0.0, snowfall=0.0, snowdepth=0.0, avgwindspeed=4.25, fastest2minwinddir=210, fastest2minwindspeed=12.08, fastest5secwinddir=230, fastest5secwindspeed=14.99, fog='No', fogheavy='No', mist='No', rain='Yes', fogground='No', ice='No', glaze='No', drizzle='No', snow='No', freezingrain='No', smokehaze='No', thunder='No', highwind='No', hail='No', blowingsnow='No', dust='No', freezingfog='No'),\n",
       " Row(date=datetime.datetime(2007, 11, 17, 0, 0), temperaturemin=28.0, temperaturemax=60.1, precipitation=0.0, snowfall=0.0, snowdepth=0.0, avgwindspeed=4.25, fastest2minwinddir=230, fastest2minwindspeed=17.0, fastest5secwinddir=210, fastest5secwindspeed=23.04, fog='Yes', fogheavy='No', mist='No', rain='No', fogground='No', ice='No', glaze='No', drizzle='No', snow='No', freezingrain='No', smokehaze='No', thunder='No', highwind='No', hail='No', blowingsnow='No', dust='No', freezingfog='No'),\n",
       " Row(date=datetime.datetime(2007, 11, 28, 0, 0), temperaturemin=32.0, temperaturemax=57.0, precipitation=0.0, snowfall=0.0, snowdepth=0.0, avgwindspeed=4.47, fastest2minwinddir=120, fastest2minwindspeed=14.99, fastest5secwinddir=90, fastest5secwindspeed=17.9, fog='No', fogheavy='No', mist='No', rain='No', fogground='No', ice='No', glaze='No', drizzle='No', snow='No', freezingrain='No', smokehaze='No', thunder='No', highwind='No', hail='No', blowingsnow='No', dust='No', freezingfog='No'),\n",
       " Row(date=datetime.datetime(2007, 11, 29, 0, 0), temperaturemin=36.0, temperaturemax=63.0, precipitation=0.0, snowfall=0.0, snowdepth=0.0, avgwindspeed=3.36, fastest2minwinddir=260, fastest2minwindspeed=12.08, fastest5secwinddir=230, fastest5secwindspeed=14.09, fog='Yes', fogheavy='No', mist='No', rain='No', fogground='No', ice='No', glaze='No', drizzle='No', snow='No', freezingrain='No', smokehaze='No', thunder='No', highwind='No', hail='No', blowingsnow='No', dust='No', freezingfog='No'),\n",
       " Row(date=datetime.datetime(2007, 11, 30, 0, 0), temperaturemin=32.0, temperaturemax=57.0, precipitation=0.0, snowfall=0.0, snowdepth=0.0, avgwindspeed=2.68, fastest2minwinddir=50, fastest2minwindspeed=12.97, fastest5secwinddir=30, fastest5secwindspeed=14.99, fog='No', fogheavy='No', mist='No', rain='No', fogground='No', ice='No', glaze='No', drizzle='No', snow='No', freezingrain='No', smokehaze='No', thunder='No', highwind='No', hail='No', blowingsnow='No', dust='No', freezingfog='No'),\n",
       " Row(date=datetime.datetime(2007, 12, 8, 0, 0), temperaturemin=39.9, temperaturemax=71.1, precipitation=0.0, snowfall=0.0, snowdepth=0.0, avgwindspeed=5.37, fastest2minwinddir=230, fastest2minwindspeed=14.09, fastest5secwinddir=100, fastest5secwindspeed=16.11, fog='Yes', fogheavy='No', mist='No', rain='No', fogground='No', ice='No', glaze='No', drizzle='No', snow='No', freezingrain='No', smokehaze='Yes', thunder='No', highwind='No', hail='No', blowingsnow='No', dust='No', freezingfog='No'),\n",
       " Row(date=datetime.datetime(2007, 12, 12, 0, 0), temperaturemin=55.9, temperaturemax=79.0, precipitation=0.0, snowfall=0.0, snowdepth=0.0, avgwindspeed=8.72, fastest2minwinddir=240, fastest2minwindspeed=21.92, fastest5secwinddir=240, fastest5secwindspeed=25.95, fog='Yes', fogheavy='No', mist='No', rain='No', fogground='No', ice='No', glaze='No', drizzle='No', snow='No', freezingrain='No', smokehaze='Yes', thunder='No', highwind='No', hail='No', blowingsnow='No', dust='No', freezingfog='No'),\n",
       " Row(date=datetime.datetime(2007, 12, 27, 0, 0), temperaturemin=36.0, temperaturemax=57.9, precipitation=0.0, snowfall=0.0, snowdepth=0.0, avgwindspeed=3.58, fastest2minwinddir=220, fastest2minwindspeed=14.09, fastest5secwinddir=220, fastest5secwindspeed=16.11, fog='Yes', fogheavy='No', mist='No', rain='No', fogground='No', ice='No', glaze='No', drizzle='No', snow='No', freezingrain='No', smokehaze='No', thunder='No', highwind='No', hail='No', blowingsnow='No', dust='No', freezingfog='No'),\n",
       " Row(date=datetime.datetime(2007, 12, 29, 0, 0), temperaturemin=55.0, temperaturemax=71.1, precipitation=0.13, snowfall=0.0, snowdepth=0.0, avgwindspeed=10.74, fastest2minwinddir=190, fastest2minwindspeed=27.96, fastest5secwinddir=190, fastest5secwindspeed=38.03, fog='Yes', fogheavy='No', mist='Yes', rain='Yes', fogground='No', ice='No', glaze='No', drizzle='No', snow='No', freezingrain='No', smokehaze='No', thunder='No', highwind='No', hail='No', blowingsnow='No', dust='No', freezingfog='No'),\n",
       " Row(date=datetime.datetime(2008, 1, 4, 0, 0), temperaturemin=17.1, temperaturemax=45.0, precipitation=0.0, snowfall=0.0, snowdepth=0.0, avgwindspeed=6.04, fastest2minwinddir=220, fastest2minwindspeed=16.11, fastest5secwinddir=240, fastest5secwindspeed=21.03, fog='No', fogheavy='No', mist='No', rain='No', fogground='No', ice='No', glaze='No', drizzle='No', snow='No', freezingrain='No', smokehaze='No', thunder='No', highwind='No', hail='No', blowingsnow='No', dust='No', freezingfog='No'),\n",
       " Row(date=datetime.datetime(2008, 1, 10, 0, 0), temperaturemin=46.9, temperaturemax=55.9, precipitation=0.15, snowfall=0.0, snowdepth=0.0, avgwindspeed=5.14, fastest2minwinddir=100, fastest2minwindspeed=16.11, fastest5secwinddir=100, fastest5secwindspeed=19.91, fog='Yes', fogheavy='No', mist='Yes', rain='Yes', fogground='No', ice='No', glaze='No', drizzle='No', snow='No', freezingrain='No', smokehaze='No', thunder='No', highwind='No', hail='No', blowingsnow='No', dust='No', freezingfog='No'),\n",
       " Row(date=datetime.datetime(2008, 1, 13, 0, 0), temperaturemin=39.0, temperaturemax=46.9, precipitation=0.0, snowfall=0.0, snowdepth=0.0, avgwindspeed=5.82, fastest2minwinddir=50, fastest2minwindspeed=12.97, fastest5secwinddir=40, fastest5secwindspeed=14.09, fog='No', fogheavy='No', mist='No', rain='Yes', fogground='No', ice='No', glaze='No', drizzle='No', snow='No', freezingrain='No', smokehaze='No', thunder='No', highwind='No', hail='No', blowingsnow='No', dust='No', freezingfog='No'),\n",
       " Row(date=datetime.datetime(2008, 1, 25, 0, 0), temperaturemin=21.0, temperaturemax=39.0, precipitation=0.0, snowfall=0.0, snowdepth=0.0, avgwindspeed=3.8, fastest2minwinddir=340, fastest2minwindspeed=14.09, fastest5secwinddir=340, fastest5secwindspeed=21.92, fog='No', fogheavy='No', mist='No', rain='No', fogground='No', ice='No', glaze='No', drizzle='No', snow='No', freezingrain='No', smokehaze='No', thunder='No', highwind='No', hail='No', blowingsnow='No', dust='No', freezingfog='No'),\n",
       " Row(date=datetime.datetime(2008, 1, 26, 0, 0), temperaturemin=28.9, temperaturemax=48.0, precipitation=0.0, snowfall=0.0, snowdepth=0.0, avgwindspeed=4.7, fastest2minwinddir=220, fastest2minwindspeed=12.08, fastest5secwinddir=230, fastest5secwindspeed=14.99, fog='No', fogheavy='No', mist='No', rain='No', fogground='No', ice='No', glaze='No', drizzle='No', snow='No', freezingrain='No', smokehaze='No', thunder='No', highwind='No', hail='No', blowingsnow='No', dust='No', freezingfog='No'),\n",
       " Row(date=datetime.datetime(2008, 1, 28, 0, 0), temperaturemin=24.1, temperaturemax=55.0, precipitation=0.0, snowfall=0.0, snowdepth=0.0, avgwindspeed=2.01, fastest2minwinddir=270, fastest2minwindspeed=12.08, fastest5secwinddir=280, fastest5secwindspeed=14.99, fog='No', fogheavy='No', mist='No', rain='No', fogground='No', ice='No', glaze='No', drizzle='No', snow='No', freezingrain='No', smokehaze='No', thunder='No', highwind='No', hail='No', blowingsnow='No', dust='No', freezingfog='No'),\n",
       " Row(date=datetime.datetime(2008, 2, 13, 0, 0), temperaturemin=34.0, temperaturemax=55.9, precipitation=0.92, snowfall=0.0, snowdepth=0.0, avgwindspeed=4.92, fastest2minwinddir=300, fastest2minwindspeed=14.99, fastest5secwinddir=310, fastest5secwindspeed=23.04, fog='Yes', fogheavy='Yes', mist='No', rain='Yes', fogground='No', ice='Yes', glaze='No', drizzle='Yes', snow='Yes', freezingrain='No', smokehaze='No', thunder='No', highwind='No', hail='No', blowingsnow='No', dust='No', freezingfog='No'),\n",
       " Row(date=datetime.datetime(2008, 2, 14, 0, 0), temperaturemin=28.0, temperaturemax=50.0, precipitation=0.01, snowfall=0.0, snowdepth=0.0, avgwindspeed=5.14, fastest2minwinddir=320, fastest2minwindspeed=14.09, fastest5secwinddir=330, fastest5secwindspeed=21.92, fog='Yes', fogheavy='No', mist='Yes', rain='Yes', fogground='No', ice='Yes', glaze='No', drizzle='No', snow='Yes', freezingrain='No', smokehaze='No', thunder='No', highwind='No', hail='No', blowingsnow='No', dust='No', freezingfog='No'),\n",
       " Row(date=datetime.datetime(2008, 2, 16, 0, 0), temperaturemin=41.0, temperaturemax=57.9, precipitation=0.0, snowfall=0.0, snowdepth=0.0, avgwindspeed=7.16, fastest2minwinddir=130, fastest2minwindspeed=17.0, fastest5secwinddir=130, fastest5secwindspeed=23.04, fog='No', fogheavy='No', mist='No', rain='No', fogground='No', ice='No', glaze='No', drizzle='No', snow='No', freezingrain='No', smokehaze='No', thunder='No', highwind='No', hail='No', blowingsnow='No', dust='No', freezingfog='No'),\n",
       " Row(date=datetime.datetime(2008, 2, 17, 0, 0), temperaturemin=37.0, temperaturemax=64.9, precipitation=0.0, snowfall=0.0, snowdepth=0.0, avgwindspeed=8.72, fastest2minwinddir=170, fastest2minwindspeed=23.04, fastest5secwinddir=170, fastest5secwindspeed=31.09, fog='No', fogheavy='No', mist='No', rain='Yes', fogground='No', ice='No', glaze='No', drizzle='No', snow='No', freezingrain='No', smokehaze='No', thunder='No', highwind='No', hail='No', blowingsnow='No', dust='No', freezingfog='No'),\n",
       " Row(date=datetime.datetime(2008, 2, 20, 0, 0), temperaturemin=30.9, temperaturemax=64.9, precipitation=0.0, snowfall=0.0, snowdepth=0.0, avgwindspeed=11.18, fastest2minwinddir=220, fastest2minwindspeed=29.97, fastest5secwinddir=220, fastest5secwindspeed=38.03, fog='No', fogheavy='No', mist='No', rain='No', fogground='No', ice='No', glaze='No', drizzle='No', snow='No', freezingrain='No', smokehaze='No', thunder='No', highwind='No', hail='No', blowingsnow='No', dust='No', freezingfog='No'),\n",
       " Row(date=datetime.datetime(2008, 2, 26, 0, 0), temperaturemin=46.9, temperaturemax=61.0, precipitation=0.47, snowfall=0.0, snowdepth=0.0, avgwindspeed=8.72, fastest2minwinddir=230, fastest2minwindspeed=23.94, fastest5secwinddir=230, fastest5secwindspeed=31.09, fog='Yes', fogheavy='No', mist='No', rain='Yes', fogground='No', ice='No', glaze='No', drizzle='No', snow='No', freezingrain='No', smokehaze='Yes', thunder='Yes', highwind='No', hail='No', blowingsnow='No', dust='No', freezingfog='No'),\n",
       " Row(date=datetime.datetime(2008, 2, 28, 0, 0), temperaturemin=21.9, temperaturemax=43.0, precipitation=0.0, snowfall=0.0, snowdepth=0.0, avgwindspeed=5.82, fastest2minwinddir=260, fastest2minwindspeed=17.0, fastest5secwinddir=260, fastest5secwindspeed=21.92, fog='No', fogheavy='No', mist='No', rain='No', fogground='No', ice='No', glaze='No', drizzle='No', snow='No', freezingrain='No', smokehaze='Yes', thunder='No', highwind='No', hail='No', blowingsnow='No', dust='No', freezingfog='No'),\n",
       " Row(date=datetime.datetime(2008, 3, 4, 0, 0), temperaturemin=57.9, temperaturemax=73.9, precipitation=2.0, snowfall=0.0, snowdepth=0.0, avgwindspeed=15.88, fastest2minwinddir=240, fastest2minwindspeed=36.91, fastest5secwinddir=260, fastest5secwindspeed=46.98, fog='Yes', fogheavy='No', mist='Yes', rain='Yes', fogground='No', ice='No', glaze='No', drizzle='No', snow='No', freezingrain='No', smokehaze='No', thunder='Yes', highwind='No', hail='Yes', blowingsnow='No', dust='No', freezingfog='No'),\n",
       " Row(date=datetime.datetime(2008, 3, 5, 0, 0), temperaturemin=44.1, temperaturemax=64.0, precipitation=0.0, snowfall=0.0, snowdepth=0.0, avgwindspeed=8.5, fastest2minwinddir=230, fastest2minwindspeed=23.94, fastest5secwinddir=240, fastest5secwindspeed=31.99, fog='No', fogheavy='No', mist='No', rain='Yes', fogground='No', ice='No', glaze='No', drizzle='No', snow='No', freezingrain='No', smokehaze='Yes', thunder='No', highwind='No', hail='No', blowingsnow='No', dust='No', freezingfog='No'),\n",
       " Row(date=datetime.datetime(2008, 3, 20, 0, 0), temperaturemin=41.0, temperaturemax=66.0, precipitation=0.0, snowfall=0.0, snowdepth=0.0, avgwindspeed=10.51, fastest2minwinddir=220, fastest2minwindspeed=25.05, fastest5secwinddir=230, fastest5secwindspeed=31.09, fog='No', fogheavy='No', mist='No', rain='Yes', fogground='No', ice='No', glaze='No', drizzle='No', snow='No', freezingrain='No', smokehaze='No', thunder='No', highwind='No', hail='No', blowingsnow='No', dust='No', freezingfog='No'),\n",
       " Row(date=datetime.datetime(2008, 3, 26, 0, 0), temperaturemin=41.0, temperaturemax=73.0, precipitation=0.0, snowfall=0.0, snowdepth=0.0, avgwindspeed=13.42, fastest2minwinddir=220, fastest2minwindspeed=21.92, fastest5secwinddir=240, fastest5secwindspeed=27.96, fog='No', fogheavy='No', mist='No', rain='No', fogground='No', ice='No', glaze='No', drizzle='No', snow='No', freezingrain='No', smokehaze='No', thunder='No', highwind='No', hail='No', blowingsnow='No', dust='No', freezingfog='No'),\n",
       " Row(date=datetime.datetime(2008, 3, 30, 0, 0), temperaturemin=41.0, temperaturemax=45.0, precipitation=0.36, snowfall=0.0, snowdepth=0.0, avgwindspeed=9.17, fastest2minwinddir=60, fastest2minwindspeed=16.11, fastest5secwinddir=50, fastest5secwindspeed=21.03, fog='Yes', fogheavy='No', mist='Yes', rain='Yes', fogground='No', ice='No', glaze='No', drizzle='Yes', snow='No', freezingrain='No', smokehaze='Yes', thunder='No', highwind='No', hail='Yes', blowingsnow='No', dust='No', freezingfog='No'),\n",
       " Row(date=datetime.datetime(2008, 3, 31, 0, 0), temperaturemin=44.1, temperaturemax=60.1, precipitation=0.98, snowfall=0.0, snowdepth=0.0, avgwindspeed=4.7, fastest2minwinddir=180, fastest2minwindspeed=14.99, fastest5secwinddir=180, fastest5secwindspeed=19.91, fog='Yes', fogheavy='Yes', mist='Yes', rain='Yes', fogground='No', ice='No', glaze='No', drizzle='No', snow='No', freezingrain='No', smokehaze='No', thunder='No', highwind='No', hail='Yes', blowingsnow='No', dust='No', freezingfog='No'),\n",
       " Row(date=datetime.datetime(2008, 4, 6, 0, 0), temperaturemin=48.9, temperaturemax=61.0, precipitation=0.16, snowfall=0.0, snowdepth=0.0, avgwindspeed=9.17, fastest2minwinddir=60, fastest2minwindspeed=14.09, fastest5secwinddir=30, fastest5secwindspeed=17.9, fog='Yes', fogheavy='No', mist='Yes', rain='Yes', fogground='No', ice='No', glaze='No', drizzle='Yes', snow='No', freezingrain='No', smokehaze='No', thunder='No', highwind='No', hail='Yes', blowingsnow='No', dust='No', freezingfog='No'),\n",
       " Row(date=datetime.datetime(2008, 4, 7, 0, 0), temperaturemin=46.0, temperaturemax=55.9, precipitation=0.0, snowfall=0.0, snowdepth=0.0, avgwindspeed=8.72, fastest2minwinddir=40, fastest2minwindspeed=14.09, fastest5secwinddir=50, fastest5secwindspeed=17.0, fog='Yes', fogheavy='No', mist='Yes', rain='Yes', fogground='No', ice='No', glaze='No', drizzle='Yes', snow='No', freezingrain='No', smokehaze='Yes', thunder='No', highwind='No', hail='No', blowingsnow='No', dust='No', freezingfog='No'),\n",
       " Row(date=datetime.datetime(2008, 4, 8, 0, 0), temperaturemin=46.9, temperaturemax=64.0, precipitation=0.0, snowfall=0.0, snowdepth=0.0, avgwindspeed=8.72, fastest2minwinddir=50, fastest2minwindspeed=14.99, fastest5secwinddir=20, fastest5secwindspeed=17.0, fog='Yes', fogheavy='No', mist='Yes', rain='No', fogground='No', ice='No', glaze='No', drizzle='No', snow='No', freezingrain='No', smokehaze='Yes', thunder='No', highwind='No', hail='No', blowingsnow='No', dust='Yes', freezingfog='No'),\n",
       " Row(date=datetime.datetime(2008, 4, 16, 0, 0), temperaturemin=32.0, temperaturemax=68.0, precipitation=0.0, snowfall=0.0, snowdepth=0.0, avgwindspeed=3.8, fastest2minwinddir=50, fastest2minwindspeed=16.11, fastest5secwinddir=10, fastest5secwindspeed=21.03, fog='No', fogheavy='No', mist='No', rain='No', fogground='No', ice='No', glaze='No', drizzle='No', snow='No', freezingrain='No', smokehaze='No', thunder='No', highwind='No', hail='No', blowingsnow='No', dust='No', freezingfog='No'),\n",
       " Row(date=datetime.datetime(2008, 4, 22, 0, 0), temperaturemin=55.9, temperaturemax=71.1, precipitation=0.23, snowfall=0.0, snowdepth=0.0, avgwindspeed=11.41, fastest2minwinddir=40, fastest2minwindspeed=23.04, fastest5secwinddir=30, fastest5secwindspeed=27.96, fog='Yes', fogheavy='No', mist='Yes', rain='Yes', fogground='No', ice='No', glaze='No', drizzle='No', snow='No', freezingrain='No', smokehaze='No', thunder='No', highwind='No', hail='Yes', blowingsnow='No', dust='No', freezingfog='No'),\n",
       " Row(date=datetime.datetime(2008, 4, 24, 0, 0), temperaturemin=51.1, temperaturemax=80.1, precipitation=0.0, snowfall=0.0, snowdepth=0.0, avgwindspeed=2.46, fastest2minwinddir=90, fastest2minwindspeed=12.08, fastest5secwinddir=120, fastest5secwindspeed=16.11, fog='Yes', fogheavy='No', mist='Yes', rain='No', fogground='No', ice='No', glaze='No', drizzle='No', snow='No', freezingrain='No', smokehaze='No', thunder='No', highwind='No', hail='No', blowingsnow='No', dust='No', freezingfog='No'),\n",
       " Row(date=datetime.datetime(2008, 4, 30, 0, 0), temperaturemin=37.9, temperaturemax=66.9, precipitation=0.0, snowfall=0.0, snowdepth=0.0, avgwindspeed=2.91, fastest2minwinddir=230, fastest2minwindspeed=10.07, fastest5secwinddir=230, fastest5secwindspeed=12.97, fog='No', fogheavy='No', mist='No', rain='No', fogground='No', ice='No', glaze='No', drizzle='No', snow='No', freezingrain='No', smokehaze='No', thunder='No', highwind='No', hail='No', blowingsnow='No', dust='No', freezingfog='No'),\n",
       " Row(date=datetime.datetime(2008, 5, 4, 0, 0), temperaturemin=60.1, temperaturemax=82.0, precipitation=0.0, snowfall=0.0, snowdepth=0.0, avgwindspeed=5.14, fastest2minwinddir=220, fastest2minwindspeed=12.97, fastest5secwinddir=30, fastest5secwindspeed=17.0, fog='Yes', fogheavy='No', mist='Yes', rain='Yes', fogground='No', ice='No', glaze='No', drizzle='No', snow='No', freezingrain='No', smokehaze='No', thunder='No', highwind='No', hail='No', blowingsnow='No', dust='No', freezingfog='No'),\n",
       " Row(date=datetime.datetime(2008, 5, 9, 0, 0), temperaturemin=63.0, temperaturemax=82.0, precipitation=0.43, snowfall=0.0, snowdepth=0.0, avgwindspeed=10.29, fastest2minwinddir=200, fastest2minwindspeed=23.94, fastest5secwinddir=200, fastest5secwindspeed=33.11, fog='Yes', fogheavy='No', mist='Yes', rain='Yes', fogground='No', ice='No', glaze='No', drizzle='No', snow='No', freezingrain='No', smokehaze='No', thunder='Yes', highwind='No', hail='Yes', blowingsnow='No', dust='No', freezingfog='No'),\n",
       " Row(date=datetime.datetime(2008, 5, 15, 0, 0), temperaturemin=60.1, temperaturemax=78.1, precipitation=0.11, snowfall=0.0, snowdepth=0.0, avgwindspeed=7.61, fastest2minwinddir=220, fastest2minwindspeed=16.11, fastest5secwinddir=240, fastest5secwindspeed=19.91, fog='Yes', fogheavy='No', mist='Yes', rain='Yes', fogground='No', ice='No', glaze='No', drizzle='No', snow='No', freezingrain='No', smokehaze='No', thunder='No', highwind='No', hail='Yes', blowingsnow='No', dust='No', freezingfog='No'),\n",
       " Row(date=datetime.datetime(2008, 5, 17, 0, 0), temperaturemin=46.9, temperaturemax=75.0, precipitation=0.0, snowfall=0.0, snowdepth=0.0, avgwindspeed=8.05, fastest2minwinddir=230, fastest2minwindspeed=19.91, fastest5secwinddir=220, fastest5secwindspeed=25.95, fog='No', fogheavy='No', mist='No', rain='No', fogground='No', ice='No', glaze='No', drizzle='No', snow='No', freezingrain='No', smokehaze='No', thunder='No', highwind='No', hail='No', blowingsnow='No', dust='No', freezingfog='No'),\n",
       " Row(date=datetime.datetime(2008, 5, 26, 0, 0), temperaturemin=55.0, temperaturemax=84.0, precipitation=0.0, snowfall=0.0, snowdepth=0.0, avgwindspeed=10.29, fastest2minwinddir=220, fastest2minwindspeed=19.91, fastest5secwinddir=240, fastest5secwindspeed=23.94, fog='No', fogheavy='No', mist='No', rain='No', fogground='No', ice='No', glaze='No', drizzle='No', snow='No', freezingrain='No', smokehaze='No', thunder='No', highwind='No', hail='No', blowingsnow='No', dust='No', freezingfog='No'),\n",
       " Row(date=datetime.datetime(2008, 5, 31, 0, 0), temperaturemin=68.0, temperaturemax=89.1, precipitation=0.0, snowfall=0.0, snowdepth=0.0, avgwindspeed=10.29, fastest2minwinddir=230, fastest2minwindspeed=21.03, fastest5secwinddir=220, fastest5secwindspeed=25.05, fog='Yes', fogheavy='No', mist='Yes', rain='No', fogground='No', ice='No', glaze='No', drizzle='No', snow='No', freezingrain='No', smokehaze='Yes', thunder='Yes', highwind='No', hail='No', blowingsnow='No', dust='Yes', freezingfog='No'),\n",
       " Row(date=datetime.datetime(2008, 6, 5, 0, 0), temperaturemin=75.9, temperaturemax=96.1, precipitation=0.0, snowfall=0.0, snowdepth=0.0, avgwindspeed=5.82, fastest2minwinddir=220, fastest2minwindspeed=17.0, fastest5secwinddir=230, fastest5secwindspeed=19.91, fog='Yes', fogheavy='No', mist='Yes', rain='No', fogground='No', ice='No', glaze='No', drizzle='No', snow='No', freezingrain='No', smokehaze='Yes', thunder='No', highwind='No', hail='No', blowingsnow='No', dust='Yes', freezingfog='No'),\n",
       " Row(date=datetime.datetime(2008, 6, 6, 0, 0), temperaturemin=75.9, temperaturemax=99.0, precipitation=0.0, snowfall=0.0, snowdepth=0.0, avgwindspeed=6.49, fastest2minwinddir=230, fastest2minwindspeed=14.99, fastest5secwinddir=240, fastest5secwindspeed=17.9, fog='No', fogheavy='No', mist='No', rain='No', fogground='No', ice='No', glaze='No', drizzle='No', snow='No', freezingrain='No', smokehaze='No', thunder='No', highwind='No', hail='No', blowingsnow='No', dust='No', freezingfog='No'),\n",
       " Row(date=datetime.datetime(2008, 6, 14, 0, 0), temperaturemin=69.1, temperaturemax=96.1, precipitation=0.01, snowfall=0.0, snowdepth=0.0, avgwindspeed=7.61, fastest2minwinddir=200, fastest2minwindspeed=17.9, fastest5secwinddir=170, fastest5secwindspeed=23.94, fog='No', fogheavy='No', mist='No', rain='Yes', fogground='No', ice='No', glaze='No', drizzle='No', snow='No', freezingrain='No', smokehaze='No', thunder='No', highwind='No', hail='Yes', blowingsnow='No', dust='No', freezingfog='No'),\n",
       " Row(date=datetime.datetime(2008, 6, 16, 0, 0), temperaturemin=66.9, temperaturemax=95.0, precipitation=0.1, snowfall=0.0, snowdepth=0.0, avgwindspeed=5.37, fastest2minwinddir=230, fastest2minwindspeed=17.0, fastest5secwinddir=220, fastest5secwindspeed=31.09, fog='Yes', fogheavy='No', mist='Yes', rain='Yes', fogground='No', ice='No', glaze='No', drizzle='No', snow='No', freezingrain='No', smokehaze='No', thunder='Yes', highwind='No', hail='No', blowingsnow='No', dust='No', freezingfog='No'),\n",
       " Row(date=datetime.datetime(2008, 6, 17, 0, 0), temperaturemin=68.0, temperaturemax=90.0, precipitation=0.0, snowfall=0.0, snowdepth=0.0, avgwindspeed=5.59, fastest2minwinddir=280, fastest2minwindspeed=16.11, fastest5secwinddir=350, fastest5secwindspeed=23.94, fog='Yes', fogheavy='No', mist='Yes', rain='Yes', fogground='No', ice='No', glaze='No', drizzle='No', snow='No', freezingrain='No', smokehaze='Yes', thunder='Yes', highwind='No', hail='No', blowingsnow='No', dust='Yes', freezingfog='No'),\n",
       " Row(date=datetime.datetime(2008, 7, 5, 0, 0), temperaturemin=69.1, temperaturemax=87.1, precipitation=0.86, snowfall=0.0, snowdepth=0.0, avgwindspeed=5.14, fastest2minwinddir=270, fastest2minwindspeed=17.9, fastest5secwinddir=280, fastest5secwindspeed=23.04, fog='Yes', fogheavy='No', mist='Yes', rain='Yes', fogground='No', ice='No', glaze='No', drizzle='No', snow='No', freezingrain='No', smokehaze='Yes', thunder='Yes', highwind='No', hail='Yes', blowingsnow='No', dust='No', freezingfog='No'),\n",
       " Row(date=datetime.datetime(2008, 7, 9, 0, 0), temperaturemin=70.0, temperaturemax=90.0, precipitation=0.97, snowfall=0.0, snowdepth=0.0, avgwindspeed=10.51, fastest2minwinddir=300, fastest2minwindspeed=23.04, fastest5secwinddir=300, fastest5secwindspeed=36.01, fog='Yes', fogheavy='No', mist='Yes', rain='Yes', fogground='No', ice='No', glaze='No', drizzle='No', snow='No', freezingrain='No', smokehaze='No', thunder='Yes', highwind='No', hail='Yes', blowingsnow='No', dust='No', freezingfog='No'),\n",
       " Row(date=datetime.datetime(2008, 7, 10, 0, 0), temperaturemin=71.1, temperaturemax=89.1, precipitation=0.0, snowfall=0.0, snowdepth=0.0, avgwindspeed=4.92, fastest2minwinddir=190, fastest2minwindspeed=16.11, fastest5secwinddir=190, fastest5secwindspeed=19.91, fog='Yes', fogheavy='No', mist='Yes', rain='Yes', fogground='No', ice='No', glaze='No', drizzle='No', snow='No', freezingrain='No', smokehaze='No', thunder='No', highwind='No', hail='Yes', blowingsnow='No', dust='No', freezingfog='No'),\n",
       " Row(date=datetime.datetime(2008, 7, 14, 0, 0), temperaturemin=69.1, temperaturemax=79.0, precipitation=0.53, snowfall=0.0, snowdepth=0.0, avgwindspeed=4.25, fastest2minwinddir=30, fastest2minwindspeed=10.07, fastest5secwinddir=40, fastest5secwindspeed=14.09, fog='Yes', fogheavy='No', mist='Yes', rain='Yes', fogground='No', ice='No', glaze='No', drizzle='No', snow='No', freezingrain='No', smokehaze='Yes', thunder='No', highwind='No', hail='Yes', blowingsnow='No', dust='Yes', freezingfog='No'),\n",
       " Row(date=datetime.datetime(2008, 7, 15, 0, 0), temperaturemin=66.0, temperaturemax=87.1, precipitation=0.0, snowfall=0.0, snowdepth=0.0, avgwindspeed=6.26, fastest2minwinddir=40, fastest2minwindspeed=14.09, fastest5secwinddir=40, fastest5secwindspeed=17.9, fog='Yes', fogheavy='Yes', mist='Yes', rain='No', fogground='No', ice='No', glaze='No', drizzle='No', snow='No', freezingrain='No', smokehaze='Yes', thunder='No', highwind='No', hail='No', blowingsnow='Yes', dust='No', freezingfog='No'),\n",
       " Row(date=datetime.datetime(2008, 7, 19, 0, 0), temperaturemin=70.0, temperaturemax=90.0, precipitation=0.76, snowfall=0.0, snowdepth=0.0, avgwindspeed=3.36, fastest2minwinddir=150, fastest2minwindspeed=19.91, fastest5secwinddir=130, fastest5secwindspeed=23.94, fog='Yes', fogheavy='No', mist='Yes', rain='Yes', fogground='No', ice='No', glaze='No', drizzle='No', snow='No', freezingrain='No', smokehaze='No', thunder='No', highwind='No', hail='Yes', blowingsnow='No', dust='No', freezingfog='No'),\n",
       " Row(date=datetime.datetime(2008, 7, 24, 0, 0), temperaturemin=64.9, temperaturemax=87.1, precipitation=0.0, snowfall=0.0, snowdepth=0.0, avgwindspeed=3.36, fastest2minwinddir=40, fastest2minwindspeed=12.08, fastest5secwinddir=350, fastest5secwindspeed=14.09, fog='Yes', fogheavy='No', mist='No', rain='No', fogground='No', ice='No', glaze='No', drizzle='No', snow='No', freezingrain='No', smokehaze='No', thunder='No', highwind='No', hail='No', blowingsnow='No', dust='No', freezingfog='No'),\n",
       " Row(date=datetime.datetime(2008, 7, 26, 0, 0), temperaturemin=66.0, temperaturemax=87.1, precipitation=0.0, snowfall=0.0, snowdepth=0.0, avgwindspeed=6.93, fastest2minwinddir=220, fastest2minwindspeed=17.0, fastest5secwinddir=210, fastest5secwindspeed=21.03, fog='Yes', fogheavy='No', mist='Yes', rain='No', fogground='No', ice='No', glaze='No', drizzle='No', snow='No', freezingrain='No', smokehaze='Yes', thunder='No', highwind='No', hail='No', blowingsnow='No', dust='Yes', freezingfog='No'),\n",
       " Row(date=datetime.datetime(2008, 7, 30, 0, 0), temperaturemin=75.0, temperaturemax=93.0, precipitation=0.0, snowfall=0.0, snowdepth=0.0, avgwindspeed=7.61, fastest2minwinddir=230, fastest2minwindspeed=17.0, fastest5secwinddir=240, fastest5secwindspeed=23.04, fog='Yes', fogheavy='No', mist='Yes', rain='Yes', fogground='No', ice='No', glaze='No', drizzle='No', snow='No', freezingrain='No', smokehaze='Yes', thunder='Yes', highwind='No', hail='No', blowingsnow='No', dust='Yes', freezingfog='No'),\n",
       " Row(date=datetime.datetime(2008, 8, 3, 0, 0), temperaturemin=70.0, temperaturemax=91.9, precipitation=0.0, snowfall=0.0, snowdepth=0.0, avgwindspeed=3.36, fastest2minwinddir=40, fastest2minwindspeed=12.97, fastest5secwinddir=330, fastest5secwindspeed=17.0, fog='No', fogheavy='No', mist='No', rain='No', fogground='No', ice='No', glaze='No', drizzle='No', snow='No', freezingrain='No', smokehaze='No', thunder='No', highwind='No', hail='No', blowingsnow='No', dust='No', freezingfog='No'),\n",
       " Row(date=datetime.datetime(2008, 8, 8, 0, 0), temperaturemin=70.0, temperaturemax=91.0, precipitation=0.0, snowfall=0.0, snowdepth=0.0, avgwindspeed=4.92, fastest2minwinddir=220, fastest2minwindspeed=14.09, fastest5secwinddir=20, fastest5secwindspeed=17.0, fog='Yes', fogheavy='No', mist='No', rain='No', fogground='No', ice='No', glaze='No', drizzle='No', snow='No', freezingrain='No', smokehaze='No', thunder='No', highwind='No', hail='No', blowingsnow='No', dust='No', freezingfog='No'),\n",
       " Row(date=datetime.datetime(2008, 8, 12, 0, 0), temperaturemin=55.9, temperaturemax=89.1, precipitation=0.0, snowfall=0.0, snowdepth=0.0, avgwindspeed=3.58, fastest2minwinddir=170, fastest2minwindspeed=10.07, fastest5secwinddir=140, fastest5secwindspeed=16.11, fog='No', fogheavy='No', mist='No', rain='No', fogground='No', ice='No', glaze='No', drizzle='No', snow='No', freezingrain='No', smokehaze='No', thunder='No', highwind='No', hail='No', blowingsnow='No', dust='No', freezingfog='No'),\n",
       " Row(date=datetime.datetime(2008, 8, 13, 0, 0), temperaturemin=61.0, temperaturemax=73.9, precipitation=0.11, snowfall=0.0, snowdepth=0.0, avgwindspeed=3.8, fastest2minwinddir=130, fastest2minwindspeed=14.09, fastest5secwinddir=130, fastest5secwindspeed=16.11, fog='Yes', fogheavy='No', mist='Yes', rain='Yes', fogground='No', ice='No', glaze='No', drizzle='No', snow='No', freezingrain='No', smokehaze='Yes', thunder='No', highwind='No', hail='Yes', blowingsnow='Yes', dust='No', freezingfog='No'),\n",
       " Row(date=datetime.datetime(2008, 8, 17, 0, 0), temperaturemin=64.9, temperaturemax=84.9, precipitation=0.0, snowfall=0.0, snowdepth=0.0, avgwindspeed=2.46, fastest2minwinddir=170, fastest2minwindspeed=14.99, fastest5secwinddir=130, fastest5secwindspeed=17.0, fog='Yes', fogheavy='No', mist='No', rain='Yes', fogground='No', ice='No', glaze='No', drizzle='No', snow='No', freezingrain='No', smokehaze='Yes', thunder='Yes', highwind='No', hail='No', blowingsnow='No', dust='Yes', freezingfog='No'),\n",
       " Row(date=datetime.datetime(2008, 8, 19, 0, 0), temperaturemin=66.9, temperaturemax=95.0, precipitation=0.0, snowfall=0.0, snowdepth=0.0, avgwindspeed=2.91, fastest2minwinddir=200, fastest2minwindspeed=10.07, fastest5secwinddir=180, fastest5secwindspeed=14.09, fog='Yes', fogheavy='No', mist='Yes', rain='No', fogground='No', ice='No', glaze='No', drizzle='No', snow='No', freezingrain='No', smokehaze='Yes', thunder='No', highwind='No', hail='No', blowingsnow='No', dust='Yes', freezingfog='No'),\n",
       " Row(date=datetime.datetime(2008, 8, 26, 0, 0), temperaturemin=72.0, temperaturemax=81.0, precipitation=0.07, snowfall=0.0, snowdepth=0.0, avgwindspeed=5.82, fastest2minwinddir=80, fastest2minwindspeed=14.99, fastest5secwinddir=90, fastest5secwindspeed=17.0, fog='Yes', fogheavy='No', mist='Yes', rain='Yes', fogground='No', ice='No', glaze='No', drizzle='No', snow='No', freezingrain='No', smokehaze='No', thunder='No', highwind='No', hail='Yes', blowingsnow='No', dust='No', freezingfog='No'),\n",
       " Row(date=datetime.datetime(2008, 8, 30, 0, 0), temperaturemin=70.0, temperaturemax=91.0, precipitation=0.64, snowfall=0.0, snowdepth=0.0, avgwindspeed=4.47, fastest2minwinddir=60, fastest2minwindspeed=29.97, fastest5secwinddir=60, fastest5secwindspeed=38.03, fog='Yes', fogheavy='No', mist='No', rain='No', fogground='No', ice='No', glaze='No', drizzle='No', snow='No', freezingrain='No', smokehaze='Yes', thunder='Yes', highwind='Yes', hail='Yes', blowingsnow='No', dust='Yes', freezingfog='No'),\n",
       " Row(date=datetime.datetime(2008, 9, 5, 0, 0), temperaturemin=64.0, temperaturemax=82.0, precipitation=0.47, snowfall=0.0, snowdepth=0.0, avgwindspeed=7.61, fastest2minwinddir=60, fastest2minwindspeed=14.99, fastest5secwinddir=90, fastest5secwindspeed=17.9, fog='Yes', fogheavy='No', mist='Yes', rain='Yes', fogground='No', ice='No', glaze='No', drizzle='No', snow='No', freezingrain='No', smokehaze='No', thunder='Yes', highwind='No', hail='Yes', blowingsnow='No', dust='No', freezingfog='No'),\n",
       " Row(date=datetime.datetime(2008, 9, 8, 0, 0), temperaturemin=66.9, temperaturemax=90.0, precipitation=0.0, snowfall=0.0, snowdepth=0.0, avgwindspeed=3.13, fastest2minwinddir=130, fastest2minwindspeed=12.08, fastest5secwinddir=170, fastest5secwindspeed=14.99, fog='Yes', fogheavy='No', mist='Yes', rain='No', fogground='No', ice='No', glaze='No', drizzle='No', snow='No', freezingrain='No', smokehaze='No', thunder='No', highwind='No', hail='No', blowingsnow='No', dust='No', freezingfog='No'),\n",
       " Row(date=datetime.datetime(2008, 9, 10, 0, 0), temperaturemin=66.9, temperaturemax=75.0, precipitation=1.19, snowfall=0.0, snowdepth=0.0, avgwindspeed=5.14, fastest2minwinddir=30, fastest2minwindspeed=12.97, fastest5secwinddir=30, fastest5secwindspeed=14.09, fog='Yes', fogheavy='No', mist='Yes', rain='Yes', fogground='No', ice='No', glaze='No', drizzle='No', snow='No', freezingrain='No', smokehaze='No', thunder='No', highwind='No', hail='Yes', blowingsnow='No', dust='No', freezingfog='No'),\n",
       " Row(date=datetime.datetime(2008, 9, 17, 0, 0), temperaturemin=60.1, temperaturemax=73.9, precipitation=0.0, snowfall=0.0, snowdepth=0.0, avgwindspeed=3.8, fastest2minwinddir=30, fastest2minwindspeed=10.07, fastest5secwinddir=50, fastest5secwindspeed=14.09, fog='Yes', fogheavy='No', mist='Yes', rain='Yes', fogground='No', ice='No', glaze='No', drizzle='No', snow='No', freezingrain='No', smokehaze='No', thunder='No', highwind='No', hail='No', blowingsnow='No', dust='No', freezingfog='No'),\n",
       " Row(date=datetime.datetime(2008, 9, 18, 0, 0), temperaturemin=55.9, temperaturemax=81.0, precipitation=0.0, snowfall=0.0, snowdepth=0.0, avgwindspeed=5.37, fastest2minwinddir=40, fastest2minwindspeed=16.11, fastest5secwinddir=50, fastest5secwindspeed=21.03, fog='Yes', fogheavy='No', mist='Yes', rain='No', fogground='No', ice='No', glaze='No', drizzle='No', snow='No', freezingrain='No', smokehaze='No', thunder='No', highwind='No', hail='No', blowingsnow='No', dust='No', freezingfog='No'),\n",
       " Row(date=datetime.datetime(2008, 9, 19, 0, 0), temperaturemin=55.9, temperaturemax=75.9, precipitation=0.0, snowfall=0.0, snowdepth=0.0, avgwindspeed=9.17, fastest2minwinddir=50, fastest2minwindspeed=17.9, fastest5secwinddir=40, fastest5secwindspeed=23.94, fog='No', fogheavy='No', mist='No', rain='No', fogground='No', ice='No', glaze='No', drizzle='No', snow='No', freezingrain='No', smokehaze='No', thunder='No', highwind='No', hail='No', blowingsnow='No', dust='No', freezingfog='No'),\n",
       " Row(date=datetime.datetime(2008, 9, 26, 0, 0), temperaturemin=63.0, temperaturemax=81.0, precipitation=0.96, snowfall=0.0, snowdepth=0.0, avgwindspeed=10.07, fastest2minwinddir=30, fastest2minwindspeed=21.92, fastest5secwinddir=30, fastest5secwindspeed=31.09, fog='Yes', fogheavy='No', mist='Yes', rain='Yes', fogground='No', ice='No', glaze='No', drizzle='No', snow='No', freezingrain='No', smokehaze='No', thunder='No', highwind='No', hail='Yes', blowingsnow='No', dust='No', freezingfog='No'),\n",
       " Row(date=datetime.datetime(2008, 10, 3, 0, 0), temperaturemin=46.9, temperaturemax=75.0, precipitation=0.0, snowfall=0.0, snowdepth=0.0, avgwindspeed=2.68, fastest2minwinddir=250, fastest2minwindspeed=14.09, fastest5secwinddir=250, fastest5secwindspeed=17.0, fog='Yes', fogheavy='No', mist='No', rain='No', fogground='No', ice='No', glaze='No', drizzle='No', snow='No', freezingrain='No', smokehaze='No', thunder='No', highwind='No', hail='No', blowingsnow='No', dust='No', freezingfog='No'),\n",
       " Row(date=datetime.datetime(2008, 10, 8, 0, 0), temperaturemin=52.0, temperaturemax=73.9, precipitation=0.0, snowfall=0.0, snowdepth=0.0, avgwindspeed=6.04, fastest2minwinddir=170, fastest2minwindspeed=12.97, fastest5secwinddir=180, fastest5secwindspeed=14.99, fog='No', fogheavy='No', mist='No', rain='No', fogground='No', ice='No', glaze='No', drizzle='No', snow='No', freezingrain='No', smokehaze='No', thunder='No', highwind='No', hail='No', blowingsnow='No', dust='No', freezingfog='No'),\n",
       " Row(date=datetime.datetime(2008, 10, 10, 0, 0), temperaturemin=64.9, temperaturemax=73.0, precipitation=0.02, snowfall=0.0, snowdepth=0.0, avgwindspeed=6.71, fastest2minwinddir=50, fastest2minwindspeed=16.11, fastest5secwinddir=40, fastest5secwindspeed=17.9, fog='Yes', fogheavy='No', mist='Yes', rain='Yes', fogground='No', ice='No', glaze='No', drizzle='No', snow='No', freezingrain='No', smokehaze='No', thunder='No', highwind='No', hail='Yes', blowingsnow='No', dust='No', freezingfog='No'),\n",
       " Row(date=datetime.datetime(2008, 10, 11, 0, 0), temperaturemin=60.1, temperaturemax=71.1, precipitation=0.0, snowfall=0.0, snowdepth=0.0, avgwindspeed=9.62, fastest2minwinddir=40, fastest2minwindspeed=14.99, fastest5secwinddir=50, fastest5secwindspeed=19.91, fog='No', fogheavy='No', mist='No', rain='No', fogground='No', ice='No', glaze='No', drizzle='No', snow='No', freezingrain='No', smokehaze='No', thunder='No', highwind='No', hail='No', blowingsnow='No', dust='No', freezingfog='No'),\n",
       " Row(date=datetime.datetime(2008, 10, 12, 0, 0), temperaturemin=55.9, temperaturemax=78.1, precipitation=0.0, snowfall=0.0, snowdepth=0.0, avgwindspeed=8.72, fastest2minwinddir=50, fastest2minwindspeed=16.11, fastest5secwinddir=90, fastest5secwindspeed=19.91, fog='No', fogheavy='No', mist='No', rain='No', fogground='No', ice='No', glaze='No', drizzle='No', snow='No', freezingrain='No', smokehaze='No', thunder='No', highwind='No', hail='No', blowingsnow='No', dust='No', freezingfog='No'),\n",
       " Row(date=datetime.datetime(2008, 10, 15, 0, 0), temperaturemin=54.0, temperaturemax=87.1, precipitation=0.0, snowfall=0.0, snowdepth=0.0, avgwindspeed=1.12, fastest2minwinddir=50, fastest2minwindspeed=8.95, fastest5secwinddir=60, fastest5secwindspeed=12.08, fog='Yes', fogheavy='No', mist='No', rain='No', fogground='No', ice='No', glaze='No', drizzle='No', snow='No', freezingrain='No', smokehaze='No', thunder='No', highwind='No', hail='No', blowingsnow='No', dust='No', freezingfog='No'),\n",
       " Row(date=datetime.datetime(2008, 10, 23, 0, 0), temperaturemin=39.0, temperaturemax=60.1, precipitation=0.0, snowfall=0.0, snowdepth=0.0, avgwindspeed=6.26, fastest2minwinddir=110, fastest2minwindspeed=14.09, fastest5secwinddir=80, fastest5secwindspeed=17.9, fog='No', fogheavy='No', mist='No', rain='No', fogground='No', ice='No', glaze='No', drizzle='No', snow='No', freezingrain='No', smokehaze='No', thunder='No', highwind='No', hail='No', blowingsnow='No', dust='No', freezingfog='No'),\n",
       " Row(date=datetime.datetime(2008, 10, 25, 0, 0), temperaturemin=57.9, temperaturemax=77.0, precipitation=0.02, snowfall=0.0, snowdepth=0.0, avgwindspeed=7.61, fastest2minwinddir=210, fastest2minwindspeed=14.99, fastest5secwinddir=230, fastest5secwindspeed=19.91, fog='Yes', fogheavy='No', mist='Yes', rain='Yes', fogground='No', ice='No', glaze='No', drizzle='No', snow='No', freezingrain='No', smokehaze='No', thunder='No', highwind='No', hail='Yes', blowingsnow='No', dust='No', freezingfog='No'),\n",
       " Row(date=datetime.datetime(2008, 10, 26, 0, 0), temperaturemin=44.1, temperaturemax=70.0, precipitation=0.0, snowfall=0.0, snowdepth=0.0, avgwindspeed=3.13, fastest2minwinddir=230, fastest2minwindspeed=12.08, fastest5secwinddir=None, fastest5secwindspeed=None, fog='Yes', fogheavy='No', mist='No', rain='No', fogground='No', ice='No', glaze='No', drizzle='No', snow='No', freezingrain='No', smokehaze='No', thunder='No', highwind='No', hail='No', blowingsnow='No', dust='No', freezingfog='No'),\n",
       " Row(date=datetime.datetime(2008, 11, 12, 0, 0), temperaturemin=39.0, temperaturemax=61.0, precipitation=0.0, snowfall=0.0, snowdepth=0.0, avgwindspeed=4.03, fastest2minwinddir=90, fastest2minwindspeed=12.97, fastest5secwinddir=90, fastest5secwindspeed=16.11, fog='Yes', fogheavy='No', mist='No', rain='No', fogground='No', ice='No', glaze='No', drizzle='No', snow='No', freezingrain='No', smokehaze='No', thunder='No', highwind='No', hail='No', blowingsnow='No', dust='No', freezingfog='No'),\n",
       " Row(date=datetime.datetime(2008, 11, 13, 0, 0), temperaturemin=51.1, temperaturemax=66.0, precipitation=0.09, snowfall=0.0, snowdepth=0.0, avgwindspeed=4.7, fastest2minwinddir=140, fastest2minwindspeed=14.99, fastest5secwinddir=150, fastest5secwindspeed=23.94, fog='Yes', fogheavy='No', mist='Yes', rain='Yes', fogground='No', ice='No', glaze='No', drizzle='Yes', snow='No', freezingrain='No', smokehaze='No', thunder='No', highwind='No', hail='Yes', blowingsnow='No', dust='No', freezingfog='No'),\n",
       " Row(date=datetime.datetime(2008, 11, 15, 0, 0), temperaturemin=51.1, temperaturemax=75.9, precipitation=0.62, snowfall=0.0, snowdepth=0.0, avgwindspeed=14.54, fastest2minwinddir=220, fastest2minwindspeed=29.97, fastest5secwinddir=240, fastest5secwindspeed=36.01, fog='Yes', fogheavy='No', mist='Yes', rain='Yes', fogground='No', ice='No', glaze='No', drizzle='No', snow='No', freezingrain='No', smokehaze='No', thunder='Yes', highwind='No', hail='Yes', blowingsnow='No', dust='No', freezingfog='No'),\n",
       " Row(date=datetime.datetime(2008, 11, 19, 0, 0), temperaturemin=27.0, temperaturemax=45.0, precipitation=0.0, snowfall=0.0, snowdepth=0.0, avgwindspeed=6.04, fastest2minwinddir=240, fastest2minwindspeed=14.09, fastest5secwinddir=230, fastest5secwindspeed=16.11, fog='No', fogheavy='No', mist='No', rain='No', fogground='No', ice='No', glaze='No', drizzle='No', snow='No', freezingrain='No', smokehaze='No', thunder='No', highwind='No', hail='No', blowingsnow='No', dust='No', freezingfog='No'),\n",
       " Row(date=datetime.datetime(2008, 11, 28, 0, 0), temperaturemin=39.0, temperaturemax=68.0, precipitation=0.0, snowfall=0.0, snowdepth=0.0, avgwindspeed=3.13, fastest2minwinddir=260, fastest2minwindspeed=10.07, fastest5secwinddir=270, fastest5secwindspeed=12.97, fog='No', fogheavy='No', mist='No', rain='No', fogground='No', ice='No', glaze='No', drizzle='No', snow='No', freezingrain='No', smokehaze='No', thunder='No', highwind='No', hail='No', blowingsnow='No', dust='No', freezingfog='No'),\n",
       " Row(date=datetime.datetime(2008, 12, 1, 0, 0), temperaturemin=36.0, temperaturemax=52.0, precipitation=0.0, snowfall=0.0, snowdepth=0.0, avgwindspeed=14.09, fastest2minwinddir=220, fastest2minwindspeed=34.9, fastest5secwinddir=220, fastest5secwindspeed=42.95, fog='Yes', fogheavy='No', mist='Yes', rain='No', fogground='No', ice='No', glaze='No', drizzle='No', snow='No', freezingrain='No', smokehaze='No', thunder='No', highwind='No', hail='No', blowingsnow='No', dust='No', freezingfog='No'),\n",
       " Row(date=datetime.datetime(2008, 12, 7, 0, 0), temperaturemin=25.0, temperaturemax=43.0, precipitation=0.0, snowfall=0.0, snowdepth=0.0, avgwindspeed=4.47, fastest2minwinddir=290, fastest2minwindspeed=17.0, fastest5secwinddir=270, fastest5secwindspeed=23.04, fog='Yes', fogheavy='No', mist='Yes', rain='No', fogground='No', ice='No', glaze='No', drizzle='No', snow='No', freezingrain='No', smokehaze='No', thunder='No', highwind='No', hail='No', blowingsnow='No', dust='No', freezingfog='No'),\n",
       " Row(date=datetime.datetime(2008, 12, 10, 0, 0), temperaturemin=61.0, temperaturemax=70.0, precipitation=0.07, snowfall=0.0, snowdepth=0.0, avgwindspeed=10.51, fastest2minwinddir=170, fastest2minwindspeed=17.9, fastest5secwinddir=170, fastest5secwindspeed=21.92, fog='Yes', fogheavy='No', mist='Yes', rain='Yes', fogground='No', ice='No', glaze='No', drizzle='Yes', snow='No', freezingrain='No', smokehaze='No', thunder='No', highwind='No', hail='Yes', blowingsnow='No', dust='No', freezingfog='No'),\n",
       " Row(date=datetime.datetime(2008, 12, 17, 0, 0), temperaturemin=44.1, temperaturemax=57.9, precipitation=0.0, snowfall=0.0, snowdepth=0.0, avgwindspeed=4.47, fastest2minwinddir=230, fastest2minwindspeed=14.09, fastest5secwinddir=240, fastest5secwindspeed=14.99, fog='Yes', fogheavy='Yes', mist='Yes', rain='Yes', fogground='No', ice='No', glaze='No', drizzle='No', snow='No', freezingrain='No', smokehaze='No', thunder='No', highwind='No', hail='No', blowingsnow='No', dust='No', freezingfog='No'),\n",
       " Row(date=datetime.datetime(2008, 12, 23, 0, 0), temperaturemin=21.9, temperaturemax=44.1, precipitation=0.0, snowfall=0.0, snowdepth=0.0, avgwindspeed=4.7, fastest2minwinddir=180, fastest2minwindspeed=14.99, fastest5secwinddir=170, fastest5secwindspeed=17.0, fog='No', fogheavy='No', mist='No', rain='No', fogground='No', ice='No', glaze='No', drizzle='No', snow='No', freezingrain='No', smokehaze='No', thunder='No', highwind='No', hail='No', blowingsnow='No', dust='No', freezingfog='No'),\n",
       " Row(date=datetime.datetime(2009, 1, 19, 0, 0), temperaturemin=35.1, temperaturemax=50.0, precipitation=0.02, snowfall=0.0, snowdepth=0.0, avgwindspeed=5.82, fastest2minwinddir=20, fastest2minwindspeed=12.97, fastest5secwinddir=30, fastest5secwindspeed=16.11, fog='Yes', fogheavy='Yes', mist='No', rain='Yes', fogground='No', ice='No', glaze='No', drizzle='No', snow='Yes', freezingrain='No', smokehaze='No', thunder='No', highwind='No', hail='Yes', blowingsnow='Yes', dust='No', freezingfog='No'),\n",
       " Row(date=datetime.datetime(2009, 1, 20, 0, 0), temperaturemin=23.0, temperaturemax=35.1, precipitation=0.19, snowfall=3.5, snowdepth=2.01, avgwindspeed=6.71, fastest2minwinddir=30, fastest2minwindspeed=19.91, fastest5secwinddir=30, fastest5secwindspeed=25.95, fog='Yes', fogheavy='No', mist='Yes', rain='Yes', fogground='No', ice='No', glaze='No', drizzle='No', snow='Yes', freezingrain='No', smokehaze='No', thunder='No', highwind='No', hail='No', blowingsnow='No', dust='No', freezingfog='No'),\n",
       " Row(date=datetime.datetime(2009, 1, 21, 0, 0), temperaturemin=12.9, temperaturemax=35.1, precipitation=0.0, snowfall=0.0, snowdepth=2.01, avgwindspeed=4.7, fastest2minwinddir=240, fastest2minwindspeed=12.97, fastest5secwinddir=270, fastest5secwindspeed=17.0, fog='No', fogheavy='No', mist='No', rain='No', fogground='No', ice='No', glaze='No', drizzle='No', snow='No', freezingrain='No', smokehaze='Yes', thunder='No', highwind='No', hail='No', blowingsnow='No', dust='No', freezingfog='No'),\n",
       " Row(date=datetime.datetime(2009, 1, 22, 0, 0), temperaturemin=21.9, temperaturemax=48.9, precipitation=0.0, snowfall=0.0, snowdepth=0.0, avgwindspeed=5.82, fastest2minwinddir=230, fastest2minwindspeed=14.09, fastest5secwinddir=220, fastest5secwindspeed=14.99, fog='No', fogheavy='No', mist='No', rain='No', fogground='No', ice='No', glaze='No', drizzle='No', snow='No', freezingrain='No', smokehaze='No', thunder='No', highwind='No', hail='No', blowingsnow='No', dust='No', freezingfog='No'),\n",
       " Row(date=datetime.datetime(2009, 2, 1, 0, 0), temperaturemin=32.0, temperaturemax=62.1, precipitation=0.0, snowfall=0.0, snowdepth=0.0, avgwindspeed=11.86, fastest2minwinddir=220, fastest2minwindspeed=25.05, fastest5secwinddir=240, fastest5secwindspeed=29.08, fog='No', fogheavy='No', mist='No', rain='No', fogground='No', ice='No', glaze='No', drizzle='No', snow='No', freezingrain='No', smokehaze='No', thunder='No', highwind='No', hail='No', blowingsnow='No', dust='No', freezingfog='No'),\n",
       " Row(date=datetime.datetime(2009, 2, 12, 0, 0), temperaturemin=51.1, temperaturemax=69.1, precipitation=0.0, snowfall=0.0, snowdepth=0.0, avgwindspeed=11.86, fastest2minwinddir=270, fastest2minwindspeed=23.94, fastest5secwinddir=260, fastest5secwindspeed=36.91, fog='No', fogheavy='No', mist='No', rain='No', fogground='No', ice='No', glaze='No', drizzle='No', snow='No', freezingrain='No', smokehaze='No', thunder='No', highwind='No', hail='No', blowingsnow='No', dust='No', freezingfog='No'),\n",
       " Row(date=datetime.datetime(2009, 2, 13, 0, 0), temperaturemin=41.0, temperaturemax=68.0, precipitation=0.0, snowfall=0.0, snowdepth=0.0, avgwindspeed=6.93, fastest2minwinddir=290, fastest2minwindspeed=21.92, fastest5secwinddir=320, fastest5secwindspeed=29.08, fog='No', fogheavy='No', mist='No', rain='No', fogground='No', ice='No', glaze='No', drizzle='No', snow='No', freezingrain='No', smokehaze='No', thunder='No', highwind='No', hail='No', blowingsnow='No', dust='No', freezingfog='No'),\n",
       " Row(date=datetime.datetime(2009, 2, 16, 0, 0), temperaturemin=30.9, temperaturemax=46.0, precipitation=0.0, snowfall=0.0, snowdepth=0.0, avgwindspeed=7.38, fastest2minwinddir=60, fastest2minwindspeed=16.11, fastest5secwinddir=50, fastest5secwindspeed=21.03, fog='No', fogheavy='No', mist='No', rain='Yes', fogground='No', ice='No', glaze='No', drizzle='No', snow='Yes', freezingrain='No', smokehaze='No', thunder='No', highwind='No', hail='Yes', blowingsnow='No', dust='No', freezingfog='No'),\n",
       " Row(date=datetime.datetime(2009, 2, 18, 0, 0), temperaturemin=39.9, temperaturemax=57.0, precipitation=0.59, snowfall=0.0, snowdepth=0.0, avgwindspeed=10.74, fastest2minwinddir=220, fastest2minwindspeed=17.0, fastest5secwinddir=210, fastest5secwindspeed=23.04, fog='Yes', fogheavy='No', mist='Yes', rain='Yes', fogground='No', ice='No', glaze='No', drizzle='Yes', snow='No', freezingrain='No', smokehaze='No', thunder='No', highwind='No', hail='Yes', blowingsnow='No', dust='No', freezingfog='No'),\n",
       " Row(date=datetime.datetime(2009, 2, 25, 0, 0), temperaturemin=25.0, temperaturemax=55.9, precipitation=0.0, snowfall=0.0, snowdepth=0.0, avgwindspeed=3.8, fastest2minwinddir=200, fastest2minwindspeed=12.08, fastest5secwinddir=210, fastest5secwindspeed=17.0, fog='No', fogheavy='No', mist='No', rain='No', fogground='No', ice='No', glaze='No', drizzle='No', snow='No', freezingrain='No', smokehaze='No', thunder='No', highwind='No', hail='No', blowingsnow='No', dust='No', freezingfog='No'),\n",
       " Row(date=datetime.datetime(2009, 3, 5, 0, 0), temperaturemin=28.9, temperaturemax=61.0, precipitation=0.0, snowfall=0.0, snowdepth=0.0, avgwindspeed=8.28, fastest2minwinddir=220, fastest2minwindspeed=17.0, fastest5secwinddir=230, fastest5secwindspeed=21.03, fog='No', fogheavy='No', mist='No', rain='No', fogground='No', ice='No', glaze='No', drizzle='No', snow='No', freezingrain='No', smokehaze='No', thunder='No', highwind='No', hail='No', blowingsnow='No', dust='No', freezingfog='No'),\n",
       " Row(date=datetime.datetime(2009, 3, 9, 0, 0), temperaturemin=55.0, temperaturemax=84.0, precipitation=0.0, snowfall=0.0, snowdepth=0.0, avgwindspeed=8.72, fastest2minwinddir=270, fastest2minwindspeed=19.91, fastest5secwinddir=270, fastest5secwindspeed=29.08, fog='No', fogheavy='No', mist='No', rain='No', fogground='No', ice='No', glaze='No', drizzle='No', snow='No', freezingrain='No', smokehaze='No', thunder='No', highwind='No', hail='No', blowingsnow='No', dust='No', freezingfog='No'),\n",
       " Row(date=datetime.datetime(2009, 3, 20, 0, 0), temperaturemin=41.0, temperaturemax=60.1, precipitation=0.0, snowfall=0.0, snowdepth=0.0, avgwindspeed=6.93, fastest2minwinddir=40, fastest2minwindspeed=14.09, fastest5secwinddir=40, fastest5secwindspeed=19.91, fog='Yes', fogheavy='No', mist='Yes', rain='No', fogground='No', ice='No', glaze='No', drizzle='No', snow='No', freezingrain='No', smokehaze='No', thunder='No', highwind='No', hail='No', blowingsnow='No', dust='No', freezingfog='No'),\n",
       " Row(date=datetime.datetime(2009, 4, 1, 0, 0), temperaturemin=53.1, temperaturemax=70.0, precipitation=0.01, snowfall=0.0, snowdepth=0.0, avgwindspeed=6.49, fastest2minwinddir=180, fastest2minwindspeed=14.09, fastest5secwinddir=200, fastest5secwindspeed=17.0, fog='No', fogheavy='No', mist='No', rain='Yes', fogground='No', ice='No', glaze='No', drizzle='No', snow='No', freezingrain='No', smokehaze='No', thunder='No', highwind='No', hail='Yes', blowingsnow='No', dust='No', freezingfog='No'),\n",
       " Row(date=datetime.datetime(2009, 4, 3, 0, 0), temperaturemin=55.0, temperaturemax=78.1, precipitation=0.06, snowfall=0.0, snowdepth=0.0, avgwindspeed=15.21, fastest2minwinddir=230, fastest2minwindspeed=34.9, fastest5secwinddir=230, fastest5secwindspeed=42.95, fog='Yes', fogheavy='No', mist='Yes', rain='Yes', fogground='No', ice='No', glaze='No', drizzle='Yes', snow='No', freezingrain='No', smokehaze='No', thunder='No', highwind='No', hail='Yes', blowingsnow='No', dust='No', freezingfog='No'),\n",
       " Row(date=datetime.datetime(2009, 4, 4, 0, 0), temperaturemin=46.9, temperaturemax=73.9, precipitation=0.0, snowfall=0.0, snowdepth=0.0, avgwindspeed=6.04, fastest2minwinddir=260, fastest2minwindspeed=16.11, fastest5secwinddir=290, fastest5secwindspeed=21.92, fog='No', fogheavy='No', mist='No', rain='No', fogground='No', ice='No', glaze='No', drizzle='No', snow='No', freezingrain='No', smokehaze='No', thunder='No', highwind='No', hail='No', blowingsnow='No', dust='No', freezingfog='No'),\n",
       " Row(date=datetime.datetime(2009, 4, 9, 0, 0), temperaturemin=43.0, temperaturemax=70.0, precipitation=0.0, snowfall=0.0, snowdepth=0.0, avgwindspeed=4.7, fastest2minwinddir=240, fastest2minwindspeed=14.99, fastest5secwinddir=240, fastest5secwindspeed=21.03, fog='No', fogheavy='No', mist='No', rain='No', fogground='No', ice='No', glaze='No', drizzle='No', snow='No', freezingrain='No', smokehaze='No', thunder='No', highwind='No', hail='No', blowingsnow='No', dust='No', freezingfog='No'),\n",
       " Row(date=datetime.datetime(2009, 4, 16, 0, 0), temperaturemin=43.0, temperaturemax=68.0, precipitation=0.0, snowfall=0.0, snowdepth=0.0, avgwindspeed=9.4, fastest2minwinddir=40, fastest2minwindspeed=19.91, fastest5secwinddir=40, fastest5secwindspeed=23.94, fog='No', fogheavy='No', mist='No', rain='No', fogground='No', ice='No', glaze='No', drizzle='No', snow='No', freezingrain='No', smokehaze='No', thunder='No', highwind='No', hail='No', blowingsnow='No', dust='No', freezingfog='No'),\n",
       " Row(date=datetime.datetime(2009, 4, 19, 0, 0), temperaturemin=53.1, temperaturemax=73.0, precipitation=0.0, snowfall=0.0, snowdepth=0.0, avgwindspeed=8.5, fastest2minwinddir=230, fastest2minwindspeed=21.03, fastest5secwinddir=240, fastest5secwindspeed=25.05, fog='No', fogheavy='No', mist='No', rain='Yes', fogground='No', ice='No', glaze='No', drizzle='No', snow='No', freezingrain='No', smokehaze='No', thunder='No', highwind='No', hail='Yes', blowingsnow='No', dust='No', freezingfog='No'),\n",
       " Row(date=datetime.datetime(2009, 4, 22, 0, 0), temperaturemin=46.9, temperaturemax=64.9, precipitation=0.0, snowfall=0.0, snowdepth=0.0, avgwindspeed=8.28, fastest2minwinddir=300, fastest2minwindspeed=29.08, fastest5secwinddir=300, fastest5secwindspeed=36.91, fog='No', fogheavy='No', mist='No', rain='No', fogground='No', ice='No', glaze='No', drizzle='No', snow='No', freezingrain='No', smokehaze='No', thunder='No', highwind='No', hail='No', blowingsnow='No', dust='No', freezingfog='No'),\n",
       " Row(date=datetime.datetime(2009, 5, 6, 0, 0), temperaturemin=61.0, temperaturemax=82.9, precipitation=0.17, snowfall=0.0, snowdepth=0.0, avgwindspeed=6.93, fastest2minwinddir=230, fastest2minwindspeed=21.03, fastest5secwinddir=220, fastest5secwindspeed=23.94, fog='Yes', fogheavy='Yes', mist='No', rain='No', fogground='No', ice='No', glaze='No', drizzle='No', snow='No', freezingrain='No', smokehaze='Yes', thunder='Yes', highwind='No', hail='Yes', blowingsnow='Yes', dust='No', freezingfog='No'),\n",
       " Row(date=datetime.datetime(2009, 5, 8, 0, 0), temperaturemin=62.1, temperaturemax=82.0, precipitation=0.0, snowfall=0.0, snowdepth=0.0, avgwindspeed=7.38, fastest2minwinddir=230, fastest2minwindspeed=19.91, fastest5secwinddir=220, fastest5secwindspeed=23.04, fog='Yes', fogheavy='No', mist='Yes', rain='Yes', fogground='No', ice='No', glaze='No', drizzle='No', snow='No', freezingrain='No', smokehaze='No', thunder='No', highwind='No', hail='No', blowingsnow='No', dust='No', freezingfog='No'),\n",
       " Row(date=datetime.datetime(2009, 5, 9, 0, 0), temperaturemin=66.9, temperaturemax=90.0, precipitation=0.08, snowfall=0.0, snowdepth=0.0, avgwindspeed=12.08, fastest2minwinddir=270, fastest2minwindspeed=31.09, fastest5secwinddir=270, fastest5secwindspeed=44.07, fog='Yes', fogheavy='No', mist='No', rain='Yes', fogground='No', ice='No', glaze='No', drizzle='No', snow='No', freezingrain='No', smokehaze='No', thunder='Yes', highwind='No', hail='No', blowingsnow='No', dust='No', freezingfog='No'),\n",
       " Row(date=datetime.datetime(2009, 5, 13, 0, 0), temperaturemin=55.0, temperaturemax=75.0, precipitation=0.0, snowfall=0.0, snowdepth=0.0, avgwindspeed=7.61, fastest2minwinddir=100, fastest2minwindspeed=17.0, fastest5secwinddir=120, fastest5secwindspeed=25.95, fog='No', fogheavy='No', mist='No', rain='No', fogground='No', ice='No', glaze='No', drizzle='No', snow='No', freezingrain='No', smokehaze='No', thunder='No', highwind='No', hail='No', blowingsnow='No', dust='No', freezingfog='No'),\n",
       " Row(date=datetime.datetime(2009, 5, 15, 0, 0), temperaturemin=69.1, temperaturemax=84.9, precipitation=0.0, snowfall=0.0, snowdepth=0.0, avgwindspeed=6.04, fastest2minwinddir=150, fastest2minwindspeed=12.97, fastest5secwinddir=210, fastest5secwindspeed=14.99, fog='No', fogheavy='No', mist='No', rain='No', fogground='No', ice='No', glaze='No', drizzle='No', snow='No', freezingrain='No', smokehaze='No', thunder='No', highwind='No', hail='No', blowingsnow='No', dust='No', freezingfog='No'),\n",
       " Row(date=datetime.datetime(2009, 5, 17, 0, 0), temperaturemin=52.0, temperaturemax=73.0, precipitation=0.29, snowfall=0.0, snowdepth=0.0, avgwindspeed=8.95, fastest2minwinddir=30, fastest2minwindspeed=17.9, fastest5secwinddir=40, fastest5secwindspeed=25.05, fog='Yes', fogheavy='No', mist='Yes', rain='Yes', fogground='No', ice='No', glaze='No', drizzle='No', snow='No', freezingrain='No', smokehaze='No', thunder='No', highwind='No', hail='Yes', blowingsnow='No', dust='No', freezingfog='No'),\n",
       " Row(date=datetime.datetime(2009, 5, 18, 0, 0), temperaturemin=48.9, temperaturemax=66.9, precipitation=0.06, snowfall=0.0, snowdepth=0.0, avgwindspeed=9.62, fastest2minwinddir=40, fastest2minwindspeed=21.92, fastest5secwinddir=40, fastest5secwindspeed=29.08, fog='No', fogheavy='No', mist='No', rain='Yes', fogground='No', ice='No', glaze='No', drizzle='No', snow='No', freezingrain='No', smokehaze='No', thunder='No', highwind='No', hail='Yes', blowingsnow='No', dust='No', freezingfog='No'),\n",
       " Row(date=datetime.datetime(2009, 5, 20, 0, 0), temperaturemin=44.1, temperaturemax=79.0, precipitation=0.0, snowfall=0.0, snowdepth=0.0, avgwindspeed=7.61, fastest2minwinddir=100, fastest2minwindspeed=14.09, fastest5secwinddir=100, fastest5secwindspeed=23.04, fog='No', fogheavy='No', mist='No', rain='No', fogground='No', ice='No', glaze='No', drizzle='No', snow='No', freezingrain='No', smokehaze='No', thunder='No', highwind='No', hail='No', blowingsnow='No', dust='No', freezingfog='No'),\n",
       " Row(date=datetime.datetime(2009, 5, 22, 0, 0), temperaturemin=57.9, temperaturemax=87.1, precipitation=0.0, snowfall=0.0, snowdepth=0.0, avgwindspeed=3.8, fastest2minwinddir=150, fastest2minwindspeed=10.07, fastest5secwinddir=150, fastest5secwindspeed=14.09, fog='No', fogheavy='No', mist='No', rain='No', fogground='No', ice='No', glaze='No', drizzle='No', snow='No', freezingrain='No', smokehaze='No', thunder='No', highwind='No', hail='No', blowingsnow='No', dust='No', freezingfog='No'),\n",
       " Row(date=datetime.datetime(2009, 6, 4, 0, 0), temperaturemin=68.0, temperaturemax=90.0, precipitation=0.76, snowfall=0.0, snowdepth=0.0, avgwindspeed=7.38, fastest2minwinddir=210, fastest2minwindspeed=17.0, fastest5secwinddir=230, fastest5secwindspeed=21.03, fog='Yes', fogheavy='No', mist='Yes', rain='Yes', fogground='No', ice='No', glaze='No', drizzle='No', snow='No', freezingrain='No', smokehaze='No', thunder='No', highwind='No', hail='Yes', blowingsnow='No', dust='No', freezingfog='No'),\n",
       " Row(date=datetime.datetime(2009, 6, 7, 0, 0), temperaturemin=62.1, temperaturemax=86.0, precipitation=0.0, snowfall=0.0, snowdepth=0.0, avgwindspeed=3.13, fastest2minwinddir=140, fastest2minwindspeed=8.95, fastest5secwinddir=140, fastest5secwindspeed=12.08, fog='Yes', fogheavy='No', mist='Yes', rain='No', fogground='No', ice='No', glaze='No', drizzle='No', snow='No', freezingrain='No', smokehaze='Yes', thunder='No', highwind='No', hail='No', blowingsnow='No', dust='Yes', freezingfog='No'),\n",
       " Row(date=datetime.datetime(2009, 6, 9, 0, 0), temperaturemin=66.0, temperaturemax=93.9, precipitation=0.82, snowfall=0.0, snowdepth=0.0, avgwindspeed=7.16, fastest2minwinddir=40, fastest2minwindspeed=23.04, fastest5secwinddir=40, fastest5secwindspeed=29.08, fog='Yes', fogheavy='No', mist='Yes', rain='Yes', fogground='No', ice='No', glaze='No', drizzle='No', snow='No', freezingrain='No', smokehaze='Yes', thunder='Yes', highwind='No', hail='Yes', blowingsnow='No', dust='No', freezingfog='No'),\n",
       " Row(date=datetime.datetime(2009, 6, 10, 0, 0), temperaturemin=64.9, temperaturemax=84.9, precipitation=0.07, snowfall=0.0, snowdepth=0.0, avgwindspeed=4.7, fastest2minwinddir=160, fastest2minwindspeed=12.97, fastest5secwinddir=140, fastest5secwindspeed=19.91, fog='Yes', fogheavy='No', mist='Yes', rain='Yes', fogground='No', ice='No', glaze='No', drizzle='No', snow='No', freezingrain='No', smokehaze='No', thunder='Yes', highwind='No', hail='Yes', blowingsnow='No', dust='No', freezingfog='No'),\n",
       " Row(date=datetime.datetime(2009, 6, 27, 0, 0), temperaturemin=71.1, temperaturemax=93.9, precipitation=0.0, snowfall=0.0, snowdepth=0.0, avgwindspeed=5.59, fastest2minwinddir=40, fastest2minwindspeed=14.99, fastest5secwinddir=40, fastest5secwindspeed=17.9, fog='No', fogheavy='No', mist='No', rain='No', fogground='No', ice='No', glaze='No', drizzle='No', snow='No', freezingrain='No', smokehaze='No', thunder='No', highwind='No', hail='No', blowingsnow='No', dust='No', freezingfog='No'),\n",
       " Row(date=datetime.datetime(2009, 6, 28, 0, 0), temperaturemin=63.0, temperaturemax=91.9, precipitation=0.0, snowfall=0.0, snowdepth=0.0, avgwindspeed=4.03, fastest2minwinddir=240, fastest2minwindspeed=14.09, fastest5secwinddir=280, fastest5secwindspeed=17.9, fog='No', fogheavy='No', mist='No', rain='No', fogground='No', ice='No', glaze='No', drizzle='No', snow='No', freezingrain='No', smokehaze='No', thunder='No', highwind='No', hail='No', blowingsnow='No', dust='No', freezingfog='No'),\n",
       " Row(date=datetime.datetime(2009, 7, 7, 0, 0), temperaturemin=64.0, temperaturemax=91.0, precipitation=0.0, snowfall=0.0, snowdepth=0.0, avgwindspeed=2.68, fastest2minwinddir=50, fastest2minwindspeed=8.95, fastest5secwinddir=50, fastest5secwindspeed=8.95, fog='Yes', fogheavy='No', mist='Yes', rain='No', fogground='No', ice='No', glaze='No', drizzle='No', snow='No', freezingrain='No', smokehaze='No', thunder='No', highwind='No', hail='No', blowingsnow='No', dust='No', freezingfog='No'),\n",
       " Row(date=datetime.datetime(2009, 7, 13, 0, 0), temperaturemin=69.1, temperaturemax=82.0, precipitation=0.63, snowfall=0.0, snowdepth=0.0, avgwindspeed=3.36, fastest2minwinddir=240, fastest2minwindspeed=19.91, fastest5secwinddir=250, fastest5secwindspeed=25.95, fog='Yes', fogheavy='No', mist='No', rain='Yes', fogground='No', ice='No', glaze='No', drizzle='No', snow='No', freezingrain='No', smokehaze='Yes', thunder='Yes', highwind='No', hail='Yes', blowingsnow='No', dust='Yes', freezingfog='No'),\n",
       " Row(date=datetime.datetime(2009, 7, 14, 0, 0), temperaturemin=64.9, temperaturemax=88.0, precipitation=0.0, snowfall=0.0, snowdepth=0.0, avgwindspeed=4.7, fastest2minwinddir=50, fastest2minwindspeed=16.11, fastest5secwinddir=20, fastest5secwindspeed=23.04, fog='Yes', fogheavy='No', mist='Yes', rain='No', fogground='No', ice='No', glaze='No', drizzle='No', snow='No', freezingrain='No', smokehaze='Yes', thunder='No', highwind='No', hail='No', blowingsnow='No', dust='No', freezingfog='No'),\n",
       " Row(date=datetime.datetime(2009, 7, 15, 0, 0), temperaturemin=63.0, temperaturemax=91.9, precipitation=0.0, snowfall=0.0, snowdepth=0.0, avgwindspeed=5.59, fastest2minwinddir=220, fastest2minwindspeed=14.09, fastest5secwinddir=230, fastest5secwindspeed=19.91, fog='Yes', fogheavy='Yes', mist='Yes', rain='No', fogground='No', ice='No', glaze='No', drizzle='No', snow='No', freezingrain='No', smokehaze='Yes', thunder='No', highwind='No', hail='No', blowingsnow='Yes', dust='No', freezingfog='No'),\n",
       " Row(date=datetime.datetime(2009, 7, 27, 0, 0), temperaturemin=73.0, temperaturemax=93.9, precipitation=0.0, snowfall=0.0, snowdepth=0.0, avgwindspeed=7.83, fastest2minwinddir=240, fastest2minwindspeed=21.92, fastest5secwinddir=230, fastest5secwindspeed=29.08, fog='Yes', fogheavy='No', mist='No', rain='No', fogground='No', ice='No', glaze='No', drizzle='No', snow='No', freezingrain='No', smokehaze='No', thunder='Yes', highwind='No', hail='No', blowingsnow='No', dust='No', freezingfog='No'),\n",
       " Row(date=datetime.datetime(2009, 7, 29, 0, 0), temperaturemin=72.0, temperaturemax=91.9, precipitation=0.28, snowfall=0.0, snowdepth=0.0, avgwindspeed=10.29, fastest2minwinddir=230, fastest2minwindspeed=31.09, fastest5secwinddir=240, fastest5secwindspeed=40.04, fog='Yes', fogheavy='No', mist='No', rain='Yes', fogground='No', ice='No', glaze='No', drizzle='No', snow='No', freezingrain='No', smokehaze='No', thunder='Yes', highwind='No', hail='No', blowingsnow='No', dust='No', freezingfog='No'),\n",
       " Row(date=datetime.datetime(2009, 7, 31, 0, 0), temperaturemin=73.0, temperaturemax=93.0, precipitation=0.03, snowfall=0.0, snowdepth=0.0, avgwindspeed=12.53, fastest2minwinddir=240, fastest2minwindspeed=25.05, fastest5secwinddir=220, fastest5secwindspeed=31.99, fog='Yes', fogheavy='No', mist='No', rain='Yes', fogground='No', ice='No', glaze='No', drizzle='No', snow='No', freezingrain='No', smokehaze='No', thunder='Yes', highwind='No', hail='Yes', blowingsnow='No', dust='No', freezingfog='No'),\n",
       " Row(date=datetime.datetime(2009, 8, 1, 0, 0), temperaturemin=73.0, temperaturemax=91.9, precipitation=0.0, snowfall=0.0, snowdepth=0.0, avgwindspeed=5.82, fastest2minwinddir=220, fastest2minwindspeed=10.07, fastest5secwinddir=None, fastest5secwindspeed=None, fog='Yes', fogheavy='No', mist='Yes', rain='No', fogground='No', ice='No', glaze='No', drizzle='No', snow='No', freezingrain='No', smokehaze='No', thunder='No', highwind='No', hail='No', blowingsnow='No', dust='No', freezingfog='No'),\n",
       " Row(date=datetime.datetime(2009, 8, 5, 0, 0), temperaturemin=72.0, temperaturemax=96.1, precipitation=0.18, snowfall=0.0, snowdepth=0.0, avgwindspeed=5.82, fastest2minwinddir=230, fastest2minwindspeed=17.9, fastest5secwinddir=230, fastest5secwindspeed=23.94, fog='Yes', fogheavy='No', mist='Yes', rain='Yes', fogground='No', ice='No', glaze='No', drizzle='No', snow='No', freezingrain='No', smokehaze='No', thunder='Yes', highwind='No', hail='Yes', blowingsnow='No', dust='No', freezingfog='No'),\n",
       " Row(date=datetime.datetime(2009, 8, 8, 0, 0), temperaturemin=69.1, temperaturemax=91.0, precipitation=0.0, snowfall=0.0, snowdepth=0.0, avgwindspeed=7.61, fastest2minwinddir=240, fastest2minwindspeed=16.11, fastest5secwinddir=230, fastest5secwindspeed=21.92, fog='No', fogheavy='No', mist='No', rain='No', fogground='No', ice='No', glaze='No', drizzle='No', snow='No', freezingrain='No', smokehaze='No', thunder='No', highwind='No', hail='No', blowingsnow='No', dust='No', freezingfog='No'),\n",
       " Row(date=datetime.datetime(2009, 8, 13, 0, 0), temperaturemin=71.1, temperaturemax=81.0, precipitation=0.0, snowfall=0.0, snowdepth=0.0, avgwindspeed=2.01, fastest2minwinddir=140, fastest2minwindspeed=8.05, fastest5secwinddir=160, fastest5secwindspeed=17.0, fog='Yes', fogheavy='No', mist='Yes', rain='Yes', fogground='No', ice='No', glaze='No', drizzle='No', snow='No', freezingrain='No', smokehaze='No', thunder='No', highwind='No', hail='Yes', blowingsnow='No', dust='No', freezingfog='No'),\n",
       " Row(date=datetime.datetime(2009, 8, 15, 0, 0), temperaturemin=71.1, temperaturemax=88.0, precipitation=0.0, snowfall=0.0, snowdepth=0.0, avgwindspeed=4.03, fastest2minwinddir=40, fastest2minwindspeed=14.09, fastest5secwinddir=40, fastest5secwindspeed=16.11, fog='Yes', fogheavy='No', mist='No', rain='No', fogground='No', ice='No', glaze='No', drizzle='No', snow='No', freezingrain='No', smokehaze='No', thunder='No', highwind='No', hail='No', blowingsnow='No', dust='No', freezingfog='No'),\n",
       " Row(date=datetime.datetime(2009, 8, 20, 0, 0), temperaturemin=73.0, temperaturemax=91.9, precipitation=0.0, snowfall=0.0, snowdepth=0.0, avgwindspeed=6.71, fastest2minwinddir=220, fastest2minwindspeed=17.9, fastest5secwinddir=230, fastest5secwindspeed=23.94, fog='Yes', fogheavy='No', mist='No', rain='Yes', fogground='No', ice='No', glaze='No', drizzle='No', snow='No', freezingrain='No', smokehaze='No', thunder='Yes', highwind='No', hail='No', blowingsnow='No', dust='No', freezingfog='No'),\n",
       " Row(date=datetime.datetime(2009, 8, 23, 0, 0), temperaturemin=69.1, temperaturemax=84.9, precipitation=0.0, snowfall=0.0, snowdepth=0.0, avgwindspeed=3.36, fastest2minwinddir=90, fastest2minwindspeed=8.95, fastest5secwinddir=160, fastest5secwindspeed=14.99, fog='Yes', fogheavy='No', mist='Yes', rain='Yes', fogground='No', ice='No', glaze='No', drizzle='No', snow='No', freezingrain='No', smokehaze='No', thunder='No', highwind='No', hail='Yes', blowingsnow='No', dust='No', freezingfog='No'),\n",
       " Row(date=datetime.datetime(2009, 8, 24, 0, 0), temperaturemin=68.0, temperaturemax=87.1, precipitation=0.0, snowfall=0.0, snowdepth=0.0, avgwindspeed=3.8, fastest2minwinddir=40, fastest2minwindspeed=12.97, fastest5secwinddir=50, fastest5secwindspeed=16.11, fog='Yes', fogheavy='Yes', mist='Yes', rain='No', fogground='No', ice='No', glaze='No', drizzle='No', snow='No', freezingrain='No', smokehaze='No', thunder='No', highwind='No', hail='No', blowingsnow='No', dust='No', freezingfog='No'),\n",
       " Row(date=datetime.datetime(2009, 8, 28, 0, 0), temperaturemin=71.1, temperaturemax=90.0, precipitation=0.37, snowfall=0.0, snowdepth=0.0, avgwindspeed=4.03, fastest2minwinddir=120, fastest2minwindspeed=25.05, fastest5secwinddir=130, fastest5secwindspeed=36.01, fog='Yes', fogheavy='No', mist='Yes', rain='Yes', fogground='No', ice='No', glaze='No', drizzle='No', snow='No', freezingrain='No', smokehaze='No', thunder='Yes', highwind='No', hail='Yes', blowingsnow='No', dust='No', freezingfog='No'),\n",
       " Row(date=datetime.datetime(2009, 9, 7, 0, 0), temperaturemin=63.0, temperaturemax=79.0, precipitation=0.57, snowfall=0.0, snowdepth=0.0, avgwindspeed=7.38, fastest2minwinddir=50, fastest2minwindspeed=17.9, fastest5secwinddir=40, fastest5secwindspeed=21.92, fog='Yes', fogheavy='No', mist='Yes', rain='Yes', fogground='No', ice='No', glaze='No', drizzle='Yes', snow='No', freezingrain='No', smokehaze='Yes', thunder='No', highwind='No', hail='Yes', blowingsnow='No', dust='No', freezingfog='No'),\n",
       " Row(date=datetime.datetime(2009, 9, 13, 0, 0), temperaturemin=59.0, temperaturemax=82.0, precipitation=0.0, snowfall=0.0, snowdepth=0.0, avgwindspeed=4.25, fastest2minwinddir=50, fastest2minwindspeed=12.97, fastest5secwinddir=10, fastest5secwindspeed=21.92, fog='Yes', fogheavy='No', mist='Yes', rain='No', fogground='No', ice='No', glaze='No', drizzle='No', snow='No', freezingrain='No', smokehaze='No', thunder='No', highwind='No', hail='No', blowingsnow='No', dust='No', freezingfog='No'),\n",
       " Row(date=datetime.datetime(2009, 9, 15, 0, 0), temperaturemin=62.1, temperaturemax=91.0, precipitation=0.0, snowfall=0.0, snowdepth=0.0, avgwindspeed=4.03, fastest2minwinddir=240, fastest2minwindspeed=12.08, fastest5secwinddir=240, fastest5secwindspeed=17.0, fog='No', fogheavy='No', mist='No', rain='No', fogground='No', ice='No', glaze='No', drizzle='No', snow='No', freezingrain='No', smokehaze='No', thunder='No', highwind='No', hail='No', blowingsnow='No', dust='No', freezingfog='No'),\n",
       " Row(date=datetime.datetime(2009, 10, 6, 0, 0), temperaturemin=60.1, temperaturemax=66.0, precipitation=0.02, snowfall=0.0, snowdepth=0.0, avgwindspeed=3.8, fastest2minwinddir=240, fastest2minwindspeed=14.09, fastest5secwinddir=230, fastest5secwindspeed=17.9, fog='Yes', fogheavy='No', mist='Yes', rain='Yes', fogground='No', ice='No', glaze='No', drizzle='Yes', snow='No', freezingrain='No', smokehaze='Yes', thunder='No', highwind='No', hail='No', blowingsnow='No', dust='No', freezingfog='No'),\n",
       " Row(date=datetime.datetime(2009, 10, 9, 0, 0), temperaturemin=55.9, temperaturemax=82.9, precipitation=0.0, snowfall=0.0, snowdepth=0.0, avgwindspeed=10.29, fastest2minwinddir=220, fastest2minwindspeed=17.9, fastest5secwinddir=210, fastest5secwindspeed=23.94, fog='No', fogheavy='No', mist='No', rain='No', fogground='No', ice='No', glaze='No', drizzle='No', snow='No', freezingrain='No', smokehaze='No', thunder='No', highwind='No', hail='No', blowingsnow='No', dust='No', freezingfog='No'),\n",
       " Row(date=datetime.datetime(2009, 10, 12, 0, 0), temperaturemin=53.1, temperaturemax=60.1, precipitation=0.19, snowfall=0.0, snowdepth=0.0, avgwindspeed=5.14, fastest2minwinddir=150, fastest2minwindspeed=10.07, fastest5secwinddir=340, fastest5secwindspeed=14.99, fog='Yes', fogheavy='Yes', mist='Yes', rain='Yes', fogground='No', ice='No', glaze='No', drizzle='No', snow='No', freezingrain='No', smokehaze='No', thunder='No', highwind='No', hail='Yes', blowingsnow='Yes', dust='No', freezingfog='No'),\n",
       " Row(date=datetime.datetime(2009, 10, 19, 0, 0), temperaturemin=34.0, temperaturemax=61.0, precipitation=0.0, snowfall=0.0, snowdepth=0.0, avgwindspeed=2.01, fastest2minwinddir=30, fastest2minwindspeed=12.97, fastest5secwinddir=80, fastest5secwindspeed=14.99, fog='No', fogheavy='No', mist='No', rain='No', fogground='No', ice='No', glaze='No', drizzle='No', snow='No', freezingrain='No', smokehaze='No', thunder='No', highwind='No', hail='No', blowingsnow='No', dust='No', freezingfog='No'),\n",
       " Row(date=datetime.datetime(2009, 10, 26, 0, 0), temperaturemin=44.1, temperaturemax=64.0, precipitation=0.06, snowfall=0.0, snowdepth=0.0, avgwindspeed=5.82, fastest2minwinddir=40, fastest2minwindspeed=14.09, fastest5secwinddir=50, fastest5secwindspeed=17.0, fog='Yes', fogheavy='No', mist='Yes', rain='Yes', fogground='No', ice='No', glaze='No', drizzle='Yes', snow='No', freezingrain='No', smokehaze='No', thunder='No', highwind='No', hail='Yes', blowingsnow='No', dust='No', freezingfog='No'),\n",
       " Row(date=datetime.datetime(2009, 10, 27, 0, 0), temperaturemin=54.0, temperaturemax=62.1, precipitation=0.12, snowfall=0.0, snowdepth=0.0, avgwindspeed=4.25, fastest2minwinddir=170, fastest2minwindspeed=16.11, fastest5secwinddir=140, fastest5secwindspeed=23.94, fog='Yes', fogheavy='No', mist='Yes', rain='Yes', fogground='No', ice='No', glaze='No', drizzle='Yes', snow='No', freezingrain='No', smokehaze='No', thunder='No', highwind='No', hail='Yes', blowingsnow='No', dust='No', freezingfog='No'),\n",
       " Row(date=datetime.datetime(2009, 11, 3, 0, 0), temperaturemin=37.9, temperaturemax=71.1, precipitation=0.0, snowfall=0.0, snowdepth=0.0, avgwindspeed=2.01, fastest2minwinddir=20, fastest2minwindspeed=8.05, fastest5secwinddir=290, fastest5secwindspeed=14.09, fog='Yes', fogheavy='No', mist='Yes', rain='No', fogground='No', ice='No', glaze='No', drizzle='No', snow='No', freezingrain='No', smokehaze='No', thunder='No', highwind='No', hail='No', blowingsnow='No', dust='No', freezingfog='No'),\n",
       " Row(date=datetime.datetime(2009, 11, 5, 0, 0), temperaturemin=37.9, temperaturemax=64.9, precipitation=0.0, snowfall=0.0, snowdepth=0.0, avgwindspeed=2.91, fastest2minwinddir=270, fastest2minwindspeed=14.99, fastest5secwinddir=280, fastest5secwindspeed=23.04, fog='Yes', fogheavy='No', mist='Yes', rain='No', fogground='No', ice='No', glaze='No', drizzle='No', snow='No', freezingrain='No', smokehaze='No', thunder='No', highwind='No', hail='No', blowingsnow='No', dust='No', freezingfog='No'),\n",
       " Row(date=datetime.datetime(2009, 11, 18, 0, 0), temperaturemin=52.0, temperaturemax=62.1, precipitation=0.45, snowfall=0.0, snowdepth=0.0, avgwindspeed=8.28, fastest2minwinddir=40, fastest2minwindspeed=16.11, fastest5secwinddir=50, fastest5secwindspeed=21.03, fog='Yes', fogheavy='No', mist='Yes', rain='Yes', fogground='No', ice='No', glaze='No', drizzle='Yes', snow='No', freezingrain='No', smokehaze='No', thunder='No', highwind='No', hail='Yes', blowingsnow='No', dust='No', freezingfog='No'),\n",
       " Row(date=datetime.datetime(2009, 11, 20, 0, 0), temperaturemin=42.1, temperaturemax=63.0, precipitation=0.0, snowfall=0.0, snowdepth=0.0, avgwindspeed=3.58, fastest2minwinddir=40, fastest2minwindspeed=14.99, fastest5secwinddir=40, fastest5secwindspeed=23.04, fog='Yes', fogheavy='No', mist='Yes', rain='No', fogground='No', ice='No', glaze='No', drizzle='No', snow='No', freezingrain='No', smokehaze='No', thunder='No', highwind='No', hail='No', blowingsnow='No', dust='No', freezingfog='No'),\n",
       " Row(date=datetime.datetime(2009, 11, 27, 0, 0), temperaturemin=36.0, temperaturemax=54.0, precipitation=0.0, snowfall=0.0, snowdepth=0.0, avgwindspeed=7.38, fastest2minwinddir=250, fastest2minwindspeed=21.03, fastest5secwinddir=270, fastest5secwindspeed=31.09, fog='No', fogheavy='No', mist='No', rain='Yes', fogground='No', ice='No', glaze='No', drizzle='No', snow='No', freezingrain='No', smokehaze='No', thunder='No', highwind='No', hail='No', blowingsnow='No', dust='No', freezingfog='No'),\n",
       " Row(date=datetime.datetime(2009, 12, 1, 0, 0), temperaturemin=30.0, temperaturemax=55.9, precipitation=0.0, snowfall=0.0, snowdepth=0.0, avgwindspeed=2.01, fastest2minwinddir=240, fastest2minwindspeed=8.05, fastest5secwinddir=230, fastest5secwindspeed=12.08, fog='No', fogheavy='No', mist='No', rain='No', fogground='No', ice='No', glaze='No', drizzle='No', snow='No', freezingrain='No', smokehaze='No', thunder='No', highwind='No', hail='No', blowingsnow='No', dust='No', freezingfog='No'),\n",
       " Row(date=datetime.datetime(2009, 12, 6, 0, 0), temperaturemin=28.0, temperaturemax=44.1, precipitation=0.0, snowfall=0.0, snowdepth=0.0, avgwindspeed=2.01, fastest2minwinddir=50, fastest2minwindspeed=12.97, fastest5secwinddir=30, fastest5secwindspeed=14.99, fog='Yes', fogheavy='No', mist='Yes', rain='No', fogground='No', ice='No', glaze='No', drizzle='No', snow='No', freezingrain='No', smokehaze='No', thunder='No', highwind='No', hail='No', blowingsnow='No', dust='No', freezingfog='No'),\n",
       " Row(date=datetime.datetime(2009, 12, 14, 0, 0), temperaturemin=37.9, temperaturemax=50.0, precipitation=0.0, snowfall=0.0, snowdepth=0.0, avgwindspeed=5.14, fastest2minwinddir=210, fastest2minwindspeed=12.08, fastest5secwinddir=210, fastest5secwindspeed=14.99, fog='Yes', fogheavy='Yes', mist='Yes', rain='No', fogground='No', ice='No', glaze='No', drizzle='Yes', snow='No', freezingrain='No', smokehaze='No', thunder='No', highwind='No', hail='No', blowingsnow='Yes', dust='No', freezingfog='No'),\n",
       " Row(date=datetime.datetime(2009, 12, 22, 0, 0), temperaturemin=24.1, temperaturemax=48.9, precipitation=0.0, snowfall=0.0, snowdepth=0.0, avgwindspeed=0.45, fastest2minwinddir=40, fastest2minwindspeed=8.95, fastest5secwinddir=30, fastest5secwindspeed=12.97, fog='Yes', fogheavy='No', mist='No', rain='No', fogground='No', ice='No', glaze='No', drizzle='No', snow='No', freezingrain='No', smokehaze='No', thunder='No', highwind='No', hail='No', blowingsnow='No', dust='No', freezingfog='No'),\n",
       " Row(date=datetime.datetime(2009, 12, 24, 0, 0), temperaturemin=27.0, temperaturemax=48.0, precipitation=0.0, snowfall=0.0, snowdepth=0.0, avgwindspeed=5.82, fastest2minwinddir=90, fastest2minwindspeed=17.0, fastest5secwinddir=90, fastest5secwindspeed=25.95, fog='Yes', fogheavy='No', mist='No', rain='No', fogground='No', ice='No', glaze='No', drizzle='No', snow='No', freezingrain='No', smokehaze='No', thunder='No', highwind='No', hail='No', blowingsnow='No', dust='No', freezingfog='No'),\n",
       " Row(date=datetime.datetime(2009, 12, 26, 0, 0), temperaturemin=39.0, temperaturemax=53.1, precipitation=0.0, snowfall=0.0, snowdepth=0.0, avgwindspeed=6.71, fastest2minwinddir=320, fastest2minwindspeed=10.07, fastest5secwinddir=320, fastest5secwindspeed=10.07, fog='Yes', fogheavy='Yes', mist='Yes', rain='No', fogground='No', ice='No', glaze='No', drizzle='Yes', snow='No', freezingrain='No', smokehaze='No', thunder='No', highwind='No', hail='No', blowingsnow='No', dust='No', freezingfog='No'),\n",
       " Row(date=datetime.datetime(2009, 12, 29, 0, 0), temperaturemin=24.1, temperaturemax=42.1, precipitation=0.0, snowfall=0.0, snowdepth=0.0, avgwindspeed=6.26, fastest2minwinddir=300, fastest2minwindspeed=14.99, fastest5secwinddir=320, fastest5secwindspeed=23.94, fog='No', fogheavy='No', mist='No', rain='No', fogground='No', ice='No', glaze='No', drizzle='No', snow='No', freezingrain='No', smokehaze='No', thunder='No', highwind='No', hail='No', blowingsnow='No', dust='No', freezingfog='No'),\n",
       " Row(date=datetime.datetime(2010, 1, 21, 0, 0), temperaturemin=37.0, temperaturemax=41.0, precipitation=0.65, snowfall=0.0, snowdepth=0.0, avgwindspeed=9.84, fastest2minwinddir=60, fastest2minwindspeed=17.0, fastest5secwinddir=40, fastest5secwindspeed=21.92, fog='Yes', fogheavy='No', mist='Yes', rain='Yes', fogground='No', ice='No', glaze='No', drizzle='Yes', snow='No', freezingrain='No', smokehaze='No', thunder='No', highwind='No', hail='Yes', blowingsnow='No', dust='No', freezingfog='No'),\n",
       " Row(date=datetime.datetime(2010, 1, 23, 0, 0), temperaturemin=30.0, temperaturemax=50.0, precipitation=0.0, snowfall=0.0, snowdepth=0.0, avgwindspeed=4.7, fastest2minwinddir=100, fastest2minwindspeed=12.08, fastest5secwinddir=100, fastest5secwindspeed=17.9, fog='Yes', fogheavy='No', mist='Yes', rain='No', fogground='No', ice='No', glaze='No', drizzle='Yes', snow='No', freezingrain='No', smokehaze='No', thunder='No', highwind='No', hail='No', blowingsnow='No', dust='No', freezingfog='No'),\n",
       " Row(date=datetime.datetime(2010, 2, 5, 0, 0), temperaturemin=33.1, temperaturemax=42.1, precipitation=1.37, snowfall=0.0, snowdepth=0.0, avgwindspeed=11.41, fastest2minwinddir=100, fastest2minwindspeed=25.95, fastest5secwinddir=100, fastest5secwindspeed=34.9, fog='Yes', fogheavy='No', mist='No', rain='Yes', fogground='No', ice='Yes', glaze='No', drizzle='Yes', snow='Yes', freezingrain='No', smokehaze='No', thunder='Yes', highwind='No', hail='Yes', blowingsnow='No', dust='No', freezingfog='No'),\n",
       " Row(date=datetime.datetime(2010, 2, 11, 0, 0), temperaturemin=30.0, temperaturemax=45.0, precipitation=0.0, snowfall=0.0, snowdepth=0.0, avgwindspeed=8.28, fastest2minwinddir=290, fastest2minwindspeed=16.11, fastest5secwinddir=290, fastest5secwindspeed=25.95, fog='No', fogheavy='No', mist='No', rain='No', fogground='No', ice='No', glaze='No', drizzle='No', snow='No', freezingrain='No', smokehaze='No', thunder='No', highwind='No', hail='No', blowingsnow='No', dust='No', freezingfog='No'),\n",
       " Row(date=datetime.datetime(2010, 2, 17, 0, 0), temperaturemin=25.0, temperaturemax=43.0, precipitation=0.0, snowfall=0.0, snowdepth=0.0, avgwindspeed=7.16, fastest2minwinddir=300, fastest2minwindspeed=17.0, fastest5secwinddir=290, fastest5secwindspeed=25.05, fog='No', fogheavy='No', mist='No', rain='No', fogground='No', ice='No', glaze='No', drizzle='No', snow='No', freezingrain='No', smokehaze='No', thunder='No', highwind='No', hail='No', blowingsnow='No', dust='No', freezingfog='No'),\n",
       " Row(date=datetime.datetime(2010, 3, 18, 0, 0), temperaturemin=45.0, temperaturemax=68.0, precipitation=0.0, snowfall=0.0, snowdepth=0.0, avgwindspeed=2.01, fastest2minwinddir=30, fastest2minwindspeed=14.09, fastest5secwinddir=20, fastest5secwindspeed=17.0, fog='No', fogheavy='No', mist='No', rain='No', fogground='No', ice='No', glaze='No', drizzle='No', snow='No', freezingrain='No', smokehaze='No', thunder='No', highwind='No', hail='No', blowingsnow='No', dust='No', freezingfog='No'),\n",
       " Row(date=datetime.datetime(2010, 3, 27, 0, 0), temperaturemin=32.0, temperaturemax=57.9, precipitation=0.0, snowfall=0.0, snowdepth=0.0, avgwindspeed=6.04, fastest2minwinddir=120, fastest2minwindspeed=14.99, fastest5secwinddir=120, fastest5secwindspeed=21.03, fog='No', fogheavy='No', mist='No', rain='No', fogground='No', ice='No', glaze='No', drizzle='No', snow='No', freezingrain='No', smokehaze='No', thunder='No', highwind='No', hail='No', blowingsnow='No', dust='No', freezingfog='No'),\n",
       " Row(date=datetime.datetime(2010, 3, 30, 0, 0), temperaturemin=51.1, temperaturemax=69.1, precipitation=0.0, snowfall=0.0, snowdepth=0.0, avgwindspeed=7.83, fastest2minwinddir=280, fastest2minwindspeed=17.9, fastest5secwinddir=300, fastest5secwindspeed=29.08, fog='No', fogheavy='No', mist='No', rain='No', fogground='No', ice='No', glaze='No', drizzle='No', snow='No', freezingrain='No', smokehaze='No', thunder='No', highwind='No', hail='No', blowingsnow='No', dust='No', freezingfog='No'),\n",
       " Row(date=datetime.datetime(2010, 4, 6, 0, 0), temperaturemin=62.1, temperaturemax=90.0, precipitation=0.0, snowfall=0.0, snowdepth=0.0, avgwindspeed=10.29, fastest2minwinddir=230, fastest2minwindspeed=23.04, fastest5secwinddir=230, fastest5secwindspeed=29.97, fog='No', fogheavy='No', mist='No', rain='No', fogground='No', ice='No', glaze='No', drizzle='No', snow='No', freezingrain='No', smokehaze='No', thunder='No', highwind='No', hail='No', blowingsnow='No', dust='No', freezingfog='No'),\n",
       " Row(date=datetime.datetime(2010, 4, 10, 0, 0), temperaturemin=42.1, temperaturemax=70.0, precipitation=0.0, snowfall=0.0, snowdepth=0.0, avgwindspeed=2.01, fastest2minwinddir=10, fastest2minwindspeed=10.07, fastest5secwinddir=90, fastest5secwindspeed=23.94, fog='No', fogheavy='No', mist='No', rain='No', fogground='No', ice='No', glaze='No', drizzle='No', snow='No', freezingrain='No', smokehaze='No', thunder='No', highwind='No', hail='No', blowingsnow='No', dust='No', freezingfog='No'),\n",
       " Row(date=datetime.datetime(2010, 4, 12, 0, 0), temperaturemin=46.0, temperaturemax=78.1, precipitation=0.0, snowfall=0.0, snowdepth=0.0, avgwindspeed=4.03, fastest2minwinddir=50, fastest2minwindspeed=16.11, fastest5secwinddir=50, fastest5secwindspeed=19.91, fog='No', fogheavy='No', mist='No', rain='No', fogground='No', ice='No', glaze='No', drizzle='No', snow='No', freezingrain='No', smokehaze='No', thunder='No', highwind='No', hail='No', blowingsnow='No', dust='No', freezingfog='No'),\n",
       " Row(date=datetime.datetime(2010, 4, 21, 0, 0), temperaturemin=48.0, temperaturemax=64.9, precipitation=0.33, snowfall=0.0, snowdepth=0.0, avgwindspeed=2.68, fastest2minwinddir=310, fastest2minwindspeed=12.97, fastest5secwinddir=320, fastest5secwindspeed=21.92, fog='Yes', fogheavy='No', mist='Yes', rain='Yes', fogground='No', ice='No', glaze='No', drizzle='No', snow='No', freezingrain='No', smokehaze='No', thunder='Yes', highwind='No', hail='No', blowingsnow='No', dust='No', freezingfog='No'),\n",
       " Row(date=datetime.datetime(2010, 4, 26, 0, 0), temperaturemin=59.0, temperaturemax=78.1, precipitation=0.0, snowfall=0.0, snowdepth=0.0, avgwindspeed=9.84, fastest2minwinddir=230, fastest2minwindspeed=21.03, fastest5secwinddir=280, fastest5secwindspeed=29.97, fog='No', fogheavy='No', mist='No', rain='Yes', fogground='No', ice='No', glaze='No', drizzle='No', snow='No', freezingrain='No', smokehaze='No', thunder='No', highwind='No', hail='No', blowingsnow='No', dust='No', freezingfog='No'),\n",
       " Row(date=datetime.datetime(2010, 5, 19, 0, 0), temperaturemin=57.0, temperaturemax=70.0, precipitation=0.36, snowfall=0.0, snowdepth=0.0, avgwindspeed=3.8, fastest2minwinddir=90, fastest2minwindspeed=8.95, fastest5secwinddir=130, fastest5secwindspeed=14.09, fog='Yes', fogheavy='No', mist='Yes', rain='Yes', fogground='No', ice='No', glaze='No', drizzle='No', snow='No', freezingrain='No', smokehaze='No', thunder='No', highwind='No', hail='Yes', blowingsnow='No', dust='No', freezingfog='No'),\n",
       " Row(date=datetime.datetime(2010, 5, 27, 0, 0), temperaturemin=60.1, temperaturemax=91.0, precipitation=0.0, snowfall=0.0, snowdepth=0.0, avgwindspeed=3.58, fastest2minwinddir=60, fastest2minwindspeed=17.0, fastest5secwinddir=50, fastest5secwindspeed=25.05, fog='No', fogheavy='No', mist='No', rain='No', fogground='No', ice='No', glaze='No', drizzle='No', snow='No', freezingrain='No', smokehaze='No', thunder='No', highwind='No', hail='No', blowingsnow='No', dust='No', freezingfog='No'),\n",
       " Row(date=datetime.datetime(2010, 5, 29, 0, 0), temperaturemin=64.9, temperaturemax=84.0, precipitation=0.02, snowfall=0.0, snowdepth=0.0, avgwindspeed=5.14, fastest2minwinddir=190, fastest2minwindspeed=16.11, fastest5secwinddir=200, fastest5secwindspeed=19.91, fog='Yes', fogheavy='No', mist='Yes', rain='Yes', fogground='No', ice='No', glaze='No', drizzle='No', snow='No', freezingrain='No', smokehaze='No', thunder='Yes', highwind='No', hail='Yes', blowingsnow='No', dust='No', freezingfog='No'),\n",
       " Row(date=datetime.datetime(2010, 6, 6, 0, 0), temperaturemin=72.0, temperaturemax=93.0, precipitation=0.18, snowfall=0.0, snowdepth=0.0, avgwindspeed=10.29, fastest2minwinddir=230, fastest2minwindspeed=21.92, fastest5secwinddir=230, fastest5secwindspeed=29.08, fog='Yes', fogheavy='No', mist='Yes', rain='Yes', fogground='No', ice='No', glaze='No', drizzle='No', snow='No', freezingrain='No', smokehaze='No', thunder='Yes', highwind='No', hail='Yes', blowingsnow='No', dust='No', freezingfog='No'),\n",
       " Row(date=datetime.datetime(2010, 6, 19, 0, 0), temperaturemin=73.0, temperaturemax=93.0, precipitation=0.0, snowfall=0.0, snowdepth=0.0, avgwindspeed=4.92, fastest2minwinddir=210, fastest2minwindspeed=8.95, fastest5secwinddir=220, fastest5secwindspeed=12.97, fog='Yes', fogheavy='No', mist='Yes', rain='No', fogground='No', ice='No', glaze='No', drizzle='No', snow='No', freezingrain='No', smokehaze='Yes', thunder='No', highwind='No', hail='No', blowingsnow='No', dust='Yes', freezingfog='No'),\n",
       " Row(date=datetime.datetime(2010, 6, 20, 0, 0), temperaturemin=72.0, temperaturemax=93.9, precipitation=0.0, snowfall=0.0, snowdepth=0.0, avgwindspeed=3.58, fastest2minwinddir=310, fastest2minwindspeed=12.08, fastest5secwinddir=310, fastest5secwindspeed=14.99, fog='Yes', fogheavy='No', mist='Yes', rain='No', fogground='No', ice='No', glaze='No', drizzle='No', snow='No', freezingrain='No', smokehaze='Yes', thunder='No', highwind='No', hail='No', blowingsnow='No', dust='Yes', freezingfog='No'),\n",
       " Row(date=datetime.datetime(2010, 7, 4, 0, 0), temperaturemin=61.0, temperaturemax=93.0, precipitation=0.0, snowfall=0.0, snowdepth=0.0, avgwindspeed=4.92, fastest2minwinddir=230, fastest2minwindspeed=12.97, fastest5secwinddir=260, fastest5secwindspeed=17.9, fog='No', fogheavy='No', mist='No', rain='No', fogground='No', ice='No', glaze='No', drizzle='No', snow='No', freezingrain='No', smokehaze='No', thunder='No', highwind='No', hail='No', blowingsnow='No', dust='No', freezingfog='No'),\n",
       " Row(date=datetime.datetime(2010, 7, 7, 0, 0), temperaturemin=69.1, temperaturemax=102.0, precipitation=0.0, snowfall=0.0, snowdepth=0.0, avgwindspeed=4.25, fastest2minwinddir=40, fastest2minwindspeed=14.99, fastest5secwinddir=50, fastest5secwindspeed=19.91, fog='No', fogheavy='No', mist='No', rain='No', fogground='No', ice='No', glaze='No', drizzle='No', snow='No', freezingrain='No', smokehaze='No', thunder='No', highwind='No', hail='No', blowingsnow='No', dust='No', freezingfog='No'),\n",
       " Row(date=datetime.datetime(2010, 7, 16, 0, 0), temperaturemin=77.0, temperaturemax=97.0, precipitation=0.0, snowfall=0.0, snowdepth=0.0, avgwindspeed=9.62, fastest2minwinddir=230, fastest2minwindspeed=17.0, fastest5secwinddir=230, fastest5secwindspeed=21.92, fog='Yes', fogheavy='No', mist='Yes', rain='No', fogground='No', ice='No', glaze='No', drizzle='No', snow='No', freezingrain='No', smokehaze='Yes', thunder='Yes', highwind='No', hail='No', blowingsnow='No', dust='Yes', freezingfog='No'),\n",
       " Row(date=datetime.datetime(2010, 8, 1, 0, 0), temperaturemin=66.0, temperaturemax=79.0, precipitation=0.1, snowfall=0.0, snowdepth=0.0, avgwindspeed=4.92, fastest2minwinddir=50, fastest2minwindspeed=10.07, fastest5secwinddir=70, fastest5secwindspeed=12.97, fog='Yes', fogheavy='No', mist='Yes', rain='Yes', fogground='No', ice='No', glaze='No', drizzle='No', snow='No', freezingrain='No', smokehaze='No', thunder='No', highwind='No', hail='Yes', blowingsnow='No', dust='No', freezingfog='No'),\n",
       " Row(date=datetime.datetime(2010, 8, 2, 0, 0), temperaturemin=70.0, temperaturemax=86.0, precipitation=0.0, snowfall=0.0, snowdepth=0.0, avgwindspeed=4.03, fastest2minwinddir=50, fastest2minwindspeed=8.95, fastest5secwinddir=100, fastest5secwindspeed=14.09, fog='No', fogheavy='No', mist='No', rain='No', fogground='No', ice='No', glaze='No', drizzle='No', snow='No', freezingrain='No', smokehaze='No', thunder='No', highwind='No', hail='No', blowingsnow='No', dust='No', freezingfog='No'),\n",
       " Row(date=datetime.datetime(2010, 8, 20, 0, 0), temperaturemin=71.1, temperaturemax=90.0, precipitation=0.0, snowfall=0.0, snowdepth=0.0, avgwindspeed=5.82, fastest2minwinddir=80, fastest2minwindspeed=12.97, fastest5secwinddir=80, fastest5secwindspeed=17.0, fog='Yes', fogheavy='No', mist='Yes', rain='Yes', fogground='No', ice='No', glaze='No', drizzle='No', snow='No', freezingrain='No', smokehaze='No', thunder='No', highwind='No', hail='Yes', blowingsnow='No', dust='No', freezingfog='No'),\n",
       " Row(date=datetime.datetime(2010, 9, 12, 0, 0), temperaturemin=64.9, temperaturemax=88.0, precipitation=0.03, snowfall=0.0, snowdepth=0.0, avgwindspeed=3.8, fastest2minwinddir=290, fastest2minwindspeed=12.97, fastest5secwinddir=340, fastest5secwindspeed=21.92, fog='Yes', fogheavy='No', mist='Yes', rain='Yes', fogground='No', ice='No', glaze='No', drizzle='Yes', snow='No', freezingrain='No', smokehaze='No', thunder='No', highwind='No', hail='No', blowingsnow='No', dust='No', freezingfog='No'),\n",
       " Row(date=datetime.datetime(2010, 9, 19, 0, 0), temperaturemin=60.1, temperaturemax=93.0, precipitation=0.0, snowfall=0.0, snowdepth=0.0, avgwindspeed=2.01, fastest2minwinddir=80, fastest2minwindspeed=10.07, fastest5secwinddir=130, fastest5secwindspeed=14.99, fog='Yes', fogheavy='No', mist='Yes', rain='No', fogground='No', ice='No', glaze='No', drizzle='No', snow='No', freezingrain='No', smokehaze='No', thunder='No', highwind='No', hail='No', blowingsnow='No', dust='No', freezingfog='No'),\n",
       " Row(date=datetime.datetime(2010, 9, 29, 0, 0), temperaturemin=63.0, temperaturemax=69.1, precipitation=1.69, snowfall=0.0, snowdepth=0.0, avgwindspeed=8.05, fastest2minwinddir=60, fastest2minwindspeed=16.11, fastest5secwinddir=70, fastest5secwindspeed=21.03, fog='Yes', fogheavy='No', mist='Yes', rain='Yes', fogground='No', ice='No', glaze='No', drizzle='No', snow='No', freezingrain='No', smokehaze='No', thunder='No', highwind='No', hail='Yes', blowingsnow='No', dust='No', freezingfog='No'),\n",
       " Row(date=datetime.datetime(2010, 10, 1, 0, 0), temperaturemin=55.0, temperaturemax=78.1, precipitation=0.01, snowfall=0.0, snowdepth=0.0, avgwindspeed=5.82, fastest2minwinddir=20, fastest2minwindspeed=17.9, fastest5secwinddir=30, fastest5secwindspeed=27.96, fog='Yes', fogheavy='No', mist='Yes', rain='Yes', fogground='No', ice='No', glaze='No', drizzle='Yes', snow='No', freezingrain='No', smokehaze='Yes', thunder='No', highwind='No', hail='Yes', blowingsnow='No', dust='No', freezingfog='No'),\n",
       " Row(date=datetime.datetime(2010, 10, 14, 0, 0), temperaturemin=55.0, temperaturemax=71.1, precipitation=1.11, snowfall=0.0, snowdepth=0.0, avgwindspeed=4.92, fastest2minwinddir=320, fastest2minwindspeed=12.08, fastest5secwinddir=310, fastest5secwindspeed=21.03, fog='Yes', fogheavy='No', mist='Yes', rain='Yes', fogground='No', ice='No', glaze='No', drizzle='No', snow='No', freezingrain='No', smokehaze='No', thunder='Yes', highwind='No', hail='Yes', blowingsnow='No', dust='No', freezingfog='No'),\n",
       " Row(date=datetime.datetime(2010, 11, 1, 0, 0), temperaturemin=46.0, temperaturemax=63.0, precipitation=0.0, snowfall=0.0, snowdepth=0.0, avgwindspeed=8.5, fastest2minwinddir=50, fastest2minwindspeed=16.11, fastest5secwinddir=50, fastest5secwindspeed=23.94, fog='No', fogheavy='No', mist='No', rain='No', fogground='No', ice='No', glaze='No', drizzle='No', snow='No', freezingrain='No', smokehaze='No', thunder='No', highwind='No', hail='No', blowingsnow='No', dust='No', freezingfog='No'),\n",
       " Row(date=datetime.datetime(2010, 11, 4, 0, 0), temperaturemin=48.0, temperaturemax=54.0, precipitation=0.72, snowfall=0.0, snowdepth=0.0, avgwindspeed=2.24, fastest2minwinddir=340, fastest2minwindspeed=8.05, fastest5secwinddir=340, fastest5secwindspeed=14.09, fog='Yes', fogheavy='Yes', mist='No', rain='Yes', fogground='No', ice='No', glaze='No', drizzle='Yes', snow='No', freezingrain='No', smokehaze='No', thunder='No', highwind='No', hail='Yes', blowingsnow='Yes', dust='No', freezingfog='No'),\n",
       " Row(date=datetime.datetime(2010, 11, 16, 0, 0), temperaturemin=54.0, temperaturemax=66.9, precipitation=0.38, snowfall=0.0, snowdepth=0.0, avgwindspeed=8.28, fastest2minwinddir=250, fastest2minwindspeed=25.05, fastest5secwinddir=280, fastest5secwindspeed=36.91, fog='Yes', fogheavy='No', mist='No', rain='Yes', fogground='No', ice='No', glaze='No', drizzle='No', snow='No', freezingrain='No', smokehaze='No', thunder='Yes', highwind='No', hail='Yes', blowingsnow='No', dust='No', freezingfog='No'),\n",
       " Row(date=datetime.datetime(2012, 7, 2, 0, 0), temperaturemin=73.9, temperaturemax=93.9, precipitation=0.0, snowfall=0.0, snowdepth=0.0, avgwindspeed=5.14, fastest2minwinddir=290, fastest2minwindspeed=19.91, fastest5secwinddir=280, fastest5secwindspeed=29.08, fog='No', fogheavy='No', mist='No', rain='No', fogground='No', ice='No', glaze='No', drizzle='No', snow='No', freezingrain='No', smokehaze='No', thunder='No', highwind='No', hail='No', blowingsnow='No', dust='No', freezingfog='No'),\n",
       " Row(date=datetime.datetime(2012, 7, 17, 0, 0), temperaturemin=71.1, temperaturemax=98.1, precipitation=0.0, snowfall=0.0, snowdepth=0.0, avgwindspeed=4.7, fastest2minwinddir=220, fastest2minwindspeed=17.0, fastest5secwinddir=220, fastest5secwindspeed=23.04, fog='No', fogheavy='No', mist='No', rain='No', fogground='No', ice='No', glaze='No', drizzle='No', snow='No', freezingrain='No', smokehaze='No', thunder='Yes', highwind='No', hail='No', blowingsnow='No', dust='No', freezingfog='No'),\n",
       " Row(date=datetime.datetime(2012, 7, 25, 0, 0), temperaturemin=70.0, temperaturemax=90.0, precipitation=0.0, snowfall=0.0, snowdepth=0.0, avgwindspeed=4.03, fastest2minwinddir=240, fastest2minwindspeed=12.08, fastest5secwinddir=240, fastest5secwindspeed=17.9, fog='No', fogheavy='No', mist='No', rain='No', fogground='No', ice='No', glaze='No', drizzle='No', snow='No', freezingrain='No', smokehaze='No', thunder='No', highwind='No', hail='No', blowingsnow='No', dust='No', freezingfog='No'),\n",
       " Row(date=datetime.datetime(2012, 7, 30, 0, 0), temperaturemin=71.1, temperaturemax=89.1, precipitation=0.0, snowfall=0.0, snowdepth=0.0, avgwindspeed=5.59, fastest2minwinddir=130, fastest2minwindspeed=21.92, fastest5secwinddir=140, fastest5secwindspeed=27.96, fog='No', fogheavy='No', mist='No', rain='No', fogground='No', ice='No', glaze='No', drizzle='No', snow='No', freezingrain='No', smokehaze='No', thunder='No', highwind='No', hail='No', blowingsnow='No', dust='No', freezingfog='No'),\n",
       " Row(date=datetime.datetime(2012, 8, 13, 0, 0), temperaturemin=66.9, temperaturemax=90.0, precipitation=0.0, snowfall=0.0, snowdepth=0.0, avgwindspeed=2.24, fastest2minwinddir=240, fastest2minwindspeed=8.95, fastest5secwinddir=160, fastest5secwindspeed=14.09, fog='Yes', fogheavy='No', mist='Yes', rain='No', fogground='No', ice='No', glaze='No', drizzle='No', snow='No', freezingrain='No', smokehaze='No', thunder='No', highwind='No', hail='No', blowingsnow='No', dust='No', freezingfog='No'),\n",
       " Row(date=datetime.datetime(2012, 9, 2, 0, 0), temperaturemin=72.0, temperaturemax=88.0, precipitation=1.85, snowfall=0.0, snowdepth=0.0, avgwindspeed=3.58, fastest2minwinddir=340, fastest2minwindspeed=17.0, fastest5secwinddir=340, fastest5secwindspeed=23.04, fog='No', fogheavy='No', mist='Yes', rain='Yes', fogground='No', ice='No', glaze='No', drizzle='No', snow='No', freezingrain='No', smokehaze='No', thunder='Yes', highwind='No', hail='No', blowingsnow='No', dust='No', freezingfog='No'),\n",
       " Row(date=datetime.datetime(2012, 9, 16, 0, 0), temperaturemin=59.0, temperaturemax=64.9, precipitation=0.69, snowfall=0.0, snowdepth=0.0, avgwindspeed=3.13, fastest2minwinddir=320, fastest2minwindspeed=8.95, fastest5secwinddir=90, fastest5secwindspeed=12.97, fog='Yes', fogheavy='No', mist='Yes', rain='Yes', fogground='No', ice='No', glaze='No', drizzle='No', snow='No', freezingrain='No', smokehaze='No', thunder='No', highwind='No', hail='No', blowingsnow='No', dust='No', freezingfog='No'),\n",
       " Row(date=datetime.datetime(2012, 9, 21, 0, 0), temperaturemin=55.0, temperaturemax=82.0, precipitation=0.0, snowfall=0.0, snowdepth=0.0, avgwindspeed=2.91, fastest2minwinddir=220, fastest2minwindspeed=10.07, fastest5secwinddir=240, fastest5secwindspeed=14.99, fog='No', fogheavy='No', mist='No', rain='No', fogground='No', ice='No', glaze='No', drizzle='No', snow='No', freezingrain='No', smokehaze='No', thunder='No', highwind='No', hail='No', blowingsnow='No', dust='No', freezingfog='No'),\n",
       " Row(date=datetime.datetime(2012, 9, 26, 0, 0), temperaturemin=54.0, temperaturemax=82.9, precipitation=0.0, snowfall=0.0, snowdepth=0.0, avgwindspeed=3.8, fastest2minwinddir=210, fastest2minwindspeed=12.97, fastest5secwinddir=210, fastest5secwindspeed=17.0, fog='No', fogheavy='No', mist='No', rain='No', fogground='No', ice='No', glaze='No', drizzle='No', snow='No', freezingrain='No', smokehaze='No', thunder='No', highwind='No', hail='No', blowingsnow='No', dust='No', freezingfog='No'),\n",
       " Row(date=datetime.datetime(2012, 10, 5, 0, 0), temperaturemin=57.0, temperaturemax=82.0, precipitation=0.0, snowfall=0.0, snowdepth=0.0, avgwindspeed=1.57, fastest2minwinddir=190, fastest2minwindspeed=8.05, fastest5secwinddir=180, fastest5secwindspeed=10.07, fog='Yes', fogheavy='No', mist='No', rain='No', fogground='No', ice='No', glaze='No', drizzle='No', snow='No', freezingrain='No', smokehaze='No', thunder='No', highwind='No', hail='No', blowingsnow='No', dust='No', freezingfog='No'),\n",
       " Row(date=datetime.datetime(2012, 10, 14, 0, 0), temperaturemin=44.1, temperaturemax=78.1, precipitation=0.0, snowfall=0.0, snowdepth=0.0, avgwindspeed=3.8, fastest2minwinddir=230, fastest2minwindspeed=14.99, fastest5secwinddir=230, fastest5secwindspeed=17.9, fog='Yes', fogheavy='No', mist='No', rain='No', fogground='No', ice='No', glaze='No', drizzle='No', snow='No', freezingrain='No', smokehaze='No', thunder='No', highwind='No', hail='No', blowingsnow='No', dust='No', freezingfog='No'),\n",
       " Row(date=datetime.datetime(2012, 10, 16, 0, 0), temperaturemin=44.1, temperaturemax=70.0, precipitation=0.0, snowfall=0.0, snowdepth=0.0, avgwindspeed=2.01, fastest2minwinddir=280, fastest2minwindspeed=8.95, fastest5secwinddir=10, fastest5secwindspeed=12.97, fog='No', fogheavy='No', mist='No', rain='No', fogground='No', ice='No', glaze='No', drizzle='No', snow='No', freezingrain='No', smokehaze='No', thunder='No', highwind='No', hail='No', blowingsnow='No', dust='No', freezingfog='No'),\n",
       " Row(date=datetime.datetime(2012, 10, 19, 0, 0), temperaturemin=53.1, temperaturemax=78.1, precipitation=0.19, snowfall=0.0, snowdepth=0.0, avgwindspeed=7.61, fastest2minwinddir=230, fastest2minwindspeed=25.05, fastest5secwinddir=230, fastest5secwindspeed=31.09, fog='Yes', fogheavy='No', mist='Yes', rain='Yes', fogground='No', ice='No', glaze='No', drizzle='No', snow='No', freezingrain='No', smokehaze='No', thunder='No', highwind='No', hail='No', blowingsnow='No', dust='No', freezingfog='No'),\n",
       " Row(date=datetime.datetime(2012, 10, 24, 0, 0), temperaturemin=51.1, temperaturemax=82.0, precipitation=0.0, snowfall=0.0, snowdepth=0.0, avgwindspeed=2.24, fastest2minwinddir=240, fastest2minwindspeed=8.95, fastest5secwinddir=230, fastest5secwindspeed=12.97, fog='No', fogheavy='No', mist='No', rain='No', fogground='No', ice='No', glaze='No', drizzle='No', snow='No', freezingrain='No', smokehaze='No', thunder='No', highwind='No', hail='No', blowingsnow='No', dust='No', freezingfog='No'),\n",
       " Row(date=datetime.datetime(2012, 10, 26, 0, 0), temperaturemin=57.0, temperaturemax=72.0, precipitation=0.01, snowfall=0.0, snowdepth=0.0, avgwindspeed=7.83, fastest2minwinddir=40, fastest2minwindspeed=16.11, fastest5secwinddir=30, fastest5secwindspeed=21.92, fog='Yes', fogheavy='Yes', mist='Yes', rain='Yes', fogground='No', ice='No', glaze='No', drizzle='No', snow='No', freezingrain='No', smokehaze='No', thunder='No', highwind='No', hail='No', blowingsnow='No', dust='No', freezingfog='No'),\n",
       " Row(date=datetime.datetime(2012, 11, 4, 0, 0), temperaturemin=42.1, temperaturemax=55.0, precipitation=0.0, snowfall=0.0, snowdepth=0.0, avgwindspeed=5.59, fastest2minwinddir=40, fastest2minwindspeed=12.97, fastest5secwinddir=50, fastest5secwindspeed=16.11, fog='No', fogheavy='No', mist='No', rain='Yes', fogground='No', ice='No', glaze='No', drizzle='No', snow='No', freezingrain='No', smokehaze='No', thunder='No', highwind='No', hail='No', blowingsnow='No', dust='No', freezingfog='No'),\n",
       " Row(date=datetime.datetime(2012, 11, 28, 0, 0), temperaturemin=28.9, temperaturemax=53.1, precipitation=0.0, snowfall=0.0, snowdepth=0.0, avgwindspeed=2.24, fastest2minwinddir=340, fastest2minwindspeed=10.07, fastest5secwinddir=40, fastest5secwindspeed=14.99, fog='Yes', fogheavy='No', mist='No', rain='No', fogground='No', ice='No', glaze='No', drizzle='No', snow='No', freezingrain='No', smokehaze='No', thunder='No', highwind='No', hail='No', blowingsnow='No', dust='No', freezingfog='No'),\n",
       " Row(date=datetime.datetime(2012, 12, 3, 0, 0), temperaturemin=53.1, temperaturemax=75.9, precipitation=0.0, snowfall=0.0, snowdepth=0.0, avgwindspeed=4.92, fastest2minwinddir=220, fastest2minwindspeed=8.95, fastest5secwinddir=220, fastest5secwindspeed=12.97, fog='No', fogheavy='No', mist='No', rain='No', fogground='No', ice='No', glaze='No', drizzle='No', snow='No', freezingrain='No', smokehaze='No', thunder='No', highwind='No', hail='No', blowingsnow='No', dust='No', freezingfog='No'),\n",
       " Row(date=datetime.datetime(2012, 12, 8, 0, 0), temperaturemin=50.0, temperaturemax=66.0, precipitation=0.01, snowfall=0.0, snowdepth=0.0, avgwindspeed=4.92, fastest2minwinddir=240, fastest2minwindspeed=10.07, fastest5secwinddir=220, fastest5secwindspeed=14.99, fog='Yes', fogheavy='Yes', mist='No', rain='Yes', fogground='No', ice='No', glaze='No', drizzle='Yes', snow='No', freezingrain='No', smokehaze='No', thunder='No', highwind='No', hail='No', blowingsnow='No', dust='No', freezingfog='No'),\n",
       " Row(date=datetime.datetime(2012, 12, 12, 0, 0), temperaturemin=39.0, temperaturemax=50.0, precipitation=0.24, snowfall=0.0, snowdepth=0.0, avgwindspeed=9.17, fastest2minwinddir=50, fastest2minwindspeed=17.0, fastest5secwinddir=50, fastest5secwindspeed=21.92, fog='Yes', fogheavy='No', mist='Yes', rain='Yes', fogground='No', ice='No', glaze='No', drizzle='No', snow='No', freezingrain='No', smokehaze='No', thunder='No', highwind='No', hail='No', blowingsnow='No', dust='No', freezingfog='No'),\n",
       " Row(date=datetime.datetime(2012, 12, 26, 0, 0), temperaturemin=37.0, temperaturemax=48.9, precipitation=1.41, snowfall=0.0, snowdepth=0.0, avgwindspeed=9.17, fastest2minwinddir=80, fastest2minwindspeed=23.04, fastest5secwinddir=90, fastest5secwindspeed=31.09, fog='No', fogheavy='No', mist='Yes', rain='Yes', fogground='No', ice='No', glaze='No', drizzle='No', snow='No', freezingrain='No', smokehaze='No', thunder='Yes', highwind='No', hail='No', blowingsnow='No', dust='No', freezingfog='No'),\n",
       " Row(date=datetime.datetime(2013, 1, 5, 0, 0), temperaturemin=25.0, temperaturemax=48.9, precipitation=0.0, snowfall=0.0, snowdepth=0.0, avgwindspeed=1.79, fastest2minwinddir=230, fastest2minwindspeed=8.05, fastest5secwinddir=230, fastest5secwindspeed=10.07, fog='No', fogheavy='No', mist='No', rain='No', fogground='No', ice='No', glaze='No', drizzle='No', snow='No', freezingrain='No', smokehaze='No', thunder='No', highwind='No', hail='No', blowingsnow='No', dust='No', freezingfog='No'),\n",
       " Row(date=datetime.datetime(2013, 2, 10, 0, 0), temperaturemin=25.0, temperaturemax=53.1, precipitation=0.03, snowfall=0.0, snowdepth=0.0, avgwindspeed=4.47, fastest2minwinddir=150, fastest2minwindspeed=12.08, fastest5secwinddir=160, fastest5secwindspeed=16.11, fog='No', fogheavy='No', mist='No', rain='Yes', fogground='No', ice='No', glaze='No', drizzle='No', snow='No', freezingrain='No', smokehaze='No', thunder='No', highwind='No', hail='No', blowingsnow='No', dust='No', freezingfog='No'),\n",
       " Row(date=datetime.datetime(2013, 2, 19, 0, 0), temperaturemin=35.1, temperaturemax=51.1, precipitation=0.14, snowfall=0.0, snowdepth=0.0, avgwindspeed=9.62, fastest2minwinddir=210, fastest2minwindspeed=21.92, fastest5secwinddir=210, fastest5secwindspeed=29.97, fog='Yes', fogheavy='No', mist='Yes', rain='Yes', fogground='No', ice='No', glaze='No', drizzle='No', snow='No', freezingrain='No', smokehaze='No', thunder='No', highwind='No', hail='No', blowingsnow='No', dust='No', freezingfog='No'),\n",
       " Row(date=datetime.datetime(2013, 2, 25, 0, 0), temperaturemin=32.0, temperaturemax=42.1, precipitation=0.0, snowfall=0.0, snowdepth=0.0, avgwindspeed=6.93, fastest2minwinddir=70, fastest2minwindspeed=16.11, fastest5secwinddir=50, fastest5secwindspeed=21.03, fog='No', fogheavy='No', mist='No', rain='No', fogground='No', ice='No', glaze='No', drizzle='No', snow='No', freezingrain='No', smokehaze='No', thunder='No', highwind='No', hail='No', blowingsnow='No', dust='No', freezingfog='No'),\n",
       " Row(date=datetime.datetime(2013, 11, 5, 0, 0), temperaturemin=37.0, temperaturemax=57.0, precipitation=0.0, snowfall=0.0, snowdepth=0.0, avgwindspeed=5.14, fastest2minwinddir=40, fastest2minwindspeed=12.08, fastest5secwinddir=40, fastest5secwindspeed=16.11, fog='No', fogheavy='No', mist='No', rain='No', fogground='No', ice='No', glaze='No', drizzle='No', snow='No', freezingrain='No', smokehaze='No', thunder='No', highwind='No', hail='No', blowingsnow='No', dust='No', freezingfog='No'),\n",
       " Row(date=datetime.datetime(2013, 11, 6, 0, 0), temperaturemin=44.1, temperaturemax=71.1, precipitation=0.0, snowfall=0.0, snowdepth=0.0, avgwindspeed=3.58, fastest2minwinddir=80, fastest2minwindspeed=8.95, fastest5secwinddir=150, fastest5secwindspeed=18.12, fog='No', fogheavy='No', mist='No', rain='No', fogground='No', ice='No', glaze='No', drizzle='No', snow='No', freezingrain='No', smokehaze='No', thunder='No', highwind='No', hail='No', blowingsnow='No', dust='No', freezingfog='No'),\n",
       " Row(date=datetime.datetime(2013, 11, 8, 0, 0), temperaturemin=33.1, temperaturemax=57.9, precipitation=0.0, snowfall=0.0, snowdepth=0.0, avgwindspeed=2.91, fastest2minwinddir=300, fastest2minwindspeed=12.97, fastest5secwinddir=300, fastest5secwindspeed=21.03, fog='No', fogheavy='No', mist='No', rain='No', fogground='No', ice='No', glaze='No', drizzle='No', snow='No', freezingrain='No', smokehaze='No', thunder='No', highwind='No', hail='No', blowingsnow='No', dust='No', freezingfog='No'),\n",
       " Row(date=datetime.datetime(2013, 11, 11, 0, 0), temperaturemin=32.0, temperaturemax=59.0, precipitation=0.0, snowfall=0.0, snowdepth=0.0, avgwindspeed=1.79, fastest2minwinddir=140, fastest2minwindspeed=8.95, fastest5secwinddir=150, fastest5secwindspeed=12.97, fog='No', fogheavy='No', mist='No', rain='No', fogground='No', ice='No', glaze='No', drizzle='No', snow='No', freezingrain='No', smokehaze='No', thunder='No', highwind='No', hail='No', blowingsnow='No', dust='No', freezingfog='No'),\n",
       " Row(date=datetime.datetime(2013, 11, 16, 0, 0), temperaturemin=50.0, temperaturemax=69.1, precipitation=0.0, snowfall=0.0, snowdepth=0.0, avgwindspeed=3.13, fastest2minwinddir=30, fastest2minwindspeed=8.95, fastest5secwinddir=20, fastest5secwindspeed=12.08, fog='No', fogheavy='No', mist='No', rain='No', fogground='No', ice='No', glaze='No', drizzle='No', snow='No', freezingrain='No', smokehaze='No', thunder='No', highwind='No', hail='No', blowingsnow='No', dust='No', freezingfog='No'),\n",
       " Row(date=datetime.datetime(2013, 11, 21, 0, 0), temperaturemin=41.0, temperaturemax=62.1, precipitation=0.0, snowfall=0.0, snowdepth=0.0, avgwindspeed=3.8, fastest2minwinddir=40, fastest2minwindspeed=12.08, fastest5secwinddir=50, fastest5secwindspeed=14.09, fog='No', fogheavy='No', mist='No', rain='No', fogground='No', ice='No', glaze='No', drizzle='No', snow='No', freezingrain='No', smokehaze='No', thunder='No', highwind='No', hail='No', blowingsnow='No', dust='No', freezingfog='No'),\n",
       " Row(date=datetime.datetime(2013, 11, 29, 0, 0), temperaturemin=24.3, temperaturemax=50.0, precipitation=0.0, snowfall=0.0, snowdepth=0.0, avgwindspeed=4.03, fastest2minwinddir=40, fastest2minwindspeed=14.09, fastest5secwinddir=40, fastest5secwindspeed=19.91, fog='No', fogheavy='No', mist='No', rain='No', fogground='No', ice='No', glaze='No', drizzle='No', snow='No', freezingrain='No', smokehaze='No', thunder='No', highwind='No', hail='No', blowingsnow='No', dust='No', freezingfog='No'),\n",
       " Row(date=datetime.datetime(2013, 12, 6, 0, 0), temperaturemin=64.9, temperaturemax=79.0, precipitation=0.0, snowfall=0.0, snowdepth=0.0, avgwindspeed=13.87, fastest2minwinddir=230, fastest2minwindspeed=27.96, fastest5secwinddir=230, fastest5secwindspeed=36.01, fog='No', fogheavy='No', mist='No', rain='No', fogground='No', ice='No', glaze='No', drizzle='No', snow='No', freezingrain='No', smokehaze='No', thunder='No', highwind='No', hail='No', blowingsnow='No', dust='No', freezingfog='No'),\n",
       " Row(date=datetime.datetime(2013, 12, 18, 0, 0), temperaturemin=31.1, temperaturemax=48.9, precipitation=0.0, snowfall=0.0, snowdepth=0.0, avgwindspeed=3.36, fastest2minwinddir=270, fastest2minwindspeed=12.97, fastest5secwinddir=300, fastest5secwindspeed=19.91, fog='No', fogheavy='No', mist='No', rain='No', fogground='No', ice='No', glaze='No', drizzle='No', snow='No', freezingrain='No', smokehaze='No', thunder='No', highwind='No', hail='No', blowingsnow='No', dust='No', freezingfog='No'),\n",
       " Row(date=datetime.datetime(2014, 1, 3, 0, 0), temperaturemin=22.1, temperaturemax=43.0, precipitation=0.0, snowfall=0.0, snowdepth=0.0, avgwindspeed=7.38, fastest2minwinddir=300, fastest2minwindspeed=21.92, fastest5secwinddir=310, fastest5secwindspeed=31.99, fog='No', fogheavy='No', mist='No', rain='No', fogground='No', ice='No', glaze='No', drizzle='No', snow='No', freezingrain='No', smokehaze='No', thunder='No', highwind='No', hail='No', blowingsnow='No', dust='No', freezingfog='No'),\n",
       " Row(date=datetime.datetime(2014, 1, 4, 0, 0), temperaturemin=19.2, temperaturemax=37.9, precipitation=0.0, snowfall=0.0, snowdepth=0.0, avgwindspeed=2.24, fastest2minwinddir=120, fastest2minwindspeed=8.05, fastest5secwinddir=120, fastest5secwindspeed=12.97, fog='No', fogheavy='No', mist='No', rain='No', fogground='No', ice='No', glaze='No', drizzle='No', snow='No', freezingrain='No', smokehaze='No', thunder='No', highwind='No', hail='No', blowingsnow='No', dust='No', freezingfog='No'),\n",
       " Row(date=datetime.datetime(2014, 1, 8, 0, 0), temperaturemin=15.3, temperaturemax=43.0, precipitation=0.0, snowfall=0.0, snowdepth=0.0, avgwindspeed=2.91, fastest2minwinddir=220, fastest2minwindspeed=10.07, fastest5secwinddir=210, fastest5secwindspeed=12.97, fog='No', fogheavy='No', mist='No', rain='No', fogground='No', ice='No', glaze='No', drizzle='No', snow='No', freezingrain='No', smokehaze='No', thunder='No', highwind='No', hail='No', blowingsnow='No', dust='No', freezingfog='No'),\n",
       " Row(date=datetime.datetime(2014, 1, 10, 0, 0), temperaturemin=39.0, temperaturemax=45.0, precipitation=0.57, snowfall=0.0, snowdepth=0.0, avgwindspeed=3.58, fastest2minwinddir=270, fastest2minwindspeed=10.07, fastest5secwinddir=280, fastest5secwindspeed=14.09, fog='No', fogheavy='No', mist='No', rain='No', fogground='No', ice='No', glaze='No', drizzle='No', snow='No', freezingrain='No', smokehaze='No', thunder='No', highwind='No', hail='No', blowingsnow='No', dust='No', freezingfog='No'),\n",
       " Row(date=datetime.datetime(2014, 1, 18, 0, 0), temperaturemin=27.1, temperaturemax=46.9, precipitation=0.0, snowfall=0.0, snowdepth=0.0, avgwindspeed=6.71, fastest2minwinddir=270, fastest2minwindspeed=17.0, fastest5secwinddir=240, fastest5secwindspeed=23.94, fog='No', fogheavy='No', mist='No', rain='No', fogground='No', ice='No', glaze='No', drizzle='No', snow='No', freezingrain='No', smokehaze='No', thunder='No', highwind='No', hail='No', blowingsnow='No', dust='No', freezingfog='No'),\n",
       " Row(date=datetime.datetime(2014, 1, 23, 0, 0), temperaturemin=16.2, temperaturemax=37.9, precipitation=0.0, snowfall=0.0, snowdepth=0.0, avgwindspeed=4.7, fastest2minwinddir=30, fastest2minwindspeed=14.99, fastest5secwinddir=10, fastest5secwindspeed=21.92, fog='No', fogheavy='No', mist='No', rain='No', fogground='No', ice='No', glaze='No', drizzle='No', snow='No', freezingrain='No', smokehaze='No', thunder='No', highwind='No', hail='No', blowingsnow='No', dust='No', freezingfog='No'),\n",
       " Row(date=datetime.datetime(2014, 1, 24, 0, 0), temperaturemin=11.1, temperaturemax=27.1, precipitation=0.0, snowfall=0.0, snowdepth=0.0, avgwindspeed=6.26, fastest2minwinddir=10, fastest2minwindspeed=14.09, fastest5secwinddir=20, fastest5secwindspeed=23.04, fog='No', fogheavy='No', mist='No', rain='No', fogground='No', ice='No', glaze='No', drizzle='No', snow='No', freezingrain='No', smokehaze='No', thunder='No', highwind='No', hail='No', blowingsnow='No', dust='No', freezingfog='No'),\n",
       " Row(date=datetime.datetime(2014, 1, 31, 0, 0), temperaturemin=15.3, temperaturemax=53.1, precipitation=0.0, snowfall=0.0, snowdepth=0.0, avgwindspeed=2.01, fastest2minwinddir=220, fastest2minwindspeed=8.95, fastest5secwinddir=220, fastest5secwindspeed=12.97, fog='No', fogheavy='No', mist='No', rain='No', fogground='No', ice='No', glaze='No', drizzle='No', snow='No', freezingrain='No', smokehaze='No', thunder='No', highwind='No', hail='No', blowingsnow='No', dust='No', freezingfog='No'),\n",
       " Row(date=datetime.datetime(2014, 2, 5, 0, 0), temperaturemin=37.9, temperaturemax=53.1, precipitation=0.06, snowfall=0.0, snowdepth=0.0, avgwindspeed=4.7, fastest2minwinddir=240, fastest2minwindspeed=12.08, fastest5secwinddir=250, fastest5secwindspeed=19.91, fog='No', fogheavy='No', mist='No', rain='No', fogground='No', ice='No', glaze='No', drizzle='No', snow='No', freezingrain='No', smokehaze='No', thunder='No', highwind='No', hail='No', blowingsnow='No', dust='No', freezingfog='No'),\n",
       " Row(date=datetime.datetime(2014, 2, 6, 0, 0), temperaturemin=31.1, temperaturemax=42.1, precipitation=0.0, snowfall=0.0, snowdepth=0.0, avgwindspeed=3.58, fastest2minwinddir=50, fastest2minwindspeed=10.07, fastest5secwinddir=330, fastest5secwindspeed=18.12, fog='No', fogheavy='No', mist='No', rain='No', fogground='No', ice='No', glaze='No', drizzle='No', snow='No', freezingrain='No', smokehaze='No', thunder='No', highwind='No', hail='No', blowingsnow='No', dust='No', freezingfog='No'),\n",
       " Row(date=datetime.datetime(2014, 2, 8, 0, 0), temperaturemin=34.0, temperaturemax=50.0, precipitation=0.0, snowfall=0.0, snowdepth=0.0, avgwindspeed=2.46, fastest2minwinddir=70, fastest2minwindspeed=8.95, fastest5secwinddir=90, fastest5secwindspeed=17.0, fog='No', fogheavy='No', mist='No', rain='No', fogground='No', ice='No', glaze='No', drizzle='No', snow='No', freezingrain='No', smokehaze='No', thunder='No', highwind='No', hail='No', blowingsnow='No', dust='No', freezingfog='No'),\n",
       " Row(date=datetime.datetime(2014, 2, 10, 0, 0), temperaturemin=35.1, temperaturemax=43.0, precipitation=0.08, snowfall=0.0, snowdepth=0.0, avgwindspeed=2.91, fastest2minwinddir=30, fastest2minwindspeed=12.97, fastest5secwinddir=40, fastest5secwindspeed=16.11, fog='Yes', fogheavy='No', mist='No', rain='No', fogground='No', ice='No', glaze='No', drizzle='No', snow='No', freezingrain='No', smokehaze='No', thunder='No', highwind='No', hail='No', blowingsnow='No', dust='No', freezingfog='No'),\n",
       " Row(date=datetime.datetime(2014, 2, 14, 0, 0), temperaturemin=27.1, temperaturemax=55.9, precipitation=0.0, snowfall=0.0, snowdepth=1.18, avgwindspeed=8.95, fastest2minwinddir=220, fastest2minwindspeed=16.11, fastest5secwinddir=230, fastest5secwindspeed=19.91, fog='No', fogheavy='No', mist='No', rain='No', fogground='No', ice='No', glaze='No', drizzle='No', snow='No', freezingrain='No', smokehaze='No', thunder='No', highwind='No', hail='No', blowingsnow='No', dust='No', freezingfog='No'),\n",
       " Row(date=datetime.datetime(2014, 2, 23, 0, 0), temperaturemin=34.0, temperaturemax=66.9, precipitation=0.0, snowfall=0.0, snowdepth=0.0, avgwindspeed=6.49, fastest2minwinddir=230, fastest2minwindspeed=21.03, fastest5secwinddir=220, fastest5secwindspeed=25.05, fog='No', fogheavy='No', mist='No', rain='No', fogground='No', ice='No', glaze='No', drizzle='No', snow='No', freezingrain='No', smokehaze='No', thunder='No', highwind='No', hail='No', blowingsnow='No', dust='No', freezingfog='No'),\n",
       " Row(date=datetime.datetime(2014, 2, 26, 0, 0), temperaturemin=32.0, temperaturemax=48.9, precipitation=0.0, snowfall=0.0, snowdepth=0.0, avgwindspeed=3.58, fastest2minwinddir=40, fastest2minwindspeed=10.07, fastest5secwinddir=40, fastest5secwindspeed=14.99, fog='No', fogheavy='No', mist='No', rain='No', fogground='No', ice='No', glaze='No', drizzle='No', snow='No', freezingrain='No', smokehaze='No', thunder='No', highwind='No', hail='No', blowingsnow='No', dust='No', freezingfog='No'),\n",
       " Row(date=datetime.datetime(2014, 3, 3, 0, 0), temperaturemin=20.1, temperaturemax=61.0, precipitation=0.36, snowfall=0.2, snowdepth=0.0, avgwindspeed=10.96, fastest2minwinddir=30, fastest2minwindspeed=25.05, fastest5secwinddir=30, fastest5secwindspeed=36.91, fog='No', fogheavy='No', mist='No', rain='No', fogground='No', ice='No', glaze='No', drizzle='No', snow='No', freezingrain='No', smokehaze='No', thunder='No', highwind='No', hail='No', blowingsnow='No', dust='No', freezingfog='No'),\n",
       " Row(date=datetime.datetime(2014, 3, 8, 0, 0), temperaturemin=27.1, temperaturemax=68.0, precipitation=0.0, snowfall=0.0, snowdepth=0.0, avgwindspeed=4.25, fastest2minwinddir=230, fastest2minwindspeed=17.0, fastest5secwinddir=240, fastest5secwindspeed=21.92, fog='Yes', fogheavy='No', mist='No', rain='No', fogground='No', ice='No', glaze='No', drizzle='No', snow='No', freezingrain='No', smokehaze='No', thunder='No', highwind='No', hail='No', blowingsnow='No', dust='No', freezingfog='No'),\n",
       " Row(date=datetime.datetime(2014, 3, 11, 0, 0), temperaturemin=44.1, temperaturemax=79.0, precipitation=0.0, snowfall=0.0, snowdepth=0.0, avgwindspeed=5.14, fastest2minwinddir=240, fastest2minwindspeed=16.11, fastest5secwinddir=230, fastest5secwindspeed=21.92, fog='No', fogheavy='No', mist='No', rain='No', fogground='No', ice='No', glaze='No', drizzle='No', snow='No', freezingrain='No', smokehaze='No', thunder='No', highwind='No', hail='No', blowingsnow='No', dust='No', freezingfog='No'),\n",
       " Row(date=datetime.datetime(2014, 3, 19, 0, 0), temperaturemin=35.1, temperaturemax=46.9, precipitation=0.04, snowfall=0.0, snowdepth=0.0, avgwindspeed=5.37, fastest2minwinddir=230, fastest2minwindspeed=14.09, fastest5secwinddir=230, fastest5secwindspeed=17.0, fog='Yes', fogheavy='No', mist='No', rain='No', fogground='No', ice='No', glaze='No', drizzle='No', snow='No', freezingrain='No', smokehaze='No', thunder='No', highwind='No', hail='No', blowingsnow='No', dust='No', freezingfog='No'),\n",
       " Row(date=datetime.datetime(2014, 3, 21, 0, 0), temperaturemin=32.0, temperaturemax=69.1, precipitation=0.0, snowfall=0.0, snowdepth=0.0, avgwindspeed=5.37, fastest2minwinddir=230, fastest2minwindspeed=17.0, fastest5secwinddir=230, fastest5secwindspeed=21.03, fog='No', fogheavy='No', mist='No', rain='No', fogground='No', ice='No', glaze='No', drizzle='No', snow='No', freezingrain='No', smokehaze='No', thunder='No', highwind='No', hail='No', blowingsnow='No', dust='No', freezingfog='No'),\n",
       " Row(date=datetime.datetime(2014, 3, 22, 0, 0), temperaturemin=46.0, temperaturemax=75.9, precipitation=0.0, snowfall=0.0, snowdepth=0.0, avgwindspeed=8.05, fastest2minwinddir=220, fastest2minwindspeed=18.12, fastest5secwinddir=230, fastest5secwindspeed=25.05, fog='No', fogheavy='No', mist='No', rain='No', fogground='No', ice='No', glaze='No', drizzle='No', snow='No', freezingrain='No', smokehaze='No', thunder='No', highwind='No', hail='No', blowingsnow='No', dust='No', freezingfog='No'),\n",
       " Row(date=datetime.datetime(2014, 3, 25, 0, 0), temperaturemin=33.1, temperaturemax=45.0, precipitation=0.03, snowfall=0.0, snowdepth=0.0, avgwindspeed=5.82, fastest2minwinddir=120, fastest2minwindspeed=12.97, fastest5secwinddir=320, fastest5secwindspeed=19.91, fog='Yes', fogheavy='No', mist='No', rain='No', fogground='No', ice='No', glaze='No', drizzle='No', snow='No', freezingrain='No', smokehaze='No', thunder='No', highwind='No', hail='No', blowingsnow='No', dust='No', freezingfog='No'),\n",
       " Row(date=datetime.datetime(2014, 3, 26, 0, 0), temperaturemin=29.1, temperaturemax=46.9, precipitation=0.0, snowfall=0.0, snowdepth=0.0, avgwindspeed=6.93, fastest2minwinddir=280, fastest2minwindspeed=17.0, fastest5secwinddir=290, fastest5secwindspeed=27.96, fog='No', fogheavy='No', mist='No', rain='No', fogground='No', ice='No', glaze='No', drizzle='No', snow='No', freezingrain='No', smokehaze='No', thunder='No', highwind='No', hail='No', blowingsnow='No', dust='No', freezingfog='No'),\n",
       " Row(date=datetime.datetime(2014, 3, 27, 0, 0), temperaturemin=24.3, temperaturemax=59.0, precipitation=0.0, snowfall=0.0, snowdepth=0.0, avgwindspeed=6.93, fastest2minwinddir=210, fastest2minwindspeed=17.0, fastest5secwinddir=220, fastest5secwindspeed=29.08, fog='No', fogheavy='No', mist='No', rain='No', fogground='No', ice='No', glaze='No', drizzle='No', snow='No', freezingrain='No', smokehaze='No', thunder='No', highwind='No', hail='No', blowingsnow='No', dust='No', freezingfog='No'),\n",
       " Row(date=datetime.datetime(2014, 3, 30, 0, 0), temperaturemin=42.1, temperaturemax=62.1, precipitation=0.23, snowfall=0.0, snowdepth=0.0, avgwindspeed=10.51, fastest2minwinddir=250, fastest2minwindspeed=25.05, fastest5secwinddir=270, fastest5secwindspeed=36.91, fog='Yes', fogheavy='No', mist='No', rain='No', fogground='No', ice='No', glaze='No', drizzle='No', snow='No', freezingrain='No', smokehaze='No', thunder='No', highwind='No', hail='No', blowingsnow='No', dust='No', freezingfog='No'),\n",
       " Row(date=datetime.datetime(2014, 4, 27, 0, 0), temperaturemin=51.1, temperaturemax=84.0, precipitation=0.0, snowfall=0.0, snowdepth=0.0, avgwindspeed=5.14, fastest2minwinddir=130, fastest2minwindspeed=16.11, fastest5secwinddir=130, fastest5secwindspeed=21.03, fog='No', fogheavy='No', mist='No', rain='No', fogground='No', ice='No', glaze='No', drizzle='No', snow='No', freezingrain='No', smokehaze='No', thunder='No', highwind='No', hail='No', blowingsnow='No', dust='No', freezingfog='No'),\n",
       " Row(date=datetime.datetime(2014, 5, 4, 0, 0), temperaturemin=48.9, temperaturemax=82.9, precipitation=0.0, snowfall=0.0, snowdepth=0.0, avgwindspeed=5.59, fastest2minwinddir=240, fastest2minwindspeed=19.91, fastest5secwinddir=240, fastest5secwindspeed=29.08, fog='No', fogheavy='No', mist='No', rain='No', fogground='No', ice='No', glaze='No', drizzle='No', snow='No', freezingrain='No', smokehaze='No', thunder='No', highwind='No', hail='No', blowingsnow='No', dust='No', freezingfog='No'),\n",
       " Row(date=datetime.datetime(2014, 5, 10, 0, 0), temperaturemin=64.0, temperaturemax=86.0, precipitation=0.0, snowfall=0.0, snowdepth=0.0, avgwindspeed=8.95, fastest2minwinddir=230, fastest2minwindspeed=23.04, fastest5secwinddir=220, fastest5secwindspeed=29.08, fog='No', fogheavy='No', mist='No', rain='No', fogground='No', ice='No', glaze='No', drizzle='No', snow='No', freezingrain='No', smokehaze='No', thunder='No', highwind='No', hail='No', blowingsnow='No', dust='No', freezingfog='No'),\n",
       " Row(date=datetime.datetime(2014, 5, 17, 0, 0), temperaturemin=46.9, temperaturemax=71.1, precipitation=0.0, snowfall=0.0, snowdepth=0.0, avgwindspeed=5.37, fastest2minwinddir=270, fastest2minwindspeed=16.11, fastest5secwinddir=320, fastest5secwindspeed=23.04, fog='No', fogheavy='No', mist='No', rain='No', fogground='No', ice='No', glaze='No', drizzle='No', snow='No', freezingrain='No', smokehaze='No', thunder='No', highwind='No', hail='No', blowingsnow='No', dust='No', freezingfog='No'),\n",
       " Row(date=datetime.datetime(2014, 5, 19, 0, 0), temperaturemin=45.0, temperaturemax=73.0, precipitation=0.0, snowfall=0.0, snowdepth=0.0, avgwindspeed=2.01, fastest2minwinddir=40, fastest2minwindspeed=12.08, fastest5secwinddir=130, fastest5secwindspeed=17.0, fog='Yes', fogheavy='No', mist='No', rain='No', fogground='No', ice='No', glaze='No', drizzle='No', snow='No', freezingrain='No', smokehaze='No', thunder='No', highwind='No', hail='No', blowingsnow='No', dust='No', freezingfog='No'),\n",
       " Row(date=datetime.datetime(2014, 5, 27, 0, 0), temperaturemin=66.0, temperaturemax=90.0, precipitation=0.22, snowfall=0.0, snowdepth=0.0, avgwindspeed=5.82, fastest2minwinddir=300, fastest2minwindspeed=25.05, fastest5secwinddir=280, fastest5secwindspeed=40.94, fog='No', fogheavy='No', mist='No', rain='No', fogground='No', ice='No', glaze='No', drizzle='No', snow='No', freezingrain='No', smokehaze='No', thunder='No', highwind='No', hail='No', blowingsnow='No', dust='No', freezingfog='No'),\n",
       " Row(date=datetime.datetime(2014, 6, 3, 0, 0), temperaturemin=57.0, temperaturemax=89.1, precipitation=0.05, snowfall=0.0, snowdepth=0.0, avgwindspeed=4.03, fastest2minwinddir=230, fastest2minwindspeed=14.09, fastest5secwinddir=330, fastest5secwindspeed=18.12, fog='Yes', fogheavy='No', mist='No', rain='No', fogground='No', ice='No', glaze='No', drizzle='No', snow='No', freezingrain='No', smokehaze='No', thunder='No', highwind='No', hail='No', blowingsnow='No', dust='No', freezingfog='No'),\n",
       " Row(date=datetime.datetime(2014, 6, 5, 0, 0), temperaturemin=72.0, temperaturemax=91.0, precipitation=0.0, snowfall=0.0, snowdepth=0.0, avgwindspeed=7.61, fastest2minwinddir=230, fastest2minwindspeed=18.12, fastest5secwinddir=270, fastest5secwindspeed=25.95, fog='No', fogheavy='No', mist='No', rain='No', fogground='No', ice='No', glaze='No', drizzle='No', snow='No', freezingrain='No', smokehaze='No', thunder='No', highwind='No', hail='No', blowingsnow='No', dust='No', freezingfog='No'),\n",
       " Row(date=datetime.datetime(2014, 6, 6, 0, 0), temperaturemin=68.0, temperaturemax=82.9, precipitation=0.0, snowfall=0.0, snowdepth=0.0, avgwindspeed=5.82, fastest2minwinddir=80, fastest2minwindspeed=12.08, fastest5secwinddir=130, fastest5secwindspeed=16.11, fog='No', fogheavy='No', mist='No', rain='No', fogground='No', ice='No', glaze='No', drizzle='No', snow='No', freezingrain='No', smokehaze='No', thunder='No', highwind='No', hail='No', blowingsnow='No', dust='No', freezingfog='No'),\n",
       " Row(date=datetime.datetime(2014, 6, 17, 0, 0), temperaturemin=70.0, temperaturemax=96.1, precipitation=0.0, snowfall=0.0, snowdepth=0.0, avgwindspeed=7.16, fastest2minwinddir=220, fastest2minwindspeed=18.12, fastest5secwinddir=210, fastest5secwindspeed=23.04, fog='No', fogheavy='No', mist='No', rain='No', fogground='No', ice='No', glaze='No', drizzle='No', snow='No', freezingrain='No', smokehaze='No', thunder='Yes', highwind='No', hail='No', blowingsnow='No', dust='No', freezingfog='No'),\n",
       " Row(date=datetime.datetime(2014, 6, 25, 0, 0), temperaturemin=73.0, temperaturemax=93.0, precipitation=0.0, snowfall=0.0, snowdepth=0.0, avgwindspeed=6.71, fastest2minwinddir=230, fastest2minwindspeed=14.99, fastest5secwinddir=260, fastest5secwindspeed=19.91, fog='No', fogheavy='No', mist='No', rain='No', fogground='No', ice='No', glaze='No', drizzle='No', snow='No', freezingrain='No', smokehaze='No', thunder='No', highwind='No', hail='No', blowingsnow='No', dust='No', freezingfog='No'),\n",
       " Row(date=datetime.datetime(2014, 7, 2, 0, 0), temperaturemin=75.9, temperaturemax=97.0, precipitation=0.0, snowfall=0.0, snowdepth=0.0, avgwindspeed=9.84, fastest2minwinddir=190, fastest2minwindspeed=17.0, fastest5secwinddir=200, fastest5secwindspeed=21.92, fog='No', fogheavy='No', mist='No', rain='No', fogground='No', ice='No', glaze='No', drizzle='No', snow='No', freezingrain='No', smokehaze='No', thunder='No', highwind='No', hail='No', blowingsnow='No', dust='No', freezingfog='No'),\n",
       " Row(date=datetime.datetime(2014, 7, 4, 0, 0), temperaturemin=71.1, temperaturemax=88.0, precipitation=0.0, snowfall=0.0, snowdepth=0.0, avgwindspeed=6.04, fastest2minwinddir=260, fastest2minwindspeed=12.08, fastest5secwinddir=340, fastest5secwindspeed=21.03, fog='No', fogheavy='No', mist='No', rain='No', fogground='No', ice='No', glaze='No', drizzle='No', snow='No', freezingrain='No', smokehaze='No', thunder='No', highwind='No', hail='No', blowingsnow='No', dust='No', freezingfog='No'),\n",
       " Row(date=datetime.datetime(2014, 7, 5, 0, 0), temperaturemin=61.0, temperaturemax=82.9, precipitation=0.0, snowfall=0.0, snowdepth=0.0, avgwindspeed=4.92, fastest2minwinddir=50, fastest2minwindspeed=14.99, fastest5secwinddir=80, fastest5secwindspeed=18.12, fog='No', fogheavy='No', mist='No', rain='No', fogground='No', ice='No', glaze='No', drizzle='No', snow='No', freezingrain='No', smokehaze='No', thunder='No', highwind='No', hail='No', blowingsnow='No', dust='No', freezingfog='No'),\n",
       " Row(date=datetime.datetime(2014, 7, 6, 0, 0), temperaturemin=61.0, temperaturemax=90.0, precipitation=0.0, snowfall=0.0, snowdepth=0.0, avgwindspeed=5.82, fastest2minwinddir=240, fastest2minwindspeed=14.99, fastest5secwinddir=190, fastest5secwindspeed=17.0, fog='No', fogheavy='No', mist='No', rain='No', fogground='No', ice='No', glaze='No', drizzle='No', snow='No', freezingrain='No', smokehaze='No', thunder='No', highwind='No', hail='No', blowingsnow='No', dust='No', freezingfog='No'),\n",
       " Row(date=datetime.datetime(2014, 7, 13, 0, 0), temperaturemin=71.1, temperaturemax=93.9, precipitation=0.0, snowfall=0.0, snowdepth=0.0, avgwindspeed=7.16, fastest2minwinddir=180, fastest2minwindspeed=14.99, fastest5secwinddir=190, fastest5secwindspeed=19.91, fog='Yes', fogheavy='No', mist='No', rain='No', fogground='No', ice='No', glaze='No', drizzle='No', snow='No', freezingrain='No', smokehaze='No', thunder='No', highwind='No', hail='No', blowingsnow='No', dust='No', freezingfog='No'),\n",
       " Row(date=datetime.datetime(2014, 7, 17, 0, 0), temperaturemin=60.1, temperaturemax=84.0, precipitation=0.0, snowfall=0.0, snowdepth=0.0, avgwindspeed=2.24, fastest2minwinddir=350, fastest2minwindspeed=8.05, fastest5secwinddir=40, fastest5secwindspeed=14.09, fog='No', fogheavy='No', mist='No', rain='No', fogground='No', ice='No', glaze='No', drizzle='No', snow='No', freezingrain='No', smokehaze='No', thunder='No', highwind='No', hail='No', blowingsnow='No', dust='No', freezingfog='No'),\n",
       " Row(date=datetime.datetime(2014, 7, 23, 0, 0), temperaturemin=71.1, temperaturemax=91.9, precipitation=0.0, snowfall=0.0, snowdepth=0.0, avgwindspeed=5.59, fastest2minwinddir=210, fastest2minwindspeed=17.0, fastest5secwinddir=220, fastest5secwindspeed=23.04, fog='No', fogheavy='No', mist='No', rain='No', fogground='No', ice='No', glaze='No', drizzle='No', snow='No', freezingrain='No', smokehaze='No', thunder='No', highwind='No', hail='No', blowingsnow='No', dust='No', freezingfog='No'),\n",
       " Row(date=datetime.datetime(2014, 7, 26, 0, 0), temperaturemin=69.1, temperaturemax=90.0, precipitation=0.0, snowfall=0.0, snowdepth=0.0, avgwindspeed=3.13, fastest2minwinddir=220, fastest2minwindspeed=12.08, fastest5secwinddir=240, fastest5secwindspeed=14.99, fog='No', fogheavy='No', mist='No', rain='No', fogground='No', ice='No', glaze='No', drizzle='No', snow='No', freezingrain='No', smokehaze='No', thunder='No', highwind='No', hail='No', blowingsnow='No', dust='No', freezingfog='No'),\n",
       " Row(date=datetime.datetime(2014, 7, 27, 0, 0), temperaturemin=72.0, temperaturemax=87.1, precipitation=0.45, snowfall=0.0, snowdepth=0.0, avgwindspeed=7.61, fastest2minwinddir=230, fastest2minwindspeed=21.03, fastest5secwinddir=230, fastest5secwindspeed=25.05, fog='No', fogheavy='No', mist='No', rain='No', fogground='No', ice='No', glaze='No', drizzle='No', snow='No', freezingrain='No', smokehaze='No', thunder='No', highwind='No', hail='No', blowingsnow='No', dust='No', freezingfog='No'),\n",
       " Row(date=datetime.datetime(2014, 7, 31, 0, 0), temperaturemin=66.0, temperaturemax=82.0, precipitation=0.08, snowfall=0.0, snowdepth=0.0, avgwindspeed=2.68, fastest2minwinddir=120, fastest2minwindspeed=8.95, fastest5secwinddir=90, fastest5secwindspeed=14.09, fog='Yes', fogheavy='No', mist='No', rain='No', fogground='No', ice='No', glaze='No', drizzle='No', snow='No', freezingrain='No', smokehaze='No', thunder='No', highwind='No', hail='No', blowingsnow='No', dust='No', freezingfog='No'),\n",
       " Row(date=datetime.datetime(2014, 8, 2, 0, 0), temperaturemin=64.0, temperaturemax=70.0, precipitation=0.08, snowfall=0.0, snowdepth=0.0, avgwindspeed=3.36, fastest2minwinddir=50, fastest2minwindspeed=12.08, fastest5secwinddir=80, fastest5secwindspeed=14.09, fog='Yes', fogheavy='No', mist='No', rain='No', fogground='No', ice='No', glaze='No', drizzle='No', snow='No', freezingrain='No', smokehaze='No', thunder='No', highwind='No', hail='No', blowingsnow='No', dust='No', freezingfog='No'),\n",
       " Row(date=datetime.datetime(2014, 8, 7, 0, 0), temperaturemin=69.1, temperaturemax=86.0, precipitation=0.0, snowfall=0.0, snowdepth=0.0, avgwindspeed=4.47, fastest2minwinddir=50, fastest2minwindspeed=12.08, fastest5secwinddir=60, fastest5secwindspeed=14.99, fog='No', fogheavy='No', mist='No', rain='No', fogground='No', ice='No', glaze='No', drizzle='No', snow='No', freezingrain='No', smokehaze='No', thunder='No', highwind='No', hail='No', blowingsnow='No', dust='No', freezingfog='No'),\n",
       " Row(date=datetime.datetime(2014, 8, 9, 0, 0), temperaturemin=64.0, temperaturemax=73.9, precipitation=1.01, snowfall=0.0, snowdepth=0.0, avgwindspeed=5.59, fastest2minwinddir=90, fastest2minwindspeed=12.97, fastest5secwinddir=130, fastest5secwindspeed=21.03, fog='Yes', fogheavy='No', mist='No', rain='No', fogground='No', ice='No', glaze='No', drizzle='No', snow='No', freezingrain='No', smokehaze='No', thunder='No', highwind='No', hail='No', blowingsnow='No', dust='No', freezingfog='No'),\n",
       " Row(date=datetime.datetime(2014, 8, 10, 0, 0), temperaturemin=66.0, temperaturemax=81.0, precipitation=0.56, snowfall=0.0, snowdepth=0.0, avgwindspeed=6.71, fastest2minwinddir=100, fastest2minwindspeed=14.99, fastest5secwinddir=110, fastest5secwindspeed=21.03, fog='Yes', fogheavy='No', mist='No', rain='No', fogground='No', ice='No', glaze='No', drizzle='No', snow='No', freezingrain='No', smokehaze='No', thunder='No', highwind='No', hail='No', blowingsnow='No', dust='No', freezingfog='No'),\n",
       " Row(date=datetime.datetime(2014, 8, 11, 0, 0), temperaturemin=70.0, temperaturemax=84.0, precipitation=0.31, snowfall=0.0, snowdepth=0.0, avgwindspeed=6.71, fastest2minwinddir=170, fastest2minwindspeed=14.99, fastest5secwinddir=170, fastest5secwindspeed=19.91, fog='Yes', fogheavy='No', mist='No', rain='No', fogground='No', ice='No', glaze='No', drizzle='No', snow='No', freezingrain='No', smokehaze='No', thunder='No', highwind='No', hail='No', blowingsnow='No', dust='No', freezingfog='No'),\n",
       " Row(date=datetime.datetime(2014, 8, 12, 0, 0), temperaturemin=70.0, temperaturemax=87.1, precipitation=2.45, snowfall=0.0, snowdepth=0.0, avgwindspeed=4.92, fastest2minwinddir=230, fastest2minwindspeed=23.04, fastest5secwinddir=240, fastest5secwindspeed=27.96, fog='No', fogheavy='No', mist='No', rain='No', fogground='No', ice='No', glaze='No', drizzle='No', snow='No', freezingrain='No', smokehaze='No', thunder='No', highwind='No', hail='No', blowingsnow='No', dust='No', freezingfog='No'),\n",
       " Row(date=datetime.datetime(2014, 8, 13, 0, 0), temperaturemin=66.9, temperaturemax=82.0, precipitation=0.0, snowfall=0.0, snowdepth=0.0, avgwindspeed=3.8, fastest2minwinddir=290, fastest2minwindspeed=12.97, fastest5secwinddir=280, fastest5secwindspeed=21.03, fog='No', fogheavy='No', mist='No', rain='No', fogground='No', ice='No', glaze='No', drizzle='No', snow='No', freezingrain='No', smokehaze='No', thunder='No', highwind='No', hail='No', blowingsnow='No', dust='No', freezingfog='No'),\n",
       " Row(date=datetime.datetime(2014, 8, 15, 0, 0), temperaturemin=61.0, temperaturemax=86.0, precipitation=0.0, snowfall=0.0, snowdepth=0.0, avgwindspeed=2.68, fastest2minwinddir=220, fastest2minwindspeed=12.08, fastest5secwinddir=270, fastest5secwindspeed=17.0, fog='No', fogheavy='No', mist='No', rain='No', fogground='No', ice='No', glaze='No', drizzle='No', snow='No', freezingrain='No', smokehaze='No', thunder='No', highwind='No', hail='No', blowingsnow='No', dust='No', freezingfog='No'),\n",
       " Row(date=datetime.datetime(2014, 8, 16, 0, 0), temperaturemin=68.0, temperaturemax=89.1, precipitation=0.0, snowfall=0.0, snowdepth=0.0, avgwindspeed=3.36, fastest2minwinddir=220, fastest2minwindspeed=12.08, fastest5secwinddir=210, fastest5secwindspeed=14.09, fog='No', fogheavy='No', mist='No', rain='No', fogground='No', ice='No', glaze='No', drizzle='No', snow='No', freezingrain='No', smokehaze='No', thunder='No', highwind='No', hail='No', blowingsnow='No', dust='No', freezingfog='No'),\n",
       " Row(date=datetime.datetime(2014, 8, 20, 0, 0), temperaturemin=70.0, temperaturemax=90.0, precipitation=1.06, snowfall=0.0, snowdepth=0.0, avgwindspeed=2.24, fastest2minwinddir=300, fastest2minwindspeed=31.09, fastest5secwinddir=320, fastest5secwindspeed=57.94, fog='No', fogheavy='No', mist='No', rain='No', fogground='No', ice='No', glaze='No', drizzle='No', snow='No', freezingrain='No', smokehaze='No', thunder='No', highwind='No', hail='No', blowingsnow='No', dust='No', freezingfog='No'),\n",
       " Row(date=datetime.datetime(2014, 8, 23, 0, 0), temperaturemin=72.0, temperaturemax=84.0, precipitation=0.01, snowfall=0.0, snowdepth=0.0, avgwindspeed=5.59, fastest2minwinddir=80, fastest2minwindspeed=14.09, fastest5secwinddir=90, fastest5secwindspeed=17.0, fog='No', fogheavy='No', mist='No', rain='No', fogground='No', ice='No', glaze='No', drizzle='No', snow='No', freezingrain='No', smokehaze='No', thunder='No', highwind='No', hail='No', blowingsnow='No', dust='No', freezingfog='No'),\n",
       " Row(date=datetime.datetime(2014, 9, 1, 0, 0), temperaturemin=73.0, temperaturemax=93.0, precipitation=0.0, snowfall=0.0, snowdepth=0.0, avgwindspeed=4.7, fastest2minwinddir=230, fastest2minwindspeed=12.97, fastest5secwinddir=270, fastest5secwindspeed=16.11, fog='No', fogheavy='No', mist='No', rain='No', fogground='No', ice='No', glaze='No', drizzle='No', snow='No', freezingrain='No', smokehaze='No', thunder='No', highwind='No', hail='No', blowingsnow='No', dust='No', freezingfog='No'),\n",
       " Row(date=datetime.datetime(2014, 9, 8, 0, 0), temperaturemin=68.0, temperaturemax=73.0, precipitation=1.04, snowfall=0.0, snowdepth=0.0, avgwindspeed=8.28, fastest2minwinddir=40, fastest2minwindspeed=16.11, fastest5secwinddir=40, fastest5secwindspeed=23.94, fog='Yes', fogheavy='No', mist='No', rain='No', fogground='No', ice='No', glaze='No', drizzle='No', snow='No', freezingrain='No', smokehaze='No', thunder='No', highwind='No', hail='No', blowingsnow='No', dust='No', freezingfog='No'),\n",
       " Row(date=datetime.datetime(2014, 9, 10, 0, 0), temperaturemin=68.0, temperaturemax=81.0, precipitation=0.0, snowfall=0.0, snowdepth=0.0, avgwindspeed=2.01, fastest2minwinddir=110, fastest2minwindspeed=6.04, fastest5secwinddir=None, fastest5secwindspeed=None, fog='No', fogheavy='No', mist='No', rain='No', fogground='No', ice='No', glaze='No', drizzle='No', snow='No', freezingrain='No', smokehaze='No', thunder='No', highwind='No', hail='No', blowingsnow='No', dust='No', freezingfog='No'),\n",
       " Row(date=datetime.datetime(2014, 9, 12, 0, 0), temperaturemin=70.0, temperaturemax=80.1, precipitation=0.01, snowfall=0.0, snowdepth=0.0, avgwindspeed=5.59, fastest2minwinddir=80, fastest2minwindspeed=12.97, fastest5secwinddir=90, fastest5secwindspeed=17.0, fog='Yes', fogheavy='No', mist='No', rain='No', fogground='No', ice='No', glaze='No', drizzle='No', snow='No', freezingrain='No', smokehaze='No', thunder='No', highwind='No', hail='No', blowingsnow='No', dust='No', freezingfog='No'),\n",
       " Row(date=datetime.datetime(2014, 9, 14, 0, 0), temperaturemin=62.1, temperaturemax=71.1, precipitation=0.03, snowfall=0.0, snowdepth=0.0, avgwindspeed=6.26, fastest2minwinddir=50, fastest2minwindspeed=17.0, fastest5secwinddir=40, fastest5secwindspeed=25.95, fog='No', fogheavy='No', mist='No', rain='No', fogground='No', ice='No', glaze='No', drizzle='No', snow='No', freezingrain='No', smokehaze='No', thunder='No', highwind='No', hail='No', blowingsnow='No', dust='No', freezingfog='No'),\n",
       " Row(date=datetime.datetime(2014, 9, 18, 0, 0), temperaturemin=59.0, temperaturemax=81.0, precipitation=0.01, snowfall=0.0, snowdepth=0.0, avgwindspeed=3.36, fastest2minwinddir=50, fastest2minwindspeed=10.07, fastest5secwinddir=130, fastest5secwindspeed=18.12, fog='Yes', fogheavy='No', mist='No', rain='No', fogground='No', ice='No', glaze='No', drizzle='No', snow='No', freezingrain='No', smokehaze='No', thunder='No', highwind='No', hail='No', blowingsnow='No', dust='No', freezingfog='No'),\n",
       " Row(date=datetime.datetime(2014, 9, 24, 0, 0), temperaturemin=55.0, temperaturemax=64.0, precipitation=3.18, snowfall=0.0, snowdepth=0.0, avgwindspeed=9.62, fastest2minwinddir=30, fastest2minwindspeed=17.0, fastest5secwinddir=40, fastest5secwindspeed=25.05, fog='Yes', fogheavy='No', mist='No', rain='No', fogground='No', ice='No', glaze='No', drizzle='No', snow='No', freezingrain='No', smokehaze='No', thunder='No', highwind='No', hail='No', blowingsnow='No', dust='No', freezingfog='No'),\n",
       " Row(date=datetime.datetime(2014, 9, 29, 0, 0), temperaturemin=64.0, temperaturemax=73.0, precipitation=0.01, snowfall=0.0, snowdepth=0.0, avgwindspeed=1.12, fastest2minwinddir=280, fastest2minwindspeed=6.93, fastest5secwinddir=280, fastest5secwindspeed=8.95, fog='Yes', fogheavy='No', mist='No', rain='No', fogground='No', ice='No', glaze='No', drizzle='No', snow='No', freezingrain='No', smokehaze='No', thunder='No', highwind='No', hail='No', blowingsnow='No', dust='No', freezingfog='No'),\n",
       " Row(date=datetime.datetime(2014, 10, 5, 0, 0), temperaturemin=41.0, temperaturemax=66.0, precipitation=0.0, snowfall=0.0, snowdepth=0.0, avgwindspeed=3.13, fastest2minwinddir=220, fastest2minwindspeed=10.07, fastest5secwinddir=280, fastest5secwindspeed=21.92, fog='No', fogheavy='No', mist='No', rain='No', fogground='No', ice='No', glaze='No', drizzle='No', snow='No', freezingrain='No', smokehaze='No', thunder='No', highwind='No', hail='No', blowingsnow='No', dust='No', freezingfog='No'),\n",
       " Row(date=datetime.datetime(2014, 10, 21, 0, 0), temperaturemin=51.1, temperaturemax=73.9, precipitation=0.0, snowfall=0.0, snowdepth=0.0, avgwindspeed=4.03, fastest2minwinddir=330, fastest2minwindspeed=14.09, fastest5secwinddir=300, fastest5secwindspeed=23.04, fog='No', fogheavy='No', mist='No', rain='No', fogground='No', ice='No', glaze='No', drizzle='No', snow='No', freezingrain='No', smokehaze='No', thunder='No', highwind='No', hail='No', blowingsnow='No', dust='No', freezingfog='No'),\n",
       " Row(date=datetime.datetime(2014, 10, 23, 0, 0), temperaturemin=42.1, temperaturemax=70.0, precipitation=0.0, snowfall=0.0, snowdepth=0.0, avgwindspeed=4.25, fastest2minwinddir=290, fastest2minwindspeed=12.97, fastest5secwinddir=270, fastest5secwindspeed=21.03, fog='No', fogheavy='No', mist='No', rain='No', fogground='No', ice='No', glaze='No', drizzle='No', snow='No', freezingrain='No', smokehaze='No', thunder='No', highwind='No', hail='No', blowingsnow='No', dust='No', freezingfog='No'),\n",
       " Row(date=datetime.datetime(2014, 10, 28, 0, 0), temperaturemin=50.0, temperaturemax=84.0, precipitation=0.0, snowfall=0.0, snowdepth=0.0, avgwindspeed=5.82, fastest2minwinddir=220, fastest2minwindspeed=14.99, fastest5secwinddir=230, fastest5secwindspeed=21.03, fog='No', fogheavy='No', mist='No', rain='No', fogground='No', ice='No', glaze='No', drizzle='No', snow='No', freezingrain='No', smokehaze='No', thunder='No', highwind='No', hail='No', blowingsnow='No', dust='No', freezingfog='No'),\n",
       " Row(date=datetime.datetime(2014, 10, 30, 0, 0), temperaturemin=46.9, temperaturemax=66.9, precipitation=0.0, snowfall=0.0, snowdepth=0.0, avgwindspeed=3.36, fastest2minwinddir=40, fastest2minwindspeed=10.07, fastest5secwinddir=30, fastest5secwindspeed=14.99, fog='No', fogheavy='No', mist='No', rain='No', fogground='No', ice='No', glaze='No', drizzle='No', snow='No', freezingrain='No', smokehaze='No', thunder='No', highwind='No', hail='No', blowingsnow='No', dust='No', freezingfog='No'),\n",
       " Row(date=datetime.datetime(2014, 11, 2, 0, 0), temperaturemin=37.0, temperaturemax=53.1, precipitation=0.0, snowfall=0.0, snowdepth=0.0, avgwindspeed=6.71, fastest2minwinddir=330, fastest2minwindspeed=17.0, fastest5secwinddir=300, fastest5secwindspeed=27.96, fog='No', fogheavy='No', mist='No', rain='No', fogground='No', ice='No', glaze='No', drizzle='No', snow='No', freezingrain='No', smokehaze='No', thunder='No', highwind='No', hail='No', blowingsnow='No', dust='No', freezingfog='No'),\n",
       " Row(date=datetime.datetime(2014, 11, 10, 0, 0), temperaturemin=35.1, temperaturemax=66.0, precipitation=0.0, snowfall=0.0, snowdepth=0.0, avgwindspeed=2.46, fastest2minwinddir=90, fastest2minwindspeed=12.97, fastest5secwinddir=100, fastest5secwindspeed=16.11, fog='Yes', fogheavy='No', mist='No', rain='No', fogground='No', ice='No', glaze='No', drizzle='No', snow='No', freezingrain='No', smokehaze='No', thunder='No', highwind='No', hail='No', blowingsnow='No', dust='No', freezingfog='No'),\n",
       " Row(date=datetime.datetime(2014, 11, 18, 0, 0), temperaturemin=23.2, temperaturemax=43.0, precipitation=0.0, snowfall=0.0, snowdepth=0.0, avgwindspeed=5.59, fastest2minwinddir=270, fastest2minwindspeed=14.09, fastest5secwinddir=310, fastest5secwindspeed=21.03, fog='No', fogheavy='No', mist='No', rain='No', fogground='No', ice='No', glaze='No', drizzle='No', snow='No', freezingrain='No', smokehaze='No', thunder='No', highwind='No', hail='No', blowingsnow='No', dust='No', freezingfog='No'),\n",
       " Row(date=datetime.datetime(2014, 11, 25, 0, 0), temperaturemin=48.0, temperaturemax=64.9, precipitation=0.1, snowfall=0.0, snowdepth=0.0, avgwindspeed=5.37, fastest2minwinddir=220, fastest2minwindspeed=16.11, fastest5secwinddir=220, fastest5secwindspeed=21.03, fog='Yes', fogheavy='No', mist='No', rain='No', fogground='No', ice='No', glaze='No', drizzle='No', snow='No', freezingrain='No', smokehaze='Yes', thunder='No', highwind='No', hail='No', blowingsnow='No', dust='No', freezingfog='No'),\n",
       " Row(date=datetime.datetime(2014, 12, 4, 0, 0), temperaturemin=39.9, temperaturemax=54.0, precipitation=0.0, snowfall=0.0, snowdepth=0.0, avgwindspeed=6.26, fastest2minwinddir=60, fastest2minwindspeed=10.07, fastest5secwinddir=80, fastest5secwindspeed=17.0, fog='Yes', fogheavy='Yes', mist='No', rain='No', fogground='No', ice='No', glaze='No', drizzle='No', snow='No', freezingrain='No', smokehaze='No', thunder='No', highwind='No', hail='No', blowingsnow='No', dust='No', freezingfog='No'),\n",
       " Row(date=datetime.datetime(2014, 12, 5, 0, 0), temperaturemin=39.9, temperaturemax=52.0, precipitation=0.0, snowfall=0.0, snowdepth=0.0, avgwindspeed=2.46, fastest2minwinddir=90, fastest2minwindspeed=8.05, fastest5secwinddir=50, fastest5secwindspeed=10.07, fog='No', fogheavy='No', mist='No', rain='No', fogground='No', ice='No', glaze='No', drizzle='No', snow='No', freezingrain='No', smokehaze='No', thunder='No', highwind='No', hail='No', blowingsnow='No', dust='No', freezingfog='No'),\n",
       " Row(date=datetime.datetime(2014, 12, 7, 0, 0), temperaturemin=35.1, temperaturemax=53.1, precipitation=0.0, snowfall=0.0, snowdepth=0.0, avgwindspeed=12.97, fastest2minwinddir=40, fastest2minwindspeed=23.94, fastest5secwinddir=40, fastest5secwindspeed=36.91, fog='No', fogheavy='No', mist='No', rain='No', fogground='No', ice='No', glaze='No', drizzle='No', snow='No', freezingrain='No', smokehaze='No', thunder='No', highwind='No', hail='No', blowingsnow='No', dust='No', freezingfog='No'),\n",
       " Row(date=datetime.datetime(2014, 12, 17, 0, 0), temperaturemin=39.0, temperaturemax=60.1, precipitation=0.0, snowfall=0.0, snowdepth=0.0, avgwindspeed=3.58, fastest2minwinddir=250, fastest2minwindspeed=12.97, fastest5secwinddir=230, fastest5secwindspeed=16.11, fog='No', fogheavy='No', mist='No', rain='No', fogground='No', ice='No', glaze='No', drizzle='No', snow='No', freezingrain='No', smokehaze='No', thunder='No', highwind='No', hail='No', blowingsnow='No', dust='No', freezingfog='No'),\n",
       " Row(date=datetime.datetime(2014, 12, 25, 0, 0), temperaturemin=35.1, temperaturemax=64.0, precipitation=0.03, snowfall=0.0, snowdepth=0.0, avgwindspeed=5.82, fastest2minwinddir=240, fastest2minwindspeed=17.0, fastest5secwinddir=270, fastest5secwindspeed=23.94, fog='Yes', fogheavy='No', mist='No', rain='No', fogground='No', ice='No', glaze='No', drizzle='No', snow='No', freezingrain='No', smokehaze='No', thunder='No', highwind='No', hail='No', blowingsnow='No', dust='No', freezingfog='No'),\n",
       " Row(date=datetime.datetime(2014, 12, 29, 0, 0), temperaturemin=41.0, temperaturemax=55.0, precipitation=0.72, snowfall=0.0, snowdepth=0.0, avgwindspeed=6.71, fastest2minwinddir=30, fastest2minwindspeed=12.08, fastest5secwinddir=50, fastest5secwindspeed=16.11, fog='Yes', fogheavy='Yes', mist='No', rain='No', fogground='No', ice='No', glaze='No', drizzle='No', snow='No', freezingrain='No', smokehaze='No', thunder='No', highwind='No', hail='No', blowingsnow='No', dust='No', freezingfog='No'),\n",
       " Row(date=datetime.datetime(2015, 1, 5, 0, 0), temperaturemin=32.0, temperaturemax=55.9, precipitation=0.0, snowfall=0.0, snowdepth=0.0, avgwindspeed=5.37, fastest2minwinddir=310, fastest2minwindspeed=14.99, fastest5secwinddir=280, fastest5secwindspeed=21.92, fog='No', fogheavy='No', mist='No', rain='No', fogground='No', ice='No', glaze='No', drizzle='No', snow='No', freezingrain='No', smokehaze='No', thunder='No', highwind='No', hail='No', blowingsnow='No', dust='No', freezingfog='No'),\n",
       " Row(date=datetime.datetime(2015, 1, 6, 0, 0), temperaturemin=26.2, temperaturemax=55.0, precipitation=0.0, snowfall=0.0, snowdepth=0.0, avgwindspeed=4.7, fastest2minwinddir=230, fastest2minwindspeed=21.03, fastest5secwinddir=230, fastest5secwindspeed=25.95, fog='No', fogheavy='No', mist='No', rain='No', fogground='No', ice='No', glaze='No', drizzle='No', snow='No', freezingrain='No', smokehaze='No', thunder='No', highwind='No', hail='No', blowingsnow='No', dust='No', freezingfog='No'),\n",
       " Row(date=datetime.datetime(2015, 1, 11, 0, 0), temperaturemin=17.2, temperaturemax=48.9, precipitation=0.0, snowfall=0.0, snowdepth=0.0, avgwindspeed=0.89, fastest2minwinddir=80, fastest2minwindspeed=6.93, fastest5secwinddir=140, fastest5secwindspeed=12.08, fog='No', fogheavy='No', mist='No', rain='No', fogground='No', ice='No', glaze='No', drizzle='No', snow='No', freezingrain='No', smokehaze='No', thunder='No', highwind='No', hail='No', blowingsnow='No', dust='No', freezingfog='No'),\n",
       " Row(date=datetime.datetime(2015, 1, 24, 0, 0), temperaturemin=35.1, temperaturemax=48.9, precipitation=0.14, snowfall=0.0, snowdepth=0.0, avgwindspeed=5.82, fastest2minwinddir=310, fastest2minwindspeed=12.97, fastest5secwinddir=330, fastest5secwindspeed=21.03, fog='Yes', fogheavy='No', mist='No', rain='No', fogground='No', ice='No', glaze='No', drizzle='No', snow='No', freezingrain='No', smokehaze='No', thunder='No', highwind='No', hail='No', blowingsnow='No', dust='No', freezingfog='No'),\n",
       " Row(date=datetime.datetime(2015, 2, 11, 0, 0), temperaturemin=30.2, temperaturemax=51.1, precipitation=0.0, snowfall=0.0, snowdepth=0.0, avgwindspeed=4.92, fastest2minwinddir=30, fastest2minwindspeed=18.12, fastest5secwinddir=40, fastest5secwindspeed=25.95, fog='No', fogheavy='No', mist='No', rain='No', fogground='No', ice='No', glaze='No', drizzle='No', snow='No', freezingrain='No', smokehaze='No', thunder='No', highwind='No', hail='No', blowingsnow='No', dust='No', freezingfog='No'),\n",
       " Row(date=datetime.datetime(2015, 2, 17, 0, 0), temperaturemin=19.2, temperaturemax=35.1, precipitation=0.39, snowfall=0.71, snowdepth=1.18, avgwindspeed=4.7, fastest2minwinddir=40, fastest2minwindspeed=12.97, fastest5secwinddir=20, fastest5secwindspeed=18.12, fog='Yes', fogheavy='No', mist='No', rain='No', fogground='No', ice='Yes', glaze='Yes', drizzle='No', snow='No', freezingrain='No', smokehaze='No', thunder='No', highwind='No', hail='No', blowingsnow='No', dust='No', freezingfog='No'),\n",
       " Row(date=datetime.datetime(2015, 2, 23, 0, 0), temperaturemin=30.2, temperaturemax=46.9, precipitation=0.03, snowfall=0.0, snowdepth=0.0, avgwindspeed=7.38, fastest2minwinddir=70, fastest2minwindspeed=14.99, fastest5secwinddir=50, fastest5secwindspeed=19.91, fog='Yes', fogheavy='No', mist='No', rain='No', fogground='No', ice='No', glaze='No', drizzle='No', snow='No', freezingrain='No', smokehaze='No', thunder='No', highwind='No', hail='No', blowingsnow='No', dust='No', freezingfog='No'),\n",
       " Row(date=datetime.datetime(2015, 2, 24, 0, 0), temperaturemin=19.2, temperaturemax=30.2, precipitation=0.09, snowfall=1.42, snowdepth=0.0, avgwindspeed=4.47, fastest2minwinddir=90, fastest2minwindspeed=16.11, fastest5secwinddir=90, fastest5secwindspeed=21.92, fog='Yes', fogheavy='No', mist='No', rain='No', fogground='No', ice='No', glaze='No', drizzle='No', snow='No', freezingrain='No', smokehaze='No', thunder='No', highwind='No', hail='No', blowingsnow='No', dust='No', freezingfog='No'),\n",
       " Row(date=datetime.datetime(2015, 3, 5, 0, 0), temperaturemin=32.0, temperaturemax=66.0, precipitation=0.97, snowfall=0.0, snowdepth=0.0, avgwindspeed=10.51, fastest2minwinddir=40, fastest2minwindspeed=23.04, fastest5secwinddir=40, fastest5secwindspeed=29.08, fog='Yes', fogheavy='No', mist='No', rain='No', fogground='No', ice='No', glaze='No', drizzle='No', snow='No', freezingrain='No', smokehaze='No', thunder='No', highwind='No', hail='No', blowingsnow='No', dust='No', freezingfog='No'),\n",
       " Row(date=datetime.datetime(2015, 3, 10, 0, 0), temperaturemin=50.0, temperaturemax=75.0, precipitation=0.0, snowfall=0.0, snowdepth=0.0, avgwindspeed=6.93, fastest2minwinddir=220, fastest2minwindspeed=21.03, fastest5secwinddir=220, fastest5secwindspeed=25.05, fog='No', fogheavy='No', mist='No', rain='No', fogground='No', ice='No', glaze='No', drizzle='No', snow='No', freezingrain='No', smokehaze='No', thunder='No', highwind='No', hail='No', blowingsnow='No', dust='No', freezingfog='No'),\n",
       " Row(date=datetime.datetime(2015, 3, 11, 0, 0), temperaturemin=59.0, temperaturemax=75.9, precipitation=0.11, snowfall=0.0, snowdepth=0.0, avgwindspeed=5.14, fastest2minwinddir=240, fastest2minwindspeed=16.11, fastest5secwinddir=360, fastest5secwindspeed=18.12, fog='Yes', fogheavy='No', mist='No', rain='No', fogground='No', ice='No', glaze='No', drizzle='No', snow='No', freezingrain='No', smokehaze='No', thunder='No', highwind='No', hail='No', blowingsnow='No', dust='No', freezingfog='No'),\n",
       " Row(date=datetime.datetime(2015, 3, 17, 0, 0), temperaturemin=46.9, temperaturemax=82.0, precipitation=0.0, snowfall=0.0, snowdepth=0.0, avgwindspeed=6.04, fastest2minwinddir=330, fastest2minwindspeed=17.0, fastest5secwinddir=340, fastest5secwindspeed=29.08, fog='No', fogheavy='No', mist='No', rain='No', fogground='No', ice='No', glaze='No', drizzle='No', snow='No', freezingrain='No', smokehaze='No', thunder='No', highwind='No', hail='No', blowingsnow='No', dust='No', freezingfog='No'),\n",
       " Row(date=datetime.datetime(2015, 3, 22, 0, 0), temperaturemin=46.9, temperaturemax=66.0, precipitation=0.0, snowfall=0.0, snowdepth=0.0, avgwindspeed=4.25, fastest2minwinddir=140, fastest2minwindspeed=12.97, fastest5secwinddir=140, fastest5secwindspeed=17.0, fog='Yes', fogheavy='No', mist='No', rain='No', fogground='No', ice='No', glaze='No', drizzle='No', snow='No', freezingrain='No', smokehaze='No', thunder='No', highwind='No', hail='No', blowingsnow='No', dust='No', freezingfog='No'),\n",
       " Row(date=datetime.datetime(2015, 3, 23, 0, 0), temperaturemin=43.0, temperaturemax=57.9, precipitation=0.0, snowfall=0.0, snowdepth=0.0, avgwindspeed=8.5, fastest2minwinddir=50, fastest2minwindspeed=17.0, fastest5secwinddir=60, fastest5secwindspeed=23.04, fog='No', fogheavy='No', mist='No', rain='No', fogground='No', ice='No', glaze='No', drizzle='No', snow='No', freezingrain='No', smokehaze='No', thunder='No', highwind='No', hail='No', blowingsnow='No', dust='No', freezingfog='No'),\n",
       " Row(date=datetime.datetime(2015, 3, 24, 0, 0), temperaturemin=36.0, temperaturemax=66.9, precipitation=0.0, snowfall=0.0, snowdepth=0.0, avgwindspeed=5.14, fastest2minwinddir=110, fastest2minwindspeed=18.12, fastest5secwinddir=120, fastest5secwindspeed=27.96, fog='No', fogheavy='No', mist='No', rain='No', fogground='No', ice='No', glaze='No', drizzle='No', snow='No', freezingrain='No', smokehaze='No', thunder='No', highwind='No', hail='No', blowingsnow='No', dust='No', freezingfog='No'),\n",
       " Row(date=datetime.datetime(2015, 3, 29, 0, 0), temperaturemin=22.1, temperaturemax=52.0, precipitation=0.0, snowfall=0.0, snowdepth=0.0, avgwindspeed=4.7, fastest2minwinddir=240, fastest2minwindspeed=14.09, fastest5secwinddir=230, fastest5secwindspeed=19.91, fog='No', fogheavy='No', mist='No', rain='No', fogground='No', ice='No', glaze='No', drizzle='No', snow='No', freezingrain='No', smokehaze='No', thunder='No', highwind='No', hail='No', blowingsnow='No', dust='No', freezingfog='No'),\n",
       " Row(date=datetime.datetime(2015, 4, 5, 0, 0), temperaturemin=33.1, temperaturemax=68.0, precipitation=0.0, snowfall=0.0, snowdepth=0.0, avgwindspeed=4.7, fastest2minwinddir=230, fastest2minwindspeed=16.11, fastest5secwinddir=200, fastest5secwindspeed=21.92, fog='No', fogheavy='No', mist='No', rain='No', fogground='No', ice='No', glaze='No', drizzle='No', snow='No', freezingrain='No', smokehaze='No', thunder='No', highwind='No', hail='No', blowingsnow='No', dust='No', freezingfog='No'),\n",
       " Row(date=datetime.datetime(2015, 4, 9, 0, 0), temperaturemin=57.0, temperaturemax=78.1, precipitation=0.53, snowfall=0.0, snowdepth=0.0, avgwindspeed=5.82, fastest2minwinddir=90, fastest2minwindspeed=23.94, fastest5secwinddir=90, fastest5secwindspeed=27.96, fog='Yes', fogheavy='No', mist='No', rain='No', fogground='No', ice='No', glaze='No', drizzle='No', snow='No', freezingrain='No', smokehaze='Yes', thunder='Yes', highwind='No', hail='No', blowingsnow='No', dust='No', freezingfog='No'),\n",
       " Row(date=datetime.datetime(2015, 4, 12, 0, 0), temperaturemin=46.9, temperaturemax=73.0, precipitation=0.0, snowfall=0.0, snowdepth=0.0, avgwindspeed=7.61, fastest2minwinddir=90, fastest2minwindspeed=19.91, fastest5secwinddir=90, fastest5secwindspeed=27.96, fog='No', fogheavy='No', mist='No', rain='No', fogground='No', ice='No', glaze='No', drizzle='No', snow='No', freezingrain='No', smokehaze='No', thunder='No', highwind='No', hail='No', blowingsnow='No', dust='No', freezingfog='No'),\n",
       " Row(date=datetime.datetime(2015, 4, 18, 0, 0), temperaturemin=61.0, temperaturemax=80.1, precipitation=0.01, snowfall=0.0, snowdepth=0.0, avgwindspeed=3.13, fastest2minwinddir=130, fastest2minwindspeed=12.08, fastest5secwinddir=140, fastest5secwindspeed=16.11, fog='Yes', fogheavy='No', mist='No', rain='No', fogground='No', ice='No', glaze='No', drizzle='No', snow='No', freezingrain='No', smokehaze='No', thunder='No', highwind='No', hail='No', blowingsnow='No', dust='No', freezingfog='No'),\n",
       " Row(date=datetime.datetime(2015, 5, 3, 0, 0), temperaturemin=46.9, temperaturemax=79.0, precipitation=0.0, snowfall=0.0, snowdepth=0.0, avgwindspeed=2.68, fastest2minwinddir=200, fastest2minwindspeed=12.08, fastest5secwinddir=210, fastest5secwindspeed=14.99, fog='Yes', fogheavy='No', mist='No', rain='No', fogground='No', ice='No', glaze='No', drizzle='No', snow='No', freezingrain='No', smokehaze='No', thunder='No', highwind='No', hail='No', blowingsnow='No', dust='No', freezingfog='No'),\n",
       " Row(date=datetime.datetime(2015, 5, 13, 0, 0), temperaturemin=57.9, temperaturemax=80.1, precipitation=0.0, snowfall=0.0, snowdepth=0.0, avgwindspeed=3.58, fastest2minwinddir=330, fastest2minwindspeed=12.08, fastest5secwinddir=10, fastest5secwindspeed=16.11, fog='No', fogheavy='No', mist='No', rain='No', fogground='No', ice='No', glaze='No', drizzle='No', snow='No', freezingrain='No', smokehaze='No', thunder='No', highwind='No', hail='No', blowingsnow='No', dust='No', freezingfog='No'),\n",
       " Row(date=datetime.datetime(2015, 6, 17, 0, 0), temperaturemin=73.9, temperaturemax=96.1, precipitation=0.51, snowfall=0.0, snowdepth=0.0, avgwindspeed=3.8, fastest2minwinddir=80, fastest2minwindspeed=16.11, fastest5secwinddir=160, fastest5secwindspeed=21.03, fog='Yes', fogheavy='No', mist='No', rain='No', fogground='No', ice='No', glaze='No', drizzle='No', snow='No', freezingrain='No', smokehaze='No', thunder='Yes', highwind='No', hail='No', blowingsnow='No', dust='No', freezingfog='No'),\n",
       " Row(date=datetime.datetime(2015, 6, 23, 0, 0), temperaturemin=75.9, temperaturemax=98.1, precipitation=0.0, snowfall=0.0, snowdepth=0.0, avgwindspeed=8.28, fastest2minwinddir=220, fastest2minwindspeed=17.0, fastest5secwinddir=230, fastest5secwindspeed=21.92, fog='No', fogheavy='No', mist='No', rain='No', fogground='No', ice='No', glaze='No', drizzle='No', snow='No', freezingrain='No', smokehaze='No', thunder='No', highwind='No', hail='No', blowingsnow='No', dust='No', freezingfog='No'),\n",
       " Row(date=datetime.datetime(2015, 6, 25, 0, 0), temperaturemin=71.1, temperaturemax=91.9, precipitation=0.31, snowfall=0.0, snowdepth=0.0, avgwindspeed=5.82, fastest2minwinddir=230, fastest2minwindspeed=19.91, fastest5secwinddir=230, fastest5secwindspeed=25.05, fog='Yes', fogheavy='No', mist='No', rain='No', fogground='No', ice='No', glaze='No', drizzle='No', snow='No', freezingrain='No', smokehaze='No', thunder='Yes', highwind='No', hail='No', blowingsnow='No', dust='No', freezingfog='No'),\n",
       " Row(date=datetime.datetime(2015, 6, 30, 0, 0), temperaturemin=66.9, temperaturemax=91.9, precipitation=0.02, snowfall=0.0, snowdepth=0.0, avgwindspeed=6.71, fastest2minwinddir=240, fastest2minwindspeed=23.04, fastest5secwinddir=240, fastest5secwindspeed=27.96, fog='Yes', fogheavy='No', mist='No', rain='No', fogground='No', ice='No', glaze='No', drizzle='No', snow='No', freezingrain='No', smokehaze='No', thunder='Yes', highwind='No', hail='No', blowingsnow='No', dust='No', freezingfog='No'),\n",
       " Row(date=datetime.datetime(2015, 7, 24, 0, 0), temperaturemin=68.0, temperaturemax=86.0, precipitation=0.0, snowfall=0.0, snowdepth=0.0, avgwindspeed=5.14, fastest2minwinddir=50, fastest2minwindspeed=16.11, fastest5secwinddir=40, fastest5secwindspeed=19.91, fog='Yes', fogheavy='No', mist='No', rain='No', fogground='No', ice='No', glaze='No', drizzle='No', snow='No', freezingrain='No', smokehaze='No', thunder='No', highwind='No', hail='No', blowingsnow='No', dust='No', freezingfog='No'),\n",
       " Row(date=datetime.datetime(2015, 7, 31, 0, 0), temperaturemin=71.1, temperaturemax=91.0, precipitation=0.0, snowfall=0.0, snowdepth=0.0, avgwindspeed=3.8, fastest2minwinddir=40, fastest2minwindspeed=12.97, fastest5secwinddir=30, fastest5secwindspeed=17.0, fog='No', fogheavy='No', mist='No', rain='No', fogground='No', ice='No', glaze='No', drizzle='No', snow='No', freezingrain='No', smokehaze='No', thunder='No', highwind='No', hail='No', blowingsnow='No', dust='No', freezingfog='No'),\n",
       " Row(date=datetime.datetime(2015, 8, 3, 0, 0), temperaturemin=69.1, temperaturemax=95.0, precipitation=0.0, snowfall=0.0, snowdepth=0.0, avgwindspeed=6.26, fastest2minwinddir=220, fastest2minwindspeed=14.99, fastest5secwinddir=220, fastest5secwindspeed=21.03, fog='No', fogheavy='No', mist='No', rain='No', fogground='No', ice='No', glaze='No', drizzle='No', snow='No', freezingrain='No', smokehaze='No', thunder='No', highwind='No', hail='No', blowingsnow='No', dust='No', freezingfog='No'),\n",
       " Row(date=datetime.datetime(2015, 8, 7, 0, 0), temperaturemin=70.0, temperaturemax=75.0, precipitation=0.02, snowfall=0.0, snowdepth=0.0, avgwindspeed=5.82, fastest2minwinddir=40, fastest2minwindspeed=12.08, fastest5secwinddir=10, fastest5secwindspeed=14.99, fog='Yes', fogheavy='No', mist='No', rain='No', fogground='No', ice='No', glaze='No', drizzle='No', snow='No', freezingrain='No', smokehaze='No', thunder='No', highwind='No', hail='No', blowingsnow='No', dust='No', freezingfog='No'),\n",
       " Row(date=datetime.datetime(2015, 8, 13, 0, 0), temperaturemin=63.0, temperaturemax=88.0, precipitation=0.0, snowfall=0.0, snowdepth=0.0, avgwindspeed=2.46, fastest2minwinddir=80, fastest2minwindspeed=12.08, fastest5secwinddir=100, fastest5secwindspeed=18.12, fog='No', fogheavy='No', mist='No', rain='No', fogground='No', ice='No', glaze='No', drizzle='No', snow='No', freezingrain='No', smokehaze='No', thunder='No', highwind='No', hail='No', blowingsnow='No', dust='No', freezingfog='No'),\n",
       " Row(date=datetime.datetime(2015, 8, 24, 0, 0), temperaturemin=72.0, temperaturemax=91.9, precipitation=0.89, snowfall=0.0, snowdepth=0.0, avgwindspeed=3.58, fastest2minwinddir=250, fastest2minwindspeed=17.0, fastest5secwinddir=180, fastest5secwindspeed=29.08, fog='Yes', fogheavy='No', mist='No', rain='No', fogground='No', ice='No', glaze='No', drizzle='No', snow='No', freezingrain='No', smokehaze='No', thunder='Yes', highwind='No', hail='No', blowingsnow='No', dust='No', freezingfog='No'),\n",
       " Row(date=datetime.datetime(2015, 9, 1, 0, 0), temperaturemin=66.9, temperaturemax=91.0, precipitation=0.0, snowfall=0.0, snowdepth=0.0, avgwindspeed=1.12, fastest2minwinddir=40, fastest2minwindspeed=8.05, fastest5secwinddir=40, fastest5secwindspeed=12.08, fog='Yes', fogheavy='Yes', mist='No', rain='No', fogground='No', ice='No', glaze='No', drizzle='No', snow='No', freezingrain='No', smokehaze='No', thunder='No', highwind='No', hail='No', blowingsnow='No', dust='No', freezingfog='No'),\n",
       " Row(date=datetime.datetime(2015, 9, 22, 0, 0), temperaturemin=66.0, temperaturemax=79.0, precipitation=0.0, snowfall=0.0, snowdepth=0.0, avgwindspeed=9.4, fastest2minwinddir=40, fastest2minwindspeed=18.12, fastest5secwinddir=50, fastest5secwindspeed=25.05, fog='No', fogheavy='No', mist='No', rain='No', fogground='No', ice='No', glaze='No', drizzle='No', snow='No', freezingrain='No', smokehaze='No', thunder='No', highwind='No', hail='No', blowingsnow='No', dust='No', freezingfog='No'),\n",
       " Row(date=datetime.datetime(2015, 10, 1, 0, 0), temperaturemin=57.9, temperaturemax=66.0, precipitation=0.34, snowfall=0.0, snowdepth=0.0, avgwindspeed=10.74, fastest2minwinddir=50, fastest2minwindspeed=19.91, fastest5secwinddir=50, fastest5secwindspeed=25.95, fog='Yes', fogheavy='No', mist='No', rain='No', fogground='No', ice='No', glaze='No', drizzle='No', snow='No', freezingrain='No', smokehaze='No', thunder='No', highwind='No', hail='No', blowingsnow='No', dust='No', freezingfog='No'),\n",
       " Row(date=datetime.datetime(2015, 10, 13, 0, 0), temperaturemin=60.1, temperaturemax=79.0, precipitation=0.0, snowfall=0.0, snowdepth=0.0, avgwindspeed=9.4, fastest2minwinddir=230, fastest2minwindspeed=17.0, fastest5secwinddir=220, fastest5secwindspeed=23.04, fog='No', fogheavy='No', mist='No', rain='No', fogground='No', ice='No', glaze='No', drizzle='No', snow='No', freezingrain='No', smokehaze='No', thunder='No', highwind='No', hail='No', blowingsnow='No', dust='No', freezingfog='No'),\n",
       " Row(date=datetime.datetime(2015, 10, 14, 0, 0), temperaturemin=52.0, temperaturemax=77.0, precipitation=0.0, snowfall=0.0, snowdepth=0.0, avgwindspeed=2.46, fastest2minwinddir=240, fastest2minwindspeed=14.99, fastest5secwinddir=230, fastest5secwindspeed=19.91, fog='No', fogheavy='No', mist='No', rain='No', fogground='No', ice='No', glaze='No', drizzle='No', snow='No', freezingrain='No', smokehaze='No', thunder='No', highwind='No', hail='No', blowingsnow='No', dust='No', freezingfog='No'),\n",
       " Row(date=datetime.datetime(2015, 10, 16, 0, 0), temperaturemin=46.9, temperaturemax=68.0, precipitation=0.01, snowfall=0.0, snowdepth=0.0, avgwindspeed=2.24, fastest2minwinddir=350, fastest2minwindspeed=8.05, fastest5secwinddir=360, fastest5secwindspeed=12.08, fog='Yes', fogheavy='No', mist='No', rain='No', fogground='No', ice='No', glaze='No', drizzle='No', snow='No', freezingrain='No', smokehaze='No', thunder='No', highwind='No', hail='No', blowingsnow='No', dust='No', freezingfog='No'),\n",
       " Row(date=datetime.datetime(2015, 10, 26, 0, 0), temperaturemin=52.0, temperaturemax=64.0, precipitation=0.0, snowfall=0.0, snowdepth=0.0, avgwindspeed=9.84, fastest2minwinddir=50, fastest2minwindspeed=18.12, fastest5secwinddir=40, fastest5secwindspeed=23.04, fog='No', fogheavy='No', mist='No', rain='No', fogground='No', ice='No', glaze='No', drizzle='No', snow='No', freezingrain='No', smokehaze='No', thunder='No', highwind='No', hail='No', blowingsnow='No', dust='No', freezingfog='No'),\n",
       " Row(date=datetime.datetime(2015, 10, 29, 0, 0), temperaturemin=57.0, temperaturemax=73.9, precipitation=0.05, snowfall=0.0, snowdepth=0.0, avgwindspeed=6.71, fastest2minwinddir=250, fastest2minwindspeed=12.97, fastest5secwinddir=300, fastest5secwindspeed=17.0, fog='Yes', fogheavy='No', mist='No', rain='No', fogground='No', ice='No', glaze='No', drizzle='No', snow='No', freezingrain='No', smokehaze='No', thunder='No', highwind='No', hail='No', blowingsnow='No', dust='No', freezingfog='No'),\n",
       " Row(date=datetime.datetime(2015, 10, 31, 0, 0), temperaturemin=39.9, temperaturemax=66.0, precipitation=0.0, snowfall=0.0, snowdepth=0.0, avgwindspeed=3.13, fastest2minwinddir=60, fastest2minwindspeed=8.95, fastest5secwinddir=130, fastest5secwindspeed=12.08, fog='No', fogheavy='No', mist='No', rain='No', fogground='No', ice='No', glaze='No', drizzle='No', snow='No', freezingrain='No', smokehaze='No', thunder='No', highwind='No', hail='No', blowingsnow='No', dust='No', freezingfog='No'),\n",
       " Row(date=datetime.datetime(2015, 11, 4, 0, 0), temperaturemin=59.0, temperaturemax=70.0, precipitation=0.0, snowfall=0.0, snowdepth=0.0, avgwindspeed=3.13, fastest2minwinddir=60, fastest2minwindspeed=8.95, fastest5secwinddir=60, fastest5secwindspeed=12.97, fog='Yes', fogheavy='No', mist='No', rain='No', fogground='No', ice='No', glaze='No', drizzle='No', snow='No', freezingrain='No', smokehaze='No', thunder='No', highwind='No', hail='No', blowingsnow='No', dust='No', freezingfog='No'),\n",
       " Row(date=datetime.datetime(2015, 11, 14, 0, 0), temperaturemin=34.0, temperaturemax=60.1, precipitation=0.0, snowfall=0.0, snowdepth=0.0, avgwindspeed=3.36, fastest2minwinddir=320, fastest2minwindspeed=12.97, fastest5secwinddir=300, fastest5secwindspeed=18.12, fog='No', fogheavy='No', mist='No', rain='No', fogground='No', ice='No', glaze='No', drizzle='No', snow='No', freezingrain='No', smokehaze='No', thunder='No', highwind='No', hail='No', blowingsnow='No', dust='No', freezingfog='No'),\n",
       " Row(date=datetime.datetime(2015, 11, 16, 0, 0), temperaturemin=36.0, temperaturemax=64.9, precipitation=0.0, snowfall=0.0, snowdepth=0.0, avgwindspeed=0.67, fastest2minwinddir=230, fastest2minwindspeed=8.05, fastest5secwinddir=220, fastest5secwindspeed=12.08, fog='No', fogheavy='No', mist='No', rain='No', fogground='No', ice='No', glaze='No', drizzle='No', snow='No', freezingrain='No', smokehaze='No', thunder='No', highwind='No', hail='No', blowingsnow='No', dust='No', freezingfog='No'),\n",
       " Row(date=datetime.datetime(2015, 12, 17, 0, 0), temperaturemin=51.1, temperaturemax=59.0, precipitation=0.89, snowfall=0.0, snowdepth=0.0, avgwindspeed=2.01, fastest2minwinddir=300, fastest2minwindspeed=14.09, fastest5secwinddir=310, fastest5secwindspeed=21.92, fog='Yes', fogheavy='Yes', mist='No', rain='No', fogground='No', ice='No', glaze='No', drizzle='No', snow='No', freezingrain='No', smokehaze='No', thunder='No', highwind='No', hail='No', blowingsnow='No', dust='No', freezingfog='No'),\n",
       " Row(date=datetime.datetime(2015, 12, 30, 0, 0), temperaturemin=63.0, temperaturemax=66.9, precipitation=1.79, snowfall=0.0, snowdepth=0.0, avgwindspeed=5.14, fastest2minwinddir=290, fastest2minwindspeed=14.99, fastest5secwinddir=290, fastest5secwindspeed=23.94, fog='Yes', fogheavy='No', mist='No', rain='No', fogground='No', ice='No', glaze='No', drizzle='No', snow='No', freezingrain='No', smokehaze='No', thunder='Yes', highwind='No', hail='No', blowingsnow='No', dust='No', freezingfog='No'),\n",
       " Row(date=datetime.datetime(2016, 1, 15, 0, 0), temperaturemin=35.1, temperaturemax=51.1, precipitation=0.37, snowfall=0.0, snowdepth=0.0, avgwindspeed=5.59, fastest2minwinddir=90, fastest2minwindspeed=25.05, fastest5secwinddir=90, fastest5secwindspeed=31.09, fog='Yes', fogheavy='No', mist='No', rain='No', fogground='No', ice='No', glaze='No', drizzle='No', snow='No', freezingrain='No', smokehaze='No', thunder='No', highwind='No', hail='No', blowingsnow='No', dust='No', freezingfog='No'),\n",
       " Row(date=datetime.datetime(2016, 1, 19, 0, 0), temperaturemin=18.1, temperaturemax=32.0, precipitation=0.0, snowfall=0.0, snowdepth=0.0, avgwindspeed=4.47, fastest2minwinddir=300, fastest2minwindspeed=14.09, fastest5secwinddir=290, fastest5secwindspeed=23.04, fog='No', fogheavy='No', mist='No', rain='No', fogground='No', ice='No', glaze='No', drizzle='No', snow='No', freezingrain='No', smokehaze='No', thunder='No', highwind='No', hail='No', blowingsnow='No', dust='No', freezingfog='No'),\n",
       " Row(date=datetime.datetime(2016, 1, 24, 0, 0), temperaturemin=28.2, temperaturemax=46.9, precipitation=0.0, snowfall=0.0, snowdepth=1.18, avgwindspeed=2.46, fastest2minwinddir=320, fastest2minwindspeed=10.07, fastest5secwinddir=310, fastest5secwindspeed=16.11, fog='No', fogheavy='No', mist='No', rain='No', fogground='No', ice='No', glaze='No', drizzle='No', snow='No', freezingrain='No', smokehaze='No', thunder='No', highwind='No', hail='No', blowingsnow='No', dust='No', freezingfog='No'),\n",
       " Row(date=datetime.datetime(2016, 3, 4, 0, 0), temperaturemin=35.1, temperaturemax=52.0, precipitation=0.08, snowfall=0.0, snowdepth=0.0, avgwindspeed=5.37, fastest2minwinddir=20, fastest2minwindspeed=12.97, fastest5secwinddir=30, fastest5secwindspeed=23.94, fog='Yes', fogheavy='No', mist='No', rain='No', fogground='No', ice='No', glaze='No', drizzle='No', snow='No', freezingrain='No', smokehaze='No', thunder='No', highwind='No', hail='No', blowingsnow='No', dust='No', freezingfog='No'),\n",
       " Row(date=datetime.datetime(2016, 3, 17, 0, 0), temperaturemin=46.0, temperaturemax=77.0, precipitation=0.0, snowfall=0.0, snowdepth=0.0, avgwindspeed=4.03, fastest2minwinddir=230, fastest2minwindspeed=21.03, fastest5secwinddir=240, fastest5secwindspeed=25.05, fog='No', fogheavy='No', mist='No', rain='No', fogground='No', ice='No', glaze='No', drizzle='No', snow='No', freezingrain='No', smokehaze='No', thunder='No', highwind='No', hail='No', blowingsnow='No', dust='No', freezingfog='No'),\n",
       " Row(date=datetime.datetime(2016, 3, 30, 0, 0), temperaturemin=42.1, temperaturemax=69.1, precipitation=0.0, snowfall=0.0, snowdepth=0.0, avgwindspeed=6.93, fastest2minwinddir=180, fastest2minwindspeed=16.11, fastest5secwinddir=180, fastest5secwindspeed=21.03, fog='No', fogheavy='No', mist='No', rain='No', fogground='No', ice='No', glaze='No', drizzle='No', snow='No', freezingrain='No', smokehaze='No', thunder='No', highwind='No', hail='No', blowingsnow='No', dust='No', freezingfog='No'),\n",
       " Row(date=datetime.datetime(2016, 4, 10, 0, 0), temperaturemin=29.1, temperaturemax=60.1, precipitation=0.0, snowfall=0.0, snowdepth=0.0, avgwindspeed=5.14, fastest2minwinddir=190, fastest2minwindspeed=12.08, fastest5secwinddir=110, fastest5secwindspeed=18.12, fog='No', fogheavy='No', mist='No', rain='No', fogground='No', ice='No', glaze='No', drizzle='No', snow='No', freezingrain='No', smokehaze='No', thunder='No', highwind='No', hail='No', blowingsnow='No', dust='No', freezingfog='No'),\n",
       " Row(date=datetime.datetime(2016, 4, 27, 0, 0), temperaturemin=64.0, temperaturemax=87.1, precipitation=0.52, snowfall=0.0, snowdepth=0.0, avgwindspeed=7.83, fastest2minwinddir=230, fastest2minwindspeed=17.0, fastest5secwinddir=230, fastest5secwindspeed=21.92, fog='Yes', fogheavy='No', mist='No', rain='No', fogground='No', ice='No', glaze='No', drizzle='No', snow='No', freezingrain='No', smokehaze='No', thunder='Yes', highwind='No', hail='No', blowingsnow='No', dust='No', freezingfog='No'),\n",
       " Row(date=datetime.datetime(2016, 5, 3, 0, 0), temperaturemin=63.0, temperaturemax=79.0, precipitation=0.44, snowfall=0.0, snowdepth=0.0, avgwindspeed=4.47, fastest2minwinddir=210, fastest2minwindspeed=14.99, fastest5secwinddir=210, fastest5secwindspeed=19.91, fog='Yes', fogheavy='No', mist='No', rain='No', fogground='No', ice='No', glaze='No', drizzle='No', snow='No', freezingrain='No', smokehaze='No', thunder='Yes', highwind='No', hail='Yes', blowingsnow='No', dust='No', freezingfog='No'),\n",
       " Row(date=datetime.datetime(2016, 5, 11, 0, 0), temperaturemin=63.0, temperaturemax=82.9, precipitation=0.0, snowfall=0.0, snowdepth=0.0, avgwindspeed=5.37, fastest2minwinddir=230, fastest2minwindspeed=14.99, fastest5secwinddir=220, fastest5secwindspeed=18.12, fog='Yes', fogheavy='No', mist='No', rain='No', fogground='No', ice='No', glaze='No', drizzle='No', snow='No', freezingrain='No', smokehaze='Yes', thunder='No', highwind='No', hail='No', blowingsnow='No', dust='No', freezingfog='No'),\n",
       " Row(date=datetime.datetime(2016, 5, 15, 0, 0), temperaturemin=48.0, temperaturemax=66.9, precipitation=0.0, snowfall=0.0, snowdepth=0.0, avgwindspeed=5.14, fastest2minwinddir=250, fastest2minwindspeed=17.0, fastest5secwinddir=240, fastest5secwindspeed=23.94, fog='No', fogheavy='No', mist='No', rain='No', fogground='No', ice='No', glaze='No', drizzle='No', snow='No', freezingrain='No', smokehaze='No', thunder='No', highwind='No', hail='No', blowingsnow='No', dust='No', freezingfog='No'),\n",
       " Row(date=datetime.datetime(2016, 5, 18, 0, 0), temperaturemin=57.0, temperaturemax=64.0, precipitation=0.1, snowfall=0.0, snowdepth=0.0, avgwindspeed=5.82, fastest2minwinddir=40, fastest2minwindspeed=12.97, fastest5secwinddir=30, fastest5secwindspeed=17.0, fog='Yes', fogheavy='No', mist='No', rain='No', fogground='No', ice='No', glaze='No', drizzle='No', snow='No', freezingrain='No', smokehaze='No', thunder='No', highwind='No', hail='No', blowingsnow='No', dust='No', freezingfog='No'),\n",
       " Row(date=datetime.datetime(2016, 5, 23, 0, 0), temperaturemin=51.1, temperaturemax=68.0, precipitation=0.02, snowfall=0.0, snowdepth=0.0, avgwindspeed=2.68, fastest2minwinddir=50, fastest2minwindspeed=14.09, fastest5secwinddir=40, fastest5secwindspeed=21.03, fog='Yes', fogheavy='No', mist='No', rain='No', fogground='No', ice='No', glaze='No', drizzle='No', snow='No', freezingrain='No', smokehaze='No', thunder='No', highwind='No', hail='No', blowingsnow='No', dust='No', freezingfog='No'),\n",
       " Row(date=datetime.datetime(2016, 5, 27, 0, 0), temperaturemin=68.0, temperaturemax=88.0, precipitation=0.0, snowfall=0.0, snowdepth=0.0, avgwindspeed=7.38, fastest2minwinddir=240, fastest2minwindspeed=12.97, fastest5secwinddir=210, fastest5secwindspeed=18.12, fog='No', fogheavy='No', mist='No', rain='No', fogground='No', ice='No', glaze='No', drizzle='No', snow='No', freezingrain='No', smokehaze='No', thunder='No', highwind='No', hail='No', blowingsnow='No', dust='No', freezingfog='No'),\n",
       " Row(date=datetime.datetime(2016, 6, 2, 0, 0), temperaturemin=70.0, temperaturemax=88.0, precipitation=0.0, snowfall=0.0, snowdepth=0.0, avgwindspeed=0.89, fastest2minwinddir=130, fastest2minwindspeed=8.05, fastest5secwinddir=130, fastest5secwindspeed=10.07, fog='No', fogheavy='No', mist='No', rain='No', fogground='No', ice='No', glaze='No', drizzle='No', snow='No', freezingrain='No', smokehaze='No', thunder='No', highwind='No', hail='No', blowingsnow='No', dust='No', freezingfog='No'),\n",
       " Row(date=datetime.datetime(2016, 6, 4, 0, 0), temperaturemin=69.1, temperaturemax=91.9, precipitation=0.61, snowfall=0.0, snowdepth=0.0, avgwindspeed=4.25, fastest2minwinddir=300, fastest2minwindspeed=17.0, fastest5secwinddir=300, fastest5secwindspeed=23.94, fog='Yes', fogheavy='No', mist='No', rain='No', fogground='No', ice='No', glaze='No', drizzle='No', snow='No', freezingrain='No', smokehaze='No', thunder='Yes', highwind='No', hail='No', blowingsnow='No', dust='No', freezingfog='No'),\n",
       " Row(date=datetime.datetime(2016, 6, 13, 0, 0), temperaturemin=62.1, temperaturemax=84.9, precipitation=0.0, snowfall=0.0, snowdepth=0.0, avgwindspeed=3.13, fastest2minwinddir=40, fastest2minwindspeed=12.97, fastest5secwinddir=300, fastest5secwindspeed=16.11, fog='No', fogheavy='No', mist='No', rain='No', fogground='No', ice='No', glaze='No', drizzle='No', snow='No', freezingrain='No', smokehaze='No', thunder='No', highwind='No', hail='No', blowingsnow='No', dust='No', freezingfog='No'),\n",
       " Row(date=datetime.datetime(2016, 6, 15, 0, 0), temperaturemin=70.0, temperaturemax=91.0, precipitation=0.45, snowfall=0.0, snowdepth=0.0, avgwindspeed=3.58, fastest2minwinddir=240, fastest2minwindspeed=33.11, fastest5secwinddir=230, fastest5secwindspeed=40.94, fog='Yes', fogheavy='No', mist='No', rain='No', fogground='No', ice='No', glaze='No', drizzle='No', snow='No', freezingrain='No', smokehaze='No', thunder='Yes', highwind='No', hail='No', blowingsnow='No', dust='No', freezingfog='No'),\n",
       " Row(date=datetime.datetime(2016, 6, 16, 0, 0), temperaturemin=73.0, temperaturemax=91.9, precipitation=0.0, snowfall=0.0, snowdepth=0.0, avgwindspeed=5.59, fastest2minwinddir=40, fastest2minwindspeed=14.99, fastest5secwinddir=40, fastest5secwindspeed=19.91, fog='Yes', fogheavy='No', mist='No', rain='No', fogground='No', ice='No', glaze='No', drizzle='No', snow='No', freezingrain='No', smokehaze='No', thunder='Yes', highwind='No', hail='No', blowingsnow='No', dust='No', freezingfog='No'),\n",
       " Row(date=datetime.datetime(2016, 6, 18, 0, 0), temperaturemin=59.0, temperaturemax=82.0, precipitation=0.0, snowfall=0.0, snowdepth=0.0, avgwindspeed=9.62, fastest2minwinddir=80, fastest2minwindspeed=23.04, fastest5secwinddir=80, fastest5secwindspeed=29.97, fog='No', fogheavy='No', mist='No', rain='No', fogground='No', ice='No', glaze='No', drizzle='No', snow='No', freezingrain='No', smokehaze='No', thunder='No', highwind='No', hail='No', blowingsnow='No', dust='No', freezingfog='No'),\n",
       " Row(date=datetime.datetime(2016, 6, 19, 0, 0), temperaturemin=55.9, temperaturemax=84.0, precipitation=0.0, snowfall=0.0, snowdepth=0.0, avgwindspeed=2.24, fastest2minwinddir=70, fastest2minwindspeed=12.97, fastest5secwinddir=110, fastest5secwindspeed=25.05, fog='No', fogheavy='No', mist='No', rain='No', fogground='No', ice='No', glaze='No', drizzle='No', snow='No', freezingrain='No', smokehaze='No', thunder='No', highwind='No', hail='No', blowingsnow='No', dust='No', freezingfog='No'),\n",
       " Row(date=datetime.datetime(2016, 6, 29, 0, 0), temperaturemin=69.1, temperaturemax=89.1, precipitation=0.91, snowfall=0.0, snowdepth=0.0, avgwindspeed=4.7, fastest2minwinddir=50, fastest2minwindspeed=36.91, fastest5secwinddir=20, fastest5secwindspeed=55.03, fog='Yes', fogheavy='No', mist='No', rain='No', fogground='No', ice='No', glaze='No', drizzle='No', snow='No', freezingrain='No', smokehaze='Yes', thunder='Yes', highwind='No', hail='No', blowingsnow='No', dust='No', freezingfog='No'),\n",
       " Row(date=datetime.datetime(2016, 6, 30, 0, 0), temperaturemin=69.1, temperaturemax=88.0, precipitation=0.01, snowfall=0.0, snowdepth=0.0, avgwindspeed=4.03, fastest2minwinddir=170, fastest2minwindspeed=14.99, fastest5secwinddir=180, fastest5secwindspeed=18.12, fog='Yes', fogheavy='No', mist='No', rain='No', fogground='No', ice='No', glaze='No', drizzle='No', snow='No', freezingrain='No', smokehaze='No', thunder='No', highwind='No', hail='No', blowingsnow='No', dust='No', freezingfog='No'),\n",
       " Row(date=datetime.datetime(2016, 7, 1, 0, 0), temperaturemin=72.0, temperaturemax=89.1, precipitation=0.0, snowfall=0.0, snowdepth=0.0, avgwindspeed=5.82, fastest2minwinddir=240, fastest2minwindspeed=14.99, fastest5secwinddir=240, fastest5secwindspeed=18.12, fog='Yes', fogheavy='No', mist='No', rain='No', fogground='No', ice='No', glaze='No', drizzle='No', snow='No', freezingrain='No', smokehaze='No', thunder='No', highwind='No', hail='No', blowingsnow='No', dust='No', freezingfog='No'),\n",
       " Row(date=datetime.datetime(2016, 7, 2, 0, 0), temperaturemin=71.1, temperaturemax=88.0, precipitation=1.66, snowfall=0.0, snowdepth=0.0, avgwindspeed=4.25, fastest2minwinddir=310, fastest2minwindspeed=17.0, fastest5secwinddir=290, fastest5secwindspeed=35.12, fog='Yes', fogheavy='No', mist='No', rain='No', fogground='No', ice='No', glaze='No', drizzle='No', snow='No', freezingrain='No', smokehaze='No', thunder='Yes', highwind='No', hail='No', blowingsnow='No', dust='No', freezingfog='No'),\n",
       " Row(date=datetime.datetime(2016, 7, 4, 0, 0), temperaturemin=69.1, temperaturemax=84.9, precipitation=0.02, snowfall=0.0, snowdepth=0.0, avgwindspeed=4.25, fastest2minwinddir=180, fastest2minwindspeed=14.99, fastest5secwinddir=180, fastest5secwindspeed=18.12, fog='Yes', fogheavy='Yes', mist='No', rain='No', fogground='No', ice='No', glaze='No', drizzle='No', snow='No', freezingrain='No', smokehaze='Yes', thunder='No', highwind='No', hail='No', blowingsnow='No', dust='No', freezingfog='No'),\n",
       " Row(date=datetime.datetime(2016, 7, 5, 0, 0), temperaturemin=73.0, temperaturemax=95.0, precipitation=0.42, snowfall=0.0, snowdepth=0.0, avgwindspeed=6.71, fastest2minwinddir=240, fastest2minwindspeed=31.09, fastest5secwinddir=240, fastest5secwindspeed=38.92, fog='Yes', fogheavy='No', mist='No', rain='No', fogground='No', ice='No', glaze='No', drizzle='No', snow='No', freezingrain='No', smokehaze='No', thunder='Yes', highwind='No', hail='No', blowingsnow='No', dust='No', freezingfog='No'),\n",
       " Row(date=datetime.datetime(2016, 7, 6, 0, 0), temperaturemin=72.0, temperaturemax=91.0, precipitation=0.0, snowfall=0.0, snowdepth=0.0, avgwindspeed=6.04, fastest2minwinddir=250, fastest2minwindspeed=17.0, fastest5secwinddir=20, fastest5secwindspeed=25.05, fog='No', fogheavy='No', mist='No', rain='No', fogground='No', ice='No', glaze='No', drizzle='No', snow='No', freezingrain='No', smokehaze='No', thunder='No', highwind='No', hail='No', blowingsnow='No', dust='No', freezingfog='No'),\n",
       " Row(date=datetime.datetime(2016, 7, 8, 0, 0), temperaturemin=71.1, temperaturemax=93.9, precipitation=0.25, snowfall=0.0, snowdepth=0.0, avgwindspeed=6.04, fastest2minwinddir=20, fastest2minwindspeed=21.92, fastest5secwinddir=20, fastest5secwindspeed=36.01, fog='Yes', fogheavy='No', mist='No', rain='No', fogground='No', ice='No', glaze='No', drizzle='No', snow='No', freezingrain='No', smokehaze='No', thunder='Yes', highwind='No', hail='No', blowingsnow='No', dust='No', freezingfog='No'),\n",
       " Row(date=datetime.datetime(2016, 7, 23, 0, 0), temperaturemin=72.0, temperaturemax=95.0, precipitation=0.0, snowfall=0.0, snowdepth=0.0, avgwindspeed=4.47, fastest2minwinddir=210, fastest2minwindspeed=12.08, fastest5secwinddir=220, fastest5secwindspeed=12.97, fog='No', fogheavy='No', mist='No', rain='No', fogground='No', ice='No', glaze='No', drizzle='No', snow='No', freezingrain='No', smokehaze='No', thunder='No', highwind='No', hail='No', blowingsnow='No', dust='No', freezingfog='No'),\n",
       " Row(date=datetime.datetime(2016, 7, 25, 0, 0), temperaturemin=77.0, temperaturemax=96.1, precipitation=0.0, snowfall=0.0, snowdepth=0.0, avgwindspeed=8.72, fastest2minwinddir=220, fastest2minwindspeed=14.99, fastest5secwinddir=210, fastest5secwindspeed=19.91, fog='No', fogheavy='No', mist='No', rain='No', fogground='No', ice='No', glaze='No', drizzle='No', snow='No', freezingrain='No', smokehaze='No', thunder='Yes', highwind='No', hail='No', blowingsnow='No', dust='No', freezingfog='No'),\n",
       " Row(date=datetime.datetime(2016, 8, 1, 0, 0), temperaturemin=73.0, temperaturemax=91.0, precipitation=0.04, snowfall=0.0, snowdepth=0.0, avgwindspeed=5.82, fastest2minwinddir=220, fastest2minwindspeed=12.97, fastest5secwinddir=210, fastest5secwindspeed=17.0, fog='No', fogheavy='No', mist='No', rain='No', fogground='No', ice='No', glaze='No', drizzle='No', snow='No', freezingrain='No', smokehaze='No', thunder='No', highwind='No', hail='No', blowingsnow='No', dust='No', freezingfog='No'),\n",
       " Row(date=datetime.datetime(2016, 8, 3, 0, 0), temperaturemin=73.0, temperaturemax=88.0, precipitation=0.0, snowfall=0.0, snowdepth=0.0, avgwindspeed=8.72, fastest2minwinddir=90, fastest2minwindspeed=14.99, fastest5secwinddir=80, fastest5secwindspeed=19.91, fog='Yes', fogheavy='No', mist='No', rain='No', fogground='No', ice='No', glaze='No', drizzle='No', snow='No', freezingrain='No', smokehaze='No', thunder='No', highwind='No', hail='No', blowingsnow='No', dust='No', freezingfog='No'),\n",
       " Row(date=datetime.datetime(2016, 8, 11, 0, 0), temperaturemin=73.9, temperaturemax=91.9, precipitation=0.0, snowfall=0.0, snowdepth=0.0, avgwindspeed=4.03, fastest2minwinddir=150, fastest2minwindspeed=12.08, fastest5secwinddir=160, fastest5secwindspeed=14.99, fog='No', fogheavy='No', mist='No', rain='No', fogground='No', ice='No', glaze='No', drizzle='No', snow='No', freezingrain='No', smokehaze='No', thunder='No', highwind='No', hail='No', blowingsnow='No', dust='No', freezingfog='No'),\n",
       " Row(date=datetime.datetime(2016, 8, 16, 0, 0), temperaturemin=75.0, temperaturemax=95.0, precipitation=0.0, snowfall=0.0, snowdepth=0.0, avgwindspeed=7.61, fastest2minwinddir=240, fastest2minwindspeed=14.09, fastest5secwinddir=170, fastest5secwindspeed=17.0, fog='No', fogheavy='No', mist='No', rain='No', fogground='No', ice='No', glaze='No', drizzle='No', snow='No', freezingrain='No', smokehaze='No', thunder='No', highwind='No', hail='No', blowingsnow='No', dust='No', freezingfog='No'),\n",
       " Row(date=datetime.datetime(2016, 8, 23, 0, 0), temperaturemin=64.9, temperaturemax=89.1, precipitation=0.0, snowfall=0.0, snowdepth=0.0, avgwindspeed=4.47, fastest2minwinddir=80, fastest2minwindspeed=12.97, fastest5secwinddir=80, fastest5secwindspeed=17.0, fog='No', fogheavy='No', mist='No', rain='No', fogground='No', ice='No', glaze='No', drizzle='No', snow='No', freezingrain='No', smokehaze='No', thunder='No', highwind='No', hail='No', blowingsnow='No', dust='No', freezingfog='No'),\n",
       " Row(date=datetime.datetime(2016, 9, 8, 0, 0), temperaturemin=68.0, temperaturemax=96.1, precipitation=0.0, snowfall=0.0, snowdepth=0.0, avgwindspeed=6.71, fastest2minwinddir=230, fastest2minwindspeed=16.11, fastest5secwinddir=240, fastest5secwindspeed=19.91, fog='No', fogheavy='No', mist='No', rain='No', fogground='No', ice='No', glaze='No', drizzle='No', snow='No', freezingrain='No', smokehaze='No', thunder='No', highwind='No', hail='No', blowingsnow='No', dust='No', freezingfog='No'),\n",
       " Row(date=datetime.datetime(2016, 9, 14, 0, 0), temperaturemin=66.0, temperaturemax=91.0, precipitation=0.0, snowfall=0.0, snowdepth=0.0, avgwindspeed=3.8, fastest2minwinddir=170, fastest2minwindspeed=12.97, fastest5secwinddir=190, fastest5secwindspeed=17.0, fog='Yes', fogheavy='No', mist='No', rain='No', fogground='No', ice='No', glaze='No', drizzle='No', snow='No', freezingrain='No', smokehaze='No', thunder='No', highwind='No', hail='No', blowingsnow='No', dust='No', freezingfog='No'),\n",
       " Row(date=datetime.datetime(2016, 9, 21, 0, 0), temperaturemin=70.0, temperaturemax=75.0, precipitation=0.49, snowfall=0.0, snowdepth=0.0, avgwindspeed=10.74, fastest2minwinddir=40, fastest2minwindspeed=18.12, fastest5secwinddir=40, fastest5secwindspeed=27.07, fog='Yes', fogheavy='No', mist='No', rain='No', fogground='No', ice='No', glaze='No', drizzle='No', snow='No', freezingrain='No', smokehaze='No', thunder='Yes', highwind='No', hail='No', blowingsnow='No', dust='No', freezingfog='No'),\n",
       " Row(date=datetime.datetime(2016, 9, 25, 0, 0), temperaturemin=69.1, temperaturemax=73.9, precipitation=0.0, snowfall=0.0, snowdepth=0.0, avgwindspeed=6.71, fastest2minwinddir=90, fastest2minwindspeed=12.97, fastest5secwinddir=130, fastest5secwindspeed=18.12, fog='Yes', fogheavy='No', mist='No', rain='No', fogground='No', ice='No', glaze='No', drizzle='No', snow='No', freezingrain='No', smokehaze='No', thunder='No', highwind='No', hail='No', blowingsnow='No', dust='No', freezingfog='No'),\n",
       " Row(date=datetime.datetime(2016, 9, 26, 0, 0), temperaturemin=64.9, temperaturemax=75.9, precipitation=0.02, snowfall=0.0, snowdepth=0.0, avgwindspeed=5.59, fastest2minwinddir=220, fastest2minwindspeed=12.08, fastest5secwinddir=220, fastest5secwindspeed=16.11, fog='Yes', fogheavy='No', mist='No', rain='No', fogground='No', ice='No', glaze='No', drizzle='No', snow='No', freezingrain='No', smokehaze='No', thunder='No', highwind='No', hail='No', blowingsnow='No', dust='No', freezingfog='No'),\n",
       " Row(date=datetime.datetime(2016, 9, 27, 0, 0), temperaturemin=66.9, temperaturemax=80.1, precipitation=0.0, snowfall=0.0, snowdepth=0.0, avgwindspeed=3.58, fastest2minwinddir=220, fastest2minwindspeed=14.09, fastest5secwinddir=230, fastest5secwindspeed=17.0, fog='No', fogheavy='No', mist='No', rain='No', fogground='No', ice='No', glaze='No', drizzle='No', snow='No', freezingrain='No', smokehaze='No', thunder='No', highwind='No', hail='No', blowingsnow='No', dust='No', freezingfog='No'),\n",
       " Row(date=datetime.datetime(2016, 9, 29, 0, 0), temperaturemin=64.9, temperaturemax=79.0, precipitation=0.32, snowfall=0.0, snowdepth=0.0, avgwindspeed=6.49, fastest2minwinddir=110, fastest2minwindspeed=18.12, fastest5secwinddir=120, fastest5secwindspeed=23.04, fog='Yes', fogheavy='No', mist='No', rain='No', fogground='No', ice='No', glaze='No', drizzle='No', snow='No', freezingrain='No', smokehaze='No', thunder='Yes', highwind='No', hail='No', blowingsnow='No', dust='No', freezingfog='No'),\n",
       " Row(date=datetime.datetime(2016, 10, 6, 0, 0), temperaturemin=59.0, temperaturemax=72.0, precipitation=0.02, snowfall=0.0, snowdepth=0.0, avgwindspeed=10.29, fastest2minwinddir=50, fastest2minwindspeed=17.0, fastest5secwinddir=20, fastest5secwindspeed=23.94, fog='Yes', fogheavy='No', mist='No', rain='No', fogground='No', ice='No', glaze='No', drizzle='No', snow='No', freezingrain='No', smokehaze='No', thunder='No', highwind='No', hail='No', blowingsnow='No', dust='No', freezingfog='No'),\n",
       " Row(date=datetime.datetime(2016, 10, 8, 0, 0), temperaturemin=63.0, temperaturemax=70.0, precipitation=6.45, snowfall=0.0, snowdepth=0.0, avgwindspeed=16.11, fastest2minwinddir=40, fastest2minwindspeed=31.99, fastest5secwinddir=40, fastest5secwindspeed=46.98, fog='Yes', fogheavy='No', mist='No', rain='No', fogground='No', ice='No', glaze='No', drizzle='No', snow='No', freezingrain='No', smokehaze='No', thunder='No', highwind='No', hail='No', blowingsnow='No', dust='No', freezingfog='No'),\n",
       " Row(date=datetime.datetime(2016, 10, 9, 0, 0), temperaturemin=52.0, temperaturemax=73.0, precipitation=0.13, snowfall=0.0, snowdepth=0.0, avgwindspeed=7.38, fastest2minwinddir=360, fastest2minwindspeed=17.0, fastest5secwinddir=310, fastest5secwindspeed=27.96, fog='No', fogheavy='No', mist='No', rain='No', fogground='No', ice='No', glaze='No', drizzle='No', snow='No', freezingrain='No', smokehaze='No', thunder='No', highwind='No', hail='No', blowingsnow='No', dust='No', freezingfog='No'),\n",
       " Row(date=datetime.datetime(2016, 10, 14, 0, 0), temperaturemin=53.1, temperaturemax=70.0, precipitation=0.0, snowfall=0.0, snowdepth=0.0, avgwindspeed=5.82, fastest2minwinddir=50, fastest2minwindspeed=14.09, fastest5secwinddir=40, fastest5secwindspeed=18.12, fog='No', fogheavy='No', mist='No', rain='No', fogground='No', ice='No', glaze='No', drizzle='No', snow='No', freezingrain='No', smokehaze='No', thunder='No', highwind='No', hail='No', blowingsnow='No', dust='No', freezingfog='No'),\n",
       " Row(date=datetime.datetime(2016, 10, 16, 0, 0), temperaturemin=51.1, temperaturemax=78.1, precipitation=0.0, snowfall=0.0, snowdepth=0.0, avgwindspeed=0.22, fastest2minwinddir=170, fastest2minwindspeed=8.05, fastest5secwinddir=160, fastest5secwindspeed=14.99, fog='Yes', fogheavy='No', mist='No', rain='No', fogground='No', ice='No', glaze='No', drizzle='No', snow='No', freezingrain='No', smokehaze='No', thunder='No', highwind='No', hail='No', blowingsnow='No', dust='No', freezingfog='No'),\n",
       " Row(date=datetime.datetime(2016, 11, 10, 0, 0), temperaturemin=37.0, temperaturemax=64.9, precipitation=0.0, snowfall=0.0, snowdepth=0.0, avgwindspeed=3.36, fastest2minwinddir=30, fastest2minwindspeed=12.97, fastest5secwinddir=40, fastest5secwindspeed=21.92, fog='No', fogheavy='No', mist='No', rain='No', fogground='No', ice='No', glaze='No', drizzle='No', snow='No', freezingrain='No', smokehaze='No', thunder='No', highwind='No', hail='No', blowingsnow='No', dust='No', freezingfog='No'),\n",
       " Row(date=datetime.datetime(2016, 11, 11, 0, 0), temperaturemin=36.0, temperaturemax=70.0, precipitation=0.0, snowfall=0.0, snowdepth=0.0, avgwindspeed=4.7, fastest2minwinddir=300, fastest2minwindspeed=12.97, fastest5secwinddir=270, fastest5secwindspeed=19.01, fog='No', fogheavy='No', mist='No', rain='No', fogground='No', ice='No', glaze='No', drizzle='No', snow='No', freezingrain='No', smokehaze='No', thunder='No', highwind='No', hail='No', blowingsnow='No', dust='No', freezingfog='No'),\n",
       " Row(date=datetime.datetime(2016, 11, 12, 0, 0), temperaturemin=30.2, temperaturemax=55.0, precipitation=0.0, snowfall=0.0, snowdepth=0.0, avgwindspeed=7.83, fastest2minwinddir=50, fastest2minwindspeed=19.91, fastest5secwinddir=40, fastest5secwindspeed=25.05, fog='No', fogheavy='No', mist='No', rain='No', fogground='No', ice='No', glaze='No', drizzle='No', snow='No', freezingrain='No', smokehaze='No', thunder='No', highwind='No', hail='No', blowingsnow='No', dust='No', freezingfog='No'),\n",
       " Row(date=datetime.datetime(2016, 11, 19, 0, 0), temperaturemin=42.1, temperaturemax=77.0, precipitation=0.0, snowfall=0.0, snowdepth=0.0, avgwindspeed=9.17, fastest2minwinddir=230, fastest2minwindspeed=23.94, fastest5secwinddir=290, fastest5secwindspeed=38.03, fog='Yes', fogheavy='No', mist='No', rain='No', fogground='No', ice='No', glaze='No', drizzle='No', snow='No', freezingrain='No', smokehaze='Yes', thunder='No', highwind='No', hail='No', blowingsnow='No', dust='No', freezingfog='No'),\n",
       " Row(date=datetime.datetime(2016, 11, 26, 0, 0), temperaturemin=32.0, temperaturemax=57.9, precipitation=0.0, snowfall=0.0, snowdepth=0.0, avgwindspeed=4.92, fastest2minwinddir=20, fastest2minwindspeed=14.09, fastest5secwinddir=330, fastest5secwindspeed=21.03, fog='Yes', fogheavy='No', mist='No', rain='No', fogground='No', ice='No', glaze='No', drizzle='No', snow='No', freezingrain='No', smokehaze='Yes', thunder='No', highwind='No', hail='No', blowingsnow='No', dust='No', freezingfog='No'),\n",
       " Row(date=datetime.datetime(2016, 12, 3, 0, 0), temperaturemin=33.1, temperaturemax=54.0, precipitation=0.0, snowfall=0.0, snowdepth=0.0, avgwindspeed=2.91, fastest2minwinddir=40, fastest2minwindspeed=12.97, fastest5secwinddir=50, fastest5secwindspeed=18.12, fog='No', fogheavy='No', mist='No', rain='No', fogground='No', ice='No', glaze='No', drizzle='No', snow='No', freezingrain='No', smokehaze='No', thunder='No', highwind='No', hail='No', blowingsnow='No', dust='No', freezingfog='No'),\n",
       " Row(date=datetime.datetime(2016, 12, 20, 0, 0), temperaturemin=29.1, temperaturemax=45.0, precipitation=0.0, snowfall=0.0, snowdepth=0.0, avgwindspeed=4.47, fastest2minwinddir=40, fastest2minwindspeed=12.97, fastest5secwinddir=30, fastest5secwindspeed=19.01, fog='No', fogheavy='No', mist='No', rain='No', fogground='No', ice='No', glaze='No', drizzle='No', snow='No', freezingrain='No', smokehaze='No', thunder='No', highwind='No', hail='No', blowingsnow='No', dust='No', freezingfog='No'),\n",
       " Row(date=datetime.datetime(2016, 12, 21, 0, 0), temperaturemin=27.1, temperaturemax=59.0, precipitation=0.0, snowfall=0.0, snowdepth=0.0, avgwindspeed=2.24, fastest2minwinddir=280, fastest2minwindspeed=8.95, fastest5secwinddir=140, fastest5secwindspeed=12.97, fog='Yes', fogheavy='No', mist='No', rain='No', fogground='No', ice='No', glaze='No', drizzle='No', snow='No', freezingrain='No', smokehaze='No', thunder='No', highwind='No', hail='No', blowingsnow='No', dust='No', freezingfog='No'),\n",
       " Row(date=datetime.datetime(2016, 12, 31, 0, 0), temperaturemin=23.2, temperaturemax=50.0, precipitation=0.0, snowfall=0.0, snowdepth=0.0, avgwindspeed=8.72, fastest2minwinddir=220, fastest2minwindspeed=21.03, fastest5secwinddir=230, fastest5secwindspeed=23.94, fog='No', fogheavy='No', mist='No', rain='No', fogground='No', ice='No', glaze='No', drizzle='No', snow='No', freezingrain='No', smokehaze='No', thunder='No', highwind='No', hail='No', blowingsnow='No', dust='No', freezingfog='No'),\n",
       " Row(date=datetime.datetime(2017, 1, 9, 0, 0), temperaturemin=9.1, temperaturemax=31.1, precipitation=0.0, snowfall=0.0, snowdepth=1.18, avgwindspeed=2.46, fastest2minwinddir=230, fastest2minwindspeed=8.95, fastest5secwinddir=230, fastest5secwindspeed=12.08, fog='No', fogheavy='No', mist='No', rain='No', fogground='No', ice='No', glaze='No', drizzle='No', snow='No', freezingrain='No', smokehaze='No', thunder='No', highwind='No', hail='No', blowingsnow='No', dust='No', freezingfog='No'),\n",
       " Row(date=datetime.datetime(2017, 1, 11, 0, 0), temperaturemin=39.9, temperaturemax=57.0, precipitation=0.0, snowfall=0.0, snowdepth=0.0, avgwindspeed=6.04, fastest2minwinddir=210, fastest2minwindspeed=12.97, fastest5secwinddir=200, fastest5secwindspeed=18.12, fog='Yes', fogheavy='Yes', mist='No', rain='No', fogground='No', ice='No', glaze='No', drizzle='No', snow='No', freezingrain='No', smokehaze='No', thunder='No', highwind='No', hail='No', blowingsnow='No', dust='No', freezingfog='No'),\n",
       " Row(date=datetime.datetime(2017, 1, 19, 0, 0), temperaturemin=36.0, temperaturemax=63.0, precipitation=0.0, snowfall=0.0, snowdepth=0.0, avgwindspeed=1.34, fastest2minwinddir=220, fastest2minwindspeed=8.05, fastest5secwinddir=160, fastest5secwindspeed=12.97, fog='No', fogheavy='No', mist='No', rain='No', fogground='No', ice='No', glaze='No', drizzle='No', snow='No', freezingrain='No', smokehaze='No', thunder='No', highwind='No', hail='No', blowingsnow='No', dust='No', freezingfog='No'),\n",
       " Row(date=datetime.datetime(2017, 1, 20, 0, 0), temperaturemin=46.0, temperaturemax=59.0, precipitation=0.09, snowfall=0.0, snowdepth=0.0, avgwindspeed=2.91, fastest2minwinddir=140, fastest2minwindspeed=8.95, fastest5secwinddir=120, fastest5secwindspeed=12.08, fog='Yes', fogheavy='Yes', mist='No', rain='No', fogground='No', ice='No', glaze='No', drizzle='No', snow='No', freezingrain='No', smokehaze='No', thunder='No', highwind='No', hail='No', blowingsnow='No', dust='No', freezingfog='No'),\n",
       " Row(date=datetime.datetime(2017, 1, 24, 0, 0), temperaturemin=41.0, temperaturemax=63.0, precipitation=0.0, snowfall=0.0, snowdepth=0.0, avgwindspeed=6.04, fastest2minwinddir=290, fastest2minwindspeed=19.91, fastest5secwinddir=310, fastest5secwindspeed=29.08, fog='No', fogheavy='No', mist='No', rain='No', fogground='No', ice='No', glaze='No', drizzle='No', snow='No', freezingrain='No', smokehaze='No', thunder='No', highwind='No', hail='No', blowingsnow='No', dust='No', freezingfog='No'),\n",
       " Row(date=datetime.datetime(2017, 1, 26, 0, 0), temperaturemin=43.0, temperaturemax=70.0, precipitation=0.06, snowfall=0.0, snowdepth=0.0, avgwindspeed=13.42, fastest2minwinddir=280, fastest2minwindspeed=23.94, fastest5secwinddir=320, fastest5secwindspeed=38.03, fog='No', fogheavy='No', mist='No', rain='No', fogground='No', ice='No', glaze='No', drizzle='No', snow='No', freezingrain='No', smokehaze='No', thunder='No', highwind='No', hail='No', blowingsnow='No', dust='No', freezingfog='No'),\n",
       " Row(date=datetime.datetime(2017, 1, 30, 0, 0), temperaturemin=30.2, temperaturemax=46.0, precipitation=0.0, snowfall=0.0, snowdepth=0.0, avgwindspeed=6.26, fastest2minwinddir=270, fastest2minwindspeed=21.03, fastest5secwinddir=280, fastest5secwindspeed=29.08, fog='No', fogheavy='No', mist='No', rain='No', fogground='No', ice='No', glaze='No', drizzle='No', snow='No', freezingrain='No', smokehaze='No', thunder='No', highwind='No', hail='No', blowingsnow='No', dust='No', freezingfog='No'),\n",
       " Row(date=datetime.datetime(2017, 2, 6, 0, 0), temperaturemin=31.1, temperaturemax=68.0, precipitation=0.0, snowfall=0.0, snowdepth=0.0, avgwindspeed=4.7, fastest2minwinddir=210, fastest2minwindspeed=12.97, fastest5secwinddir=220, fastest5secwindspeed=16.11, fog='No', fogheavy='No', mist='No', rain='No', fogground='No', ice='No', glaze='No', drizzle='No', snow='No', freezingrain='No', smokehaze='No', thunder='No', highwind='No', hail='No', blowingsnow='No', dust='No', freezingfog='No'),\n",
       " Row(date=datetime.datetime(2017, 2, 10, 0, 0), temperaturemin=26.2, temperaturemax=51.1, precipitation=0.0, snowfall=0.0, snowdepth=0.0, avgwindspeed=6.71, fastest2minwinddir=210, fastest2minwindspeed=21.92, fastest5secwinddir=220, fastest5secwindspeed=25.95, fog='No', fogheavy='No', mist='No', rain='No', fogground='No', ice='No', glaze='No', drizzle='No', snow='No', freezingrain='No', smokehaze='Yes', thunder='No', highwind='No', hail='No', blowingsnow='No', dust='No', freezingfog='No'),\n",
       " Row(date=datetime.datetime(2017, 2, 12, 0, 0), temperaturemin=57.9, temperaturemax=82.9, precipitation=0.05, snowfall=0.0, snowdepth=0.0, avgwindspeed=11.41, fastest2minwinddir=230, fastest2minwindspeed=25.05, fastest5secwinddir=240, fastest5secwindspeed=33.11, fog='Yes', fogheavy='No', mist='No', rain='No', fogground='No', ice='No', glaze='No', drizzle='No', snow='No', freezingrain='No', smokehaze='Yes', thunder='No', highwind='No', hail='No', blowingsnow='No', dust='No', freezingfog='No'),\n",
       " Row(date=datetime.datetime(2017, 2, 16, 0, 0), temperaturemin=32.0, temperaturemax=53.1, precipitation=0.0, snowfall=0.0, snowdepth=0.0, avgwindspeed=6.71, fastest2minwinddir=270, fastest2minwindspeed=21.03, fastest5secwinddir=270, fastest5secwindspeed=29.97, fog='No', fogheavy='No', mist='No', rain='No', fogground='No', ice='No', glaze='No', drizzle='No', snow='No', freezingrain='No', smokehaze='No', thunder='No', highwind='No', hail='No', blowingsnow='No', dust='No', freezingfog='No'),\n",
       " Row(date=datetime.datetime(2017, 3, 6, 0, 0), temperaturemin=34.0, temperaturemax=64.9, precipitation=0.0, snowfall=0.0, snowdepth=0.0, avgwindspeed=6.71, fastest2minwinddir=220, fastest2minwindspeed=17.0, fastest5secwinddir=220, fastest5secwindspeed=21.03, fog='No', fogheavy='No', mist='No', rain='No', fogground='No', ice='No', glaze='No', drizzle='No', snow='No', freezingrain='No', smokehaze='No', thunder='No', highwind='No', hail='No', blowingsnow='No', dust='No', freezingfog='No'),\n",
       " Row(date=datetime.datetime(2017, 3, 13, 0, 0), temperaturemin=26.2, temperaturemax=42.1, precipitation=0.56, snowfall=0.0, snowdepth=0.0, avgwindspeed=8.28, fastest2minwinddir=80, fastest2minwindspeed=18.12, fastest5secwinddir=40, fastest5secwindspeed=23.04, fog='Yes', fogheavy='No', mist='No', rain='No', fogground='No', ice='No', glaze='No', drizzle='No', snow='No', freezingrain='No', smokehaze='No', thunder='No', highwind='No', hail='No', blowingsnow='No', dust='No', freezingfog='No'),\n",
       " Row(date=datetime.datetime(2017, 3, 15, 0, 0), temperaturemin=24.3, temperaturemax=39.9, precipitation=0.0, snowfall=0.0, snowdepth=0.0, avgwindspeed=10.51, fastest2minwinddir=290, fastest2minwindspeed=23.94, fastest5secwinddir=260, fastest5secwindspeed=35.12, fog='No', fogheavy='No', mist='No', rain='No', fogground='No', ice='No', glaze='No', drizzle='No', snow='No', freezingrain='No', smokehaze='No', thunder='No', highwind='No', hail='No', blowingsnow='No', dust='No', freezingfog='No'),\n",
       " Row(date=datetime.datetime(2017, 3, 17, 0, 0), temperaturemin=23.2, temperaturemax=57.9, precipitation=0.03, snowfall=0.0, snowdepth=0.0, avgwindspeed=4.92, fastest2minwinddir=230, fastest2minwindspeed=16.11, fastest5secwinddir=230, fastest5secwindspeed=19.91, fog='Yes', fogheavy='No', mist='No', rain='No', fogground='No', ice='No', glaze='No', drizzle='No', snow='No', freezingrain='No', smokehaze='No', thunder='No', highwind='No', hail='No', blowingsnow='No', dust='No', freezingfog='No'),\n",
       " Row(date=datetime.datetime(2017, 3, 22, 0, 0), temperaturemin=39.0, temperaturemax=64.0, precipitation=0.0, snowfall=0.0, snowdepth=0.0, avgwindspeed=8.28, fastest2minwinddir=50, fastest2minwindspeed=21.03, fastest5secwinddir=50, fastest5secwindspeed=29.08, fog='No', fogheavy='No', mist='No', rain='No', fogground='No', ice='No', glaze='No', drizzle='No', snow='No', freezingrain='No', smokehaze='No', thunder='No', highwind='No', hail='No', blowingsnow='No', dust='No', freezingfog='No'),\n",
       " Row(date=datetime.datetime(2017, 3, 23, 0, 0), temperaturemin=31.1, temperaturemax=55.9, precipitation=0.0, snowfall=0.0, snowdepth=0.0, avgwindspeed=7.38, fastest2minwinddir=50, fastest2minwindspeed=14.09, fastest5secwinddir=50, fastest5secwindspeed=18.12, fog='No', fogheavy='No', mist='No', rain='No', fogground='No', ice='No', glaze='No', drizzle='No', snow='No', freezingrain='No', smokehaze='No', thunder='No', highwind='No', hail='No', blowingsnow='No', dust='No', freezingfog='No'),\n",
       " Row(date=datetime.datetime(2017, 4, 1, 0, 0), temperaturemin=48.9, temperaturemax=75.0, precipitation=0.0, snowfall=0.0, snowdepth=0.0, avgwindspeed=6.04, fastest2minwinddir=20, fastest2minwindspeed=14.09, fastest5secwinddir=330, fastest5secwindspeed=25.95, fog='No', fogheavy='No', mist='No', rain='No', fogground='No', ice='No', glaze='No', drizzle='No', snow='No', freezingrain='No', smokehaze='No', thunder='No', highwind='No', hail='No', blowingsnow='No', dust='No', freezingfog='No'),\n",
       " Row(date=datetime.datetime(2017, 4, 2, 0, 0), temperaturemin=48.9, temperaturemax=69.1, precipitation=0.0, snowfall=0.0, snowdepth=0.0, avgwindspeed=6.04, fastest2minwinddir=80, fastest2minwindspeed=16.11, fastest5secwinddir=90, fastest5secwindspeed=21.03, fog='No', fogheavy='No', mist='No', rain='No', fogground='No', ice='No', glaze='No', drizzle='No', snow='No', freezingrain='No', smokehaze='No', thunder='No', highwind='No', hail='No', blowingsnow='No', dust='No', freezingfog='No'),\n",
       " Row(date=datetime.datetime(2017, 4, 15, 0, 0), temperaturemin=61.0, temperaturemax=84.9, precipitation=0.0, snowfall=0.0, snowdepth=0.0, avgwindspeed=9.62, fastest2minwinddir=220, fastest2minwindspeed=21.03, fastest5secwinddir=220, fastest5secwindspeed=27.07, fog='No', fogheavy='No', mist='No', rain='No', fogground='No', ice='No', glaze='No', drizzle='No', snow='No', freezingrain='No', smokehaze='No', thunder='No', highwind='No', hail='No', blowingsnow='No', dust='No', freezingfog='No'),\n",
       " Row(date=datetime.datetime(2017, 4, 16, 0, 0), temperaturemin=60.1, temperaturemax=82.0, precipitation=0.0, snowfall=0.0, snowdepth=0.0, avgwindspeed=12.75, fastest2minwinddir=250, fastest2minwindspeed=23.04, fastest5secwinddir=240, fastest5secwindspeed=31.09, fog='No', fogheavy='No', mist='No', rain='No', fogground='No', ice='No', glaze='No', drizzle='No', snow='No', freezingrain='No', smokehaze='Yes', thunder='No', highwind='No', hail='No', blowingsnow='No', dust='No', freezingfog='No'),\n",
       " Row(date=datetime.datetime(2017, 4, 17, 0, 0), temperaturemin=62.1, temperaturemax=86.0, precipitation=0.05, snowfall=0.0, snowdepth=0.0, avgwindspeed=9.84, fastest2minwinddir=310, fastest2minwindspeed=19.91, fastest5secwinddir=300, fastest5secwindspeed=31.99, fog='Yes', fogheavy='No', mist='No', rain='No', fogground='No', ice='No', glaze='No', drizzle='No', snow='No', freezingrain='No', smokehaze='No', thunder='No', highwind='No', hail='No', blowingsnow='No', dust='No', freezingfog='No'),\n",
       " Row(date=datetime.datetime(2017, 4, 20, 0, 0), temperaturemin=55.9, temperaturemax=84.9, precipitation=0.0, snowfall=0.0, snowdepth=0.0, avgwindspeed=5.82, fastest2minwinddir=230, fastest2minwindspeed=14.99, fastest5secwinddir=230, fastest5secwindspeed=21.03, fog='Yes', fogheavy='No', mist='No', rain='No', fogground='No', ice='No', glaze='No', drizzle='No', snow='No', freezingrain='No', smokehaze='Yes', thunder='No', highwind='No', hail='No', blowingsnow='No', dust='No', freezingfog='No'),\n",
       " Row(date=datetime.datetime(2017, 4, 21, 0, 0), temperaturemin=63.0, temperaturemax=89.1, precipitation=0.21, snowfall=0.0, snowdepth=0.0, avgwindspeed=6.93, fastest2minwinddir=230, fastest2minwindspeed=18.12, fastest5secwinddir=230, fastest5secwindspeed=21.92, fog='Yes', fogheavy='No', mist='No', rain='No', fogground='No', ice='No', glaze='No', drizzle='No', snow='No', freezingrain='No', smokehaze='No', thunder='No', highwind='No', hail='No', blowingsnow='No', dust='No', freezingfog='No'),\n",
       " Row(date=datetime.datetime(2017, 5, 1, 0, 0), temperaturemin=68.0, temperaturemax=84.9, precipitation=0.29, snowfall=0.0, snowdepth=0.0, avgwindspeed=15.66, fastest2minwinddir=200, fastest2minwindspeed=27.96, fastest5secwinddir=200, fastest5secwindspeed=42.05, fog='Yes', fogheavy='No', mist='No', rain='No', fogground='No', ice='No', glaze='No', drizzle='No', snow='No', freezingrain='No', smokehaze='No', thunder='Yes', highwind='No', hail='No', blowingsnow='No', dust='No', freezingfog='No'),\n",
       " Row(date=datetime.datetime(2017, 5, 11, 0, 0), temperaturemin=61.0, temperaturemax=84.0, precipitation=0.48, snowfall=0.0, snowdepth=0.0, avgwindspeed=4.92, fastest2minwinddir=20, fastest2minwindspeed=23.94, fastest5secwinddir=20, fastest5secwindspeed=44.96, fog='Yes', fogheavy='No', mist='No', rain='No', fogground='No', ice='No', glaze='No', drizzle='No', snow='No', freezingrain='No', smokehaze='Yes', thunder='Yes', highwind='No', hail='No', blowingsnow='No', dust='No', freezingfog='No'),\n",
       " Row(date=datetime.datetime(2017, 5, 12, 0, 0), temperaturemin=54.0, temperaturemax=61.0, precipitation=0.07, snowfall=0.0, snowdepth=0.0, avgwindspeed=7.61, fastest2minwinddir=40, fastest2minwindspeed=16.11, fastest5secwinddir=80, fastest5secwindspeed=21.03, fog='Yes', fogheavy='No', mist='No', rain='No', fogground='No', ice='No', glaze='No', drizzle='No', snow='No', freezingrain='No', smokehaze='No', thunder='No', highwind='No', hail='No', blowingsnow='No', dust='No', freezingfog='No'),\n",
       " Row(date=datetime.datetime(2017, 5, 18, 0, 0), temperaturemin=66.0, temperaturemax=86.0, precipitation=0.0, snowfall=0.0, snowdepth=0.0, avgwindspeed=10.96, fastest2minwinddir=230, fastest2minwindspeed=18.12, fastest5secwinddir=240, fastest5secwindspeed=23.94, fog='No', fogheavy='No', mist='No', rain='No', fogground='No', ice='No', glaze='No', drizzle='No', snow='No', freezingrain='No', smokehaze='No', thunder='No', highwind='No', hail='No', blowingsnow='No', dust='No', freezingfog='No'),\n",
       " Row(date=datetime.datetime(2017, 5, 26, 0, 0), temperaturemin=59.0, temperaturemax=81.0, precipitation=0.0, snowfall=0.0, snowdepth=0.0, avgwindspeed=7.83, fastest2minwinddir=280, fastest2minwindspeed=18.12, fastest5secwinddir=270, fastest5secwindspeed=25.05, fog='No', fogheavy='No', mist='No', rain='No', fogground='No', ice='No', glaze='No', drizzle='No', snow='No', freezingrain='No', smokehaze='No', thunder='No', highwind='No', hail='No', blowingsnow='No', dust='No', freezingfog='No'),\n",
       " Row(date=datetime.datetime(2017, 5, 30, 0, 0), temperaturemin=68.0, temperaturemax=82.0, precipitation=0.06, snowfall=0.0, snowdepth=0.0, avgwindspeed=4.03, fastest2minwinddir=220, fastest2minwindspeed=12.08, fastest5secwinddir=220, fastest5secwindspeed=14.99, fog='Yes', fogheavy='No', mist='No', rain='No', fogground='No', ice='No', glaze='No', drizzle='No', snow='No', freezingrain='No', smokehaze='No', thunder='No', highwind='No', hail='No', blowingsnow='No', dust='No', freezingfog='No'),\n",
       " Row(date=datetime.datetime(2017, 6, 3, 0, 0), temperaturemin=57.0, temperaturemax=88.0, precipitation=0.0, snowfall=0.0, snowdepth=0.0, avgwindspeed=3.36, fastest2minwinddir=230, fastest2minwindspeed=14.99, fastest5secwinddir=250, fastest5secwindspeed=19.91, fog='No', fogheavy='No', mist='No', rain='No', fogground='No', ice='No', glaze='No', drizzle='No', snow='No', freezingrain='No', smokehaze='Yes', thunder='No', highwind='No', hail='No', blowingsnow='No', dust='No', freezingfog='No'),\n",
       " Row(date=datetime.datetime(2017, 6, 5, 0, 0), temperaturemin=66.9, temperaturemax=84.9, precipitation=1.54, snowfall=0.0, snowdepth=0.0, avgwindspeed=6.04, fastest2minwinddir=220, fastest2minwindspeed=23.94, fastest5secwinddir=220, fastest5secwindspeed=29.08, fog='Yes', fogheavy='No', mist='No', rain='No', fogground='No', ice='No', glaze='No', drizzle='No', snow='No', freezingrain='No', smokehaze='No', thunder='Yes', highwind='No', hail='No', blowingsnow='No', dust='No', freezingfog='No'),\n",
       " Row(date=datetime.datetime(2017, 6, 11, 0, 0), temperaturemin=66.9, temperaturemax=90.0, precipitation=0.0, snowfall=0.0, snowdepth=0.0, avgwindspeed=6.26, fastest2minwinddir=240, fastest2minwindspeed=14.99, fastest5secwinddir=270, fastest5secwindspeed=21.03, fog='No', fogheavy='No', mist='No', rain='No', fogground='No', ice='No', glaze='No', drizzle='No', snow='No', freezingrain='No', smokehaze='No', thunder='No', highwind='No', hail='No', blowingsnow='No', dust='No', freezingfog='No'),\n",
       " Row(date=datetime.datetime(2017, 6, 16, 0, 0), temperaturemin=70.0, temperaturemax=89.1, precipitation=2.3, snowfall=0.0, snowdepth=0.0, avgwindspeed=4.03, fastest2minwinddir=170, fastest2minwindspeed=23.04, fastest5secwinddir=160, fastest5secwindspeed=29.08, fog='Yes', fogheavy='No', mist='No', rain='No', fogground='No', ice='No', glaze='No', drizzle='No', snow='No', freezingrain='No', smokehaze='No', thunder='Yes', highwind='No', hail='No', blowingsnow='No', dust='No', freezingfog='No'),\n",
       " Row(date=datetime.datetime(2017, 6, 18, 0, 0), temperaturemin=73.9, temperaturemax=91.0, precipitation=0.17, snowfall=0.0, snowdepth=0.0, avgwindspeed=8.72, fastest2minwinddir=190, fastest2minwindspeed=17.0, fastest5secwinddir=230, fastest5secwindspeed=40.04, fog='No', fogheavy='No', mist='No', rain='No', fogground='No', ice='No', glaze='No', drizzle='No', snow='No', freezingrain='No', smokehaze='No', thunder='No', highwind='No', hail='No', blowingsnow='No', dust='No', freezingfog='No'),\n",
       " Row(date=datetime.datetime(2017, 6, 25, 0, 0), temperaturemin=66.9, temperaturemax=84.0, precipitation=0.0, snowfall=0.0, snowdepth=0.0, avgwindspeed=3.58, fastest2minwinddir=360, fastest2minwindspeed=12.08, fastest5secwinddir=290, fastest5secwindspeed=17.0, fog='Yes', fogheavy='No', mist='No', rain='No', fogground='No', ice='No', glaze='No', drizzle='No', snow='No', freezingrain='No', smokehaze='No', thunder='No', highwind='No', hail='No', blowingsnow='No', dust='No', freezingfog='No'),\n",
       " Row(date=datetime.datetime(2017, 6, 28, 0, 0), temperaturemin=57.0, temperaturemax=82.9, precipitation=0.0, snowfall=0.0, snowdepth=0.0, avgwindspeed=4.25, fastest2minwinddir=80, fastest2minwindspeed=12.97, fastest5secwinddir=30, fastest5secwindspeed=18.12, fog='No', fogheavy='No', mist='No', rain='No', fogground='No', ice='No', glaze='No', drizzle='No', snow='No', freezingrain='No', smokehaze='No', thunder='No', highwind='No', hail='No', blowingsnow='No', dust='No', freezingfog='No'),\n",
       " Row(date=datetime.datetime(2017, 7, 13, 0, 0), temperaturemin=78.1, temperaturemax=97.0, precipitation=0.0, snowfall=0.0, snowdepth=0.0, avgwindspeed=8.5, fastest2minwinddir=220, fastest2minwindspeed=17.0, fastest5secwinddir=280, fastest5secwindspeed=23.94, fog='No', fogheavy='No', mist='No', rain='No', fogground='No', ice='No', glaze='No', drizzle='No', snow='No', freezingrain='No', smokehaze='No', thunder='Yes', highwind='No', hail='No', blowingsnow='No', dust='No', freezingfog='No'),\n",
       " Row(date=datetime.datetime(2017, 7, 14, 0, 0), temperaturemin=77.0, temperaturemax=97.0, precipitation=0.0, snowfall=0.0, snowdepth=0.0, avgwindspeed=9.4, fastest2minwinddir=230, fastest2minwindspeed=21.03, fastest5secwinddir=240, fastest5secwindspeed=25.95, fog='No', fogheavy='No', mist='No', rain='No', fogground='No', ice='No', glaze='No', drizzle='No', snow='No', freezingrain='No', smokehaze='No', thunder='Yes', highwind='No', hail='No', blowingsnow='No', dust='No', freezingfog='No'),\n",
       " Row(date=datetime.datetime(2017, 7, 18, 0, 0), temperaturemin=71.1, temperaturemax=89.1, precipitation=0.0, snowfall=0.0, snowdepth=0.0, avgwindspeed=5.14, fastest2minwinddir=10, fastest2minwindspeed=12.97, fastest5secwinddir=360, fastest5secwindspeed=19.91, fog='No', fogheavy='No', mist='No', rain='No', fogground='No', ice='No', glaze='No', drizzle='No', snow='No', freezingrain='No', smokehaze='No', thunder='Yes', highwind='No', hail='No', blowingsnow='No', dust='No', freezingfog='No'),\n",
       " Row(date=datetime.datetime(2017, 7, 28, 0, 0), temperaturemin=75.0, temperaturemax=93.9, precipitation=0.21, snowfall=0.0, snowdepth=0.0, avgwindspeed=7.61, fastest2minwinddir=190, fastest2minwindspeed=19.91, fastest5secwinddir=190, fastest5secwindspeed=25.95, fog='Yes', fogheavy='No', mist='No', rain='No', fogground='No', ice='No', glaze='No', drizzle='No', snow='No', freezingrain='No', smokehaze='No', thunder='Yes', highwind='No', hail='No', blowingsnow='No', dust='No', freezingfog='No'),\n",
       " Row(date=datetime.datetime(2017, 7, 30, 0, 0), temperaturemin=63.0, temperaturemax=84.9, precipitation=0.0, snowfall=0.0, snowdepth=0.0, avgwindspeed=6.26, fastest2minwinddir=60, fastest2minwindspeed=17.0, fastest5secwinddir=50, fastest5secwindspeed=23.04, fog='No', fogheavy='No', mist='No', rain='No', fogground='No', ice='No', glaze='No', drizzle='No', snow='No', freezingrain='No', smokehaze='No', thunder='No', highwind='No', hail='No', blowingsnow='No', dust='No', freezingfog='No'),\n",
       " Row(date=datetime.datetime(2017, 8, 18, 0, 0), temperaturemin=75.0, temperaturemax=98.1, precipitation=0.01, snowfall=0.0, snowdepth=0.0, avgwindspeed=7.38, fastest2minwinddir=220, fastest2minwindspeed=16.11, fastest5secwinddir=210, fastest5secwindspeed=21.03, fog='Yes', fogheavy='No', mist='No', rain='No', fogground='No', ice='No', glaze='No', drizzle='No', snow='No', freezingrain='No', smokehaze='No', thunder='Yes', highwind='No', hail='No', blowingsnow='No', dust='No', freezingfog='No'),\n",
       " Row(date=datetime.datetime(2017, 8, 19, 0, 0), temperaturemin=73.0, temperaturemax=91.9, precipitation=0.05, snowfall=0.0, snowdepth=0.0, avgwindspeed=2.91, fastest2minwinddir=20, fastest2minwindspeed=10.07, fastest5secwinddir=30, fastest5secwindspeed=14.09, fog='Yes', fogheavy='No', mist='No', rain='No', fogground='No', ice='No', glaze='No', drizzle='No', snow='No', freezingrain='No', smokehaze='No', thunder='Yes', highwind='No', hail='No', blowingsnow='No', dust='No', freezingfog='No'),\n",
       " Row(date=datetime.datetime(2017, 8, 20, 0, 0), temperaturemin=71.1, temperaturemax=95.0, precipitation=0.0, snowfall=0.0, snowdepth=0.0, avgwindspeed=3.58, fastest2minwinddir=70, fastest2minwindspeed=12.97, fastest5secwinddir=100, fastest5secwindspeed=21.92, fog='Yes', fogheavy='No', mist='No', rain='No', fogground='No', ice='No', glaze='No', drizzle='No', snow='No', freezingrain='No', smokehaze='No', thunder='No', highwind='No', hail='No', blowingsnow='No', dust='No', freezingfog='No'),\n",
       " Row(date=datetime.datetime(2017, 8, 30, 0, 0), temperaturemin=59.0, temperaturemax=84.0, precipitation=0.0, snowfall=0.0, snowdepth=0.0, avgwindspeed=1.79, fastest2minwinddir=170, fastest2minwindspeed=10.07, fastest5secwinddir=220, fastest5secwindspeed=12.08, fog='No', fogheavy='No', mist='No', rain='No', fogground='No', ice='No', glaze='No', drizzle='No', snow='No', freezingrain='No', smokehaze='No', thunder='No', highwind='No', hail='No', blowingsnow='No', dust='No', freezingfog='No'),\n",
       " Row(date=datetime.datetime(2017, 9, 1, 0, 0), temperaturemin=64.0, temperaturemax=78.1, precipitation=1.06, snowfall=0.0, snowdepth=0.0, avgwindspeed=7.83, fastest2minwinddir=50, fastest2minwindspeed=21.92, fastest5secwinddir=90, fastest5secwindspeed=27.96, fog='Yes', fogheavy='No', mist='No', rain='No', fogground='No', ice='No', glaze='No', drizzle='No', snow='No', freezingrain='No', smokehaze='No', thunder='Yes', highwind='No', hail='No', blowingsnow='No', dust='No', freezingfog='No'),\n",
       " Row(date=datetime.datetime(2017, 9, 5, 0, 0), temperaturemin=64.0, temperaturemax=90.0, precipitation=0.06, snowfall=0.0, snowdepth=0.0, avgwindspeed=8.05, fastest2minwinddir=240, fastest2minwindspeed=21.92, fastest5secwinddir=230, fastest5secwindspeed=27.96, fog='Yes', fogheavy='No', mist='No', rain='No', fogground='No', ice='No', glaze='No', drizzle='No', snow='No', freezingrain='No', smokehaze='No', thunder='Yes', highwind='No', hail='No', blowingsnow='No', dust='No', freezingfog='No'),\n",
       " Row(date=datetime.datetime(2017, 9, 6, 0, 0), temperaturemin=61.0, temperaturemax=82.0, precipitation=0.52, snowfall=0.0, snowdepth=0.0, avgwindspeed=4.92, fastest2minwinddir=310, fastest2minwindspeed=16.11, fastest5secwinddir=310, fastest5secwindspeed=21.92, fog='Yes', fogheavy='No', mist='No', rain='No', fogground='No', ice='No', glaze='No', drizzle='No', snow='No', freezingrain='No', smokehaze='No', thunder='No', highwind='No', hail='No', blowingsnow='No', dust='No', freezingfog='No'),\n",
       " Row(date=datetime.datetime(2017, 9, 11, 0, 0), temperaturemin=57.9, temperaturemax=66.9, precipitation=0.01, snowfall=0.0, snowdepth=0.0, avgwindspeed=12.75, fastest2minwinddir=60, fastest2minwindspeed=19.91, fastest5secwinddir=50, fastest5secwindspeed=27.07, fog='No', fogheavy='No', mist='No', rain='No', fogground='No', ice='No', glaze='No', drizzle='No', snow='No', freezingrain='No', smokehaze='No', thunder='No', highwind='No', hail='No', blowingsnow='No', dust='No', freezingfog='No'),\n",
       " Row(date=datetime.datetime(2017, 9, 28, 0, 0), temperaturemin=63.0, temperaturemax=93.9, precipitation=0.0, snowfall=0.0, snowdepth=0.0, avgwindspeed=3.13, fastest2minwinddir=50, fastest2minwindspeed=17.0, fastest5secwinddir=50, fastest5secwindspeed=25.95, fog='No', fogheavy='No', mist='No', rain='No', fogground='No', ice='No', glaze='No', drizzle='No', snow='No', freezingrain='No', smokehaze='No', thunder='No', highwind='No', hail='No', blowingsnow='No', dust='No', freezingfog='No'),\n",
       " Row(date=datetime.datetime(2017, 10, 2, 0, 0), temperaturemin=46.9, temperaturemax=75.9, precipitation=0.0, snowfall=0.0, snowdepth=0.0, avgwindspeed=4.92, fastest2minwinddir=100, fastest2minwindspeed=12.97, fastest5secwinddir=110, fastest5secwindspeed=19.01, fog='No', fogheavy='No', mist='No', rain='No', fogground='No', ice='No', glaze='No', drizzle='No', snow='No', freezingrain='No', smokehaze='No', thunder='No', highwind='No', hail='No', blowingsnow='No', dust='No', freezingfog='No'),\n",
       " Row(date=datetime.datetime(2017, 10, 6, 0, 0), temperaturemin=55.0, temperaturemax=86.0, precipitation=0.0, snowfall=0.0, snowdepth=0.0, avgwindspeed=2.91, fastest2minwinddir=150, fastest2minwindspeed=12.08, fastest5secwinddir=230, fastest5secwindspeed=14.99, fog='Yes', fogheavy='No', mist='No', rain='No', fogground='No', ice='No', glaze='No', drizzle='No', snow='No', freezingrain='No', smokehaze='No', thunder='No', highwind='No', hail='No', blowingsnow='No', dust='No', freezingfog='No'),\n",
       " Row(date=datetime.datetime(2017, 10, 11, 0, 0), temperaturemin=73.0, temperaturemax=89.1, precipitation=1.12, snowfall=0.0, snowdepth=0.0, avgwindspeed=8.05, fastest2minwinddir=100, fastest2minwindspeed=21.92, fastest5secwinddir=90, fastest5secwindspeed=29.08, fog='Yes', fogheavy='No', mist='No', rain='No', fogground='No', ice='No', glaze='No', drizzle='No', snow='No', freezingrain='No', smokehaze='No', thunder='Yes', highwind='No', hail='No', blowingsnow='No', dust='No', freezingfog='No'),\n",
       " Row(date=datetime.datetime(2017, 10, 12, 0, 0), temperaturemin=64.9, temperaturemax=77.0, precipitation=0.0, snowfall=0.0, snowdepth=0.0, avgwindspeed=8.28, fastest2minwinddir=50, fastest2minwindspeed=17.0, fastest5secwinddir=50, fastest5secwindspeed=23.04, fog='Yes', fogheavy='No', mist='No', rain='No', fogground='No', ice='No', glaze='No', drizzle='No', snow='No', freezingrain='No', smokehaze='No', thunder='No', highwind='No', hail='No', blowingsnow='No', dust='No', freezingfog='No'),\n",
       " Row(date=datetime.datetime(2017, 10, 13, 0, 0), temperaturemin=63.0, temperaturemax=71.1, precipitation=0.0, snowfall=0.0, snowdepth=0.0, avgwindspeed=7.38, fastest2minwinddir=40, fastest2minwindspeed=14.99, fastest5secwinddir=40, fastest5secwindspeed=19.01, fog='Yes', fogheavy='No', mist='No', rain='No', fogground='No', ice='No', glaze='No', drizzle='No', snow='No', freezingrain='No', smokehaze='No', thunder='No', highwind='No', hail='No', blowingsnow='No', dust='No', freezingfog='No'),\n",
       " Row(date=datetime.datetime(2017, 10, 14, 0, 0), temperaturemin=62.1, temperaturemax=78.1, precipitation=0.0, snowfall=0.0, snowdepth=0.0, avgwindspeed=3.13, fastest2minwinddir=40, fastest2minwindspeed=8.95, fastest5secwinddir=150, fastest5secwindspeed=12.97, fog='Yes', fogheavy='No', mist='No', rain='No', fogground='No', ice='No', glaze='No', drizzle='No', snow='No', freezingrain='No', smokehaze='No', thunder='No', highwind='No', hail='No', blowingsnow='No', dust='No', freezingfog='No'),\n",
       " Row(date=datetime.datetime(2017, 10, 26, 0, 0), temperaturemin=39.9, temperaturemax=63.0, precipitation=0.0, snowfall=0.0, snowdepth=0.0, avgwindspeed=3.8, fastest2minwinddir=260, fastest2minwindspeed=12.97, fastest5secwinddir=270, fastest5secwindspeed=19.01, fog='No', fogheavy='No', mist='No', rain='No', fogground='No', ice='No', glaze='No', drizzle='No', snow='No', freezingrain='No', smokehaze='No', thunder='No', highwind='No', hail='No', blowingsnow='No', dust='No', freezingfog='No'),\n",
       " Row(date=datetime.datetime(2017, 10, 29, 0, 0), temperaturemin=41.0, temperaturemax=68.0, precipitation=0.78, snowfall=0.0, snowdepth=0.0, avgwindspeed=7.61, fastest2minwinddir=290, fastest2minwindspeed=21.03, fastest5secwinddir=290, fastest5secwindspeed=31.09, fog='Yes', fogheavy='Yes', mist='No', rain='No', fogground='No', ice='No', glaze='No', drizzle='No', snow='No', freezingrain='No', smokehaze='No', thunder='No', highwind='No', hail='No', blowingsnow='No', dust='No', freezingfog='No'),\n",
       " Row(date=datetime.datetime(2017, 11, 5, 0, 0), temperaturemin=51.1, temperaturemax=70.0, precipitation=0.0, snowfall=0.0, snowdepth=0.0, avgwindspeed=2.46, fastest2minwinddir=40, fastest2minwindspeed=8.05, fastest5secwinddir=170, fastest5secwindspeed=12.97, fog='Yes', fogheavy='No', mist='No', rain='No', fogground='No', ice='No', glaze='No', drizzle='No', snow='No', freezingrain='No', smokehaze='No', thunder='No', highwind='No', hail='No', blowingsnow='No', dust='No', freezingfog='No'),\n",
       " Row(date=datetime.datetime(2017, 11, 18, 0, 0), temperaturemin=33.1, temperaturemax=66.9, precipitation=0.0, snowfall=0.0, snowdepth=0.0, avgwindspeed=11.41, fastest2minwinddir=230, fastest2minwindspeed=29.08, fastest5secwinddir=240, fastest5secwindspeed=36.01, fog='No', fogheavy='No', mist='No', rain='No', fogground='No', ice='No', glaze='No', drizzle='No', snow='No', freezingrain='No', smokehaze='No', thunder='No', highwind='No', hail='No', blowingsnow='No', dust='No', freezingfog='No'),\n",
       " Row(date=datetime.datetime(2017, 11, 19, 0, 0), temperaturemin=34.0, temperaturemax=64.0, precipitation=0.08, snowfall=0.0, snowdepth=0.0, avgwindspeed=9.17, fastest2minwinddir=220, fastest2minwindspeed=25.95, fastest5secwinddir=230, fastest5secwindspeed=36.91, fog='Yes', fogheavy='No', mist='No', rain='No', fogground='No', ice='No', glaze='No', drizzle='No', snow='No', freezingrain='No', smokehaze='No', thunder='No', highwind='No', hail='No', blowingsnow='No', dust='No', freezingfog='No'),\n",
       " Row(date=datetime.datetime(2017, 11, 20, 0, 0), temperaturemin=28.2, temperaturemax=57.0, precipitation=0.0, snowfall=0.0, snowdepth=0.0, avgwindspeed=2.01, fastest2minwinddir=340, fastest2minwindspeed=10.07, fastest5secwinddir=350, fastest5secwindspeed=17.0, fog='No', fogheavy='No', mist='No', rain='No', fogground='No', ice='No', glaze='No', drizzle='No', snow='No', freezingrain='No', smokehaze='No', thunder='No', highwind='No', hail='No', blowingsnow='No', dust='No', freezingfog='No'),\n",
       " Row(date=datetime.datetime(2017, 12, 4, 0, 0), temperaturemin=33.1, temperaturemax=61.0, precipitation=0.0, snowfall=0.0, snowdepth=0.0, avgwindspeed=2.46, fastest2minwinddir=130, fastest2minwindspeed=10.07, fastest5secwinddir=150, fastest5secwindspeed=17.0, fog='Yes', fogheavy='Yes', mist='No', rain='No', fogground='No', ice='No', glaze='No', drizzle='No', snow='No', freezingrain='No', smokehaze='No', thunder='No', highwind='No', hail='No', blowingsnow='No', dust='No', freezingfog='No'),\n",
       " Row(date=datetime.datetime(2017, 12, 14, 0, 0), temperaturemin=30.2, temperaturemax=57.0, precipitation=0.0, snowfall=0.0, snowdepth=0.0, avgwindspeed=7.38, fastest2minwinddir=230, fastest2minwindspeed=16.11, fastest5secwinddir=220, fastest5secwindspeed=19.01, fog='No', fogheavy='No', mist='No', rain='No', fogground='No', ice='No', glaze='No', drizzle='No', snow='No', freezingrain='No', smokehaze='No', thunder='No', highwind='No', hail='No', blowingsnow='No', dust='No', freezingfog='No'),\n",
       " Row(date=datetime.datetime(2018, 1, 1, 0, 0), temperaturemin=13.1, temperaturemax=28.2, precipitation=0.0, snowfall=0.0, snowdepth=0.0, avgwindspeed=6.49, fastest2minwinddir=40, fastest2minwindspeed=14.99, fastest5secwinddir=40, fastest5secwindspeed=21.92, fog='No', fogheavy='No', mist='No', rain='No', fogground='No', ice='No', glaze='No', drizzle='No', snow='No', freezingrain='No', smokehaze='No', thunder='No', highwind='No', hail='No', blowingsnow='No', dust='No', freezingfog='No'),\n",
       " Row(date=datetime.datetime(2018, 1, 7, 0, 0), temperaturemin=4.1, temperaturemax=30.2, precipitation=0.0, snowfall=0.0, snowdepth=0.0, avgwindspeed=2.68, fastest2minwinddir=80, fastest2minwindspeed=10.07, fastest5secwinddir=80, fastest5secwindspeed=12.97, fog='No', fogheavy='No', mist='No', rain='No', fogground='No', ice='No', glaze='No', drizzle='No', snow='No', freezingrain='No', smokehaze='No', thunder='No', highwind='No', hail='No', blowingsnow='No', dust='No', freezingfog='No'),\n",
       " Row(date=datetime.datetime(2018, 1, 14, 0, 0), temperaturemin=21.2, temperaturemax=33.1, precipitation=0.0, snowfall=0.0, snowdepth=0.0, avgwindspeed=8.72, fastest2minwinddir=50, fastest2minwindspeed=18.12, fastest5secwinddir=30, fastest5secwindspeed=23.94, fog='No', fogheavy='No', mist='No', rain='No', fogground='No', ice='No', glaze='No', drizzle='No', snow='No', freezingrain='No', smokehaze='No', thunder='No', highwind='No', hail='No', blowingsnow='No', dust='No', freezingfog='No'),\n",
       " Row(date=datetime.datetime(2018, 1, 19, 0, 0), temperaturemin=19.2, temperaturemax=48.9, precipitation=0.0, snowfall=0.0, snowdepth=3.94, avgwindspeed=3.58, fastest2minwinddir=230, fastest2minwindspeed=12.08, fastest5secwinddir=230, fastest5secwindspeed=12.97, fog='No', fogheavy='No', mist='No', rain='No', fogground='No', ice='No', glaze='No', drizzle='No', snow='No', freezingrain='No', smokehaze='No', thunder='No', highwind='No', hail='No', blowingsnow='No', dust='No', freezingfog='No'),\n",
       " Row(date=datetime.datetime(2018, 1, 20, 0, 0), temperaturemin=26.2, temperaturemax=55.9, precipitation=0.0, snowfall=0.0, snowdepth=1.18, avgwindspeed=5.59, fastest2minwinddir=220, fastest2minwindspeed=12.97, fastest5secwinddir=230, fastest5secwindspeed=16.11, fog='No', fogheavy='No', mist='No', rain='No', fogground='No', ice='No', glaze='No', drizzle='No', snow='No', freezingrain='No', smokehaze='No', thunder='No', highwind='No', hail='No', blowingsnow='No', dust='No', freezingfog='No'),\n",
       " Row(date=datetime.datetime(2018, 1, 23, 0, 0), temperaturemin=46.9, temperaturemax=70.0, precipitation=0.83, snowfall=0.0, snowdepth=0.0, avgwindspeed=15.66, fastest2minwinddir=230, fastest2minwindspeed=31.99, fastest5secwinddir=240, fastest5secwindspeed=42.05, fog='Yes', fogheavy='No', mist='No', rain='No', fogground='No', ice='No', glaze='No', drizzle='No', snow='No', freezingrain='No', smokehaze='No', thunder='No', highwind='No', hail='No', blowingsnow='No', dust='No', freezingfog='No'),\n",
       " Row(date=datetime.datetime(2018, 1, 24, 0, 0), temperaturemin=34.0, temperaturemax=54.0, precipitation=0.0, snowfall=0.0, snowdepth=0.0, avgwindspeed=4.03, fastest2minwinddir=360, fastest2minwindspeed=16.11, fastest5secwinddir=20, fastest5secwindspeed=23.04, fog='No', fogheavy='No', mist='No', rain='No', fogground='No', ice='No', glaze='No', drizzle='No', snow='No', freezingrain='No', smokehaze='No', thunder='No', highwind='No', hail='No', blowingsnow='No', dust='No', freezingfog='No'),\n",
       " Row(date=datetime.datetime(2018, 1, 27, 0, 0), temperaturemin=31.1, temperaturemax=66.9, precipitation=0.0, snowfall=0.0, snowdepth=0.0, avgwindspeed=6.26, fastest2minwinddir=170, fastest2minwindspeed=17.0, fastest5secwinddir=190, fastest5secwindspeed=21.92, fog='No', fogheavy='No', mist='No', rain='No', fogground='No', ice='No', glaze='No', drizzle='No', snow='No', freezingrain='No', smokehaze='No', thunder='No', highwind='No', hail='No', blowingsnow='No', dust='No', freezingfog='No'),\n",
       " Row(date=datetime.datetime(2018, 1, 28, 0, 0), temperaturemin=52.0, temperaturemax=60.1, precipitation=1.3, snowfall=0.0, snowdepth=0.0, avgwindspeed=5.14, fastest2minwinddir=40, fastest2minwindspeed=12.97, fastest5secwinddir=20, fastest5secwindspeed=19.01, fog='Yes', fogheavy='No', mist='No', rain='No', fogground='No', ice='No', glaze='No', drizzle='No', snow='No', freezingrain='No', smokehaze='No', thunder='No', highwind='No', hail='No', blowingsnow='No', dust='No', freezingfog='No'),\n",
       " Row(date=datetime.datetime(2018, 2, 7, 0, 0), temperaturemin=44.1, temperaturemax=64.9, precipitation=0.21, snowfall=0.0, snowdepth=0.0, avgwindspeed=8.5, fastest2minwinddir=190, fastest2minwindspeed=21.92, fastest5secwinddir=200, fastest5secwindspeed=29.97, fog='Yes', fogheavy='No', mist='No', rain='No', fogground='No', ice='No', glaze='No', drizzle='No', snow='No', freezingrain='No', smokehaze='No', thunder='No', highwind='No', hail='No', blowingsnow='No', dust='No', freezingfog='No'),\n",
       " Row(date=datetime.datetime(2018, 2, 17, 0, 0), temperaturemin=39.9, temperaturemax=55.9, precipitation=0.06, snowfall=0.0, snowdepth=0.0, avgwindspeed=6.93, fastest2minwinddir=90, fastest2minwindspeed=19.91, fastest5secwinddir=80, fastest5secwindspeed=25.95, fog='Yes', fogheavy='No', mist='No', rain='No', fogground='No', ice='No', glaze='No', drizzle='No', snow='No', freezingrain='No', smokehaze='No', thunder='No', highwind='No', hail='No', blowingsnow='No', dust='No', freezingfog='No'),\n",
       " Row(date=datetime.datetime(2018, 3, 2, 0, 0), temperaturemin=41.0, temperaturemax=55.0, precipitation=0.0, snowfall=0.0, snowdepth=0.0, avgwindspeed=14.99, fastest2minwinddir=300, fastest2minwindspeed=25.95, fastest5secwinddir=270, fastest5secwindspeed=46.08, fog='No', fogheavy='No', mist='No', rain='No', fogground='No', ice='No', glaze='No', drizzle='No', snow='No', freezingrain='No', smokehaze='No', thunder='No', highwind='No', hail='No', blowingsnow='No', dust='No', freezingfog='No'),\n",
       " Row(date=datetime.datetime(2018, 3, 3, 0, 0), temperaturemin=35.1, temperaturemax=57.0, precipitation=0.0, snowfall=0.0, snowdepth=0.0, avgwindspeed=8.72, fastest2minwinddir=340, fastest2minwindspeed=17.0, fastest5secwinddir=350, fastest5secwindspeed=29.08, fog='No', fogheavy='No', mist='No', rain='No', fogground='No', ice='No', glaze='No', drizzle='No', snow='No', freezingrain='No', smokehaze='No', thunder='No', highwind='No', hail='No', blowingsnow='No', dust='No', freezingfog='No'),\n",
       " Row(date=datetime.datetime(2018, 3, 12, 0, 0), temperaturemin=32.0, temperaturemax=37.9, precipitation=0.92, snowfall=1.42, snowdepth=0.0, avgwindspeed=7.16, fastest2minwinddir=30, fastest2minwindspeed=14.09, fastest5secwinddir=30, fastest5secwindspeed=19.91, fog='Yes', fogheavy='No', mist='No', rain='No', fogground='No', ice='Yes', glaze='No', drizzle='No', snow='No', freezingrain='No', smokehaze='No', thunder='No', highwind='No', hail='No', blowingsnow='No', dust='No', freezingfog='No'),\n",
       " Row(date=datetime.datetime(2018, 3, 20, 0, 0), temperaturemin=36.0, temperaturemax=57.0, precipitation=1.05, snowfall=0.0, snowdepth=0.0, avgwindspeed=8.72, fastest2minwinddir=50, fastest2minwindspeed=21.03, fastest5secwinddir=40, fastest5secwindspeed=27.07, fog='Yes', fogheavy='Yes', mist='No', rain='No', fogground='No', ice='Yes', glaze='No', drizzle='No', snow='No', freezingrain='No', smokehaze='No', thunder='Yes', highwind='No', hail='Yes', blowingsnow='No', dust='No', freezingfog='No'),\n",
       " Row(date=datetime.datetime(2018, 4, 1, 0, 0), temperaturemin=41.0, temperaturemax=75.0, precipitation=0.0, snowfall=0.0, snowdepth=0.0, avgwindspeed=7.61, fastest2minwinddir=230, fastest2minwindspeed=16.11, fastest5secwinddir=240, fastest5secwindspeed=19.91, fog='No', fogheavy='No', mist='No', rain='No', fogground='No', ice='No', glaze='No', drizzle='No', snow='No', freezingrain='No', smokehaze='No', thunder='No', highwind='No', hail='No', blowingsnow='No', dust='No', freezingfog='No'),\n",
       " Row(date=datetime.datetime(2018, 4, 4, 0, 0), temperaturemin=48.0, temperaturemax=77.0, precipitation=0.0, snowfall=0.0, snowdepth=0.0, avgwindspeed=13.87, fastest2minwinddir=230, fastest2minwindspeed=23.94, fastest5secwinddir=340, fastest5secwindspeed=31.09, fog='No', fogheavy='No', mist='No', rain='No', fogground='No', ice='No', glaze='No', drizzle='No', snow='No', freezingrain='No', smokehaze='No', thunder='No', highwind='No', hail='No', blowingsnow='No', dust='No', freezingfog='No'),\n",
       " Row(date=datetime.datetime(2018, 4, 10, 0, 0), temperaturemin=39.0, temperaturemax=62.1, precipitation=0.0, snowfall=0.0, snowdepth=0.0, avgwindspeed=5.37, fastest2minwinddir=30, fastest2minwindspeed=14.99, fastest5secwinddir=40, fastest5secwindspeed=19.91, fog='No', fogheavy='No', mist='No', rain='No', fogground='No', ice='No', glaze='No', drizzle='No', snow='No', freezingrain='No', smokehaze='No', thunder='No', highwind='No', hail='No', blowingsnow='No', dust='No', freezingfog='No'),\n",
       " Row(date=datetime.datetime(2018, 4, 11, 0, 0), temperaturemin=37.9, temperaturemax=62.1, precipitation=0.0, snowfall=0.0, snowdepth=0.0, avgwindspeed=5.37, fastest2minwinddir=230, fastest2minwindspeed=12.08, fastest5secwinddir=230, fastest5secwindspeed=18.12, fog='No', fogheavy='No', mist='No', rain='No', fogground='No', ice='No', glaze='No', drizzle='No', snow='No', freezingrain='No', smokehaze='No', thunder='No', highwind='No', hail='No', blowingsnow='No', dust='No', freezingfog='No'),\n",
       " Row(date=datetime.datetime(2018, 4, 13, 0, 0), temperaturemin=52.0, temperaturemax=80.1, precipitation=0.0, snowfall=0.0, snowdepth=0.0, avgwindspeed=14.32, fastest2minwinddir=230, fastest2minwindspeed=27.96, fastest5secwinddir=240, fastest5secwindspeed=33.11, fog='No', fogheavy='No', mist='No', rain='No', fogground='No', ice='No', glaze='No', drizzle='No', snow='No', freezingrain='No', smokehaze='No', thunder='No', highwind='No', hail='No', blowingsnow='No', dust='No', freezingfog='No'),\n",
       " Row(date=datetime.datetime(2018, 4, 15, 0, 0), temperaturemin=61.0, temperaturemax=82.0, precipitation=3.31, snowfall=0.0, snowdepth=0.0, avgwindspeed=12.53, fastest2minwinddir=220, fastest2minwindspeed=38.92, fastest5secwinddir=210, fastest5secwindspeed=48.09, fog='Yes', fogheavy='No', mist='No', rain='No', fogground='No', ice='No', glaze='No', drizzle='No', snow='No', freezingrain='No', smokehaze='No', thunder='Yes', highwind='No', hail='No', blowingsnow='No', dust='No', freezingfog='No'),\n",
       " Row(date=datetime.datetime(2018, 4, 21, 0, 0), temperaturemin=37.0, temperaturemax=68.0, precipitation=0.0, snowfall=0.0, snowdepth=0.0, avgwindspeed=4.47, fastest2minwinddir=80, fastest2minwindspeed=14.09, fastest5secwinddir=None, fastest5secwindspeed=None, fog='No', fogheavy='No', mist='No', rain='No', fogground='No', ice='No', glaze='No', drizzle='No', snow='No', freezingrain='No', smokehaze='No', thunder='No', highwind='No', hail='No', blowingsnow='No', dust='No', freezingfog='No'),\n",
       " Row(date=datetime.datetime(2018, 4, 26, 0, 0), temperaturemin=48.0, temperaturemax=75.0, precipitation=0.18, snowfall=0.0, snowdepth=0.0, avgwindspeed=3.36, fastest2minwinddir=280, fastest2minwindspeed=21.92, fastest5secwinddir=280, fastest5secwindspeed=29.08, fog='Yes', fogheavy='No', mist='No', rain='No', fogground='No', ice='No', glaze='No', drizzle='No', snow='No', freezingrain='No', smokehaze='No', thunder='Yes', highwind='No', hail='No', blowingsnow='No', dust='No', freezingfog='No'),\n",
       " Row(date=datetime.datetime(2018, 4, 27, 0, 0), temperaturemin=54.0, temperaturemax=73.0, precipitation=0.01, snowfall=0.0, snowdepth=0.0, avgwindspeed=4.92, fastest2minwinddir=240, fastest2minwindspeed=14.99, fastest5secwinddir=260, fastest5secwindspeed=19.91, fog='No', fogheavy='No', mist='No', rain='No', fogground='No', ice='No', glaze='No', drizzle='No', snow='No', freezingrain='No', smokehaze='No', thunder='No', highwind='No', hail='No', blowingsnow='No', dust='No', freezingfog='No'),\n",
       " Row(date=datetime.datetime(2018, 5, 1, 0, 0), temperaturemin=45.0, temperaturemax=82.9, precipitation=0.0, snowfall=0.0, snowdepth=0.0, avgwindspeed=4.47, fastest2minwinddir=240, fastest2minwindspeed=16.11, fastest5secwinddir=230, fastest5secwindspeed=21.03, fog='No', fogheavy='No', mist='No', rain='No', fogground='No', ice='No', glaze='No', drizzle='No', snow='No', freezingrain='No', smokehaze='No', thunder='No', highwind='No', hail='No', blowingsnow='No', dust='No', freezingfog='No'),\n",
       " Row(date=datetime.datetime(2018, 5, 13, 0, 0), temperaturemin=66.0, temperaturemax=93.0, precipitation=0.0, snowfall=0.0, snowdepth=0.0, avgwindspeed=6.04, fastest2minwinddir=220, fastest2minwindspeed=14.09, fastest5secwinddir=240, fastest5secwindspeed=18.12, fog='No', fogheavy='No', mist='No', rain='No', fogground='No', ice='No', glaze='No', drizzle='No', snow='No', freezingrain='No', smokehaze='No', thunder='No', highwind='No', hail='No', blowingsnow='No', dust='No', freezingfog='No'),\n",
       " Row(date=datetime.datetime(2018, 5, 14, 0, 0), temperaturemin=68.0, temperaturemax=93.0, precipitation=0.0, snowfall=0.0, snowdepth=0.0, avgwindspeed=8.05, fastest2minwinddir=220, fastest2minwindspeed=16.11, fastest5secwinddir=250, fastest5secwindspeed=19.91, fog='No', fogheavy='No', mist='No', rain='No', fogground='No', ice='No', glaze='No', drizzle='No', snow='No', freezingrain='No', smokehaze='No', thunder='No', highwind='No', hail='No', blowingsnow='No', dust='No', freezingfog='No'),\n",
       " Row(date=datetime.datetime(2018, 5, 18, 0, 0), temperaturemin=71.1, temperaturemax=82.0, precipitation=0.23, snowfall=0.0, snowdepth=0.0, avgwindspeed=8.28, fastest2minwinddir=160, fastest2minwindspeed=14.99, fastest5secwinddir=160, fastest5secwindspeed=21.92, fog='Yes', fogheavy='No', mist='No', rain='No', fogground='No', ice='No', glaze='No', drizzle='No', snow='No', freezingrain='No', smokehaze='No', thunder='No', highwind='No', hail='No', blowingsnow='No', dust='No', freezingfog='No'),\n",
       " Row(date=datetime.datetime(2018, 5, 25, 0, 0), temperaturemin=64.9, temperaturemax=86.0, precipitation=0.0, snowfall=0.0, snowdepth=0.0, avgwindspeed=5.82, fastest2minwinddir=220, fastest2minwindspeed=14.09, fastest5secwinddir=230, fastest5secwindspeed=16.11, fog='No', fogheavy='No', mist='No', rain='No', fogground='No', ice='No', glaze='No', drizzle='No', snow='No', freezingrain='No', smokehaze='No', thunder='No', highwind='No', hail='No', blowingsnow='No', dust='No', freezingfog='No'),\n",
       " Row(date=datetime.datetime(2018, 5, 26, 0, 0), temperaturemin=68.0, temperaturemax=87.1, precipitation=0.33, snowfall=0.0, snowdepth=0.0, avgwindspeed=8.5, fastest2minwinddir=230, fastest2minwindspeed=29.08, fastest5secwinddir=240, fastest5secwindspeed=36.01, fog='Yes', fogheavy='No', mist='No', rain='No', fogground='No', ice='No', glaze='No', drizzle='No', snow='No', freezingrain='No', smokehaze='No', thunder='Yes', highwind='No', hail='No', blowingsnow='No', dust='No', freezingfog='No'),\n",
       " Row(date=datetime.datetime(2018, 6, 7, 0, 0), temperaturemin=62.1, temperaturemax=84.9, precipitation=0.0, snowfall=0.0, snowdepth=0.0, avgwindspeed=4.92, fastest2minwinddir=170, fastest2minwindspeed=12.08, fastest5secwinddir=20, fastest5secwindspeed=17.0, fog='No', fogheavy='No', mist='No', rain='No', fogground='No', ice='No', glaze='No', drizzle='No', snow='No', freezingrain='No', smokehaze='No', thunder='No', highwind='No', hail='No', blowingsnow='No', dust='No', freezingfog='No'),\n",
       " Row(date=datetime.datetime(2018, 6, 12, 0, 0), temperaturemin=63.0, temperaturemax=70.0, precipitation=0.01, snowfall=0.0, snowdepth=0.0, avgwindspeed=6.26, fastest2minwinddir=50, fastest2minwindspeed=14.99, fastest5secwinddir=80, fastest5secwindspeed=19.01, fog='Yes', fogheavy='No', mist='No', rain='No', fogground='No', ice='No', glaze='No', drizzle='No', snow='No', freezingrain='No', smokehaze='No', thunder='No', highwind='No', hail='No', blowingsnow='No', dust='No', freezingfog='No'),\n",
       " Row(date=datetime.datetime(2018, 6, 16, 0, 0), temperaturemin=64.9, temperaturemax=90.0, precipitation=0.0, snowfall=0.0, snowdepth=0.0, avgwindspeed=4.47, fastest2minwinddir=210, fastest2minwindspeed=12.08, fastest5secwinddir=220, fastest5secwindspeed=14.99, fog='No', fogheavy='No', mist='No', rain='No', fogground='No', ice='No', glaze='No', drizzle='No', snow='No', freezingrain='No', smokehaze='No', thunder='No', highwind='No', hail='No', blowingsnow='No', dust='No', freezingfog='No'),\n",
       " Row(date=datetime.datetime(2018, 6, 18, 0, 0), temperaturemin=73.9, temperaturemax=93.9, precipitation=0.0, snowfall=0.0, snowdepth=0.0, avgwindspeed=4.92, fastest2minwinddir=230, fastest2minwindspeed=14.09, fastest5secwinddir=220, fastest5secwindspeed=17.0, fog='No', fogheavy='No', mist='No', rain='No', fogground='No', ice='No', glaze='No', drizzle='No', snow='No', freezingrain='No', smokehaze='No', thunder='Yes', highwind='No', hail='No', blowingsnow='No', dust='No', freezingfog='No'),\n",
       " Row(date=datetime.datetime(2018, 6, 20, 0, 0), temperaturemin=73.0, temperaturemax=93.9, precipitation=0.0, snowfall=0.0, snowdepth=0.0, avgwindspeed=4.47, fastest2minwinddir=200, fastest2minwindspeed=17.0, fastest5secwinddir=200, fastest5secwindspeed=21.03, fog='No', fogheavy='No', mist='No', rain='No', fogground='No', ice='No', glaze='No', drizzle='No', snow='No', freezingrain='No', smokehaze='No', thunder='Yes', highwind='No', hail='No', blowingsnow='No', dust='No', freezingfog='No'),\n",
       " Row(date=datetime.datetime(2018, 6, 24, 0, 0), temperaturemin=73.0, temperaturemax=96.1, precipitation=0.07, snowfall=0.0, snowdepth=0.0, avgwindspeed=7.61, fastest2minwinddir=220, fastest2minwindspeed=16.11, fastest5secwinddir=290, fastest5secwindspeed=25.95, fog='Yes', fogheavy='No', mist='No', rain='No', fogground='No', ice='No', glaze='No', drizzle='No', snow='No', freezingrain='No', smokehaze='No', thunder='Yes', highwind='No', hail='No', blowingsnow='No', dust='No', freezingfog='No'),\n",
       " Row(date=datetime.datetime(2018, 6, 26, 0, 0), temperaturemin=66.0, temperaturemax=73.9, precipitation=0.74, snowfall=0.0, snowdepth=0.0, avgwindspeed=6.93, fastest2minwinddir=80, fastest2minwindspeed=14.99, fastest5secwinddir=120, fastest5secwindspeed=21.92, fog='Yes', fogheavy='No', mist='No', rain='No', fogground='No', ice='No', glaze='No', drizzle='No', snow='No', freezingrain='No', smokehaze='No', thunder='No', highwind='No', hail='No', blowingsnow='No', dust='No', freezingfog='No'),\n",
       " Row(date=datetime.datetime(2018, 7, 6, 0, 0), temperaturemin=71.1, temperaturemax=93.0, precipitation=0.34, snowfall=0.0, snowdepth=0.0, avgwindspeed=3.8, fastest2minwinddir=200, fastest2minwindspeed=16.11, fastest5secwinddir=200, fastest5secwindspeed=21.92, fog='Yes', fogheavy='No', mist='No', rain='No', fogground='No', ice='No', glaze='No', drizzle='No', snow='No', freezingrain='No', smokehaze='Yes', thunder='Yes', highwind='No', hail='No', blowingsnow='No', dust='No', freezingfog='No'),\n",
       " Row(date=datetime.datetime(2018, 7, 8, 0, 0), temperaturemin=62.1, temperaturemax=82.0, precipitation=0.0, snowfall=0.0, snowdepth=0.0, avgwindspeed=8.05, fastest2minwinddir=40, fastest2minwindspeed=17.0, fastest5secwinddir=40, fastest5secwindspeed=21.92, fog='No', fogheavy='No', mist='No', rain='No', fogground='No', ice='No', glaze='No', drizzle='No', snow='No', freezingrain='No', smokehaze='No', thunder='No', highwind='No', hail='No', blowingsnow='No', dust='No', freezingfog='No'),\n",
       " Row(date=datetime.datetime(2018, 7, 10, 0, 0), temperaturemin=59.0, temperaturemax=91.0, precipitation=0.0, snowfall=0.0, snowdepth=0.0, avgwindspeed=2.46, fastest2minwinddir=40, fastest2minwindspeed=12.97, fastest5secwinddir=10, fastest5secwindspeed=18.12, fog='No', fogheavy='No', mist='No', rain='No', fogground='No', ice='No', glaze='No', drizzle='No', snow='No', freezingrain='No', smokehaze='No', thunder='No', highwind='No', hail='No', blowingsnow='No', dust='No', freezingfog='No'),\n",
       " Row(date=datetime.datetime(2018, 7, 16, 0, 0), temperaturemin=73.9, temperaturemax=95.0, precipitation=0.0, snowfall=0.0, snowdepth=0.0, avgwindspeed=8.05, fastest2minwinddir=230, fastest2minwindspeed=21.03, fastest5secwinddir=220, fastest5secwindspeed=27.07, fog='No', fogheavy='No', mist='No', rain='No', fogground='No', ice='No', glaze='No', drizzle='No', snow='No', freezingrain='No', smokehaze='No', thunder='No', highwind='No', hail='No', blowingsnow='No', dust='No', freezingfog='No'),\n",
       " Row(date=datetime.datetime(2018, 7, 18, 0, 0), temperaturemin=72.0, temperaturemax=89.1, precipitation=0.0, snowfall=0.0, snowdepth=0.0, avgwindspeed=6.71, fastest2minwinddir=50, fastest2minwindspeed=14.99, fastest5secwinddir=80, fastest5secwindspeed=19.01, fog='Yes', fogheavy='No', mist='No', rain='No', fogground='No', ice='No', glaze='No', drizzle='No', snow='No', freezingrain='No', smokehaze='No', thunder='No', highwind='No', hail='No', blowingsnow='No', dust='No', freezingfog='No'),\n",
       " Row(date=datetime.datetime(2018, 7, 19, 0, 0), temperaturemin=63.0, temperaturemax=90.0, precipitation=0.0, snowfall=0.0, snowdepth=0.0, avgwindspeed=7.16, fastest2minwinddir=80, fastest2minwindspeed=16.11, fastest5secwinddir=120, fastest5secwindspeed=25.95, fog='No', fogheavy='No', mist='No', rain='No', fogground='No', ice='No', glaze='No', drizzle='No', snow='No', freezingrain='No', smokehaze='No', thunder='No', highwind='No', hail='No', blowingsnow='No', dust='No', freezingfog='No'),\n",
       " Row(date=datetime.datetime(2018, 7, 21, 0, 0), temperaturemin=69.1, temperaturemax=88.0, precipitation=0.01, snowfall=0.0, snowdepth=0.0, avgwindspeed=6.71, fastest2minwinddir=60, fastest2minwindspeed=17.0, fastest5secwinddir=50, fastest5secwindspeed=21.92, fog='No', fogheavy='No', mist='No', rain='No', fogground='No', ice='No', glaze='No', drizzle='No', snow='No', freezingrain='No', smokehaze='No', thunder='No', highwind='No', hail='No', blowingsnow='No', dust='No', freezingfog='No'),\n",
       " Row(date=datetime.datetime(2018, 7, 23, 0, 0), temperaturemin=70.0, temperaturemax=88.0, precipitation=0.02, snowfall=0.0, snowdepth=0.0, avgwindspeed=6.26, fastest2minwinddir=130, fastest2minwindspeed=21.92, fastest5secwinddir=120, fastest5secwindspeed=27.96, fog='No', fogheavy='No', mist='No', rain='No', fogground='No', ice='No', glaze='No', drizzle='No', snow='No', freezingrain='No', smokehaze='Yes', thunder='No', highwind='No', hail='No', blowingsnow='No', dust='No', freezingfog='No'),\n",
       " Row(date=datetime.datetime(2018, 7, 25, 0, 0), temperaturemin=69.1, temperaturemax=82.0, precipitation=0.27, snowfall=0.0, snowdepth=0.0, avgwindspeed=3.8, fastest2minwinddir=280, fastest2minwindspeed=12.97, fastest5secwinddir=240, fastest5secwindspeed=16.11, fog='Yes', fogheavy='No', mist='No', rain='No', fogground='No', ice='No', glaze='No', drizzle='No', snow='No', freezingrain='No', smokehaze='No', thunder='Yes', highwind='No', hail='No', blowingsnow='No', dust='No', freezingfog='No'),\n",
       " Row(date=datetime.datetime(2018, 8, 1, 0, 0), temperaturemin=73.0, temperaturemax=90.0, precipitation=0.02, snowfall=0.0, snowdepth=0.0, avgwindspeed=9.17, fastest2minwinddir=180, fastest2minwindspeed=18.12, fastest5secwinddir=170, fastest5secwindspeed=23.04, fog='Yes', fogheavy='No', mist='No', rain='No', fogground='No', ice='No', glaze='No', drizzle='No', snow='No', freezingrain='No', smokehaze='No', thunder='Yes', highwind='No', hail='No', blowingsnow='No', dust='No', freezingfog='No'),\n",
       " Row(date=datetime.datetime(2018, 8, 7, 0, 0), temperaturemin=71.1, temperaturemax=93.0, precipitation=0.2, snowfall=0.0, snowdepth=0.0, avgwindspeed=6.71, fastest2minwinddir=270, fastest2minwindspeed=16.11, fastest5secwinddir=250, fastest5secwindspeed=25.05, fog='Yes', fogheavy='No', mist='No', rain='No', fogground='No', ice='No', glaze='No', drizzle='No', snow='No', freezingrain='No', smokehaze='No', thunder='Yes', highwind='No', hail='No', blowingsnow='No', dust='No', freezingfog='No'),\n",
       " Row(date=datetime.datetime(2018, 8, 9, 0, 0), temperaturemin=69.1, temperaturemax=90.0, precipitation=0.0, snowfall=0.0, snowdepth=0.0, avgwindspeed=4.7, fastest2minwinddir=260, fastest2minwindspeed=12.08, fastest5secwinddir=290, fastest5secwindspeed=18.12, fog='No', fogheavy='No', mist='No', rain='No', fogground='No', ice='No', glaze='No', drizzle='No', snow='No', freezingrain='No', smokehaze='Yes', thunder='No', highwind='No', hail='No', blowingsnow='No', dust='No', freezingfog='No'),\n",
       " Row(date=datetime.datetime(2018, 8, 10, 0, 0), temperaturemin=69.1, temperaturemax=91.0, precipitation=0.0, snowfall=0.0, snowdepth=0.0, avgwindspeed=2.01, fastest2minwinddir=230, fastest2minwindspeed=8.95, fastest5secwinddir=30, fastest5secwindspeed=14.99, fog='Yes', fogheavy='No', mist='No', rain='No', fogground='No', ice='No', glaze='No', drizzle='No', snow='No', freezingrain='No', smokehaze='No', thunder='No', highwind='No', hail='No', blowingsnow='No', dust='No', freezingfog='No'),\n",
       " Row(date=datetime.datetime(2018, 8, 13, 0, 0), temperaturemin=66.9, temperaturemax=84.9, precipitation=0.08, snowfall=0.0, snowdepth=0.0, avgwindspeed=3.58, fastest2minwinddir=40, fastest2minwindspeed=17.0, fastest5secwinddir=30, fastest5secwindspeed=31.09, fog='Yes', fogheavy='No', mist='No', rain='No', fogground='No', ice='No', glaze='No', drizzle='No', snow='No', freezingrain='No', smokehaze='No', thunder='No', highwind='No', hail='No', blowingsnow='No', dust='No', freezingfog='No'),\n",
       " Row(date=datetime.datetime(2018, 8, 20, 0, 0), temperaturemin=68.0, temperaturemax=87.1, precipitation=0.86, snowfall=0.0, snowdepth=0.0, avgwindspeed=4.47, fastest2minwinddir=220, fastest2minwindspeed=16.11, fastest5secwinddir=220, fastest5secwindspeed=19.91, fog='Yes', fogheavy='No', mist='No', rain='No', fogground='No', ice='No', glaze='No', drizzle='No', snow='No', freezingrain='No', smokehaze='No', thunder='Yes', highwind='No', hail='No', blowingsnow='No', dust='No', freezingfog='No'),\n",
       " Row(date=datetime.datetime(2018, 8, 27, 0, 0), temperaturemin=69.1, temperaturemax=93.0, precipitation=0.0, snowfall=0.0, snowdepth=0.0, avgwindspeed=4.03, fastest2minwinddir=250, fastest2minwindspeed=12.08, fastest5secwinddir=240, fastest5secwindspeed=14.99, fog='No', fogheavy='No', mist='No', rain='No', fogground='No', ice='No', glaze='No', drizzle='No', snow='No', freezingrain='No', smokehaze='No', thunder='Yes', highwind='No', hail='No', blowingsnow='No', dust='No', freezingfog='No'),\n",
       " Row(date=datetime.datetime(2018, 8, 31, 0, 0), temperaturemin=69.1, temperaturemax=91.9, precipitation=0.27, snowfall=0.0, snowdepth=0.0, avgwindspeed=3.8, fastest2minwinddir=300, fastest2minwindspeed=14.99, fastest5secwinddir=300, fastest5secwindspeed=21.03, fog='Yes', fogheavy='No', mist='No', rain='No', fogground='No', ice='No', glaze='No', drizzle='No', snow='No', freezingrain='No', smokehaze='No', thunder='Yes', highwind='No', hail='No', blowingsnow='No', dust='No', freezingfog='No'),\n",
       " Row(date=datetime.datetime(2018, 9, 10, 0, 0), temperaturemin=66.9, temperaturemax=88.0, precipitation=0.26, snowfall=0.0, snowdepth=0.0, avgwindspeed=4.47, fastest2minwinddir=230, fastest2minwindspeed=23.04, fastest5secwinddir=230, fastest5secwindspeed=27.96, fog='Yes', fogheavy='No', mist='No', rain='No', fogground='No', ice='No', glaze='No', drizzle='No', snow='No', freezingrain='No', smokehaze='No', thunder='Yes', highwind='No', hail='No', blowingsnow='No', dust='No', freezingfog='No'),\n",
       " Row(date=datetime.datetime(2018, 9, 28, 0, 0), temperaturemin=64.9, temperaturemax=79.0, precipitation=0.02, snowfall=0.0, snowdepth=0.0, avgwindspeed=4.92, fastest2minwinddir=220, fastest2minwindspeed=14.99, fastest5secwinddir=220, fastest5secwindspeed=19.91, fog='No', fogheavy='No', mist='No', rain='No', fogground='No', ice='No', glaze='No', drizzle='No', snow='No', freezingrain='No', smokehaze='No', thunder='No', highwind='No', hail='No', blowingsnow='No', dust='No', freezingfog='No'),\n",
       " Row(date=datetime.datetime(2018, 10, 1, 0, 0), temperaturemin=60.1, temperaturemax=82.0, precipitation=0.0, snowfall=0.0, snowdepth=0.0, avgwindspeed=2.01, fastest2minwinddir=80, fastest2minwindspeed=8.95, fastest5secwinddir=170, fastest5secwindspeed=14.09, fog='No', fogheavy='No', mist='No', rain='No', fogground='No', ice='No', glaze='No', drizzle='No', snow='No', freezingrain='No', smokehaze='No', thunder='No', highwind='No', hail='No', blowingsnow='No', dust='No', freezingfog='No'),\n",
       " Row(date=datetime.datetime(2018, 10, 3, 0, 0), temperaturemin=64.0, temperaturemax=86.0, precipitation=0.0, snowfall=0.0, snowdepth=0.0, avgwindspeed=2.68, fastest2minwinddir=230, fastest2minwindspeed=8.95, fastest5secwinddir=230, fastest5secwindspeed=12.08, fog='No', fogheavy='No', mist='No', rain='No', fogground='No', ice='No', glaze='No', drizzle='No', snow='No', freezingrain='No', smokehaze='No', thunder='No', highwind='No', hail='No', blowingsnow='No', dust='No', freezingfog='No'),\n",
       " Row(date=datetime.datetime(2018, 10, 4, 0, 0), temperaturemin=66.0, temperaturemax=89.1, precipitation=0.0, snowfall=0.0, snowdepth=0.0, avgwindspeed=2.68, fastest2minwinddir=250, fastest2minwindspeed=10.07, fastest5secwinddir=260, fastest5secwindspeed=14.09, fog='Yes', fogheavy='No', mist='No', rain='No', fogground='No', ice='No', glaze='No', drizzle='No', snow='No', freezingrain='No', smokehaze='No', thunder='No', highwind='No', hail='No', blowingsnow='No', dust='No', freezingfog='No'),\n",
       " Row(date=datetime.datetime(2018, 10, 7, 0, 0), temperaturemin=66.0, temperaturemax=87.1, precipitation=0.0, snowfall=0.0, snowdepth=0.0, avgwindspeed=2.91, fastest2minwinddir=90, fastest2minwindspeed=10.07, fastest5secwinddir=30, fastest5secwindspeed=17.0, fog='Yes', fogheavy='No', mist='No', rain='No', fogground='No', ice='No', glaze='No', drizzle='No', snow='No', freezingrain='No', smokehaze='Yes', thunder='No', highwind='No', hail='No', blowingsnow='No', dust='No', freezingfog='No'),\n",
       " Row(date=datetime.datetime(2018, 10, 8, 0, 0), temperaturemin=69.1, temperaturemax=84.9, precipitation=0.0, snowfall=0.0, snowdepth=0.0, avgwindspeed=6.26, fastest2minwinddir=100, fastest2minwindspeed=16.11, fastest5secwinddir=100, fastest5secwindspeed=23.04, fog='Yes', fogheavy='Yes', mist='No', rain='No', fogground='No', ice='No', glaze='No', drizzle='No', snow='No', freezingrain='No', smokehaze='No', thunder='No', highwind='No', hail='No', blowingsnow='No', dust='No', freezingfog='No'),\n",
       " Row(date=datetime.datetime(2018, 10, 11, 0, 0), temperaturemin=63.0, temperaturemax=79.0, precipitation=2.6, snowfall=0.0, snowdepth=0.0, avgwindspeed=11.63, fastest2minwinddir=150, fastest2minwindspeed=33.11, fastest5secwinddir=290, fastest5secwindspeed=53.91, fog='Yes', fogheavy='No', mist='No', rain='No', fogground='No', ice='No', glaze='No', drizzle='No', snow='No', freezingrain='No', smokehaze='No', thunder='No', highwind='No', hail='No', blowingsnow='No', dust='No', freezingfog='No'),\n",
       " Row(date=datetime.datetime(2018, 10, 13, 0, 0), temperaturemin=48.0, temperaturemax=70.0, precipitation=0.0, snowfall=0.0, snowdepth=0.0, avgwindspeed=3.36, fastest2minwinddir=360, fastest2minwindspeed=12.97, fastest5secwinddir=340, fastest5secwindspeed=21.92, fog='No', fogheavy='No', mist='No', rain='No', fogground='No', ice='No', glaze='No', drizzle='No', snow='No', freezingrain='No', smokehaze='No', thunder='No', highwind='No', hail='No', blowingsnow='No', dust='No', freezingfog='No'),\n",
       " Row(date=datetime.datetime(2018, 10, 15, 0, 0), temperaturemin=59.0, temperaturemax=80.1, precipitation=0.0, snowfall=0.0, snowdepth=0.0, avgwindspeed=5.59, fastest2minwinddir=240, fastest2minwindspeed=16.11, fastest5secwinddir=220, fastest5secwindspeed=21.03, fog='Yes', fogheavy='No', mist='No', rain='No', fogground='No', ice='No', glaze='No', drizzle='No', snow='No', freezingrain='No', smokehaze='No', thunder='No', highwind='No', hail='No', blowingsnow='No', dust='No', freezingfog='No'),\n",
       " Row(date=datetime.datetime(2018, 10, 17, 0, 0), temperaturemin=53.1, temperaturemax=71.1, precipitation=0.0, snowfall=0.0, snowdepth=0.0, avgwindspeed=3.58, fastest2minwinddir=270, fastest2minwindspeed=12.08, fastest5secwinddir=260, fastest5secwindspeed=18.12, fog='Yes', fogheavy='No', mist='No', rain='No', fogground='No', ice='No', glaze='No', drizzle='No', snow='No', freezingrain='No', smokehaze='No', thunder='No', highwind='No', hail='No', blowingsnow='No', dust='No', freezingfog='No'),\n",
       " Row(date=datetime.datetime(2018, 10, 18, 0, 0), temperaturemin=43.0, temperaturemax=62.1, precipitation=0.0, snowfall=0.0, snowdepth=0.0, avgwindspeed=4.47, fastest2minwinddir=40, fastest2minwindspeed=21.92, fastest5secwinddir=50, fastest5secwindspeed=27.07, fog='No', fogheavy='No', mist='No', rain='No', fogground='No', ice='No', glaze='No', drizzle='No', snow='No', freezingrain='No', smokehaze='No', thunder='No', highwind='No', hail='No', blowingsnow='No', dust='No', freezingfog='No'),\n",
       " Row(date=datetime.datetime(2018, 10, 25, 0, 0), temperaturemin=36.0, temperaturemax=55.0, precipitation=0.0, snowfall=0.0, snowdepth=0.0, avgwindspeed=1.34, fastest2minwinddir=250, fastest2minwindspeed=8.05, fastest5secwinddir=230, fastest5secwindspeed=12.97, fog='No', fogheavy='No', mist='No', rain='No', fogground='No', ice='No', glaze='No', drizzle='No', snow='No', freezingrain='No', smokehaze='No', thunder='No', highwind='No', hail='No', blowingsnow='No', dust='No', freezingfog='No'),\n",
       " Row(date=datetime.datetime(2018, 11, 5, 0, 0), temperaturemin=54.0, temperaturemax=62.1, precipitation=0.82, snowfall=0.0, snowdepth=0.0, avgwindspeed=3.8, fastest2minwinddir=90, fastest2minwindspeed=18.12, fastest5secwinddir=80, fastest5secwindspeed=21.92, fog='Yes', fogheavy='No', mist='No', rain='No', fogground='No', ice='No', glaze='No', drizzle='No', snow='No', freezingrain='No', smokehaze='No', thunder='No', highwind='No', hail='No', blowingsnow='No', dust='No', freezingfog='No'),\n",
       " Row(date=datetime.datetime(2018, 11, 6, 0, 0), temperaturemin=57.0, temperaturemax=73.9, precipitation=0.03, snowfall=0.0, snowdepth=0.0, avgwindspeed=7.38, fastest2minwinddir=230, fastest2minwindspeed=27.96, fastest5secwinddir=240, fastest5secwindspeed=36.91, fog='Yes', fogheavy='Yes', mist='No', rain='No', fogground='No', ice='No', glaze='No', drizzle='No', snow='No', freezingrain='No', smokehaze='No', thunder='No', highwind='No', hail='No', blowingsnow='No', dust='No', freezingfog='No'),\n",
       " Row(date=datetime.datetime(2018, 11, 10, 0, 0), temperaturemin=34.0, temperaturemax=52.0, precipitation=0.0, snowfall=0.0, snowdepth=0.0, avgwindspeed=6.26, fastest2minwinddir=320, fastest2minwindspeed=16.11, fastest5secwinddir=320, fastest5secwindspeed=25.05, fog='No', fogheavy='No', mist='No', rain='No', fogground='No', ice='No', glaze='No', drizzle='No', snow='No', freezingrain='No', smokehaze='No', thunder='No', highwind='No', hail='No', blowingsnow='No', dust='No', freezingfog='No'),\n",
       " Row(date=datetime.datetime(2018, 11, 24, 0, 0), temperaturemin=36.0, temperaturemax=45.0, precipitation=0.72, snowfall=0.0, snowdepth=0.0, avgwindspeed=5.14, fastest2minwinddir=290, fastest2minwindspeed=12.97, fastest5secwinddir=300, fastest5secwindspeed=18.12, fog='Yes', fogheavy='No', mist='No', rain='No', fogground='No', ice='No', glaze='No', drizzle='No', snow='No', freezingrain='No', smokehaze='No', thunder='No', highwind='No', hail='No', blowingsnow='No', dust='No', freezingfog='No'),\n",
       " Row(date=datetime.datetime(2018, 11, 29, 0, 0), temperaturemin=25.2, temperaturemax=51.1, precipitation=0.0, snowfall=0.0, snowdepth=0.0, avgwindspeed=3.13, fastest2minwinddir=230, fastest2minwindspeed=10.07, fastest5secwinddir=190, fastest5secwindspeed=14.09, fog='No', fogheavy='No', mist='No', rain='No', fogground='No', ice='No', glaze='No', drizzle='No', snow='No', freezingrain='No', smokehaze='No', thunder='No', highwind='No', hail='No', blowingsnow='No', dust='No', freezingfog='No'),\n",
       " Row(date=datetime.datetime(2018, 12, 2, 0, 0), temperaturemin=57.9, temperaturemax=71.1, precipitation=0.0, snowfall=0.0, snowdepth=0.0, avgwindspeed=10.96, fastest2minwinddir=220, fastest2minwindspeed=21.03, fastest5secwinddir=230, fastest5secwindspeed=25.95, fog='Yes', fogheavy='No', mist='No', rain='No', fogground='No', ice='No', glaze='No', drizzle='No', snow='No', freezingrain='No', smokehaze='No', thunder='No', highwind='No', hail='No', blowingsnow='No', dust='No', freezingfog='No'),\n",
       " Row(date=datetime.datetime(2018, 12, 10, 0, 0), temperaturemin=30.2, temperaturemax=34.0, precipitation=0.73, snowfall=1.89, snowdepth=1.18, avgwindspeed=7.61, fastest2minwinddir=20, fastest2minwindspeed=16.11, fastest5secwinddir=30, fastest5secwindspeed=23.94, fog='Yes', fogheavy='No', mist='No', rain='No', fogground='No', ice='Yes', glaze='Yes', drizzle='No', snow='No', freezingrain='No', smokehaze='No', thunder='No', highwind='No', hail='No', blowingsnow='No', dust='No', freezingfog='No'),\n",
       " Row(date=datetime.datetime(2018, 12, 17, 0, 0), temperaturemin=36.0, temperaturemax=61.0, precipitation=0.0, snowfall=0.0, snowdepth=0.0, avgwindspeed=5.82, fastest2minwinddir=270, fastest2minwindspeed=14.99, fastest5secwinddir=300, fastest5secwindspeed=21.92, fog='No', fogheavy='No', mist='No', rain='No', fogground='No', ice='No', glaze='No', drizzle='No', snow='No', freezingrain='No', smokehaze='No', thunder='No', highwind='No', hail='No', blowingsnow='No', dust='No', freezingfog='No'),\n",
       " Row(date=datetime.datetime(2018, 12, 20, 0, 0), temperaturemin=45.0, temperaturemax=66.0, precipitation=0.68, snowfall=0.0, snowdepth=0.0, avgwindspeed=8.72, fastest2minwinddir=140, fastest2minwindspeed=23.04, fastest5secwinddir=150, fastest5secwindspeed=33.11, fog='Yes', fogheavy='No', mist='No', rain='No', fogground='No', ice='No', glaze='No', drizzle='No', snow='No', freezingrain='No', smokehaze='No', thunder='No', highwind='No', hail='No', blowingsnow='No', dust='No', freezingfog='No'),\n",
       " Row(date=datetime.datetime(2018, 12, 22, 0, 0), temperaturemin=34.0, temperaturemax=53.1, precipitation=0.0, snowfall=0.0, snowdepth=0.0, avgwindspeed=6.71, fastest2minwinddir=280, fastest2minwindspeed=16.11, fastest5secwinddir=270, fastest5secwindspeed=23.04, fog='No', fogheavy='No', mist='No', rain='No', fogground='No', ice='No', glaze='No', drizzle='No', snow='No', freezingrain='No', smokehaze='No', thunder='No', highwind='No', hail='No', blowingsnow='No', dust='No', freezingfog='No'),\n",
       " Row(date=datetime.datetime(2018, 12, 30, 0, 0), temperaturemin=45.0, temperaturemax=59.0, precipitation=0.01, snowfall=0.0, snowdepth=0.0, avgwindspeed=2.91, fastest2minwinddir=160, fastest2minwindspeed=10.07, fastest5secwinddir=140, fastest5secwindspeed=14.99, fog='Yes', fogheavy='No', mist='No', rain='No', fogground='No', ice='No', glaze='No', drizzle='No', snow='No', freezingrain='No', smokehaze='No', thunder='No', highwind='No', hail='No', blowingsnow='No', dust='No', freezingfog='No'),\n",
       " Row(date=datetime.datetime(2019, 1, 7, 0, 0), temperaturemin=39.9, temperaturemax=51.1, precipitation=0.0, snowfall=0.0, snowdepth=0.0, avgwindspeed=6.93, fastest2minwinddir=80, fastest2minwindspeed=12.97, fastest5secwinddir=110, fastest5secwindspeed=19.91, fog='No', fogheavy='No', mist='No', rain='No', fogground='No', ice='No', glaze='No', drizzle='No', snow='No', freezingrain='No', smokehaze='No', thunder='No', highwind='No', hail='No', blowingsnow='No', dust='No', freezingfog='No'),\n",
       " Row(date=datetime.datetime(2019, 1, 25, 0, 0), temperaturemin=27.1, temperaturemax=46.9, precipitation=0.0, snowfall=0.0, snowdepth=0.0, avgwindspeed=3.58, fastest2minwinddir=270, fastest2minwindspeed=14.09, fastest5secwinddir=240, fastest5secwindspeed=21.92, fog='No', fogheavy='No', mist='No', rain='No', fogground='No', ice='No', glaze='No', drizzle='No', snow='No', freezingrain='No', smokehaze='No', thunder='No', highwind='No', hail='No', blowingsnow='No', dust='No', freezingfog='No'),\n",
       " Row(date=datetime.datetime(2019, 2, 4, 0, 0), temperaturemin=37.0, temperaturemax=68.0, precipitation=0.0, snowfall=0.0, snowdepth=0.0, avgwindspeed=2.68, fastest2minwinddir=50, fastest2minwindspeed=14.09, fastest5secwinddir=50, fastest5secwindspeed=18.12, fog='No', fogheavy='No', mist='No', rain='No', fogground='No', ice='No', glaze='No', drizzle='No', snow='No', freezingrain='No', smokehaze='No', thunder='No', highwind='No', hail='No', blowingsnow='No', dust='No', freezingfog='No'),\n",
       " Row(date=datetime.datetime(2019, 2, 10, 0, 0), temperaturemin=27.1, temperaturemax=43.0, precipitation=0.0, snowfall=0.0, snowdepth=0.0, avgwindspeed=3.8, fastest2minwinddir=90, fastest2minwindspeed=12.97, fastest5secwinddir=80, fastest5secwindspeed=16.11, fog='No', fogheavy='No', mist='No', rain='No', fogground='No', ice='No', glaze='No', drizzle='No', snow='No', freezingrain='No', smokehaze='No', thunder='No', highwind='No', hail='No', blowingsnow='No', dust='No', freezingfog='No'),\n",
       " Row(date=datetime.datetime(2019, 2, 16, 0, 0), temperaturemin=34.0, temperaturemax=57.9, precipitation=0.45, snowfall=0.0, snowdepth=0.0, avgwindspeed=8.05, fastest2minwinddir=50, fastest2minwindspeed=25.05, fastest5secwinddir=50, fastest5secwindspeed=34.0, fog='Yes', fogheavy='No', mist='No', rain='No', fogground='No', ice='No', glaze='No', drizzle='No', snow='No', freezingrain='No', smokehaze='No', thunder='No', highwind='No', hail='No', blowingsnow='No', dust='No', freezingfog='No'),\n",
       " Row(date=datetime.datetime(2019, 2, 18, 0, 0), temperaturemin=37.9, temperaturemax=63.0, precipitation=0.42, snowfall=0.0, snowdepth=0.0, avgwindspeed=6.71, fastest2minwinddir=280, fastest2minwindspeed=14.09, fastest5secwinddir=10, fastest5secwindspeed=21.92, fog='Yes', fogheavy='No', mist='No', rain='No', fogground='No', ice='No', glaze='No', drizzle='No', snow='No', freezingrain='No', smokehaze='No', thunder='No', highwind='No', hail='No', blowingsnow='No', dust='No', freezingfog='No'),\n",
       " Row(date=datetime.datetime(2019, 2, 19, 0, 0), temperaturemin=33.1, temperaturemax=45.0, precipitation=0.25, snowfall=0.0, snowdepth=0.0, avgwindspeed=5.37, fastest2minwinddir=100, fastest2minwindspeed=12.08, fastest5secwinddir=130, fastest5secwindspeed=16.11, fog='Yes', fogheavy='No', mist='No', rain='No', fogground='No', ice='Yes', glaze='No', drizzle='No', snow='No', freezingrain='No', smokehaze='No', thunder='No', highwind='No', hail='No', blowingsnow='No', dust='No', freezingfog='No'),\n",
       " Row(date=datetime.datetime(2019, 2, 21, 0, 0), temperaturemin=35.1, temperaturemax=59.0, precipitation=0.14, snowfall=0.0, snowdepth=0.0, avgwindspeed=4.25, fastest2minwinddir=230, fastest2minwindspeed=10.07, fastest5secwinddir=240, fastest5secwindspeed=12.97, fog='Yes', fogheavy='Yes', mist='No', rain='No', fogground='No', ice='No', glaze='No', drizzle='No', snow='No', freezingrain='No', smokehaze='No', thunder='Yes', highwind='No', hail='No', blowingsnow='No', dust='No', freezingfog='No'),\n",
       " Row(date=datetime.datetime(2019, 2, 24, 0, 0), temperaturemin=41.0, temperaturemax=64.9, precipitation=0.05, snowfall=0.0, snowdepth=0.0, avgwindspeed=8.72, fastest2minwinddir=240, fastest2minwindspeed=29.08, fastest5secwinddir=240, fastest5secwindspeed=34.0, fog='Yes', fogheavy='Yes', mist='No', rain='No', fogground='No', ice='No', glaze='No', drizzle='No', snow='No', freezingrain='No', smokehaze='No', thunder='No', highwind='No', hail='No', blowingsnow='No', dust='No', freezingfog='No'),\n",
       " Row(date=datetime.datetime(2019, 3, 2, 0, 0), temperaturemin=37.0, temperaturemax=59.0, precipitation=0.0, snowfall=0.0, snowdepth=0.0, avgwindspeed=4.25, fastest2minwinddir=120, fastest2minwindspeed=12.97, fastest5secwinddir=110, fastest5secwindspeed=16.11, fog='Yes', fogheavy='No', mist='No', rain='No', fogground='No', ice='No', glaze='No', drizzle='No', snow='No', freezingrain='No', smokehaze='No', thunder='No', highwind='No', hail='No', blowingsnow='No', dust='No', freezingfog='No'),\n",
       " Row(date=datetime.datetime(2019, 3, 16, 0, 0), temperaturemin=39.9, temperaturemax=59.0, precipitation=0.0, snowfall=0.0, snowdepth=0.0, avgwindspeed=4.92, fastest2minwinddir=360, fastest2minwindspeed=14.09, fastest5secwinddir=340, fastest5secwindspeed=25.05, fog='No', fogheavy='No', mist='No', rain='No', fogground='No', ice='No', glaze='No', drizzle='No', snow='No', freezingrain='No', smokehaze='No', thunder='No', highwind='No', hail='No', blowingsnow='No', dust='No', freezingfog='No'),\n",
       " Row(date=datetime.datetime(2019, 3, 19, 0, 0), temperaturemin=33.1, temperaturemax=55.0, precipitation=0.0, snowfall=0.0, snowdepth=0.0, avgwindspeed=6.26, fastest2minwinddir=40, fastest2minwindspeed=14.99, fastest5secwinddir=50, fastest5secwindspeed=19.01, fog='Yes', fogheavy='No', mist='No', rain='No', fogground='No', ice='No', glaze='No', drizzle='No', snow='No', freezingrain='No', smokehaze='No', thunder='No', highwind='No', hail='No', blowingsnow='No', dust='No', freezingfog='No'),\n",
       " Row(date=datetime.datetime(2019, 3, 21, 0, 0), temperaturemin=44.1, temperaturemax=59.0, precipitation=0.58, snowfall=0.0, snowdepth=0.0, avgwindspeed=6.26, fastest2minwinddir=330, fastest2minwindspeed=14.09, fastest5secwinddir=360, fastest5secwindspeed=23.04, fog='Yes', fogheavy='No', mist='No', rain='No', fogground='No', ice='No', glaze='No', drizzle='No', snow='No', freezingrain='No', smokehaze='No', thunder='No', highwind='No', hail='No', blowingsnow='No', dust='No', freezingfog='No'),\n",
       " Row(date=datetime.datetime(2019, 3, 26, 0, 0), temperaturemin=39.0, temperaturemax=55.9, precipitation=0.06, snowfall=0.0, snowdepth=0.0, avgwindspeed=10.07, fastest2minwinddir=40, fastest2minwindspeed=21.03, fastest5secwinddir=30, fastest5secwindspeed=25.95, fog='Yes', fogheavy='No', mist='No', rain='No', fogground='No', ice='No', glaze='No', drizzle='No', snow='No', freezingrain='No', smokehaze='No', thunder='No', highwind='No', hail='No', blowingsnow='No', dust='No', freezingfog='No'),\n",
       " Row(date=datetime.datetime(2019, 4, 2, 0, 0), temperaturemin=31.1, temperaturemax=39.9, precipitation=0.35, snowfall=0.0, snowdepth=0.0, avgwindspeed=5.82, fastest2minwinddir=20, fastest2minwindspeed=12.97, fastest5secwinddir=20, fastest5secwindspeed=19.01, fog='Yes', fogheavy='No', mist='No', rain='No', fogground='No', ice='No', glaze='No', drizzle='No', snow='No', freezingrain='No', smokehaze='No', thunder='No', highwind='No', hail='No', blowingsnow='No', dust='No', freezingfog='No'),\n",
       " Row(date=datetime.datetime(2019, 4, 13, 0, 0), temperaturemin=64.0, temperaturemax=70.0, precipitation=0.93, snowfall=0.0, snowdepth=0.0, avgwindspeed=5.59, fastest2minwinddir=250, fastest2minwindspeed=14.09, fastest5secwinddir=80, fastest5secwindspeed=18.12, fog='Yes', fogheavy='No', mist='No', rain='No', fogground='No', ice='No', glaze='No', drizzle='No', snow='No', freezingrain='No', smokehaze='No', thunder='Yes', highwind='No', hail='No', blowingsnow='No', dust='No', freezingfog='No'),\n",
       " Row(date=datetime.datetime(2019, 4, 14, 0, 0), temperaturemin=66.0, temperaturemax=79.0, precipitation=0.28, snowfall=0.0, snowdepth=0.0, avgwindspeed=11.86, fastest2minwinddir=220, fastest2minwindspeed=31.09, fastest5secwinddir=210, fastest5secwindspeed=44.96, fog='Yes', fogheavy='No', mist='No', rain='No', fogground='No', ice='No', glaze='No', drizzle='No', snow='No', freezingrain='No', smokehaze='No', thunder='Yes', highwind='No', hail='No', blowingsnow='No', dust='No', freezingfog='No'),\n",
       " Row(date=datetime.datetime(2019, 4, 17, 0, 0), temperaturemin=48.0, temperaturemax=80.1, precipitation=0.0, snowfall=0.0, snowdepth=0.0, avgwindspeed=6.71, fastest2minwinddir=230, fastest2minwindspeed=12.97, fastest5secwinddir=220, fastest5secwindspeed=18.12, fog='No', fogheavy='No', mist='No', rain='No', fogground='No', ice='No', glaze='No', drizzle='No', snow='No', freezingrain='No', smokehaze='No', thunder='No', highwind='No', hail='No', blowingsnow='No', dust='No', freezingfog='No'),\n",
       " Row(date=datetime.datetime(2019, 4, 20, 0, 0), temperaturemin=48.9, temperaturemax=66.0, precipitation=0.02, snowfall=0.0, snowdepth=0.0, avgwindspeed=12.53, fastest2minwinddir=230, fastest2minwindspeed=27.96, fastest5secwinddir=240, fastest5secwindspeed=33.11, fog='Yes', fogheavy='No', mist='No', rain='No', fogground='No', ice='No', glaze='No', drizzle='No', snow='No', freezingrain='No', smokehaze='No', thunder='No', highwind='No', hail='No', blowingsnow='No', dust='No', freezingfog='No'),\n",
       " Row(date=datetime.datetime(2019, 5, 1, 0, 0), temperaturemin=63.0, temperaturemax=84.0, precipitation=0.0, snowfall=0.0, snowdepth=0.0, avgwindspeed=8.05, fastest2minwinddir=240, fastest2minwindspeed=17.0, fastest5secwinddir=230, fastest5secwindspeed=21.92, fog='No', fogheavy='No', mist='No', rain='No', fogground='No', ice='No', glaze='No', drizzle='No', snow='No', freezingrain='No', smokehaze='No', thunder='No', highwind='No', hail='No', blowingsnow='No', dust='No', freezingfog='No'),\n",
       " Row(date=datetime.datetime(2019, 5, 5, 0, 0), temperaturemin=63.0, temperaturemax=77.0, precipitation=0.36, snowfall=0.0, snowdepth=0.0, avgwindspeed=6.71, fastest2minwinddir=240, fastest2minwindspeed=23.04, fastest5secwinddir=250, fastest5secwindspeed=29.08, fog='Yes', fogheavy='No', mist='No', rain='No', fogground='No', ice='No', glaze='No', drizzle='No', snow='No', freezingrain='No', smokehaze='No', thunder='No', highwind='No', hail='No', blowingsnow='No', dust='No', freezingfog='No'),\n",
       " Row(date=datetime.datetime(2019, 5, 7, 0, 0), temperaturemin=57.9, temperaturemax=79.0, precipitation=0.0, snowfall=0.0, snowdepth=0.0, avgwindspeed=4.47, fastest2minwinddir=190, fastest2minwindspeed=10.07, fastest5secwinddir=200, fastest5secwindspeed=14.09, fog='No', fogheavy='No', mist='No', rain='No', fogground='No', ice='No', glaze='No', drizzle='No', snow='No', freezingrain='No', smokehaze='No', thunder='No', highwind='No', hail='No', blowingsnow='No', dust='No', freezingfog='No'),\n",
       " Row(date=datetime.datetime(2019, 5, 9, 0, 0), temperaturemin=63.0, temperaturemax=82.9, precipitation=0.0, snowfall=0.0, snowdepth=0.0, avgwindspeed=8.05, fastest2minwinddir=170, fastest2minwindspeed=14.99, fastest5secwinddir=170, fastest5secwindspeed=19.91, fog='No', fogheavy='No', mist='No', rain='No', fogground='No', ice='No', glaze='No', drizzle='No', snow='No', freezingrain='No', smokehaze='No', thunder='No', highwind='No', hail='No', blowingsnow='No', dust='No', freezingfog='No'),\n",
       " Row(date=datetime.datetime(2019, 5, 12, 0, 0), temperaturemin=64.9, temperaturemax=75.9, precipitation=0.0, snowfall=0.0, snowdepth=0.0, avgwindspeed=11.63, fastest2minwinddir=230, fastest2minwindspeed=21.92, fastest5secwinddir=220, fastest5secwindspeed=27.07, fog='No', fogheavy='No', mist='No', rain='No', fogground='No', ice='No', glaze='No', drizzle='No', snow='No', freezingrain='No', smokehaze='No', thunder='No', highwind='No', hail='No', blowingsnow='No', dust='No', freezingfog='No'),\n",
       " Row(date=datetime.datetime(2019, 5, 27, 0, 0), temperaturemin=68.0, temperaturemax=89.1, precipitation=0.0, snowfall=0.0, snowdepth=0.0, avgwindspeed=3.13, fastest2minwinddir=350, fastest2minwindspeed=12.97, fastest5secwinddir=10, fastest5secwindspeed=18.12, fog='No', fogheavy='No', mist='No', rain='No', fogground='No', ice='No', glaze='No', drizzle='No', snow='No', freezingrain='No', smokehaze='No', thunder='No', highwind='No', hail='No', blowingsnow='No', dust='No', freezingfog='No'),\n",
       " Row(date=datetime.datetime(2019, 6, 4, 0, 0), temperaturemin=57.0, temperaturemax=84.0, precipitation=0.0, snowfall=0.0, snowdepth=0.0, avgwindspeed=6.93, fastest2minwinddir=210, fastest2minwindspeed=17.0, fastest5secwinddir=210, fastest5secwindspeed=21.92, fog='No', fogheavy='No', mist='No', rain='No', fogground='No', ice='No', glaze='No', drizzle='No', snow='No', freezingrain='No', smokehaze='No', thunder='No', highwind='No', hail='No', blowingsnow='No', dust='No', freezingfog='No'),\n",
       " Row(date=datetime.datetime(2019, 6, 9, 0, 0), temperaturemin=70.0, temperaturemax=80.1, precipitation=0.09, snowfall=0.0, snowdepth=0.0, avgwindspeed=6.93, fastest2minwinddir=80, fastest2minwindspeed=16.11, fastest5secwinddir=90, fastest5secwindspeed=21.03, fog='Yes', fogheavy='No', mist='No', rain='No', fogground='No', ice='No', glaze='No', drizzle='No', snow='No', freezingrain='No', smokehaze='No', thunder='No', highwind='No', hail='No', blowingsnow='No', dust='No', freezingfog='No'),\n",
       " Row(date=datetime.datetime(2019, 6, 10, 0, 0), temperaturemin=72.0, temperaturemax=87.1, precipitation=0.14, snowfall=0.0, snowdepth=0.0, avgwindspeed=6.49, fastest2minwinddir=230, fastest2minwindspeed=14.09, fastest5secwinddir=210, fastest5secwindspeed=18.12, fog='Yes', fogheavy='No', mist='No', rain='No', fogground='No', ice='No', glaze='No', drizzle='No', snow='No', freezingrain='No', smokehaze='No', thunder='Yes', highwind='No', hail='No', blowingsnow='No', dust='No', freezingfog='No'),\n",
       " Row(date=datetime.datetime(2019, 6, 22, 0, 0), temperaturemin=63.0, temperaturemax=84.0, precipitation=0.01, snowfall=0.0, snowdepth=0.0, avgwindspeed=4.03, fastest2minwinddir=40, fastest2minwindspeed=12.08, fastest5secwinddir=10, fastest5secwindspeed=14.09, fog='No', fogheavy='No', mist='No', rain='No', fogground='No', ice='No', glaze='No', drizzle='No', snow='No', freezingrain='No', smokehaze='No', thunder='No', highwind='No', hail='No', blowingsnow='No', dust='No', freezingfog='No'),\n",
       " Row(date=datetime.datetime(2019, 6, 25, 0, 0), temperaturemin=70.0, temperaturemax=90.0, precipitation=0.0, snowfall=0.0, snowdepth=0.0, avgwindspeed=5.14, fastest2minwinddir=260, fastest2minwindspeed=16.11, fastest5secwinddir=240, fastest5secwindspeed=27.96, fog='No', fogheavy='No', mist='No', rain='No', fogground='No', ice='No', glaze='No', drizzle='No', snow='No', freezingrain='No', smokehaze='No', thunder='No', highwind='No', hail='No', blowingsnow='No', dust='No', freezingfog='No'),\n",
       " Row(date=datetime.datetime(2019, 7, 12, 0, 0), temperaturemin=73.0, temperaturemax=91.9, precipitation=0.08, snowfall=0.0, snowdepth=0.0, avgwindspeed=8.05, fastest2minwinddir=230, fastest2minwindspeed=16.11, fastest5secwinddir=230, fastest5secwindspeed=21.03, fog='Yes', fogheavy='No', mist='No', rain='No', fogground='No', ice='No', glaze='No', drizzle='No', snow='No', freezingrain='No', smokehaze='No', thunder='Yes', highwind='No', hail='No', blowingsnow='No', dust='No', freezingfog='No'),\n",
       " Row(date=datetime.datetime(2019, 7, 13, 0, 0), temperaturemin=73.0, temperaturemax=95.0, precipitation=0.0, snowfall=0.0, snowdepth=0.0, avgwindspeed=4.92, fastest2minwinddir=100, fastest2minwindspeed=12.08, fastest5secwinddir=260, fastest5secwindspeed=14.99, fog='No', fogheavy='No', mist='No', rain='No', fogground='No', ice='No', glaze='No', drizzle='No', snow='No', freezingrain='No', smokehaze='No', thunder='No', highwind='No', hail='No', blowingsnow='No', dust='No', freezingfog='No'),\n",
       " Row(date=datetime.datetime(2019, 7, 16, 0, 0), temperaturemin=71.1, temperaturemax=96.1, precipitation=0.0, snowfall=0.0, snowdepth=0.0, avgwindspeed=3.36, fastest2minwinddir=150, fastest2minwindspeed=14.99, fastest5secwinddir=120, fastest5secwindspeed=19.01, fog='Yes', fogheavy='No', mist='No', rain='No', fogground='No', ice='No', glaze='No', drizzle='No', snow='No', freezingrain='No', smokehaze='No', thunder='Yes', highwind='No', hail='No', blowingsnow='No', dust='No', freezingfog='No'),\n",
       " Row(date=datetime.datetime(2019, 7, 18, 0, 0), temperaturemin=73.9, temperaturemax=96.1, precipitation=0.02, snowfall=0.0, snowdepth=0.0, avgwindspeed=7.61, fastest2minwinddir=230, fastest2minwindspeed=19.91, fastest5secwinddir=230, fastest5secwindspeed=25.05, fog='No', fogheavy='No', mist='No', rain='No', fogground='No', ice='No', glaze='No', drizzle='No', snow='No', freezingrain='No', smokehaze='No', thunder='Yes', highwind='No', hail='No', blowingsnow='No', dust='No', freezingfog='No'),\n",
       " Row(date=datetime.datetime(2019, 8, 5, 0, 0), temperaturemin=68.0, temperaturemax=84.9, precipitation=0.22, snowfall=0.0, snowdepth=0.0, avgwindspeed=2.68, fastest2minwinddir=300, fastest2minwindspeed=14.09, fastest5secwinddir=310, fastest5secwindspeed=21.92, fog='Yes', fogheavy='No', mist='No', rain='No', fogground='No', ice='No', glaze='No', drizzle='No', snow='No', freezingrain='No', smokehaze='No', thunder='Yes', highwind='No', hail='No', blowingsnow='No', dust='No', freezingfog='No'),\n",
       " Row(date=datetime.datetime(2019, 8, 15, 0, 0), temperaturemin=72.0, temperaturemax=90.0, precipitation=0.0, snowfall=0.0, snowdepth=0.0, avgwindspeed=3.8, fastest2minwinddir=160, fastest2minwindspeed=17.0, fastest5secwinddir=160, fastest5secwindspeed=23.94, fog='Yes', fogheavy='No', mist='No', rain='No', fogground='No', ice='No', glaze='No', drizzle='No', snow='No', freezingrain='No', smokehaze='No', thunder='Yes', highwind='No', hail='No', blowingsnow='No', dust='No', freezingfog='No'),\n",
       " Row(date=datetime.datetime(2019, 8, 30, 0, 0), temperaturemin=57.0, temperaturemax=90.0, precipitation=0.0, snowfall=0.0, snowdepth=0.0, avgwindspeed=3.13, fastest2minwinddir=240, fastest2minwindspeed=12.97, fastest5secwinddir=230, fastest5secwindspeed=17.0, fog='No', fogheavy='No', mist='No', rain='No', fogground='No', ice='No', glaze='No', drizzle='No', snow='No', freezingrain='No', smokehaze='No', thunder='No', highwind='No', hail='No', blowingsnow='No', dust='No', freezingfog='No'),\n",
       " Row(date=datetime.datetime(2019, 8, 31, 0, 0), temperaturemin=62.1, temperaturemax=89.1, precipitation=0.0, snowfall=0.0, snowdepth=0.0, avgwindspeed=2.91, fastest2minwinddir=80, fastest2minwindspeed=12.08, fastest5secwinddir=100, fastest5secwindspeed=14.99, fog='No', fogheavy='No', mist='No', rain='No', fogground='No', ice='No', glaze='No', drizzle='No', snow='No', freezingrain='No', smokehaze='No', thunder='No', highwind='No', hail='No', blowingsnow='No', dust='No', freezingfog='No'),\n",
       " Row(date=datetime.datetime(2019, 9, 3, 0, 0), temperaturemin=68.0, temperaturemax=91.0, precipitation=0.0, snowfall=0.0, snowdepth=0.0, avgwindspeed=3.13, fastest2minwinddir=50, fastest2minwindspeed=10.07, fastest5secwinddir=40, fastest5secwindspeed=16.11, fog='No', fogheavy='No', mist='No', rain='No', fogground='No', ice='No', glaze='No', drizzle='No', snow='No', freezingrain='No', smokehaze='No', thunder='No', highwind='No', hail='No', blowingsnow='No', dust='No', freezingfog='No'),\n",
       " Row(date=datetime.datetime(2019, 9, 5, 0, 0), temperaturemin=70.0, temperaturemax=79.0, precipitation=0.93, snowfall=0.0, snowdepth=0.0, avgwindspeed=11.86, fastest2minwinddir=20, fastest2minwindspeed=21.03, fastest5secwinddir=10, fastest5secwindspeed=36.91, fog='Yes', fogheavy='No', mist='No', rain='No', fogground='No', ice='No', glaze='No', drizzle='No', snow='No', freezingrain='No', smokehaze='No', thunder='No', highwind='No', hail='No', blowingsnow='No', dust='No', freezingfog='No'),\n",
       " Row(date=datetime.datetime(2019, 9, 8, 0, 0), temperaturemin=66.0, temperaturemax=89.1, precipitation=0.0, snowfall=0.0, snowdepth=0.0, avgwindspeed=4.03, fastest2minwinddir=140, fastest2minwindspeed=10.07, fastest5secwinddir=110, fastest5secwindspeed=14.99, fog='No', fogheavy='No', mist='No', rain='No', fogground='No', ice='No', glaze='No', drizzle='No', snow='No', freezingrain='No', smokehaze='No', thunder='No', highwind='No', hail='No', blowingsnow='No', dust='No', freezingfog='No'),\n",
       " Row(date=datetime.datetime(2019, 9, 21, 0, 0), temperaturemin=55.0, temperaturemax=88.0, precipitation=0.0, snowfall=0.0, snowdepth=0.0, avgwindspeed=5.14, fastest2minwinddir=170, fastest2minwindspeed=12.08, fastest5secwinddir=220, fastest5secwindspeed=14.99, fog='No', fogheavy='No', mist='No', rain='No', fogground='No', ice='No', glaze='No', drizzle='No', snow='No', freezingrain='No', smokehaze='No', thunder='No', highwind='No', hail='No', blowingsnow='No', dust='No', freezingfog='No'),\n",
       " Row(date=datetime.datetime(2019, 9, 24, 0, 0), temperaturemin=64.0, temperaturemax=89.1, precipitation=0.0, snowfall=0.0, snowdepth=0.0, avgwindspeed=3.8, fastest2minwinddir=40, fastest2minwindspeed=12.97, fastest5secwinddir=40, fastest5secwindspeed=18.12, fog='No', fogheavy='No', mist='No', rain='No', fogground='No', ice='No', glaze='No', drizzle='No', snow='No', freezingrain='No', smokehaze='No', thunder='No', highwind='No', hail='No', blowingsnow='No', dust='No', freezingfog='No'),\n",
       " Row(date=datetime.datetime(2019, 9, 25, 0, 0), temperaturemin=63.0, temperaturemax=87.1, precipitation=0.0, snowfall=0.0, snowdepth=0.0, avgwindspeed=6.04, fastest2minwinddir=160, fastest2minwindspeed=12.97, fastest5secwinddir=130, fastest5secwindspeed=16.11, fog='No', fogheavy='No', mist='No', rain='No', fogground='No', ice='No', glaze='No', drizzle='No', snow='No', freezingrain='No', smokehaze='No', thunder='No', highwind='No', hail='No', blowingsnow='No', dust='No', freezingfog='No'),\n",
       " Row(date=datetime.datetime(2019, 9, 28, 0, 0), temperaturemin=71.1, temperaturemax=93.9, precipitation=0.0, snowfall=0.0, snowdepth=0.0, avgwindspeed=7.61, fastest2minwinddir=230, fastest2minwindspeed=16.11, fastest5secwinddir=230, fastest5secwindspeed=23.04, fog='Yes', fogheavy='No', mist='No', rain='No', fogground='No', ice='No', glaze='No', drizzle='No', snow='No', freezingrain='No', smokehaze='No', thunder='No', highwind='No', hail='No', blowingsnow='No', dust='No', freezingfog='No'),\n",
       " Row(date=datetime.datetime(2019, 10, 5, 0, 0), temperaturemin=57.9, temperaturemax=68.0, precipitation=0.0, snowfall=0.0, snowdepth=0.0, avgwindspeed=8.72, fastest2minwinddir=70, fastest2minwindspeed=21.92, fastest5secwinddir=80, fastest5secwindspeed=29.97, fog='No', fogheavy='No', mist='No', rain='No', fogground='No', ice='No', glaze='No', drizzle='No', snow='No', freezingrain='No', smokehaze='No', thunder='No', highwind='No', hail='No', blowingsnow='No', dust='No', freezingfog='No'),\n",
       " Row(date=datetime.datetime(2019, 10, 6, 0, 0), temperaturemin=57.0, temperaturemax=82.0, precipitation=0.0, snowfall=0.0, snowdepth=0.0, avgwindspeed=4.47, fastest2minwinddir=140, fastest2minwindspeed=12.08, fastest5secwinddir=150, fastest5secwindspeed=14.99, fog='No', fogheavy='No', mist='No', rain='No', fogground='No', ice='No', glaze='No', drizzle='No', snow='No', freezingrain='No', smokehaze='No', thunder='No', highwind='No', hail='No', blowingsnow='No', dust='No', freezingfog='No'),\n",
       " Row(date=datetime.datetime(2019, 10, 21, 0, 0), temperaturemin=50.0, temperaturemax=73.9, precipitation=0.0, snowfall=0.0, snowdepth=0.0, avgwindspeed=4.47, fastest2minwinddir=110, fastest2minwindspeed=12.97, fastest5secwinddir=120, fastest5secwindspeed=14.99, fog='Yes', fogheavy='No', mist='No', rain='No', fogground='No', ice='No', glaze='No', drizzle='No', snow='No', freezingrain='No', smokehaze='No', thunder='No', highwind='No', hail='No', blowingsnow='No', dust='No', freezingfog='No'),\n",
       " Row(date=datetime.datetime(2019, 10, 23, 0, 0), temperaturemin=44.1, temperaturemax=69.1, precipitation=0.0, snowfall=0.0, snowdepth=0.0, avgwindspeed=2.24, fastest2minwinddir=280, fastest2minwindspeed=12.08, fastest5secwinddir=280, fastest5secwindspeed=16.11, fog='No', fogheavy='No', mist='No', rain='No', fogground='No', ice='No', glaze='No', drizzle='No', snow='No', freezingrain='No', smokehaze='No', thunder='No', highwind='No', hail='No', blowingsnow='No', dust='No', freezingfog='No'),\n",
       " Row(date=datetime.datetime(2019, 10, 25, 0, 0), temperaturemin=52.0, temperaturemax=75.0, precipitation=0.0, snowfall=0.0, snowdepth=0.0, avgwindspeed=1.12, fastest2minwinddir=130, fastest2minwindspeed=8.05, fastest5secwinddir=110, fastest5secwindspeed=12.08, fog='No', fogheavy='No', mist='No', rain='No', fogground='No', ice='No', glaze='No', drizzle='No', snow='No', freezingrain='No', smokehaze='No', thunder='No', highwind='No', hail='No', blowingsnow='No', dust='No', freezingfog='No'),\n",
       " Row(date=datetime.datetime(2019, 10, 26, 0, 0), temperaturemin=53.1, temperaturemax=79.0, precipitation=0.0, snowfall=0.0, snowdepth=0.0, avgwindspeed=6.04, fastest2minwinddir=130, fastest2minwindspeed=16.11, fastest5secwinddir=130, fastest5secwindspeed=21.92, fog='Yes', fogheavy='No', mist='No', rain='No', fogground='No', ice='No', glaze='No', drizzle='No', snow='No', freezingrain='No', smokehaze='No', thunder='No', highwind='No', hail='No', blowingsnow='No', dust='No', freezingfog='No'),\n",
       " Row(date=datetime.datetime(2019, 11, 2, 0, 0), temperaturemin=36.0, temperaturemax=62.1, precipitation=0.0, snowfall=0.0, snowdepth=0.0, avgwindspeed=1.12, fastest2minwinddir=340, fastest2minwindspeed=6.93, fastest5secwinddir=340, fastest5secwindspeed=10.07, fog='Yes', fogheavy='No', mist='No', rain='No', fogground='No', ice='No', glaze='No', drizzle='No', snow='No', freezingrain='No', smokehaze='No', thunder='No', highwind='No', hail='No', blowingsnow='No', dust='No', freezingfog='No'),\n",
       " Row(date=datetime.datetime(2019, 11, 4, 0, 0), temperaturemin=33.1, temperaturemax=64.0, precipitation=0.0, snowfall=0.0, snowdepth=0.0, avgwindspeed=2.24, fastest2minwinddir=340, fastest2minwindspeed=8.95, fastest5secwinddir=120, fastest5secwindspeed=12.97, fog='No', fogheavy='No', mist='No', rain='No', fogground='No', ice='No', glaze='No', drizzle='No', snow='No', freezingrain='No', smokehaze='No', thunder='No', highwind='No', hail='No', blowingsnow='No', dust='No', freezingfog='No'),\n",
       " Row(date=datetime.datetime(2019, 11, 8, 0, 0), temperaturemin=33.1, temperaturemax=57.9, precipitation=0.1, snowfall=0.0, snowdepth=0.0, avgwindspeed=7.61, fastest2minwinddir=50, fastest2minwindspeed=18.12, fastest5secwinddir=30, fastest5secwindspeed=23.94, fog='Yes', fogheavy='No', mist='No', rain='No', fogground='No', ice='No', glaze='No', drizzle='No', snow='No', freezingrain='No', smokehaze='No', thunder='No', highwind='No', hail='No', blowingsnow='No', dust='No', freezingfog='No'),\n",
       " Row(date=datetime.datetime(2019, 11, 9, 0, 0), temperaturemin=27.1, temperaturemax=52.0, precipitation=0.0, snowfall=0.0, snowdepth=0.0, avgwindspeed=2.68, fastest2minwinddir=50, fastest2minwindspeed=10.07, fastest5secwinddir=50, fastest5secwindspeed=14.09, fog='No', fogheavy='No', mist='No', rain='No', fogground='No', ice='No', glaze='No', drizzle='No', snow='No', freezingrain='No', smokehaze='No', thunder='No', highwind='No', hail='No', blowingsnow='No', dust='No', freezingfog='No'),\n",
       " Row(date=datetime.datetime(2019, 11, 10, 0, 0), temperaturemin=29.1, temperaturemax=64.9, precipitation=0.0, snowfall=0.0, snowdepth=0.0, avgwindspeed=5.82, fastest2minwinddir=230, fastest2minwindspeed=14.09, fastest5secwinddir=240, fastest5secwindspeed=18.12, fog='No', fogheavy='No', mist='No', rain='No', fogground='No', ice='No', glaze='No', drizzle='No', snow='No', freezingrain='No', smokehaze='No', thunder='No', highwind='No', hail='No', blowingsnow='No', dust='No', freezingfog='No'),\n",
       " Row(date=datetime.datetime(2019, 11, 12, 0, 0), temperaturemin=29.1, temperaturemax=55.9, precipitation=0.94, snowfall=0.0, snowdepth=0.0, avgwindspeed=6.71, fastest2minwinddir=340, fastest2minwindspeed=14.99, fastest5secwinddir=10, fastest5secwindspeed=25.95, fog='Yes', fogheavy='No', mist='No', rain='No', fogground='No', ice='Yes', glaze='No', drizzle='No', snow='No', freezingrain='No', smokehaze='No', thunder='No', highwind='No', hail='No', blowingsnow='No', dust='No', freezingfog='No'),\n",
       " Row(date=datetime.datetime(2019, 11, 21, 0, 0), temperaturemin=31.1, temperaturemax=59.0, precipitation=0.0, snowfall=0.0, snowdepth=0.0, avgwindspeed=3.58, fastest2minwinddir=220, fastest2minwindspeed=10.07, fastest5secwinddir=220, fastest5secwindspeed=14.09, fog='No', fogheavy='No', mist='No', rain='No', fogground='No', ice='No', glaze='No', drizzle='No', snow='No', freezingrain='No', smokehaze='No', thunder='No', highwind='No', hail='No', blowingsnow='No', dust='No', freezingfog='No'),\n",
       " Row(date=datetime.datetime(2019, 11, 28, 0, 0), temperaturemin=41.0, temperaturemax=59.0, precipitation=0.0, snowfall=0.0, snowdepth=0.0, avgwindspeed=7.16, fastest2minwinddir=300, fastest2minwindspeed=14.09, fastest5secwinddir=330, fastest5secwindspeed=23.04, fog='No', fogheavy='No', mist='No', rain='No', fogground='No', ice='No', glaze='No', drizzle='No', snow='No', freezingrain='No', smokehaze='No', thunder='No', highwind='No', hail='No', blowingsnow='No', dust='No', freezingfog='No'),\n",
       " Row(date=datetime.datetime(2019, 11, 29, 0, 0), temperaturemin=33.1, temperaturemax=55.9, precipitation=0.0, snowfall=0.0, snowdepth=0.0, avgwindspeed=1.12, fastest2minwinddir=50, fastest2minwindspeed=8.05, fastest5secwinddir=50, fastest5secwindspeed=10.07, fog='No', fogheavy='No', mist='No', rain='No', fogground='No', ice='No', glaze='No', drizzle='No', snow='No', freezingrain='No', smokehaze='No', thunder='No', highwind='No', hail='No', blowingsnow='No', dust='No', freezingfog='No'),\n",
       " Row(date=datetime.datetime(2019, 12, 2, 0, 0), temperaturemin=37.9, temperaturemax=50.0, precipitation=0.0, snowfall=0.0, snowdepth=0.0, avgwindspeed=7.83, fastest2minwinddir=290, fastest2minwindspeed=18.12, fastest5secwinddir=320, fastest5secwindspeed=29.97, fog='Yes', fogheavy='Yes', mist='No', rain='No', fogground='No', ice='No', glaze='No', drizzle='No', snow='No', freezingrain='No', smokehaze='No', thunder='No', highwind='No', hail='No', blowingsnow='No', dust='No', freezingfog='No'),\n",
       " Row(date=datetime.datetime(2019, 12, 3, 0, 0), temperaturemin=35.1, temperaturemax=51.1, precipitation=0.0, snowfall=0.0, snowdepth=0.0, avgwindspeed=5.14, fastest2minwinddir=280, fastest2minwindspeed=12.08, fastest5secwinddir=240, fastest5secwindspeed=17.0, fog='No', fogheavy='No', mist='No', rain='No', fogground='No', ice='No', glaze='No', drizzle='No', snow='No', freezingrain='No', smokehaze='No', thunder='No', highwind='No', hail='No', blowingsnow='No', dust='No', freezingfog='No'),\n",
       " Row(date=datetime.datetime(2019, 12, 4, 0, 0), temperaturemin=33.1, temperaturemax=57.0, precipitation=0.0, snowfall=0.0, snowdepth=0.0, avgwindspeed=4.7, fastest2minwinddir=230, fastest2minwindspeed=19.91, fastest5secwinddir=240, fastest5secwindspeed=25.95, fog='No', fogheavy='No', mist='No', rain='No', fogground='No', ice='No', glaze='No', drizzle='No', snow='No', freezingrain='No', smokehaze='No', thunder='No', highwind='No', hail='No', blowingsnow='No', dust='No', freezingfog='No'),\n",
       " Row(date=datetime.datetime(2019, 12, 21, 0, 0), temperaturemin=30.2, temperaturemax=48.9, precipitation=0.0, snowfall=0.0, snowdepth=0.0, avgwindspeed=2.01, fastest2minwinddir=90, fastest2minwindspeed=8.95, fastest5secwinddir=90, fastest5secwindspeed=12.08, fog='No', fogheavy='No', mist='No', rain='No', fogground='No', ice='No', glaze='No', drizzle='No', snow='No', freezingrain='No', smokehaze='No', thunder='No', highwind='No', hail='No', blowingsnow='No', dust='No', freezingfog='No'),\n",
       " Row(date=datetime.datetime(2020, 1, 3, 0, 0), temperaturemin=46.0, temperaturemax=57.9, precipitation=1.53, snowfall=0.0, snowdepth=0.0, avgwindspeed=3.58, fastest2minwinddir=230, fastest2minwindspeed=14.09, fastest5secwinddir=230, fastest5secwindspeed=17.0, fog='Yes', fogheavy='Yes', mist='No', rain='No', fogground='No', ice='No', glaze='No', drizzle='No', snow='No', freezingrain='No', smokehaze='No', thunder='No', highwind='No', hail='No', blowingsnow='No', dust='No', freezingfog='No'),\n",
       " Row(date=datetime.datetime(2020, 1, 5, 0, 0), temperaturemin=37.0, temperaturemax=51.1, precipitation=0.0, snowfall=0.0, snowdepth=0.0, avgwindspeed=7.61, fastest2minwinddir=280, fastest2minwindspeed=17.0, fastest5secwinddir=280, fastest5secwindspeed=29.08, fog='No', fogheavy='No', mist='No', rain='No', fogground='No', ice='No', glaze='No', drizzle='No', snow='No', freezingrain='No', smokehaze='No', thunder='No', highwind='No', hail='No', blowingsnow='No', dust='No', freezingfog='No'),\n",
       " Row(date=datetime.datetime(2020, 1, 16, 0, 0), temperaturemin=46.0, temperaturemax=64.0, precipitation=0.0, snowfall=0.0, snowdepth=0.0, avgwindspeed=7.83, fastest2minwinddir=310, fastest2minwindspeed=16.11, fastest5secwinddir=300, fastest5secwindspeed=29.08, fog='No', fogheavy='No', mist='No', rain='No', fogground='No', ice='No', glaze='No', drizzle='No', snow='No', freezingrain='No', smokehaze='No', thunder='No', highwind='No', hail='No', blowingsnow='No', dust='No', freezingfog='No'),\n",
       " Row(date=datetime.datetime(2020, 1, 19, 0, 0), temperaturemin=32.0, temperaturemax=55.9, precipitation=0.01, snowfall=0.0, snowdepth=0.0, avgwindspeed=9.17, fastest2minwinddir=300, fastest2minwindspeed=16.11, fastest5secwinddir=20, fastest5secwindspeed=23.94, fog='Yes', fogheavy='No', mist='No', rain='No', fogground='No', ice='No', glaze='No', drizzle='No', snow='No', freezingrain='No', smokehaze='No', thunder='No', highwind='No', hail='No', blowingsnow='No', dust='No', freezingfog='No'),\n",
       " Row(date=datetime.datetime(2020, 1, 23, 0, 0), temperaturemin=25.2, temperaturemax=48.9, precipitation=0.0, snowfall=0.0, snowdepth=0.0, avgwindspeed=4.7, fastest2minwinddir=30, fastest2minwindspeed=8.95, fastest5secwinddir=30, fastest5secwindspeed=12.08, fog='No', fogheavy='No', mist='No', rain='No', fogground='No', ice='No', glaze='No', drizzle='No', snow='No', freezingrain='No', smokehaze='No', thunder='No', highwind='No', hail='No', blowingsnow='No', dust='No', freezingfog='No'),\n",
       " Row(date=datetime.datetime(2020, 1, 27, 0, 0), temperaturemin=31.1, temperaturemax=54.0, precipitation=0.12, snowfall=0.0, snowdepth=0.0, avgwindspeed=2.68, fastest2minwinddir=230, fastest2minwindspeed=12.08, fastest5secwinddir=220, fastest5secwindspeed=14.99, fog='Yes', fogheavy='No', mist='No', rain='No', fogground='No', ice='No', glaze='No', drizzle='No', snow='No', freezingrain='No', smokehaze='No', thunder='No', highwind='No', hail='No', blowingsnow='No', dust='No', freezingfog='No'),\n",
       " Row(date=datetime.datetime(2020, 1, 28, 0, 0), temperaturemin=34.0, temperaturemax=53.1, precipitation=0.0, snowfall=0.0, snowdepth=0.0, avgwindspeed=2.24, fastest2minwinddir=280, fastest2minwindspeed=10.07, fastest5secwinddir=30, fastest5secwindspeed=18.12, fog='Yes', fogheavy='No', mist='No', rain='No', fogground='No', ice='No', glaze='No', drizzle='No', snow='No', freezingrain='No', smokehaze='No', thunder='No', highwind='No', hail='No', blowingsnow='No', dust='No', freezingfog='No'),\n",
       " Row(date=datetime.datetime(2020, 1, 31, 0, 0), temperaturemin=28.2, temperaturemax=46.9, precipitation=0.6, snowfall=0.0, snowdepth=0.0, avgwindspeed=4.47, fastest2minwinddir=50, fastest2minwindspeed=12.97, fastest5secwinddir=50, fastest5secwindspeed=17.0, fog='Yes', fogheavy='No', mist='No', rain='No', fogground='No', ice='Yes', glaze='No', drizzle='No', snow='No', freezingrain='No', smokehaze='Yes', thunder='No', highwind='No', hail='No', blowingsnow='No', dust='No', freezingfog='No'),\n",
       " Row(date=datetime.datetime(2020, 2, 9, 0, 0), temperaturemin=31.1, temperaturemax=54.0, precipitation=0.0, snowfall=0.0, snowdepth=0.0, avgwindspeed=4.7, fastest2minwinddir=240, fastest2minwindspeed=12.08, fastest5secwinddir=240, fastest5secwindspeed=17.0, fog='No', fogheavy='No', mist='No', rain='No', fogground='No', ice='No', glaze='No', drizzle='No', snow='No', freezingrain='No', smokehaze='No', thunder='No', highwind='No', hail='No', blowingsnow='No', dust='No', freezingfog='No'),\n",
       " Row(date=datetime.datetime(2020, 2, 13, 0, 0), temperaturemin=50.0, temperaturemax=69.1, precipitation=0.57, snowfall=0.0, snowdepth=0.0, avgwindspeed=11.41, fastest2minwinddir=240, fastest2minwindspeed=23.04, fastest5secwinddir=220, fastest5secwindspeed=29.97, fog='Yes', fogheavy='No', mist='No', rain='No', fogground='No', ice='No', glaze='No', drizzle='No', snow='No', freezingrain='No', smokehaze='No', thunder='No', highwind='No', hail='No', blowingsnow='No', dust='No', freezingfog='No'),\n",
       " Row(date=datetime.datetime(2020, 2, 16, 0, 0), temperaturemin=31.1, temperaturemax=55.0, precipitation=0.05, snowfall=0.0, snowdepth=0.0, avgwindspeed=3.58, fastest2minwinddir=230, fastest2minwindspeed=12.97, fastest5secwinddir=240, fastest5secwindspeed=18.12, fog='Yes', fogheavy='No', mist='No', rain='No', fogground='No', ice='No', glaze='No', drizzle='No', snow='No', freezingrain='No', smokehaze='No', thunder='No', highwind='No', hail='No', blowingsnow='No', dust='No', freezingfog='No'),\n",
       " Row(date=datetime.datetime(2020, 2, 24, 0, 0), temperaturemin=46.0, temperaturemax=54.0, precipitation=0.18, snowfall=0.0, snowdepth=0.0, avgwindspeed=6.93, fastest2minwinddir=230, fastest2minwindspeed=12.97, fastest5secwinddir=220, fastest5secwindspeed=16.11, fog='Yes', fogheavy='No', mist='No', rain='No', fogground='No', ice='No', glaze='No', drizzle='No', snow='No', freezingrain='No', smokehaze='No', thunder='No', highwind='No', hail='No', blowingsnow='No', dust='No', freezingfog='No'),\n",
       " Row(date=datetime.datetime(2020, 2, 27, 0, 0), temperaturemin=36.0, temperaturemax=50.0, precipitation=0.0, snowfall=0.0, snowdepth=0.0, avgwindspeed=9.4, fastest2minwinddir=280, fastest2minwindspeed=19.91, fastest5secwinddir=280, fastest5secwindspeed=31.09, fog='No', fogheavy='No', mist='No', rain='No', fogground='No', ice='No', glaze='No', drizzle='No', snow='No', freezingrain='No', smokehaze='No', thunder='No', highwind='No', hail='No', blowingsnow='No', dust='No', freezingfog='No'),\n",
       " Row(date=datetime.datetime(2020, 3, 4, 0, 0), temperaturemin=46.9, temperaturemax=60.1, precipitation=0.0, snowfall=0.0, snowdepth=0.0, avgwindspeed=5.82, fastest2minwinddir=210, fastest2minwindspeed=14.99, fastest5secwinddir=250, fastest5secwindspeed=19.01, fog='Yes', fogheavy='No', mist='No', rain='No', fogground='No', ice='No', glaze='No', drizzle='No', snow='No', freezingrain='No', smokehaze='No', thunder='No', highwind='No', hail='No', blowingsnow='No', dust='No', freezingfog='No'),\n",
       " Row(date=datetime.datetime(2020, 3, 7, 0, 0), temperaturemin=34.0, temperaturemax=54.0, precipitation=0.0, snowfall=0.0, snowdepth=0.0, avgwindspeed=5.82, fastest2minwinddir=350, fastest2minwindspeed=14.09, fastest5secwinddir=360, fastest5secwindspeed=23.04, fog='No', fogheavy='No', mist='No', rain='No', fogground='No', ice='No', glaze='No', drizzle='No', snow='No', freezingrain='No', smokehaze='No', thunder='No', highwind='No', hail='No', blowingsnow='No', dust='No', freezingfog='No'),\n",
       " Row(date=datetime.datetime(2020, 3, 13, 0, 0), temperaturemin=63.0, temperaturemax=75.0, precipitation=0.07, snowfall=0.0, snowdepth=0.0, avgwindspeed=8.95, fastest2minwinddir=210, fastest2minwindspeed=17.0, fastest5secwinddir=210, fastest5secwindspeed=23.04, fog='No', fogheavy='No', mist='No', rain='No', fogground='No', ice='No', glaze='No', drizzle='No', snow='No', freezingrain='No', smokehaze='No', thunder='No', highwind='No', hail='No', blowingsnow='No', dust='No', freezingfog='No'),\n",
       " Row(date=datetime.datetime(2020, 3, 16, 0, 0), temperaturemin=42.1, temperaturemax=59.0, precipitation=0.0, snowfall=0.0, snowdepth=0.0, avgwindspeed=4.47, fastest2minwinddir=50, fastest2minwindspeed=14.09, fastest5secwinddir=50, fastest5secwindspeed=16.11, fog='No', fogheavy='No', mist='No', rain='No', fogground='No', ice='No', glaze='No', drizzle='No', snow='No', freezingrain='No', smokehaze='No', thunder='No', highwind='No', hail='No', blowingsnow='No', dust='No', freezingfog='No'),\n",
       " Row(date=datetime.datetime(2020, 3, 21, 0, 0), temperaturemin=50.0, temperaturemax=73.0, precipitation=0.07, snowfall=0.0, snowdepth=0.0, avgwindspeed=6.26, fastest2minwinddir=50, fastest2minwindspeed=18.12, fastest5secwinddir=90, fastest5secwindspeed=23.94, fog='Yes', fogheavy='No', mist='No', rain='No', fogground='No', ice='No', glaze='No', drizzle='No', snow='No', freezingrain='No', smokehaze='No', thunder='No', highwind='No', hail='No', blowingsnow='No', dust='No', freezingfog='No'),\n",
       " Row(date=datetime.datetime(2020, 3, 28, 0, 0), temperaturemin=62.1, temperaturemax=89.1, precipitation=0.0, snowfall=0.0, snowdepth=0.0, avgwindspeed=7.16, fastest2minwinddir=230, fastest2minwindspeed=19.91, fastest5secwinddir=240, fastest5secwindspeed=25.05, fog='No', fogheavy='No', mist='No', rain='No', fogground='No', ice='No', glaze='No', drizzle='No', snow='No', freezingrain='No', smokehaze='No', thunder='No', highwind='No', hail='No', blowingsnow='No', dust='No', freezingfog='No'),\n",
       " Row(date=datetime.datetime(2020, 4, 1, 0, 0), temperaturemin=44.1, temperaturemax=59.0, precipitation=0.0, snowfall=0.0, snowdepth=0.0, avgwindspeed=6.04, fastest2minwinddir=30, fastest2minwindspeed=16.11, fastest5secwinddir=30, fastest5secwindspeed=23.94, fog='Yes', fogheavy='No', mist='No', rain='No', fogground='No', ice='No', glaze='No', drizzle='No', snow='No', freezingrain='No', smokehaze='No', thunder='No', highwind='No', hail='No', blowingsnow='No', dust='No', freezingfog='No'),\n",
       " Row(date=datetime.datetime(2020, 4, 2, 0, 0), temperaturemin=41.0, temperaturemax=66.0, precipitation=0.0, snowfall=0.0, snowdepth=0.0, avgwindspeed=5.37, fastest2minwinddir=290, fastest2minwindspeed=14.99, fastest5secwinddir=290, fastest5secwindspeed=23.04, fog='No', fogheavy='No', mist='No', rain='No', fogground='No', ice='No', glaze='No', drizzle='No', snow='No', freezingrain='No', smokehaze='No', thunder='No', highwind='No', hail='No', blowingsnow='No', dust='No', freezingfog='No'),\n",
       " Row(date=datetime.datetime(2020, 4, 3, 0, 0), temperaturemin=41.0, temperaturemax=72.0, precipitation=0.0, snowfall=0.0, snowdepth=0.0, avgwindspeed=5.14, fastest2minwinddir=300, fastest2minwindspeed=17.0, fastest5secwinddir=310, fastest5secwindspeed=31.09, fog='No', fogheavy='No', mist='No', rain='No', fogground='No', ice='No', glaze='No', drizzle='No', snow='No', freezingrain='No', smokehaze='No', thunder='No', highwind='No', hail='No', blowingsnow='No', dust='No', freezingfog='No'),\n",
       " Row(date=datetime.datetime(2020, 4, 7, 0, 0), temperaturemin=51.1, temperaturemax=84.0, precipitation=0.0, snowfall=0.0, snowdepth=0.0, avgwindspeed=6.04, fastest2minwinddir=240, fastest2minwindspeed=25.95, fastest5secwinddir=250, fastest5secwindspeed=36.01, fog='Yes', fogheavy='Yes', mist='No', rain='No', fogground='No', ice='No', glaze='No', drizzle='No', snow='No', freezingrain='No', smokehaze='No', thunder='No', highwind='No', hail='No', blowingsnow='No', dust='No', freezingfog='No'),\n",
       " Row(date=datetime.datetime(2020, 4, 11, 0, 0), temperaturemin=32.0, temperaturemax=66.9, precipitation=0.0, snowfall=0.0, snowdepth=0.0, avgwindspeed=4.47, fastest2minwinddir=230, fastest2minwindspeed=17.0, fastest5secwinddir=230, fastest5secwindspeed=21.03, fog='No', fogheavy='No', mist='No', rain='No', fogground='No', ice='No', glaze='No', drizzle='No', snow='No', freezingrain='No', smokehaze='No', thunder='No', highwind='No', hail='No', blowingsnow='No', dust='No', freezingfog='No'),\n",
       " Row(date=datetime.datetime(2020, 4, 17, 0, 0), temperaturemin=35.1, temperaturemax=73.0, precipitation=0.0, snowfall=0.0, snowdepth=0.0, avgwindspeed=10.51, fastest2minwinddir=230, fastest2minwindspeed=29.97, fastest5secwinddir=210, fastest5secwindspeed=36.01, fog='No', fogheavy='No', mist='No', rain='No', fogground='No', ice='No', glaze='No', drizzle='No', snow='No', freezingrain='No', smokehaze='No', thunder='No', highwind='No', hail='No', blowingsnow='No', dust='No', freezingfog='No'),\n",
       " Row(date=datetime.datetime(2020, 4, 26, 0, 0), temperaturemin=51.1, temperaturemax=73.9, precipitation=0.26, snowfall=0.0, snowdepth=0.0, avgwindspeed=7.16, fastest2minwinddir=290, fastest2minwindspeed=27.96, fastest5secwinddir=280, fastest5secwindspeed=44.96, fog='Yes', fogheavy='No', mist='No', rain='No', fogground='No', ice='No', glaze='No', drizzle='No', snow='No', freezingrain='No', smokehaze='No', thunder='Yes', highwind='No', hail='No', blowingsnow='No', dust='No', freezingfog='No'),\n",
       " Row(date=datetime.datetime(2020, 4, 27, 0, 0), temperaturemin=44.1, temperaturemax=69.1, precipitation=0.0, snowfall=0.0, snowdepth=0.0, avgwindspeed=6.26, fastest2minwinddir=310, fastest2minwindspeed=16.11, fastest5secwinddir=340, fastest5secwindspeed=25.95, fog='No', fogheavy='No', mist='No', rain='No', fogground='No', ice='No', glaze='No', drizzle='No', snow='No', freezingrain='No', smokehaze='No', thunder='No', highwind='No', hail='No', blowingsnow='No', dust='No', freezingfog='No'),\n",
       " Row(date=datetime.datetime(2020, 4, 30, 0, 0), temperaturemin=55.0, temperaturemax=69.1, precipitation=1.67, snowfall=0.0, snowdepth=0.0, avgwindspeed=8.72, fastest2minwinddir=180, fastest2minwindspeed=31.09, fastest5secwinddir=190, fastest5secwindspeed=44.07, fog='Yes', fogheavy='No', mist='No', rain='No', fogground='No', ice='No', glaze='No', drizzle='No', snow='No', freezingrain='No', smokehaze='No', thunder='No', highwind='No', hail='No', blowingsnow='No', dust='No', freezingfog='No'),\n",
       " Row(date=datetime.datetime(2010, 1, 1, 0, 0), temperaturemin=30.9, temperaturemax=48.0, precipitation=0.0, snowfall=0.0, snowdepth=0.0, avgwindspeed=4.7, fastest2minwinddir=330, fastest2minwindspeed=12.08, fastest5secwinddir=320, fastest5secwindspeed=21.03, fog='Yes', fogheavy='Yes', mist='Yes', rain='No', fogground='No', ice='No', glaze='No', drizzle='No', snow='No', freezingrain='No', smokehaze='No', thunder='No', highwind='No', hail='No', blowingsnow='Yes', dust='No', freezingfog='No'),\n",
       " Row(date=datetime.datetime(2010, 1, 24, 0, 0), temperaturemin=39.9, temperaturemax=64.9, precipitation=0.13, snowfall=0.0, snowdepth=0.0, avgwindspeed=9.62, fastest2minwinddir=160, fastest2minwindspeed=27.96, fastest5secwinddir=140, fastest5secwindspeed=36.91, fog='Yes', fogheavy='No', mist='Yes', rain='Yes', fogground='No', ice='No', glaze='No', drizzle='Yes', snow='No', freezingrain='No', smokehaze='No', thunder='No', highwind='No', hail='Yes', blowingsnow='No', dust='No', freezingfog='No'),\n",
       " Row(date=datetime.datetime(2010, 1, 29, 0, 0), temperaturemin=28.0, temperaturemax=46.0, precipitation=0.1, snowfall=1.42, snowdepth=0.0, avgwindspeed=7.16, fastest2minwinddir=60, fastest2minwindspeed=14.99, fastest5secwinddir=50, fastest5secwindspeed=19.91, fog='Yes', fogheavy='No', mist='Yes', rain='Yes', fogground='No', ice='No', glaze='No', drizzle='No', snow='Yes', freezingrain='No', smokehaze='No', thunder='No', highwind='No', hail='No', blowingsnow='No', dust='No', freezingfog='No'),\n",
       " Row(date=datetime.datetime(2010, 2, 1, 0, 0), temperaturemin=18.0, temperaturemax=48.0, precipitation=0.0, snowfall=0.0, snowdepth=2.99, avgwindspeed=0.67, fastest2minwinddir=10, fastest2minwindspeed=6.93, fastest5secwinddir=30, fastest5secwindspeed=10.07, fog='No', fogheavy='No', mist='No', rain='No', fogground='No', ice='No', glaze='No', drizzle='No', snow='No', freezingrain='No', smokehaze='No', thunder='No', highwind='No', hail='No', blowingsnow='No', dust='No', freezingfog='No'),\n",
       " Row(date=datetime.datetime(2010, 2, 4, 0, 0), temperaturemin=30.0, temperaturemax=44.1, precipitation=0.0, snowfall=0.0, snowdepth=0.0, avgwindspeed=3.13, fastest2minwinddir=110, fastest2minwindspeed=12.08, fastest5secwinddir=190, fastest5secwindspeed=17.9, fog='No', fogheavy='No', mist='No', rain='No', fogground='No', ice='No', glaze='No', drizzle='No', snow='No', freezingrain='No', smokehaze='No', thunder='No', highwind='No', hail='No', blowingsnow='No', dust='No', freezingfog='No'),\n",
       " Row(date=datetime.datetime(2010, 2, 15, 0, 0), temperaturemin=28.9, temperaturemax=51.1, precipitation=0.03, snowfall=0.0, snowdepth=0.0, avgwindspeed=7.61, fastest2minwinddir=230, fastest2minwindspeed=27.96, fastest5secwinddir=210, fastest5secwindspeed=36.01, fog='Yes', fogheavy='No', mist='No', rain='Yes', fogground='No', ice='No', glaze='No', drizzle='No', snow='No', freezingrain='No', smokehaze='No', thunder='No', highwind='No', hail='Yes', blowingsnow='No', dust='No', freezingfog='No'),\n",
       " Row(date=datetime.datetime(2010, 2, 22, 0, 0), temperaturemin=36.0, temperaturemax=52.0, precipitation=0.29, snowfall=0.0, snowdepth=0.0, avgwindspeed=2.46, fastest2minwinddir=110, fastest2minwindspeed=16.11, fastest5secwinddir=110, fastest5secwindspeed=19.91, fog='Yes', fogheavy='Yes', mist='Yes', rain='Yes', fogground='No', ice='No', glaze='No', drizzle='No', snow='No', freezingrain='No', smokehaze='No', thunder='No', highwind='No', hail='Yes', blowingsnow='Yes', dust='No', freezingfog='No'),\n",
       " Row(date=datetime.datetime(2010, 2, 24, 0, 0), temperaturemin=37.0, temperaturemax=48.0, precipitation=0.12, snowfall=0.0, snowdepth=0.0, avgwindspeed=5.59, fastest2minwinddir=50, fastest2minwindspeed=12.08, fastest5secwinddir=40, fastest5secwindspeed=14.99, fog='Yes', fogheavy='No', mist='Yes', rain='Yes', fogground='No', ice='No', glaze='No', drizzle='Yes', snow='No', freezingrain='No', smokehaze='No', thunder='No', highwind='No', hail='Yes', blowingsnow='No', dust='No', freezingfog='No'),\n",
       " Row(date=datetime.datetime(2010, 3, 24, 0, 0), temperaturemin=39.0, temperaturemax=73.9, precipitation=0.0, snowfall=0.0, snowdepth=0.0, avgwindspeed=4.7, fastest2minwinddir=270, fastest2minwindspeed=14.99, fastest5secwinddir=270, fastest5secwindspeed=21.03, fog='No', fogheavy='No', mist='No', rain='No', fogground='No', ice='No', glaze='No', drizzle='No', snow='No', freezingrain='No', smokehaze='No', thunder='No', highwind='No', hail='No', blowingsnow='No', dust='No', freezingfog='No'),\n",
       " Row(date=datetime.datetime(2010, 3, 28, 0, 0), temperaturemin=37.9, temperaturemax=69.1, precipitation=0.09, snowfall=0.0, snowdepth=0.0, avgwindspeed=11.63, fastest2minwinddir=180, fastest2minwindspeed=27.96, fastest5secwinddir=170, fastest5secwindspeed=42.95, fog='Yes', fogheavy='No', mist='Yes', rain='Yes', fogground='No', ice='No', glaze='No', drizzle='No', snow='No', freezingrain='No', smokehaze='No', thunder='No', highwind='No', hail='Yes', blowingsnow='No', dust='No', freezingfog='No'),\n",
       " Row(date=datetime.datetime(2010, 4, 2, 0, 0), temperaturemin=54.0, temperaturemax=88.0, precipitation=0.0, snowfall=0.0, snowdepth=0.0, avgwindspeed=4.7, fastest2minwinddir=200, fastest2minwindspeed=14.09, fastest5secwinddir=240, fastest5secwindspeed=19.91, fog='No', fogheavy='No', mist='No', rain='No', fogground='No', ice='No', glaze='No', drizzle='No', snow='No', freezingrain='No', smokehaze='No', thunder='No', highwind='No', hail='No', blowingsnow='No', dust='No', freezingfog='No'),\n",
       " Row(date=datetime.datetime(2010, 4, 4, 0, 0), temperaturemin=57.9, temperaturemax=82.9, precipitation=0.0, snowfall=0.0, snowdepth=0.0, avgwindspeed=3.58, fastest2minwinddir=220, fastest2minwindspeed=12.97, fastest5secwinddir=230, fastest5secwindspeed=17.0, fog='No', fogheavy='No', mist='No', rain='No', fogground='No', ice='No', glaze='No', drizzle='No', snow='No', freezingrain='No', smokehaze='No', thunder='No', highwind='No', hail='No', blowingsnow='No', dust='No', freezingfog='No'),\n",
       " Row(date=datetime.datetime(2010, 4, 25, 0, 0), temperaturemin=62.1, temperaturemax=81.0, precipitation=0.29, snowfall=0.0, snowdepth=0.0, avgwindspeed=14.32, fastest2minwinddir=230, fastest2minwindspeed=27.96, fastest5secwinddir=220, fastest5secwindspeed=34.9, fog='Yes', fogheavy='No', mist='Yes', rain='Yes', fogground='No', ice='No', glaze='No', drizzle='No', snow='No', freezingrain='No', smokehaze='Yes', thunder='No', highwind='No', hail='Yes', blowingsnow='No', dust='No', freezingfog='No'),\n",
       " Row(date=datetime.datetime(2010, 5, 14, 0, 0), temperaturemin=64.9, temperaturemax=93.9, precipitation=0.0, snowfall=0.0, snowdepth=0.0, avgwindspeed=7.61, fastest2minwinddir=240, fastest2minwindspeed=14.99, fastest5secwinddir=240, fastest5secwindspeed=21.03, fog='Yes', fogheavy='No', mist='Yes', rain='Yes', fogground='No', ice='No', glaze='No', drizzle='No', snow='No', freezingrain='No', smokehaze='Yes', thunder='No', highwind='No', hail='Yes', blowingsnow='No', dust='Yes', freezingfog='No'),\n",
       " Row(date=datetime.datetime(2010, 5, 17, 0, 0), temperaturemin=55.9, temperaturemax=77.0, precipitation=2.3, snowfall=0.0, snowdepth=0.0, avgwindspeed=8.28, fastest2minwinddir=110, fastest2minwindspeed=16.11, fastest5secwinddir=10, fastest5secwindspeed=21.03, fog='Yes', fogheavy='No', mist='No', rain='Yes', fogground='No', ice='No', glaze='No', drizzle='Yes', snow='No', freezingrain='No', smokehaze='No', thunder='Yes', highwind='No', hail='Yes', blowingsnow='No', dust='No', freezingfog='No'),\n",
       " Row(date=datetime.datetime(2010, 5, 21, 0, 0), temperaturemin=54.0, temperaturemax=84.0, precipitation=0.0, snowfall=0.0, snowdepth=0.0, avgwindspeed=2.68, fastest2minwinddir=120, fastest2minwindspeed=10.07, fastest5secwinddir=120, fastest5secwindspeed=14.99, fog='Yes', fogheavy='No', mist='No', rain='No', fogground='No', ice='No', glaze='No', drizzle='No', snow='No', freezingrain='No', smokehaze='No', thunder='No', highwind='No', hail='No', blowingsnow='No', dust='No', freezingfog='No'),\n",
       " Row(date=datetime.datetime(2010, 5, 31, 0, 0), temperaturemin=69.1, temperaturemax=88.0, precipitation=0.0, snowfall=0.0, snowdepth=0.0, avgwindspeed=9.17, fastest2minwinddir=220, fastest2minwindspeed=19.91, fastest5secwinddir=230, fastest5secwindspeed=23.94, fog='No', fogheavy='No', mist='No', rain='Yes', fogground='No', ice='No', glaze='No', drizzle='No', snow='No', freezingrain='No', smokehaze='No', thunder='Yes', highwind='No', hail='Yes', blowingsnow='No', dust='No', freezingfog='No'),\n",
       " Row(date=datetime.datetime(2010, 6, 13, 0, 0), temperaturemin=72.0, temperaturemax=96.1, precipitation=1.23, snowfall=0.0, snowdepth=0.0, avgwindspeed=5.59, fastest2minwinddir=250, fastest2minwindspeed=23.04, fastest5secwinddir=240, fastest5secwindspeed=31.09, fog='Yes', fogheavy='No', mist='No', rain='Yes', fogground='No', ice='No', glaze='No', drizzle='No', snow='No', freezingrain='No', smokehaze='Yes', thunder='Yes', highwind='No', hail='Yes', blowingsnow='No', dust='No', freezingfog='No'),\n",
       " Row(date=datetime.datetime(2010, 6, 14, 0, 0), temperaturemin=71.1, temperaturemax=93.0, precipitation=0.0, snowfall=0.0, snowdepth=0.0, avgwindspeed=3.8, fastest2minwinddir=270, fastest2minwindspeed=12.97, fastest5secwinddir=240, fastest5secwindspeed=19.91, fog='Yes', fogheavy='No', mist='Yes', rain='No', fogground='No', ice='No', glaze='No', drizzle='No', snow='No', freezingrain='No', smokehaze='No', thunder='No', highwind='No', hail='No', blowingsnow='No', dust='No', freezingfog='No'),\n",
       " Row(date=datetime.datetime(2010, 6, 22, 0, 0), temperaturemin=69.1, temperaturemax=98.1, precipitation=0.0, snowfall=0.0, snowdepth=0.0, avgwindspeed=4.47, fastest2minwinddir=200, fastest2minwindspeed=17.9, fastest5secwinddir=200, fastest5secwindspeed=25.05, fog='No', fogheavy='No', mist='No', rain='No', fogground='No', ice='No', glaze='No', drizzle='No', snow='No', freezingrain='No', smokehaze='No', thunder='No', highwind='No', hail='No', blowingsnow='No', dust='No', freezingfog='No'),\n",
       " Row(date=datetime.datetime(2010, 7, 2, 0, 0), temperaturemin=57.9, temperaturemax=82.9, precipitation=0.0, snowfall=0.0, snowdepth=0.0, avgwindspeed=3.8, fastest2minwinddir=50, fastest2minwindspeed=14.99, fastest5secwinddir=50, fastest5secwindspeed=23.94, fog='No', fogheavy='No', mist='No', rain='No', fogground='No', ice='No', glaze='No', drizzle='No', snow='No', freezingrain='No', smokehaze='No', thunder='No', highwind='No', hail='No', blowingsnow='No', dust='No', freezingfog='No'),\n",
       " Row(date=datetime.datetime(2010, 7, 6, 0, 0), temperaturemin=66.0, temperaturemax=100.9, precipitation=0.0, snowfall=0.0, snowdepth=0.0, avgwindspeed=3.8, fastest2minwinddir=230, fastest2minwindspeed=12.97, fastest5secwinddir=210, fastest5secwindspeed=21.03, fog='No', fogheavy='No', mist='No', rain='No', fogground='No', ice='No', glaze='No', drizzle='No', snow='No', freezingrain='No', smokehaze='No', thunder='No', highwind='No', hail='No', blowingsnow='No', dust='No', freezingfog='No'),\n",
       " Row(date=datetime.datetime(2010, 7, 10, 0, 0), temperaturemin=73.9, temperaturemax=91.0, precipitation=0.0, snowfall=0.0, snowdepth=0.0, avgwindspeed=4.25, fastest2minwinddir=140, fastest2minwindspeed=12.97, fastest5secwinddir=320, fastest5secwindspeed=17.0, fog='Yes', fogheavy='No', mist='Yes', rain='Yes', fogground='No', ice='No', glaze='No', drizzle='No', snow='No', freezingrain='No', smokehaze='Yes', thunder='Yes', highwind='No', hail='No', blowingsnow='No', dust='Yes', freezingfog='No'),\n",
       " Row(date=datetime.datetime(2010, 7, 22, 0, 0), temperaturemin=75.0, temperaturemax=97.0, precipitation=0.0, snowfall=0.0, snowdepth=0.0, avgwindspeed=2.68, fastest2minwinddir=20, fastest2minwindspeed=10.07, fastest5secwinddir=110, fastest5secwindspeed=16.11, fog='No', fogheavy='No', mist='No', rain='No', fogground='No', ice='No', glaze='No', drizzle='No', snow='No', freezingrain='No', smokehaze='No', thunder='No', highwind='No', hail='No', blowingsnow='No', dust='No', freezingfog='No'),\n",
       " Row(date=datetime.datetime(2010, 8, 9, 0, 0), temperaturemin=71.1, temperaturemax=93.0, precipitation=0.0, snowfall=0.0, snowdepth=0.0, avgwindspeed=3.36, fastest2minwinddir=120, fastest2minwindspeed=10.07, fastest5secwinddir=110, fastest5secwindspeed=14.09, fog='No', fogheavy='No', mist='No', rain='No', fogground='No', ice='No', glaze='No', drizzle='No', snow='No', freezingrain='No', smokehaze='Yes', thunder='No', highwind='No', hail='No', blowingsnow='No', dust='No', freezingfog='No'),\n",
       " Row(date=datetime.datetime(2010, 8, 12, 0, 0), temperaturemin=75.9, temperaturemax=97.0, precipitation=0.05, snowfall=0.0, snowdepth=0.0, avgwindspeed=4.25, fastest2minwinddir=60, fastest2minwindspeed=12.97, fastest5secwinddir=250, fastest5secwindspeed=17.0, fog='Yes', fogheavy='No', mist='Yes', rain='Yes', fogground='No', ice='No', glaze='No', drizzle='No', snow='No', freezingrain='No', smokehaze='No', thunder='Yes', highwind='No', hail='No', blowingsnow='No', dust='No', freezingfog='No'),\n",
       " Row(date=datetime.datetime(2010, 8, 28, 0, 0), temperaturemin=70.0, temperaturemax=90.0, precipitation=0.0, snowfall=0.0, snowdepth=0.0, avgwindspeed=2.68, fastest2minwinddir=50, fastest2minwindspeed=12.97, fastest5secwinddir=110, fastest5secwindspeed=19.91, fog='Yes', fogheavy='No', mist='Yes', rain='No', fogground='No', ice='No', glaze='No', drizzle='No', snow='No', freezingrain='No', smokehaze='Yes', thunder='No', highwind='No', hail='No', blowingsnow='No', dust='Yes', freezingfog='No'),\n",
       " Row(date=datetime.datetime(2010, 8, 31, 0, 0), temperaturemin=64.9, temperaturemax=97.0, precipitation=0.0, snowfall=0.0, snowdepth=0.0, avgwindspeed=2.24, fastest2minwinddir=50, fastest2minwindspeed=10.07, fastest5secwinddir=30, fastest5secwindspeed=16.11, fog='Yes', fogheavy='No', mist='No', rain='No', fogground='Yes', ice='No', glaze='No', drizzle='No', snow='No', freezingrain='No', smokehaze='No', thunder='No', highwind='No', hail='No', blowingsnow='No', dust='No', freezingfog='No'),\n",
       " Row(date=datetime.datetime(2010, 9, 5, 0, 0), temperaturemin=54.0, temperaturemax=87.1, precipitation=0.0, snowfall=0.0, snowdepth=0.0, avgwindspeed=3.13, fastest2minwinddir=240, fastest2minwindspeed=14.99, fastest5secwinddir=130, fastest5secwindspeed=21.03, fog='No', fogheavy='No', mist='No', rain='No', fogground='No', ice='No', glaze='No', drizzle='No', snow='No', freezingrain='No', smokehaze='No', thunder='No', highwind='No', hail='No', blowingsnow='No', dust='No', freezingfog='No'),\n",
       " Row(date=datetime.datetime(2010, 9, 13, 0, 0), temperaturemin=63.0, temperaturemax=87.1, precipitation=0.0, snowfall=0.0, snowdepth=0.0, avgwindspeed=3.58, fastest2minwinddir=60, fastest2minwindspeed=16.11, fastest5secwinddir=50, fastest5secwindspeed=23.04, fog='No', fogheavy='No', mist='No', rain='No', fogground='No', ice='No', glaze='No', drizzle='No', snow='No', freezingrain='No', smokehaze='No', thunder='No', highwind='No', hail='No', blowingsnow='No', dust='No', freezingfog='No'),\n",
       " Row(date=datetime.datetime(2010, 9, 15, 0, 0), temperaturemin=59.0, temperaturemax=93.9, precipitation=0.0, snowfall=0.0, snowdepth=0.0, avgwindspeed=3.8, fastest2minwinddir=190, fastest2minwindspeed=12.08, fastest5secwinddir=150, fastest5secwindspeed=17.9, fog='No', fogheavy='No', mist='No', rain='No', fogground='No', ice='No', glaze='No', drizzle='No', snow='No', freezingrain='No', smokehaze='No', thunder='No', highwind='No', hail='No', blowingsnow='No', dust='No', freezingfog='No'),\n",
       " Row(date=datetime.datetime(2010, 9, 21, 0, 0), temperaturemin=66.9, temperaturemax=89.1, precipitation=0.0, snowfall=0.0, snowdepth=0.0, avgwindspeed=6.71, fastest2minwinddir=170, fastest2minwindspeed=14.99, fastest5secwinddir=180, fastest5secwindspeed=21.03, fog='No', fogheavy='No', mist='No', rain='No', fogground='No', ice='No', glaze='No', drizzle='No', snow='No', freezingrain='No', smokehaze='No', thunder='No', highwind='No', hail='No', blowingsnow='No', dust='No', freezingfog='No'),\n",
       " Row(date=datetime.datetime(2010, 10, 7, 0, 0), temperaturemin=46.9, temperaturemax=82.0, precipitation=0.0, snowfall=0.0, snowdepth=0.0, avgwindspeed=5.59, fastest2minwinddir=260, fastest2minwindspeed=17.9, fastest5secwinddir=270, fastest5secwindspeed=25.95, fog='No', fogheavy='No', mist='No', rain='No', fogground='No', ice='No', glaze='No', drizzle='No', snow='No', freezingrain='No', smokehaze='No', thunder='No', highwind='No', hail='No', blowingsnow='No', dust='No', freezingfog='No'),\n",
       " Row(date=datetime.datetime(2010, 10, 8, 0, 0), temperaturemin=48.0, temperaturemax=79.0, precipitation=0.0, snowfall=0.0, snowdepth=0.0, avgwindspeed=2.01, fastest2minwinddir=40, fastest2minwindspeed=12.97, fastest5secwinddir=50, fastest5secwindspeed=16.11, fog='No', fogheavy='No', mist='No', rain='No', fogground='No', ice='No', glaze='No', drizzle='No', snow='No', freezingrain='No', smokehaze='No', thunder='No', highwind='No', hail='No', blowingsnow='No', dust='No', freezingfog='No'),\n",
       " Row(date=datetime.datetime(2010, 11, 10, 0, 0), temperaturemin=39.9, temperaturemax=70.0, precipitation=0.0, snowfall=0.0, snowdepth=0.0, avgwindspeed=1.79, fastest2minwinddir=40, fastest2minwindspeed=10.07, fastest5secwinddir=40, fastest5secwindspeed=14.09, fog='Yes', fogheavy='No', mist='No', rain='No', fogground='No', ice='No', glaze='No', drizzle='No', snow='No', freezingrain='No', smokehaze='No', thunder='No', highwind='No', hail='No', blowingsnow='No', dust='No', freezingfog='No'),\n",
       " Row(date=datetime.datetime(2010, 12, 15, 0, 0), temperaturemin=16.0, temperaturemax=37.0, precipitation=0.0, snowfall=0.0, snowdepth=0.0, avgwindspeed=5.59, fastest2minwinddir=280, fastest2minwindspeed=12.97, fastest5secwinddir=280, fastest5secwindspeed=19.91, fog='No', fogheavy='No', mist='No', rain='No', fogground='No', ice='No', glaze='No', drizzle='No', snow='No', freezingrain='No', smokehaze='No', thunder='No', highwind='No', hail='No', blowingsnow='No', dust='No', freezingfog='No'),\n",
       " Row(date=datetime.datetime(2010, 12, 16, 0, 0), temperaturemin=28.0, temperaturemax=35.1, precipitation=0.6, snowfall=0.39, snowdepth=0.0, avgwindspeed=4.47, fastest2minwinddir=220, fastest2minwindspeed=14.99, fastest5secwinddir=230, fastest5secwindspeed=21.03, fog='Yes', fogheavy='No', mist='No', rain='Yes', fogground='No', ice='Yes', glaze='No', drizzle='Yes', snow='Yes', freezingrain='No', smokehaze='No', thunder='No', highwind='No', hail='Yes', blowingsnow='No', dust='No', freezingfog='No'),\n",
       " Row(date=datetime.datetime(2010, 12, 17, 0, 0), temperaturemin=28.0, temperaturemax=43.0, precipitation=0.0, snowfall=0.0, snowdepth=0.0, avgwindspeed=2.24, fastest2minwinddir=50, fastest2minwindspeed=8.95, fastest5secwinddir=110, fastest5secwindspeed=16.11, fog='Yes', fogheavy='No', mist='Yes', rain='No', fogground='No', ice='No', glaze='No', drizzle='No', snow='No', freezingrain='No', smokehaze='No', thunder='No', highwind='No', hail='No', blowingsnow='No', dust='No', freezingfog='No'),\n",
       " Row(date=datetime.datetime(2010, 12, 20, 0, 0), temperaturemin=25.0, temperaturemax=42.1, precipitation=0.0, snowfall=0.0, snowdepth=0.0, avgwindspeed=4.03, fastest2minwinddir=280, fastest2minwindspeed=14.09, fastest5secwinddir=290, fastest5secwindspeed=21.03, fog='No', fogheavy='No', mist='No', rain='No', fogground='No', ice='No', glaze='No', drizzle='No', snow='No', freezingrain='No', smokehaze='No', thunder='No', highwind='No', hail='No', blowingsnow='No', dust='No', freezingfog='No'),\n",
       " Row(date=datetime.datetime(2010, 12, 23, 0, 0), temperaturemin=32.0, temperaturemax=45.0, precipitation=0.0, snowfall=0.0, snowdepth=0.0, avgwindspeed=7.83, fastest2minwinddir=330, fastest2minwindspeed=17.9, fastest5secwinddir=330, fastest5secwindspeed=29.08, fog='No', fogheavy='No', mist='No', rain='No', fogground='No', ice='No', glaze='No', drizzle='No', snow='No', freezingrain='No', smokehaze='No', thunder='No', highwind='No', hail='No', blowingsnow='No', dust='No', freezingfog='No'),\n",
       " Row(date=datetime.datetime(2010, 12, 25, 0, 0), temperaturemin=32.0, temperaturemax=44.1, precipitation=0.15, snowfall=0.39, snowdepth=0.0, avgwindspeed=2.46, fastest2minwinddir=50, fastest2minwindspeed=8.95, fastest5secwinddir=140, fastest5secwindspeed=16.11, fog='Yes', fogheavy='No', mist='Yes', rain='Yes', fogground='No', ice='No', glaze='No', drizzle='No', snow='Yes', freezingrain='No', smokehaze='No', thunder='No', highwind='No', hail='Yes', blowingsnow='No', dust='No', freezingfog='No'),\n",
       " Row(date=datetime.datetime(2010, 12, 30, 0, 0), temperaturemin=24.1, temperaturemax=46.0, precipitation=0.0, snowfall=0.0, snowdepth=0.0, avgwindspeed=0.89, fastest2minwinddir=220, fastest2minwindspeed=6.04, fastest5secwinddir=180, fastest5secwindspeed=8.05, fog='No', fogheavy='No', mist='No', rain='No', fogground='No', ice='No', glaze='No', drizzle='No', snow='No', freezingrain='No', smokehaze='No', thunder='No', highwind='No', hail='No', blowingsnow='No', dust='No', freezingfog='No'),\n",
       " Row(date=datetime.datetime(2011, 1, 9, 0, 0), temperaturemin=19.0, temperaturemax=35.1, precipitation=0.0, snowfall=0.0, snowdepth=0.0, avgwindspeed=4.03, fastest2minwinddir=330, fastest2minwindspeed=12.97, fastest5secwinddir=300, fastest5secwindspeed=21.03, fog='No', fogheavy='No', mist='No', rain='No', fogground='No', ice='No', glaze='No', drizzle='No', snow='No', freezingrain='No', smokehaze='No', thunder='No', highwind='No', hail='No', blowingsnow='No', dust='No', freezingfog='No'),\n",
       " Row(date=datetime.datetime(2011, 1, 19, 0, 0), temperaturemin=42.1, temperaturemax=61.0, precipitation=0.0, snowfall=0.0, snowdepth=0.0, avgwindspeed=5.14, fastest2minwinddir=280, fastest2minwindspeed=14.99, fastest5secwinddir=320, fastest5secwindspeed=21.03, fog='Yes', fogheavy='No', mist='Yes', rain='No', fogground='No', ice='No', glaze='No', drizzle='No', snow='No', freezingrain='No', smokehaze='No', thunder='No', highwind='No', hail='No', blowingsnow='No', dust='No', freezingfog='No'),\n",
       " Row(date=datetime.datetime(2011, 1, 23, 0, 0), temperaturemin=16.0, temperaturemax=46.0, precipitation=0.0, snowfall=0.0, snowdepth=0.0, avgwindspeed=2.24, fastest2minwinddir=290, fastest2minwindspeed=10.07, fastest5secwinddir=270, fastest5secwindspeed=16.11, fog='No', fogheavy='No', mist='No', rain='No', fogground='No', ice='No', glaze='No', drizzle='No', snow='No', freezingrain='No', smokehaze='No', thunder='No', highwind='No', hail='No', blowingsnow='No', dust='No', freezingfog='No'),\n",
       " Row(date=datetime.datetime(2011, 1, 31, 0, 0), temperaturemin=35.1, temperaturemax=46.9, precipitation=0.0, snowfall=0.0, snowdepth=0.0, avgwindspeed=9.4, fastest2minwinddir=50, fastest2minwindspeed=19.91, fastest5secwinddir=40, fastest5secwindspeed=23.94, fog='No', fogheavy='No', mist='No', rain='No', fogground='No', ice='No', glaze='No', drizzle='No', snow='No', freezingrain='No', smokehaze='No', thunder='No', highwind='No', hail='No', blowingsnow='No', dust='No', freezingfog='No'),\n",
       " Row(date=datetime.datetime(2011, 2, 3, 0, 0), temperaturemin=32.0, temperaturemax=44.1, precipitation=0.0, snowfall=0.0, snowdepth=0.0, avgwindspeed=5.14, fastest2minwinddir=360, fastest2minwindspeed=12.08, fastest5secwinddir=10, fastest5secwindspeed=17.9, fog='No', fogheavy='No', mist='No', rain='Yes', fogground='No', ice='Yes', glaze='No', drizzle='No', snow='No', freezingrain='No', smokehaze='No', thunder='No', highwind='No', hail='No', blowingsnow='No', dust='No', freezingfog='No'),\n",
       " Row(date=datetime.datetime(2011, 2, 7, 0, 0), temperaturemin=30.0, temperaturemax=57.9, precipitation=0.0, snowfall=0.0, snowdepth=0.0, avgwindspeed=3.8, fastest2minwinddir=160, fastest2minwindspeed=14.09, fastest5secwinddir=160, fastest5secwindspeed=17.0, fog='Yes', fogheavy='No', mist='Yes', rain='Yes', fogground='No', ice='No', glaze='No', drizzle='No', snow='No', freezingrain='No', smokehaze='No', thunder='No', highwind='No', hail='No', blowingsnow='No', dust='No', freezingfog='No'),\n",
       " Row(date=datetime.datetime(2011, 2, 17, 0, 0), temperaturemin=39.9, temperaturemax=71.1, precipitation=0.0, snowfall=0.0, snowdepth=0.0, avgwindspeed=7.61, fastest2minwinddir=210, fastest2minwindspeed=17.9, fastest5secwinddir=220, fastest5secwindspeed=25.05, fog='Yes', fogheavy='No', mist='Yes', rain='No', fogground='No', ice='No', glaze='No', drizzle='No', snow='No', freezingrain='No', smokehaze='No', thunder='No', highwind='No', hail='No', blowingsnow='No', dust='No', freezingfog='No'),\n",
       " Row(date=datetime.datetime(2011, 3, 7, 0, 0), temperaturemin=34.0, temperaturemax=54.0, precipitation=0.0, snowfall=0.0, snowdepth=0.0, avgwindspeed=5.82, fastest2minwinddir=50, fastest2minwindspeed=16.11, fastest5secwinddir=60, fastest5secwindspeed=21.92, fog='No', fogheavy='No', mist='No', rain='No', fogground='No', ice='No', glaze='No', drizzle='No', snow='No', freezingrain='No', smokehaze='No', thunder='No', highwind='No', hail='No', blowingsnow='No', dust='No', freezingfog='No'),\n",
       " Row(date=datetime.datetime(2011, 3, 8, 0, 0), temperaturemin=28.0, temperaturemax=57.9, precipitation=0.0, snowfall=0.0, snowdepth=0.0, avgwindspeed=6.26, fastest2minwinddir=100, fastest2minwindspeed=14.09, fastest5secwinddir=120, fastest5secwindspeed=21.03, fog='No', fogheavy='No', mist='No', rain='No', fogground='No', ice='No', glaze='No', drizzle='No', snow='No', freezingrain='No', smokehaze='No', thunder='No', highwind='No', hail='No', blowingsnow='No', dust='No', freezingfog='No'),\n",
       " Row(date=datetime.datetime(2011, 3, 10, 0, 0), temperaturemin=42.1, temperaturemax=68.0, precipitation=0.47, snowfall=0.0, snowdepth=0.0, avgwindspeed=9.84, fastest2minwinddir=240, fastest2minwindspeed=31.99, fastest5secwinddir=250, fastest5secwindspeed=44.96, fog='Yes', fogheavy='No', mist='Yes', rain='Yes', fogground='No', ice='No', glaze='No', drizzle='No', snow='No', freezingrain='No', smokehaze='No', thunder='Yes', highwind='No', hail='No', blowingsnow='No', dust='No', freezingfog='No'),\n",
       " Row(date=datetime.datetime(2011, 3, 11, 0, 0), temperaturemin=36.0, temperaturemax=51.1, precipitation=0.0, snowfall=0.0, snowdepth=0.0, avgwindspeed=6.04, fastest2minwinddir=290, fastest2minwindspeed=16.11, fastest5secwinddir=270, fastest5secwindspeed=23.04, fog='No', fogheavy='No', mist='No', rain='No', fogground='No', ice='No', glaze='No', drizzle='No', snow='No', freezingrain='No', smokehaze='No', thunder='No', highwind='No', hail='No', blowingsnow='No', dust='No', freezingfog='No'),\n",
       " Row(date=datetime.datetime(2011, 3, 12, 0, 0), temperaturemin=30.9, temperaturemax=69.1, precipitation=0.0, snowfall=0.0, snowdepth=0.0, avgwindspeed=10.07, fastest2minwinddir=220, fastest2minwindspeed=23.04, fastest5secwinddir=230, fastest5secwindspeed=31.09, fog='No', fogheavy='No', mist='No', rain='No', fogground='No', ice='No', glaze='No', drizzle='No', snow='No', freezingrain='No', smokehaze='No', thunder='No', highwind='No', hail='No', blowingsnow='No', dust='No', freezingfog='No'),\n",
       " Row(date=datetime.datetime(2011, 3, 18, 0, 0), temperaturemin=46.0, temperaturemax=84.9, precipitation=0.0, snowfall=0.0, snowdepth=0.0, avgwindspeed=8.5, fastest2minwinddir=240, fastest2minwindspeed=17.9, fastest5secwinddir=230, fastest5secwindspeed=25.05, fog='No', fogheavy='No', mist='No', rain='No', fogground='No', ice='No', glaze='No', drizzle='No', snow='No', freezingrain='No', smokehaze='No', thunder='No', highwind='No', hail='No', blowingsnow='No', dust='No', freezingfog='No'),\n",
       " Row(date=datetime.datetime(2011, 3, 19, 0, 0), temperaturemin=55.9, temperaturemax=75.0, precipitation=0.0, snowfall=0.0, snowdepth=0.0, avgwindspeed=5.82, fastest2minwinddir=40, fastest2minwindspeed=17.9, fastest5secwinddir=50, fastest5secwindspeed=25.05, fog='No', fogheavy='No', mist='No', rain='No', fogground='No', ice='No', glaze='No', drizzle='No', snow='No', freezingrain='No', smokehaze='No', thunder='No', highwind='No', hail='No', blowingsnow='No', dust='No', freezingfog='No'),\n",
       " Row(date=datetime.datetime(2011, 3, 23, 0, 0), temperaturemin=50.0, temperaturemax=82.9, precipitation=0.45, snowfall=0.0, snowdepth=0.0, avgwindspeed=6.71, fastest2minwinddir=230, fastest2minwindspeed=25.95, fastest5secwinddir=220, fastest5secwindspeed=36.01, fog='Yes', fogheavy='No', mist='Yes', rain='Yes', fogground='No', ice='No', glaze='No', drizzle='No', snow='No', freezingrain='No', smokehaze='No', thunder='Yes', highwind='No', hail='No', blowingsnow='No', dust='No', freezingfog='No'),\n",
       " Row(date=datetime.datetime(2011, 4, 3, 0, 0), temperaturemin=33.1, temperaturemax=71.1, precipitation=0.0, snowfall=0.0, snowdepth=0.0, avgwindspeed=5.37, fastest2minwinddir=210, fastest2minwindspeed=17.9, fastest5secwinddir=210, fastest5secwindspeed=25.05, fog='No', fogheavy='No', mist='No', rain='No', fogground='No', ice='No', glaze='No', drizzle='No', snow='No', freezingrain='No', smokehaze='No', thunder='No', highwind='No', hail='No', blowingsnow='No', dust='No', freezingfog='No'),\n",
       " Row(date=datetime.datetime(2011, 4, 30, 0, 0), temperaturemin=46.0, temperaturemax=77.0, precipitation=0.0, snowfall=0.0, snowdepth=0.0, avgwindspeed=3.13, fastest2minwinddir=320, fastest2minwindspeed=10.07, fastest5secwinddir=350, fastest5secwindspeed=14.99, fog='No', fogheavy='No', mist='No', rain='No', fogground='No', ice='No', glaze='No', drizzle='No', snow='No', freezingrain='No', smokehaze='No', thunder='No', highwind='No', hail='No', blowingsnow='No', dust='No', freezingfog='No'),\n",
       " Row(date=datetime.datetime(2011, 5, 4, 0, 0), temperaturemin=50.0, temperaturemax=71.1, precipitation=0.67, snowfall=0.0, snowdepth=0.0, avgwindspeed=5.82, fastest2minwinddir=340, fastest2minwindspeed=17.0, fastest5secwinddir=330, fastest5secwindspeed=29.08, fog='Yes', fogheavy='No', mist='Yes', rain='Yes', fogground='No', ice='No', glaze='No', drizzle='No', snow='No', freezingrain='No', smokehaze='No', thunder='Yes', highwind='No', hail='No', blowingsnow='No', dust='No', freezingfog='No'),\n",
       " Row(date=datetime.datetime(2011, 5, 18, 0, 0), temperaturemin=55.0, temperaturemax=75.0, precipitation=0.0, snowfall=0.0, snowdepth=0.0, avgwindspeed=3.13, fastest2minwinddir=220, fastest2minwindspeed=12.08, fastest5secwinddir=160, fastest5secwindspeed=17.0, fog='No', fogheavy='No', mist='No', rain='No', fogground='No', ice='No', glaze='No', drizzle='No', snow='No', freezingrain='No', smokehaze='No', thunder='No', highwind='No', hail='No', blowingsnow='No', dust='No', freezingfog='No'),\n",
       " Row(date=datetime.datetime(2011, 5, 22, 0, 0), temperaturemin=59.0, temperaturemax=89.1, precipitation=0.0, snowfall=0.0, snowdepth=0.0, avgwindspeed=4.03, fastest2minwinddir=280, fastest2minwindspeed=12.08, fastest5secwinddir=290, fastest5secwindspeed=17.9, fog='No', fogheavy='No', mist='No', rain='No', fogground='No', ice='No', glaze='No', drizzle='No', snow='No', freezingrain='No', smokehaze='No', thunder='No', highwind='No', hail='No', blowingsnow='No', dust='No', freezingfog='No'),\n",
       " Row(date=datetime.datetime(2011, 5, 23, 0, 0), temperaturemin=66.0, temperaturemax=91.0, precipitation=0.09, snowfall=0.0, snowdepth=0.0, avgwindspeed=7.38, fastest2minwinddir=230, fastest2minwindspeed=19.91, fastest5secwinddir=210, fastest5secwindspeed=25.05, fog='Yes', fogheavy='No', mist='Yes', rain='Yes', fogground='No', ice='No', glaze='No', drizzle='No', snow='No', freezingrain='No', smokehaze='No', thunder='Yes', highwind='No', hail='No', blowingsnow='No', dust='No', freezingfog='No'),\n",
       " Row(date=datetime.datetime(2011, 5, 26, 0, 0), temperaturemin=73.0, temperaturemax=93.0, precipitation=0.0, snowfall=0.0, snowdepth=0.0, avgwindspeed=11.86, fastest2minwinddir=180, fastest2minwindspeed=19.91, fastest5secwinddir=210, fastest5secwindspeed=29.97, fog='No', fogheavy='No', mist='No', rain='No', fogground='No', ice='No', glaze='No', drizzle='No', snow='No', freezingrain='No', smokehaze='No', thunder='No', highwind='No', hail='No', blowingsnow='No', dust='No', freezingfog='No'),\n",
       " Row(date=datetime.datetime(2011, 5, 31, 0, 0), temperaturemin=70.0, temperaturemax=95.0, precipitation=0.0, snowfall=0.0, snowdepth=0.0, avgwindspeed=3.8, fastest2minwinddir=50, fastest2minwindspeed=12.97, fastest5secwinddir=30, fastest5secwindspeed=16.11, fog='Yes', fogheavy='No', mist='No', rain='No', fogground='No', ice='No', glaze='No', drizzle='No', snow='No', freezingrain='No', smokehaze='No', thunder='No', highwind='No', hail='No', blowingsnow='No', dust='No', freezingfog='No'),\n",
       " Row(date=datetime.datetime(2011, 6, 6, 0, 0), temperaturemin=69.1, temperaturemax=90.0, precipitation=0.0, snowfall=0.0, snowdepth=0.0, avgwindspeed=4.7, fastest2minwinddir=50, fastest2minwindspeed=12.97, fastest5secwinddir=20, fastest5secwindspeed=19.91, fog='No', fogheavy='No', mist='No', rain='No', fogground='No', ice='No', glaze='No', drizzle='No', snow='No', freezingrain='No', smokehaze='No', thunder='No', highwind='No', hail='No', blowingsnow='No', dust='No', freezingfog='No'),\n",
       " Row(date=datetime.datetime(2011, 6, 11, 0, 0), temperaturemin=70.0, temperaturemax=93.9, precipitation=0.3, snowfall=0.0, snowdepth=0.0, avgwindspeed=6.49, fastest2minwinddir=320, fastest2minwindspeed=14.09, fastest5secwinddir=320, fastest5secwindspeed=25.05, fog='Yes', fogheavy='No', mist='Yes', rain='Yes', fogground='No', ice='No', glaze='No', drizzle='No', snow='No', freezingrain='No', smokehaze='No', thunder='Yes', highwind='No', hail='No', blowingsnow='No', dust='No', freezingfog='No'),\n",
       " Row(date=datetime.datetime(2011, 6, 19, 0, 0), temperaturemin=66.0, temperaturemax=91.9, precipitation=0.0, snowfall=0.0, snowdepth=0.0, avgwindspeed=5.59, fastest2minwinddir=280, fastest2minwindspeed=12.97, fastest5secwinddir=290, fastest5secwindspeed=23.04, fog='No', fogheavy='No', mist='No', rain='No', fogground='No', ice='No', glaze='No', drizzle='No', snow='No', freezingrain='No', smokehaze='No', thunder='No', highwind='No', hail='No', blowingsnow='No', dust='No', freezingfog='No'),\n",
       " Row(date=datetime.datetime(2011, 6, 22, 0, 0), temperaturemin=72.0, temperaturemax=96.1, precipitation=0.0, snowfall=0.0, snowdepth=0.0, avgwindspeed=9.4, fastest2minwinddir=230, fastest2minwindspeed=23.04, fastest5secwinddir=250, fastest5secwindspeed=34.9, fog='No', fogheavy='No', mist='No', rain='No', fogground='No', ice='No', glaze='No', drizzle='No', snow='No', freezingrain='No', smokehaze='No', thunder='No', highwind='No', hail='No', blowingsnow='No', dust='No', freezingfog='No'),\n",
       " Row(date=datetime.datetime(2011, 6, 23, 0, 0), temperaturemin=73.9, temperaturemax=91.9, precipitation=0.0, snowfall=0.0, snowdepth=0.0, avgwindspeed=11.18, fastest2minwinddir=240, fastest2minwindspeed=25.95, fastest5secwinddir=240, fastest5secwindspeed=36.01, fog='No', fogheavy='No', mist='No', rain='No', fogground='No', ice='No', glaze='No', drizzle='No', snow='No', freezingrain='No', smokehaze='No', thunder='No', highwind='No', hail='No', blowingsnow='No', dust='No', freezingfog='No'),\n",
       " Row(date=datetime.datetime(2011, 7, 2, 0, 0), temperaturemin=66.0, temperaturemax=95.0, precipitation=0.0, snowfall=0.0, snowdepth=0.0, avgwindspeed=2.68, fastest2minwinddir=50, fastest2minwindspeed=12.97, fastest5secwinddir=20, fastest5secwindspeed=17.9, fog='Yes', fogheavy='No', mist='No', rain='No', fogground='No', ice='No', glaze='No', drizzle='No', snow='No', freezingrain='No', smokehaze='Yes', thunder='No', highwind='No', hail='No', blowingsnow='No', dust='No', freezingfog='No'),\n",
       " Row(date=datetime.datetime(2011, 7, 13, 0, 0), temperaturemin=75.9, temperaturemax=97.0, precipitation=0.0, snowfall=0.0, snowdepth=0.0, avgwindspeed=3.13, fastest2minwinddir=20, fastest2minwindspeed=12.97, fastest5secwinddir=300, fastest5secwindspeed=23.04, fog='Yes', fogheavy='No', mist='No', rain='Yes', fogground='No', ice='No', glaze='No', drizzle='No', snow='No', freezingrain='No', smokehaze='Yes', thunder='Yes', highwind='No', hail='No', blowingsnow='No', dust='No', freezingfog='No'),\n",
       " Row(date=datetime.datetime(2011, 7, 14, 0, 0), temperaturemin=69.1, temperaturemax=87.1, precipitation=0.0, snowfall=0.0, snowdepth=0.0, avgwindspeed=8.72, fastest2minwinddir=50, fastest2minwindspeed=17.0, fastest5secwinddir=50, fastest5secwindspeed=23.04, fog='No', fogheavy='No', mist='No', rain='No', fogground='No', ice='No', glaze='No', drizzle='No', snow='No', freezingrain='No', smokehaze='No', thunder='No', highwind='No', hail='No', blowingsnow='No', dust='No', freezingfog='No'),\n",
       " Row(date=datetime.datetime(2011, 7, 19, 0, 0), temperaturemin=70.0, temperaturemax=96.1, precipitation=0.0, snowfall=0.0, snowdepth=0.0, avgwindspeed=4.92, fastest2minwinddir=260, fastest2minwindspeed=12.08, fastest5secwinddir=220, fastest5secwindspeed=14.99, fog='No', fogheavy='No', mist='No', rain='No', fogground='No', ice='No', glaze='No', drizzle='No', snow='No', freezingrain='No', smokehaze='Yes', thunder='No', highwind='No', hail='No', blowingsnow='No', dust='No', freezingfog='No'),\n",
       " Row(date=datetime.datetime(2011, 7, 23, 0, 0), temperaturemin=78.1, temperaturemax=102.9, precipitation=0.0, snowfall=0.0, snowdepth=0.0, avgwindspeed=7.16, fastest2minwinddir=250, fastest2minwindspeed=17.9, fastest5secwinddir=210, fastest5secwindspeed=27.96, fog='No', fogheavy='No', mist='No', rain='No', fogground='No', ice='No', glaze='No', drizzle='No', snow='No', freezingrain='No', smokehaze='No', thunder='Yes', highwind='No', hail='No', blowingsnow='No', dust='No', freezingfog='No'),\n",
       " Row(date=datetime.datetime(2011, 7, 27, 0, 0), temperaturemin=73.0, temperaturemax=99.0, precipitation=0.0, snowfall=0.0, snowdepth=0.0, avgwindspeed=4.92, fastest2minwinddir=110, fastest2minwindspeed=14.99, fastest5secwinddir=140, fastest5secwindspeed=27.96, fog='Yes', fogheavy='Yes', mist='Yes', rain='No', fogground='No', ice='No', glaze='No', drizzle='No', snow='No', freezingrain='No', smokehaze='No', thunder='No', highwind='No', hail='No', blowingsnow='No', dust='No', freezingfog='No'),\n",
       " Row(date=datetime.datetime(2011, 7, 30, 0, 0), temperaturemin=75.0, temperaturemax=100.0, precipitation=2.1, snowfall=0.0, snowdepth=0.0, avgwindspeed=4.7, fastest2minwinddir=140, fastest2minwindspeed=21.03, fastest5secwinddir=40, fastest5secwindspeed=36.01, fog='Yes', fogheavy='No', mist='Yes', rain='Yes', fogground='No', ice='No', glaze='No', drizzle='No', snow='No', freezingrain='No', smokehaze='No', thunder='Yes', highwind='No', hail='No', blowingsnow='No', dust='No', freezingfog='No'),\n",
       " Row(date=datetime.datetime(2011, 7, 31, 0, 0), temperaturemin=73.0, temperaturemax=84.9, precipitation=1.16, snowfall=0.0, snowdepth=0.0, avgwindspeed=2.68, fastest2minwinddir=30, fastest2minwindspeed=14.99, fastest5secwinddir=40, fastest5secwindspeed=29.97, fog='Yes', fogheavy='No', mist='Yes', rain='Yes', fogground='No', ice='No', glaze='No', drizzle='No', snow='No', freezingrain='No', smokehaze='Yes', thunder='Yes', highwind='No', hail='No', blowingsnow='No', dust='No', freezingfog='No'),\n",
       " Row(date=datetime.datetime(2011, 8, 11, 0, 0), temperaturemin=71.1, temperaturemax=89.1, precipitation=0.0, snowfall=0.0, snowdepth=0.0, avgwindspeed=2.46, fastest2minwinddir=140, fastest2minwindspeed=8.95, fastest5secwinddir=170, fastest5secwindspeed=14.99, fog='No', fogheavy='No', mist='No', rain='No', fogground='No', ice='No', glaze='No', drizzle='No', snow='No', freezingrain='No', smokehaze='No', thunder='No', highwind='No', hail='No', blowingsnow='No', dust='No', freezingfog='No'),\n",
       " Row(date=datetime.datetime(2011, 8, 13, 0, 0), temperaturemin=71.1, temperaturemax=82.0, precipitation=0.48, snowfall=0.0, snowdepth=0.0, avgwindspeed=5.37, fastest2minwinddir=240, fastest2minwindspeed=14.99, fastest5secwinddir=190, fastest5secwindspeed=19.91, fog='Yes', fogheavy='No', mist='Yes', rain='Yes', fogground='No', ice='No', glaze='No', drizzle='No', snow='No', freezingrain='No', smokehaze='Yes', thunder='No', highwind='No', hail='No', blowingsnow='No', dust='No', freezingfog='No'),\n",
       " Row(date=datetime.datetime(2011, 8, 16, 0, 0), temperaturemin=64.0, temperaturemax=88.0, precipitation=0.0, snowfall=0.0, snowdepth=0.0, avgwindspeed=1.79, fastest2minwinddir=50, fastest2minwindspeed=8.95, fastest5secwinddir=30, fastest5secwindspeed=14.09, fog='No', fogheavy='No', mist='No', rain='No', fogground='No', ice='No', glaze='No', drizzle='No', snow='No', freezingrain='No', smokehaze='No', thunder='No', highwind='No', hail='No', blowingsnow='No', dust='No', freezingfog='No'),\n",
       " Row(date=datetime.datetime(2011, 8, 23, 0, 0), temperaturemin=66.0, temperaturemax=84.0, precipitation=0.0, snowfall=0.0, snowdepth=0.0, avgwindspeed=5.82, fastest2minwinddir=60, fastest2minwindspeed=12.97, fastest5secwinddir=50, fastest5secwindspeed=17.0, fog='No', fogheavy='No', mist='No', rain='No', fogground='No', ice='No', glaze='No', drizzle='No', snow='No', freezingrain='No', smokehaze='No', thunder='No', highwind='No', hail='No', blowingsnow='No', dust='No', freezingfog='No'),\n",
       " Row(date=datetime.datetime(2011, 8, 25, 0, 0), temperaturemin=72.0, temperaturemax=91.0, precipitation=0.0, snowfall=0.0, snowdepth=0.0, avgwindspeed=7.61, fastest2minwinddir=220, fastest2minwindspeed=16.11, fastest5secwinddir=210, fastest5secwindspeed=21.92, fog='No', fogheavy='No', mist='No', rain='No', fogground='No', ice='No', glaze='No', drizzle='No', snow='No', freezingrain='No', smokehaze='No', thunder='No', highwind='No', hail='No', blowingsnow='No', dust='No', freezingfog='No'),\n",
       " Row(date=datetime.datetime(2011, 9, 1, 0, 0), temperaturemin=60.1, temperaturemax=86.0, precipitation=0.0, snowfall=0.0, snowdepth=0.0, avgwindspeed=2.01, fastest2minwinddir=90, fastest2minwindspeed=12.08, fastest5secwinddir=90, fastest5secwindspeed=16.11, fog='No', fogheavy='No', mist='No', rain='No', fogground='No', ice='No', glaze='No', drizzle='No', snow='No', freezingrain='No', smokehaze='No', thunder='No', highwind='No', hail='No', blowingsnow='No', dust='No', freezingfog='No'),\n",
       " Row(date=datetime.datetime(2011, 9, 5, 0, 0), temperaturemin=72.0, temperaturemax=86.0, precipitation=0.12, snowfall=0.0, snowdepth=0.0, avgwindspeed=8.28, fastest2minwinddir=190, fastest2minwindspeed=16.11, fastest5secwinddir=170, fastest5secwindspeed=25.95, fog='Yes', fogheavy='No', mist='No', rain='Yes', fogground='No', ice='No', glaze='No', drizzle='No', snow='No', freezingrain='No', smokehaze='No', thunder='No', highwind='No', hail='No', blowingsnow='No', dust='No', freezingfog='No'),\n",
       " Row(date=datetime.datetime(2011, 9, 7, 0, 0), temperaturemin=69.1, temperaturemax=82.9, precipitation=0.0, snowfall=0.0, snowdepth=0.0, avgwindspeed=3.8, fastest2minwinddir=180, fastest2minwindspeed=14.99, fastest5secwinddir=230, fastest5secwindspeed=21.03, fog='Yes', fogheavy='No', mist='Yes', rain='Yes', fogground='No', ice='No', glaze='No', drizzle='No', snow='No', freezingrain='No', smokehaze='No', thunder='No', highwind='No', hail='No', blowingsnow='No', dust='No', freezingfog='No'),\n",
       " Row(date=datetime.datetime(2011, 9, 9, 0, 0), temperaturemin=63.0, temperaturemax=84.9, precipitation=0.0, snowfall=0.0, snowdepth=0.0, avgwindspeed=3.8, fastest2minwinddir=170, fastest2minwindspeed=12.08, fastest5secwinddir=170, fastest5secwindspeed=16.11, fog='Yes', fogheavy='No', mist='No', rain='No', fogground='No', ice='No', glaze='No', drizzle='No', snow='No', freezingrain='No', smokehaze='No', thunder='No', highwind='No', hail='No', blowingsnow='No', dust='No', freezingfog='No'),\n",
       " Row(date=datetime.datetime(2011, 9, 14, 0, 0), temperaturemin=66.0, temperaturemax=89.1, precipitation=0.0, snowfall=0.0, snowdepth=0.0, avgwindspeed=2.46, fastest2minwinddir=230, fastest2minwindspeed=12.08, fastest5secwinddir=220, fastest5secwindspeed=14.99, fog='Yes', fogheavy='No', mist='No', rain='No', fogground='No', ice='No', glaze='No', drizzle='No', snow='No', freezingrain='No', smokehaze='No', thunder='No', highwind='No', hail='No', blowingsnow='No', dust='No', freezingfog='No'),\n",
       " Row(date=datetime.datetime(2011, 9, 22, 0, 0), temperaturemin=70.0, temperaturemax=82.0, precipitation=0.08, snowfall=0.0, snowdepth=0.0, avgwindspeed=2.46, fastest2minwinddir=230, fastest2minwindspeed=8.95, fastest5secwinddir=220, fastest5secwindspeed=12.97, fog='Yes', fogheavy='No', mist='Yes', rain='Yes', fogground='No', ice='No', glaze='No', drizzle='Yes', snow='No', freezingrain='No', smokehaze='No', thunder='Yes', highwind='No', hail='No', blowingsnow='No', dust='No', freezingfog='No'),\n",
       " Row(date=datetime.datetime(2011, 9, 25, 0, 0), temperaturemin=70.0, temperaturemax=80.1, precipitation=0.0, snowfall=0.0, snowdepth=0.0, avgwindspeed=5.82, fastest2minwinddir=150, fastest2minwindspeed=17.9, fastest5secwinddir=170, fastest5secwindspeed=23.94, fog='No', fogheavy='No', mist='No', rain='Yes', fogground='No', ice='No', glaze='No', drizzle='Yes', snow='No', freezingrain='No', smokehaze='No', thunder='No', highwind='No', hail='No', blowingsnow='No', dust='No', freezingfog='No'),\n",
       " Row(date=datetime.datetime(2011, 9, 29, 0, 0), temperaturemin=61.0, temperaturemax=84.0, precipitation=0.0, snowfall=0.0, snowdepth=0.0, avgwindspeed=4.25, fastest2minwinddir=240, fastest2minwindspeed=16.11, fastest5secwinddir=280, fastest5secwindspeed=21.92, fog='Yes', fogheavy='No', mist='Yes', rain='No', fogground='No', ice='No', glaze='No', drizzle='No', snow='No', freezingrain='No', smokehaze='No', thunder='No', highwind='No', hail='No', blowingsnow='No', dust='No', freezingfog='No'),\n",
       " Row(date=datetime.datetime(2011, 10, 1, 0, 0), temperaturemin=46.9, temperaturemax=64.0, precipitation=0.0, snowfall=0.0, snowdepth=0.0, avgwindspeed=6.71, fastest2minwinddir=260, fastest2minwindspeed=16.11, fastest5secwinddir=320, fastest5secwindspeed=23.94, fog='No', fogheavy='No', mist='No', rain='No', fogground='No', ice='No', glaze='No', drizzle='No', snow='No', freezingrain='No', smokehaze='No', thunder='No', highwind='No', hail='No', blowingsnow='No', dust='No', freezingfog='No'),\n",
       " Row(date=datetime.datetime(2011, 10, 3, 0, 0), temperaturemin=42.1, temperaturemax=68.0, precipitation=0.0, snowfall=0.0, snowdepth=0.0, avgwindspeed=4.03, fastest2minwinddir=290, fastest2minwindspeed=12.97, fastest5secwinddir=300, fastest5secwindspeed=21.92, fog='No', fogheavy='No', mist='No', rain='No', fogground='No', ice='No', glaze='No', drizzle='No', snow='No', freezingrain='No', smokehaze='No', thunder='No', highwind='No', hail='No', blowingsnow='No', dust='No', freezingfog='No'),\n",
       " Row(date=datetime.datetime(2011, 10, 5, 0, 0), temperaturemin=48.9, temperaturemax=77.0, precipitation=0.0, snowfall=0.0, snowdepth=0.0, avgwindspeed=1.12, fastest2minwinddir=360, fastest2minwindspeed=8.05, fastest5secwinddir=360, fastest5secwindspeed=12.08, fog='No', fogheavy='No', mist='No', rain='No', fogground='No', ice='No', glaze='No', drizzle='No', snow='No', freezingrain='No', smokehaze='No', thunder='No', highwind='No', hail='No', blowingsnow='No', dust='No', freezingfog='No'),\n",
       " Row(date=datetime.datetime(2011, 10, 8, 0, 0), temperaturemin=46.0, temperaturemax=73.0, precipitation=0.0, snowfall=0.0, snowdepth=0.0, avgwindspeed=5.14, fastest2minwinddir=40, fastest2minwindspeed=12.97, fastest5secwinddir=40, fastest5secwindspeed=17.0, fog='No', fogheavy='No', mist='No', rain='No', fogground='No', ice='No', glaze='No', drizzle='No', snow='No', freezingrain='No', smokehaze='No', thunder='No', highwind='No', hail='No', blowingsnow='No', dust='No', freezingfog='No'),\n",
       " Row(date=datetime.datetime(2011, 10, 25, 0, 0), temperaturemin=45.0, temperaturemax=71.1, precipitation=0.0, snowfall=0.0, snowdepth=0.0, avgwindspeed=1.12, fastest2minwinddir=30, fastest2minwindspeed=10.07, fastest5secwinddir=30, fastest5secwindspeed=12.97, fog='No', fogheavy='No', mist='No', rain='No', fogground='No', ice='No', glaze='No', drizzle='No', snow='No', freezingrain='No', smokehaze='No', thunder='No', highwind='No', hail='No', blowingsnow='No', dust='No', freezingfog='No'),\n",
       " Row(date=datetime.datetime(2011, 10, 28, 0, 0), temperaturemin=43.0, temperaturemax=63.0, precipitation=0.08, snowfall=0.0, snowdepth=0.0, avgwindspeed=9.4, fastest2minwinddir=40, fastest2minwindspeed=21.92, fastest5secwinddir=40, fastest5secwindspeed=25.95, fog='No', fogheavy='No', mist='Yes', rain='Yes', fogground='No', ice='No', glaze='No', drizzle='Yes', snow='No', freezingrain='No', smokehaze='No', thunder='No', highwind='No', hail='No', blowingsnow='No', dust='No', freezingfog='No'),\n",
       " Row(date=datetime.datetime(2011, 11, 5, 0, 0), temperaturemin=37.9, temperaturemax=55.0, precipitation=0.0, snowfall=0.0, snowdepth=0.0, avgwindspeed=8.28, fastest2minwinddir=60, fastest2minwindspeed=17.9, fastest5secwinddir=40, fastest5secwindspeed=25.95, fog='No', fogheavy='No', mist='No', rain='No', fogground='No', ice='No', glaze='No', drizzle='No', snow='No', freezingrain='No', smokehaze='No', thunder='No', highwind='No', hail='No', blowingsnow='No', dust='No', freezingfog='No'),\n",
       " Row(date=datetime.datetime(2011, 11, 6, 0, 0), temperaturemin=39.9, temperaturemax=64.9, precipitation=0.0, snowfall=0.0, snowdepth=0.0, avgwindspeed=3.36, fastest2minwinddir=110, fastest2minwindspeed=10.07, fastest5secwinddir=110, fastest5secwindspeed=14.99, fog='No', fogheavy='No', mist='No', rain='No', fogground='No', ice='No', glaze='No', drizzle='No', snow='No', freezingrain='No', smokehaze='No', thunder='No', highwind='No', hail='No', blowingsnow='No', dust='No', freezingfog='No'),\n",
       " Row(date=datetime.datetime(2011, 11, 8, 0, 0), temperaturemin=39.9, temperaturemax=70.0, precipitation=0.0, snowfall=0.0, snowdepth=0.0, avgwindspeed=0.89, fastest2minwinddir=50, fastest2minwindspeed=8.05, fastest5secwinddir=40, fastest5secwindspeed=12.08, fog='Yes', fogheavy='No', mist='No', rain='No', fogground='No', ice='No', glaze='No', drizzle='No', snow='No', freezingrain='No', smokehaze='No', thunder='No', highwind='No', hail='No', blowingsnow='No', dust='No', freezingfog='No'),\n",
       " Row(date=datetime.datetime(2011, 11, 11, 0, 0), temperaturemin=33.1, temperaturemax=53.1, precipitation=0.0, snowfall=0.0, snowdepth=0.0, avgwindspeed=5.82, fastest2minwinddir=300, fastest2minwindspeed=16.11, fastest5secwinddir=300, fastest5secwindspeed=21.92, fog='No', fogheavy='No', mist='No', rain='No', fogground='No', ice='No', glaze='No', drizzle='No', snow='No', freezingrain='No', smokehaze='No', thunder='No', highwind='No', hail='No', blowingsnow='No', dust='No', freezingfog='No'),\n",
       " Row(date=datetime.datetime(2011, 11, 15, 0, 0), temperaturemin=62.1, temperaturemax=78.1, precipitation=0.0, snowfall=0.0, snowdepth=0.0, avgwindspeed=10.51, fastest2minwinddir=220, fastest2minwindspeed=21.03, fastest5secwinddir=230, fastest5secwindspeed=25.95, fog='No', fogheavy='No', mist='No', rain='No', fogground='No', ice='No', glaze='No', drizzle='No', snow='No', freezingrain='No', smokehaze='No', thunder='No', highwind='No', hail='No', blowingsnow='No', dust='No', freezingfog='No'),\n",
       " Row(date=datetime.datetime(2011, 11, 17, 0, 0), temperaturemin=34.0, temperaturemax=62.1, precipitation=0.54, snowfall=0.0, snowdepth=0.0, avgwindspeed=6.93, fastest2minwinddir=40, fastest2minwindspeed=23.04, fastest5secwinddir=30, fastest5secwindspeed=29.97, fog='Yes', fogheavy='No', mist='Yes', rain='Yes', fogground='No', ice='No', glaze='No', drizzle='Yes', snow='No', freezingrain='No', smokehaze='No', thunder='No', highwind='No', hail='No', blowingsnow='No', dust='No', freezingfog='No'),\n",
       " Row(date=datetime.datetime(2011, 11, 21, 0, 0), temperaturemin=60.1, temperaturemax=77.0, precipitation=0.0, snowfall=0.0, snowdepth=0.0, avgwindspeed=4.7, fastest2minwinddir=220, fastest2minwindspeed=12.08, fastest5secwinddir=230, fastest5secwindspeed=14.09, fog='Yes', fogheavy='No', mist='Yes', rain='No', fogground='No', ice='No', glaze='No', drizzle='No', snow='No', freezingrain='No', smokehaze='No', thunder='No', highwind='No', hail='No', blowingsnow='No', dust='No', freezingfog='No'),\n",
       " Row(date=datetime.datetime(2011, 11, 27, 0, 0), temperaturemin=51.1, temperaturemax=75.0, precipitation=0.0, snowfall=0.0, snowdepth=0.0, avgwindspeed=8.95, fastest2minwinddir=230, fastest2minwindspeed=19.91, fastest5secwinddir=230, fastest5secwindspeed=23.94, fog='No', fogheavy='No', mist='No', rain='No', fogground='No', ice='No', glaze='No', drizzle='No', snow='No', freezingrain='No', smokehaze='No', thunder='No', highwind='No', hail='No', blowingsnow='No', dust='No', freezingfog='No'),\n",
       " Row(date=datetime.datetime(2011, 12, 22, 0, 0), temperaturemin=61.0, temperaturemax=68.0, precipitation=0.08, snowfall=0.0, snowdepth=0.0, avgwindspeed=7.83, fastest2minwinddir=210, fastest2minwindspeed=21.03, fastest5secwinddir=200, fastest5secwindspeed=29.08, fog='Yes', fogheavy='No', mist='Yes', rain='Yes', fogground='No', ice='No', glaze='No', drizzle='Yes', snow='No', freezingrain='No', smokehaze='No', thunder='No', highwind='No', hail='No', blowingsnow='No', dust='No', freezingfog='No'),\n",
       " Row(date=datetime.datetime(2012, 1, 1, 0, 0), temperaturemin=35.1, temperaturemax=68.0, precipitation=0.01, snowfall=0.0, snowdepth=0.0, avgwindspeed=7.83, fastest2minwinddir=220, fastest2minwindspeed=23.04, fastest5secwinddir=210, fastest5secwindspeed=29.08, fog='No', fogheavy='No', mist='No', rain='Yes', fogground='No', ice='No', glaze='No', drizzle='No', snow='No', freezingrain='No', smokehaze='No', thunder='No', highwind='No', hail='No', blowingsnow='No', dust='No', freezingfog='No'),\n",
       " Row(date=datetime.datetime(2012, 1, 5, 0, 0), temperaturemin=30.0, temperaturemax=55.0, precipitation=0.0, snowfall=0.0, snowdepth=0.0, avgwindspeed=3.58, fastest2minwinddir=280, fastest2minwindspeed=14.09, fastest5secwinddir=240, fastest5secwindspeed=17.9, fog='No', fogheavy='No', mist='No', rain='No', fogground='No', ice='No', glaze='No', drizzle='No', snow='No', freezingrain='No', smokehaze='No', thunder='No', highwind='No', hail='No', blowingsnow='No', dust='No', freezingfog='No'),\n",
       " Row(date=datetime.datetime(2012, 1, 16, 0, 0), temperaturemin=27.0, temperaturemax=46.9, precipitation=0.0, snowfall=0.0, snowdepth=0.0, avgwindspeed=6.49, fastest2minwinddir=210, fastest2minwindspeed=14.09, fastest5secwinddir=210, fastest5secwindspeed=19.91, fog='No', fogheavy='No', mist='No', rain='No', fogground='No', ice='No', glaze='No', drizzle='No', snow='No', freezingrain='No', smokehaze='No', thunder='No', highwind='No', hail='No', blowingsnow='No', dust='No', freezingfog='No'),\n",
       " Row(date=datetime.datetime(2012, 1, 20, 0, 0), temperaturemin=33.1, temperaturemax=57.0, precipitation=0.19, snowfall=0.0, snowdepth=0.0, avgwindspeed=3.8, fastest2minwinddir=130, fastest2minwindspeed=12.08, fastest5secwinddir=120, fastest5secwindspeed=14.99, fog='Yes', fogheavy='No', mist='Yes', rain='Yes', fogground='No', ice='No', glaze='No', drizzle='Yes', snow='No', freezingrain='No', smokehaze='No', thunder='No', highwind='No', hail='No', blowingsnow='No', dust='No', freezingfog='No'),\n",
       " Row(date=datetime.datetime(2012, 1, 30, 0, 0), temperaturemin=28.0, temperaturemax=60.1, precipitation=0.0, snowfall=0.0, snowdepth=0.0, avgwindspeed=4.25, fastest2minwinddir=230, fastest2minwindspeed=14.09, fastest5secwinddir=240, fastest5secwindspeed=17.0, fog='No', fogheavy='No', mist='No', rain='No', fogground='No', ice='No', glaze='No', drizzle='No', snow='No', freezingrain='No', smokehaze='No', thunder='No', highwind='No', hail='No', blowingsnow='No', dust='No', freezingfog='No'),\n",
       " Row(date=datetime.datetime(2012, 2, 5, 0, 0), temperaturemin=32.0, temperaturemax=50.0, precipitation=0.15, snowfall=0.0, snowdepth=0.0, avgwindspeed=5.59, fastest2minwinddir=40, fastest2minwindspeed=14.99, fastest5secwinddir=40, fastest5secwindspeed=19.91, fog='Yes', fogheavy='No', mist='Yes', rain='Yes', fogground='No', ice='No', glaze='No', drizzle='No', snow='No', freezingrain='No', smokehaze='No', thunder='No', highwind='No', hail='No', blowingsnow='No', dust='No', freezingfog='No'),\n",
       " Row(date=datetime.datetime(2012, 2, 15, 0, 0), temperaturemin=41.0, temperaturemax=64.0, precipitation=0.0, snowfall=0.0, snowdepth=0.0, avgwindspeed=3.36, fastest2minwinddir=50, fastest2minwindspeed=12.08, fastest5secwinddir=40, fastest5secwindspeed=16.11, fog='No', fogheavy='No', mist='No', rain='No', fogground='No', ice='No', glaze='No', drizzle='No', snow='No', freezingrain='No', smokehaze='No', thunder='No', highwind='No', hail='No', blowingsnow='No', dust='No', freezingfog='No'),\n",
       " Row(date=datetime.datetime(2012, 2, 19, 0, 0), temperaturemin=33.1, temperaturemax=54.0, precipitation=0.71, snowfall=0.91, snowdepth=0.0, avgwindspeed=10.51, fastest2minwinddir=40, fastest2minwindspeed=23.04, fastest5secwinddir=50, fastest5secwindspeed=31.09, fog='Yes', fogheavy='No', mist='Yes', rain='Yes', fogground='No', ice='No', glaze='No', drizzle='No', snow='Yes', freezingrain='No', smokehaze='No', thunder='No', highwind='No', hail='No', blowingsnow='No', dust='No', freezingfog='No'),\n",
       " Row(date=datetime.datetime(2012, 2, 20, 0, 0), temperaturemin=30.0, temperaturemax=48.9, precipitation=0.0, snowfall=0.0, snowdepth=0.98, avgwindspeed=5.14, fastest2minwinddir=50, fastest2minwindspeed=17.0, fastest5secwinddir=10, fastest5secwindspeed=25.05, fog='Yes', fogheavy='No', mist='No', rain='No', fogground='No', ice='No', glaze='No', drizzle='No', snow='Yes', freezingrain='No', smokehaze='No', thunder='No', highwind='No', hail='No', blowingsnow='No', dust='No', freezingfog='No'),\n",
       " Row(date=datetime.datetime(2012, 3, 5, 0, 0), temperaturemin=32.0, temperaturemax=52.0, precipitation=0.0, snowfall=0.0, snowdepth=0.0, avgwindspeed=10.07, fastest2minwinddir=300, fastest2minwindspeed=23.94, fastest5secwinddir=310, fastest5secwindspeed=36.91, fog='No', fogheavy='No', mist='No', rain='Yes', fogground='No', ice='No', glaze='No', drizzle='No', snow='No', freezingrain='No', smokehaze='No', thunder='No', highwind='No', hail='No', blowingsnow='No', dust='No', freezingfog='No'),\n",
       " Row(date=datetime.datetime(2012, 3, 11, 0, 0), temperaturemin=30.9, temperaturemax=64.0, precipitation=0.0, snowfall=0.0, snowdepth=0.0, avgwindspeed=2.91, fastest2minwinddir=150, fastest2minwindspeed=12.08, fastest5secwinddir=140, fastest5secwindspeed=17.9, fog='No', fogheavy='No', mist='No', rain='No', fogground='No', ice='No', glaze='No', drizzle='No', snow='No', freezingrain='No', smokehaze='No', thunder='No', highwind='No', hail='No', blowingsnow='No', dust='No', freezingfog='No'),\n",
       " Row(date=datetime.datetime(2012, 3, 12, 0, 0), temperaturemin=42.1, temperaturemax=73.0, precipitation=0.0, snowfall=0.0, snowdepth=0.0, avgwindspeed=8.28, fastest2minwinddir=220, fastest2minwindspeed=19.91, fastest5secwinddir=240, fastest5secwindspeed=23.04, fog='No', fogheavy='No', mist='No', rain='No', fogground='No', ice='No', glaze='No', drizzle='No', snow='No', freezingrain='No', smokehaze='No', thunder='No', highwind='No', hail='No', blowingsnow='No', dust='No', freezingfog='No'),\n",
       " Row(date=datetime.datetime(2012, 3, 15, 0, 0), temperaturemin=54.0, temperaturemax=84.0, precipitation=0.0, snowfall=0.0, snowdepth=0.0, avgwindspeed=4.25, fastest2minwinddir=230, fastest2minwindspeed=21.03, fastest5secwinddir=220, fastest5secwindspeed=25.05, fog='No', fogheavy='No', mist='No', rain='Yes', fogground='No', ice='No', glaze='No', drizzle='No', snow='No', freezingrain='No', smokehaze='No', thunder='No', highwind='No', hail='No', blowingsnow='No', dust='No', freezingfog='No'),\n",
       " Row(date=datetime.datetime(2012, 3, 20, 0, 0), temperaturemin=57.9, temperaturemax=81.0, precipitation=1.58, snowfall=0.0, snowdepth=0.0, avgwindspeed=3.58, fastest2minwinddir=350, fastest2minwindspeed=10.07, fastest5secwinddir=350, fastest5secwindspeed=17.9, fog='No', fogheavy='No', mist='Yes', rain='Yes', fogground='No', ice='No', glaze='No', drizzle='No', snow='No', freezingrain='No', smokehaze='No', thunder='Yes', highwind='No', hail='No', blowingsnow='No', dust='No', freezingfog='No'),\n",
       " Row(date=datetime.datetime(2012, 3, 24, 0, 0), temperaturemin=55.9, temperaturemax=71.1, precipitation=0.66, snowfall=0.0, snowdepth=0.0, avgwindspeed=4.7, fastest2minwinddir=90, fastest2minwindspeed=14.09, fastest5secwinddir=290, fastest5secwindspeed=21.03, fog='No', fogheavy='No', mist='Yes', rain='Yes', fogground='No', ice='No', glaze='No', drizzle='No', snow='No', freezingrain='No', smokehaze='No', thunder='Yes', highwind='No', hail='No', blowingsnow='No', dust='No', freezingfog='No'),\n",
       " Row(date=datetime.datetime(2012, 3, 26, 0, 0), temperaturemin=53.1, temperaturemax=77.0, precipitation=0.03, snowfall=0.0, snowdepth=0.0, avgwindspeed=5.82, fastest2minwinddir=40, fastest2minwindspeed=17.9, fastest5secwinddir=40, fastest5secwindspeed=23.94, fog='No', fogheavy='No', mist='No', rain='Yes', fogground='No', ice='No', glaze='No', drizzle='No', snow='No', freezingrain='No', smokehaze='No', thunder='No', highwind='No', hail='No', blowingsnow='No', dust='No', freezingfog='No'),\n",
       " Row(date=datetime.datetime(2012, 3, 27, 0, 0), temperaturemin=39.0, temperaturemax=62.1, precipitation=0.0, snowfall=0.0, snowdepth=0.0, avgwindspeed=5.37, fastest2minwinddir=70, fastest2minwindspeed=14.09, fastest5secwinddir=50, fastest5secwindspeed=21.03, fog='No', fogheavy='No', mist='No', rain='No', fogground='No', ice='No', glaze='No', drizzle='No', snow='No', freezingrain='No', smokehaze='No', thunder='No', highwind='No', hail='No', blowingsnow='No', dust='No', freezingfog='No'),\n",
       " Row(date=datetime.datetime(2012, 3, 28, 0, 0), temperaturemin=44.1, temperaturemax=78.1, precipitation=0.0, snowfall=0.0, snowdepth=0.0, avgwindspeed=13.87, fastest2minwinddir=220, fastest2minwindspeed=25.95, fastest5secwinddir=220, fastest5secwindspeed=31.99, fog='No', fogheavy='No', mist='No', rain='No', fogground='No', ice='No', glaze='No', drizzle='No', snow='No', freezingrain='No', smokehaze='No', thunder='No', highwind='No', hail='No', blowingsnow='No', dust='No', freezingfog='No'),\n",
       " Row(date=datetime.datetime(2012, 3, 29, 0, 0), temperaturemin=55.9, temperaturemax=82.9, precipitation=0.0, snowfall=0.0, snowdepth=0.0, avgwindspeed=6.04, fastest2minwinddir=280, fastest2minwindspeed=17.0, fastest5secwinddir=280, fastest5secwindspeed=25.05, fog='No', fogheavy='No', mist='No', rain='No', fogground='No', ice='No', glaze='No', drizzle='No', snow='No', freezingrain='No', smokehaze='No', thunder='No', highwind='No', hail='No', blowingsnow='No', dust='No', freezingfog='No'),\n",
       " Row(date=datetime.datetime(2012, 3, 31, 0, 0), temperaturemin=59.0, temperaturemax=75.9, precipitation=0.27, snowfall=0.0, snowdepth=0.0, avgwindspeed=6.26, fastest2minwinddir=80, fastest2minwindspeed=17.9, fastest5secwinddir=80, fastest5secwindspeed=21.92, fog='No', fogheavy='No', mist='Yes', rain='Yes', fogground='No', ice='No', glaze='No', drizzle='No', snow='No', freezingrain='No', smokehaze='No', thunder='Yes', highwind='No', hail='No', blowingsnow='No', dust='No', freezingfog='No'),\n",
       " Row(date=datetime.datetime(2012, 4, 17, 0, 0), temperaturemin=60.1, temperaturemax=86.0, precipitation=0.0, snowfall=0.0, snowdepth=0.0, avgwindspeed=6.93, fastest2minwinddir=60, fastest2minwindspeed=17.0, fastest5secwinddir=80, fastest5secwindspeed=23.94, fog='No', fogheavy='No', mist='No', rain='No', fogground='No', ice='No', glaze='No', drizzle='No', snow='No', freezingrain='No', smokehaze='No', thunder='No', highwind='No', hail='No', blowingsnow='No', dust='No', freezingfog='No'),\n",
       " Row(date=datetime.datetime(2012, 4, 20, 0, 0), temperaturemin=51.1, temperaturemax=73.0, precipitation=0.0, snowfall=0.0, snowdepth=0.0, avgwindspeed=2.01, fastest2minwinddir=230, fastest2minwindspeed=8.95, fastest5secwinddir=230, fastest5secwindspeed=12.08, fog='Yes', fogheavy='No', mist='No', rain='No', fogground='No', ice='No', glaze='No', drizzle='No', snow='No', freezingrain='No', smokehaze='No', thunder='No', highwind='No', hail='No', blowingsnow='No', dust='No', freezingfog='No'),\n",
       " Row(date=datetime.datetime(2012, 4, 26, 0, 0), temperaturemin=55.9, temperaturemax=77.0, precipitation=0.38, snowfall=0.0, snowdepth=0.0, avgwindspeed=9.62, fastest2minwinddir=230, fastest2minwindspeed=21.92, fastest5secwinddir=260, fastest5secwindspeed=33.11, fog='No', fogheavy='No', mist='Yes', rain='Yes', fogground='No', ice='No', glaze='No', drizzle='No', snow='No', freezingrain='No', smokehaze='No', thunder='Yes', highwind='No', hail='No', blowingsnow='No', dust='No', freezingfog='No'),\n",
       " Row(date=datetime.datetime(2012, 4, 30, 0, 0), temperaturemin=61.0, temperaturemax=80.1, precipitation=0.0, snowfall=0.0, snowdepth=0.0, avgwindspeed=7.16, fastest2minwinddir=200, fastest2minwindspeed=16.11, fastest5secwinddir=210, fastest5secwindspeed=19.91, fog='Yes', fogheavy='No', mist='Yes', rain='No', fogground='No', ice='No', glaze='No', drizzle='No', snow='No', freezingrain='No', smokehaze='No', thunder='No', highwind='No', hail='No', blowingsnow='No', dust='No', freezingfog='No'),\n",
       " Row(date=datetime.datetime(2012, 5, 2, 0, 0), temperaturemin=66.9, temperaturemax=91.0, precipitation=0.0, snowfall=0.0, snowdepth=0.0, avgwindspeed=6.26, fastest2minwinddir=230, fastest2minwindspeed=14.99, fastest5secwinddir=230, fastest5secwindspeed=17.9, fog='No', fogheavy='No', mist='No', rain='No', fogground='No', ice='No', glaze='No', drizzle='No', snow='No', freezingrain='No', smokehaze='No', thunder='No', highwind='No', hail='No', blowingsnow='No', dust='No', freezingfog='No'),\n",
       " Row(date=datetime.datetime(2012, 5, 10, 0, 0), temperaturemin=51.1, temperaturemax=72.0, precipitation=0.0, snowfall=0.0, snowdepth=0.0, avgwindspeed=3.8, fastest2minwinddir=290, fastest2minwindspeed=14.09, fastest5secwinddir=290, fastest5secwindspeed=21.03, fog='No', fogheavy='No', mist='No', rain='No', fogground='No', ice='No', glaze='No', drizzle='No', snow='No', freezingrain='No', smokehaze='No', thunder='No', highwind='No', hail='No', blowingsnow='No', dust='No', freezingfog='No'),\n",
       " Row(date=datetime.datetime(2012, 5, 15, 0, 0), temperaturemin=64.9, temperaturemax=82.9, precipitation=0.15, snowfall=0.0, snowdepth=0.0, avgwindspeed=4.25, fastest2minwinddir=170, fastest2minwindspeed=23.94, fastest5secwinddir=170, fastest5secwindspeed=31.09, fog='No', fogheavy='No', mist='Yes', rain='Yes', fogground='No', ice='No', glaze='No', drizzle='No', snow='No', freezingrain='No', smokehaze='No', thunder='Yes', highwind='No', hail='No', blowingsnow='No', dust='No', freezingfog='No'),\n",
       " Row(date=datetime.datetime(2012, 5, 19, 0, 0), temperaturemin=54.0, temperaturemax=77.0, precipitation=0.0, snowfall=0.0, snowdepth=0.0, avgwindspeed=6.04, fastest2minwinddir=40, fastest2minwindspeed=17.9, fastest5secwinddir=50, fastest5secwindspeed=23.94, fog='No', fogheavy='No', mist='No', rain='No', fogground='No', ice='No', glaze='No', drizzle='No', snow='No', freezingrain='No', smokehaze='No', thunder='No', highwind='No', hail='No', blowingsnow='No', dust='No', freezingfog='No'),\n",
       " Row(date=datetime.datetime(2012, 5, 21, 0, 0), temperaturemin=66.0, temperaturemax=82.0, precipitation=0.0, snowfall=0.0, snowdepth=0.0, avgwindspeed=1.34, fastest2minwinddir=50, fastest2minwindspeed=8.95, fastest5secwinddir=150, fastest5secwindspeed=14.99, fog='No', fogheavy='No', mist='No', rain='No', fogground='No', ice='No', glaze='No', drizzle='No', snow='No', freezingrain='No', smokehaze='No', thunder='No', highwind='No', hail='No', blowingsnow='No', dust='No', freezingfog='No'),\n",
       " Row(date=datetime.datetime(2012, 5, 23, 0, 0), temperaturemin=64.0, temperaturemax=84.0, precipitation=0.03, snowfall=0.0, snowdepth=0.0, avgwindspeed=4.25, fastest2minwinddir=150, fastest2minwindspeed=21.92, fastest5secwinddir=150, fastest5secwindspeed=25.95, fog='No', fogheavy='No', mist='No', rain='Yes', fogground='No', ice='No', glaze='No', drizzle='No', snow='No', freezingrain='No', smokehaze='No', thunder='Yes', highwind='No', hail='No', blowingsnow='No', dust='No', freezingfog='No'),\n",
       " Row(date=datetime.datetime(2012, 5, 29, 0, 0), temperaturemin=72.0, temperaturemax=89.1, precipitation=0.0, snowfall=0.0, snowdepth=0.0, avgwindspeed=7.61, fastest2minwinddir=200, fastest2minwindspeed=23.04, fastest5secwinddir=190, fastest5secwindspeed=31.09, fog='No', fogheavy='No', mist='No', rain='No', fogground='No', ice='No', glaze='No', drizzle='No', snow='No', freezingrain='No', smokehaze='No', thunder='No', highwind='No', hail='No', blowingsnow='No', dust='No', freezingfog='No'),\n",
       " Row(date=datetime.datetime(2012, 5, 30, 0, 0), temperaturemin=64.0, temperaturemax=82.0, precipitation=0.39, snowfall=0.0, snowdepth=0.0, avgwindspeed=4.7, fastest2minwinddir=30, fastest2minwindspeed=17.0, fastest5secwinddir=30, fastest5secwindspeed=23.04, fog='Yes', fogheavy='No', mist='Yes', rain='Yes', fogground='No', ice='No', glaze='No', drizzle='No', snow='No', freezingrain='No', smokehaze='No', thunder='No', highwind='No', hail='No', blowingsnow='No', dust='No', freezingfog='No'),\n",
       " Row(date=datetime.datetime(2012, 6, 3, 0, 0), temperaturemin=52.0, temperaturemax=81.0, precipitation=0.0, snowfall=0.0, snowdepth=0.0, avgwindspeed=5.37, fastest2minwinddir=240, fastest2minwindspeed=17.0, fastest5secwinddir=240, fastest5secwindspeed=23.04, fog='No', fogheavy='No', mist='No', rain='No', fogground='No', ice='No', glaze='No', drizzle='No', snow='No', freezingrain='No', smokehaze='No', thunder='No', highwind='No', hail='No', blowingsnow='No', dust='No', freezingfog='No'),\n",
       " Row(date=datetime.datetime(2012, 6, 4, 0, 0), temperaturemin=61.0, temperaturemax=82.9, precipitation=0.0, snowfall=0.0, snowdepth=0.0, avgwindspeed=4.92, fastest2minwinddir=280, fastest2minwindspeed=14.99, fastest5secwinddir=290, fastest5secwindspeed=21.92, fog='No', fogheavy='No', mist='No', rain='No', fogground='No', ice='No', glaze='No', drizzle='No', snow='No', freezingrain='No', smokehaze='No', thunder='No', highwind='No', hail='No', blowingsnow='No', dust='No', freezingfog='No'),\n",
       " Row(date=datetime.datetime(2012, 6, 7, 0, 0), temperaturemin=54.0, temperaturemax=81.0, precipitation=0.0, snowfall=0.0, snowdepth=0.0, avgwindspeed=1.12, fastest2minwinddir=250, fastest2minwindspeed=8.05, fastest5secwinddir=240, fastest5secwindspeed=12.97, fog='No', fogheavy='No', mist='No', rain='No', fogground='No', ice='No', glaze='No', drizzle='No', snow='No', freezingrain='No', smokehaze='No', thunder='No', highwind='No', hail='No', blowingsnow='No', dust='No', freezingfog='No'),\n",
       " Row(date=datetime.datetime(2012, 6, 11, 0, 0), temperaturemin=71.1, temperaturemax=84.0, precipitation=1.06, snowfall=0.0, snowdepth=0.0, avgwindspeed=7.38, fastest2minwinddir=200, fastest2minwindspeed=17.0, fastest5secwinddir=210, fastest5secwindspeed=23.94, fog='Yes', fogheavy='No', mist='Yes', rain='Yes', fogground='No', ice='No', glaze='No', drizzle='No', snow='No', freezingrain='No', smokehaze='No', thunder='No', highwind='No', hail='No', blowingsnow='No', dust='No', freezingfog='No'),\n",
       " Row(date=datetime.datetime(2012, 6, 12, 0, 0), temperaturemin=68.0, temperaturemax=82.9, precipitation=0.43, snowfall=0.0, snowdepth=0.0, avgwindspeed=7.61, fastest2minwinddir=50, fastest2minwindspeed=19.91, fastest5secwinddir=50, fastest5secwindspeed=25.05, fog='No', fogheavy='No', mist='No', rain='Yes', fogground='No', ice='No', glaze='No', drizzle='Yes', snow='No', freezingrain='No', smokehaze='No', thunder='Yes', highwind='No', hail='No', blowingsnow='No', dust='No', freezingfog='No'),\n",
       " Row(date=datetime.datetime(2012, 6, 15, 0, 0), temperaturemin=59.0, temperaturemax=80.1, precipitation=0.0, snowfall=0.0, snowdepth=0.0, avgwindspeed=8.05, fastest2minwinddir=50, fastest2minwindspeed=17.0, fastest5secwinddir=50, fastest5secwindspeed=25.05, fog='No', fogheavy='No', mist='No', rain='No', fogground='No', ice='No', glaze='No', drizzle='No', snow='No', freezingrain='No', smokehaze='No', thunder='No', highwind='No', hail='No', blowingsnow='No', dust='No', freezingfog='No'),\n",
       " Row(date=datetime.datetime(2012, 7, 3, 0, 0), temperaturemin=72.0, temperaturemax=100.9, precipitation=0.0, snowfall=0.0, snowdepth=0.0, avgwindspeed=2.91, fastest2minwinddir=180, fastest2minwindspeed=14.99, fastest5secwinddir=180, fastest5secwindspeed=19.91, fog='No', fogheavy='No', mist='No', rain='No', fogground='No', ice='No', glaze='No', drizzle='No', snow='No', freezingrain='No', smokehaze='No', thunder='Yes', highwind='No', hail='No', blowingsnow='No', dust='No', freezingfog='No'),\n",
       " Row(date=datetime.datetime(2012, 7, 10, 0, 0), temperaturemin=73.0, temperaturemax=86.0, precipitation=0.01, snowfall=0.0, snowdepth=0.0, avgwindspeed=3.58, fastest2minwinddir=30, fastest2minwindspeed=14.99, fastest5secwinddir=40, fastest5secwindspeed=21.92, fog='No', fogheavy='No', mist='Yes', rain='Yes', fogground='No', ice='No', glaze='No', drizzle='No', snow='No', freezingrain='No', smokehaze='No', thunder='Yes', highwind='No', hail='No', blowingsnow='No', dust='No', freezingfog='No'),\n",
       " Row(date=datetime.datetime(2012, 7, 19, 0, 0), temperaturemin=75.9, temperaturemax=99.0, precipitation=0.0, snowfall=0.0, snowdepth=0.0, avgwindspeed=9.62, fastest2minwinddir=230, fastest2minwindspeed=17.9, fastest5secwinddir=140, fastest5secwindspeed=36.01, fog='No', fogheavy='No', mist='No', rain='Yes', fogground='No', ice='No', glaze='No', drizzle='No', snow='No', freezingrain='No', smokehaze='No', thunder='Yes', highwind='No', hail='No', blowingsnow='No', dust='No', freezingfog='No'),\n",
       " Row(date=datetime.datetime(2012, 7, 23, 0, 0), temperaturemin=72.0, temperaturemax=96.1, precipitation=0.11, snowfall=0.0, snowdepth=0.0, avgwindspeed=5.14, fastest2minwinddir=230, fastest2minwindspeed=17.9, fastest5secwinddir=240, fastest5secwindspeed=23.94, fog='No', fogheavy='No', mist='No', rain='Yes', fogground='No', ice='No', glaze='No', drizzle='No', snow='No', freezingrain='No', smokehaze='No', thunder='Yes', highwind='No', hail='No', blowingsnow='No', dust='No', freezingfog='No'),\n",
       " Row(date=datetime.datetime(2012, 8, 4, 0, 0), temperaturemin=75.0, temperaturemax=91.9, precipitation=0.0, snowfall=0.0, snowdepth=0.0, avgwindspeed=6.71, fastest2minwinddir=190, fastest2minwindspeed=14.99, fastest5secwinddir=190, fastest5secwindspeed=19.91, fog='No', fogheavy='No', mist='No', rain='No', fogground='No', ice='No', glaze='No', drizzle='No', snow='No', freezingrain='No', smokehaze='No', thunder='No', highwind='No', hail='No', blowingsnow='No', dust='No', freezingfog='No'),\n",
       " Row(date=datetime.datetime(2012, 8, 8, 0, 0), temperaturemin=69.1, temperaturemax=89.1, precipitation=0.06, snowfall=0.0, snowdepth=0.0, avgwindspeed=5.14, fastest2minwinddir=340, fastest2minwindspeed=17.0, fastest5secwinddir=330, fastest5secwindspeed=23.94, fog='No', fogheavy='No', mist='No', rain='Yes', fogground='No', ice='No', glaze='No', drizzle='No', snow='No', freezingrain='No', smokehaze='No', thunder='Yes', highwind='No', hail='No', blowingsnow='No', dust='No', freezingfog='No'),\n",
       " Row(date=datetime.datetime(2012, 8, 9, 0, 0), temperaturemin=66.0, temperaturemax=89.1, precipitation=0.0, snowfall=0.0, snowdepth=0.0, avgwindspeed=4.7, fastest2minwinddir=220, fastest2minwindspeed=12.97, fastest5secwinddir=190, fastest5secwindspeed=16.11, fog='No', fogheavy='No', mist='No', rain='No', fogground='No', ice='No', glaze='No', drizzle='No', snow='No', freezingrain='No', smokehaze='No', thunder='No', highwind='No', hail='No', blowingsnow='No', dust='No', freezingfog='No'),\n",
       " Row(date=datetime.datetime(2012, 9, 1, 0, 0), temperaturemin=73.0, temperaturemax=91.9, precipitation=0.0, snowfall=0.0, snowdepth=0.0, avgwindspeed=4.03, fastest2minwinddir=50, fastest2minwindspeed=14.99, fastest5secwinddir=50, fastest5secwindspeed=17.9, fog='No', fogheavy='No', mist='No', rain='No', fogground='No', ice='No', glaze='No', drizzle='No', snow='No', freezingrain='No', smokehaze='No', thunder='No', highwind='No', hail='No', blowingsnow='No', dust='No', freezingfog='No'),\n",
       " Row(date=datetime.datetime(2012, 9, 14, 0, 0), temperaturemin=63.0, temperaturemax=80.1, precipitation=0.0, snowfall=0.0, snowdepth=0.0, avgwindspeed=1.57, fastest2minwinddir=50, fastest2minwindspeed=8.95, fastest5secwinddir=50, fastest5secwindspeed=12.08, fog='No', fogheavy='No', mist='No', rain='No', fogground='No', ice='No', glaze='No', drizzle='No', snow='No', freezingrain='No', smokehaze='No', thunder='No', highwind='No', hail='No', blowingsnow='No', dust='No', freezingfog='No'),\n",
       " Row(date=datetime.datetime(2012, 9, 24, 0, 0), temperaturemin=51.1, temperaturemax=72.0, precipitation=0.0, snowfall=0.0, snowdepth=0.0, avgwindspeed=3.13, fastest2minwinddir=40, fastest2minwindspeed=12.08, fastest5secwinddir=50, fastest5secwindspeed=14.99, fog='No', fogheavy='No', mist='No', rain='No', fogground='No', ice='No', glaze='No', drizzle='No', snow='No', freezingrain='No', smokehaze='No', thunder='No', highwind='No', hail='No', blowingsnow='No', dust='No', freezingfog='No'),\n",
       " Row(date=datetime.datetime(2012, 10, 2, 0, 0), temperaturemin=66.9, temperaturemax=88.0, precipitation=0.12, snowfall=0.0, snowdepth=0.0, avgwindspeed=7.61, fastest2minwinddir=210, fastest2minwindspeed=12.97, fastest5secwinddir=210, fastest5secwindspeed=17.0, fog='Yes', fogheavy='No', mist='Yes', rain='Yes', fogground='No', ice='No', glaze='No', drizzle='No', snow='No', freezingrain='No', smokehaze='No', thunder='No', highwind='No', hail='No', blowingsnow='No', dust='No', freezingfog='No'),\n",
       " Row(date=datetime.datetime(2012, 10, 15, 0, 0), temperaturemin=55.9, temperaturemax=73.0, precipitation=0.11, snowfall=0.0, snowdepth=0.0, avgwindspeed=5.82, fastest2minwinddir=230, fastest2minwindspeed=12.08, fastest5secwinddir=240, fastest5secwindspeed=14.99, fog='No', fogheavy='No', mist='No', rain='Yes', fogground='No', ice='No', glaze='No', drizzle='No', snow='No', freezingrain='No', smokehaze='No', thunder='No', highwind='No', hail='No', blowingsnow='No', dust='No', freezingfog='No'),\n",
       " Row(date=datetime.datetime(2012, 10, 22, 0, 0), temperaturemin=42.1, temperaturemax=73.9, precipitation=0.0, snowfall=0.0, snowdepth=0.0, avgwindspeed=0.45, fastest2minwinddir=10, fastest2minwindspeed=6.93, fastest5secwinddir=30, fastest5secwindspeed=10.07, fog='Yes', fogheavy='No', mist='No', rain='No', fogground='No', ice='No', glaze='No', drizzle='No', snow='No', freezingrain='No', smokehaze='No', thunder='No', highwind='No', hail='No', blowingsnow='No', dust='No', freezingfog='No'),\n",
       " Row(date=datetime.datetime(2012, 10, 30, 0, 0), temperaturemin=42.1, temperaturemax=51.1, precipitation=0.07, snowfall=0.0, snowdepth=0.0, avgwindspeed=12.75, fastest2minwinddir=250, fastest2minwindspeed=21.03, fastest5secwinddir=230, fastest5secwindspeed=31.99, fog='No', fogheavy='No', mist='No', rain='Yes', fogground='No', ice='No', glaze='No', drizzle='No', snow='No', freezingrain='No', smokehaze='No', thunder='No', highwind='No', hail='No', blowingsnow='No', dust='No', freezingfog='No'),\n",
       " Row(date=datetime.datetime(2012, 11, 3, 0, 0), temperaturemin=34.0, temperaturemax=61.0, precipitation=0.0, snowfall=0.0, snowdepth=0.0, avgwindspeed=2.68, fastest2minwinddir=320, fastest2minwindspeed=12.08, fastest5secwinddir=300, fastest5secwindspeed=17.9, fog='No', fogheavy='No', mist='No', rain='No', fogground='No', ice='No', glaze='No', drizzle='No', snow='No', freezingrain='No', smokehaze='No', thunder='No', highwind='No', hail='No', blowingsnow='No', dust='No', freezingfog='No'),\n",
       " Row(date=datetime.datetime(2012, 11, 16, 0, 0), temperaturemin=39.0, temperaturemax=55.0, precipitation=0.0, snowfall=0.0, snowdepth=0.0, avgwindspeed=4.47, fastest2minwinddir=40, fastest2minwindspeed=14.09, fastest5secwinddir=40, fastest5secwindspeed=17.9, fog='No', fogheavy='No', mist='No', rain='No', fogground='No', ice='No', glaze='No', drizzle='No', snow='No', freezingrain='No', smokehaze='No', thunder='No', highwind='No', hail='No', blowingsnow='No', dust='No', freezingfog='No'),\n",
       " Row(date=datetime.datetime(2012, 11, 24, 0, 0), temperaturemin=32.0, temperaturemax=55.0, precipitation=0.0, snowfall=0.0, snowdepth=0.0, avgwindspeed=5.59, fastest2minwinddir=330, fastest2minwindspeed=14.09, fastest5secwinddir=300, fastest5secwindspeed=21.92, fog='No', fogheavy='No', mist='No', rain='No', fogground='No', ice='No', glaze='No', drizzle='No', snow='No', freezingrain='No', smokehaze='No', thunder='No', highwind='No', hail='No', blowingsnow='No', dust='No', freezingfog='No'),\n",
       " Row(date=datetime.datetime(2012, 12, 2, 0, 0), temperaturemin=39.0, temperaturemax=69.1, precipitation=0.0, snowfall=0.0, snowdepth=0.0, avgwindspeed=4.47, fastest2minwinddir=220, fastest2minwindspeed=16.11, fastest5secwinddir=240, fastest5secwindspeed=21.03, fog='No', fogheavy='No', mist='No', rain='No', fogground='No', ice='No', glaze='No', drizzle='No', snow='No', freezingrain='No', smokehaze='No', thunder='No', highwind='No', hail='No', blowingsnow='No', dust='No', freezingfog='No'),\n",
       " Row(date=datetime.datetime(2012, 12, 5, 0, 0), temperaturemin=44.1, temperaturemax=64.9, precipitation=0.0, snowfall=0.0, snowdepth=0.0, avgwindspeed=5.14, fastest2minwinddir=230, fastest2minwindspeed=12.97, fastest5secwinddir=20, fastest5secwindspeed=17.9, fog='Yes', fogheavy='No', mist='No', rain='Yes', fogground='No', ice='No', glaze='No', drizzle='No', snow='No', freezingrain='No', smokehaze='No', thunder='No', highwind='No', hail='No', blowingsnow='No', dust='No', freezingfog='No'),\n",
       " Row(date=datetime.datetime(2012, 12, 14, 0, 0), temperaturemin=27.0, temperaturemax=57.9, precipitation=0.0, snowfall=0.0, snowdepth=0.0, avgwindspeed=0.89, fastest2minwinddir=240, fastest2minwindspeed=6.93, fastest5secwinddir=230, fastest5secwindspeed=8.95, fog='No', fogheavy='No', mist='No', rain='No', fogground='No', ice='No', glaze='No', drizzle='No', snow='No', freezingrain='No', smokehaze='No', thunder='No', highwind='No', hail='No', blowingsnow='No', dust='No', freezingfog='No'),\n",
       " Row(date=datetime.datetime(2012, 12, 16, 0, 0), temperaturemin=48.0, temperaturemax=57.9, precipitation=0.09, snowfall=0.0, snowdepth=0.0, avgwindspeed=5.59, fastest2minwinddir=220, fastest2minwindspeed=16.11, fastest5secwinddir=220, fastest5secwindspeed=17.9, fog='No', fogheavy='No', mist='Yes', rain='Yes', fogground='No', ice='No', glaze='No', drizzle='No', snow='No', freezingrain='No', smokehaze='No', thunder='Yes', highwind='No', hail='No', blowingsnow='No', dust='No', freezingfog='No'),\n",
       " Row(date=datetime.datetime(2012, 12, 29, 0, 0), temperaturemin=37.9, temperaturemax=52.0, precipitation=0.37, snowfall=0.0, snowdepth=0.0, avgwindspeed=6.26, fastest2minwinddir=290, fastest2minwindspeed=17.0, fastest5secwinddir=300, fastest5secwindspeed=31.09, fog='Yes', fogheavy='No', mist='Yes', rain='Yes', fogground='No', ice='No', glaze='No', drizzle='No', snow='No', freezingrain='No', smokehaze='No', thunder='No', highwind='No', hail='No', blowingsnow='No', dust='No', freezingfog='No'),\n",
       " Row(date=datetime.datetime(2013, 1, 11, 0, 0), temperaturemin=41.0, temperaturemax=51.1, precipitation=0.22, snowfall=0.0, snowdepth=0.0, avgwindspeed=3.13, fastest2minwinddir=70, fastest2minwindspeed=10.07, fastest5secwinddir=90, fastest5secwindspeed=14.09, fog='Yes', fogheavy='Yes', mist='No', rain='Yes', fogground='No', ice='No', glaze='No', drizzle='Yes', snow='No', freezingrain='No', smokehaze='No', thunder='No', highwind='No', hail='No', blowingsnow='No', dust='No', freezingfog='No'),\n",
       " Row(date=datetime.datetime(2013, 1, 12, 0, 0), temperaturemin=48.9, temperaturemax=71.1, precipitation=0.0, snowfall=0.0, snowdepth=0.0, avgwindspeed=2.01, fastest2minwinddir=130, fastest2minwindspeed=8.05, fastest5secwinddir=140, fastest5secwindspeed=12.08, fog='No', fogheavy='Yes', mist='Yes', rain='No', fogground='No', ice='No', glaze='No', drizzle='No', snow='No', freezingrain='No', smokehaze='No', thunder='No', highwind='No', hail='No', blowingsnow='No', dust='No', freezingfog='No'),\n",
       " Row(date=datetime.datetime(2013, 1, 13, 0, 0), temperaturemin=55.0, temperaturemax=75.0, precipitation=0.0, snowfall=0.0, snowdepth=0.0, avgwindspeed=8.05, fastest2minwinddir=230, fastest2minwindspeed=21.03, fastest5secwinddir=230, fastest5secwindspeed=23.94, fog='Yes', fogheavy='Yes', mist='Yes', rain='No', fogground='No', ice='No', glaze='No', drizzle='No', snow='No', freezingrain='No', smokehaze='No', thunder='No', highwind='No', hail='No', blowingsnow='No', dust='No', freezingfog='No'),\n",
       " Row(date=datetime.datetime(2013, 1, 20, 0, 0), temperaturemin=35.1, temperaturemax=63.0, precipitation=0.0, snowfall=0.0, snowdepth=0.0, avgwindspeed=6.49, fastest2minwinddir=280, fastest2minwindspeed=14.99, fastest5secwinddir=280, fastest5secwindspeed=21.92, fog='No', fogheavy='No', mist='No', rain='No', fogground='No', ice='No', glaze='No', drizzle='No', snow='No', freezingrain='No', smokehaze='No', thunder='No', highwind='No', hail='No', blowingsnow='No', dust='No', freezingfog='No'),\n",
       " Row(date=datetime.datetime(2013, 1, 31, 0, 0), temperaturemin=33.1, temperaturemax=63.0, precipitation=0.09, snowfall=0.0, snowdepth=0.0, avgwindspeed=13.2, fastest2minwinddir=230, fastest2minwindspeed=29.97, fastest5secwinddir=250, fastest5secwindspeed=40.94, fog='Yes', fogheavy='No', mist='Yes', rain='Yes', fogground='No', ice='No', glaze='No', drizzle='No', snow='No', freezingrain='No', smokehaze='No', thunder='No', highwind='No', hail='No', blowingsnow='No', dust='No', freezingfog='No'),\n",
       " Row(date=datetime.datetime(2013, 2, 15, 0, 0), temperaturemin=28.9, temperaturemax=61.0, precipitation=0.0, snowfall=0.0, snowdepth=0.0, avgwindspeed=2.91, fastest2minwinddir=250, fastest2minwindspeed=14.09, fastest5secwinddir=350, fastest5secwindspeed=19.91, fog='No', fogheavy='No', mist='No', rain='No', fogground='No', ice='No', glaze='No', drizzle='No', snow='No', freezingrain='No', smokehaze='No', thunder='No', highwind='No', hail='No', blowingsnow='No', dust='No', freezingfog='No'),\n",
       " Row(date=datetime.datetime(2013, 2, 26, 0, 0), temperaturemin=36.0, temperaturemax=57.9, precipitation=0.86, snowfall=0.0, snowdepth=0.0, avgwindspeed=10.29, fastest2minwinddir=110, fastest2minwindspeed=25.05, fastest5secwinddir=120, fastest5secwindspeed=36.01, fog='Yes', fogheavy='No', mist='Yes', rain='Yes', fogground='No', ice='No', glaze='No', drizzle='No', snow='No', freezingrain='No', smokehaze='No', thunder='No', highwind='No', hail='No', blowingsnow='No', dust='No', freezingfog='No'),\n",
       " Row(date=datetime.datetime(2013, 3, 4, 0, 0), temperaturemin=26.1, temperaturemax=50.0, precipitation=0.0, snowfall=0.0, snowdepth=0.0, avgwindspeed=4.7, fastest2minwinddir=290, fastest2minwindspeed=16.11, fastest5secwinddir=280, fastest5secwindspeed=25.05, fog='No', fogheavy='No', mist='No', rain='No', fogground='No', ice='No', glaze='No', drizzle='No', snow='No', freezingrain='No', smokehaze='No', thunder='No', highwind='No', hail='No', blowingsnow='No', dust='No', freezingfog='No'),\n",
       " Row(date=datetime.datetime(2013, 3, 17, 0, 0), temperaturemin=39.0, temperaturemax=61.0, precipitation=0.0, snowfall=0.0, snowdepth=0.0, avgwindspeed=10.29, fastest2minwinddir=50, fastest2minwindspeed=19.91, fastest5secwinddir=50, fastest5secwindspeed=25.05, fog='Yes', fogheavy='No', mist='Yes', rain='Yes', fogground='No', ice='No', glaze='No', drizzle='No', snow='No', freezingrain='No', smokehaze='No', thunder='No', highwind='No', hail='No', blowingsnow='No', dust='No', freezingfog='No'),\n",
       " Row(date=datetime.datetime(2013, 3, 23, 0, 0), temperaturemin=35.1, temperaturemax=55.0, precipitation=0.0, snowfall=0.0, snowdepth=0.0, avgwindspeed=1.12, fastest2minwinddir=30, fastest2minwindspeed=6.93, fastest5secwinddir=130, fastest5secwindspeed=10.07, fog='No', fogheavy='No', mist='No', rain='No', fogground='No', ice='No', glaze='No', drizzle='No', snow='No', freezingrain='No', smokehaze='No', thunder='No', highwind='No', hail='No', blowingsnow='No', dust='No', freezingfog='No'),\n",
       " Row(date=datetime.datetime(2013, 3, 27, 0, 0), temperaturemin=34.0, temperaturemax=52.0, precipitation=0.0, snowfall=0.0, snowdepth=0.0, avgwindspeed=6.04, fastest2minwinddir=290, fastest2minwindspeed=17.0, fastest5secwinddir=280, fastest5secwindspeed=25.05, fog='No', fogheavy='No', mist='No', rain='No', fogground='No', ice='No', glaze='No', drizzle='No', snow='No', freezingrain='No', smokehaze='No', thunder='No', highwind='No', hail='No', blowingsnow='No', dust='No', freezingfog='No'),\n",
       " Row(date=datetime.datetime(2013, 3, 31, 0, 0), temperaturemin=48.0, temperaturemax=68.0, precipitation=0.87, snowfall=0.0, snowdepth=0.0, avgwindspeed=8.5, fastest2minwinddir=230, fastest2minwindspeed=23.04, fastest5secwinddir=230, fastest5secwindspeed=27.96, fog='No', fogheavy='No', mist='Yes', rain='Yes', fogground='No', ice='No', glaze='No', drizzle='No', snow='No', freezingrain='No', smokehaze='No', thunder='No', highwind='No', hail='No', blowingsnow='No', dust='No', freezingfog='No'),\n",
       " Row(date=datetime.datetime(2013, 4, 2, 0, 0), temperaturemin=35.1, temperaturemax=60.1, precipitation=0.0, snowfall=0.0, snowdepth=0.0, avgwindspeed=4.7, fastest2minwinddir=300, fastest2minwindspeed=16.11, fastest5secwinddir=240, fastest5secwindspeed=23.04, fog='No', fogheavy='No', mist='No', rain='No', fogground='No', ice='No', glaze='No', drizzle='No', snow='No', freezingrain='No', smokehaze='No', thunder='No', highwind='No', hail='No', blowingsnow='No', dust='No', freezingfog='No'),\n",
       " Row(date=datetime.datetime(2013, 4, 5, 0, 0), temperaturemin=39.0, temperaturemax=63.0, precipitation=0.04, snowfall=0.0, snowdepth=0.0, avgwindspeed=2.68, fastest2minwinddir=30, fastest2minwindspeed=12.08, fastest5secwinddir=30, fastest5secwindspeed=16.11, fog='Yes', fogheavy='No', mist='No', rain='No', fogground='No', ice='No', glaze='No', drizzle='No', snow='No', freezingrain='No', smokehaze='No', thunder='No', highwind='No', hail='No', blowingsnow='No', dust='No', freezingfog='No'),\n",
       " Row(date=datetime.datetime(2013, 4, 13, 0, 0), temperaturemin=52.0, temperaturemax=73.9, precipitation=0.0, snowfall=0.0, snowdepth=0.0, avgwindspeed=3.8, fastest2minwinddir=240, fastest2minwindspeed=14.09, fastest5secwinddir=270, fastest5secwindspeed=19.91, fog='No', fogheavy='No', mist='No', rain='No', fogground='No', ice='No', glaze='No', drizzle='No', snow='No', freezingrain='No', smokehaze='No', thunder='No', highwind='No', hail='No', blowingsnow='No', dust='No', freezingfog='No'),\n",
       " Row(date=datetime.datetime(2013, 4, 18, 0, 0), temperaturemin=62.1, temperaturemax=79.0, precipitation=0.0, snowfall=0.0, snowdepth=0.0, avgwindspeed=8.95, fastest2minwinddir=160, fastest2minwindspeed=18.12, fastest5secwinddir=170, fastest5secwindspeed=23.04, fog='No', fogheavy='No', mist='No', rain='No', fogground='No', ice='No', glaze='No', drizzle='No', snow='No', freezingrain='No', smokehaze='No', thunder='No', highwind='No', hail='No', blowingsnow='No', dust='No', freezingfog='No'),\n",
       " Row(date=datetime.datetime(2013, 4, 20, 0, 0), temperaturemin=44.1, temperaturemax=64.0, precipitation=0.01, snowfall=0.0, snowdepth=0.0, avgwindspeed=3.8, fastest2minwinddir=240, fastest2minwindspeed=21.92, fastest5secwinddir=240, fastest5secwindspeed=29.08, fog='No', fogheavy='No', mist='No', rain='No', fogground='No', ice='No', glaze='No', drizzle='No', snow='No', freezingrain='No', smokehaze='No', thunder='No', highwind='No', hail='No', blowingsnow='No', dust='No', freezingfog='No'),\n",
       " Row(date=datetime.datetime(2013, 4, 21, 0, 0), temperaturemin=41.0, temperaturemax=61.0, precipitation=0.0, snowfall=0.0, snowdepth=0.0, avgwindspeed=9.4, fastest2minwinddir=50, fastest2minwindspeed=21.03, fastest5secwinddir=50, fastest5secwindspeed=27.96, fog='No', fogheavy='No', mist='No', rain='No', fogground='No', ice='No', glaze='No', drizzle='No', snow='No', freezingrain='No', smokehaze='No', thunder='No', highwind='No', hail='No', blowingsnow='No', dust='No', freezingfog='No'),\n",
       " Row(date=datetime.datetime(2013, 4, 22, 0, 0), temperaturemin=35.1, temperaturemax=61.0, precipitation=0.01, snowfall=0.0, snowdepth=0.0, avgwindspeed=10.51, fastest2minwinddir=50, fastest2minwindspeed=19.91, fastest5secwinddir=50, fastest5secwindspeed=25.95, fog='Yes', fogheavy='No', mist='No', rain='No', fogground='No', ice='No', glaze='No', drizzle='No', snow='No', freezingrain='No', smokehaze='No', thunder='No', highwind='No', hail='No', blowingsnow='No', dust='No', freezingfog='No'),\n",
       " Row(date=datetime.datetime(2013, 4, 25, 0, 0), temperaturemin=50.0, temperaturemax=71.1, precipitation=0.0, snowfall=0.0, snowdepth=0.0, avgwindspeed=4.03, fastest2minwinddir=20, fastest2minwindspeed=12.97, fastest5secwinddir=10, fastest5secwindspeed=19.91, fog='No', fogheavy='No', mist='No', rain='No', fogground='No', ice='No', glaze='No', drizzle='No', snow='No', freezingrain='No', smokehaze='No', thunder='No', highwind='No', hail='No', blowingsnow='No', dust='No', freezingfog='No'),\n",
       " Row(date=datetime.datetime(2013, 4, 30, 0, 0), temperaturemin=57.0, temperaturemax=66.0, precipitation=0.0, snowfall=0.0, snowdepth=0.0, avgwindspeed=5.37, fastest2minwinddir=50, fastest2minwindspeed=12.08, fastest5secwinddir=40, fastest5secwindspeed=14.99, fog='No', fogheavy='No', mist='No', rain='No', fogground='No', ice='No', glaze='No', drizzle='No', snow='No', freezingrain='No', smokehaze='No', thunder='No', highwind='No', hail='No', blowingsnow='No', dust='No', freezingfog='No'),\n",
       " Row(date=datetime.datetime(2013, 5, 2, 0, 0), temperaturemin=52.0, temperaturemax=64.9, precipitation=0.0, snowfall=0.0, snowdepth=0.0, avgwindspeed=7.61, fastest2minwinddir=50, fastest2minwindspeed=17.0, fastest5secwinddir=50, fastest5secwindspeed=23.04, fog='Yes', fogheavy='No', mist='No', rain='No', fogground='No', ice='No', glaze='No', drizzle='No', snow='No', freezingrain='No', smokehaze='No', thunder='No', highwind='No', hail='No', blowingsnow='No', dust='No', freezingfog='No'),\n",
       " Row(date=datetime.datetime(2013, 5, 3, 0, 0), temperaturemin=48.0, temperaturemax=69.1, precipitation=0.0, snowfall=0.0, snowdepth=0.0, avgwindspeed=9.84, fastest2minwinddir=80, fastest2minwindspeed=21.03, fastest5secwinddir=80, fastest5secwindspeed=29.97, fog='No', fogheavy='No', mist='No', rain='No', fogground='No', ice='No', glaze='No', drizzle='No', snow='No', freezingrain='No', smokehaze='No', thunder='No', highwind='No', hail='No', blowingsnow='No', dust='No', freezingfog='No'),\n",
       " Row(date=datetime.datetime(2013, 5, 7, 0, 0), temperaturemin=50.0, temperaturemax=71.1, precipitation=0.0, snowfall=0.0, snowdepth=0.0, avgwindspeed=4.92, fastest2minwinddir=230, fastest2minwindspeed=18.12, fastest5secwinddir=230, fastest5secwindspeed=23.04, fog='No', fogheavy='No', mist='No', rain='No', fogground='No', ice='No', glaze='No', drizzle='No', snow='No', freezingrain='No', smokehaze='No', thunder='No', highwind='No', hail='No', blowingsnow='No', dust='No', freezingfog='No'),\n",
       " Row(date=datetime.datetime(2013, 5, 22, 0, 0), temperaturemin=69.1, temperaturemax=82.9, precipitation=0.01, snowfall=0.0, snowdepth=0.0, avgwindspeed=9.17, fastest2minwinddir=170, fastest2minwindspeed=14.99, fastest5secwinddir=220, fastest5secwindspeed=21.92, fog='No', fogheavy='No', mist='No', rain='No', fogground='No', ice='No', glaze='No', drizzle='No', snow='No', freezingrain='No', smokehaze='No', thunder='No', highwind='No', hail='No', blowingsnow='No', dust='No', freezingfog='No'),\n",
       " Row(date=datetime.datetime(2013, 5, 24, 0, 0), temperaturemin=52.0, temperaturemax=70.0, precipitation=0.0, snowfall=0.0, snowdepth=0.0, avgwindspeed=5.82, fastest2minwinddir=290, fastest2minwindspeed=19.91, fastest5secwinddir=310, fastest5secwindspeed=31.09, fog='No', fogheavy='No', mist='No', rain='No', fogground='No', ice='No', glaze='No', drizzle='No', snow='No', freezingrain='No', smokehaze='No', thunder='No', highwind='No', hail='No', blowingsnow='No', dust='No', freezingfog='No'),\n",
       " Row(date=datetime.datetime(2013, 5, 25, 0, 0), temperaturemin=41.0, temperaturemax=73.0, precipitation=0.0, snowfall=0.0, snowdepth=0.0, avgwindspeed=2.91, fastest2minwinddir=270, fastest2minwindspeed=14.99, fastest5secwinddir=260, fastest5secwindspeed=23.04, fog='No', fogheavy='No', mist='No', rain='No', fogground='No', ice='No', glaze='No', drizzle='No', snow='No', freezingrain='No', smokehaze='No', thunder='No', highwind='No', hail='No', blowingsnow='No', dust='No', freezingfog='No'),\n",
       " Row(date=datetime.datetime(2013, 5, 26, 0, 0), temperaturemin=48.0, temperaturemax=73.0, precipitation=0.0, snowfall=0.0, snowdepth=0.0, avgwindspeed=2.01, fastest2minwinddir=240, fastest2minwindspeed=12.97, fastest5secwinddir=240, fastest5secwindspeed=21.03, fog='No', fogheavy='No', mist='No', rain='No', fogground='No', ice='No', glaze='No', drizzle='No', snow='No', freezingrain='No', smokehaze='No', thunder='No', highwind='No', hail='No', blowingsnow='No', dust='No', freezingfog='No'),\n",
       " Row(date=datetime.datetime(2013, 5, 28, 0, 0), temperaturemin=64.0, temperaturemax=84.9, precipitation=0.0, snowfall=0.0, snowdepth=0.0, avgwindspeed=9.17, fastest2minwinddir=220, fastest2minwindspeed=16.11, fastest5secwinddir=210, fastest5secwindspeed=21.92, fog='No', fogheavy='No', mist='No', rain='No', fogground='No', ice='No', glaze='No', drizzle='No', snow='No', freezingrain='No', smokehaze='No', thunder='No', highwind='No', hail='No', blowingsnow='No', dust='No', freezingfog='No'),\n",
       " Row(date=datetime.datetime(2013, 6, 3, 0, 0), temperaturemin=64.0, temperaturemax=82.9, precipitation=0.45, snowfall=0.0, snowdepth=0.0, avgwindspeed=5.59, fastest2minwinddir=330, fastest2minwindspeed=16.11, fastest5secwinddir=330, fastest5secwindspeed=21.92, fog='No', fogheavy='No', mist='No', rain='No', fogground='No', ice='No', glaze='No', drizzle='No', snow='No', freezingrain='No', smokehaze='No', thunder='No', highwind='No', hail='No', blowingsnow='No', dust='No', freezingfog='No'),\n",
       " Row(date=datetime.datetime(2013, 6, 4, 0, 0), temperaturemin=64.0, temperaturemax=79.0, precipitation=0.0, snowfall=0.0, snowdepth=0.0, avgwindspeed=4.03, fastest2minwinddir=40, fastest2minwindspeed=14.09, fastest5secwinddir=40, fastest5secwindspeed=17.0, fog='Yes', fogheavy='No', mist='No', rain='No', fogground='No', ice='No', glaze='No', drizzle='No', snow='No', freezingrain='No', smokehaze='No', thunder='No', highwind='No', hail='No', blowingsnow='No', dust='No', freezingfog='No'),\n",
       " Row(date=datetime.datetime(2013, 6, 5, 0, 0), temperaturemin=64.0, temperaturemax=82.0, precipitation=0.0, snowfall=0.0, snowdepth=0.0, avgwindspeed=6.04, fastest2minwinddir=110, fastest2minwindspeed=14.09, fastest5secwinddir=120, fastest5secwindspeed=23.04, fog='No', fogheavy='No', mist='No', rain='No', fogground='No', ice='No', glaze='No', drizzle='No', snow='No', freezingrain='No', smokehaze='No', thunder='No', highwind='No', hail='No', blowingsnow='No', dust='No', freezingfog='No'),\n",
       " Row(date=datetime.datetime(2013, 6, 11, 0, 0), temperaturemin=70.0, temperaturemax=86.0, precipitation=0.0, snowfall=0.0, snowdepth=0.0, avgwindspeed=8.5, fastest2minwinddir=240, fastest2minwindspeed=16.11, fastest5secwinddir=230, fastest5secwindspeed=23.94, fog='No', fogheavy='No', mist='No', rain='No', fogground='No', ice='No', glaze='No', drizzle='No', snow='No', freezingrain='No', smokehaze='No', thunder='No', highwind='No', hail='No', blowingsnow='No', dust='No', freezingfog='No'),\n",
       " Row(date=datetime.datetime(2013, 6, 14, 0, 0), temperaturemin=59.0, temperaturemax=80.1, precipitation=0.0, snowfall=0.0, snowdepth=0.0, avgwindspeed=4.25, fastest2minwinddir=340, fastest2minwindspeed=14.09, fastest5secwinddir=80, fastest5secwindspeed=23.94, fog='No', fogheavy='No', mist='No', rain='No', fogground='No', ice='No', glaze='No', drizzle='No', snow='No', freezingrain='No', smokehaze='No', thunder='No', highwind='No', hail='No', blowingsnow='No', dust='No', freezingfog='No'),\n",
       " Row(date=datetime.datetime(2013, 6, 20, 0, 0), temperaturemin=63.0, temperaturemax=82.0, precipitation=0.0, snowfall=0.0, snowdepth=0.0, avgwindspeed=7.16, fastest2minwinddir=50, fastest2minwindspeed=14.09, fastest5secwinddir=110, fastest5secwindspeed=18.12, fog='No', fogheavy='No', mist='No', rain='No', fogground='No', ice='No', glaze='No', drizzle='No', snow='No', freezingrain='No', smokehaze='No', thunder='No', highwind='No', hail='No', blowingsnow='No', dust='No', freezingfog='No'),\n",
       " Row(date=datetime.datetime(2013, 6, 24, 0, 0), temperaturemin=71.1, temperaturemax=89.1, precipitation=0.0, snowfall=0.0, snowdepth=0.0, avgwindspeed=8.5, fastest2minwinddir=230, fastest2minwindspeed=17.0, fastest5secwinddir=230, fastest5secwindspeed=21.92, fog='No', fogheavy='No', mist='No', rain='No', fogground='No', ice='No', glaze='No', drizzle='No', snow='No', freezingrain='No', smokehaze='No', thunder='No', highwind='No', hail='No', blowingsnow='No', dust='No', freezingfog='No'),\n",
       " Row(date=datetime.datetime(2013, 6, 25, 0, 0), temperaturemin=70.0, temperaturemax=91.9, precipitation=0.01, snowfall=0.0, snowdepth=0.0, avgwindspeed=8.95, fastest2minwinddir=230, fastest2minwindspeed=21.03, fastest5secwinddir=110, fastest5secwindspeed=25.95, fog='No', fogheavy='No', mist='No', rain='No', fogground='No', ice='No', glaze='No', drizzle='No', snow='No', freezingrain='No', smokehaze='No', thunder='Yes', highwind='No', hail='No', blowingsnow='No', dust='No', freezingfog='No'),\n",
       " Row(date=datetime.datetime(2013, 6, 30, 0, 0), temperaturemin=68.0, temperaturemax=87.1, precipitation=0.99, snowfall=0.0, snowdepth=0.0, avgwindspeed=6.49, fastest2minwinddir=280, fastest2minwindspeed=18.12, fastest5secwinddir=310, fastest5secwindspeed=29.08, fog='No', fogheavy='No', mist='No', rain='No', fogground='No', ice='No', glaze='No', drizzle='No', snow='No', freezingrain='No', smokehaze='No', thunder='No', highwind='No', hail='No', blowingsnow='No', dust='No', freezingfog='No'),\n",
       " Row(date=datetime.datetime(2013, 7, 4, 0, 0), temperaturemin=73.0, temperaturemax=88.0, precipitation=0.0, snowfall=0.0, snowdepth=0.0, avgwindspeed=7.16, fastest2minwinddir=140, fastest2minwindspeed=16.11, fastest5secwinddir=150, fastest5secwindspeed=21.03, fog='No', fogheavy='No', mist='No', rain='No', fogground='No', ice='No', glaze='No', drizzle='No', snow='No', freezingrain='No', smokehaze='No', thunder='No', highwind='No', hail='No', blowingsnow='No', dust='No', freezingfog='No'),\n",
       " Row(date=datetime.datetime(2013, 7, 6, 0, 0), temperaturemin=73.0, temperaturemax=88.0, precipitation=0.01, snowfall=0.0, snowdepth=0.0, avgwindspeed=6.49, fastest2minwinddir=190, fastest2minwindspeed=17.0, fastest5secwinddir=180, fastest5secwindspeed=21.03, fog='No', fogheavy='No', mist='No', rain='No', fogground='No', ice='No', glaze='No', drizzle='No', snow='No', freezingrain='No', smokehaze='No', thunder='No', highwind='No', hail='No', blowingsnow='No', dust='No', freezingfog='No'),\n",
       " Row(date=datetime.datetime(2013, 7, 11, 0, 0), temperaturemin=72.0, temperaturemax=84.0, precipitation=0.2, snowfall=0.0, snowdepth=0.0, avgwindspeed=6.71, fastest2minwinddir=240, fastest2minwindspeed=14.99, fastest5secwinddir=230, fastest5secwindspeed=18.12, fog='No', fogheavy='No', mist='No', rain='No', fogground='No', ice='No', glaze='No', drizzle='No', snow='No', freezingrain='No', smokehaze='No', thunder='No', highwind='No', hail='No', blowingsnow='No', dust='No', freezingfog='No'),\n",
       " Row(date=datetime.datetime(2013, 7, 15, 0, 0), temperaturemin=69.1, temperaturemax=90.0, precipitation=0.0, snowfall=0.0, snowdepth=0.0, avgwindspeed=2.24, fastest2minwinddir=70, fastest2minwindspeed=8.95, fastest5secwinddir=90, fastest5secwindspeed=31.09, fog='Yes', fogheavy='No', mist='No', rain='No', fogground='No', ice='No', glaze='No', drizzle='No', snow='No', freezingrain='No', smokehaze='No', thunder='No', highwind='No', hail='No', blowingsnow='No', dust='No', freezingfog='No'),\n",
       " Row(date=datetime.datetime(2013, 7, 24, 0, 0), temperaturemin=71.1, temperaturemax=96.1, precipitation=0.5, snowfall=0.0, snowdepth=0.0, avgwindspeed=2.91, fastest2minwinddir=320, fastest2minwindspeed=16.11, fastest5secwinddir=330, fastest5secwindspeed=23.94, fog='No', fogheavy='No', mist='No', rain='No', fogground='No', ice='No', glaze='No', drizzle='No', snow='No', freezingrain='No', smokehaze='No', thunder='No', highwind='No', hail='No', blowingsnow='No', dust='No', freezingfog='No'),\n",
       " Row(date=datetime.datetime(2013, 8, 8, 0, 0), temperaturemin=72.0, temperaturemax=91.0, precipitation=0.0, snowfall=0.0, snowdepth=0.0, avgwindspeed=3.8, fastest2minwinddir=240, fastest2minwindspeed=12.08, fastest5secwinddir=260, fastest5secwindspeed=14.99, fog='No', fogheavy='No', mist='No', rain='No', fogground='No', ice='No', glaze='No', drizzle='No', snow='No', freezingrain='No', smokehaze='No', thunder='No', highwind='No', hail='No', blowingsnow='No', dust='No', freezingfog='No'),\n",
       " Row(date=datetime.datetime(2013, 8, 11, 0, 0), temperaturemin=71.1, temperaturemax=91.9, precipitation=0.0, snowfall=0.0, snowdepth=0.0, avgwindspeed=3.13, fastest2minwinddir=350, fastest2minwindspeed=8.95, fastest5secwinddir=330, fastest5secwindspeed=16.11, fog='Yes', fogheavy='No', mist='No', rain='No', fogground='No', ice='No', glaze='No', drizzle='No', snow='No', freezingrain='No', smokehaze='No', thunder='No', highwind='No', hail='No', blowingsnow='No', dust='No', freezingfog='No'),\n",
       " Row(date=datetime.datetime(2013, 8, 13, 0, 0), temperaturemin=71.1, temperaturemax=90.0, precipitation=0.08, snowfall=0.0, snowdepth=0.0, avgwindspeed=5.59, fastest2minwinddir=230, fastest2minwindspeed=21.03, fastest5secwinddir=240, fastest5secwindspeed=29.97, fog='No', fogheavy='No', mist='No', rain='No', fogground='No', ice='No', glaze='No', drizzle='No', snow='No', freezingrain='No', smokehaze='No', thunder='No', highwind='No', hail='No', blowingsnow='No', dust='No', freezingfog='No'),\n",
       " Row(date=datetime.datetime(2013, 8, 26, 0, 0), temperaturemin=55.0, temperaturemax=82.9, precipitation=0.0, snowfall=0.0, snowdepth=0.0, avgwindspeed=1.34, fastest2minwinddir=60, fastest2minwindspeed=8.05, fastest5secwinddir=120, fastest5secwindspeed=12.08, fog='Yes', fogheavy='No', mist='No', rain='No', fogground='No', ice='No', glaze='No', drizzle='No', snow='No', freezingrain='No', smokehaze='No', thunder='No', highwind='No', hail='No', blowingsnow='No', dust='No', freezingfog='No'),\n",
       " Row(date=datetime.datetime(2013, 9, 5, 0, 0), temperaturemin=64.9, temperaturemax=87.1, precipitation=0.0, snowfall=0.0, snowdepth=0.0, avgwindspeed=2.46, fastest2minwinddir=270, fastest2minwindspeed=10.07, fastest5secwinddir=280, fastest5secwindspeed=16.11, fog='Yes', fogheavy='No', mist='No', rain='No', fogground='No', ice='No', glaze='No', drizzle='No', snow='No', freezingrain='No', smokehaze='No', thunder='No', highwind='No', hail='No', blowingsnow='No', dust='No', freezingfog='No'),\n",
       " Row(date=datetime.datetime(2013, 9, 20, 0, 0), temperaturemin=62.1, temperaturemax=72.0, precipitation=0.19, snowfall=0.0, snowdepth=0.0, avgwindspeed=3.8, fastest2minwinddir=170, fastest2minwindspeed=10.07, fastest5secwinddir=150, fastest5secwindspeed=17.0, fog='Yes', fogheavy='No', mist='No', rain='No', fogground='No', ice='No', glaze='No', drizzle='No', snow='No', freezingrain='No', smokehaze='No', thunder='No', highwind='No', hail='No', blowingsnow='No', dust='No', freezingfog='No'),\n",
       " Row(date=datetime.datetime(2013, 9, 25, 0, 0), temperaturemin=53.1, temperaturemax=75.0, precipitation=0.0, snowfall=0.0, snowdepth=0.0, avgwindspeed=1.12, fastest2minwinddir=100, fastest2minwindspeed=8.95, fastest5secwinddir=90, fastest5secwindspeed=12.97, fog='Yes', fogheavy='No', mist='No', rain='No', fogground='No', ice='No', glaze='No', drizzle='No', snow='No', freezingrain='No', smokehaze='No', thunder='No', highwind='No', hail='No', blowingsnow='No', dust='No', freezingfog='No'),\n",
       " Row(date=datetime.datetime(2013, 10, 19, 0, 0), temperaturemin=57.9, temperaturemax=70.0, precipitation=0.01, snowfall=0.0, snowdepth=0.0, avgwindspeed=2.91, fastest2minwinddir=230, fastest2minwindspeed=12.08, fastest5secwinddir=210, fastest5secwindspeed=14.09, fog='Yes', fogheavy='No', mist='No', rain='No', fogground='No', ice='No', glaze='No', drizzle='No', snow='No', freezingrain='No', smokehaze='No', thunder='No', highwind='No', hail='No', blowingsnow='No', dust='No', freezingfog='No'),\n",
       " Row(date=datetime.datetime(2013, 10, 21, 0, 0), temperaturemin=39.0, temperaturemax=68.0, precipitation=0.0, snowfall=0.0, snowdepth=0.0, avgwindspeed=0.45, fastest2minwinddir=180, fastest2minwindspeed=8.05, fastest5secwinddir=170, fastest5secwindspeed=10.07, fog='Yes', fogheavy='No', mist='No', rain='No', fogground='No', ice='No', glaze='No', drizzle='No', snow='No', freezingrain='No', smokehaze='No', thunder='No', highwind='No', hail='No', blowingsnow='No', dust='No', freezingfog='No'),\n",
       " Row(date=datetime.datetime(2013, 10, 22, 0, 0), temperaturemin=51.1, temperaturemax=64.0, precipitation=0.0, snowfall=0.0, snowdepth=0.0, avgwindspeed=2.46, fastest2minwinddir=230, fastest2minwindspeed=8.95, fastest5secwinddir=160, fastest5secwindspeed=10.07, fog='Yes', fogheavy='No', mist='No', rain='No', fogground='No', ice='No', glaze='No', drizzle='No', snow='No', freezingrain='No', smokehaze='No', thunder='No', highwind='No', hail='No', blowingsnow='No', dust='No', freezingfog='No'),\n",
       " Row(date=datetime.datetime(2013, 10, 25, 0, 0), temperaturemin=33.1, temperaturemax=55.9, precipitation=0.0, snowfall=0.0, snowdepth=0.0, avgwindspeed=3.36, fastest2minwinddir=30, fastest2minwindspeed=12.97, fastest5secwinddir=340, fastest5secwindspeed=19.91, fog='No', fogheavy='No', mist='No', rain='No', fogground='No', ice='No', glaze='No', drizzle='No', snow='No', freezingrain='No', smokehaze='No', thunder='No', highwind='No', hail='No', blowingsnow='No', dust='No', freezingfog='No'),\n",
       " Row(date=datetime.datetime(2013, 11, 4, 0, 0), temperaturemin=35.1, temperaturemax=55.0, precipitation=0.0, snowfall=0.0, snowdepth=0.0, avgwindspeed=6.49, fastest2minwinddir=50, fastest2minwindspeed=16.11, fastest5secwinddir=50, fastest5secwindspeed=21.92, fog='No', fogheavy='No', mist='No', rain='No', fogground='No', ice='No', glaze='No', drizzle='No', snow='No', freezingrain='No', smokehaze='No', thunder='No', highwind='No', hail='No', blowingsnow='No', dust='No', freezingfog='No'),\n",
       " Row(date=datetime.datetime(2015, 3, 28, 0, 0), temperaturemin=32.0, temperaturemax=46.0, precipitation=0.0, snowfall=0.0, snowdepth=0.0, avgwindspeed=6.26, fastest2minwinddir=290, fastest2minwindspeed=17.0, fastest5secwinddir=310, fastest5secwindspeed=23.04, fog='No', fogheavy='No', mist='No', rain='No', fogground='No', ice='No', glaze='No', drizzle='No', snow='No', freezingrain='No', smokehaze='No', thunder='No', highwind='No', hail='No', blowingsnow='No', dust='No', freezingfog='No'),\n",
       " Row(date=datetime.datetime(2015, 4, 1, 0, 0), temperaturemin=46.9, temperaturemax=66.0, precipitation=0.0, snowfall=0.0, snowdepth=0.0, avgwindspeed=6.71, fastest2minwinddir=40, fastest2minwindspeed=16.11, fastest5secwinddir=80, fastest5secwindspeed=21.03, fog='No', fogheavy='No', mist='No', rain='No', fogground='No', ice='No', glaze='No', drizzle='No', snow='No', freezingrain='No', smokehaze='No', thunder='No', highwind='No', hail='No', blowingsnow='No', dust='No', freezingfog='No'),\n",
       " Row(date=datetime.datetime(2015, 4, 8, 0, 0), temperaturemin=62.1, temperaturemax=84.0, precipitation=0.0, snowfall=0.0, snowdepth=0.0, avgwindspeed=5.82, fastest2minwinddir=40, fastest2minwindspeed=29.97, fastest5secwinddir=30, fastest5secwindspeed=38.03, fog='Yes', fogheavy='No', mist='No', rain='No', fogground='No', ice='No', glaze='No', drizzle='No', snow='No', freezingrain='No', smokehaze='Yes', thunder='No', highwind='No', hail='No', blowingsnow='No', dust='No', freezingfog='No'),\n",
       " Row(date=datetime.datetime(2015, 4, 11, 0, 0), temperaturemin=52.0, temperaturemax=75.0, precipitation=0.0, snowfall=0.0, snowdepth=0.0, avgwindspeed=3.8, fastest2minwinddir=280, fastest2minwindspeed=12.97, fastest5secwinddir=20, fastest5secwindspeed=19.91, fog='No', fogheavy='No', mist='No', rain='No', fogground='No', ice='No', glaze='No', drizzle='No', snow='No', freezingrain='No', smokehaze='No', thunder='No', highwind='No', hail='No', blowingsnow='No', dust='No', freezingfog='No'),\n",
       " Row(date=datetime.datetime(2015, 4, 16, 0, 0), temperaturemin=48.0, temperaturemax=66.0, precipitation=0.05, snowfall=0.0, snowdepth=0.0, avgwindspeed=4.47, fastest2minwinddir=50, fastest2minwindspeed=10.07, fastest5secwinddir=110, fastest5secwindspeed=18.12, fog='No', fogheavy='No', mist='No', rain='No', fogground='No', ice='No', glaze='No', drizzle='No', snow='No', freezingrain='No', smokehaze='No', thunder='No', highwind='No', hail='No', blowingsnow='No', dust='No', freezingfog='No'),\n",
       " Row(date=datetime.datetime(2015, 4, 20, 0, 0), temperaturemin=63.0, temperaturemax=78.1, precipitation=0.28, snowfall=0.0, snowdepth=0.0, avgwindspeed=11.86, fastest2minwinddir=180, fastest2minwindspeed=21.92, fastest5secwinddir=170, fastest5secwindspeed=29.08, fog='Yes', fogheavy='No', mist='No', rain='No', fogground='No', ice='No', glaze='No', drizzle='No', snow='No', freezingrain='No', smokehaze='No', thunder='Yes', highwind='No', hail='No', blowingsnow='No', dust='No', freezingfog='No'),\n",
       " Row(date=datetime.datetime(2015, 5, 1, 0, 0), temperaturemin=51.1, temperaturemax=61.0, precipitation=0.58, snowfall=0.0, snowdepth=0.0, avgwindspeed=4.47, fastest2minwinddir=50, fastest2minwindspeed=16.11, fastest5secwinddir=10, fastest5secwindspeed=21.03, fog='Yes', fogheavy='No', mist='No', rain='No', fogground='No', ice='No', glaze='No', drizzle='No', snow='No', freezingrain='No', smokehaze='No', thunder='No', highwind='No', hail='No', blowingsnow='No', dust='No', freezingfog='No'),\n",
       " Row(date=datetime.datetime(2015, 5, 5, 0, 0), temperaturemin=55.9, temperaturemax=82.0, precipitation=0.0, snowfall=0.0, snowdepth=0.0, avgwindspeed=7.38, fastest2minwinddir=240, fastest2minwindspeed=16.11, fastest5secwinddir=230, fastest5secwindspeed=19.91, fog='No', fogheavy='No', mist='No', rain='No', fogground='No', ice='No', glaze='No', drizzle='No', snow='No', freezingrain='No', smokehaze='No', thunder='No', highwind='No', hail='No', blowingsnow='No', dust='No', freezingfog='No'),\n",
       " Row(date=datetime.datetime(2015, 5, 29, 0, 0), temperaturemin=66.0, temperaturemax=87.1, precipitation=0.0, snowfall=0.0, snowdepth=0.0, avgwindspeed=4.03, fastest2minwinddir=140, fastest2minwindspeed=14.09, fastest5secwinddir=140, fastest5secwindspeed=16.11, fog='No', fogheavy='No', mist='No', rain='No', fogground='No', ice='No', glaze='No', drizzle='No', snow='No', freezingrain='No', smokehaze='No', thunder='No', highwind='No', hail='No', blowingsnow='No', dust='No', freezingfog='No'),\n",
       " Row(date=datetime.datetime(2015, 6, 18, 0, 0), temperaturemin=71.1, temperaturemax=98.1, precipitation=2.1, snowfall=0.0, snowdepth=0.0, avgwindspeed=5.59, fastest2minwinddir=90, fastest2minwindspeed=23.04, fastest5secwinddir=90, fastest5secwindspeed=29.97, fog='Yes', fogheavy='No', mist='No', rain='No', fogground='No', ice='No', glaze='No', drizzle='No', snow='No', freezingrain='No', smokehaze='No', thunder='Yes', highwind='No', hail='No', blowingsnow='No', dust='No', freezingfog='No'),\n",
       " Row(date=datetime.datetime(2015, 6, 19, 0, 0), temperaturemin=72.0, temperaturemax=95.0, precipitation=0.23, snowfall=0.0, snowdepth=0.0, avgwindspeed=4.7, fastest2minwinddir=100, fastest2minwindspeed=14.09, fastest5secwinddir=110, fastest5secwindspeed=19.91, fog='Yes', fogheavy='No', mist='No', rain='No', fogground='No', ice='No', glaze='No', drizzle='No', snow='No', freezingrain='No', smokehaze='No', thunder='Yes', highwind='No', hail='No', blowingsnow='No', dust='No', freezingfog='No'),\n",
       " Row(date=datetime.datetime(2015, 6, 24, 0, 0), temperaturemin=73.9, temperaturemax=95.0, precipitation=0.0, snowfall=0.0, snowdepth=0.0, avgwindspeed=4.92, fastest2minwinddir=220, fastest2minwindspeed=14.09, fastest5secwinddir=230, fastest5secwindspeed=17.0, fog='No', fogheavy='No', mist='No', rain='No', fogground='No', ice='No', glaze='No', drizzle='No', snow='No', freezingrain='No', smokehaze='No', thunder='No', highwind='No', hail='No', blowingsnow='No', dust='No', freezingfog='No'),\n",
       " Row(date=datetime.datetime(2015, 6, 27, 0, 0), temperaturemin=70.0, temperaturemax=88.0, precipitation=0.99, snowfall=0.0, snowdepth=0.0, avgwindspeed=8.28, fastest2minwinddir=210, fastest2minwindspeed=18.12, fastest5secwinddir=210, fastest5secwindspeed=29.97, fog='Yes', fogheavy='No', mist='No', rain='No', fogground='No', ice='No', glaze='No', drizzle='No', snow='No', freezingrain='No', smokehaze='No', thunder='Yes', highwind='No', hail='No', blowingsnow='No', dust='No', freezingfog='No'),\n",
       " Row(date=datetime.datetime(2015, 7, 6, 0, 0), temperaturemin=70.0, temperaturemax=89.1, precipitation=0.0, snowfall=0.0, snowdepth=0.0, avgwindspeed=8.05, fastest2minwinddir=230, fastest2minwindspeed=17.0, fastest5secwinddir=230, fastest5secwindspeed=23.94, fog='No', fogheavy='No', mist='No', rain='No', fogground='No', ice='No', glaze='No', drizzle='No', snow='No', freezingrain='No', smokehaze='No', thunder='No', highwind='No', hail='No', blowingsnow='No', dust='No', freezingfog='No'),\n",
       " Row(date=datetime.datetime(2015, 7, 28, 0, 0), temperaturemin=73.0, temperaturemax=90.0, precipitation=0.0, snowfall=0.0, snowdepth=0.0, avgwindspeed=4.03, fastest2minwinddir=170, fastest2minwindspeed=14.09, fastest5secwinddir=150, fastest5secwindspeed=19.91, fog='No', fogheavy='No', mist='No', rain='No', fogground='No', ice='No', glaze='No', drizzle='No', snow='No', freezingrain='No', smokehaze='No', thunder='No', highwind='No', hail='No', blowingsnow='No', dust='No', freezingfog='No'),\n",
       " Row(date=datetime.datetime(2015, 8, 1, 0, 0), temperaturemin=64.9, temperaturemax=93.0, precipitation=0.0, snowfall=0.0, snowdepth=0.0, avgwindspeed=1.57, fastest2minwinddir=240, fastest2minwindspeed=12.97, fastest5secwinddir=270, fastest5secwindspeed=14.09, fog='Yes', fogheavy='No', mist='No', rain='No', fogground='No', ice='No', glaze='No', drizzle='No', snow='No', freezingrain='No', smokehaze='No', thunder='No', highwind='No', hail='No', blowingsnow='No', dust='No', freezingfog='No'),\n",
       " Row(date=datetime.datetime(2015, 8, 5, 0, 0), temperaturemin=73.0, temperaturemax=97.0, precipitation=0.0, snowfall=0.0, snowdepth=0.0, avgwindspeed=3.13, fastest2minwinddir=240, fastest2minwindspeed=14.99, fastest5secwinddir=240, fastest5secwindspeed=23.04, fog='No', fogheavy='No', mist='No', rain='No', fogground='No', ice='No', glaze='No', drizzle='No', snow='No', freezingrain='No', smokehaze='No', thunder='No', highwind='No', hail='No', blowingsnow='No', dust='No', freezingfog='No'),\n",
       " Row(date=datetime.datetime(2015, 8, 29, 0, 0), temperaturemin=60.1, temperaturemax=86.0, precipitation=0.0, snowfall=0.0, snowdepth=0.0, avgwindspeed=2.01, fastest2minwinddir=110, fastest2minwindspeed=12.08, fastest5secwinddir=140, fastest5secwindspeed=16.11, fog='No', fogheavy='No', mist='No', rain='No', fogground='No', ice='No', glaze='No', drizzle='No', snow='No', freezingrain='No', smokehaze='No', thunder='No', highwind='No', hail='No', blowingsnow='No', dust='No', freezingfog='No'),\n",
       " Row(date=datetime.datetime(2015, 9, 2, 0, 0), temperaturemin=68.0, temperaturemax=93.9, precipitation=0.1, snowfall=0.0, snowdepth=0.0, avgwindspeed=3.36, fastest2minwinddir=50, fastest2minwindspeed=18.12, fastest5secwinddir=30, fastest5secwindspeed=23.94, fog='Yes', fogheavy='No', mist='No', rain='No', fogground='No', ice='No', glaze='No', drizzle='No', snow='No', freezingrain='No', smokehaze='No', thunder='Yes', highwind='No', hail='No', blowingsnow='No', dust='No', freezingfog='No'),\n",
       " Row(date=datetime.datetime(2015, 9, 17, 0, 0), temperaturemin=60.1, temperaturemax=84.0, precipitation=0.0, snowfall=0.0, snowdepth=0.0, avgwindspeed=1.57, fastest2minwinddir=90, fastest2minwindspeed=8.95, fastest5secwinddir=130, fastest5secwindspeed=14.99, fog='No', fogheavy='No', mist='No', rain='No', fogground='No', ice='No', glaze='No', drizzle='No', snow='No', freezingrain='No', smokehaze='No', thunder='No', highwind='No', hail='No', blowingsnow='No', dust='No', freezingfog='No'),\n",
       " Row(date=datetime.datetime(2015, 9, 27, 0, 0), temperaturemin=64.0, temperaturemax=77.0, precipitation=0.03, snowfall=0.0, snowdepth=0.0, avgwindspeed=10.96, fastest2minwinddir=40, fastest2minwindspeed=18.12, fastest5secwinddir=40, fastest5secwindspeed=25.95, fog='Yes', fogheavy='No', mist='No', rain='No', fogground='No', ice='No', glaze='No', drizzle='No', snow='No', freezingrain='No', smokehaze='Yes', thunder='No', highwind='No', hail='No', blowingsnow='No', dust='No', freezingfog='No'),\n",
       " Row(date=datetime.datetime(2015, 10, 9, 0, 0), temperaturemin=60.1, temperaturemax=82.0, precipitation=0.0, snowfall=0.0, snowdepth=0.0, avgwindspeed=8.5, fastest2minwinddir=240, fastest2minwindspeed=21.03, fastest5secwinddir=230, fastest5secwindspeed=25.05, fog='No', fogheavy='No', mist='No', rain='No', fogground='No', ice='No', glaze='No', drizzle='No', snow='No', freezingrain='No', smokehaze='No', thunder='No', highwind='No', hail='No', blowingsnow='No', dust='No', freezingfog='No'),\n",
       " Row(date=datetime.datetime(2015, 10, 12, 0, 0), temperaturemin=51.1, temperaturemax=78.1, precipitation=0.0, snowfall=0.0, snowdepth=0.0, avgwindspeed=2.91, fastest2minwinddir=230, fastest2minwindspeed=12.97, fastest5secwinddir=220, fastest5secwindspeed=17.0, fog='No', fogheavy='No', mist='No', rain='No', fogground='No', ice='No', glaze='No', drizzle='No', snow='No', freezingrain='No', smokehaze='No', thunder='No', highwind='No', hail='No', blowingsnow='No', dust='No', freezingfog='No'),\n",
       " Row(date=datetime.datetime(2015, 11, 13, 0, 0), temperaturemin=44.1, temperaturemax=66.0, precipitation=0.0, snowfall=0.0, snowdepth=0.0, avgwindspeed=5.82, fastest2minwinddir=300, fastest2minwindspeed=16.11, fastest5secwinddir=270, fastest5secwindspeed=23.04, fog='No', fogheavy='No', mist='No', rain='No', fogground='No', ice='No', glaze='No', drizzle='No', snow='No', freezingrain='No', smokehaze='No', thunder='No', highwind='No', hail='No', blowingsnow='No', dust='No', freezingfog='No'),\n",
       " Row(date=datetime.datetime(2015, 11, 26, 0, 0), temperaturemin=39.0, temperaturemax=70.0, precipitation=0.0, snowfall=0.0, snowdepth=0.0, avgwindspeed=3.36, fastest2minwinddir=90, fastest2minwindspeed=10.07, fastest5secwinddir=100, fastest5secwindspeed=12.97, fog='No', fogheavy='No', mist='No', rain='No', fogground='No', ice='No', glaze='No', drizzle='No', snow='No', freezingrain='No', smokehaze='No', thunder='No', highwind='No', hail='No', blowingsnow='No', dust='No', freezingfog='No'),\n",
       " Row(date=datetime.datetime(2015, 12, 13, 0, 0), temperaturemin=50.0, temperaturemax=73.0, precipitation=0.0, snowfall=0.0, snowdepth=0.0, avgwindspeed=2.91, fastest2minwinddir=220, fastest2minwindspeed=10.07, fastest5secwinddir=210, fastest5secwindspeed=14.09, fog='Yes', fogheavy='No', mist='No', rain='No', fogground='No', ice='No', glaze='No', drizzle='No', snow='No', freezingrain='No', smokehaze='No', thunder='No', highwind='No', hail='No', blowingsnow='No', dust='No', freezingfog='No'),\n",
       " Row(date=datetime.datetime(2015, 12, 15, 0, 0), temperaturemin=48.0, temperaturemax=72.0, precipitation=0.0, snowfall=0.0, snowdepth=0.0, avgwindspeed=5.59, fastest2minwinddir=240, fastest2minwindspeed=18.12, fastest5secwinddir=240, fastest5secwindspeed=25.05, fog='No', fogheavy='No', mist='No', rain='No', fogground='No', ice='No', glaze='No', drizzle='No', snow='No', freezingrain='No', smokehaze='No', thunder='No', highwind='No', hail='No', blowingsnow='No', dust='No', freezingfog='No'),\n",
       " Row(date=datetime.datetime(2015, 12, 19, 0, 0), temperaturemin=26.2, temperaturemax=48.0, precipitation=0.0, snowfall=0.0, snowdepth=0.0, avgwindspeed=6.71, fastest2minwinddir=240, fastest2minwindspeed=21.03, fastest5secwinddir=240, fastest5secwindspeed=25.95, fog='No', fogheavy='No', mist='No', rain='No', fogground='No', ice='No', glaze='No', drizzle='No', snow='No', freezingrain='No', smokehaze='No', thunder='No', highwind='No', hail='No', blowingsnow='No', dust='No', freezingfog='No'),\n",
       " Row(date=datetime.datetime(2015, 12, 25, 0, 0), temperaturemin=64.9, temperaturemax=73.9, precipitation=0.0, snowfall=0.0, snowdepth=0.0, avgwindspeed=8.05, fastest2minwinddir=230, fastest2minwindspeed=17.0, fastest5secwinddir=230, fastest5secwindspeed=21.03, fog='Yes', fogheavy='No', mist='No', rain='No', fogground='No', ice='No', glaze='No', drizzle='No', snow='No', freezingrain='No', smokehaze='No', thunder='No', highwind='No', hail='No', blowingsnow='No', dust='No', freezingfog='No'),\n",
       " Row(date=datetime.datetime(2016, 1, 3, 0, 0), temperaturemin=31.1, temperaturemax=53.1, precipitation=0.0, snowfall=0.0, snowdepth=0.0, avgwindspeed=3.36, fastest2minwinddir=260, fastest2minwindspeed=10.07, fastest5secwinddir=260, fastest5secwindspeed=14.09, fog='No', fogheavy='No', mist='No', rain='No', fogground='No', ice='No', glaze='No', drizzle='No', snow='No', freezingrain='No', smokehaze='No', thunder='No', highwind='No', hail='No', blowingsnow='No', dust='No', freezingfog='No'),\n",
       " Row(date=datetime.datetime(2016, 1, 13, 0, 0), temperaturemin=27.1, temperaturemax=43.0, precipitation=0.0, snowfall=0.0, snowdepth=0.0, avgwindspeed=3.36, fastest2minwinddir=240, fastest2minwindspeed=12.08, fastest5secwinddir=230, fastest5secwindspeed=18.12, fog='No', fogheavy='No', mist='No', rain='No', fogground='No', ice='No', glaze='No', drizzle='No', snow='No', freezingrain='No', smokehaze='No', thunder='No', highwind='No', hail='No', blowingsnow='No', dust='No', freezingfog='No'),\n",
       " Row(date=datetime.datetime(2016, 1, 22, 0, 0), temperaturemin=25.2, temperaturemax=32.0, precipitation=0.95, snowfall=1.18, snowdepth=0.0, avgwindspeed=12.3, fastest2minwinddir=60, fastest2minwindspeed=25.05, fastest5secwinddir=40, fastest5secwindspeed=36.01, fog='Yes', fogheavy='No', mist='No', rain='No', fogground='No', ice='Yes', glaze='Yes', drizzle='No', snow='No', freezingrain='No', smokehaze='No', thunder='No', highwind='No', hail='No', blowingsnow='No', dust='No', freezingfog='No'),\n",
       " Row(date=datetime.datetime(2016, 1, 30, 0, 0), temperaturemin=26.2, temperaturemax=55.9, precipitation=0.0, snowfall=0.0, snowdepth=0.0, avgwindspeed=5.37, fastest2minwinddir=230, fastest2minwindspeed=14.99, fastest5secwinddir=200, fastest5secwindspeed=19.91, fog='No', fogheavy='No', mist='No', rain='No', fogground='No', ice='No', glaze='No', drizzle='No', snow='No', freezingrain='No', smokehaze='No', thunder='No', highwind='No', hail='No', blowingsnow='No', dust='No', freezingfog='No'),\n",
       " Row(date=datetime.datetime(2016, 2, 7, 0, 0), temperaturemin=37.0, temperaturemax=44.1, precipitation=0.0, snowfall=0.0, snowdepth=0.0, avgwindspeed=6.93, fastest2minwinddir=20, fastest2minwindspeed=14.99, fastest5secwinddir=20, fastest5secwindspeed=23.04, fog='No', fogheavy='No', mist='No', rain='No', fogground='No', ice='No', glaze='No', drizzle='No', snow='No', freezingrain='No', smokehaze='No', thunder='No', highwind='No', hail='No', blowingsnow='No', dust='No', freezingfog='No'),\n",
       " Row(date=datetime.datetime(2016, 2, 19, 0, 0), temperaturemin=26.2, temperaturemax=53.1, precipitation=0.0, snowfall=0.0, snowdepth=0.0, avgwindspeed=6.49, fastest2minwinddir=210, fastest2minwindspeed=16.11, fastest5secwinddir=190, fastest5secwindspeed=21.92, fog='No', fogheavy='No', mist='No', rain='No', fogground='No', ice='No', glaze='No', drizzle='No', snow='No', freezingrain='No', smokehaze='No', thunder='No', highwind='No', hail='No', blowingsnow='No', dust='No', freezingfog='No'),\n",
       " Row(date=datetime.datetime(2016, 2, 25, 0, 0), temperaturemin=39.9, temperaturemax=55.0, precipitation=0.0, snowfall=0.0, snowdepth=0.0, avgwindspeed=14.09, fastest2minwinddir=240, fastest2minwindspeed=29.97, fastest5secwinddir=250, fastest5secwindspeed=38.92, fog='No', fogheavy='No', mist='No', rain='No', fogground='No', ice='No', glaze='No', drizzle='No', snow='No', freezingrain='No', smokehaze='No', thunder='No', highwind='No', hail='No', blowingsnow='No', dust='No', freezingfog='No'),\n",
       " Row(date=datetime.datetime(2016, 3, 16, 0, 0), temperaturemin=57.0, temperaturemax=86.0, precipitation=0.0, snowfall=0.0, snowdepth=0.0, avgwindspeed=5.37, fastest2minwinddir=260, fastest2minwindspeed=17.0, fastest5secwinddir=230, fastest5secwindspeed=23.94, fog='No', fogheavy='No', mist='No', rain='No', fogground='No', ice='No', glaze='No', drizzle='No', snow='No', freezingrain='No', smokehaze='No', thunder='No', highwind='No', hail='No', blowingsnow='No', dust='No', freezingfog='No'),\n",
       " Row(date=datetime.datetime(2016, 3, 23, 0, 0), temperaturemin=48.0, temperaturemax=77.0, precipitation=0.0, snowfall=0.0, snowdepth=0.0, avgwindspeed=15.43, fastest2minwinddir=240, fastest2minwindspeed=23.94, fastest5secwinddir=230, fastest5secwindspeed=31.99, fog='No', fogheavy='No', mist='No', rain='No', fogground='No', ice='No', glaze='No', drizzle='No', snow='No', freezingrain='No', smokehaze='No', thunder='No', highwind='No', hail='No', blowingsnow='No', dust='No', freezingfog='No'),\n",
       " Row(date=datetime.datetime(2016, 4, 4, 0, 0), temperaturemin=46.0, temperaturemax=75.9, precipitation=0.0, snowfall=0.0, snowdepth=0.0, avgwindspeed=12.08, fastest2minwinddir=230, fastest2minwindspeed=25.05, fastest5secwinddir=240, fastest5secwindspeed=31.99, fog='No', fogheavy='No', mist='No', rain='No', fogground='No', ice='No', glaze='No', drizzle='No', snow='No', freezingrain='No', smokehaze='No', thunder='No', highwind='No', hail='No', blowingsnow='No', dust='No', freezingfog='No'),\n",
       " Row(date=datetime.datetime(2016, 4, 13, 0, 0), temperaturemin=45.0, temperaturemax=64.0, precipitation=0.0, snowfall=0.0, snowdepth=0.0, avgwindspeed=9.17, fastest2minwinddir=50, fastest2minwindspeed=19.91, fastest5secwinddir=50, fastest5secwindspeed=23.04, fog='No', fogheavy='No', mist='No', rain='No', fogground='No', ice='No', glaze='No', drizzle='No', snow='No', freezingrain='No', smokehaze='No', thunder='No', highwind='No', hail='No', blowingsnow='No', dust='No', freezingfog='No'),\n",
       " Row(date=datetime.datetime(2016, 4, 20, 0, 0), temperaturemin=57.0, temperaturemax=75.0, precipitation=0.0, snowfall=0.0, snowdepth=0.0, avgwindspeed=9.4, fastest2minwinddir=80, fastest2minwindspeed=19.91, fastest5secwinddir=80, fastest5secwindspeed=25.95, fog='No', fogheavy='No', mist='No', rain='No', fogground='No', ice='No', glaze='No', drizzle='No', snow='No', freezingrain='No', smokehaze='No', thunder='No', highwind='No', hail='No', blowingsnow='No', dust='No', freezingfog='No'),\n",
       " Row(date=datetime.datetime(2016, 5, 9, 0, 0), temperaturemin=57.9, temperaturemax=81.0, precipitation=0.12, snowfall=0.0, snowdepth=0.0, avgwindspeed=1.34, fastest2minwinddir=240, fastest2minwindspeed=6.93, fastest5secwinddir=240, fastest5secwindspeed=10.07, fog='Yes', fogheavy='No', mist='No', rain='No', fogground='No', ice='No', glaze='No', drizzle='No', snow='No', freezingrain='No', smokehaze='No', thunder='Yes', highwind='No', hail='No', blowingsnow='No', dust='No', freezingfog='No'),\n",
       " Row(date=datetime.datetime(2015, 4, 3, 0, 0), temperaturemin=61.0, temperaturemax=82.9, precipitation=0.0, snowfall=0.0, snowdepth=0.0, avgwindspeed=16.33, fastest2minwinddir=230, fastest2minwindspeed=29.97, fastest5secwinddir=230, fastest5secwindspeed=36.91, fog='No', fogheavy='No', mist='No', rain='No', fogground='No', ice='No', glaze='No', drizzle='No', snow='No', freezingrain='No', smokehaze='No', thunder='No', highwind='No', hail='No', blowingsnow='No', dust='No', freezingfog='No'),\n",
       " Row(date=datetime.datetime(2015, 4, 17, 0, 0), temperaturemin=55.9, temperaturemax=78.1, precipitation=0.0, snowfall=0.0, snowdepth=0.0, avgwindspeed=2.01, fastest2minwinddir=230, fastest2minwindspeed=8.05, fastest5secwinddir=250, fastest5secwindspeed=12.97, fog='Yes', fogheavy='No', mist='No', rain='No', fogground='No', ice='No', glaze='No', drizzle='No', snow='No', freezingrain='No', smokehaze='Yes', thunder='No', highwind='No', hail='No', blowingsnow='No', dust='No', freezingfog='No'),\n",
       " Row(date=datetime.datetime(2015, 4, 19, 0, 0), temperaturemin=63.0, temperaturemax=73.0, precipitation=0.76, snowfall=0.0, snowdepth=0.0, avgwindspeed=8.5, fastest2minwinddir=120, fastest2minwindspeed=19.91, fastest5secwinddir=100, fastest5secwindspeed=27.96, fog='Yes', fogheavy='No', mist='No', rain='No', fogground='No', ice='No', glaze='No', drizzle='No', snow='No', freezingrain='No', smokehaze='No', thunder='No', highwind='No', hail='No', blowingsnow='No', dust='No', freezingfog='No'),\n",
       " Row(date=datetime.datetime(2015, 4, 29, 0, 0), temperaturemin=43.0, temperaturemax=70.0, precipitation=0.0, snowfall=0.0, snowdepth=0.0, avgwindspeed=2.01, fastest2minwinddir=220, fastest2minwindspeed=10.07, fastest5secwinddir=220, fastest5secwindspeed=12.97, fog='Yes', fogheavy='No', mist='No', rain='No', fogground='No', ice='No', glaze='No', drizzle='No', snow='No', freezingrain='No', smokehaze='No', thunder='No', highwind='No', hail='No', blowingsnow='No', dust='No', freezingfog='No'),\n",
       " Row(date=datetime.datetime(2015, 5, 20, 0, 0), temperaturemin=62.1, temperaturemax=88.0, precipitation=0.0, snowfall=0.0, snowdepth=0.0, avgwindspeed=4.03, fastest2minwinddir=120, fastest2minwindspeed=14.09, fastest5secwinddir=120, fastest5secwindspeed=21.03, fog='Yes', fogheavy='No', mist='No', rain='No', fogground='No', ice='No', glaze='No', drizzle='No', snow='No', freezingrain='No', smokehaze='No', thunder='No', highwind='No', hail='No', blowingsnow='No', dust='No', freezingfog='No'),\n",
       " Row(date=datetime.datetime(2015, 5, 30, 0, 0), temperaturemin=66.0, temperaturemax=88.0, precipitation=0.0, snowfall=0.0, snowdepth=0.0, avgwindspeed=4.25, fastest2minwinddir=200, fastest2minwindspeed=12.97, fastest5secwinddir=190, fastest5secwindspeed=16.11, fog='No', fogheavy='No', mist='No', rain='No', fogground='No', ice='No', glaze='No', drizzle='No', snow='No', freezingrain='No', smokehaze='No', thunder='No', highwind='No', hail='No', blowingsnow='No', dust='No', freezingfog='No'),\n",
       " Row(date=datetime.datetime(2015, 6, 1, 0, 0), temperaturemin=68.0, temperaturemax=90.0, precipitation=0.08, snowfall=0.0, snowdepth=0.0, avgwindspeed=6.93, fastest2minwinddir=220, fastest2minwindspeed=25.95, fastest5secwinddir=220, fastest5secwindspeed=35.12, fog='Yes', fogheavy='No', mist='No', rain='No', fogground='No', ice='No', glaze='No', drizzle='No', snow='No', freezingrain='No', smokehaze='No', thunder='Yes', highwind='No', hail='No', blowingsnow='No', dust='No', freezingfog='No'),\n",
       " Row(date=datetime.datetime(2015, 6, 15, 0, 0), temperaturemin=72.0, temperaturemax=99.0, precipitation=0.0, snowfall=0.0, snowdepth=0.0, avgwindspeed=3.13, fastest2minwinddir=250, fastest2minwindspeed=10.07, fastest5secwinddir=30, fastest5secwindspeed=16.11, fog='Yes', fogheavy='No', mist='No', rain='No', fogground='No', ice='No', glaze='No', drizzle='No', snow='No', freezingrain='No', smokehaze='No', thunder='No', highwind='No', hail='No', blowingsnow='No', dust='No', freezingfog='No'),\n",
       " Row(date=datetime.datetime(2015, 6, 28, 0, 0), temperaturemin=64.0, temperaturemax=84.0, precipitation=0.0, snowfall=0.0, snowdepth=0.0, avgwindspeed=5.82, fastest2minwinddir=230, fastest2minwindspeed=16.11, fastest5secwinddir=240, fastest5secwindspeed=23.94, fog='No', fogheavy='No', mist='No', rain='No', fogground='No', ice='No', glaze='No', drizzle='No', snow='No', freezingrain='No', smokehaze='No', thunder='No', highwind='No', hail='No', blowingsnow='No', dust='No', freezingfog='No'),\n",
       " Row(date=datetime.datetime(2015, 7, 5, 0, 0), temperaturemin=69.1, temperaturemax=90.0, precipitation=0.79, snowfall=0.0, snowdepth=0.0, avgwindspeed=6.04, fastest2minwinddir=240, fastest2minwindspeed=29.08, fastest5secwinddir=230, fastest5secwindspeed=44.96, fog='Yes', fogheavy='No', mist='No', rain='No', fogground='No', ice='No', glaze='No', drizzle='No', snow='No', freezingrain='No', smokehaze='No', thunder='Yes', highwind='No', hail='No', blowingsnow='No', dust='No', freezingfog='No'),\n",
       " Row(date=datetime.datetime(2015, 7, 10, 0, 0), temperaturemin=73.0, temperaturemax=93.9, precipitation=0.0, snowfall=0.0, snowdepth=0.0, avgwindspeed=4.92, fastest2minwinddir=250, fastest2minwindspeed=12.97, fastest5secwinddir=250, fastest5secwindspeed=17.0, fog='No', fogheavy='No', mist='No', rain='No', fogground='No', ice='No', glaze='No', drizzle='No', snow='No', freezingrain='No', smokehaze='No', thunder='No', highwind='No', hail='No', blowingsnow='No', dust='No', freezingfog='No'),\n",
       " Row(date=datetime.datetime(2015, 7, 22, 0, 0), temperaturemin=71.1, temperaturemax=88.0, precipitation=0.0, snowfall=0.0, snowdepth=0.0, avgwindspeed=2.24, fastest2minwinddir=90, fastest2minwindspeed=8.95, fastest5secwinddir=120, fastest5secwindspeed=14.09, fog='No', fogheavy='No', mist='No', rain='No', fogground='No', ice='No', glaze='No', drizzle='No', snow='No', freezingrain='No', smokehaze='No', thunder='No', highwind='No', hail='No', blowingsnow='No', dust='No', freezingfog='No'),\n",
       " Row(date=datetime.datetime(2015, 8, 4, 0, 0), temperaturemin=73.0, temperaturemax=95.0, precipitation=0.0, snowfall=0.0, snowdepth=0.0, avgwindspeed=5.37, fastest2minwinddir=220, fastest2minwindspeed=12.97, fastest5secwinddir=240, fastest5secwindspeed=17.0, fog='No', fogheavy='No', mist='No', rain='No', fogground='No', ice='No', glaze='No', drizzle='No', snow='No', freezingrain='No', smokehaze='No', thunder='No', highwind='No', hail='No', blowingsnow='No', dust='No', freezingfog='No'),\n",
       " Row(date=datetime.datetime(2015, 8, 8, 0, 0), temperaturemin=66.0, temperaturemax=84.9, precipitation=0.0, snowfall=0.0, snowdepth=0.0, avgwindspeed=7.38, fastest2minwinddir=40, fastest2minwindspeed=17.0, fastest5secwinddir=50, fastest5secwindspeed=21.92, fog='Yes', fogheavy='No', mist='No', rain='No', fogground='No', ice='No', glaze='No', drizzle='No', snow='No', freezingrain='No', smokehaze='No', thunder='No', highwind='No', hail='No', blowingsnow='No', dust='No', freezingfog='No'),\n",
       " Row(date=datetime.datetime(2015, 8, 11, 0, 0), temperaturemin=69.1, temperaturemax=87.1, precipitation=0.29, snowfall=0.0, snowdepth=0.0, avgwindspeed=7.38, fastest2minwinddir=310, fastest2minwindspeed=21.03, fastest5secwinddir=330, fastest5secwindspeed=31.99, fog='Yes', fogheavy='No', mist='No', rain='No', fogground='No', ice='No', glaze='No', drizzle='No', snow='No', freezingrain='No', smokehaze='No', thunder='Yes', highwind='No', hail='No', blowingsnow='No', dust='No', freezingfog='No'),\n",
       " Row(date=datetime.datetime(2015, 8, 28, 0, 0), temperaturemin=60.1, temperaturemax=87.1, precipitation=0.0, snowfall=0.0, snowdepth=0.0, avgwindspeed=4.25, fastest2minwinddir=80, fastest2minwindspeed=12.97, fastest5secwinddir=100, fastest5secwindspeed=23.04, fog='Yes', fogheavy='No', mist='No', rain='No', fogground='No', ice='No', glaze='No', drizzle='No', snow='No', freezingrain='No', smokehaze='No', thunder='No', highwind='No', hail='No', blowingsnow='No', dust='No', freezingfog='No'),\n",
       " Row(date=datetime.datetime(2015, 9, 6, 0, 0), temperaturemin=66.0, temperaturemax=81.0, precipitation=0.0, snowfall=0.0, snowdepth=0.0, avgwindspeed=6.04, fastest2minwinddir=40, fastest2minwindspeed=14.09, fastest5secwinddir=80, fastest5secwindspeed=17.0, fog='No', fogheavy='No', mist='No', rain='No', fogground='No', ice='No', glaze='No', drizzle='No', snow='No', freezingrain='No', smokehaze='No', thunder='No', highwind='No', hail='No', blowingsnow='No', dust='No', freezingfog='No'),\n",
       " Row(date=datetime.datetime(2015, 9, 11, 0, 0), temperaturemin=70.0, temperaturemax=84.0, precipitation=0.0, snowfall=0.0, snowdepth=0.0, avgwindspeed=2.24, fastest2minwinddir=40, fastest2minwindspeed=8.95, fastest5secwinddir=150, fastest5secwindspeed=14.09, fog='Yes', fogheavy='No', mist='No', rain='No', fogground='No', ice='No', glaze='No', drizzle='No', snow='No', freezingrain='No', smokehaze='No', thunder='No', highwind='No', hail='No', blowingsnow='No', dust='No', freezingfog='No'),\n",
       " Row(date=datetime.datetime(2015, 9, 25, 0, 0), temperaturemin=64.0, temperaturemax=70.0, precipitation=1.42, snowfall=0.0, snowdepth=0.0, avgwindspeed=11.41, fastest2minwinddir=70, fastest2minwindspeed=19.91, fastest5secwinddir=80, fastest5secwindspeed=29.08, fog='Yes', fogheavy='No', mist='No', rain='No', fogground='No', ice='No', glaze='No', drizzle='No', snow='No', freezingrain='No', smokehaze='No', thunder='No', highwind='No', hail='No', blowingsnow='No', dust='No', freezingfog='No'),\n",
       " Row(date=datetime.datetime(2015, 10, 4, 0, 0), temperaturemin=57.9, temperaturemax=69.1, precipitation=0.13, snowfall=0.0, snowdepth=0.0, avgwindspeed=17.67, fastest2minwinddir=50, fastest2minwindspeed=25.95, fastest5secwinddir=50, fastest5secwindspeed=36.91, fog='Yes', fogheavy='No', mist='No', rain='No', fogground='No', ice='No', glaze='No', drizzle='No', snow='No', freezingrain='No', smokehaze='Yes', thunder='No', highwind='No', hail='No', blowingsnow='No', dust='No', freezingfog='No'),\n",
       " Row(date=datetime.datetime(2015, 10, 20, 0, 0), temperaturemin=34.0, temperaturemax=70.0, precipitation=0.0, snowfall=0.0, snowdepth=0.0, avgwindspeed=2.91, fastest2minwinddir=250, fastest2minwindspeed=10.07, fastest5secwinddir=240, fastest5secwindspeed=16.11, fog='Yes', fogheavy='No', mist='No', rain='No', fogground='No', ice='No', glaze='No', drizzle='No', snow='No', freezingrain='No', smokehaze='No', thunder='No', highwind='No', hail='No', blowingsnow='No', dust='No', freezingfog='No'),\n",
       " Row(date=datetime.datetime(2015, 10, 22, 0, 0), temperaturemin=41.0, temperaturemax=79.0, precipitation=0.0, snowfall=0.0, snowdepth=0.0, avgwindspeed=2.01, fastest2minwinddir=230, fastest2minwindspeed=12.08, fastest5secwinddir=240, fastest5secwindspeed=16.11, fog='No', fogheavy='No', mist='No', rain='No', fogground='No', ice='No', glaze='No', drizzle='No', snow='No', freezingrain='No', smokehaze='No', thunder='No', highwind='No', hail='No', blowingsnow='No', dust='No', freezingfog='No'),\n",
       " Row(date=datetime.datetime(2015, 11, 9, 0, 0), temperaturemin=46.9, temperaturemax=55.0, precipitation=1.45, snowfall=0.0, snowdepth=0.0, avgwindspeed=8.05, fastest2minwinddir=40, fastest2minwindspeed=16.11, fastest5secwinddir=30, fastest5secwindspeed=21.03, fog='Yes', fogheavy='No', mist='No', rain='No', fogground='No', ice='No', glaze='No', drizzle='No', snow='No', freezingrain='No', smokehaze='No', thunder='No', highwind='No', hail='No', blowingsnow='No', dust='No', freezingfog='No'),\n",
       " ...]"
      ]
     },
     "execution_count": 10,
     "metadata": {},
     "output_type": "execute_result"
    }
   ],
   "source": [
    "csv_df.collect()"
   ]
  },
  {
   "cell_type": "code",
   "execution_count": 11,
   "metadata": {},
   "outputs": [
    {
     "name": "stdout",
     "output_type": "stream",
     "text": [
      "+-------------------+--------------+--------------+-------------+--------+---------+------------+\n",
      "|               date|temperaturemin|temperaturemax|precipitation|snowfall|snowdepth|avgwindspeed|\n",
      "+-------------------+--------------+--------------+-------------+--------+---------+------------+\n",
      "|2007-01-06 00:00:00|          50.0|          71.1|         0.13|     0.0|      0.0|        8.05|\n",
      "|2007-01-09 00:00:00|          30.0|          55.0|          0.0|     0.0|      0.0|        7.61|\n",
      "|2007-01-14 00:00:00|          50.0|          73.9|          0.0|     0.0|      0.0|         8.5|\n",
      "|2007-01-15 00:00:00|          57.0|          73.9|          0.0|     0.0|      0.0|        13.2|\n",
      "|2007-01-20 00:00:00|          26.1|          48.0|          0.0|     0.0|      0.0|        4.92|\n",
      "+-------------------+--------------+--------------+-------------+--------+---------+------------+\n",
      "only showing top 5 rows\n",
      "\n"
     ]
    }
   ],
   "source": [
    "csv_df.select(['date','temperaturemin','temperaturemax','precipitation','snowfall','snowdepth','avgwindspeed']).show(5)"
   ]
  },
  {
   "cell_type": "code",
   "execution_count": 12,
   "metadata": {},
   "outputs": [
    {
     "data": {
      "text/plain": [
       "[Row(date=datetime.datetime(2007, 1, 6, 0, 0), temperaturemin=50.0, temperaturemax=71.1, precipitation=0.13, snowfall=0.0, snowdepth=0.0, avgwindspeed=8.05),\n",
       " Row(date=datetime.datetime(2007, 1, 9, 0, 0), temperaturemin=30.0, temperaturemax=55.0, precipitation=0.0, snowfall=0.0, snowdepth=0.0, avgwindspeed=7.61),\n",
       " Row(date=datetime.datetime(2007, 1, 14, 0, 0), temperaturemin=50.0, temperaturemax=73.9, precipitation=0.0, snowfall=0.0, snowdepth=0.0, avgwindspeed=8.5),\n",
       " Row(date=datetime.datetime(2007, 1, 15, 0, 0), temperaturemin=57.0, temperaturemax=73.9, precipitation=0.0, snowfall=0.0, snowdepth=0.0, avgwindspeed=13.2),\n",
       " Row(date=datetime.datetime(2007, 1, 20, 0, 0), temperaturemin=26.1, temperaturemax=48.0, precipitation=0.0, snowfall=0.0, snowdepth=0.0, avgwindspeed=4.92),\n",
       " Row(date=datetime.datetime(2007, 1, 22, 0, 0), temperaturemin=33.1, temperaturemax=41.0, precipitation=0.08, snowfall=0.0, snowdepth=0.0, avgwindspeed=2.01),\n",
       " Row(date=datetime.datetime(2007, 1, 24, 0, 0), temperaturemin=30.0, temperaturemax=48.9, precipitation=0.0, snowfall=0.0, snowdepth=0.0, avgwindspeed=2.91),\n",
       " Row(date=datetime.datetime(2007, 1, 27, 0, 0), temperaturemin=32.0, temperaturemax=64.0, precipitation=0.0, snowfall=0.0, snowdepth=0.0, avgwindspeed=11.41),\n",
       " Row(date=datetime.datetime(2007, 1, 30, 0, 0), temperaturemin=24.1, temperaturemax=48.9, precipitation=0.0, snowfall=0.0, snowdepth=0.0, avgwindspeed=5.82),\n",
       " Row(date=datetime.datetime(2007, 2, 8, 0, 0), temperaturemin=27.0, temperaturemax=48.0, precipitation=0.0, snowfall=0.0, snowdepth=0.0, avgwindspeed=3.13),\n",
       " Row(date=datetime.datetime(2007, 2, 12, 0, 0), temperaturemin=26.1, temperaturemax=64.0, precipitation=0.0, snowfall=0.0, snowdepth=0.0, avgwindspeed=4.03),\n",
       " Row(date=datetime.datetime(2007, 2, 13, 0, 0), temperaturemin=37.9, temperaturemax=50.0, precipitation=0.59, snowfall=0.0, snowdepth=0.0, avgwindspeed=6.71),\n",
       " Row(date=datetime.datetime(2007, 2, 17, 0, 0), temperaturemin=19.0, temperaturemax=48.0, precipitation=0.0, snowfall=0.0, snowdepth=0.0, avgwindspeed=7.61),\n",
       " Row(date=datetime.datetime(2007, 2, 21, 0, 0), temperaturemin=50.0, temperaturemax=73.0, precipitation=0.01, snowfall=0.0, snowdepth=0.0, avgwindspeed=7.16),\n",
       " Row(date=datetime.datetime(2007, 2, 23, 0, 0), temperaturemin=37.0, temperaturemax=55.0, precipitation=0.0, snowfall=0.0, snowdepth=0.0, avgwindspeed=7.61),\n",
       " Row(date=datetime.datetime(2007, 2, 28, 0, 0), temperaturemin=37.9, temperaturemax=61.0, precipitation=0.0, snowfall=0.0, snowdepth=0.0, avgwindspeed=4.92),\n",
       " Row(date=datetime.datetime(2007, 3, 1, 0, 0), temperaturemin=41.0, temperaturemax=66.9, precipitation=0.2, snowfall=0.0, snowdepth=0.0, avgwindspeed=10.29),\n",
       " Row(date=datetime.datetime(2007, 3, 11, 0, 0), temperaturemin=39.9, temperaturemax=70.0, precipitation=0.0, snowfall=0.0, snowdepth=0.0, avgwindspeed=5.14),\n",
       " Row(date=datetime.datetime(2007, 3, 15, 0, 0), temperaturemin=57.0, temperaturemax=81.0, precipitation=0.0, snowfall=0.0, snowdepth=0.0, avgwindspeed=9.4),\n",
       " Row(date=datetime.datetime(2007, 3, 17, 0, 0), temperaturemin=33.1, temperaturemax=48.9, precipitation=0.0, snowfall=0.0, snowdepth=0.0, avgwindspeed=7.38),\n",
       " Row(date=datetime.datetime(2007, 3, 21, 0, 0), temperaturemin=50.0, temperaturemax=63.0, precipitation=0.0, snowfall=0.0, snowdepth=0.0, avgwindspeed=9.17),\n",
       " Row(date=datetime.datetime(2007, 3, 23, 0, 0), temperaturemin=53.1, temperaturemax=82.9, precipitation=0.0, snowfall=0.0, snowdepth=0.0, avgwindspeed=7.83),\n",
       " Row(date=datetime.datetime(2007, 3, 26, 0, 0), temperaturemin=44.1, temperaturemax=73.9, precipitation=0.0, snowfall=0.0, snowdepth=0.0, avgwindspeed=6.04),\n",
       " Row(date=datetime.datetime(2007, 4, 3, 0, 0), temperaturemin=53.1, temperaturemax=86.0, precipitation=0.0, snowfall=0.0, snowdepth=0.0, avgwindspeed=4.03),\n",
       " Row(date=datetime.datetime(2007, 4, 5, 0, 0), temperaturemin=41.0, temperaturemax=57.9, precipitation=0.0, snowfall=0.0, snowdepth=0.0, avgwindspeed=3.58),\n",
       " Row(date=datetime.datetime(2007, 4, 8, 0, 0), temperaturemin=27.0, temperaturemax=55.9, precipitation=0.0, snowfall=0.0, snowdepth=0.0, avgwindspeed=2.91),\n",
       " Row(date=datetime.datetime(2007, 4, 11, 0, 0), temperaturemin=46.0, temperaturemax=59.0, precipitation=0.73, snowfall=0.0, snowdepth=0.0, avgwindspeed=6.49),\n",
       " Row(date=datetime.datetime(2007, 4, 15, 0, 0), temperaturemin=42.1, temperaturemax=77.0, precipitation=1.76, snowfall=0.0, snowdepth=0.0, avgwindspeed=12.75),\n",
       " Row(date=datetime.datetime(2007, 4, 17, 0, 0), temperaturemin=46.9, temperaturemax=72.0, precipitation=0.0, snowfall=0.0, snowdepth=0.0, avgwindspeed=7.61),\n",
       " Row(date=datetime.datetime(2007, 4, 18, 0, 0), temperaturemin=42.1, temperaturemax=66.9, precipitation=0.0, snowfall=0.0, snowdepth=0.0, avgwindspeed=6.04),\n",
       " Row(date=datetime.datetime(2007, 4, 19, 0, 0), temperaturemin=44.1, temperaturemax=57.9, precipitation=0.04, snowfall=0.0, snowdepth=0.0, avgwindspeed=4.47),\n",
       " Row(date=datetime.datetime(2007, 4, 21, 0, 0), temperaturemin=39.9, temperaturemax=77.0, precipitation=0.0, snowfall=0.0, snowdepth=0.0, avgwindspeed=2.24),\n",
       " Row(date=datetime.datetime(2007, 4, 25, 0, 0), temperaturemin=61.0, temperaturemax=87.1, precipitation=0.0, snowfall=0.0, snowdepth=0.0, avgwindspeed=10.29),\n",
       " Row(date=datetime.datetime(2007, 4, 29, 0, 0), temperaturemin=53.1, temperaturemax=80.1, precipitation=0.0, snowfall=0.0, snowdepth=0.0, avgwindspeed=6.49),\n",
       " Row(date=datetime.datetime(2007, 5, 10, 0, 0), temperaturemin=63.0, temperaturemax=82.9, precipitation=0.0, snowfall=0.0, snowdepth=0.0, avgwindspeed=2.91),\n",
       " Row(date=datetime.datetime(2007, 5, 19, 0, 0), temperaturemin=43.0, temperaturemax=73.0, precipitation=0.0, snowfall=0.0, snowdepth=0.0, avgwindspeed=3.58),\n",
       " Row(date=datetime.datetime(2007, 5, 21, 0, 0), temperaturemin=54.0, temperaturemax=88.0, precipitation=0.0, snowfall=0.0, snowdepth=0.0, avgwindspeed=3.36),\n",
       " Row(date=datetime.datetime(2007, 6, 2, 0, 0), temperaturemin=66.0, temperaturemax=82.9, precipitation=0.13, snowfall=0.0, snowdepth=0.0, avgwindspeed=7.38),\n",
       " Row(date=datetime.datetime(2007, 6, 8, 0, 0), temperaturemin=73.0, temperaturemax=96.1, precipitation=0.0, snowfall=0.0, snowdepth=0.0, avgwindspeed=8.05),\n",
       " Row(date=datetime.datetime(2007, 6, 10, 0, 0), temperaturemin=69.1, temperaturemax=87.1, precipitation=0.0, snowfall=0.0, snowdepth=0.0, avgwindspeed=6.49),\n",
       " Row(date=datetime.datetime(2007, 6, 18, 0, 0), temperaturemin=63.0, temperaturemax=96.1, precipitation=0.0, snowfall=0.0, snowdepth=0.0, avgwindspeed=3.13),\n",
       " Row(date=datetime.datetime(2007, 7, 11, 0, 0), temperaturemin=70.0, temperaturemax=95.0, precipitation=0.82, snowfall=0.0, snowdepth=0.0, avgwindspeed=10.07),\n",
       " Row(date=datetime.datetime(2007, 7, 13, 0, 0), temperaturemin=64.0, temperaturemax=81.0, precipitation=0.0, snowfall=0.0, snowdepth=0.0, avgwindspeed=2.91),\n",
       " Row(date=datetime.datetime(2007, 7, 16, 0, 0), temperaturemin=70.0, temperaturemax=91.9, precipitation=0.0, snowfall=0.0, snowdepth=0.0, avgwindspeed=8.05),\n",
       " Row(date=datetime.datetime(2007, 7, 18, 0, 0), temperaturemin=71.1, temperaturemax=91.0, precipitation=0.08, snowfall=0.0, snowdepth=0.0, avgwindspeed=5.82),\n",
       " Row(date=datetime.datetime(2007, 7, 19, 0, 0), temperaturemin=71.1, temperaturemax=93.9, precipitation=0.0, snowfall=0.0, snowdepth=0.0, avgwindspeed=7.38),\n",
       " Row(date=datetime.datetime(2007, 7, 21, 0, 0), temperaturemin=62.1, temperaturemax=84.0, precipitation=0.0, snowfall=0.0, snowdepth=0.0, avgwindspeed=6.71),\n",
       " Row(date=datetime.datetime(2007, 7, 29, 0, 0), temperaturemin=66.9, temperaturemax=89.1, precipitation=0.0, snowfall=0.0, snowdepth=0.0, avgwindspeed=4.25),\n",
       " Row(date=datetime.datetime(2007, 7, 31, 0, 0), temperaturemin=70.0, temperaturemax=89.1, precipitation=0.0, snowfall=0.0, snowdepth=0.0, avgwindspeed=6.26),\n",
       " Row(date=datetime.datetime(2007, 8, 1, 0, 0), temperaturemin=69.1, temperaturemax=91.9, precipitation=0.0, snowfall=0.0, snowdepth=0.0, avgwindspeed=4.47),\n",
       " Row(date=datetime.datetime(2007, 8, 8, 0, 0), temperaturemin=75.9, temperaturemax=102.0, precipitation=0.17, snowfall=0.0, snowdepth=0.0, avgwindspeed=4.47),\n",
       " Row(date=datetime.datetime(2007, 8, 17, 0, 0), temperaturemin=73.9, temperaturemax=97.0, precipitation=0.01, snowfall=0.0, snowdepth=0.0, avgwindspeed=6.71),\n",
       " Row(date=datetime.datetime(2007, 8, 19, 0, 0), temperaturemin=70.0, temperaturemax=97.0, precipitation=0.0, snowfall=0.0, snowdepth=0.0, avgwindspeed=9.84),\n",
       " Row(date=datetime.datetime(2007, 8, 25, 0, 0), temperaturemin=75.0, temperaturemax=99.0, precipitation=0.0, snowfall=0.0, snowdepth=0.0, avgwindspeed=8.95),\n",
       " Row(date=datetime.datetime(2007, 9, 10, 0, 0), temperaturemin=66.9, temperaturemax=100.9, precipitation=0.0, snowfall=0.0, snowdepth=0.0, avgwindspeed=7.16),\n",
       " Row(date=datetime.datetime(2007, 9, 28, 0, 0), temperaturemin=64.0, temperaturemax=84.9, precipitation=0.0, snowfall=0.0, snowdepth=0.0, avgwindspeed=6.49),\n",
       " Row(date=datetime.datetime(2007, 9, 29, 0, 0), temperaturemin=50.0, temperaturemax=79.0, precipitation=0.0, snowfall=0.0, snowdepth=0.0, avgwindspeed=6.71),\n",
       " Row(date=datetime.datetime(2007, 9, 30, 0, 0), temperaturemin=48.0, temperaturemax=80.1, precipitation=0.0, snowfall=0.0, snowdepth=0.0, avgwindspeed=6.71),\n",
       " Row(date=datetime.datetime(2007, 10, 1, 0, 0), temperaturemin=53.1, temperaturemax=82.0, precipitation=0.0, snowfall=0.0, snowdepth=0.0, avgwindspeed=6.71),\n",
       " Row(date=datetime.datetime(2007, 10, 3, 0, 0), temperaturemin=63.0, temperaturemax=84.9, precipitation=0.0, snowfall=0.0, snowdepth=0.0, avgwindspeed=3.36),\n",
       " Row(date=datetime.datetime(2007, 10, 7, 0, 0), temperaturemin=64.0, temperaturemax=90.0, precipitation=0.0, snowfall=0.0, snowdepth=0.0, avgwindspeed=1.79),\n",
       " Row(date=datetime.datetime(2007, 10, 8, 0, 0), temperaturemin=64.9, temperaturemax=93.0, precipitation=0.0, snowfall=0.0, snowdepth=0.0, avgwindspeed=1.79),\n",
       " Row(date=datetime.datetime(2007, 10, 11, 0, 0), temperaturemin=51.1, temperaturemax=69.1, precipitation=0.0, snowfall=0.0, snowdepth=0.0, avgwindspeed=7.61),\n",
       " Row(date=datetime.datetime(2007, 10, 24, 0, 0), temperaturemin=70.0, temperaturemax=78.1, precipitation=1.72, snowfall=0.0, snowdepth=0.0, avgwindspeed=6.93),\n",
       " Row(date=datetime.datetime(2007, 10, 29, 0, 0), temperaturemin=37.0, temperaturemax=61.0, precipitation=0.0, snowfall=0.0, snowdepth=0.0, avgwindspeed=4.47),\n",
       " Row(date=datetime.datetime(2007, 10, 30, 0, 0), temperaturemin=33.1, temperaturemax=66.9, precipitation=0.0, snowfall=0.0, snowdepth=0.0, avgwindspeed=1.12),\n",
       " Row(date=datetime.datetime(2007, 11, 1, 0, 0), temperaturemin=53.1, temperaturemax=78.1, precipitation=0.0, snowfall=0.0, snowdepth=0.0, avgwindspeed=4.47),\n",
       " Row(date=datetime.datetime(2007, 11, 7, 0, 0), temperaturemin=30.0, temperaturemax=55.0, precipitation=0.0, snowfall=0.0, snowdepth=0.0, avgwindspeed=3.8),\n",
       " Row(date=datetime.datetime(2007, 11, 9, 0, 0), temperaturemin=34.0, temperaturemax=61.0, precipitation=0.0, snowfall=0.0, snowdepth=0.0, avgwindspeed=4.25),\n",
       " Row(date=datetime.datetime(2007, 11, 17, 0, 0), temperaturemin=28.0, temperaturemax=60.1, precipitation=0.0, snowfall=0.0, snowdepth=0.0, avgwindspeed=4.25),\n",
       " Row(date=datetime.datetime(2007, 11, 28, 0, 0), temperaturemin=32.0, temperaturemax=57.0, precipitation=0.0, snowfall=0.0, snowdepth=0.0, avgwindspeed=4.47),\n",
       " Row(date=datetime.datetime(2007, 11, 29, 0, 0), temperaturemin=36.0, temperaturemax=63.0, precipitation=0.0, snowfall=0.0, snowdepth=0.0, avgwindspeed=3.36),\n",
       " Row(date=datetime.datetime(2007, 11, 30, 0, 0), temperaturemin=32.0, temperaturemax=57.0, precipitation=0.0, snowfall=0.0, snowdepth=0.0, avgwindspeed=2.68),\n",
       " Row(date=datetime.datetime(2007, 12, 8, 0, 0), temperaturemin=39.9, temperaturemax=71.1, precipitation=0.0, snowfall=0.0, snowdepth=0.0, avgwindspeed=5.37),\n",
       " Row(date=datetime.datetime(2007, 12, 12, 0, 0), temperaturemin=55.9, temperaturemax=79.0, precipitation=0.0, snowfall=0.0, snowdepth=0.0, avgwindspeed=8.72),\n",
       " Row(date=datetime.datetime(2007, 12, 27, 0, 0), temperaturemin=36.0, temperaturemax=57.9, precipitation=0.0, snowfall=0.0, snowdepth=0.0, avgwindspeed=3.58),\n",
       " Row(date=datetime.datetime(2007, 12, 29, 0, 0), temperaturemin=55.0, temperaturemax=71.1, precipitation=0.13, snowfall=0.0, snowdepth=0.0, avgwindspeed=10.74),\n",
       " Row(date=datetime.datetime(2008, 1, 4, 0, 0), temperaturemin=17.1, temperaturemax=45.0, precipitation=0.0, snowfall=0.0, snowdepth=0.0, avgwindspeed=6.04),\n",
       " Row(date=datetime.datetime(2008, 1, 10, 0, 0), temperaturemin=46.9, temperaturemax=55.9, precipitation=0.15, snowfall=0.0, snowdepth=0.0, avgwindspeed=5.14),\n",
       " Row(date=datetime.datetime(2008, 1, 13, 0, 0), temperaturemin=39.0, temperaturemax=46.9, precipitation=0.0, snowfall=0.0, snowdepth=0.0, avgwindspeed=5.82),\n",
       " Row(date=datetime.datetime(2008, 1, 25, 0, 0), temperaturemin=21.0, temperaturemax=39.0, precipitation=0.0, snowfall=0.0, snowdepth=0.0, avgwindspeed=3.8),\n",
       " Row(date=datetime.datetime(2008, 1, 26, 0, 0), temperaturemin=28.9, temperaturemax=48.0, precipitation=0.0, snowfall=0.0, snowdepth=0.0, avgwindspeed=4.7),\n",
       " Row(date=datetime.datetime(2008, 1, 28, 0, 0), temperaturemin=24.1, temperaturemax=55.0, precipitation=0.0, snowfall=0.0, snowdepth=0.0, avgwindspeed=2.01),\n",
       " Row(date=datetime.datetime(2008, 2, 13, 0, 0), temperaturemin=34.0, temperaturemax=55.9, precipitation=0.92, snowfall=0.0, snowdepth=0.0, avgwindspeed=4.92),\n",
       " Row(date=datetime.datetime(2008, 2, 14, 0, 0), temperaturemin=28.0, temperaturemax=50.0, precipitation=0.01, snowfall=0.0, snowdepth=0.0, avgwindspeed=5.14),\n",
       " Row(date=datetime.datetime(2008, 2, 16, 0, 0), temperaturemin=41.0, temperaturemax=57.9, precipitation=0.0, snowfall=0.0, snowdepth=0.0, avgwindspeed=7.16),\n",
       " Row(date=datetime.datetime(2008, 2, 17, 0, 0), temperaturemin=37.0, temperaturemax=64.9, precipitation=0.0, snowfall=0.0, snowdepth=0.0, avgwindspeed=8.72),\n",
       " Row(date=datetime.datetime(2008, 2, 20, 0, 0), temperaturemin=30.9, temperaturemax=64.9, precipitation=0.0, snowfall=0.0, snowdepth=0.0, avgwindspeed=11.18),\n",
       " Row(date=datetime.datetime(2008, 2, 26, 0, 0), temperaturemin=46.9, temperaturemax=61.0, precipitation=0.47, snowfall=0.0, snowdepth=0.0, avgwindspeed=8.72),\n",
       " Row(date=datetime.datetime(2008, 2, 28, 0, 0), temperaturemin=21.9, temperaturemax=43.0, precipitation=0.0, snowfall=0.0, snowdepth=0.0, avgwindspeed=5.82),\n",
       " Row(date=datetime.datetime(2008, 3, 4, 0, 0), temperaturemin=57.9, temperaturemax=73.9, precipitation=2.0, snowfall=0.0, snowdepth=0.0, avgwindspeed=15.88),\n",
       " Row(date=datetime.datetime(2008, 3, 5, 0, 0), temperaturemin=44.1, temperaturemax=64.0, precipitation=0.0, snowfall=0.0, snowdepth=0.0, avgwindspeed=8.5),\n",
       " Row(date=datetime.datetime(2008, 3, 20, 0, 0), temperaturemin=41.0, temperaturemax=66.0, precipitation=0.0, snowfall=0.0, snowdepth=0.0, avgwindspeed=10.51),\n",
       " Row(date=datetime.datetime(2008, 3, 26, 0, 0), temperaturemin=41.0, temperaturemax=73.0, precipitation=0.0, snowfall=0.0, snowdepth=0.0, avgwindspeed=13.42),\n",
       " Row(date=datetime.datetime(2008, 3, 30, 0, 0), temperaturemin=41.0, temperaturemax=45.0, precipitation=0.36, snowfall=0.0, snowdepth=0.0, avgwindspeed=9.17),\n",
       " Row(date=datetime.datetime(2008, 3, 31, 0, 0), temperaturemin=44.1, temperaturemax=60.1, precipitation=0.98, snowfall=0.0, snowdepth=0.0, avgwindspeed=4.7),\n",
       " Row(date=datetime.datetime(2008, 4, 6, 0, 0), temperaturemin=48.9, temperaturemax=61.0, precipitation=0.16, snowfall=0.0, snowdepth=0.0, avgwindspeed=9.17),\n",
       " Row(date=datetime.datetime(2008, 4, 7, 0, 0), temperaturemin=46.0, temperaturemax=55.9, precipitation=0.0, snowfall=0.0, snowdepth=0.0, avgwindspeed=8.72),\n",
       " Row(date=datetime.datetime(2008, 4, 8, 0, 0), temperaturemin=46.9, temperaturemax=64.0, precipitation=0.0, snowfall=0.0, snowdepth=0.0, avgwindspeed=8.72),\n",
       " Row(date=datetime.datetime(2008, 4, 16, 0, 0), temperaturemin=32.0, temperaturemax=68.0, precipitation=0.0, snowfall=0.0, snowdepth=0.0, avgwindspeed=3.8),\n",
       " Row(date=datetime.datetime(2008, 4, 22, 0, 0), temperaturemin=55.9, temperaturemax=71.1, precipitation=0.23, snowfall=0.0, snowdepth=0.0, avgwindspeed=11.41),\n",
       " Row(date=datetime.datetime(2008, 4, 24, 0, 0), temperaturemin=51.1, temperaturemax=80.1, precipitation=0.0, snowfall=0.0, snowdepth=0.0, avgwindspeed=2.46),\n",
       " Row(date=datetime.datetime(2008, 4, 30, 0, 0), temperaturemin=37.9, temperaturemax=66.9, precipitation=0.0, snowfall=0.0, snowdepth=0.0, avgwindspeed=2.91),\n",
       " Row(date=datetime.datetime(2008, 5, 4, 0, 0), temperaturemin=60.1, temperaturemax=82.0, precipitation=0.0, snowfall=0.0, snowdepth=0.0, avgwindspeed=5.14),\n",
       " Row(date=datetime.datetime(2008, 5, 9, 0, 0), temperaturemin=63.0, temperaturemax=82.0, precipitation=0.43, snowfall=0.0, snowdepth=0.0, avgwindspeed=10.29),\n",
       " Row(date=datetime.datetime(2008, 5, 15, 0, 0), temperaturemin=60.1, temperaturemax=78.1, precipitation=0.11, snowfall=0.0, snowdepth=0.0, avgwindspeed=7.61),\n",
       " Row(date=datetime.datetime(2008, 5, 17, 0, 0), temperaturemin=46.9, temperaturemax=75.0, precipitation=0.0, snowfall=0.0, snowdepth=0.0, avgwindspeed=8.05),\n",
       " Row(date=datetime.datetime(2008, 5, 26, 0, 0), temperaturemin=55.0, temperaturemax=84.0, precipitation=0.0, snowfall=0.0, snowdepth=0.0, avgwindspeed=10.29),\n",
       " Row(date=datetime.datetime(2008, 5, 31, 0, 0), temperaturemin=68.0, temperaturemax=89.1, precipitation=0.0, snowfall=0.0, snowdepth=0.0, avgwindspeed=10.29),\n",
       " Row(date=datetime.datetime(2008, 6, 5, 0, 0), temperaturemin=75.9, temperaturemax=96.1, precipitation=0.0, snowfall=0.0, snowdepth=0.0, avgwindspeed=5.82),\n",
       " Row(date=datetime.datetime(2008, 6, 6, 0, 0), temperaturemin=75.9, temperaturemax=99.0, precipitation=0.0, snowfall=0.0, snowdepth=0.0, avgwindspeed=6.49),\n",
       " Row(date=datetime.datetime(2008, 6, 14, 0, 0), temperaturemin=69.1, temperaturemax=96.1, precipitation=0.01, snowfall=0.0, snowdepth=0.0, avgwindspeed=7.61),\n",
       " Row(date=datetime.datetime(2008, 6, 16, 0, 0), temperaturemin=66.9, temperaturemax=95.0, precipitation=0.1, snowfall=0.0, snowdepth=0.0, avgwindspeed=5.37),\n",
       " Row(date=datetime.datetime(2008, 6, 17, 0, 0), temperaturemin=68.0, temperaturemax=90.0, precipitation=0.0, snowfall=0.0, snowdepth=0.0, avgwindspeed=5.59),\n",
       " Row(date=datetime.datetime(2008, 7, 5, 0, 0), temperaturemin=69.1, temperaturemax=87.1, precipitation=0.86, snowfall=0.0, snowdepth=0.0, avgwindspeed=5.14),\n",
       " Row(date=datetime.datetime(2008, 7, 9, 0, 0), temperaturemin=70.0, temperaturemax=90.0, precipitation=0.97, snowfall=0.0, snowdepth=0.0, avgwindspeed=10.51),\n",
       " Row(date=datetime.datetime(2008, 7, 10, 0, 0), temperaturemin=71.1, temperaturemax=89.1, precipitation=0.0, snowfall=0.0, snowdepth=0.0, avgwindspeed=4.92),\n",
       " Row(date=datetime.datetime(2008, 7, 14, 0, 0), temperaturemin=69.1, temperaturemax=79.0, precipitation=0.53, snowfall=0.0, snowdepth=0.0, avgwindspeed=4.25),\n",
       " Row(date=datetime.datetime(2008, 7, 15, 0, 0), temperaturemin=66.0, temperaturemax=87.1, precipitation=0.0, snowfall=0.0, snowdepth=0.0, avgwindspeed=6.26),\n",
       " Row(date=datetime.datetime(2008, 7, 19, 0, 0), temperaturemin=70.0, temperaturemax=90.0, precipitation=0.76, snowfall=0.0, snowdepth=0.0, avgwindspeed=3.36),\n",
       " Row(date=datetime.datetime(2008, 7, 24, 0, 0), temperaturemin=64.9, temperaturemax=87.1, precipitation=0.0, snowfall=0.0, snowdepth=0.0, avgwindspeed=3.36),\n",
       " Row(date=datetime.datetime(2008, 7, 26, 0, 0), temperaturemin=66.0, temperaturemax=87.1, precipitation=0.0, snowfall=0.0, snowdepth=0.0, avgwindspeed=6.93),\n",
       " Row(date=datetime.datetime(2008, 7, 30, 0, 0), temperaturemin=75.0, temperaturemax=93.0, precipitation=0.0, snowfall=0.0, snowdepth=0.0, avgwindspeed=7.61),\n",
       " Row(date=datetime.datetime(2008, 8, 3, 0, 0), temperaturemin=70.0, temperaturemax=91.9, precipitation=0.0, snowfall=0.0, snowdepth=0.0, avgwindspeed=3.36),\n",
       " Row(date=datetime.datetime(2008, 8, 8, 0, 0), temperaturemin=70.0, temperaturemax=91.0, precipitation=0.0, snowfall=0.0, snowdepth=0.0, avgwindspeed=4.92),\n",
       " Row(date=datetime.datetime(2008, 8, 12, 0, 0), temperaturemin=55.9, temperaturemax=89.1, precipitation=0.0, snowfall=0.0, snowdepth=0.0, avgwindspeed=3.58),\n",
       " Row(date=datetime.datetime(2008, 8, 13, 0, 0), temperaturemin=61.0, temperaturemax=73.9, precipitation=0.11, snowfall=0.0, snowdepth=0.0, avgwindspeed=3.8),\n",
       " Row(date=datetime.datetime(2008, 8, 17, 0, 0), temperaturemin=64.9, temperaturemax=84.9, precipitation=0.0, snowfall=0.0, snowdepth=0.0, avgwindspeed=2.46),\n",
       " Row(date=datetime.datetime(2008, 8, 19, 0, 0), temperaturemin=66.9, temperaturemax=95.0, precipitation=0.0, snowfall=0.0, snowdepth=0.0, avgwindspeed=2.91),\n",
       " Row(date=datetime.datetime(2008, 8, 26, 0, 0), temperaturemin=72.0, temperaturemax=81.0, precipitation=0.07, snowfall=0.0, snowdepth=0.0, avgwindspeed=5.82),\n",
       " Row(date=datetime.datetime(2008, 8, 30, 0, 0), temperaturemin=70.0, temperaturemax=91.0, precipitation=0.64, snowfall=0.0, snowdepth=0.0, avgwindspeed=4.47),\n",
       " Row(date=datetime.datetime(2008, 9, 5, 0, 0), temperaturemin=64.0, temperaturemax=82.0, precipitation=0.47, snowfall=0.0, snowdepth=0.0, avgwindspeed=7.61),\n",
       " Row(date=datetime.datetime(2008, 9, 8, 0, 0), temperaturemin=66.9, temperaturemax=90.0, precipitation=0.0, snowfall=0.0, snowdepth=0.0, avgwindspeed=3.13),\n",
       " Row(date=datetime.datetime(2008, 9, 10, 0, 0), temperaturemin=66.9, temperaturemax=75.0, precipitation=1.19, snowfall=0.0, snowdepth=0.0, avgwindspeed=5.14),\n",
       " Row(date=datetime.datetime(2008, 9, 17, 0, 0), temperaturemin=60.1, temperaturemax=73.9, precipitation=0.0, snowfall=0.0, snowdepth=0.0, avgwindspeed=3.8),\n",
       " Row(date=datetime.datetime(2008, 9, 18, 0, 0), temperaturemin=55.9, temperaturemax=81.0, precipitation=0.0, snowfall=0.0, snowdepth=0.0, avgwindspeed=5.37),\n",
       " Row(date=datetime.datetime(2008, 9, 19, 0, 0), temperaturemin=55.9, temperaturemax=75.9, precipitation=0.0, snowfall=0.0, snowdepth=0.0, avgwindspeed=9.17),\n",
       " Row(date=datetime.datetime(2008, 9, 26, 0, 0), temperaturemin=63.0, temperaturemax=81.0, precipitation=0.96, snowfall=0.0, snowdepth=0.0, avgwindspeed=10.07),\n",
       " Row(date=datetime.datetime(2008, 10, 3, 0, 0), temperaturemin=46.9, temperaturemax=75.0, precipitation=0.0, snowfall=0.0, snowdepth=0.0, avgwindspeed=2.68),\n",
       " Row(date=datetime.datetime(2008, 10, 8, 0, 0), temperaturemin=52.0, temperaturemax=73.9, precipitation=0.0, snowfall=0.0, snowdepth=0.0, avgwindspeed=6.04),\n",
       " Row(date=datetime.datetime(2008, 10, 10, 0, 0), temperaturemin=64.9, temperaturemax=73.0, precipitation=0.02, snowfall=0.0, snowdepth=0.0, avgwindspeed=6.71),\n",
       " Row(date=datetime.datetime(2008, 10, 11, 0, 0), temperaturemin=60.1, temperaturemax=71.1, precipitation=0.0, snowfall=0.0, snowdepth=0.0, avgwindspeed=9.62),\n",
       " Row(date=datetime.datetime(2008, 10, 12, 0, 0), temperaturemin=55.9, temperaturemax=78.1, precipitation=0.0, snowfall=0.0, snowdepth=0.0, avgwindspeed=8.72),\n",
       " Row(date=datetime.datetime(2008, 10, 15, 0, 0), temperaturemin=54.0, temperaturemax=87.1, precipitation=0.0, snowfall=0.0, snowdepth=0.0, avgwindspeed=1.12),\n",
       " Row(date=datetime.datetime(2008, 10, 23, 0, 0), temperaturemin=39.0, temperaturemax=60.1, precipitation=0.0, snowfall=0.0, snowdepth=0.0, avgwindspeed=6.26),\n",
       " Row(date=datetime.datetime(2008, 10, 25, 0, 0), temperaturemin=57.9, temperaturemax=77.0, precipitation=0.02, snowfall=0.0, snowdepth=0.0, avgwindspeed=7.61),\n",
       " Row(date=datetime.datetime(2008, 10, 26, 0, 0), temperaturemin=44.1, temperaturemax=70.0, precipitation=0.0, snowfall=0.0, snowdepth=0.0, avgwindspeed=3.13),\n",
       " Row(date=datetime.datetime(2008, 11, 12, 0, 0), temperaturemin=39.0, temperaturemax=61.0, precipitation=0.0, snowfall=0.0, snowdepth=0.0, avgwindspeed=4.03),\n",
       " Row(date=datetime.datetime(2008, 11, 13, 0, 0), temperaturemin=51.1, temperaturemax=66.0, precipitation=0.09, snowfall=0.0, snowdepth=0.0, avgwindspeed=4.7),\n",
       " Row(date=datetime.datetime(2008, 11, 15, 0, 0), temperaturemin=51.1, temperaturemax=75.9, precipitation=0.62, snowfall=0.0, snowdepth=0.0, avgwindspeed=14.54),\n",
       " Row(date=datetime.datetime(2008, 11, 19, 0, 0), temperaturemin=27.0, temperaturemax=45.0, precipitation=0.0, snowfall=0.0, snowdepth=0.0, avgwindspeed=6.04),\n",
       " Row(date=datetime.datetime(2008, 11, 28, 0, 0), temperaturemin=39.0, temperaturemax=68.0, precipitation=0.0, snowfall=0.0, snowdepth=0.0, avgwindspeed=3.13),\n",
       " Row(date=datetime.datetime(2008, 12, 1, 0, 0), temperaturemin=36.0, temperaturemax=52.0, precipitation=0.0, snowfall=0.0, snowdepth=0.0, avgwindspeed=14.09),\n",
       " Row(date=datetime.datetime(2008, 12, 7, 0, 0), temperaturemin=25.0, temperaturemax=43.0, precipitation=0.0, snowfall=0.0, snowdepth=0.0, avgwindspeed=4.47),\n",
       " Row(date=datetime.datetime(2008, 12, 10, 0, 0), temperaturemin=61.0, temperaturemax=70.0, precipitation=0.07, snowfall=0.0, snowdepth=0.0, avgwindspeed=10.51),\n",
       " Row(date=datetime.datetime(2008, 12, 17, 0, 0), temperaturemin=44.1, temperaturemax=57.9, precipitation=0.0, snowfall=0.0, snowdepth=0.0, avgwindspeed=4.47),\n",
       " Row(date=datetime.datetime(2008, 12, 23, 0, 0), temperaturemin=21.9, temperaturemax=44.1, precipitation=0.0, snowfall=0.0, snowdepth=0.0, avgwindspeed=4.7),\n",
       " Row(date=datetime.datetime(2009, 1, 19, 0, 0), temperaturemin=35.1, temperaturemax=50.0, precipitation=0.02, snowfall=0.0, snowdepth=0.0, avgwindspeed=5.82),\n",
       " Row(date=datetime.datetime(2009, 1, 20, 0, 0), temperaturemin=23.0, temperaturemax=35.1, precipitation=0.19, snowfall=3.5, snowdepth=2.01, avgwindspeed=6.71),\n",
       " Row(date=datetime.datetime(2009, 1, 21, 0, 0), temperaturemin=12.9, temperaturemax=35.1, precipitation=0.0, snowfall=0.0, snowdepth=2.01, avgwindspeed=4.7),\n",
       " Row(date=datetime.datetime(2009, 1, 22, 0, 0), temperaturemin=21.9, temperaturemax=48.9, precipitation=0.0, snowfall=0.0, snowdepth=0.0, avgwindspeed=5.82),\n",
       " Row(date=datetime.datetime(2009, 2, 1, 0, 0), temperaturemin=32.0, temperaturemax=62.1, precipitation=0.0, snowfall=0.0, snowdepth=0.0, avgwindspeed=11.86),\n",
       " Row(date=datetime.datetime(2009, 2, 12, 0, 0), temperaturemin=51.1, temperaturemax=69.1, precipitation=0.0, snowfall=0.0, snowdepth=0.0, avgwindspeed=11.86),\n",
       " Row(date=datetime.datetime(2009, 2, 13, 0, 0), temperaturemin=41.0, temperaturemax=68.0, precipitation=0.0, snowfall=0.0, snowdepth=0.0, avgwindspeed=6.93),\n",
       " Row(date=datetime.datetime(2009, 2, 16, 0, 0), temperaturemin=30.9, temperaturemax=46.0, precipitation=0.0, snowfall=0.0, snowdepth=0.0, avgwindspeed=7.38),\n",
       " Row(date=datetime.datetime(2009, 2, 18, 0, 0), temperaturemin=39.9, temperaturemax=57.0, precipitation=0.59, snowfall=0.0, snowdepth=0.0, avgwindspeed=10.74),\n",
       " Row(date=datetime.datetime(2009, 2, 25, 0, 0), temperaturemin=25.0, temperaturemax=55.9, precipitation=0.0, snowfall=0.0, snowdepth=0.0, avgwindspeed=3.8),\n",
       " Row(date=datetime.datetime(2009, 3, 5, 0, 0), temperaturemin=28.9, temperaturemax=61.0, precipitation=0.0, snowfall=0.0, snowdepth=0.0, avgwindspeed=8.28),\n",
       " Row(date=datetime.datetime(2009, 3, 9, 0, 0), temperaturemin=55.0, temperaturemax=84.0, precipitation=0.0, snowfall=0.0, snowdepth=0.0, avgwindspeed=8.72),\n",
       " Row(date=datetime.datetime(2009, 3, 20, 0, 0), temperaturemin=41.0, temperaturemax=60.1, precipitation=0.0, snowfall=0.0, snowdepth=0.0, avgwindspeed=6.93),\n",
       " Row(date=datetime.datetime(2009, 4, 1, 0, 0), temperaturemin=53.1, temperaturemax=70.0, precipitation=0.01, snowfall=0.0, snowdepth=0.0, avgwindspeed=6.49),\n",
       " Row(date=datetime.datetime(2009, 4, 3, 0, 0), temperaturemin=55.0, temperaturemax=78.1, precipitation=0.06, snowfall=0.0, snowdepth=0.0, avgwindspeed=15.21),\n",
       " Row(date=datetime.datetime(2009, 4, 4, 0, 0), temperaturemin=46.9, temperaturemax=73.9, precipitation=0.0, snowfall=0.0, snowdepth=0.0, avgwindspeed=6.04),\n",
       " Row(date=datetime.datetime(2009, 4, 9, 0, 0), temperaturemin=43.0, temperaturemax=70.0, precipitation=0.0, snowfall=0.0, snowdepth=0.0, avgwindspeed=4.7),\n",
       " Row(date=datetime.datetime(2009, 4, 16, 0, 0), temperaturemin=43.0, temperaturemax=68.0, precipitation=0.0, snowfall=0.0, snowdepth=0.0, avgwindspeed=9.4),\n",
       " Row(date=datetime.datetime(2009, 4, 19, 0, 0), temperaturemin=53.1, temperaturemax=73.0, precipitation=0.0, snowfall=0.0, snowdepth=0.0, avgwindspeed=8.5),\n",
       " Row(date=datetime.datetime(2009, 4, 22, 0, 0), temperaturemin=46.9, temperaturemax=64.9, precipitation=0.0, snowfall=0.0, snowdepth=0.0, avgwindspeed=8.28),\n",
       " Row(date=datetime.datetime(2009, 5, 6, 0, 0), temperaturemin=61.0, temperaturemax=82.9, precipitation=0.17, snowfall=0.0, snowdepth=0.0, avgwindspeed=6.93),\n",
       " Row(date=datetime.datetime(2009, 5, 8, 0, 0), temperaturemin=62.1, temperaturemax=82.0, precipitation=0.0, snowfall=0.0, snowdepth=0.0, avgwindspeed=7.38),\n",
       " Row(date=datetime.datetime(2009, 5, 9, 0, 0), temperaturemin=66.9, temperaturemax=90.0, precipitation=0.08, snowfall=0.0, snowdepth=0.0, avgwindspeed=12.08),\n",
       " Row(date=datetime.datetime(2009, 5, 13, 0, 0), temperaturemin=55.0, temperaturemax=75.0, precipitation=0.0, snowfall=0.0, snowdepth=0.0, avgwindspeed=7.61),\n",
       " Row(date=datetime.datetime(2009, 5, 15, 0, 0), temperaturemin=69.1, temperaturemax=84.9, precipitation=0.0, snowfall=0.0, snowdepth=0.0, avgwindspeed=6.04),\n",
       " Row(date=datetime.datetime(2009, 5, 17, 0, 0), temperaturemin=52.0, temperaturemax=73.0, precipitation=0.29, snowfall=0.0, snowdepth=0.0, avgwindspeed=8.95),\n",
       " Row(date=datetime.datetime(2009, 5, 18, 0, 0), temperaturemin=48.9, temperaturemax=66.9, precipitation=0.06, snowfall=0.0, snowdepth=0.0, avgwindspeed=9.62),\n",
       " Row(date=datetime.datetime(2009, 5, 20, 0, 0), temperaturemin=44.1, temperaturemax=79.0, precipitation=0.0, snowfall=0.0, snowdepth=0.0, avgwindspeed=7.61),\n",
       " Row(date=datetime.datetime(2009, 5, 22, 0, 0), temperaturemin=57.9, temperaturemax=87.1, precipitation=0.0, snowfall=0.0, snowdepth=0.0, avgwindspeed=3.8),\n",
       " Row(date=datetime.datetime(2009, 6, 4, 0, 0), temperaturemin=68.0, temperaturemax=90.0, precipitation=0.76, snowfall=0.0, snowdepth=0.0, avgwindspeed=7.38),\n",
       " Row(date=datetime.datetime(2009, 6, 7, 0, 0), temperaturemin=62.1, temperaturemax=86.0, precipitation=0.0, snowfall=0.0, snowdepth=0.0, avgwindspeed=3.13),\n",
       " Row(date=datetime.datetime(2009, 6, 9, 0, 0), temperaturemin=66.0, temperaturemax=93.9, precipitation=0.82, snowfall=0.0, snowdepth=0.0, avgwindspeed=7.16),\n",
       " Row(date=datetime.datetime(2009, 6, 10, 0, 0), temperaturemin=64.9, temperaturemax=84.9, precipitation=0.07, snowfall=0.0, snowdepth=0.0, avgwindspeed=4.7),\n",
       " Row(date=datetime.datetime(2009, 6, 27, 0, 0), temperaturemin=71.1, temperaturemax=93.9, precipitation=0.0, snowfall=0.0, snowdepth=0.0, avgwindspeed=5.59),\n",
       " Row(date=datetime.datetime(2009, 6, 28, 0, 0), temperaturemin=63.0, temperaturemax=91.9, precipitation=0.0, snowfall=0.0, snowdepth=0.0, avgwindspeed=4.03),\n",
       " Row(date=datetime.datetime(2009, 7, 7, 0, 0), temperaturemin=64.0, temperaturemax=91.0, precipitation=0.0, snowfall=0.0, snowdepth=0.0, avgwindspeed=2.68),\n",
       " Row(date=datetime.datetime(2009, 7, 13, 0, 0), temperaturemin=69.1, temperaturemax=82.0, precipitation=0.63, snowfall=0.0, snowdepth=0.0, avgwindspeed=3.36),\n",
       " Row(date=datetime.datetime(2009, 7, 14, 0, 0), temperaturemin=64.9, temperaturemax=88.0, precipitation=0.0, snowfall=0.0, snowdepth=0.0, avgwindspeed=4.7),\n",
       " Row(date=datetime.datetime(2009, 7, 15, 0, 0), temperaturemin=63.0, temperaturemax=91.9, precipitation=0.0, snowfall=0.0, snowdepth=0.0, avgwindspeed=5.59),\n",
       " Row(date=datetime.datetime(2009, 7, 27, 0, 0), temperaturemin=73.0, temperaturemax=93.9, precipitation=0.0, snowfall=0.0, snowdepth=0.0, avgwindspeed=7.83),\n",
       " Row(date=datetime.datetime(2009, 7, 29, 0, 0), temperaturemin=72.0, temperaturemax=91.9, precipitation=0.28, snowfall=0.0, snowdepth=0.0, avgwindspeed=10.29),\n",
       " Row(date=datetime.datetime(2009, 7, 31, 0, 0), temperaturemin=73.0, temperaturemax=93.0, precipitation=0.03, snowfall=0.0, snowdepth=0.0, avgwindspeed=12.53),\n",
       " Row(date=datetime.datetime(2009, 8, 1, 0, 0), temperaturemin=73.0, temperaturemax=91.9, precipitation=0.0, snowfall=0.0, snowdepth=0.0, avgwindspeed=5.82),\n",
       " Row(date=datetime.datetime(2009, 8, 5, 0, 0), temperaturemin=72.0, temperaturemax=96.1, precipitation=0.18, snowfall=0.0, snowdepth=0.0, avgwindspeed=5.82),\n",
       " Row(date=datetime.datetime(2009, 8, 8, 0, 0), temperaturemin=69.1, temperaturemax=91.0, precipitation=0.0, snowfall=0.0, snowdepth=0.0, avgwindspeed=7.61),\n",
       " Row(date=datetime.datetime(2009, 8, 13, 0, 0), temperaturemin=71.1, temperaturemax=81.0, precipitation=0.0, snowfall=0.0, snowdepth=0.0, avgwindspeed=2.01),\n",
       " Row(date=datetime.datetime(2009, 8, 15, 0, 0), temperaturemin=71.1, temperaturemax=88.0, precipitation=0.0, snowfall=0.0, snowdepth=0.0, avgwindspeed=4.03),\n",
       " Row(date=datetime.datetime(2009, 8, 20, 0, 0), temperaturemin=73.0, temperaturemax=91.9, precipitation=0.0, snowfall=0.0, snowdepth=0.0, avgwindspeed=6.71),\n",
       " Row(date=datetime.datetime(2009, 8, 23, 0, 0), temperaturemin=69.1, temperaturemax=84.9, precipitation=0.0, snowfall=0.0, snowdepth=0.0, avgwindspeed=3.36),\n",
       " Row(date=datetime.datetime(2009, 8, 24, 0, 0), temperaturemin=68.0, temperaturemax=87.1, precipitation=0.0, snowfall=0.0, snowdepth=0.0, avgwindspeed=3.8),\n",
       " Row(date=datetime.datetime(2009, 8, 28, 0, 0), temperaturemin=71.1, temperaturemax=90.0, precipitation=0.37, snowfall=0.0, snowdepth=0.0, avgwindspeed=4.03),\n",
       " Row(date=datetime.datetime(2009, 9, 7, 0, 0), temperaturemin=63.0, temperaturemax=79.0, precipitation=0.57, snowfall=0.0, snowdepth=0.0, avgwindspeed=7.38),\n",
       " Row(date=datetime.datetime(2009, 9, 13, 0, 0), temperaturemin=59.0, temperaturemax=82.0, precipitation=0.0, snowfall=0.0, snowdepth=0.0, avgwindspeed=4.25),\n",
       " Row(date=datetime.datetime(2009, 9, 15, 0, 0), temperaturemin=62.1, temperaturemax=91.0, precipitation=0.0, snowfall=0.0, snowdepth=0.0, avgwindspeed=4.03),\n",
       " Row(date=datetime.datetime(2009, 10, 6, 0, 0), temperaturemin=60.1, temperaturemax=66.0, precipitation=0.02, snowfall=0.0, snowdepth=0.0, avgwindspeed=3.8),\n",
       " Row(date=datetime.datetime(2009, 10, 9, 0, 0), temperaturemin=55.9, temperaturemax=82.9, precipitation=0.0, snowfall=0.0, snowdepth=0.0, avgwindspeed=10.29),\n",
       " Row(date=datetime.datetime(2009, 10, 12, 0, 0), temperaturemin=53.1, temperaturemax=60.1, precipitation=0.19, snowfall=0.0, snowdepth=0.0, avgwindspeed=5.14),\n",
       " Row(date=datetime.datetime(2009, 10, 19, 0, 0), temperaturemin=34.0, temperaturemax=61.0, precipitation=0.0, snowfall=0.0, snowdepth=0.0, avgwindspeed=2.01),\n",
       " Row(date=datetime.datetime(2009, 10, 26, 0, 0), temperaturemin=44.1, temperaturemax=64.0, precipitation=0.06, snowfall=0.0, snowdepth=0.0, avgwindspeed=5.82),\n",
       " Row(date=datetime.datetime(2009, 10, 27, 0, 0), temperaturemin=54.0, temperaturemax=62.1, precipitation=0.12, snowfall=0.0, snowdepth=0.0, avgwindspeed=4.25),\n",
       " Row(date=datetime.datetime(2009, 11, 3, 0, 0), temperaturemin=37.9, temperaturemax=71.1, precipitation=0.0, snowfall=0.0, snowdepth=0.0, avgwindspeed=2.01),\n",
       " Row(date=datetime.datetime(2009, 11, 5, 0, 0), temperaturemin=37.9, temperaturemax=64.9, precipitation=0.0, snowfall=0.0, snowdepth=0.0, avgwindspeed=2.91),\n",
       " Row(date=datetime.datetime(2009, 11, 18, 0, 0), temperaturemin=52.0, temperaturemax=62.1, precipitation=0.45, snowfall=0.0, snowdepth=0.0, avgwindspeed=8.28),\n",
       " Row(date=datetime.datetime(2009, 11, 20, 0, 0), temperaturemin=42.1, temperaturemax=63.0, precipitation=0.0, snowfall=0.0, snowdepth=0.0, avgwindspeed=3.58),\n",
       " Row(date=datetime.datetime(2009, 11, 27, 0, 0), temperaturemin=36.0, temperaturemax=54.0, precipitation=0.0, snowfall=0.0, snowdepth=0.0, avgwindspeed=7.38),\n",
       " Row(date=datetime.datetime(2009, 12, 1, 0, 0), temperaturemin=30.0, temperaturemax=55.9, precipitation=0.0, snowfall=0.0, snowdepth=0.0, avgwindspeed=2.01),\n",
       " Row(date=datetime.datetime(2009, 12, 6, 0, 0), temperaturemin=28.0, temperaturemax=44.1, precipitation=0.0, snowfall=0.0, snowdepth=0.0, avgwindspeed=2.01),\n",
       " Row(date=datetime.datetime(2009, 12, 14, 0, 0), temperaturemin=37.9, temperaturemax=50.0, precipitation=0.0, snowfall=0.0, snowdepth=0.0, avgwindspeed=5.14),\n",
       " Row(date=datetime.datetime(2009, 12, 22, 0, 0), temperaturemin=24.1, temperaturemax=48.9, precipitation=0.0, snowfall=0.0, snowdepth=0.0, avgwindspeed=0.45),\n",
       " Row(date=datetime.datetime(2009, 12, 24, 0, 0), temperaturemin=27.0, temperaturemax=48.0, precipitation=0.0, snowfall=0.0, snowdepth=0.0, avgwindspeed=5.82),\n",
       " Row(date=datetime.datetime(2009, 12, 26, 0, 0), temperaturemin=39.0, temperaturemax=53.1, precipitation=0.0, snowfall=0.0, snowdepth=0.0, avgwindspeed=6.71),\n",
       " Row(date=datetime.datetime(2009, 12, 29, 0, 0), temperaturemin=24.1, temperaturemax=42.1, precipitation=0.0, snowfall=0.0, snowdepth=0.0, avgwindspeed=6.26),\n",
       " Row(date=datetime.datetime(2010, 1, 21, 0, 0), temperaturemin=37.0, temperaturemax=41.0, precipitation=0.65, snowfall=0.0, snowdepth=0.0, avgwindspeed=9.84),\n",
       " Row(date=datetime.datetime(2010, 1, 23, 0, 0), temperaturemin=30.0, temperaturemax=50.0, precipitation=0.0, snowfall=0.0, snowdepth=0.0, avgwindspeed=4.7),\n",
       " Row(date=datetime.datetime(2010, 2, 5, 0, 0), temperaturemin=33.1, temperaturemax=42.1, precipitation=1.37, snowfall=0.0, snowdepth=0.0, avgwindspeed=11.41),\n",
       " Row(date=datetime.datetime(2010, 2, 11, 0, 0), temperaturemin=30.0, temperaturemax=45.0, precipitation=0.0, snowfall=0.0, snowdepth=0.0, avgwindspeed=8.28),\n",
       " Row(date=datetime.datetime(2010, 2, 17, 0, 0), temperaturemin=25.0, temperaturemax=43.0, precipitation=0.0, snowfall=0.0, snowdepth=0.0, avgwindspeed=7.16),\n",
       " Row(date=datetime.datetime(2010, 3, 18, 0, 0), temperaturemin=45.0, temperaturemax=68.0, precipitation=0.0, snowfall=0.0, snowdepth=0.0, avgwindspeed=2.01),\n",
       " Row(date=datetime.datetime(2010, 3, 27, 0, 0), temperaturemin=32.0, temperaturemax=57.9, precipitation=0.0, snowfall=0.0, snowdepth=0.0, avgwindspeed=6.04),\n",
       " Row(date=datetime.datetime(2010, 3, 30, 0, 0), temperaturemin=51.1, temperaturemax=69.1, precipitation=0.0, snowfall=0.0, snowdepth=0.0, avgwindspeed=7.83),\n",
       " Row(date=datetime.datetime(2010, 4, 6, 0, 0), temperaturemin=62.1, temperaturemax=90.0, precipitation=0.0, snowfall=0.0, snowdepth=0.0, avgwindspeed=10.29),\n",
       " Row(date=datetime.datetime(2010, 4, 10, 0, 0), temperaturemin=42.1, temperaturemax=70.0, precipitation=0.0, snowfall=0.0, snowdepth=0.0, avgwindspeed=2.01),\n",
       " Row(date=datetime.datetime(2010, 4, 12, 0, 0), temperaturemin=46.0, temperaturemax=78.1, precipitation=0.0, snowfall=0.0, snowdepth=0.0, avgwindspeed=4.03),\n",
       " Row(date=datetime.datetime(2010, 4, 21, 0, 0), temperaturemin=48.0, temperaturemax=64.9, precipitation=0.33, snowfall=0.0, snowdepth=0.0, avgwindspeed=2.68),\n",
       " Row(date=datetime.datetime(2010, 4, 26, 0, 0), temperaturemin=59.0, temperaturemax=78.1, precipitation=0.0, snowfall=0.0, snowdepth=0.0, avgwindspeed=9.84),\n",
       " Row(date=datetime.datetime(2010, 5, 19, 0, 0), temperaturemin=57.0, temperaturemax=70.0, precipitation=0.36, snowfall=0.0, snowdepth=0.0, avgwindspeed=3.8),\n",
       " Row(date=datetime.datetime(2010, 5, 27, 0, 0), temperaturemin=60.1, temperaturemax=91.0, precipitation=0.0, snowfall=0.0, snowdepth=0.0, avgwindspeed=3.58),\n",
       " Row(date=datetime.datetime(2010, 5, 29, 0, 0), temperaturemin=64.9, temperaturemax=84.0, precipitation=0.02, snowfall=0.0, snowdepth=0.0, avgwindspeed=5.14),\n",
       " Row(date=datetime.datetime(2010, 6, 6, 0, 0), temperaturemin=72.0, temperaturemax=93.0, precipitation=0.18, snowfall=0.0, snowdepth=0.0, avgwindspeed=10.29),\n",
       " Row(date=datetime.datetime(2010, 6, 19, 0, 0), temperaturemin=73.0, temperaturemax=93.0, precipitation=0.0, snowfall=0.0, snowdepth=0.0, avgwindspeed=4.92),\n",
       " Row(date=datetime.datetime(2010, 6, 20, 0, 0), temperaturemin=72.0, temperaturemax=93.9, precipitation=0.0, snowfall=0.0, snowdepth=0.0, avgwindspeed=3.58),\n",
       " Row(date=datetime.datetime(2010, 7, 4, 0, 0), temperaturemin=61.0, temperaturemax=93.0, precipitation=0.0, snowfall=0.0, snowdepth=0.0, avgwindspeed=4.92),\n",
       " Row(date=datetime.datetime(2010, 7, 7, 0, 0), temperaturemin=69.1, temperaturemax=102.0, precipitation=0.0, snowfall=0.0, snowdepth=0.0, avgwindspeed=4.25),\n",
       " Row(date=datetime.datetime(2010, 7, 16, 0, 0), temperaturemin=77.0, temperaturemax=97.0, precipitation=0.0, snowfall=0.0, snowdepth=0.0, avgwindspeed=9.62),\n",
       " Row(date=datetime.datetime(2010, 8, 1, 0, 0), temperaturemin=66.0, temperaturemax=79.0, precipitation=0.1, snowfall=0.0, snowdepth=0.0, avgwindspeed=4.92),\n",
       " Row(date=datetime.datetime(2010, 8, 2, 0, 0), temperaturemin=70.0, temperaturemax=86.0, precipitation=0.0, snowfall=0.0, snowdepth=0.0, avgwindspeed=4.03),\n",
       " Row(date=datetime.datetime(2010, 8, 20, 0, 0), temperaturemin=71.1, temperaturemax=90.0, precipitation=0.0, snowfall=0.0, snowdepth=0.0, avgwindspeed=5.82),\n",
       " Row(date=datetime.datetime(2010, 9, 12, 0, 0), temperaturemin=64.9, temperaturemax=88.0, precipitation=0.03, snowfall=0.0, snowdepth=0.0, avgwindspeed=3.8),\n",
       " Row(date=datetime.datetime(2010, 9, 19, 0, 0), temperaturemin=60.1, temperaturemax=93.0, precipitation=0.0, snowfall=0.0, snowdepth=0.0, avgwindspeed=2.01),\n",
       " Row(date=datetime.datetime(2010, 9, 29, 0, 0), temperaturemin=63.0, temperaturemax=69.1, precipitation=1.69, snowfall=0.0, snowdepth=0.0, avgwindspeed=8.05),\n",
       " Row(date=datetime.datetime(2010, 10, 1, 0, 0), temperaturemin=55.0, temperaturemax=78.1, precipitation=0.01, snowfall=0.0, snowdepth=0.0, avgwindspeed=5.82),\n",
       " Row(date=datetime.datetime(2010, 10, 14, 0, 0), temperaturemin=55.0, temperaturemax=71.1, precipitation=1.11, snowfall=0.0, snowdepth=0.0, avgwindspeed=4.92),\n",
       " Row(date=datetime.datetime(2010, 11, 1, 0, 0), temperaturemin=46.0, temperaturemax=63.0, precipitation=0.0, snowfall=0.0, snowdepth=0.0, avgwindspeed=8.5),\n",
       " Row(date=datetime.datetime(2010, 11, 4, 0, 0), temperaturemin=48.0, temperaturemax=54.0, precipitation=0.72, snowfall=0.0, snowdepth=0.0, avgwindspeed=2.24),\n",
       " Row(date=datetime.datetime(2010, 11, 16, 0, 0), temperaturemin=54.0, temperaturemax=66.9, precipitation=0.38, snowfall=0.0, snowdepth=0.0, avgwindspeed=8.28),\n",
       " Row(date=datetime.datetime(2012, 7, 2, 0, 0), temperaturemin=73.9, temperaturemax=93.9, precipitation=0.0, snowfall=0.0, snowdepth=0.0, avgwindspeed=5.14),\n",
       " Row(date=datetime.datetime(2012, 7, 17, 0, 0), temperaturemin=71.1, temperaturemax=98.1, precipitation=0.0, snowfall=0.0, snowdepth=0.0, avgwindspeed=4.7),\n",
       " Row(date=datetime.datetime(2012, 7, 25, 0, 0), temperaturemin=70.0, temperaturemax=90.0, precipitation=0.0, snowfall=0.0, snowdepth=0.0, avgwindspeed=4.03),\n",
       " Row(date=datetime.datetime(2012, 7, 30, 0, 0), temperaturemin=71.1, temperaturemax=89.1, precipitation=0.0, snowfall=0.0, snowdepth=0.0, avgwindspeed=5.59),\n",
       " Row(date=datetime.datetime(2012, 8, 13, 0, 0), temperaturemin=66.9, temperaturemax=90.0, precipitation=0.0, snowfall=0.0, snowdepth=0.0, avgwindspeed=2.24),\n",
       " Row(date=datetime.datetime(2012, 9, 2, 0, 0), temperaturemin=72.0, temperaturemax=88.0, precipitation=1.85, snowfall=0.0, snowdepth=0.0, avgwindspeed=3.58),\n",
       " Row(date=datetime.datetime(2012, 9, 16, 0, 0), temperaturemin=59.0, temperaturemax=64.9, precipitation=0.69, snowfall=0.0, snowdepth=0.0, avgwindspeed=3.13),\n",
       " Row(date=datetime.datetime(2012, 9, 21, 0, 0), temperaturemin=55.0, temperaturemax=82.0, precipitation=0.0, snowfall=0.0, snowdepth=0.0, avgwindspeed=2.91),\n",
       " Row(date=datetime.datetime(2012, 9, 26, 0, 0), temperaturemin=54.0, temperaturemax=82.9, precipitation=0.0, snowfall=0.0, snowdepth=0.0, avgwindspeed=3.8),\n",
       " Row(date=datetime.datetime(2012, 10, 5, 0, 0), temperaturemin=57.0, temperaturemax=82.0, precipitation=0.0, snowfall=0.0, snowdepth=0.0, avgwindspeed=1.57),\n",
       " Row(date=datetime.datetime(2012, 10, 14, 0, 0), temperaturemin=44.1, temperaturemax=78.1, precipitation=0.0, snowfall=0.0, snowdepth=0.0, avgwindspeed=3.8),\n",
       " Row(date=datetime.datetime(2012, 10, 16, 0, 0), temperaturemin=44.1, temperaturemax=70.0, precipitation=0.0, snowfall=0.0, snowdepth=0.0, avgwindspeed=2.01),\n",
       " Row(date=datetime.datetime(2012, 10, 19, 0, 0), temperaturemin=53.1, temperaturemax=78.1, precipitation=0.19, snowfall=0.0, snowdepth=0.0, avgwindspeed=7.61),\n",
       " Row(date=datetime.datetime(2012, 10, 24, 0, 0), temperaturemin=51.1, temperaturemax=82.0, precipitation=0.0, snowfall=0.0, snowdepth=0.0, avgwindspeed=2.24),\n",
       " Row(date=datetime.datetime(2012, 10, 26, 0, 0), temperaturemin=57.0, temperaturemax=72.0, precipitation=0.01, snowfall=0.0, snowdepth=0.0, avgwindspeed=7.83),\n",
       " Row(date=datetime.datetime(2012, 11, 4, 0, 0), temperaturemin=42.1, temperaturemax=55.0, precipitation=0.0, snowfall=0.0, snowdepth=0.0, avgwindspeed=5.59),\n",
       " Row(date=datetime.datetime(2012, 11, 28, 0, 0), temperaturemin=28.9, temperaturemax=53.1, precipitation=0.0, snowfall=0.0, snowdepth=0.0, avgwindspeed=2.24),\n",
       " Row(date=datetime.datetime(2012, 12, 3, 0, 0), temperaturemin=53.1, temperaturemax=75.9, precipitation=0.0, snowfall=0.0, snowdepth=0.0, avgwindspeed=4.92),\n",
       " Row(date=datetime.datetime(2012, 12, 8, 0, 0), temperaturemin=50.0, temperaturemax=66.0, precipitation=0.01, snowfall=0.0, snowdepth=0.0, avgwindspeed=4.92),\n",
       " Row(date=datetime.datetime(2012, 12, 12, 0, 0), temperaturemin=39.0, temperaturemax=50.0, precipitation=0.24, snowfall=0.0, snowdepth=0.0, avgwindspeed=9.17),\n",
       " Row(date=datetime.datetime(2012, 12, 26, 0, 0), temperaturemin=37.0, temperaturemax=48.9, precipitation=1.41, snowfall=0.0, snowdepth=0.0, avgwindspeed=9.17),\n",
       " Row(date=datetime.datetime(2013, 1, 5, 0, 0), temperaturemin=25.0, temperaturemax=48.9, precipitation=0.0, snowfall=0.0, snowdepth=0.0, avgwindspeed=1.79),\n",
       " Row(date=datetime.datetime(2013, 2, 10, 0, 0), temperaturemin=25.0, temperaturemax=53.1, precipitation=0.03, snowfall=0.0, snowdepth=0.0, avgwindspeed=4.47),\n",
       " Row(date=datetime.datetime(2013, 2, 19, 0, 0), temperaturemin=35.1, temperaturemax=51.1, precipitation=0.14, snowfall=0.0, snowdepth=0.0, avgwindspeed=9.62),\n",
       " Row(date=datetime.datetime(2013, 2, 25, 0, 0), temperaturemin=32.0, temperaturemax=42.1, precipitation=0.0, snowfall=0.0, snowdepth=0.0, avgwindspeed=6.93),\n",
       " Row(date=datetime.datetime(2013, 11, 5, 0, 0), temperaturemin=37.0, temperaturemax=57.0, precipitation=0.0, snowfall=0.0, snowdepth=0.0, avgwindspeed=5.14),\n",
       " Row(date=datetime.datetime(2013, 11, 6, 0, 0), temperaturemin=44.1, temperaturemax=71.1, precipitation=0.0, snowfall=0.0, snowdepth=0.0, avgwindspeed=3.58),\n",
       " Row(date=datetime.datetime(2013, 11, 8, 0, 0), temperaturemin=33.1, temperaturemax=57.9, precipitation=0.0, snowfall=0.0, snowdepth=0.0, avgwindspeed=2.91),\n",
       " Row(date=datetime.datetime(2013, 11, 11, 0, 0), temperaturemin=32.0, temperaturemax=59.0, precipitation=0.0, snowfall=0.0, snowdepth=0.0, avgwindspeed=1.79),\n",
       " Row(date=datetime.datetime(2013, 11, 16, 0, 0), temperaturemin=50.0, temperaturemax=69.1, precipitation=0.0, snowfall=0.0, snowdepth=0.0, avgwindspeed=3.13),\n",
       " Row(date=datetime.datetime(2013, 11, 21, 0, 0), temperaturemin=41.0, temperaturemax=62.1, precipitation=0.0, snowfall=0.0, snowdepth=0.0, avgwindspeed=3.8),\n",
       " Row(date=datetime.datetime(2013, 11, 29, 0, 0), temperaturemin=24.3, temperaturemax=50.0, precipitation=0.0, snowfall=0.0, snowdepth=0.0, avgwindspeed=4.03),\n",
       " Row(date=datetime.datetime(2013, 12, 6, 0, 0), temperaturemin=64.9, temperaturemax=79.0, precipitation=0.0, snowfall=0.0, snowdepth=0.0, avgwindspeed=13.87),\n",
       " Row(date=datetime.datetime(2013, 12, 18, 0, 0), temperaturemin=31.1, temperaturemax=48.9, precipitation=0.0, snowfall=0.0, snowdepth=0.0, avgwindspeed=3.36),\n",
       " Row(date=datetime.datetime(2014, 1, 3, 0, 0), temperaturemin=22.1, temperaturemax=43.0, precipitation=0.0, snowfall=0.0, snowdepth=0.0, avgwindspeed=7.38),\n",
       " Row(date=datetime.datetime(2014, 1, 4, 0, 0), temperaturemin=19.2, temperaturemax=37.9, precipitation=0.0, snowfall=0.0, snowdepth=0.0, avgwindspeed=2.24),\n",
       " Row(date=datetime.datetime(2014, 1, 8, 0, 0), temperaturemin=15.3, temperaturemax=43.0, precipitation=0.0, snowfall=0.0, snowdepth=0.0, avgwindspeed=2.91),\n",
       " Row(date=datetime.datetime(2014, 1, 10, 0, 0), temperaturemin=39.0, temperaturemax=45.0, precipitation=0.57, snowfall=0.0, snowdepth=0.0, avgwindspeed=3.58),\n",
       " Row(date=datetime.datetime(2014, 1, 18, 0, 0), temperaturemin=27.1, temperaturemax=46.9, precipitation=0.0, snowfall=0.0, snowdepth=0.0, avgwindspeed=6.71),\n",
       " Row(date=datetime.datetime(2014, 1, 23, 0, 0), temperaturemin=16.2, temperaturemax=37.9, precipitation=0.0, snowfall=0.0, snowdepth=0.0, avgwindspeed=4.7),\n",
       " Row(date=datetime.datetime(2014, 1, 24, 0, 0), temperaturemin=11.1, temperaturemax=27.1, precipitation=0.0, snowfall=0.0, snowdepth=0.0, avgwindspeed=6.26),\n",
       " Row(date=datetime.datetime(2014, 1, 31, 0, 0), temperaturemin=15.3, temperaturemax=53.1, precipitation=0.0, snowfall=0.0, snowdepth=0.0, avgwindspeed=2.01),\n",
       " Row(date=datetime.datetime(2014, 2, 5, 0, 0), temperaturemin=37.9, temperaturemax=53.1, precipitation=0.06, snowfall=0.0, snowdepth=0.0, avgwindspeed=4.7),\n",
       " Row(date=datetime.datetime(2014, 2, 6, 0, 0), temperaturemin=31.1, temperaturemax=42.1, precipitation=0.0, snowfall=0.0, snowdepth=0.0, avgwindspeed=3.58),\n",
       " Row(date=datetime.datetime(2014, 2, 8, 0, 0), temperaturemin=34.0, temperaturemax=50.0, precipitation=0.0, snowfall=0.0, snowdepth=0.0, avgwindspeed=2.46),\n",
       " Row(date=datetime.datetime(2014, 2, 10, 0, 0), temperaturemin=35.1, temperaturemax=43.0, precipitation=0.08, snowfall=0.0, snowdepth=0.0, avgwindspeed=2.91),\n",
       " Row(date=datetime.datetime(2014, 2, 14, 0, 0), temperaturemin=27.1, temperaturemax=55.9, precipitation=0.0, snowfall=0.0, snowdepth=1.18, avgwindspeed=8.95),\n",
       " Row(date=datetime.datetime(2014, 2, 23, 0, 0), temperaturemin=34.0, temperaturemax=66.9, precipitation=0.0, snowfall=0.0, snowdepth=0.0, avgwindspeed=6.49),\n",
       " Row(date=datetime.datetime(2014, 2, 26, 0, 0), temperaturemin=32.0, temperaturemax=48.9, precipitation=0.0, snowfall=0.0, snowdepth=0.0, avgwindspeed=3.58),\n",
       " Row(date=datetime.datetime(2014, 3, 3, 0, 0), temperaturemin=20.1, temperaturemax=61.0, precipitation=0.36, snowfall=0.2, snowdepth=0.0, avgwindspeed=10.96),\n",
       " Row(date=datetime.datetime(2014, 3, 8, 0, 0), temperaturemin=27.1, temperaturemax=68.0, precipitation=0.0, snowfall=0.0, snowdepth=0.0, avgwindspeed=4.25),\n",
       " Row(date=datetime.datetime(2014, 3, 11, 0, 0), temperaturemin=44.1, temperaturemax=79.0, precipitation=0.0, snowfall=0.0, snowdepth=0.0, avgwindspeed=5.14),\n",
       " Row(date=datetime.datetime(2014, 3, 19, 0, 0), temperaturemin=35.1, temperaturemax=46.9, precipitation=0.04, snowfall=0.0, snowdepth=0.0, avgwindspeed=5.37),\n",
       " Row(date=datetime.datetime(2014, 3, 21, 0, 0), temperaturemin=32.0, temperaturemax=69.1, precipitation=0.0, snowfall=0.0, snowdepth=0.0, avgwindspeed=5.37),\n",
       " Row(date=datetime.datetime(2014, 3, 22, 0, 0), temperaturemin=46.0, temperaturemax=75.9, precipitation=0.0, snowfall=0.0, snowdepth=0.0, avgwindspeed=8.05),\n",
       " Row(date=datetime.datetime(2014, 3, 25, 0, 0), temperaturemin=33.1, temperaturemax=45.0, precipitation=0.03, snowfall=0.0, snowdepth=0.0, avgwindspeed=5.82),\n",
       " Row(date=datetime.datetime(2014, 3, 26, 0, 0), temperaturemin=29.1, temperaturemax=46.9, precipitation=0.0, snowfall=0.0, snowdepth=0.0, avgwindspeed=6.93),\n",
       " Row(date=datetime.datetime(2014, 3, 27, 0, 0), temperaturemin=24.3, temperaturemax=59.0, precipitation=0.0, snowfall=0.0, snowdepth=0.0, avgwindspeed=6.93),\n",
       " Row(date=datetime.datetime(2014, 3, 30, 0, 0), temperaturemin=42.1, temperaturemax=62.1, precipitation=0.23, snowfall=0.0, snowdepth=0.0, avgwindspeed=10.51),\n",
       " Row(date=datetime.datetime(2014, 4, 27, 0, 0), temperaturemin=51.1, temperaturemax=84.0, precipitation=0.0, snowfall=0.0, snowdepth=0.0, avgwindspeed=5.14),\n",
       " Row(date=datetime.datetime(2014, 5, 4, 0, 0), temperaturemin=48.9, temperaturemax=82.9, precipitation=0.0, snowfall=0.0, snowdepth=0.0, avgwindspeed=5.59),\n",
       " Row(date=datetime.datetime(2014, 5, 10, 0, 0), temperaturemin=64.0, temperaturemax=86.0, precipitation=0.0, snowfall=0.0, snowdepth=0.0, avgwindspeed=8.95),\n",
       " Row(date=datetime.datetime(2014, 5, 17, 0, 0), temperaturemin=46.9, temperaturemax=71.1, precipitation=0.0, snowfall=0.0, snowdepth=0.0, avgwindspeed=5.37),\n",
       " Row(date=datetime.datetime(2014, 5, 19, 0, 0), temperaturemin=45.0, temperaturemax=73.0, precipitation=0.0, snowfall=0.0, snowdepth=0.0, avgwindspeed=2.01),\n",
       " Row(date=datetime.datetime(2014, 5, 27, 0, 0), temperaturemin=66.0, temperaturemax=90.0, precipitation=0.22, snowfall=0.0, snowdepth=0.0, avgwindspeed=5.82),\n",
       " Row(date=datetime.datetime(2014, 6, 3, 0, 0), temperaturemin=57.0, temperaturemax=89.1, precipitation=0.05, snowfall=0.0, snowdepth=0.0, avgwindspeed=4.03),\n",
       " Row(date=datetime.datetime(2014, 6, 5, 0, 0), temperaturemin=72.0, temperaturemax=91.0, precipitation=0.0, snowfall=0.0, snowdepth=0.0, avgwindspeed=7.61),\n",
       " Row(date=datetime.datetime(2014, 6, 6, 0, 0), temperaturemin=68.0, temperaturemax=82.9, precipitation=0.0, snowfall=0.0, snowdepth=0.0, avgwindspeed=5.82),\n",
       " Row(date=datetime.datetime(2014, 6, 17, 0, 0), temperaturemin=70.0, temperaturemax=96.1, precipitation=0.0, snowfall=0.0, snowdepth=0.0, avgwindspeed=7.16),\n",
       " Row(date=datetime.datetime(2014, 6, 25, 0, 0), temperaturemin=73.0, temperaturemax=93.0, precipitation=0.0, snowfall=0.0, snowdepth=0.0, avgwindspeed=6.71),\n",
       " Row(date=datetime.datetime(2014, 7, 2, 0, 0), temperaturemin=75.9, temperaturemax=97.0, precipitation=0.0, snowfall=0.0, snowdepth=0.0, avgwindspeed=9.84),\n",
       " Row(date=datetime.datetime(2014, 7, 4, 0, 0), temperaturemin=71.1, temperaturemax=88.0, precipitation=0.0, snowfall=0.0, snowdepth=0.0, avgwindspeed=6.04),\n",
       " Row(date=datetime.datetime(2014, 7, 5, 0, 0), temperaturemin=61.0, temperaturemax=82.9, precipitation=0.0, snowfall=0.0, snowdepth=0.0, avgwindspeed=4.92),\n",
       " Row(date=datetime.datetime(2014, 7, 6, 0, 0), temperaturemin=61.0, temperaturemax=90.0, precipitation=0.0, snowfall=0.0, snowdepth=0.0, avgwindspeed=5.82),\n",
       " Row(date=datetime.datetime(2014, 7, 13, 0, 0), temperaturemin=71.1, temperaturemax=93.9, precipitation=0.0, snowfall=0.0, snowdepth=0.0, avgwindspeed=7.16),\n",
       " Row(date=datetime.datetime(2014, 7, 17, 0, 0), temperaturemin=60.1, temperaturemax=84.0, precipitation=0.0, snowfall=0.0, snowdepth=0.0, avgwindspeed=2.24),\n",
       " Row(date=datetime.datetime(2014, 7, 23, 0, 0), temperaturemin=71.1, temperaturemax=91.9, precipitation=0.0, snowfall=0.0, snowdepth=0.0, avgwindspeed=5.59),\n",
       " Row(date=datetime.datetime(2014, 7, 26, 0, 0), temperaturemin=69.1, temperaturemax=90.0, precipitation=0.0, snowfall=0.0, snowdepth=0.0, avgwindspeed=3.13),\n",
       " Row(date=datetime.datetime(2014, 7, 27, 0, 0), temperaturemin=72.0, temperaturemax=87.1, precipitation=0.45, snowfall=0.0, snowdepth=0.0, avgwindspeed=7.61),\n",
       " Row(date=datetime.datetime(2014, 7, 31, 0, 0), temperaturemin=66.0, temperaturemax=82.0, precipitation=0.08, snowfall=0.0, snowdepth=0.0, avgwindspeed=2.68),\n",
       " Row(date=datetime.datetime(2014, 8, 2, 0, 0), temperaturemin=64.0, temperaturemax=70.0, precipitation=0.08, snowfall=0.0, snowdepth=0.0, avgwindspeed=3.36),\n",
       " Row(date=datetime.datetime(2014, 8, 7, 0, 0), temperaturemin=69.1, temperaturemax=86.0, precipitation=0.0, snowfall=0.0, snowdepth=0.0, avgwindspeed=4.47),\n",
       " Row(date=datetime.datetime(2014, 8, 9, 0, 0), temperaturemin=64.0, temperaturemax=73.9, precipitation=1.01, snowfall=0.0, snowdepth=0.0, avgwindspeed=5.59),\n",
       " Row(date=datetime.datetime(2014, 8, 10, 0, 0), temperaturemin=66.0, temperaturemax=81.0, precipitation=0.56, snowfall=0.0, snowdepth=0.0, avgwindspeed=6.71),\n",
       " Row(date=datetime.datetime(2014, 8, 11, 0, 0), temperaturemin=70.0, temperaturemax=84.0, precipitation=0.31, snowfall=0.0, snowdepth=0.0, avgwindspeed=6.71),\n",
       " Row(date=datetime.datetime(2014, 8, 12, 0, 0), temperaturemin=70.0, temperaturemax=87.1, precipitation=2.45, snowfall=0.0, snowdepth=0.0, avgwindspeed=4.92),\n",
       " Row(date=datetime.datetime(2014, 8, 13, 0, 0), temperaturemin=66.9, temperaturemax=82.0, precipitation=0.0, snowfall=0.0, snowdepth=0.0, avgwindspeed=3.8),\n",
       " Row(date=datetime.datetime(2014, 8, 15, 0, 0), temperaturemin=61.0, temperaturemax=86.0, precipitation=0.0, snowfall=0.0, snowdepth=0.0, avgwindspeed=2.68),\n",
       " Row(date=datetime.datetime(2014, 8, 16, 0, 0), temperaturemin=68.0, temperaturemax=89.1, precipitation=0.0, snowfall=0.0, snowdepth=0.0, avgwindspeed=3.36),\n",
       " Row(date=datetime.datetime(2014, 8, 20, 0, 0), temperaturemin=70.0, temperaturemax=90.0, precipitation=1.06, snowfall=0.0, snowdepth=0.0, avgwindspeed=2.24),\n",
       " Row(date=datetime.datetime(2014, 8, 23, 0, 0), temperaturemin=72.0, temperaturemax=84.0, precipitation=0.01, snowfall=0.0, snowdepth=0.0, avgwindspeed=5.59),\n",
       " Row(date=datetime.datetime(2014, 9, 1, 0, 0), temperaturemin=73.0, temperaturemax=93.0, precipitation=0.0, snowfall=0.0, snowdepth=0.0, avgwindspeed=4.7),\n",
       " Row(date=datetime.datetime(2014, 9, 8, 0, 0), temperaturemin=68.0, temperaturemax=73.0, precipitation=1.04, snowfall=0.0, snowdepth=0.0, avgwindspeed=8.28),\n",
       " Row(date=datetime.datetime(2014, 9, 10, 0, 0), temperaturemin=68.0, temperaturemax=81.0, precipitation=0.0, snowfall=0.0, snowdepth=0.0, avgwindspeed=2.01),\n",
       " Row(date=datetime.datetime(2014, 9, 12, 0, 0), temperaturemin=70.0, temperaturemax=80.1, precipitation=0.01, snowfall=0.0, snowdepth=0.0, avgwindspeed=5.59),\n",
       " Row(date=datetime.datetime(2014, 9, 14, 0, 0), temperaturemin=62.1, temperaturemax=71.1, precipitation=0.03, snowfall=0.0, snowdepth=0.0, avgwindspeed=6.26),\n",
       " Row(date=datetime.datetime(2014, 9, 18, 0, 0), temperaturemin=59.0, temperaturemax=81.0, precipitation=0.01, snowfall=0.0, snowdepth=0.0, avgwindspeed=3.36),\n",
       " Row(date=datetime.datetime(2014, 9, 24, 0, 0), temperaturemin=55.0, temperaturemax=64.0, precipitation=3.18, snowfall=0.0, snowdepth=0.0, avgwindspeed=9.62),\n",
       " Row(date=datetime.datetime(2014, 9, 29, 0, 0), temperaturemin=64.0, temperaturemax=73.0, precipitation=0.01, snowfall=0.0, snowdepth=0.0, avgwindspeed=1.12),\n",
       " Row(date=datetime.datetime(2014, 10, 5, 0, 0), temperaturemin=41.0, temperaturemax=66.0, precipitation=0.0, snowfall=0.0, snowdepth=0.0, avgwindspeed=3.13),\n",
       " Row(date=datetime.datetime(2014, 10, 21, 0, 0), temperaturemin=51.1, temperaturemax=73.9, precipitation=0.0, snowfall=0.0, snowdepth=0.0, avgwindspeed=4.03),\n",
       " Row(date=datetime.datetime(2014, 10, 23, 0, 0), temperaturemin=42.1, temperaturemax=70.0, precipitation=0.0, snowfall=0.0, snowdepth=0.0, avgwindspeed=4.25),\n",
       " Row(date=datetime.datetime(2014, 10, 28, 0, 0), temperaturemin=50.0, temperaturemax=84.0, precipitation=0.0, snowfall=0.0, snowdepth=0.0, avgwindspeed=5.82),\n",
       " Row(date=datetime.datetime(2014, 10, 30, 0, 0), temperaturemin=46.9, temperaturemax=66.9, precipitation=0.0, snowfall=0.0, snowdepth=0.0, avgwindspeed=3.36),\n",
       " Row(date=datetime.datetime(2014, 11, 2, 0, 0), temperaturemin=37.0, temperaturemax=53.1, precipitation=0.0, snowfall=0.0, snowdepth=0.0, avgwindspeed=6.71),\n",
       " Row(date=datetime.datetime(2014, 11, 10, 0, 0), temperaturemin=35.1, temperaturemax=66.0, precipitation=0.0, snowfall=0.0, snowdepth=0.0, avgwindspeed=2.46),\n",
       " Row(date=datetime.datetime(2014, 11, 18, 0, 0), temperaturemin=23.2, temperaturemax=43.0, precipitation=0.0, snowfall=0.0, snowdepth=0.0, avgwindspeed=5.59),\n",
       " Row(date=datetime.datetime(2014, 11, 25, 0, 0), temperaturemin=48.0, temperaturemax=64.9, precipitation=0.1, snowfall=0.0, snowdepth=0.0, avgwindspeed=5.37),\n",
       " Row(date=datetime.datetime(2014, 12, 4, 0, 0), temperaturemin=39.9, temperaturemax=54.0, precipitation=0.0, snowfall=0.0, snowdepth=0.0, avgwindspeed=6.26),\n",
       " Row(date=datetime.datetime(2014, 12, 5, 0, 0), temperaturemin=39.9, temperaturemax=52.0, precipitation=0.0, snowfall=0.0, snowdepth=0.0, avgwindspeed=2.46),\n",
       " Row(date=datetime.datetime(2014, 12, 7, 0, 0), temperaturemin=35.1, temperaturemax=53.1, precipitation=0.0, snowfall=0.0, snowdepth=0.0, avgwindspeed=12.97),\n",
       " Row(date=datetime.datetime(2014, 12, 17, 0, 0), temperaturemin=39.0, temperaturemax=60.1, precipitation=0.0, snowfall=0.0, snowdepth=0.0, avgwindspeed=3.58),\n",
       " Row(date=datetime.datetime(2014, 12, 25, 0, 0), temperaturemin=35.1, temperaturemax=64.0, precipitation=0.03, snowfall=0.0, snowdepth=0.0, avgwindspeed=5.82),\n",
       " Row(date=datetime.datetime(2014, 12, 29, 0, 0), temperaturemin=41.0, temperaturemax=55.0, precipitation=0.72, snowfall=0.0, snowdepth=0.0, avgwindspeed=6.71),\n",
       " Row(date=datetime.datetime(2015, 1, 5, 0, 0), temperaturemin=32.0, temperaturemax=55.9, precipitation=0.0, snowfall=0.0, snowdepth=0.0, avgwindspeed=5.37),\n",
       " Row(date=datetime.datetime(2015, 1, 6, 0, 0), temperaturemin=26.2, temperaturemax=55.0, precipitation=0.0, snowfall=0.0, snowdepth=0.0, avgwindspeed=4.7),\n",
       " Row(date=datetime.datetime(2015, 1, 11, 0, 0), temperaturemin=17.2, temperaturemax=48.9, precipitation=0.0, snowfall=0.0, snowdepth=0.0, avgwindspeed=0.89),\n",
       " Row(date=datetime.datetime(2015, 1, 24, 0, 0), temperaturemin=35.1, temperaturemax=48.9, precipitation=0.14, snowfall=0.0, snowdepth=0.0, avgwindspeed=5.82),\n",
       " Row(date=datetime.datetime(2015, 2, 11, 0, 0), temperaturemin=30.2, temperaturemax=51.1, precipitation=0.0, snowfall=0.0, snowdepth=0.0, avgwindspeed=4.92),\n",
       " Row(date=datetime.datetime(2015, 2, 17, 0, 0), temperaturemin=19.2, temperaturemax=35.1, precipitation=0.39, snowfall=0.71, snowdepth=1.18, avgwindspeed=4.7),\n",
       " Row(date=datetime.datetime(2015, 2, 23, 0, 0), temperaturemin=30.2, temperaturemax=46.9, precipitation=0.03, snowfall=0.0, snowdepth=0.0, avgwindspeed=7.38),\n",
       " Row(date=datetime.datetime(2015, 2, 24, 0, 0), temperaturemin=19.2, temperaturemax=30.2, precipitation=0.09, snowfall=1.42, snowdepth=0.0, avgwindspeed=4.47),\n",
       " Row(date=datetime.datetime(2015, 3, 5, 0, 0), temperaturemin=32.0, temperaturemax=66.0, precipitation=0.97, snowfall=0.0, snowdepth=0.0, avgwindspeed=10.51),\n",
       " Row(date=datetime.datetime(2015, 3, 10, 0, 0), temperaturemin=50.0, temperaturemax=75.0, precipitation=0.0, snowfall=0.0, snowdepth=0.0, avgwindspeed=6.93),\n",
       " Row(date=datetime.datetime(2015, 3, 11, 0, 0), temperaturemin=59.0, temperaturemax=75.9, precipitation=0.11, snowfall=0.0, snowdepth=0.0, avgwindspeed=5.14),\n",
       " Row(date=datetime.datetime(2015, 3, 17, 0, 0), temperaturemin=46.9, temperaturemax=82.0, precipitation=0.0, snowfall=0.0, snowdepth=0.0, avgwindspeed=6.04),\n",
       " Row(date=datetime.datetime(2015, 3, 22, 0, 0), temperaturemin=46.9, temperaturemax=66.0, precipitation=0.0, snowfall=0.0, snowdepth=0.0, avgwindspeed=4.25),\n",
       " Row(date=datetime.datetime(2015, 3, 23, 0, 0), temperaturemin=43.0, temperaturemax=57.9, precipitation=0.0, snowfall=0.0, snowdepth=0.0, avgwindspeed=8.5),\n",
       " Row(date=datetime.datetime(2015, 3, 24, 0, 0), temperaturemin=36.0, temperaturemax=66.9, precipitation=0.0, snowfall=0.0, snowdepth=0.0, avgwindspeed=5.14),\n",
       " Row(date=datetime.datetime(2015, 3, 29, 0, 0), temperaturemin=22.1, temperaturemax=52.0, precipitation=0.0, snowfall=0.0, snowdepth=0.0, avgwindspeed=4.7),\n",
       " Row(date=datetime.datetime(2015, 4, 5, 0, 0), temperaturemin=33.1, temperaturemax=68.0, precipitation=0.0, snowfall=0.0, snowdepth=0.0, avgwindspeed=4.7),\n",
       " Row(date=datetime.datetime(2015, 4, 9, 0, 0), temperaturemin=57.0, temperaturemax=78.1, precipitation=0.53, snowfall=0.0, snowdepth=0.0, avgwindspeed=5.82),\n",
       " Row(date=datetime.datetime(2015, 4, 12, 0, 0), temperaturemin=46.9, temperaturemax=73.0, precipitation=0.0, snowfall=0.0, snowdepth=0.0, avgwindspeed=7.61),\n",
       " Row(date=datetime.datetime(2015, 4, 18, 0, 0), temperaturemin=61.0, temperaturemax=80.1, precipitation=0.01, snowfall=0.0, snowdepth=0.0, avgwindspeed=3.13),\n",
       " Row(date=datetime.datetime(2015, 5, 3, 0, 0), temperaturemin=46.9, temperaturemax=79.0, precipitation=0.0, snowfall=0.0, snowdepth=0.0, avgwindspeed=2.68),\n",
       " Row(date=datetime.datetime(2015, 5, 13, 0, 0), temperaturemin=57.9, temperaturemax=80.1, precipitation=0.0, snowfall=0.0, snowdepth=0.0, avgwindspeed=3.58),\n",
       " Row(date=datetime.datetime(2015, 6, 17, 0, 0), temperaturemin=73.9, temperaturemax=96.1, precipitation=0.51, snowfall=0.0, snowdepth=0.0, avgwindspeed=3.8),\n",
       " Row(date=datetime.datetime(2015, 6, 23, 0, 0), temperaturemin=75.9, temperaturemax=98.1, precipitation=0.0, snowfall=0.0, snowdepth=0.0, avgwindspeed=8.28),\n",
       " Row(date=datetime.datetime(2015, 6, 25, 0, 0), temperaturemin=71.1, temperaturemax=91.9, precipitation=0.31, snowfall=0.0, snowdepth=0.0, avgwindspeed=5.82),\n",
       " Row(date=datetime.datetime(2015, 6, 30, 0, 0), temperaturemin=66.9, temperaturemax=91.9, precipitation=0.02, snowfall=0.0, snowdepth=0.0, avgwindspeed=6.71),\n",
       " Row(date=datetime.datetime(2015, 7, 24, 0, 0), temperaturemin=68.0, temperaturemax=86.0, precipitation=0.0, snowfall=0.0, snowdepth=0.0, avgwindspeed=5.14),\n",
       " Row(date=datetime.datetime(2015, 7, 31, 0, 0), temperaturemin=71.1, temperaturemax=91.0, precipitation=0.0, snowfall=0.0, snowdepth=0.0, avgwindspeed=3.8),\n",
       " Row(date=datetime.datetime(2015, 8, 3, 0, 0), temperaturemin=69.1, temperaturemax=95.0, precipitation=0.0, snowfall=0.0, snowdepth=0.0, avgwindspeed=6.26),\n",
       " Row(date=datetime.datetime(2015, 8, 7, 0, 0), temperaturemin=70.0, temperaturemax=75.0, precipitation=0.02, snowfall=0.0, snowdepth=0.0, avgwindspeed=5.82),\n",
       " Row(date=datetime.datetime(2015, 8, 13, 0, 0), temperaturemin=63.0, temperaturemax=88.0, precipitation=0.0, snowfall=0.0, snowdepth=0.0, avgwindspeed=2.46),\n",
       " Row(date=datetime.datetime(2015, 8, 24, 0, 0), temperaturemin=72.0, temperaturemax=91.9, precipitation=0.89, snowfall=0.0, snowdepth=0.0, avgwindspeed=3.58),\n",
       " Row(date=datetime.datetime(2015, 9, 1, 0, 0), temperaturemin=66.9, temperaturemax=91.0, precipitation=0.0, snowfall=0.0, snowdepth=0.0, avgwindspeed=1.12),\n",
       " Row(date=datetime.datetime(2015, 9, 22, 0, 0), temperaturemin=66.0, temperaturemax=79.0, precipitation=0.0, snowfall=0.0, snowdepth=0.0, avgwindspeed=9.4),\n",
       " Row(date=datetime.datetime(2015, 10, 1, 0, 0), temperaturemin=57.9, temperaturemax=66.0, precipitation=0.34, snowfall=0.0, snowdepth=0.0, avgwindspeed=10.74),\n",
       " Row(date=datetime.datetime(2015, 10, 13, 0, 0), temperaturemin=60.1, temperaturemax=79.0, precipitation=0.0, snowfall=0.0, snowdepth=0.0, avgwindspeed=9.4),\n",
       " Row(date=datetime.datetime(2015, 10, 14, 0, 0), temperaturemin=52.0, temperaturemax=77.0, precipitation=0.0, snowfall=0.0, snowdepth=0.0, avgwindspeed=2.46),\n",
       " Row(date=datetime.datetime(2015, 10, 16, 0, 0), temperaturemin=46.9, temperaturemax=68.0, precipitation=0.01, snowfall=0.0, snowdepth=0.0, avgwindspeed=2.24),\n",
       " Row(date=datetime.datetime(2015, 10, 26, 0, 0), temperaturemin=52.0, temperaturemax=64.0, precipitation=0.0, snowfall=0.0, snowdepth=0.0, avgwindspeed=9.84),\n",
       " Row(date=datetime.datetime(2015, 10, 29, 0, 0), temperaturemin=57.0, temperaturemax=73.9, precipitation=0.05, snowfall=0.0, snowdepth=0.0, avgwindspeed=6.71),\n",
       " Row(date=datetime.datetime(2015, 10, 31, 0, 0), temperaturemin=39.9, temperaturemax=66.0, precipitation=0.0, snowfall=0.0, snowdepth=0.0, avgwindspeed=3.13),\n",
       " Row(date=datetime.datetime(2015, 11, 4, 0, 0), temperaturemin=59.0, temperaturemax=70.0, precipitation=0.0, snowfall=0.0, snowdepth=0.0, avgwindspeed=3.13),\n",
       " Row(date=datetime.datetime(2015, 11, 14, 0, 0), temperaturemin=34.0, temperaturemax=60.1, precipitation=0.0, snowfall=0.0, snowdepth=0.0, avgwindspeed=3.36),\n",
       " Row(date=datetime.datetime(2015, 11, 16, 0, 0), temperaturemin=36.0, temperaturemax=64.9, precipitation=0.0, snowfall=0.0, snowdepth=0.0, avgwindspeed=0.67),\n",
       " Row(date=datetime.datetime(2015, 12, 17, 0, 0), temperaturemin=51.1, temperaturemax=59.0, precipitation=0.89, snowfall=0.0, snowdepth=0.0, avgwindspeed=2.01),\n",
       " Row(date=datetime.datetime(2015, 12, 30, 0, 0), temperaturemin=63.0, temperaturemax=66.9, precipitation=1.79, snowfall=0.0, snowdepth=0.0, avgwindspeed=5.14),\n",
       " Row(date=datetime.datetime(2016, 1, 15, 0, 0), temperaturemin=35.1, temperaturemax=51.1, precipitation=0.37, snowfall=0.0, snowdepth=0.0, avgwindspeed=5.59),\n",
       " Row(date=datetime.datetime(2016, 1, 19, 0, 0), temperaturemin=18.1, temperaturemax=32.0, precipitation=0.0, snowfall=0.0, snowdepth=0.0, avgwindspeed=4.47),\n",
       " Row(date=datetime.datetime(2016, 1, 24, 0, 0), temperaturemin=28.2, temperaturemax=46.9, precipitation=0.0, snowfall=0.0, snowdepth=1.18, avgwindspeed=2.46),\n",
       " Row(date=datetime.datetime(2016, 3, 4, 0, 0), temperaturemin=35.1, temperaturemax=52.0, precipitation=0.08, snowfall=0.0, snowdepth=0.0, avgwindspeed=5.37),\n",
       " Row(date=datetime.datetime(2016, 3, 17, 0, 0), temperaturemin=46.0, temperaturemax=77.0, precipitation=0.0, snowfall=0.0, snowdepth=0.0, avgwindspeed=4.03),\n",
       " Row(date=datetime.datetime(2016, 3, 30, 0, 0), temperaturemin=42.1, temperaturemax=69.1, precipitation=0.0, snowfall=0.0, snowdepth=0.0, avgwindspeed=6.93),\n",
       " Row(date=datetime.datetime(2016, 4, 10, 0, 0), temperaturemin=29.1, temperaturemax=60.1, precipitation=0.0, snowfall=0.0, snowdepth=0.0, avgwindspeed=5.14),\n",
       " Row(date=datetime.datetime(2016, 4, 27, 0, 0), temperaturemin=64.0, temperaturemax=87.1, precipitation=0.52, snowfall=0.0, snowdepth=0.0, avgwindspeed=7.83),\n",
       " Row(date=datetime.datetime(2016, 5, 3, 0, 0), temperaturemin=63.0, temperaturemax=79.0, precipitation=0.44, snowfall=0.0, snowdepth=0.0, avgwindspeed=4.47),\n",
       " Row(date=datetime.datetime(2016, 5, 11, 0, 0), temperaturemin=63.0, temperaturemax=82.9, precipitation=0.0, snowfall=0.0, snowdepth=0.0, avgwindspeed=5.37),\n",
       " Row(date=datetime.datetime(2016, 5, 15, 0, 0), temperaturemin=48.0, temperaturemax=66.9, precipitation=0.0, snowfall=0.0, snowdepth=0.0, avgwindspeed=5.14),\n",
       " Row(date=datetime.datetime(2016, 5, 18, 0, 0), temperaturemin=57.0, temperaturemax=64.0, precipitation=0.1, snowfall=0.0, snowdepth=0.0, avgwindspeed=5.82),\n",
       " Row(date=datetime.datetime(2016, 5, 23, 0, 0), temperaturemin=51.1, temperaturemax=68.0, precipitation=0.02, snowfall=0.0, snowdepth=0.0, avgwindspeed=2.68),\n",
       " Row(date=datetime.datetime(2016, 5, 27, 0, 0), temperaturemin=68.0, temperaturemax=88.0, precipitation=0.0, snowfall=0.0, snowdepth=0.0, avgwindspeed=7.38),\n",
       " Row(date=datetime.datetime(2016, 6, 2, 0, 0), temperaturemin=70.0, temperaturemax=88.0, precipitation=0.0, snowfall=0.0, snowdepth=0.0, avgwindspeed=0.89),\n",
       " Row(date=datetime.datetime(2016, 6, 4, 0, 0), temperaturemin=69.1, temperaturemax=91.9, precipitation=0.61, snowfall=0.0, snowdepth=0.0, avgwindspeed=4.25),\n",
       " Row(date=datetime.datetime(2016, 6, 13, 0, 0), temperaturemin=62.1, temperaturemax=84.9, precipitation=0.0, snowfall=0.0, snowdepth=0.0, avgwindspeed=3.13),\n",
       " Row(date=datetime.datetime(2016, 6, 15, 0, 0), temperaturemin=70.0, temperaturemax=91.0, precipitation=0.45, snowfall=0.0, snowdepth=0.0, avgwindspeed=3.58),\n",
       " Row(date=datetime.datetime(2016, 6, 16, 0, 0), temperaturemin=73.0, temperaturemax=91.9, precipitation=0.0, snowfall=0.0, snowdepth=0.0, avgwindspeed=5.59),\n",
       " Row(date=datetime.datetime(2016, 6, 18, 0, 0), temperaturemin=59.0, temperaturemax=82.0, precipitation=0.0, snowfall=0.0, snowdepth=0.0, avgwindspeed=9.62),\n",
       " Row(date=datetime.datetime(2016, 6, 19, 0, 0), temperaturemin=55.9, temperaturemax=84.0, precipitation=0.0, snowfall=0.0, snowdepth=0.0, avgwindspeed=2.24),\n",
       " Row(date=datetime.datetime(2016, 6, 29, 0, 0), temperaturemin=69.1, temperaturemax=89.1, precipitation=0.91, snowfall=0.0, snowdepth=0.0, avgwindspeed=4.7),\n",
       " Row(date=datetime.datetime(2016, 6, 30, 0, 0), temperaturemin=69.1, temperaturemax=88.0, precipitation=0.01, snowfall=0.0, snowdepth=0.0, avgwindspeed=4.03),\n",
       " Row(date=datetime.datetime(2016, 7, 1, 0, 0), temperaturemin=72.0, temperaturemax=89.1, precipitation=0.0, snowfall=0.0, snowdepth=0.0, avgwindspeed=5.82),\n",
       " Row(date=datetime.datetime(2016, 7, 2, 0, 0), temperaturemin=71.1, temperaturemax=88.0, precipitation=1.66, snowfall=0.0, snowdepth=0.0, avgwindspeed=4.25),\n",
       " Row(date=datetime.datetime(2016, 7, 4, 0, 0), temperaturemin=69.1, temperaturemax=84.9, precipitation=0.02, snowfall=0.0, snowdepth=0.0, avgwindspeed=4.25),\n",
       " Row(date=datetime.datetime(2016, 7, 5, 0, 0), temperaturemin=73.0, temperaturemax=95.0, precipitation=0.42, snowfall=0.0, snowdepth=0.0, avgwindspeed=6.71),\n",
       " Row(date=datetime.datetime(2016, 7, 6, 0, 0), temperaturemin=72.0, temperaturemax=91.0, precipitation=0.0, snowfall=0.0, snowdepth=0.0, avgwindspeed=6.04),\n",
       " Row(date=datetime.datetime(2016, 7, 8, 0, 0), temperaturemin=71.1, temperaturemax=93.9, precipitation=0.25, snowfall=0.0, snowdepth=0.0, avgwindspeed=6.04),\n",
       " Row(date=datetime.datetime(2016, 7, 23, 0, 0), temperaturemin=72.0, temperaturemax=95.0, precipitation=0.0, snowfall=0.0, snowdepth=0.0, avgwindspeed=4.47),\n",
       " Row(date=datetime.datetime(2016, 7, 25, 0, 0), temperaturemin=77.0, temperaturemax=96.1, precipitation=0.0, snowfall=0.0, snowdepth=0.0, avgwindspeed=8.72),\n",
       " Row(date=datetime.datetime(2016, 8, 1, 0, 0), temperaturemin=73.0, temperaturemax=91.0, precipitation=0.04, snowfall=0.0, snowdepth=0.0, avgwindspeed=5.82),\n",
       " Row(date=datetime.datetime(2016, 8, 3, 0, 0), temperaturemin=73.0, temperaturemax=88.0, precipitation=0.0, snowfall=0.0, snowdepth=0.0, avgwindspeed=8.72),\n",
       " Row(date=datetime.datetime(2016, 8, 11, 0, 0), temperaturemin=73.9, temperaturemax=91.9, precipitation=0.0, snowfall=0.0, snowdepth=0.0, avgwindspeed=4.03),\n",
       " Row(date=datetime.datetime(2016, 8, 16, 0, 0), temperaturemin=75.0, temperaturemax=95.0, precipitation=0.0, snowfall=0.0, snowdepth=0.0, avgwindspeed=7.61),\n",
       " Row(date=datetime.datetime(2016, 8, 23, 0, 0), temperaturemin=64.9, temperaturemax=89.1, precipitation=0.0, snowfall=0.0, snowdepth=0.0, avgwindspeed=4.47),\n",
       " Row(date=datetime.datetime(2016, 9, 8, 0, 0), temperaturemin=68.0, temperaturemax=96.1, precipitation=0.0, snowfall=0.0, snowdepth=0.0, avgwindspeed=6.71),\n",
       " Row(date=datetime.datetime(2016, 9, 14, 0, 0), temperaturemin=66.0, temperaturemax=91.0, precipitation=0.0, snowfall=0.0, snowdepth=0.0, avgwindspeed=3.8),\n",
       " Row(date=datetime.datetime(2016, 9, 21, 0, 0), temperaturemin=70.0, temperaturemax=75.0, precipitation=0.49, snowfall=0.0, snowdepth=0.0, avgwindspeed=10.74),\n",
       " Row(date=datetime.datetime(2016, 9, 25, 0, 0), temperaturemin=69.1, temperaturemax=73.9, precipitation=0.0, snowfall=0.0, snowdepth=0.0, avgwindspeed=6.71),\n",
       " Row(date=datetime.datetime(2016, 9, 26, 0, 0), temperaturemin=64.9, temperaturemax=75.9, precipitation=0.02, snowfall=0.0, snowdepth=0.0, avgwindspeed=5.59),\n",
       " Row(date=datetime.datetime(2016, 9, 27, 0, 0), temperaturemin=66.9, temperaturemax=80.1, precipitation=0.0, snowfall=0.0, snowdepth=0.0, avgwindspeed=3.58),\n",
       " Row(date=datetime.datetime(2016, 9, 29, 0, 0), temperaturemin=64.9, temperaturemax=79.0, precipitation=0.32, snowfall=0.0, snowdepth=0.0, avgwindspeed=6.49),\n",
       " Row(date=datetime.datetime(2016, 10, 6, 0, 0), temperaturemin=59.0, temperaturemax=72.0, precipitation=0.02, snowfall=0.0, snowdepth=0.0, avgwindspeed=10.29),\n",
       " Row(date=datetime.datetime(2016, 10, 8, 0, 0), temperaturemin=63.0, temperaturemax=70.0, precipitation=6.45, snowfall=0.0, snowdepth=0.0, avgwindspeed=16.11),\n",
       " Row(date=datetime.datetime(2016, 10, 9, 0, 0), temperaturemin=52.0, temperaturemax=73.0, precipitation=0.13, snowfall=0.0, snowdepth=0.0, avgwindspeed=7.38),\n",
       " Row(date=datetime.datetime(2016, 10, 14, 0, 0), temperaturemin=53.1, temperaturemax=70.0, precipitation=0.0, snowfall=0.0, snowdepth=0.0, avgwindspeed=5.82),\n",
       " Row(date=datetime.datetime(2016, 10, 16, 0, 0), temperaturemin=51.1, temperaturemax=78.1, precipitation=0.0, snowfall=0.0, snowdepth=0.0, avgwindspeed=0.22),\n",
       " Row(date=datetime.datetime(2016, 11, 10, 0, 0), temperaturemin=37.0, temperaturemax=64.9, precipitation=0.0, snowfall=0.0, snowdepth=0.0, avgwindspeed=3.36),\n",
       " Row(date=datetime.datetime(2016, 11, 11, 0, 0), temperaturemin=36.0, temperaturemax=70.0, precipitation=0.0, snowfall=0.0, snowdepth=0.0, avgwindspeed=4.7),\n",
       " Row(date=datetime.datetime(2016, 11, 12, 0, 0), temperaturemin=30.2, temperaturemax=55.0, precipitation=0.0, snowfall=0.0, snowdepth=0.0, avgwindspeed=7.83),\n",
       " Row(date=datetime.datetime(2016, 11, 19, 0, 0), temperaturemin=42.1, temperaturemax=77.0, precipitation=0.0, snowfall=0.0, snowdepth=0.0, avgwindspeed=9.17),\n",
       " Row(date=datetime.datetime(2016, 11, 26, 0, 0), temperaturemin=32.0, temperaturemax=57.9, precipitation=0.0, snowfall=0.0, snowdepth=0.0, avgwindspeed=4.92),\n",
       " Row(date=datetime.datetime(2016, 12, 3, 0, 0), temperaturemin=33.1, temperaturemax=54.0, precipitation=0.0, snowfall=0.0, snowdepth=0.0, avgwindspeed=2.91),\n",
       " Row(date=datetime.datetime(2016, 12, 20, 0, 0), temperaturemin=29.1, temperaturemax=45.0, precipitation=0.0, snowfall=0.0, snowdepth=0.0, avgwindspeed=4.47),\n",
       " Row(date=datetime.datetime(2016, 12, 21, 0, 0), temperaturemin=27.1, temperaturemax=59.0, precipitation=0.0, snowfall=0.0, snowdepth=0.0, avgwindspeed=2.24),\n",
       " Row(date=datetime.datetime(2016, 12, 31, 0, 0), temperaturemin=23.2, temperaturemax=50.0, precipitation=0.0, snowfall=0.0, snowdepth=0.0, avgwindspeed=8.72),\n",
       " Row(date=datetime.datetime(2017, 1, 9, 0, 0), temperaturemin=9.1, temperaturemax=31.1, precipitation=0.0, snowfall=0.0, snowdepth=1.18, avgwindspeed=2.46),\n",
       " Row(date=datetime.datetime(2017, 1, 11, 0, 0), temperaturemin=39.9, temperaturemax=57.0, precipitation=0.0, snowfall=0.0, snowdepth=0.0, avgwindspeed=6.04),\n",
       " Row(date=datetime.datetime(2017, 1, 19, 0, 0), temperaturemin=36.0, temperaturemax=63.0, precipitation=0.0, snowfall=0.0, snowdepth=0.0, avgwindspeed=1.34),\n",
       " Row(date=datetime.datetime(2017, 1, 20, 0, 0), temperaturemin=46.0, temperaturemax=59.0, precipitation=0.09, snowfall=0.0, snowdepth=0.0, avgwindspeed=2.91),\n",
       " Row(date=datetime.datetime(2017, 1, 24, 0, 0), temperaturemin=41.0, temperaturemax=63.0, precipitation=0.0, snowfall=0.0, snowdepth=0.0, avgwindspeed=6.04),\n",
       " Row(date=datetime.datetime(2017, 1, 26, 0, 0), temperaturemin=43.0, temperaturemax=70.0, precipitation=0.06, snowfall=0.0, snowdepth=0.0, avgwindspeed=13.42),\n",
       " Row(date=datetime.datetime(2017, 1, 30, 0, 0), temperaturemin=30.2, temperaturemax=46.0, precipitation=0.0, snowfall=0.0, snowdepth=0.0, avgwindspeed=6.26),\n",
       " Row(date=datetime.datetime(2017, 2, 6, 0, 0), temperaturemin=31.1, temperaturemax=68.0, precipitation=0.0, snowfall=0.0, snowdepth=0.0, avgwindspeed=4.7),\n",
       " Row(date=datetime.datetime(2017, 2, 10, 0, 0), temperaturemin=26.2, temperaturemax=51.1, precipitation=0.0, snowfall=0.0, snowdepth=0.0, avgwindspeed=6.71),\n",
       " Row(date=datetime.datetime(2017, 2, 12, 0, 0), temperaturemin=57.9, temperaturemax=82.9, precipitation=0.05, snowfall=0.0, snowdepth=0.0, avgwindspeed=11.41),\n",
       " Row(date=datetime.datetime(2017, 2, 16, 0, 0), temperaturemin=32.0, temperaturemax=53.1, precipitation=0.0, snowfall=0.0, snowdepth=0.0, avgwindspeed=6.71),\n",
       " Row(date=datetime.datetime(2017, 3, 6, 0, 0), temperaturemin=34.0, temperaturemax=64.9, precipitation=0.0, snowfall=0.0, snowdepth=0.0, avgwindspeed=6.71),\n",
       " Row(date=datetime.datetime(2017, 3, 13, 0, 0), temperaturemin=26.2, temperaturemax=42.1, precipitation=0.56, snowfall=0.0, snowdepth=0.0, avgwindspeed=8.28),\n",
       " Row(date=datetime.datetime(2017, 3, 15, 0, 0), temperaturemin=24.3, temperaturemax=39.9, precipitation=0.0, snowfall=0.0, snowdepth=0.0, avgwindspeed=10.51),\n",
       " Row(date=datetime.datetime(2017, 3, 17, 0, 0), temperaturemin=23.2, temperaturemax=57.9, precipitation=0.03, snowfall=0.0, snowdepth=0.0, avgwindspeed=4.92),\n",
       " Row(date=datetime.datetime(2017, 3, 22, 0, 0), temperaturemin=39.0, temperaturemax=64.0, precipitation=0.0, snowfall=0.0, snowdepth=0.0, avgwindspeed=8.28),\n",
       " Row(date=datetime.datetime(2017, 3, 23, 0, 0), temperaturemin=31.1, temperaturemax=55.9, precipitation=0.0, snowfall=0.0, snowdepth=0.0, avgwindspeed=7.38),\n",
       " Row(date=datetime.datetime(2017, 4, 1, 0, 0), temperaturemin=48.9, temperaturemax=75.0, precipitation=0.0, snowfall=0.0, snowdepth=0.0, avgwindspeed=6.04),\n",
       " Row(date=datetime.datetime(2017, 4, 2, 0, 0), temperaturemin=48.9, temperaturemax=69.1, precipitation=0.0, snowfall=0.0, snowdepth=0.0, avgwindspeed=6.04),\n",
       " Row(date=datetime.datetime(2017, 4, 15, 0, 0), temperaturemin=61.0, temperaturemax=84.9, precipitation=0.0, snowfall=0.0, snowdepth=0.0, avgwindspeed=9.62),\n",
       " Row(date=datetime.datetime(2017, 4, 16, 0, 0), temperaturemin=60.1, temperaturemax=82.0, precipitation=0.0, snowfall=0.0, snowdepth=0.0, avgwindspeed=12.75),\n",
       " Row(date=datetime.datetime(2017, 4, 17, 0, 0), temperaturemin=62.1, temperaturemax=86.0, precipitation=0.05, snowfall=0.0, snowdepth=0.0, avgwindspeed=9.84),\n",
       " Row(date=datetime.datetime(2017, 4, 20, 0, 0), temperaturemin=55.9, temperaturemax=84.9, precipitation=0.0, snowfall=0.0, snowdepth=0.0, avgwindspeed=5.82),\n",
       " Row(date=datetime.datetime(2017, 4, 21, 0, 0), temperaturemin=63.0, temperaturemax=89.1, precipitation=0.21, snowfall=0.0, snowdepth=0.0, avgwindspeed=6.93),\n",
       " Row(date=datetime.datetime(2017, 5, 1, 0, 0), temperaturemin=68.0, temperaturemax=84.9, precipitation=0.29, snowfall=0.0, snowdepth=0.0, avgwindspeed=15.66),\n",
       " Row(date=datetime.datetime(2017, 5, 11, 0, 0), temperaturemin=61.0, temperaturemax=84.0, precipitation=0.48, snowfall=0.0, snowdepth=0.0, avgwindspeed=4.92),\n",
       " Row(date=datetime.datetime(2017, 5, 12, 0, 0), temperaturemin=54.0, temperaturemax=61.0, precipitation=0.07, snowfall=0.0, snowdepth=0.0, avgwindspeed=7.61),\n",
       " Row(date=datetime.datetime(2017, 5, 18, 0, 0), temperaturemin=66.0, temperaturemax=86.0, precipitation=0.0, snowfall=0.0, snowdepth=0.0, avgwindspeed=10.96),\n",
       " Row(date=datetime.datetime(2017, 5, 26, 0, 0), temperaturemin=59.0, temperaturemax=81.0, precipitation=0.0, snowfall=0.0, snowdepth=0.0, avgwindspeed=7.83),\n",
       " Row(date=datetime.datetime(2017, 5, 30, 0, 0), temperaturemin=68.0, temperaturemax=82.0, precipitation=0.06, snowfall=0.0, snowdepth=0.0, avgwindspeed=4.03),\n",
       " Row(date=datetime.datetime(2017, 6, 3, 0, 0), temperaturemin=57.0, temperaturemax=88.0, precipitation=0.0, snowfall=0.0, snowdepth=0.0, avgwindspeed=3.36),\n",
       " Row(date=datetime.datetime(2017, 6, 5, 0, 0), temperaturemin=66.9, temperaturemax=84.9, precipitation=1.54, snowfall=0.0, snowdepth=0.0, avgwindspeed=6.04),\n",
       " Row(date=datetime.datetime(2017, 6, 11, 0, 0), temperaturemin=66.9, temperaturemax=90.0, precipitation=0.0, snowfall=0.0, snowdepth=0.0, avgwindspeed=6.26),\n",
       " Row(date=datetime.datetime(2017, 6, 16, 0, 0), temperaturemin=70.0, temperaturemax=89.1, precipitation=2.3, snowfall=0.0, snowdepth=0.0, avgwindspeed=4.03),\n",
       " Row(date=datetime.datetime(2017, 6, 18, 0, 0), temperaturemin=73.9, temperaturemax=91.0, precipitation=0.17, snowfall=0.0, snowdepth=0.0, avgwindspeed=8.72),\n",
       " Row(date=datetime.datetime(2017, 6, 25, 0, 0), temperaturemin=66.9, temperaturemax=84.0, precipitation=0.0, snowfall=0.0, snowdepth=0.0, avgwindspeed=3.58),\n",
       " Row(date=datetime.datetime(2017, 6, 28, 0, 0), temperaturemin=57.0, temperaturemax=82.9, precipitation=0.0, snowfall=0.0, snowdepth=0.0, avgwindspeed=4.25),\n",
       " Row(date=datetime.datetime(2017, 7, 13, 0, 0), temperaturemin=78.1, temperaturemax=97.0, precipitation=0.0, snowfall=0.0, snowdepth=0.0, avgwindspeed=8.5),\n",
       " Row(date=datetime.datetime(2017, 7, 14, 0, 0), temperaturemin=77.0, temperaturemax=97.0, precipitation=0.0, snowfall=0.0, snowdepth=0.0, avgwindspeed=9.4),\n",
       " Row(date=datetime.datetime(2017, 7, 18, 0, 0), temperaturemin=71.1, temperaturemax=89.1, precipitation=0.0, snowfall=0.0, snowdepth=0.0, avgwindspeed=5.14),\n",
       " Row(date=datetime.datetime(2017, 7, 28, 0, 0), temperaturemin=75.0, temperaturemax=93.9, precipitation=0.21, snowfall=0.0, snowdepth=0.0, avgwindspeed=7.61),\n",
       " Row(date=datetime.datetime(2017, 7, 30, 0, 0), temperaturemin=63.0, temperaturemax=84.9, precipitation=0.0, snowfall=0.0, snowdepth=0.0, avgwindspeed=6.26),\n",
       " Row(date=datetime.datetime(2017, 8, 18, 0, 0), temperaturemin=75.0, temperaturemax=98.1, precipitation=0.01, snowfall=0.0, snowdepth=0.0, avgwindspeed=7.38),\n",
       " Row(date=datetime.datetime(2017, 8, 19, 0, 0), temperaturemin=73.0, temperaturemax=91.9, precipitation=0.05, snowfall=0.0, snowdepth=0.0, avgwindspeed=2.91),\n",
       " Row(date=datetime.datetime(2017, 8, 20, 0, 0), temperaturemin=71.1, temperaturemax=95.0, precipitation=0.0, snowfall=0.0, snowdepth=0.0, avgwindspeed=3.58),\n",
       " Row(date=datetime.datetime(2017, 8, 30, 0, 0), temperaturemin=59.0, temperaturemax=84.0, precipitation=0.0, snowfall=0.0, snowdepth=0.0, avgwindspeed=1.79),\n",
       " Row(date=datetime.datetime(2017, 9, 1, 0, 0), temperaturemin=64.0, temperaturemax=78.1, precipitation=1.06, snowfall=0.0, snowdepth=0.0, avgwindspeed=7.83),\n",
       " Row(date=datetime.datetime(2017, 9, 5, 0, 0), temperaturemin=64.0, temperaturemax=90.0, precipitation=0.06, snowfall=0.0, snowdepth=0.0, avgwindspeed=8.05),\n",
       " Row(date=datetime.datetime(2017, 9, 6, 0, 0), temperaturemin=61.0, temperaturemax=82.0, precipitation=0.52, snowfall=0.0, snowdepth=0.0, avgwindspeed=4.92),\n",
       " Row(date=datetime.datetime(2017, 9, 11, 0, 0), temperaturemin=57.9, temperaturemax=66.9, precipitation=0.01, snowfall=0.0, snowdepth=0.0, avgwindspeed=12.75),\n",
       " Row(date=datetime.datetime(2017, 9, 28, 0, 0), temperaturemin=63.0, temperaturemax=93.9, precipitation=0.0, snowfall=0.0, snowdepth=0.0, avgwindspeed=3.13),\n",
       " Row(date=datetime.datetime(2017, 10, 2, 0, 0), temperaturemin=46.9, temperaturemax=75.9, precipitation=0.0, snowfall=0.0, snowdepth=0.0, avgwindspeed=4.92),\n",
       " Row(date=datetime.datetime(2017, 10, 6, 0, 0), temperaturemin=55.0, temperaturemax=86.0, precipitation=0.0, snowfall=0.0, snowdepth=0.0, avgwindspeed=2.91),\n",
       " Row(date=datetime.datetime(2017, 10, 11, 0, 0), temperaturemin=73.0, temperaturemax=89.1, precipitation=1.12, snowfall=0.0, snowdepth=0.0, avgwindspeed=8.05),\n",
       " Row(date=datetime.datetime(2017, 10, 12, 0, 0), temperaturemin=64.9, temperaturemax=77.0, precipitation=0.0, snowfall=0.0, snowdepth=0.0, avgwindspeed=8.28),\n",
       " Row(date=datetime.datetime(2017, 10, 13, 0, 0), temperaturemin=63.0, temperaturemax=71.1, precipitation=0.0, snowfall=0.0, snowdepth=0.0, avgwindspeed=7.38),\n",
       " Row(date=datetime.datetime(2017, 10, 14, 0, 0), temperaturemin=62.1, temperaturemax=78.1, precipitation=0.0, snowfall=0.0, snowdepth=0.0, avgwindspeed=3.13),\n",
       " Row(date=datetime.datetime(2017, 10, 26, 0, 0), temperaturemin=39.9, temperaturemax=63.0, precipitation=0.0, snowfall=0.0, snowdepth=0.0, avgwindspeed=3.8),\n",
       " Row(date=datetime.datetime(2017, 10, 29, 0, 0), temperaturemin=41.0, temperaturemax=68.0, precipitation=0.78, snowfall=0.0, snowdepth=0.0, avgwindspeed=7.61),\n",
       " Row(date=datetime.datetime(2017, 11, 5, 0, 0), temperaturemin=51.1, temperaturemax=70.0, precipitation=0.0, snowfall=0.0, snowdepth=0.0, avgwindspeed=2.46),\n",
       " Row(date=datetime.datetime(2017, 11, 18, 0, 0), temperaturemin=33.1, temperaturemax=66.9, precipitation=0.0, snowfall=0.0, snowdepth=0.0, avgwindspeed=11.41),\n",
       " Row(date=datetime.datetime(2017, 11, 19, 0, 0), temperaturemin=34.0, temperaturemax=64.0, precipitation=0.08, snowfall=0.0, snowdepth=0.0, avgwindspeed=9.17),\n",
       " Row(date=datetime.datetime(2017, 11, 20, 0, 0), temperaturemin=28.2, temperaturemax=57.0, precipitation=0.0, snowfall=0.0, snowdepth=0.0, avgwindspeed=2.01),\n",
       " Row(date=datetime.datetime(2017, 12, 4, 0, 0), temperaturemin=33.1, temperaturemax=61.0, precipitation=0.0, snowfall=0.0, snowdepth=0.0, avgwindspeed=2.46),\n",
       " Row(date=datetime.datetime(2017, 12, 14, 0, 0), temperaturemin=30.2, temperaturemax=57.0, precipitation=0.0, snowfall=0.0, snowdepth=0.0, avgwindspeed=7.38),\n",
       " Row(date=datetime.datetime(2018, 1, 1, 0, 0), temperaturemin=13.1, temperaturemax=28.2, precipitation=0.0, snowfall=0.0, snowdepth=0.0, avgwindspeed=6.49),\n",
       " Row(date=datetime.datetime(2018, 1, 7, 0, 0), temperaturemin=4.1, temperaturemax=30.2, precipitation=0.0, snowfall=0.0, snowdepth=0.0, avgwindspeed=2.68),\n",
       " Row(date=datetime.datetime(2018, 1, 14, 0, 0), temperaturemin=21.2, temperaturemax=33.1, precipitation=0.0, snowfall=0.0, snowdepth=0.0, avgwindspeed=8.72),\n",
       " Row(date=datetime.datetime(2018, 1, 19, 0, 0), temperaturemin=19.2, temperaturemax=48.9, precipitation=0.0, snowfall=0.0, snowdepth=3.94, avgwindspeed=3.58),\n",
       " Row(date=datetime.datetime(2018, 1, 20, 0, 0), temperaturemin=26.2, temperaturemax=55.9, precipitation=0.0, snowfall=0.0, snowdepth=1.18, avgwindspeed=5.59),\n",
       " Row(date=datetime.datetime(2018, 1, 23, 0, 0), temperaturemin=46.9, temperaturemax=70.0, precipitation=0.83, snowfall=0.0, snowdepth=0.0, avgwindspeed=15.66),\n",
       " Row(date=datetime.datetime(2018, 1, 24, 0, 0), temperaturemin=34.0, temperaturemax=54.0, precipitation=0.0, snowfall=0.0, snowdepth=0.0, avgwindspeed=4.03),\n",
       " Row(date=datetime.datetime(2018, 1, 27, 0, 0), temperaturemin=31.1, temperaturemax=66.9, precipitation=0.0, snowfall=0.0, snowdepth=0.0, avgwindspeed=6.26),\n",
       " Row(date=datetime.datetime(2018, 1, 28, 0, 0), temperaturemin=52.0, temperaturemax=60.1, precipitation=1.3, snowfall=0.0, snowdepth=0.0, avgwindspeed=5.14),\n",
       " Row(date=datetime.datetime(2018, 2, 7, 0, 0), temperaturemin=44.1, temperaturemax=64.9, precipitation=0.21, snowfall=0.0, snowdepth=0.0, avgwindspeed=8.5),\n",
       " Row(date=datetime.datetime(2018, 2, 17, 0, 0), temperaturemin=39.9, temperaturemax=55.9, precipitation=0.06, snowfall=0.0, snowdepth=0.0, avgwindspeed=6.93),\n",
       " Row(date=datetime.datetime(2018, 3, 2, 0, 0), temperaturemin=41.0, temperaturemax=55.0, precipitation=0.0, snowfall=0.0, snowdepth=0.0, avgwindspeed=14.99),\n",
       " Row(date=datetime.datetime(2018, 3, 3, 0, 0), temperaturemin=35.1, temperaturemax=57.0, precipitation=0.0, snowfall=0.0, snowdepth=0.0, avgwindspeed=8.72),\n",
       " Row(date=datetime.datetime(2018, 3, 12, 0, 0), temperaturemin=32.0, temperaturemax=37.9, precipitation=0.92, snowfall=1.42, snowdepth=0.0, avgwindspeed=7.16),\n",
       " Row(date=datetime.datetime(2018, 3, 20, 0, 0), temperaturemin=36.0, temperaturemax=57.0, precipitation=1.05, snowfall=0.0, snowdepth=0.0, avgwindspeed=8.72),\n",
       " Row(date=datetime.datetime(2018, 4, 1, 0, 0), temperaturemin=41.0, temperaturemax=75.0, precipitation=0.0, snowfall=0.0, snowdepth=0.0, avgwindspeed=7.61),\n",
       " Row(date=datetime.datetime(2018, 4, 4, 0, 0), temperaturemin=48.0, temperaturemax=77.0, precipitation=0.0, snowfall=0.0, snowdepth=0.0, avgwindspeed=13.87),\n",
       " Row(date=datetime.datetime(2018, 4, 10, 0, 0), temperaturemin=39.0, temperaturemax=62.1, precipitation=0.0, snowfall=0.0, snowdepth=0.0, avgwindspeed=5.37),\n",
       " Row(date=datetime.datetime(2018, 4, 11, 0, 0), temperaturemin=37.9, temperaturemax=62.1, precipitation=0.0, snowfall=0.0, snowdepth=0.0, avgwindspeed=5.37),\n",
       " Row(date=datetime.datetime(2018, 4, 13, 0, 0), temperaturemin=52.0, temperaturemax=80.1, precipitation=0.0, snowfall=0.0, snowdepth=0.0, avgwindspeed=14.32),\n",
       " Row(date=datetime.datetime(2018, 4, 15, 0, 0), temperaturemin=61.0, temperaturemax=82.0, precipitation=3.31, snowfall=0.0, snowdepth=0.0, avgwindspeed=12.53),\n",
       " Row(date=datetime.datetime(2018, 4, 21, 0, 0), temperaturemin=37.0, temperaturemax=68.0, precipitation=0.0, snowfall=0.0, snowdepth=0.0, avgwindspeed=4.47),\n",
       " Row(date=datetime.datetime(2018, 4, 26, 0, 0), temperaturemin=48.0, temperaturemax=75.0, precipitation=0.18, snowfall=0.0, snowdepth=0.0, avgwindspeed=3.36),\n",
       " Row(date=datetime.datetime(2018, 4, 27, 0, 0), temperaturemin=54.0, temperaturemax=73.0, precipitation=0.01, snowfall=0.0, snowdepth=0.0, avgwindspeed=4.92),\n",
       " Row(date=datetime.datetime(2018, 5, 1, 0, 0), temperaturemin=45.0, temperaturemax=82.9, precipitation=0.0, snowfall=0.0, snowdepth=0.0, avgwindspeed=4.47),\n",
       " Row(date=datetime.datetime(2018, 5, 13, 0, 0), temperaturemin=66.0, temperaturemax=93.0, precipitation=0.0, snowfall=0.0, snowdepth=0.0, avgwindspeed=6.04),\n",
       " Row(date=datetime.datetime(2018, 5, 14, 0, 0), temperaturemin=68.0, temperaturemax=93.0, precipitation=0.0, snowfall=0.0, snowdepth=0.0, avgwindspeed=8.05),\n",
       " Row(date=datetime.datetime(2018, 5, 18, 0, 0), temperaturemin=71.1, temperaturemax=82.0, precipitation=0.23, snowfall=0.0, snowdepth=0.0, avgwindspeed=8.28),\n",
       " Row(date=datetime.datetime(2018, 5, 25, 0, 0), temperaturemin=64.9, temperaturemax=86.0, precipitation=0.0, snowfall=0.0, snowdepth=0.0, avgwindspeed=5.82),\n",
       " Row(date=datetime.datetime(2018, 5, 26, 0, 0), temperaturemin=68.0, temperaturemax=87.1, precipitation=0.33, snowfall=0.0, snowdepth=0.0, avgwindspeed=8.5),\n",
       " Row(date=datetime.datetime(2018, 6, 7, 0, 0), temperaturemin=62.1, temperaturemax=84.9, precipitation=0.0, snowfall=0.0, snowdepth=0.0, avgwindspeed=4.92),\n",
       " Row(date=datetime.datetime(2018, 6, 12, 0, 0), temperaturemin=63.0, temperaturemax=70.0, precipitation=0.01, snowfall=0.0, snowdepth=0.0, avgwindspeed=6.26),\n",
       " Row(date=datetime.datetime(2018, 6, 16, 0, 0), temperaturemin=64.9, temperaturemax=90.0, precipitation=0.0, snowfall=0.0, snowdepth=0.0, avgwindspeed=4.47),\n",
       " Row(date=datetime.datetime(2018, 6, 18, 0, 0), temperaturemin=73.9, temperaturemax=93.9, precipitation=0.0, snowfall=0.0, snowdepth=0.0, avgwindspeed=4.92),\n",
       " Row(date=datetime.datetime(2018, 6, 20, 0, 0), temperaturemin=73.0, temperaturemax=93.9, precipitation=0.0, snowfall=0.0, snowdepth=0.0, avgwindspeed=4.47),\n",
       " Row(date=datetime.datetime(2018, 6, 24, 0, 0), temperaturemin=73.0, temperaturemax=96.1, precipitation=0.07, snowfall=0.0, snowdepth=0.0, avgwindspeed=7.61),\n",
       " Row(date=datetime.datetime(2018, 6, 26, 0, 0), temperaturemin=66.0, temperaturemax=73.9, precipitation=0.74, snowfall=0.0, snowdepth=0.0, avgwindspeed=6.93),\n",
       " Row(date=datetime.datetime(2018, 7, 6, 0, 0), temperaturemin=71.1, temperaturemax=93.0, precipitation=0.34, snowfall=0.0, snowdepth=0.0, avgwindspeed=3.8),\n",
       " Row(date=datetime.datetime(2018, 7, 8, 0, 0), temperaturemin=62.1, temperaturemax=82.0, precipitation=0.0, snowfall=0.0, snowdepth=0.0, avgwindspeed=8.05),\n",
       " Row(date=datetime.datetime(2018, 7, 10, 0, 0), temperaturemin=59.0, temperaturemax=91.0, precipitation=0.0, snowfall=0.0, snowdepth=0.0, avgwindspeed=2.46),\n",
       " Row(date=datetime.datetime(2018, 7, 16, 0, 0), temperaturemin=73.9, temperaturemax=95.0, precipitation=0.0, snowfall=0.0, snowdepth=0.0, avgwindspeed=8.05),\n",
       " Row(date=datetime.datetime(2018, 7, 18, 0, 0), temperaturemin=72.0, temperaturemax=89.1, precipitation=0.0, snowfall=0.0, snowdepth=0.0, avgwindspeed=6.71),\n",
       " Row(date=datetime.datetime(2018, 7, 19, 0, 0), temperaturemin=63.0, temperaturemax=90.0, precipitation=0.0, snowfall=0.0, snowdepth=0.0, avgwindspeed=7.16),\n",
       " Row(date=datetime.datetime(2018, 7, 21, 0, 0), temperaturemin=69.1, temperaturemax=88.0, precipitation=0.01, snowfall=0.0, snowdepth=0.0, avgwindspeed=6.71),\n",
       " Row(date=datetime.datetime(2018, 7, 23, 0, 0), temperaturemin=70.0, temperaturemax=88.0, precipitation=0.02, snowfall=0.0, snowdepth=0.0, avgwindspeed=6.26),\n",
       " Row(date=datetime.datetime(2018, 7, 25, 0, 0), temperaturemin=69.1, temperaturemax=82.0, precipitation=0.27, snowfall=0.0, snowdepth=0.0, avgwindspeed=3.8),\n",
       " Row(date=datetime.datetime(2018, 8, 1, 0, 0), temperaturemin=73.0, temperaturemax=90.0, precipitation=0.02, snowfall=0.0, snowdepth=0.0, avgwindspeed=9.17),\n",
       " Row(date=datetime.datetime(2018, 8, 7, 0, 0), temperaturemin=71.1, temperaturemax=93.0, precipitation=0.2, snowfall=0.0, snowdepth=0.0, avgwindspeed=6.71),\n",
       " Row(date=datetime.datetime(2018, 8, 9, 0, 0), temperaturemin=69.1, temperaturemax=90.0, precipitation=0.0, snowfall=0.0, snowdepth=0.0, avgwindspeed=4.7),\n",
       " Row(date=datetime.datetime(2018, 8, 10, 0, 0), temperaturemin=69.1, temperaturemax=91.0, precipitation=0.0, snowfall=0.0, snowdepth=0.0, avgwindspeed=2.01),\n",
       " Row(date=datetime.datetime(2018, 8, 13, 0, 0), temperaturemin=66.9, temperaturemax=84.9, precipitation=0.08, snowfall=0.0, snowdepth=0.0, avgwindspeed=3.58),\n",
       " Row(date=datetime.datetime(2018, 8, 20, 0, 0), temperaturemin=68.0, temperaturemax=87.1, precipitation=0.86, snowfall=0.0, snowdepth=0.0, avgwindspeed=4.47),\n",
       " Row(date=datetime.datetime(2018, 8, 27, 0, 0), temperaturemin=69.1, temperaturemax=93.0, precipitation=0.0, snowfall=0.0, snowdepth=0.0, avgwindspeed=4.03),\n",
       " Row(date=datetime.datetime(2018, 8, 31, 0, 0), temperaturemin=69.1, temperaturemax=91.9, precipitation=0.27, snowfall=0.0, snowdepth=0.0, avgwindspeed=3.8),\n",
       " Row(date=datetime.datetime(2018, 9, 10, 0, 0), temperaturemin=66.9, temperaturemax=88.0, precipitation=0.26, snowfall=0.0, snowdepth=0.0, avgwindspeed=4.47),\n",
       " Row(date=datetime.datetime(2018, 9, 28, 0, 0), temperaturemin=64.9, temperaturemax=79.0, precipitation=0.02, snowfall=0.0, snowdepth=0.0, avgwindspeed=4.92),\n",
       " Row(date=datetime.datetime(2018, 10, 1, 0, 0), temperaturemin=60.1, temperaturemax=82.0, precipitation=0.0, snowfall=0.0, snowdepth=0.0, avgwindspeed=2.01),\n",
       " Row(date=datetime.datetime(2018, 10, 3, 0, 0), temperaturemin=64.0, temperaturemax=86.0, precipitation=0.0, snowfall=0.0, snowdepth=0.0, avgwindspeed=2.68),\n",
       " Row(date=datetime.datetime(2018, 10, 4, 0, 0), temperaturemin=66.0, temperaturemax=89.1, precipitation=0.0, snowfall=0.0, snowdepth=0.0, avgwindspeed=2.68),\n",
       " Row(date=datetime.datetime(2018, 10, 7, 0, 0), temperaturemin=66.0, temperaturemax=87.1, precipitation=0.0, snowfall=0.0, snowdepth=0.0, avgwindspeed=2.91),\n",
       " Row(date=datetime.datetime(2018, 10, 8, 0, 0), temperaturemin=69.1, temperaturemax=84.9, precipitation=0.0, snowfall=0.0, snowdepth=0.0, avgwindspeed=6.26),\n",
       " Row(date=datetime.datetime(2018, 10, 11, 0, 0), temperaturemin=63.0, temperaturemax=79.0, precipitation=2.6, snowfall=0.0, snowdepth=0.0, avgwindspeed=11.63),\n",
       " Row(date=datetime.datetime(2018, 10, 13, 0, 0), temperaturemin=48.0, temperaturemax=70.0, precipitation=0.0, snowfall=0.0, snowdepth=0.0, avgwindspeed=3.36),\n",
       " Row(date=datetime.datetime(2018, 10, 15, 0, 0), temperaturemin=59.0, temperaturemax=80.1, precipitation=0.0, snowfall=0.0, snowdepth=0.0, avgwindspeed=5.59),\n",
       " Row(date=datetime.datetime(2018, 10, 17, 0, 0), temperaturemin=53.1, temperaturemax=71.1, precipitation=0.0, snowfall=0.0, snowdepth=0.0, avgwindspeed=3.58),\n",
       " Row(date=datetime.datetime(2018, 10, 18, 0, 0), temperaturemin=43.0, temperaturemax=62.1, precipitation=0.0, snowfall=0.0, snowdepth=0.0, avgwindspeed=4.47),\n",
       " Row(date=datetime.datetime(2018, 10, 25, 0, 0), temperaturemin=36.0, temperaturemax=55.0, precipitation=0.0, snowfall=0.0, snowdepth=0.0, avgwindspeed=1.34),\n",
       " Row(date=datetime.datetime(2018, 11, 5, 0, 0), temperaturemin=54.0, temperaturemax=62.1, precipitation=0.82, snowfall=0.0, snowdepth=0.0, avgwindspeed=3.8),\n",
       " Row(date=datetime.datetime(2018, 11, 6, 0, 0), temperaturemin=57.0, temperaturemax=73.9, precipitation=0.03, snowfall=0.0, snowdepth=0.0, avgwindspeed=7.38),\n",
       " Row(date=datetime.datetime(2018, 11, 10, 0, 0), temperaturemin=34.0, temperaturemax=52.0, precipitation=0.0, snowfall=0.0, snowdepth=0.0, avgwindspeed=6.26),\n",
       " Row(date=datetime.datetime(2018, 11, 24, 0, 0), temperaturemin=36.0, temperaturemax=45.0, precipitation=0.72, snowfall=0.0, snowdepth=0.0, avgwindspeed=5.14),\n",
       " Row(date=datetime.datetime(2018, 11, 29, 0, 0), temperaturemin=25.2, temperaturemax=51.1, precipitation=0.0, snowfall=0.0, snowdepth=0.0, avgwindspeed=3.13),\n",
       " Row(date=datetime.datetime(2018, 12, 2, 0, 0), temperaturemin=57.9, temperaturemax=71.1, precipitation=0.0, snowfall=0.0, snowdepth=0.0, avgwindspeed=10.96),\n",
       " Row(date=datetime.datetime(2018, 12, 10, 0, 0), temperaturemin=30.2, temperaturemax=34.0, precipitation=0.73, snowfall=1.89, snowdepth=1.18, avgwindspeed=7.61),\n",
       " Row(date=datetime.datetime(2018, 12, 17, 0, 0), temperaturemin=36.0, temperaturemax=61.0, precipitation=0.0, snowfall=0.0, snowdepth=0.0, avgwindspeed=5.82),\n",
       " Row(date=datetime.datetime(2018, 12, 20, 0, 0), temperaturemin=45.0, temperaturemax=66.0, precipitation=0.68, snowfall=0.0, snowdepth=0.0, avgwindspeed=8.72),\n",
       " Row(date=datetime.datetime(2018, 12, 22, 0, 0), temperaturemin=34.0, temperaturemax=53.1, precipitation=0.0, snowfall=0.0, snowdepth=0.0, avgwindspeed=6.71),\n",
       " Row(date=datetime.datetime(2018, 12, 30, 0, 0), temperaturemin=45.0, temperaturemax=59.0, precipitation=0.01, snowfall=0.0, snowdepth=0.0, avgwindspeed=2.91),\n",
       " Row(date=datetime.datetime(2019, 1, 7, 0, 0), temperaturemin=39.9, temperaturemax=51.1, precipitation=0.0, snowfall=0.0, snowdepth=0.0, avgwindspeed=6.93),\n",
       " Row(date=datetime.datetime(2019, 1, 25, 0, 0), temperaturemin=27.1, temperaturemax=46.9, precipitation=0.0, snowfall=0.0, snowdepth=0.0, avgwindspeed=3.58),\n",
       " Row(date=datetime.datetime(2019, 2, 4, 0, 0), temperaturemin=37.0, temperaturemax=68.0, precipitation=0.0, snowfall=0.0, snowdepth=0.0, avgwindspeed=2.68),\n",
       " Row(date=datetime.datetime(2019, 2, 10, 0, 0), temperaturemin=27.1, temperaturemax=43.0, precipitation=0.0, snowfall=0.0, snowdepth=0.0, avgwindspeed=3.8),\n",
       " Row(date=datetime.datetime(2019, 2, 16, 0, 0), temperaturemin=34.0, temperaturemax=57.9, precipitation=0.45, snowfall=0.0, snowdepth=0.0, avgwindspeed=8.05),\n",
       " Row(date=datetime.datetime(2019, 2, 18, 0, 0), temperaturemin=37.9, temperaturemax=63.0, precipitation=0.42, snowfall=0.0, snowdepth=0.0, avgwindspeed=6.71),\n",
       " Row(date=datetime.datetime(2019, 2, 19, 0, 0), temperaturemin=33.1, temperaturemax=45.0, precipitation=0.25, snowfall=0.0, snowdepth=0.0, avgwindspeed=5.37),\n",
       " Row(date=datetime.datetime(2019, 2, 21, 0, 0), temperaturemin=35.1, temperaturemax=59.0, precipitation=0.14, snowfall=0.0, snowdepth=0.0, avgwindspeed=4.25),\n",
       " Row(date=datetime.datetime(2019, 2, 24, 0, 0), temperaturemin=41.0, temperaturemax=64.9, precipitation=0.05, snowfall=0.0, snowdepth=0.0, avgwindspeed=8.72),\n",
       " Row(date=datetime.datetime(2019, 3, 2, 0, 0), temperaturemin=37.0, temperaturemax=59.0, precipitation=0.0, snowfall=0.0, snowdepth=0.0, avgwindspeed=4.25),\n",
       " Row(date=datetime.datetime(2019, 3, 16, 0, 0), temperaturemin=39.9, temperaturemax=59.0, precipitation=0.0, snowfall=0.0, snowdepth=0.0, avgwindspeed=4.92),\n",
       " Row(date=datetime.datetime(2019, 3, 19, 0, 0), temperaturemin=33.1, temperaturemax=55.0, precipitation=0.0, snowfall=0.0, snowdepth=0.0, avgwindspeed=6.26),\n",
       " Row(date=datetime.datetime(2019, 3, 21, 0, 0), temperaturemin=44.1, temperaturemax=59.0, precipitation=0.58, snowfall=0.0, snowdepth=0.0, avgwindspeed=6.26),\n",
       " Row(date=datetime.datetime(2019, 3, 26, 0, 0), temperaturemin=39.0, temperaturemax=55.9, precipitation=0.06, snowfall=0.0, snowdepth=0.0, avgwindspeed=10.07),\n",
       " Row(date=datetime.datetime(2019, 4, 2, 0, 0), temperaturemin=31.1, temperaturemax=39.9, precipitation=0.35, snowfall=0.0, snowdepth=0.0, avgwindspeed=5.82),\n",
       " Row(date=datetime.datetime(2019, 4, 13, 0, 0), temperaturemin=64.0, temperaturemax=70.0, precipitation=0.93, snowfall=0.0, snowdepth=0.0, avgwindspeed=5.59),\n",
       " Row(date=datetime.datetime(2019, 4, 14, 0, 0), temperaturemin=66.0, temperaturemax=79.0, precipitation=0.28, snowfall=0.0, snowdepth=0.0, avgwindspeed=11.86),\n",
       " Row(date=datetime.datetime(2019, 4, 17, 0, 0), temperaturemin=48.0, temperaturemax=80.1, precipitation=0.0, snowfall=0.0, snowdepth=0.0, avgwindspeed=6.71),\n",
       " Row(date=datetime.datetime(2019, 4, 20, 0, 0), temperaturemin=48.9, temperaturemax=66.0, precipitation=0.02, snowfall=0.0, snowdepth=0.0, avgwindspeed=12.53),\n",
       " Row(date=datetime.datetime(2019, 5, 1, 0, 0), temperaturemin=63.0, temperaturemax=84.0, precipitation=0.0, snowfall=0.0, snowdepth=0.0, avgwindspeed=8.05),\n",
       " Row(date=datetime.datetime(2019, 5, 5, 0, 0), temperaturemin=63.0, temperaturemax=77.0, precipitation=0.36, snowfall=0.0, snowdepth=0.0, avgwindspeed=6.71),\n",
       " Row(date=datetime.datetime(2019, 5, 7, 0, 0), temperaturemin=57.9, temperaturemax=79.0, precipitation=0.0, snowfall=0.0, snowdepth=0.0, avgwindspeed=4.47),\n",
       " Row(date=datetime.datetime(2019, 5, 9, 0, 0), temperaturemin=63.0, temperaturemax=82.9, precipitation=0.0, snowfall=0.0, snowdepth=0.0, avgwindspeed=8.05),\n",
       " Row(date=datetime.datetime(2019, 5, 12, 0, 0), temperaturemin=64.9, temperaturemax=75.9, precipitation=0.0, snowfall=0.0, snowdepth=0.0, avgwindspeed=11.63),\n",
       " Row(date=datetime.datetime(2019, 5, 27, 0, 0), temperaturemin=68.0, temperaturemax=89.1, precipitation=0.0, snowfall=0.0, snowdepth=0.0, avgwindspeed=3.13),\n",
       " Row(date=datetime.datetime(2019, 6, 4, 0, 0), temperaturemin=57.0, temperaturemax=84.0, precipitation=0.0, snowfall=0.0, snowdepth=0.0, avgwindspeed=6.93),\n",
       " Row(date=datetime.datetime(2019, 6, 9, 0, 0), temperaturemin=70.0, temperaturemax=80.1, precipitation=0.09, snowfall=0.0, snowdepth=0.0, avgwindspeed=6.93),\n",
       " Row(date=datetime.datetime(2019, 6, 10, 0, 0), temperaturemin=72.0, temperaturemax=87.1, precipitation=0.14, snowfall=0.0, snowdepth=0.0, avgwindspeed=6.49),\n",
       " Row(date=datetime.datetime(2019, 6, 22, 0, 0), temperaturemin=63.0, temperaturemax=84.0, precipitation=0.01, snowfall=0.0, snowdepth=0.0, avgwindspeed=4.03),\n",
       " Row(date=datetime.datetime(2019, 6, 25, 0, 0), temperaturemin=70.0, temperaturemax=90.0, precipitation=0.0, snowfall=0.0, snowdepth=0.0, avgwindspeed=5.14),\n",
       " Row(date=datetime.datetime(2019, 7, 12, 0, 0), temperaturemin=73.0, temperaturemax=91.9, precipitation=0.08, snowfall=0.0, snowdepth=0.0, avgwindspeed=8.05),\n",
       " Row(date=datetime.datetime(2019, 7, 13, 0, 0), temperaturemin=73.0, temperaturemax=95.0, precipitation=0.0, snowfall=0.0, snowdepth=0.0, avgwindspeed=4.92),\n",
       " Row(date=datetime.datetime(2019, 7, 16, 0, 0), temperaturemin=71.1, temperaturemax=96.1, precipitation=0.0, snowfall=0.0, snowdepth=0.0, avgwindspeed=3.36),\n",
       " Row(date=datetime.datetime(2019, 7, 18, 0, 0), temperaturemin=73.9, temperaturemax=96.1, precipitation=0.02, snowfall=0.0, snowdepth=0.0, avgwindspeed=7.61),\n",
       " Row(date=datetime.datetime(2019, 8, 5, 0, 0), temperaturemin=68.0, temperaturemax=84.9, precipitation=0.22, snowfall=0.0, snowdepth=0.0, avgwindspeed=2.68),\n",
       " Row(date=datetime.datetime(2019, 8, 15, 0, 0), temperaturemin=72.0, temperaturemax=90.0, precipitation=0.0, snowfall=0.0, snowdepth=0.0, avgwindspeed=3.8),\n",
       " Row(date=datetime.datetime(2019, 8, 30, 0, 0), temperaturemin=57.0, temperaturemax=90.0, precipitation=0.0, snowfall=0.0, snowdepth=0.0, avgwindspeed=3.13),\n",
       " Row(date=datetime.datetime(2019, 8, 31, 0, 0), temperaturemin=62.1, temperaturemax=89.1, precipitation=0.0, snowfall=0.0, snowdepth=0.0, avgwindspeed=2.91),\n",
       " Row(date=datetime.datetime(2019, 9, 3, 0, 0), temperaturemin=68.0, temperaturemax=91.0, precipitation=0.0, snowfall=0.0, snowdepth=0.0, avgwindspeed=3.13),\n",
       " Row(date=datetime.datetime(2019, 9, 5, 0, 0), temperaturemin=70.0, temperaturemax=79.0, precipitation=0.93, snowfall=0.0, snowdepth=0.0, avgwindspeed=11.86),\n",
       " Row(date=datetime.datetime(2019, 9, 8, 0, 0), temperaturemin=66.0, temperaturemax=89.1, precipitation=0.0, snowfall=0.0, snowdepth=0.0, avgwindspeed=4.03),\n",
       " Row(date=datetime.datetime(2019, 9, 21, 0, 0), temperaturemin=55.0, temperaturemax=88.0, precipitation=0.0, snowfall=0.0, snowdepth=0.0, avgwindspeed=5.14),\n",
       " Row(date=datetime.datetime(2019, 9, 24, 0, 0), temperaturemin=64.0, temperaturemax=89.1, precipitation=0.0, snowfall=0.0, snowdepth=0.0, avgwindspeed=3.8),\n",
       " Row(date=datetime.datetime(2019, 9, 25, 0, 0), temperaturemin=63.0, temperaturemax=87.1, precipitation=0.0, snowfall=0.0, snowdepth=0.0, avgwindspeed=6.04),\n",
       " Row(date=datetime.datetime(2019, 9, 28, 0, 0), temperaturemin=71.1, temperaturemax=93.9, precipitation=0.0, snowfall=0.0, snowdepth=0.0, avgwindspeed=7.61),\n",
       " Row(date=datetime.datetime(2019, 10, 5, 0, 0), temperaturemin=57.9, temperaturemax=68.0, precipitation=0.0, snowfall=0.0, snowdepth=0.0, avgwindspeed=8.72),\n",
       " Row(date=datetime.datetime(2019, 10, 6, 0, 0), temperaturemin=57.0, temperaturemax=82.0, precipitation=0.0, snowfall=0.0, snowdepth=0.0, avgwindspeed=4.47),\n",
       " Row(date=datetime.datetime(2019, 10, 21, 0, 0), temperaturemin=50.0, temperaturemax=73.9, precipitation=0.0, snowfall=0.0, snowdepth=0.0, avgwindspeed=4.47),\n",
       " Row(date=datetime.datetime(2019, 10, 23, 0, 0), temperaturemin=44.1, temperaturemax=69.1, precipitation=0.0, snowfall=0.0, snowdepth=0.0, avgwindspeed=2.24),\n",
       " Row(date=datetime.datetime(2019, 10, 25, 0, 0), temperaturemin=52.0, temperaturemax=75.0, precipitation=0.0, snowfall=0.0, snowdepth=0.0, avgwindspeed=1.12),\n",
       " Row(date=datetime.datetime(2019, 10, 26, 0, 0), temperaturemin=53.1, temperaturemax=79.0, precipitation=0.0, snowfall=0.0, snowdepth=0.0, avgwindspeed=6.04),\n",
       " Row(date=datetime.datetime(2019, 11, 2, 0, 0), temperaturemin=36.0, temperaturemax=62.1, precipitation=0.0, snowfall=0.0, snowdepth=0.0, avgwindspeed=1.12),\n",
       " Row(date=datetime.datetime(2019, 11, 4, 0, 0), temperaturemin=33.1, temperaturemax=64.0, precipitation=0.0, snowfall=0.0, snowdepth=0.0, avgwindspeed=2.24),\n",
       " Row(date=datetime.datetime(2019, 11, 8, 0, 0), temperaturemin=33.1, temperaturemax=57.9, precipitation=0.1, snowfall=0.0, snowdepth=0.0, avgwindspeed=7.61),\n",
       " Row(date=datetime.datetime(2019, 11, 9, 0, 0), temperaturemin=27.1, temperaturemax=52.0, precipitation=0.0, snowfall=0.0, snowdepth=0.0, avgwindspeed=2.68),\n",
       " Row(date=datetime.datetime(2019, 11, 10, 0, 0), temperaturemin=29.1, temperaturemax=64.9, precipitation=0.0, snowfall=0.0, snowdepth=0.0, avgwindspeed=5.82),\n",
       " Row(date=datetime.datetime(2019, 11, 12, 0, 0), temperaturemin=29.1, temperaturemax=55.9, precipitation=0.94, snowfall=0.0, snowdepth=0.0, avgwindspeed=6.71),\n",
       " Row(date=datetime.datetime(2019, 11, 21, 0, 0), temperaturemin=31.1, temperaturemax=59.0, precipitation=0.0, snowfall=0.0, snowdepth=0.0, avgwindspeed=3.58),\n",
       " Row(date=datetime.datetime(2019, 11, 28, 0, 0), temperaturemin=41.0, temperaturemax=59.0, precipitation=0.0, snowfall=0.0, snowdepth=0.0, avgwindspeed=7.16),\n",
       " Row(date=datetime.datetime(2019, 11, 29, 0, 0), temperaturemin=33.1, temperaturemax=55.9, precipitation=0.0, snowfall=0.0, snowdepth=0.0, avgwindspeed=1.12),\n",
       " Row(date=datetime.datetime(2019, 12, 2, 0, 0), temperaturemin=37.9, temperaturemax=50.0, precipitation=0.0, snowfall=0.0, snowdepth=0.0, avgwindspeed=7.83),\n",
       " Row(date=datetime.datetime(2019, 12, 3, 0, 0), temperaturemin=35.1, temperaturemax=51.1, precipitation=0.0, snowfall=0.0, snowdepth=0.0, avgwindspeed=5.14),\n",
       " Row(date=datetime.datetime(2019, 12, 4, 0, 0), temperaturemin=33.1, temperaturemax=57.0, precipitation=0.0, snowfall=0.0, snowdepth=0.0, avgwindspeed=4.7),\n",
       " Row(date=datetime.datetime(2019, 12, 21, 0, 0), temperaturemin=30.2, temperaturemax=48.9, precipitation=0.0, snowfall=0.0, snowdepth=0.0, avgwindspeed=2.01),\n",
       " Row(date=datetime.datetime(2020, 1, 3, 0, 0), temperaturemin=46.0, temperaturemax=57.9, precipitation=1.53, snowfall=0.0, snowdepth=0.0, avgwindspeed=3.58),\n",
       " Row(date=datetime.datetime(2020, 1, 5, 0, 0), temperaturemin=37.0, temperaturemax=51.1, precipitation=0.0, snowfall=0.0, snowdepth=0.0, avgwindspeed=7.61),\n",
       " Row(date=datetime.datetime(2020, 1, 16, 0, 0), temperaturemin=46.0, temperaturemax=64.0, precipitation=0.0, snowfall=0.0, snowdepth=0.0, avgwindspeed=7.83),\n",
       " Row(date=datetime.datetime(2020, 1, 19, 0, 0), temperaturemin=32.0, temperaturemax=55.9, precipitation=0.01, snowfall=0.0, snowdepth=0.0, avgwindspeed=9.17),\n",
       " Row(date=datetime.datetime(2020, 1, 23, 0, 0), temperaturemin=25.2, temperaturemax=48.9, precipitation=0.0, snowfall=0.0, snowdepth=0.0, avgwindspeed=4.7),\n",
       " Row(date=datetime.datetime(2020, 1, 27, 0, 0), temperaturemin=31.1, temperaturemax=54.0, precipitation=0.12, snowfall=0.0, snowdepth=0.0, avgwindspeed=2.68),\n",
       " Row(date=datetime.datetime(2020, 1, 28, 0, 0), temperaturemin=34.0, temperaturemax=53.1, precipitation=0.0, snowfall=0.0, snowdepth=0.0, avgwindspeed=2.24),\n",
       " Row(date=datetime.datetime(2020, 1, 31, 0, 0), temperaturemin=28.2, temperaturemax=46.9, precipitation=0.6, snowfall=0.0, snowdepth=0.0, avgwindspeed=4.47),\n",
       " Row(date=datetime.datetime(2020, 2, 9, 0, 0), temperaturemin=31.1, temperaturemax=54.0, precipitation=0.0, snowfall=0.0, snowdepth=0.0, avgwindspeed=4.7),\n",
       " Row(date=datetime.datetime(2020, 2, 13, 0, 0), temperaturemin=50.0, temperaturemax=69.1, precipitation=0.57, snowfall=0.0, snowdepth=0.0, avgwindspeed=11.41),\n",
       " Row(date=datetime.datetime(2020, 2, 16, 0, 0), temperaturemin=31.1, temperaturemax=55.0, precipitation=0.05, snowfall=0.0, snowdepth=0.0, avgwindspeed=3.58),\n",
       " Row(date=datetime.datetime(2020, 2, 24, 0, 0), temperaturemin=46.0, temperaturemax=54.0, precipitation=0.18, snowfall=0.0, snowdepth=0.0, avgwindspeed=6.93),\n",
       " Row(date=datetime.datetime(2020, 2, 27, 0, 0), temperaturemin=36.0, temperaturemax=50.0, precipitation=0.0, snowfall=0.0, snowdepth=0.0, avgwindspeed=9.4),\n",
       " Row(date=datetime.datetime(2020, 3, 4, 0, 0), temperaturemin=46.9, temperaturemax=60.1, precipitation=0.0, snowfall=0.0, snowdepth=0.0, avgwindspeed=5.82),\n",
       " Row(date=datetime.datetime(2020, 3, 7, 0, 0), temperaturemin=34.0, temperaturemax=54.0, precipitation=0.0, snowfall=0.0, snowdepth=0.0, avgwindspeed=5.82),\n",
       " Row(date=datetime.datetime(2020, 3, 13, 0, 0), temperaturemin=63.0, temperaturemax=75.0, precipitation=0.07, snowfall=0.0, snowdepth=0.0, avgwindspeed=8.95),\n",
       " Row(date=datetime.datetime(2020, 3, 16, 0, 0), temperaturemin=42.1, temperaturemax=59.0, precipitation=0.0, snowfall=0.0, snowdepth=0.0, avgwindspeed=4.47),\n",
       " Row(date=datetime.datetime(2020, 3, 21, 0, 0), temperaturemin=50.0, temperaturemax=73.0, precipitation=0.07, snowfall=0.0, snowdepth=0.0, avgwindspeed=6.26),\n",
       " Row(date=datetime.datetime(2020, 3, 28, 0, 0), temperaturemin=62.1, temperaturemax=89.1, precipitation=0.0, snowfall=0.0, snowdepth=0.0, avgwindspeed=7.16),\n",
       " Row(date=datetime.datetime(2020, 4, 1, 0, 0), temperaturemin=44.1, temperaturemax=59.0, precipitation=0.0, snowfall=0.0, snowdepth=0.0, avgwindspeed=6.04),\n",
       " Row(date=datetime.datetime(2020, 4, 2, 0, 0), temperaturemin=41.0, temperaturemax=66.0, precipitation=0.0, snowfall=0.0, snowdepth=0.0, avgwindspeed=5.37),\n",
       " Row(date=datetime.datetime(2020, 4, 3, 0, 0), temperaturemin=41.0, temperaturemax=72.0, precipitation=0.0, snowfall=0.0, snowdepth=0.0, avgwindspeed=5.14),\n",
       " Row(date=datetime.datetime(2020, 4, 7, 0, 0), temperaturemin=51.1, temperaturemax=84.0, precipitation=0.0, snowfall=0.0, snowdepth=0.0, avgwindspeed=6.04),\n",
       " Row(date=datetime.datetime(2020, 4, 11, 0, 0), temperaturemin=32.0, temperaturemax=66.9, precipitation=0.0, snowfall=0.0, snowdepth=0.0, avgwindspeed=4.47),\n",
       " Row(date=datetime.datetime(2020, 4, 17, 0, 0), temperaturemin=35.1, temperaturemax=73.0, precipitation=0.0, snowfall=0.0, snowdepth=0.0, avgwindspeed=10.51),\n",
       " Row(date=datetime.datetime(2020, 4, 26, 0, 0), temperaturemin=51.1, temperaturemax=73.9, precipitation=0.26, snowfall=0.0, snowdepth=0.0, avgwindspeed=7.16),\n",
       " Row(date=datetime.datetime(2020, 4, 27, 0, 0), temperaturemin=44.1, temperaturemax=69.1, precipitation=0.0, snowfall=0.0, snowdepth=0.0, avgwindspeed=6.26),\n",
       " Row(date=datetime.datetime(2020, 4, 30, 0, 0), temperaturemin=55.0, temperaturemax=69.1, precipitation=1.67, snowfall=0.0, snowdepth=0.0, avgwindspeed=8.72),\n",
       " Row(date=datetime.datetime(2010, 1, 1, 0, 0), temperaturemin=30.9, temperaturemax=48.0, precipitation=0.0, snowfall=0.0, snowdepth=0.0, avgwindspeed=4.7),\n",
       " Row(date=datetime.datetime(2010, 1, 24, 0, 0), temperaturemin=39.9, temperaturemax=64.9, precipitation=0.13, snowfall=0.0, snowdepth=0.0, avgwindspeed=9.62),\n",
       " Row(date=datetime.datetime(2010, 1, 29, 0, 0), temperaturemin=28.0, temperaturemax=46.0, precipitation=0.1, snowfall=1.42, snowdepth=0.0, avgwindspeed=7.16),\n",
       " Row(date=datetime.datetime(2010, 2, 1, 0, 0), temperaturemin=18.0, temperaturemax=48.0, precipitation=0.0, snowfall=0.0, snowdepth=2.99, avgwindspeed=0.67),\n",
       " Row(date=datetime.datetime(2010, 2, 4, 0, 0), temperaturemin=30.0, temperaturemax=44.1, precipitation=0.0, snowfall=0.0, snowdepth=0.0, avgwindspeed=3.13),\n",
       " Row(date=datetime.datetime(2010, 2, 15, 0, 0), temperaturemin=28.9, temperaturemax=51.1, precipitation=0.03, snowfall=0.0, snowdepth=0.0, avgwindspeed=7.61),\n",
       " Row(date=datetime.datetime(2010, 2, 22, 0, 0), temperaturemin=36.0, temperaturemax=52.0, precipitation=0.29, snowfall=0.0, snowdepth=0.0, avgwindspeed=2.46),\n",
       " Row(date=datetime.datetime(2010, 2, 24, 0, 0), temperaturemin=37.0, temperaturemax=48.0, precipitation=0.12, snowfall=0.0, snowdepth=0.0, avgwindspeed=5.59),\n",
       " Row(date=datetime.datetime(2010, 3, 24, 0, 0), temperaturemin=39.0, temperaturemax=73.9, precipitation=0.0, snowfall=0.0, snowdepth=0.0, avgwindspeed=4.7),\n",
       " Row(date=datetime.datetime(2010, 3, 28, 0, 0), temperaturemin=37.9, temperaturemax=69.1, precipitation=0.09, snowfall=0.0, snowdepth=0.0, avgwindspeed=11.63),\n",
       " Row(date=datetime.datetime(2010, 4, 2, 0, 0), temperaturemin=54.0, temperaturemax=88.0, precipitation=0.0, snowfall=0.0, snowdepth=0.0, avgwindspeed=4.7),\n",
       " Row(date=datetime.datetime(2010, 4, 4, 0, 0), temperaturemin=57.9, temperaturemax=82.9, precipitation=0.0, snowfall=0.0, snowdepth=0.0, avgwindspeed=3.58),\n",
       " Row(date=datetime.datetime(2010, 4, 25, 0, 0), temperaturemin=62.1, temperaturemax=81.0, precipitation=0.29, snowfall=0.0, snowdepth=0.0, avgwindspeed=14.32),\n",
       " Row(date=datetime.datetime(2010, 5, 14, 0, 0), temperaturemin=64.9, temperaturemax=93.9, precipitation=0.0, snowfall=0.0, snowdepth=0.0, avgwindspeed=7.61),\n",
       " Row(date=datetime.datetime(2010, 5, 17, 0, 0), temperaturemin=55.9, temperaturemax=77.0, precipitation=2.3, snowfall=0.0, snowdepth=0.0, avgwindspeed=8.28),\n",
       " Row(date=datetime.datetime(2010, 5, 21, 0, 0), temperaturemin=54.0, temperaturemax=84.0, precipitation=0.0, snowfall=0.0, snowdepth=0.0, avgwindspeed=2.68),\n",
       " Row(date=datetime.datetime(2010, 5, 31, 0, 0), temperaturemin=69.1, temperaturemax=88.0, precipitation=0.0, snowfall=0.0, snowdepth=0.0, avgwindspeed=9.17),\n",
       " Row(date=datetime.datetime(2010, 6, 13, 0, 0), temperaturemin=72.0, temperaturemax=96.1, precipitation=1.23, snowfall=0.0, snowdepth=0.0, avgwindspeed=5.59),\n",
       " Row(date=datetime.datetime(2010, 6, 14, 0, 0), temperaturemin=71.1, temperaturemax=93.0, precipitation=0.0, snowfall=0.0, snowdepth=0.0, avgwindspeed=3.8),\n",
       " Row(date=datetime.datetime(2010, 6, 22, 0, 0), temperaturemin=69.1, temperaturemax=98.1, precipitation=0.0, snowfall=0.0, snowdepth=0.0, avgwindspeed=4.47),\n",
       " Row(date=datetime.datetime(2010, 7, 2, 0, 0), temperaturemin=57.9, temperaturemax=82.9, precipitation=0.0, snowfall=0.0, snowdepth=0.0, avgwindspeed=3.8),\n",
       " Row(date=datetime.datetime(2010, 7, 6, 0, 0), temperaturemin=66.0, temperaturemax=100.9, precipitation=0.0, snowfall=0.0, snowdepth=0.0, avgwindspeed=3.8),\n",
       " Row(date=datetime.datetime(2010, 7, 10, 0, 0), temperaturemin=73.9, temperaturemax=91.0, precipitation=0.0, snowfall=0.0, snowdepth=0.0, avgwindspeed=4.25),\n",
       " Row(date=datetime.datetime(2010, 7, 22, 0, 0), temperaturemin=75.0, temperaturemax=97.0, precipitation=0.0, snowfall=0.0, snowdepth=0.0, avgwindspeed=2.68),\n",
       " Row(date=datetime.datetime(2010, 8, 9, 0, 0), temperaturemin=71.1, temperaturemax=93.0, precipitation=0.0, snowfall=0.0, snowdepth=0.0, avgwindspeed=3.36),\n",
       " Row(date=datetime.datetime(2010, 8, 12, 0, 0), temperaturemin=75.9, temperaturemax=97.0, precipitation=0.05, snowfall=0.0, snowdepth=0.0, avgwindspeed=4.25),\n",
       " Row(date=datetime.datetime(2010, 8, 28, 0, 0), temperaturemin=70.0, temperaturemax=90.0, precipitation=0.0, snowfall=0.0, snowdepth=0.0, avgwindspeed=2.68),\n",
       " Row(date=datetime.datetime(2010, 8, 31, 0, 0), temperaturemin=64.9, temperaturemax=97.0, precipitation=0.0, snowfall=0.0, snowdepth=0.0, avgwindspeed=2.24),\n",
       " Row(date=datetime.datetime(2010, 9, 5, 0, 0), temperaturemin=54.0, temperaturemax=87.1, precipitation=0.0, snowfall=0.0, snowdepth=0.0, avgwindspeed=3.13),\n",
       " Row(date=datetime.datetime(2010, 9, 13, 0, 0), temperaturemin=63.0, temperaturemax=87.1, precipitation=0.0, snowfall=0.0, snowdepth=0.0, avgwindspeed=3.58),\n",
       " Row(date=datetime.datetime(2010, 9, 15, 0, 0), temperaturemin=59.0, temperaturemax=93.9, precipitation=0.0, snowfall=0.0, snowdepth=0.0, avgwindspeed=3.8),\n",
       " Row(date=datetime.datetime(2010, 9, 21, 0, 0), temperaturemin=66.9, temperaturemax=89.1, precipitation=0.0, snowfall=0.0, snowdepth=0.0, avgwindspeed=6.71),\n",
       " Row(date=datetime.datetime(2010, 10, 7, 0, 0), temperaturemin=46.9, temperaturemax=82.0, precipitation=0.0, snowfall=0.0, snowdepth=0.0, avgwindspeed=5.59),\n",
       " Row(date=datetime.datetime(2010, 10, 8, 0, 0), temperaturemin=48.0, temperaturemax=79.0, precipitation=0.0, snowfall=0.0, snowdepth=0.0, avgwindspeed=2.01),\n",
       " Row(date=datetime.datetime(2010, 11, 10, 0, 0), temperaturemin=39.9, temperaturemax=70.0, precipitation=0.0, snowfall=0.0, snowdepth=0.0, avgwindspeed=1.79),\n",
       " Row(date=datetime.datetime(2010, 12, 15, 0, 0), temperaturemin=16.0, temperaturemax=37.0, precipitation=0.0, snowfall=0.0, snowdepth=0.0, avgwindspeed=5.59),\n",
       " Row(date=datetime.datetime(2010, 12, 16, 0, 0), temperaturemin=28.0, temperaturemax=35.1, precipitation=0.6, snowfall=0.39, snowdepth=0.0, avgwindspeed=4.47),\n",
       " Row(date=datetime.datetime(2010, 12, 17, 0, 0), temperaturemin=28.0, temperaturemax=43.0, precipitation=0.0, snowfall=0.0, snowdepth=0.0, avgwindspeed=2.24),\n",
       " Row(date=datetime.datetime(2010, 12, 20, 0, 0), temperaturemin=25.0, temperaturemax=42.1, precipitation=0.0, snowfall=0.0, snowdepth=0.0, avgwindspeed=4.03),\n",
       " Row(date=datetime.datetime(2010, 12, 23, 0, 0), temperaturemin=32.0, temperaturemax=45.0, precipitation=0.0, snowfall=0.0, snowdepth=0.0, avgwindspeed=7.83),\n",
       " Row(date=datetime.datetime(2010, 12, 25, 0, 0), temperaturemin=32.0, temperaturemax=44.1, precipitation=0.15, snowfall=0.39, snowdepth=0.0, avgwindspeed=2.46),\n",
       " Row(date=datetime.datetime(2010, 12, 30, 0, 0), temperaturemin=24.1, temperaturemax=46.0, precipitation=0.0, snowfall=0.0, snowdepth=0.0, avgwindspeed=0.89),\n",
       " Row(date=datetime.datetime(2011, 1, 9, 0, 0), temperaturemin=19.0, temperaturemax=35.1, precipitation=0.0, snowfall=0.0, snowdepth=0.0, avgwindspeed=4.03),\n",
       " Row(date=datetime.datetime(2011, 1, 19, 0, 0), temperaturemin=42.1, temperaturemax=61.0, precipitation=0.0, snowfall=0.0, snowdepth=0.0, avgwindspeed=5.14),\n",
       " Row(date=datetime.datetime(2011, 1, 23, 0, 0), temperaturemin=16.0, temperaturemax=46.0, precipitation=0.0, snowfall=0.0, snowdepth=0.0, avgwindspeed=2.24),\n",
       " Row(date=datetime.datetime(2011, 1, 31, 0, 0), temperaturemin=35.1, temperaturemax=46.9, precipitation=0.0, snowfall=0.0, snowdepth=0.0, avgwindspeed=9.4),\n",
       " Row(date=datetime.datetime(2011, 2, 3, 0, 0), temperaturemin=32.0, temperaturemax=44.1, precipitation=0.0, snowfall=0.0, snowdepth=0.0, avgwindspeed=5.14),\n",
       " Row(date=datetime.datetime(2011, 2, 7, 0, 0), temperaturemin=30.0, temperaturemax=57.9, precipitation=0.0, snowfall=0.0, snowdepth=0.0, avgwindspeed=3.8),\n",
       " Row(date=datetime.datetime(2011, 2, 17, 0, 0), temperaturemin=39.9, temperaturemax=71.1, precipitation=0.0, snowfall=0.0, snowdepth=0.0, avgwindspeed=7.61),\n",
       " Row(date=datetime.datetime(2011, 3, 7, 0, 0), temperaturemin=34.0, temperaturemax=54.0, precipitation=0.0, snowfall=0.0, snowdepth=0.0, avgwindspeed=5.82),\n",
       " Row(date=datetime.datetime(2011, 3, 8, 0, 0), temperaturemin=28.0, temperaturemax=57.9, precipitation=0.0, snowfall=0.0, snowdepth=0.0, avgwindspeed=6.26),\n",
       " Row(date=datetime.datetime(2011, 3, 10, 0, 0), temperaturemin=42.1, temperaturemax=68.0, precipitation=0.47, snowfall=0.0, snowdepth=0.0, avgwindspeed=9.84),\n",
       " Row(date=datetime.datetime(2011, 3, 11, 0, 0), temperaturemin=36.0, temperaturemax=51.1, precipitation=0.0, snowfall=0.0, snowdepth=0.0, avgwindspeed=6.04),\n",
       " Row(date=datetime.datetime(2011, 3, 12, 0, 0), temperaturemin=30.9, temperaturemax=69.1, precipitation=0.0, snowfall=0.0, snowdepth=0.0, avgwindspeed=10.07),\n",
       " Row(date=datetime.datetime(2011, 3, 18, 0, 0), temperaturemin=46.0, temperaturemax=84.9, precipitation=0.0, snowfall=0.0, snowdepth=0.0, avgwindspeed=8.5),\n",
       " Row(date=datetime.datetime(2011, 3, 19, 0, 0), temperaturemin=55.9, temperaturemax=75.0, precipitation=0.0, snowfall=0.0, snowdepth=0.0, avgwindspeed=5.82),\n",
       " Row(date=datetime.datetime(2011, 3, 23, 0, 0), temperaturemin=50.0, temperaturemax=82.9, precipitation=0.45, snowfall=0.0, snowdepth=0.0, avgwindspeed=6.71),\n",
       " Row(date=datetime.datetime(2011, 4, 3, 0, 0), temperaturemin=33.1, temperaturemax=71.1, precipitation=0.0, snowfall=0.0, snowdepth=0.0, avgwindspeed=5.37),\n",
       " Row(date=datetime.datetime(2011, 4, 30, 0, 0), temperaturemin=46.0, temperaturemax=77.0, precipitation=0.0, snowfall=0.0, snowdepth=0.0, avgwindspeed=3.13),\n",
       " Row(date=datetime.datetime(2011, 5, 4, 0, 0), temperaturemin=50.0, temperaturemax=71.1, precipitation=0.67, snowfall=0.0, snowdepth=0.0, avgwindspeed=5.82),\n",
       " Row(date=datetime.datetime(2011, 5, 18, 0, 0), temperaturemin=55.0, temperaturemax=75.0, precipitation=0.0, snowfall=0.0, snowdepth=0.0, avgwindspeed=3.13),\n",
       " Row(date=datetime.datetime(2011, 5, 22, 0, 0), temperaturemin=59.0, temperaturemax=89.1, precipitation=0.0, snowfall=0.0, snowdepth=0.0, avgwindspeed=4.03),\n",
       " Row(date=datetime.datetime(2011, 5, 23, 0, 0), temperaturemin=66.0, temperaturemax=91.0, precipitation=0.09, snowfall=0.0, snowdepth=0.0, avgwindspeed=7.38),\n",
       " Row(date=datetime.datetime(2011, 5, 26, 0, 0), temperaturemin=73.0, temperaturemax=93.0, precipitation=0.0, snowfall=0.0, snowdepth=0.0, avgwindspeed=11.86),\n",
       " Row(date=datetime.datetime(2011, 5, 31, 0, 0), temperaturemin=70.0, temperaturemax=95.0, precipitation=0.0, snowfall=0.0, snowdepth=0.0, avgwindspeed=3.8),\n",
       " Row(date=datetime.datetime(2011, 6, 6, 0, 0), temperaturemin=69.1, temperaturemax=90.0, precipitation=0.0, snowfall=0.0, snowdepth=0.0, avgwindspeed=4.7),\n",
       " Row(date=datetime.datetime(2011, 6, 11, 0, 0), temperaturemin=70.0, temperaturemax=93.9, precipitation=0.3, snowfall=0.0, snowdepth=0.0, avgwindspeed=6.49),\n",
       " Row(date=datetime.datetime(2011, 6, 19, 0, 0), temperaturemin=66.0, temperaturemax=91.9, precipitation=0.0, snowfall=0.0, snowdepth=0.0, avgwindspeed=5.59),\n",
       " Row(date=datetime.datetime(2011, 6, 22, 0, 0), temperaturemin=72.0, temperaturemax=96.1, precipitation=0.0, snowfall=0.0, snowdepth=0.0, avgwindspeed=9.4),\n",
       " Row(date=datetime.datetime(2011, 6, 23, 0, 0), temperaturemin=73.9, temperaturemax=91.9, precipitation=0.0, snowfall=0.0, snowdepth=0.0, avgwindspeed=11.18),\n",
       " Row(date=datetime.datetime(2011, 7, 2, 0, 0), temperaturemin=66.0, temperaturemax=95.0, precipitation=0.0, snowfall=0.0, snowdepth=0.0, avgwindspeed=2.68),\n",
       " Row(date=datetime.datetime(2011, 7, 13, 0, 0), temperaturemin=75.9, temperaturemax=97.0, precipitation=0.0, snowfall=0.0, snowdepth=0.0, avgwindspeed=3.13),\n",
       " Row(date=datetime.datetime(2011, 7, 14, 0, 0), temperaturemin=69.1, temperaturemax=87.1, precipitation=0.0, snowfall=0.0, snowdepth=0.0, avgwindspeed=8.72),\n",
       " Row(date=datetime.datetime(2011, 7, 19, 0, 0), temperaturemin=70.0, temperaturemax=96.1, precipitation=0.0, snowfall=0.0, snowdepth=0.0, avgwindspeed=4.92),\n",
       " Row(date=datetime.datetime(2011, 7, 23, 0, 0), temperaturemin=78.1, temperaturemax=102.9, precipitation=0.0, snowfall=0.0, snowdepth=0.0, avgwindspeed=7.16),\n",
       " Row(date=datetime.datetime(2011, 7, 27, 0, 0), temperaturemin=73.0, temperaturemax=99.0, precipitation=0.0, snowfall=0.0, snowdepth=0.0, avgwindspeed=4.92),\n",
       " Row(date=datetime.datetime(2011, 7, 30, 0, 0), temperaturemin=75.0, temperaturemax=100.0, precipitation=2.1, snowfall=0.0, snowdepth=0.0, avgwindspeed=4.7),\n",
       " Row(date=datetime.datetime(2011, 7, 31, 0, 0), temperaturemin=73.0, temperaturemax=84.9, precipitation=1.16, snowfall=0.0, snowdepth=0.0, avgwindspeed=2.68),\n",
       " Row(date=datetime.datetime(2011, 8, 11, 0, 0), temperaturemin=71.1, temperaturemax=89.1, precipitation=0.0, snowfall=0.0, snowdepth=0.0, avgwindspeed=2.46),\n",
       " Row(date=datetime.datetime(2011, 8, 13, 0, 0), temperaturemin=71.1, temperaturemax=82.0, precipitation=0.48, snowfall=0.0, snowdepth=0.0, avgwindspeed=5.37),\n",
       " Row(date=datetime.datetime(2011, 8, 16, 0, 0), temperaturemin=64.0, temperaturemax=88.0, precipitation=0.0, snowfall=0.0, snowdepth=0.0, avgwindspeed=1.79),\n",
       " Row(date=datetime.datetime(2011, 8, 23, 0, 0), temperaturemin=66.0, temperaturemax=84.0, precipitation=0.0, snowfall=0.0, snowdepth=0.0, avgwindspeed=5.82),\n",
       " Row(date=datetime.datetime(2011, 8, 25, 0, 0), temperaturemin=72.0, temperaturemax=91.0, precipitation=0.0, snowfall=0.0, snowdepth=0.0, avgwindspeed=7.61),\n",
       " Row(date=datetime.datetime(2011, 9, 1, 0, 0), temperaturemin=60.1, temperaturemax=86.0, precipitation=0.0, snowfall=0.0, snowdepth=0.0, avgwindspeed=2.01),\n",
       " Row(date=datetime.datetime(2011, 9, 5, 0, 0), temperaturemin=72.0, temperaturemax=86.0, precipitation=0.12, snowfall=0.0, snowdepth=0.0, avgwindspeed=8.28),\n",
       " Row(date=datetime.datetime(2011, 9, 7, 0, 0), temperaturemin=69.1, temperaturemax=82.9, precipitation=0.0, snowfall=0.0, snowdepth=0.0, avgwindspeed=3.8),\n",
       " Row(date=datetime.datetime(2011, 9, 9, 0, 0), temperaturemin=63.0, temperaturemax=84.9, precipitation=0.0, snowfall=0.0, snowdepth=0.0, avgwindspeed=3.8),\n",
       " Row(date=datetime.datetime(2011, 9, 14, 0, 0), temperaturemin=66.0, temperaturemax=89.1, precipitation=0.0, snowfall=0.0, snowdepth=0.0, avgwindspeed=2.46),\n",
       " Row(date=datetime.datetime(2011, 9, 22, 0, 0), temperaturemin=70.0, temperaturemax=82.0, precipitation=0.08, snowfall=0.0, snowdepth=0.0, avgwindspeed=2.46),\n",
       " Row(date=datetime.datetime(2011, 9, 25, 0, 0), temperaturemin=70.0, temperaturemax=80.1, precipitation=0.0, snowfall=0.0, snowdepth=0.0, avgwindspeed=5.82),\n",
       " Row(date=datetime.datetime(2011, 9, 29, 0, 0), temperaturemin=61.0, temperaturemax=84.0, precipitation=0.0, snowfall=0.0, snowdepth=0.0, avgwindspeed=4.25),\n",
       " Row(date=datetime.datetime(2011, 10, 1, 0, 0), temperaturemin=46.9, temperaturemax=64.0, precipitation=0.0, snowfall=0.0, snowdepth=0.0, avgwindspeed=6.71),\n",
       " Row(date=datetime.datetime(2011, 10, 3, 0, 0), temperaturemin=42.1, temperaturemax=68.0, precipitation=0.0, snowfall=0.0, snowdepth=0.0, avgwindspeed=4.03),\n",
       " Row(date=datetime.datetime(2011, 10, 5, 0, 0), temperaturemin=48.9, temperaturemax=77.0, precipitation=0.0, snowfall=0.0, snowdepth=0.0, avgwindspeed=1.12),\n",
       " Row(date=datetime.datetime(2011, 10, 8, 0, 0), temperaturemin=46.0, temperaturemax=73.0, precipitation=0.0, snowfall=0.0, snowdepth=0.0, avgwindspeed=5.14),\n",
       " Row(date=datetime.datetime(2011, 10, 25, 0, 0), temperaturemin=45.0, temperaturemax=71.1, precipitation=0.0, snowfall=0.0, snowdepth=0.0, avgwindspeed=1.12),\n",
       " Row(date=datetime.datetime(2011, 10, 28, 0, 0), temperaturemin=43.0, temperaturemax=63.0, precipitation=0.08, snowfall=0.0, snowdepth=0.0, avgwindspeed=9.4),\n",
       " Row(date=datetime.datetime(2011, 11, 5, 0, 0), temperaturemin=37.9, temperaturemax=55.0, precipitation=0.0, snowfall=0.0, snowdepth=0.0, avgwindspeed=8.28),\n",
       " Row(date=datetime.datetime(2011, 11, 6, 0, 0), temperaturemin=39.9, temperaturemax=64.9, precipitation=0.0, snowfall=0.0, snowdepth=0.0, avgwindspeed=3.36),\n",
       " Row(date=datetime.datetime(2011, 11, 8, 0, 0), temperaturemin=39.9, temperaturemax=70.0, precipitation=0.0, snowfall=0.0, snowdepth=0.0, avgwindspeed=0.89),\n",
       " Row(date=datetime.datetime(2011, 11, 11, 0, 0), temperaturemin=33.1, temperaturemax=53.1, precipitation=0.0, snowfall=0.0, snowdepth=0.0, avgwindspeed=5.82),\n",
       " Row(date=datetime.datetime(2011, 11, 15, 0, 0), temperaturemin=62.1, temperaturemax=78.1, precipitation=0.0, snowfall=0.0, snowdepth=0.0, avgwindspeed=10.51),\n",
       " Row(date=datetime.datetime(2011, 11, 17, 0, 0), temperaturemin=34.0, temperaturemax=62.1, precipitation=0.54, snowfall=0.0, snowdepth=0.0, avgwindspeed=6.93),\n",
       " Row(date=datetime.datetime(2011, 11, 21, 0, 0), temperaturemin=60.1, temperaturemax=77.0, precipitation=0.0, snowfall=0.0, snowdepth=0.0, avgwindspeed=4.7),\n",
       " Row(date=datetime.datetime(2011, 11, 27, 0, 0), temperaturemin=51.1, temperaturemax=75.0, precipitation=0.0, snowfall=0.0, snowdepth=0.0, avgwindspeed=8.95),\n",
       " Row(date=datetime.datetime(2011, 12, 22, 0, 0), temperaturemin=61.0, temperaturemax=68.0, precipitation=0.08, snowfall=0.0, snowdepth=0.0, avgwindspeed=7.83),\n",
       " Row(date=datetime.datetime(2012, 1, 1, 0, 0), temperaturemin=35.1, temperaturemax=68.0, precipitation=0.01, snowfall=0.0, snowdepth=0.0, avgwindspeed=7.83),\n",
       " Row(date=datetime.datetime(2012, 1, 5, 0, 0), temperaturemin=30.0, temperaturemax=55.0, precipitation=0.0, snowfall=0.0, snowdepth=0.0, avgwindspeed=3.58),\n",
       " Row(date=datetime.datetime(2012, 1, 16, 0, 0), temperaturemin=27.0, temperaturemax=46.9, precipitation=0.0, snowfall=0.0, snowdepth=0.0, avgwindspeed=6.49),\n",
       " Row(date=datetime.datetime(2012, 1, 20, 0, 0), temperaturemin=33.1, temperaturemax=57.0, precipitation=0.19, snowfall=0.0, snowdepth=0.0, avgwindspeed=3.8),\n",
       " Row(date=datetime.datetime(2012, 1, 30, 0, 0), temperaturemin=28.0, temperaturemax=60.1, precipitation=0.0, snowfall=0.0, snowdepth=0.0, avgwindspeed=4.25),\n",
       " Row(date=datetime.datetime(2012, 2, 5, 0, 0), temperaturemin=32.0, temperaturemax=50.0, precipitation=0.15, snowfall=0.0, snowdepth=0.0, avgwindspeed=5.59),\n",
       " Row(date=datetime.datetime(2012, 2, 15, 0, 0), temperaturemin=41.0, temperaturemax=64.0, precipitation=0.0, snowfall=0.0, snowdepth=0.0, avgwindspeed=3.36),\n",
       " Row(date=datetime.datetime(2012, 2, 19, 0, 0), temperaturemin=33.1, temperaturemax=54.0, precipitation=0.71, snowfall=0.91, snowdepth=0.0, avgwindspeed=10.51),\n",
       " Row(date=datetime.datetime(2012, 2, 20, 0, 0), temperaturemin=30.0, temperaturemax=48.9, precipitation=0.0, snowfall=0.0, snowdepth=0.98, avgwindspeed=5.14),\n",
       " Row(date=datetime.datetime(2012, 3, 5, 0, 0), temperaturemin=32.0, temperaturemax=52.0, precipitation=0.0, snowfall=0.0, snowdepth=0.0, avgwindspeed=10.07),\n",
       " Row(date=datetime.datetime(2012, 3, 11, 0, 0), temperaturemin=30.9, temperaturemax=64.0, precipitation=0.0, snowfall=0.0, snowdepth=0.0, avgwindspeed=2.91),\n",
       " Row(date=datetime.datetime(2012, 3, 12, 0, 0), temperaturemin=42.1, temperaturemax=73.0, precipitation=0.0, snowfall=0.0, snowdepth=0.0, avgwindspeed=8.28),\n",
       " Row(date=datetime.datetime(2012, 3, 15, 0, 0), temperaturemin=54.0, temperaturemax=84.0, precipitation=0.0, snowfall=0.0, snowdepth=0.0, avgwindspeed=4.25),\n",
       " Row(date=datetime.datetime(2012, 3, 20, 0, 0), temperaturemin=57.9, temperaturemax=81.0, precipitation=1.58, snowfall=0.0, snowdepth=0.0, avgwindspeed=3.58),\n",
       " Row(date=datetime.datetime(2012, 3, 24, 0, 0), temperaturemin=55.9, temperaturemax=71.1, precipitation=0.66, snowfall=0.0, snowdepth=0.0, avgwindspeed=4.7),\n",
       " Row(date=datetime.datetime(2012, 3, 26, 0, 0), temperaturemin=53.1, temperaturemax=77.0, precipitation=0.03, snowfall=0.0, snowdepth=0.0, avgwindspeed=5.82),\n",
       " Row(date=datetime.datetime(2012, 3, 27, 0, 0), temperaturemin=39.0, temperaturemax=62.1, precipitation=0.0, snowfall=0.0, snowdepth=0.0, avgwindspeed=5.37),\n",
       " Row(date=datetime.datetime(2012, 3, 28, 0, 0), temperaturemin=44.1, temperaturemax=78.1, precipitation=0.0, snowfall=0.0, snowdepth=0.0, avgwindspeed=13.87),\n",
       " Row(date=datetime.datetime(2012, 3, 29, 0, 0), temperaturemin=55.9, temperaturemax=82.9, precipitation=0.0, snowfall=0.0, snowdepth=0.0, avgwindspeed=6.04),\n",
       " Row(date=datetime.datetime(2012, 3, 31, 0, 0), temperaturemin=59.0, temperaturemax=75.9, precipitation=0.27, snowfall=0.0, snowdepth=0.0, avgwindspeed=6.26),\n",
       " Row(date=datetime.datetime(2012, 4, 17, 0, 0), temperaturemin=60.1, temperaturemax=86.0, precipitation=0.0, snowfall=0.0, snowdepth=0.0, avgwindspeed=6.93),\n",
       " Row(date=datetime.datetime(2012, 4, 20, 0, 0), temperaturemin=51.1, temperaturemax=73.0, precipitation=0.0, snowfall=0.0, snowdepth=0.0, avgwindspeed=2.01),\n",
       " Row(date=datetime.datetime(2012, 4, 26, 0, 0), temperaturemin=55.9, temperaturemax=77.0, precipitation=0.38, snowfall=0.0, snowdepth=0.0, avgwindspeed=9.62),\n",
       " Row(date=datetime.datetime(2012, 4, 30, 0, 0), temperaturemin=61.0, temperaturemax=80.1, precipitation=0.0, snowfall=0.0, snowdepth=0.0, avgwindspeed=7.16),\n",
       " Row(date=datetime.datetime(2012, 5, 2, 0, 0), temperaturemin=66.9, temperaturemax=91.0, precipitation=0.0, snowfall=0.0, snowdepth=0.0, avgwindspeed=6.26),\n",
       " Row(date=datetime.datetime(2012, 5, 10, 0, 0), temperaturemin=51.1, temperaturemax=72.0, precipitation=0.0, snowfall=0.0, snowdepth=0.0, avgwindspeed=3.8),\n",
       " Row(date=datetime.datetime(2012, 5, 15, 0, 0), temperaturemin=64.9, temperaturemax=82.9, precipitation=0.15, snowfall=0.0, snowdepth=0.0, avgwindspeed=4.25),\n",
       " Row(date=datetime.datetime(2012, 5, 19, 0, 0), temperaturemin=54.0, temperaturemax=77.0, precipitation=0.0, snowfall=0.0, snowdepth=0.0, avgwindspeed=6.04),\n",
       " Row(date=datetime.datetime(2012, 5, 21, 0, 0), temperaturemin=66.0, temperaturemax=82.0, precipitation=0.0, snowfall=0.0, snowdepth=0.0, avgwindspeed=1.34),\n",
       " Row(date=datetime.datetime(2012, 5, 23, 0, 0), temperaturemin=64.0, temperaturemax=84.0, precipitation=0.03, snowfall=0.0, snowdepth=0.0, avgwindspeed=4.25),\n",
       " Row(date=datetime.datetime(2012, 5, 29, 0, 0), temperaturemin=72.0, temperaturemax=89.1, precipitation=0.0, snowfall=0.0, snowdepth=0.0, avgwindspeed=7.61),\n",
       " Row(date=datetime.datetime(2012, 5, 30, 0, 0), temperaturemin=64.0, temperaturemax=82.0, precipitation=0.39, snowfall=0.0, snowdepth=0.0, avgwindspeed=4.7),\n",
       " Row(date=datetime.datetime(2012, 6, 3, 0, 0), temperaturemin=52.0, temperaturemax=81.0, precipitation=0.0, snowfall=0.0, snowdepth=0.0, avgwindspeed=5.37),\n",
       " Row(date=datetime.datetime(2012, 6, 4, 0, 0), temperaturemin=61.0, temperaturemax=82.9, precipitation=0.0, snowfall=0.0, snowdepth=0.0, avgwindspeed=4.92),\n",
       " Row(date=datetime.datetime(2012, 6, 7, 0, 0), temperaturemin=54.0, temperaturemax=81.0, precipitation=0.0, snowfall=0.0, snowdepth=0.0, avgwindspeed=1.12),\n",
       " Row(date=datetime.datetime(2012, 6, 11, 0, 0), temperaturemin=71.1, temperaturemax=84.0, precipitation=1.06, snowfall=0.0, snowdepth=0.0, avgwindspeed=7.38),\n",
       " Row(date=datetime.datetime(2012, 6, 12, 0, 0), temperaturemin=68.0, temperaturemax=82.9, precipitation=0.43, snowfall=0.0, snowdepth=0.0, avgwindspeed=7.61),\n",
       " Row(date=datetime.datetime(2012, 6, 15, 0, 0), temperaturemin=59.0, temperaturemax=80.1, precipitation=0.0, snowfall=0.0, snowdepth=0.0, avgwindspeed=8.05),\n",
       " Row(date=datetime.datetime(2012, 7, 3, 0, 0), temperaturemin=72.0, temperaturemax=100.9, precipitation=0.0, snowfall=0.0, snowdepth=0.0, avgwindspeed=2.91),\n",
       " Row(date=datetime.datetime(2012, 7, 10, 0, 0), temperaturemin=73.0, temperaturemax=86.0, precipitation=0.01, snowfall=0.0, snowdepth=0.0, avgwindspeed=3.58),\n",
       " Row(date=datetime.datetime(2012, 7, 19, 0, 0), temperaturemin=75.9, temperaturemax=99.0, precipitation=0.0, snowfall=0.0, snowdepth=0.0, avgwindspeed=9.62),\n",
       " Row(date=datetime.datetime(2012, 7, 23, 0, 0), temperaturemin=72.0, temperaturemax=96.1, precipitation=0.11, snowfall=0.0, snowdepth=0.0, avgwindspeed=5.14),\n",
       " Row(date=datetime.datetime(2012, 8, 4, 0, 0), temperaturemin=75.0, temperaturemax=91.9, precipitation=0.0, snowfall=0.0, snowdepth=0.0, avgwindspeed=6.71),\n",
       " Row(date=datetime.datetime(2012, 8, 8, 0, 0), temperaturemin=69.1, temperaturemax=89.1, precipitation=0.06, snowfall=0.0, snowdepth=0.0, avgwindspeed=5.14),\n",
       " Row(date=datetime.datetime(2012, 8, 9, 0, 0), temperaturemin=66.0, temperaturemax=89.1, precipitation=0.0, snowfall=0.0, snowdepth=0.0, avgwindspeed=4.7),\n",
       " Row(date=datetime.datetime(2012, 9, 1, 0, 0), temperaturemin=73.0, temperaturemax=91.9, precipitation=0.0, snowfall=0.0, snowdepth=0.0, avgwindspeed=4.03),\n",
       " Row(date=datetime.datetime(2012, 9, 14, 0, 0), temperaturemin=63.0, temperaturemax=80.1, precipitation=0.0, snowfall=0.0, snowdepth=0.0, avgwindspeed=1.57),\n",
       " Row(date=datetime.datetime(2012, 9, 24, 0, 0), temperaturemin=51.1, temperaturemax=72.0, precipitation=0.0, snowfall=0.0, snowdepth=0.0, avgwindspeed=3.13),\n",
       " Row(date=datetime.datetime(2012, 10, 2, 0, 0), temperaturemin=66.9, temperaturemax=88.0, precipitation=0.12, snowfall=0.0, snowdepth=0.0, avgwindspeed=7.61),\n",
       " Row(date=datetime.datetime(2012, 10, 15, 0, 0), temperaturemin=55.9, temperaturemax=73.0, precipitation=0.11, snowfall=0.0, snowdepth=0.0, avgwindspeed=5.82),\n",
       " Row(date=datetime.datetime(2012, 10, 22, 0, 0), temperaturemin=42.1, temperaturemax=73.9, precipitation=0.0, snowfall=0.0, snowdepth=0.0, avgwindspeed=0.45),\n",
       " Row(date=datetime.datetime(2012, 10, 30, 0, 0), temperaturemin=42.1, temperaturemax=51.1, precipitation=0.07, snowfall=0.0, snowdepth=0.0, avgwindspeed=12.75),\n",
       " Row(date=datetime.datetime(2012, 11, 3, 0, 0), temperaturemin=34.0, temperaturemax=61.0, precipitation=0.0, snowfall=0.0, snowdepth=0.0, avgwindspeed=2.68),\n",
       " Row(date=datetime.datetime(2012, 11, 16, 0, 0), temperaturemin=39.0, temperaturemax=55.0, precipitation=0.0, snowfall=0.0, snowdepth=0.0, avgwindspeed=4.47),\n",
       " Row(date=datetime.datetime(2012, 11, 24, 0, 0), temperaturemin=32.0, temperaturemax=55.0, precipitation=0.0, snowfall=0.0, snowdepth=0.0, avgwindspeed=5.59),\n",
       " Row(date=datetime.datetime(2012, 12, 2, 0, 0), temperaturemin=39.0, temperaturemax=69.1, precipitation=0.0, snowfall=0.0, snowdepth=0.0, avgwindspeed=4.47),\n",
       " Row(date=datetime.datetime(2012, 12, 5, 0, 0), temperaturemin=44.1, temperaturemax=64.9, precipitation=0.0, snowfall=0.0, snowdepth=0.0, avgwindspeed=5.14),\n",
       " Row(date=datetime.datetime(2012, 12, 14, 0, 0), temperaturemin=27.0, temperaturemax=57.9, precipitation=0.0, snowfall=0.0, snowdepth=0.0, avgwindspeed=0.89),\n",
       " Row(date=datetime.datetime(2012, 12, 16, 0, 0), temperaturemin=48.0, temperaturemax=57.9, precipitation=0.09, snowfall=0.0, snowdepth=0.0, avgwindspeed=5.59),\n",
       " Row(date=datetime.datetime(2012, 12, 29, 0, 0), temperaturemin=37.9, temperaturemax=52.0, precipitation=0.37, snowfall=0.0, snowdepth=0.0, avgwindspeed=6.26),\n",
       " Row(date=datetime.datetime(2013, 1, 11, 0, 0), temperaturemin=41.0, temperaturemax=51.1, precipitation=0.22, snowfall=0.0, snowdepth=0.0, avgwindspeed=3.13),\n",
       " Row(date=datetime.datetime(2013, 1, 12, 0, 0), temperaturemin=48.9, temperaturemax=71.1, precipitation=0.0, snowfall=0.0, snowdepth=0.0, avgwindspeed=2.01),\n",
       " Row(date=datetime.datetime(2013, 1, 13, 0, 0), temperaturemin=55.0, temperaturemax=75.0, precipitation=0.0, snowfall=0.0, snowdepth=0.0, avgwindspeed=8.05),\n",
       " Row(date=datetime.datetime(2013, 1, 20, 0, 0), temperaturemin=35.1, temperaturemax=63.0, precipitation=0.0, snowfall=0.0, snowdepth=0.0, avgwindspeed=6.49),\n",
       " Row(date=datetime.datetime(2013, 1, 31, 0, 0), temperaturemin=33.1, temperaturemax=63.0, precipitation=0.09, snowfall=0.0, snowdepth=0.0, avgwindspeed=13.2),\n",
       " Row(date=datetime.datetime(2013, 2, 15, 0, 0), temperaturemin=28.9, temperaturemax=61.0, precipitation=0.0, snowfall=0.0, snowdepth=0.0, avgwindspeed=2.91),\n",
       " Row(date=datetime.datetime(2013, 2, 26, 0, 0), temperaturemin=36.0, temperaturemax=57.9, precipitation=0.86, snowfall=0.0, snowdepth=0.0, avgwindspeed=10.29),\n",
       " Row(date=datetime.datetime(2013, 3, 4, 0, 0), temperaturemin=26.1, temperaturemax=50.0, precipitation=0.0, snowfall=0.0, snowdepth=0.0, avgwindspeed=4.7),\n",
       " Row(date=datetime.datetime(2013, 3, 17, 0, 0), temperaturemin=39.0, temperaturemax=61.0, precipitation=0.0, snowfall=0.0, snowdepth=0.0, avgwindspeed=10.29),\n",
       " Row(date=datetime.datetime(2013, 3, 23, 0, 0), temperaturemin=35.1, temperaturemax=55.0, precipitation=0.0, snowfall=0.0, snowdepth=0.0, avgwindspeed=1.12),\n",
       " Row(date=datetime.datetime(2013, 3, 27, 0, 0), temperaturemin=34.0, temperaturemax=52.0, precipitation=0.0, snowfall=0.0, snowdepth=0.0, avgwindspeed=6.04),\n",
       " Row(date=datetime.datetime(2013, 3, 31, 0, 0), temperaturemin=48.0, temperaturemax=68.0, precipitation=0.87, snowfall=0.0, snowdepth=0.0, avgwindspeed=8.5),\n",
       " Row(date=datetime.datetime(2013, 4, 2, 0, 0), temperaturemin=35.1, temperaturemax=60.1, precipitation=0.0, snowfall=0.0, snowdepth=0.0, avgwindspeed=4.7),\n",
       " Row(date=datetime.datetime(2013, 4, 5, 0, 0), temperaturemin=39.0, temperaturemax=63.0, precipitation=0.04, snowfall=0.0, snowdepth=0.0, avgwindspeed=2.68),\n",
       " Row(date=datetime.datetime(2013, 4, 13, 0, 0), temperaturemin=52.0, temperaturemax=73.9, precipitation=0.0, snowfall=0.0, snowdepth=0.0, avgwindspeed=3.8),\n",
       " Row(date=datetime.datetime(2013, 4, 18, 0, 0), temperaturemin=62.1, temperaturemax=79.0, precipitation=0.0, snowfall=0.0, snowdepth=0.0, avgwindspeed=8.95),\n",
       " Row(date=datetime.datetime(2013, 4, 20, 0, 0), temperaturemin=44.1, temperaturemax=64.0, precipitation=0.01, snowfall=0.0, snowdepth=0.0, avgwindspeed=3.8),\n",
       " Row(date=datetime.datetime(2013, 4, 21, 0, 0), temperaturemin=41.0, temperaturemax=61.0, precipitation=0.0, snowfall=0.0, snowdepth=0.0, avgwindspeed=9.4),\n",
       " Row(date=datetime.datetime(2013, 4, 22, 0, 0), temperaturemin=35.1, temperaturemax=61.0, precipitation=0.01, snowfall=0.0, snowdepth=0.0, avgwindspeed=10.51),\n",
       " Row(date=datetime.datetime(2013, 4, 25, 0, 0), temperaturemin=50.0, temperaturemax=71.1, precipitation=0.0, snowfall=0.0, snowdepth=0.0, avgwindspeed=4.03),\n",
       " Row(date=datetime.datetime(2013, 4, 30, 0, 0), temperaturemin=57.0, temperaturemax=66.0, precipitation=0.0, snowfall=0.0, snowdepth=0.0, avgwindspeed=5.37),\n",
       " Row(date=datetime.datetime(2013, 5, 2, 0, 0), temperaturemin=52.0, temperaturemax=64.9, precipitation=0.0, snowfall=0.0, snowdepth=0.0, avgwindspeed=7.61),\n",
       " Row(date=datetime.datetime(2013, 5, 3, 0, 0), temperaturemin=48.0, temperaturemax=69.1, precipitation=0.0, snowfall=0.0, snowdepth=0.0, avgwindspeed=9.84),\n",
       " Row(date=datetime.datetime(2013, 5, 7, 0, 0), temperaturemin=50.0, temperaturemax=71.1, precipitation=0.0, snowfall=0.0, snowdepth=0.0, avgwindspeed=4.92),\n",
       " Row(date=datetime.datetime(2013, 5, 22, 0, 0), temperaturemin=69.1, temperaturemax=82.9, precipitation=0.01, snowfall=0.0, snowdepth=0.0, avgwindspeed=9.17),\n",
       " Row(date=datetime.datetime(2013, 5, 24, 0, 0), temperaturemin=52.0, temperaturemax=70.0, precipitation=0.0, snowfall=0.0, snowdepth=0.0, avgwindspeed=5.82),\n",
       " Row(date=datetime.datetime(2013, 5, 25, 0, 0), temperaturemin=41.0, temperaturemax=73.0, precipitation=0.0, snowfall=0.0, snowdepth=0.0, avgwindspeed=2.91),\n",
       " Row(date=datetime.datetime(2013, 5, 26, 0, 0), temperaturemin=48.0, temperaturemax=73.0, precipitation=0.0, snowfall=0.0, snowdepth=0.0, avgwindspeed=2.01),\n",
       " Row(date=datetime.datetime(2013, 5, 28, 0, 0), temperaturemin=64.0, temperaturemax=84.9, precipitation=0.0, snowfall=0.0, snowdepth=0.0, avgwindspeed=9.17),\n",
       " Row(date=datetime.datetime(2013, 6, 3, 0, 0), temperaturemin=64.0, temperaturemax=82.9, precipitation=0.45, snowfall=0.0, snowdepth=0.0, avgwindspeed=5.59),\n",
       " Row(date=datetime.datetime(2013, 6, 4, 0, 0), temperaturemin=64.0, temperaturemax=79.0, precipitation=0.0, snowfall=0.0, snowdepth=0.0, avgwindspeed=4.03),\n",
       " Row(date=datetime.datetime(2013, 6, 5, 0, 0), temperaturemin=64.0, temperaturemax=82.0, precipitation=0.0, snowfall=0.0, snowdepth=0.0, avgwindspeed=6.04),\n",
       " Row(date=datetime.datetime(2013, 6, 11, 0, 0), temperaturemin=70.0, temperaturemax=86.0, precipitation=0.0, snowfall=0.0, snowdepth=0.0, avgwindspeed=8.5),\n",
       " Row(date=datetime.datetime(2013, 6, 14, 0, 0), temperaturemin=59.0, temperaturemax=80.1, precipitation=0.0, snowfall=0.0, snowdepth=0.0, avgwindspeed=4.25),\n",
       " Row(date=datetime.datetime(2013, 6, 20, 0, 0), temperaturemin=63.0, temperaturemax=82.0, precipitation=0.0, snowfall=0.0, snowdepth=0.0, avgwindspeed=7.16),\n",
       " Row(date=datetime.datetime(2013, 6, 24, 0, 0), temperaturemin=71.1, temperaturemax=89.1, precipitation=0.0, snowfall=0.0, snowdepth=0.0, avgwindspeed=8.5),\n",
       " Row(date=datetime.datetime(2013, 6, 25, 0, 0), temperaturemin=70.0, temperaturemax=91.9, precipitation=0.01, snowfall=0.0, snowdepth=0.0, avgwindspeed=8.95),\n",
       " Row(date=datetime.datetime(2013, 6, 30, 0, 0), temperaturemin=68.0, temperaturemax=87.1, precipitation=0.99, snowfall=0.0, snowdepth=0.0, avgwindspeed=6.49),\n",
       " Row(date=datetime.datetime(2013, 7, 4, 0, 0), temperaturemin=73.0, temperaturemax=88.0, precipitation=0.0, snowfall=0.0, snowdepth=0.0, avgwindspeed=7.16),\n",
       " Row(date=datetime.datetime(2013, 7, 6, 0, 0), temperaturemin=73.0, temperaturemax=88.0, precipitation=0.01, snowfall=0.0, snowdepth=0.0, avgwindspeed=6.49),\n",
       " Row(date=datetime.datetime(2013, 7, 11, 0, 0), temperaturemin=72.0, temperaturemax=84.0, precipitation=0.2, snowfall=0.0, snowdepth=0.0, avgwindspeed=6.71),\n",
       " Row(date=datetime.datetime(2013, 7, 15, 0, 0), temperaturemin=69.1, temperaturemax=90.0, precipitation=0.0, snowfall=0.0, snowdepth=0.0, avgwindspeed=2.24),\n",
       " Row(date=datetime.datetime(2013, 7, 24, 0, 0), temperaturemin=71.1, temperaturemax=96.1, precipitation=0.5, snowfall=0.0, snowdepth=0.0, avgwindspeed=2.91),\n",
       " Row(date=datetime.datetime(2013, 8, 8, 0, 0), temperaturemin=72.0, temperaturemax=91.0, precipitation=0.0, snowfall=0.0, snowdepth=0.0, avgwindspeed=3.8),\n",
       " Row(date=datetime.datetime(2013, 8, 11, 0, 0), temperaturemin=71.1, temperaturemax=91.9, precipitation=0.0, snowfall=0.0, snowdepth=0.0, avgwindspeed=3.13),\n",
       " Row(date=datetime.datetime(2013, 8, 13, 0, 0), temperaturemin=71.1, temperaturemax=90.0, precipitation=0.08, snowfall=0.0, snowdepth=0.0, avgwindspeed=5.59),\n",
       " Row(date=datetime.datetime(2013, 8, 26, 0, 0), temperaturemin=55.0, temperaturemax=82.9, precipitation=0.0, snowfall=0.0, snowdepth=0.0, avgwindspeed=1.34),\n",
       " Row(date=datetime.datetime(2013, 9, 5, 0, 0), temperaturemin=64.9, temperaturemax=87.1, precipitation=0.0, snowfall=0.0, snowdepth=0.0, avgwindspeed=2.46),\n",
       " Row(date=datetime.datetime(2013, 9, 20, 0, 0), temperaturemin=62.1, temperaturemax=72.0, precipitation=0.19, snowfall=0.0, snowdepth=0.0, avgwindspeed=3.8),\n",
       " Row(date=datetime.datetime(2013, 9, 25, 0, 0), temperaturemin=53.1, temperaturemax=75.0, precipitation=0.0, snowfall=0.0, snowdepth=0.0, avgwindspeed=1.12),\n",
       " Row(date=datetime.datetime(2013, 10, 19, 0, 0), temperaturemin=57.9, temperaturemax=70.0, precipitation=0.01, snowfall=0.0, snowdepth=0.0, avgwindspeed=2.91),\n",
       " Row(date=datetime.datetime(2013, 10, 21, 0, 0), temperaturemin=39.0, temperaturemax=68.0, precipitation=0.0, snowfall=0.0, snowdepth=0.0, avgwindspeed=0.45),\n",
       " Row(date=datetime.datetime(2013, 10, 22, 0, 0), temperaturemin=51.1, temperaturemax=64.0, precipitation=0.0, snowfall=0.0, snowdepth=0.0, avgwindspeed=2.46),\n",
       " Row(date=datetime.datetime(2013, 10, 25, 0, 0), temperaturemin=33.1, temperaturemax=55.9, precipitation=0.0, snowfall=0.0, snowdepth=0.0, avgwindspeed=3.36),\n",
       " Row(date=datetime.datetime(2013, 11, 4, 0, 0), temperaturemin=35.1, temperaturemax=55.0, precipitation=0.0, snowfall=0.0, snowdepth=0.0, avgwindspeed=6.49),\n",
       " Row(date=datetime.datetime(2015, 3, 28, 0, 0), temperaturemin=32.0, temperaturemax=46.0, precipitation=0.0, snowfall=0.0, snowdepth=0.0, avgwindspeed=6.26),\n",
       " Row(date=datetime.datetime(2015, 4, 1, 0, 0), temperaturemin=46.9, temperaturemax=66.0, precipitation=0.0, snowfall=0.0, snowdepth=0.0, avgwindspeed=6.71),\n",
       " Row(date=datetime.datetime(2015, 4, 8, 0, 0), temperaturemin=62.1, temperaturemax=84.0, precipitation=0.0, snowfall=0.0, snowdepth=0.0, avgwindspeed=5.82),\n",
       " Row(date=datetime.datetime(2015, 4, 11, 0, 0), temperaturemin=52.0, temperaturemax=75.0, precipitation=0.0, snowfall=0.0, snowdepth=0.0, avgwindspeed=3.8),\n",
       " Row(date=datetime.datetime(2015, 4, 16, 0, 0), temperaturemin=48.0, temperaturemax=66.0, precipitation=0.05, snowfall=0.0, snowdepth=0.0, avgwindspeed=4.47),\n",
       " Row(date=datetime.datetime(2015, 4, 20, 0, 0), temperaturemin=63.0, temperaturemax=78.1, precipitation=0.28, snowfall=0.0, snowdepth=0.0, avgwindspeed=11.86),\n",
       " Row(date=datetime.datetime(2015, 5, 1, 0, 0), temperaturemin=51.1, temperaturemax=61.0, precipitation=0.58, snowfall=0.0, snowdepth=0.0, avgwindspeed=4.47),\n",
       " Row(date=datetime.datetime(2015, 5, 5, 0, 0), temperaturemin=55.9, temperaturemax=82.0, precipitation=0.0, snowfall=0.0, snowdepth=0.0, avgwindspeed=7.38),\n",
       " Row(date=datetime.datetime(2015, 5, 29, 0, 0), temperaturemin=66.0, temperaturemax=87.1, precipitation=0.0, snowfall=0.0, snowdepth=0.0, avgwindspeed=4.03),\n",
       " Row(date=datetime.datetime(2015, 6, 18, 0, 0), temperaturemin=71.1, temperaturemax=98.1, precipitation=2.1, snowfall=0.0, snowdepth=0.0, avgwindspeed=5.59),\n",
       " Row(date=datetime.datetime(2015, 6, 19, 0, 0), temperaturemin=72.0, temperaturemax=95.0, precipitation=0.23, snowfall=0.0, snowdepth=0.0, avgwindspeed=4.7),\n",
       " Row(date=datetime.datetime(2015, 6, 24, 0, 0), temperaturemin=73.9, temperaturemax=95.0, precipitation=0.0, snowfall=0.0, snowdepth=0.0, avgwindspeed=4.92),\n",
       " Row(date=datetime.datetime(2015, 6, 27, 0, 0), temperaturemin=70.0, temperaturemax=88.0, precipitation=0.99, snowfall=0.0, snowdepth=0.0, avgwindspeed=8.28),\n",
       " Row(date=datetime.datetime(2015, 7, 6, 0, 0), temperaturemin=70.0, temperaturemax=89.1, precipitation=0.0, snowfall=0.0, snowdepth=0.0, avgwindspeed=8.05),\n",
       " Row(date=datetime.datetime(2015, 7, 28, 0, 0), temperaturemin=73.0, temperaturemax=90.0, precipitation=0.0, snowfall=0.0, snowdepth=0.0, avgwindspeed=4.03),\n",
       " Row(date=datetime.datetime(2015, 8, 1, 0, 0), temperaturemin=64.9, temperaturemax=93.0, precipitation=0.0, snowfall=0.0, snowdepth=0.0, avgwindspeed=1.57),\n",
       " Row(date=datetime.datetime(2015, 8, 5, 0, 0), temperaturemin=73.0, temperaturemax=97.0, precipitation=0.0, snowfall=0.0, snowdepth=0.0, avgwindspeed=3.13),\n",
       " Row(date=datetime.datetime(2015, 8, 29, 0, 0), temperaturemin=60.1, temperaturemax=86.0, precipitation=0.0, snowfall=0.0, snowdepth=0.0, avgwindspeed=2.01),\n",
       " Row(date=datetime.datetime(2015, 9, 2, 0, 0), temperaturemin=68.0, temperaturemax=93.9, precipitation=0.1, snowfall=0.0, snowdepth=0.0, avgwindspeed=3.36),\n",
       " Row(date=datetime.datetime(2015, 9, 17, 0, 0), temperaturemin=60.1, temperaturemax=84.0, precipitation=0.0, snowfall=0.0, snowdepth=0.0, avgwindspeed=1.57),\n",
       " Row(date=datetime.datetime(2015, 9, 27, 0, 0), temperaturemin=64.0, temperaturemax=77.0, precipitation=0.03, snowfall=0.0, snowdepth=0.0, avgwindspeed=10.96),\n",
       " Row(date=datetime.datetime(2015, 10, 9, 0, 0), temperaturemin=60.1, temperaturemax=82.0, precipitation=0.0, snowfall=0.0, snowdepth=0.0, avgwindspeed=8.5),\n",
       " Row(date=datetime.datetime(2015, 10, 12, 0, 0), temperaturemin=51.1, temperaturemax=78.1, precipitation=0.0, snowfall=0.0, snowdepth=0.0, avgwindspeed=2.91),\n",
       " Row(date=datetime.datetime(2015, 11, 13, 0, 0), temperaturemin=44.1, temperaturemax=66.0, precipitation=0.0, snowfall=0.0, snowdepth=0.0, avgwindspeed=5.82),\n",
       " Row(date=datetime.datetime(2015, 11, 26, 0, 0), temperaturemin=39.0, temperaturemax=70.0, precipitation=0.0, snowfall=0.0, snowdepth=0.0, avgwindspeed=3.36),\n",
       " Row(date=datetime.datetime(2015, 12, 13, 0, 0), temperaturemin=50.0, temperaturemax=73.0, precipitation=0.0, snowfall=0.0, snowdepth=0.0, avgwindspeed=2.91),\n",
       " Row(date=datetime.datetime(2015, 12, 15, 0, 0), temperaturemin=48.0, temperaturemax=72.0, precipitation=0.0, snowfall=0.0, snowdepth=0.0, avgwindspeed=5.59),\n",
       " Row(date=datetime.datetime(2015, 12, 19, 0, 0), temperaturemin=26.2, temperaturemax=48.0, precipitation=0.0, snowfall=0.0, snowdepth=0.0, avgwindspeed=6.71),\n",
       " Row(date=datetime.datetime(2015, 12, 25, 0, 0), temperaturemin=64.9, temperaturemax=73.9, precipitation=0.0, snowfall=0.0, snowdepth=0.0, avgwindspeed=8.05),\n",
       " Row(date=datetime.datetime(2016, 1, 3, 0, 0), temperaturemin=31.1, temperaturemax=53.1, precipitation=0.0, snowfall=0.0, snowdepth=0.0, avgwindspeed=3.36),\n",
       " Row(date=datetime.datetime(2016, 1, 13, 0, 0), temperaturemin=27.1, temperaturemax=43.0, precipitation=0.0, snowfall=0.0, snowdepth=0.0, avgwindspeed=3.36),\n",
       " Row(date=datetime.datetime(2016, 1, 22, 0, 0), temperaturemin=25.2, temperaturemax=32.0, precipitation=0.95, snowfall=1.18, snowdepth=0.0, avgwindspeed=12.3),\n",
       " Row(date=datetime.datetime(2016, 1, 30, 0, 0), temperaturemin=26.2, temperaturemax=55.9, precipitation=0.0, snowfall=0.0, snowdepth=0.0, avgwindspeed=5.37),\n",
       " Row(date=datetime.datetime(2016, 2, 7, 0, 0), temperaturemin=37.0, temperaturemax=44.1, precipitation=0.0, snowfall=0.0, snowdepth=0.0, avgwindspeed=6.93),\n",
       " Row(date=datetime.datetime(2016, 2, 19, 0, 0), temperaturemin=26.2, temperaturemax=53.1, precipitation=0.0, snowfall=0.0, snowdepth=0.0, avgwindspeed=6.49),\n",
       " Row(date=datetime.datetime(2016, 2, 25, 0, 0), temperaturemin=39.9, temperaturemax=55.0, precipitation=0.0, snowfall=0.0, snowdepth=0.0, avgwindspeed=14.09),\n",
       " Row(date=datetime.datetime(2016, 3, 16, 0, 0), temperaturemin=57.0, temperaturemax=86.0, precipitation=0.0, snowfall=0.0, snowdepth=0.0, avgwindspeed=5.37),\n",
       " Row(date=datetime.datetime(2016, 3, 23, 0, 0), temperaturemin=48.0, temperaturemax=77.0, precipitation=0.0, snowfall=0.0, snowdepth=0.0, avgwindspeed=15.43),\n",
       " Row(date=datetime.datetime(2016, 4, 4, 0, 0), temperaturemin=46.0, temperaturemax=75.9, precipitation=0.0, snowfall=0.0, snowdepth=0.0, avgwindspeed=12.08),\n",
       " Row(date=datetime.datetime(2016, 4, 13, 0, 0), temperaturemin=45.0, temperaturemax=64.0, precipitation=0.0, snowfall=0.0, snowdepth=0.0, avgwindspeed=9.17),\n",
       " Row(date=datetime.datetime(2016, 4, 20, 0, 0), temperaturemin=57.0, temperaturemax=75.0, precipitation=0.0, snowfall=0.0, snowdepth=0.0, avgwindspeed=9.4),\n",
       " Row(date=datetime.datetime(2016, 5, 9, 0, 0), temperaturemin=57.9, temperaturemax=81.0, precipitation=0.12, snowfall=0.0, snowdepth=0.0, avgwindspeed=1.34),\n",
       " Row(date=datetime.datetime(2015, 4, 3, 0, 0), temperaturemin=61.0, temperaturemax=82.9, precipitation=0.0, snowfall=0.0, snowdepth=0.0, avgwindspeed=16.33),\n",
       " Row(date=datetime.datetime(2015, 4, 17, 0, 0), temperaturemin=55.9, temperaturemax=78.1, precipitation=0.0, snowfall=0.0, snowdepth=0.0, avgwindspeed=2.01),\n",
       " Row(date=datetime.datetime(2015, 4, 19, 0, 0), temperaturemin=63.0, temperaturemax=73.0, precipitation=0.76, snowfall=0.0, snowdepth=0.0, avgwindspeed=8.5),\n",
       " Row(date=datetime.datetime(2015, 4, 29, 0, 0), temperaturemin=43.0, temperaturemax=70.0, precipitation=0.0, snowfall=0.0, snowdepth=0.0, avgwindspeed=2.01),\n",
       " Row(date=datetime.datetime(2015, 5, 20, 0, 0), temperaturemin=62.1, temperaturemax=88.0, precipitation=0.0, snowfall=0.0, snowdepth=0.0, avgwindspeed=4.03),\n",
       " Row(date=datetime.datetime(2015, 5, 30, 0, 0), temperaturemin=66.0, temperaturemax=88.0, precipitation=0.0, snowfall=0.0, snowdepth=0.0, avgwindspeed=4.25),\n",
       " Row(date=datetime.datetime(2015, 6, 1, 0, 0), temperaturemin=68.0, temperaturemax=90.0, precipitation=0.08, snowfall=0.0, snowdepth=0.0, avgwindspeed=6.93),\n",
       " Row(date=datetime.datetime(2015, 6, 15, 0, 0), temperaturemin=72.0, temperaturemax=99.0, precipitation=0.0, snowfall=0.0, snowdepth=0.0, avgwindspeed=3.13),\n",
       " Row(date=datetime.datetime(2015, 6, 28, 0, 0), temperaturemin=64.0, temperaturemax=84.0, precipitation=0.0, snowfall=0.0, snowdepth=0.0, avgwindspeed=5.82),\n",
       " Row(date=datetime.datetime(2015, 7, 5, 0, 0), temperaturemin=69.1, temperaturemax=90.0, precipitation=0.79, snowfall=0.0, snowdepth=0.0, avgwindspeed=6.04),\n",
       " Row(date=datetime.datetime(2015, 7, 10, 0, 0), temperaturemin=73.0, temperaturemax=93.9, precipitation=0.0, snowfall=0.0, snowdepth=0.0, avgwindspeed=4.92),\n",
       " Row(date=datetime.datetime(2015, 7, 22, 0, 0), temperaturemin=71.1, temperaturemax=88.0, precipitation=0.0, snowfall=0.0, snowdepth=0.0, avgwindspeed=2.24),\n",
       " Row(date=datetime.datetime(2015, 8, 4, 0, 0), temperaturemin=73.0, temperaturemax=95.0, precipitation=0.0, snowfall=0.0, snowdepth=0.0, avgwindspeed=5.37),\n",
       " Row(date=datetime.datetime(2015, 8, 8, 0, 0), temperaturemin=66.0, temperaturemax=84.9, precipitation=0.0, snowfall=0.0, snowdepth=0.0, avgwindspeed=7.38),\n",
       " Row(date=datetime.datetime(2015, 8, 11, 0, 0), temperaturemin=69.1, temperaturemax=87.1, precipitation=0.29, snowfall=0.0, snowdepth=0.0, avgwindspeed=7.38),\n",
       " Row(date=datetime.datetime(2015, 8, 28, 0, 0), temperaturemin=60.1, temperaturemax=87.1, precipitation=0.0, snowfall=0.0, snowdepth=0.0, avgwindspeed=4.25),\n",
       " Row(date=datetime.datetime(2015, 9, 6, 0, 0), temperaturemin=66.0, temperaturemax=81.0, precipitation=0.0, snowfall=0.0, snowdepth=0.0, avgwindspeed=6.04),\n",
       " Row(date=datetime.datetime(2015, 9, 11, 0, 0), temperaturemin=70.0, temperaturemax=84.0, precipitation=0.0, snowfall=0.0, snowdepth=0.0, avgwindspeed=2.24),\n",
       " Row(date=datetime.datetime(2015, 9, 25, 0, 0), temperaturemin=64.0, temperaturemax=70.0, precipitation=1.42, snowfall=0.0, snowdepth=0.0, avgwindspeed=11.41),\n",
       " Row(date=datetime.datetime(2015, 10, 4, 0, 0), temperaturemin=57.9, temperaturemax=69.1, precipitation=0.13, snowfall=0.0, snowdepth=0.0, avgwindspeed=17.67),\n",
       " Row(date=datetime.datetime(2015, 10, 20, 0, 0), temperaturemin=34.0, temperaturemax=70.0, precipitation=0.0, snowfall=0.0, snowdepth=0.0, avgwindspeed=2.91),\n",
       " Row(date=datetime.datetime(2015, 10, 22, 0, 0), temperaturemin=41.0, temperaturemax=79.0, precipitation=0.0, snowfall=0.0, snowdepth=0.0, avgwindspeed=2.01),\n",
       " Row(date=datetime.datetime(2015, 11, 9, 0, 0), temperaturemin=46.9, temperaturemax=55.0, precipitation=1.45, snowfall=0.0, snowdepth=0.0, avgwindspeed=8.05),\n",
       " ...]"
      ]
     },
     "execution_count": 12,
     "metadata": {},
     "output_type": "execute_result"
    }
   ],
   "source": [
    "#Get the List of Row Objects\n",
    "csv_df.select(['date','temperaturemin','temperaturemax','precipitation','snowfall','snowdepth','avgwindspeed']).collect()"
   ]
  },
  {
   "cell_type": "markdown",
   "metadata": {},
   "source": [
    "#### Create a New Column in Dataframe"
   ]
  },
  {
   "cell_type": "code",
   "execution_count": 19,
   "metadata": {},
   "outputs": [],
   "source": [
    "#Lets create a new Dataframe since the csv_df has lots of columns\n",
    "csv_df2 = csv_df.select(['date','temperaturemin','temperaturemax','precipitation','snowfall','snowdepth','avgwindspeed'])"
   ]
  },
  {
   "cell_type": "code",
   "execution_count": 20,
   "metadata": {},
   "outputs": [
    {
     "name": "stdout",
     "output_type": "stream",
     "text": [
      "+-------------------+--------------+--------------+-------------+--------+---------+------------+\n",
      "|               date|temperaturemin|temperaturemax|precipitation|snowfall|snowdepth|avgwindspeed|\n",
      "+-------------------+--------------+--------------+-------------+--------+---------+------------+\n",
      "|2007-01-06 00:00:00|          50.0|          71.1|         0.13|     0.0|      0.0|        8.05|\n",
      "|2007-01-09 00:00:00|          30.0|          55.0|          0.0|     0.0|      0.0|        7.61|\n",
      "|2007-01-14 00:00:00|          50.0|          73.9|          0.0|     0.0|      0.0|         8.5|\n",
      "|2007-01-15 00:00:00|          57.0|          73.9|          0.0|     0.0|      0.0|        13.2|\n",
      "|2007-01-20 00:00:00|          26.1|          48.0|          0.0|     0.0|      0.0|        4.92|\n",
      "+-------------------+--------------+--------------+-------------+--------+---------+------------+\n",
      "only showing top 5 rows\n",
      "\n"
     ]
    }
   ],
   "source": [
    "csv_df2.show(5)"
   ]
  },
  {
   "cell_type": "code",
   "execution_count": 21,
   "metadata": {},
   "outputs": [
    {
     "data": {
      "text/plain": [
       "pyspark.sql.dataframe.DataFrame"
      ]
     },
     "execution_count": 21,
     "metadata": {},
     "output_type": "execute_result"
    }
   ],
   "source": [
    "type(csv_df2)"
   ]
  },
  {
   "cell_type": "code",
   "execution_count": 24,
   "metadata": {},
   "outputs": [
    {
     "name": "stdout",
     "output_type": "stream",
     "text": [
      "+-------------------+--------------+--------------+-------------+--------+---------+------------+-------+\n",
      "|               date|temperaturemin|temperaturemax|precipitation|snowfall|snowdepth|avgwindspeed|mintemp|\n",
      "+-------------------+--------------+--------------+-------------+--------+---------+------------+-------+\n",
      "|2007-01-06 00:00:00|          50.0|          71.1|         0.13|     0.0|      0.0|        8.05|   50.0|\n",
      "|2007-01-09 00:00:00|          30.0|          55.0|          0.0|     0.0|      0.0|        7.61|   30.0|\n",
      "|2007-01-14 00:00:00|          50.0|          73.9|          0.0|     0.0|      0.0|         8.5|   50.0|\n",
      "|2007-01-15 00:00:00|          57.0|          73.9|          0.0|     0.0|      0.0|        13.2|   57.0|\n",
      "|2007-01-20 00:00:00|          26.1|          48.0|          0.0|     0.0|      0.0|        4.92|   26.1|\n",
      "+-------------------+--------------+--------------+-------------+--------+---------+------------+-------+\n",
      "only showing top 5 rows\n",
      "\n"
     ]
    }
   ],
   "source": [
    "#Add a new Column to the Dataframe. Please note that unless we assign/store the result to a new Dataframe,\n",
    "#new columns won't be created in existing Dataframe.\n",
    "\n",
    "csv_df2.withColumn('mintemp',csv_df2['temperaturemin']).show(5)  "
   ]
  },
  {
   "cell_type": "markdown",
   "metadata": {},
   "source": [
    "#### Renaming an existing Column in Dataframe"
   ]
  },
  {
   "cell_type": "code",
   "execution_count": 28,
   "metadata": {},
   "outputs": [
    {
     "name": "stdout",
     "output_type": "stream",
     "text": [
      "+-------------------+--------------+-------+-------------+--------+---------+------------+\n",
      "|               date|temperaturemin|maxtemp|precipitation|snowfall|snowdepth|avgwindspeed|\n",
      "+-------------------+--------------+-------+-------------+--------+---------+------------+\n",
      "|2007-01-06 00:00:00|          50.0|   71.1|         0.13|     0.0|      0.0|        8.05|\n",
      "|2007-01-09 00:00:00|          30.0|   55.0|          0.0|     0.0|      0.0|        7.61|\n",
      "|2007-01-14 00:00:00|          50.0|   73.9|          0.0|     0.0|      0.0|         8.5|\n",
      "|2007-01-15 00:00:00|          57.0|   73.9|          0.0|     0.0|      0.0|        13.2|\n",
      "|2007-01-20 00:00:00|          26.1|   48.0|          0.0|     0.0|      0.0|        4.92|\n",
      "+-------------------+--------------+-------+-------------+--------+---------+------------+\n",
      "only showing top 5 rows\n",
      "\n"
     ]
    }
   ],
   "source": [
    "#Rename an existing Column.Please note that unless we assign/store the result to a new Dataframe,\n",
    "#column rename won't happen in existing Dataframe.\n",
    "csv_df2.withColumnRenamed('temperaturemax','maxtemp').show(5)"
   ]
  },
  {
   "cell_type": "code",
   "execution_count": 27,
   "metadata": {},
   "outputs": [
    {
     "name": "stdout",
     "output_type": "stream",
     "text": [
      "+-------------------+--------------+--------------+-------------+--------+---------+------------+\n",
      "|               date|temperaturemin|temperaturemax|precipitation|snowfall|snowdepth|avgwindspeed|\n",
      "+-------------------+--------------+--------------+-------------+--------+---------+------------+\n",
      "|2007-01-06 00:00:00|          50.0|          71.1|         0.13|     0.0|      0.0|        8.05|\n",
      "|2007-01-09 00:00:00|          30.0|          55.0|          0.0|     0.0|      0.0|        7.61|\n",
      "|2007-01-14 00:00:00|          50.0|          73.9|          0.0|     0.0|      0.0|         8.5|\n",
      "|2007-01-15 00:00:00|          57.0|          73.9|          0.0|     0.0|      0.0|        13.2|\n",
      "|2007-01-20 00:00:00|          26.1|          48.0|          0.0|     0.0|      0.0|        4.92|\n",
      "+-------------------+--------------+--------------+-------------+--------+---------+------------+\n",
      "only showing top 5 rows\n",
      "\n"
     ]
    }
   ],
   "source": [
    "csv_df2.show(5)"
   ]
  },
  {
   "cell_type": "markdown",
   "metadata": {},
   "source": [
    "#### Using sql \"Directly\" on Dataframe"
   ]
  },
  {
   "cell_type": "code",
   "execution_count": 29,
   "metadata": {},
   "outputs": [],
   "source": [
    "#Please note that we are not registering the Dataframe as temp view"
   ]
  },
  {
   "cell_type": "code",
   "execution_count": 32,
   "metadata": {},
   "outputs": [
    {
     "name": "stdout",
     "output_type": "stream",
     "text": [
      "+-------------------+--------------+--------------+-------------+--------+---------+------------+\n",
      "|               date|temperaturemin|temperaturemax|precipitation|snowfall|snowdepth|avgwindspeed|\n",
      "+-------------------+--------------+--------------+-------------+--------+---------+------------+\n",
      "|2007-03-15 00:00:00|          57.0|          81.0|          0.0|     0.0|      0.0|         9.4|\n",
      "|2007-03-23 00:00:00|          53.1|          82.9|          0.0|     0.0|      0.0|        7.83|\n",
      "|2007-04-03 00:00:00|          53.1|          86.0|          0.0|     0.0|      0.0|        4.03|\n",
      "|2007-04-25 00:00:00|          61.0|          87.1|          0.0|     0.0|      0.0|       10.29|\n",
      "|2007-04-29 00:00:00|          53.1|          80.1|          0.0|     0.0|      0.0|        6.49|\n",
      "+-------------------+--------------+--------------+-------------+--------+---------+------------+\n",
      "only showing top 5 rows\n",
      "\n"
     ]
    }
   ],
   "source": [
    "csv_df2.filter('temperaturemax > 80').show(5) #Note : condition should be mentioned in the quotes"
   ]
  },
  {
   "cell_type": "code",
   "execution_count": 41,
   "metadata": {},
   "outputs": [
    {
     "name": "stdout",
     "output_type": "stream",
     "text": [
      "+-------------------+--------------+--------------+-------------+--------+---------+------------+\n",
      "|               date|temperaturemin|temperaturemax|precipitation|snowfall|snowdepth|avgwindspeed|\n",
      "+-------------------+--------------+--------------+-------------+--------+---------+------------+\n",
      "|2007-03-15 00:00:00|          57.0|          81.0|          0.0|     0.0|      0.0|         9.4|\n",
      "|2007-03-23 00:00:00|          53.1|          82.9|          0.0|     0.0|      0.0|        7.83|\n",
      "|2007-04-03 00:00:00|          53.1|          86.0|          0.0|     0.0|      0.0|        4.03|\n",
      "|2007-04-25 00:00:00|          61.0|          87.1|          0.0|     0.0|      0.0|       10.29|\n",
      "|2007-04-29 00:00:00|          53.1|          80.1|          0.0|     0.0|      0.0|        6.49|\n",
      "+-------------------+--------------+--------------+-------------+--------+---------+------------+\n",
      "only showing top 5 rows\n",
      "\n"
     ]
    }
   ],
   "source": [
    "csv_df2.filter(csv_df2['temperaturemax'] > 80).show(5) #Note : This is another way to specify conditions"
   ]
  },
  {
   "cell_type": "code",
   "execution_count": 35,
   "metadata": {},
   "outputs": [
    {
     "name": "stdout",
     "output_type": "stream",
     "text": [
      "+-------------------+--------------+--------------+\n",
      "|               date|temperaturemin|temperaturemax|\n",
      "+-------------------+--------------+--------------+\n",
      "|2007-01-09 00:00:00|          30.0|          55.0|\n",
      "|2007-01-20 00:00:00|          26.1|          48.0|\n",
      "|2007-01-24 00:00:00|          30.0|          48.9|\n",
      "|2007-01-30 00:00:00|          24.1|          48.9|\n",
      "|2007-02-08 00:00:00|          27.0|          48.0|\n",
      "+-------------------+--------------+--------------+\n",
      "only showing top 5 rows\n",
      "\n"
     ]
    }
   ],
   "source": [
    "csv_df2.filter('temperaturemin < 32').select(['date','temperaturemin','temperaturemax']).show(5)"
   ]
  },
  {
   "cell_type": "code",
   "execution_count": 36,
   "metadata": {},
   "outputs": [
    {
     "name": "stdout",
     "output_type": "stream",
     "text": [
      "+-------------------+--------------+--------------+-------------+--------+---------+------------+\n",
      "|               date|temperaturemin|temperaturemax|precipitation|snowfall|snowdepth|avgwindspeed|\n",
      "+-------------------+--------------+--------------+-------------+--------+---------+------------+\n",
      "|2007-01-09 00:00:00|          30.0|          55.0|          0.0|     0.0|      0.0|        7.61|\n",
      "|2007-01-20 00:00:00|          26.1|          48.0|          0.0|     0.0|      0.0|        4.92|\n",
      "|2007-01-24 00:00:00|          30.0|          48.9|          0.0|     0.0|      0.0|        2.91|\n",
      "|2007-01-30 00:00:00|          24.1|          48.9|          0.0|     0.0|      0.0|        5.82|\n",
      "|2007-02-08 00:00:00|          27.0|          48.0|          0.0|     0.0|      0.0|        3.13|\n",
      "+-------------------+--------------+--------------+-------------+--------+---------+------------+\n",
      "only showing top 5 rows\n",
      "\n"
     ]
    }
   ],
   "source": [
    "csv_df2.filter(csv_df['temperaturemin'] < 32).select(['date',\n",
    "                                             'temperaturemin',\n",
    "                                             'temperaturemax',\n",
    "                                             'precipitation',\n",
    "                                             'snowfall',\n",
    "                                             'snowdepth',\n",
    "                                             'avgwindspeed']).show(5)"
   ]
  },
  {
   "cell_type": "code",
   "execution_count": 37,
   "metadata": {},
   "outputs": [
    {
     "name": "stdout",
     "output_type": "stream",
     "text": [
      "+-------------------+--------------+--------------+-------------+--------+---------+------------+\n",
      "|               date|temperaturemin|temperaturemax|precipitation|snowfall|snowdepth|avgwindspeed|\n",
      "+-------------------+--------------+--------------+-------------+--------+---------+------------+\n",
      "|2009-01-20 00:00:00|          23.0|          35.1|         0.19|     3.5|     2.01|        6.71|\n",
      "|2014-03-03 00:00:00|          20.1|          61.0|         0.36|     0.2|      0.0|       10.96|\n",
      "|2015-02-17 00:00:00|          19.2|          35.1|         0.39|    0.71|     1.18|         4.7|\n",
      "|2015-02-24 00:00:00|          19.2|          30.2|         0.09|    1.42|      0.0|        4.47|\n",
      "|2018-03-12 00:00:00|          32.0|          37.9|         0.92|    1.42|      0.0|        7.16|\n",
      "+-------------------+--------------+--------------+-------------+--------+---------+------------+\n",
      "only showing top 5 rows\n",
      "\n"
     ]
    }
   ],
   "source": [
    "#Specify multiple conditions in sql\n",
    "csv_df2.filter( ('temperaturemin < 32') and ('snowfall > 0') ).show(5) \n",
    "\n",
    "#Note : condition should be mentioned in the quotes and brackets separated by &"
   ]
  },
  {
   "cell_type": "code",
   "execution_count": 45,
   "metadata": {},
   "outputs": [
    {
     "name": "stdout",
     "output_type": "stream",
     "text": [
      "+-------------------+--------------+--------------+-------------+--------+---------+------------+\n",
      "|               date|temperaturemin|temperaturemax|precipitation|snowfall|snowdepth|avgwindspeed|\n",
      "+-------------------+--------------+--------------+-------------+--------+---------+------------+\n",
      "|2007-01-09 00:00:00|          30.0|          55.0|          0.0|     0.0|      0.0|        7.61|\n",
      "|2007-01-20 00:00:00|          26.1|          48.0|          0.0|     0.0|      0.0|        4.92|\n",
      "|2007-01-24 00:00:00|          30.0|          48.9|          0.0|     0.0|      0.0|        2.91|\n",
      "|2007-01-30 00:00:00|          24.1|          48.9|          0.0|     0.0|      0.0|        5.82|\n",
      "|2007-02-08 00:00:00|          27.0|          48.0|          0.0|     0.0|      0.0|        3.13|\n",
      "+-------------------+--------------+--------------+-------------+--------+---------+------------+\n",
      "only showing top 5 rows\n",
      "\n"
     ]
    }
   ],
   "source": [
    "csv_df2.filter( ('temperaturemin < 32') or ('snowfall > 0') ).show(5) "
   ]
  },
  {
   "cell_type": "code",
   "execution_count": 48,
   "metadata": {},
   "outputs": [
    {
     "name": "stdout",
     "output_type": "stream",
     "text": [
      "+-------------------+--------------+--------------+-------------+--------+---------+------------+\n",
      "|               date|temperaturemin|temperaturemax|precipitation|snowfall|snowdepth|avgwindspeed|\n",
      "+-------------------+--------------+--------------+-------------+--------+---------+------------+\n",
      "|2007-01-06 00:00:00|          50.0|          71.1|         0.13|     0.0|      0.0|        8.05|\n",
      "|2007-01-09 00:00:00|          30.0|          55.0|          0.0|     0.0|      0.0|        7.61|\n",
      "|2007-01-14 00:00:00|          50.0|          73.9|          0.0|     0.0|      0.0|         8.5|\n",
      "|2007-01-15 00:00:00|          57.0|          73.9|          0.0|     0.0|      0.0|        13.2|\n",
      "|2007-01-20 00:00:00|          26.1|          48.0|          0.0|     0.0|      0.0|        4.92|\n",
      "+-------------------+--------------+--------------+-------------+--------+---------+------------+\n",
      "only showing top 5 rows\n",
      "\n"
     ]
    }
   ],
   "source": [
    "csv_df2.filter( ('temperaturemin < 32') and ('not snowfall > 0') ).show(5)\n",
    "\n",
    "#Note : Observe how 'not' condition is specified"
   ]
  },
  {
   "cell_type": "code",
   "execution_count": 49,
   "metadata": {},
   "outputs": [
    {
     "name": "stdout",
     "output_type": "stream",
     "text": [
      "+-------------------+--------------+--------------+-------------+--------+---------+------------+\n",
      "|               date|temperaturemin|temperaturemax|precipitation|snowfall|snowdepth|avgwindspeed|\n",
      "+-------------------+--------------+--------------+-------------+--------+---------+------------+\n",
      "|2009-01-20 00:00:00|          23.0|          35.1|         0.19|     3.5|     2.01|        6.71|\n",
      "|2014-03-03 00:00:00|          20.1|          61.0|         0.36|     0.2|      0.0|       10.96|\n",
      "|2015-02-17 00:00:00|          19.2|          35.1|         0.39|    0.71|     1.18|         4.7|\n",
      "|2015-02-24 00:00:00|          19.2|          30.2|         0.09|    1.42|      0.0|        4.47|\n",
      "|2018-12-10 00:00:00|          30.2|          34.0|         0.73|    1.89|     1.18|        7.61|\n",
      "+-------------------+--------------+--------------+-------------+--------+---------+------------+\n",
      "only showing top 5 rows\n",
      "\n"
     ]
    }
   ],
   "source": [
    "#Specify multiple conditions in sql using df['colname'] notation\n",
    "\n",
    "csv_df2.filter( (csv_df2['temperaturemin'] < 32) & (csv_df2['snowfall'] > 0) ).show(5)\n",
    "\n",
    "#Note : We need to use & instead of 'and' whenever we use df['colname'] notation"
   ]
  },
  {
   "cell_type": "code",
   "execution_count": 50,
   "metadata": {},
   "outputs": [
    {
     "name": "stdout",
     "output_type": "stream",
     "text": [
      "+-------------------+--------------+--------------+-------------+--------+---------+------------+\n",
      "|               date|temperaturemin|temperaturemax|precipitation|snowfall|snowdepth|avgwindspeed|\n",
      "+-------------------+--------------+--------------+-------------+--------+---------+------------+\n",
      "|2007-01-09 00:00:00|          30.0|          55.0|          0.0|     0.0|      0.0|        7.61|\n",
      "|2007-01-20 00:00:00|          26.1|          48.0|          0.0|     0.0|      0.0|        4.92|\n",
      "|2007-01-24 00:00:00|          30.0|          48.9|          0.0|     0.0|      0.0|        2.91|\n",
      "|2007-01-30 00:00:00|          24.1|          48.9|          0.0|     0.0|      0.0|        5.82|\n",
      "|2007-02-08 00:00:00|          27.0|          48.0|          0.0|     0.0|      0.0|        3.13|\n",
      "+-------------------+--------------+--------------+-------------+--------+---------+------------+\n",
      "only showing top 5 rows\n",
      "\n"
     ]
    }
   ],
   "source": [
    "csv_df2.filter( (csv_df2['temperaturemin'] < 32) | (csv_df2['snowfall'] > 0) ).show(5)"
   ]
  },
  {
   "cell_type": "code",
   "execution_count": 51,
   "metadata": {},
   "outputs": [
    {
     "name": "stdout",
     "output_type": "stream",
     "text": [
      "+-------------------+--------------+--------------+-------------+--------+---------+------------+\n",
      "|               date|temperaturemin|temperaturemax|precipitation|snowfall|snowdepth|avgwindspeed|\n",
      "+-------------------+--------------+--------------+-------------+--------+---------+------------+\n",
      "|2007-01-09 00:00:00|          30.0|          55.0|          0.0|     0.0|      0.0|        7.61|\n",
      "|2007-01-20 00:00:00|          26.1|          48.0|          0.0|     0.0|      0.0|        4.92|\n",
      "|2007-01-24 00:00:00|          30.0|          48.9|          0.0|     0.0|      0.0|        2.91|\n",
      "|2007-01-30 00:00:00|          24.1|          48.9|          0.0|     0.0|      0.0|        5.82|\n",
      "|2007-02-08 00:00:00|          27.0|          48.0|          0.0|     0.0|      0.0|        3.13|\n",
      "+-------------------+--------------+--------------+-------------+--------+---------+------------+\n",
      "only showing top 5 rows\n",
      "\n"
     ]
    }
   ],
   "source": [
    "csv_df2.filter( (csv_df2['temperaturemin'] < 32) & ~(csv_df2['snowfall'] > 0) ).show(5)"
   ]
  },
  {
   "cell_type": "code",
   "execution_count": 52,
   "metadata": {},
   "outputs": [
    {
     "name": "stdout",
     "output_type": "stream",
     "text": [
      "+-------------------+--------------+--------------+-------------+--------+---------+------------+\n",
      "|               date|temperaturemin|temperaturemax|precipitation|snowfall|snowdepth|avgwindspeed|\n",
      "+-------------------+--------------+--------------+-------------+--------+---------+------------+\n",
      "|2009-01-20 00:00:00|          23.0|          35.1|         0.19|     3.5|     2.01|        6.71|\n",
      "|2015-02-24 00:00:00|          19.2|          30.2|         0.09|    1.42|      0.0|        4.47|\n",
      "|2018-03-12 00:00:00|          32.0|          37.9|         0.92|    1.42|      0.0|        7.16|\n",
      "|2018-12-10 00:00:00|          30.2|          34.0|         0.73|    1.89|     1.18|        7.61|\n",
      "|2010-01-29 00:00:00|          28.0|          46.0|          0.1|    1.42|      0.0|        7.16|\n",
      "+-------------------+--------------+--------------+-------------+--------+---------+------------+\n",
      "only showing top 5 rows\n",
      "\n"
     ]
    }
   ],
   "source": [
    "csv_df.filter( ('temperaturemin < 32') and ('snowfall > 1') ).select(['date',\n",
    "                                                                         'temperaturemin',\n",
    "                                                                         'temperaturemax',\n",
    "                                                                         'precipitation',\n",
    "                                                                         'snowfall',\n",
    "                                                                         'snowdepth',\n",
    "                                                                         'avgwindspeed']).show(5)"
   ]
  },
  {
   "cell_type": "code",
   "execution_count": 53,
   "metadata": {},
   "outputs": [
    {
     "data": {
      "text/plain": [
       "50"
      ]
     },
     "execution_count": 53,
     "metadata": {},
     "output_type": "execute_result"
    }
   ],
   "source": [
    "csv_df.filter( ('temperaturemin < 32') and ('snowfall > 0') ).count()"
   ]
  },
  {
   "cell_type": "markdown",
   "metadata": {},
   "source": [
    "#### Creating a List of Row Objects"
   ]
  },
  {
   "cell_type": "code",
   "execution_count": 54,
   "metadata": {},
   "outputs": [],
   "source": [
    "#Creating a List of Row Objects\n",
    "res = csv_df.filter( ('temperaturemin < 32') and ('snowfall > 0') ).select(['date',\n",
    "                                                                         'temperaturemin',\n",
    "                                                                         'temperaturemax',\n",
    "                                                                         'precipitation',\n",
    "                                                                         'snowfall',\n",
    "                                                                         'snowdepth',\n",
    "                                                                         'avgwindspeed']).collect()"
   ]
  },
  {
   "cell_type": "code",
   "execution_count": 55,
   "metadata": {},
   "outputs": [
    {
     "data": {
      "text/plain": [
       "list"
      ]
     },
     "execution_count": 55,
     "metadata": {},
     "output_type": "execute_result"
    }
   ],
   "source": [
    "type(res)"
   ]
  },
  {
   "cell_type": "code",
   "execution_count": 34,
   "metadata": {},
   "outputs": [
    {
     "data": {
      "text/plain": [
       "Row(date=datetime.datetime(2009, 1, 20, 0, 0), temperaturemin=23.0, temperaturemax=35.1, precipitation=0.19, snowfall=3.5, snowdepth=2.01, avgwindspeed=6.71)"
      ]
     },
     "execution_count": 34,
     "metadata": {},
     "output_type": "execute_result"
    }
   ],
   "source": [
    "res[0]"
   ]
  },
  {
   "cell_type": "code",
   "execution_count": 56,
   "metadata": {},
   "outputs": [
    {
     "data": {
      "text/plain": [
       "50"
      ]
     },
     "execution_count": 56,
     "metadata": {},
     "output_type": "execute_result"
    }
   ],
   "source": [
    "len(res)"
   ]
  },
  {
   "cell_type": "code",
   "execution_count": 57,
   "metadata": {},
   "outputs": [
    {
     "data": {
      "text/plain": [
       "{'date': datetime.datetime(2009, 1, 20, 0, 0),\n",
       " 'temperaturemin': 23.0,\n",
       " 'temperaturemax': 35.1,\n",
       " 'precipitation': 0.19,\n",
       " 'snowfall': 3.5,\n",
       " 'snowdepth': 2.01,\n",
       " 'avgwindspeed': 6.71}"
      ]
     },
     "execution_count": 57,
     "metadata": {},
     "output_type": "execute_result"
    }
   ],
   "source": [
    "res[0].asDict()"
   ]
  },
  {
   "cell_type": "code",
   "execution_count": 58,
   "metadata": {},
   "outputs": [
    {
     "data": {
      "text/plain": [
       "3.5"
      ]
     },
     "execution_count": 58,
     "metadata": {},
     "output_type": "execute_result"
    }
   ],
   "source": [
    "res[0].asDict()['snowfall']"
   ]
  },
  {
   "cell_type": "code",
   "execution_count": null,
   "metadata": {},
   "outputs": [],
   "source": []
  },
  {
   "cell_type": "markdown",
   "metadata": {},
   "source": [
    "### GroupBy and Aggregation"
   ]
  },
  {
   "cell_type": "code",
   "execution_count": 67,
   "metadata": {},
   "outputs": [],
   "source": [
    "stck_prc_df = sprk_sess.read.csv(path='all_stocks_5yr.csv',header=True,inferSchema=True,)"
   ]
  },
  {
   "cell_type": "code",
   "execution_count": 68,
   "metadata": {},
   "outputs": [
    {
     "data": {
      "text/plain": [
       "['date', 'open', 'high', 'low', 'close', 'volume', 'Name']"
      ]
     },
     "execution_count": 68,
     "metadata": {},
     "output_type": "execute_result"
    }
   ],
   "source": [
    "stck_prc_df.columns"
   ]
  },
  {
   "cell_type": "code",
   "execution_count": 69,
   "metadata": {},
   "outputs": [
    {
     "data": {
      "text/plain": [
       "7"
      ]
     },
     "execution_count": 69,
     "metadata": {},
     "output_type": "execute_result"
    }
   ],
   "source": [
    "len(stck_prc_df.columns)"
   ]
  },
  {
   "cell_type": "code",
   "execution_count": 70,
   "metadata": {},
   "outputs": [
    {
     "data": {
      "text/plain": [
       "StructType(List(StructField(date,TimestampType,true),StructField(open,DoubleType,true),StructField(high,DoubleType,true),StructField(low,DoubleType,true),StructField(close,DoubleType,true),StructField(volume,IntegerType,true),StructField(Name,StringType,true)))"
      ]
     },
     "execution_count": 70,
     "metadata": {},
     "output_type": "execute_result"
    }
   ],
   "source": [
    "stck_prc_df.schema"
   ]
  },
  {
   "cell_type": "code",
   "execution_count": 71,
   "metadata": {},
   "outputs": [
    {
     "name": "stdout",
     "output_type": "stream",
     "text": [
      "root\n",
      " |-- date: timestamp (nullable = true)\n",
      " |-- open: double (nullable = true)\n",
      " |-- high: double (nullable = true)\n",
      " |-- low: double (nullable = true)\n",
      " |-- close: double (nullable = true)\n",
      " |-- volume: integer (nullable = true)\n",
      " |-- Name: string (nullable = true)\n",
      "\n"
     ]
    }
   ],
   "source": [
    "stck_prc_df.printSchema()"
   ]
  },
  {
   "cell_type": "code",
   "execution_count": 72,
   "metadata": {},
   "outputs": [
    {
     "data": {
      "text/plain": [
       "619040"
      ]
     },
     "execution_count": 72,
     "metadata": {},
     "output_type": "execute_result"
    }
   ],
   "source": [
    "stck_prc_df.count()"
   ]
  },
  {
   "cell_type": "code",
   "execution_count": 75,
   "metadata": {},
   "outputs": [
    {
     "name": "stdout",
     "output_type": "stream",
     "text": [
      "+-------------------+-----+-----+-----+-----+--------+----+\n",
      "|               date| open| high|  low|close|  volume|Name|\n",
      "+-------------------+-----+-----+-----+-----+--------+----+\n",
      "|2013-02-08 00:00:00|15.07|15.12|14.63|14.75| 8407500| AAL|\n",
      "|2013-02-11 00:00:00|14.89|15.01|14.26|14.46| 8882000| AAL|\n",
      "|2013-02-12 00:00:00|14.45|14.51| 14.1|14.27| 8126000| AAL|\n",
      "|2013-02-13 00:00:00| 14.3|14.94|14.25|14.66|10259500| AAL|\n",
      "|2013-02-14 00:00:00|14.94|14.96|13.16|13.99|31879900| AAL|\n",
      "+-------------------+-----+-----+-----+-----+--------+----+\n",
      "only showing top 5 rows\n",
      "\n"
     ]
    }
   ],
   "source": [
    "stck_prc_df.show(5)"
   ]
  },
  {
   "cell_type": "code",
   "execution_count": 76,
   "metadata": {},
   "outputs": [
    {
     "name": "stdout",
     "output_type": "stream",
     "text": [
      "+-------+----------------+-----------------+-----------------+-----------------+-----------------+------+\n",
      "|summary|            open|             high|              low|            close|           volume|  Name|\n",
      "+-------+----------------+-----------------+-----------------+-----------------+-----------------+------+\n",
      "|  count|          619029|           619032|           619032|           619040|           619040|619040|\n",
      "|   mean|83.0233343145474|83.77831069347276|82.25609641375338|83.04376276476519|4321823.395568945|  null|\n",
      "| stddev|97.3787690433237|98.20751890446375|96.50742105809033|97.38974800165782|8693609.511967566|  null|\n",
      "|    min|            1.62|             1.69|              1.5|             1.59|                0|     A|\n",
      "|    max|          2044.0|          2067.99|          2035.11|           2049.0|        618237630|   ZTS|\n",
      "+-------+----------------+-----------------+-----------------+-----------------+-----------------+------+\n",
      "\n"
     ]
    }
   ],
   "source": [
    "stck_prc_df.describe().show()"
   ]
  },
  {
   "cell_type": "code",
   "execution_count": 77,
   "metadata": {},
   "outputs": [
    {
     "data": {
      "text/plain": [
       "Row(date=datetime.datetime(2013, 2, 8, 0, 0), open=15.07, high=15.12, low=14.63, close=14.75, volume=8407500, Name='AAL')"
      ]
     },
     "execution_count": 77,
     "metadata": {},
     "output_type": "execute_result"
    }
   ],
   "source": [
    "stck_prc_df.head()"
   ]
  },
  {
   "cell_type": "code",
   "execution_count": 78,
   "metadata": {},
   "outputs": [
    {
     "data": {
      "text/plain": [
       "[Row(date=datetime.datetime(2013, 2, 8, 0, 0), open=15.07, high=15.12, low=14.63, close=14.75, volume=8407500, Name='AAL'),\n",
       " Row(date=datetime.datetime(2013, 2, 11, 0, 0), open=14.89, high=15.01, low=14.26, close=14.46, volume=8882000, Name='AAL'),\n",
       " Row(date=datetime.datetime(2013, 2, 12, 0, 0), open=14.45, high=14.51, low=14.1, close=14.27, volume=8126000, Name='AAL'),\n",
       " Row(date=datetime.datetime(2013, 2, 13, 0, 0), open=14.3, high=14.94, low=14.25, close=14.66, volume=10259500, Name='AAL'),\n",
       " Row(date=datetime.datetime(2013, 2, 14, 0, 0), open=14.94, high=14.96, low=13.16, close=13.99, volume=31879900, Name='AAL')]"
      ]
     },
     "execution_count": 78,
     "metadata": {},
     "output_type": "execute_result"
    }
   ],
   "source": [
    "stck_prc_df.head(5)"
   ]
  },
  {
   "cell_type": "code",
   "execution_count": 79,
   "metadata": {},
   "outputs": [
    {
     "name": "stdout",
     "output_type": "stream",
     "text": [
      "root\n",
      " |-- date: timestamp (nullable = true)\n",
      " |-- open: double (nullable = true)\n",
      " |-- high: double (nullable = true)\n",
      " |-- low: double (nullable = true)\n",
      " |-- close: double (nullable = true)\n",
      " |-- volume: integer (nullable = true)\n",
      " |-- Name: string (nullable = true)\n",
      "\n"
     ]
    }
   ],
   "source": [
    "stck_prc_df.printSchema()"
   ]
  },
  {
   "cell_type": "code",
   "execution_count": 83,
   "metadata": {},
   "outputs": [
    {
     "name": "stdout",
     "output_type": "stream",
     "text": [
      "+----+----------+\n",
      "|Name|max(close)|\n",
      "+----+----------+\n",
      "|ALXN|    207.84|\n",
      "| GIS|     72.64|\n",
      "|   K|     86.98|\n",
      "| LEN|     71.82|\n",
      "|SPGI|     183.8|\n",
      "+----+----------+\n",
      "only showing top 5 rows\n",
      "\n"
     ]
    }
   ],
   "source": [
    "stck_prc_df.groupBy('Name').max('close').show(5)"
   ]
  },
  {
   "cell_type": "code",
   "execution_count": 85,
   "metadata": {},
   "outputs": [
    {
     "name": "stdout",
     "output_type": "stream",
     "text": [
      "+----+----------+\n",
      "|Name|min(close)|\n",
      "+----+----------+\n",
      "|ALXN|     83.39|\n",
      "| GIS|      42.6|\n",
      "|   K|      56.9|\n",
      "| LEN|   30.9118|\n",
      "|SPGI|     42.67|\n",
      "+----+----------+\n",
      "only showing top 5 rows\n",
      "\n"
     ]
    }
   ],
   "source": [
    "stck_prc_df.groupBy('Name').min('close').show(5)"
   ]
  },
  {
   "cell_type": "code",
   "execution_count": 86,
   "metadata": {},
   "outputs": [
    {
     "name": "stdout",
     "output_type": "stream",
     "text": [
      "+----+-----+\n",
      "|Name|count|\n",
      "+----+-----+\n",
      "|ALXN| 1259|\n",
      "| GIS| 1259|\n",
      "|   K| 1259|\n",
      "| LEN| 1259|\n",
      "|SPGI| 1259|\n",
      "+----+-----+\n",
      "only showing top 5 rows\n",
      "\n"
     ]
    }
   ],
   "source": [
    "stck_prc_df.groupBy('Name').count().show(5)"
   ]
  },
  {
   "cell_type": "code",
   "execution_count": 92,
   "metadata": {},
   "outputs": [
    {
     "data": {
      "text/plain": [
       "505"
      ]
     },
     "execution_count": 92,
     "metadata": {},
     "output_type": "execute_result"
    }
   ],
   "source": [
    "#Get the Number of Distinct Ticker Symbols\n",
    "stck_prc_df.select('Name').distinct().count()"
   ]
  },
  {
   "cell_type": "code",
   "execution_count": 93,
   "metadata": {},
   "outputs": [
    {
     "name": "stdout",
     "output_type": "stream",
     "text": [
      "+-----------+\n",
      "|max(volume)|\n",
      "+-----------+\n",
      "|  618237630|\n",
      "+-----------+\n",
      "\n"
     ]
    }
   ],
   "source": [
    "#Another way of aggregation : use agg function which take Dictionary arguments key=Col Name, Value = Aggregation Function\n",
    "\n",
    "stck_prc_df.agg({'volume':'max'}).show()"
   ]
  },
  {
   "cell_type": "code",
   "execution_count": 94,
   "metadata": {},
   "outputs": [
    {
     "name": "stdout",
     "output_type": "stream",
     "text": [
      "+-------------+\n",
      "|  sum(volume)|\n",
      "+-------------+\n",
      "|2675381554793|\n",
      "+-------------+\n",
      "\n"
     ]
    }
   ],
   "source": [
    "stck_prc_df.agg({'volume':'sum'}).show()"
   ]
  },
  {
   "cell_type": "code",
   "execution_count": 95,
   "metadata": {},
   "outputs": [],
   "source": [
    "grp_data = stck_prc_df.groupBy('Name')"
   ]
  },
  {
   "cell_type": "code",
   "execution_count": 97,
   "metadata": {},
   "outputs": [
    {
     "name": "stdout",
     "output_type": "stream",
     "text": [
      "+----+-----------+\n",
      "|Name|max(volume)|\n",
      "+----+-----------+\n",
      "|ALXN|   18836943|\n",
      "| GIS|   19747255|\n",
      "|   K|   11598383|\n",
      "| LEN|   22185910|\n",
      "|SPGI|    9586165|\n",
      "+----+-----------+\n",
      "only showing top 5 rows\n",
      "\n"
     ]
    }
   ],
   "source": [
    "grp_data.agg({'volume':'max'}).show(5)"
   ]
  },
  {
   "cell_type": "code",
   "execution_count": 99,
   "metadata": {},
   "outputs": [
    {
     "name": "stdout",
     "output_type": "stream",
     "text": [
      "+----+------------------+----------+---------+\n",
      "|Name|    stddev(volume)|max(close)|max(open)|\n",
      "+----+------------------+----------+---------+\n",
      "|ALXN|1345518.4523878063|    207.84|   206.66|\n",
      "| GIS|1522159.4781412142|     72.64|    72.65|\n",
      "|   K| 1075679.745698368|     86.98|     86.9|\n",
      "| LEN|2081230.6016956428|     71.82|    71.97|\n",
      "|SPGI| 723328.3263113373|     183.8|    183.8|\n",
      "+----+------------------+----------+---------+\n",
      "only showing top 5 rows\n",
      "\n"
     ]
    }
   ],
   "source": [
    "grp_data.agg({'open':'max','close':'max','volume':'stddev'}).show(5)"
   ]
  },
  {
   "cell_type": "code",
   "execution_count": 100,
   "metadata": {},
   "outputs": [],
   "source": [
    "from pyspark.sql.functions import countDistinct,stddev,format_number"
   ]
  },
  {
   "cell_type": "code",
   "execution_count": 102,
   "metadata": {},
   "outputs": [
    {
     "name": "stdout",
     "output_type": "stream",
     "text": [
      "+----------+\n",
      "|StockCount|\n",
      "+----------+\n",
      "|       505|\n",
      "+----------+\n",
      "\n"
     ]
    }
   ],
   "source": [
    "stck_prc_df.select(countDistinct('Name').alias('StockCount')).show()"
   ]
  },
  {
   "cell_type": "code",
   "execution_count": 103,
   "metadata": {},
   "outputs": [
    {
     "name": "stdout",
     "output_type": "stream",
     "text": [
      "+------------+\n",
      "|VolumeStddev|\n",
      "+------------+\n",
      "|8,693,609.51|\n",
      "+------------+\n",
      "\n"
     ]
    }
   ],
   "source": [
    "stck_prc_df.select(format_number(stddev('volume'),2).alias('VolumeStddev') ).show()"
   ]
  },
  {
   "cell_type": "code",
   "execution_count": 108,
   "metadata": {},
   "outputs": [
    {
     "name": "stdout",
     "output_type": "stream",
     "text": [
      "+----+-----------+---------+---------+\n",
      "|Name|max(volume)|max(high)|max(open)|\n",
      "+----+-----------+---------+---------+\n",
      "|AAPL|  266833581|    180.1|   179.37|\n",
      "|ABBV|  122740856|   125.86|    121.5|\n",
      "| AAP|   19749515|   201.24|   201.24|\n",
      "| AAL|  137767165|    59.08|    58.79|\n",
      "| ABC|   17071639|   120.68|   117.39|\n",
      "+----+-----------+---------+---------+\n",
      "\n"
     ]
    }
   ],
   "source": [
    "stck_prc_df.groupBy('Name').max('volume','high','open').show()"
   ]
  },
  {
   "cell_type": "code",
   "execution_count": 111,
   "metadata": {},
   "outputs": [
    {
     "name": "stdout",
     "output_type": "stream",
     "text": [
      "+-------------------+-----+------+-------+-----+-------+----+\n",
      "|               date| open|  high|    low|close| volume|Name|\n",
      "+-------------------+-----+------+-------+-----+-------+----+\n",
      "|2013-02-08 00:00:00|46.52|46.895|  46.46|46.89|1232802| ABC|\n",
      "|2013-02-11 00:00:00|46.85|  47.0|   46.5|46.76|1115888| ABC|\n",
      "|2013-02-12 00:00:00| 46.7| 47.05|   46.6|46.96|1318773| ABC|\n",
      "|2013-02-13 00:00:00|46.74|  46.9|   46.6|46.64|2645247| ABC|\n",
      "|2013-02-14 00:00:00|46.67| 46.99|   46.6|46.77|1941879| ABC|\n",
      "|2013-02-15 00:00:00|46.77| 47.09|  46.51| 46.6|2962354| ABC|\n",
      "|2013-02-19 00:00:00|46.67| 47.24|  46.62|47.22|1831692| ABC|\n",
      "|2013-02-20 00:00:00|47.22| 47.39|  46.59|46.61|1970391| ABC|\n",
      "|2013-02-21 00:00:00|46.48| 46.62|46.1633|46.48|1432331| ABC|\n",
      "|2013-02-22 00:00:00|46.48| 47.03| 46.385|46.95|1003693| ABC|\n",
      "|2013-02-25 00:00:00| 47.1| 47.25|  46.18|46.18|1795053| ABC|\n",
      "|2013-02-26 00:00:00|46.38| 46.62|  46.08|46.57|1374357| ABC|\n",
      "|2013-02-27 00:00:00|46.66| 47.21|  46.58|47.03| 855645| ABC|\n",
      "|2013-02-28 00:00:00|46.96| 47.51|  46.81| 47.2|2254042| ABC|\n",
      "|2013-03-01 00:00:00|47.22| 48.14|  46.89|47.98|2135840| ABC|\n",
      "|2013-03-04 00:00:00|47.83| 48.25|  47.66|48.25|2132714| ABC|\n",
      "|2013-03-05 00:00:00|48.04|  48.4|  47.96|48.27|1646704| ABC|\n",
      "|2013-03-06 00:00:00|48.44|  48.8|  48.27|48.48|1494635| ABC|\n",
      "|2013-03-07 00:00:00|48.44| 48.65|  47.68|48.08|1785841| ABC|\n",
      "|2013-03-08 00:00:00|48.27| 48.51|  47.97|48.48|1427447| ABC|\n",
      "+-------------------+-----+------+-------+-----+-------+----+\n",
      "only showing top 20 rows\n",
      "\n"
     ]
    }
   ],
   "source": [
    "stck_prc_df.cache().show()"
   ]
  },
  {
   "cell_type": "markdown",
   "metadata": {},
   "source": [
    "#### Sorting the Data"
   ]
  },
  {
   "cell_type": "code",
   "execution_count": 106,
   "metadata": {},
   "outputs": [
    {
     "name": "stdout",
     "output_type": "stream",
     "text": [
      "+-------------------+-------+-------+------+-------+------+----+\n",
      "|               date|   open|   high|   low|  close|volume|Name|\n",
      "+-------------------+-------+-------+------+-------+------+----+\n",
      "|2016-01-12 00:00:00|   null|   null|  null|  88.55|     0| DHR|\n",
      "|2016-07-01 00:00:00|   null|   null|  null|  49.54|     0| FTV|\n",
      "|2016-01-12 00:00:00|   null|   null|  null|  52.43|     0|   O|\n",
      "|2016-04-07 00:00:00|   null|   null|  null|  41.56|     0|  UA|\n",
      "|2017-07-26 00:00:00|   null|   null|  null|69.0842|     3| BHF|\n",
      "|2015-06-26 00:00:00|   null|   null|  null|   61.9|   100| WRK|\n",
      "|2017-07-28 00:00:00|  67.26|  67.26| 67.26|  67.26|   101| BHF|\n",
      "|2015-06-29 00:00:00|  60.92|  60.92|  60.8|   60.8|   300| WRK|\n",
      "|2017-07-25 00:00:00|69.1461|69.1461| 68.95|69.0842|  1362| BHF|\n",
      "|2017-07-21 00:00:00|   70.0|   70.0| 68.56|68.9226|  1562| BHF|\n",
      "|2017-07-19 00:00:00|  67.92|  69.51|  67.8|  68.95|  1805| BHF|\n",
      "|2015-06-24 00:00:00|  63.45|  63.45| 63.38|  63.38|  3300| WRK|\n",
      "|2015-06-25 00:00:00|   62.9|   62.9|  61.9|   61.9|  3700| WRK|\n",
      "|2017-07-24 00:00:00|   69.0|  69.29|  69.0|   69.0|  4650| BHF|\n",
      "|2014-04-01 00:00:00| 558.71| 568.45|558.71| 567.16|  7932|GOOG|\n",
      "|2014-03-31 00:00:00| 566.89|  567.0|556.93| 556.97| 10772|GOOG|\n",
      "|2015-06-09 00:00:00|   null|   null|  null| 526.09| 12135|REGN|\n",
      "|2017-07-27 00:00:00|  69.25|  69.25|  68.0|   68.0| 12970| BHF|\n",
      "|2014-03-27 00:00:00|  568.0|  568.0|552.92| 558.46| 13052|GOOG|\n",
      "|2015-11-18 00:00:00|   33.0|  33.28|  33.0|  33.02| 18900|CSRA|\n",
      "+-------------------+-------+-------+------+-------+------+----+\n",
      "only showing top 20 rows\n",
      "\n"
     ]
    }
   ],
   "source": [
    "#Ascending Order\n",
    "stck_prc_df.orderBy('volume').show()"
   ]
  },
  {
   "cell_type": "code",
   "execution_count": 108,
   "metadata": {},
   "outputs": [
    {
     "name": "stdout",
     "output_type": "stream",
     "text": [
      "+-------------------+-------+-------+-------+-------+---------+----+\n",
      "|               date|   open|   high|    low|  close|   volume|Name|\n",
      "+-------------------+-------+-------+-------+-------+---------+----+\n",
      "|2014-02-24 00:00:00|  47.02|   47.2|  46.23|  46.23|618237630|  VZ|\n",
      "|2015-11-17 00:00:00|  30.57|  30.75|   30.0|  30.32|431332632|  GE|\n",
      "|2016-02-11 00:00:00|  11.46|  11.55|  10.99|  11.16|375088650| BAC|\n",
      "|2013-07-25 00:00:00| 33.545|  34.88|  32.75| 34.359|365380568|  FB|\n",
      "|2015-04-10 00:00:00|  27.13|  28.68|   27.0|  28.51|352701949|  GE|\n",
      "|2014-04-28 00:00:00|  15.33|  15.41|  14.86|  14.95|344935158| BAC|\n",
      "|2013-04-17 00:00:00|  11.91|  12.02|  11.45|   11.7|335205627| BAC|\n",
      "|2014-01-15 00:00:00|  17.23|  17.42|  17.11|  17.15|330005943| BAC|\n",
      "|2016-11-14 00:00:00|  19.41|   20.2|   19.4|  20.08|320959885| BAC|\n",
      "|2016-11-09 00:00:00|  17.66|  18.05|   17.4|  17.97|319516881| BAC|\n",
      "|2013-03-15 00:00:00|  12.52|  12.66|  12.35|  12.57|318880083| BAC|\n",
      "|2017-11-14 00:00:00|  18.79|  18.88|  17.46|   17.9|312556809|  GE|\n",
      "|2016-11-10 00:00:00|  18.26|  18.99|  18.25|  18.76|304986449| BAC|\n",
      "|2015-11-12 00:00:00|  30.41|   30.9|  30.11|  30.16|292791614|  GE|\n",
      "|2015-11-16 00:00:00|  29.88|   30.6|  29.77|  30.36|284804155|  GE|\n",
      "|2016-04-05 00:00:00|  31.21|  31.75| 30.575|  31.36|284468054| PFE|\n",
      "|2016-03-01 00:00:00|   7.78|   8.07|   7.56|   7.96|273996613| MRO|\n",
      "|2017-05-02 00:00:00|  11.73|  11.76|   10.3|  10.32|268336455| AMD|\n",
      "|2014-01-28 00:00:00|72.6799|73.5714|71.7242|72.3571|266833581|AAPL|\n",
      "|2013-05-06 00:00:00|  12.39|  12.89|  12.36|  12.88|264618705| BAC|\n",
      "+-------------------+-------+-------+-------+-------+---------+----+\n",
      "only showing top 20 rows\n",
      "\n"
     ]
    }
   ],
   "source": [
    "#Descending Order\n",
    "stck_prc_df.orderBy(stck_prc_df['volume'].desc()).show()"
   ]
  },
  {
   "cell_type": "markdown",
   "metadata": {},
   "source": [
    "## Handling Missing Data"
   ]
  },
  {
   "cell_type": "markdown",
   "metadata": {},
   "source": [
    "Often data sources are incomplete, which means there will be missing data. We will have 3 basic options for filling in missing data (you will personally have to make the decision for what is the right approach:\n",
    "\n",
    "1. Just keep the missing data points.\n",
    "\n",
    "2. Drop the missing data points (including the entire row)\n",
    "\n",
    "3. Fill them in with some other value."
   ]
  },
  {
   "cell_type": "code",
   "execution_count": 111,
   "metadata": {},
   "outputs": [],
   "source": [
    "null_df = sprk_sess.read.csv(path='ContainsNull.csv',header=True,inferSchema=True)"
   ]
  },
  {
   "cell_type": "code",
   "execution_count": 112,
   "metadata": {},
   "outputs": [
    {
     "name": "stdout",
     "output_type": "stream",
     "text": [
      "+----+-----+-----+\n",
      "|  Id| Name|Sales|\n",
      "+----+-----+-----+\n",
      "|emp1| John| null|\n",
      "|emp2| null| null|\n",
      "|emp3| null|345.0|\n",
      "|emp4|Cindy|456.0|\n",
      "+----+-----+-----+\n",
      "\n"
     ]
    }
   ],
   "source": [
    "null_df.show()"
   ]
  },
  {
   "cell_type": "markdown",
   "metadata": {},
   "source": [
    "### Drop the missing data\n",
    "\n",
    "You can use the .na functions for missing data. The drop command has the following parameters:\n",
    "\n",
    "    df.na.drop(how='any', thresh=None, subset=None)\n",
    "    \n",
    "    * param how: 'any' or 'all'.\n",
    "    \n",
    "        If 'any', drop a row if it contains any nulls.\n",
    "        If 'all', drop a row only if all its values are null.\n",
    "    \n",
    "    * param thresh: int, default None\n",
    "    \n",
    "        If specified, drop rows that have less than `thresh` non-null values.\n",
    "        This overwrites the `how` parameter.\n",
    "        \n",
    "    * param subset: \n",
    "        optional list of column names to consider"
   ]
  },
  {
   "cell_type": "code",
   "execution_count": 128,
   "metadata": {},
   "outputs": [
    {
     "name": "stdout",
     "output_type": "stream",
     "text": [
      "+----+-----+-----+\n",
      "|  Id| Name|Sales|\n",
      "+----+-----+-----+\n",
      "|emp1| John| null|\n",
      "|emp2| null| null|\n",
      "|emp3| null|345.0|\n",
      "|emp4|Cindy|456.0|\n",
      "+----+-----+-----+\n",
      "\n"
     ]
    }
   ],
   "source": [
    "null_df.show()"
   ]
  },
  {
   "cell_type": "code",
   "execution_count": 120,
   "metadata": {},
   "outputs": [
    {
     "name": "stdout",
     "output_type": "stream",
     "text": [
      "+----+-----+-----+\n",
      "|  Id| Name|Sales|\n",
      "+----+-----+-----+\n",
      "|emp4|Cindy|456.0|\n",
      "+----+-----+-----+\n",
      "\n"
     ]
    }
   ],
   "source": [
    "#Drop the Missing Data Points\n",
    "null_df.na.drop().show()"
   ]
  },
  {
   "cell_type": "code",
   "execution_count": 121,
   "metadata": {},
   "outputs": [
    {
     "name": "stdout",
     "output_type": "stream",
     "text": [
      "+----+-----+-----+\n",
      "|  Id| Name|Sales|\n",
      "+----+-----+-----+\n",
      "|emp1| John| null|\n",
      "|emp3| null|345.0|\n",
      "|emp4|Cindy|456.0|\n",
      "+----+-----+-----+\n",
      "\n"
     ]
    }
   ],
   "source": [
    "# Has to have at least 2 NON-null values\n",
    "null_df.na.drop(thresh=2).show()"
   ]
  },
  {
   "cell_type": "code",
   "execution_count": 129,
   "metadata": {},
   "outputs": [
    {
     "name": "stdout",
     "output_type": "stream",
     "text": [
      "+----+-----+-----+\n",
      "|  Id| Name|Sales|\n",
      "+----+-----+-----+\n",
      "|emp4|Cindy|456.0|\n",
      "+----+-----+-----+\n",
      "\n"
     ]
    }
   ],
   "source": [
    "null_df.na.drop(subset=['Name','Sales']).show()"
   ]
  },
  {
   "cell_type": "code",
   "execution_count": 130,
   "metadata": {},
   "outputs": [
    {
     "name": "stdout",
     "output_type": "stream",
     "text": [
      "+----+-----+-----+\n",
      "|  Id| Name|Sales|\n",
      "+----+-----+-----+\n",
      "|emp1| John| null|\n",
      "|emp3| null|345.0|\n",
      "|emp4|Cindy|456.0|\n",
      "+----+-----+-----+\n",
      "\n"
     ]
    }
   ],
   "source": [
    "null_df.na.drop(thresh=1,subset=['Name','Sales']).show()"
   ]
  },
  {
   "cell_type": "code",
   "execution_count": 132,
   "metadata": {},
   "outputs": [
    {
     "name": "stdout",
     "output_type": "stream",
     "text": [
      "+----+-----+-----+\n",
      "|  Id| Name|Sales|\n",
      "+----+-----+-----+\n",
      "|emp4|Cindy|456.0|\n",
      "+----+-----+-----+\n",
      "\n"
     ]
    }
   ],
   "source": [
    "null_df.na.drop(how='any').show()"
   ]
  },
  {
   "cell_type": "code",
   "execution_count": 133,
   "metadata": {},
   "outputs": [
    {
     "name": "stdout",
     "output_type": "stream",
     "text": [
      "+----+-----+-----+\n",
      "|  Id| Name|Sales|\n",
      "+----+-----+-----+\n",
      "|emp1| John| null|\n",
      "|emp2| null| null|\n",
      "|emp3| null|345.0|\n",
      "|emp4|Cindy|456.0|\n",
      "+----+-----+-----+\n",
      "\n"
     ]
    }
   ],
   "source": [
    "null_df.na.drop(how='all').show()"
   ]
  },
  {
   "cell_type": "markdown",
   "metadata": {},
   "source": [
    "### Fill the missing values"
   ]
  },
  {
   "cell_type": "code",
   "execution_count": 135,
   "metadata": {},
   "outputs": [
    {
     "name": "stdout",
     "output_type": "stream",
     "text": [
      "+----+--------+-----+\n",
      "|  Id|    Name|Sales|\n",
      "+----+--------+-----+\n",
      "|emp1|    John| null|\n",
      "|emp2|NewValue| null|\n",
      "|emp3|NewValue|345.0|\n",
      "|emp4|   Cindy|456.0|\n",
      "+----+--------+-----+\n",
      "\n"
     ]
    }
   ],
   "source": [
    "null_df.na.fill(value = 'NewValue').show()"
   ]
  },
  {
   "cell_type": "code",
   "execution_count": 136,
   "metadata": {},
   "outputs": [
    {
     "name": "stdout",
     "output_type": "stream",
     "text": [
      "+----+-----+-----+\n",
      "|  Id| Name|Sales|\n",
      "+----+-----+-----+\n",
      "|emp1| John| 10.0|\n",
      "|emp2| null| 10.0|\n",
      "|emp3| null|345.0|\n",
      "|emp4|Cindy|456.0|\n",
      "+----+-----+-----+\n",
      "\n"
     ]
    }
   ],
   "source": [
    "null_df.na.fill(value = 10).show()"
   ]
  },
  {
   "cell_type": "code",
   "execution_count": 137,
   "metadata": {},
   "outputs": [
    {
     "name": "stdout",
     "output_type": "stream",
     "text": [
      "+----+--------+-----+\n",
      "|  Id|    Name|Sales|\n",
      "+----+--------+-----+\n",
      "|emp1|    John| null|\n",
      "|emp2|NewValue| null|\n",
      "|emp3|NewValue|345.0|\n",
      "|emp4|   Cindy|456.0|\n",
      "+----+--------+-----+\n",
      "\n"
     ]
    }
   ],
   "source": [
    "#Usually we should specify what columns you want to fill with the subset parameter\n",
    "null_df.na.fill(value = 'NewValue',subset=['Name']).show()"
   ]
  },
  {
   "cell_type": "code",
   "execution_count": 143,
   "metadata": {},
   "outputs": [
    {
     "name": "stdout",
     "output_type": "stream",
     "text": [
      "[Row(avg(Sales)=400.5)]\n"
     ]
    },
    {
     "data": {
      "text/plain": [
       "400.5"
      ]
     },
     "execution_count": 143,
     "metadata": {},
     "output_type": "execute_result"
    }
   ],
   "source": [
    "#A very common practice is to fill values with the mean value for the column\n",
    "from pyspark.sql.functions import mean\n",
    "\n",
    "mean_val = null_df.select(mean(null_df['Sales'])).collect()\n",
    "print(mean_val)\n",
    "mean_val[0][0]\n",
    "#null_df.na.fill(value=).show()"
   ]
  },
  {
   "cell_type": "code",
   "execution_count": 144,
   "metadata": {},
   "outputs": [],
   "source": [
    "mean_val = mean_val[0][0]"
   ]
  },
  {
   "cell_type": "code",
   "execution_count": 145,
   "metadata": {},
   "outputs": [
    {
     "name": "stdout",
     "output_type": "stream",
     "text": [
      "+----+-----+-----+\n",
      "|  Id| Name|Sales|\n",
      "+----+-----+-----+\n",
      "|emp1| John|400.5|\n",
      "|emp2| null|400.5|\n",
      "|emp3| null|345.0|\n",
      "|emp4|Cindy|456.0|\n",
      "+----+-----+-----+\n",
      "\n"
     ]
    }
   ],
   "source": [
    "null_df.na.fill(value=mean_val).show()"
   ]
  },
  {
   "cell_type": "code",
   "execution_count": 150,
   "metadata": {},
   "outputs": [
    {
     "name": "stdout",
     "output_type": "stream",
     "text": [
      "+----+-----+-----+\n",
      "|  Id| Name|Sales|\n",
      "+----+-----+-----+\n",
      "|emp1| John|400.5|\n",
      "|emp2| null|400.5|\n",
      "|emp3| null|345.0|\n",
      "|emp4|Cindy|456.0|\n",
      "+----+-----+-----+\n",
      "\n"
     ]
    }
   ],
   "source": [
    "null_df.na.fill(value = null_df.select(mean(null_df['Sales'])).collect()[0][0]).show()"
   ]
  },
  {
   "cell_type": "markdown",
   "metadata": {},
   "source": [
    "## Dates and Timestamps"
   ]
  },
  {
   "cell_type": "code",
   "execution_count": 151,
   "metadata": {},
   "outputs": [],
   "source": [
    "#We will use the Stock Price Data\n",
    "\n",
    "stck_prc_df = sprk_sess.read.csv(path='all_stocks_5yr.csv',header=True,inferSchema=True)"
   ]
  },
  {
   "cell_type": "code",
   "execution_count": 152,
   "metadata": {},
   "outputs": [
    {
     "name": "stdout",
     "output_type": "stream",
     "text": [
      "+-------------------+-----+-----+-----+-----+--------+----+\n",
      "|               date| open| high|  low|close|  volume|Name|\n",
      "+-------------------+-----+-----+-----+-----+--------+----+\n",
      "|2013-02-08 00:00:00|15.07|15.12|14.63|14.75| 8407500| AAL|\n",
      "|2013-02-11 00:00:00|14.89|15.01|14.26|14.46| 8882000| AAL|\n",
      "|2013-02-12 00:00:00|14.45|14.51| 14.1|14.27| 8126000| AAL|\n",
      "|2013-02-13 00:00:00| 14.3|14.94|14.25|14.66|10259500| AAL|\n",
      "|2013-02-14 00:00:00|14.94|14.96|13.16|13.99|31879900| AAL|\n",
      "+-------------------+-----+-----+-----+-----+--------+----+\n",
      "only showing top 5 rows\n",
      "\n"
     ]
    }
   ],
   "source": [
    "stck_prc_df.show(5)"
   ]
  },
  {
   "cell_type": "code",
   "execution_count": 153,
   "metadata": {},
   "outputs": [],
   "source": [
    "from pyspark.sql.functions import format_number,year,month,dayofmonth,dayofweek,dayofyear,date_format,hour,weekofyear"
   ]
  },
  {
   "cell_type": "code",
   "execution_count": 158,
   "metadata": {},
   "outputs": [
    {
     "name": "stdout",
     "output_type": "stream",
     "text": [
      "+----------+\n",
      "|year(date)|\n",
      "+----------+\n",
      "|      2013|\n",
      "|      2013|\n",
      "|      2013|\n",
      "|      2013|\n",
      "|      2013|\n",
      "+----------+\n",
      "only showing top 5 rows\n",
      "\n"
     ]
    }
   ],
   "source": [
    "stck_prc_df.select(year(stck_prc_df['date'])).show(5)"
   ]
  },
  {
   "cell_type": "code",
   "execution_count": 164,
   "metadata": {},
   "outputs": [
    {
     "name": "stdout",
     "output_type": "stream",
     "text": [
      "+-------------------+-----------+\n",
      "|               date|month(date)|\n",
      "+-------------------+-----------+\n",
      "|2013-02-08 00:00:00|          2|\n",
      "|2013-02-11 00:00:00|          2|\n",
      "|2013-02-12 00:00:00|          2|\n",
      "|2013-02-13 00:00:00|          2|\n",
      "|2013-02-14 00:00:00|          2|\n",
      "+-------------------+-----------+\n",
      "only showing top 5 rows\n",
      "\n"
     ]
    }
   ],
   "source": [
    "stck_prc_df.select(['date',month(stck_prc_df['date'])] ).show(5)"
   ]
  },
  {
   "cell_type": "code",
   "execution_count": 166,
   "metadata": {},
   "outputs": [
    {
     "name": "stdout",
     "output_type": "stream",
     "text": [
      "+----+----+------------------+\n",
      "|Name|year|        avg(close)|\n",
      "+----+----+------------------+\n",
      "|   A|2013| 47.10482300884956|\n",
      "|   A|2014| 54.11980158730156|\n",
      "|   A|2015| 39.60214285714285|\n",
      "|   A|2016| 43.36996031746027|\n",
      "|   A|2017|59.339641434262916|\n",
      "|   A|2018| 71.47115384615384|\n",
      "| AAL|2013|18.601548672566356|\n",
      "| AAL|2014| 38.92354999999998|\n",
      "| AAL|2015| 45.12160714285712|\n",
      "| AAL|2016| 38.18382936507936|\n",
      "| AAL|2017|47.490717131474106|\n",
      "| AAL|2018|             54.28|\n",
      "| AAP|2013|  86.5476991150442|\n",
      "| AAP|2014|           130.955|\n",
      "| AAP|2015|163.64726190476182|\n",
      "| AAP|2016| 155.4879365079365|\n",
      "| AAP|2017|122.57649402390435|\n",
      "| AAP|2018|114.78923076923073|\n",
      "|AAPL|2013| 67.23783938053097|\n",
      "|AAPL|2014|  92.2645305555556|\n",
      "+----+----+------------------+\n",
      "only showing top 20 rows\n",
      "\n"
     ]
    }
   ],
   "source": [
    "#Get Avearge of 'close' price per Ticker per year and Order by Ticker Name and Year\n",
    "stck_prc_df.groupBy(['Name',year(stck_prc_df['date']).alias('year')]).avg('close').orderBy(['Name','year']).show()"
   ]
  },
  {
   "cell_type": "code",
   "execution_count": 168,
   "metadata": {},
   "outputs": [
    {
     "name": "stdout",
     "output_type": "stream",
     "text": [
      "+----+----+------------------+\n",
      "|Name|year|        avg(close)|\n",
      "+----+----+------------------+\n",
      "|   A|2013| 47.10482300884956|\n",
      "|   A|2014| 54.11980158730156|\n",
      "|   A|2015| 39.60214285714285|\n",
      "|   A|2016| 43.36996031746027|\n",
      "|   A|2017|59.339641434262916|\n",
      "+----+----+------------------+\n",
      "only showing top 5 rows\n",
      "\n"
     ]
    }
   ],
   "source": [
    "#Get Avearge of 'close' price per Ticker per year and Order by Ticker Name and Year\n",
    "avg_df = stck_prc_df.groupBy(['Name',year(stck_prc_df['date']).alias('year')]).avg('close').orderBy(['Name','year'])\n",
    "avg_df.show(5)"
   ]
  },
  {
   "cell_type": "code",
   "execution_count": 170,
   "metadata": {},
   "outputs": [
    {
     "name": "stdout",
     "output_type": "stream",
     "text": [
      "+----+----+---------------+\n",
      "|Name|year|Avg_Closing_Prc|\n",
      "+----+----+---------------+\n",
      "|   A|2013|          47.10|\n",
      "|   A|2014|          54.12|\n",
      "|   A|2015|          39.60|\n",
      "|   A|2016|          43.37|\n",
      "|   A|2017|          59.34|\n",
      "+----+----+---------------+\n",
      "only showing top 5 rows\n",
      "\n"
     ]
    }
   ],
   "source": [
    "avg_df.select(['Name',\n",
    "               'year',\n",
    "               format_number('avg(close)',2).alias('Avg_Closing_Prc')\n",
    "              ]).show(5)"
   ]
  },
  {
   "cell_type": "code",
   "execution_count": null,
   "metadata": {},
   "outputs": [],
   "source": []
  }
 ],
 "metadata": {
  "kernelspec": {
   "display_name": "Python 3",
   "language": "python",
   "name": "python3"
  },
  "language_info": {
   "codemirror_mode": {
    "name": "ipython",
    "version": 3
   },
   "file_extension": ".py",
   "mimetype": "text/x-python",
   "name": "python",
   "nbconvert_exporter": "python",
   "pygments_lexer": "ipython3",
   "version": "3.7.6"
  }
 },
 "nbformat": 4,
 "nbformat_minor": 4
}
