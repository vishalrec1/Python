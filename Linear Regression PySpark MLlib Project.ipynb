{
 "cells": [
  {
   "cell_type": "markdown",
   "metadata": {},
   "source": [
    "Problem Statement\n",
    "---------------------------\n",
    "You've been contracted by Hyundai Heavy Industries to help them build a predictive model for some ships to give accurate estimates of how many crew members a ship will require.\n",
    "\n",
    "[Hyundai Heavy Industries](http://www.hyundai.eu/en) is one of the world's largest ship manufacturing companies and builds cruise liners.\n",
    "\n",
    "They are currently building new ships for some customers and want you to create a model and use it to predict how many crew members the ships will need.\n",
    "\n",
    "Here is what the data looks like so far:\n",
    "\n",
    "    Description: Measurements of ship size, capacity, crew, and age for 158 cruise\n",
    "    ships.\n",
    "\n",
    "\n",
    "    Variables/Columns\n",
    "    Ship Name     1-20\n",
    "    Cruise Line   21-40\n",
    "    Age (as of 2013)   46-48\n",
    "    Tonnage (1000s of tons)   50-56\n",
    "    passengers (100s)   58-64\n",
    "    Length (100s of feet)  66-72\n",
    "    Cabins  (100s)   74-80\n",
    "    Passenger Density   82-88\n",
    "    Crew  (100s)   90-96\n",
    "    \n",
    "It is saved in a csv file for you called \"cruise_ship_info.csv\". Your job is to create a regression model that will help predict how many crew members will be needed for future ships. The client also mentioned that they have found that particular cruise lines will differ in acceptable crew counts, so it is most likely an important feature to include in your analysis! \n",
    "\n",
    "Once you've created the model and tested it for a quick check on how well you can expect it to perform, make sure you take a look at why it performs so well!"
   ]
  },
  {
   "cell_type": "markdown",
   "metadata": {},
   "source": [
    "### Create Spark Session"
   ]
  },
  {
   "cell_type": "code",
   "execution_count": 1,
   "metadata": {},
   "outputs": [],
   "source": [
    "from pyspark.sql import SparkSession"
   ]
  },
  {
   "cell_type": "code",
   "execution_count": 2,
   "metadata": {},
   "outputs": [],
   "source": [
    "sessn = SparkSession.builder.appName('PySparkProj').getOrCreate()"
   ]
  },
  {
   "cell_type": "code",
   "execution_count": 3,
   "metadata": {},
   "outputs": [
    {
     "data": {
      "text/html": [
       "\n",
       "            <div>\n",
       "                <p><b>SparkSession - in-memory</b></p>\n",
       "                \n",
       "        <div>\n",
       "            <p><b>SparkContext</b></p>\n",
       "\n",
       "            <p><a href=\"http://192.168.0.16:4046\">Spark UI</a></p>\n",
       "\n",
       "            <dl>\n",
       "              <dt>Version</dt>\n",
       "                <dd><code>v2.4.5</code></dd>\n",
       "              <dt>Master</dt>\n",
       "                <dd><code>local[*]</code></dd>\n",
       "              <dt>AppName</dt>\n",
       "                <dd><code>PySparkProj</code></dd>\n",
       "            </dl>\n",
       "        </div>\n",
       "        \n",
       "            </div>\n",
       "        "
      ],
      "text/plain": [
       "<pyspark.sql.session.SparkSession at 0x28e986cbb48>"
      ]
     },
     "execution_count": 3,
     "metadata": {},
     "output_type": "execute_result"
    }
   ],
   "source": [
    "sessn"
   ]
  },
  {
   "cell_type": "markdown",
   "metadata": {},
   "source": [
    "### Read csv File and display information about Dataset"
   ]
  },
  {
   "cell_type": "code",
   "execution_count": 4,
   "metadata": {},
   "outputs": [],
   "source": [
    "data = sessn.read.csv(path='cruise_ship_info.csv',header=True,inferSchema=True)"
   ]
  },
  {
   "cell_type": "code",
   "execution_count": 6,
   "metadata": {},
   "outputs": [
    {
     "data": {
      "text/plain": [
       "158"
      ]
     },
     "execution_count": 6,
     "metadata": {},
     "output_type": "execute_result"
    }
   ],
   "source": [
    "data.count()"
   ]
  },
  {
   "cell_type": "code",
   "execution_count": 7,
   "metadata": {},
   "outputs": [
    {
     "data": {
      "text/plain": [
       "['Ship_name',\n",
       " 'Cruise_line',\n",
       " 'Age',\n",
       " 'Tonnage',\n",
       " 'passengers',\n",
       " 'length',\n",
       " 'cabins',\n",
       " 'passenger_density',\n",
       " 'crew']"
      ]
     },
     "execution_count": 7,
     "metadata": {},
     "output_type": "execute_result"
    }
   ],
   "source": [
    "data.columns"
   ]
  },
  {
   "cell_type": "code",
   "execution_count": 8,
   "metadata": {},
   "outputs": [
    {
     "name": "stdout",
     "output_type": "stream",
     "text": [
      "root\n",
      " |-- Ship_name: string (nullable = true)\n",
      " |-- Cruise_line: string (nullable = true)\n",
      " |-- Age: integer (nullable = true)\n",
      " |-- Tonnage: double (nullable = true)\n",
      " |-- passengers: double (nullable = true)\n",
      " |-- length: double (nullable = true)\n",
      " |-- cabins: double (nullable = true)\n",
      " |-- passenger_density: double (nullable = true)\n",
      " |-- crew: double (nullable = true)\n",
      "\n"
     ]
    }
   ],
   "source": [
    "data.printSchema()"
   ]
  },
  {
   "cell_type": "code",
   "execution_count": 9,
   "metadata": {},
   "outputs": [
    {
     "name": "stdout",
     "output_type": "stream",
     "text": [
      "+-------+---------+-----------+------------------+------------------+-----------------+-----------------+------------------+-----------------+-----------------+\n",
      "|summary|Ship_name|Cruise_line|               Age|           Tonnage|       passengers|           length|            cabins|passenger_density|             crew|\n",
      "+-------+---------+-----------+------------------+------------------+-----------------+-----------------+------------------+-----------------+-----------------+\n",
      "|  count|      158|        158|               158|               158|              158|              158|               158|              158|              158|\n",
      "|   mean| Infinity|       null|15.689873417721518| 71.28467088607599|18.45740506329114|8.130632911392404| 8.830000000000005|39.90094936708861|7.794177215189873|\n",
      "| stddev|      NaN|       null| 7.615691058751413|37.229540025907866|9.677094775143416|1.793473548054825|4.4714172221480615| 8.63921711391542|3.503486564627034|\n",
      "|    min|Adventure|    Azamara|                 4|             2.329|             0.66|             2.79|              0.33|             17.7|             0.59|\n",
      "|    max|Zuiderdam|   Windstar|                48|             220.0|             54.0|            11.82|              27.0|            71.43|             21.0|\n",
      "+-------+---------+-----------+------------------+------------------+-----------------+-----------------+------------------+-----------------+-----------------+\n",
      "\n"
     ]
    }
   ],
   "source": [
    "data.describe().show()"
   ]
  },
  {
   "cell_type": "code",
   "execution_count": 78,
   "metadata": {},
   "outputs": [
    {
     "name": "stdout",
     "output_type": "stream",
     "text": [
      "+-----------------+-----+\n",
      "|      Cruise_line|count|\n",
      "+-----------------+-----+\n",
      "|            Costa|   11|\n",
      "|              P&O|    6|\n",
      "|           Cunard|    3|\n",
      "|Regent_Seven_Seas|    5|\n",
      "|              MSC|    8|\n",
      "|         Carnival|   22|\n",
      "|          Crystal|    2|\n",
      "|           Orient|    1|\n",
      "|         Princess|   17|\n",
      "|        Silversea|    4|\n",
      "|         Seabourn|    3|\n",
      "| Holland_American|   14|\n",
      "|         Windstar|    3|\n",
      "|           Disney|    2|\n",
      "|        Norwegian|   13|\n",
      "|          Oceania|    3|\n",
      "|          Azamara|    2|\n",
      "|        Celebrity|   10|\n",
      "|             Star|    6|\n",
      "|  Royal_Caribbean|   23|\n",
      "+-----------------+-----+\n",
      "\n"
     ]
    }
   ],
   "source": [
    "data.groupBy('Cruise_line').count().show()"
   ]
  },
  {
   "cell_type": "markdown",
   "metadata": {},
   "source": [
    "#### CONVERTING THE STRING COLUMN 'Cruise_line' TO STRING INDEXER"
   ]
  },
  {
   "cell_type": "code",
   "execution_count": 18,
   "metadata": {},
   "outputs": [],
   "source": [
    "from pyspark.ml.feature import StringIndexer"
   ]
  },
  {
   "cell_type": "code",
   "execution_count": 23,
   "metadata": {},
   "outputs": [],
   "source": [
    "indexer = StringIndexer(inputCol='Cruise_line',outputCol='Cruise_line_index')"
   ]
  },
  {
   "cell_type": "code",
   "execution_count": 27,
   "metadata": {},
   "outputs": [],
   "source": [
    "indexed_data = indexer.fit(data).transform(data)"
   ]
  },
  {
   "cell_type": "code",
   "execution_count": 33,
   "metadata": {
    "scrolled": true
   },
   "outputs": [
    {
     "name": "stdout",
     "output_type": "stream",
     "text": [
      "+-------------+-----------+---+------------------+----------+------+------+-----------------+-----+-----------------+\n",
      "|    Ship_name|Cruise_line|Age|           Tonnage|passengers|length|cabins|passenger_density| crew|Cruise_line_index|\n",
      "+-------------+-----------+---+------------------+----------+------+------+-----------------+-----+-----------------+\n",
      "|      Journey|    Azamara|  6|30.276999999999997|      6.94|  5.94|  3.55|            42.64| 3.55|             16.0|\n",
      "|        Quest|    Azamara|  6|30.276999999999997|      6.94|  5.94|  3.55|            42.64| 3.55|             16.0|\n",
      "|  Celebration|   Carnival| 26|            47.262|     14.86|  7.22|  7.43|             31.8|  6.7|              1.0|\n",
      "|     Conquest|   Carnival| 11|             110.0|     29.74|  9.53| 14.88|            36.99| 19.1|              1.0|\n",
      "|      Destiny|   Carnival| 17|           101.353|     26.42|  8.92| 13.21|            38.36| 10.0|              1.0|\n",
      "|      Ecstasy|   Carnival| 22|            70.367|     20.52|  8.55|  10.2|            34.29|  9.2|              1.0|\n",
      "|      Elation|   Carnival| 15|            70.367|     20.52|  8.55|  10.2|            34.29|  9.2|              1.0|\n",
      "|      Fantasy|   Carnival| 23|            70.367|     20.56|  8.55| 10.22|            34.23|  9.2|              1.0|\n",
      "|  Fascination|   Carnival| 19|            70.367|     20.52|  8.55|  10.2|            34.29|  9.2|              1.0|\n",
      "|      Freedom|   Carnival|  6|110.23899999999999|      37.0|  9.51| 14.87|            29.79| 11.5|              1.0|\n",
      "|        Glory|   Carnival| 10|             110.0|     29.74|  9.51| 14.87|            36.99| 11.6|              1.0|\n",
      "|      Holiday|   Carnival| 28|            46.052|     14.52|  7.27|  7.26|            31.72|  6.6|              1.0|\n",
      "|  Imagination|   Carnival| 18|            70.367|     20.52|  8.55|  10.2|            34.29|  9.2|              1.0|\n",
      "|  Inspiration|   Carnival| 17|            70.367|     20.52|  8.55|  10.2|            34.29|  9.2|              1.0|\n",
      "|       Legend|   Carnival| 11|              86.0|     21.24|  9.63| 10.62|            40.49|  9.3|              1.0|\n",
      "|     Liberty*|   Carnival|  8|             110.0|     29.74|  9.51| 14.87|            36.99| 11.6|              1.0|\n",
      "|      Miracle|   Carnival|  9|              88.5|     21.24|  9.63| 10.62|            41.67| 10.3|              1.0|\n",
      "|     Paradise|   Carnival| 15|            70.367|     20.52|  8.55|  10.2|            34.29|  9.2|              1.0|\n",
      "|        Pride|   Carnival| 12|              88.5|     21.24|  9.63| 11.62|            41.67|  9.3|              1.0|\n",
      "|    Sensation|   Carnival| 20|            70.367|     20.52|  8.55|  10.2|            34.29|  9.2|              1.0|\n",
      "|       Spirit|   Carnival| 12|              88.5|     21.24|  9.63| 10.56|            41.67|10.29|              1.0|\n",
      "|      Triumph|   Carnival| 14|           101.509|     27.58|  8.93| 13.21|            36.81| 10.0|              1.0|\n",
      "|        Valor|   Carnival|  9|             110.0|     29.74|  9.52| 14.87|            36.99| 11.6|              1.0|\n",
      "|      Victory|   Carnival| 13|           101.509|     27.58|  8.93| 13.79|            36.81| 11.5|              1.0|\n",
      "|      Century|  Celebrity| 18| 70.60600000000001|      17.7|  8.15|  8.75|            39.89| 8.58|              6.0|\n",
      "|Constellation|  Celebrity| 11|              91.0|     20.32|  9.65|  9.75|            44.78| 9.99|              6.0|\n",
      "|       Galaxy|  Celebrity| 17| 77.71300000000001|      18.9|  8.66|  9.35|            41.12| 9.09|              6.0|\n",
      "|     Infinity|  Celebrity| 12|              91.0|     20.32|  9.65|  9.75|            44.78| 9.99|              6.0|\n",
      "|      Mercury|  Celebrity| 16| 77.71300000000001|     18.82|  8.66|  9.35|            41.29| 9.09|              6.0|\n",
      "|    Millenium|  Celebrity| 13|              91.0|     20.32|  9.65|  9.75|            44.78| 9.99|              6.0|\n",
      "|     Solstice|  Celebrity|  5|             122.0|      28.5| 10.33|  6.87|            34.57|  6.7|              6.0|\n",
      "|       Summit|  Celebrity| 12|              91.0|     20.32|  9.65|  9.75|            44.78| 9.99|              6.0|\n",
      "|    Xpedition|  Celebrity| 12|             2.329|      0.94|  2.96|  0.45|            24.78|  0.6|              6.0|\n",
      "|       Zenith|  Celebrity| 21|            47.225|     13.66|  6.82|  6.87|            34.57|  6.7|              6.0|\n",
      "|      Allegra|      Costa| 21|             28.43|      8.08|  6.16|   4.1|            35.19|  4.0|              5.0|\n",
      "|    Atlantica|      Costa| 13|            85.619|     21.14|  9.57| 10.56|             40.5|  9.2|              5.0|\n",
      "|     Classica|      Costa| 22|            52.926|     13.02|  7.18|  6.54|            40.65| 6.17|              5.0|\n",
      "|       Europa|      Costa| 27|            53.872|     14.94|  7.98|  7.67|            36.06| 6.36|              5.0|\n",
      "|      Fortuna|      Costa| 10|             105.0|      27.2|   8.9| 13.56|             38.6|10.68|              5.0|\n",
      "|       Magica|      Costa|  9|             105.0|      27.2|   8.9| 13.56|             38.6|10.68|              5.0|\n",
      "+-------------+-----------+---+------------------+----------+------+------+-----------------+-----+-----------------+\n",
      "only showing top 40 rows\n",
      "\n"
     ]
    }
   ],
   "source": [
    "indexed_data.show(40)"
   ]
  },
  {
   "cell_type": "markdown",
   "metadata": {},
   "source": [
    "### CONVERT csv TO MlLib FORMAT"
   ]
  },
  {
   "cell_type": "code",
   "execution_count": 38,
   "metadata": {},
   "outputs": [],
   "source": [
    "from pyspark.ml.feature import VectorAssembler\n",
    "from pyspark.ml.linalg import Vector"
   ]
  },
  {
   "cell_type": "code",
   "execution_count": 39,
   "metadata": {},
   "outputs": [
    {
     "data": {
      "text/plain": [
       "['Ship_name',\n",
       " 'Cruise_line',\n",
       " 'Age',\n",
       " 'Tonnage',\n",
       " 'passengers',\n",
       " 'length',\n",
       " 'cabins',\n",
       " 'passenger_density',\n",
       " 'crew',\n",
       " 'Cruise_line_index']"
      ]
     },
     "execution_count": 39,
     "metadata": {},
     "output_type": "execute_result"
    }
   ],
   "source": [
    "indexed_data.columns"
   ]
  },
  {
   "cell_type": "code",
   "execution_count": 40,
   "metadata": {},
   "outputs": [],
   "source": [
    "assembler = VectorAssembler(inputCols=['Cruise_line_index','Age','Tonnage','passengers','length','cabins','passenger_density'],\n",
    "                            outputCol='features')"
   ]
  },
  {
   "cell_type": "code",
   "execution_count": 41,
   "metadata": {},
   "outputs": [],
   "source": [
    "mllib_data = assembler.transform(indexed_data)"
   ]
  },
  {
   "cell_type": "code",
   "execution_count": 42,
   "metadata": {},
   "outputs": [
    {
     "name": "stdout",
     "output_type": "stream",
     "text": [
      "root\n",
      " |-- Ship_name: string (nullable = true)\n",
      " |-- Cruise_line: string (nullable = true)\n",
      " |-- Age: integer (nullable = true)\n",
      " |-- Tonnage: double (nullable = true)\n",
      " |-- passengers: double (nullable = true)\n",
      " |-- length: double (nullable = true)\n",
      " |-- cabins: double (nullable = true)\n",
      " |-- passenger_density: double (nullable = true)\n",
      " |-- crew: double (nullable = true)\n",
      " |-- Cruise_line_index: double (nullable = false)\n",
      " |-- features: vector (nullable = true)\n",
      "\n"
     ]
    }
   ],
   "source": [
    "mllib_data.printSchema()"
   ]
  },
  {
   "cell_type": "code",
   "execution_count": 43,
   "metadata": {},
   "outputs": [],
   "source": [
    "final_mllib_data = mllib_data.select('features','crew')"
   ]
  },
  {
   "cell_type": "code",
   "execution_count": 45,
   "metadata": {},
   "outputs": [
    {
     "name": "stdout",
     "output_type": "stream",
     "text": [
      "+--------------------+----+\n",
      "|            features|crew|\n",
      "+--------------------+----+\n",
      "|[16.0,6.0,30.2769...|3.55|\n",
      "|[16.0,6.0,30.2769...|3.55|\n",
      "|[1.0,26.0,47.262,...| 6.7|\n",
      "|[1.0,11.0,110.0,2...|19.1|\n",
      "|[1.0,17.0,101.353...|10.0|\n",
      "+--------------------+----+\n",
      "only showing top 5 rows\n",
      "\n"
     ]
    }
   ],
   "source": [
    "final_mllib_data.show(5)"
   ]
  },
  {
   "cell_type": "code",
   "execution_count": 46,
   "metadata": {},
   "outputs": [
    {
     "data": {
      "text/plain": [
       "[Row(features=DenseVector([16.0, 6.0, 30.277, 6.94, 5.94, 3.55, 42.64]), crew=3.55)]"
      ]
     },
     "execution_count": 46,
     "metadata": {},
     "output_type": "execute_result"
    }
   ],
   "source": [
    "final_mllib_data.head(1)"
   ]
  },
  {
   "cell_type": "markdown",
   "metadata": {},
   "source": [
    "### Train Test Split"
   ]
  },
  {
   "cell_type": "code",
   "execution_count": 50,
   "metadata": {},
   "outputs": [],
   "source": [
    "train_data,test_data = final_mllib_data.randomSplit([0.7,0.3])"
   ]
  },
  {
   "cell_type": "code",
   "execution_count": 51,
   "metadata": {},
   "outputs": [
    {
     "data": {
      "text/plain": [
       "111"
      ]
     },
     "execution_count": 51,
     "metadata": {},
     "output_type": "execute_result"
    }
   ],
   "source": [
    "train_data.count()"
   ]
  },
  {
   "cell_type": "code",
   "execution_count": 52,
   "metadata": {},
   "outputs": [
    {
     "data": {
      "text/plain": [
       "47"
      ]
     },
     "execution_count": 52,
     "metadata": {},
     "output_type": "execute_result"
    }
   ],
   "source": [
    "test_data.count()"
   ]
  },
  {
   "cell_type": "code",
   "execution_count": 53,
   "metadata": {},
   "outputs": [
    {
     "data": {
      "text/plain": [
       "158"
      ]
     },
     "execution_count": 53,
     "metadata": {},
     "output_type": "execute_result"
    }
   ],
   "source": [
    "final_mllib_data.count()"
   ]
  },
  {
   "cell_type": "code",
   "execution_count": 54,
   "metadata": {},
   "outputs": [
    {
     "name": "stdout",
     "output_type": "stream",
     "text": [
      "+-------+------------------+\n",
      "|summary|              crew|\n",
      "+-------+------------------+\n",
      "|  count|               111|\n",
      "|   mean|  7.78513513513514|\n",
      "| stddev|3.5879223830828657|\n",
      "|    min|              0.59|\n",
      "|    max|              21.0|\n",
      "+-------+------------------+\n",
      "\n"
     ]
    }
   ],
   "source": [
    "train_data.describe().show()"
   ]
  },
  {
   "cell_type": "code",
   "execution_count": 55,
   "metadata": {},
   "outputs": [
    {
     "name": "stdout",
     "output_type": "stream",
     "text": [
      "+-------+-----------------+\n",
      "|summary|             crew|\n",
      "+-------+-----------------+\n",
      "|  count|               47|\n",
      "|   mean|7.815531914893618|\n",
      "| stddev|3.332979349073528|\n",
      "|    min|             0.88|\n",
      "|    max|             13.6|\n",
      "+-------+-----------------+\n",
      "\n"
     ]
    }
   ],
   "source": [
    "test_data.describe().show()"
   ]
  },
  {
   "cell_type": "code",
   "execution_count": 56,
   "metadata": {},
   "outputs": [
    {
     "name": "stdout",
     "output_type": "stream",
     "text": [
      "+-------+-----------------+\n",
      "|summary|             crew|\n",
      "+-------+-----------------+\n",
      "|  count|              158|\n",
      "|   mean|7.794177215189873|\n",
      "| stddev|3.503486564627034|\n",
      "|    min|             0.59|\n",
      "|    max|             21.0|\n",
      "+-------+-----------------+\n",
      "\n"
     ]
    }
   ],
   "source": [
    "final_mllib_data.describe().show()"
   ]
  },
  {
   "cell_type": "markdown",
   "metadata": {},
   "source": [
    "### Build Linear Regression Model"
   ]
  },
  {
   "cell_type": "code",
   "execution_count": 103,
   "metadata": {},
   "outputs": [],
   "source": [
    "from pyspark.ml.regression import LinearRegression"
   ]
  },
  {
   "cell_type": "code",
   "execution_count": 57,
   "metadata": {},
   "outputs": [],
   "source": [
    "lr_ob = LinearRegression(featuresCol='features',labelCol='crew')"
   ]
  },
  {
   "cell_type": "code",
   "execution_count": 58,
   "metadata": {},
   "outputs": [],
   "source": [
    "lrm = lr_ob.fit(train_data)"
   ]
  },
  {
   "cell_type": "code",
   "execution_count": 62,
   "metadata": {},
   "outputs": [],
   "source": [
    "summ = lrm.summary"
   ]
  },
  {
   "cell_type": "code",
   "execution_count": 63,
   "metadata": {},
   "outputs": [
    {
     "data": {
      "text/plain": [
       "0.6114927837760632"
      ]
     },
     "execution_count": 63,
     "metadata": {},
     "output_type": "execute_result"
    }
   ],
   "source": [
    "summ.meanAbsoluteError"
   ]
  },
  {
   "cell_type": "code",
   "execution_count": 64,
   "metadata": {},
   "outputs": [
    {
     "data": {
      "text/plain": [
       "1.0492984706281012"
      ]
     },
     "execution_count": 64,
     "metadata": {},
     "output_type": "execute_result"
    }
   ],
   "source": [
    "summ.meanSquaredError"
   ]
  },
  {
   "cell_type": "code",
   "execution_count": 65,
   "metadata": {},
   "outputs": [
    {
     "data": {
      "text/plain": [
       "0.9177486083740723"
      ]
     },
     "execution_count": 65,
     "metadata": {},
     "output_type": "execute_result"
    }
   ],
   "source": [
    "summ.r2"
   ]
  },
  {
   "cell_type": "code",
   "execution_count": 66,
   "metadata": {},
   "outputs": [
    {
     "data": {
      "text/plain": [
       "1.0243527081177173"
      ]
     },
     "execution_count": 66,
     "metadata": {},
     "output_type": "execute_result"
    }
   ],
   "source": [
    "summ.rootMeanSquaredError"
   ]
  },
  {
   "cell_type": "markdown",
   "metadata": {},
   "source": [
    "### Evaluate the Linear Regression Model"
   ]
  },
  {
   "cell_type": "code",
   "execution_count": 67,
   "metadata": {},
   "outputs": [],
   "source": [
    "pred = lrm.evaluate(test_data)"
   ]
  },
  {
   "cell_type": "code",
   "execution_count": 68,
   "metadata": {},
   "outputs": [
    {
     "data": {
      "text/plain": [
       "0.6282592291613499"
      ]
     },
     "execution_count": 68,
     "metadata": {},
     "output_type": "execute_result"
    }
   ],
   "source": [
    "pred.meanAbsoluteError"
   ]
  },
  {
   "cell_type": "code",
   "execution_count": 69,
   "metadata": {},
   "outputs": [
    {
     "data": {
      "text/plain": [
       "0.5576229709091496"
      ]
     },
     "execution_count": 69,
     "metadata": {},
     "output_type": "execute_result"
    }
   ],
   "source": [
    "pred.meanSquaredError"
   ]
  },
  {
   "cell_type": "code",
   "execution_count": 104,
   "metadata": {},
   "outputs": [
    {
     "data": {
      "text/plain": [
       "'prediction'"
      ]
     },
     "execution_count": 104,
     "metadata": {},
     "output_type": "execute_result"
    }
   ],
   "source": [
    "pred.predictionCol"
   ]
  },
  {
   "cell_type": "code",
   "execution_count": 105,
   "metadata": {},
   "outputs": [
    {
     "data": {
      "text/plain": [
       "0.746741569024485"
      ]
     },
     "execution_count": 105,
     "metadata": {},
     "output_type": "execute_result"
    }
   ],
   "source": [
    "pred.rootMeanSquaredError"
   ]
  },
  {
   "cell_type": "code",
   "execution_count": 106,
   "metadata": {},
   "outputs": [
    {
     "data": {
      "text/plain": [
       "0.9487120386531305"
      ]
     },
     "execution_count": 106,
     "metadata": {},
     "output_type": "execute_result"
    }
   ],
   "source": [
    "pred.r2"
   ]
  },
  {
   "cell_type": "code",
   "execution_count": 109,
   "metadata": {},
   "outputs": [
    {
     "name": "stdout",
     "output_type": "stream",
     "text": [
      "+-------+-----------------+\n",
      "|summary|             crew|\n",
      "+-------+-----------------+\n",
      "|  count|               47|\n",
      "|   mean|7.815531914893618|\n",
      "| stddev|3.332979349073528|\n",
      "|    min|             0.88|\n",
      "|    max|             13.6|\n",
      "+-------+-----------------+\n",
      "\n"
     ]
    }
   ],
   "source": [
    "test_data.describe().show()"
   ]
  },
  {
   "cell_type": "markdown",
   "metadata": {},
   "source": [
    "#### The performance of the Model is quite good as visible from the RMSE and comparing it with the stats of the test data"
   ]
  },
  {
   "cell_type": "code",
   "execution_count": 73,
   "metadata": {},
   "outputs": [
    {
     "name": "stdout",
     "output_type": "stream",
     "text": [
      "+--------------------+-----+------------------+\n",
      "|            features| crew|        prediction|\n",
      "+--------------------+-----+------------------+\n",
      "|[0.0,5.0,160.0,36...| 13.6|15.227733564109487|\n",
      "|[0.0,9.0,90.09,25...| 8.69|  9.20929623207827|\n",
      "|[0.0,10.0,138.0,3...|11.85|13.105090685569316|\n",
      "|[0.0,11.0,90.09,2...| 8.48| 8.784672554742864|\n",
      "|[0.0,12.0,90.09,2...| 8.68|  8.77451794165236|\n",
      "|[0.0,13.0,138.0,3...|11.76|13.074626846297809|\n",
      "|[0.0,21.0,73.941,...| 8.22| 9.017217356340105|\n",
      "|[0.0,25.0,73.192,...| 8.08| 8.456099648686092|\n",
      "|[1.0,9.0,88.5,21....| 10.3| 9.562599190631436|\n",
      "|[1.0,10.0,110.0,2...| 11.6|12.252921268638797|\n",
      "|[1.0,12.0,88.5,21...|10.29| 9.477001562566148|\n",
      "|[1.0,15.0,70.367,...|  9.2| 8.702511705300093|\n",
      "|[1.0,17.0,101.353...| 10.0| 10.90852113235615|\n",
      "|[1.0,18.0,70.367,...|  9.2| 8.672047866028587|\n",
      "|[1.0,22.0,70.367,...|  9.2| 8.631429413666577|\n",
      "|[2.0,6.0,113.0,37...| 12.0|11.722506759922124|\n",
      "|[2.0,7.0,116.0,31...| 12.0|12.836537263334375|\n",
      "|[2.0,9.0,113.0,26...|12.38|11.448967848749826|\n",
      "|[2.0,18.0,77.499,...|  9.0| 8.543944467532384|\n",
      "|[3.0,13.0,63.0,14...| 5.31| 6.719876597985866|\n",
      "+--------------------+-----+------------------+\n",
      "only showing top 20 rows\n",
      "\n"
     ]
    }
   ],
   "source": [
    "pred.predictions.show()"
   ]
  },
  {
   "cell_type": "code",
   "execution_count": 75,
   "metadata": {},
   "outputs": [
    {
     "name": "stdout",
     "output_type": "stream",
     "text": [
      "+--------------------+\n",
      "|           residuals|\n",
      "+--------------------+\n",
      "| -1.6277335641094872|\n",
      "| -0.5192962320782701|\n",
      "|  -1.255090685569316|\n",
      "|-0.30467255474286326|\n",
      "|-0.09451794165236116|\n",
      "| -1.3146268462978092|\n",
      "| -0.7972173563401039|\n",
      "|-0.37609964868609147|\n",
      "|  0.7374008093685642|\n",
      "| -0.6529212686387975|\n",
      "|  0.8129984374338513|\n",
      "| 0.49748829469990596|\n",
      "| -0.9085211323561495|\n",
      "|  0.5279521339714126|\n",
      "|  0.5685705863334221|\n",
      "| 0.27749324007787557|\n",
      "| -0.8365372633343746|\n",
      "|  0.9310321512501751|\n",
      "|  0.4560555324676159|\n",
      "| -1.4098765979858667|\n",
      "+--------------------+\n",
      "only showing top 20 rows\n",
      "\n"
     ]
    }
   ],
   "source": [
    "pred.residuals.show()"
   ]
  },
  {
   "cell_type": "markdown",
   "metadata": {},
   "source": [
    "### FIND CORRELATION BETWEEN FEATURES"
   ]
  },
  {
   "cell_type": "code",
   "execution_count": 110,
   "metadata": {},
   "outputs": [],
   "source": [
    "from pyspark.sql.functions import corr"
   ]
  },
  {
   "cell_type": "code",
   "execution_count": 111,
   "metadata": {},
   "outputs": [
    {
     "name": "stdout",
     "output_type": "stream",
     "text": [
      "+-----------------------------+\n",
      "|corr(crew, passenger_density)|\n",
      "+-----------------------------+\n",
      "|         -0.15550928421699717|\n",
      "+-----------------------------+\n",
      "\n"
     ]
    }
   ],
   "source": [
    "data.select(corr('crew','passenger_density')).show()"
   ]
  },
  {
   "cell_type": "code",
   "execution_count": 112,
   "metadata": {},
   "outputs": [
    {
     "name": "stdout",
     "output_type": "stream",
     "text": [
      "+----------------------+\n",
      "|corr(crew, passengers)|\n",
      "+----------------------+\n",
      "|    0.9152341306065384|\n",
      "+----------------------+\n",
      "\n"
     ]
    }
   ],
   "source": [
    "data.select(corr('crew','passengers')).show()"
   ]
  },
  {
   "cell_type": "code",
   "execution_count": 113,
   "metadata": {},
   "outputs": [
    {
     "name": "stdout",
     "output_type": "stream",
     "text": [
      "+------------------+\n",
      "|corr(crew, cabins)|\n",
      "+------------------+\n",
      "|0.9508226063578497|\n",
      "+------------------+\n",
      "\n"
     ]
    }
   ],
   "source": [
    "data.select(corr('crew','cabins')).show()"
   ]
  },
  {
   "cell_type": "code",
   "execution_count": 86,
   "metadata": {},
   "outputs": [
    {
     "data": {
      "text/plain": [
       "[Row(Ship_name='Journey', Cruise_line='Azamara', Age=6, Tonnage=30.276999999999997, passengers=6.94, length=5.94, cabins=3.55, passenger_density=42.64, crew=3.55)]"
      ]
     },
     "execution_count": 86,
     "metadata": {},
     "output_type": "execute_result"
    }
   ],
   "source": [
    "#"
   ]
  },
  {
   "cell_type": "code",
   "execution_count": null,
   "metadata": {},
   "outputs": [],
   "source": []
  }
 ],
 "metadata": {
  "kernelspec": {
   "display_name": "Python 3",
   "language": "python",
   "name": "python3"
  },
  "language_info": {
   "codemirror_mode": {
    "name": "ipython",
    "version": 3
   },
   "file_extension": ".py",
   "mimetype": "text/x-python",
   "name": "python",
   "nbconvert_exporter": "python",
   "pygments_lexer": "ipython3",
   "version": "3.7.6"
  }
 },
 "nbformat": 4,
 "nbformat_minor": 4
}
