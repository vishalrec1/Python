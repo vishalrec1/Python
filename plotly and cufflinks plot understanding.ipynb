{
 "cells": [
  {
   "cell_type": "code",
   "execution_count": 21,
   "metadata": {},
   "outputs": [],
   "source": [
    "import pandas as pd\n",
    "import numpy as np\n",
    "import matplotlib.pyplot as plt\n",
    "\n",
    "%matplotlib inline"
   ]
  },
  {
   "cell_type": "code",
   "execution_count": 6,
   "metadata": {},
   "outputs": [],
   "source": [
    "import plotly"
   ]
  },
  {
   "cell_type": "code",
   "execution_count": 12,
   "metadata": {},
   "outputs": [
    {
     "name": "stdout",
     "output_type": "stream",
     "text": [
      "4.6.0\n"
     ]
    }
   ],
   "source": [
    "print(__version__)"
   ]
  },
  {
   "cell_type": "code",
   "execution_count": 13,
   "metadata": {},
   "outputs": [
    {
     "data": {
      "text/plain": [
       "['__builtins__',\n",
       " '__cached__',\n",
       " '__doc__',\n",
       " '__file__',\n",
       " '__loader__',\n",
       " '__name__',\n",
       " '__package__',\n",
       " '__path__',\n",
       " '__spec__',\n",
       " '__version__',\n",
       " '_docstring_gen',\n",
       " '_version',\n",
       " '_widget_version',\n",
       " 'absolute_import',\n",
       " 'animation',\n",
       " 'basedatatypes',\n",
       " 'basewidget',\n",
       " 'callbacks',\n",
       " 'colors',\n",
       " 'data',\n",
       " 'exceptions',\n",
       " 'files',\n",
       " 'graph_objs',\n",
       " 'io',\n",
       " 'offline',\n",
       " 'optional_imports',\n",
       " 'serializers',\n",
       " 'subplots',\n",
       " 'tools',\n",
       " 'utils',\n",
       " 'validators',\n",
       " 'version']"
      ]
     },
     "execution_count": 13,
     "metadata": {},
     "output_type": "execute_result"
    }
   ],
   "source": [
    "dir(plotly)"
   ]
  },
  {
   "cell_type": "code",
   "execution_count": 8,
   "metadata": {},
   "outputs": [
    {
     "data": {
      "text/plain": [
       "['__builtins__',\n",
       " '__cached__',\n",
       " '__doc__',\n",
       " '__file__',\n",
       " '__loader__',\n",
       " '__name__',\n",
       " '__package__',\n",
       " '__path__',\n",
       " '__spec__',\n",
       " '_plotlyjs_version',\n",
       " 'download_plotlyjs',\n",
       " 'enable_mpl_offline',\n",
       " 'get_plotlyjs',\n",
       " 'get_plotlyjs_version',\n",
       " 'init_notebook_mode',\n",
       " 'iplot',\n",
       " 'iplot_mpl',\n",
       " 'offline',\n",
       " 'plot',\n",
       " 'plot_mpl']"
      ]
     },
     "execution_count": 8,
     "metadata": {},
     "output_type": "execute_result"
    }
   ],
   "source": [
    "dir(plotly.offline)"
   ]
  },
  {
   "cell_type": "code",
   "execution_count": 15,
   "metadata": {},
   "outputs": [
    {
     "name": "stdout",
     "output_type": "stream",
     "text": [
      "Help on function iplot in module plotly.offline.offline:\n",
      "\n",
      "iplot(figure_or_data, show_link=False, link_text='Export to plot.ly', validate=True, image=None, filename='plot_image', image_width=800, image_height=600, config=None, auto_play=True, animation_opts=None)\n",
      "    Draw plotly graphs inside an IPython or Jupyter notebook\n",
      "    \n",
      "    figure_or_data -- a plotly.graph_objs.Figure or plotly.graph_objs.Data or\n",
      "                      dict or list that describes a Plotly graph.\n",
      "                      See https://plot.ly/python/ for examples of\n",
      "                      graph descriptions.\n",
      "    \n",
      "    Keyword arguments:\n",
      "    show_link (default=False) -- display a link in the bottom-right corner of\n",
      "                                of the chart that will export the chart to\n",
      "                                Plotly Cloud or Plotly Enterprise\n",
      "    link_text (default='Export to plot.ly') -- the text of export link\n",
      "    validate (default=True) -- validate that all of the keys in the figure\n",
      "                               are valid? omit if your version of plotly.js\n",
      "                               has become outdated with your version of\n",
      "                               graph_reference.json or if you need to include\n",
      "                               extra, unnecessary keys in your figure.\n",
      "    image (default=None |'png' |'jpeg' |'svg' |'webp') -- This parameter sets\n",
      "        the format of the image to be downloaded, if we choose to download an\n",
      "        image. This parameter has a default value of None indicating that no\n",
      "        image should be downloaded. Please note: for higher resolution images\n",
      "        and more export options, consider using plotly.io.write_image. See\n",
      "        https://plot.ly/python/static-image-export/ for more details.\n",
      "    filename (default='plot') -- Sets the name of the file your image\n",
      "        will be saved to. The extension should not be included.\n",
      "    image_height (default=600) -- Specifies the height of the image in `px`.\n",
      "    image_width (default=800) -- Specifies the width of the image in `px`.\n",
      "    config (default=None) -- Plot view options dictionary. Keyword arguments\n",
      "        `show_link` and `link_text` set the associated options in this\n",
      "        dictionary if it doesn't contain them already.\n",
      "    auto_play (default=True) -- Whether to automatically start the animation\n",
      "        sequence on page load, if the figure contains frames. Has no effect if\n",
      "        the figure does not contain frames.\n",
      "    animation_opts (default=None) -- Dict of custom animation parameters that\n",
      "        are used for the automatically started animation on page load. This\n",
      "        dict is passed to the function Plotly.animate in Plotly.js. See\n",
      "        https://github.com/plotly/plotly.js/blob/master/src/plots/animation_attributes.js\n",
      "        for available options. Has no effect if the figure\n",
      "        does not contain frames, or auto_play is False.\n",
      "    \n",
      "    Example:\n",
      "    ```\n",
      "    from plotly.offline import init_notebook_mode, iplot\n",
      "    init_notebook_mode()\n",
      "    iplot([{'x': [1, 2, 3], 'y': [5, 2, 7]}])\n",
      "    # We can also download an image of the plot by setting the image to the\n",
      "    format you want. e.g. `image='png'`\n",
      "    iplot([{'x': [1, 2, 3], 'y': [5, 2, 7]}], image='png')\n",
      "    ```\n",
      "    \n",
      "    animation_opts Example:\n",
      "    ```\n",
      "    from plotly.offline import iplot\n",
      "    figure = {'data': [{'x': [0, 1], 'y': [0, 1]}],\n",
      "              'layout': {'xaxis': {'range': [0, 5], 'autorange': False},\n",
      "                         'yaxis': {'range': [0, 5], 'autorange': False},\n",
      "                         'title': 'Start Title'},\n",
      "              'frames': [{'data': [{'x': [1, 2], 'y': [1, 2]}]},\n",
      "                         {'data': [{'x': [1, 4], 'y': [1, 4]}]},\n",
      "                         {'data': [{'x': [3, 4], 'y': [3, 4]}],\n",
      "                          'layout': {'title': 'End Title'}}]}\n",
      "    iplot(figure, animation_opts={'frame': {'duration': 1}})\n",
      "    ```\n",
      "\n"
     ]
    }
   ],
   "source": [
    "help(plotly.offline.iplot)"
   ]
  },
  {
   "cell_type": "code",
   "execution_count": 16,
   "metadata": {},
   "outputs": [],
   "source": [
    "from plotly.offline import *"
   ]
  },
  {
   "cell_type": "code",
   "execution_count": 17,
   "metadata": {},
   "outputs": [
    {
     "data": {
      "text/html": [
       "        <script type=\"text/javascript\">\n",
       "        window.PlotlyConfig = {MathJaxConfig: 'local'};\n",
       "        if (window.MathJax) {MathJax.Hub.Config({SVG: {font: \"STIX-Web\"}});}\n",
       "        if (typeof require !== 'undefined') {\n",
       "        require.undef(\"plotly\");\n",
       "        requirejs.config({\n",
       "            paths: {\n",
       "                'plotly': ['https://cdn.plot.ly/plotly-latest.min']\n",
       "            }\n",
       "        });\n",
       "        require(['plotly'], function(Plotly) {\n",
       "            window._Plotly = Plotly;\n",
       "        });\n",
       "        }\n",
       "        </script>\n",
       "        "
      ]
     },
     "metadata": {},
     "output_type": "display_data"
    }
   ],
   "source": [
    "init_notebook_mode(connected = True) # In order to work in the notebook we need to connect Notebook to the Javascript"
   ]
  },
  {
   "cell_type": "code",
   "execution_count": 18,
   "metadata": {},
   "outputs": [],
   "source": [
    "import cufflinks as cf"
   ]
  },
  {
   "cell_type": "code",
   "execution_count": 19,
   "metadata": {},
   "outputs": [
    {
     "data": {
      "text/html": [
       "        <script type=\"text/javascript\">\n",
       "        window.PlotlyConfig = {MathJaxConfig: 'local'};\n",
       "        if (window.MathJax) {MathJax.Hub.Config({SVG: {font: \"STIX-Web\"}});}\n",
       "        if (typeof require !== 'undefined') {\n",
       "        require.undef(\"plotly\");\n",
       "        requirejs.config({\n",
       "            paths: {\n",
       "                'plotly': ['https://cdn.plot.ly/plotly-latest.min']\n",
       "            }\n",
       "        });\n",
       "        require(['plotly'], function(Plotly) {\n",
       "            window._Plotly = Plotly;\n",
       "        });\n",
       "        }\n",
       "        </script>\n",
       "        "
      ]
     },
     "metadata": {},
     "output_type": "display_data"
    }
   ],
   "source": [
    "cf.go_offline() # Allow to use Cufflink offline"
   ]
  },
  {
   "cell_type": "code",
   "execution_count": 22,
   "metadata": {},
   "outputs": [],
   "source": [
    "df = pd.DataFrame(data = np.random.randn(100,4),\n",
    "                  columns = list('ABCD')\n",
    "                 )"
   ]
  },
  {
   "cell_type": "code",
   "execution_count": 60,
   "metadata": {},
   "outputs": [
    {
     "data": {
      "text/html": [
       "<div>\n",
       "<style scoped>\n",
       "    .dataframe tbody tr th:only-of-type {\n",
       "        vertical-align: middle;\n",
       "    }\n",
       "\n",
       "    .dataframe tbody tr th {\n",
       "        vertical-align: top;\n",
       "    }\n",
       "\n",
       "    .dataframe thead th {\n",
       "        text-align: right;\n",
       "    }\n",
       "</style>\n",
       "<table border=\"1\" class=\"dataframe\">\n",
       "  <thead>\n",
       "    <tr style=\"text-align: right;\">\n",
       "      <th></th>\n",
       "      <th>A</th>\n",
       "      <th>B</th>\n",
       "      <th>C</th>\n",
       "      <th>D</th>\n",
       "    </tr>\n",
       "  </thead>\n",
       "  <tbody>\n",
       "    <tr>\n",
       "      <th>0</th>\n",
       "      <td>-1.732818</td>\n",
       "      <td>-0.573795</td>\n",
       "      <td>-2.514313</td>\n",
       "      <td>0.263504</td>\n",
       "    </tr>\n",
       "    <tr>\n",
       "      <th>1</th>\n",
       "      <td>-0.665539</td>\n",
       "      <td>1.106817</td>\n",
       "      <td>-0.650919</td>\n",
       "      <td>-2.239901</td>\n",
       "    </tr>\n",
       "    <tr>\n",
       "      <th>2</th>\n",
       "      <td>-0.514189</td>\n",
       "      <td>-0.864274</td>\n",
       "      <td>-1.092981</td>\n",
       "      <td>0.628751</td>\n",
       "    </tr>\n",
       "    <tr>\n",
       "      <th>3</th>\n",
       "      <td>-0.530782</td>\n",
       "      <td>0.540373</td>\n",
       "      <td>-2.608523</td>\n",
       "      <td>-2.194822</td>\n",
       "    </tr>\n",
       "    <tr>\n",
       "      <th>4</th>\n",
       "      <td>-1.118698</td>\n",
       "      <td>1.344659</td>\n",
       "      <td>-0.651544</td>\n",
       "      <td>0.643280</td>\n",
       "    </tr>\n",
       "    <tr>\n",
       "      <th>...</th>\n",
       "      <td>...</td>\n",
       "      <td>...</td>\n",
       "      <td>...</td>\n",
       "      <td>...</td>\n",
       "    </tr>\n",
       "    <tr>\n",
       "      <th>95</th>\n",
       "      <td>0.339366</td>\n",
       "      <td>0.240545</td>\n",
       "      <td>-1.075994</td>\n",
       "      <td>-0.256082</td>\n",
       "    </tr>\n",
       "    <tr>\n",
       "      <th>96</th>\n",
       "      <td>1.251335</td>\n",
       "      <td>-0.660991</td>\n",
       "      <td>0.514022</td>\n",
       "      <td>0.006413</td>\n",
       "    </tr>\n",
       "    <tr>\n",
       "      <th>97</th>\n",
       "      <td>-0.889453</td>\n",
       "      <td>-1.015298</td>\n",
       "      <td>0.196080</td>\n",
       "      <td>0.052477</td>\n",
       "    </tr>\n",
       "    <tr>\n",
       "      <th>98</th>\n",
       "      <td>0.022788</td>\n",
       "      <td>0.738571</td>\n",
       "      <td>-2.171580</td>\n",
       "      <td>0.307420</td>\n",
       "    </tr>\n",
       "    <tr>\n",
       "      <th>99</th>\n",
       "      <td>0.152975</td>\n",
       "      <td>-0.434922</td>\n",
       "      <td>-0.715607</td>\n",
       "      <td>0.127029</td>\n",
       "    </tr>\n",
       "  </tbody>\n",
       "</table>\n",
       "<p>100 rows × 4 columns</p>\n",
       "</div>"
      ],
      "text/plain": [
       "           A         B         C         D\n",
       "0  -1.732818 -0.573795 -2.514313  0.263504\n",
       "1  -0.665539  1.106817 -0.650919 -2.239901\n",
       "2  -0.514189 -0.864274 -1.092981  0.628751\n",
       "3  -0.530782  0.540373 -2.608523 -2.194822\n",
       "4  -1.118698  1.344659 -0.651544  0.643280\n",
       "..       ...       ...       ...       ...\n",
       "95  0.339366  0.240545 -1.075994 -0.256082\n",
       "96  1.251335 -0.660991  0.514022  0.006413\n",
       "97 -0.889453 -1.015298  0.196080  0.052477\n",
       "98  0.022788  0.738571 -2.171580  0.307420\n",
       "99  0.152975 -0.434922 -0.715607  0.127029\n",
       "\n",
       "[100 rows x 4 columns]"
      ]
     },
     "execution_count": 60,
     "metadata": {},
     "output_type": "execute_result"
    }
   ],
   "source": [
    "df"
   ]
  },
  {
   "cell_type": "code",
   "execution_count": 25,
   "metadata": {},
   "outputs": [],
   "source": [
    "df2 = pd.DataFrame({'Category':['A','B','C'], 'Values':[32,43,50]})"
   ]
  },
  {
   "cell_type": "code",
   "execution_count": 26,
   "metadata": {},
   "outputs": [
    {
     "data": {
      "text/html": [
       "<div>\n",
       "<style scoped>\n",
       "    .dataframe tbody tr th:only-of-type {\n",
       "        vertical-align: middle;\n",
       "    }\n",
       "\n",
       "    .dataframe tbody tr th {\n",
       "        vertical-align: top;\n",
       "    }\n",
       "\n",
       "    .dataframe thead th {\n",
       "        text-align: right;\n",
       "    }\n",
       "</style>\n",
       "<table border=\"1\" class=\"dataframe\">\n",
       "  <thead>\n",
       "    <tr style=\"text-align: right;\">\n",
       "      <th></th>\n",
       "      <th>Category</th>\n",
       "      <th>Values</th>\n",
       "    </tr>\n",
       "  </thead>\n",
       "  <tbody>\n",
       "    <tr>\n",
       "      <th>0</th>\n",
       "      <td>A</td>\n",
       "      <td>32</td>\n",
       "    </tr>\n",
       "    <tr>\n",
       "      <th>1</th>\n",
       "      <td>B</td>\n",
       "      <td>43</td>\n",
       "    </tr>\n",
       "    <tr>\n",
       "      <th>2</th>\n",
       "      <td>C</td>\n",
       "      <td>50</td>\n",
       "    </tr>\n",
       "  </tbody>\n",
       "</table>\n",
       "</div>"
      ],
      "text/plain": [
       "  Category  Values\n",
       "0        A      32\n",
       "1        B      43\n",
       "2        C      50"
      ]
     },
     "execution_count": 26,
     "metadata": {},
     "output_type": "execute_result"
    }
   ],
   "source": [
    "df2"
   ]
  },
  {
   "cell_type": "code",
   "execution_count": 28,
   "metadata": {},
   "outputs": [
    {
     "data": {
      "text/plain": [
       "<matplotlib.axes._subplots.AxesSubplot at 0x162e5d12648>"
      ]
     },
     "execution_count": 28,
     "metadata": {},
     "output_type": "execute_result"
    },
    {
     "data": {
      "image/png": "[encoded data removed]",
      "text/plain": [
       "<Figure size 1440x576 with 1 Axes>"
      ]
     },
     "metadata": {
      "needs_background": "light"
     },
     "output_type": "display_data"
    }
   ],
   "source": [
    "df.plot(figsize = (20,8))"
   ]
  },
  {
   "cell_type": "code",
   "execution_count": 30,
   "metadata": {},
   "outputs": [
    {
     "data": {
      "application/vnd.plotly.v1+json": {
       "config": {
        "linkText": "Export to plot.ly",
        "plotlyServerURL": "https://plot.ly",
        "showLink": true
       },
       "data": [
        {
         "line": {
          "color": "rgba(255, 153, 51, 1.0)",
          "dash": "solid",
          "shape": "linear",
          "width": 1.3
         },
         "mode": "lines",
         "name": "A",
         "text": "",
         "type": "scatter",
         "x": [
          0,
          1,
          2,
          3,
          4,
          5,
          6,
          7,
          8,
          9,
          10,
          11,
          12,
          13,
          14,
          15,
          16,
          17,
          18,
          19,
          20,
          21,
          22,
          23,
          24,
          25,
          26,
          27,
          28,
          29,
          30,
          31,
          32,
          33,
          34,
          35,
          36,
          37,
          38,
          39,
          40,
          41,
          42,
          43,
          44,
          45,
          46,
          47,
          48,
          49,
          50,
          51,
          52,
          53,
          54,
          55,
          56,
          57,
          58,
          59,
          60,
          61,
          62,
          63,
          64,
          65,
          66,
          67,
          68,
          69,
          70,
          71,
          72,
          73,
          74,
          75,
          76,
          77,
          78,
          79,
          80,
          81,
          82,
          83,
          84,
          85,
          86,
          87,
          88,
          89,
          90,
          91,
          92,
          93,
          94,
          95,
          96,
          97,
          98,
          99
         ],
         "y": [
          -1.7328184700099154,
          -0.6655392531642427,
          -0.5141887381353419,
          -0.5307819801565642,
          -1.118698345400647,
          -0.015307381413286457,
          -1.4557398829714918,
          0.8591588400819069,
          -0.26492340869200365,
          0.4967984376875904,
          0.04182940727328566,
          -1.7386011275388331,
          0.6969431444672501,
          -0.052871581583919115,
          -1.6601792523085324,
          0.05748666839097407,
          0.1837621355327402,
          1.4962874424816663,
          -0.6205832412165161,
          0.1520623253012091,
          -0.0038386316317565086,
          0.5512624161773946,
          0.2036636174075826,
          -1.52475862710216,
          0.9236883896430348,
          2.046445624318661,
          -1.6928966996502095,
          -0.49450683165912346,
          -0.32097571153166865,
          0.18429648757950035,
          0.9590315555760798,
          0.24518063014786312,
          1.1035536863820947,
          -0.4262789193890452,
          0.38796398237909235,
          0.06095890635811224,
          -0.12080953360031857,
          0.720045065572963,
          1.1384712663936534,
          0.91631532775539,
          -1.3971319160459976,
          0.15533512015255674,
          -0.24322476528350576,
          -1.876186615785088,
          1.3283670094396747,
          1.4762463769813379,
          -0.0720559521924466,
          0.7329609025539923,
          -0.6413826991069103,
          0.12982126874312913,
          1.518939354007646,
          -1.1545144296807108,
          0.1470207356938776,
          -0.6908031760314431,
          -0.055941386298454326,
          1.3156460053880759,
          0.619892489089758,
          0.6088290563295004,
          -0.5374672551116969,
          -0.6880550583755078,
          0.7168531852731158,
          0.007647487232779944,
          2.211320735120686,
          0.6438165866259979,
          -1.0666772238124416,
          1.1185433129275277,
          -1.7299998201445086,
          -0.25975599587783443,
          0.4226172574698807,
          0.3941769709373833,
          0.5160961375330596,
          1.81819966745681,
          0.7991786252320352,
          1.046987568805078,
          -1.128395723062902,
          1.7936925593507211,
          -0.5149323886783681,
          -0.9802210244604053,
          0.2019466283016788,
          0.5362430245906857,
          -1.8460225900728473,
          1.1210128548791507,
          0.4428581166140847,
          -0.3971102158075737,
          1.0099720456684251,
          0.04323912485309805,
          0.16186786619863405,
          -0.8532924235905249,
          0.5683047812022923,
          -0.7182340782336945,
          -0.33714320289360633,
          1.6558347652323795,
          0.4051329252254166,
          0.7723889649324748,
          0.9858257378129331,
          0.3393662311036916,
          1.251335110862688,
          -0.8894527872587709,
          0.022788498965433734,
          0.1529745603304253
         ]
        },
        {
         "line": {
          "color": "rgba(55, 128, 191, 1.0)",
          "dash": "solid",
          "shape": "linear",
          "width": 1.3
         },
         "mode": "lines",
         "name": "B",
         "text": "",
         "type": "scatter",
         "x": [
          0,
          1,
          2,
          3,
          4,
          5,
          6,
          7,
          8,
          9,
          10,
          11,
          12,
          13,
          14,
          15,
          16,
          17,
          18,
          19,
          20,
          21,
          22,
          23,
          24,
          25,
          26,
          27,
          28,
          29,
          30,
          31,
          32,
          33,
          34,
          35,
          36,
          37,
          38,
          39,
          40,
          41,
          42,
          43,
          44,
          45,
          46,
          47,
          48,
          49,
          50,
          51,
          52,
          53,
          54,
          55,
          56,
          57,
          58,
          59,
          60,
          61,
          62,
          63,
          64,
          65,
          66,
          67,
          68,
          69,
          70,
          71,
          72,
          73,
          74,
          75,
          76,
          77,
          78,
          79,
          80,
          81,
          82,
          83,
          84,
          85,
          86,
          87,
          88,
          89,
          90,
          91,
          92,
          93,
          94,
          95,
          96,
          97,
          98,
          99
         ],
         "y": [
          -0.5737945545380813,
          1.10681733267001,
          -0.8642735138565506,
          0.5403727191652674,
          1.3446585111575515,
          0.9707770371986021,
          -0.4758158228346009,
          -1.7206476733987262,
          -0.5213925667074699,
          -1.3160304741085156,
          1.7139340392948705,
          -1.081772196858882,
          0.6852193539140005,
          0.2357121945272125,
          -0.21621060736553435,
          -1.16561783610473,
          -0.7160992151206331,
          -0.7963619994131266,
          -5.734197369323232e-05,
          0.4121475843934423,
          -0.5346345063636659,
          0.9800828890027675,
          -0.17355190502161186,
          0.50663665254452,
          -0.9743640840943804,
          2.4442193260237777,
          -1.5127481904255589,
          -0.4463273169784612,
          0.2863886544997744,
          -2.6366488568868967,
          0.3399990001282703,
          -0.4238775381884636,
          0.09553159887378632,
          0.030443516590440534,
          -0.117465978296997,
          0.5680994389852261,
          0.8986361709059272,
          0.05807554994885092,
          -0.573788376859282,
          0.07770170114819182,
          -0.1532975170574101,
          -1.7259334090059024,
          1.9288714395457591,
          -0.5540020564911894,
          0.7437781696058638,
          0.09207992430893966,
          -0.09103602463885366,
          0.4550902656062467,
          -1.049078831656769,
          0.39971184330269044,
          1.8580764136015517,
          1.530549476657037,
          -1.550731195712601,
          -1.7384459910819856,
          -0.9078249514952067,
          -0.5390811901792363,
          2.0245770702001114,
          0.060145825037109524,
          0.19512977367730458,
          -0.906664515766312,
          -0.4579375421367402,
          1.5950732986077922,
          -0.06095303450437194,
          -0.7050404940898929,
          -0.7948447032770758,
          -0.5673176973672968,
          -1.2621608935191002,
          -0.6700539341340684,
          0.5446324881912484,
          -0.872920736801528,
          -0.917874519634289,
          -1.4537221534915523,
          0.16881163940843347,
          0.20088757260669715,
          0.18290911610110255,
          -1.476238336965387,
          -0.5561300294068415,
          -0.36454287791069184,
          -0.06220468912964303,
          -0.9794835695449904,
          1.9058757707845015,
          0.09730984282951217,
          0.974860478095882,
          -0.13908650831671687,
          0.7492916762415887,
          -0.5509520407165336,
          -0.6638932817154232,
          -0.08468534082475872,
          0.032786764332160115,
          -0.13758137168049833,
          1.0497203019324426,
          0.5940635515384379,
          -0.3397995017727589,
          0.2857793266688294,
          0.8331357511706957,
          0.24054536988523556,
          -0.6609910622382077,
          -1.015298446375443,
          0.7385713900137486,
          -0.43492175701388197
         ]
        },
        {
         "line": {
          "color": "rgba(50, 171, 96, 1.0)",
          "dash": "solid",
          "shape": "linear",
          "width": 1.3
         },
         "mode": "lines",
         "name": "C",
         "text": "",
         "type": "scatter",
         "x": [
          0,
          1,
          2,
          3,
          4,
          5,
          6,
          7,
          8,
          9,
          10,
          11,
          12,
          13,
          14,
          15,
          16,
          17,
          18,
          19,
          20,
          21,
          22,
          23,
          24,
          25,
          26,
          27,
          28,
          29,
          30,
          31,
          32,
          33,
          34,
          35,
          36,
          37,
          38,
          39,
          40,
          41,
          42,
          43,
          44,
          45,
          46,
          47,
          48,
          49,
          50,
          51,
          52,
          53,
          54,
          55,
          56,
          57,
          58,
          59,
          60,
          61,
          62,
          63,
          64,
          65,
          66,
          67,
          68,
          69,
          70,
          71,
          72,
          73,
          74,
          75,
          76,
          77,
          78,
          79,
          80,
          81,
          82,
          83,
          84,
          85,
          86,
          87,
          88,
          89,
          90,
          91,
          92,
          93,
          94,
          95,
          96,
          97,
          98,
          99
         ],
         "y": [
          -2.5143134923113903,
          -0.6509188072601796,
          -1.0929806376167406,
          -2.608523012686631,
          -0.6515439074095098,
          -0.0333064701190502,
          0.7606633089063881,
          0.4128709184030706,
          -0.6631434605605585,
          0.9383284809663233,
          -0.640923939094296,
          -1.451322224393623,
          -0.32452068357876357,
          0.8560062510029888,
          0.04874730079016477,
          -0.6502876099939146,
          2.0300873604999925,
          1.588622467301215,
          -0.02098210969456584,
          -0.5386063210027243,
          0.3939456041421512,
          0.5400582082029005,
          1.2029381600400066,
          -1.599263794059734,
          0.10677637474981985,
          1.5243359839917698,
          -0.5531122529989283,
          0.0018013257277539978,
          0.007243731819215415,
          0.3223473198321976,
          -1.0040855072140582,
          -0.5579320573624444,
          1.0706742691410756,
          -0.6889035466203947,
          0.2530161671325349,
          -1.743532298622672,
          -0.36352469284064715,
          1.0313892282054828,
          -0.3987531022294804,
          -0.1400567640821582,
          0.30414057790022453,
          -0.36640897480614737,
          -0.21419913181904907,
          1.241243088420183,
          -0.6739876378558262,
          0.07389182612537284,
          -0.03224726111307327,
          1.1194329765894249,
          -0.6761821835514656,
          -1.6134368534742802,
          -0.41960299481596236,
          -0.19060574059427185,
          -0.11993860090379943,
          0.31521309072533965,
          -2.021558231845061,
          -0.21644300192401225,
          -1.6877313200922548,
          -1.8076751235857098,
          -1.3852283577275846,
          -0.6661149941134256,
          1.0063768444171797,
          1.359618305861139,
          -1.469018277477196,
          -0.6577234211061695,
          -1.3683531470706467,
          -1.8237598616040247,
          0.41753443738107054,
          -1.1526259185288221,
          -1.4323469934265356,
          -0.8830593669489718,
          1.8431546945645012,
          -0.3625854899437133,
          0.7694279154705537,
          0.08941362971901017,
          1.4660643585433049,
          0.06829484146577768,
          -0.8511623078027825,
          -1.384913582089352,
          -1.1378261979375641,
          0.38386522671538453,
          -1.2932844941271617,
          0.7647470295737824,
          0.2632165909128464,
          1.2568833608738816,
          1.2665194060352905,
          -1.760462544297134,
          -0.38007233523979733,
          -2.2853515965367737,
          0.26537879693495575,
          -0.29996880981165763,
          -0.11434376808773915,
          0.6228937735392496,
          -0.22652070309699104,
          -1.3926389582870053,
          -0.21170574994847616,
          -1.0759943427876493,
          0.5140215484688332,
          0.19608037262269554,
          -2.171579893652071,
          -0.7156074544641537
         ]
        },
        {
         "line": {
          "color": "rgba(128, 0, 128, 1.0)",
          "dash": "solid",
          "shape": "linear",
          "width": 1.3
         },
         "mode": "lines",
         "name": "D",
         "text": "",
         "type": "scatter",
         "x": [
          0,
          1,
          2,
          3,
          4,
          5,
          6,
          7,
          8,
          9,
          10,
          11,
          12,
          13,
          14,
          15,
          16,
          17,
          18,
          19,
          20,
          21,
          22,
          23,
          24,
          25,
          26,
          27,
          28,
          29,
          30,
          31,
          32,
          33,
          34,
          35,
          36,
          37,
          38,
          39,
          40,
          41,
          42,
          43,
          44,
          45,
          46,
          47,
          48,
          49,
          50,
          51,
          52,
          53,
          54,
          55,
          56,
          57,
          58,
          59,
          60,
          61,
          62,
          63,
          64,
          65,
          66,
          67,
          68,
          69,
          70,
          71,
          72,
          73,
          74,
          75,
          76,
          77,
          78,
          79,
          80,
          81,
          82,
          83,
          84,
          85,
          86,
          87,
          88,
          89,
          90,
          91,
          92,
          93,
          94,
          95,
          96,
          97,
          98,
          99
         ],
         "y": [
          0.2635037826051746,
          -2.239900668127504,
          0.6287513844324132,
          -2.1948221717203333,
          0.6432799029201886,
          1.209932206786237,
          -2.3545318574450134,
          1.0745305466796755,
          -0.49275888145241564,
          -0.6669718697162098,
          0.655200056418349,
          1.5182651759676702,
          -1.5989561766263891,
          -0.5436935447528642,
          0.1531899904145127,
          -1.253636332403664,
          1.1026176291994954,
          0.12708566121369286,
          -0.8535306920291047,
          -1.0248348769183893,
          -0.6045196815864822,
          -0.3953328860122542,
          0.12003883366812776,
          0.5953865334820625,
          -0.06212991230184508,
          1.452689162912124,
          0.4406880123087512,
          -1.613173683413528,
          0.7772003829979456,
          -1.5631590743611659,
          1.1444928651886228,
          -1.3607397426450984,
          0.3505686485630722,
          0.6601026213592619,
          0.553392942363766,
          -0.23098918344720173,
          0.8311318198942066,
          -0.08201430903256268,
          0.2824545751892871,
          -0.03172367883037509,
          0.3743088818050335,
          0.5397953798154068,
          -1.2004762068784165,
          0.2968361571745551,
          0.14457907383222568,
          -0.5028088116733017,
          0.5961255166425773,
          -1.7844469407248074,
          -2.496330914118227,
          -1.0261280768372907,
          1.9368714651311647,
          -0.3674146748731469,
          1.799442623225765,
          0.2755359292972475,
          -0.14710677085185983,
          -0.687086704638258,
          0.1999909696944079,
          0.05105367380417333,
          -1.6961422920296267,
          1.3147773687954898,
          0.995116497484058,
          -0.8658822037081225,
          -0.004408572653071275,
          -1.4414798499456125,
          -0.5405079236279586,
          -0.533085208042458,
          1.0943498426037666,
          -1.282138908622184,
          -0.6725787172001605,
          0.43632191387047947,
          1.8237296763666204,
          -1.7046840650369615,
          -0.860871824186915,
          1.4634316445135658,
          0.39371432565306586,
          -0.6469203777739958,
          -0.8556891941805826,
          -0.3353507357876152,
          0.8028157715863787,
          -0.1639592906043109,
          -0.44702553786145677,
          -0.38310852317831606,
          -0.4570542510733638,
          1.0845518642914551,
          0.5169438264391508,
          -0.5641824896873722,
          0.8100973323193629,
          2.3351595477119416,
          -2.111058499254949,
          0.5262861952143004,
          -0.853625275955298,
          -0.9682396772350652,
          -0.7774006438523732,
          -2.5104955678597096,
          0.3598120367191213,
          -0.25608224070565877,
          0.006413200965211256,
          0.0524766666787389,
          0.3074201403453346,
          0.12702927894046318
         ]
        }
       ],
       "layout": {
        "legend": {
         "bgcolor": "#F5F6F9",
         "font": {
          "color": "#4D5663"
         }
        },
        "paper_bgcolor": "#F5F6F9",
        "plot_bgcolor": "#F5F6F9",
        "template": {
         "data": {
          "bar": [
           {
            "error_x": {
             "color": "#2a3f5f"
            },
            "error_y": {
             "color": "#2a3f5f"
            },
            "marker": {
             "line": {
              "color": "#E5ECF6",
              "width": 0.5
             }
            },
            "type": "bar"
           }
          ],
          "barpolar": [
           {
            "marker": {
             "line": {
              "color": "#E5ECF6",
              "width": 0.5
             }
            },
            "type": "barpolar"
           }
          ],
          "carpet": [
           {
            "aaxis": {
             "endlinecolor": "#2a3f5f",
             "gridcolor": "white",
             "linecolor": "white",
             "minorgridcolor": "white",
             "startlinecolor": "#2a3f5f"
            },
            "baxis": {
             "endlinecolor": "#2a3f5f",
             "gridcolor": "white",
             "linecolor": "white",
             "minorgridcolor": "white",
             "startlinecolor": "#2a3f5f"
            },
            "type": "carpet"
           }
          ],
          "choropleth": [
           {
            "colorbar": {
             "outlinewidth": 0,
             "ticks": ""
            },
            "type": "choropleth"
           }
          ],
          "contour": [
           {
            "colorbar": {
             "outlinewidth": 0,
             "ticks": ""
            },
            "colorscale": [
             [
              0,
              "#0d0887"
             ],
             [
              0.1111111111111111,
              "#46039f"
             ],
             [
              0.2222222222222222,
              "#7201a8"
             ],
             [
              0.3333333333333333,
              "#9c179e"
             ],
             [
              0.4444444444444444,
              "#bd3786"
             ],
             [
              0.5555555555555556,
              "#d8576b"
             ],
             [
              0.6666666666666666,
              "#ed7953"
             ],
             [
              0.7777777777777778,
              "#fb9f3a"
             ],
             [
              0.8888888888888888,
              "#fdca26"
             ],
             [
              1,
              "#f0f921"
             ]
            ],
            "type": "contour"
           }
          ],
          "contourcarpet": [
           {
            "colorbar": {
             "outlinewidth": 0,
             "ticks": ""
            },
            "type": "contourcarpet"
           }
          ],
          "heatmap": [
           {
            "colorbar": {
             "outlinewidth": 0,
             "ticks": ""
            },
            "colorscale": [
             [
              0,
              "#0d0887"
             ],
             [
              0.1111111111111111,
              "#46039f"
             ],
             [
              0.2222222222222222,
              "#7201a8"
             ],
             [
              0.3333333333333333,
              "#9c179e"
             ],
             [
              0.4444444444444444,
              "#bd3786"
             ],
             [
              0.5555555555555556,
              "#d8576b"
             ],
             [
              0.6666666666666666,
              "#ed7953"
             ],
             [
              0.7777777777777778,
              "#fb9f3a"
             ],
             [
              0.8888888888888888,
              "#fdca26"
             ],
             [
              1,
              "#f0f921"
             ]
            ],
            "type": "heatmap"
           }
          ],
          "heatmapgl": [
           {
            "colorbar": {
             "outlinewidth": 0,
             "ticks": ""
            },
            "colorscale": [
             [
              0,
              "#0d0887"
             ],
             [
              0.1111111111111111,
              "#46039f"
             ],
             [
              0.2222222222222222,
              "#7201a8"
             ],
             [
              0.3333333333333333,
              "#9c179e"
             ],
             [
              0.4444444444444444,
              "#bd3786"
             ],
             [
              0.5555555555555556,
              "#d8576b"
             ],
             [
              0.6666666666666666,
              "#ed7953"
             ],
             [
              0.7777777777777778,
              "#fb9f3a"
             ],
             [
              0.8888888888888888,
              "#fdca26"
             ],
             [
              1,
              "#f0f921"
             ]
            ],
            "type": "heatmapgl"
           }
          ],
          "histogram": [
           {
            "marker": {
             "colorbar": {
              "outlinewidth": 0,
              "ticks": ""
             }
            },
            "type": "histogram"
           }
          ],
          "histogram2d": [
           {
            "colorbar": {
             "outlinewidth": 0,
             "ticks": ""
            },
            "colorscale": [
             [
              0,
              "#0d0887"
             ],
             [
              0.1111111111111111,
              "#46039f"
             ],
             [
              0.2222222222222222,
              "#7201a8"
             ],
             [
              0.3333333333333333,
              "#9c179e"
             ],
             [
              0.4444444444444444,
              "#bd3786"
             ],
             [
              0.5555555555555556,
              "#d8576b"
             ],
             [
              0.6666666666666666,
              "#ed7953"
             ],
             [
              0.7777777777777778,
              "#fb9f3a"
             ],
             [
              0.8888888888888888,
              "#fdca26"
             ],
             [
              1,
              "#f0f921"
             ]
            ],
            "type": "histogram2d"
           }
          ],
          "histogram2dcontour": [
           {
            "colorbar": {
             "outlinewidth": 0,
             "ticks": ""
            },
            "colorscale": [
             [
              0,
              "#0d0887"
             ],
             [
              0.1111111111111111,
              "#46039f"
             ],
             [
              0.2222222222222222,
              "#7201a8"
             ],
             [
              0.3333333333333333,
              "#9c179e"
             ],
             [
              0.4444444444444444,
              "#bd3786"
             ],
             [
              0.5555555555555556,
              "#d8576b"
             ],
             [
              0.6666666666666666,
              "#ed7953"
             ],
             [
              0.7777777777777778,
              "#fb9f3a"
             ],
             [
              0.8888888888888888,
              "#fdca26"
             ],
             [
              1,
              "#f0f921"
             ]
            ],
            "type": "histogram2dcontour"
           }
          ],
          "mesh3d": [
           {
            "colorbar": {
             "outlinewidth": 0,
             "ticks": ""
            },
            "type": "mesh3d"
           }
          ],
          "parcoords": [
           {
            "line": {
             "colorbar": {
              "outlinewidth": 0,
              "ticks": ""
             }
            },
            "type": "parcoords"
           }
          ],
          "pie": [
           {
            "automargin": true,
            "type": "pie"
           }
          ],
          "scatter": [
           {
            "marker": {
             "colorbar": {
              "outlinewidth": 0,
              "ticks": ""
             }
            },
            "type": "scatter"
           }
          ],
          "scatter3d": [
           {
            "line": {
             "colorbar": {
              "outlinewidth": 0,
              "ticks": ""
             }
            },
            "marker": {
             "colorbar": {
              "outlinewidth": 0,
              "ticks": ""
             }
            },
            "type": "scatter3d"
           }
          ],
          "scattercarpet": [
           {
            "marker": {
             "colorbar": {
              "outlinewidth": 0,
              "ticks": ""
             }
            },
            "type": "scattercarpet"
           }
          ],
          "scattergeo": [
           {
            "marker": {
             "colorbar": {
              "outlinewidth": 0,
              "ticks": ""
             }
            },
            "type": "scattergeo"
           }
          ],
          "scattergl": [
           {
            "marker": {
             "colorbar": {
              "outlinewidth": 0,
              "ticks": ""
             }
            },
            "type": "scattergl"
           }
          ],
          "scattermapbox": [
           {
            "marker": {
             "colorbar": {
              "outlinewidth": 0,
              "ticks": ""
             }
            },
            "type": "scattermapbox"
           }
          ],
          "scatterpolar": [
           {
            "marker": {
             "colorbar": {
              "outlinewidth": 0,
              "ticks": ""
             }
            },
            "type": "scatterpolar"
           }
          ],
          "scatterpolargl": [
           {
            "marker": {
             "colorbar": {
              "outlinewidth": 0,
              "ticks": ""
             }
            },
            "type": "scatterpolargl"
           }
          ],
          "scatterternary": [
           {
            "marker": {
             "colorbar": {
              "outlinewidth": 0,
              "ticks": ""
             }
            },
            "type": "scatterternary"
           }
          ],
          "surface": [
           {
            "colorbar": {
             "outlinewidth": 0,
             "ticks": ""
            },
            "colorscale": [
             [
              0,
              "#0d0887"
             ],
             [
              0.1111111111111111,
              "#46039f"
             ],
             [
              0.2222222222222222,
              "#7201a8"
             ],
             [
              0.3333333333333333,
              "#9c179e"
             ],
             [
              0.4444444444444444,
              "#bd3786"
             ],
             [
              0.5555555555555556,
              "#d8576b"
             ],
             [
              0.6666666666666666,
              "#ed7953"
             ],
             [
              0.7777777777777778,
              "#fb9f3a"
             ],
             [
              0.8888888888888888,
              "#fdca26"
             ],
             [
              1,
              "#f0f921"
             ]
            ],
            "type": "surface"
           }
          ],
          "table": [
           {
            "cells": {
             "fill": {
              "color": "#EBF0F8"
             },
             "line": {
              "color": "white"
             }
            },
            "header": {
             "fill": {
              "color": "#C8D4E3"
             },
             "line": {
              "color": "white"
             }
            },
            "type": "table"
           }
          ]
         },
         "layout": {
          "annotationdefaults": {
           "arrowcolor": "#2a3f5f",
           "arrowhead": 0,
           "arrowwidth": 1
          },
          "coloraxis": {
           "colorbar": {
            "outlinewidth": 0,
            "ticks": ""
           }
          },
          "colorscale": {
           "diverging": [
            [
             0,
             "#8e0152"
            ],
            [
             0.1,
             "#c51b7d"
            ],
            [
             0.2,
             "#de77ae"
            ],
            [
             0.3,
             "#f1b6da"
            ],
            [
             0.4,
             "#fde0ef"
            ],
            [
             0.5,
             "#f7f7f7"
            ],
            [
             0.6,
             "#e6f5d0"
            ],
            [
             0.7,
             "#b8e186"
            ],
            [
             0.8,
             "#7fbc41"
            ],
            [
             0.9,
             "#4d9221"
            ],
            [
             1,
             "#276419"
            ]
           ],
           "sequential": [
            [
             0,
             "#0d0887"
            ],
            [
             0.1111111111111111,
             "#46039f"
            ],
            [
             0.2222222222222222,
             "#7201a8"
            ],
            [
             0.3333333333333333,
             "#9c179e"
            ],
            [
             0.4444444444444444,
             "#bd3786"
            ],
            [
             0.5555555555555556,
             "#d8576b"
            ],
            [
             0.6666666666666666,
             "#ed7953"
            ],
            [
             0.7777777777777778,
             "#fb9f3a"
            ],
            [
             0.8888888888888888,
             "#fdca26"
            ],
            [
             1,
             "#f0f921"
            ]
           ],
           "sequentialminus": [
            [
             0,
             "#0d0887"
            ],
            [
             0.1111111111111111,
             "#46039f"
            ],
            [
             0.2222222222222222,
             "#7201a8"
            ],
            [
             0.3333333333333333,
             "#9c179e"
            ],
            [
             0.4444444444444444,
             "#bd3786"
            ],
            [
             0.5555555555555556,
             "#d8576b"
            ],
            [
             0.6666666666666666,
             "#ed7953"
            ],
            [
             0.7777777777777778,
             "#fb9f3a"
            ],
            [
             0.8888888888888888,
             "#fdca26"
            ],
            [
             1,
             "#f0f921"
            ]
           ]
          },
          "colorway": [
           "#636efa",
           "#EF553B",
           "#00cc96",
           "#ab63fa",
           "#FFA15A",
           "#19d3f3",
           "#FF6692",
           "#B6E880",
           "#FF97FF",
           "#FECB52"
          ],
          "font": {
           "color": "#2a3f5f"
          },
          "geo": {
           "bgcolor": "white",
           "lakecolor": "white",
           "landcolor": "#E5ECF6",
           "showlakes": true,
           "showland": true,
           "subunitcolor": "white"
          },
          "hoverlabel": {
           "align": "left"
          },
          "hovermode": "closest",
          "mapbox": {
           "style": "light"
          },
          "paper_bgcolor": "white",
          "plot_bgcolor": "#E5ECF6",
          "polar": {
           "angularaxis": {
            "gridcolor": "white",
            "linecolor": "white",
            "ticks": ""
           },
           "bgcolor": "#E5ECF6",
           "radialaxis": {
            "gridcolor": "white",
            "linecolor": "white",
            "ticks": ""
           }
          },
          "scene": {
           "xaxis": {
            "backgroundcolor": "#E5ECF6",
            "gridcolor": "white",
            "gridwidth": 2,
            "linecolor": "white",
            "showbackground": true,
            "ticks": "",
            "zerolinecolor": "white"
           },
           "yaxis": {
            "backgroundcolor": "#E5ECF6",
            "gridcolor": "white",
            "gridwidth": 2,
            "linecolor": "white",
            "showbackground": true,
            "ticks": "",
            "zerolinecolor": "white"
           },
           "zaxis": {
            "backgroundcolor": "#E5ECF6",
            "gridcolor": "white",
            "gridwidth": 2,
            "linecolor": "white",
            "showbackground": true,
            "ticks": "",
            "zerolinecolor": "white"
           }
          },
          "shapedefaults": {
           "line": {
            "color": "#2a3f5f"
           }
          },
          "ternary": {
           "aaxis": {
            "gridcolor": "white",
            "linecolor": "white",
            "ticks": ""
           },
           "baxis": {
            "gridcolor": "white",
            "linecolor": "white",
            "ticks": ""
           },
           "bgcolor": "#E5ECF6",
           "caxis": {
            "gridcolor": "white",
            "linecolor": "white",
            "ticks": ""
           }
          },
          "title": {
           "x": 0.05
          },
          "xaxis": {
           "automargin": true,
           "gridcolor": "white",
           "linecolor": "white",
           "ticks": "",
           "title": {
            "standoff": 15
           },
           "zerolinecolor": "white",
           "zerolinewidth": 2
          },
          "yaxis": {
           "automargin": true,
           "gridcolor": "white",
           "linecolor": "white",
           "ticks": "",
           "title": {
            "standoff": 15
           },
           "zerolinecolor": "white",
           "zerolinewidth": 2
          }
         }
        },
        "title": {
         "font": {
          "color": "#4D5663"
         }
        },
        "xaxis": {
         "gridcolor": "#E1E5ED",
         "showgrid": true,
         "tickfont": {
          "color": "#4D5663"
         },
         "title": {
          "font": {
           "color": "#4D5663"
          },
          "text": ""
         },
         "zerolinecolor": "#E1E5ED"
        },
        "yaxis": {
         "gridcolor": "#E1E5ED",
         "showgrid": true,
         "tickfont": {
          "color": "#4D5663"
         },
         "title": {
          "font": {
           "color": "#4D5663"
          },
          "text": ""
         },
         "zerolinecolor": "#E1E5ED"
        }
       }
      },
      "text/html": [
       "<div>\n",
       "        \n",
       "        \n",
       "            <div id=\"5ed8d271-c459-4a5b-8284-c5a6226c9ff4\" class=\"plotly-graph-div\" style=\"height:525px; width:100%;\"></div>\n",
       "            <script type=\"text/javascript\">\n",
       "                require([\"plotly\"], function(Plotly) {\n",
       "                    window.PLOTLYENV=window.PLOTLYENV || {};\n",
       "                    window.PLOTLYENV.BASE_URL='https://plot.ly';\n",
       "                    \n",
       "                if (document.getElementById(\"5ed8d271-c459-4a5b-8284-c5a6226c9ff4\")) {\n",
       "                    Plotly.newPlot(\n",
       "                        '5ed8d271-c459-4a5b-8284-c5a6226c9ff4',\n",
       "                        [{\"line\": {\"color\": \"rgba(255, 153, 51, 1.0)\", \"dash\": \"solid\", \"shape\": \"linear\", \"width\": 1.3}, \"mode\": \"lines\", \"name\": \"A\", \"text\": \"\", \"type\": \"scatter\", \"x\": [0, 1, 2, 3, 4, 5, 6, 7, 8, 9, 10, 11, 12, 13, 14, 15, 16, 17, 18, 19, 20, 21, 22, 23, 24, 25, 26, 27, 28, 29, 30, 31, 32, 33, 34, 35, 36, 37, 38, 39, 40, 41, 42, 43, 44, 45, 46, 47, 48, 49, 50, 51, 52, 53, 54, 55, 56, 57, 58, 59, 60, 61, 62, 63, 64, 65, 66, 67, 68, 69, 70, 71, 72, 73, 74, 75, 76, 77, 78, 79, 80, 81, 82, 83, 84, 85, 86, 87, 88, 89, 90, 91, 92, 93, 94, 95, 96, 97, 98, 99], \"y\": [-1.7328184700099154, -0.6655392531642427, -0.5141887381353419, -0.5307819801565642, -1.118698345400647, -0.015307381413286457, -1.4557398829714918, 0.8591588400819069, -0.26492340869200365, 0.4967984376875904, 0.04182940727328566, -1.7386011275388331, 0.6969431444672501, -0.052871581583919115, -1.6601792523085324, 0.05748666839097407, 0.1837621355327402, 1.4962874424816663, -0.6205832412165161, 0.1520623253012091, -0.0038386316317565086, 0.5512624161773946, 0.2036636174075826, -1.52475862710216, 0.9236883896430348, 2.046445624318661, -1.6928966996502095, -0.49450683165912346, -0.32097571153166865, 0.18429648757950035, 0.9590315555760798, 0.24518063014786312, 1.1035536863820947, -0.4262789193890452, 0.38796398237909235, 0.06095890635811224, -0.12080953360031857, 0.720045065572963, 1.1384712663936534, 0.91631532775539, -1.3971319160459976, 0.15533512015255674, -0.24322476528350576, -1.876186615785088, 1.3283670094396747, 1.4762463769813379, -0.0720559521924466, 0.7329609025539923, -0.6413826991069103, 0.12982126874312913, 1.518939354007646, -1.1545144296807108, 0.1470207356938776, -0.6908031760314431, -0.055941386298454326, 1.3156460053880759, 0.619892489089758, 0.6088290563295004, -0.5374672551116969, -0.6880550583755078, 0.7168531852731158, 0.007647487232779944, 2.211320735120686, 0.6438165866259979, -1.0666772238124416, 1.1185433129275277, -1.7299998201445086, -0.25975599587783443, 0.4226172574698807, 0.3941769709373833, 0.5160961375330596, 1.81819966745681, 0.7991786252320352, 1.046987568805078, -1.128395723062902, 1.7936925593507211, -0.5149323886783681, -0.9802210244604053, 0.2019466283016788, 0.5362430245906857, -1.8460225900728473, 1.1210128548791507, 0.4428581166140847, -0.3971102158075737, 1.0099720456684251, 0.04323912485309805, 0.16186786619863405, -0.8532924235905249, 0.5683047812022923, -0.7182340782336945, -0.33714320289360633, 1.6558347652323795, 0.4051329252254166, 0.7723889649324748, 0.9858257378129331, 0.3393662311036916, 1.251335110862688, -0.8894527872587709, 0.022788498965433734, 0.1529745603304253]}, {\"line\": {\"color\": \"rgba(55, 128, 191, 1.0)\", \"dash\": \"solid\", \"shape\": \"linear\", \"width\": 1.3}, \"mode\": \"lines\", \"name\": \"B\", \"text\": \"\", \"type\": \"scatter\", \"x\": [0, 1, 2, 3, 4, 5, 6, 7, 8, 9, 10, 11, 12, 13, 14, 15, 16, 17, 18, 19, 20, 21, 22, 23, 24, 25, 26, 27, 28, 29, 30, 31, 32, 33, 34, 35, 36, 37, 38, 39, 40, 41, 42, 43, 44, 45, 46, 47, 48, 49, 50, 51, 52, 53, 54, 55, 56, 57, 58, 59, 60, 61, 62, 63, 64, 65, 66, 67, 68, 69, 70, 71, 72, 73, 74, 75, 76, 77, 78, 79, 80, 81, 82, 83, 84, 85, 86, 87, 88, 89, 90, 91, 92, 93, 94, 95, 96, 97, 98, 99], \"y\": [-0.5737945545380813, 1.10681733267001, -0.8642735138565506, 0.5403727191652674, 1.3446585111575515, 0.9707770371986021, -0.4758158228346009, -1.7206476733987262, -0.5213925667074699, -1.3160304741085156, 1.7139340392948705, -1.081772196858882, 0.6852193539140005, 0.2357121945272125, -0.21621060736553435, -1.16561783610473, -0.7160992151206331, -0.7963619994131266, -5.734197369323232e-05, 0.4121475843934423, -0.5346345063636659, 0.9800828890027675, -0.17355190502161186, 0.50663665254452, -0.9743640840943804, 2.4442193260237777, -1.5127481904255589, -0.4463273169784612, 0.2863886544997744, -2.6366488568868967, 0.3399990001282703, -0.4238775381884636, 0.09553159887378632, 0.030443516590440534, -0.117465978296997, 0.5680994389852261, 0.8986361709059272, 0.05807554994885092, -0.573788376859282, 0.07770170114819182, -0.1532975170574101, -1.7259334090059024, 1.9288714395457591, -0.5540020564911894, 0.7437781696058638, 0.09207992430893966, -0.09103602463885366, 0.4550902656062467, -1.049078831656769, 0.39971184330269044, 1.8580764136015517, 1.530549476657037, -1.550731195712601, -1.7384459910819856, -0.9078249514952067, -0.5390811901792363, 2.0245770702001114, 0.060145825037109524, 0.19512977367730458, -0.906664515766312, -0.4579375421367402, 1.5950732986077922, -0.06095303450437194, -0.7050404940898929, -0.7948447032770758, -0.5673176973672968, -1.2621608935191002, -0.6700539341340684, 0.5446324881912484, -0.872920736801528, -0.917874519634289, -1.4537221534915523, 0.16881163940843347, 0.20088757260669715, 0.18290911610110255, -1.476238336965387, -0.5561300294068415, -0.36454287791069184, -0.06220468912964303, -0.9794835695449904, 1.9058757707845015, 0.09730984282951217, 0.974860478095882, -0.13908650831671687, 0.7492916762415887, -0.5509520407165336, -0.6638932817154232, -0.08468534082475872, 0.032786764332160115, -0.13758137168049833, 1.0497203019324426, 0.5940635515384379, -0.3397995017727589, 0.2857793266688294, 0.8331357511706957, 0.24054536988523556, -0.6609910622382077, -1.015298446375443, 0.7385713900137486, -0.43492175701388197]}, {\"line\": {\"color\": \"rgba(50, 171, 96, 1.0)\", \"dash\": \"solid\", \"shape\": \"linear\", \"width\": 1.3}, \"mode\": \"lines\", \"name\": \"C\", \"text\": \"\", \"type\": \"scatter\", \"x\": [0, 1, 2, 3, 4, 5, 6, 7, 8, 9, 10, 11, 12, 13, 14, 15, 16, 17, 18, 19, 20, 21, 22, 23, 24, 25, 26, 27, 28, 29, 30, 31, 32, 33, 34, 35, 36, 37, 38, 39, 40, 41, 42, 43, 44, 45, 46, 47, 48, 49, 50, 51, 52, 53, 54, 55, 56, 57, 58, 59, 60, 61, 62, 63, 64, 65, 66, 67, 68, 69, 70, 71, 72, 73, 74, 75, 76, 77, 78, 79, 80, 81, 82, 83, 84, 85, 86, 87, 88, 89, 90, 91, 92, 93, 94, 95, 96, 97, 98, 99], \"y\": [-2.5143134923113903, -0.6509188072601796, -1.0929806376167406, -2.608523012686631, -0.6515439074095098, -0.0333064701190502, 0.7606633089063881, 0.4128709184030706, -0.6631434605605585, 0.9383284809663233, -0.640923939094296, -1.451322224393623, -0.32452068357876357, 0.8560062510029888, 0.04874730079016477, -0.6502876099939146, 2.0300873604999925, 1.588622467301215, -0.02098210969456584, -0.5386063210027243, 0.3939456041421512, 0.5400582082029005, 1.2029381600400066, -1.599263794059734, 0.10677637474981985, 1.5243359839917698, -0.5531122529989283, 0.0018013257277539978, 0.007243731819215415, 0.3223473198321976, -1.0040855072140582, -0.5579320573624444, 1.0706742691410756, -0.6889035466203947, 0.2530161671325349, -1.743532298622672, -0.36352469284064715, 1.0313892282054828, -0.3987531022294804, -0.1400567640821582, 0.30414057790022453, -0.36640897480614737, -0.21419913181904907, 1.241243088420183, -0.6739876378558262, 0.07389182612537284, -0.03224726111307327, 1.1194329765894249, -0.6761821835514656, -1.6134368534742802, -0.41960299481596236, -0.19060574059427185, -0.11993860090379943, 0.31521309072533965, -2.021558231845061, -0.21644300192401225, -1.6877313200922548, -1.8076751235857098, -1.3852283577275846, -0.6661149941134256, 1.0063768444171797, 1.359618305861139, -1.469018277477196, -0.6577234211061695, -1.3683531470706467, -1.8237598616040247, 0.41753443738107054, -1.1526259185288221, -1.4323469934265356, -0.8830593669489718, 1.8431546945645012, -0.3625854899437133, 0.7694279154705537, 0.08941362971901017, 1.4660643585433049, 0.06829484146577768, -0.8511623078027825, -1.384913582089352, -1.1378261979375641, 0.38386522671538453, -1.2932844941271617, 0.7647470295737824, 0.2632165909128464, 1.2568833608738816, 1.2665194060352905, -1.760462544297134, -0.38007233523979733, -2.2853515965367737, 0.26537879693495575, -0.29996880981165763, -0.11434376808773915, 0.6228937735392496, -0.22652070309699104, -1.3926389582870053, -0.21170574994847616, -1.0759943427876493, 0.5140215484688332, 0.19608037262269554, -2.171579893652071, -0.7156074544641537]}, {\"line\": {\"color\": \"rgba(128, 0, 128, 1.0)\", \"dash\": \"solid\", \"shape\": \"linear\", \"width\": 1.3}, \"mode\": \"lines\", \"name\": \"D\", \"text\": \"\", \"type\": \"scatter\", \"x\": [0, 1, 2, 3, 4, 5, 6, 7, 8, 9, 10, 11, 12, 13, 14, 15, 16, 17, 18, 19, 20, 21, 22, 23, 24, 25, 26, 27, 28, 29, 30, 31, 32, 33, 34, 35, 36, 37, 38, 39, 40, 41, 42, 43, 44, 45, 46, 47, 48, 49, 50, 51, 52, 53, 54, 55, 56, 57, 58, 59, 60, 61, 62, 63, 64, 65, 66, 67, 68, 69, 70, 71, 72, 73, 74, 75, 76, 77, 78, 79, 80, 81, 82, 83, 84, 85, 86, 87, 88, 89, 90, 91, 92, 93, 94, 95, 96, 97, 98, 99], \"y\": [0.2635037826051746, -2.239900668127504, 0.6287513844324132, -2.1948221717203333, 0.6432799029201886, 1.209932206786237, -2.3545318574450134, 1.0745305466796755, -0.49275888145241564, -0.6669718697162098, 0.655200056418349, 1.5182651759676702, -1.5989561766263891, -0.5436935447528642, 0.1531899904145127, -1.253636332403664, 1.1026176291994954, 0.12708566121369286, -0.8535306920291047, -1.0248348769183893, -0.6045196815864822, -0.3953328860122542, 0.12003883366812776, 0.5953865334820625, -0.06212991230184508, 1.452689162912124, 0.4406880123087512, -1.613173683413528, 0.7772003829979456, -1.5631590743611659, 1.1444928651886228, -1.3607397426450984, 0.3505686485630722, 0.6601026213592619, 0.553392942363766, -0.23098918344720173, 0.8311318198942066, -0.08201430903256268, 0.2824545751892871, -0.03172367883037509, 0.3743088818050335, 0.5397953798154068, -1.2004762068784165, 0.2968361571745551, 0.14457907383222568, -0.5028088116733017, 0.5961255166425773, -1.7844469407248074, -2.496330914118227, -1.0261280768372907, 1.9368714651311647, -0.3674146748731469, 1.799442623225765, 0.2755359292972475, -0.14710677085185983, -0.687086704638258, 0.1999909696944079, 0.05105367380417333, -1.6961422920296267, 1.3147773687954898, 0.995116497484058, -0.8658822037081225, -0.004408572653071275, -1.4414798499456125, -0.5405079236279586, -0.533085208042458, 1.0943498426037666, -1.282138908622184, -0.6725787172001605, 0.43632191387047947, 1.8237296763666204, -1.7046840650369615, -0.860871824186915, 1.4634316445135658, 0.39371432565306586, -0.6469203777739958, -0.8556891941805826, -0.3353507357876152, 0.8028157715863787, -0.1639592906043109, -0.44702553786145677, -0.38310852317831606, -0.4570542510733638, 1.0845518642914551, 0.5169438264391508, -0.5641824896873722, 0.8100973323193629, 2.3351595477119416, -2.111058499254949, 0.5262861952143004, -0.853625275955298, -0.9682396772350652, -0.7774006438523732, -2.5104955678597096, 0.3598120367191213, -0.25608224070565877, 0.006413200965211256, 0.0524766666787389, 0.3074201403453346, 0.12702927894046318]}],\n",
       "                        {\"legend\": {\"bgcolor\": \"#F5F6F9\", \"font\": {\"color\": \"#4D5663\"}}, \"paper_bgcolor\": \"#F5F6F9\", \"plot_bgcolor\": \"#F5F6F9\", \"template\": {\"data\": {\"bar\": [{\"error_x\": {\"color\": \"#2a3f5f\"}, \"error_y\": {\"color\": \"#2a3f5f\"}, \"marker\": {\"line\": {\"color\": \"#E5ECF6\", \"width\": 0.5}}, \"type\": \"bar\"}], \"barpolar\": [{\"marker\": {\"line\": {\"color\": \"#E5ECF6\", \"width\": 0.5}}, \"type\": \"barpolar\"}], \"carpet\": [{\"aaxis\": {\"endlinecolor\": \"#2a3f5f\", \"gridcolor\": \"white\", \"linecolor\": \"white\", \"minorgridcolor\": \"white\", \"startlinecolor\": \"#2a3f5f\"}, \"baxis\": {\"endlinecolor\": \"#2a3f5f\", \"gridcolor\": \"white\", \"linecolor\": \"white\", \"minorgridcolor\": \"white\", \"startlinecolor\": \"#2a3f5f\"}, \"type\": \"carpet\"}], \"choropleth\": [{\"colorbar\": {\"outlinewidth\": 0, \"ticks\": \"\"}, \"type\": \"choropleth\"}], \"contour\": [{\"colorbar\": {\"outlinewidth\": 0, \"ticks\": \"\"}, \"colorscale\": [[0.0, \"#0d0887\"], [0.1111111111111111, \"#46039f\"], [0.2222222222222222, \"#7201a8\"], [0.3333333333333333, \"#9c179e\"], [0.4444444444444444, \"#bd3786\"], [0.5555555555555556, \"#d8576b\"], [0.6666666666666666, \"#ed7953\"], [0.7777777777777778, \"#fb9f3a\"], [0.8888888888888888, \"#fdca26\"], [1.0, \"#f0f921\"]], \"type\": \"contour\"}], \"contourcarpet\": [{\"colorbar\": {\"outlinewidth\": 0, \"ticks\": \"\"}, \"type\": \"contourcarpet\"}], \"heatmap\": [{\"colorbar\": {\"outlinewidth\": 0, \"ticks\": \"\"}, \"colorscale\": [[0.0, \"#0d0887\"], [0.1111111111111111, \"#46039f\"], [0.2222222222222222, \"#7201a8\"], [0.3333333333333333, \"#9c179e\"], [0.4444444444444444, \"#bd3786\"], [0.5555555555555556, \"#d8576b\"], [0.6666666666666666, \"#ed7953\"], [0.7777777777777778, \"#fb9f3a\"], [0.8888888888888888, \"#fdca26\"], [1.0, \"#f0f921\"]], \"type\": \"heatmap\"}], \"heatmapgl\": [{\"colorbar\": {\"outlinewidth\": 0, \"ticks\": \"\"}, \"colorscale\": [[0.0, \"#0d0887\"], [0.1111111111111111, \"#46039f\"], [0.2222222222222222, \"#7201a8\"], [0.3333333333333333, \"#9c179e\"], [0.4444444444444444, \"#bd3786\"], [0.5555555555555556, \"#d8576b\"], [0.6666666666666666, \"#ed7953\"], [0.7777777777777778, \"#fb9f3a\"], [0.8888888888888888, \"#fdca26\"], [1.0, \"#f0f921\"]], \"type\": \"heatmapgl\"}], \"histogram\": [{\"marker\": {\"colorbar\": {\"outlinewidth\": 0, \"ticks\": \"\"}}, \"type\": \"histogram\"}], \"histogram2d\": [{\"colorbar\": {\"outlinewidth\": 0, \"ticks\": \"\"}, \"colorscale\": [[0.0, \"#0d0887\"], [0.1111111111111111, \"#46039f\"], [0.2222222222222222, \"#7201a8\"], [0.3333333333333333, \"#9c179e\"], [0.4444444444444444, \"#bd3786\"], [0.5555555555555556, \"#d8576b\"], [0.6666666666666666, \"#ed7953\"], [0.7777777777777778, \"#fb9f3a\"], [0.8888888888888888, \"#fdca26\"], [1.0, \"#f0f921\"]], \"type\": \"histogram2d\"}], \"histogram2dcontour\": [{\"colorbar\": {\"outlinewidth\": 0, \"ticks\": \"\"}, \"colorscale\": [[0.0, \"#0d0887\"], [0.1111111111111111, \"#46039f\"], [0.2222222222222222, \"#7201a8\"], [0.3333333333333333, \"#9c179e\"], [0.4444444444444444, \"#bd3786\"], [0.5555555555555556, \"#d8576b\"], [0.6666666666666666, \"#ed7953\"], [0.7777777777777778, \"#fb9f3a\"], [0.8888888888888888, \"#fdca26\"], [1.0, \"#f0f921\"]], \"type\": \"histogram2dcontour\"}], \"mesh3d\": [{\"colorbar\": {\"outlinewidth\": 0, \"ticks\": \"\"}, \"type\": \"mesh3d\"}], \"parcoords\": [{\"line\": {\"colorbar\": {\"outlinewidth\": 0, \"ticks\": \"\"}}, \"type\": \"parcoords\"}], \"pie\": [{\"automargin\": true, \"type\": \"pie\"}], \"scatter\": [{\"marker\": {\"colorbar\": {\"outlinewidth\": 0, \"ticks\": \"\"}}, \"type\": \"scatter\"}], \"scatter3d\": [{\"line\": {\"colorbar\": {\"outlinewidth\": 0, \"ticks\": \"\"}}, \"marker\": {\"colorbar\": {\"outlinewidth\": 0, \"ticks\": \"\"}}, \"type\": \"scatter3d\"}], \"scattercarpet\": [{\"marker\": {\"colorbar\": {\"outlinewidth\": 0, \"ticks\": \"\"}}, \"type\": \"scattercarpet\"}], \"scattergeo\": [{\"marker\": {\"colorbar\": {\"outlinewidth\": 0, \"ticks\": \"\"}}, \"type\": \"scattergeo\"}], \"scattergl\": [{\"marker\": {\"colorbar\": {\"outlinewidth\": 0, \"ticks\": \"\"}}, \"type\": \"scattergl\"}], \"scattermapbox\": [{\"marker\": {\"colorbar\": {\"outlinewidth\": 0, \"ticks\": \"\"}}, \"type\": \"scattermapbox\"}], \"scatterpolar\": [{\"marker\": {\"colorbar\": {\"outlinewidth\": 0, \"ticks\": \"\"}}, \"type\": \"scatterpolar\"}], \"scatterpolargl\": [{\"marker\": {\"colorbar\": {\"outlinewidth\": 0, \"ticks\": \"\"}}, \"type\": \"scatterpolargl\"}], \"scatterternary\": [{\"marker\": {\"colorbar\": {\"outlinewidth\": 0, \"ticks\": \"\"}}, \"type\": \"scatterternary\"}], \"surface\": [{\"colorbar\": {\"outlinewidth\": 0, \"ticks\": \"\"}, \"colorscale\": [[0.0, \"#0d0887\"], [0.1111111111111111, \"#46039f\"], [0.2222222222222222, \"#7201a8\"], [0.3333333333333333, \"#9c179e\"], [0.4444444444444444, \"#bd3786\"], [0.5555555555555556, \"#d8576b\"], [0.6666666666666666, \"#ed7953\"], [0.7777777777777778, \"#fb9f3a\"], [0.8888888888888888, \"#fdca26\"], [1.0, \"#f0f921\"]], \"type\": \"surface\"}], \"table\": [{\"cells\": {\"fill\": {\"color\": \"#EBF0F8\"}, \"line\": {\"color\": \"white\"}}, \"header\": {\"fill\": {\"color\": \"#C8D4E3\"}, \"line\": {\"color\": \"white\"}}, \"type\": \"table\"}]}, \"layout\": {\"annotationdefaults\": {\"arrowcolor\": \"#2a3f5f\", \"arrowhead\": 0, \"arrowwidth\": 1}, \"coloraxis\": {\"colorbar\": {\"outlinewidth\": 0, \"ticks\": \"\"}}, \"colorscale\": {\"diverging\": [[0, \"#8e0152\"], [0.1, \"#c51b7d\"], [0.2, \"#de77ae\"], [0.3, \"#f1b6da\"], [0.4, \"#fde0ef\"], [0.5, \"#f7f7f7\"], [0.6, \"#e6f5d0\"], [0.7, \"#b8e186\"], [0.8, \"#7fbc41\"], [0.9, \"#4d9221\"], [1, \"#276419\"]], \"sequential\": [[0.0, \"#0d0887\"], [0.1111111111111111, \"#46039f\"], [0.2222222222222222, \"#7201a8\"], [0.3333333333333333, \"#9c179e\"], [0.4444444444444444, \"#bd3786\"], [0.5555555555555556, \"#d8576b\"], [0.6666666666666666, \"#ed7953\"], [0.7777777777777778, \"#fb9f3a\"], [0.8888888888888888, \"#fdca26\"], [1.0, \"#f0f921\"]], \"sequentialminus\": [[0.0, \"#0d0887\"], [0.1111111111111111, \"#46039f\"], [0.2222222222222222, \"#7201a8\"], [0.3333333333333333, \"#9c179e\"], [0.4444444444444444, \"#bd3786\"], [0.5555555555555556, \"#d8576b\"], [0.6666666666666666, \"#ed7953\"], [0.7777777777777778, \"#fb9f3a\"], [0.8888888888888888, \"#fdca26\"], [1.0, \"#f0f921\"]]}, \"colorway\": [\"#636efa\", \"#EF553B\", \"#00cc96\", \"#ab63fa\", \"#FFA15A\", \"#19d3f3\", \"#FF6692\", \"#B6E880\", \"#FF97FF\", \"#FECB52\"], \"font\": {\"color\": \"#2a3f5f\"}, \"geo\": {\"bgcolor\": \"white\", \"lakecolor\": \"white\", \"landcolor\": \"#E5ECF6\", \"showlakes\": true, \"showland\": true, \"subunitcolor\": \"white\"}, \"hoverlabel\": {\"align\": \"left\"}, \"hovermode\": \"closest\", \"mapbox\": {\"style\": \"light\"}, \"paper_bgcolor\": \"white\", \"plot_bgcolor\": \"#E5ECF6\", \"polar\": {\"angularaxis\": {\"gridcolor\": \"white\", \"linecolor\": \"white\", \"ticks\": \"\"}, \"bgcolor\": \"#E5ECF6\", \"radialaxis\": {\"gridcolor\": \"white\", \"linecolor\": \"white\", \"ticks\": \"\"}}, \"scene\": {\"xaxis\": {\"backgroundcolor\": \"#E5ECF6\", \"gridcolor\": \"white\", \"gridwidth\": 2, \"linecolor\": \"white\", \"showbackground\": true, \"ticks\": \"\", \"zerolinecolor\": \"white\"}, \"yaxis\": {\"backgroundcolor\": \"#E5ECF6\", \"gridcolor\": \"white\", \"gridwidth\": 2, \"linecolor\": \"white\", \"showbackground\": true, \"ticks\": \"\", \"zerolinecolor\": \"white\"}, \"zaxis\": {\"backgroundcolor\": \"#E5ECF6\", \"gridcolor\": \"white\", \"gridwidth\": 2, \"linecolor\": \"white\", \"showbackground\": true, \"ticks\": \"\", \"zerolinecolor\": \"white\"}}, \"shapedefaults\": {\"line\": {\"color\": \"#2a3f5f\"}}, \"ternary\": {\"aaxis\": {\"gridcolor\": \"white\", \"linecolor\": \"white\", \"ticks\": \"\"}, \"baxis\": {\"gridcolor\": \"white\", \"linecolor\": \"white\", \"ticks\": \"\"}, \"bgcolor\": \"#E5ECF6\", \"caxis\": {\"gridcolor\": \"white\", \"linecolor\": \"white\", \"ticks\": \"\"}}, \"title\": {\"x\": 0.05}, \"xaxis\": {\"automargin\": true, \"gridcolor\": \"white\", \"linecolor\": \"white\", \"ticks\": \"\", \"title\": {\"standoff\": 15}, \"zerolinecolor\": \"white\", \"zerolinewidth\": 2}, \"yaxis\": {\"automargin\": true, \"gridcolor\": \"white\", \"linecolor\": \"white\", \"ticks\": \"\", \"title\": {\"standoff\": 15}, \"zerolinecolor\": \"white\", \"zerolinewidth\": 2}}}, \"title\": {\"font\": {\"color\": \"#4D5663\"}}, \"xaxis\": {\"gridcolor\": \"#E1E5ED\", \"showgrid\": true, \"tickfont\": {\"color\": \"#4D5663\"}, \"title\": {\"font\": {\"color\": \"#4D5663\"}, \"text\": \"\"}, \"zerolinecolor\": \"#E1E5ED\"}, \"yaxis\": {\"gridcolor\": \"#E1E5ED\", \"showgrid\": true, \"tickfont\": {\"color\": \"#4D5663\"}, \"title\": {\"font\": {\"color\": \"#4D5663\"}, \"text\": \"\"}, \"zerolinecolor\": \"#E1E5ED\"}},\n",
       "                        {\"showLink\": true, \"linkText\": \"Export to plot.ly\", \"plotlyServerURL\": \"https://plot.ly\", \"responsive\": true}\n",
       "                    ).then(function(){\n",
       "                            \n",
       "var gd = document.getElementById('5ed8d271-c459-4a5b-8284-c5a6226c9ff4');\n",
       "var x = new MutationObserver(function (mutations, observer) {{\n",
       "        var display = window.getComputedStyle(gd).display;\n",
       "        if (!display || display === 'none') {{\n",
       "            console.log([gd, 'removed!']);\n",
       "            Plotly.purge(gd);\n",
       "            observer.disconnect();\n",
       "        }}\n",
       "}});\n",
       "\n",
       "// Listen for the removal of the full notebook cells\n",
       "var notebookContainer = gd.closest('#notebook-container');\n",
       "if (notebookContainer) {{\n",
       "    x.observe(notebookContainer, {childList: true});\n",
       "}}\n",
       "\n",
       "// Listen for the clearing of the current output cell\n",
       "var outputEl = gd.closest('.output');\n",
       "if (outputEl) {{\n",
       "    x.observe(outputEl, {childList: true});\n",
       "}}\n",
       "\n",
       "                        })\n",
       "                };\n",
       "                });\n",
       "            </script>\n",
       "        </div>"
      ]
     },
     "metadata": {},
     "output_type": "display_data"
    }
   ],
   "source": [
    "df.iplot()"
   ]
  },
  {
   "cell_type": "code",
   "execution_count": 34,
   "metadata": {},
   "outputs": [
    {
     "data": {
      "application/vnd.plotly.v1+json": {
       "config": {
        "linkText": "Export to plot.ly",
        "plotlyServerURL": "https://plot.ly",
        "showLink": true
       },
       "data": [
        {
         "line": {
          "color": "rgba(255, 153, 51, 1.0)",
          "dash": "solid",
          "shape": "linear",
          "width": 1.3
         },
         "marker": {
          "size": 5,
          "symbol": "circle"
         },
         "mode": "markers",
         "name": "B",
         "text": "",
         "type": "scatter",
         "x": [
          -1.7328184700099154,
          -0.6655392531642427,
          -0.5141887381353419,
          -0.5307819801565642,
          -1.118698345400647,
          -0.015307381413286457,
          -1.4557398829714918,
          0.8591588400819069,
          -0.26492340869200365,
          0.4967984376875904,
          0.04182940727328566,
          -1.7386011275388331,
          0.6969431444672501,
          -0.052871581583919115,
          -1.6601792523085324,
          0.05748666839097407,
          0.1837621355327402,
          1.4962874424816663,
          -0.6205832412165161,
          0.1520623253012091,
          -0.0038386316317565086,
          0.5512624161773946,
          0.2036636174075826,
          -1.52475862710216,
          0.9236883896430348,
          2.046445624318661,
          -1.6928966996502095,
          -0.49450683165912346,
          -0.32097571153166865,
          0.18429648757950035,
          0.9590315555760798,
          0.24518063014786312,
          1.1035536863820947,
          -0.4262789193890452,
          0.38796398237909235,
          0.06095890635811224,
          -0.12080953360031857,
          0.720045065572963,
          1.1384712663936534,
          0.91631532775539,
          -1.3971319160459976,
          0.15533512015255674,
          -0.24322476528350576,
          -1.876186615785088,
          1.3283670094396747,
          1.4762463769813379,
          -0.0720559521924466,
          0.7329609025539923,
          -0.6413826991069103,
          0.12982126874312913,
          1.518939354007646,
          -1.1545144296807108,
          0.1470207356938776,
          -0.6908031760314431,
          -0.055941386298454326,
          1.3156460053880759,
          0.619892489089758,
          0.6088290563295004,
          -0.5374672551116969,
          -0.6880550583755078,
          0.7168531852731158,
          0.007647487232779944,
          2.211320735120686,
          0.6438165866259979,
          -1.0666772238124416,
          1.1185433129275277,
          -1.7299998201445086,
          -0.25975599587783443,
          0.4226172574698807,
          0.3941769709373833,
          0.5160961375330596,
          1.81819966745681,
          0.7991786252320352,
          1.046987568805078,
          -1.128395723062902,
          1.7936925593507211,
          -0.5149323886783681,
          -0.9802210244604053,
          0.2019466283016788,
          0.5362430245906857,
          -1.8460225900728473,
          1.1210128548791507,
          0.4428581166140847,
          -0.3971102158075737,
          1.0099720456684251,
          0.04323912485309805,
          0.16186786619863405,
          -0.8532924235905249,
          0.5683047812022923,
          -0.7182340782336945,
          -0.33714320289360633,
          1.6558347652323795,
          0.4051329252254166,
          0.7723889649324748,
          0.9858257378129331,
          0.3393662311036916,
          1.251335110862688,
          -0.8894527872587709,
          0.022788498965433734,
          0.1529745603304253
         ],
         "y": [
          -0.5737945545380813,
          1.10681733267001,
          -0.8642735138565506,
          0.5403727191652674,
          1.3446585111575515,
          0.9707770371986021,
          -0.4758158228346009,
          -1.7206476733987262,
          -0.5213925667074699,
          -1.3160304741085156,
          1.7139340392948705,
          -1.081772196858882,
          0.6852193539140005,
          0.2357121945272125,
          -0.21621060736553435,
          -1.16561783610473,
          -0.7160992151206331,
          -0.7963619994131266,
          -5.734197369323232e-05,
          0.4121475843934423,
          -0.5346345063636659,
          0.9800828890027675,
          -0.17355190502161186,
          0.50663665254452,
          -0.9743640840943804,
          2.4442193260237777,
          -1.5127481904255589,
          -0.4463273169784612,
          0.2863886544997744,
          -2.6366488568868967,
          0.3399990001282703,
          -0.4238775381884636,
          0.09553159887378632,
          0.030443516590440534,
          -0.117465978296997,
          0.5680994389852261,
          0.8986361709059272,
          0.05807554994885092,
          -0.573788376859282,
          0.07770170114819182,
          -0.1532975170574101,
          -1.7259334090059024,
          1.9288714395457591,
          -0.5540020564911894,
          0.7437781696058638,
          0.09207992430893966,
          -0.09103602463885366,
          0.4550902656062467,
          -1.049078831656769,
          0.39971184330269044,
          1.8580764136015517,
          1.530549476657037,
          -1.550731195712601,
          -1.7384459910819856,
          -0.9078249514952067,
          -0.5390811901792363,
          2.0245770702001114,
          0.060145825037109524,
          0.19512977367730458,
          -0.906664515766312,
          -0.4579375421367402,
          1.5950732986077922,
          -0.06095303450437194,
          -0.7050404940898929,
          -0.7948447032770758,
          -0.5673176973672968,
          -1.2621608935191002,
          -0.6700539341340684,
          0.5446324881912484,
          -0.872920736801528,
          -0.917874519634289,
          -1.4537221534915523,
          0.16881163940843347,
          0.20088757260669715,
          0.18290911610110255,
          -1.476238336965387,
          -0.5561300294068415,
          -0.36454287791069184,
          -0.06220468912964303,
          -0.9794835695449904,
          1.9058757707845015,
          0.09730984282951217,
          0.974860478095882,
          -0.13908650831671687,
          0.7492916762415887,
          -0.5509520407165336,
          -0.6638932817154232,
          -0.08468534082475872,
          0.032786764332160115,
          -0.13758137168049833,
          1.0497203019324426,
          0.5940635515384379,
          -0.3397995017727589,
          0.2857793266688294,
          0.8331357511706957,
          0.24054536988523556,
          -0.6609910622382077,
          -1.015298446375443,
          0.7385713900137486,
          -0.43492175701388197
         ]
        }
       ],
       "layout": {
        "legend": {
         "bgcolor": "#F5F6F9",
         "font": {
          "color": "#4D5663"
         }
        },
        "paper_bgcolor": "#F5F6F9",
        "plot_bgcolor": "#F5F6F9",
        "template": {
         "data": {
          "bar": [
           {
            "error_x": {
             "color": "#2a3f5f"
            },
            "error_y": {
             "color": "#2a3f5f"
            },
            "marker": {
             "line": {
              "color": "#E5ECF6",
              "width": 0.5
             }
            },
            "type": "bar"
           }
          ],
          "barpolar": [
           {
            "marker": {
             "line": {
              "color": "#E5ECF6",
              "width": 0.5
             }
            },
            "type": "barpolar"
           }
          ],
          "carpet": [
           {
            "aaxis": {
             "endlinecolor": "#2a3f5f",
             "gridcolor": "white",
             "linecolor": "white",
             "minorgridcolor": "white",
             "startlinecolor": "#2a3f5f"
            },
            "baxis": {
             "endlinecolor": "#2a3f5f",
             "gridcolor": "white",
             "linecolor": "white",
             "minorgridcolor": "white",
             "startlinecolor": "#2a3f5f"
            },
            "type": "carpet"
           }
          ],
          "choropleth": [
           {
            "colorbar": {
             "outlinewidth": 0,
             "ticks": ""
            },
            "type": "choropleth"
           }
          ],
          "contour": [
           {
            "colorbar": {
             "outlinewidth": 0,
             "ticks": ""
            },
            "colorscale": [
             [
              0,
              "#0d0887"
             ],
             [
              0.1111111111111111,
              "#46039f"
             ],
             [
              0.2222222222222222,
              "#7201a8"
             ],
             [
              0.3333333333333333,
              "#9c179e"
             ],
             [
              0.4444444444444444,
              "#bd3786"
             ],
             [
              0.5555555555555556,
              "#d8576b"
             ],
             [
              0.6666666666666666,
              "#ed7953"
             ],
             [
              0.7777777777777778,
              "#fb9f3a"
             ],
             [
              0.8888888888888888,
              "#fdca26"
             ],
             [
              1,
              "#f0f921"
             ]
            ],
            "type": "contour"
           }
          ],
          "contourcarpet": [
           {
            "colorbar": {
             "outlinewidth": 0,
             "ticks": ""
            },
            "type": "contourcarpet"
           }
          ],
          "heatmap": [
           {
            "colorbar": {
             "outlinewidth": 0,
             "ticks": ""
            },
            "colorscale": [
             [
              0,
              "#0d0887"
             ],
             [
              0.1111111111111111,
              "#46039f"
             ],
             [
              0.2222222222222222,
              "#7201a8"
             ],
             [
              0.3333333333333333,
              "#9c179e"
             ],
             [
              0.4444444444444444,
              "#bd3786"
             ],
             [
              0.5555555555555556,
              "#d8576b"
             ],
             [
              0.6666666666666666,
              "#ed7953"
             ],
             [
              0.7777777777777778,
              "#fb9f3a"
             ],
             [
              0.8888888888888888,
              "#fdca26"
             ],
             [
              1,
              "#f0f921"
             ]
            ],
            "type": "heatmap"
           }
          ],
          "heatmapgl": [
           {
            "colorbar": {
             "outlinewidth": 0,
             "ticks": ""
            },
            "colorscale": [
             [
              0,
              "#0d0887"
             ],
             [
              0.1111111111111111,
              "#46039f"
             ],
             [
              0.2222222222222222,
              "#7201a8"
             ],
             [
              0.3333333333333333,
              "#9c179e"
             ],
             [
              0.4444444444444444,
              "#bd3786"
             ],
             [
              0.5555555555555556,
              "#d8576b"
             ],
             [
              0.6666666666666666,
              "#ed7953"
             ],
             [
              0.7777777777777778,
              "#fb9f3a"
             ],
             [
              0.8888888888888888,
              "#fdca26"
             ],
             [
              1,
              "#f0f921"
             ]
            ],
            "type": "heatmapgl"
           }
          ],
          "histogram": [
           {
            "marker": {
             "colorbar": {
              "outlinewidth": 0,
              "ticks": ""
             }
            },
            "type": "histogram"
           }
          ],
          "histogram2d": [
           {
            "colorbar": {
             "outlinewidth": 0,
             "ticks": ""
            },
            "colorscale": [
             [
              0,
              "#0d0887"
             ],
             [
              0.1111111111111111,
              "#46039f"
             ],
             [
              0.2222222222222222,
              "#7201a8"
             ],
             [
              0.3333333333333333,
              "#9c179e"
             ],
             [
              0.4444444444444444,
              "#bd3786"
             ],
             [
              0.5555555555555556,
              "#d8576b"
             ],
             [
              0.6666666666666666,
              "#ed7953"
             ],
             [
              0.7777777777777778,
              "#fb9f3a"
             ],
             [
              0.8888888888888888,
              "#fdca26"
             ],
             [
              1,
              "#f0f921"
             ]
            ],
            "type": "histogram2d"
           }
          ],
          "histogram2dcontour": [
           {
            "colorbar": {
             "outlinewidth": 0,
             "ticks": ""
            },
            "colorscale": [
             [
              0,
              "#0d0887"
             ],
             [
              0.1111111111111111,
              "#46039f"
             ],
             [
              0.2222222222222222,
              "#7201a8"
             ],
             [
              0.3333333333333333,
              "#9c179e"
             ],
             [
              0.4444444444444444,
              "#bd3786"
             ],
             [
              0.5555555555555556,
              "#d8576b"
             ],
             [
              0.6666666666666666,
              "#ed7953"
             ],
             [
              0.7777777777777778,
              "#fb9f3a"
             ],
             [
              0.8888888888888888,
              "#fdca26"
             ],
             [
              1,
              "#f0f921"
             ]
            ],
            "type": "histogram2dcontour"
           }
          ],
          "mesh3d": [
           {
            "colorbar": {
             "outlinewidth": 0,
             "ticks": ""
            },
            "type": "mesh3d"
           }
          ],
          "parcoords": [
           {
            "line": {
             "colorbar": {
              "outlinewidth": 0,
              "ticks": ""
             }
            },
            "type": "parcoords"
           }
          ],
          "pie": [
           {
            "automargin": true,
            "type": "pie"
           }
          ],
          "scatter": [
           {
            "marker": {
             "colorbar": {
              "outlinewidth": 0,
              "ticks": ""
             }
            },
            "type": "scatter"
           }
          ],
          "scatter3d": [
           {
            "line": {
             "colorbar": {
              "outlinewidth": 0,
              "ticks": ""
             }
            },
            "marker": {
             "colorbar": {
              "outlinewidth": 0,
              "ticks": ""
             }
            },
            "type": "scatter3d"
           }
          ],
          "scattercarpet": [
           {
            "marker": {
             "colorbar": {
              "outlinewidth": 0,
              "ticks": ""
             }
            },
            "type": "scattercarpet"
           }
          ],
          "scattergeo": [
           {
            "marker": {
             "colorbar": {
              "outlinewidth": 0,
              "ticks": ""
             }
            },
            "type": "scattergeo"
           }
          ],
          "scattergl": [
           {
            "marker": {
             "colorbar": {
              "outlinewidth": 0,
              "ticks": ""
             }
            },
            "type": "scattergl"
           }
          ],
          "scattermapbox": [
           {
            "marker": {
             "colorbar": {
              "outlinewidth": 0,
              "ticks": ""
             }
            },
            "type": "scattermapbox"
           }
          ],
          "scatterpolar": [
           {
            "marker": {
             "colorbar": {
              "outlinewidth": 0,
              "ticks": ""
             }
            },
            "type": "scatterpolar"
           }
          ],
          "scatterpolargl": [
           {
            "marker": {
             "colorbar": {
              "outlinewidth": 0,
              "ticks": ""
             }
            },
            "type": "scatterpolargl"
           }
          ],
          "scatterternary": [
           {
            "marker": {
             "colorbar": {
              "outlinewidth": 0,
              "ticks": ""
             }
            },
            "type": "scatterternary"
           }
          ],
          "surface": [
           {
            "colorbar": {
             "outlinewidth": 0,
             "ticks": ""
            },
            "colorscale": [
             [
              0,
              "#0d0887"
             ],
             [
              0.1111111111111111,
              "#46039f"
             ],
             [
              0.2222222222222222,
              "#7201a8"
             ],
             [
              0.3333333333333333,
              "#9c179e"
             ],
             [
              0.4444444444444444,
              "#bd3786"
             ],
             [
              0.5555555555555556,
              "#d8576b"
             ],
             [
              0.6666666666666666,
              "#ed7953"
             ],
             [
              0.7777777777777778,
              "#fb9f3a"
             ],
             [
              0.8888888888888888,
              "#fdca26"
             ],
             [
              1,
              "#f0f921"
             ]
            ],
            "type": "surface"
           }
          ],
          "table": [
           {
            "cells": {
             "fill": {
              "color": "#EBF0F8"
             },
             "line": {
              "color": "white"
             }
            },
            "header": {
             "fill": {
              "color": "#C8D4E3"
             },
             "line": {
              "color": "white"
             }
            },
            "type": "table"
           }
          ]
         },
         "layout": {
          "annotationdefaults": {
           "arrowcolor": "#2a3f5f",
           "arrowhead": 0,
           "arrowwidth": 1
          },
          "coloraxis": {
           "colorbar": {
            "outlinewidth": 0,
            "ticks": ""
           }
          },
          "colorscale": {
           "diverging": [
            [
             0,
             "#8e0152"
            ],
            [
             0.1,
             "#c51b7d"
            ],
            [
             0.2,
             "#de77ae"
            ],
            [
             0.3,
             "#f1b6da"
            ],
            [
             0.4,
             "#fde0ef"
            ],
            [
             0.5,
             "#f7f7f7"
            ],
            [
             0.6,
             "#e6f5d0"
            ],
            [
             0.7,
             "#b8e186"
            ],
            [
             0.8,
             "#7fbc41"
            ],
            [
             0.9,
             "#4d9221"
            ],
            [
             1,
             "#276419"
            ]
           ],
           "sequential": [
            [
             0,
             "#0d0887"
            ],
            [
             0.1111111111111111,
             "#46039f"
            ],
            [
             0.2222222222222222,
             "#7201a8"
            ],
            [
             0.3333333333333333,
             "#9c179e"
            ],
            [
             0.4444444444444444,
             "#bd3786"
            ],
            [
             0.5555555555555556,
             "#d8576b"
            ],
            [
             0.6666666666666666,
             "#ed7953"
            ],
            [
             0.7777777777777778,
             "#fb9f3a"
            ],
            [
             0.8888888888888888,
             "#fdca26"
            ],
            [
             1,
             "#f0f921"
            ]
           ],
           "sequentialminus": [
            [
             0,
             "#0d0887"
            ],
            [
             0.1111111111111111,
             "#46039f"
            ],
            [
             0.2222222222222222,
             "#7201a8"
            ],
            [
             0.3333333333333333,
             "#9c179e"
            ],
            [
             0.4444444444444444,
             "#bd3786"
            ],
            [
             0.5555555555555556,
             "#d8576b"
            ],
            [
             0.6666666666666666,
             "#ed7953"
            ],
            [
             0.7777777777777778,
             "#fb9f3a"
            ],
            [
             0.8888888888888888,
             "#fdca26"
            ],
            [
             1,
             "#f0f921"
            ]
           ]
          },
          "colorway": [
           "#636efa",
           "#EF553B",
           "#00cc96",
           "#ab63fa",
           "#FFA15A",
           "#19d3f3",
           "#FF6692",
           "#B6E880",
           "#FF97FF",
           "#FECB52"
          ],
          "font": {
           "color": "#2a3f5f"
          },
          "geo": {
           "bgcolor": "white",
           "lakecolor": "white",
           "landcolor": "#E5ECF6",
           "showlakes": true,
           "showland": true,
           "subunitcolor": "white"
          },
          "hoverlabel": {
           "align": "left"
          },
          "hovermode": "closest",
          "mapbox": {
           "style": "light"
          },
          "paper_bgcolor": "white",
          "plot_bgcolor": "#E5ECF6",
          "polar": {
           "angularaxis": {
            "gridcolor": "white",
            "linecolor": "white",
            "ticks": ""
           },
           "bgcolor": "#E5ECF6",
           "radialaxis": {
            "gridcolor": "white",
            "linecolor": "white",
            "ticks": ""
           }
          },
          "scene": {
           "xaxis": {
            "backgroundcolor": "#E5ECF6",
            "gridcolor": "white",
            "gridwidth": 2,
            "linecolor": "white",
            "showbackground": true,
            "ticks": "",
            "zerolinecolor": "white"
           },
           "yaxis": {
            "backgroundcolor": "#E5ECF6",
            "gridcolor": "white",
            "gridwidth": 2,
            "linecolor": "white",
            "showbackground": true,
            "ticks": "",
            "zerolinecolor": "white"
           },
           "zaxis": {
            "backgroundcolor": "#E5ECF6",
            "gridcolor": "white",
            "gridwidth": 2,
            "linecolor": "white",
            "showbackground": true,
            "ticks": "",
            "zerolinecolor": "white"
           }
          },
          "shapedefaults": {
           "line": {
            "color": "#2a3f5f"
           }
          },
          "ternary": {
           "aaxis": {
            "gridcolor": "white",
            "linecolor": "white",
            "ticks": ""
           },
           "baxis": {
            "gridcolor": "white",
            "linecolor": "white",
            "ticks": ""
           },
           "bgcolor": "#E5ECF6",
           "caxis": {
            "gridcolor": "white",
            "linecolor": "white",
            "ticks": ""
           }
          },
          "title": {
           "x": 0.05
          },
          "xaxis": {
           "automargin": true,
           "gridcolor": "white",
           "linecolor": "white",
           "ticks": "",
           "title": {
            "standoff": 15
           },
           "zerolinecolor": "white",
           "zerolinewidth": 2
          },
          "yaxis": {
           "automargin": true,
           "gridcolor": "white",
           "linecolor": "white",
           "ticks": "",
           "title": {
            "standoff": 15
           },
           "zerolinecolor": "white",
           "zerolinewidth": 2
          }
         }
        },
        "title": {
         "font": {
          "color": "#4D5663"
         }
        },
        "xaxis": {
         "gridcolor": "#E1E5ED",
         "showgrid": true,
         "tickfont": {
          "color": "#4D5663"
         },
         "title": {
          "font": {
           "color": "#4D5663"
          },
          "text": ""
         },
         "zerolinecolor": "#E1E5ED"
        },
        "yaxis": {
         "gridcolor": "#E1E5ED",
         "showgrid": true,
         "tickfont": {
          "color": "#4D5663"
         },
         "title": {
          "font": {
           "color": "#4D5663"
          },
          "text": ""
         },
         "zerolinecolor": "#E1E5ED"
        }
       }
      },
      "text/html": [
       "<div>\n",
       "        \n",
       "        \n",
       "            <div id=\"8c692ffd-fc66-46da-af5d-98b965d1df45\" class=\"plotly-graph-div\" style=\"height:525px; width:100%;\"></div>\n",
       "            <script type=\"text/javascript\">\n",
       "                require([\"plotly\"], function(Plotly) {\n",
       "                    window.PLOTLYENV=window.PLOTLYENV || {};\n",
       "                    window.PLOTLYENV.BASE_URL='https://plot.ly';\n",
       "                    \n",
       "                if (document.getElementById(\"8c692ffd-fc66-46da-af5d-98b965d1df45\")) {\n",
       "                    Plotly.newPlot(\n",
       "                        '8c692ffd-fc66-46da-af5d-98b965d1df45',\n",
       "                        [{\"line\": {\"color\": \"rgba(255, 153, 51, 1.0)\", \"dash\": \"solid\", \"shape\": \"linear\", \"width\": 1.3}, \"marker\": {\"size\": 5, \"symbol\": \"circle\"}, \"mode\": \"markers\", \"name\": \"B\", \"text\": \"\", \"type\": \"scatter\", \"x\": [-1.7328184700099154, -0.6655392531642427, -0.5141887381353419, -0.5307819801565642, -1.118698345400647, -0.015307381413286457, -1.4557398829714918, 0.8591588400819069, -0.26492340869200365, 0.4967984376875904, 0.04182940727328566, -1.7386011275388331, 0.6969431444672501, -0.052871581583919115, -1.6601792523085324, 0.05748666839097407, 0.1837621355327402, 1.4962874424816663, -0.6205832412165161, 0.1520623253012091, -0.0038386316317565086, 0.5512624161773946, 0.2036636174075826, -1.52475862710216, 0.9236883896430348, 2.046445624318661, -1.6928966996502095, -0.49450683165912346, -0.32097571153166865, 0.18429648757950035, 0.9590315555760798, 0.24518063014786312, 1.1035536863820947, -0.4262789193890452, 0.38796398237909235, 0.06095890635811224, -0.12080953360031857, 0.720045065572963, 1.1384712663936534, 0.91631532775539, -1.3971319160459976, 0.15533512015255674, -0.24322476528350576, -1.876186615785088, 1.3283670094396747, 1.4762463769813379, -0.0720559521924466, 0.7329609025539923, -0.6413826991069103, 0.12982126874312913, 1.518939354007646, -1.1545144296807108, 0.1470207356938776, -0.6908031760314431, -0.055941386298454326, 1.3156460053880759, 0.619892489089758, 0.6088290563295004, -0.5374672551116969, -0.6880550583755078, 0.7168531852731158, 0.007647487232779944, 2.211320735120686, 0.6438165866259979, -1.0666772238124416, 1.1185433129275277, -1.7299998201445086, -0.25975599587783443, 0.4226172574698807, 0.3941769709373833, 0.5160961375330596, 1.81819966745681, 0.7991786252320352, 1.046987568805078, -1.128395723062902, 1.7936925593507211, -0.5149323886783681, -0.9802210244604053, 0.2019466283016788, 0.5362430245906857, -1.8460225900728473, 1.1210128548791507, 0.4428581166140847, -0.3971102158075737, 1.0099720456684251, 0.04323912485309805, 0.16186786619863405, -0.8532924235905249, 0.5683047812022923, -0.7182340782336945, -0.33714320289360633, 1.6558347652323795, 0.4051329252254166, 0.7723889649324748, 0.9858257378129331, 0.3393662311036916, 1.251335110862688, -0.8894527872587709, 0.022788498965433734, 0.1529745603304253], \"y\": [-0.5737945545380813, 1.10681733267001, -0.8642735138565506, 0.5403727191652674, 1.3446585111575515, 0.9707770371986021, -0.4758158228346009, -1.7206476733987262, -0.5213925667074699, -1.3160304741085156, 1.7139340392948705, -1.081772196858882, 0.6852193539140005, 0.2357121945272125, -0.21621060736553435, -1.16561783610473, -0.7160992151206331, -0.7963619994131266, -5.734197369323232e-05, 0.4121475843934423, -0.5346345063636659, 0.9800828890027675, -0.17355190502161186, 0.50663665254452, -0.9743640840943804, 2.4442193260237777, -1.5127481904255589, -0.4463273169784612, 0.2863886544997744, -2.6366488568868967, 0.3399990001282703, -0.4238775381884636, 0.09553159887378632, 0.030443516590440534, -0.117465978296997, 0.5680994389852261, 0.8986361709059272, 0.05807554994885092, -0.573788376859282, 0.07770170114819182, -0.1532975170574101, -1.7259334090059024, 1.9288714395457591, -0.5540020564911894, 0.7437781696058638, 0.09207992430893966, -0.09103602463885366, 0.4550902656062467, -1.049078831656769, 0.39971184330269044, 1.8580764136015517, 1.530549476657037, -1.550731195712601, -1.7384459910819856, -0.9078249514952067, -0.5390811901792363, 2.0245770702001114, 0.060145825037109524, 0.19512977367730458, -0.906664515766312, -0.4579375421367402, 1.5950732986077922, -0.06095303450437194, -0.7050404940898929, -0.7948447032770758, -0.5673176973672968, -1.2621608935191002, -0.6700539341340684, 0.5446324881912484, -0.872920736801528, -0.917874519634289, -1.4537221534915523, 0.16881163940843347, 0.20088757260669715, 0.18290911610110255, -1.476238336965387, -0.5561300294068415, -0.36454287791069184, -0.06220468912964303, -0.9794835695449904, 1.9058757707845015, 0.09730984282951217, 0.974860478095882, -0.13908650831671687, 0.7492916762415887, -0.5509520407165336, -0.6638932817154232, -0.08468534082475872, 0.032786764332160115, -0.13758137168049833, 1.0497203019324426, 0.5940635515384379, -0.3397995017727589, 0.2857793266688294, 0.8331357511706957, 0.24054536988523556, -0.6609910622382077, -1.015298446375443, 0.7385713900137486, -0.43492175701388197]}],\n",
       "                        {\"legend\": {\"bgcolor\": \"#F5F6F9\", \"font\": {\"color\": \"#4D5663\"}}, \"paper_bgcolor\": \"#F5F6F9\", \"plot_bgcolor\": \"#F5F6F9\", \"template\": {\"data\": {\"bar\": [{\"error_x\": {\"color\": \"#2a3f5f\"}, \"error_y\": {\"color\": \"#2a3f5f\"}, \"marker\": {\"line\": {\"color\": \"#E5ECF6\", \"width\": 0.5}}, \"type\": \"bar\"}], \"barpolar\": [{\"marker\": {\"line\": {\"color\": \"#E5ECF6\", \"width\": 0.5}}, \"type\": \"barpolar\"}], \"carpet\": [{\"aaxis\": {\"endlinecolor\": \"#2a3f5f\", \"gridcolor\": \"white\", \"linecolor\": \"white\", \"minorgridcolor\": \"white\", \"startlinecolor\": \"#2a3f5f\"}, \"baxis\": {\"endlinecolor\": \"#2a3f5f\", \"gridcolor\": \"white\", \"linecolor\": \"white\", \"minorgridcolor\": \"white\", \"startlinecolor\": \"#2a3f5f\"}, \"type\": \"carpet\"}], \"choropleth\": [{\"colorbar\": {\"outlinewidth\": 0, \"ticks\": \"\"}, \"type\": \"choropleth\"}], \"contour\": [{\"colorbar\": {\"outlinewidth\": 0, \"ticks\": \"\"}, \"colorscale\": [[0.0, \"#0d0887\"], [0.1111111111111111, \"#46039f\"], [0.2222222222222222, \"#7201a8\"], [0.3333333333333333, \"#9c179e\"], [0.4444444444444444, \"#bd3786\"], [0.5555555555555556, \"#d8576b\"], [0.6666666666666666, \"#ed7953\"], [0.7777777777777778, \"#fb9f3a\"], [0.8888888888888888, \"#fdca26\"], [1.0, \"#f0f921\"]], \"type\": \"contour\"}], \"contourcarpet\": [{\"colorbar\": {\"outlinewidth\": 0, \"ticks\": \"\"}, \"type\": \"contourcarpet\"}], \"heatmap\": [{\"colorbar\": {\"outlinewidth\": 0, \"ticks\": \"\"}, \"colorscale\": [[0.0, \"#0d0887\"], [0.1111111111111111, \"#46039f\"], [0.2222222222222222, \"#7201a8\"], [0.3333333333333333, \"#9c179e\"], [0.4444444444444444, \"#bd3786\"], [0.5555555555555556, \"#d8576b\"], [0.6666666666666666, \"#ed7953\"], [0.7777777777777778, \"#fb9f3a\"], [0.8888888888888888, \"#fdca26\"], [1.0, \"#f0f921\"]], \"type\": \"heatmap\"}], \"heatmapgl\": [{\"colorbar\": {\"outlinewidth\": 0, \"ticks\": \"\"}, \"colorscale\": [[0.0, \"#0d0887\"], [0.1111111111111111, \"#46039f\"], [0.2222222222222222, \"#7201a8\"], [0.3333333333333333, \"#9c179e\"], [0.4444444444444444, \"#bd3786\"], [0.5555555555555556, \"#d8576b\"], [0.6666666666666666, \"#ed7953\"], [0.7777777777777778, \"#fb9f3a\"], [0.8888888888888888, \"#fdca26\"], [1.0, \"#f0f921\"]], \"type\": \"heatmapgl\"}], \"histogram\": [{\"marker\": {\"colorbar\": {\"outlinewidth\": 0, \"ticks\": \"\"}}, \"type\": \"histogram\"}], \"histogram2d\": [{\"colorbar\": {\"outlinewidth\": 0, \"ticks\": \"\"}, \"colorscale\": [[0.0, \"#0d0887\"], [0.1111111111111111, \"#46039f\"], [0.2222222222222222, \"#7201a8\"], [0.3333333333333333, \"#9c179e\"], [0.4444444444444444, \"#bd3786\"], [0.5555555555555556, \"#d8576b\"], [0.6666666666666666, \"#ed7953\"], [0.7777777777777778, \"#fb9f3a\"], [0.8888888888888888, \"#fdca26\"], [1.0, \"#f0f921\"]], \"type\": \"histogram2d\"}], \"histogram2dcontour\": [{\"colorbar\": {\"outlinewidth\": 0, \"ticks\": \"\"}, \"colorscale\": [[0.0, \"#0d0887\"], [0.1111111111111111, \"#46039f\"], [0.2222222222222222, \"#7201a8\"], [0.3333333333333333, \"#9c179e\"], [0.4444444444444444, \"#bd3786\"], [0.5555555555555556, \"#d8576b\"], [0.6666666666666666, \"#ed7953\"], [0.7777777777777778, \"#fb9f3a\"], [0.8888888888888888, \"#fdca26\"], [1.0, \"#f0f921\"]], \"type\": \"histogram2dcontour\"}], \"mesh3d\": [{\"colorbar\": {\"outlinewidth\": 0, \"ticks\": \"\"}, \"type\": \"mesh3d\"}], \"parcoords\": [{\"line\": {\"colorbar\": {\"outlinewidth\": 0, \"ticks\": \"\"}}, \"type\": \"parcoords\"}], \"pie\": [{\"automargin\": true, \"type\": \"pie\"}], \"scatter\": [{\"marker\": {\"colorbar\": {\"outlinewidth\": 0, \"ticks\": \"\"}}, \"type\": \"scatter\"}], \"scatter3d\": [{\"line\": {\"colorbar\": {\"outlinewidth\": 0, \"ticks\": \"\"}}, \"marker\": {\"colorbar\": {\"outlinewidth\": 0, \"ticks\": \"\"}}, \"type\": \"scatter3d\"}], \"scattercarpet\": [{\"marker\": {\"colorbar\": {\"outlinewidth\": 0, \"ticks\": \"\"}}, \"type\": \"scattercarpet\"}], \"scattergeo\": [{\"marker\": {\"colorbar\": {\"outlinewidth\": 0, \"ticks\": \"\"}}, \"type\": \"scattergeo\"}], \"scattergl\": [{\"marker\": {\"colorbar\": {\"outlinewidth\": 0, \"ticks\": \"\"}}, \"type\": \"scattergl\"}], \"scattermapbox\": [{\"marker\": {\"colorbar\": {\"outlinewidth\": 0, \"ticks\": \"\"}}, \"type\": \"scattermapbox\"}], \"scatterpolar\": [{\"marker\": {\"colorbar\": {\"outlinewidth\": 0, \"ticks\": \"\"}}, \"type\": \"scatterpolar\"}], \"scatterpolargl\": [{\"marker\": {\"colorbar\": {\"outlinewidth\": 0, \"ticks\": \"\"}}, \"type\": \"scatterpolargl\"}], \"scatterternary\": [{\"marker\": {\"colorbar\": {\"outlinewidth\": 0, \"ticks\": \"\"}}, \"type\": \"scatterternary\"}], \"surface\": [{\"colorbar\": {\"outlinewidth\": 0, \"ticks\": \"\"}, \"colorscale\": [[0.0, \"#0d0887\"], [0.1111111111111111, \"#46039f\"], [0.2222222222222222, \"#7201a8\"], [0.3333333333333333, \"#9c179e\"], [0.4444444444444444, \"#bd3786\"], [0.5555555555555556, \"#d8576b\"], [0.6666666666666666, \"#ed7953\"], [0.7777777777777778, \"#fb9f3a\"], [0.8888888888888888, \"#fdca26\"], [1.0, \"#f0f921\"]], \"type\": \"surface\"}], \"table\": [{\"cells\": {\"fill\": {\"color\": \"#EBF0F8\"}, \"line\": {\"color\": \"white\"}}, \"header\": {\"fill\": {\"color\": \"#C8D4E3\"}, \"line\": {\"color\": \"white\"}}, \"type\": \"table\"}]}, \"layout\": {\"annotationdefaults\": {\"arrowcolor\": \"#2a3f5f\", \"arrowhead\": 0, \"arrowwidth\": 1}, \"coloraxis\": {\"colorbar\": {\"outlinewidth\": 0, \"ticks\": \"\"}}, \"colorscale\": {\"diverging\": [[0, \"#8e0152\"], [0.1, \"#c51b7d\"], [0.2, \"#de77ae\"], [0.3, \"#f1b6da\"], [0.4, \"#fde0ef\"], [0.5, \"#f7f7f7\"], [0.6, \"#e6f5d0\"], [0.7, \"#b8e186\"], [0.8, \"#7fbc41\"], [0.9, \"#4d9221\"], [1, \"#276419\"]], \"sequential\": [[0.0, \"#0d0887\"], [0.1111111111111111, \"#46039f\"], [0.2222222222222222, \"#7201a8\"], [0.3333333333333333, \"#9c179e\"], [0.4444444444444444, \"#bd3786\"], [0.5555555555555556, \"#d8576b\"], [0.6666666666666666, \"#ed7953\"], [0.7777777777777778, \"#fb9f3a\"], [0.8888888888888888, \"#fdca26\"], [1.0, \"#f0f921\"]], \"sequentialminus\": [[0.0, \"#0d0887\"], [0.1111111111111111, \"#46039f\"], [0.2222222222222222, \"#7201a8\"], [0.3333333333333333, \"#9c179e\"], [0.4444444444444444, \"#bd3786\"], [0.5555555555555556, \"#d8576b\"], [0.6666666666666666, \"#ed7953\"], [0.7777777777777778, \"#fb9f3a\"], [0.8888888888888888, \"#fdca26\"], [1.0, \"#f0f921\"]]}, \"colorway\": [\"#636efa\", \"#EF553B\", \"#00cc96\", \"#ab63fa\", \"#FFA15A\", \"#19d3f3\", \"#FF6692\", \"#B6E880\", \"#FF97FF\", \"#FECB52\"], \"font\": {\"color\": \"#2a3f5f\"}, \"geo\": {\"bgcolor\": \"white\", \"lakecolor\": \"white\", \"landcolor\": \"#E5ECF6\", \"showlakes\": true, \"showland\": true, \"subunitcolor\": \"white\"}, \"hoverlabel\": {\"align\": \"left\"}, \"hovermode\": \"closest\", \"mapbox\": {\"style\": \"light\"}, \"paper_bgcolor\": \"white\", \"plot_bgcolor\": \"#E5ECF6\", \"polar\": {\"angularaxis\": {\"gridcolor\": \"white\", \"linecolor\": \"white\", \"ticks\": \"\"}, \"bgcolor\": \"#E5ECF6\", \"radialaxis\": {\"gridcolor\": \"white\", \"linecolor\": \"white\", \"ticks\": \"\"}}, \"scene\": {\"xaxis\": {\"backgroundcolor\": \"#E5ECF6\", \"gridcolor\": \"white\", \"gridwidth\": 2, \"linecolor\": \"white\", \"showbackground\": true, \"ticks\": \"\", \"zerolinecolor\": \"white\"}, \"yaxis\": {\"backgroundcolor\": \"#E5ECF6\", \"gridcolor\": \"white\", \"gridwidth\": 2, \"linecolor\": \"white\", \"showbackground\": true, \"ticks\": \"\", \"zerolinecolor\": \"white\"}, \"zaxis\": {\"backgroundcolor\": \"#E5ECF6\", \"gridcolor\": \"white\", \"gridwidth\": 2, \"linecolor\": \"white\", \"showbackground\": true, \"ticks\": \"\", \"zerolinecolor\": \"white\"}}, \"shapedefaults\": {\"line\": {\"color\": \"#2a3f5f\"}}, \"ternary\": {\"aaxis\": {\"gridcolor\": \"white\", \"linecolor\": \"white\", \"ticks\": \"\"}, \"baxis\": {\"gridcolor\": \"white\", \"linecolor\": \"white\", \"ticks\": \"\"}, \"bgcolor\": \"#E5ECF6\", \"caxis\": {\"gridcolor\": \"white\", \"linecolor\": \"white\", \"ticks\": \"\"}}, \"title\": {\"x\": 0.05}, \"xaxis\": {\"automargin\": true, \"gridcolor\": \"white\", \"linecolor\": \"white\", \"ticks\": \"\", \"title\": {\"standoff\": 15}, \"zerolinecolor\": \"white\", \"zerolinewidth\": 2}, \"yaxis\": {\"automargin\": true, \"gridcolor\": \"white\", \"linecolor\": \"white\", \"ticks\": \"\", \"title\": {\"standoff\": 15}, \"zerolinecolor\": \"white\", \"zerolinewidth\": 2}}}, \"title\": {\"font\": {\"color\": \"#4D5663\"}}, \"xaxis\": {\"gridcolor\": \"#E1E5ED\", \"showgrid\": true, \"tickfont\": {\"color\": \"#4D5663\"}, \"title\": {\"font\": {\"color\": \"#4D5663\"}, \"text\": \"\"}, \"zerolinecolor\": \"#E1E5ED\"}, \"yaxis\": {\"gridcolor\": \"#E1E5ED\", \"showgrid\": true, \"tickfont\": {\"color\": \"#4D5663\"}, \"title\": {\"font\": {\"color\": \"#4D5663\"}, \"text\": \"\"}, \"zerolinecolor\": \"#E1E5ED\"}},\n",
       "                        {\"showLink\": true, \"linkText\": \"Export to plot.ly\", \"plotlyServerURL\": \"https://plot.ly\", \"responsive\": true}\n",
       "                    ).then(function(){\n",
       "                            \n",
       "var gd = document.getElementById('8c692ffd-fc66-46da-af5d-98b965d1df45');\n",
       "var x = new MutationObserver(function (mutations, observer) {{\n",
       "        var display = window.getComputedStyle(gd).display;\n",
       "        if (!display || display === 'none') {{\n",
       "            console.log([gd, 'removed!']);\n",
       "            Plotly.purge(gd);\n",
       "            observer.disconnect();\n",
       "        }}\n",
       "}});\n",
       "\n",
       "// Listen for the removal of the full notebook cells\n",
       "var notebookContainer = gd.closest('#notebook-container');\n",
       "if (notebookContainer) {{\n",
       "    x.observe(notebookContainer, {childList: true});\n",
       "}}\n",
       "\n",
       "// Listen for the clearing of the current output cell\n",
       "var outputEl = gd.closest('.output');\n",
       "if (outputEl) {{\n",
       "    x.observe(outputEl, {childList: true});\n",
       "}}\n",
       "\n",
       "                        })\n",
       "                };\n",
       "                });\n",
       "            </script>\n",
       "        </div>"
      ]
     },
     "metadata": {},
     "output_type": "display_data"
    }
   ],
   "source": [
    "df.iplot(kind= 'scatter',x='A',y='B',mode = 'markers',size = 5)"
   ]
  },
  {
   "cell_type": "code",
   "execution_count": 40,
   "metadata": {},
   "outputs": [
    {
     "data": {
      "application/vnd.plotly.v1+json": {
       "config": {
        "linkText": "Export to plot.ly",
        "plotlyServerURL": "https://plot.ly",
        "showLink": true
       },
       "data": [
        {
         "marker": {
          "color": "rgba(255, 153, 51, 0.6)",
          "line": {
           "color": "rgba(255, 153, 51, 1.0)",
           "width": 1
          }
         },
         "name": "Values",
         "orientation": "v",
         "text": "",
         "type": "bar",
         "x": [
          "A",
          "B",
          "C"
         ],
         "y": [
          32,
          43,
          50
         ]
        }
       ],
       "layout": {
        "legend": {
         "bgcolor": "#F5F6F9",
         "font": {
          "color": "#4D5663"
         }
        },
        "paper_bgcolor": "#F5F6F9",
        "plot_bgcolor": "#F5F6F9",
        "template": {
         "data": {
          "bar": [
           {
            "error_x": {
             "color": "#2a3f5f"
            },
            "error_y": {
             "color": "#2a3f5f"
            },
            "marker": {
             "line": {
              "color": "#E5ECF6",
              "width": 0.5
             }
            },
            "type": "bar"
           }
          ],
          "barpolar": [
           {
            "marker": {
             "line": {
              "color": "#E5ECF6",
              "width": 0.5
             }
            },
            "type": "barpolar"
           }
          ],
          "carpet": [
           {
            "aaxis": {
             "endlinecolor": "#2a3f5f",
             "gridcolor": "white",
             "linecolor": "white",
             "minorgridcolor": "white",
             "startlinecolor": "#2a3f5f"
            },
            "baxis": {
             "endlinecolor": "#2a3f5f",
             "gridcolor": "white",
             "linecolor": "white",
             "minorgridcolor": "white",
             "startlinecolor": "#2a3f5f"
            },
            "type": "carpet"
           }
          ],
          "choropleth": [
           {
            "colorbar": {
             "outlinewidth": 0,
             "ticks": ""
            },
            "type": "choropleth"
           }
          ],
          "contour": [
           {
            "colorbar": {
             "outlinewidth": 0,
             "ticks": ""
            },
            "colorscale": [
             [
              0,
              "#0d0887"
             ],
             [
              0.1111111111111111,
              "#46039f"
             ],
             [
              0.2222222222222222,
              "#7201a8"
             ],
             [
              0.3333333333333333,
              "#9c179e"
             ],
             [
              0.4444444444444444,
              "#bd3786"
             ],
             [
              0.5555555555555556,
              "#d8576b"
             ],
             [
              0.6666666666666666,
              "#ed7953"
             ],
             [
              0.7777777777777778,
              "#fb9f3a"
             ],
             [
              0.8888888888888888,
              "#fdca26"
             ],
             [
              1,
              "#f0f921"
             ]
            ],
            "type": "contour"
           }
          ],
          "contourcarpet": [
           {
            "colorbar": {
             "outlinewidth": 0,
             "ticks": ""
            },
            "type": "contourcarpet"
           }
          ],
          "heatmap": [
           {
            "colorbar": {
             "outlinewidth": 0,
             "ticks": ""
            },
            "colorscale": [
             [
              0,
              "#0d0887"
             ],
             [
              0.1111111111111111,
              "#46039f"
             ],
             [
              0.2222222222222222,
              "#7201a8"
             ],
             [
              0.3333333333333333,
              "#9c179e"
             ],
             [
              0.4444444444444444,
              "#bd3786"
             ],
             [
              0.5555555555555556,
              "#d8576b"
             ],
             [
              0.6666666666666666,
              "#ed7953"
             ],
             [
              0.7777777777777778,
              "#fb9f3a"
             ],
             [
              0.8888888888888888,
              "#fdca26"
             ],
             [
              1,
              "#f0f921"
             ]
            ],
            "type": "heatmap"
           }
          ],
          "heatmapgl": [
           {
            "colorbar": {
             "outlinewidth": 0,
             "ticks": ""
            },
            "colorscale": [
             [
              0,
              "#0d0887"
             ],
             [
              0.1111111111111111,
              "#46039f"
             ],
             [
              0.2222222222222222,
              "#7201a8"
             ],
             [
              0.3333333333333333,
              "#9c179e"
             ],
             [
              0.4444444444444444,
              "#bd3786"
             ],
             [
              0.5555555555555556,
              "#d8576b"
             ],
             [
              0.6666666666666666,
              "#ed7953"
             ],
             [
              0.7777777777777778,
              "#fb9f3a"
             ],
             [
              0.8888888888888888,
              "#fdca26"
             ],
             [
              1,
              "#f0f921"
             ]
            ],
            "type": "heatmapgl"
           }
          ],
          "histogram": [
           {
            "marker": {
             "colorbar": {
              "outlinewidth": 0,
              "ticks": ""
             }
            },
            "type": "histogram"
           }
          ],
          "histogram2d": [
           {
            "colorbar": {
             "outlinewidth": 0,
             "ticks": ""
            },
            "colorscale": [
             [
              0,
              "#0d0887"
             ],
             [
              0.1111111111111111,
              "#46039f"
             ],
             [
              0.2222222222222222,
              "#7201a8"
             ],
             [
              0.3333333333333333,
              "#9c179e"
             ],
             [
              0.4444444444444444,
              "#bd3786"
             ],
             [
              0.5555555555555556,
              "#d8576b"
             ],
             [
              0.6666666666666666,
              "#ed7953"
             ],
             [
              0.7777777777777778,
              "#fb9f3a"
             ],
             [
              0.8888888888888888,
              "#fdca26"
             ],
             [
              1,
              "#f0f921"
             ]
            ],
            "type": "histogram2d"
           }
          ],
          "histogram2dcontour": [
           {
            "colorbar": {
             "outlinewidth": 0,
             "ticks": ""
            },
            "colorscale": [
             [
              0,
              "#0d0887"
             ],
             [
              0.1111111111111111,
              "#46039f"
             ],
             [
              0.2222222222222222,
              "#7201a8"
             ],
             [
              0.3333333333333333,
              "#9c179e"
             ],
             [
              0.4444444444444444,
              "#bd3786"
             ],
             [
              0.5555555555555556,
              "#d8576b"
             ],
             [
              0.6666666666666666,
              "#ed7953"
             ],
             [
              0.7777777777777778,
              "#fb9f3a"
             ],
             [
              0.8888888888888888,
              "#fdca26"
             ],
             [
              1,
              "#f0f921"
             ]
            ],
            "type": "histogram2dcontour"
           }
          ],
          "mesh3d": [
           {
            "colorbar": {
             "outlinewidth": 0,
             "ticks": ""
            },
            "type": "mesh3d"
           }
          ],
          "parcoords": [
           {
            "line": {
             "colorbar": {
              "outlinewidth": 0,
              "ticks": ""
             }
            },
            "type": "parcoords"
           }
          ],
          "pie": [
           {
            "automargin": true,
            "type": "pie"
           }
          ],
          "scatter": [
           {
            "marker": {
             "colorbar": {
              "outlinewidth": 0,
              "ticks": ""
             }
            },
            "type": "scatter"
           }
          ],
          "scatter3d": [
           {
            "line": {
             "colorbar": {
              "outlinewidth": 0,
              "ticks": ""
             }
            },
            "marker": {
             "colorbar": {
              "outlinewidth": 0,
              "ticks": ""
             }
            },
            "type": "scatter3d"
           }
          ],
          "scattercarpet": [
           {
            "marker": {
             "colorbar": {
              "outlinewidth": 0,
              "ticks": ""
             }
            },
            "type": "scattercarpet"
           }
          ],
          "scattergeo": [
           {
            "marker": {
             "colorbar": {
              "outlinewidth": 0,
              "ticks": ""
             }
            },
            "type": "scattergeo"
           }
          ],
          "scattergl": [
           {
            "marker": {
             "colorbar": {
              "outlinewidth": 0,
              "ticks": ""
             }
            },
            "type": "scattergl"
           }
          ],
          "scattermapbox": [
           {
            "marker": {
             "colorbar": {
              "outlinewidth": 0,
              "ticks": ""
             }
            },
            "type": "scattermapbox"
           }
          ],
          "scatterpolar": [
           {
            "marker": {
             "colorbar": {
              "outlinewidth": 0,
              "ticks": ""
             }
            },
            "type": "scatterpolar"
           }
          ],
          "scatterpolargl": [
           {
            "marker": {
             "colorbar": {
              "outlinewidth": 0,
              "ticks": ""
             }
            },
            "type": "scatterpolargl"
           }
          ],
          "scatterternary": [
           {
            "marker": {
             "colorbar": {
              "outlinewidth": 0,
              "ticks": ""
             }
            },
            "type": "scatterternary"
           }
          ],
          "surface": [
           {
            "colorbar": {
             "outlinewidth": 0,
             "ticks": ""
            },
            "colorscale": [
             [
              0,
              "#0d0887"
             ],
             [
              0.1111111111111111,
              "#46039f"
             ],
             [
              0.2222222222222222,
              "#7201a8"
             ],
             [
              0.3333333333333333,
              "#9c179e"
             ],
             [
              0.4444444444444444,
              "#bd3786"
             ],
             [
              0.5555555555555556,
              "#d8576b"
             ],
             [
              0.6666666666666666,
              "#ed7953"
             ],
             [
              0.7777777777777778,
              "#fb9f3a"
             ],
             [
              0.8888888888888888,
              "#fdca26"
             ],
             [
              1,
              "#f0f921"
             ]
            ],
            "type": "surface"
           }
          ],
          "table": [
           {
            "cells": {
             "fill": {
              "color": "#EBF0F8"
             },
             "line": {
              "color": "white"
             }
            },
            "header": {
             "fill": {
              "color": "#C8D4E3"
             },
             "line": {
              "color": "white"
             }
            },
            "type": "table"
           }
          ]
         },
         "layout": {
          "annotationdefaults": {
           "arrowcolor": "#2a3f5f",
           "arrowhead": 0,
           "arrowwidth": 1
          },
          "coloraxis": {
           "colorbar": {
            "outlinewidth": 0,
            "ticks": ""
           }
          },
          "colorscale": {
           "diverging": [
            [
             0,
             "#8e0152"
            ],
            [
             0.1,
             "#c51b7d"
            ],
            [
             0.2,
             "#de77ae"
            ],
            [
             0.3,
             "#f1b6da"
            ],
            [
             0.4,
             "#fde0ef"
            ],
            [
             0.5,
             "#f7f7f7"
            ],
            [
             0.6,
             "#e6f5d0"
            ],
            [
             0.7,
             "#b8e186"
            ],
            [
             0.8,
             "#7fbc41"
            ],
            [
             0.9,
             "#4d9221"
            ],
            [
             1,
             "#276419"
            ]
           ],
           "sequential": [
            [
             0,
             "#0d0887"
            ],
            [
             0.1111111111111111,
             "#46039f"
            ],
            [
             0.2222222222222222,
             "#7201a8"
            ],
            [
             0.3333333333333333,
             "#9c179e"
            ],
            [
             0.4444444444444444,
             "#bd3786"
            ],
            [
             0.5555555555555556,
             "#d8576b"
            ],
            [
             0.6666666666666666,
             "#ed7953"
            ],
            [
             0.7777777777777778,
             "#fb9f3a"
            ],
            [
             0.8888888888888888,
             "#fdca26"
            ],
            [
             1,
             "#f0f921"
            ]
           ],
           "sequentialminus": [
            [
             0,
             "#0d0887"
            ],
            [
             0.1111111111111111,
             "#46039f"
            ],
            [
             0.2222222222222222,
             "#7201a8"
            ],
            [
             0.3333333333333333,
             "#9c179e"
            ],
            [
             0.4444444444444444,
             "#bd3786"
            ],
            [
             0.5555555555555556,
             "#d8576b"
            ],
            [
             0.6666666666666666,
             "#ed7953"
            ],
            [
             0.7777777777777778,
             "#fb9f3a"
            ],
            [
             0.8888888888888888,
             "#fdca26"
            ],
            [
             1,
             "#f0f921"
            ]
           ]
          },
          "colorway": [
           "#636efa",
           "#EF553B",
           "#00cc96",
           "#ab63fa",
           "#FFA15A",
           "#19d3f3",
           "#FF6692",
           "#B6E880",
           "#FF97FF",
           "#FECB52"
          ],
          "font": {
           "color": "#2a3f5f"
          },
          "geo": {
           "bgcolor": "white",
           "lakecolor": "white",
           "landcolor": "#E5ECF6",
           "showlakes": true,
           "showland": true,
           "subunitcolor": "white"
          },
          "hoverlabel": {
           "align": "left"
          },
          "hovermode": "closest",
          "mapbox": {
           "style": "light"
          },
          "paper_bgcolor": "white",
          "plot_bgcolor": "#E5ECF6",
          "polar": {
           "angularaxis": {
            "gridcolor": "white",
            "linecolor": "white",
            "ticks": ""
           },
           "bgcolor": "#E5ECF6",
           "radialaxis": {
            "gridcolor": "white",
            "linecolor": "white",
            "ticks": ""
           }
          },
          "scene": {
           "xaxis": {
            "backgroundcolor": "#E5ECF6",
            "gridcolor": "white",
            "gridwidth": 2,
            "linecolor": "white",
            "showbackground": true,
            "ticks": "",
            "zerolinecolor": "white"
           },
           "yaxis": {
            "backgroundcolor": "#E5ECF6",
            "gridcolor": "white",
            "gridwidth": 2,
            "linecolor": "white",
            "showbackground": true,
            "ticks": "",
            "zerolinecolor": "white"
           },
           "zaxis": {
            "backgroundcolor": "#E5ECF6",
            "gridcolor": "white",
            "gridwidth": 2,
            "linecolor": "white",
            "showbackground": true,
            "ticks": "",
            "zerolinecolor": "white"
           }
          },
          "shapedefaults": {
           "line": {
            "color": "#2a3f5f"
           }
          },
          "ternary": {
           "aaxis": {
            "gridcolor": "white",
            "linecolor": "white",
            "ticks": ""
           },
           "baxis": {
            "gridcolor": "white",
            "linecolor": "white",
            "ticks": ""
           },
           "bgcolor": "#E5ECF6",
           "caxis": {
            "gridcolor": "white",
            "linecolor": "white",
            "ticks": ""
           }
          },
          "title": {
           "x": 0.05
          },
          "xaxis": {
           "automargin": true,
           "gridcolor": "white",
           "linecolor": "white",
           "ticks": "",
           "title": {
            "standoff": 15
           },
           "zerolinecolor": "white",
           "zerolinewidth": 2
          },
          "yaxis": {
           "automargin": true,
           "gridcolor": "white",
           "linecolor": "white",
           "ticks": "",
           "title": {
            "standoff": 15
           },
           "zerolinecolor": "white",
           "zerolinewidth": 2
          }
         }
        },
        "title": {
         "font": {
          "color": "#4D5663"
         }
        },
        "xaxis": {
         "gridcolor": "#E1E5ED",
         "showgrid": true,
         "tickfont": {
          "color": "#4D5663"
         },
         "title": {
          "font": {
           "color": "#4D5663"
          },
          "text": "Category"
         },
         "zerolinecolor": "#E1E5ED"
        },
        "yaxis": {
         "gridcolor": "#E1E5ED",
         "showgrid": true,
         "tickfont": {
          "color": "#4D5663"
         },
         "title": {
          "font": {
           "color": "#4D5663"
          },
          "text": "Values"
         },
         "zerolinecolor": "#E1E5ED"
        }
       }
      },
      "text/html": [
       "<div>\n",
       "        \n",
       "        \n",
       "            <div id=\"3e6e6d86-3b45-4762-a7a2-af59d96af6af\" class=\"plotly-graph-div\" style=\"height:525px; width:100%;\"></div>\n",
       "            <script type=\"text/javascript\">\n",
       "                require([\"plotly\"], function(Plotly) {\n",
       "                    window.PLOTLYENV=window.PLOTLYENV || {};\n",
       "                    window.PLOTLYENV.BASE_URL='https://plot.ly';\n",
       "                    \n",
       "                if (document.getElementById(\"3e6e6d86-3b45-4762-a7a2-af59d96af6af\")) {\n",
       "                    Plotly.newPlot(\n",
       "                        '3e6e6d86-3b45-4762-a7a2-af59d96af6af',\n",
       "                        [{\"marker\": {\"color\": \"rgba(255, 153, 51, 0.6)\", \"line\": {\"color\": \"rgba(255, 153, 51, 1.0)\", \"width\": 1}}, \"name\": \"Values\", \"orientation\": \"v\", \"text\": \"\", \"type\": \"bar\", \"x\": [\"A\", \"B\", \"C\"], \"y\": [32, 43, 50]}],\n",
       "                        {\"legend\": {\"bgcolor\": \"#F5F6F9\", \"font\": {\"color\": \"#4D5663\"}}, \"paper_bgcolor\": \"#F5F6F9\", \"plot_bgcolor\": \"#F5F6F9\", \"template\": {\"data\": {\"bar\": [{\"error_x\": {\"color\": \"#2a3f5f\"}, \"error_y\": {\"color\": \"#2a3f5f\"}, \"marker\": {\"line\": {\"color\": \"#E5ECF6\", \"width\": 0.5}}, \"type\": \"bar\"}], \"barpolar\": [{\"marker\": {\"line\": {\"color\": \"#E5ECF6\", \"width\": 0.5}}, \"type\": \"barpolar\"}], \"carpet\": [{\"aaxis\": {\"endlinecolor\": \"#2a3f5f\", \"gridcolor\": \"white\", \"linecolor\": \"white\", \"minorgridcolor\": \"white\", \"startlinecolor\": \"#2a3f5f\"}, \"baxis\": {\"endlinecolor\": \"#2a3f5f\", \"gridcolor\": \"white\", \"linecolor\": \"white\", \"minorgridcolor\": \"white\", \"startlinecolor\": \"#2a3f5f\"}, \"type\": \"carpet\"}], \"choropleth\": [{\"colorbar\": {\"outlinewidth\": 0, \"ticks\": \"\"}, \"type\": \"choropleth\"}], \"contour\": [{\"colorbar\": {\"outlinewidth\": 0, \"ticks\": \"\"}, \"colorscale\": [[0.0, \"#0d0887\"], [0.1111111111111111, \"#46039f\"], [0.2222222222222222, \"#7201a8\"], [0.3333333333333333, \"#9c179e\"], [0.4444444444444444, \"#bd3786\"], [0.5555555555555556, \"#d8576b\"], [0.6666666666666666, \"#ed7953\"], [0.7777777777777778, \"#fb9f3a\"], [0.8888888888888888, \"#fdca26\"], [1.0, \"#f0f921\"]], \"type\": \"contour\"}], \"contourcarpet\": [{\"colorbar\": {\"outlinewidth\": 0, \"ticks\": \"\"}, \"type\": \"contourcarpet\"}], \"heatmap\": [{\"colorbar\": {\"outlinewidth\": 0, \"ticks\": \"\"}, \"colorscale\": [[0.0, \"#0d0887\"], [0.1111111111111111, \"#46039f\"], [0.2222222222222222, \"#7201a8\"], [0.3333333333333333, \"#9c179e\"], [0.4444444444444444, \"#bd3786\"], [0.5555555555555556, \"#d8576b\"], [0.6666666666666666, \"#ed7953\"], [0.7777777777777778, \"#fb9f3a\"], [0.8888888888888888, \"#fdca26\"], [1.0, \"#f0f921\"]], \"type\": \"heatmap\"}], \"heatmapgl\": [{\"colorbar\": {\"outlinewidth\": 0, \"ticks\": \"\"}, \"colorscale\": [[0.0, \"#0d0887\"], [0.1111111111111111, \"#46039f\"], [0.2222222222222222, \"#7201a8\"], [0.3333333333333333, \"#9c179e\"], [0.4444444444444444, \"#bd3786\"], [0.5555555555555556, \"#d8576b\"], [0.6666666666666666, \"#ed7953\"], [0.7777777777777778, \"#fb9f3a\"], [0.8888888888888888, \"#fdca26\"], [1.0, \"#f0f921\"]], \"type\": \"heatmapgl\"}], \"histogram\": [{\"marker\": {\"colorbar\": {\"outlinewidth\": 0, \"ticks\": \"\"}}, \"type\": \"histogram\"}], \"histogram2d\": [{\"colorbar\": {\"outlinewidth\": 0, \"ticks\": \"\"}, \"colorscale\": [[0.0, \"#0d0887\"], [0.1111111111111111, \"#46039f\"], [0.2222222222222222, \"#7201a8\"], [0.3333333333333333, \"#9c179e\"], [0.4444444444444444, \"#bd3786\"], [0.5555555555555556, \"#d8576b\"], [0.6666666666666666, \"#ed7953\"], [0.7777777777777778, \"#fb9f3a\"], [0.8888888888888888, \"#fdca26\"], [1.0, \"#f0f921\"]], \"type\": \"histogram2d\"}], \"histogram2dcontour\": [{\"colorbar\": {\"outlinewidth\": 0, \"ticks\": \"\"}, \"colorscale\": [[0.0, \"#0d0887\"], [0.1111111111111111, \"#46039f\"], [0.2222222222222222, \"#7201a8\"], [0.3333333333333333, \"#9c179e\"], [0.4444444444444444, \"#bd3786\"], [0.5555555555555556, \"#d8576b\"], [0.6666666666666666, \"#ed7953\"], [0.7777777777777778, \"#fb9f3a\"], [0.8888888888888888, \"#fdca26\"], [1.0, \"#f0f921\"]], \"type\": \"histogram2dcontour\"}], \"mesh3d\": [{\"colorbar\": {\"outlinewidth\": 0, \"ticks\": \"\"}, \"type\": \"mesh3d\"}], \"parcoords\": [{\"line\": {\"colorbar\": {\"outlinewidth\": 0, \"ticks\": \"\"}}, \"type\": \"parcoords\"}], \"pie\": [{\"automargin\": true, \"type\": \"pie\"}], \"scatter\": [{\"marker\": {\"colorbar\": {\"outlinewidth\": 0, \"ticks\": \"\"}}, \"type\": \"scatter\"}], \"scatter3d\": [{\"line\": {\"colorbar\": {\"outlinewidth\": 0, \"ticks\": \"\"}}, \"marker\": {\"colorbar\": {\"outlinewidth\": 0, \"ticks\": \"\"}}, \"type\": \"scatter3d\"}], \"scattercarpet\": [{\"marker\": {\"colorbar\": {\"outlinewidth\": 0, \"ticks\": \"\"}}, \"type\": \"scattercarpet\"}], \"scattergeo\": [{\"marker\": {\"colorbar\": {\"outlinewidth\": 0, \"ticks\": \"\"}}, \"type\": \"scattergeo\"}], \"scattergl\": [{\"marker\": {\"colorbar\": {\"outlinewidth\": 0, \"ticks\": \"\"}}, \"type\": \"scattergl\"}], \"scattermapbox\": [{\"marker\": {\"colorbar\": {\"outlinewidth\": 0, \"ticks\": \"\"}}, \"type\": \"scattermapbox\"}], \"scatterpolar\": [{\"marker\": {\"colorbar\": {\"outlinewidth\": 0, \"ticks\": \"\"}}, \"type\": \"scatterpolar\"}], \"scatterpolargl\": [{\"marker\": {\"colorbar\": {\"outlinewidth\": 0, \"ticks\": \"\"}}, \"type\": \"scatterpolargl\"}], \"scatterternary\": [{\"marker\": {\"colorbar\": {\"outlinewidth\": 0, \"ticks\": \"\"}}, \"type\": \"scatterternary\"}], \"surface\": [{\"colorbar\": {\"outlinewidth\": 0, \"ticks\": \"\"}, \"colorscale\": [[0.0, \"#0d0887\"], [0.1111111111111111, \"#46039f\"], [0.2222222222222222, \"#7201a8\"], [0.3333333333333333, \"#9c179e\"], [0.4444444444444444, \"#bd3786\"], [0.5555555555555556, \"#d8576b\"], [0.6666666666666666, \"#ed7953\"], [0.7777777777777778, \"#fb9f3a\"], [0.8888888888888888, \"#fdca26\"], [1.0, \"#f0f921\"]], \"type\": \"surface\"}], \"table\": [{\"cells\": {\"fill\": {\"color\": \"#EBF0F8\"}, \"line\": {\"color\": \"white\"}}, \"header\": {\"fill\": {\"color\": \"#C8D4E3\"}, \"line\": {\"color\": \"white\"}}, \"type\": \"table\"}]}, \"layout\": {\"annotationdefaults\": {\"arrowcolor\": \"#2a3f5f\", \"arrowhead\": 0, \"arrowwidth\": 1}, \"coloraxis\": {\"colorbar\": {\"outlinewidth\": 0, \"ticks\": \"\"}}, \"colorscale\": {\"diverging\": [[0, \"#8e0152\"], [0.1, \"#c51b7d\"], [0.2, \"#de77ae\"], [0.3, \"#f1b6da\"], [0.4, \"#fde0ef\"], [0.5, \"#f7f7f7\"], [0.6, \"#e6f5d0\"], [0.7, \"#b8e186\"], [0.8, \"#7fbc41\"], [0.9, \"#4d9221\"], [1, \"#276419\"]], \"sequential\": [[0.0, \"#0d0887\"], [0.1111111111111111, \"#46039f\"], [0.2222222222222222, \"#7201a8\"], [0.3333333333333333, \"#9c179e\"], [0.4444444444444444, \"#bd3786\"], [0.5555555555555556, \"#d8576b\"], [0.6666666666666666, \"#ed7953\"], [0.7777777777777778, \"#fb9f3a\"], [0.8888888888888888, \"#fdca26\"], [1.0, \"#f0f921\"]], \"sequentialminus\": [[0.0, \"#0d0887\"], [0.1111111111111111, \"#46039f\"], [0.2222222222222222, \"#7201a8\"], [0.3333333333333333, \"#9c179e\"], [0.4444444444444444, \"#bd3786\"], [0.5555555555555556, \"#d8576b\"], [0.6666666666666666, \"#ed7953\"], [0.7777777777777778, \"#fb9f3a\"], [0.8888888888888888, \"#fdca26\"], [1.0, \"#f0f921\"]]}, \"colorway\": [\"#636efa\", \"#EF553B\", \"#00cc96\", \"#ab63fa\", \"#FFA15A\", \"#19d3f3\", \"#FF6692\", \"#B6E880\", \"#FF97FF\", \"#FECB52\"], \"font\": {\"color\": \"#2a3f5f\"}, \"geo\": {\"bgcolor\": \"white\", \"lakecolor\": \"white\", \"landcolor\": \"#E5ECF6\", \"showlakes\": true, \"showland\": true, \"subunitcolor\": \"white\"}, \"hoverlabel\": {\"align\": \"left\"}, \"hovermode\": \"closest\", \"mapbox\": {\"style\": \"light\"}, \"paper_bgcolor\": \"white\", \"plot_bgcolor\": \"#E5ECF6\", \"polar\": {\"angularaxis\": {\"gridcolor\": \"white\", \"linecolor\": \"white\", \"ticks\": \"\"}, \"bgcolor\": \"#E5ECF6\", \"radialaxis\": {\"gridcolor\": \"white\", \"linecolor\": \"white\", \"ticks\": \"\"}}, \"scene\": {\"xaxis\": {\"backgroundcolor\": \"#E5ECF6\", \"gridcolor\": \"white\", \"gridwidth\": 2, \"linecolor\": \"white\", \"showbackground\": true, \"ticks\": \"\", \"zerolinecolor\": \"white\"}, \"yaxis\": {\"backgroundcolor\": \"#E5ECF6\", \"gridcolor\": \"white\", \"gridwidth\": 2, \"linecolor\": \"white\", \"showbackground\": true, \"ticks\": \"\", \"zerolinecolor\": \"white\"}, \"zaxis\": {\"backgroundcolor\": \"#E5ECF6\", \"gridcolor\": \"white\", \"gridwidth\": 2, \"linecolor\": \"white\", \"showbackground\": true, \"ticks\": \"\", \"zerolinecolor\": \"white\"}}, \"shapedefaults\": {\"line\": {\"color\": \"#2a3f5f\"}}, \"ternary\": {\"aaxis\": {\"gridcolor\": \"white\", \"linecolor\": \"white\", \"ticks\": \"\"}, \"baxis\": {\"gridcolor\": \"white\", \"linecolor\": \"white\", \"ticks\": \"\"}, \"bgcolor\": \"#E5ECF6\", \"caxis\": {\"gridcolor\": \"white\", \"linecolor\": \"white\", \"ticks\": \"\"}}, \"title\": {\"x\": 0.05}, \"xaxis\": {\"automargin\": true, \"gridcolor\": \"white\", \"linecolor\": \"white\", \"ticks\": \"\", \"title\": {\"standoff\": 15}, \"zerolinecolor\": \"white\", \"zerolinewidth\": 2}, \"yaxis\": {\"automargin\": true, \"gridcolor\": \"white\", \"linecolor\": \"white\", \"ticks\": \"\", \"title\": {\"standoff\": 15}, \"zerolinecolor\": \"white\", \"zerolinewidth\": 2}}}, \"title\": {\"font\": {\"color\": \"#4D5663\"}}, \"xaxis\": {\"gridcolor\": \"#E1E5ED\", \"showgrid\": true, \"tickfont\": {\"color\": \"#4D5663\"}, \"title\": {\"font\": {\"color\": \"#4D5663\"}, \"text\": \"Category\"}, \"zerolinecolor\": \"#E1E5ED\"}, \"yaxis\": {\"gridcolor\": \"#E1E5ED\", \"showgrid\": true, \"tickfont\": {\"color\": \"#4D5663\"}, \"title\": {\"font\": {\"color\": \"#4D5663\"}, \"text\": \"Values\"}, \"zerolinecolor\": \"#E1E5ED\"}},\n",
       "                        {\"showLink\": true, \"linkText\": \"Export to plot.ly\", \"plotlyServerURL\": \"https://plot.ly\", \"responsive\": true}\n",
       "                    ).then(function(){\n",
       "                            \n",
       "var gd = document.getElementById('3e6e6d86-3b45-4762-a7a2-af59d96af6af');\n",
       "var x = new MutationObserver(function (mutations, observer) {{\n",
       "        var display = window.getComputedStyle(gd).display;\n",
       "        if (!display || display === 'none') {{\n",
       "            console.log([gd, 'removed!']);\n",
       "            Plotly.purge(gd);\n",
       "            observer.disconnect();\n",
       "        }}\n",
       "}});\n",
       "\n",
       "// Listen for the removal of the full notebook cells\n",
       "var notebookContainer = gd.closest('#notebook-container');\n",
       "if (notebookContainer) {{\n",
       "    x.observe(notebookContainer, {childList: true});\n",
       "}}\n",
       "\n",
       "// Listen for the clearing of the current output cell\n",
       "var outputEl = gd.closest('.output');\n",
       "if (outputEl) {{\n",
       "    x.observe(outputEl, {childList: true});\n",
       "}}\n",
       "\n",
       "                        })\n",
       "                };\n",
       "                });\n",
       "            </script>\n",
       "        </div>"
      ]
     },
     "metadata": {},
     "output_type": "display_data"
    }
   ],
   "source": [
    "df2.iplot(kind = 'bar',x='Category',y='Values',xTitle='Category',yTitle='Values')"
   ]
  },
  {
   "cell_type": "code",
   "execution_count": 41,
   "metadata": {},
   "outputs": [
    {
     "data": {
      "application/vnd.plotly.v1+json": {
       "config": {
        "linkText": "Export to plot.ly",
        "plotlyServerURL": "https://plot.ly",
        "showLink": true
       },
       "data": [
        {
         "marker": {
          "color": "rgba(255, 153, 51, 0.6)",
          "line": {
           "color": "rgba(255, 153, 51, 1.0)",
           "width": 1
          }
         },
         "name": "None",
         "orientation": "v",
         "text": "",
         "type": "bar",
         "x": [
          "A",
          "B",
          "C",
          "D"
         ],
         "y": [
          9.58618666106535,
          -8.508492950125607,
          -26.735537160531706,
          -13.061700657995143
         ]
        }
       ],
       "layout": {
        "legend": {
         "bgcolor": "#F5F6F9",
         "font": {
          "color": "#4D5663"
         }
        },
        "paper_bgcolor": "#F5F6F9",
        "plot_bgcolor": "#F5F6F9",
        "template": {
         "data": {
          "bar": [
           {
            "error_x": {
             "color": "#2a3f5f"
            },
            "error_y": {
             "color": "#2a3f5f"
            },
            "marker": {
             "line": {
              "color": "#E5ECF6",
              "width": 0.5
             }
            },
            "type": "bar"
           }
          ],
          "barpolar": [
           {
            "marker": {
             "line": {
              "color": "#E5ECF6",
              "width": 0.5
             }
            },
            "type": "barpolar"
           }
          ],
          "carpet": [
           {
            "aaxis": {
             "endlinecolor": "#2a3f5f",
             "gridcolor": "white",
             "linecolor": "white",
             "minorgridcolor": "white",
             "startlinecolor": "#2a3f5f"
            },
            "baxis": {
             "endlinecolor": "#2a3f5f",
             "gridcolor": "white",
             "linecolor": "white",
             "minorgridcolor": "white",
             "startlinecolor": "#2a3f5f"
            },
            "type": "carpet"
           }
          ],
          "choropleth": [
           {
            "colorbar": {
             "outlinewidth": 0,
             "ticks": ""
            },
            "type": "choropleth"
           }
          ],
          "contour": [
           {
            "colorbar": {
             "outlinewidth": 0,
             "ticks": ""
            },
            "colorscale": [
             [
              0,
              "#0d0887"
             ],
             [
              0.1111111111111111,
              "#46039f"
             ],
             [
              0.2222222222222222,
              "#7201a8"
             ],
             [
              0.3333333333333333,
              "#9c179e"
             ],
             [
              0.4444444444444444,
              "#bd3786"
             ],
             [
              0.5555555555555556,
              "#d8576b"
             ],
             [
              0.6666666666666666,
              "#ed7953"
             ],
             [
              0.7777777777777778,
              "#fb9f3a"
             ],
             [
              0.8888888888888888,
              "#fdca26"
             ],
             [
              1,
              "#f0f921"
             ]
            ],
            "type": "contour"
           }
          ],
          "contourcarpet": [
           {
            "colorbar": {
             "outlinewidth": 0,
             "ticks": ""
            },
            "type": "contourcarpet"
           }
          ],
          "heatmap": [
           {
            "colorbar": {
             "outlinewidth": 0,
             "ticks": ""
            },
            "colorscale": [
             [
              0,
              "#0d0887"
             ],
             [
              0.1111111111111111,
              "#46039f"
             ],
             [
              0.2222222222222222,
              "#7201a8"
             ],
             [
              0.3333333333333333,
              "#9c179e"
             ],
             [
              0.4444444444444444,
              "#bd3786"
             ],
             [
              0.5555555555555556,
              "#d8576b"
             ],
             [
              0.6666666666666666,
              "#ed7953"
             ],
             [
              0.7777777777777778,
              "#fb9f3a"
             ],
             [
              0.8888888888888888,
              "#fdca26"
             ],
             [
              1,
              "#f0f921"
             ]
            ],
            "type": "heatmap"
           }
          ],
          "heatmapgl": [
           {
            "colorbar": {
             "outlinewidth": 0,
             "ticks": ""
            },
            "colorscale": [
             [
              0,
              "#0d0887"
             ],
             [
              0.1111111111111111,
              "#46039f"
             ],
             [
              0.2222222222222222,
              "#7201a8"
             ],
             [
              0.3333333333333333,
              "#9c179e"
             ],
             [
              0.4444444444444444,
              "#bd3786"
             ],
             [
              0.5555555555555556,
              "#d8576b"
             ],
             [
              0.6666666666666666,
              "#ed7953"
             ],
             [
              0.7777777777777778,
              "#fb9f3a"
             ],
             [
              0.8888888888888888,
              "#fdca26"
             ],
             [
              1,
              "#f0f921"
             ]
            ],
            "type": "heatmapgl"
           }
          ],
          "histogram": [
           {
            "marker": {
             "colorbar": {
              "outlinewidth": 0,
              "ticks": ""
             }
            },
            "type": "histogram"
           }
          ],
          "histogram2d": [
           {
            "colorbar": {
             "outlinewidth": 0,
             "ticks": ""
            },
            "colorscale": [
             [
              0,
              "#0d0887"
             ],
             [
              0.1111111111111111,
              "#46039f"
             ],
             [
              0.2222222222222222,
              "#7201a8"
             ],
             [
              0.3333333333333333,
              "#9c179e"
             ],
             [
              0.4444444444444444,
              "#bd3786"
             ],
             [
              0.5555555555555556,
              "#d8576b"
             ],
             [
              0.6666666666666666,
              "#ed7953"
             ],
             [
              0.7777777777777778,
              "#fb9f3a"
             ],
             [
              0.8888888888888888,
              "#fdca26"
             ],
             [
              1,
              "#f0f921"
             ]
            ],
            "type": "histogram2d"
           }
          ],
          "histogram2dcontour": [
           {
            "colorbar": {
             "outlinewidth": 0,
             "ticks": ""
            },
            "colorscale": [
             [
              0,
              "#0d0887"
             ],
             [
              0.1111111111111111,
              "#46039f"
             ],
             [
              0.2222222222222222,
              "#7201a8"
             ],
             [
              0.3333333333333333,
              "#9c179e"
             ],
             [
              0.4444444444444444,
              "#bd3786"
             ],
             [
              0.5555555555555556,
              "#d8576b"
             ],
             [
              0.6666666666666666,
              "#ed7953"
             ],
             [
              0.7777777777777778,
              "#fb9f3a"
             ],
             [
              0.8888888888888888,
              "#fdca26"
             ],
             [
              1,
              "#f0f921"
             ]
            ],
            "type": "histogram2dcontour"
           }
          ],
          "mesh3d": [
           {
            "colorbar": {
             "outlinewidth": 0,
             "ticks": ""
            },
            "type": "mesh3d"
           }
          ],
          "parcoords": [
           {
            "line": {
             "colorbar": {
              "outlinewidth": 0,
              "ticks": ""
             }
            },
            "type": "parcoords"
           }
          ],
          "pie": [
           {
            "automargin": true,
            "type": "pie"
           }
          ],
          "scatter": [
           {
            "marker": {
             "colorbar": {
              "outlinewidth": 0,
              "ticks": ""
             }
            },
            "type": "scatter"
           }
          ],
          "scatter3d": [
           {
            "line": {
             "colorbar": {
              "outlinewidth": 0,
              "ticks": ""
             }
            },
            "marker": {
             "colorbar": {
              "outlinewidth": 0,
              "ticks": ""
             }
            },
            "type": "scatter3d"
           }
          ],
          "scattercarpet": [
           {
            "marker": {
             "colorbar": {
              "outlinewidth": 0,
              "ticks": ""
             }
            },
            "type": "scattercarpet"
           }
          ],
          "scattergeo": [
           {
            "marker": {
             "colorbar": {
              "outlinewidth": 0,
              "ticks": ""
             }
            },
            "type": "scattergeo"
           }
          ],
          "scattergl": [
           {
            "marker": {
             "colorbar": {
              "outlinewidth": 0,
              "ticks": ""
             }
            },
            "type": "scattergl"
           }
          ],
          "scattermapbox": [
           {
            "marker": {
             "colorbar": {
              "outlinewidth": 0,
              "ticks": ""
             }
            },
            "type": "scattermapbox"
           }
          ],
          "scatterpolar": [
           {
            "marker": {
             "colorbar": {
              "outlinewidth": 0,
              "ticks": ""
             }
            },
            "type": "scatterpolar"
           }
          ],
          "scatterpolargl": [
           {
            "marker": {
             "colorbar": {
              "outlinewidth": 0,
              "ticks": ""
             }
            },
            "type": "scatterpolargl"
           }
          ],
          "scatterternary": [
           {
            "marker": {
             "colorbar": {
              "outlinewidth": 0,
              "ticks": ""
             }
            },
            "type": "scatterternary"
           }
          ],
          "surface": [
           {
            "colorbar": {
             "outlinewidth": 0,
             "ticks": ""
            },
            "colorscale": [
             [
              0,
              "#0d0887"
             ],
             [
              0.1111111111111111,
              "#46039f"
             ],
             [
              0.2222222222222222,
              "#7201a8"
             ],
             [
              0.3333333333333333,
              "#9c179e"
             ],
             [
              0.4444444444444444,
              "#bd3786"
             ],
             [
              0.5555555555555556,
              "#d8576b"
             ],
             [
              0.6666666666666666,
              "#ed7953"
             ],
             [
              0.7777777777777778,
              "#fb9f3a"
             ],
             [
              0.8888888888888888,
              "#fdca26"
             ],
             [
              1,
              "#f0f921"
             ]
            ],
            "type": "surface"
           }
          ],
          "table": [
           {
            "cells": {
             "fill": {
              "color": "#EBF0F8"
             },
             "line": {
              "color": "white"
             }
            },
            "header": {
             "fill": {
              "color": "#C8D4E3"
             },
             "line": {
              "color": "white"
             }
            },
            "type": "table"
           }
          ]
         },
         "layout": {
          "annotationdefaults": {
           "arrowcolor": "#2a3f5f",
           "arrowhead": 0,
           "arrowwidth": 1
          },
          "coloraxis": {
           "colorbar": {
            "outlinewidth": 0,
            "ticks": ""
           }
          },
          "colorscale": {
           "diverging": [
            [
             0,
             "#8e0152"
            ],
            [
             0.1,
             "#c51b7d"
            ],
            [
             0.2,
             "#de77ae"
            ],
            [
             0.3,
             "#f1b6da"
            ],
            [
             0.4,
             "#fde0ef"
            ],
            [
             0.5,
             "#f7f7f7"
            ],
            [
             0.6,
             "#e6f5d0"
            ],
            [
             0.7,
             "#b8e186"
            ],
            [
             0.8,
             "#7fbc41"
            ],
            [
             0.9,
             "#4d9221"
            ],
            [
             1,
             "#276419"
            ]
           ],
           "sequential": [
            [
             0,
             "#0d0887"
            ],
            [
             0.1111111111111111,
             "#46039f"
            ],
            [
             0.2222222222222222,
             "#7201a8"
            ],
            [
             0.3333333333333333,
             "#9c179e"
            ],
            [
             0.4444444444444444,
             "#bd3786"
            ],
            [
             0.5555555555555556,
             "#d8576b"
            ],
            [
             0.6666666666666666,
             "#ed7953"
            ],
            [
             0.7777777777777778,
             "#fb9f3a"
            ],
            [
             0.8888888888888888,
             "#fdca26"
            ],
            [
             1,
             "#f0f921"
            ]
           ],
           "sequentialminus": [
            [
             0,
             "#0d0887"
            ],
            [
             0.1111111111111111,
             "#46039f"
            ],
            [
             0.2222222222222222,
             "#7201a8"
            ],
            [
             0.3333333333333333,
             "#9c179e"
            ],
            [
             0.4444444444444444,
             "#bd3786"
            ],
            [
             0.5555555555555556,
             "#d8576b"
            ],
            [
             0.6666666666666666,
             "#ed7953"
            ],
            [
             0.7777777777777778,
             "#fb9f3a"
            ],
            [
             0.8888888888888888,
             "#fdca26"
            ],
            [
             1,
             "#f0f921"
            ]
           ]
          },
          "colorway": [
           "#636efa",
           "#EF553B",
           "#00cc96",
           "#ab63fa",
           "#FFA15A",
           "#19d3f3",
           "#FF6692",
           "#B6E880",
           "#FF97FF",
           "#FECB52"
          ],
          "font": {
           "color": "#2a3f5f"
          },
          "geo": {
           "bgcolor": "white",
           "lakecolor": "white",
           "landcolor": "#E5ECF6",
           "showlakes": true,
           "showland": true,
           "subunitcolor": "white"
          },
          "hoverlabel": {
           "align": "left"
          },
          "hovermode": "closest",
          "mapbox": {
           "style": "light"
          },
          "paper_bgcolor": "white",
          "plot_bgcolor": "#E5ECF6",
          "polar": {
           "angularaxis": {
            "gridcolor": "white",
            "linecolor": "white",
            "ticks": ""
           },
           "bgcolor": "#E5ECF6",
           "radialaxis": {
            "gridcolor": "white",
            "linecolor": "white",
            "ticks": ""
           }
          },
          "scene": {
           "xaxis": {
            "backgroundcolor": "#E5ECF6",
            "gridcolor": "white",
            "gridwidth": 2,
            "linecolor": "white",
            "showbackground": true,
            "ticks": "",
            "zerolinecolor": "white"
           },
           "yaxis": {
            "backgroundcolor": "#E5ECF6",
            "gridcolor": "white",
            "gridwidth": 2,
            "linecolor": "white",
            "showbackground": true,
            "ticks": "",
            "zerolinecolor": "white"
           },
           "zaxis": {
            "backgroundcolor": "#E5ECF6",
            "gridcolor": "white",
            "gridwidth": 2,
            "linecolor": "white",
            "showbackground": true,
            "ticks": "",
            "zerolinecolor": "white"
           }
          },
          "shapedefaults": {
           "line": {
            "color": "#2a3f5f"
           }
          },
          "ternary": {
           "aaxis": {
            "gridcolor": "white",
            "linecolor": "white",
            "ticks": ""
           },
           "baxis": {
            "gridcolor": "white",
            "linecolor": "white",
            "ticks": ""
           },
           "bgcolor": "#E5ECF6",
           "caxis": {
            "gridcolor": "white",
            "linecolor": "white",
            "ticks": ""
           }
          },
          "title": {
           "x": 0.05
          },
          "xaxis": {
           "automargin": true,
           "gridcolor": "white",
           "linecolor": "white",
           "ticks": "",
           "title": {
            "standoff": 15
           },
           "zerolinecolor": "white",
           "zerolinewidth": 2
          },
          "yaxis": {
           "automargin": true,
           "gridcolor": "white",
           "linecolor": "white",
           "ticks": "",
           "title": {
            "standoff": 15
           },
           "zerolinecolor": "white",
           "zerolinewidth": 2
          }
         }
        },
        "title": {
         "font": {
          "color": "#4D5663"
         }
        },
        "xaxis": {
         "gridcolor": "#E1E5ED",
         "showgrid": true,
         "tickfont": {
          "color": "#4D5663"
         },
         "title": {
          "font": {
           "color": "#4D5663"
          },
          "text": ""
         },
         "zerolinecolor": "#E1E5ED"
        },
        "yaxis": {
         "gridcolor": "#E1E5ED",
         "showgrid": true,
         "tickfont": {
          "color": "#4D5663"
         },
         "title": {
          "font": {
           "color": "#4D5663"
          },
          "text": ""
         },
         "zerolinecolor": "#E1E5ED"
        }
       }
      },
      "text/html": [
       "<div>\n",
       "        \n",
       "        \n",
       "            <div id=\"9b46df5d-ea2e-48a4-9250-c7c2e4df04a8\" class=\"plotly-graph-div\" style=\"height:525px; width:100%;\"></div>\n",
       "            <script type=\"text/javascript\">\n",
       "                require([\"plotly\"], function(Plotly) {\n",
       "                    window.PLOTLYENV=window.PLOTLYENV || {};\n",
       "                    window.PLOTLYENV.BASE_URL='https://plot.ly';\n",
       "                    \n",
       "                if (document.getElementById(\"9b46df5d-ea2e-48a4-9250-c7c2e4df04a8\")) {\n",
       "                    Plotly.newPlot(\n",
       "                        '9b46df5d-ea2e-48a4-9250-c7c2e4df04a8',\n",
       "                        [{\"marker\": {\"color\": \"rgba(255, 153, 51, 0.6)\", \"line\": {\"color\": \"rgba(255, 153, 51, 1.0)\", \"width\": 1}}, \"name\": \"None\", \"orientation\": \"v\", \"text\": \"\", \"type\": \"bar\", \"x\": [\"A\", \"B\", \"C\", \"D\"], \"y\": [9.58618666106535, -8.508492950125607, -26.735537160531706, -13.061700657995143]}],\n",
       "                        {\"legend\": {\"bgcolor\": \"#F5F6F9\", \"font\": {\"color\": \"#4D5663\"}}, \"paper_bgcolor\": \"#F5F6F9\", \"plot_bgcolor\": \"#F5F6F9\", \"template\": {\"data\": {\"bar\": [{\"error_x\": {\"color\": \"#2a3f5f\"}, \"error_y\": {\"color\": \"#2a3f5f\"}, \"marker\": {\"line\": {\"color\": \"#E5ECF6\", \"width\": 0.5}}, \"type\": \"bar\"}], \"barpolar\": [{\"marker\": {\"line\": {\"color\": \"#E5ECF6\", \"width\": 0.5}}, \"type\": \"barpolar\"}], \"carpet\": [{\"aaxis\": {\"endlinecolor\": \"#2a3f5f\", \"gridcolor\": \"white\", \"linecolor\": \"white\", \"minorgridcolor\": \"white\", \"startlinecolor\": \"#2a3f5f\"}, \"baxis\": {\"endlinecolor\": \"#2a3f5f\", \"gridcolor\": \"white\", \"linecolor\": \"white\", \"minorgridcolor\": \"white\", \"startlinecolor\": \"#2a3f5f\"}, \"type\": \"carpet\"}], \"choropleth\": [{\"colorbar\": {\"outlinewidth\": 0, \"ticks\": \"\"}, \"type\": \"choropleth\"}], \"contour\": [{\"colorbar\": {\"outlinewidth\": 0, \"ticks\": \"\"}, \"colorscale\": [[0.0, \"#0d0887\"], [0.1111111111111111, \"#46039f\"], [0.2222222222222222, \"#7201a8\"], [0.3333333333333333, \"#9c179e\"], [0.4444444444444444, \"#bd3786\"], [0.5555555555555556, \"#d8576b\"], [0.6666666666666666, \"#ed7953\"], [0.7777777777777778, \"#fb9f3a\"], [0.8888888888888888, \"#fdca26\"], [1.0, \"#f0f921\"]], \"type\": \"contour\"}], \"contourcarpet\": [{\"colorbar\": {\"outlinewidth\": 0, \"ticks\": \"\"}, \"type\": \"contourcarpet\"}], \"heatmap\": [{\"colorbar\": {\"outlinewidth\": 0, \"ticks\": \"\"}, \"colorscale\": [[0.0, \"#0d0887\"], [0.1111111111111111, \"#46039f\"], [0.2222222222222222, \"#7201a8\"], [0.3333333333333333, \"#9c179e\"], [0.4444444444444444, \"#bd3786\"], [0.5555555555555556, \"#d8576b\"], [0.6666666666666666, \"#ed7953\"], [0.7777777777777778, \"#fb9f3a\"], [0.8888888888888888, \"#fdca26\"], [1.0, \"#f0f921\"]], \"type\": \"heatmap\"}], \"heatmapgl\": [{\"colorbar\": {\"outlinewidth\": 0, \"ticks\": \"\"}, \"colorscale\": [[0.0, \"#0d0887\"], [0.1111111111111111, \"#46039f\"], [0.2222222222222222, \"#7201a8\"], [0.3333333333333333, \"#9c179e\"], [0.4444444444444444, \"#bd3786\"], [0.5555555555555556, \"#d8576b\"], [0.6666666666666666, \"#ed7953\"], [0.7777777777777778, \"#fb9f3a\"], [0.8888888888888888, \"#fdca26\"], [1.0, \"#f0f921\"]], \"type\": \"heatmapgl\"}], \"histogram\": [{\"marker\": {\"colorbar\": {\"outlinewidth\": 0, \"ticks\": \"\"}}, \"type\": \"histogram\"}], \"histogram2d\": [{\"colorbar\": {\"outlinewidth\": 0, \"ticks\": \"\"}, \"colorscale\": [[0.0, \"#0d0887\"], [0.1111111111111111, \"#46039f\"], [0.2222222222222222, \"#7201a8\"], [0.3333333333333333, \"#9c179e\"], [0.4444444444444444, \"#bd3786\"], [0.5555555555555556, \"#d8576b\"], [0.6666666666666666, \"#ed7953\"], [0.7777777777777778, \"#fb9f3a\"], [0.8888888888888888, \"#fdca26\"], [1.0, \"#f0f921\"]], \"type\": \"histogram2d\"}], \"histogram2dcontour\": [{\"colorbar\": {\"outlinewidth\": 0, \"ticks\": \"\"}, \"colorscale\": [[0.0, \"#0d0887\"], [0.1111111111111111, \"#46039f\"], [0.2222222222222222, \"#7201a8\"], [0.3333333333333333, \"#9c179e\"], [0.4444444444444444, \"#bd3786\"], [0.5555555555555556, \"#d8576b\"], [0.6666666666666666, \"#ed7953\"], [0.7777777777777778, \"#fb9f3a\"], [0.8888888888888888, \"#fdca26\"], [1.0, \"#f0f921\"]], \"type\": \"histogram2dcontour\"}], \"mesh3d\": [{\"colorbar\": {\"outlinewidth\": 0, \"ticks\": \"\"}, \"type\": \"mesh3d\"}], \"parcoords\": [{\"line\": {\"colorbar\": {\"outlinewidth\": 0, \"ticks\": \"\"}}, \"type\": \"parcoords\"}], \"pie\": [{\"automargin\": true, \"type\": \"pie\"}], \"scatter\": [{\"marker\": {\"colorbar\": {\"outlinewidth\": 0, \"ticks\": \"\"}}, \"type\": \"scatter\"}], \"scatter3d\": [{\"line\": {\"colorbar\": {\"outlinewidth\": 0, \"ticks\": \"\"}}, \"marker\": {\"colorbar\": {\"outlinewidth\": 0, \"ticks\": \"\"}}, \"type\": \"scatter3d\"}], \"scattercarpet\": [{\"marker\": {\"colorbar\": {\"outlinewidth\": 0, \"ticks\": \"\"}}, \"type\": \"scattercarpet\"}], \"scattergeo\": [{\"marker\": {\"colorbar\": {\"outlinewidth\": 0, \"ticks\": \"\"}}, \"type\": \"scattergeo\"}], \"scattergl\": [{\"marker\": {\"colorbar\": {\"outlinewidth\": 0, \"ticks\": \"\"}}, \"type\": \"scattergl\"}], \"scattermapbox\": [{\"marker\": {\"colorbar\": {\"outlinewidth\": 0, \"ticks\": \"\"}}, \"type\": \"scattermapbox\"}], \"scatterpolar\": [{\"marker\": {\"colorbar\": {\"outlinewidth\": 0, \"ticks\": \"\"}}, \"type\": \"scatterpolar\"}], \"scatterpolargl\": [{\"marker\": {\"colorbar\": {\"outlinewidth\": 0, \"ticks\": \"\"}}, \"type\": \"scatterpolargl\"}], \"scatterternary\": [{\"marker\": {\"colorbar\": {\"outlinewidth\": 0, \"ticks\": \"\"}}, \"type\": \"scatterternary\"}], \"surface\": [{\"colorbar\": {\"outlinewidth\": 0, \"ticks\": \"\"}, \"colorscale\": [[0.0, \"#0d0887\"], [0.1111111111111111, \"#46039f\"], [0.2222222222222222, \"#7201a8\"], [0.3333333333333333, \"#9c179e\"], [0.4444444444444444, \"#bd3786\"], [0.5555555555555556, \"#d8576b\"], [0.6666666666666666, \"#ed7953\"], [0.7777777777777778, \"#fb9f3a\"], [0.8888888888888888, \"#fdca26\"], [1.0, \"#f0f921\"]], \"type\": \"surface\"}], \"table\": [{\"cells\": {\"fill\": {\"color\": \"#EBF0F8\"}, \"line\": {\"color\": \"white\"}}, \"header\": {\"fill\": {\"color\": \"#C8D4E3\"}, \"line\": {\"color\": \"white\"}}, \"type\": \"table\"}]}, \"layout\": {\"annotationdefaults\": {\"arrowcolor\": \"#2a3f5f\", \"arrowhead\": 0, \"arrowwidth\": 1}, \"coloraxis\": {\"colorbar\": {\"outlinewidth\": 0, \"ticks\": \"\"}}, \"colorscale\": {\"diverging\": [[0, \"#8e0152\"], [0.1, \"#c51b7d\"], [0.2, \"#de77ae\"], [0.3, \"#f1b6da\"], [0.4, \"#fde0ef\"], [0.5, \"#f7f7f7\"], [0.6, \"#e6f5d0\"], [0.7, \"#b8e186\"], [0.8, \"#7fbc41\"], [0.9, \"#4d9221\"], [1, \"#276419\"]], \"sequential\": [[0.0, \"#0d0887\"], [0.1111111111111111, \"#46039f\"], [0.2222222222222222, \"#7201a8\"], [0.3333333333333333, \"#9c179e\"], [0.4444444444444444, \"#bd3786\"], [0.5555555555555556, \"#d8576b\"], [0.6666666666666666, \"#ed7953\"], [0.7777777777777778, \"#fb9f3a\"], [0.8888888888888888, \"#fdca26\"], [1.0, \"#f0f921\"]], \"sequentialminus\": [[0.0, \"#0d0887\"], [0.1111111111111111, \"#46039f\"], [0.2222222222222222, \"#7201a8\"], [0.3333333333333333, \"#9c179e\"], [0.4444444444444444, \"#bd3786\"], [0.5555555555555556, \"#d8576b\"], [0.6666666666666666, \"#ed7953\"], [0.7777777777777778, \"#fb9f3a\"], [0.8888888888888888, \"#fdca26\"], [1.0, \"#f0f921\"]]}, \"colorway\": [\"#636efa\", \"#EF553B\", \"#00cc96\", \"#ab63fa\", \"#FFA15A\", \"#19d3f3\", \"#FF6692\", \"#B6E880\", \"#FF97FF\", \"#FECB52\"], \"font\": {\"color\": \"#2a3f5f\"}, \"geo\": {\"bgcolor\": \"white\", \"lakecolor\": \"white\", \"landcolor\": \"#E5ECF6\", \"showlakes\": true, \"showland\": true, \"subunitcolor\": \"white\"}, \"hoverlabel\": {\"align\": \"left\"}, \"hovermode\": \"closest\", \"mapbox\": {\"style\": \"light\"}, \"paper_bgcolor\": \"white\", \"plot_bgcolor\": \"#E5ECF6\", \"polar\": {\"angularaxis\": {\"gridcolor\": \"white\", \"linecolor\": \"white\", \"ticks\": \"\"}, \"bgcolor\": \"#E5ECF6\", \"radialaxis\": {\"gridcolor\": \"white\", \"linecolor\": \"white\", \"ticks\": \"\"}}, \"scene\": {\"xaxis\": {\"backgroundcolor\": \"#E5ECF6\", \"gridcolor\": \"white\", \"gridwidth\": 2, \"linecolor\": \"white\", \"showbackground\": true, \"ticks\": \"\", \"zerolinecolor\": \"white\"}, \"yaxis\": {\"backgroundcolor\": \"#E5ECF6\", \"gridcolor\": \"white\", \"gridwidth\": 2, \"linecolor\": \"white\", \"showbackground\": true, \"ticks\": \"\", \"zerolinecolor\": \"white\"}, \"zaxis\": {\"backgroundcolor\": \"#E5ECF6\", \"gridcolor\": \"white\", \"gridwidth\": 2, \"linecolor\": \"white\", \"showbackground\": true, \"ticks\": \"\", \"zerolinecolor\": \"white\"}}, \"shapedefaults\": {\"line\": {\"color\": \"#2a3f5f\"}}, \"ternary\": {\"aaxis\": {\"gridcolor\": \"white\", \"linecolor\": \"white\", \"ticks\": \"\"}, \"baxis\": {\"gridcolor\": \"white\", \"linecolor\": \"white\", \"ticks\": \"\"}, \"bgcolor\": \"#E5ECF6\", \"caxis\": {\"gridcolor\": \"white\", \"linecolor\": \"white\", \"ticks\": \"\"}}, \"title\": {\"x\": 0.05}, \"xaxis\": {\"automargin\": true, \"gridcolor\": \"white\", \"linecolor\": \"white\", \"ticks\": \"\", \"title\": {\"standoff\": 15}, \"zerolinecolor\": \"white\", \"zerolinewidth\": 2}, \"yaxis\": {\"automargin\": true, \"gridcolor\": \"white\", \"linecolor\": \"white\", \"ticks\": \"\", \"title\": {\"standoff\": 15}, \"zerolinecolor\": \"white\", \"zerolinewidth\": 2}}}, \"title\": {\"font\": {\"color\": \"#4D5663\"}}, \"xaxis\": {\"gridcolor\": \"#E1E5ED\", \"showgrid\": true, \"tickfont\": {\"color\": \"#4D5663\"}, \"title\": {\"font\": {\"color\": \"#4D5663\"}, \"text\": \"\"}, \"zerolinecolor\": \"#E1E5ED\"}, \"yaxis\": {\"gridcolor\": \"#E1E5ED\", \"showgrid\": true, \"tickfont\": {\"color\": \"#4D5663\"}, \"title\": {\"font\": {\"color\": \"#4D5663\"}, \"text\": \"\"}, \"zerolinecolor\": \"#E1E5ED\"}},\n",
       "                        {\"showLink\": true, \"linkText\": \"Export to plot.ly\", \"plotlyServerURL\": \"https://plot.ly\", \"responsive\": true}\n",
       "                    ).then(function(){\n",
       "                            \n",
       "var gd = document.getElementById('9b46df5d-ea2e-48a4-9250-c7c2e4df04a8');\n",
       "var x = new MutationObserver(function (mutations, observer) {{\n",
       "        var display = window.getComputedStyle(gd).display;\n",
       "        if (!display || display === 'none') {{\n",
       "            console.log([gd, 'removed!']);\n",
       "            Plotly.purge(gd);\n",
       "            observer.disconnect();\n",
       "        }}\n",
       "}});\n",
       "\n",
       "// Listen for the removal of the full notebook cells\n",
       "var notebookContainer = gd.closest('#notebook-container');\n",
       "if (notebookContainer) {{\n",
       "    x.observe(notebookContainer, {childList: true});\n",
       "}}\n",
       "\n",
       "// Listen for the clearing of the current output cell\n",
       "var outputEl = gd.closest('.output');\n",
       "if (outputEl) {{\n",
       "    x.observe(outputEl, {childList: true});\n",
       "}}\n",
       "\n",
       "                        })\n",
       "                };\n",
       "                });\n",
       "            </script>\n",
       "        </div>"
      ]
     },
     "metadata": {},
     "output_type": "display_data"
    }
   ],
   "source": [
    "df.sum().iplot(kind='bar')"
   ]
  },
  {
   "cell_type": "code",
   "execution_count": 42,
   "metadata": {},
   "outputs": [
    {
     "data": {
      "application/vnd.plotly.v1+json": {
       "config": {
        "linkText": "Export to plot.ly",
        "plotlyServerURL": "https://plot.ly",
        "showLink": true
       },
       "data": [
        {
         "boxpoints": false,
         "line": {
          "width": 1.3
         },
         "marker": {
          "color": "rgba(255, 153, 51, 1.0)"
         },
         "name": "A",
         "orientation": "v",
         "type": "box",
         "y": [
          -1.7328184700099154,
          -0.6655392531642427,
          -0.5141887381353419,
          -0.5307819801565642,
          -1.118698345400647,
          -0.015307381413286457,
          -1.4557398829714918,
          0.8591588400819069,
          -0.26492340869200365,
          0.4967984376875904,
          0.04182940727328566,
          -1.7386011275388331,
          0.6969431444672501,
          -0.052871581583919115,
          -1.6601792523085324,
          0.05748666839097407,
          0.1837621355327402,
          1.4962874424816663,
          -0.6205832412165161,
          0.1520623253012091,
          -0.0038386316317565086,
          0.5512624161773946,
          0.2036636174075826,
          -1.52475862710216,
          0.9236883896430348,
          2.046445624318661,
          -1.6928966996502095,
          -0.49450683165912346,
          -0.32097571153166865,
          0.18429648757950035,
          0.9590315555760798,
          0.24518063014786312,
          1.1035536863820947,
          -0.4262789193890452,
          0.38796398237909235,
          0.06095890635811224,
          -0.12080953360031857,
          0.720045065572963,
          1.1384712663936534,
          0.91631532775539,
          -1.3971319160459976,
          0.15533512015255674,
          -0.24322476528350576,
          -1.876186615785088,
          1.3283670094396747,
          1.4762463769813379,
          -0.0720559521924466,
          0.7329609025539923,
          -0.6413826991069103,
          0.12982126874312913,
          1.518939354007646,
          -1.1545144296807108,
          0.1470207356938776,
          -0.6908031760314431,
          -0.055941386298454326,
          1.3156460053880759,
          0.619892489089758,
          0.6088290563295004,
          -0.5374672551116969,
          -0.6880550583755078,
          0.7168531852731158,
          0.007647487232779944,
          2.211320735120686,
          0.6438165866259979,
          -1.0666772238124416,
          1.1185433129275277,
          -1.7299998201445086,
          -0.25975599587783443,
          0.4226172574698807,
          0.3941769709373833,
          0.5160961375330596,
          1.81819966745681,
          0.7991786252320352,
          1.046987568805078,
          -1.128395723062902,
          1.7936925593507211,
          -0.5149323886783681,
          -0.9802210244604053,
          0.2019466283016788,
          0.5362430245906857,
          -1.8460225900728473,
          1.1210128548791507,
          0.4428581166140847,
          -0.3971102158075737,
          1.0099720456684251,
          0.04323912485309805,
          0.16186786619863405,
          -0.8532924235905249,
          0.5683047812022923,
          -0.7182340782336945,
          -0.33714320289360633,
          1.6558347652323795,
          0.4051329252254166,
          0.7723889649324748,
          0.9858257378129331,
          0.3393662311036916,
          1.251335110862688,
          -0.8894527872587709,
          0.022788498965433734,
          0.1529745603304253
         ]
        },
        {
         "boxpoints": false,
         "line": {
          "width": 1.3
         },
         "marker": {
          "color": "rgba(55, 128, 191, 1.0)"
         },
         "name": "B",
         "orientation": "v",
         "type": "box",
         "y": [
          -0.5737945545380813,
          1.10681733267001,
          -0.8642735138565506,
          0.5403727191652674,
          1.3446585111575515,
          0.9707770371986021,
          -0.4758158228346009,
          -1.7206476733987262,
          -0.5213925667074699,
          -1.3160304741085156,
          1.7139340392948705,
          -1.081772196858882,
          0.6852193539140005,
          0.2357121945272125,
          -0.21621060736553435,
          -1.16561783610473,
          -0.7160992151206331,
          -0.7963619994131266,
          -5.734197369323232e-05,
          0.4121475843934423,
          -0.5346345063636659,
          0.9800828890027675,
          -0.17355190502161186,
          0.50663665254452,
          -0.9743640840943804,
          2.4442193260237777,
          -1.5127481904255589,
          -0.4463273169784612,
          0.2863886544997744,
          -2.6366488568868967,
          0.3399990001282703,
          -0.4238775381884636,
          0.09553159887378632,
          0.030443516590440534,
          -0.117465978296997,
          0.5680994389852261,
          0.8986361709059272,
          0.05807554994885092,
          -0.573788376859282,
          0.07770170114819182,
          -0.1532975170574101,
          -1.7259334090059024,
          1.9288714395457591,
          -0.5540020564911894,
          0.7437781696058638,
          0.09207992430893966,
          -0.09103602463885366,
          0.4550902656062467,
          -1.049078831656769,
          0.39971184330269044,
          1.8580764136015517,
          1.530549476657037,
          -1.550731195712601,
          -1.7384459910819856,
          -0.9078249514952067,
          -0.5390811901792363,
          2.0245770702001114,
          0.060145825037109524,
          0.19512977367730458,
          -0.906664515766312,
          -0.4579375421367402,
          1.5950732986077922,
          -0.06095303450437194,
          -0.7050404940898929,
          -0.7948447032770758,
          -0.5673176973672968,
          -1.2621608935191002,
          -0.6700539341340684,
          0.5446324881912484,
          -0.872920736801528,
          -0.917874519634289,
          -1.4537221534915523,
          0.16881163940843347,
          0.20088757260669715,
          0.18290911610110255,
          -1.476238336965387,
          -0.5561300294068415,
          -0.36454287791069184,
          -0.06220468912964303,
          -0.9794835695449904,
          1.9058757707845015,
          0.09730984282951217,
          0.974860478095882,
          -0.13908650831671687,
          0.7492916762415887,
          -0.5509520407165336,
          -0.6638932817154232,
          -0.08468534082475872,
          0.032786764332160115,
          -0.13758137168049833,
          1.0497203019324426,
          0.5940635515384379,
          -0.3397995017727589,
          0.2857793266688294,
          0.8331357511706957,
          0.24054536988523556,
          -0.6609910622382077,
          -1.015298446375443,
          0.7385713900137486,
          -0.43492175701388197
         ]
        },
        {
         "boxpoints": false,
         "line": {
          "width": 1.3
         },
         "marker": {
          "color": "rgba(50, 171, 96, 1.0)"
         },
         "name": "C",
         "orientation": "v",
         "type": "box",
         "y": [
          -2.5143134923113903,
          -0.6509188072601796,
          -1.0929806376167406,
          -2.608523012686631,
          -0.6515439074095098,
          -0.0333064701190502,
          0.7606633089063881,
          0.4128709184030706,
          -0.6631434605605585,
          0.9383284809663233,
          -0.640923939094296,
          -1.451322224393623,
          -0.32452068357876357,
          0.8560062510029888,
          0.04874730079016477,
          -0.6502876099939146,
          2.0300873604999925,
          1.588622467301215,
          -0.02098210969456584,
          -0.5386063210027243,
          0.3939456041421512,
          0.5400582082029005,
          1.2029381600400066,
          -1.599263794059734,
          0.10677637474981985,
          1.5243359839917698,
          -0.5531122529989283,
          0.0018013257277539978,
          0.007243731819215415,
          0.3223473198321976,
          -1.0040855072140582,
          -0.5579320573624444,
          1.0706742691410756,
          -0.6889035466203947,
          0.2530161671325349,
          -1.743532298622672,
          -0.36352469284064715,
          1.0313892282054828,
          -0.3987531022294804,
          -0.1400567640821582,
          0.30414057790022453,
          -0.36640897480614737,
          -0.21419913181904907,
          1.241243088420183,
          -0.6739876378558262,
          0.07389182612537284,
          -0.03224726111307327,
          1.1194329765894249,
          -0.6761821835514656,
          -1.6134368534742802,
          -0.41960299481596236,
          -0.19060574059427185,
          -0.11993860090379943,
          0.31521309072533965,
          -2.021558231845061,
          -0.21644300192401225,
          -1.6877313200922548,
          -1.8076751235857098,
          -1.3852283577275846,
          -0.6661149941134256,
          1.0063768444171797,
          1.359618305861139,
          -1.469018277477196,
          -0.6577234211061695,
          -1.3683531470706467,
          -1.8237598616040247,
          0.41753443738107054,
          -1.1526259185288221,
          -1.4323469934265356,
          -0.8830593669489718,
          1.8431546945645012,
          -0.3625854899437133,
          0.7694279154705537,
          0.08941362971901017,
          1.4660643585433049,
          0.06829484146577768,
          -0.8511623078027825,
          -1.384913582089352,
          -1.1378261979375641,
          0.38386522671538453,
          -1.2932844941271617,
          0.7647470295737824,
          0.2632165909128464,
          1.2568833608738816,
          1.2665194060352905,
          -1.760462544297134,
          -0.38007233523979733,
          -2.2853515965367737,
          0.26537879693495575,
          -0.29996880981165763,
          -0.11434376808773915,
          0.6228937735392496,
          -0.22652070309699104,
          -1.3926389582870053,
          -0.21170574994847616,
          -1.0759943427876493,
          0.5140215484688332,
          0.19608037262269554,
          -2.171579893652071,
          -0.7156074544641537
         ]
        },
        {
         "boxpoints": false,
         "line": {
          "width": 1.3
         },
         "marker": {
          "color": "rgba(128, 0, 128, 1.0)"
         },
         "name": "D",
         "orientation": "v",
         "type": "box",
         "y": [
          0.2635037826051746,
          -2.239900668127504,
          0.6287513844324132,
          -2.1948221717203333,
          0.6432799029201886,
          1.209932206786237,
          -2.3545318574450134,
          1.0745305466796755,
          -0.49275888145241564,
          -0.6669718697162098,
          0.655200056418349,
          1.5182651759676702,
          -1.5989561766263891,
          -0.5436935447528642,
          0.1531899904145127,
          -1.253636332403664,
          1.1026176291994954,
          0.12708566121369286,
          -0.8535306920291047,
          -1.0248348769183893,
          -0.6045196815864822,
          -0.3953328860122542,
          0.12003883366812776,
          0.5953865334820625,
          -0.06212991230184508,
          1.452689162912124,
          0.4406880123087512,
          -1.613173683413528,
          0.7772003829979456,
          -1.5631590743611659,
          1.1444928651886228,
          -1.3607397426450984,
          0.3505686485630722,
          0.6601026213592619,
          0.553392942363766,
          -0.23098918344720173,
          0.8311318198942066,
          -0.08201430903256268,
          0.2824545751892871,
          -0.03172367883037509,
          0.3743088818050335,
          0.5397953798154068,
          -1.2004762068784165,
          0.2968361571745551,
          0.14457907383222568,
          -0.5028088116733017,
          0.5961255166425773,
          -1.7844469407248074,
          -2.496330914118227,
          -1.0261280768372907,
          1.9368714651311647,
          -0.3674146748731469,
          1.799442623225765,
          0.2755359292972475,
          -0.14710677085185983,
          -0.687086704638258,
          0.1999909696944079,
          0.05105367380417333,
          -1.6961422920296267,
          1.3147773687954898,
          0.995116497484058,
          -0.8658822037081225,
          -0.004408572653071275,
          -1.4414798499456125,
          -0.5405079236279586,
          -0.533085208042458,
          1.0943498426037666,
          -1.282138908622184,
          -0.6725787172001605,
          0.43632191387047947,
          1.8237296763666204,
          -1.7046840650369615,
          -0.860871824186915,
          1.4634316445135658,
          0.39371432565306586,
          -0.6469203777739958,
          -0.8556891941805826,
          -0.3353507357876152,
          0.8028157715863787,
          -0.1639592906043109,
          -0.44702553786145677,
          -0.38310852317831606,
          -0.4570542510733638,
          1.0845518642914551,
          0.5169438264391508,
          -0.5641824896873722,
          0.8100973323193629,
          2.3351595477119416,
          -2.111058499254949,
          0.5262861952143004,
          -0.853625275955298,
          -0.9682396772350652,
          -0.7774006438523732,
          -2.5104955678597096,
          0.3598120367191213,
          -0.25608224070565877,
          0.006413200965211256,
          0.0524766666787389,
          0.3074201403453346,
          0.12702927894046318
         ]
        }
       ],
       "layout": {
        "legend": {
         "bgcolor": "#F5F6F9",
         "font": {
          "color": "#4D5663"
         }
        },
        "paper_bgcolor": "#F5F6F9",
        "plot_bgcolor": "#F5F6F9",
        "template": {
         "data": {
          "bar": [
           {
            "error_x": {
             "color": "#2a3f5f"
            },
            "error_y": {
             "color": "#2a3f5f"
            },
            "marker": {
             "line": {
              "color": "#E5ECF6",
              "width": 0.5
             }
            },
            "type": "bar"
           }
          ],
          "barpolar": [
           {
            "marker": {
             "line": {
              "color": "#E5ECF6",
              "width": 0.5
             }
            },
            "type": "barpolar"
           }
          ],
          "carpet": [
           {
            "aaxis": {
             "endlinecolor": "#2a3f5f",
             "gridcolor": "white",
             "linecolor": "white",
             "minorgridcolor": "white",
             "startlinecolor": "#2a3f5f"
            },
            "baxis": {
             "endlinecolor": "#2a3f5f",
             "gridcolor": "white",
             "linecolor": "white",
             "minorgridcolor": "white",
             "startlinecolor": "#2a3f5f"
            },
            "type": "carpet"
           }
          ],
          "choropleth": [
           {
            "colorbar": {
             "outlinewidth": 0,
             "ticks": ""
            },
            "type": "choropleth"
           }
          ],
          "contour": [
           {
            "colorbar": {
             "outlinewidth": 0,
             "ticks": ""
            },
            "colorscale": [
             [
              0,
              "#0d0887"
             ],
             [
              0.1111111111111111,
              "#46039f"
             ],
             [
              0.2222222222222222,
              "#7201a8"
             ],
             [
              0.3333333333333333,
              "#9c179e"
             ],
             [
              0.4444444444444444,
              "#bd3786"
             ],
             [
              0.5555555555555556,
              "#d8576b"
             ],
             [
              0.6666666666666666,
              "#ed7953"
             ],
             [
              0.7777777777777778,
              "#fb9f3a"
             ],
             [
              0.8888888888888888,
              "#fdca26"
             ],
             [
              1,
              "#f0f921"
             ]
            ],
            "type": "contour"
           }
          ],
          "contourcarpet": [
           {
            "colorbar": {
             "outlinewidth": 0,
             "ticks": ""
            },
            "type": "contourcarpet"
           }
          ],
          "heatmap": [
           {
            "colorbar": {
             "outlinewidth": 0,
             "ticks": ""
            },
            "colorscale": [
             [
              0,
              "#0d0887"
             ],
             [
              0.1111111111111111,
              "#46039f"
             ],
             [
              0.2222222222222222,
              "#7201a8"
             ],
             [
              0.3333333333333333,
              "#9c179e"
             ],
             [
              0.4444444444444444,
              "#bd3786"
             ],
             [
              0.5555555555555556,
              "#d8576b"
             ],
             [
              0.6666666666666666,
              "#ed7953"
             ],
             [
              0.7777777777777778,
              "#fb9f3a"
             ],
             [
              0.8888888888888888,
              "#fdca26"
             ],
             [
              1,
              "#f0f921"
             ]
            ],
            "type": "heatmap"
           }
          ],
          "heatmapgl": [
           {
            "colorbar": {
             "outlinewidth": 0,
             "ticks": ""
            },
            "colorscale": [
             [
              0,
              "#0d0887"
             ],
             [
              0.1111111111111111,
              "#46039f"
             ],
             [
              0.2222222222222222,
              "#7201a8"
             ],
             [
              0.3333333333333333,
              "#9c179e"
             ],
             [
              0.4444444444444444,
              "#bd3786"
             ],
             [
              0.5555555555555556,
              "#d8576b"
             ],
             [
              0.6666666666666666,
              "#ed7953"
             ],
             [
              0.7777777777777778,
              "#fb9f3a"
             ],
             [
              0.8888888888888888,
              "#fdca26"
             ],
             [
              1,
              "#f0f921"
             ]
            ],
            "type": "heatmapgl"
           }
          ],
          "histogram": [
           {
            "marker": {
             "colorbar": {
              "outlinewidth": 0,
              "ticks": ""
             }
            },
            "type": "histogram"
           }
          ],
          "histogram2d": [
           {
            "colorbar": {
             "outlinewidth": 0,
             "ticks": ""
            },
            "colorscale": [
             [
              0,
              "#0d0887"
             ],
             [
              0.1111111111111111,
              "#46039f"
             ],
             [
              0.2222222222222222,
              "#7201a8"
             ],
             [
              0.3333333333333333,
              "#9c179e"
             ],
             [
              0.4444444444444444,
              "#bd3786"
             ],
             [
              0.5555555555555556,
              "#d8576b"
             ],
             [
              0.6666666666666666,
              "#ed7953"
             ],
             [
              0.7777777777777778,
              "#fb9f3a"
             ],
             [
              0.8888888888888888,
              "#fdca26"
             ],
             [
              1,
              "#f0f921"
             ]
            ],
            "type": "histogram2d"
           }
          ],
          "histogram2dcontour": [
           {
            "colorbar": {
             "outlinewidth": 0,
             "ticks": ""
            },
            "colorscale": [
             [
              0,
              "#0d0887"
             ],
             [
              0.1111111111111111,
              "#46039f"
             ],
             [
              0.2222222222222222,
              "#7201a8"
             ],
             [
              0.3333333333333333,
              "#9c179e"
             ],
             [
              0.4444444444444444,
              "#bd3786"
             ],
             [
              0.5555555555555556,
              "#d8576b"
             ],
             [
              0.6666666666666666,
              "#ed7953"
             ],
             [
              0.7777777777777778,
              "#fb9f3a"
             ],
             [
              0.8888888888888888,
              "#fdca26"
             ],
             [
              1,
              "#f0f921"
             ]
            ],
            "type": "histogram2dcontour"
           }
          ],
          "mesh3d": [
           {
            "colorbar": {
             "outlinewidth": 0,
             "ticks": ""
            },
            "type": "mesh3d"
           }
          ],
          "parcoords": [
           {
            "line": {
             "colorbar": {
              "outlinewidth": 0,
              "ticks": ""
             }
            },
            "type": "parcoords"
           }
          ],
          "pie": [
           {
            "automargin": true,
            "type": "pie"
           }
          ],
          "scatter": [
           {
            "marker": {
             "colorbar": {
              "outlinewidth": 0,
              "ticks": ""
             }
            },
            "type": "scatter"
           }
          ],
          "scatter3d": [
           {
            "line": {
             "colorbar": {
              "outlinewidth": 0,
              "ticks": ""
             }
            },
            "marker": {
             "colorbar": {
              "outlinewidth": 0,
              "ticks": ""
             }
            },
            "type": "scatter3d"
           }
          ],
          "scattercarpet": [
           {
            "marker": {
             "colorbar": {
              "outlinewidth": 0,
              "ticks": ""
             }
            },
            "type": "scattercarpet"
           }
          ],
          "scattergeo": [
           {
            "marker": {
             "colorbar": {
              "outlinewidth": 0,
              "ticks": ""
             }
            },
            "type": "scattergeo"
           }
          ],
          "scattergl": [
           {
            "marker": {
             "colorbar": {
              "outlinewidth": 0,
              "ticks": ""
             }
            },
            "type": "scattergl"
           }
          ],
          "scattermapbox": [
           {
            "marker": {
             "colorbar": {
              "outlinewidth": 0,
              "ticks": ""
             }
            },
            "type": "scattermapbox"
           }
          ],
          "scatterpolar": [
           {
            "marker": {
             "colorbar": {
              "outlinewidth": 0,
              "ticks": ""
             }
            },
            "type": "scatterpolar"
           }
          ],
          "scatterpolargl": [
           {
            "marker": {
             "colorbar": {
              "outlinewidth": 0,
              "ticks": ""
             }
            },
            "type": "scatterpolargl"
           }
          ],
          "scatterternary": [
           {
            "marker": {
             "colorbar": {
              "outlinewidth": 0,
              "ticks": ""
             }
            },
            "type": "scatterternary"
           }
          ],
          "surface": [
           {
            "colorbar": {
             "outlinewidth": 0,
             "ticks": ""
            },
            "colorscale": [
             [
              0,
              "#0d0887"
             ],
             [
              0.1111111111111111,
              "#46039f"
             ],
             [
              0.2222222222222222,
              "#7201a8"
             ],
             [
              0.3333333333333333,
              "#9c179e"
             ],
             [
              0.4444444444444444,
              "#bd3786"
             ],
             [
              0.5555555555555556,
              "#d8576b"
             ],
             [
              0.6666666666666666,
              "#ed7953"
             ],
             [
              0.7777777777777778,
              "#fb9f3a"
             ],
             [
              0.8888888888888888,
              "#fdca26"
             ],
             [
              1,
              "#f0f921"
             ]
            ],
            "type": "surface"
           }
          ],
          "table": [
           {
            "cells": {
             "fill": {
              "color": "#EBF0F8"
             },
             "line": {
              "color": "white"
             }
            },
            "header": {
             "fill": {
              "color": "#C8D4E3"
             },
             "line": {
              "color": "white"
             }
            },
            "type": "table"
           }
          ]
         },
         "layout": {
          "annotationdefaults": {
           "arrowcolor": "#2a3f5f",
           "arrowhead": 0,
           "arrowwidth": 1
          },
          "coloraxis": {
           "colorbar": {
            "outlinewidth": 0,
            "ticks": ""
           }
          },
          "colorscale": {
           "diverging": [
            [
             0,
             "#8e0152"
            ],
            [
             0.1,
             "#c51b7d"
            ],
            [
             0.2,
             "#de77ae"
            ],
            [
             0.3,
             "#f1b6da"
            ],
            [
             0.4,
             "#fde0ef"
            ],
            [
             0.5,
             "#f7f7f7"
            ],
            [
             0.6,
             "#e6f5d0"
            ],
            [
             0.7,
             "#b8e186"
            ],
            [
             0.8,
             "#7fbc41"
            ],
            [
             0.9,
             "#4d9221"
            ],
            [
             1,
             "#276419"
            ]
           ],
           "sequential": [
            [
             0,
             "#0d0887"
            ],
            [
             0.1111111111111111,
             "#46039f"
            ],
            [
             0.2222222222222222,
             "#7201a8"
            ],
            [
             0.3333333333333333,
             "#9c179e"
            ],
            [
             0.4444444444444444,
             "#bd3786"
            ],
            [
             0.5555555555555556,
             "#d8576b"
            ],
            [
             0.6666666666666666,
             "#ed7953"
            ],
            [
             0.7777777777777778,
             "#fb9f3a"
            ],
            [
             0.8888888888888888,
             "#fdca26"
            ],
            [
             1,
             "#f0f921"
            ]
           ],
           "sequentialminus": [
            [
             0,
             "#0d0887"
            ],
            [
             0.1111111111111111,
             "#46039f"
            ],
            [
             0.2222222222222222,
             "#7201a8"
            ],
            [
             0.3333333333333333,
             "#9c179e"
            ],
            [
             0.4444444444444444,
             "#bd3786"
            ],
            [
             0.5555555555555556,
             "#d8576b"
            ],
            [
             0.6666666666666666,
             "#ed7953"
            ],
            [
             0.7777777777777778,
             "#fb9f3a"
            ],
            [
             0.8888888888888888,
             "#fdca26"
            ],
            [
             1,
             "#f0f921"
            ]
           ]
          },
          "colorway": [
           "#636efa",
           "#EF553B",
           "#00cc96",
           "#ab63fa",
           "#FFA15A",
           "#19d3f3",
           "#FF6692",
           "#B6E880",
           "#FF97FF",
           "#FECB52"
          ],
          "font": {
           "color": "#2a3f5f"
          },
          "geo": {
           "bgcolor": "white",
           "lakecolor": "white",
           "landcolor": "#E5ECF6",
           "showlakes": true,
           "showland": true,
           "subunitcolor": "white"
          },
          "hoverlabel": {
           "align": "left"
          },
          "hovermode": "closest",
          "mapbox": {
           "style": "light"
          },
          "paper_bgcolor": "white",
          "plot_bgcolor": "#E5ECF6",
          "polar": {
           "angularaxis": {
            "gridcolor": "white",
            "linecolor": "white",
            "ticks": ""
           },
           "bgcolor": "#E5ECF6",
           "radialaxis": {
            "gridcolor": "white",
            "linecolor": "white",
            "ticks": ""
           }
          },
          "scene": {
           "xaxis": {
            "backgroundcolor": "#E5ECF6",
            "gridcolor": "white",
            "gridwidth": 2,
            "linecolor": "white",
            "showbackground": true,
            "ticks": "",
            "zerolinecolor": "white"
           },
           "yaxis": {
            "backgroundcolor": "#E5ECF6",
            "gridcolor": "white",
            "gridwidth": 2,
            "linecolor": "white",
            "showbackground": true,
            "ticks": "",
            "zerolinecolor": "white"
           },
           "zaxis": {
            "backgroundcolor": "#E5ECF6",
            "gridcolor": "white",
            "gridwidth": 2,
            "linecolor": "white",
            "showbackground": true,
            "ticks": "",
            "zerolinecolor": "white"
           }
          },
          "shapedefaults": {
           "line": {
            "color": "#2a3f5f"
           }
          },
          "ternary": {
           "aaxis": {
            "gridcolor": "white",
            "linecolor": "white",
            "ticks": ""
           },
           "baxis": {
            "gridcolor": "white",
            "linecolor": "white",
            "ticks": ""
           },
           "bgcolor": "#E5ECF6",
           "caxis": {
            "gridcolor": "white",
            "linecolor": "white",
            "ticks": ""
           }
          },
          "title": {
           "x": 0.05
          },
          "xaxis": {
           "automargin": true,
           "gridcolor": "white",
           "linecolor": "white",
           "ticks": "",
           "title": {
            "standoff": 15
           },
           "zerolinecolor": "white",
           "zerolinewidth": 2
          },
          "yaxis": {
           "automargin": true,
           "gridcolor": "white",
           "linecolor": "white",
           "ticks": "",
           "title": {
            "standoff": 15
           },
           "zerolinecolor": "white",
           "zerolinewidth": 2
          }
         }
        },
        "title": {
         "font": {
          "color": "#4D5663"
         }
        },
        "xaxis": {
         "gridcolor": "#E1E5ED",
         "showgrid": true,
         "tickfont": {
          "color": "#4D5663"
         },
         "title": {
          "font": {
           "color": "#4D5663"
          },
          "text": ""
         },
         "zerolinecolor": "#E1E5ED"
        },
        "yaxis": {
         "gridcolor": "#E1E5ED",
         "showgrid": true,
         "tickfont": {
          "color": "#4D5663"
         },
         "title": {
          "font": {
           "color": "#4D5663"
          },
          "text": ""
         },
         "zerolinecolor": "#E1E5ED"
        }
       }
      },
      "text/html": [
       "<div>\n",
       "        \n",
       "        \n",
       "            <div id=\"35999e7a-0b86-4e6a-a000-b016e9faff3c\" class=\"plotly-graph-div\" style=\"height:525px; width:100%;\"></div>\n",
       "            <script type=\"text/javascript\">\n",
       "                require([\"plotly\"], function(Plotly) {\n",
       "                    window.PLOTLYENV=window.PLOTLYENV || {};\n",
       "                    window.PLOTLYENV.BASE_URL='https://plot.ly';\n",
       "                    \n",
       "                if (document.getElementById(\"35999e7a-0b86-4e6a-a000-b016e9faff3c\")) {\n",
       "                    Plotly.newPlot(\n",
       "                        '35999e7a-0b86-4e6a-a000-b016e9faff3c',\n",
       "                        [{\"boxpoints\": false, \"line\": {\"width\": 1.3}, \"marker\": {\"color\": \"rgba(255, 153, 51, 1.0)\"}, \"name\": \"A\", \"orientation\": \"v\", \"type\": \"box\", \"y\": [-1.7328184700099154, -0.6655392531642427, -0.5141887381353419, -0.5307819801565642, -1.118698345400647, -0.015307381413286457, -1.4557398829714918, 0.8591588400819069, -0.26492340869200365, 0.4967984376875904, 0.04182940727328566, -1.7386011275388331, 0.6969431444672501, -0.052871581583919115, -1.6601792523085324, 0.05748666839097407, 0.1837621355327402, 1.4962874424816663, -0.6205832412165161, 0.1520623253012091, -0.0038386316317565086, 0.5512624161773946, 0.2036636174075826, -1.52475862710216, 0.9236883896430348, 2.046445624318661, -1.6928966996502095, -0.49450683165912346, -0.32097571153166865, 0.18429648757950035, 0.9590315555760798, 0.24518063014786312, 1.1035536863820947, -0.4262789193890452, 0.38796398237909235, 0.06095890635811224, -0.12080953360031857, 0.720045065572963, 1.1384712663936534, 0.91631532775539, -1.3971319160459976, 0.15533512015255674, -0.24322476528350576, -1.876186615785088, 1.3283670094396747, 1.4762463769813379, -0.0720559521924466, 0.7329609025539923, -0.6413826991069103, 0.12982126874312913, 1.518939354007646, -1.1545144296807108, 0.1470207356938776, -0.6908031760314431, -0.055941386298454326, 1.3156460053880759, 0.619892489089758, 0.6088290563295004, -0.5374672551116969, -0.6880550583755078, 0.7168531852731158, 0.007647487232779944, 2.211320735120686, 0.6438165866259979, -1.0666772238124416, 1.1185433129275277, -1.7299998201445086, -0.25975599587783443, 0.4226172574698807, 0.3941769709373833, 0.5160961375330596, 1.81819966745681, 0.7991786252320352, 1.046987568805078, -1.128395723062902, 1.7936925593507211, -0.5149323886783681, -0.9802210244604053, 0.2019466283016788, 0.5362430245906857, -1.8460225900728473, 1.1210128548791507, 0.4428581166140847, -0.3971102158075737, 1.0099720456684251, 0.04323912485309805, 0.16186786619863405, -0.8532924235905249, 0.5683047812022923, -0.7182340782336945, -0.33714320289360633, 1.6558347652323795, 0.4051329252254166, 0.7723889649324748, 0.9858257378129331, 0.3393662311036916, 1.251335110862688, -0.8894527872587709, 0.022788498965433734, 0.1529745603304253]}, {\"boxpoints\": false, \"line\": {\"width\": 1.3}, \"marker\": {\"color\": \"rgba(55, 128, 191, 1.0)\"}, \"name\": \"B\", \"orientation\": \"v\", \"type\": \"box\", \"y\": [-0.5737945545380813, 1.10681733267001, -0.8642735138565506, 0.5403727191652674, 1.3446585111575515, 0.9707770371986021, -0.4758158228346009, -1.7206476733987262, -0.5213925667074699, -1.3160304741085156, 1.7139340392948705, -1.081772196858882, 0.6852193539140005, 0.2357121945272125, -0.21621060736553435, -1.16561783610473, -0.7160992151206331, -0.7963619994131266, -5.734197369323232e-05, 0.4121475843934423, -0.5346345063636659, 0.9800828890027675, -0.17355190502161186, 0.50663665254452, -0.9743640840943804, 2.4442193260237777, -1.5127481904255589, -0.4463273169784612, 0.2863886544997744, -2.6366488568868967, 0.3399990001282703, -0.4238775381884636, 0.09553159887378632, 0.030443516590440534, -0.117465978296997, 0.5680994389852261, 0.8986361709059272, 0.05807554994885092, -0.573788376859282, 0.07770170114819182, -0.1532975170574101, -1.7259334090059024, 1.9288714395457591, -0.5540020564911894, 0.7437781696058638, 0.09207992430893966, -0.09103602463885366, 0.4550902656062467, -1.049078831656769, 0.39971184330269044, 1.8580764136015517, 1.530549476657037, -1.550731195712601, -1.7384459910819856, -0.9078249514952067, -0.5390811901792363, 2.0245770702001114, 0.060145825037109524, 0.19512977367730458, -0.906664515766312, -0.4579375421367402, 1.5950732986077922, -0.06095303450437194, -0.7050404940898929, -0.7948447032770758, -0.5673176973672968, -1.2621608935191002, -0.6700539341340684, 0.5446324881912484, -0.872920736801528, -0.917874519634289, -1.4537221534915523, 0.16881163940843347, 0.20088757260669715, 0.18290911610110255, -1.476238336965387, -0.5561300294068415, -0.36454287791069184, -0.06220468912964303, -0.9794835695449904, 1.9058757707845015, 0.09730984282951217, 0.974860478095882, -0.13908650831671687, 0.7492916762415887, -0.5509520407165336, -0.6638932817154232, -0.08468534082475872, 0.032786764332160115, -0.13758137168049833, 1.0497203019324426, 0.5940635515384379, -0.3397995017727589, 0.2857793266688294, 0.8331357511706957, 0.24054536988523556, -0.6609910622382077, -1.015298446375443, 0.7385713900137486, -0.43492175701388197]}, {\"boxpoints\": false, \"line\": {\"width\": 1.3}, \"marker\": {\"color\": \"rgba(50, 171, 96, 1.0)\"}, \"name\": \"C\", \"orientation\": \"v\", \"type\": \"box\", \"y\": [-2.5143134923113903, -0.6509188072601796, -1.0929806376167406, -2.608523012686631, -0.6515439074095098, -0.0333064701190502, 0.7606633089063881, 0.4128709184030706, -0.6631434605605585, 0.9383284809663233, -0.640923939094296, -1.451322224393623, -0.32452068357876357, 0.8560062510029888, 0.04874730079016477, -0.6502876099939146, 2.0300873604999925, 1.588622467301215, -0.02098210969456584, -0.5386063210027243, 0.3939456041421512, 0.5400582082029005, 1.2029381600400066, -1.599263794059734, 0.10677637474981985, 1.5243359839917698, -0.5531122529989283, 0.0018013257277539978, 0.007243731819215415, 0.3223473198321976, -1.0040855072140582, -0.5579320573624444, 1.0706742691410756, -0.6889035466203947, 0.2530161671325349, -1.743532298622672, -0.36352469284064715, 1.0313892282054828, -0.3987531022294804, -0.1400567640821582, 0.30414057790022453, -0.36640897480614737, -0.21419913181904907, 1.241243088420183, -0.6739876378558262, 0.07389182612537284, -0.03224726111307327, 1.1194329765894249, -0.6761821835514656, -1.6134368534742802, -0.41960299481596236, -0.19060574059427185, -0.11993860090379943, 0.31521309072533965, -2.021558231845061, -0.21644300192401225, -1.6877313200922548, -1.8076751235857098, -1.3852283577275846, -0.6661149941134256, 1.0063768444171797, 1.359618305861139, -1.469018277477196, -0.6577234211061695, -1.3683531470706467, -1.8237598616040247, 0.41753443738107054, -1.1526259185288221, -1.4323469934265356, -0.8830593669489718, 1.8431546945645012, -0.3625854899437133, 0.7694279154705537, 0.08941362971901017, 1.4660643585433049, 0.06829484146577768, -0.8511623078027825, -1.384913582089352, -1.1378261979375641, 0.38386522671538453, -1.2932844941271617, 0.7647470295737824, 0.2632165909128464, 1.2568833608738816, 1.2665194060352905, -1.760462544297134, -0.38007233523979733, -2.2853515965367737, 0.26537879693495575, -0.29996880981165763, -0.11434376808773915, 0.6228937735392496, -0.22652070309699104, -1.3926389582870053, -0.21170574994847616, -1.0759943427876493, 0.5140215484688332, 0.19608037262269554, -2.171579893652071, -0.7156074544641537]}, {\"boxpoints\": false, \"line\": {\"width\": 1.3}, \"marker\": {\"color\": \"rgba(128, 0, 128, 1.0)\"}, \"name\": \"D\", \"orientation\": \"v\", \"type\": \"box\", \"y\": [0.2635037826051746, -2.239900668127504, 0.6287513844324132, -2.1948221717203333, 0.6432799029201886, 1.209932206786237, -2.3545318574450134, 1.0745305466796755, -0.49275888145241564, -0.6669718697162098, 0.655200056418349, 1.5182651759676702, -1.5989561766263891, -0.5436935447528642, 0.1531899904145127, -1.253636332403664, 1.1026176291994954, 0.12708566121369286, -0.8535306920291047, -1.0248348769183893, -0.6045196815864822, -0.3953328860122542, 0.12003883366812776, 0.5953865334820625, -0.06212991230184508, 1.452689162912124, 0.4406880123087512, -1.613173683413528, 0.7772003829979456, -1.5631590743611659, 1.1444928651886228, -1.3607397426450984, 0.3505686485630722, 0.6601026213592619, 0.553392942363766, -0.23098918344720173, 0.8311318198942066, -0.08201430903256268, 0.2824545751892871, -0.03172367883037509, 0.3743088818050335, 0.5397953798154068, -1.2004762068784165, 0.2968361571745551, 0.14457907383222568, -0.5028088116733017, 0.5961255166425773, -1.7844469407248074, -2.496330914118227, -1.0261280768372907, 1.9368714651311647, -0.3674146748731469, 1.799442623225765, 0.2755359292972475, -0.14710677085185983, -0.687086704638258, 0.1999909696944079, 0.05105367380417333, -1.6961422920296267, 1.3147773687954898, 0.995116497484058, -0.8658822037081225, -0.004408572653071275, -1.4414798499456125, -0.5405079236279586, -0.533085208042458, 1.0943498426037666, -1.282138908622184, -0.6725787172001605, 0.43632191387047947, 1.8237296763666204, -1.7046840650369615, -0.860871824186915, 1.4634316445135658, 0.39371432565306586, -0.6469203777739958, -0.8556891941805826, -0.3353507357876152, 0.8028157715863787, -0.1639592906043109, -0.44702553786145677, -0.38310852317831606, -0.4570542510733638, 1.0845518642914551, 0.5169438264391508, -0.5641824896873722, 0.8100973323193629, 2.3351595477119416, -2.111058499254949, 0.5262861952143004, -0.853625275955298, -0.9682396772350652, -0.7774006438523732, -2.5104955678597096, 0.3598120367191213, -0.25608224070565877, 0.006413200965211256, 0.0524766666787389, 0.3074201403453346, 0.12702927894046318]}],\n",
       "                        {\"legend\": {\"bgcolor\": \"#F5F6F9\", \"font\": {\"color\": \"#4D5663\"}}, \"paper_bgcolor\": \"#F5F6F9\", \"plot_bgcolor\": \"#F5F6F9\", \"template\": {\"data\": {\"bar\": [{\"error_x\": {\"color\": \"#2a3f5f\"}, \"error_y\": {\"color\": \"#2a3f5f\"}, \"marker\": {\"line\": {\"color\": \"#E5ECF6\", \"width\": 0.5}}, \"type\": \"bar\"}], \"barpolar\": [{\"marker\": {\"line\": {\"color\": \"#E5ECF6\", \"width\": 0.5}}, \"type\": \"barpolar\"}], \"carpet\": [{\"aaxis\": {\"endlinecolor\": \"#2a3f5f\", \"gridcolor\": \"white\", \"linecolor\": \"white\", \"minorgridcolor\": \"white\", \"startlinecolor\": \"#2a3f5f\"}, \"baxis\": {\"endlinecolor\": \"#2a3f5f\", \"gridcolor\": \"white\", \"linecolor\": \"white\", \"minorgridcolor\": \"white\", \"startlinecolor\": \"#2a3f5f\"}, \"type\": \"carpet\"}], \"choropleth\": [{\"colorbar\": {\"outlinewidth\": 0, \"ticks\": \"\"}, \"type\": \"choropleth\"}], \"contour\": [{\"colorbar\": {\"outlinewidth\": 0, \"ticks\": \"\"}, \"colorscale\": [[0.0, \"#0d0887\"], [0.1111111111111111, \"#46039f\"], [0.2222222222222222, \"#7201a8\"], [0.3333333333333333, \"#9c179e\"], [0.4444444444444444, \"#bd3786\"], [0.5555555555555556, \"#d8576b\"], [0.6666666666666666, \"#ed7953\"], [0.7777777777777778, \"#fb9f3a\"], [0.8888888888888888, \"#fdca26\"], [1.0, \"#f0f921\"]], \"type\": \"contour\"}], \"contourcarpet\": [{\"colorbar\": {\"outlinewidth\": 0, \"ticks\": \"\"}, \"type\": \"contourcarpet\"}], \"heatmap\": [{\"colorbar\": {\"outlinewidth\": 0, \"ticks\": \"\"}, \"colorscale\": [[0.0, \"#0d0887\"], [0.1111111111111111, \"#46039f\"], [0.2222222222222222, \"#7201a8\"], [0.3333333333333333, \"#9c179e\"], [0.4444444444444444, \"#bd3786\"], [0.5555555555555556, \"#d8576b\"], [0.6666666666666666, \"#ed7953\"], [0.7777777777777778, \"#fb9f3a\"], [0.8888888888888888, \"#fdca26\"], [1.0, \"#f0f921\"]], \"type\": \"heatmap\"}], \"heatmapgl\": [{\"colorbar\": {\"outlinewidth\": 0, \"ticks\": \"\"}, \"colorscale\": [[0.0, \"#0d0887\"], [0.1111111111111111, \"#46039f\"], [0.2222222222222222, \"#7201a8\"], [0.3333333333333333, \"#9c179e\"], [0.4444444444444444, \"#bd3786\"], [0.5555555555555556, \"#d8576b\"], [0.6666666666666666, \"#ed7953\"], [0.7777777777777778, \"#fb9f3a\"], [0.8888888888888888, \"#fdca26\"], [1.0, \"#f0f921\"]], \"type\": \"heatmapgl\"}], \"histogram\": [{\"marker\": {\"colorbar\": {\"outlinewidth\": 0, \"ticks\": \"\"}}, \"type\": \"histogram\"}], \"histogram2d\": [{\"colorbar\": {\"outlinewidth\": 0, \"ticks\": \"\"}, \"colorscale\": [[0.0, \"#0d0887\"], [0.1111111111111111, \"#46039f\"], [0.2222222222222222, \"#7201a8\"], [0.3333333333333333, \"#9c179e\"], [0.4444444444444444, \"#bd3786\"], [0.5555555555555556, \"#d8576b\"], [0.6666666666666666, \"#ed7953\"], [0.7777777777777778, \"#fb9f3a\"], [0.8888888888888888, \"#fdca26\"], [1.0, \"#f0f921\"]], \"type\": \"histogram2d\"}], \"histogram2dcontour\": [{\"colorbar\": {\"outlinewidth\": 0, \"ticks\": \"\"}, \"colorscale\": [[0.0, \"#0d0887\"], [0.1111111111111111, \"#46039f\"], [0.2222222222222222, \"#7201a8\"], [0.3333333333333333, \"#9c179e\"], [0.4444444444444444, \"#bd3786\"], [0.5555555555555556, \"#d8576b\"], [0.6666666666666666, \"#ed7953\"], [0.7777777777777778, \"#fb9f3a\"], [0.8888888888888888, \"#fdca26\"], [1.0, \"#f0f921\"]], \"type\": \"histogram2dcontour\"}], \"mesh3d\": [{\"colorbar\": {\"outlinewidth\": 0, \"ticks\": \"\"}, \"type\": \"mesh3d\"}], \"parcoords\": [{\"line\": {\"colorbar\": {\"outlinewidth\": 0, \"ticks\": \"\"}}, \"type\": \"parcoords\"}], \"pie\": [{\"automargin\": true, \"type\": \"pie\"}], \"scatter\": [{\"marker\": {\"colorbar\": {\"outlinewidth\": 0, \"ticks\": \"\"}}, \"type\": \"scatter\"}], \"scatter3d\": [{\"line\": {\"colorbar\": {\"outlinewidth\": 0, \"ticks\": \"\"}}, \"marker\": {\"colorbar\": {\"outlinewidth\": 0, \"ticks\": \"\"}}, \"type\": \"scatter3d\"}], \"scattercarpet\": [{\"marker\": {\"colorbar\": {\"outlinewidth\": 0, \"ticks\": \"\"}}, \"type\": \"scattercarpet\"}], \"scattergeo\": [{\"marker\": {\"colorbar\": {\"outlinewidth\": 0, \"ticks\": \"\"}}, \"type\": \"scattergeo\"}], \"scattergl\": [{\"marker\": {\"colorbar\": {\"outlinewidth\": 0, \"ticks\": \"\"}}, \"type\": \"scattergl\"}], \"scattermapbox\": [{\"marker\": {\"colorbar\": {\"outlinewidth\": 0, \"ticks\": \"\"}}, \"type\": \"scattermapbox\"}], \"scatterpolar\": [{\"marker\": {\"colorbar\": {\"outlinewidth\": 0, \"ticks\": \"\"}}, \"type\": \"scatterpolar\"}], \"scatterpolargl\": [{\"marker\": {\"colorbar\": {\"outlinewidth\": 0, \"ticks\": \"\"}}, \"type\": \"scatterpolargl\"}], \"scatterternary\": [{\"marker\": {\"colorbar\": {\"outlinewidth\": 0, \"ticks\": \"\"}}, \"type\": \"scatterternary\"}], \"surface\": [{\"colorbar\": {\"outlinewidth\": 0, \"ticks\": \"\"}, \"colorscale\": [[0.0, \"#0d0887\"], [0.1111111111111111, \"#46039f\"], [0.2222222222222222, \"#7201a8\"], [0.3333333333333333, \"#9c179e\"], [0.4444444444444444, \"#bd3786\"], [0.5555555555555556, \"#d8576b\"], [0.6666666666666666, \"#ed7953\"], [0.7777777777777778, \"#fb9f3a\"], [0.8888888888888888, \"#fdca26\"], [1.0, \"#f0f921\"]], \"type\": \"surface\"}], \"table\": [{\"cells\": {\"fill\": {\"color\": \"#EBF0F8\"}, \"line\": {\"color\": \"white\"}}, \"header\": {\"fill\": {\"color\": \"#C8D4E3\"}, \"line\": {\"color\": \"white\"}}, \"type\": \"table\"}]}, \"layout\": {\"annotationdefaults\": {\"arrowcolor\": \"#2a3f5f\", \"arrowhead\": 0, \"arrowwidth\": 1}, \"coloraxis\": {\"colorbar\": {\"outlinewidth\": 0, \"ticks\": \"\"}}, \"colorscale\": {\"diverging\": [[0, \"#8e0152\"], [0.1, \"#c51b7d\"], [0.2, \"#de77ae\"], [0.3, \"#f1b6da\"], [0.4, \"#fde0ef\"], [0.5, \"#f7f7f7\"], [0.6, \"#e6f5d0\"], [0.7, \"#b8e186\"], [0.8, \"#7fbc41\"], [0.9, \"#4d9221\"], [1, \"#276419\"]], \"sequential\": [[0.0, \"#0d0887\"], [0.1111111111111111, \"#46039f\"], [0.2222222222222222, \"#7201a8\"], [0.3333333333333333, \"#9c179e\"], [0.4444444444444444, \"#bd3786\"], [0.5555555555555556, \"#d8576b\"], [0.6666666666666666, \"#ed7953\"], [0.7777777777777778, \"#fb9f3a\"], [0.8888888888888888, \"#fdca26\"], [1.0, \"#f0f921\"]], \"sequentialminus\": [[0.0, \"#0d0887\"], [0.1111111111111111, \"#46039f\"], [0.2222222222222222, \"#7201a8\"], [0.3333333333333333, \"#9c179e\"], [0.4444444444444444, \"#bd3786\"], [0.5555555555555556, \"#d8576b\"], [0.6666666666666666, \"#ed7953\"], [0.7777777777777778, \"#fb9f3a\"], [0.8888888888888888, \"#fdca26\"], [1.0, \"#f0f921\"]]}, \"colorway\": [\"#636efa\", \"#EF553B\", \"#00cc96\", \"#ab63fa\", \"#FFA15A\", \"#19d3f3\", \"#FF6692\", \"#B6E880\", \"#FF97FF\", \"#FECB52\"], \"font\": {\"color\": \"#2a3f5f\"}, \"geo\": {\"bgcolor\": \"white\", \"lakecolor\": \"white\", \"landcolor\": \"#E5ECF6\", \"showlakes\": true, \"showland\": true, \"subunitcolor\": \"white\"}, \"hoverlabel\": {\"align\": \"left\"}, \"hovermode\": \"closest\", \"mapbox\": {\"style\": \"light\"}, \"paper_bgcolor\": \"white\", \"plot_bgcolor\": \"#E5ECF6\", \"polar\": {\"angularaxis\": {\"gridcolor\": \"white\", \"linecolor\": \"white\", \"ticks\": \"\"}, \"bgcolor\": \"#E5ECF6\", \"radialaxis\": {\"gridcolor\": \"white\", \"linecolor\": \"white\", \"ticks\": \"\"}}, \"scene\": {\"xaxis\": {\"backgroundcolor\": \"#E5ECF6\", \"gridcolor\": \"white\", \"gridwidth\": 2, \"linecolor\": \"white\", \"showbackground\": true, \"ticks\": \"\", \"zerolinecolor\": \"white\"}, \"yaxis\": {\"backgroundcolor\": \"#E5ECF6\", \"gridcolor\": \"white\", \"gridwidth\": 2, \"linecolor\": \"white\", \"showbackground\": true, \"ticks\": \"\", \"zerolinecolor\": \"white\"}, \"zaxis\": {\"backgroundcolor\": \"#E5ECF6\", \"gridcolor\": \"white\", \"gridwidth\": 2, \"linecolor\": \"white\", \"showbackground\": true, \"ticks\": \"\", \"zerolinecolor\": \"white\"}}, \"shapedefaults\": {\"line\": {\"color\": \"#2a3f5f\"}}, \"ternary\": {\"aaxis\": {\"gridcolor\": \"white\", \"linecolor\": \"white\", \"ticks\": \"\"}, \"baxis\": {\"gridcolor\": \"white\", \"linecolor\": \"white\", \"ticks\": \"\"}, \"bgcolor\": \"#E5ECF6\", \"caxis\": {\"gridcolor\": \"white\", \"linecolor\": \"white\", \"ticks\": \"\"}}, \"title\": {\"x\": 0.05}, \"xaxis\": {\"automargin\": true, \"gridcolor\": \"white\", \"linecolor\": \"white\", \"ticks\": \"\", \"title\": {\"standoff\": 15}, \"zerolinecolor\": \"white\", \"zerolinewidth\": 2}, \"yaxis\": {\"automargin\": true, \"gridcolor\": \"white\", \"linecolor\": \"white\", \"ticks\": \"\", \"title\": {\"standoff\": 15}, \"zerolinecolor\": \"white\", \"zerolinewidth\": 2}}}, \"title\": {\"font\": {\"color\": \"#4D5663\"}}, \"xaxis\": {\"gridcolor\": \"#E1E5ED\", \"showgrid\": true, \"tickfont\": {\"color\": \"#4D5663\"}, \"title\": {\"font\": {\"color\": \"#4D5663\"}, \"text\": \"\"}, \"zerolinecolor\": \"#E1E5ED\"}, \"yaxis\": {\"gridcolor\": \"#E1E5ED\", \"showgrid\": true, \"tickfont\": {\"color\": \"#4D5663\"}, \"title\": {\"font\": {\"color\": \"#4D5663\"}, \"text\": \"\"}, \"zerolinecolor\": \"#E1E5ED\"}},\n",
       "                        {\"showLink\": true, \"linkText\": \"Export to plot.ly\", \"plotlyServerURL\": \"https://plot.ly\", \"responsive\": true}\n",
       "                    ).then(function(){\n",
       "                            \n",
       "var gd = document.getElementById('35999e7a-0b86-4e6a-a000-b016e9faff3c');\n",
       "var x = new MutationObserver(function (mutations, observer) {{\n",
       "        var display = window.getComputedStyle(gd).display;\n",
       "        if (!display || display === 'none') {{\n",
       "            console.log([gd, 'removed!']);\n",
       "            Plotly.purge(gd);\n",
       "            observer.disconnect();\n",
       "        }}\n",
       "}});\n",
       "\n",
       "// Listen for the removal of the full notebook cells\n",
       "var notebookContainer = gd.closest('#notebook-container');\n",
       "if (notebookContainer) {{\n",
       "    x.observe(notebookContainer, {childList: true});\n",
       "}}\n",
       "\n",
       "// Listen for the clearing of the current output cell\n",
       "var outputEl = gd.closest('.output');\n",
       "if (outputEl) {{\n",
       "    x.observe(outputEl, {childList: true});\n",
       "}}\n",
       "\n",
       "                        })\n",
       "                };\n",
       "                });\n",
       "            </script>\n",
       "        </div>"
      ]
     },
     "metadata": {},
     "output_type": "display_data"
    }
   ],
   "source": [
    "df.iplot(kind='box')"
   ]
  },
  {
   "cell_type": "code",
   "execution_count": 43,
   "metadata": {},
   "outputs": [],
   "source": [
    "df3 = pd.DataFrame({'x':[1,2,3,4,5],'y':[10,20,30,20,10],'z':[500,400,300,200,100]})"
   ]
  },
  {
   "cell_type": "code",
   "execution_count": 44,
   "metadata": {},
   "outputs": [
    {
     "data": {
      "text/html": [
       "<div>\n",
       "<style scoped>\n",
       "    .dataframe tbody tr th:only-of-type {\n",
       "        vertical-align: middle;\n",
       "    }\n",
       "\n",
       "    .dataframe tbody tr th {\n",
       "        vertical-align: top;\n",
       "    }\n",
       "\n",
       "    .dataframe thead th {\n",
       "        text-align: right;\n",
       "    }\n",
       "</style>\n",
       "<table border=\"1\" class=\"dataframe\">\n",
       "  <thead>\n",
       "    <tr style=\"text-align: right;\">\n",
       "      <th></th>\n",
       "      <th>x</th>\n",
       "      <th>y</th>\n",
       "      <th>z</th>\n",
       "    </tr>\n",
       "  </thead>\n",
       "  <tbody>\n",
       "    <tr>\n",
       "      <th>0</th>\n",
       "      <td>1</td>\n",
       "      <td>10</td>\n",
       "      <td>500</td>\n",
       "    </tr>\n",
       "    <tr>\n",
       "      <th>1</th>\n",
       "      <td>2</td>\n",
       "      <td>20</td>\n",
       "      <td>400</td>\n",
       "    </tr>\n",
       "    <tr>\n",
       "      <th>2</th>\n",
       "      <td>3</td>\n",
       "      <td>30</td>\n",
       "      <td>300</td>\n",
       "    </tr>\n",
       "    <tr>\n",
       "      <th>3</th>\n",
       "      <td>4</td>\n",
       "      <td>20</td>\n",
       "      <td>200</td>\n",
       "    </tr>\n",
       "    <tr>\n",
       "      <th>4</th>\n",
       "      <td>5</td>\n",
       "      <td>10</td>\n",
       "      <td>100</td>\n",
       "    </tr>\n",
       "  </tbody>\n",
       "</table>\n",
       "</div>"
      ],
      "text/plain": [
       "   x   y    z\n",
       "0  1  10  500\n",
       "1  2  20  400\n",
       "2  3  30  300\n",
       "3  4  20  200\n",
       "4  5  10  100"
      ]
     },
     "execution_count": 44,
     "metadata": {},
     "output_type": "execute_result"
    }
   ],
   "source": [
    "df3"
   ]
  },
  {
   "cell_type": "code",
   "execution_count": 45,
   "metadata": {},
   "outputs": [
    {
     "data": {
      "application/vnd.plotly.v1+json": {
       "config": {
        "linkText": "Export to plot.ly",
        "plotlyServerURL": "https://plot.ly",
        "showLink": true
       },
       "data": [
        {
         "colorscale": [
          [
           0,
           "rgb(255, 153, 51)"
          ],
          [
           0.1111111111111111,
           "rgb(55, 128, 191)"
          ],
          [
           0.2222222222222222,
           "rgb(50, 171, 96)"
          ],
          [
           0.3333333333333333,
           "rgb(128, 0, 128)"
          ],
          [
           0.4444444444444444,
           "rgb(219, 64, 82)"
          ],
          [
           0.5555555555555556,
           "rgb(0, 128, 128)"
          ],
          [
           0.6666666666666666,
           "rgb(255, 255, 51)"
          ],
          [
           0.7777777777777778,
           "rgb(128, 128, 0)"
          ],
          [
           0.8888888888888888,
           "rgb(251, 128, 114)"
          ],
          [
           1,
           "rgb(128, 177, 211)"
          ]
         ],
         "type": "surface",
         "x": [
          0,
          1,
          2,
          3,
          4
         ],
         "y": [
          "x",
          "y",
          "z"
         ],
         "z": [
          [
           1,
           2,
           3,
           4,
           5
          ],
          [
           10,
           20,
           30,
           20,
           10
          ],
          [
           500,
           400,
           300,
           200,
           100
          ]
         ]
        }
       ],
       "layout": {
        "legend": {
         "bgcolor": "#F5F6F9",
         "font": {
          "color": "#4D5663"
         }
        },
        "paper_bgcolor": "#F5F6F9",
        "plot_bgcolor": "#F5F6F9",
        "template": {
         "data": {
          "bar": [
           {
            "error_x": {
             "color": "#2a3f5f"
            },
            "error_y": {
             "color": "#2a3f5f"
            },
            "marker": {
             "line": {
              "color": "#E5ECF6",
              "width": 0.5
             }
            },
            "type": "bar"
           }
          ],
          "barpolar": [
           {
            "marker": {
             "line": {
              "color": "#E5ECF6",
              "width": 0.5
             }
            },
            "type": "barpolar"
           }
          ],
          "carpet": [
           {
            "aaxis": {
             "endlinecolor": "#2a3f5f",
             "gridcolor": "white",
             "linecolor": "white",
             "minorgridcolor": "white",
             "startlinecolor": "#2a3f5f"
            },
            "baxis": {
             "endlinecolor": "#2a3f5f",
             "gridcolor": "white",
             "linecolor": "white",
             "minorgridcolor": "white",
             "startlinecolor": "#2a3f5f"
            },
            "type": "carpet"
           }
          ],
          "choropleth": [
           {
            "colorbar": {
             "outlinewidth": 0,
             "ticks": ""
            },
            "type": "choropleth"
           }
          ],
          "contour": [
           {
            "colorbar": {
             "outlinewidth": 0,
             "ticks": ""
            },
            "colorscale": [
             [
              0,
              "#0d0887"
             ],
             [
              0.1111111111111111,
              "#46039f"
             ],
             [
              0.2222222222222222,
              "#7201a8"
             ],
             [
              0.3333333333333333,
              "#9c179e"
             ],
             [
              0.4444444444444444,
              "#bd3786"
             ],
             [
              0.5555555555555556,
              "#d8576b"
             ],
             [
              0.6666666666666666,
              "#ed7953"
             ],
             [
              0.7777777777777778,
              "#fb9f3a"
             ],
             [
              0.8888888888888888,
              "#fdca26"
             ],
             [
              1,
              "#f0f921"
             ]
            ],
            "type": "contour"
           }
          ],
          "contourcarpet": [
           {
            "colorbar": {
             "outlinewidth": 0,
             "ticks": ""
            },
            "type": "contourcarpet"
           }
          ],
          "heatmap": [
           {
            "colorbar": {
             "outlinewidth": 0,
             "ticks": ""
            },
            "colorscale": [
             [
              0,
              "#0d0887"
             ],
             [
              0.1111111111111111,
              "#46039f"
             ],
             [
              0.2222222222222222,
              "#7201a8"
             ],
             [
              0.3333333333333333,
              "#9c179e"
             ],
             [
              0.4444444444444444,
              "#bd3786"
             ],
             [
              0.5555555555555556,
              "#d8576b"
             ],
             [
              0.6666666666666666,
              "#ed7953"
             ],
             [
              0.7777777777777778,
              "#fb9f3a"
             ],
             [
              0.8888888888888888,
              "#fdca26"
             ],
             [
              1,
              "#f0f921"
             ]
            ],
            "type": "heatmap"
           }
          ],
          "heatmapgl": [
           {
            "colorbar": {
             "outlinewidth": 0,
             "ticks": ""
            },
            "colorscale": [
             [
              0,
              "#0d0887"
             ],
             [
              0.1111111111111111,
              "#46039f"
             ],
             [
              0.2222222222222222,
              "#7201a8"
             ],
             [
              0.3333333333333333,
              "#9c179e"
             ],
             [
              0.4444444444444444,
              "#bd3786"
             ],
             [
              0.5555555555555556,
              "#d8576b"
             ],
             [
              0.6666666666666666,
              "#ed7953"
             ],
             [
              0.7777777777777778,
              "#fb9f3a"
             ],
             [
              0.8888888888888888,
              "#fdca26"
             ],
             [
              1,
              "#f0f921"
             ]
            ],
            "type": "heatmapgl"
           }
          ],
          "histogram": [
           {
            "marker": {
             "colorbar": {
              "outlinewidth": 0,
              "ticks": ""
             }
            },
            "type": "histogram"
           }
          ],
          "histogram2d": [
           {
            "colorbar": {
             "outlinewidth": 0,
             "ticks": ""
            },
            "colorscale": [
             [
              0,
              "#0d0887"
             ],
             [
              0.1111111111111111,
              "#46039f"
             ],
             [
              0.2222222222222222,
              "#7201a8"
             ],
             [
              0.3333333333333333,
              "#9c179e"
             ],
             [
              0.4444444444444444,
              "#bd3786"
             ],
             [
              0.5555555555555556,
              "#d8576b"
             ],
             [
              0.6666666666666666,
              "#ed7953"
             ],
             [
              0.7777777777777778,
              "#fb9f3a"
             ],
             [
              0.8888888888888888,
              "#fdca26"
             ],
             [
              1,
              "#f0f921"
             ]
            ],
            "type": "histogram2d"
           }
          ],
          "histogram2dcontour": [
           {
            "colorbar": {
             "outlinewidth": 0,
             "ticks": ""
            },
            "colorscale": [
             [
              0,
              "#0d0887"
             ],
             [
              0.1111111111111111,
              "#46039f"
             ],
             [
              0.2222222222222222,
              "#7201a8"
             ],
             [
              0.3333333333333333,
              "#9c179e"
             ],
             [
              0.4444444444444444,
              "#bd3786"
             ],
             [
              0.5555555555555556,
              "#d8576b"
             ],
             [
              0.6666666666666666,
              "#ed7953"
             ],
             [
              0.7777777777777778,
              "#fb9f3a"
             ],
             [
              0.8888888888888888,
              "#fdca26"
             ],
             [
              1,
              "#f0f921"
             ]
            ],
            "type": "histogram2dcontour"
           }
          ],
          "mesh3d": [
           {
            "colorbar": {
             "outlinewidth": 0,
             "ticks": ""
            },
            "type": "mesh3d"
           }
          ],
          "parcoords": [
           {
            "line": {
             "colorbar": {
              "outlinewidth": 0,
              "ticks": ""
             }
            },
            "type": "parcoords"
           }
          ],
          "pie": [
           {
            "automargin": true,
            "type": "pie"
           }
          ],
          "scatter": [
           {
            "marker": {
             "colorbar": {
              "outlinewidth": 0,
              "ticks": ""
             }
            },
            "type": "scatter"
           }
          ],
          "scatter3d": [
           {
            "line": {
             "colorbar": {
              "outlinewidth": 0,
              "ticks": ""
             }
            },
            "marker": {
             "colorbar": {
              "outlinewidth": 0,
              "ticks": ""
             }
            },
            "type": "scatter3d"
           }
          ],
          "scattercarpet": [
           {
            "marker": {
             "colorbar": {
              "outlinewidth": 0,
              "ticks": ""
             }
            },
            "type": "scattercarpet"
           }
          ],
          "scattergeo": [
           {
            "marker": {
             "colorbar": {
              "outlinewidth": 0,
              "ticks": ""
             }
            },
            "type": "scattergeo"
           }
          ],
          "scattergl": [
           {
            "marker": {
             "colorbar": {
              "outlinewidth": 0,
              "ticks": ""
             }
            },
            "type": "scattergl"
           }
          ],
          "scattermapbox": [
           {
            "marker": {
             "colorbar": {
              "outlinewidth": 0,
              "ticks": ""
             }
            },
            "type": "scattermapbox"
           }
          ],
          "scatterpolar": [
           {
            "marker": {
             "colorbar": {
              "outlinewidth": 0,
              "ticks": ""
             }
            },
            "type": "scatterpolar"
           }
          ],
          "scatterpolargl": [
           {
            "marker": {
             "colorbar": {
              "outlinewidth": 0,
              "ticks": ""
             }
            },
            "type": "scatterpolargl"
           }
          ],
          "scatterternary": [
           {
            "marker": {
             "colorbar": {
              "outlinewidth": 0,
              "ticks": ""
             }
            },
            "type": "scatterternary"
           }
          ],
          "surface": [
           {
            "colorbar": {
             "outlinewidth": 0,
             "ticks": ""
            },
            "colorscale": [
             [
              0,
              "#0d0887"
             ],
             [
              0.1111111111111111,
              "#46039f"
             ],
             [
              0.2222222222222222,
              "#7201a8"
             ],
             [
              0.3333333333333333,
              "#9c179e"
             ],
             [
              0.4444444444444444,
              "#bd3786"
             ],
             [
              0.5555555555555556,
              "#d8576b"
             ],
             [
              0.6666666666666666,
              "#ed7953"
             ],
             [
              0.7777777777777778,
              "#fb9f3a"
             ],
             [
              0.8888888888888888,
              "#fdca26"
             ],
             [
              1,
              "#f0f921"
             ]
            ],
            "type": "surface"
           }
          ],
          "table": [
           {
            "cells": {
             "fill": {
              "color": "#EBF0F8"
             },
             "line": {
              "color": "white"
             }
            },
            "header": {
             "fill": {
              "color": "#C8D4E3"
             },
             "line": {
              "color": "white"
             }
            },
            "type": "table"
           }
          ]
         },
         "layout": {
          "annotationdefaults": {
           "arrowcolor": "#2a3f5f",
           "arrowhead": 0,
           "arrowwidth": 1
          },
          "coloraxis": {
           "colorbar": {
            "outlinewidth": 0,
            "ticks": ""
           }
          },
          "colorscale": {
           "diverging": [
            [
             0,
             "#8e0152"
            ],
            [
             0.1,
             "#c51b7d"
            ],
            [
             0.2,
             "#de77ae"
            ],
            [
             0.3,
             "#f1b6da"
            ],
            [
             0.4,
             "#fde0ef"
            ],
            [
             0.5,
             "#f7f7f7"
            ],
            [
             0.6,
             "#e6f5d0"
            ],
            [
             0.7,
             "#b8e186"
            ],
            [
             0.8,
             "#7fbc41"
            ],
            [
             0.9,
             "#4d9221"
            ],
            [
             1,
             "#276419"
            ]
           ],
           "sequential": [
            [
             0,
             "#0d0887"
            ],
            [
             0.1111111111111111,
             "#46039f"
            ],
            [
             0.2222222222222222,
             "#7201a8"
            ],
            [
             0.3333333333333333,
             "#9c179e"
            ],
            [
             0.4444444444444444,
             "#bd3786"
            ],
            [
             0.5555555555555556,
             "#d8576b"
            ],
            [
             0.6666666666666666,
             "#ed7953"
            ],
            [
             0.7777777777777778,
             "#fb9f3a"
            ],
            [
             0.8888888888888888,
             "#fdca26"
            ],
            [
             1,
             "#f0f921"
            ]
           ],
           "sequentialminus": [
            [
             0,
             "#0d0887"
            ],
            [
             0.1111111111111111,
             "#46039f"
            ],
            [
             0.2222222222222222,
             "#7201a8"
            ],
            [
             0.3333333333333333,
             "#9c179e"
            ],
            [
             0.4444444444444444,
             "#bd3786"
            ],
            [
             0.5555555555555556,
             "#d8576b"
            ],
            [
             0.6666666666666666,
             "#ed7953"
            ],
            [
             0.7777777777777778,
             "#fb9f3a"
            ],
            [
             0.8888888888888888,
             "#fdca26"
            ],
            [
             1,
             "#f0f921"
            ]
           ]
          },
          "colorway": [
           "#636efa",
           "#EF553B",
           "#00cc96",
           "#ab63fa",
           "#FFA15A",
           "#19d3f3",
           "#FF6692",
           "#B6E880",
           "#FF97FF",
           "#FECB52"
          ],
          "font": {
           "color": "#2a3f5f"
          },
          "geo": {
           "bgcolor": "white",
           "lakecolor": "white",
           "landcolor": "#E5ECF6",
           "showlakes": true,
           "showland": true,
           "subunitcolor": "white"
          },
          "hoverlabel": {
           "align": "left"
          },
          "hovermode": "closest",
          "mapbox": {
           "style": "light"
          },
          "paper_bgcolor": "white",
          "plot_bgcolor": "#E5ECF6",
          "polar": {
           "angularaxis": {
            "gridcolor": "white",
            "linecolor": "white",
            "ticks": ""
           },
           "bgcolor": "#E5ECF6",
           "radialaxis": {
            "gridcolor": "white",
            "linecolor": "white",
            "ticks": ""
           }
          },
          "scene": {
           "xaxis": {
            "backgroundcolor": "#E5ECF6",
            "gridcolor": "white",
            "gridwidth": 2,
            "linecolor": "white",
            "showbackground": true,
            "ticks": "",
            "zerolinecolor": "white"
           },
           "yaxis": {
            "backgroundcolor": "#E5ECF6",
            "gridcolor": "white",
            "gridwidth": 2,
            "linecolor": "white",
            "showbackground": true,
            "ticks": "",
            "zerolinecolor": "white"
           },
           "zaxis": {
            "backgroundcolor": "#E5ECF6",
            "gridcolor": "white",
            "gridwidth": 2,
            "linecolor": "white",
            "showbackground": true,
            "ticks": "",
            "zerolinecolor": "white"
           }
          },
          "shapedefaults": {
           "line": {
            "color": "#2a3f5f"
           }
          },
          "ternary": {
           "aaxis": {
            "gridcolor": "white",
            "linecolor": "white",
            "ticks": ""
           },
           "baxis": {
            "gridcolor": "white",
            "linecolor": "white",
            "ticks": ""
           },
           "bgcolor": "#E5ECF6",
           "caxis": {
            "gridcolor": "white",
            "linecolor": "white",
            "ticks": ""
           }
          },
          "title": {
           "x": 0.05
          },
          "xaxis": {
           "automargin": true,
           "gridcolor": "white",
           "linecolor": "white",
           "ticks": "",
           "title": {
            "standoff": 15
           },
           "zerolinecolor": "white",
           "zerolinewidth": 2
          },
          "yaxis": {
           "automargin": true,
           "gridcolor": "white",
           "linecolor": "white",
           "ticks": "",
           "title": {
            "standoff": 15
           },
           "zerolinecolor": "white",
           "zerolinewidth": 2
          }
         }
        },
        "title": {
         "font": {
          "color": "#4D5663"
         }
        },
        "xaxis": {
         "gridcolor": "#E1E5ED",
         "showgrid": true,
         "tickfont": {
          "color": "#4D5663"
         },
         "title": {
          "font": {
           "color": "#4D5663"
          },
          "text": ""
         },
         "zerolinecolor": "#E1E5ED"
        },
        "yaxis": {
         "gridcolor": "#E1E5ED",
         "showgrid": true,
         "tickfont": {
          "color": "#4D5663"
         },
         "title": {
          "font": {
           "color": "#4D5663"
          },
          "text": ""
         },
         "zerolinecolor": "#E1E5ED"
        }
       }
      },
      "text/html": [
       "<div>\n",
       "        \n",
       "        \n",
       "            <div id=\"df214a49-dfb0-409d-a2d1-e02ccdbec7da\" class=\"plotly-graph-div\" style=\"height:525px; width:100%;\"></div>\n",
       "            <script type=\"text/javascript\">\n",
       "                require([\"plotly\"], function(Plotly) {\n",
       "                    window.PLOTLYENV=window.PLOTLYENV || {};\n",
       "                    window.PLOTLYENV.BASE_URL='https://plot.ly';\n",
       "                    \n",
       "                if (document.getElementById(\"df214a49-dfb0-409d-a2d1-e02ccdbec7da\")) {\n",
       "                    Plotly.newPlot(\n",
       "                        'df214a49-dfb0-409d-a2d1-e02ccdbec7da',\n",
       "                        [{\"colorscale\": [[0.0, \"rgb(255, 153, 51)\"], [0.1111111111111111, \"rgb(55, 128, 191)\"], [0.2222222222222222, \"rgb(50, 171, 96)\"], [0.3333333333333333, \"rgb(128, 0, 128)\"], [0.4444444444444444, \"rgb(219, 64, 82)\"], [0.5555555555555556, \"rgb(0, 128, 128)\"], [0.6666666666666666, \"rgb(255, 255, 51)\"], [0.7777777777777778, \"rgb(128, 128, 0)\"], [0.8888888888888888, \"rgb(251, 128, 114)\"], [1.0, \"rgb(128, 177, 211)\"]], \"type\": \"surface\", \"x\": [0, 1, 2, 3, 4], \"y\": [\"x\", \"y\", \"z\"], \"z\": [[1, 2, 3, 4, 5], [10, 20, 30, 20, 10], [500, 400, 300, 200, 100]]}],\n",
       "                        {\"legend\": {\"bgcolor\": \"#F5F6F9\", \"font\": {\"color\": \"#4D5663\"}}, \"paper_bgcolor\": \"#F5F6F9\", \"plot_bgcolor\": \"#F5F6F9\", \"template\": {\"data\": {\"bar\": [{\"error_x\": {\"color\": \"#2a3f5f\"}, \"error_y\": {\"color\": \"#2a3f5f\"}, \"marker\": {\"line\": {\"color\": \"#E5ECF6\", \"width\": 0.5}}, \"type\": \"bar\"}], \"barpolar\": [{\"marker\": {\"line\": {\"color\": \"#E5ECF6\", \"width\": 0.5}}, \"type\": \"barpolar\"}], \"carpet\": [{\"aaxis\": {\"endlinecolor\": \"#2a3f5f\", \"gridcolor\": \"white\", \"linecolor\": \"white\", \"minorgridcolor\": \"white\", \"startlinecolor\": \"#2a3f5f\"}, \"baxis\": {\"endlinecolor\": \"#2a3f5f\", \"gridcolor\": \"white\", \"linecolor\": \"white\", \"minorgridcolor\": \"white\", \"startlinecolor\": \"#2a3f5f\"}, \"type\": \"carpet\"}], \"choropleth\": [{\"colorbar\": {\"outlinewidth\": 0, \"ticks\": \"\"}, \"type\": \"choropleth\"}], \"contour\": [{\"colorbar\": {\"outlinewidth\": 0, \"ticks\": \"\"}, \"colorscale\": [[0.0, \"#0d0887\"], [0.1111111111111111, \"#46039f\"], [0.2222222222222222, \"#7201a8\"], [0.3333333333333333, \"#9c179e\"], [0.4444444444444444, \"#bd3786\"], [0.5555555555555556, \"#d8576b\"], [0.6666666666666666, \"#ed7953\"], [0.7777777777777778, \"#fb9f3a\"], [0.8888888888888888, \"#fdca26\"], [1.0, \"#f0f921\"]], \"type\": \"contour\"}], \"contourcarpet\": [{\"colorbar\": {\"outlinewidth\": 0, \"ticks\": \"\"}, \"type\": \"contourcarpet\"}], \"heatmap\": [{\"colorbar\": {\"outlinewidth\": 0, \"ticks\": \"\"}, \"colorscale\": [[0.0, \"#0d0887\"], [0.1111111111111111, \"#46039f\"], [0.2222222222222222, \"#7201a8\"], [0.3333333333333333, \"#9c179e\"], [0.4444444444444444, \"#bd3786\"], [0.5555555555555556, \"#d8576b\"], [0.6666666666666666, \"#ed7953\"], [0.7777777777777778, \"#fb9f3a\"], [0.8888888888888888, \"#fdca26\"], [1.0, \"#f0f921\"]], \"type\": \"heatmap\"}], \"heatmapgl\": [{\"colorbar\": {\"outlinewidth\": 0, \"ticks\": \"\"}, \"colorscale\": [[0.0, \"#0d0887\"], [0.1111111111111111, \"#46039f\"], [0.2222222222222222, \"#7201a8\"], [0.3333333333333333, \"#9c179e\"], [0.4444444444444444, \"#bd3786\"], [0.5555555555555556, \"#d8576b\"], [0.6666666666666666, \"#ed7953\"], [0.7777777777777778, \"#fb9f3a\"], [0.8888888888888888, \"#fdca26\"], [1.0, \"#f0f921\"]], \"type\": \"heatmapgl\"}], \"histogram\": [{\"marker\": {\"colorbar\": {\"outlinewidth\": 0, \"ticks\": \"\"}}, \"type\": \"histogram\"}], \"histogram2d\": [{\"colorbar\": {\"outlinewidth\": 0, \"ticks\": \"\"}, \"colorscale\": [[0.0, \"#0d0887\"], [0.1111111111111111, \"#46039f\"], [0.2222222222222222, \"#7201a8\"], [0.3333333333333333, \"#9c179e\"], [0.4444444444444444, \"#bd3786\"], [0.5555555555555556, \"#d8576b\"], [0.6666666666666666, \"#ed7953\"], [0.7777777777777778, \"#fb9f3a\"], [0.8888888888888888, \"#fdca26\"], [1.0, \"#f0f921\"]], \"type\": \"histogram2d\"}], \"histogram2dcontour\": [{\"colorbar\": {\"outlinewidth\": 0, \"ticks\": \"\"}, \"colorscale\": [[0.0, \"#0d0887\"], [0.1111111111111111, \"#46039f\"], [0.2222222222222222, \"#7201a8\"], [0.3333333333333333, \"#9c179e\"], [0.4444444444444444, \"#bd3786\"], [0.5555555555555556, \"#d8576b\"], [0.6666666666666666, \"#ed7953\"], [0.7777777777777778, \"#fb9f3a\"], [0.8888888888888888, \"#fdca26\"], [1.0, \"#f0f921\"]], \"type\": \"histogram2dcontour\"}], \"mesh3d\": [{\"colorbar\": {\"outlinewidth\": 0, \"ticks\": \"\"}, \"type\": \"mesh3d\"}], \"parcoords\": [{\"line\": {\"colorbar\": {\"outlinewidth\": 0, \"ticks\": \"\"}}, \"type\": \"parcoords\"}], \"pie\": [{\"automargin\": true, \"type\": \"pie\"}], \"scatter\": [{\"marker\": {\"colorbar\": {\"outlinewidth\": 0, \"ticks\": \"\"}}, \"type\": \"scatter\"}], \"scatter3d\": [{\"line\": {\"colorbar\": {\"outlinewidth\": 0, \"ticks\": \"\"}}, \"marker\": {\"colorbar\": {\"outlinewidth\": 0, \"ticks\": \"\"}}, \"type\": \"scatter3d\"}], \"scattercarpet\": [{\"marker\": {\"colorbar\": {\"outlinewidth\": 0, \"ticks\": \"\"}}, \"type\": \"scattercarpet\"}], \"scattergeo\": [{\"marker\": {\"colorbar\": {\"outlinewidth\": 0, \"ticks\": \"\"}}, \"type\": \"scattergeo\"}], \"scattergl\": [{\"marker\": {\"colorbar\": {\"outlinewidth\": 0, \"ticks\": \"\"}}, \"type\": \"scattergl\"}], \"scattermapbox\": [{\"marker\": {\"colorbar\": {\"outlinewidth\": 0, \"ticks\": \"\"}}, \"type\": \"scattermapbox\"}], \"scatterpolar\": [{\"marker\": {\"colorbar\": {\"outlinewidth\": 0, \"ticks\": \"\"}}, \"type\": \"scatterpolar\"}], \"scatterpolargl\": [{\"marker\": {\"colorbar\": {\"outlinewidth\": 0, \"ticks\": \"\"}}, \"type\": \"scatterpolargl\"}], \"scatterternary\": [{\"marker\": {\"colorbar\": {\"outlinewidth\": 0, \"ticks\": \"\"}}, \"type\": \"scatterternary\"}], \"surface\": [{\"colorbar\": {\"outlinewidth\": 0, \"ticks\": \"\"}, \"colorscale\": [[0.0, \"#0d0887\"], [0.1111111111111111, \"#46039f\"], [0.2222222222222222, \"#7201a8\"], [0.3333333333333333, \"#9c179e\"], [0.4444444444444444, \"#bd3786\"], [0.5555555555555556, \"#d8576b\"], [0.6666666666666666, \"#ed7953\"], [0.7777777777777778, \"#fb9f3a\"], [0.8888888888888888, \"#fdca26\"], [1.0, \"#f0f921\"]], \"type\": \"surface\"}], \"table\": [{\"cells\": {\"fill\": {\"color\": \"#EBF0F8\"}, \"line\": {\"color\": \"white\"}}, \"header\": {\"fill\": {\"color\": \"#C8D4E3\"}, \"line\": {\"color\": \"white\"}}, \"type\": \"table\"}]}, \"layout\": {\"annotationdefaults\": {\"arrowcolor\": \"#2a3f5f\", \"arrowhead\": 0, \"arrowwidth\": 1}, \"coloraxis\": {\"colorbar\": {\"outlinewidth\": 0, \"ticks\": \"\"}}, \"colorscale\": {\"diverging\": [[0, \"#8e0152\"], [0.1, \"#c51b7d\"], [0.2, \"#de77ae\"], [0.3, \"#f1b6da\"], [0.4, \"#fde0ef\"], [0.5, \"#f7f7f7\"], [0.6, \"#e6f5d0\"], [0.7, \"#b8e186\"], [0.8, \"#7fbc41\"], [0.9, \"#4d9221\"], [1, \"#276419\"]], \"sequential\": [[0.0, \"#0d0887\"], [0.1111111111111111, \"#46039f\"], [0.2222222222222222, \"#7201a8\"], [0.3333333333333333, \"#9c179e\"], [0.4444444444444444, \"#bd3786\"], [0.5555555555555556, \"#d8576b\"], [0.6666666666666666, \"#ed7953\"], [0.7777777777777778, \"#fb9f3a\"], [0.8888888888888888, \"#fdca26\"], [1.0, \"#f0f921\"]], \"sequentialminus\": [[0.0, \"#0d0887\"], [0.1111111111111111, \"#46039f\"], [0.2222222222222222, \"#7201a8\"], [0.3333333333333333, \"#9c179e\"], [0.4444444444444444, \"#bd3786\"], [0.5555555555555556, \"#d8576b\"], [0.6666666666666666, \"#ed7953\"], [0.7777777777777778, \"#fb9f3a\"], [0.8888888888888888, \"#fdca26\"], [1.0, \"#f0f921\"]]}, \"colorway\": [\"#636efa\", \"#EF553B\", \"#00cc96\", \"#ab63fa\", \"#FFA15A\", \"#19d3f3\", \"#FF6692\", \"#B6E880\", \"#FF97FF\", \"#FECB52\"], \"font\": {\"color\": \"#2a3f5f\"}, \"geo\": {\"bgcolor\": \"white\", \"lakecolor\": \"white\", \"landcolor\": \"#E5ECF6\", \"showlakes\": true, \"showland\": true, \"subunitcolor\": \"white\"}, \"hoverlabel\": {\"align\": \"left\"}, \"hovermode\": \"closest\", \"mapbox\": {\"style\": \"light\"}, \"paper_bgcolor\": \"white\", \"plot_bgcolor\": \"#E5ECF6\", \"polar\": {\"angularaxis\": {\"gridcolor\": \"white\", \"linecolor\": \"white\", \"ticks\": \"\"}, \"bgcolor\": \"#E5ECF6\", \"radialaxis\": {\"gridcolor\": \"white\", \"linecolor\": \"white\", \"ticks\": \"\"}}, \"scene\": {\"xaxis\": {\"backgroundcolor\": \"#E5ECF6\", \"gridcolor\": \"white\", \"gridwidth\": 2, \"linecolor\": \"white\", \"showbackground\": true, \"ticks\": \"\", \"zerolinecolor\": \"white\"}, \"yaxis\": {\"backgroundcolor\": \"#E5ECF6\", \"gridcolor\": \"white\", \"gridwidth\": 2, \"linecolor\": \"white\", \"showbackground\": true, \"ticks\": \"\", \"zerolinecolor\": \"white\"}, \"zaxis\": {\"backgroundcolor\": \"#E5ECF6\", \"gridcolor\": \"white\", \"gridwidth\": 2, \"linecolor\": \"white\", \"showbackground\": true, \"ticks\": \"\", \"zerolinecolor\": \"white\"}}, \"shapedefaults\": {\"line\": {\"color\": \"#2a3f5f\"}}, \"ternary\": {\"aaxis\": {\"gridcolor\": \"white\", \"linecolor\": \"white\", \"ticks\": \"\"}, \"baxis\": {\"gridcolor\": \"white\", \"linecolor\": \"white\", \"ticks\": \"\"}, \"bgcolor\": \"#E5ECF6\", \"caxis\": {\"gridcolor\": \"white\", \"linecolor\": \"white\", \"ticks\": \"\"}}, \"title\": {\"x\": 0.05}, \"xaxis\": {\"automargin\": true, \"gridcolor\": \"white\", \"linecolor\": \"white\", \"ticks\": \"\", \"title\": {\"standoff\": 15}, \"zerolinecolor\": \"white\", \"zerolinewidth\": 2}, \"yaxis\": {\"automargin\": true, \"gridcolor\": \"white\", \"linecolor\": \"white\", \"ticks\": \"\", \"title\": {\"standoff\": 15}, \"zerolinecolor\": \"white\", \"zerolinewidth\": 2}}}, \"title\": {\"font\": {\"color\": \"#4D5663\"}}, \"xaxis\": {\"gridcolor\": \"#E1E5ED\", \"showgrid\": true, \"tickfont\": {\"color\": \"#4D5663\"}, \"title\": {\"font\": {\"color\": \"#4D5663\"}, \"text\": \"\"}, \"zerolinecolor\": \"#E1E5ED\"}, \"yaxis\": {\"gridcolor\": \"#E1E5ED\", \"showgrid\": true, \"tickfont\": {\"color\": \"#4D5663\"}, \"title\": {\"font\": {\"color\": \"#4D5663\"}, \"text\": \"\"}, \"zerolinecolor\": \"#E1E5ED\"}},\n",
       "                        {\"showLink\": true, \"linkText\": \"Export to plot.ly\", \"plotlyServerURL\": \"https://plot.ly\", \"responsive\": true}\n",
       "                    ).then(function(){\n",
       "                            \n",
       "var gd = document.getElementById('df214a49-dfb0-409d-a2d1-e02ccdbec7da');\n",
       "var x = new MutationObserver(function (mutations, observer) {{\n",
       "        var display = window.getComputedStyle(gd).display;\n",
       "        if (!display || display === 'none') {{\n",
       "            console.log([gd, 'removed!']);\n",
       "            Plotly.purge(gd);\n",
       "            observer.disconnect();\n",
       "        }}\n",
       "}});\n",
       "\n",
       "// Listen for the removal of the full notebook cells\n",
       "var notebookContainer = gd.closest('#notebook-container');\n",
       "if (notebookContainer) {{\n",
       "    x.observe(notebookContainer, {childList: true});\n",
       "}}\n",
       "\n",
       "// Listen for the clearing of the current output cell\n",
       "var outputEl = gd.closest('.output');\n",
       "if (outputEl) {{\n",
       "    x.observe(outputEl, {childList: true});\n",
       "}}\n",
       "\n",
       "                        })\n",
       "                };\n",
       "                });\n",
       "            </script>\n",
       "        </div>"
      ]
     },
     "metadata": {},
     "output_type": "display_data"
    }
   ],
   "source": [
    "df3.iplot(kind='surface')"
   ]
  },
  {
   "cell_type": "code",
   "execution_count": 48,
   "metadata": {},
   "outputs": [],
   "source": [
    "df4 = pd.DataFrame({'x':[1,2,3,4,5],'y':[10,20,30,20,10],'z':[5,4,3,2,1]})"
   ]
  },
  {
   "cell_type": "code",
   "execution_count": 51,
   "metadata": {},
   "outputs": [
    {
     "data": {
      "application/vnd.plotly.v1+json": {
       "config": {
        "linkText": "Export to plot.ly",
        "plotlyServerURL": "https://plot.ly",
        "showLink": true
       },
       "data": [
        {
         "colorscale": [
          [
           0,
           "rgb(165,0,38)"
          ],
          [
           0.1,
           "rgb(215,48,39)"
          ],
          [
           0.2,
           "rgb(244,109,67)"
          ],
          [
           0.3,
           "rgb(253,174,97)"
          ],
          [
           0.4,
           "rgb(254,224,144)"
          ],
          [
           0.5,
           "rgb(255,255,191)"
          ],
          [
           0.6,
           "rgb(224,243,248)"
          ],
          [
           0.7,
           "rgb(171,217,233)"
          ],
          [
           0.8,
           "rgb(116,173,209)"
          ],
          [
           0.9,
           "rgb(69,117,180)"
          ],
          [
           1,
           "rgb(49,54,149)"
          ]
         ],
         "type": "surface",
         "x": [
          0,
          1,
          2,
          3,
          4
         ],
         "y": [
          "x",
          "y",
          "z"
         ],
         "z": [
          [
           1,
           2,
           3,
           4,
           5
          ],
          [
           10,
           20,
           30,
           20,
           10
          ],
          [
           5,
           4,
           3,
           2,
           1
          ]
         ]
        }
       ],
       "layout": {
        "legend": {
         "bgcolor": "#F5F6F9",
         "font": {
          "color": "#4D5663"
         }
        },
        "paper_bgcolor": "#F5F6F9",
        "plot_bgcolor": "#F5F6F9",
        "template": {
         "data": {
          "bar": [
           {
            "error_x": {
             "color": "#2a3f5f"
            },
            "error_y": {
             "color": "#2a3f5f"
            },
            "marker": {
             "line": {
              "color": "#E5ECF6",
              "width": 0.5
             }
            },
            "type": "bar"
           }
          ],
          "barpolar": [
           {
            "marker": {
             "line": {
              "color": "#E5ECF6",
              "width": 0.5
             }
            },
            "type": "barpolar"
           }
          ],
          "carpet": [
           {
            "aaxis": {
             "endlinecolor": "#2a3f5f",
             "gridcolor": "white",
             "linecolor": "white",
             "minorgridcolor": "white",
             "startlinecolor": "#2a3f5f"
            },
            "baxis": {
             "endlinecolor": "#2a3f5f",
             "gridcolor": "white",
             "linecolor": "white",
             "minorgridcolor": "white",
             "startlinecolor": "#2a3f5f"
            },
            "type": "carpet"
           }
          ],
          "choropleth": [
           {
            "colorbar": {
             "outlinewidth": 0,
             "ticks": ""
            },
            "type": "choropleth"
           }
          ],
          "contour": [
           {
            "colorbar": {
             "outlinewidth": 0,
             "ticks": ""
            },
            "colorscale": [
             [
              0,
              "#0d0887"
             ],
             [
              0.1111111111111111,
              "#46039f"
             ],
             [
              0.2222222222222222,
              "#7201a8"
             ],
             [
              0.3333333333333333,
              "#9c179e"
             ],
             [
              0.4444444444444444,
              "#bd3786"
             ],
             [
              0.5555555555555556,
              "#d8576b"
             ],
             [
              0.6666666666666666,
              "#ed7953"
             ],
             [
              0.7777777777777778,
              "#fb9f3a"
             ],
             [
              0.8888888888888888,
              "#fdca26"
             ],
             [
              1,
              "#f0f921"
             ]
            ],
            "type": "contour"
           }
          ],
          "contourcarpet": [
           {
            "colorbar": {
             "outlinewidth": 0,
             "ticks": ""
            },
            "type": "contourcarpet"
           }
          ],
          "heatmap": [
           {
            "colorbar": {
             "outlinewidth": 0,
             "ticks": ""
            },
            "colorscale": [
             [
              0,
              "#0d0887"
             ],
             [
              0.1111111111111111,
              "#46039f"
             ],
             [
              0.2222222222222222,
              "#7201a8"
             ],
             [
              0.3333333333333333,
              "#9c179e"
             ],
             [
              0.4444444444444444,
              "#bd3786"
             ],
             [
              0.5555555555555556,
              "#d8576b"
             ],
             [
              0.6666666666666666,
              "#ed7953"
             ],
             [
              0.7777777777777778,
              "#fb9f3a"
             ],
             [
              0.8888888888888888,
              "#fdca26"
             ],
             [
              1,
              "#f0f921"
             ]
            ],
            "type": "heatmap"
           }
          ],
          "heatmapgl": [
           {
            "colorbar": {
             "outlinewidth": 0,
             "ticks": ""
            },
            "colorscale": [
             [
              0,
              "#0d0887"
             ],
             [
              0.1111111111111111,
              "#46039f"
             ],
             [
              0.2222222222222222,
              "#7201a8"
             ],
             [
              0.3333333333333333,
              "#9c179e"
             ],
             [
              0.4444444444444444,
              "#bd3786"
             ],
             [
              0.5555555555555556,
              "#d8576b"
             ],
             [
              0.6666666666666666,
              "#ed7953"
             ],
             [
              0.7777777777777778,
              "#fb9f3a"
             ],
             [
              0.8888888888888888,
              "#fdca26"
             ],
             [
              1,
              "#f0f921"
             ]
            ],
            "type": "heatmapgl"
           }
          ],
          "histogram": [
           {
            "marker": {
             "colorbar": {
              "outlinewidth": 0,
              "ticks": ""
             }
            },
            "type": "histogram"
           }
          ],
          "histogram2d": [
           {
            "colorbar": {
             "outlinewidth": 0,
             "ticks": ""
            },
            "colorscale": [
             [
              0,
              "#0d0887"
             ],
             [
              0.1111111111111111,
              "#46039f"
             ],
             [
              0.2222222222222222,
              "#7201a8"
             ],
             [
              0.3333333333333333,
              "#9c179e"
             ],
             [
              0.4444444444444444,
              "#bd3786"
             ],
             [
              0.5555555555555556,
              "#d8576b"
             ],
             [
              0.6666666666666666,
              "#ed7953"
             ],
             [
              0.7777777777777778,
              "#fb9f3a"
             ],
             [
              0.8888888888888888,
              "#fdca26"
             ],
             [
              1,
              "#f0f921"
             ]
            ],
            "type": "histogram2d"
           }
          ],
          "histogram2dcontour": [
           {
            "colorbar": {
             "outlinewidth": 0,
             "ticks": ""
            },
            "colorscale": [
             [
              0,
              "#0d0887"
             ],
             [
              0.1111111111111111,
              "#46039f"
             ],
             [
              0.2222222222222222,
              "#7201a8"
             ],
             [
              0.3333333333333333,
              "#9c179e"
             ],
             [
              0.4444444444444444,
              "#bd3786"
             ],
             [
              0.5555555555555556,
              "#d8576b"
             ],
             [
              0.6666666666666666,
              "#ed7953"
             ],
             [
              0.7777777777777778,
              "#fb9f3a"
             ],
             [
              0.8888888888888888,
              "#fdca26"
             ],
             [
              1,
              "#f0f921"
             ]
            ],
            "type": "histogram2dcontour"
           }
          ],
          "mesh3d": [
           {
            "colorbar": {
             "outlinewidth": 0,
             "ticks": ""
            },
            "type": "mesh3d"
           }
          ],
          "parcoords": [
           {
            "line": {
             "colorbar": {
              "outlinewidth": 0,
              "ticks": ""
             }
            },
            "type": "parcoords"
           }
          ],
          "pie": [
           {
            "automargin": true,
            "type": "pie"
           }
          ],
          "scatter": [
           {
            "marker": {
             "colorbar": {
              "outlinewidth": 0,
              "ticks": ""
             }
            },
            "type": "scatter"
           }
          ],
          "scatter3d": [
           {
            "line": {
             "colorbar": {
              "outlinewidth": 0,
              "ticks": ""
             }
            },
            "marker": {
             "colorbar": {
              "outlinewidth": 0,
              "ticks": ""
             }
            },
            "type": "scatter3d"
           }
          ],
          "scattercarpet": [
           {
            "marker": {
             "colorbar": {
              "outlinewidth": 0,
              "ticks": ""
             }
            },
            "type": "scattercarpet"
           }
          ],
          "scattergeo": [
           {
            "marker": {
             "colorbar": {
              "outlinewidth": 0,
              "ticks": ""
             }
            },
            "type": "scattergeo"
           }
          ],
          "scattergl": [
           {
            "marker": {
             "colorbar": {
              "outlinewidth": 0,
              "ticks": ""
             }
            },
            "type": "scattergl"
           }
          ],
          "scattermapbox": [
           {
            "marker": {
             "colorbar": {
              "outlinewidth": 0,
              "ticks": ""
             }
            },
            "type": "scattermapbox"
           }
          ],
          "scatterpolar": [
           {
            "marker": {
             "colorbar": {
              "outlinewidth": 0,
              "ticks": ""
             }
            },
            "type": "scatterpolar"
           }
          ],
          "scatterpolargl": [
           {
            "marker": {
             "colorbar": {
              "outlinewidth": 0,
              "ticks": ""
             }
            },
            "type": "scatterpolargl"
           }
          ],
          "scatterternary": [
           {
            "marker": {
             "colorbar": {
              "outlinewidth": 0,
              "ticks": ""
             }
            },
            "type": "scatterternary"
           }
          ],
          "surface": [
           {
            "colorbar": {
             "outlinewidth": 0,
             "ticks": ""
            },
            "colorscale": [
             [
              0,
              "#0d0887"
             ],
             [
              0.1111111111111111,
              "#46039f"
             ],
             [
              0.2222222222222222,
              "#7201a8"
             ],
             [
              0.3333333333333333,
              "#9c179e"
             ],
             [
              0.4444444444444444,
              "#bd3786"
             ],
             [
              0.5555555555555556,
              "#d8576b"
             ],
             [
              0.6666666666666666,
              "#ed7953"
             ],
             [
              0.7777777777777778,
              "#fb9f3a"
             ],
             [
              0.8888888888888888,
              "#fdca26"
             ],
             [
              1,
              "#f0f921"
             ]
            ],
            "type": "surface"
           }
          ],
          "table": [
           {
            "cells": {
             "fill": {
              "color": "#EBF0F8"
             },
             "line": {
              "color": "white"
             }
            },
            "header": {
             "fill": {
              "color": "#C8D4E3"
             },
             "line": {
              "color": "white"
             }
            },
            "type": "table"
           }
          ]
         },
         "layout": {
          "annotationdefaults": {
           "arrowcolor": "#2a3f5f",
           "arrowhead": 0,
           "arrowwidth": 1
          },
          "coloraxis": {
           "colorbar": {
            "outlinewidth": 0,
            "ticks": ""
           }
          },
          "colorscale": {
           "diverging": [
            [
             0,
             "#8e0152"
            ],
            [
             0.1,
             "#c51b7d"
            ],
            [
             0.2,
             "#de77ae"
            ],
            [
             0.3,
             "#f1b6da"
            ],
            [
             0.4,
             "#fde0ef"
            ],
            [
             0.5,
             "#f7f7f7"
            ],
            [
             0.6,
             "#e6f5d0"
            ],
            [
             0.7,
             "#b8e186"
            ],
            [
             0.8,
             "#7fbc41"
            ],
            [
             0.9,
             "#4d9221"
            ],
            [
             1,
             "#276419"
            ]
           ],
           "sequential": [
            [
             0,
             "#0d0887"
            ],
            [
             0.1111111111111111,
             "#46039f"
            ],
            [
             0.2222222222222222,
             "#7201a8"
            ],
            [
             0.3333333333333333,
             "#9c179e"
            ],
            [
             0.4444444444444444,
             "#bd3786"
            ],
            [
             0.5555555555555556,
             "#d8576b"
            ],
            [
             0.6666666666666666,
             "#ed7953"
            ],
            [
             0.7777777777777778,
             "#fb9f3a"
            ],
            [
             0.8888888888888888,
             "#fdca26"
            ],
            [
             1,
             "#f0f921"
            ]
           ],
           "sequentialminus": [
            [
             0,
             "#0d0887"
            ],
            [
             0.1111111111111111,
             "#46039f"
            ],
            [
             0.2222222222222222,
             "#7201a8"
            ],
            [
             0.3333333333333333,
             "#9c179e"
            ],
            [
             0.4444444444444444,
             "#bd3786"
            ],
            [
             0.5555555555555556,
             "#d8576b"
            ],
            [
             0.6666666666666666,
             "#ed7953"
            ],
            [
             0.7777777777777778,
             "#fb9f3a"
            ],
            [
             0.8888888888888888,
             "#fdca26"
            ],
            [
             1,
             "#f0f921"
            ]
           ]
          },
          "colorway": [
           "#636efa",
           "#EF553B",
           "#00cc96",
           "#ab63fa",
           "#FFA15A",
           "#19d3f3",
           "#FF6692",
           "#B6E880",
           "#FF97FF",
           "#FECB52"
          ],
          "font": {
           "color": "#2a3f5f"
          },
          "geo": {
           "bgcolor": "white",
           "lakecolor": "white",
           "landcolor": "#E5ECF6",
           "showlakes": true,
           "showland": true,
           "subunitcolor": "white"
          },
          "hoverlabel": {
           "align": "left"
          },
          "hovermode": "closest",
          "mapbox": {
           "style": "light"
          },
          "paper_bgcolor": "white",
          "plot_bgcolor": "#E5ECF6",
          "polar": {
           "angularaxis": {
            "gridcolor": "white",
            "linecolor": "white",
            "ticks": ""
           },
           "bgcolor": "#E5ECF6",
           "radialaxis": {
            "gridcolor": "white",
            "linecolor": "white",
            "ticks": ""
           }
          },
          "scene": {
           "xaxis": {
            "backgroundcolor": "#E5ECF6",
            "gridcolor": "white",
            "gridwidth": 2,
            "linecolor": "white",
            "showbackground": true,
            "ticks": "",
            "zerolinecolor": "white"
           },
           "yaxis": {
            "backgroundcolor": "#E5ECF6",
            "gridcolor": "white",
            "gridwidth": 2,
            "linecolor": "white",
            "showbackground": true,
            "ticks": "",
            "zerolinecolor": "white"
           },
           "zaxis": {
            "backgroundcolor": "#E5ECF6",
            "gridcolor": "white",
            "gridwidth": 2,
            "linecolor": "white",
            "showbackground": true,
            "ticks": "",
            "zerolinecolor": "white"
           }
          },
          "shapedefaults": {
           "line": {
            "color": "#2a3f5f"
           }
          },
          "ternary": {
           "aaxis": {
            "gridcolor": "white",
            "linecolor": "white",
            "ticks": ""
           },
           "baxis": {
            "gridcolor": "white",
            "linecolor": "white",
            "ticks": ""
           },
           "bgcolor": "#E5ECF6",
           "caxis": {
            "gridcolor": "white",
            "linecolor": "white",
            "ticks": ""
           }
          },
          "title": {
           "x": 0.05
          },
          "xaxis": {
           "automargin": true,
           "gridcolor": "white",
           "linecolor": "white",
           "ticks": "",
           "title": {
            "standoff": 15
           },
           "zerolinecolor": "white",
           "zerolinewidth": 2
          },
          "yaxis": {
           "automargin": true,
           "gridcolor": "white",
           "linecolor": "white",
           "ticks": "",
           "title": {
            "standoff": 15
           },
           "zerolinecolor": "white",
           "zerolinewidth": 2
          }
         }
        },
        "title": {
         "font": {
          "color": "#4D5663"
         }
        },
        "xaxis": {
         "gridcolor": "#E1E5ED",
         "showgrid": true,
         "tickfont": {
          "color": "#4D5663"
         },
         "title": {
          "font": {
           "color": "#4D5663"
          },
          "text": ""
         },
         "zerolinecolor": "#E1E5ED"
        },
        "yaxis": {
         "gridcolor": "#E1E5ED",
         "showgrid": true,
         "tickfont": {
          "color": "#4D5663"
         },
         "title": {
          "font": {
           "color": "#4D5663"
          },
          "text": ""
         },
         "zerolinecolor": "#E1E5ED"
        }
       }
      },
      "text/html": [
       "<div>\n",
       "        \n",
       "        \n",
       "            <div id=\"4eb64590-5d51-4c40-a2f9-55808ab55b78\" class=\"plotly-graph-div\" style=\"height:525px; width:100%;\"></div>\n",
       "            <script type=\"text/javascript\">\n",
       "                require([\"plotly\"], function(Plotly) {\n",
       "                    window.PLOTLYENV=window.PLOTLYENV || {};\n",
       "                    window.PLOTLYENV.BASE_URL='https://plot.ly';\n",
       "                    \n",
       "                if (document.getElementById(\"4eb64590-5d51-4c40-a2f9-55808ab55b78\")) {\n",
       "                    Plotly.newPlot(\n",
       "                        '4eb64590-5d51-4c40-a2f9-55808ab55b78',\n",
       "                        [{\"colorscale\": [[0.0, \"rgb(165,0,38)\"], [0.1, \"rgb(215,48,39)\"], [0.2, \"rgb(244,109,67)\"], [0.3, \"rgb(253,174,97)\"], [0.4, \"rgb(254,224,144)\"], [0.5, \"rgb(255,255,191)\"], [0.6, \"rgb(224,243,248)\"], [0.7, \"rgb(171,217,233)\"], [0.8, \"rgb(116,173,209)\"], [0.9, \"rgb(69,117,180)\"], [1.0, \"rgb(49,54,149)\"]], \"type\": \"surface\", \"x\": [0, 1, 2, 3, 4], \"y\": [\"x\", \"y\", \"z\"], \"z\": [[1, 2, 3, 4, 5], [10, 20, 30, 20, 10], [5, 4, 3, 2, 1]]}],\n",
       "                        {\"legend\": {\"bgcolor\": \"#F5F6F9\", \"font\": {\"color\": \"#4D5663\"}}, \"paper_bgcolor\": \"#F5F6F9\", \"plot_bgcolor\": \"#F5F6F9\", \"template\": {\"data\": {\"bar\": [{\"error_x\": {\"color\": \"#2a3f5f\"}, \"error_y\": {\"color\": \"#2a3f5f\"}, \"marker\": {\"line\": {\"color\": \"#E5ECF6\", \"width\": 0.5}}, \"type\": \"bar\"}], \"barpolar\": [{\"marker\": {\"line\": {\"color\": \"#E5ECF6\", \"width\": 0.5}}, \"type\": \"barpolar\"}], \"carpet\": [{\"aaxis\": {\"endlinecolor\": \"#2a3f5f\", \"gridcolor\": \"white\", \"linecolor\": \"white\", \"minorgridcolor\": \"white\", \"startlinecolor\": \"#2a3f5f\"}, \"baxis\": {\"endlinecolor\": \"#2a3f5f\", \"gridcolor\": \"white\", \"linecolor\": \"white\", \"minorgridcolor\": \"white\", \"startlinecolor\": \"#2a3f5f\"}, \"type\": \"carpet\"}], \"choropleth\": [{\"colorbar\": {\"outlinewidth\": 0, \"ticks\": \"\"}, \"type\": \"choropleth\"}], \"contour\": [{\"colorbar\": {\"outlinewidth\": 0, \"ticks\": \"\"}, \"colorscale\": [[0.0, \"#0d0887\"], [0.1111111111111111, \"#46039f\"], [0.2222222222222222, \"#7201a8\"], [0.3333333333333333, \"#9c179e\"], [0.4444444444444444, \"#bd3786\"], [0.5555555555555556, \"#d8576b\"], [0.6666666666666666, \"#ed7953\"], [0.7777777777777778, \"#fb9f3a\"], [0.8888888888888888, \"#fdca26\"], [1.0, \"#f0f921\"]], \"type\": \"contour\"}], \"contourcarpet\": [{\"colorbar\": {\"outlinewidth\": 0, \"ticks\": \"\"}, \"type\": \"contourcarpet\"}], \"heatmap\": [{\"colorbar\": {\"outlinewidth\": 0, \"ticks\": \"\"}, \"colorscale\": [[0.0, \"#0d0887\"], [0.1111111111111111, \"#46039f\"], [0.2222222222222222, \"#7201a8\"], [0.3333333333333333, \"#9c179e\"], [0.4444444444444444, \"#bd3786\"], [0.5555555555555556, \"#d8576b\"], [0.6666666666666666, \"#ed7953\"], [0.7777777777777778, \"#fb9f3a\"], [0.8888888888888888, \"#fdca26\"], [1.0, \"#f0f921\"]], \"type\": \"heatmap\"}], \"heatmapgl\": [{\"colorbar\": {\"outlinewidth\": 0, \"ticks\": \"\"}, \"colorscale\": [[0.0, \"#0d0887\"], [0.1111111111111111, \"#46039f\"], [0.2222222222222222, \"#7201a8\"], [0.3333333333333333, \"#9c179e\"], [0.4444444444444444, \"#bd3786\"], [0.5555555555555556, \"#d8576b\"], [0.6666666666666666, \"#ed7953\"], [0.7777777777777778, \"#fb9f3a\"], [0.8888888888888888, \"#fdca26\"], [1.0, \"#f0f921\"]], \"type\": \"heatmapgl\"}], \"histogram\": [{\"marker\": {\"colorbar\": {\"outlinewidth\": 0, \"ticks\": \"\"}}, \"type\": \"histogram\"}], \"histogram2d\": [{\"colorbar\": {\"outlinewidth\": 0, \"ticks\": \"\"}, \"colorscale\": [[0.0, \"#0d0887\"], [0.1111111111111111, \"#46039f\"], [0.2222222222222222, \"#7201a8\"], [0.3333333333333333, \"#9c179e\"], [0.4444444444444444, \"#bd3786\"], [0.5555555555555556, \"#d8576b\"], [0.6666666666666666, \"#ed7953\"], [0.7777777777777778, \"#fb9f3a\"], [0.8888888888888888, \"#fdca26\"], [1.0, \"#f0f921\"]], \"type\": \"histogram2d\"}], \"histogram2dcontour\": [{\"colorbar\": {\"outlinewidth\": 0, \"ticks\": \"\"}, \"colorscale\": [[0.0, \"#0d0887\"], [0.1111111111111111, \"#46039f\"], [0.2222222222222222, \"#7201a8\"], [0.3333333333333333, \"#9c179e\"], [0.4444444444444444, \"#bd3786\"], [0.5555555555555556, \"#d8576b\"], [0.6666666666666666, \"#ed7953\"], [0.7777777777777778, \"#fb9f3a\"], [0.8888888888888888, \"#fdca26\"], [1.0, \"#f0f921\"]], \"type\": \"histogram2dcontour\"}], \"mesh3d\": [{\"colorbar\": {\"outlinewidth\": 0, \"ticks\": \"\"}, \"type\": \"mesh3d\"}], \"parcoords\": [{\"line\": {\"colorbar\": {\"outlinewidth\": 0, \"ticks\": \"\"}}, \"type\": \"parcoords\"}], \"pie\": [{\"automargin\": true, \"type\": \"pie\"}], \"scatter\": [{\"marker\": {\"colorbar\": {\"outlinewidth\": 0, \"ticks\": \"\"}}, \"type\": \"scatter\"}], \"scatter3d\": [{\"line\": {\"colorbar\": {\"outlinewidth\": 0, \"ticks\": \"\"}}, \"marker\": {\"colorbar\": {\"outlinewidth\": 0, \"ticks\": \"\"}}, \"type\": \"scatter3d\"}], \"scattercarpet\": [{\"marker\": {\"colorbar\": {\"outlinewidth\": 0, \"ticks\": \"\"}}, \"type\": \"scattercarpet\"}], \"scattergeo\": [{\"marker\": {\"colorbar\": {\"outlinewidth\": 0, \"ticks\": \"\"}}, \"type\": \"scattergeo\"}], \"scattergl\": [{\"marker\": {\"colorbar\": {\"outlinewidth\": 0, \"ticks\": \"\"}}, \"type\": \"scattergl\"}], \"scattermapbox\": [{\"marker\": {\"colorbar\": {\"outlinewidth\": 0, \"ticks\": \"\"}}, \"type\": \"scattermapbox\"}], \"scatterpolar\": [{\"marker\": {\"colorbar\": {\"outlinewidth\": 0, \"ticks\": \"\"}}, \"type\": \"scatterpolar\"}], \"scatterpolargl\": [{\"marker\": {\"colorbar\": {\"outlinewidth\": 0, \"ticks\": \"\"}}, \"type\": \"scatterpolargl\"}], \"scatterternary\": [{\"marker\": {\"colorbar\": {\"outlinewidth\": 0, \"ticks\": \"\"}}, \"type\": \"scatterternary\"}], \"surface\": [{\"colorbar\": {\"outlinewidth\": 0, \"ticks\": \"\"}, \"colorscale\": [[0.0, \"#0d0887\"], [0.1111111111111111, \"#46039f\"], [0.2222222222222222, \"#7201a8\"], [0.3333333333333333, \"#9c179e\"], [0.4444444444444444, \"#bd3786\"], [0.5555555555555556, \"#d8576b\"], [0.6666666666666666, \"#ed7953\"], [0.7777777777777778, \"#fb9f3a\"], [0.8888888888888888, \"#fdca26\"], [1.0, \"#f0f921\"]], \"type\": \"surface\"}], \"table\": [{\"cells\": {\"fill\": {\"color\": \"#EBF0F8\"}, \"line\": {\"color\": \"white\"}}, \"header\": {\"fill\": {\"color\": \"#C8D4E3\"}, \"line\": {\"color\": \"white\"}}, \"type\": \"table\"}]}, \"layout\": {\"annotationdefaults\": {\"arrowcolor\": \"#2a3f5f\", \"arrowhead\": 0, \"arrowwidth\": 1}, \"coloraxis\": {\"colorbar\": {\"outlinewidth\": 0, \"ticks\": \"\"}}, \"colorscale\": {\"diverging\": [[0, \"#8e0152\"], [0.1, \"#c51b7d\"], [0.2, \"#de77ae\"], [0.3, \"#f1b6da\"], [0.4, \"#fde0ef\"], [0.5, \"#f7f7f7\"], [0.6, \"#e6f5d0\"], [0.7, \"#b8e186\"], [0.8, \"#7fbc41\"], [0.9, \"#4d9221\"], [1, \"#276419\"]], \"sequential\": [[0.0, \"#0d0887\"], [0.1111111111111111, \"#46039f\"], [0.2222222222222222, \"#7201a8\"], [0.3333333333333333, \"#9c179e\"], [0.4444444444444444, \"#bd3786\"], [0.5555555555555556, \"#d8576b\"], [0.6666666666666666, \"#ed7953\"], [0.7777777777777778, \"#fb9f3a\"], [0.8888888888888888, \"#fdca26\"], [1.0, \"#f0f921\"]], \"sequentialminus\": [[0.0, \"#0d0887\"], [0.1111111111111111, \"#46039f\"], [0.2222222222222222, \"#7201a8\"], [0.3333333333333333, \"#9c179e\"], [0.4444444444444444, \"#bd3786\"], [0.5555555555555556, \"#d8576b\"], [0.6666666666666666, \"#ed7953\"], [0.7777777777777778, \"#fb9f3a\"], [0.8888888888888888, \"#fdca26\"], [1.0, \"#f0f921\"]]}, \"colorway\": [\"#636efa\", \"#EF553B\", \"#00cc96\", \"#ab63fa\", \"#FFA15A\", \"#19d3f3\", \"#FF6692\", \"#B6E880\", \"#FF97FF\", \"#FECB52\"], \"font\": {\"color\": \"#2a3f5f\"}, \"geo\": {\"bgcolor\": \"white\", \"lakecolor\": \"white\", \"landcolor\": \"#E5ECF6\", \"showlakes\": true, \"showland\": true, \"subunitcolor\": \"white\"}, \"hoverlabel\": {\"align\": \"left\"}, \"hovermode\": \"closest\", \"mapbox\": {\"style\": \"light\"}, \"paper_bgcolor\": \"white\", \"plot_bgcolor\": \"#E5ECF6\", \"polar\": {\"angularaxis\": {\"gridcolor\": \"white\", \"linecolor\": \"white\", \"ticks\": \"\"}, \"bgcolor\": \"#E5ECF6\", \"radialaxis\": {\"gridcolor\": \"white\", \"linecolor\": \"white\", \"ticks\": \"\"}}, \"scene\": {\"xaxis\": {\"backgroundcolor\": \"#E5ECF6\", \"gridcolor\": \"white\", \"gridwidth\": 2, \"linecolor\": \"white\", \"showbackground\": true, \"ticks\": \"\", \"zerolinecolor\": \"white\"}, \"yaxis\": {\"backgroundcolor\": \"#E5ECF6\", \"gridcolor\": \"white\", \"gridwidth\": 2, \"linecolor\": \"white\", \"showbackground\": true, \"ticks\": \"\", \"zerolinecolor\": \"white\"}, \"zaxis\": {\"backgroundcolor\": \"#E5ECF6\", \"gridcolor\": \"white\", \"gridwidth\": 2, \"linecolor\": \"white\", \"showbackground\": true, \"ticks\": \"\", \"zerolinecolor\": \"white\"}}, \"shapedefaults\": {\"line\": {\"color\": \"#2a3f5f\"}}, \"ternary\": {\"aaxis\": {\"gridcolor\": \"white\", \"linecolor\": \"white\", \"ticks\": \"\"}, \"baxis\": {\"gridcolor\": \"white\", \"linecolor\": \"white\", \"ticks\": \"\"}, \"bgcolor\": \"#E5ECF6\", \"caxis\": {\"gridcolor\": \"white\", \"linecolor\": \"white\", \"ticks\": \"\"}}, \"title\": {\"x\": 0.05}, \"xaxis\": {\"automargin\": true, \"gridcolor\": \"white\", \"linecolor\": \"white\", \"ticks\": \"\", \"title\": {\"standoff\": 15}, \"zerolinecolor\": \"white\", \"zerolinewidth\": 2}, \"yaxis\": {\"automargin\": true, \"gridcolor\": \"white\", \"linecolor\": \"white\", \"ticks\": \"\", \"title\": {\"standoff\": 15}, \"zerolinecolor\": \"white\", \"zerolinewidth\": 2}}}, \"title\": {\"font\": {\"color\": \"#4D5663\"}}, \"xaxis\": {\"gridcolor\": \"#E1E5ED\", \"showgrid\": true, \"tickfont\": {\"color\": \"#4D5663\"}, \"title\": {\"font\": {\"color\": \"#4D5663\"}, \"text\": \"\"}, \"zerolinecolor\": \"#E1E5ED\"}, \"yaxis\": {\"gridcolor\": \"#E1E5ED\", \"showgrid\": true, \"tickfont\": {\"color\": \"#4D5663\"}, \"title\": {\"font\": {\"color\": \"#4D5663\"}, \"text\": \"\"}, \"zerolinecolor\": \"#E1E5ED\"}},\n",
       "                        {\"showLink\": true, \"linkText\": \"Export to plot.ly\", \"plotlyServerURL\": \"https://plot.ly\", \"responsive\": true}\n",
       "                    ).then(function(){\n",
       "                            \n",
       "var gd = document.getElementById('4eb64590-5d51-4c40-a2f9-55808ab55b78');\n",
       "var x = new MutationObserver(function (mutations, observer) {{\n",
       "        var display = window.getComputedStyle(gd).display;\n",
       "        if (!display || display === 'none') {{\n",
       "            console.log([gd, 'removed!']);\n",
       "            Plotly.purge(gd);\n",
       "            observer.disconnect();\n",
       "        }}\n",
       "}});\n",
       "\n",
       "// Listen for the removal of the full notebook cells\n",
       "var notebookContainer = gd.closest('#notebook-container');\n",
       "if (notebookContainer) {{\n",
       "    x.observe(notebookContainer, {childList: true});\n",
       "}}\n",
       "\n",
       "// Listen for the clearing of the current output cell\n",
       "var outputEl = gd.closest('.output');\n",
       "if (outputEl) {{\n",
       "    x.observe(outputEl, {childList: true});\n",
       "}}\n",
       "\n",
       "                        })\n",
       "                };\n",
       "                });\n",
       "            </script>\n",
       "        </div>"
      ]
     },
     "metadata": {},
     "output_type": "display_data"
    }
   ],
   "source": [
    "df4.iplot(kind='surface',colorscale='rdylbu')"
   ]
  },
  {
   "cell_type": "code",
   "execution_count": 56,
   "metadata": {},
   "outputs": [
    {
     "data": {
      "application/vnd.plotly.v1+json": {
       "config": {
        "linkText": "Export to plot.ly",
        "plotlyServerURL": "https://plot.ly",
        "showLink": true
       },
       "data": [
        {
         "histfunc": "count",
         "histnorm": "",
         "marker": {
          "color": "rgba(255, 153, 51, 1.0)",
          "line": {
           "color": "#4D5663",
           "width": 1.3
          }
         },
         "name": "A",
         "nbinsx": 20,
         "opacity": 0.8,
         "orientation": "v",
         "type": "histogram",
         "x": [
          -1.7328184700099154,
          -0.6655392531642427,
          -0.5141887381353419,
          -0.5307819801565642,
          -1.118698345400647,
          -0.015307381413286457,
          -1.4557398829714918,
          0.8591588400819069,
          -0.26492340869200365,
          0.4967984376875904,
          0.04182940727328566,
          -1.7386011275388331,
          0.6969431444672501,
          -0.052871581583919115,
          -1.6601792523085324,
          0.05748666839097407,
          0.1837621355327402,
          1.4962874424816663,
          -0.6205832412165161,
          0.1520623253012091,
          -0.0038386316317565086,
          0.5512624161773946,
          0.2036636174075826,
          -1.52475862710216,
          0.9236883896430348,
          2.046445624318661,
          -1.6928966996502095,
          -0.49450683165912346,
          -0.32097571153166865,
          0.18429648757950035,
          0.9590315555760798,
          0.24518063014786312,
          1.1035536863820947,
          -0.4262789193890452,
          0.38796398237909235,
          0.06095890635811224,
          -0.12080953360031857,
          0.720045065572963,
          1.1384712663936534,
          0.91631532775539,
          -1.3971319160459976,
          0.15533512015255674,
          -0.24322476528350576,
          -1.876186615785088,
          1.3283670094396747,
          1.4762463769813379,
          -0.0720559521924466,
          0.7329609025539923,
          -0.6413826991069103,
          0.12982126874312913,
          1.518939354007646,
          -1.1545144296807108,
          0.1470207356938776,
          -0.6908031760314431,
          -0.055941386298454326,
          1.3156460053880759,
          0.619892489089758,
          0.6088290563295004,
          -0.5374672551116969,
          -0.6880550583755078,
          0.7168531852731158,
          0.007647487232779944,
          2.211320735120686,
          0.6438165866259979,
          -1.0666772238124416,
          1.1185433129275277,
          -1.7299998201445086,
          -0.25975599587783443,
          0.4226172574698807,
          0.3941769709373833,
          0.5160961375330596,
          1.81819966745681,
          0.7991786252320352,
          1.046987568805078,
          -1.128395723062902,
          1.7936925593507211,
          -0.5149323886783681,
          -0.9802210244604053,
          0.2019466283016788,
          0.5362430245906857,
          -1.8460225900728473,
          1.1210128548791507,
          0.4428581166140847,
          -0.3971102158075737,
          1.0099720456684251,
          0.04323912485309805,
          0.16186786619863405,
          -0.8532924235905249,
          0.5683047812022923,
          -0.7182340782336945,
          -0.33714320289360633,
          1.6558347652323795,
          0.4051329252254166,
          0.7723889649324748,
          0.9858257378129331,
          0.3393662311036916,
          1.251335110862688,
          -0.8894527872587709,
          0.022788498965433734,
          0.1529745603304253
         ]
        }
       ],
       "layout": {
        "barmode": "overlay",
        "legend": {
         "bgcolor": "#F5F6F9",
         "font": {
          "color": "#4D5663"
         }
        },
        "paper_bgcolor": "#F5F6F9",
        "plot_bgcolor": "#F5F6F9",
        "template": {
         "data": {
          "bar": [
           {
            "error_x": {
             "color": "#2a3f5f"
            },
            "error_y": {
             "color": "#2a3f5f"
            },
            "marker": {
             "line": {
              "color": "#E5ECF6",
              "width": 0.5
             }
            },
            "type": "bar"
           }
          ],
          "barpolar": [
           {
            "marker": {
             "line": {
              "color": "#E5ECF6",
              "width": 0.5
             }
            },
            "type": "barpolar"
           }
          ],
          "carpet": [
           {
            "aaxis": {
             "endlinecolor": "#2a3f5f",
             "gridcolor": "white",
             "linecolor": "white",
             "minorgridcolor": "white",
             "startlinecolor": "#2a3f5f"
            },
            "baxis": {
             "endlinecolor": "#2a3f5f",
             "gridcolor": "white",
             "linecolor": "white",
             "minorgridcolor": "white",
             "startlinecolor": "#2a3f5f"
            },
            "type": "carpet"
           }
          ],
          "choropleth": [
           {
            "colorbar": {
             "outlinewidth": 0,
             "ticks": ""
            },
            "type": "choropleth"
           }
          ],
          "contour": [
           {
            "colorbar": {
             "outlinewidth": 0,
             "ticks": ""
            },
            "colorscale": [
             [
              0,
              "#0d0887"
             ],
             [
              0.1111111111111111,
              "#46039f"
             ],
             [
              0.2222222222222222,
              "#7201a8"
             ],
             [
              0.3333333333333333,
              "#9c179e"
             ],
             [
              0.4444444444444444,
              "#bd3786"
             ],
             [
              0.5555555555555556,
              "#d8576b"
             ],
             [
              0.6666666666666666,
              "#ed7953"
             ],
             [
              0.7777777777777778,
              "#fb9f3a"
             ],
             [
              0.8888888888888888,
              "#fdca26"
             ],
             [
              1,
              "#f0f921"
             ]
            ],
            "type": "contour"
           }
          ],
          "contourcarpet": [
           {
            "colorbar": {
             "outlinewidth": 0,
             "ticks": ""
            },
            "type": "contourcarpet"
           }
          ],
          "heatmap": [
           {
            "colorbar": {
             "outlinewidth": 0,
             "ticks": ""
            },
            "colorscale": [
             [
              0,
              "#0d0887"
             ],
             [
              0.1111111111111111,
              "#46039f"
             ],
             [
              0.2222222222222222,
              "#7201a8"
             ],
             [
              0.3333333333333333,
              "#9c179e"
             ],
             [
              0.4444444444444444,
              "#bd3786"
             ],
             [
              0.5555555555555556,
              "#d8576b"
             ],
             [
              0.6666666666666666,
              "#ed7953"
             ],
             [
              0.7777777777777778,
              "#fb9f3a"
             ],
             [
              0.8888888888888888,
              "#fdca26"
             ],
             [
              1,
              "#f0f921"
             ]
            ],
            "type": "heatmap"
           }
          ],
          "heatmapgl": [
           {
            "colorbar": {
             "outlinewidth": 0,
             "ticks": ""
            },
            "colorscale": [
             [
              0,
              "#0d0887"
             ],
             [
              0.1111111111111111,
              "#46039f"
             ],
             [
              0.2222222222222222,
              "#7201a8"
             ],
             [
              0.3333333333333333,
              "#9c179e"
             ],
             [
              0.4444444444444444,
              "#bd3786"
             ],
             [
              0.5555555555555556,
              "#d8576b"
             ],
             [
              0.6666666666666666,
              "#ed7953"
             ],
             [
              0.7777777777777778,
              "#fb9f3a"
             ],
             [
              0.8888888888888888,
              "#fdca26"
             ],
             [
              1,
              "#f0f921"
             ]
            ],
            "type": "heatmapgl"
           }
          ],
          "histogram": [
           {
            "marker": {
             "colorbar": {
              "outlinewidth": 0,
              "ticks": ""
             }
            },
            "type": "histogram"
           }
          ],
          "histogram2d": [
           {
            "colorbar": {
             "outlinewidth": 0,
             "ticks": ""
            },
            "colorscale": [
             [
              0,
              "#0d0887"
             ],
             [
              0.1111111111111111,
              "#46039f"
             ],
             [
              0.2222222222222222,
              "#7201a8"
             ],
             [
              0.3333333333333333,
              "#9c179e"
             ],
             [
              0.4444444444444444,
              "#bd3786"
             ],
             [
              0.5555555555555556,
              "#d8576b"
             ],
             [
              0.6666666666666666,
              "#ed7953"
             ],
             [
              0.7777777777777778,
              "#fb9f3a"
             ],
             [
              0.8888888888888888,
              "#fdca26"
             ],
             [
              1,
              "#f0f921"
             ]
            ],
            "type": "histogram2d"
           }
          ],
          "histogram2dcontour": [
           {
            "colorbar": {
             "outlinewidth": 0,
             "ticks": ""
            },
            "colorscale": [
             [
              0,
              "#0d0887"
             ],
             [
              0.1111111111111111,
              "#46039f"
             ],
             [
              0.2222222222222222,
              "#7201a8"
             ],
             [
              0.3333333333333333,
              "#9c179e"
             ],
             [
              0.4444444444444444,
              "#bd3786"
             ],
             [
              0.5555555555555556,
              "#d8576b"
             ],
             [
              0.6666666666666666,
              "#ed7953"
             ],
             [
              0.7777777777777778,
              "#fb9f3a"
             ],
             [
              0.8888888888888888,
              "#fdca26"
             ],
             [
              1,
              "#f0f921"
             ]
            ],
            "type": "histogram2dcontour"
           }
          ],
          "mesh3d": [
           {
            "colorbar": {
             "outlinewidth": 0,
             "ticks": ""
            },
            "type": "mesh3d"
           }
          ],
          "parcoords": [
           {
            "line": {
             "colorbar": {
              "outlinewidth": 0,
              "ticks": ""
             }
            },
            "type": "parcoords"
           }
          ],
          "pie": [
           {
            "automargin": true,
            "type": "pie"
           }
          ],
          "scatter": [
           {
            "marker": {
             "colorbar": {
              "outlinewidth": 0,
              "ticks": ""
             }
            },
            "type": "scatter"
           }
          ],
          "scatter3d": [
           {
            "line": {
             "colorbar": {
              "outlinewidth": 0,
              "ticks": ""
             }
            },
            "marker": {
             "colorbar": {
              "outlinewidth": 0,
              "ticks": ""
             }
            },
            "type": "scatter3d"
           }
          ],
          "scattercarpet": [
           {
            "marker": {
             "colorbar": {
              "outlinewidth": 0,
              "ticks": ""
             }
            },
            "type": "scattercarpet"
           }
          ],
          "scattergeo": [
           {
            "marker": {
             "colorbar": {
              "outlinewidth": 0,
              "ticks": ""
             }
            },
            "type": "scattergeo"
           }
          ],
          "scattergl": [
           {
            "marker": {
             "colorbar": {
              "outlinewidth": 0,
              "ticks": ""
             }
            },
            "type": "scattergl"
           }
          ],
          "scattermapbox": [
           {
            "marker": {
             "colorbar": {
              "outlinewidth": 0,
              "ticks": ""
             }
            },
            "type": "scattermapbox"
           }
          ],
          "scatterpolar": [
           {
            "marker": {
             "colorbar": {
              "outlinewidth": 0,
              "ticks": ""
             }
            },
            "type": "scatterpolar"
           }
          ],
          "scatterpolargl": [
           {
            "marker": {
             "colorbar": {
              "outlinewidth": 0,
              "ticks": ""
             }
            },
            "type": "scatterpolargl"
           }
          ],
          "scatterternary": [
           {
            "marker": {
             "colorbar": {
              "outlinewidth": 0,
              "ticks": ""
             }
            },
            "type": "scatterternary"
           }
          ],
          "surface": [
           {
            "colorbar": {
             "outlinewidth": 0,
             "ticks": ""
            },
            "colorscale": [
             [
              0,
              "#0d0887"
             ],
             [
              0.1111111111111111,
              "#46039f"
             ],
             [
              0.2222222222222222,
              "#7201a8"
             ],
             [
              0.3333333333333333,
              "#9c179e"
             ],
             [
              0.4444444444444444,
              "#bd3786"
             ],
             [
              0.5555555555555556,
              "#d8576b"
             ],
             [
              0.6666666666666666,
              "#ed7953"
             ],
             [
              0.7777777777777778,
              "#fb9f3a"
             ],
             [
              0.8888888888888888,
              "#fdca26"
             ],
             [
              1,
              "#f0f921"
             ]
            ],
            "type": "surface"
           }
          ],
          "table": [
           {
            "cells": {
             "fill": {
              "color": "#EBF0F8"
             },
             "line": {
              "color": "white"
             }
            },
            "header": {
             "fill": {
              "color": "#C8D4E3"
             },
             "line": {
              "color": "white"
             }
            },
            "type": "table"
           }
          ]
         },
         "layout": {
          "annotationdefaults": {
           "arrowcolor": "#2a3f5f",
           "arrowhead": 0,
           "arrowwidth": 1
          },
          "coloraxis": {
           "colorbar": {
            "outlinewidth": 0,
            "ticks": ""
           }
          },
          "colorscale": {
           "diverging": [
            [
             0,
             "#8e0152"
            ],
            [
             0.1,
             "#c51b7d"
            ],
            [
             0.2,
             "#de77ae"
            ],
            [
             0.3,
             "#f1b6da"
            ],
            [
             0.4,
             "#fde0ef"
            ],
            [
             0.5,
             "#f7f7f7"
            ],
            [
             0.6,
             "#e6f5d0"
            ],
            [
             0.7,
             "#b8e186"
            ],
            [
             0.8,
             "#7fbc41"
            ],
            [
             0.9,
             "#4d9221"
            ],
            [
             1,
             "#276419"
            ]
           ],
           "sequential": [
            [
             0,
             "#0d0887"
            ],
            [
             0.1111111111111111,
             "#46039f"
            ],
            [
             0.2222222222222222,
             "#7201a8"
            ],
            [
             0.3333333333333333,
             "#9c179e"
            ],
            [
             0.4444444444444444,
             "#bd3786"
            ],
            [
             0.5555555555555556,
             "#d8576b"
            ],
            [
             0.6666666666666666,
             "#ed7953"
            ],
            [
             0.7777777777777778,
             "#fb9f3a"
            ],
            [
             0.8888888888888888,
             "#fdca26"
            ],
            [
             1,
             "#f0f921"
            ]
           ],
           "sequentialminus": [
            [
             0,
             "#0d0887"
            ],
            [
             0.1111111111111111,
             "#46039f"
            ],
            [
             0.2222222222222222,
             "#7201a8"
            ],
            [
             0.3333333333333333,
             "#9c179e"
            ],
            [
             0.4444444444444444,
             "#bd3786"
            ],
            [
             0.5555555555555556,
             "#d8576b"
            ],
            [
             0.6666666666666666,
             "#ed7953"
            ],
            [
             0.7777777777777778,
             "#fb9f3a"
            ],
            [
             0.8888888888888888,
             "#fdca26"
            ],
            [
             1,
             "#f0f921"
            ]
           ]
          },
          "colorway": [
           "#636efa",
           "#EF553B",
           "#00cc96",
           "#ab63fa",
           "#FFA15A",
           "#19d3f3",
           "#FF6692",
           "#B6E880",
           "#FF97FF",
           "#FECB52"
          ],
          "font": {
           "color": "#2a3f5f"
          },
          "geo": {
           "bgcolor": "white",
           "lakecolor": "white",
           "landcolor": "#E5ECF6",
           "showlakes": true,
           "showland": true,
           "subunitcolor": "white"
          },
          "hoverlabel": {
           "align": "left"
          },
          "hovermode": "closest",
          "mapbox": {
           "style": "light"
          },
          "paper_bgcolor": "white",
          "plot_bgcolor": "#E5ECF6",
          "polar": {
           "angularaxis": {
            "gridcolor": "white",
            "linecolor": "white",
            "ticks": ""
           },
           "bgcolor": "#E5ECF6",
           "radialaxis": {
            "gridcolor": "white",
            "linecolor": "white",
            "ticks": ""
           }
          },
          "scene": {
           "xaxis": {
            "backgroundcolor": "#E5ECF6",
            "gridcolor": "white",
            "gridwidth": 2,
            "linecolor": "white",
            "showbackground": true,
            "ticks": "",
            "zerolinecolor": "white"
           },
           "yaxis": {
            "backgroundcolor": "#E5ECF6",
            "gridcolor": "white",
            "gridwidth": 2,
            "linecolor": "white",
            "showbackground": true,
            "ticks": "",
            "zerolinecolor": "white"
           },
           "zaxis": {
            "backgroundcolor": "#E5ECF6",
            "gridcolor": "white",
            "gridwidth": 2,
            "linecolor": "white",
            "showbackground": true,
            "ticks": "",
            "zerolinecolor": "white"
           }
          },
          "shapedefaults": {
           "line": {
            "color": "#2a3f5f"
           }
          },
          "ternary": {
           "aaxis": {
            "gridcolor": "white",
            "linecolor": "white",
            "ticks": ""
           },
           "baxis": {
            "gridcolor": "white",
            "linecolor": "white",
            "ticks": ""
           },
           "bgcolor": "#E5ECF6",
           "caxis": {
            "gridcolor": "white",
            "linecolor": "white",
            "ticks": ""
           }
          },
          "title": {
           "x": 0.05
          },
          "xaxis": {
           "automargin": true,
           "gridcolor": "white",
           "linecolor": "white",
           "ticks": "",
           "title": {
            "standoff": 15
           },
           "zerolinecolor": "white",
           "zerolinewidth": 2
          },
          "yaxis": {
           "automargin": true,
           "gridcolor": "white",
           "linecolor": "white",
           "ticks": "",
           "title": {
            "standoff": 15
           },
           "zerolinecolor": "white",
           "zerolinewidth": 2
          }
         }
        },
        "title": {
         "font": {
          "color": "#4D5663"
         }
        },
        "xaxis": {
         "gridcolor": "#E1E5ED",
         "showgrid": true,
         "tickfont": {
          "color": "#4D5663"
         },
         "title": {
          "font": {
           "color": "#4D5663"
          },
          "text": ""
         },
         "zerolinecolor": "#E1E5ED"
        },
        "yaxis": {
         "gridcolor": "#E1E5ED",
         "showgrid": true,
         "tickfont": {
          "color": "#4D5663"
         },
         "title": {
          "font": {
           "color": "#4D5663"
          },
          "text": ""
         },
         "zerolinecolor": "#E1E5ED"
        }
       }
      },
      "text/html": [
       "<div>\n",
       "        \n",
       "        \n",
       "            <div id=\"133f5d2f-8336-4e81-905b-66645c486e44\" class=\"plotly-graph-div\" style=\"height:525px; width:100%;\"></div>\n",
       "            <script type=\"text/javascript\">\n",
       "                require([\"plotly\"], function(Plotly) {\n",
       "                    window.PLOTLYENV=window.PLOTLYENV || {};\n",
       "                    window.PLOTLYENV.BASE_URL='https://plot.ly';\n",
       "                    \n",
       "                if (document.getElementById(\"133f5d2f-8336-4e81-905b-66645c486e44\")) {\n",
       "                    Plotly.newPlot(\n",
       "                        '133f5d2f-8336-4e81-905b-66645c486e44',\n",
       "                        [{\"histfunc\": \"count\", \"histnorm\": \"\", \"marker\": {\"color\": \"rgba(255, 153, 51, 1.0)\", \"line\": {\"color\": \"#4D5663\", \"width\": 1.3}}, \"name\": \"A\", \"nbinsx\": 20, \"opacity\": 0.8, \"orientation\": \"v\", \"type\": \"histogram\", \"x\": [-1.7328184700099154, -0.6655392531642427, -0.5141887381353419, -0.5307819801565642, -1.118698345400647, -0.015307381413286457, -1.4557398829714918, 0.8591588400819069, -0.26492340869200365, 0.4967984376875904, 0.04182940727328566, -1.7386011275388331, 0.6969431444672501, -0.052871581583919115, -1.6601792523085324, 0.05748666839097407, 0.1837621355327402, 1.4962874424816663, -0.6205832412165161, 0.1520623253012091, -0.0038386316317565086, 0.5512624161773946, 0.2036636174075826, -1.52475862710216, 0.9236883896430348, 2.046445624318661, -1.6928966996502095, -0.49450683165912346, -0.32097571153166865, 0.18429648757950035, 0.9590315555760798, 0.24518063014786312, 1.1035536863820947, -0.4262789193890452, 0.38796398237909235, 0.06095890635811224, -0.12080953360031857, 0.720045065572963, 1.1384712663936534, 0.91631532775539, -1.3971319160459976, 0.15533512015255674, -0.24322476528350576, -1.876186615785088, 1.3283670094396747, 1.4762463769813379, -0.0720559521924466, 0.7329609025539923, -0.6413826991069103, 0.12982126874312913, 1.518939354007646, -1.1545144296807108, 0.1470207356938776, -0.6908031760314431, -0.055941386298454326, 1.3156460053880759, 0.619892489089758, 0.6088290563295004, -0.5374672551116969, -0.6880550583755078, 0.7168531852731158, 0.007647487232779944, 2.211320735120686, 0.6438165866259979, -1.0666772238124416, 1.1185433129275277, -1.7299998201445086, -0.25975599587783443, 0.4226172574698807, 0.3941769709373833, 0.5160961375330596, 1.81819966745681, 0.7991786252320352, 1.046987568805078, -1.128395723062902, 1.7936925593507211, -0.5149323886783681, -0.9802210244604053, 0.2019466283016788, 0.5362430245906857, -1.8460225900728473, 1.1210128548791507, 0.4428581166140847, -0.3971102158075737, 1.0099720456684251, 0.04323912485309805, 0.16186786619863405, -0.8532924235905249, 0.5683047812022923, -0.7182340782336945, -0.33714320289360633, 1.6558347652323795, 0.4051329252254166, 0.7723889649324748, 0.9858257378129331, 0.3393662311036916, 1.251335110862688, -0.8894527872587709, 0.022788498965433734, 0.1529745603304253]}],\n",
       "                        {\"barmode\": \"overlay\", \"legend\": {\"bgcolor\": \"#F5F6F9\", \"font\": {\"color\": \"#4D5663\"}}, \"paper_bgcolor\": \"#F5F6F9\", \"plot_bgcolor\": \"#F5F6F9\", \"template\": {\"data\": {\"bar\": [{\"error_x\": {\"color\": \"#2a3f5f\"}, \"error_y\": {\"color\": \"#2a3f5f\"}, \"marker\": {\"line\": {\"color\": \"#E5ECF6\", \"width\": 0.5}}, \"type\": \"bar\"}], \"barpolar\": [{\"marker\": {\"line\": {\"color\": \"#E5ECF6\", \"width\": 0.5}}, \"type\": \"barpolar\"}], \"carpet\": [{\"aaxis\": {\"endlinecolor\": \"#2a3f5f\", \"gridcolor\": \"white\", \"linecolor\": \"white\", \"minorgridcolor\": \"white\", \"startlinecolor\": \"#2a3f5f\"}, \"baxis\": {\"endlinecolor\": \"#2a3f5f\", \"gridcolor\": \"white\", \"linecolor\": \"white\", \"minorgridcolor\": \"white\", \"startlinecolor\": \"#2a3f5f\"}, \"type\": \"carpet\"}], \"choropleth\": [{\"colorbar\": {\"outlinewidth\": 0, \"ticks\": \"\"}, \"type\": \"choropleth\"}], \"contour\": [{\"colorbar\": {\"outlinewidth\": 0, \"ticks\": \"\"}, \"colorscale\": [[0.0, \"#0d0887\"], [0.1111111111111111, \"#46039f\"], [0.2222222222222222, \"#7201a8\"], [0.3333333333333333, \"#9c179e\"], [0.4444444444444444, \"#bd3786\"], [0.5555555555555556, \"#d8576b\"], [0.6666666666666666, \"#ed7953\"], [0.7777777777777778, \"#fb9f3a\"], [0.8888888888888888, \"#fdca26\"], [1.0, \"#f0f921\"]], \"type\": \"contour\"}], \"contourcarpet\": [{\"colorbar\": {\"outlinewidth\": 0, \"ticks\": \"\"}, \"type\": \"contourcarpet\"}], \"heatmap\": [{\"colorbar\": {\"outlinewidth\": 0, \"ticks\": \"\"}, \"colorscale\": [[0.0, \"#0d0887\"], [0.1111111111111111, \"#46039f\"], [0.2222222222222222, \"#7201a8\"], [0.3333333333333333, \"#9c179e\"], [0.4444444444444444, \"#bd3786\"], [0.5555555555555556, \"#d8576b\"], [0.6666666666666666, \"#ed7953\"], [0.7777777777777778, \"#fb9f3a\"], [0.8888888888888888, \"#fdca26\"], [1.0, \"#f0f921\"]], \"type\": \"heatmap\"}], \"heatmapgl\": [{\"colorbar\": {\"outlinewidth\": 0, \"ticks\": \"\"}, \"colorscale\": [[0.0, \"#0d0887\"], [0.1111111111111111, \"#46039f\"], [0.2222222222222222, \"#7201a8\"], [0.3333333333333333, \"#9c179e\"], [0.4444444444444444, \"#bd3786\"], [0.5555555555555556, \"#d8576b\"], [0.6666666666666666, \"#ed7953\"], [0.7777777777777778, \"#fb9f3a\"], [0.8888888888888888, \"#fdca26\"], [1.0, \"#f0f921\"]], \"type\": \"heatmapgl\"}], \"histogram\": [{\"marker\": {\"colorbar\": {\"outlinewidth\": 0, \"ticks\": \"\"}}, \"type\": \"histogram\"}], \"histogram2d\": [{\"colorbar\": {\"outlinewidth\": 0, \"ticks\": \"\"}, \"colorscale\": [[0.0, \"#0d0887\"], [0.1111111111111111, \"#46039f\"], [0.2222222222222222, \"#7201a8\"], [0.3333333333333333, \"#9c179e\"], [0.4444444444444444, \"#bd3786\"], [0.5555555555555556, \"#d8576b\"], [0.6666666666666666, \"#ed7953\"], [0.7777777777777778, \"#fb9f3a\"], [0.8888888888888888, \"#fdca26\"], [1.0, \"#f0f921\"]], \"type\": \"histogram2d\"}], \"histogram2dcontour\": [{\"colorbar\": {\"outlinewidth\": 0, \"ticks\": \"\"}, \"colorscale\": [[0.0, \"#0d0887\"], [0.1111111111111111, \"#46039f\"], [0.2222222222222222, \"#7201a8\"], [0.3333333333333333, \"#9c179e\"], [0.4444444444444444, \"#bd3786\"], [0.5555555555555556, \"#d8576b\"], [0.6666666666666666, \"#ed7953\"], [0.7777777777777778, \"#fb9f3a\"], [0.8888888888888888, \"#fdca26\"], [1.0, \"#f0f921\"]], \"type\": \"histogram2dcontour\"}], \"mesh3d\": [{\"colorbar\": {\"outlinewidth\": 0, \"ticks\": \"\"}, \"type\": \"mesh3d\"}], \"parcoords\": [{\"line\": {\"colorbar\": {\"outlinewidth\": 0, \"ticks\": \"\"}}, \"type\": \"parcoords\"}], \"pie\": [{\"automargin\": true, \"type\": \"pie\"}], \"scatter\": [{\"marker\": {\"colorbar\": {\"outlinewidth\": 0, \"ticks\": \"\"}}, \"type\": \"scatter\"}], \"scatter3d\": [{\"line\": {\"colorbar\": {\"outlinewidth\": 0, \"ticks\": \"\"}}, \"marker\": {\"colorbar\": {\"outlinewidth\": 0, \"ticks\": \"\"}}, \"type\": \"scatter3d\"}], \"scattercarpet\": [{\"marker\": {\"colorbar\": {\"outlinewidth\": 0, \"ticks\": \"\"}}, \"type\": \"scattercarpet\"}], \"scattergeo\": [{\"marker\": {\"colorbar\": {\"outlinewidth\": 0, \"ticks\": \"\"}}, \"type\": \"scattergeo\"}], \"scattergl\": [{\"marker\": {\"colorbar\": {\"outlinewidth\": 0, \"ticks\": \"\"}}, \"type\": \"scattergl\"}], \"scattermapbox\": [{\"marker\": {\"colorbar\": {\"outlinewidth\": 0, \"ticks\": \"\"}}, \"type\": \"scattermapbox\"}], \"scatterpolar\": [{\"marker\": {\"colorbar\": {\"outlinewidth\": 0, \"ticks\": \"\"}}, \"type\": \"scatterpolar\"}], \"scatterpolargl\": [{\"marker\": {\"colorbar\": {\"outlinewidth\": 0, \"ticks\": \"\"}}, \"type\": \"scatterpolargl\"}], \"scatterternary\": [{\"marker\": {\"colorbar\": {\"outlinewidth\": 0, \"ticks\": \"\"}}, \"type\": \"scatterternary\"}], \"surface\": [{\"colorbar\": {\"outlinewidth\": 0, \"ticks\": \"\"}, \"colorscale\": [[0.0, \"#0d0887\"], [0.1111111111111111, \"#46039f\"], [0.2222222222222222, \"#7201a8\"], [0.3333333333333333, \"#9c179e\"], [0.4444444444444444, \"#bd3786\"], [0.5555555555555556, \"#d8576b\"], [0.6666666666666666, \"#ed7953\"], [0.7777777777777778, \"#fb9f3a\"], [0.8888888888888888, \"#fdca26\"], [1.0, \"#f0f921\"]], \"type\": \"surface\"}], \"table\": [{\"cells\": {\"fill\": {\"color\": \"#EBF0F8\"}, \"line\": {\"color\": \"white\"}}, \"header\": {\"fill\": {\"color\": \"#C8D4E3\"}, \"line\": {\"color\": \"white\"}}, \"type\": \"table\"}]}, \"layout\": {\"annotationdefaults\": {\"arrowcolor\": \"#2a3f5f\", \"arrowhead\": 0, \"arrowwidth\": 1}, \"coloraxis\": {\"colorbar\": {\"outlinewidth\": 0, \"ticks\": \"\"}}, \"colorscale\": {\"diverging\": [[0, \"#8e0152\"], [0.1, \"#c51b7d\"], [0.2, \"#de77ae\"], [0.3, \"#f1b6da\"], [0.4, \"#fde0ef\"], [0.5, \"#f7f7f7\"], [0.6, \"#e6f5d0\"], [0.7, \"#b8e186\"], [0.8, \"#7fbc41\"], [0.9, \"#4d9221\"], [1, \"#276419\"]], \"sequential\": [[0.0, \"#0d0887\"], [0.1111111111111111, \"#46039f\"], [0.2222222222222222, \"#7201a8\"], [0.3333333333333333, \"#9c179e\"], [0.4444444444444444, \"#bd3786\"], [0.5555555555555556, \"#d8576b\"], [0.6666666666666666, \"#ed7953\"], [0.7777777777777778, \"#fb9f3a\"], [0.8888888888888888, \"#fdca26\"], [1.0, \"#f0f921\"]], \"sequentialminus\": [[0.0, \"#0d0887\"], [0.1111111111111111, \"#46039f\"], [0.2222222222222222, \"#7201a8\"], [0.3333333333333333, \"#9c179e\"], [0.4444444444444444, \"#bd3786\"], [0.5555555555555556, \"#d8576b\"], [0.6666666666666666, \"#ed7953\"], [0.7777777777777778, \"#fb9f3a\"], [0.8888888888888888, \"#fdca26\"], [1.0, \"#f0f921\"]]}, \"colorway\": [\"#636efa\", \"#EF553B\", \"#00cc96\", \"#ab63fa\", \"#FFA15A\", \"#19d3f3\", \"#FF6692\", \"#B6E880\", \"#FF97FF\", \"#FECB52\"], \"font\": {\"color\": \"#2a3f5f\"}, \"geo\": {\"bgcolor\": \"white\", \"lakecolor\": \"white\", \"landcolor\": \"#E5ECF6\", \"showlakes\": true, \"showland\": true, \"subunitcolor\": \"white\"}, \"hoverlabel\": {\"align\": \"left\"}, \"hovermode\": \"closest\", \"mapbox\": {\"style\": \"light\"}, \"paper_bgcolor\": \"white\", \"plot_bgcolor\": \"#E5ECF6\", \"polar\": {\"angularaxis\": {\"gridcolor\": \"white\", \"linecolor\": \"white\", \"ticks\": \"\"}, \"bgcolor\": \"#E5ECF6\", \"radialaxis\": {\"gridcolor\": \"white\", \"linecolor\": \"white\", \"ticks\": \"\"}}, \"scene\": {\"xaxis\": {\"backgroundcolor\": \"#E5ECF6\", \"gridcolor\": \"white\", \"gridwidth\": 2, \"linecolor\": \"white\", \"showbackground\": true, \"ticks\": \"\", \"zerolinecolor\": \"white\"}, \"yaxis\": {\"backgroundcolor\": \"#E5ECF6\", \"gridcolor\": \"white\", \"gridwidth\": 2, \"linecolor\": \"white\", \"showbackground\": true, \"ticks\": \"\", \"zerolinecolor\": \"white\"}, \"zaxis\": {\"backgroundcolor\": \"#E5ECF6\", \"gridcolor\": \"white\", \"gridwidth\": 2, \"linecolor\": \"white\", \"showbackground\": true, \"ticks\": \"\", \"zerolinecolor\": \"white\"}}, \"shapedefaults\": {\"line\": {\"color\": \"#2a3f5f\"}}, \"ternary\": {\"aaxis\": {\"gridcolor\": \"white\", \"linecolor\": \"white\", \"ticks\": \"\"}, \"baxis\": {\"gridcolor\": \"white\", \"linecolor\": \"white\", \"ticks\": \"\"}, \"bgcolor\": \"#E5ECF6\", \"caxis\": {\"gridcolor\": \"white\", \"linecolor\": \"white\", \"ticks\": \"\"}}, \"title\": {\"x\": 0.05}, \"xaxis\": {\"automargin\": true, \"gridcolor\": \"white\", \"linecolor\": \"white\", \"ticks\": \"\", \"title\": {\"standoff\": 15}, \"zerolinecolor\": \"white\", \"zerolinewidth\": 2}, \"yaxis\": {\"automargin\": true, \"gridcolor\": \"white\", \"linecolor\": \"white\", \"ticks\": \"\", \"title\": {\"standoff\": 15}, \"zerolinecolor\": \"white\", \"zerolinewidth\": 2}}}, \"title\": {\"font\": {\"color\": \"#4D5663\"}}, \"xaxis\": {\"gridcolor\": \"#E1E5ED\", \"showgrid\": true, \"tickfont\": {\"color\": \"#4D5663\"}, \"title\": {\"font\": {\"color\": \"#4D5663\"}, \"text\": \"\"}, \"zerolinecolor\": \"#E1E5ED\"}, \"yaxis\": {\"gridcolor\": \"#E1E5ED\", \"showgrid\": true, \"tickfont\": {\"color\": \"#4D5663\"}, \"title\": {\"font\": {\"color\": \"#4D5663\"}, \"text\": \"\"}, \"zerolinecolor\": \"#E1E5ED\"}},\n",
       "                        {\"showLink\": true, \"linkText\": \"Export to plot.ly\", \"plotlyServerURL\": \"https://plot.ly\", \"responsive\": true}\n",
       "                    ).then(function(){\n",
       "                            \n",
       "var gd = document.getElementById('133f5d2f-8336-4e81-905b-66645c486e44');\n",
       "var x = new MutationObserver(function (mutations, observer) {{\n",
       "        var display = window.getComputedStyle(gd).display;\n",
       "        if (!display || display === 'none') {{\n",
       "            console.log([gd, 'removed!']);\n",
       "            Plotly.purge(gd);\n",
       "            observer.disconnect();\n",
       "        }}\n",
       "}});\n",
       "\n",
       "// Listen for the removal of the full notebook cells\n",
       "var notebookContainer = gd.closest('#notebook-container');\n",
       "if (notebookContainer) {{\n",
       "    x.observe(notebookContainer, {childList: true});\n",
       "}}\n",
       "\n",
       "// Listen for the clearing of the current output cell\n",
       "var outputEl = gd.closest('.output');\n",
       "if (outputEl) {{\n",
       "    x.observe(outputEl, {childList: true});\n",
       "}}\n",
       "\n",
       "                        })\n",
       "                };\n",
       "                });\n",
       "            </script>\n",
       "        </div>"
      ]
     },
     "metadata": {},
     "output_type": "display_data"
    }
   ],
   "source": [
    "df['A'].iplot(kind='hist',bins=20)"
   ]
  },
  {
   "cell_type": "code",
   "execution_count": 57,
   "metadata": {},
   "outputs": [
    {
     "name": "stderr",
     "output_type": "stream",
     "text": [
      "G:\\Anaconda\\lib\\site-packages\\cufflinks\\plotlytools.py:849: FutureWarning:\n",
      "\n",
      "The pandas.np module is deprecated and will be removed from pandas in a future version. Import numpy directly instead\n",
      "\n",
      "G:\\Anaconda\\lib\\site-packages\\cufflinks\\plotlytools.py:850: FutureWarning:\n",
      "\n",
      "The pandas.np module is deprecated and will be removed from pandas in a future version. Import numpy directly instead\n",
      "\n"
     ]
    },
    {
     "data": {
      "application/vnd.plotly.v1+json": {
       "config": {
        "linkText": "Export to plot.ly",
        "plotlyServerURL": "https://plot.ly",
        "showLink": true
       },
       "data": [
        {
         "line": {
          "color": "rgba(255, 153, 51, 1.0)",
          "dash": "solid",
          "shape": "linear",
          "width": 1.3
         },
         "mode": "lines",
         "name": "A",
         "text": "",
         "type": "scatter",
         "x": [
          0,
          1,
          2,
          3,
          4,
          5,
          6,
          7,
          8,
          9,
          10,
          11,
          12,
          13,
          14,
          15,
          16,
          17,
          18,
          19,
          20,
          21,
          22,
          23,
          24,
          25,
          26,
          27,
          28,
          29,
          30,
          31,
          32,
          33,
          34,
          35,
          36,
          37,
          38,
          39,
          40,
          41,
          42,
          43,
          44,
          45,
          46,
          47,
          48,
          49,
          50,
          51,
          52,
          53,
          54,
          55,
          56,
          57,
          58,
          59,
          60,
          61,
          62,
          63,
          64,
          65,
          66,
          67,
          68,
          69,
          70,
          71,
          72,
          73,
          74,
          75,
          76,
          77,
          78,
          79,
          80,
          81,
          82,
          83,
          84,
          85,
          86,
          87,
          88,
          89,
          90,
          91,
          92,
          93,
          94,
          95,
          96,
          97,
          98,
          99
         ],
         "y": [
          -1.7328184700099154,
          -0.6655392531642427,
          -0.5141887381353419,
          -0.5307819801565642,
          -1.118698345400647,
          -0.015307381413286457,
          -1.4557398829714918,
          0.8591588400819069,
          -0.26492340869200365,
          0.4967984376875904,
          0.04182940727328566,
          -1.7386011275388331,
          0.6969431444672501,
          -0.052871581583919115,
          -1.6601792523085324,
          0.05748666839097407,
          0.1837621355327402,
          1.4962874424816663,
          -0.6205832412165161,
          0.1520623253012091,
          -0.0038386316317565086,
          0.5512624161773946,
          0.2036636174075826,
          -1.52475862710216,
          0.9236883896430348,
          2.046445624318661,
          -1.6928966996502095,
          -0.49450683165912346,
          -0.32097571153166865,
          0.18429648757950035,
          0.9590315555760798,
          0.24518063014786312,
          1.1035536863820947,
          -0.4262789193890452,
          0.38796398237909235,
          0.06095890635811224,
          -0.12080953360031857,
          0.720045065572963,
          1.1384712663936534,
          0.91631532775539,
          -1.3971319160459976,
          0.15533512015255674,
          -0.24322476528350576,
          -1.876186615785088,
          1.3283670094396747,
          1.4762463769813379,
          -0.0720559521924466,
          0.7329609025539923,
          -0.6413826991069103,
          0.12982126874312913,
          1.518939354007646,
          -1.1545144296807108,
          0.1470207356938776,
          -0.6908031760314431,
          -0.055941386298454326,
          1.3156460053880759,
          0.619892489089758,
          0.6088290563295004,
          -0.5374672551116969,
          -0.6880550583755078,
          0.7168531852731158,
          0.007647487232779944,
          2.211320735120686,
          0.6438165866259979,
          -1.0666772238124416,
          1.1185433129275277,
          -1.7299998201445086,
          -0.25975599587783443,
          0.4226172574698807,
          0.3941769709373833,
          0.5160961375330596,
          1.81819966745681,
          0.7991786252320352,
          1.046987568805078,
          -1.128395723062902,
          1.7936925593507211,
          -0.5149323886783681,
          -0.9802210244604053,
          0.2019466283016788,
          0.5362430245906857,
          -1.8460225900728473,
          1.1210128548791507,
          0.4428581166140847,
          -0.3971102158075737,
          1.0099720456684251,
          0.04323912485309805,
          0.16186786619863405,
          -0.8532924235905249,
          0.5683047812022923,
          -0.7182340782336945,
          -0.33714320289360633,
          1.6558347652323795,
          0.4051329252254166,
          0.7723889649324748,
          0.9858257378129331,
          0.3393662311036916,
          1.251335110862688,
          -0.8894527872587709,
          0.022788498965433734,
          0.1529745603304253
         ]
        },
        {
         "line": {
          "color": "rgba(55, 128, 191, 1.0)",
          "dash": "solid",
          "shape": "linear",
          "width": 1.3
         },
         "mode": "lines",
         "name": "B",
         "text": "",
         "type": "scatter",
         "x": [
          0,
          1,
          2,
          3,
          4,
          5,
          6,
          7,
          8,
          9,
          10,
          11,
          12,
          13,
          14,
          15,
          16,
          17,
          18,
          19,
          20,
          21,
          22,
          23,
          24,
          25,
          26,
          27,
          28,
          29,
          30,
          31,
          32,
          33,
          34,
          35,
          36,
          37,
          38,
          39,
          40,
          41,
          42,
          43,
          44,
          45,
          46,
          47,
          48,
          49,
          50,
          51,
          52,
          53,
          54,
          55,
          56,
          57,
          58,
          59,
          60,
          61,
          62,
          63,
          64,
          65,
          66,
          67,
          68,
          69,
          70,
          71,
          72,
          73,
          74,
          75,
          76,
          77,
          78,
          79,
          80,
          81,
          82,
          83,
          84,
          85,
          86,
          87,
          88,
          89,
          90,
          91,
          92,
          93,
          94,
          95,
          96,
          97,
          98,
          99
         ],
         "y": [
          -0.5737945545380813,
          1.10681733267001,
          -0.8642735138565506,
          0.5403727191652674,
          1.3446585111575515,
          0.9707770371986021,
          -0.4758158228346009,
          -1.7206476733987262,
          -0.5213925667074699,
          -1.3160304741085156,
          1.7139340392948705,
          -1.081772196858882,
          0.6852193539140005,
          0.2357121945272125,
          -0.21621060736553435,
          -1.16561783610473,
          -0.7160992151206331,
          -0.7963619994131266,
          -5.734197369323232e-05,
          0.4121475843934423,
          -0.5346345063636659,
          0.9800828890027675,
          -0.17355190502161186,
          0.50663665254452,
          -0.9743640840943804,
          2.4442193260237777,
          -1.5127481904255589,
          -0.4463273169784612,
          0.2863886544997744,
          -2.6366488568868967,
          0.3399990001282703,
          -0.4238775381884636,
          0.09553159887378632,
          0.030443516590440534,
          -0.117465978296997,
          0.5680994389852261,
          0.8986361709059272,
          0.05807554994885092,
          -0.573788376859282,
          0.07770170114819182,
          -0.1532975170574101,
          -1.7259334090059024,
          1.9288714395457591,
          -0.5540020564911894,
          0.7437781696058638,
          0.09207992430893966,
          -0.09103602463885366,
          0.4550902656062467,
          -1.049078831656769,
          0.39971184330269044,
          1.8580764136015517,
          1.530549476657037,
          -1.550731195712601,
          -1.7384459910819856,
          -0.9078249514952067,
          -0.5390811901792363,
          2.0245770702001114,
          0.060145825037109524,
          0.19512977367730458,
          -0.906664515766312,
          -0.4579375421367402,
          1.5950732986077922,
          -0.06095303450437194,
          -0.7050404940898929,
          -0.7948447032770758,
          -0.5673176973672968,
          -1.2621608935191002,
          -0.6700539341340684,
          0.5446324881912484,
          -0.872920736801528,
          -0.917874519634289,
          -1.4537221534915523,
          0.16881163940843347,
          0.20088757260669715,
          0.18290911610110255,
          -1.476238336965387,
          -0.5561300294068415,
          -0.36454287791069184,
          -0.06220468912964303,
          -0.9794835695449904,
          1.9058757707845015,
          0.09730984282951217,
          0.974860478095882,
          -0.13908650831671687,
          0.7492916762415887,
          -0.5509520407165336,
          -0.6638932817154232,
          -0.08468534082475872,
          0.032786764332160115,
          -0.13758137168049833,
          1.0497203019324426,
          0.5940635515384379,
          -0.3397995017727589,
          0.2857793266688294,
          0.8331357511706957,
          0.24054536988523556,
          -0.6609910622382077,
          -1.015298446375443,
          0.7385713900137486,
          -0.43492175701388197
         ]
        },
        {
         "connectgaps": false,
         "fill": "tozeroy",
         "line": {
          "color": "green",
          "dash": "solid",
          "shape": "linear",
          "width": 0.5
         },
         "mode": "lines",
         "name": "Spread",
         "showlegend": false,
         "type": "scatter",
         "x": [
          0,
          1,
          2,
          3,
          4,
          5,
          6,
          7,
          8,
          9,
          10,
          11,
          12,
          13,
          14,
          15,
          16,
          17,
          18,
          19,
          20,
          21,
          22,
          23,
          24,
          25,
          26,
          27,
          28,
          29,
          30,
          31,
          32,
          33,
          34,
          35,
          36,
          37,
          38,
          39,
          40,
          41,
          42,
          43,
          44,
          45,
          46,
          47,
          48,
          49,
          50,
          51,
          52,
          53,
          54,
          55,
          56,
          57,
          58,
          59,
          60,
          61,
          62,
          63,
          64,
          65,
          66,
          67,
          68,
          69,
          70,
          71,
          72,
          73,
          74,
          75,
          76,
          77,
          78,
          79,
          80,
          81,
          82,
          83,
          84,
          85,
          86,
          87,
          88,
          89,
          90,
          91,
          92,
          93,
          94,
          95,
          96,
          97,
          98,
          99
         ],
         "xaxis": "x2",
         "y": [
          "",
          "",
          0.35008477572120866,
          "",
          "",
          "",
          "",
          2.579806513480633,
          0.25646915801546627,
          1.812828911796106,
          "",
          "",
          0.01172379055324968,
          "",
          "",
          1.223104504495704,
          0.8998613506533734,
          2.2926494418947927,
          "",
          "",
          0.5307958747319095,
          "",
          0.3772155224291944,
          "",
          1.8980524737374151,
          "",
          "",
          "",
          "",
          2.8209453444663968,
          0.6190325554478096,
          0.6690581683363267,
          1.0080220875083084,
          "",
          0.5054299606760894,
          "",
          "",
          0.6619695156241121,
          1.7122596432529353,
          0.8386136266071982,
          "",
          1.8812685291584592,
          "",
          "",
          0.5845888398338108,
          1.3841664526723982,
          0.01898007244640705,
          0.27787063694774555,
          0.4076961325498587,
          "",
          "",
          "",
          1.6977519314064786,
          1.0476428150505424,
          0.8518835651967523,
          1.8547271955673121,
          "",
          0.5486832312923908,
          "",
          0.21860945739080417,
          1.1747907274098561,
          "",
          2.2722737696250577,
          1.3488570807158908,
          "",
          1.6858610102948246,
          "",
          0.410297938256234,
          "",
          1.2670977077389114,
          1.4339706571673485,
          3.2719218209483625,
          0.6303669858236017,
          0.8460999961983808,
          "",
          3.269930896316108,
          0.04119764072847343,
          "",
          0.26415131743132186,
          1.5157265941356761,
          "",
          1.0237030120496384,
          "",
          "",
          0.2606803694268365,
          0.5941911655696316,
          0.8257611479140572,
          "",
          0.5355180168701322,
          "",
          "",
          1.0617712136939415,
          0.7449324269981755,
          0.4866096382636454,
          0.15268998664223743,
          0.09882086121845601,
          1.9123261731008956,
          0.12584565911667223,
          "",
          0.5878963173443073
         ],
         "yaxis": "y2"
        },
        {
         "connectgaps": false,
         "fill": "tozeroy",
         "line": {
          "color": "red",
          "dash": "solid",
          "shape": "linear",
          "width": 0.5
         },
         "mode": "lines",
         "name": "Spread",
         "showlegend": false,
         "type": "scatter",
         "x": [
          0,
          1,
          2,
          3,
          4,
          5,
          6,
          7,
          8,
          9,
          10,
          11,
          12,
          13,
          14,
          15,
          16,
          17,
          18,
          19,
          20,
          21,
          22,
          23,
          24,
          25,
          26,
          27,
          28,
          29,
          30,
          31,
          32,
          33,
          34,
          35,
          36,
          37,
          38,
          39,
          40,
          41,
          42,
          43,
          44,
          45,
          46,
          47,
          48,
          49,
          50,
          51,
          52,
          53,
          54,
          55,
          56,
          57,
          58,
          59,
          60,
          61,
          62,
          63,
          64,
          65,
          66,
          67,
          68,
          69,
          70,
          71,
          72,
          73,
          74,
          75,
          76,
          77,
          78,
          79,
          80,
          81,
          82,
          83,
          84,
          85,
          86,
          87,
          88,
          89,
          90,
          91,
          92,
          93,
          94,
          95,
          96,
          97,
          98,
          99
         ],
         "xaxis": "x2",
         "y": [
          -1.1590239154718343,
          -1.7723565858342525,
          "",
          -1.0711546993218315,
          -2.4633568565581987,
          -0.9860844186118886,
          -0.9799240601368909,
          "",
          "",
          "",
          -1.6721046320215849,
          -0.6568289306799511,
          "",
          -0.2885837761111316,
          -1.443968644942998,
          "",
          "",
          "",
          -0.6205258992428229,
          -0.2600852590922332,
          "",
          -0.42882047282537294,
          "",
          -2.03139527964668,
          "",
          -0.3977737017051166,
          -0.18014850922465064,
          -0.04817951468066228,
          -0.6073643660314431,
          "",
          "",
          "",
          "",
          -0.45672243597948575,
          "",
          -0.5071405326271139,
          -1.0194457045062457,
          "",
          "",
          "",
          -1.2438343989885876,
          "",
          -2.172096204829265,
          -1.3221845592938986,
          "",
          "",
          "",
          "",
          "",
          -0.26989057455956134,
          -0.33913705959390583,
          -2.6850639063377475,
          "",
          "",
          "",
          "",
          -1.4046845811103532,
          "",
          -0.7325970287890015,
          "",
          "",
          -1.5874258113750124,
          "",
          "",
          -0.2718325205353658,
          "",
          -0.4678389266254084,
          "",
          -0.12201523072136772,
          "",
          "",
          "",
          "",
          "",
          -1.3113048391640045,
          "",
          "",
          -0.6156781465497134,
          "",
          "",
          -3.751898360857349,
          "",
          -0.5320023614817974,
          -0.25802370749085685,
          "",
          "",
          "",
          -0.7686070827657662,
          "",
          -0.5806527065531961,
          -1.386863504826049,
          "",
          "",
          "",
          "",
          "",
          "",
          "",
          -0.7157828910483148,
          ""
         ],
         "yaxis": "y2"
        }
       ],
       "layout": {
        "hovermode": "x",
        "legend": {
         "bgcolor": "#F5F6F9",
         "font": {
          "color": "#4D5663"
         }
        },
        "paper_bgcolor": "#F5F6F9",
        "plot_bgcolor": "#F5F6F9",
        "template": {
         "data": {
          "bar": [
           {
            "error_x": {
             "color": "#2a3f5f"
            },
            "error_y": {
             "color": "#2a3f5f"
            },
            "marker": {
             "line": {
              "color": "#E5ECF6",
              "width": 0.5
             }
            },
            "type": "bar"
           }
          ],
          "barpolar": [
           {
            "marker": {
             "line": {
              "color": "#E5ECF6",
              "width": 0.5
             }
            },
            "type": "barpolar"
           }
          ],
          "carpet": [
           {
            "aaxis": {
             "endlinecolor": "#2a3f5f",
             "gridcolor": "white",
             "linecolor": "white",
             "minorgridcolor": "white",
             "startlinecolor": "#2a3f5f"
            },
            "baxis": {
             "endlinecolor": "#2a3f5f",
             "gridcolor": "white",
             "linecolor": "white",
             "minorgridcolor": "white",
             "startlinecolor": "#2a3f5f"
            },
            "type": "carpet"
           }
          ],
          "choropleth": [
           {
            "colorbar": {
             "outlinewidth": 0,
             "ticks": ""
            },
            "type": "choropleth"
           }
          ],
          "contour": [
           {
            "colorbar": {
             "outlinewidth": 0,
             "ticks": ""
            },
            "colorscale": [
             [
              0,
              "#0d0887"
             ],
             [
              0.1111111111111111,
              "#46039f"
             ],
             [
              0.2222222222222222,
              "#7201a8"
             ],
             [
              0.3333333333333333,
              "#9c179e"
             ],
             [
              0.4444444444444444,
              "#bd3786"
             ],
             [
              0.5555555555555556,
              "#d8576b"
             ],
             [
              0.6666666666666666,
              "#ed7953"
             ],
             [
              0.7777777777777778,
              "#fb9f3a"
             ],
             [
              0.8888888888888888,
              "#fdca26"
             ],
             [
              1,
              "#f0f921"
             ]
            ],
            "type": "contour"
           }
          ],
          "contourcarpet": [
           {
            "colorbar": {
             "outlinewidth": 0,
             "ticks": ""
            },
            "type": "contourcarpet"
           }
          ],
          "heatmap": [
           {
            "colorbar": {
             "outlinewidth": 0,
             "ticks": ""
            },
            "colorscale": [
             [
              0,
              "#0d0887"
             ],
             [
              0.1111111111111111,
              "#46039f"
             ],
             [
              0.2222222222222222,
              "#7201a8"
             ],
             [
              0.3333333333333333,
              "#9c179e"
             ],
             [
              0.4444444444444444,
              "#bd3786"
             ],
             [
              0.5555555555555556,
              "#d8576b"
             ],
             [
              0.6666666666666666,
              "#ed7953"
             ],
             [
              0.7777777777777778,
              "#fb9f3a"
             ],
             [
              0.8888888888888888,
              "#fdca26"
             ],
             [
              1,
              "#f0f921"
             ]
            ],
            "type": "heatmap"
           }
          ],
          "heatmapgl": [
           {
            "colorbar": {
             "outlinewidth": 0,
             "ticks": ""
            },
            "colorscale": [
             [
              0,
              "#0d0887"
             ],
             [
              0.1111111111111111,
              "#46039f"
             ],
             [
              0.2222222222222222,
              "#7201a8"
             ],
             [
              0.3333333333333333,
              "#9c179e"
             ],
             [
              0.4444444444444444,
              "#bd3786"
             ],
             [
              0.5555555555555556,
              "#d8576b"
             ],
             [
              0.6666666666666666,
              "#ed7953"
             ],
             [
              0.7777777777777778,
              "#fb9f3a"
             ],
             [
              0.8888888888888888,
              "#fdca26"
             ],
             [
              1,
              "#f0f921"
             ]
            ],
            "type": "heatmapgl"
           }
          ],
          "histogram": [
           {
            "marker": {
             "colorbar": {
              "outlinewidth": 0,
              "ticks": ""
             }
            },
            "type": "histogram"
           }
          ],
          "histogram2d": [
           {
            "colorbar": {
             "outlinewidth": 0,
             "ticks": ""
            },
            "colorscale": [
             [
              0,
              "#0d0887"
             ],
             [
              0.1111111111111111,
              "#46039f"
             ],
             [
              0.2222222222222222,
              "#7201a8"
             ],
             [
              0.3333333333333333,
              "#9c179e"
             ],
             [
              0.4444444444444444,
              "#bd3786"
             ],
             [
              0.5555555555555556,
              "#d8576b"
             ],
             [
              0.6666666666666666,
              "#ed7953"
             ],
             [
              0.7777777777777778,
              "#fb9f3a"
             ],
             [
              0.8888888888888888,
              "#fdca26"
             ],
             [
              1,
              "#f0f921"
             ]
            ],
            "type": "histogram2d"
           }
          ],
          "histogram2dcontour": [
           {
            "colorbar": {
             "outlinewidth": 0,
             "ticks": ""
            },
            "colorscale": [
             [
              0,
              "#0d0887"
             ],
             [
              0.1111111111111111,
              "#46039f"
             ],
             [
              0.2222222222222222,
              "#7201a8"
             ],
             [
              0.3333333333333333,
              "#9c179e"
             ],
             [
              0.4444444444444444,
              "#bd3786"
             ],
             [
              0.5555555555555556,
              "#d8576b"
             ],
             [
              0.6666666666666666,
              "#ed7953"
             ],
             [
              0.7777777777777778,
              "#fb9f3a"
             ],
             [
              0.8888888888888888,
              "#fdca26"
             ],
             [
              1,
              "#f0f921"
             ]
            ],
            "type": "histogram2dcontour"
           }
          ],
          "mesh3d": [
           {
            "colorbar": {
             "outlinewidth": 0,
             "ticks": ""
            },
            "type": "mesh3d"
           }
          ],
          "parcoords": [
           {
            "line": {
             "colorbar": {
              "outlinewidth": 0,
              "ticks": ""
             }
            },
            "type": "parcoords"
           }
          ],
          "pie": [
           {
            "automargin": true,
            "type": "pie"
           }
          ],
          "scatter": [
           {
            "marker": {
             "colorbar": {
              "outlinewidth": 0,
              "ticks": ""
             }
            },
            "type": "scatter"
           }
          ],
          "scatter3d": [
           {
            "line": {
             "colorbar": {
              "outlinewidth": 0,
              "ticks": ""
             }
            },
            "marker": {
             "colorbar": {
              "outlinewidth": 0,
              "ticks": ""
             }
            },
            "type": "scatter3d"
           }
          ],
          "scattercarpet": [
           {
            "marker": {
             "colorbar": {
              "outlinewidth": 0,
              "ticks": ""
             }
            },
            "type": "scattercarpet"
           }
          ],
          "scattergeo": [
           {
            "marker": {
             "colorbar": {
              "outlinewidth": 0,
              "ticks": ""
             }
            },
            "type": "scattergeo"
           }
          ],
          "scattergl": [
           {
            "marker": {
             "colorbar": {
              "outlinewidth": 0,
              "ticks": ""
             }
            },
            "type": "scattergl"
           }
          ],
          "scattermapbox": [
           {
            "marker": {
             "colorbar": {
              "outlinewidth": 0,
              "ticks": ""
             }
            },
            "type": "scattermapbox"
           }
          ],
          "scatterpolar": [
           {
            "marker": {
             "colorbar": {
              "outlinewidth": 0,
              "ticks": ""
             }
            },
            "type": "scatterpolar"
           }
          ],
          "scatterpolargl": [
           {
            "marker": {
             "colorbar": {
              "outlinewidth": 0,
              "ticks": ""
             }
            },
            "type": "scatterpolargl"
           }
          ],
          "scatterternary": [
           {
            "marker": {
             "colorbar": {
              "outlinewidth": 0,
              "ticks": ""
             }
            },
            "type": "scatterternary"
           }
          ],
          "surface": [
           {
            "colorbar": {
             "outlinewidth": 0,
             "ticks": ""
            },
            "colorscale": [
             [
              0,
              "#0d0887"
             ],
             [
              0.1111111111111111,
              "#46039f"
             ],
             [
              0.2222222222222222,
              "#7201a8"
             ],
             [
              0.3333333333333333,
              "#9c179e"
             ],
             [
              0.4444444444444444,
              "#bd3786"
             ],
             [
              0.5555555555555556,
              "#d8576b"
             ],
             [
              0.6666666666666666,
              "#ed7953"
             ],
             [
              0.7777777777777778,
              "#fb9f3a"
             ],
             [
              0.8888888888888888,
              "#fdca26"
             ],
             [
              1,
              "#f0f921"
             ]
            ],
            "type": "surface"
           }
          ],
          "table": [
           {
            "cells": {
             "fill": {
              "color": "#EBF0F8"
             },
             "line": {
              "color": "white"
             }
            },
            "header": {
             "fill": {
              "color": "#C8D4E3"
             },
             "line": {
              "color": "white"
             }
            },
            "type": "table"
           }
          ]
         },
         "layout": {
          "annotationdefaults": {
           "arrowcolor": "#2a3f5f",
           "arrowhead": 0,
           "arrowwidth": 1
          },
          "coloraxis": {
           "colorbar": {
            "outlinewidth": 0,
            "ticks": ""
           }
          },
          "colorscale": {
           "diverging": [
            [
             0,
             "#8e0152"
            ],
            [
             0.1,
             "#c51b7d"
            ],
            [
             0.2,
             "#de77ae"
            ],
            [
             0.3,
             "#f1b6da"
            ],
            [
             0.4,
             "#fde0ef"
            ],
            [
             0.5,
             "#f7f7f7"
            ],
            [
             0.6,
             "#e6f5d0"
            ],
            [
             0.7,
             "#b8e186"
            ],
            [
             0.8,
             "#7fbc41"
            ],
            [
             0.9,
             "#4d9221"
            ],
            [
             1,
             "#276419"
            ]
           ],
           "sequential": [
            [
             0,
             "#0d0887"
            ],
            [
             0.1111111111111111,
             "#46039f"
            ],
            [
             0.2222222222222222,
             "#7201a8"
            ],
            [
             0.3333333333333333,
             "#9c179e"
            ],
            [
             0.4444444444444444,
             "#bd3786"
            ],
            [
             0.5555555555555556,
             "#d8576b"
            ],
            [
             0.6666666666666666,
             "#ed7953"
            ],
            [
             0.7777777777777778,
             "#fb9f3a"
            ],
            [
             0.8888888888888888,
             "#fdca26"
            ],
            [
             1,
             "#f0f921"
            ]
           ],
           "sequentialminus": [
            [
             0,
             "#0d0887"
            ],
            [
             0.1111111111111111,
             "#46039f"
            ],
            [
             0.2222222222222222,
             "#7201a8"
            ],
            [
             0.3333333333333333,
             "#9c179e"
            ],
            [
             0.4444444444444444,
             "#bd3786"
            ],
            [
             0.5555555555555556,
             "#d8576b"
            ],
            [
             0.6666666666666666,
             "#ed7953"
            ],
            [
             0.7777777777777778,
             "#fb9f3a"
            ],
            [
             0.8888888888888888,
             "#fdca26"
            ],
            [
             1,
             "#f0f921"
            ]
           ]
          },
          "colorway": [
           "#636efa",
           "#EF553B",
           "#00cc96",
           "#ab63fa",
           "#FFA15A",
           "#19d3f3",
           "#FF6692",
           "#B6E880",
           "#FF97FF",
           "#FECB52"
          ],
          "font": {
           "color": "#2a3f5f"
          },
          "geo": {
           "bgcolor": "white",
           "lakecolor": "white",
           "landcolor": "#E5ECF6",
           "showlakes": true,
           "showland": true,
           "subunitcolor": "white"
          },
          "hoverlabel": {
           "align": "left"
          },
          "hovermode": "closest",
          "mapbox": {
           "style": "light"
          },
          "paper_bgcolor": "white",
          "plot_bgcolor": "#E5ECF6",
          "polar": {
           "angularaxis": {
            "gridcolor": "white",
            "linecolor": "white",
            "ticks": ""
           },
           "bgcolor": "#E5ECF6",
           "radialaxis": {
            "gridcolor": "white",
            "linecolor": "white",
            "ticks": ""
           }
          },
          "scene": {
           "xaxis": {
            "backgroundcolor": "#E5ECF6",
            "gridcolor": "white",
            "gridwidth": 2,
            "linecolor": "white",
            "showbackground": true,
            "ticks": "",
            "zerolinecolor": "white"
           },
           "yaxis": {
            "backgroundcolor": "#E5ECF6",
            "gridcolor": "white",
            "gridwidth": 2,
            "linecolor": "white",
            "showbackground": true,
            "ticks": "",
            "zerolinecolor": "white"
           },
           "zaxis": {
            "backgroundcolor": "#E5ECF6",
            "gridcolor": "white",
            "gridwidth": 2,
            "linecolor": "white",
            "showbackground": true,
            "ticks": "",
            "zerolinecolor": "white"
           }
          },
          "shapedefaults": {
           "line": {
            "color": "#2a3f5f"
           }
          },
          "ternary": {
           "aaxis": {
            "gridcolor": "white",
            "linecolor": "white",
            "ticks": ""
           },
           "baxis": {
            "gridcolor": "white",
            "linecolor": "white",
            "ticks": ""
           },
           "bgcolor": "#E5ECF6",
           "caxis": {
            "gridcolor": "white",
            "linecolor": "white",
            "ticks": ""
           }
          },
          "title": {
           "x": 0.05
          },
          "xaxis": {
           "automargin": true,
           "gridcolor": "white",
           "linecolor": "white",
           "ticks": "",
           "title": {
            "standoff": 15
           },
           "zerolinecolor": "white",
           "zerolinewidth": 2
          },
          "yaxis": {
           "automargin": true,
           "gridcolor": "white",
           "linecolor": "white",
           "ticks": "",
           "title": {
            "standoff": 15
           },
           "zerolinecolor": "white",
           "zerolinewidth": 2
          }
         }
        },
        "title": {
         "font": {
          "color": "#4D5663"
         }
        },
        "xaxis": {
         "gridcolor": "#E1E5ED",
         "showgrid": true,
         "tickfont": {
          "color": "#4D5663"
         },
         "title": {
          "font": {
           "color": "#4D5663"
          },
          "text": ""
         },
         "zerolinecolor": "#E1E5ED"
        },
        "xaxis2": {
         "anchor": "y2",
         "gridcolor": "#E1E5ED",
         "showgrid": true,
         "showticklabels": false,
         "tickfont": {
          "color": "#4D5663"
         },
         "title": {
          "font": {
           "color": "#4D5663"
          },
          "text": ""
         },
         "zerolinecolor": "#E1E5ED"
        },
        "yaxis": {
         "domain": [
          0.3,
          1
         ],
         "gridcolor": "#E1E5ED",
         "showgrid": true,
         "tickfont": {
          "color": "#4D5663"
         },
         "title": {
          "font": {
           "color": "#4D5663"
          },
          "text": ""
         },
         "zerolinecolor": "#E1E5ED"
        },
        "yaxis2": {
         "domain": [
          0,
          0.25
         ],
         "gridcolor": "#E1E5ED",
         "showgrid": true,
         "tickfont": {
          "color": "#4D5663"
         },
         "title": {
          "font": {
           "color": "#4D5663"
          },
          "text": "Spread"
         },
         "zerolinecolor": "#E1E5ED"
        }
       }
      },
      "text/html": [
       "<div>\n",
       "        \n",
       "        \n",
       "            <div id=\"8ff3c5a5-9971-4e46-99ea-659708d09f7d\" class=\"plotly-graph-div\" style=\"height:525px; width:100%;\"></div>\n",
       "            <script type=\"text/javascript\">\n",
       "                require([\"plotly\"], function(Plotly) {\n",
       "                    window.PLOTLYENV=window.PLOTLYENV || {};\n",
       "                    window.PLOTLYENV.BASE_URL='https://plot.ly';\n",
       "                    \n",
       "                if (document.getElementById(\"8ff3c5a5-9971-4e46-99ea-659708d09f7d\")) {\n",
       "                    Plotly.newPlot(\n",
       "                        '8ff3c5a5-9971-4e46-99ea-659708d09f7d',\n",
       "                        [{\"line\": {\"color\": \"rgba(255, 153, 51, 1.0)\", \"dash\": \"solid\", \"shape\": \"linear\", \"width\": 1.3}, \"mode\": \"lines\", \"name\": \"A\", \"text\": \"\", \"type\": \"scatter\", \"x\": [0, 1, 2, 3, 4, 5, 6, 7, 8, 9, 10, 11, 12, 13, 14, 15, 16, 17, 18, 19, 20, 21, 22, 23, 24, 25, 26, 27, 28, 29, 30, 31, 32, 33, 34, 35, 36, 37, 38, 39, 40, 41, 42, 43, 44, 45, 46, 47, 48, 49, 50, 51, 52, 53, 54, 55, 56, 57, 58, 59, 60, 61, 62, 63, 64, 65, 66, 67, 68, 69, 70, 71, 72, 73, 74, 75, 76, 77, 78, 79, 80, 81, 82, 83, 84, 85, 86, 87, 88, 89, 90, 91, 92, 93, 94, 95, 96, 97, 98, 99], \"y\": [-1.7328184700099154, -0.6655392531642427, -0.5141887381353419, -0.5307819801565642, -1.118698345400647, -0.015307381413286457, -1.4557398829714918, 0.8591588400819069, -0.26492340869200365, 0.4967984376875904, 0.04182940727328566, -1.7386011275388331, 0.6969431444672501, -0.052871581583919115, -1.6601792523085324, 0.05748666839097407, 0.1837621355327402, 1.4962874424816663, -0.6205832412165161, 0.1520623253012091, -0.0038386316317565086, 0.5512624161773946, 0.2036636174075826, -1.52475862710216, 0.9236883896430348, 2.046445624318661, -1.6928966996502095, -0.49450683165912346, -0.32097571153166865, 0.18429648757950035, 0.9590315555760798, 0.24518063014786312, 1.1035536863820947, -0.4262789193890452, 0.38796398237909235, 0.06095890635811224, -0.12080953360031857, 0.720045065572963, 1.1384712663936534, 0.91631532775539, -1.3971319160459976, 0.15533512015255674, -0.24322476528350576, -1.876186615785088, 1.3283670094396747, 1.4762463769813379, -0.0720559521924466, 0.7329609025539923, -0.6413826991069103, 0.12982126874312913, 1.518939354007646, -1.1545144296807108, 0.1470207356938776, -0.6908031760314431, -0.055941386298454326, 1.3156460053880759, 0.619892489089758, 0.6088290563295004, -0.5374672551116969, -0.6880550583755078, 0.7168531852731158, 0.007647487232779944, 2.211320735120686, 0.6438165866259979, -1.0666772238124416, 1.1185433129275277, -1.7299998201445086, -0.25975599587783443, 0.4226172574698807, 0.3941769709373833, 0.5160961375330596, 1.81819966745681, 0.7991786252320352, 1.046987568805078, -1.128395723062902, 1.7936925593507211, -0.5149323886783681, -0.9802210244604053, 0.2019466283016788, 0.5362430245906857, -1.8460225900728473, 1.1210128548791507, 0.4428581166140847, -0.3971102158075737, 1.0099720456684251, 0.04323912485309805, 0.16186786619863405, -0.8532924235905249, 0.5683047812022923, -0.7182340782336945, -0.33714320289360633, 1.6558347652323795, 0.4051329252254166, 0.7723889649324748, 0.9858257378129331, 0.3393662311036916, 1.251335110862688, -0.8894527872587709, 0.022788498965433734, 0.1529745603304253]}, {\"line\": {\"color\": \"rgba(55, 128, 191, 1.0)\", \"dash\": \"solid\", \"shape\": \"linear\", \"width\": 1.3}, \"mode\": \"lines\", \"name\": \"B\", \"text\": \"\", \"type\": \"scatter\", \"x\": [0, 1, 2, 3, 4, 5, 6, 7, 8, 9, 10, 11, 12, 13, 14, 15, 16, 17, 18, 19, 20, 21, 22, 23, 24, 25, 26, 27, 28, 29, 30, 31, 32, 33, 34, 35, 36, 37, 38, 39, 40, 41, 42, 43, 44, 45, 46, 47, 48, 49, 50, 51, 52, 53, 54, 55, 56, 57, 58, 59, 60, 61, 62, 63, 64, 65, 66, 67, 68, 69, 70, 71, 72, 73, 74, 75, 76, 77, 78, 79, 80, 81, 82, 83, 84, 85, 86, 87, 88, 89, 90, 91, 92, 93, 94, 95, 96, 97, 98, 99], \"y\": [-0.5737945545380813, 1.10681733267001, -0.8642735138565506, 0.5403727191652674, 1.3446585111575515, 0.9707770371986021, -0.4758158228346009, -1.7206476733987262, -0.5213925667074699, -1.3160304741085156, 1.7139340392948705, -1.081772196858882, 0.6852193539140005, 0.2357121945272125, -0.21621060736553435, -1.16561783610473, -0.7160992151206331, -0.7963619994131266, -5.734197369323232e-05, 0.4121475843934423, -0.5346345063636659, 0.9800828890027675, -0.17355190502161186, 0.50663665254452, -0.9743640840943804, 2.4442193260237777, -1.5127481904255589, -0.4463273169784612, 0.2863886544997744, -2.6366488568868967, 0.3399990001282703, -0.4238775381884636, 0.09553159887378632, 0.030443516590440534, -0.117465978296997, 0.5680994389852261, 0.8986361709059272, 0.05807554994885092, -0.573788376859282, 0.07770170114819182, -0.1532975170574101, -1.7259334090059024, 1.9288714395457591, -0.5540020564911894, 0.7437781696058638, 0.09207992430893966, -0.09103602463885366, 0.4550902656062467, -1.049078831656769, 0.39971184330269044, 1.8580764136015517, 1.530549476657037, -1.550731195712601, -1.7384459910819856, -0.9078249514952067, -0.5390811901792363, 2.0245770702001114, 0.060145825037109524, 0.19512977367730458, -0.906664515766312, -0.4579375421367402, 1.5950732986077922, -0.06095303450437194, -0.7050404940898929, -0.7948447032770758, -0.5673176973672968, -1.2621608935191002, -0.6700539341340684, 0.5446324881912484, -0.872920736801528, -0.917874519634289, -1.4537221534915523, 0.16881163940843347, 0.20088757260669715, 0.18290911610110255, -1.476238336965387, -0.5561300294068415, -0.36454287791069184, -0.06220468912964303, -0.9794835695449904, 1.9058757707845015, 0.09730984282951217, 0.974860478095882, -0.13908650831671687, 0.7492916762415887, -0.5509520407165336, -0.6638932817154232, -0.08468534082475872, 0.032786764332160115, -0.13758137168049833, 1.0497203019324426, 0.5940635515384379, -0.3397995017727589, 0.2857793266688294, 0.8331357511706957, 0.24054536988523556, -0.6609910622382077, -1.015298446375443, 0.7385713900137486, -0.43492175701388197]}, {\"connectgaps\": false, \"fill\": \"tozeroy\", \"line\": {\"color\": \"green\", \"dash\": \"solid\", \"shape\": \"linear\", \"width\": 0.5}, \"mode\": \"lines\", \"name\": \"Spread\", \"showlegend\": false, \"type\": \"scatter\", \"x\": [0, 1, 2, 3, 4, 5, 6, 7, 8, 9, 10, 11, 12, 13, 14, 15, 16, 17, 18, 19, 20, 21, 22, 23, 24, 25, 26, 27, 28, 29, 30, 31, 32, 33, 34, 35, 36, 37, 38, 39, 40, 41, 42, 43, 44, 45, 46, 47, 48, 49, 50, 51, 52, 53, 54, 55, 56, 57, 58, 59, 60, 61, 62, 63, 64, 65, 66, 67, 68, 69, 70, 71, 72, 73, 74, 75, 76, 77, 78, 79, 80, 81, 82, 83, 84, 85, 86, 87, 88, 89, 90, 91, 92, 93, 94, 95, 96, 97, 98, 99], \"xaxis\": \"x2\", \"y\": [\"\", \"\", 0.35008477572120866, \"\", \"\", \"\", \"\", 2.579806513480633, 0.25646915801546627, 1.812828911796106, \"\", \"\", 0.01172379055324968, \"\", \"\", 1.223104504495704, 0.8998613506533734, 2.2926494418947927, \"\", \"\", 0.5307958747319095, \"\", 0.3772155224291944, \"\", 1.8980524737374151, \"\", \"\", \"\", \"\", 2.8209453444663968, 0.6190325554478096, 0.6690581683363267, 1.0080220875083084, \"\", 0.5054299606760894, \"\", \"\", 0.6619695156241121, 1.7122596432529353, 0.8386136266071982, \"\", 1.8812685291584592, \"\", \"\", 0.5845888398338108, 1.3841664526723982, 0.01898007244640705, 0.27787063694774555, 0.4076961325498587, \"\", \"\", \"\", 1.6977519314064786, 1.0476428150505424, 0.8518835651967523, 1.8547271955673121, \"\", 0.5486832312923908, \"\", 0.21860945739080417, 1.1747907274098561, \"\", 2.2722737696250577, 1.3488570807158908, \"\", 1.6858610102948246, \"\", 0.410297938256234, \"\", 1.2670977077389114, 1.4339706571673485, 3.2719218209483625, 0.6303669858236017, 0.8460999961983808, \"\", 3.269930896316108, 0.04119764072847343, \"\", 0.26415131743132186, 1.5157265941356761, \"\", 1.0237030120496384, \"\", \"\", 0.2606803694268365, 0.5941911655696316, 0.8257611479140572, \"\", 0.5355180168701322, \"\", \"\", 1.0617712136939415, 0.7449324269981755, 0.4866096382636454, 0.15268998664223743, 0.09882086121845601, 1.9123261731008956, 0.12584565911667223, \"\", 0.5878963173443073], \"yaxis\": \"y2\"}, {\"connectgaps\": false, \"fill\": \"tozeroy\", \"line\": {\"color\": \"red\", \"dash\": \"solid\", \"shape\": \"linear\", \"width\": 0.5}, \"mode\": \"lines\", \"name\": \"Spread\", \"showlegend\": false, \"type\": \"scatter\", \"x\": [0, 1, 2, 3, 4, 5, 6, 7, 8, 9, 10, 11, 12, 13, 14, 15, 16, 17, 18, 19, 20, 21, 22, 23, 24, 25, 26, 27, 28, 29, 30, 31, 32, 33, 34, 35, 36, 37, 38, 39, 40, 41, 42, 43, 44, 45, 46, 47, 48, 49, 50, 51, 52, 53, 54, 55, 56, 57, 58, 59, 60, 61, 62, 63, 64, 65, 66, 67, 68, 69, 70, 71, 72, 73, 74, 75, 76, 77, 78, 79, 80, 81, 82, 83, 84, 85, 86, 87, 88, 89, 90, 91, 92, 93, 94, 95, 96, 97, 98, 99], \"xaxis\": \"x2\", \"y\": [-1.1590239154718343, -1.7723565858342525, \"\", -1.0711546993218315, -2.4633568565581987, -0.9860844186118886, -0.9799240601368909, \"\", \"\", \"\", -1.6721046320215849, -0.6568289306799511, \"\", -0.2885837761111316, -1.443968644942998, \"\", \"\", \"\", -0.6205258992428229, -0.2600852590922332, \"\", -0.42882047282537294, \"\", -2.03139527964668, \"\", -0.3977737017051166, -0.18014850922465064, -0.04817951468066228, -0.6073643660314431, \"\", \"\", \"\", \"\", -0.45672243597948575, \"\", -0.5071405326271139, -1.0194457045062457, \"\", \"\", \"\", -1.2438343989885876, \"\", -2.172096204829265, -1.3221845592938986, \"\", \"\", \"\", \"\", \"\", -0.26989057455956134, -0.33913705959390583, -2.6850639063377475, \"\", \"\", \"\", \"\", -1.4046845811103532, \"\", -0.7325970287890015, \"\", \"\", -1.5874258113750124, \"\", \"\", -0.2718325205353658, \"\", -0.4678389266254084, \"\", -0.12201523072136772, \"\", \"\", \"\", \"\", \"\", -1.3113048391640045, \"\", \"\", -0.6156781465497134, \"\", \"\", -3.751898360857349, \"\", -0.5320023614817974, -0.25802370749085685, \"\", \"\", \"\", -0.7686070827657662, \"\", -0.5806527065531961, -1.386863504826049, \"\", \"\", \"\", \"\", \"\", \"\", \"\", -0.7157828910483148, \"\"], \"yaxis\": \"y2\"}],\n",
       "                        {\"hovermode\": \"x\", \"legend\": {\"bgcolor\": \"#F5F6F9\", \"font\": {\"color\": \"#4D5663\"}}, \"paper_bgcolor\": \"#F5F6F9\", \"plot_bgcolor\": \"#F5F6F9\", \"template\": {\"data\": {\"bar\": [{\"error_x\": {\"color\": \"#2a3f5f\"}, \"error_y\": {\"color\": \"#2a3f5f\"}, \"marker\": {\"line\": {\"color\": \"#E5ECF6\", \"width\": 0.5}}, \"type\": \"bar\"}], \"barpolar\": [{\"marker\": {\"line\": {\"color\": \"#E5ECF6\", \"width\": 0.5}}, \"type\": \"barpolar\"}], \"carpet\": [{\"aaxis\": {\"endlinecolor\": \"#2a3f5f\", \"gridcolor\": \"white\", \"linecolor\": \"white\", \"minorgridcolor\": \"white\", \"startlinecolor\": \"#2a3f5f\"}, \"baxis\": {\"endlinecolor\": \"#2a3f5f\", \"gridcolor\": \"white\", \"linecolor\": \"white\", \"minorgridcolor\": \"white\", \"startlinecolor\": \"#2a3f5f\"}, \"type\": \"carpet\"}], \"choropleth\": [{\"colorbar\": {\"outlinewidth\": 0, \"ticks\": \"\"}, \"type\": \"choropleth\"}], \"contour\": [{\"colorbar\": {\"outlinewidth\": 0, \"ticks\": \"\"}, \"colorscale\": [[0.0, \"#0d0887\"], [0.1111111111111111, \"#46039f\"], [0.2222222222222222, \"#7201a8\"], [0.3333333333333333, \"#9c179e\"], [0.4444444444444444, \"#bd3786\"], [0.5555555555555556, \"#d8576b\"], [0.6666666666666666, \"#ed7953\"], [0.7777777777777778, \"#fb9f3a\"], [0.8888888888888888, \"#fdca26\"], [1.0, \"#f0f921\"]], \"type\": \"contour\"}], \"contourcarpet\": [{\"colorbar\": {\"outlinewidth\": 0, \"ticks\": \"\"}, \"type\": \"contourcarpet\"}], \"heatmap\": [{\"colorbar\": {\"outlinewidth\": 0, \"ticks\": \"\"}, \"colorscale\": [[0.0, \"#0d0887\"], [0.1111111111111111, \"#46039f\"], [0.2222222222222222, \"#7201a8\"], [0.3333333333333333, \"#9c179e\"], [0.4444444444444444, \"#bd3786\"], [0.5555555555555556, \"#d8576b\"], [0.6666666666666666, \"#ed7953\"], [0.7777777777777778, \"#fb9f3a\"], [0.8888888888888888, \"#fdca26\"], [1.0, \"#f0f921\"]], \"type\": \"heatmap\"}], \"heatmapgl\": [{\"colorbar\": {\"outlinewidth\": 0, \"ticks\": \"\"}, \"colorscale\": [[0.0, \"#0d0887\"], [0.1111111111111111, \"#46039f\"], [0.2222222222222222, \"#7201a8\"], [0.3333333333333333, \"#9c179e\"], [0.4444444444444444, \"#bd3786\"], [0.5555555555555556, \"#d8576b\"], [0.6666666666666666, \"#ed7953\"], [0.7777777777777778, \"#fb9f3a\"], [0.8888888888888888, \"#fdca26\"], [1.0, \"#f0f921\"]], \"type\": \"heatmapgl\"}], \"histogram\": [{\"marker\": {\"colorbar\": {\"outlinewidth\": 0, \"ticks\": \"\"}}, \"type\": \"histogram\"}], \"histogram2d\": [{\"colorbar\": {\"outlinewidth\": 0, \"ticks\": \"\"}, \"colorscale\": [[0.0, \"#0d0887\"], [0.1111111111111111, \"#46039f\"], [0.2222222222222222, \"#7201a8\"], [0.3333333333333333, \"#9c179e\"], [0.4444444444444444, \"#bd3786\"], [0.5555555555555556, \"#d8576b\"], [0.6666666666666666, \"#ed7953\"], [0.7777777777777778, \"#fb9f3a\"], [0.8888888888888888, \"#fdca26\"], [1.0, \"#f0f921\"]], \"type\": \"histogram2d\"}], \"histogram2dcontour\": [{\"colorbar\": {\"outlinewidth\": 0, \"ticks\": \"\"}, \"colorscale\": [[0.0, \"#0d0887\"], [0.1111111111111111, \"#46039f\"], [0.2222222222222222, \"#7201a8\"], [0.3333333333333333, \"#9c179e\"], [0.4444444444444444, \"#bd3786\"], [0.5555555555555556, \"#d8576b\"], [0.6666666666666666, \"#ed7953\"], [0.7777777777777778, \"#fb9f3a\"], [0.8888888888888888, \"#fdca26\"], [1.0, \"#f0f921\"]], \"type\": \"histogram2dcontour\"}], \"mesh3d\": [{\"colorbar\": {\"outlinewidth\": 0, \"ticks\": \"\"}, \"type\": \"mesh3d\"}], \"parcoords\": [{\"line\": {\"colorbar\": {\"outlinewidth\": 0, \"ticks\": \"\"}}, \"type\": \"parcoords\"}], \"pie\": [{\"automargin\": true, \"type\": \"pie\"}], \"scatter\": [{\"marker\": {\"colorbar\": {\"outlinewidth\": 0, \"ticks\": \"\"}}, \"type\": \"scatter\"}], \"scatter3d\": [{\"line\": {\"colorbar\": {\"outlinewidth\": 0, \"ticks\": \"\"}}, \"marker\": {\"colorbar\": {\"outlinewidth\": 0, \"ticks\": \"\"}}, \"type\": \"scatter3d\"}], \"scattercarpet\": [{\"marker\": {\"colorbar\": {\"outlinewidth\": 0, \"ticks\": \"\"}}, \"type\": \"scattercarpet\"}], \"scattergeo\": [{\"marker\": {\"colorbar\": {\"outlinewidth\": 0, \"ticks\": \"\"}}, \"type\": \"scattergeo\"}], \"scattergl\": [{\"marker\": {\"colorbar\": {\"outlinewidth\": 0, \"ticks\": \"\"}}, \"type\": \"scattergl\"}], \"scattermapbox\": [{\"marker\": {\"colorbar\": {\"outlinewidth\": 0, \"ticks\": \"\"}}, \"type\": \"scattermapbox\"}], \"scatterpolar\": [{\"marker\": {\"colorbar\": {\"outlinewidth\": 0, \"ticks\": \"\"}}, \"type\": \"scatterpolar\"}], \"scatterpolargl\": [{\"marker\": {\"colorbar\": {\"outlinewidth\": 0, \"ticks\": \"\"}}, \"type\": \"scatterpolargl\"}], \"scatterternary\": [{\"marker\": {\"colorbar\": {\"outlinewidth\": 0, \"ticks\": \"\"}}, \"type\": \"scatterternary\"}], \"surface\": [{\"colorbar\": {\"outlinewidth\": 0, \"ticks\": \"\"}, \"colorscale\": [[0.0, \"#0d0887\"], [0.1111111111111111, \"#46039f\"], [0.2222222222222222, \"#7201a8\"], [0.3333333333333333, \"#9c179e\"], [0.4444444444444444, \"#bd3786\"], [0.5555555555555556, \"#d8576b\"], [0.6666666666666666, \"#ed7953\"], [0.7777777777777778, \"#fb9f3a\"], [0.8888888888888888, \"#fdca26\"], [1.0, \"#f0f921\"]], \"type\": \"surface\"}], \"table\": [{\"cells\": {\"fill\": {\"color\": \"#EBF0F8\"}, \"line\": {\"color\": \"white\"}}, \"header\": {\"fill\": {\"color\": \"#C8D4E3\"}, \"line\": {\"color\": \"white\"}}, \"type\": \"table\"}]}, \"layout\": {\"annotationdefaults\": {\"arrowcolor\": \"#2a3f5f\", \"arrowhead\": 0, \"arrowwidth\": 1}, \"coloraxis\": {\"colorbar\": {\"outlinewidth\": 0, \"ticks\": \"\"}}, \"colorscale\": {\"diverging\": [[0, \"#8e0152\"], [0.1, \"#c51b7d\"], [0.2, \"#de77ae\"], [0.3, \"#f1b6da\"], [0.4, \"#fde0ef\"], [0.5, \"#f7f7f7\"], [0.6, \"#e6f5d0\"], [0.7, \"#b8e186\"], [0.8, \"#7fbc41\"], [0.9, \"#4d9221\"], [1, \"#276419\"]], \"sequential\": [[0.0, \"#0d0887\"], [0.1111111111111111, \"#46039f\"], [0.2222222222222222, \"#7201a8\"], [0.3333333333333333, \"#9c179e\"], [0.4444444444444444, \"#bd3786\"], [0.5555555555555556, \"#d8576b\"], [0.6666666666666666, \"#ed7953\"], [0.7777777777777778, \"#fb9f3a\"], [0.8888888888888888, \"#fdca26\"], [1.0, \"#f0f921\"]], \"sequentialminus\": [[0.0, \"#0d0887\"], [0.1111111111111111, \"#46039f\"], [0.2222222222222222, \"#7201a8\"], [0.3333333333333333, \"#9c179e\"], [0.4444444444444444, \"#bd3786\"], [0.5555555555555556, \"#d8576b\"], [0.6666666666666666, \"#ed7953\"], [0.7777777777777778, \"#fb9f3a\"], [0.8888888888888888, \"#fdca26\"], [1.0, \"#f0f921\"]]}, \"colorway\": [\"#636efa\", \"#EF553B\", \"#00cc96\", \"#ab63fa\", \"#FFA15A\", \"#19d3f3\", \"#FF6692\", \"#B6E880\", \"#FF97FF\", \"#FECB52\"], \"font\": {\"color\": \"#2a3f5f\"}, \"geo\": {\"bgcolor\": \"white\", \"lakecolor\": \"white\", \"landcolor\": \"#E5ECF6\", \"showlakes\": true, \"showland\": true, \"subunitcolor\": \"white\"}, \"hoverlabel\": {\"align\": \"left\"}, \"hovermode\": \"closest\", \"mapbox\": {\"style\": \"light\"}, \"paper_bgcolor\": \"white\", \"plot_bgcolor\": \"#E5ECF6\", \"polar\": {\"angularaxis\": {\"gridcolor\": \"white\", \"linecolor\": \"white\", \"ticks\": \"\"}, \"bgcolor\": \"#E5ECF6\", \"radialaxis\": {\"gridcolor\": \"white\", \"linecolor\": \"white\", \"ticks\": \"\"}}, \"scene\": {\"xaxis\": {\"backgroundcolor\": \"#E5ECF6\", \"gridcolor\": \"white\", \"gridwidth\": 2, \"linecolor\": \"white\", \"showbackground\": true, \"ticks\": \"\", \"zerolinecolor\": \"white\"}, \"yaxis\": {\"backgroundcolor\": \"#E5ECF6\", \"gridcolor\": \"white\", \"gridwidth\": 2, \"linecolor\": \"white\", \"showbackground\": true, \"ticks\": \"\", \"zerolinecolor\": \"white\"}, \"zaxis\": {\"backgroundcolor\": \"#E5ECF6\", \"gridcolor\": \"white\", \"gridwidth\": 2, \"linecolor\": \"white\", \"showbackground\": true, \"ticks\": \"\", \"zerolinecolor\": \"white\"}}, \"shapedefaults\": {\"line\": {\"color\": \"#2a3f5f\"}}, \"ternary\": {\"aaxis\": {\"gridcolor\": \"white\", \"linecolor\": \"white\", \"ticks\": \"\"}, \"baxis\": {\"gridcolor\": \"white\", \"linecolor\": \"white\", \"ticks\": \"\"}, \"bgcolor\": \"#E5ECF6\", \"caxis\": {\"gridcolor\": \"white\", \"linecolor\": \"white\", \"ticks\": \"\"}}, \"title\": {\"x\": 0.05}, \"xaxis\": {\"automargin\": true, \"gridcolor\": \"white\", \"linecolor\": \"white\", \"ticks\": \"\", \"title\": {\"standoff\": 15}, \"zerolinecolor\": \"white\", \"zerolinewidth\": 2}, \"yaxis\": {\"automargin\": true, \"gridcolor\": \"white\", \"linecolor\": \"white\", \"ticks\": \"\", \"title\": {\"standoff\": 15}, \"zerolinecolor\": \"white\", \"zerolinewidth\": 2}}}, \"title\": {\"font\": {\"color\": \"#4D5663\"}}, \"xaxis\": {\"gridcolor\": \"#E1E5ED\", \"showgrid\": true, \"tickfont\": {\"color\": \"#4D5663\"}, \"title\": {\"font\": {\"color\": \"#4D5663\"}, \"text\": \"\"}, \"zerolinecolor\": \"#E1E5ED\"}, \"xaxis2\": {\"anchor\": \"y2\", \"gridcolor\": \"#E1E5ED\", \"showgrid\": true, \"showticklabels\": false, \"tickfont\": {\"color\": \"#4D5663\"}, \"title\": {\"font\": {\"color\": \"#4D5663\"}, \"text\": \"\"}, \"zerolinecolor\": \"#E1E5ED\"}, \"yaxis\": {\"domain\": [0.3, 1], \"gridcolor\": \"#E1E5ED\", \"showgrid\": true, \"tickfont\": {\"color\": \"#4D5663\"}, \"title\": {\"font\": {\"color\": \"#4D5663\"}, \"text\": \"\"}, \"zerolinecolor\": \"#E1E5ED\"}, \"yaxis2\": {\"domain\": [0, 0.25], \"gridcolor\": \"#E1E5ED\", \"showgrid\": true, \"tickfont\": {\"color\": \"#4D5663\"}, \"title\": {\"font\": {\"color\": \"#4D5663\"}, \"text\": \"Spread\"}, \"zerolinecolor\": \"#E1E5ED\"}},\n",
       "                        {\"showLink\": true, \"linkText\": \"Export to plot.ly\", \"plotlyServerURL\": \"https://plot.ly\", \"responsive\": true}\n",
       "                    ).then(function(){\n",
       "                            \n",
       "var gd = document.getElementById('8ff3c5a5-9971-4e46-99ea-659708d09f7d');\n",
       "var x = new MutationObserver(function (mutations, observer) {{\n",
       "        var display = window.getComputedStyle(gd).display;\n",
       "        if (!display || display === 'none') {{\n",
       "            console.log([gd, 'removed!']);\n",
       "            Plotly.purge(gd);\n",
       "            observer.disconnect();\n",
       "        }}\n",
       "}});\n",
       "\n",
       "// Listen for the removal of the full notebook cells\n",
       "var notebookContainer = gd.closest('#notebook-container');\n",
       "if (notebookContainer) {{\n",
       "    x.observe(notebookContainer, {childList: true});\n",
       "}}\n",
       "\n",
       "// Listen for the clearing of the current output cell\n",
       "var outputEl = gd.closest('.output');\n",
       "if (outputEl) {{\n",
       "    x.observe(outputEl, {childList: true});\n",
       "}}\n",
       "\n",
       "                        })\n",
       "                };\n",
       "                });\n",
       "            </script>\n",
       "        </div>"
      ]
     },
     "metadata": {},
     "output_type": "display_data"
    }
   ],
   "source": [
    "df[['A','B']].iplot(kind='spread')"
   ]
  },
  {
   "cell_type": "code",
   "execution_count": 67,
   "metadata": {},
   "outputs": [
    {
     "data": {
      "application/vnd.plotly.v1+json": {
       "config": {
        "linkText": "Export to plot.ly",
        "plotlyServerURL": "https://plot.ly",
        "showLink": true
       },
       "data": [
        {
         "marker": {
          "color": [
           "rgb(127,201,127)",
           "rgb(190,174,212)",
           "rgb(253,192,134)",
           "rgb(255,255,153)",
           "rgb(56,108,176)",
           "rgb(240,2,127)",
           "rgb(191,91,23)",
           "rgb(102,102,102)"
          ],
          "line": {
           "width": 1.3
          },
          "size": [
           14,
           54,
           44,
           12,
           54,
           67,
           84,
           77,
           53,
           88,
           54,
           36,
           61,
           86,
           69,
           54,
           112,
           102,
           67,
           56,
           76,
           79,
           94,
           33,
           70,
           101,
           56,
           68,
           68,
           75,
           46,
           56,
           91,
           53,
           73,
           30,
           60,
           90,
           59,
           65,
           74,
           60,
           63,
           94,
           53,
           69,
           67,
           92,
           53,
           33,
           59,
           64,
           65,
           75,
           24,
           63,
           31,
           29,
           38,
           53,
           89,
           97,
           36,
           54,
           38,
           28,
           77,
           43,
           37,
           49,
           107,
           60,
           84,
           70,
           99,
           69,
           49,
           38,
           43,
           76,
           40,
           84,
           73,
           95,
           95,
           30,
           60,
           18,
           73,
           61,
           65,
           81,
           63,
           38,
           63,
           45,
           79,
           72,
           21,
           52
          ],
          "symbol": "circle"
         },
         "mode": "markers",
         "text": "",
         "type": "scatter",
         "x": [
          -1.7328184700099154,
          -0.6655392531642427,
          -0.5141887381353419,
          -0.5307819801565642,
          -1.118698345400647,
          -0.015307381413286457,
          -1.4557398829714918,
          0.8591588400819069,
          -0.26492340869200365,
          0.4967984376875904,
          0.04182940727328566,
          -1.7386011275388331,
          0.6969431444672501,
          -0.052871581583919115,
          -1.6601792523085324,
          0.05748666839097407,
          0.1837621355327402,
          1.4962874424816663,
          -0.6205832412165161,
          0.1520623253012091,
          -0.0038386316317565086,
          0.5512624161773946,
          0.2036636174075826,
          -1.52475862710216,
          0.9236883896430348,
          2.046445624318661,
          -1.6928966996502095,
          -0.49450683165912346,
          -0.32097571153166865,
          0.18429648757950035,
          0.9590315555760798,
          0.24518063014786312,
          1.1035536863820947,
          -0.4262789193890452,
          0.38796398237909235,
          0.06095890635811224,
          -0.12080953360031857,
          0.720045065572963,
          1.1384712663936534,
          0.91631532775539,
          -1.3971319160459976,
          0.15533512015255674,
          -0.24322476528350576,
          -1.876186615785088,
          1.3283670094396747,
          1.4762463769813379,
          -0.0720559521924466,
          0.7329609025539923,
          -0.6413826991069103,
          0.12982126874312913,
          1.518939354007646,
          -1.1545144296807108,
          0.1470207356938776,
          -0.6908031760314431,
          -0.055941386298454326,
          1.3156460053880759,
          0.619892489089758,
          0.6088290563295004,
          -0.5374672551116969,
          -0.6880550583755078,
          0.7168531852731158,
          0.007647487232779944,
          2.211320735120686,
          0.6438165866259979,
          -1.0666772238124416,
          1.1185433129275277,
          -1.7299998201445086,
          -0.25975599587783443,
          0.4226172574698807,
          0.3941769709373833,
          0.5160961375330596,
          1.81819966745681,
          0.7991786252320352,
          1.046987568805078,
          -1.128395723062902,
          1.7936925593507211,
          -0.5149323886783681,
          -0.9802210244604053,
          0.2019466283016788,
          0.5362430245906857,
          -1.8460225900728473,
          1.1210128548791507,
          0.4428581166140847,
          -0.3971102158075737,
          1.0099720456684251,
          0.04323912485309805,
          0.16186786619863405,
          -0.8532924235905249,
          0.5683047812022923,
          -0.7182340782336945,
          -0.33714320289360633,
          1.6558347652323795,
          0.4051329252254166,
          0.7723889649324748,
          0.9858257378129331,
          0.3393662311036916,
          1.251335110862688,
          -0.8894527872587709,
          0.022788498965433734,
          0.1529745603304253
         ],
         "y": [
          -0.5737945545380813,
          1.10681733267001,
          -0.8642735138565506,
          0.5403727191652674,
          1.3446585111575515,
          0.9707770371986021,
          -0.4758158228346009,
          -1.7206476733987262,
          -0.5213925667074699,
          -1.3160304741085156,
          1.7139340392948705,
          -1.081772196858882,
          0.6852193539140005,
          0.2357121945272125,
          -0.21621060736553435,
          -1.16561783610473,
          -0.7160992151206331,
          -0.7963619994131266,
          -5.734197369323232e-05,
          0.4121475843934423,
          -0.5346345063636659,
          0.9800828890027675,
          -0.17355190502161186,
          0.50663665254452,
          -0.9743640840943804,
          2.4442193260237777,
          -1.5127481904255589,
          -0.4463273169784612,
          0.2863886544997744,
          -2.6366488568868967,
          0.3399990001282703,
          -0.4238775381884636,
          0.09553159887378632,
          0.030443516590440534,
          -0.117465978296997,
          0.5680994389852261,
          0.8986361709059272,
          0.05807554994885092,
          -0.573788376859282,
          0.07770170114819182,
          -0.1532975170574101,
          -1.7259334090059024,
          1.9288714395457591,
          -0.5540020564911894,
          0.7437781696058638,
          0.09207992430893966,
          -0.09103602463885366,
          0.4550902656062467,
          -1.049078831656769,
          0.39971184330269044,
          1.8580764136015517,
          1.530549476657037,
          -1.550731195712601,
          -1.7384459910819856,
          -0.9078249514952067,
          -0.5390811901792363,
          2.0245770702001114,
          0.060145825037109524,
          0.19512977367730458,
          -0.906664515766312,
          -0.4579375421367402,
          1.5950732986077922,
          -0.06095303450437194,
          -0.7050404940898929,
          -0.7948447032770758,
          -0.5673176973672968,
          -1.2621608935191002,
          -0.6700539341340684,
          0.5446324881912484,
          -0.872920736801528,
          -0.917874519634289,
          -1.4537221534915523,
          0.16881163940843347,
          0.20088757260669715,
          0.18290911610110255,
          -1.476238336965387,
          -0.5561300294068415,
          -0.36454287791069184,
          -0.06220468912964303,
          -0.9794835695449904,
          1.9058757707845015,
          0.09730984282951217,
          0.974860478095882,
          -0.13908650831671687,
          0.7492916762415887,
          -0.5509520407165336,
          -0.6638932817154232,
          -0.08468534082475872,
          0.032786764332160115,
          -0.13758137168049833,
          1.0497203019324426,
          0.5940635515384379,
          -0.3397995017727589,
          0.2857793266688294,
          0.8331357511706957,
          0.24054536988523556,
          -0.6609910622382077,
          -1.015298446375443,
          0.7385713900137486,
          -0.43492175701388197
         ]
        }
       ],
       "layout": {
        "legend": {
         "bgcolor": "#F5F6F9",
         "font": {
          "color": "#4D5663"
         }
        },
        "paper_bgcolor": "#F5F6F9",
        "plot_bgcolor": "#F5F6F9",
        "template": {
         "data": {
          "bar": [
           {
            "error_x": {
             "color": "#2a3f5f"
            },
            "error_y": {
             "color": "#2a3f5f"
            },
            "marker": {
             "line": {
              "color": "#E5ECF6",
              "width": 0.5
             }
            },
            "type": "bar"
           }
          ],
          "barpolar": [
           {
            "marker": {
             "line": {
              "color": "#E5ECF6",
              "width": 0.5
             }
            },
            "type": "barpolar"
           }
          ],
          "carpet": [
           {
            "aaxis": {
             "endlinecolor": "#2a3f5f",
             "gridcolor": "white",
             "linecolor": "white",
             "minorgridcolor": "white",
             "startlinecolor": "#2a3f5f"
            },
            "baxis": {
             "endlinecolor": "#2a3f5f",
             "gridcolor": "white",
             "linecolor": "white",
             "minorgridcolor": "white",
             "startlinecolor": "#2a3f5f"
            },
            "type": "carpet"
           }
          ],
          "choropleth": [
           {
            "colorbar": {
             "outlinewidth": 0,
             "ticks": ""
            },
            "type": "choropleth"
           }
          ],
          "contour": [
           {
            "colorbar": {
             "outlinewidth": 0,
             "ticks": ""
            },
            "colorscale": [
             [
              0,
              "#0d0887"
             ],
             [
              0.1111111111111111,
              "#46039f"
             ],
             [
              0.2222222222222222,
              "#7201a8"
             ],
             [
              0.3333333333333333,
              "#9c179e"
             ],
             [
              0.4444444444444444,
              "#bd3786"
             ],
             [
              0.5555555555555556,
              "#d8576b"
             ],
             [
              0.6666666666666666,
              "#ed7953"
             ],
             [
              0.7777777777777778,
              "#fb9f3a"
             ],
             [
              0.8888888888888888,
              "#fdca26"
             ],
             [
              1,
              "#f0f921"
             ]
            ],
            "type": "contour"
           }
          ],
          "contourcarpet": [
           {
            "colorbar": {
             "outlinewidth": 0,
             "ticks": ""
            },
            "type": "contourcarpet"
           }
          ],
          "heatmap": [
           {
            "colorbar": {
             "outlinewidth": 0,
             "ticks": ""
            },
            "colorscale": [
             [
              0,
              "#0d0887"
             ],
             [
              0.1111111111111111,
              "#46039f"
             ],
             [
              0.2222222222222222,
              "#7201a8"
             ],
             [
              0.3333333333333333,
              "#9c179e"
             ],
             [
              0.4444444444444444,
              "#bd3786"
             ],
             [
              0.5555555555555556,
              "#d8576b"
             ],
             [
              0.6666666666666666,
              "#ed7953"
             ],
             [
              0.7777777777777778,
              "#fb9f3a"
             ],
             [
              0.8888888888888888,
              "#fdca26"
             ],
             [
              1,
              "#f0f921"
             ]
            ],
            "type": "heatmap"
           }
          ],
          "heatmapgl": [
           {
            "colorbar": {
             "outlinewidth": 0,
             "ticks": ""
            },
            "colorscale": [
             [
              0,
              "#0d0887"
             ],
             [
              0.1111111111111111,
              "#46039f"
             ],
             [
              0.2222222222222222,
              "#7201a8"
             ],
             [
              0.3333333333333333,
              "#9c179e"
             ],
             [
              0.4444444444444444,
              "#bd3786"
             ],
             [
              0.5555555555555556,
              "#d8576b"
             ],
             [
              0.6666666666666666,
              "#ed7953"
             ],
             [
              0.7777777777777778,
              "#fb9f3a"
             ],
             [
              0.8888888888888888,
              "#fdca26"
             ],
             [
              1,
              "#f0f921"
             ]
            ],
            "type": "heatmapgl"
           }
          ],
          "histogram": [
           {
            "marker": {
             "colorbar": {
              "outlinewidth": 0,
              "ticks": ""
             }
            },
            "type": "histogram"
           }
          ],
          "histogram2d": [
           {
            "colorbar": {
             "outlinewidth": 0,
             "ticks": ""
            },
            "colorscale": [
             [
              0,
              "#0d0887"
             ],
             [
              0.1111111111111111,
              "#46039f"
             ],
             [
              0.2222222222222222,
              "#7201a8"
             ],
             [
              0.3333333333333333,
              "#9c179e"
             ],
             [
              0.4444444444444444,
              "#bd3786"
             ],
             [
              0.5555555555555556,
              "#d8576b"
             ],
             [
              0.6666666666666666,
              "#ed7953"
             ],
             [
              0.7777777777777778,
              "#fb9f3a"
             ],
             [
              0.8888888888888888,
              "#fdca26"
             ],
             [
              1,
              "#f0f921"
             ]
            ],
            "type": "histogram2d"
           }
          ],
          "histogram2dcontour": [
           {
            "colorbar": {
             "outlinewidth": 0,
             "ticks": ""
            },
            "colorscale": [
             [
              0,
              "#0d0887"
             ],
             [
              0.1111111111111111,
              "#46039f"
             ],
             [
              0.2222222222222222,
              "#7201a8"
             ],
             [
              0.3333333333333333,
              "#9c179e"
             ],
             [
              0.4444444444444444,
              "#bd3786"
             ],
             [
              0.5555555555555556,
              "#d8576b"
             ],
             [
              0.6666666666666666,
              "#ed7953"
             ],
             [
              0.7777777777777778,
              "#fb9f3a"
             ],
             [
              0.8888888888888888,
              "#fdca26"
             ],
             [
              1,
              "#f0f921"
             ]
            ],
            "type": "histogram2dcontour"
           }
          ],
          "mesh3d": [
           {
            "colorbar": {
             "outlinewidth": 0,
             "ticks": ""
            },
            "type": "mesh3d"
           }
          ],
          "parcoords": [
           {
            "line": {
             "colorbar": {
              "outlinewidth": 0,
              "ticks": ""
             }
            },
            "type": "parcoords"
           }
          ],
          "pie": [
           {
            "automargin": true,
            "type": "pie"
           }
          ],
          "scatter": [
           {
            "marker": {
             "colorbar": {
              "outlinewidth": 0,
              "ticks": ""
             }
            },
            "type": "scatter"
           }
          ],
          "scatter3d": [
           {
            "line": {
             "colorbar": {
              "outlinewidth": 0,
              "ticks": ""
             }
            },
            "marker": {
             "colorbar": {
              "outlinewidth": 0,
              "ticks": ""
             }
            },
            "type": "scatter3d"
           }
          ],
          "scattercarpet": [
           {
            "marker": {
             "colorbar": {
              "outlinewidth": 0,
              "ticks": ""
             }
            },
            "type": "scattercarpet"
           }
          ],
          "scattergeo": [
           {
            "marker": {
             "colorbar": {
              "outlinewidth": 0,
              "ticks": ""
             }
            },
            "type": "scattergeo"
           }
          ],
          "scattergl": [
           {
            "marker": {
             "colorbar": {
              "outlinewidth": 0,
              "ticks": ""
             }
            },
            "type": "scattergl"
           }
          ],
          "scattermapbox": [
           {
            "marker": {
             "colorbar": {
              "outlinewidth": 0,
              "ticks": ""
             }
            },
            "type": "scattermapbox"
           }
          ],
          "scatterpolar": [
           {
            "marker": {
             "colorbar": {
              "outlinewidth": 0,
              "ticks": ""
             }
            },
            "type": "scatterpolar"
           }
          ],
          "scatterpolargl": [
           {
            "marker": {
             "colorbar": {
              "outlinewidth": 0,
              "ticks": ""
             }
            },
            "type": "scatterpolargl"
           }
          ],
          "scatterternary": [
           {
            "marker": {
             "colorbar": {
              "outlinewidth": 0,
              "ticks": ""
             }
            },
            "type": "scatterternary"
           }
          ],
          "surface": [
           {
            "colorbar": {
             "outlinewidth": 0,
             "ticks": ""
            },
            "colorscale": [
             [
              0,
              "#0d0887"
             ],
             [
              0.1111111111111111,
              "#46039f"
             ],
             [
              0.2222222222222222,
              "#7201a8"
             ],
             [
              0.3333333333333333,
              "#9c179e"
             ],
             [
              0.4444444444444444,
              "#bd3786"
             ],
             [
              0.5555555555555556,
              "#d8576b"
             ],
             [
              0.6666666666666666,
              "#ed7953"
             ],
             [
              0.7777777777777778,
              "#fb9f3a"
             ],
             [
              0.8888888888888888,
              "#fdca26"
             ],
             [
              1,
              "#f0f921"
             ]
            ],
            "type": "surface"
           }
          ],
          "table": [
           {
            "cells": {
             "fill": {
              "color": "#EBF0F8"
             },
             "line": {
              "color": "white"
             }
            },
            "header": {
             "fill": {
              "color": "#C8D4E3"
             },
             "line": {
              "color": "white"
             }
            },
            "type": "table"
           }
          ]
         },
         "layout": {
          "annotationdefaults": {
           "arrowcolor": "#2a3f5f",
           "arrowhead": 0,
           "arrowwidth": 1
          },
          "coloraxis": {
           "colorbar": {
            "outlinewidth": 0,
            "ticks": ""
           }
          },
          "colorscale": {
           "diverging": [
            [
             0,
             "#8e0152"
            ],
            [
             0.1,
             "#c51b7d"
            ],
            [
             0.2,
             "#de77ae"
            ],
            [
             0.3,
             "#f1b6da"
            ],
            [
             0.4,
             "#fde0ef"
            ],
            [
             0.5,
             "#f7f7f7"
            ],
            [
             0.6,
             "#e6f5d0"
            ],
            [
             0.7,
             "#b8e186"
            ],
            [
             0.8,
             "#7fbc41"
            ],
            [
             0.9,
             "#4d9221"
            ],
            [
             1,
             "#276419"
            ]
           ],
           "sequential": [
            [
             0,
             "#0d0887"
            ],
            [
             0.1111111111111111,
             "#46039f"
            ],
            [
             0.2222222222222222,
             "#7201a8"
            ],
            [
             0.3333333333333333,
             "#9c179e"
            ],
            [
             0.4444444444444444,
             "#bd3786"
            ],
            [
             0.5555555555555556,
             "#d8576b"
            ],
            [
             0.6666666666666666,
             "#ed7953"
            ],
            [
             0.7777777777777778,
             "#fb9f3a"
            ],
            [
             0.8888888888888888,
             "#fdca26"
            ],
            [
             1,
             "#f0f921"
            ]
           ],
           "sequentialminus": [
            [
             0,
             "#0d0887"
            ],
            [
             0.1111111111111111,
             "#46039f"
            ],
            [
             0.2222222222222222,
             "#7201a8"
            ],
            [
             0.3333333333333333,
             "#9c179e"
            ],
            [
             0.4444444444444444,
             "#bd3786"
            ],
            [
             0.5555555555555556,
             "#d8576b"
            ],
            [
             0.6666666666666666,
             "#ed7953"
            ],
            [
             0.7777777777777778,
             "#fb9f3a"
            ],
            [
             0.8888888888888888,
             "#fdca26"
            ],
            [
             1,
             "#f0f921"
            ]
           ]
          },
          "colorway": [
           "#636efa",
           "#EF553B",
           "#00cc96",
           "#ab63fa",
           "#FFA15A",
           "#19d3f3",
           "#FF6692",
           "#B6E880",
           "#FF97FF",
           "#FECB52"
          ],
          "font": {
           "color": "#2a3f5f"
          },
          "geo": {
           "bgcolor": "white",
           "lakecolor": "white",
           "landcolor": "#E5ECF6",
           "showlakes": true,
           "showland": true,
           "subunitcolor": "white"
          },
          "hoverlabel": {
           "align": "left"
          },
          "hovermode": "closest",
          "mapbox": {
           "style": "light"
          },
          "paper_bgcolor": "white",
          "plot_bgcolor": "#E5ECF6",
          "polar": {
           "angularaxis": {
            "gridcolor": "white",
            "linecolor": "white",
            "ticks": ""
           },
           "bgcolor": "#E5ECF6",
           "radialaxis": {
            "gridcolor": "white",
            "linecolor": "white",
            "ticks": ""
           }
          },
          "scene": {
           "xaxis": {
            "backgroundcolor": "#E5ECF6",
            "gridcolor": "white",
            "gridwidth": 2,
            "linecolor": "white",
            "showbackground": true,
            "ticks": "",
            "zerolinecolor": "white"
           },
           "yaxis": {
            "backgroundcolor": "#E5ECF6",
            "gridcolor": "white",
            "gridwidth": 2,
            "linecolor": "white",
            "showbackground": true,
            "ticks": "",
            "zerolinecolor": "white"
           },
           "zaxis": {
            "backgroundcolor": "#E5ECF6",
            "gridcolor": "white",
            "gridwidth": 2,
            "linecolor": "white",
            "showbackground": true,
            "ticks": "",
            "zerolinecolor": "white"
           }
          },
          "shapedefaults": {
           "line": {
            "color": "#2a3f5f"
           }
          },
          "ternary": {
           "aaxis": {
            "gridcolor": "white",
            "linecolor": "white",
            "ticks": ""
           },
           "baxis": {
            "gridcolor": "white",
            "linecolor": "white",
            "ticks": ""
           },
           "bgcolor": "#E5ECF6",
           "caxis": {
            "gridcolor": "white",
            "linecolor": "white",
            "ticks": ""
           }
          },
          "title": {
           "x": 0.05
          },
          "xaxis": {
           "automargin": true,
           "gridcolor": "white",
           "linecolor": "white",
           "ticks": "",
           "title": {
            "standoff": 15
           },
           "zerolinecolor": "white",
           "zerolinewidth": 2
          },
          "yaxis": {
           "automargin": true,
           "gridcolor": "white",
           "linecolor": "white",
           "ticks": "",
           "title": {
            "standoff": 15
           },
           "zerolinecolor": "white",
           "zerolinewidth": 2
          }
         }
        },
        "title": {
         "font": {
          "color": "#4D5663"
         }
        },
        "xaxis": {
         "gridcolor": "#E1E5ED",
         "showgrid": true,
         "tickfont": {
          "color": "#4D5663"
         },
         "title": {
          "font": {
           "color": "#4D5663"
          },
          "text": "A"
         },
         "zerolinecolor": "#E1E5ED"
        },
        "yaxis": {
         "gridcolor": "#E1E5ED",
         "showgrid": true,
         "tickfont": {
          "color": "#4D5663"
         },
         "title": {
          "font": {
           "color": "#4D5663"
          },
          "text": "B"
         },
         "zerolinecolor": "#E1E5ED"
        }
       }
      },
      "text/html": [
       "<div>\n",
       "        \n",
       "        \n",
       "            <div id=\"e3509a8f-ca68-47aa-9a9f-40dbb6e01724\" class=\"plotly-graph-div\" style=\"height:525px; width:100%;\"></div>\n",
       "            <script type=\"text/javascript\">\n",
       "                require([\"plotly\"], function(Plotly) {\n",
       "                    window.PLOTLYENV=window.PLOTLYENV || {};\n",
       "                    window.PLOTLYENV.BASE_URL='https://plot.ly';\n",
       "                    \n",
       "                if (document.getElementById(\"e3509a8f-ca68-47aa-9a9f-40dbb6e01724\")) {\n",
       "                    Plotly.newPlot(\n",
       "                        'e3509a8f-ca68-47aa-9a9f-40dbb6e01724',\n",
       "                        [{\"marker\": {\"color\": [\"rgb(127,201,127)\", \"rgb(190,174,212)\", \"rgb(253,192,134)\", \"rgb(255,255,153)\", \"rgb(56,108,176)\", \"rgb(240,2,127)\", \"rgb(191,91,23)\", \"rgb(102,102,102)\"], \"line\": {\"width\": 1.3}, \"size\": [14, 54, 44, 12, 54, 67, 84, 77, 53, 88, 54, 36, 61, 86, 69, 54, 112, 102, 67, 56, 76, 79, 94, 33, 70, 101, 56, 68, 68, 75, 46, 56, 91, 53, 73, 30, 60, 90, 59, 65, 74, 60, 63, 94, 53, 69, 67, 92, 53, 33, 59, 64, 65, 75, 24, 63, 31, 29, 38, 53, 89, 97, 36, 54, 38, 28, 77, 43, 37, 49, 107, 60, 84, 70, 99, 69, 49, 38, 43, 76, 40, 84, 73, 95, 95, 30, 60, 18, 73, 61, 65, 81, 63, 38, 63, 45, 79, 72, 21, 52], \"symbol\": \"circle\"}, \"mode\": \"markers\", \"text\": \"\", \"type\": \"scatter\", \"x\": [-1.7328184700099154, -0.6655392531642427, -0.5141887381353419, -0.5307819801565642, -1.118698345400647, -0.015307381413286457, -1.4557398829714918, 0.8591588400819069, -0.26492340869200365, 0.4967984376875904, 0.04182940727328566, -1.7386011275388331, 0.6969431444672501, -0.052871581583919115, -1.6601792523085324, 0.05748666839097407, 0.1837621355327402, 1.4962874424816663, -0.6205832412165161, 0.1520623253012091, -0.0038386316317565086, 0.5512624161773946, 0.2036636174075826, -1.52475862710216, 0.9236883896430348, 2.046445624318661, -1.6928966996502095, -0.49450683165912346, -0.32097571153166865, 0.18429648757950035, 0.9590315555760798, 0.24518063014786312, 1.1035536863820947, -0.4262789193890452, 0.38796398237909235, 0.06095890635811224, -0.12080953360031857, 0.720045065572963, 1.1384712663936534, 0.91631532775539, -1.3971319160459976, 0.15533512015255674, -0.24322476528350576, -1.876186615785088, 1.3283670094396747, 1.4762463769813379, -0.0720559521924466, 0.7329609025539923, -0.6413826991069103, 0.12982126874312913, 1.518939354007646, -1.1545144296807108, 0.1470207356938776, -0.6908031760314431, -0.055941386298454326, 1.3156460053880759, 0.619892489089758, 0.6088290563295004, -0.5374672551116969, -0.6880550583755078, 0.7168531852731158, 0.007647487232779944, 2.211320735120686, 0.6438165866259979, -1.0666772238124416, 1.1185433129275277, -1.7299998201445086, -0.25975599587783443, 0.4226172574698807, 0.3941769709373833, 0.5160961375330596, 1.81819966745681, 0.7991786252320352, 1.046987568805078, -1.128395723062902, 1.7936925593507211, -0.5149323886783681, -0.9802210244604053, 0.2019466283016788, 0.5362430245906857, -1.8460225900728473, 1.1210128548791507, 0.4428581166140847, -0.3971102158075737, 1.0099720456684251, 0.04323912485309805, 0.16186786619863405, -0.8532924235905249, 0.5683047812022923, -0.7182340782336945, -0.33714320289360633, 1.6558347652323795, 0.4051329252254166, 0.7723889649324748, 0.9858257378129331, 0.3393662311036916, 1.251335110862688, -0.8894527872587709, 0.022788498965433734, 0.1529745603304253], \"y\": [-0.5737945545380813, 1.10681733267001, -0.8642735138565506, 0.5403727191652674, 1.3446585111575515, 0.9707770371986021, -0.4758158228346009, -1.7206476733987262, -0.5213925667074699, -1.3160304741085156, 1.7139340392948705, -1.081772196858882, 0.6852193539140005, 0.2357121945272125, -0.21621060736553435, -1.16561783610473, -0.7160992151206331, -0.7963619994131266, -5.734197369323232e-05, 0.4121475843934423, -0.5346345063636659, 0.9800828890027675, -0.17355190502161186, 0.50663665254452, -0.9743640840943804, 2.4442193260237777, -1.5127481904255589, -0.4463273169784612, 0.2863886544997744, -2.6366488568868967, 0.3399990001282703, -0.4238775381884636, 0.09553159887378632, 0.030443516590440534, -0.117465978296997, 0.5680994389852261, 0.8986361709059272, 0.05807554994885092, -0.573788376859282, 0.07770170114819182, -0.1532975170574101, -1.7259334090059024, 1.9288714395457591, -0.5540020564911894, 0.7437781696058638, 0.09207992430893966, -0.09103602463885366, 0.4550902656062467, -1.049078831656769, 0.39971184330269044, 1.8580764136015517, 1.530549476657037, -1.550731195712601, -1.7384459910819856, -0.9078249514952067, -0.5390811901792363, 2.0245770702001114, 0.060145825037109524, 0.19512977367730458, -0.906664515766312, -0.4579375421367402, 1.5950732986077922, -0.06095303450437194, -0.7050404940898929, -0.7948447032770758, -0.5673176973672968, -1.2621608935191002, -0.6700539341340684, 0.5446324881912484, -0.872920736801528, -0.917874519634289, -1.4537221534915523, 0.16881163940843347, 0.20088757260669715, 0.18290911610110255, -1.476238336965387, -0.5561300294068415, -0.36454287791069184, -0.06220468912964303, -0.9794835695449904, 1.9058757707845015, 0.09730984282951217, 0.974860478095882, -0.13908650831671687, 0.7492916762415887, -0.5509520407165336, -0.6638932817154232, -0.08468534082475872, 0.032786764332160115, -0.13758137168049833, 1.0497203019324426, 0.5940635515384379, -0.3397995017727589, 0.2857793266688294, 0.8331357511706957, 0.24054536988523556, -0.6609910622382077, -1.015298446375443, 0.7385713900137486, -0.43492175701388197]}],\n",
       "                        {\"legend\": {\"bgcolor\": \"#F5F6F9\", \"font\": {\"color\": \"#4D5663\"}}, \"paper_bgcolor\": \"#F5F6F9\", \"plot_bgcolor\": \"#F5F6F9\", \"template\": {\"data\": {\"bar\": [{\"error_x\": {\"color\": \"#2a3f5f\"}, \"error_y\": {\"color\": \"#2a3f5f\"}, \"marker\": {\"line\": {\"color\": \"#E5ECF6\", \"width\": 0.5}}, \"type\": \"bar\"}], \"barpolar\": [{\"marker\": {\"line\": {\"color\": \"#E5ECF6\", \"width\": 0.5}}, \"type\": \"barpolar\"}], \"carpet\": [{\"aaxis\": {\"endlinecolor\": \"#2a3f5f\", \"gridcolor\": \"white\", \"linecolor\": \"white\", \"minorgridcolor\": \"white\", \"startlinecolor\": \"#2a3f5f\"}, \"baxis\": {\"endlinecolor\": \"#2a3f5f\", \"gridcolor\": \"white\", \"linecolor\": \"white\", \"minorgridcolor\": \"white\", \"startlinecolor\": \"#2a3f5f\"}, \"type\": \"carpet\"}], \"choropleth\": [{\"colorbar\": {\"outlinewidth\": 0, \"ticks\": \"\"}, \"type\": \"choropleth\"}], \"contour\": [{\"colorbar\": {\"outlinewidth\": 0, \"ticks\": \"\"}, \"colorscale\": [[0.0, \"#0d0887\"], [0.1111111111111111, \"#46039f\"], [0.2222222222222222, \"#7201a8\"], [0.3333333333333333, \"#9c179e\"], [0.4444444444444444, \"#bd3786\"], [0.5555555555555556, \"#d8576b\"], [0.6666666666666666, \"#ed7953\"], [0.7777777777777778, \"#fb9f3a\"], [0.8888888888888888, \"#fdca26\"], [1.0, \"#f0f921\"]], \"type\": \"contour\"}], \"contourcarpet\": [{\"colorbar\": {\"outlinewidth\": 0, \"ticks\": \"\"}, \"type\": \"contourcarpet\"}], \"heatmap\": [{\"colorbar\": {\"outlinewidth\": 0, \"ticks\": \"\"}, \"colorscale\": [[0.0, \"#0d0887\"], [0.1111111111111111, \"#46039f\"], [0.2222222222222222, \"#7201a8\"], [0.3333333333333333, \"#9c179e\"], [0.4444444444444444, \"#bd3786\"], [0.5555555555555556, \"#d8576b\"], [0.6666666666666666, \"#ed7953\"], [0.7777777777777778, \"#fb9f3a\"], [0.8888888888888888, \"#fdca26\"], [1.0, \"#f0f921\"]], \"type\": \"heatmap\"}], \"heatmapgl\": [{\"colorbar\": {\"outlinewidth\": 0, \"ticks\": \"\"}, \"colorscale\": [[0.0, \"#0d0887\"], [0.1111111111111111, \"#46039f\"], [0.2222222222222222, \"#7201a8\"], [0.3333333333333333, \"#9c179e\"], [0.4444444444444444, \"#bd3786\"], [0.5555555555555556, \"#d8576b\"], [0.6666666666666666, \"#ed7953\"], [0.7777777777777778, \"#fb9f3a\"], [0.8888888888888888, \"#fdca26\"], [1.0, \"#f0f921\"]], \"type\": \"heatmapgl\"}], \"histogram\": [{\"marker\": {\"colorbar\": {\"outlinewidth\": 0, \"ticks\": \"\"}}, \"type\": \"histogram\"}], \"histogram2d\": [{\"colorbar\": {\"outlinewidth\": 0, \"ticks\": \"\"}, \"colorscale\": [[0.0, \"#0d0887\"], [0.1111111111111111, \"#46039f\"], [0.2222222222222222, \"#7201a8\"], [0.3333333333333333, \"#9c179e\"], [0.4444444444444444, \"#bd3786\"], [0.5555555555555556, \"#d8576b\"], [0.6666666666666666, \"#ed7953\"], [0.7777777777777778, \"#fb9f3a\"], [0.8888888888888888, \"#fdca26\"], [1.0, \"#f0f921\"]], \"type\": \"histogram2d\"}], \"histogram2dcontour\": [{\"colorbar\": {\"outlinewidth\": 0, \"ticks\": \"\"}, \"colorscale\": [[0.0, \"#0d0887\"], [0.1111111111111111, \"#46039f\"], [0.2222222222222222, \"#7201a8\"], [0.3333333333333333, \"#9c179e\"], [0.4444444444444444, \"#bd3786\"], [0.5555555555555556, \"#d8576b\"], [0.6666666666666666, \"#ed7953\"], [0.7777777777777778, \"#fb9f3a\"], [0.8888888888888888, \"#fdca26\"], [1.0, \"#f0f921\"]], \"type\": \"histogram2dcontour\"}], \"mesh3d\": [{\"colorbar\": {\"outlinewidth\": 0, \"ticks\": \"\"}, \"type\": \"mesh3d\"}], \"parcoords\": [{\"line\": {\"colorbar\": {\"outlinewidth\": 0, \"ticks\": \"\"}}, \"type\": \"parcoords\"}], \"pie\": [{\"automargin\": true, \"type\": \"pie\"}], \"scatter\": [{\"marker\": {\"colorbar\": {\"outlinewidth\": 0, \"ticks\": \"\"}}, \"type\": \"scatter\"}], \"scatter3d\": [{\"line\": {\"colorbar\": {\"outlinewidth\": 0, \"ticks\": \"\"}}, \"marker\": {\"colorbar\": {\"outlinewidth\": 0, \"ticks\": \"\"}}, \"type\": \"scatter3d\"}], \"scattercarpet\": [{\"marker\": {\"colorbar\": {\"outlinewidth\": 0, \"ticks\": \"\"}}, \"type\": \"scattercarpet\"}], \"scattergeo\": [{\"marker\": {\"colorbar\": {\"outlinewidth\": 0, \"ticks\": \"\"}}, \"type\": \"scattergeo\"}], \"scattergl\": [{\"marker\": {\"colorbar\": {\"outlinewidth\": 0, \"ticks\": \"\"}}, \"type\": \"scattergl\"}], \"scattermapbox\": [{\"marker\": {\"colorbar\": {\"outlinewidth\": 0, \"ticks\": \"\"}}, \"type\": \"scattermapbox\"}], \"scatterpolar\": [{\"marker\": {\"colorbar\": {\"outlinewidth\": 0, \"ticks\": \"\"}}, \"type\": \"scatterpolar\"}], \"scatterpolargl\": [{\"marker\": {\"colorbar\": {\"outlinewidth\": 0, \"ticks\": \"\"}}, \"type\": \"scatterpolargl\"}], \"scatterternary\": [{\"marker\": {\"colorbar\": {\"outlinewidth\": 0, \"ticks\": \"\"}}, \"type\": \"scatterternary\"}], \"surface\": [{\"colorbar\": {\"outlinewidth\": 0, \"ticks\": \"\"}, \"colorscale\": [[0.0, \"#0d0887\"], [0.1111111111111111, \"#46039f\"], [0.2222222222222222, \"#7201a8\"], [0.3333333333333333, \"#9c179e\"], [0.4444444444444444, \"#bd3786\"], [0.5555555555555556, \"#d8576b\"], [0.6666666666666666, \"#ed7953\"], [0.7777777777777778, \"#fb9f3a\"], [0.8888888888888888, \"#fdca26\"], [1.0, \"#f0f921\"]], \"type\": \"surface\"}], \"table\": [{\"cells\": {\"fill\": {\"color\": \"#EBF0F8\"}, \"line\": {\"color\": \"white\"}}, \"header\": {\"fill\": {\"color\": \"#C8D4E3\"}, \"line\": {\"color\": \"white\"}}, \"type\": \"table\"}]}, \"layout\": {\"annotationdefaults\": {\"arrowcolor\": \"#2a3f5f\", \"arrowhead\": 0, \"arrowwidth\": 1}, \"coloraxis\": {\"colorbar\": {\"outlinewidth\": 0, \"ticks\": \"\"}}, \"colorscale\": {\"diverging\": [[0, \"#8e0152\"], [0.1, \"#c51b7d\"], [0.2, \"#de77ae\"], [0.3, \"#f1b6da\"], [0.4, \"#fde0ef\"], [0.5, \"#f7f7f7\"], [0.6, \"#e6f5d0\"], [0.7, \"#b8e186\"], [0.8, \"#7fbc41\"], [0.9, \"#4d9221\"], [1, \"#276419\"]], \"sequential\": [[0.0, \"#0d0887\"], [0.1111111111111111, \"#46039f\"], [0.2222222222222222, \"#7201a8\"], [0.3333333333333333, \"#9c179e\"], [0.4444444444444444, \"#bd3786\"], [0.5555555555555556, \"#d8576b\"], [0.6666666666666666, \"#ed7953\"], [0.7777777777777778, \"#fb9f3a\"], [0.8888888888888888, \"#fdca26\"], [1.0, \"#f0f921\"]], \"sequentialminus\": [[0.0, \"#0d0887\"], [0.1111111111111111, \"#46039f\"], [0.2222222222222222, \"#7201a8\"], [0.3333333333333333, \"#9c179e\"], [0.4444444444444444, \"#bd3786\"], [0.5555555555555556, \"#d8576b\"], [0.6666666666666666, \"#ed7953\"], [0.7777777777777778, \"#fb9f3a\"], [0.8888888888888888, \"#fdca26\"], [1.0, \"#f0f921\"]]}, \"colorway\": [\"#636efa\", \"#EF553B\", \"#00cc96\", \"#ab63fa\", \"#FFA15A\", \"#19d3f3\", \"#FF6692\", \"#B6E880\", \"#FF97FF\", \"#FECB52\"], \"font\": {\"color\": \"#2a3f5f\"}, \"geo\": {\"bgcolor\": \"white\", \"lakecolor\": \"white\", \"landcolor\": \"#E5ECF6\", \"showlakes\": true, \"showland\": true, \"subunitcolor\": \"white\"}, \"hoverlabel\": {\"align\": \"left\"}, \"hovermode\": \"closest\", \"mapbox\": {\"style\": \"light\"}, \"paper_bgcolor\": \"white\", \"plot_bgcolor\": \"#E5ECF6\", \"polar\": {\"angularaxis\": {\"gridcolor\": \"white\", \"linecolor\": \"white\", \"ticks\": \"\"}, \"bgcolor\": \"#E5ECF6\", \"radialaxis\": {\"gridcolor\": \"white\", \"linecolor\": \"white\", \"ticks\": \"\"}}, \"scene\": {\"xaxis\": {\"backgroundcolor\": \"#E5ECF6\", \"gridcolor\": \"white\", \"gridwidth\": 2, \"linecolor\": \"white\", \"showbackground\": true, \"ticks\": \"\", \"zerolinecolor\": \"white\"}, \"yaxis\": {\"backgroundcolor\": \"#E5ECF6\", \"gridcolor\": \"white\", \"gridwidth\": 2, \"linecolor\": \"white\", \"showbackground\": true, \"ticks\": \"\", \"zerolinecolor\": \"white\"}, \"zaxis\": {\"backgroundcolor\": \"#E5ECF6\", \"gridcolor\": \"white\", \"gridwidth\": 2, \"linecolor\": \"white\", \"showbackground\": true, \"ticks\": \"\", \"zerolinecolor\": \"white\"}}, \"shapedefaults\": {\"line\": {\"color\": \"#2a3f5f\"}}, \"ternary\": {\"aaxis\": {\"gridcolor\": \"white\", \"linecolor\": \"white\", \"ticks\": \"\"}, \"baxis\": {\"gridcolor\": \"white\", \"linecolor\": \"white\", \"ticks\": \"\"}, \"bgcolor\": \"#E5ECF6\", \"caxis\": {\"gridcolor\": \"white\", \"linecolor\": \"white\", \"ticks\": \"\"}}, \"title\": {\"x\": 0.05}, \"xaxis\": {\"automargin\": true, \"gridcolor\": \"white\", \"linecolor\": \"white\", \"ticks\": \"\", \"title\": {\"standoff\": 15}, \"zerolinecolor\": \"white\", \"zerolinewidth\": 2}, \"yaxis\": {\"automargin\": true, \"gridcolor\": \"white\", \"linecolor\": \"white\", \"ticks\": \"\", \"title\": {\"standoff\": 15}, \"zerolinecolor\": \"white\", \"zerolinewidth\": 2}}}, \"title\": {\"font\": {\"color\": \"#4D5663\"}}, \"xaxis\": {\"gridcolor\": \"#E1E5ED\", \"showgrid\": true, \"tickfont\": {\"color\": \"#4D5663\"}, \"title\": {\"font\": {\"color\": \"#4D5663\"}, \"text\": \"A\"}, \"zerolinecolor\": \"#E1E5ED\"}, \"yaxis\": {\"gridcolor\": \"#E1E5ED\", \"showgrid\": true, \"tickfont\": {\"color\": \"#4D5663\"}, \"title\": {\"font\": {\"color\": \"#4D5663\"}, \"text\": \"B\"}, \"zerolinecolor\": \"#E1E5ED\"}},\n",
       "                        {\"showLink\": true, \"linkText\": \"Export to plot.ly\", \"plotlyServerURL\": \"https://plot.ly\", \"responsive\": true}\n",
       "                    ).then(function(){\n",
       "                            \n",
       "var gd = document.getElementById('e3509a8f-ca68-47aa-9a9f-40dbb6e01724');\n",
       "var x = new MutationObserver(function (mutations, observer) {{\n",
       "        var display = window.getComputedStyle(gd).display;\n",
       "        if (!display || display === 'none') {{\n",
       "            console.log([gd, 'removed!']);\n",
       "            Plotly.purge(gd);\n",
       "            observer.disconnect();\n",
       "        }}\n",
       "}});\n",
       "\n",
       "// Listen for the removal of the full notebook cells\n",
       "var notebookContainer = gd.closest('#notebook-container');\n",
       "if (notebookContainer) {{\n",
       "    x.observe(notebookContainer, {childList: true});\n",
       "}}\n",
       "\n",
       "// Listen for the clearing of the current output cell\n",
       "var outputEl = gd.closest('.output');\n",
       "if (outputEl) {{\n",
       "    x.observe(outputEl, {childList: true});\n",
       "}}\n",
       "\n",
       "                        })\n",
       "                };\n",
       "                });\n",
       "            </script>\n",
       "        </div>"
      ]
     },
     "metadata": {},
     "output_type": "display_data"
    }
   ],
   "source": [
    "df.iplot(kind='bubble',x='A',y='B',size ='C',xTitle='A',yTitle='B',colorscale='accent')"
   ]
  },
  {
   "cell_type": "code",
   "execution_count": 65,
   "metadata": {},
   "outputs": [
    {
     "data": {
      "text/html": [
       "<div style=\"display:inline-block;padding:10px;\"><div>accent</div><div style=\"background-color:rgb(127,201,127);height:20px;width:20px;margin-bottom:0px;display:inline-block;\"></div><div style=\"background-color:rgb(190,174,212);height:20px;width:20px;margin-bottom:0px;display:inline-block;\"></div><div style=\"background-color:rgb(253,192,134);height:20px;width:20px;margin-bottom:0px;display:inline-block;\"></div><div style=\"background-color:rgb(255,255,153);height:20px;width:20px;margin-bottom:0px;display:inline-block;\"></div><div style=\"background-color:rgb(56,108,176);height:20px;width:20px;margin-bottom:0px;display:inline-block;\"></div><div style=\"background-color:rgb(240,2,127);height:20px;width:20px;margin-bottom:0px;display:inline-block;\"></div><div style=\"background-color:rgb(191,91,23);height:20px;width:20px;margin-bottom:0px;display:inline-block;\"></div><div style=\"background-color:rgb(102,102,102);height:20px;width:20px;margin-bottom:0px;display:inline-block;\"></div></div><div style=\"display:inline-block;padding:10px;\"><div>blues</div><div style=\"background-color:rgb(247,251,255);height:20px;width:20px;margin-bottom:0px;display:inline-block;\"></div><div style=\"background-color:rgb(222,235,247);height:20px;width:20px;margin-bottom:0px;display:inline-block;\"></div><div style=\"background-color:rgb(198,219,239);height:20px;width:20px;margin-bottom:0px;display:inline-block;\"></div><div style=\"background-color:rgb(158,202,225);height:20px;width:20px;margin-bottom:0px;display:inline-block;\"></div><div style=\"background-color:rgb(107,174,214);height:20px;width:20px;margin-bottom:0px;display:inline-block;\"></div><div style=\"background-color:rgb(66,146,198);height:20px;width:20px;margin-bottom:0px;display:inline-block;\"></div><div style=\"background-color:rgb(33,113,181);height:20px;width:20px;margin-bottom:0px;display:inline-block;\"></div><div style=\"background-color:rgb(8,81,156);height:20px;width:20px;margin-bottom:0px;display:inline-block;\"></div><div style=\"background-color:rgb(8,48,107);height:20px;width:20px;margin-bottom:0px;display:inline-block;\"></div></div><div style=\"display:inline-block;padding:10px;\"><div>brbg</div><div style=\"background-color:rgb(84,48,5);height:20px;width:20px;margin-bottom:0px;display:inline-block;\"></div><div style=\"background-color:rgb(140,81,10);height:20px;width:20px;margin-bottom:0px;display:inline-block;\"></div><div style=\"background-color:rgb(191,129,45);height:20px;width:20px;margin-bottom:0px;display:inline-block;\"></div><div style=\"background-color:rgb(223,194,125);height:20px;width:20px;margin-bottom:0px;display:inline-block;\"></div><div style=\"background-color:rgb(246,232,195);height:20px;width:20px;margin-bottom:0px;display:inline-block;\"></div><div style=\"background-color:rgb(245,245,245);height:20px;width:20px;margin-bottom:0px;display:inline-block;\"></div><div style=\"background-color:rgb(199,234,229);height:20px;width:20px;margin-bottom:0px;display:inline-block;\"></div><div style=\"background-color:rgb(128,205,193);height:20px;width:20px;margin-bottom:0px;display:inline-block;\"></div><div style=\"background-color:rgb(53,151,143);height:20px;width:20px;margin-bottom:0px;display:inline-block;\"></div><div style=\"background-color:rgb(1,102,94);height:20px;width:20px;margin-bottom:0px;display:inline-block;\"></div><div style=\"background-color:rgb(0,60,48);height:20px;width:20px;margin-bottom:0px;display:inline-block;\"></div></div><div style=\"display:inline-block;padding:10px;\"><div>bugn</div><div style=\"background-color:rgb(247,252,253);height:20px;width:20px;margin-bottom:0px;display:inline-block;\"></div><div style=\"background-color:rgb(229,245,249);height:20px;width:20px;margin-bottom:0px;display:inline-block;\"></div><div style=\"background-color:rgb(204,236,230);height:20px;width:20px;margin-bottom:0px;display:inline-block;\"></div><div style=\"background-color:rgb(153,216,201);height:20px;width:20px;margin-bottom:0px;display:inline-block;\"></div><div style=\"background-color:rgb(102,194,164);height:20px;width:20px;margin-bottom:0px;display:inline-block;\"></div><div style=\"background-color:rgb(65,174,118);height:20px;width:20px;margin-bottom:0px;display:inline-block;\"></div><div style=\"background-color:rgb(35,139,69);height:20px;width:20px;margin-bottom:0px;display:inline-block;\"></div><div style=\"background-color:rgb(0,109,44);height:20px;width:20px;margin-bottom:0px;display:inline-block;\"></div><div style=\"background-color:rgb(0,68,27);height:20px;width:20px;margin-bottom:0px;display:inline-block;\"></div></div><div style=\"display:inline-block;padding:10px;\"><div>bupu</div><div style=\"background-color:rgb(247,252,253);height:20px;width:20px;margin-bottom:0px;display:inline-block;\"></div><div style=\"background-color:rgb(224,236,244);height:20px;width:20px;margin-bottom:0px;display:inline-block;\"></div><div style=\"background-color:rgb(191,211,230);height:20px;width:20px;margin-bottom:0px;display:inline-block;\"></div><div style=\"background-color:rgb(158,188,218);height:20px;width:20px;margin-bottom:0px;display:inline-block;\"></div><div style=\"background-color:rgb(140,150,198);height:20px;width:20px;margin-bottom:0px;display:inline-block;\"></div><div style=\"background-color:rgb(140,107,177);height:20px;width:20px;margin-bottom:0px;display:inline-block;\"></div><div style=\"background-color:rgb(136,65,157);height:20px;width:20px;margin-bottom:0px;display:inline-block;\"></div><div style=\"background-color:rgb(129,15,124);height:20px;width:20px;margin-bottom:0px;display:inline-block;\"></div><div style=\"background-color:rgb(77,0,75);height:20px;width:20px;margin-bottom:0px;display:inline-block;\"></div></div><div style=\"display:inline-block;padding:10px;\"><div>dark2</div><div style=\"background-color:rgb(27,158,119);height:20px;width:20px;margin-bottom:0px;display:inline-block;\"></div><div style=\"background-color:rgb(217,95,2);height:20px;width:20px;margin-bottom:0px;display:inline-block;\"></div><div style=\"background-color:rgb(117,112,179);height:20px;width:20px;margin-bottom:0px;display:inline-block;\"></div><div style=\"background-color:rgb(231,41,138);height:20px;width:20px;margin-bottom:0px;display:inline-block;\"></div><div style=\"background-color:rgb(102,166,30);height:20px;width:20px;margin-bottom:0px;display:inline-block;\"></div><div style=\"background-color:rgb(230,171,2);height:20px;width:20px;margin-bottom:0px;display:inline-block;\"></div><div style=\"background-color:rgb(166,118,29);height:20px;width:20px;margin-bottom:0px;display:inline-block;\"></div><div style=\"background-color:rgb(102,102,102);height:20px;width:20px;margin-bottom:0px;display:inline-block;\"></div></div><div style=\"display:inline-block;padding:10px;\"><div>dflt</div><div style=\"background-color:rgb(255, 153, 51);height:20px;width:20px;margin-bottom:0px;display:inline-block;\"></div><div style=\"background-color:rgb(55, 128, 191);height:20px;width:20px;margin-bottom:0px;display:inline-block;\"></div><div style=\"background-color:rgb(50, 171, 96);height:20px;width:20px;margin-bottom:0px;display:inline-block;\"></div><div style=\"background-color:rgb(128, 0, 128);height:20px;width:20px;margin-bottom:0px;display:inline-block;\"></div><div style=\"background-color:rgb(219, 64, 82);height:20px;width:20px;margin-bottom:0px;display:inline-block;\"></div><div style=\"background-color:rgb(0, 128, 128);height:20px;width:20px;margin-bottom:0px;display:inline-block;\"></div><div style=\"background-color:rgb(255, 255, 51);height:20px;width:20px;margin-bottom:0px;display:inline-block;\"></div><div style=\"background-color:rgb(128, 128, 0);height:20px;width:20px;margin-bottom:0px;display:inline-block;\"></div><div style=\"background-color:rgb(251, 128, 114);height:20px;width:20px;margin-bottom:0px;display:inline-block;\"></div><div style=\"background-color:rgb(128, 177, 211);height:20px;width:20px;margin-bottom:0px;display:inline-block;\"></div></div><div style=\"display:inline-block;padding:10px;\"><div>ggplot</div><div style=\"background-color:rgb(226, 74, 51);height:20px;width:20px;margin-bottom:0px;display:inline-block;\"></div><div style=\"background-color:rgb(62, 111, 176);height:20px;width:20px;margin-bottom:0px;display:inline-block;\"></div><div style=\"background-color:rgb(132, 118, 202);height:20px;width:20px;margin-bottom:0px;display:inline-block;\"></div><div style=\"background-color:rgb(101, 101, 101);height:20px;width:20px;margin-bottom:0px;display:inline-block;\"></div><div style=\"background-color:rgb(251, 193, 94);height:20px;width:20px;margin-bottom:0px;display:inline-block;\"></div><div style=\"background-color:rgb(142, 186, 66);height:20px;width:20px;margin-bottom:0px;display:inline-block;\"></div><div style=\"background-color:rgb(255, 181, 184);height:20px;width:20px;margin-bottom:0px;display:inline-block;\"></div></div><div style=\"display:inline-block;padding:10px;\"><div>gnbu</div><div style=\"background-color:rgb(247,252,240);height:20px;width:20px;margin-bottom:0px;display:inline-block;\"></div><div style=\"background-color:rgb(224,243,219);height:20px;width:20px;margin-bottom:0px;display:inline-block;\"></div><div style=\"background-color:rgb(204,235,197);height:20px;width:20px;margin-bottom:0px;display:inline-block;\"></div><div style=\"background-color:rgb(168,221,181);height:20px;width:20px;margin-bottom:0px;display:inline-block;\"></div><div style=\"background-color:rgb(123,204,196);height:20px;width:20px;margin-bottom:0px;display:inline-block;\"></div><div style=\"background-color:rgb(78,179,211);height:20px;width:20px;margin-bottom:0px;display:inline-block;\"></div><div style=\"background-color:rgb(43,140,190);height:20px;width:20px;margin-bottom:0px;display:inline-block;\"></div><div style=\"background-color:rgb(8,104,172);height:20px;width:20px;margin-bottom:0px;display:inline-block;\"></div><div style=\"background-color:rgb(8,64,129);height:20px;width:20px;margin-bottom:0px;display:inline-block;\"></div></div><div style=\"display:inline-block;padding:10px;\"><div>greens</div><div style=\"background-color:rgb(247,252,245);height:20px;width:20px;margin-bottom:0px;display:inline-block;\"></div><div style=\"background-color:rgb(229,245,224);height:20px;width:20px;margin-bottom:0px;display:inline-block;\"></div><div style=\"background-color:rgb(199,233,192);height:20px;width:20px;margin-bottom:0px;display:inline-block;\"></div><div style=\"background-color:rgb(161,217,155);height:20px;width:20px;margin-bottom:0px;display:inline-block;\"></div><div style=\"background-color:rgb(116,196,118);height:20px;width:20px;margin-bottom:0px;display:inline-block;\"></div><div style=\"background-color:rgb(65,171,93);height:20px;width:20px;margin-bottom:0px;display:inline-block;\"></div><div style=\"background-color:rgb(35,139,69);height:20px;width:20px;margin-bottom:0px;display:inline-block;\"></div><div style=\"background-color:rgb(0,109,44);height:20px;width:20px;margin-bottom:0px;display:inline-block;\"></div><div style=\"background-color:rgb(0,68,27);height:20px;width:20px;margin-bottom:0px;display:inline-block;\"></div></div><div style=\"display:inline-block;padding:10px;\"><div>greys</div><div style=\"background-color:rgb(255,255,255);height:20px;width:20px;margin-bottom:0px;display:inline-block;\"></div><div style=\"background-color:rgb(240,240,240);height:20px;width:20px;margin-bottom:0px;display:inline-block;\"></div><div style=\"background-color:rgb(217,217,217);height:20px;width:20px;margin-bottom:0px;display:inline-block;\"></div><div style=\"background-color:rgb(189,189,189);height:20px;width:20px;margin-bottom:0px;display:inline-block;\"></div><div style=\"background-color:rgb(150,150,150);height:20px;width:20px;margin-bottom:0px;display:inline-block;\"></div><div style=\"background-color:rgb(115,115,115);height:20px;width:20px;margin-bottom:0px;display:inline-block;\"></div><div style=\"background-color:rgb(82,82,82);height:20px;width:20px;margin-bottom:0px;display:inline-block;\"></div><div style=\"background-color:rgb(37,37,37);height:20px;width:20px;margin-bottom:0px;display:inline-block;\"></div><div style=\"background-color:rgb(0,0,0);height:20px;width:20px;margin-bottom:0px;display:inline-block;\"></div></div><div style=\"display:inline-block;padding:10px;\"><div>henanigans</div><div style=\"background-color:rgb(182, 236, 243);height:20px;width:20px;margin-bottom:0px;display:inline-block;\"></div><div style=\"background-color:rgb(222, 149, 142);height:20px;width:20px;margin-bottom:0px;display:inline-block;\"></div><div style=\"background-color:rgb(160, 209, 123);height:20px;width:20px;margin-bottom:0px;display:inline-block;\"></div><div style=\"background-color:rgb(147, 182, 230);height:20px;width:20px;margin-bottom:0px;display:inline-block;\"></div><div style=\"background-color:rgb(235, 180, 131);height:20px;width:20px;margin-bottom:0px;display:inline-block;\"></div><div style=\"background-color:rgb(172, 146, 222);height:20px;width:20px;margin-bottom:0px;display:inline-block;\"></div><div style=\"background-color:rgb(233, 234, 190);height:20px;width:20px;margin-bottom:0px;display:inline-block;\"></div><div style=\"background-color:rgb(244, 244, 244);height:20px;width:20px;margin-bottom:0px;display:inline-block;\"></div><div style=\"background-color:rgb(126, 196, 207);height:20px;width:20px;margin-bottom:0px;display:inline-block;\"></div><div style=\"background-color:rgb(247, 126, 112);height:20px;width:20px;margin-bottom:0px;display:inline-block;\"></div><div style=\"background-color:rgb(139, 209, 85);height:20px;width:20px;margin-bottom:0px;display:inline-block;\"></div><div style=\"background-color:rgb(95, 149, 222);height:20px;width:20px;margin-bottom:0px;display:inline-block;\"></div></div><div style=\"display:inline-block;padding:10px;\"><div>oranges</div><div style=\"background-color:rgb(255,245,235);height:20px;width:20px;margin-bottom:0px;display:inline-block;\"></div><div style=\"background-color:rgb(254,230,206);height:20px;width:20px;margin-bottom:0px;display:inline-block;\"></div><div style=\"background-color:rgb(253,208,162);height:20px;width:20px;margin-bottom:0px;display:inline-block;\"></div><div style=\"background-color:rgb(253,174,107);height:20px;width:20px;margin-bottom:0px;display:inline-block;\"></div><div style=\"background-color:rgb(253,141,60);height:20px;width:20px;margin-bottom:0px;display:inline-block;\"></div><div style=\"background-color:rgb(241,105,19);height:20px;width:20px;margin-bottom:0px;display:inline-block;\"></div><div style=\"background-color:rgb(217,72,1);height:20px;width:20px;margin-bottom:0px;display:inline-block;\"></div><div style=\"background-color:rgb(166,54,3);height:20px;width:20px;margin-bottom:0px;display:inline-block;\"></div><div style=\"background-color:rgb(127,39,4);height:20px;width:20px;margin-bottom:0px;display:inline-block;\"></div></div><div style=\"display:inline-block;padding:10px;\"><div>original</div><div style=\"background-color:rgb(255, 153, 51);height:20px;width:20px;margin-bottom:0px;display:inline-block;\"></div><div style=\"background-color:rgb(55, 128, 191);height:20px;width:20px;margin-bottom:0px;display:inline-block;\"></div><div style=\"background-color:rgb(50, 171, 96);height:20px;width:20px;margin-bottom:0px;display:inline-block;\"></div><div style=\"background-color:rgb(128, 0, 128);height:20px;width:20px;margin-bottom:0px;display:inline-block;\"></div><div style=\"background-color:rgb(219, 64, 82);height:20px;width:20px;margin-bottom:0px;display:inline-block;\"></div><div style=\"background-color:rgb(0, 128, 128);height:20px;width:20px;margin-bottom:0px;display:inline-block;\"></div><div style=\"background-color:rgb(255, 255, 51);height:20px;width:20px;margin-bottom:0px;display:inline-block;\"></div><div style=\"background-color:rgb(128, 128, 0);height:20px;width:20px;margin-bottom:0px;display:inline-block;\"></div><div style=\"background-color:rgb(251, 128, 114);height:20px;width:20px;margin-bottom:0px;display:inline-block;\"></div><div style=\"background-color:rgb(128, 177, 211);height:20px;width:20px;margin-bottom:0px;display:inline-block;\"></div></div><div style=\"display:inline-block;padding:10px;\"><div>orrd</div><div style=\"background-color:rgb(255,247,236);height:20px;width:20px;margin-bottom:0px;display:inline-block;\"></div><div style=\"background-color:rgb(254,232,200);height:20px;width:20px;margin-bottom:0px;display:inline-block;\"></div><div style=\"background-color:rgb(253,212,158);height:20px;width:20px;margin-bottom:0px;display:inline-block;\"></div><div style=\"background-color:rgb(253,187,132);height:20px;width:20px;margin-bottom:0px;display:inline-block;\"></div><div style=\"background-color:rgb(252,141,89);height:20px;width:20px;margin-bottom:0px;display:inline-block;\"></div><div style=\"background-color:rgb(239,101,72);height:20px;width:20px;margin-bottom:0px;display:inline-block;\"></div><div style=\"background-color:rgb(215,48,31);height:20px;width:20px;margin-bottom:0px;display:inline-block;\"></div><div style=\"background-color:rgb(179,0,0);height:20px;width:20px;margin-bottom:0px;display:inline-block;\"></div><div style=\"background-color:rgb(127,0,0);height:20px;width:20px;margin-bottom:0px;display:inline-block;\"></div></div><div style=\"display:inline-block;padding:10px;\"><div>paired</div><div style=\"background-color:rgb(166,206,227);height:20px;width:20px;margin-bottom:0px;display:inline-block;\"></div><div style=\"background-color:rgb(31,120,180);height:20px;width:20px;margin-bottom:0px;display:inline-block;\"></div><div style=\"background-color:rgb(178,223,138);height:20px;width:20px;margin-bottom:0px;display:inline-block;\"></div><div style=\"background-color:rgb(51,160,44);height:20px;width:20px;margin-bottom:0px;display:inline-block;\"></div><div style=\"background-color:rgb(251,154,153);height:20px;width:20px;margin-bottom:0px;display:inline-block;\"></div><div style=\"background-color:rgb(227,26,28);height:20px;width:20px;margin-bottom:0px;display:inline-block;\"></div><div style=\"background-color:rgb(253,191,111);height:20px;width:20px;margin-bottom:0px;display:inline-block;\"></div><div style=\"background-color:rgb(255,127,0);height:20px;width:20px;margin-bottom:0px;display:inline-block;\"></div><div style=\"background-color:rgb(202,178,214);height:20px;width:20px;margin-bottom:0px;display:inline-block;\"></div><div style=\"background-color:rgb(106,61,154);height:20px;width:20px;margin-bottom:0px;display:inline-block;\"></div><div style=\"background-color:rgb(255,255,153);height:20px;width:20px;margin-bottom:0px;display:inline-block;\"></div><div style=\"background-color:rgb(177,89,40);height:20px;width:20px;margin-bottom:0px;display:inline-block;\"></div></div><div style=\"display:inline-block;padding:10px;\"><div>pastel1</div><div style=\"background-color:rgb(251,180,174);height:20px;width:20px;margin-bottom:0px;display:inline-block;\"></div><div style=\"background-color:rgb(179,205,227);height:20px;width:20px;margin-bottom:0px;display:inline-block;\"></div><div style=\"background-color:rgb(204,235,197);height:20px;width:20px;margin-bottom:0px;display:inline-block;\"></div><div style=\"background-color:rgb(222,203,228);height:20px;width:20px;margin-bottom:0px;display:inline-block;\"></div><div style=\"background-color:rgb(254,217,166);height:20px;width:20px;margin-bottom:0px;display:inline-block;\"></div><div style=\"background-color:rgb(255,255,204);height:20px;width:20px;margin-bottom:0px;display:inline-block;\"></div><div style=\"background-color:rgb(229,216,189);height:20px;width:20px;margin-bottom:0px;display:inline-block;\"></div><div style=\"background-color:rgb(253,218,236);height:20px;width:20px;margin-bottom:0px;display:inline-block;\"></div><div style=\"background-color:rgb(242,242,242);height:20px;width:20px;margin-bottom:0px;display:inline-block;\"></div></div><div style=\"display:inline-block;padding:10px;\"><div>pastel2</div><div style=\"background-color:rgb(179,226,205);height:20px;width:20px;margin-bottom:0px;display:inline-block;\"></div><div style=\"background-color:rgb(253,205,172);height:20px;width:20px;margin-bottom:0px;display:inline-block;\"></div><div style=\"background-color:rgb(203,213,232);height:20px;width:20px;margin-bottom:0px;display:inline-block;\"></div><div style=\"background-color:rgb(244,202,228);height:20px;width:20px;margin-bottom:0px;display:inline-block;\"></div><div style=\"background-color:rgb(230,245,201);height:20px;width:20px;margin-bottom:0px;display:inline-block;\"></div><div style=\"background-color:rgb(255,242,174);height:20px;width:20px;margin-bottom:0px;display:inline-block;\"></div><div style=\"background-color:rgb(241,226,204);height:20px;width:20px;margin-bottom:0px;display:inline-block;\"></div><div style=\"background-color:rgb(204,204,204);height:20px;width:20px;margin-bottom:0px;display:inline-block;\"></div></div><div style=\"display:inline-block;padding:10px;\"><div>piyg</div><div style=\"background-color:rgb(142,1,82);height:20px;width:20px;margin-bottom:0px;display:inline-block;\"></div><div style=\"background-color:rgb(197,27,125);height:20px;width:20px;margin-bottom:0px;display:inline-block;\"></div><div style=\"background-color:rgb(222,119,174);height:20px;width:20px;margin-bottom:0px;display:inline-block;\"></div><div style=\"background-color:rgb(241,182,218);height:20px;width:20px;margin-bottom:0px;display:inline-block;\"></div><div style=\"background-color:rgb(253,224,239);height:20px;width:20px;margin-bottom:0px;display:inline-block;\"></div><div style=\"background-color:rgb(247,247,247);height:20px;width:20px;margin-bottom:0px;display:inline-block;\"></div><div style=\"background-color:rgb(230,245,208);height:20px;width:20px;margin-bottom:0px;display:inline-block;\"></div><div style=\"background-color:rgb(184,225,134);height:20px;width:20px;margin-bottom:0px;display:inline-block;\"></div><div style=\"background-color:rgb(127,188,65);height:20px;width:20px;margin-bottom:0px;display:inline-block;\"></div><div style=\"background-color:rgb(77,146,33);height:20px;width:20px;margin-bottom:0px;display:inline-block;\"></div><div style=\"background-color:rgb(39,100,25);height:20px;width:20px;margin-bottom:0px;display:inline-block;\"></div></div><div style=\"display:inline-block;padding:10px;\"><div>plotly</div><div style=\"background-color:rgb(31, 119, 180);height:20px;width:20px;margin-bottom:0px;display:inline-block;\"></div><div style=\"background-color:rgb(255, 127, 14);height:20px;width:20px;margin-bottom:0px;display:inline-block;\"></div><div style=\"background-color:rgb(44, 160, 44);height:20px;width:20px;margin-bottom:0px;display:inline-block;\"></div><div style=\"background-color:rgb(214, 39, 40);height:20px;width:20px;margin-bottom:0px;display:inline-block;\"></div><div style=\"background-color:rgb(148, 103, 189);height:20px;width:20px;margin-bottom:0px;display:inline-block;\"></div><div style=\"background-color:rgb(140, 86, 75);height:20px;width:20px;margin-bottom:0px;display:inline-block;\"></div><div style=\"background-color:rgb(227, 119, 194);height:20px;width:20px;margin-bottom:0px;display:inline-block;\"></div><div style=\"background-color:rgb(127, 127, 127);height:20px;width:20px;margin-bottom:0px;display:inline-block;\"></div><div style=\"background-color:rgb(188, 189, 34);height:20px;width:20px;margin-bottom:0px;display:inline-block;\"></div><div style=\"background-color:rgb(23, 190, 207);height:20px;width:20px;margin-bottom:0px;display:inline-block;\"></div></div><div style=\"display:inline-block;padding:10px;\"><div>polar</div><div style=\"background-color:rgb(0, 128, 240);height:20px;width:20px;margin-bottom:0px;display:inline-block;\"></div><div style=\"background-color:rgb(238, 118, 0);height:20px;width:20px;margin-bottom:0px;display:inline-block;\"></div><div style=\"background-color:rgb(48, 144, 84);height:20px;width:20px;margin-bottom:0px;display:inline-block;\"></div><div style=\"background-color:rgb(98, 98, 222);height:20px;width:20px;margin-bottom:0px;display:inline-block;\"></div><div style=\"background-color:rgb(217, 66, 85);height:20px;width:20px;margin-bottom:0px;display:inline-block;\"></div><div style=\"background-color:rgb(173, 252, 252);height:20px;width:20px;margin-bottom:0px;display:inline-block;\"></div><div style=\"background-color:rgb(70, 160, 240);height:20px;width:20px;margin-bottom:0px;display:inline-block;\"></div></div><div style=\"display:inline-block;padding:10px;\"><div>prgn</div><div style=\"background-color:rgb(64,0,75);height:20px;width:20px;margin-bottom:0px;display:inline-block;\"></div><div style=\"background-color:rgb(118,42,131);height:20px;width:20px;margin-bottom:0px;display:inline-block;\"></div><div style=\"background-color:rgb(153,112,171);height:20px;width:20px;margin-bottom:0px;display:inline-block;\"></div><div style=\"background-color:rgb(194,165,207);height:20px;width:20px;margin-bottom:0px;display:inline-block;\"></div><div style=\"background-color:rgb(231,212,232);height:20px;width:20px;margin-bottom:0px;display:inline-block;\"></div><div style=\"background-color:rgb(247,247,247);height:20px;width:20px;margin-bottom:0px;display:inline-block;\"></div><div style=\"background-color:rgb(217,240,211);height:20px;width:20px;margin-bottom:0px;display:inline-block;\"></div><div style=\"background-color:rgb(166,219,160);height:20px;width:20px;margin-bottom:0px;display:inline-block;\"></div><div style=\"background-color:rgb(90,174,97);height:20px;width:20px;margin-bottom:0px;display:inline-block;\"></div><div style=\"background-color:rgb(27,120,55);height:20px;width:20px;margin-bottom:0px;display:inline-block;\"></div><div style=\"background-color:rgb(0,68,27);height:20px;width:20px;margin-bottom:0px;display:inline-block;\"></div></div><div style=\"display:inline-block;padding:10px;\"><div>pubu</div><div style=\"background-color:rgb(255,247,251);height:20px;width:20px;margin-bottom:0px;display:inline-block;\"></div><div style=\"background-color:rgb(236,231,242);height:20px;width:20px;margin-bottom:0px;display:inline-block;\"></div><div style=\"background-color:rgb(208,209,230);height:20px;width:20px;margin-bottom:0px;display:inline-block;\"></div><div style=\"background-color:rgb(166,189,219);height:20px;width:20px;margin-bottom:0px;display:inline-block;\"></div><div style=\"background-color:rgb(116,169,207);height:20px;width:20px;margin-bottom:0px;display:inline-block;\"></div><div style=\"background-color:rgb(54,144,192);height:20px;width:20px;margin-bottom:0px;display:inline-block;\"></div><div style=\"background-color:rgb(5,112,176);height:20px;width:20px;margin-bottom:0px;display:inline-block;\"></div><div style=\"background-color:rgb(4,90,141);height:20px;width:20px;margin-bottom:0px;display:inline-block;\"></div><div style=\"background-color:rgb(2,56,88);height:20px;width:20px;margin-bottom:0px;display:inline-block;\"></div></div><div style=\"display:inline-block;padding:10px;\"><div>pubugn</div><div style=\"background-color:rgb(255,247,251);height:20px;width:20px;margin-bottom:0px;display:inline-block;\"></div><div style=\"background-color:rgb(236,226,240);height:20px;width:20px;margin-bottom:0px;display:inline-block;\"></div><div style=\"background-color:rgb(208,209,230);height:20px;width:20px;margin-bottom:0px;display:inline-block;\"></div><div style=\"background-color:rgb(166,189,219);height:20px;width:20px;margin-bottom:0px;display:inline-block;\"></div><div style=\"background-color:rgb(103,169,207);height:20px;width:20px;margin-bottom:0px;display:inline-block;\"></div><div style=\"background-color:rgb(54,144,192);height:20px;width:20px;margin-bottom:0px;display:inline-block;\"></div><div style=\"background-color:rgb(2,129,138);height:20px;width:20px;margin-bottom:0px;display:inline-block;\"></div><div style=\"background-color:rgb(1,108,89);height:20px;width:20px;margin-bottom:0px;display:inline-block;\"></div><div style=\"background-color:rgb(1,70,54);height:20px;width:20px;margin-bottom:0px;display:inline-block;\"></div></div><div style=\"display:inline-block;padding:10px;\"><div>puor</div><div style=\"background-color:rgb(127,59,8);height:20px;width:20px;margin-bottom:0px;display:inline-block;\"></div><div style=\"background-color:rgb(179,88,6);height:20px;width:20px;margin-bottom:0px;display:inline-block;\"></div><div style=\"background-color:rgb(224,130,20);height:20px;width:20px;margin-bottom:0px;display:inline-block;\"></div><div style=\"background-color:rgb(253,184,99);height:20px;width:20px;margin-bottom:0px;display:inline-block;\"></div><div style=\"background-color:rgb(254,224,182);height:20px;width:20px;margin-bottom:0px;display:inline-block;\"></div><div style=\"background-color:rgb(247,247,247);height:20px;width:20px;margin-bottom:0px;display:inline-block;\"></div><div style=\"background-color:rgb(216,218,235);height:20px;width:20px;margin-bottom:0px;display:inline-block;\"></div><div style=\"background-color:rgb(178,171,210);height:20px;width:20px;margin-bottom:0px;display:inline-block;\"></div><div style=\"background-color:rgb(128,115,172);height:20px;width:20px;margin-bottom:0px;display:inline-block;\"></div><div style=\"background-color:rgb(84,39,136);height:20px;width:20px;margin-bottom:0px;display:inline-block;\"></div><div style=\"background-color:rgb(45,0,75);height:20px;width:20px;margin-bottom:0px;display:inline-block;\"></div></div><div style=\"display:inline-block;padding:10px;\"><div>purd</div><div style=\"background-color:rgb(247,244,249);height:20px;width:20px;margin-bottom:0px;display:inline-block;\"></div><div style=\"background-color:rgb(231,225,239);height:20px;width:20px;margin-bottom:0px;display:inline-block;\"></div><div style=\"background-color:rgb(212,185,218);height:20px;width:20px;margin-bottom:0px;display:inline-block;\"></div><div style=\"background-color:rgb(201,148,199);height:20px;width:20px;margin-bottom:0px;display:inline-block;\"></div><div style=\"background-color:rgb(223,101,176);height:20px;width:20px;margin-bottom:0px;display:inline-block;\"></div><div style=\"background-color:rgb(231,41,138);height:20px;width:20px;margin-bottom:0px;display:inline-block;\"></div><div style=\"background-color:rgb(206,18,86);height:20px;width:20px;margin-bottom:0px;display:inline-block;\"></div><div style=\"background-color:rgb(152,0,67);height:20px;width:20px;margin-bottom:0px;display:inline-block;\"></div><div style=\"background-color:rgb(103,0,31);height:20px;width:20px;margin-bottom:0px;display:inline-block;\"></div></div><div style=\"display:inline-block;padding:10px;\"><div>purples</div><div style=\"background-color:rgb(252,251,253);height:20px;width:20px;margin-bottom:0px;display:inline-block;\"></div><div style=\"background-color:rgb(239,237,245);height:20px;width:20px;margin-bottom:0px;display:inline-block;\"></div><div style=\"background-color:rgb(218,218,235);height:20px;width:20px;margin-bottom:0px;display:inline-block;\"></div><div style=\"background-color:rgb(188,189,220);height:20px;width:20px;margin-bottom:0px;display:inline-block;\"></div><div style=\"background-color:rgb(158,154,200);height:20px;width:20px;margin-bottom:0px;display:inline-block;\"></div><div style=\"background-color:rgb(128,125,186);height:20px;width:20px;margin-bottom:0px;display:inline-block;\"></div><div style=\"background-color:rgb(106,81,163);height:20px;width:20px;margin-bottom:0px;display:inline-block;\"></div><div style=\"background-color:rgb(84,39,143);height:20px;width:20px;margin-bottom:0px;display:inline-block;\"></div><div style=\"background-color:rgb(63,0,125);height:20px;width:20px;margin-bottom:0px;display:inline-block;\"></div></div><div style=\"display:inline-block;padding:10px;\"><div>rdbu</div><div style=\"background-color:rgb(103,0,31);height:20px;width:20px;margin-bottom:0px;display:inline-block;\"></div><div style=\"background-color:rgb(178,24,43);height:20px;width:20px;margin-bottom:0px;display:inline-block;\"></div><div style=\"background-color:rgb(214,96,77);height:20px;width:20px;margin-bottom:0px;display:inline-block;\"></div><div style=\"background-color:rgb(244,165,130);height:20px;width:20px;margin-bottom:0px;display:inline-block;\"></div><div style=\"background-color:rgb(253,219,199);height:20px;width:20px;margin-bottom:0px;display:inline-block;\"></div><div style=\"background-color:rgb(247,247,247);height:20px;width:20px;margin-bottom:0px;display:inline-block;\"></div><div style=\"background-color:rgb(209,229,240);height:20px;width:20px;margin-bottom:0px;display:inline-block;\"></div><div style=\"background-color:rgb(146,197,222);height:20px;width:20px;margin-bottom:0px;display:inline-block;\"></div><div style=\"background-color:rgb(67,147,195);height:20px;width:20px;margin-bottom:0px;display:inline-block;\"></div><div style=\"background-color:rgb(33,102,172);height:20px;width:20px;margin-bottom:0px;display:inline-block;\"></div><div style=\"background-color:rgb(5,48,97);height:20px;width:20px;margin-bottom:0px;display:inline-block;\"></div></div><div style=\"display:inline-block;padding:10px;\"><div>rdgy</div><div style=\"background-color:rgb(103,0,31);height:20px;width:20px;margin-bottom:0px;display:inline-block;\"></div><div style=\"background-color:rgb(178,24,43);height:20px;width:20px;margin-bottom:0px;display:inline-block;\"></div><div style=\"background-color:rgb(214,96,77);height:20px;width:20px;margin-bottom:0px;display:inline-block;\"></div><div style=\"background-color:rgb(244,165,130);height:20px;width:20px;margin-bottom:0px;display:inline-block;\"></div><div style=\"background-color:rgb(253,219,199);height:20px;width:20px;margin-bottom:0px;display:inline-block;\"></div><div style=\"background-color:rgb(255,255,255);height:20px;width:20px;margin-bottom:0px;display:inline-block;\"></div><div style=\"background-color:rgb(224,224,224);height:20px;width:20px;margin-bottom:0px;display:inline-block;\"></div><div style=\"background-color:rgb(186,186,186);height:20px;width:20px;margin-bottom:0px;display:inline-block;\"></div><div style=\"background-color:rgb(135,135,135);height:20px;width:20px;margin-bottom:0px;display:inline-block;\"></div><div style=\"background-color:rgb(77,77,77);height:20px;width:20px;margin-bottom:0px;display:inline-block;\"></div><div style=\"background-color:rgb(26,26,26);height:20px;width:20px;margin-bottom:0px;display:inline-block;\"></div></div><div style=\"display:inline-block;padding:10px;\"><div>rdpu</div><div style=\"background-color:rgb(255,247,243);height:20px;width:20px;margin-bottom:0px;display:inline-block;\"></div><div style=\"background-color:rgb(253,224,221);height:20px;width:20px;margin-bottom:0px;display:inline-block;\"></div><div style=\"background-color:rgb(252,197,192);height:20px;width:20px;margin-bottom:0px;display:inline-block;\"></div><div style=\"background-color:rgb(250,159,181);height:20px;width:20px;margin-bottom:0px;display:inline-block;\"></div><div style=\"background-color:rgb(247,104,161);height:20px;width:20px;margin-bottom:0px;display:inline-block;\"></div><div style=\"background-color:rgb(221,52,151);height:20px;width:20px;margin-bottom:0px;display:inline-block;\"></div><div style=\"background-color:rgb(174,1,126);height:20px;width:20px;margin-bottom:0px;display:inline-block;\"></div><div style=\"background-color:rgb(122,1,119);height:20px;width:20px;margin-bottom:0px;display:inline-block;\"></div><div style=\"background-color:rgb(73,0,106);height:20px;width:20px;margin-bottom:0px;display:inline-block;\"></div></div><div style=\"display:inline-block;padding:10px;\"><div>rdylbu</div><div style=\"background-color:rgb(165,0,38);height:20px;width:20px;margin-bottom:0px;display:inline-block;\"></div><div style=\"background-color:rgb(215,48,39);height:20px;width:20px;margin-bottom:0px;display:inline-block;\"></div><div style=\"background-color:rgb(244,109,67);height:20px;width:20px;margin-bottom:0px;display:inline-block;\"></div><div style=\"background-color:rgb(253,174,97);height:20px;width:20px;margin-bottom:0px;display:inline-block;\"></div><div style=\"background-color:rgb(254,224,144);height:20px;width:20px;margin-bottom:0px;display:inline-block;\"></div><div style=\"background-color:rgb(255,255,191);height:20px;width:20px;margin-bottom:0px;display:inline-block;\"></div><div style=\"background-color:rgb(224,243,248);height:20px;width:20px;margin-bottom:0px;display:inline-block;\"></div><div style=\"background-color:rgb(171,217,233);height:20px;width:20px;margin-bottom:0px;display:inline-block;\"></div><div style=\"background-color:rgb(116,173,209);height:20px;width:20px;margin-bottom:0px;display:inline-block;\"></div><div style=\"background-color:rgb(69,117,180);height:20px;width:20px;margin-bottom:0px;display:inline-block;\"></div><div style=\"background-color:rgb(49,54,149);height:20px;width:20px;margin-bottom:0px;display:inline-block;\"></div></div><div style=\"display:inline-block;padding:10px;\"><div>rdylgn</div><div style=\"background-color:rgb(165,0,38);height:20px;width:20px;margin-bottom:0px;display:inline-block;\"></div><div style=\"background-color:rgb(215,48,39);height:20px;width:20px;margin-bottom:0px;display:inline-block;\"></div><div style=\"background-color:rgb(244,109,67);height:20px;width:20px;margin-bottom:0px;display:inline-block;\"></div><div style=\"background-color:rgb(253,174,97);height:20px;width:20px;margin-bottom:0px;display:inline-block;\"></div><div style=\"background-color:rgb(254,224,139);height:20px;width:20px;margin-bottom:0px;display:inline-block;\"></div><div style=\"background-color:rgb(255,255,191);height:20px;width:20px;margin-bottom:0px;display:inline-block;\"></div><div style=\"background-color:rgb(217,239,139);height:20px;width:20px;margin-bottom:0px;display:inline-block;\"></div><div style=\"background-color:rgb(166,217,106);height:20px;width:20px;margin-bottom:0px;display:inline-block;\"></div><div style=\"background-color:rgb(102,189,99);height:20px;width:20px;margin-bottom:0px;display:inline-block;\"></div><div style=\"background-color:rgb(26,152,80);height:20px;width:20px;margin-bottom:0px;display:inline-block;\"></div><div style=\"background-color:rgb(0,104,55);height:20px;width:20px;margin-bottom:0px;display:inline-block;\"></div></div><div style=\"display:inline-block;padding:10px;\"><div>reds</div><div style=\"background-color:rgb(255,245,240);height:20px;width:20px;margin-bottom:0px;display:inline-block;\"></div><div style=\"background-color:rgb(254,224,210);height:20px;width:20px;margin-bottom:0px;display:inline-block;\"></div><div style=\"background-color:rgb(252,187,161);height:20px;width:20px;margin-bottom:0px;display:inline-block;\"></div><div style=\"background-color:rgb(252,146,114);height:20px;width:20px;margin-bottom:0px;display:inline-block;\"></div><div style=\"background-color:rgb(251,106,74);height:20px;width:20px;margin-bottom:0px;display:inline-block;\"></div><div style=\"background-color:rgb(239,59,44);height:20px;width:20px;margin-bottom:0px;display:inline-block;\"></div><div style=\"background-color:rgb(203,24,29);height:20px;width:20px;margin-bottom:0px;display:inline-block;\"></div><div style=\"background-color:rgb(165,15,21);height:20px;width:20px;margin-bottom:0px;display:inline-block;\"></div><div style=\"background-color:rgb(103,0,13);height:20px;width:20px;margin-bottom:0px;display:inline-block;\"></div></div><div style=\"display:inline-block;padding:10px;\"><div>set1</div><div style=\"background-color:rgb(228,26,28);height:20px;width:20px;margin-bottom:0px;display:inline-block;\"></div><div style=\"background-color:rgb(55,126,184);height:20px;width:20px;margin-bottom:0px;display:inline-block;\"></div><div style=\"background-color:rgb(77,175,74);height:20px;width:20px;margin-bottom:0px;display:inline-block;\"></div><div style=\"background-color:rgb(152,78,163);height:20px;width:20px;margin-bottom:0px;display:inline-block;\"></div><div style=\"background-color:rgb(255,127,0);height:20px;width:20px;margin-bottom:0px;display:inline-block;\"></div><div style=\"background-color:rgb(255,255,51);height:20px;width:20px;margin-bottom:0px;display:inline-block;\"></div><div style=\"background-color:rgb(166,86,40);height:20px;width:20px;margin-bottom:0px;display:inline-block;\"></div><div style=\"background-color:rgb(247,129,191);height:20px;width:20px;margin-bottom:0px;display:inline-block;\"></div><div style=\"background-color:rgb(153,153,153);height:20px;width:20px;margin-bottom:0px;display:inline-block;\"></div></div><div style=\"display:inline-block;padding:10px;\"><div>set2</div><div style=\"background-color:rgb(102,194,165);height:20px;width:20px;margin-bottom:0px;display:inline-block;\"></div><div style=\"background-color:rgb(252,141,98);height:20px;width:20px;margin-bottom:0px;display:inline-block;\"></div><div style=\"background-color:rgb(141,160,203);height:20px;width:20px;margin-bottom:0px;display:inline-block;\"></div><div style=\"background-color:rgb(231,138,195);height:20px;width:20px;margin-bottom:0px;display:inline-block;\"></div><div style=\"background-color:rgb(166,216,84);height:20px;width:20px;margin-bottom:0px;display:inline-block;\"></div><div style=\"background-color:rgb(255,217,47);height:20px;width:20px;margin-bottom:0px;display:inline-block;\"></div><div style=\"background-color:rgb(229,196,148);height:20px;width:20px;margin-bottom:0px;display:inline-block;\"></div><div style=\"background-color:rgb(179,179,179);height:20px;width:20px;margin-bottom:0px;display:inline-block;\"></div></div><div style=\"display:inline-block;padding:10px;\"><div>set3</div><div style=\"background-color:rgb(141,211,199);height:20px;width:20px;margin-bottom:0px;display:inline-block;\"></div><div style=\"background-color:rgb(255,255,179);height:20px;width:20px;margin-bottom:0px;display:inline-block;\"></div><div style=\"background-color:rgb(190,186,218);height:20px;width:20px;margin-bottom:0px;display:inline-block;\"></div><div style=\"background-color:rgb(251,128,114);height:20px;width:20px;margin-bottom:0px;display:inline-block;\"></div><div style=\"background-color:rgb(128,177,211);height:20px;width:20px;margin-bottom:0px;display:inline-block;\"></div><div style=\"background-color:rgb(253,180,98);height:20px;width:20px;margin-bottom:0px;display:inline-block;\"></div><div style=\"background-color:rgb(179,222,105);height:20px;width:20px;margin-bottom:0px;display:inline-block;\"></div><div style=\"background-color:rgb(252,205,229);height:20px;width:20px;margin-bottom:0px;display:inline-block;\"></div><div style=\"background-color:rgb(217,217,217);height:20px;width:20px;margin-bottom:0px;display:inline-block;\"></div><div style=\"background-color:rgb(188,128,189);height:20px;width:20px;margin-bottom:0px;display:inline-block;\"></div><div style=\"background-color:rgb(204,235,197);height:20px;width:20px;margin-bottom:0px;display:inline-block;\"></div><div style=\"background-color:rgb(255,237,111);height:20px;width:20px;margin-bottom:0px;display:inline-block;\"></div></div><div style=\"display:inline-block;padding:10px;\"><div>spectral</div><div style=\"background-color:rgb(158,1,66);height:20px;width:20px;margin-bottom:0px;display:inline-block;\"></div><div style=\"background-color:rgb(213,62,79);height:20px;width:20px;margin-bottom:0px;display:inline-block;\"></div><div style=\"background-color:rgb(244,109,67);height:20px;width:20px;margin-bottom:0px;display:inline-block;\"></div><div style=\"background-color:rgb(253,174,97);height:20px;width:20px;margin-bottom:0px;display:inline-block;\"></div><div style=\"background-color:rgb(254,224,139);height:20px;width:20px;margin-bottom:0px;display:inline-block;\"></div><div style=\"background-color:rgb(255,255,191);height:20px;width:20px;margin-bottom:0px;display:inline-block;\"></div><div style=\"background-color:rgb(230,245,152);height:20px;width:20px;margin-bottom:0px;display:inline-block;\"></div><div style=\"background-color:rgb(171,221,164);height:20px;width:20px;margin-bottom:0px;display:inline-block;\"></div><div style=\"background-color:rgb(102,194,165);height:20px;width:20px;margin-bottom:0px;display:inline-block;\"></div><div style=\"background-color:rgb(50,136,189);height:20px;width:20px;margin-bottom:0px;display:inline-block;\"></div><div style=\"background-color:rgb(94,79,162);height:20px;width:20px;margin-bottom:0px;display:inline-block;\"></div></div><div style=\"display:inline-block;padding:10px;\"><div>ylgn</div><div style=\"background-color:rgb(255,255,229);height:20px;width:20px;margin-bottom:0px;display:inline-block;\"></div><div style=\"background-color:rgb(247,252,185);height:20px;width:20px;margin-bottom:0px;display:inline-block;\"></div><div style=\"background-color:rgb(217,240,163);height:20px;width:20px;margin-bottom:0px;display:inline-block;\"></div><div style=\"background-color:rgb(173,221,142);height:20px;width:20px;margin-bottom:0px;display:inline-block;\"></div><div style=\"background-color:rgb(120,198,121);height:20px;width:20px;margin-bottom:0px;display:inline-block;\"></div><div style=\"background-color:rgb(65,171,93);height:20px;width:20px;margin-bottom:0px;display:inline-block;\"></div><div style=\"background-color:rgb(35,132,67);height:20px;width:20px;margin-bottom:0px;display:inline-block;\"></div><div style=\"background-color:rgb(0,104,55);height:20px;width:20px;margin-bottom:0px;display:inline-block;\"></div><div style=\"background-color:rgb(0,69,41);height:20px;width:20px;margin-bottom:0px;display:inline-block;\"></div></div><div style=\"display:inline-block;padding:10px;\"><div>ylgnbu</div><div style=\"background-color:rgb(255,255,217);height:20px;width:20px;margin-bottom:0px;display:inline-block;\"></div><div style=\"background-color:rgb(237,248,177);height:20px;width:20px;margin-bottom:0px;display:inline-block;\"></div><div style=\"background-color:rgb(199,233,180);height:20px;width:20px;margin-bottom:0px;display:inline-block;\"></div><div style=\"background-color:rgb(127,205,187);height:20px;width:20px;margin-bottom:0px;display:inline-block;\"></div><div style=\"background-color:rgb(65,182,196);height:20px;width:20px;margin-bottom:0px;display:inline-block;\"></div><div style=\"background-color:rgb(29,145,192);height:20px;width:20px;margin-bottom:0px;display:inline-block;\"></div><div style=\"background-color:rgb(34,94,168);height:20px;width:20px;margin-bottom:0px;display:inline-block;\"></div><div style=\"background-color:rgb(37,52,148);height:20px;width:20px;margin-bottom:0px;display:inline-block;\"></div><div style=\"background-color:rgb(8,29,88);height:20px;width:20px;margin-bottom:0px;display:inline-block;\"></div></div><div style=\"display:inline-block;padding:10px;\"><div>ylorbr</div><div style=\"background-color:rgb(255,255,229);height:20px;width:20px;margin-bottom:0px;display:inline-block;\"></div><div style=\"background-color:rgb(255,247,188);height:20px;width:20px;margin-bottom:0px;display:inline-block;\"></div><div style=\"background-color:rgb(254,227,145);height:20px;width:20px;margin-bottom:0px;display:inline-block;\"></div><div style=\"background-color:rgb(254,196,79);height:20px;width:20px;margin-bottom:0px;display:inline-block;\"></div><div style=\"background-color:rgb(254,153,41);height:20px;width:20px;margin-bottom:0px;display:inline-block;\"></div><div style=\"background-color:rgb(236,112,20);height:20px;width:20px;margin-bottom:0px;display:inline-block;\"></div><div style=\"background-color:rgb(204,76,2);height:20px;width:20px;margin-bottom:0px;display:inline-block;\"></div><div style=\"background-color:rgb(153,52,4);height:20px;width:20px;margin-bottom:0px;display:inline-block;\"></div><div style=\"background-color:rgb(102,37,6);height:20px;width:20px;margin-bottom:0px;display:inline-block;\"></div></div><div style=\"display:inline-block;padding:10px;\"><div>ylorrd</div><div style=\"background-color:rgb(255,255,204);height:20px;width:20px;margin-bottom:0px;display:inline-block;\"></div><div style=\"background-color:rgb(255,237,160);height:20px;width:20px;margin-bottom:0px;display:inline-block;\"></div><div style=\"background-color:rgb(254,217,118);height:20px;width:20px;margin-bottom:0px;display:inline-block;\"></div><div style=\"background-color:rgb(254,178,76);height:20px;width:20px;margin-bottom:0px;display:inline-block;\"></div><div style=\"background-color:rgb(253,141,60);height:20px;width:20px;margin-bottom:0px;display:inline-block;\"></div><div style=\"background-color:rgb(252,78,42);height:20px;width:20px;margin-bottom:0px;display:inline-block;\"></div><div style=\"background-color:rgb(227,26,28);height:20px;width:20px;margin-bottom:0px;display:inline-block;\"></div><div style=\"background-color:rgb(189,0,38);height:20px;width:20px;margin-bottom:0px;display:inline-block;\"></div><div style=\"background-color:rgb(128,0,38);height:20px;width:20px;margin-bottom:0px;display:inline-block;\"></div></div>"
      ],
      "text/plain": [
       "<IPython.core.display.HTML object>"
      ]
     },
     "metadata": {},
     "output_type": "display_data"
    }
   ],
   "source": [
    "cf.colors.scales() # Method to see the Color Scheme in Cufflinks"
   ]
  },
  {
   "cell_type": "code",
   "execution_count": 68,
   "metadata": {},
   "outputs": [
    {
     "data": {
      "application/vnd.plotly.v1+json": {
       "config": {
        "linkText": "Export to plot.ly",
        "plotlyServerURL": "https://plot.ly",
        "showLink": true
       },
       "data": [
        {
         "histfunc": "count",
         "histnorm": "",
         "marker": {
          "color": "rgba(255, 153, 51, 1.0)",
          "line": {
           "color": "#4D5663",
           "width": 1.3
          }
         },
         "name": "A",
         "nbinsx": 10,
         "opacity": 0.8,
         "orientation": "v",
         "type": "histogram",
         "x": [
          -1.7328184700099154,
          -0.6655392531642427,
          -0.5141887381353419,
          -0.5307819801565642,
          -1.118698345400647,
          -0.015307381413286457,
          -1.4557398829714918,
          0.8591588400819069,
          -0.26492340869200365,
          0.4967984376875904,
          0.04182940727328566,
          -1.7386011275388331,
          0.6969431444672501,
          -0.052871581583919115,
          -1.6601792523085324,
          0.05748666839097407,
          0.1837621355327402,
          1.4962874424816663,
          -0.6205832412165161,
          0.1520623253012091,
          -0.0038386316317565086,
          0.5512624161773946,
          0.2036636174075826,
          -1.52475862710216,
          0.9236883896430348,
          2.046445624318661,
          -1.6928966996502095,
          -0.49450683165912346,
          -0.32097571153166865,
          0.18429648757950035,
          0.9590315555760798,
          0.24518063014786312,
          1.1035536863820947,
          -0.4262789193890452,
          0.38796398237909235,
          0.06095890635811224,
          -0.12080953360031857,
          0.720045065572963,
          1.1384712663936534,
          0.91631532775539,
          -1.3971319160459976,
          0.15533512015255674,
          -0.24322476528350576,
          -1.876186615785088,
          1.3283670094396747,
          1.4762463769813379,
          -0.0720559521924466,
          0.7329609025539923,
          -0.6413826991069103,
          0.12982126874312913,
          1.518939354007646,
          -1.1545144296807108,
          0.1470207356938776,
          -0.6908031760314431,
          -0.055941386298454326,
          1.3156460053880759,
          0.619892489089758,
          0.6088290563295004,
          -0.5374672551116969,
          -0.6880550583755078,
          0.7168531852731158,
          0.007647487232779944,
          2.211320735120686,
          0.6438165866259979,
          -1.0666772238124416,
          1.1185433129275277,
          -1.7299998201445086,
          -0.25975599587783443,
          0.4226172574698807,
          0.3941769709373833,
          0.5160961375330596,
          1.81819966745681,
          0.7991786252320352,
          1.046987568805078,
          -1.128395723062902,
          1.7936925593507211,
          -0.5149323886783681,
          -0.9802210244604053,
          0.2019466283016788,
          0.5362430245906857,
          -1.8460225900728473,
          1.1210128548791507,
          0.4428581166140847,
          -0.3971102158075737,
          1.0099720456684251,
          0.04323912485309805,
          0.16186786619863405,
          -0.8532924235905249,
          0.5683047812022923,
          -0.7182340782336945,
          -0.33714320289360633,
          1.6558347652323795,
          0.4051329252254166,
          0.7723889649324748,
          0.9858257378129331,
          0.3393662311036916,
          1.251335110862688,
          -0.8894527872587709,
          0.022788498965433734,
          0.1529745603304253
         ],
         "xaxis": "x",
         "yaxis": "y"
        },
        {
         "line": {
          "color": "rgba(128, 128, 128, 1.0)",
          "dash": "solid",
          "shape": "linear",
          "width": 1.3
         },
         "marker": {
          "size": 2,
          "symbol": "circle"
         },
         "mode": "markers",
         "name": "A",
         "text": "",
         "type": "scatter",
         "x": [
          -0.5737945545380813,
          1.10681733267001,
          -0.8642735138565506,
          0.5403727191652674,
          1.3446585111575515,
          0.9707770371986021,
          -0.4758158228346009,
          -1.7206476733987262,
          -0.5213925667074699,
          -1.3160304741085156,
          1.7139340392948705,
          -1.081772196858882,
          0.6852193539140005,
          0.2357121945272125,
          -0.21621060736553435,
          -1.16561783610473,
          -0.7160992151206331,
          -0.7963619994131266,
          -5.734197369323232e-05,
          0.4121475843934423,
          -0.5346345063636659,
          0.9800828890027675,
          -0.17355190502161186,
          0.50663665254452,
          -0.9743640840943804,
          2.4442193260237777,
          -1.5127481904255589,
          -0.4463273169784612,
          0.2863886544997744,
          -2.6366488568868967,
          0.3399990001282703,
          -0.4238775381884636,
          0.09553159887378632,
          0.030443516590440534,
          -0.117465978296997,
          0.5680994389852261,
          0.8986361709059272,
          0.05807554994885092,
          -0.573788376859282,
          0.07770170114819182,
          -0.1532975170574101,
          -1.7259334090059024,
          1.9288714395457591,
          -0.5540020564911894,
          0.7437781696058638,
          0.09207992430893966,
          -0.09103602463885366,
          0.4550902656062467,
          -1.049078831656769,
          0.39971184330269044,
          1.8580764136015517,
          1.530549476657037,
          -1.550731195712601,
          -1.7384459910819856,
          -0.9078249514952067,
          -0.5390811901792363,
          2.0245770702001114,
          0.060145825037109524,
          0.19512977367730458,
          -0.906664515766312,
          -0.4579375421367402,
          1.5950732986077922,
          -0.06095303450437194,
          -0.7050404940898929,
          -0.7948447032770758,
          -0.5673176973672968,
          -1.2621608935191002,
          -0.6700539341340684,
          0.5446324881912484,
          -0.872920736801528,
          -0.917874519634289,
          -1.4537221534915523,
          0.16881163940843347,
          0.20088757260669715,
          0.18290911610110255,
          -1.476238336965387,
          -0.5561300294068415,
          -0.36454287791069184,
          -0.06220468912964303,
          -0.9794835695449904,
          1.9058757707845015,
          0.09730984282951217,
          0.974860478095882,
          -0.13908650831671687,
          0.7492916762415887,
          -0.5509520407165336,
          -0.6638932817154232,
          -0.08468534082475872,
          0.032786764332160115,
          -0.13758137168049833,
          1.0497203019324426,
          0.5940635515384379,
          -0.3397995017727589,
          0.2857793266688294,
          0.8331357511706957,
          0.24054536988523556,
          -0.6609910622382077,
          -1.015298446375443,
          0.7385713900137486,
          -0.43492175701388197
         ],
         "xaxis": "x2",
         "y": [
          -1.7328184700099154,
          -0.6655392531642427,
          -0.5141887381353419,
          -0.5307819801565642,
          -1.118698345400647,
          -0.015307381413286457,
          -1.4557398829714918,
          0.8591588400819069,
          -0.26492340869200365,
          0.4967984376875904,
          0.04182940727328566,
          -1.7386011275388331,
          0.6969431444672501,
          -0.052871581583919115,
          -1.6601792523085324,
          0.05748666839097407,
          0.1837621355327402,
          1.4962874424816663,
          -0.6205832412165161,
          0.1520623253012091,
          -0.0038386316317565086,
          0.5512624161773946,
          0.2036636174075826,
          -1.52475862710216,
          0.9236883896430348,
          2.046445624318661,
          -1.6928966996502095,
          -0.49450683165912346,
          -0.32097571153166865,
          0.18429648757950035,
          0.9590315555760798,
          0.24518063014786312,
          1.1035536863820947,
          -0.4262789193890452,
          0.38796398237909235,
          0.06095890635811224,
          -0.12080953360031857,
          0.720045065572963,
          1.1384712663936534,
          0.91631532775539,
          -1.3971319160459976,
          0.15533512015255674,
          -0.24322476528350576,
          -1.876186615785088,
          1.3283670094396747,
          1.4762463769813379,
          -0.0720559521924466,
          0.7329609025539923,
          -0.6413826991069103,
          0.12982126874312913,
          1.518939354007646,
          -1.1545144296807108,
          0.1470207356938776,
          -0.6908031760314431,
          -0.055941386298454326,
          1.3156460053880759,
          0.619892489089758,
          0.6088290563295004,
          -0.5374672551116969,
          -0.6880550583755078,
          0.7168531852731158,
          0.007647487232779944,
          2.211320735120686,
          0.6438165866259979,
          -1.0666772238124416,
          1.1185433129275277,
          -1.7299998201445086,
          -0.25975599587783443,
          0.4226172574698807,
          0.3941769709373833,
          0.5160961375330596,
          1.81819966745681,
          0.7991786252320352,
          1.046987568805078,
          -1.128395723062902,
          1.7936925593507211,
          -0.5149323886783681,
          -0.9802210244604053,
          0.2019466283016788,
          0.5362430245906857,
          -1.8460225900728473,
          1.1210128548791507,
          0.4428581166140847,
          -0.3971102158075737,
          1.0099720456684251,
          0.04323912485309805,
          0.16186786619863405,
          -0.8532924235905249,
          0.5683047812022923,
          -0.7182340782336945,
          -0.33714320289360633,
          1.6558347652323795,
          0.4051329252254166,
          0.7723889649324748,
          0.9858257378129331,
          0.3393662311036916,
          1.251335110862688,
          -0.8894527872587709,
          0.022788498965433734,
          0.1529745603304253
         ],
         "yaxis": "y2"
        },
        {
         "line": {
          "color": "rgba(128, 128, 128, 1.0)",
          "dash": "solid",
          "shape": "linear",
          "width": 1.3
         },
         "marker": {
          "size": 2,
          "symbol": "circle"
         },
         "mode": "markers",
         "name": "A",
         "text": "",
         "type": "scatter",
         "x": [
          -2.5143134923113903,
          -0.6509188072601796,
          -1.0929806376167406,
          -2.608523012686631,
          -0.6515439074095098,
          -0.0333064701190502,
          0.7606633089063881,
          0.4128709184030706,
          -0.6631434605605585,
          0.9383284809663233,
          -0.640923939094296,
          -1.451322224393623,
          -0.32452068357876357,
          0.8560062510029888,
          0.04874730079016477,
          -0.6502876099939146,
          2.0300873604999925,
          1.588622467301215,
          -0.02098210969456584,
          -0.5386063210027243,
          0.3939456041421512,
          0.5400582082029005,
          1.2029381600400066,
          -1.599263794059734,
          0.10677637474981985,
          1.5243359839917698,
          -0.5531122529989283,
          0.0018013257277539978,
          0.007243731819215415,
          0.3223473198321976,
          -1.0040855072140582,
          -0.5579320573624444,
          1.0706742691410756,
          -0.6889035466203947,
          0.2530161671325349,
          -1.743532298622672,
          -0.36352469284064715,
          1.0313892282054828,
          -0.3987531022294804,
          -0.1400567640821582,
          0.30414057790022453,
          -0.36640897480614737,
          -0.21419913181904907,
          1.241243088420183,
          -0.6739876378558262,
          0.07389182612537284,
          -0.03224726111307327,
          1.1194329765894249,
          -0.6761821835514656,
          -1.6134368534742802,
          -0.41960299481596236,
          -0.19060574059427185,
          -0.11993860090379943,
          0.31521309072533965,
          -2.021558231845061,
          -0.21644300192401225,
          -1.6877313200922548,
          -1.8076751235857098,
          -1.3852283577275846,
          -0.6661149941134256,
          1.0063768444171797,
          1.359618305861139,
          -1.469018277477196,
          -0.6577234211061695,
          -1.3683531470706467,
          -1.8237598616040247,
          0.41753443738107054,
          -1.1526259185288221,
          -1.4323469934265356,
          -0.8830593669489718,
          1.8431546945645012,
          -0.3625854899437133,
          0.7694279154705537,
          0.08941362971901017,
          1.4660643585433049,
          0.06829484146577768,
          -0.8511623078027825,
          -1.384913582089352,
          -1.1378261979375641,
          0.38386522671538453,
          -1.2932844941271617,
          0.7647470295737824,
          0.2632165909128464,
          1.2568833608738816,
          1.2665194060352905,
          -1.760462544297134,
          -0.38007233523979733,
          -2.2853515965367737,
          0.26537879693495575,
          -0.29996880981165763,
          -0.11434376808773915,
          0.6228937735392496,
          -0.22652070309699104,
          -1.3926389582870053,
          -0.21170574994847616,
          -1.0759943427876493,
          0.5140215484688332,
          0.19608037262269554,
          -2.171579893652071,
          -0.7156074544641537
         ],
         "xaxis": "x3",
         "y": [
          -1.7328184700099154,
          -0.6655392531642427,
          -0.5141887381353419,
          -0.5307819801565642,
          -1.118698345400647,
          -0.015307381413286457,
          -1.4557398829714918,
          0.8591588400819069,
          -0.26492340869200365,
          0.4967984376875904,
          0.04182940727328566,
          -1.7386011275388331,
          0.6969431444672501,
          -0.052871581583919115,
          -1.6601792523085324,
          0.05748666839097407,
          0.1837621355327402,
          1.4962874424816663,
          -0.6205832412165161,
          0.1520623253012091,
          -0.0038386316317565086,
          0.5512624161773946,
          0.2036636174075826,
          -1.52475862710216,
          0.9236883896430348,
          2.046445624318661,
          -1.6928966996502095,
          -0.49450683165912346,
          -0.32097571153166865,
          0.18429648757950035,
          0.9590315555760798,
          0.24518063014786312,
          1.1035536863820947,
          -0.4262789193890452,
          0.38796398237909235,
          0.06095890635811224,
          -0.12080953360031857,
          0.720045065572963,
          1.1384712663936534,
          0.91631532775539,
          -1.3971319160459976,
          0.15533512015255674,
          -0.24322476528350576,
          -1.876186615785088,
          1.3283670094396747,
          1.4762463769813379,
          -0.0720559521924466,
          0.7329609025539923,
          -0.6413826991069103,
          0.12982126874312913,
          1.518939354007646,
          -1.1545144296807108,
          0.1470207356938776,
          -0.6908031760314431,
          -0.055941386298454326,
          1.3156460053880759,
          0.619892489089758,
          0.6088290563295004,
          -0.5374672551116969,
          -0.6880550583755078,
          0.7168531852731158,
          0.007647487232779944,
          2.211320735120686,
          0.6438165866259979,
          -1.0666772238124416,
          1.1185433129275277,
          -1.7299998201445086,
          -0.25975599587783443,
          0.4226172574698807,
          0.3941769709373833,
          0.5160961375330596,
          1.81819966745681,
          0.7991786252320352,
          1.046987568805078,
          -1.128395723062902,
          1.7936925593507211,
          -0.5149323886783681,
          -0.9802210244604053,
          0.2019466283016788,
          0.5362430245906857,
          -1.8460225900728473,
          1.1210128548791507,
          0.4428581166140847,
          -0.3971102158075737,
          1.0099720456684251,
          0.04323912485309805,
          0.16186786619863405,
          -0.8532924235905249,
          0.5683047812022923,
          -0.7182340782336945,
          -0.33714320289360633,
          1.6558347652323795,
          0.4051329252254166,
          0.7723889649324748,
          0.9858257378129331,
          0.3393662311036916,
          1.251335110862688,
          -0.8894527872587709,
          0.022788498965433734,
          0.1529745603304253
         ],
         "yaxis": "y3"
        },
        {
         "line": {
          "color": "rgba(128, 128, 128, 1.0)",
          "dash": "solid",
          "shape": "linear",
          "width": 1.3
         },
         "marker": {
          "size": 2,
          "symbol": "circle"
         },
         "mode": "markers",
         "name": "A",
         "text": "",
         "type": "scatter",
         "x": [
          0.2635037826051746,
          -2.239900668127504,
          0.6287513844324132,
          -2.1948221717203333,
          0.6432799029201886,
          1.209932206786237,
          -2.3545318574450134,
          1.0745305466796755,
          -0.49275888145241564,
          -0.6669718697162098,
          0.655200056418349,
          1.5182651759676702,
          -1.5989561766263891,
          -0.5436935447528642,
          0.1531899904145127,
          -1.253636332403664,
          1.1026176291994954,
          0.12708566121369286,
          -0.8535306920291047,
          -1.0248348769183893,
          -0.6045196815864822,
          -0.3953328860122542,
          0.12003883366812776,
          0.5953865334820625,
          -0.06212991230184508,
          1.452689162912124,
          0.4406880123087512,
          -1.613173683413528,
          0.7772003829979456,
          -1.5631590743611659,
          1.1444928651886228,
          -1.3607397426450984,
          0.3505686485630722,
          0.6601026213592619,
          0.553392942363766,
          -0.23098918344720173,
          0.8311318198942066,
          -0.08201430903256268,
          0.2824545751892871,
          -0.03172367883037509,
          0.3743088818050335,
          0.5397953798154068,
          -1.2004762068784165,
          0.2968361571745551,
          0.14457907383222568,
          -0.5028088116733017,
          0.5961255166425773,
          -1.7844469407248074,
          -2.496330914118227,
          -1.0261280768372907,
          1.9368714651311647,
          -0.3674146748731469,
          1.799442623225765,
          0.2755359292972475,
          -0.14710677085185983,
          -0.687086704638258,
          0.1999909696944079,
          0.05105367380417333,
          -1.6961422920296267,
          1.3147773687954898,
          0.995116497484058,
          -0.8658822037081225,
          -0.004408572653071275,
          -1.4414798499456125,
          -0.5405079236279586,
          -0.533085208042458,
          1.0943498426037666,
          -1.282138908622184,
          -0.6725787172001605,
          0.43632191387047947,
          1.8237296763666204,
          -1.7046840650369615,
          -0.860871824186915,
          1.4634316445135658,
          0.39371432565306586,
          -0.6469203777739958,
          -0.8556891941805826,
          -0.3353507357876152,
          0.8028157715863787,
          -0.1639592906043109,
          -0.44702553786145677,
          -0.38310852317831606,
          -0.4570542510733638,
          1.0845518642914551,
          0.5169438264391508,
          -0.5641824896873722,
          0.8100973323193629,
          2.3351595477119416,
          -2.111058499254949,
          0.5262861952143004,
          -0.853625275955298,
          -0.9682396772350652,
          -0.7774006438523732,
          -2.5104955678597096,
          0.3598120367191213,
          -0.25608224070565877,
          0.006413200965211256,
          0.0524766666787389,
          0.3074201403453346,
          0.12702927894046318
         ],
         "xaxis": "x4",
         "y": [
          -1.7328184700099154,
          -0.6655392531642427,
          -0.5141887381353419,
          -0.5307819801565642,
          -1.118698345400647,
          -0.015307381413286457,
          -1.4557398829714918,
          0.8591588400819069,
          -0.26492340869200365,
          0.4967984376875904,
          0.04182940727328566,
          -1.7386011275388331,
          0.6969431444672501,
          -0.052871581583919115,
          -1.6601792523085324,
          0.05748666839097407,
          0.1837621355327402,
          1.4962874424816663,
          -0.6205832412165161,
          0.1520623253012091,
          -0.0038386316317565086,
          0.5512624161773946,
          0.2036636174075826,
          -1.52475862710216,
          0.9236883896430348,
          2.046445624318661,
          -1.6928966996502095,
          -0.49450683165912346,
          -0.32097571153166865,
          0.18429648757950035,
          0.9590315555760798,
          0.24518063014786312,
          1.1035536863820947,
          -0.4262789193890452,
          0.38796398237909235,
          0.06095890635811224,
          -0.12080953360031857,
          0.720045065572963,
          1.1384712663936534,
          0.91631532775539,
          -1.3971319160459976,
          0.15533512015255674,
          -0.24322476528350576,
          -1.876186615785088,
          1.3283670094396747,
          1.4762463769813379,
          -0.0720559521924466,
          0.7329609025539923,
          -0.6413826991069103,
          0.12982126874312913,
          1.518939354007646,
          -1.1545144296807108,
          0.1470207356938776,
          -0.6908031760314431,
          -0.055941386298454326,
          1.3156460053880759,
          0.619892489089758,
          0.6088290563295004,
          -0.5374672551116969,
          -0.6880550583755078,
          0.7168531852731158,
          0.007647487232779944,
          2.211320735120686,
          0.6438165866259979,
          -1.0666772238124416,
          1.1185433129275277,
          -1.7299998201445086,
          -0.25975599587783443,
          0.4226172574698807,
          0.3941769709373833,
          0.5160961375330596,
          1.81819966745681,
          0.7991786252320352,
          1.046987568805078,
          -1.128395723062902,
          1.7936925593507211,
          -0.5149323886783681,
          -0.9802210244604053,
          0.2019466283016788,
          0.5362430245906857,
          -1.8460225900728473,
          1.1210128548791507,
          0.4428581166140847,
          -0.3971102158075737,
          1.0099720456684251,
          0.04323912485309805,
          0.16186786619863405,
          -0.8532924235905249,
          0.5683047812022923,
          -0.7182340782336945,
          -0.33714320289360633,
          1.6558347652323795,
          0.4051329252254166,
          0.7723889649324748,
          0.9858257378129331,
          0.3393662311036916,
          1.251335110862688,
          -0.8894527872587709,
          0.022788498965433734,
          0.1529745603304253
         ],
         "yaxis": "y4"
        },
        {
         "line": {
          "color": "rgba(128, 128, 128, 1.0)",
          "dash": "solid",
          "shape": "linear",
          "width": 1.3
         },
         "marker": {
          "size": 2,
          "symbol": "circle"
         },
         "mode": "markers",
         "name": "B",
         "text": "",
         "type": "scatter",
         "x": [
          -1.7328184700099154,
          -0.6655392531642427,
          -0.5141887381353419,
          -0.5307819801565642,
          -1.118698345400647,
          -0.015307381413286457,
          -1.4557398829714918,
          0.8591588400819069,
          -0.26492340869200365,
          0.4967984376875904,
          0.04182940727328566,
          -1.7386011275388331,
          0.6969431444672501,
          -0.052871581583919115,
          -1.6601792523085324,
          0.05748666839097407,
          0.1837621355327402,
          1.4962874424816663,
          -0.6205832412165161,
          0.1520623253012091,
          -0.0038386316317565086,
          0.5512624161773946,
          0.2036636174075826,
          -1.52475862710216,
          0.9236883896430348,
          2.046445624318661,
          -1.6928966996502095,
          -0.49450683165912346,
          -0.32097571153166865,
          0.18429648757950035,
          0.9590315555760798,
          0.24518063014786312,
          1.1035536863820947,
          -0.4262789193890452,
          0.38796398237909235,
          0.06095890635811224,
          -0.12080953360031857,
          0.720045065572963,
          1.1384712663936534,
          0.91631532775539,
          -1.3971319160459976,
          0.15533512015255674,
          -0.24322476528350576,
          -1.876186615785088,
          1.3283670094396747,
          1.4762463769813379,
          -0.0720559521924466,
          0.7329609025539923,
          -0.6413826991069103,
          0.12982126874312913,
          1.518939354007646,
          -1.1545144296807108,
          0.1470207356938776,
          -0.6908031760314431,
          -0.055941386298454326,
          1.3156460053880759,
          0.619892489089758,
          0.6088290563295004,
          -0.5374672551116969,
          -0.6880550583755078,
          0.7168531852731158,
          0.007647487232779944,
          2.211320735120686,
          0.6438165866259979,
          -1.0666772238124416,
          1.1185433129275277,
          -1.7299998201445086,
          -0.25975599587783443,
          0.4226172574698807,
          0.3941769709373833,
          0.5160961375330596,
          1.81819966745681,
          0.7991786252320352,
          1.046987568805078,
          -1.128395723062902,
          1.7936925593507211,
          -0.5149323886783681,
          -0.9802210244604053,
          0.2019466283016788,
          0.5362430245906857,
          -1.8460225900728473,
          1.1210128548791507,
          0.4428581166140847,
          -0.3971102158075737,
          1.0099720456684251,
          0.04323912485309805,
          0.16186786619863405,
          -0.8532924235905249,
          0.5683047812022923,
          -0.7182340782336945,
          -0.33714320289360633,
          1.6558347652323795,
          0.4051329252254166,
          0.7723889649324748,
          0.9858257378129331,
          0.3393662311036916,
          1.251335110862688,
          -0.8894527872587709,
          0.022788498965433734,
          0.1529745603304253
         ],
         "xaxis": "x5",
         "y": [
          -0.5737945545380813,
          1.10681733267001,
          -0.8642735138565506,
          0.5403727191652674,
          1.3446585111575515,
          0.9707770371986021,
          -0.4758158228346009,
          -1.7206476733987262,
          -0.5213925667074699,
          -1.3160304741085156,
          1.7139340392948705,
          -1.081772196858882,
          0.6852193539140005,
          0.2357121945272125,
          -0.21621060736553435,
          -1.16561783610473,
          -0.7160992151206331,
          -0.7963619994131266,
          -5.734197369323232e-05,
          0.4121475843934423,
          -0.5346345063636659,
          0.9800828890027675,
          -0.17355190502161186,
          0.50663665254452,
          -0.9743640840943804,
          2.4442193260237777,
          -1.5127481904255589,
          -0.4463273169784612,
          0.2863886544997744,
          -2.6366488568868967,
          0.3399990001282703,
          -0.4238775381884636,
          0.09553159887378632,
          0.030443516590440534,
          -0.117465978296997,
          0.5680994389852261,
          0.8986361709059272,
          0.05807554994885092,
          -0.573788376859282,
          0.07770170114819182,
          -0.1532975170574101,
          -1.7259334090059024,
          1.9288714395457591,
          -0.5540020564911894,
          0.7437781696058638,
          0.09207992430893966,
          -0.09103602463885366,
          0.4550902656062467,
          -1.049078831656769,
          0.39971184330269044,
          1.8580764136015517,
          1.530549476657037,
          -1.550731195712601,
          -1.7384459910819856,
          -0.9078249514952067,
          -0.5390811901792363,
          2.0245770702001114,
          0.060145825037109524,
          0.19512977367730458,
          -0.906664515766312,
          -0.4579375421367402,
          1.5950732986077922,
          -0.06095303450437194,
          -0.7050404940898929,
          -0.7948447032770758,
          -0.5673176973672968,
          -1.2621608935191002,
          -0.6700539341340684,
          0.5446324881912484,
          -0.872920736801528,
          -0.917874519634289,
          -1.4537221534915523,
          0.16881163940843347,
          0.20088757260669715,
          0.18290911610110255,
          -1.476238336965387,
          -0.5561300294068415,
          -0.36454287791069184,
          -0.06220468912964303,
          -0.9794835695449904,
          1.9058757707845015,
          0.09730984282951217,
          0.974860478095882,
          -0.13908650831671687,
          0.7492916762415887,
          -0.5509520407165336,
          -0.6638932817154232,
          -0.08468534082475872,
          0.032786764332160115,
          -0.13758137168049833,
          1.0497203019324426,
          0.5940635515384379,
          -0.3397995017727589,
          0.2857793266688294,
          0.8331357511706957,
          0.24054536988523556,
          -0.6609910622382077,
          -1.015298446375443,
          0.7385713900137486,
          -0.43492175701388197
         ],
         "yaxis": "y5"
        },
        {
         "histfunc": "count",
         "histnorm": "",
         "marker": {
          "color": "rgba(55, 128, 191, 1.0)",
          "line": {
           "color": "#4D5663",
           "width": 1.3
          }
         },
         "name": "B",
         "nbinsx": 10,
         "opacity": 0.8,
         "orientation": "v",
         "type": "histogram",
         "x": [
          -0.5737945545380813,
          1.10681733267001,
          -0.8642735138565506,
          0.5403727191652674,
          1.3446585111575515,
          0.9707770371986021,
          -0.4758158228346009,
          -1.7206476733987262,
          -0.5213925667074699,
          -1.3160304741085156,
          1.7139340392948705,
          -1.081772196858882,
          0.6852193539140005,
          0.2357121945272125,
          -0.21621060736553435,
          -1.16561783610473,
          -0.7160992151206331,
          -0.7963619994131266,
          -5.734197369323232e-05,
          0.4121475843934423,
          -0.5346345063636659,
          0.9800828890027675,
          -0.17355190502161186,
          0.50663665254452,
          -0.9743640840943804,
          2.4442193260237777,
          -1.5127481904255589,
          -0.4463273169784612,
          0.2863886544997744,
          -2.6366488568868967,
          0.3399990001282703,
          -0.4238775381884636,
          0.09553159887378632,
          0.030443516590440534,
          -0.117465978296997,
          0.5680994389852261,
          0.8986361709059272,
          0.05807554994885092,
          -0.573788376859282,
          0.07770170114819182,
          -0.1532975170574101,
          -1.7259334090059024,
          1.9288714395457591,
          -0.5540020564911894,
          0.7437781696058638,
          0.09207992430893966,
          -0.09103602463885366,
          0.4550902656062467,
          -1.049078831656769,
          0.39971184330269044,
          1.8580764136015517,
          1.530549476657037,
          -1.550731195712601,
          -1.7384459910819856,
          -0.9078249514952067,
          -0.5390811901792363,
          2.0245770702001114,
          0.060145825037109524,
          0.19512977367730458,
          -0.906664515766312,
          -0.4579375421367402,
          1.5950732986077922,
          -0.06095303450437194,
          -0.7050404940898929,
          -0.7948447032770758,
          -0.5673176973672968,
          -1.2621608935191002,
          -0.6700539341340684,
          0.5446324881912484,
          -0.872920736801528,
          -0.917874519634289,
          -1.4537221534915523,
          0.16881163940843347,
          0.20088757260669715,
          0.18290911610110255,
          -1.476238336965387,
          -0.5561300294068415,
          -0.36454287791069184,
          -0.06220468912964303,
          -0.9794835695449904,
          1.9058757707845015,
          0.09730984282951217,
          0.974860478095882,
          -0.13908650831671687,
          0.7492916762415887,
          -0.5509520407165336,
          -0.6638932817154232,
          -0.08468534082475872,
          0.032786764332160115,
          -0.13758137168049833,
          1.0497203019324426,
          0.5940635515384379,
          -0.3397995017727589,
          0.2857793266688294,
          0.8331357511706957,
          0.24054536988523556,
          -0.6609910622382077,
          -1.015298446375443,
          0.7385713900137486,
          -0.43492175701388197
         ],
         "xaxis": "x6",
         "yaxis": "y6"
        },
        {
         "line": {
          "color": "rgba(128, 128, 128, 1.0)",
          "dash": "solid",
          "shape": "linear",
          "width": 1.3
         },
         "marker": {
          "size": 2,
          "symbol": "circle"
         },
         "mode": "markers",
         "name": "B",
         "text": "",
         "type": "scatter",
         "x": [
          -2.5143134923113903,
          -0.6509188072601796,
          -1.0929806376167406,
          -2.608523012686631,
          -0.6515439074095098,
          -0.0333064701190502,
          0.7606633089063881,
          0.4128709184030706,
          -0.6631434605605585,
          0.9383284809663233,
          -0.640923939094296,
          -1.451322224393623,
          -0.32452068357876357,
          0.8560062510029888,
          0.04874730079016477,
          -0.6502876099939146,
          2.0300873604999925,
          1.588622467301215,
          -0.02098210969456584,
          -0.5386063210027243,
          0.3939456041421512,
          0.5400582082029005,
          1.2029381600400066,
          -1.599263794059734,
          0.10677637474981985,
          1.5243359839917698,
          -0.5531122529989283,
          0.0018013257277539978,
          0.007243731819215415,
          0.3223473198321976,
          -1.0040855072140582,
          -0.5579320573624444,
          1.0706742691410756,
          -0.6889035466203947,
          0.2530161671325349,
          -1.743532298622672,
          -0.36352469284064715,
          1.0313892282054828,
          -0.3987531022294804,
          -0.1400567640821582,
          0.30414057790022453,
          -0.36640897480614737,
          -0.21419913181904907,
          1.241243088420183,
          -0.6739876378558262,
          0.07389182612537284,
          -0.03224726111307327,
          1.1194329765894249,
          -0.6761821835514656,
          -1.6134368534742802,
          -0.41960299481596236,
          -0.19060574059427185,
          -0.11993860090379943,
          0.31521309072533965,
          -2.021558231845061,
          -0.21644300192401225,
          -1.6877313200922548,
          -1.8076751235857098,
          -1.3852283577275846,
          -0.6661149941134256,
          1.0063768444171797,
          1.359618305861139,
          -1.469018277477196,
          -0.6577234211061695,
          -1.3683531470706467,
          -1.8237598616040247,
          0.41753443738107054,
          -1.1526259185288221,
          -1.4323469934265356,
          -0.8830593669489718,
          1.8431546945645012,
          -0.3625854899437133,
          0.7694279154705537,
          0.08941362971901017,
          1.4660643585433049,
          0.06829484146577768,
          -0.8511623078027825,
          -1.384913582089352,
          -1.1378261979375641,
          0.38386522671538453,
          -1.2932844941271617,
          0.7647470295737824,
          0.2632165909128464,
          1.2568833608738816,
          1.2665194060352905,
          -1.760462544297134,
          -0.38007233523979733,
          -2.2853515965367737,
          0.26537879693495575,
          -0.29996880981165763,
          -0.11434376808773915,
          0.6228937735392496,
          -0.22652070309699104,
          -1.3926389582870053,
          -0.21170574994847616,
          -1.0759943427876493,
          0.5140215484688332,
          0.19608037262269554,
          -2.171579893652071,
          -0.7156074544641537
         ],
         "xaxis": "x7",
         "y": [
          -0.5737945545380813,
          1.10681733267001,
          -0.8642735138565506,
          0.5403727191652674,
          1.3446585111575515,
          0.9707770371986021,
          -0.4758158228346009,
          -1.7206476733987262,
          -0.5213925667074699,
          -1.3160304741085156,
          1.7139340392948705,
          -1.081772196858882,
          0.6852193539140005,
          0.2357121945272125,
          -0.21621060736553435,
          -1.16561783610473,
          -0.7160992151206331,
          -0.7963619994131266,
          -5.734197369323232e-05,
          0.4121475843934423,
          -0.5346345063636659,
          0.9800828890027675,
          -0.17355190502161186,
          0.50663665254452,
          -0.9743640840943804,
          2.4442193260237777,
          -1.5127481904255589,
          -0.4463273169784612,
          0.2863886544997744,
          -2.6366488568868967,
          0.3399990001282703,
          -0.4238775381884636,
          0.09553159887378632,
          0.030443516590440534,
          -0.117465978296997,
          0.5680994389852261,
          0.8986361709059272,
          0.05807554994885092,
          -0.573788376859282,
          0.07770170114819182,
          -0.1532975170574101,
          -1.7259334090059024,
          1.9288714395457591,
          -0.5540020564911894,
          0.7437781696058638,
          0.09207992430893966,
          -0.09103602463885366,
          0.4550902656062467,
          -1.049078831656769,
          0.39971184330269044,
          1.8580764136015517,
          1.530549476657037,
          -1.550731195712601,
          -1.7384459910819856,
          -0.9078249514952067,
          -0.5390811901792363,
          2.0245770702001114,
          0.060145825037109524,
          0.19512977367730458,
          -0.906664515766312,
          -0.4579375421367402,
          1.5950732986077922,
          -0.06095303450437194,
          -0.7050404940898929,
          -0.7948447032770758,
          -0.5673176973672968,
          -1.2621608935191002,
          -0.6700539341340684,
          0.5446324881912484,
          -0.872920736801528,
          -0.917874519634289,
          -1.4537221534915523,
          0.16881163940843347,
          0.20088757260669715,
          0.18290911610110255,
          -1.476238336965387,
          -0.5561300294068415,
          -0.36454287791069184,
          -0.06220468912964303,
          -0.9794835695449904,
          1.9058757707845015,
          0.09730984282951217,
          0.974860478095882,
          -0.13908650831671687,
          0.7492916762415887,
          -0.5509520407165336,
          -0.6638932817154232,
          -0.08468534082475872,
          0.032786764332160115,
          -0.13758137168049833,
          1.0497203019324426,
          0.5940635515384379,
          -0.3397995017727589,
          0.2857793266688294,
          0.8331357511706957,
          0.24054536988523556,
          -0.6609910622382077,
          -1.015298446375443,
          0.7385713900137486,
          -0.43492175701388197
         ],
         "yaxis": "y7"
        },
        {
         "line": {
          "color": "rgba(128, 128, 128, 1.0)",
          "dash": "solid",
          "shape": "linear",
          "width": 1.3
         },
         "marker": {
          "size": 2,
          "symbol": "circle"
         },
         "mode": "markers",
         "name": "B",
         "text": "",
         "type": "scatter",
         "x": [
          0.2635037826051746,
          -2.239900668127504,
          0.6287513844324132,
          -2.1948221717203333,
          0.6432799029201886,
          1.209932206786237,
          -2.3545318574450134,
          1.0745305466796755,
          -0.49275888145241564,
          -0.6669718697162098,
          0.655200056418349,
          1.5182651759676702,
          -1.5989561766263891,
          -0.5436935447528642,
          0.1531899904145127,
          -1.253636332403664,
          1.1026176291994954,
          0.12708566121369286,
          -0.8535306920291047,
          -1.0248348769183893,
          -0.6045196815864822,
          -0.3953328860122542,
          0.12003883366812776,
          0.5953865334820625,
          -0.06212991230184508,
          1.452689162912124,
          0.4406880123087512,
          -1.613173683413528,
          0.7772003829979456,
          -1.5631590743611659,
          1.1444928651886228,
          -1.3607397426450984,
          0.3505686485630722,
          0.6601026213592619,
          0.553392942363766,
          -0.23098918344720173,
          0.8311318198942066,
          -0.08201430903256268,
          0.2824545751892871,
          -0.03172367883037509,
          0.3743088818050335,
          0.5397953798154068,
          -1.2004762068784165,
          0.2968361571745551,
          0.14457907383222568,
          -0.5028088116733017,
          0.5961255166425773,
          -1.7844469407248074,
          -2.496330914118227,
          -1.0261280768372907,
          1.9368714651311647,
          -0.3674146748731469,
          1.799442623225765,
          0.2755359292972475,
          -0.14710677085185983,
          -0.687086704638258,
          0.1999909696944079,
          0.05105367380417333,
          -1.6961422920296267,
          1.3147773687954898,
          0.995116497484058,
          -0.8658822037081225,
          -0.004408572653071275,
          -1.4414798499456125,
          -0.5405079236279586,
          -0.533085208042458,
          1.0943498426037666,
          -1.282138908622184,
          -0.6725787172001605,
          0.43632191387047947,
          1.8237296763666204,
          -1.7046840650369615,
          -0.860871824186915,
          1.4634316445135658,
          0.39371432565306586,
          -0.6469203777739958,
          -0.8556891941805826,
          -0.3353507357876152,
          0.8028157715863787,
          -0.1639592906043109,
          -0.44702553786145677,
          -0.38310852317831606,
          -0.4570542510733638,
          1.0845518642914551,
          0.5169438264391508,
          -0.5641824896873722,
          0.8100973323193629,
          2.3351595477119416,
          -2.111058499254949,
          0.5262861952143004,
          -0.853625275955298,
          -0.9682396772350652,
          -0.7774006438523732,
          -2.5104955678597096,
          0.3598120367191213,
          -0.25608224070565877,
          0.006413200965211256,
          0.0524766666787389,
          0.3074201403453346,
          0.12702927894046318
         ],
         "xaxis": "x8",
         "y": [
          -0.5737945545380813,
          1.10681733267001,
          -0.8642735138565506,
          0.5403727191652674,
          1.3446585111575515,
          0.9707770371986021,
          -0.4758158228346009,
          -1.7206476733987262,
          -0.5213925667074699,
          -1.3160304741085156,
          1.7139340392948705,
          -1.081772196858882,
          0.6852193539140005,
          0.2357121945272125,
          -0.21621060736553435,
          -1.16561783610473,
          -0.7160992151206331,
          -0.7963619994131266,
          -5.734197369323232e-05,
          0.4121475843934423,
          -0.5346345063636659,
          0.9800828890027675,
          -0.17355190502161186,
          0.50663665254452,
          -0.9743640840943804,
          2.4442193260237777,
          -1.5127481904255589,
          -0.4463273169784612,
          0.2863886544997744,
          -2.6366488568868967,
          0.3399990001282703,
          -0.4238775381884636,
          0.09553159887378632,
          0.030443516590440534,
          -0.117465978296997,
          0.5680994389852261,
          0.8986361709059272,
          0.05807554994885092,
          -0.573788376859282,
          0.07770170114819182,
          -0.1532975170574101,
          -1.7259334090059024,
          1.9288714395457591,
          -0.5540020564911894,
          0.7437781696058638,
          0.09207992430893966,
          -0.09103602463885366,
          0.4550902656062467,
          -1.049078831656769,
          0.39971184330269044,
          1.8580764136015517,
          1.530549476657037,
          -1.550731195712601,
          -1.7384459910819856,
          -0.9078249514952067,
          -0.5390811901792363,
          2.0245770702001114,
          0.060145825037109524,
          0.19512977367730458,
          -0.906664515766312,
          -0.4579375421367402,
          1.5950732986077922,
          -0.06095303450437194,
          -0.7050404940898929,
          -0.7948447032770758,
          -0.5673176973672968,
          -1.2621608935191002,
          -0.6700539341340684,
          0.5446324881912484,
          -0.872920736801528,
          -0.917874519634289,
          -1.4537221534915523,
          0.16881163940843347,
          0.20088757260669715,
          0.18290911610110255,
          -1.476238336965387,
          -0.5561300294068415,
          -0.36454287791069184,
          -0.06220468912964303,
          -0.9794835695449904,
          1.9058757707845015,
          0.09730984282951217,
          0.974860478095882,
          -0.13908650831671687,
          0.7492916762415887,
          -0.5509520407165336,
          -0.6638932817154232,
          -0.08468534082475872,
          0.032786764332160115,
          -0.13758137168049833,
          1.0497203019324426,
          0.5940635515384379,
          -0.3397995017727589,
          0.2857793266688294,
          0.8331357511706957,
          0.24054536988523556,
          -0.6609910622382077,
          -1.015298446375443,
          0.7385713900137486,
          -0.43492175701388197
         ],
         "yaxis": "y8"
        },
        {
         "line": {
          "color": "rgba(128, 128, 128, 1.0)",
          "dash": "solid",
          "shape": "linear",
          "width": 1.3
         },
         "marker": {
          "size": 2,
          "symbol": "circle"
         },
         "mode": "markers",
         "name": "C",
         "text": "",
         "type": "scatter",
         "x": [
          -1.7328184700099154,
          -0.6655392531642427,
          -0.5141887381353419,
          -0.5307819801565642,
          -1.118698345400647,
          -0.015307381413286457,
          -1.4557398829714918,
          0.8591588400819069,
          -0.26492340869200365,
          0.4967984376875904,
          0.04182940727328566,
          -1.7386011275388331,
          0.6969431444672501,
          -0.052871581583919115,
          -1.6601792523085324,
          0.05748666839097407,
          0.1837621355327402,
          1.4962874424816663,
          -0.6205832412165161,
          0.1520623253012091,
          -0.0038386316317565086,
          0.5512624161773946,
          0.2036636174075826,
          -1.52475862710216,
          0.9236883896430348,
          2.046445624318661,
          -1.6928966996502095,
          -0.49450683165912346,
          -0.32097571153166865,
          0.18429648757950035,
          0.9590315555760798,
          0.24518063014786312,
          1.1035536863820947,
          -0.4262789193890452,
          0.38796398237909235,
          0.06095890635811224,
          -0.12080953360031857,
          0.720045065572963,
          1.1384712663936534,
          0.91631532775539,
          -1.3971319160459976,
          0.15533512015255674,
          -0.24322476528350576,
          -1.876186615785088,
          1.3283670094396747,
          1.4762463769813379,
          -0.0720559521924466,
          0.7329609025539923,
          -0.6413826991069103,
          0.12982126874312913,
          1.518939354007646,
          -1.1545144296807108,
          0.1470207356938776,
          -0.6908031760314431,
          -0.055941386298454326,
          1.3156460053880759,
          0.619892489089758,
          0.6088290563295004,
          -0.5374672551116969,
          -0.6880550583755078,
          0.7168531852731158,
          0.007647487232779944,
          2.211320735120686,
          0.6438165866259979,
          -1.0666772238124416,
          1.1185433129275277,
          -1.7299998201445086,
          -0.25975599587783443,
          0.4226172574698807,
          0.3941769709373833,
          0.5160961375330596,
          1.81819966745681,
          0.7991786252320352,
          1.046987568805078,
          -1.128395723062902,
          1.7936925593507211,
          -0.5149323886783681,
          -0.9802210244604053,
          0.2019466283016788,
          0.5362430245906857,
          -1.8460225900728473,
          1.1210128548791507,
          0.4428581166140847,
          -0.3971102158075737,
          1.0099720456684251,
          0.04323912485309805,
          0.16186786619863405,
          -0.8532924235905249,
          0.5683047812022923,
          -0.7182340782336945,
          -0.33714320289360633,
          1.6558347652323795,
          0.4051329252254166,
          0.7723889649324748,
          0.9858257378129331,
          0.3393662311036916,
          1.251335110862688,
          -0.8894527872587709,
          0.022788498965433734,
          0.1529745603304253
         ],
         "xaxis": "x9",
         "y": [
          -2.5143134923113903,
          -0.6509188072601796,
          -1.0929806376167406,
          -2.608523012686631,
          -0.6515439074095098,
          -0.0333064701190502,
          0.7606633089063881,
          0.4128709184030706,
          -0.6631434605605585,
          0.9383284809663233,
          -0.640923939094296,
          -1.451322224393623,
          -0.32452068357876357,
          0.8560062510029888,
          0.04874730079016477,
          -0.6502876099939146,
          2.0300873604999925,
          1.588622467301215,
          -0.02098210969456584,
          -0.5386063210027243,
          0.3939456041421512,
          0.5400582082029005,
          1.2029381600400066,
          -1.599263794059734,
          0.10677637474981985,
          1.5243359839917698,
          -0.5531122529989283,
          0.0018013257277539978,
          0.007243731819215415,
          0.3223473198321976,
          -1.0040855072140582,
          -0.5579320573624444,
          1.0706742691410756,
          -0.6889035466203947,
          0.2530161671325349,
          -1.743532298622672,
          -0.36352469284064715,
          1.0313892282054828,
          -0.3987531022294804,
          -0.1400567640821582,
          0.30414057790022453,
          -0.36640897480614737,
          -0.21419913181904907,
          1.241243088420183,
          -0.6739876378558262,
          0.07389182612537284,
          -0.03224726111307327,
          1.1194329765894249,
          -0.6761821835514656,
          -1.6134368534742802,
          -0.41960299481596236,
          -0.19060574059427185,
          -0.11993860090379943,
          0.31521309072533965,
          -2.021558231845061,
          -0.21644300192401225,
          -1.6877313200922548,
          -1.8076751235857098,
          -1.3852283577275846,
          -0.6661149941134256,
          1.0063768444171797,
          1.359618305861139,
          -1.469018277477196,
          -0.6577234211061695,
          -1.3683531470706467,
          -1.8237598616040247,
          0.41753443738107054,
          -1.1526259185288221,
          -1.4323469934265356,
          -0.8830593669489718,
          1.8431546945645012,
          -0.3625854899437133,
          0.7694279154705537,
          0.08941362971901017,
          1.4660643585433049,
          0.06829484146577768,
          -0.8511623078027825,
          -1.384913582089352,
          -1.1378261979375641,
          0.38386522671538453,
          -1.2932844941271617,
          0.7647470295737824,
          0.2632165909128464,
          1.2568833608738816,
          1.2665194060352905,
          -1.760462544297134,
          -0.38007233523979733,
          -2.2853515965367737,
          0.26537879693495575,
          -0.29996880981165763,
          -0.11434376808773915,
          0.6228937735392496,
          -0.22652070309699104,
          -1.3926389582870053,
          -0.21170574994847616,
          -1.0759943427876493,
          0.5140215484688332,
          0.19608037262269554,
          -2.171579893652071,
          -0.7156074544641537
         ],
         "yaxis": "y9"
        },
        {
         "line": {
          "color": "rgba(128, 128, 128, 1.0)",
          "dash": "solid",
          "shape": "linear",
          "width": 1.3
         },
         "marker": {
          "size": 2,
          "symbol": "circle"
         },
         "mode": "markers",
         "name": "C",
         "text": "",
         "type": "scatter",
         "x": [
          -0.5737945545380813,
          1.10681733267001,
          -0.8642735138565506,
          0.5403727191652674,
          1.3446585111575515,
          0.9707770371986021,
          -0.4758158228346009,
          -1.7206476733987262,
          -0.5213925667074699,
          -1.3160304741085156,
          1.7139340392948705,
          -1.081772196858882,
          0.6852193539140005,
          0.2357121945272125,
          -0.21621060736553435,
          -1.16561783610473,
          -0.7160992151206331,
          -0.7963619994131266,
          -5.734197369323232e-05,
          0.4121475843934423,
          -0.5346345063636659,
          0.9800828890027675,
          -0.17355190502161186,
          0.50663665254452,
          -0.9743640840943804,
          2.4442193260237777,
          -1.5127481904255589,
          -0.4463273169784612,
          0.2863886544997744,
          -2.6366488568868967,
          0.3399990001282703,
          -0.4238775381884636,
          0.09553159887378632,
          0.030443516590440534,
          -0.117465978296997,
          0.5680994389852261,
          0.8986361709059272,
          0.05807554994885092,
          -0.573788376859282,
          0.07770170114819182,
          -0.1532975170574101,
          -1.7259334090059024,
          1.9288714395457591,
          -0.5540020564911894,
          0.7437781696058638,
          0.09207992430893966,
          -0.09103602463885366,
          0.4550902656062467,
          -1.049078831656769,
          0.39971184330269044,
          1.8580764136015517,
          1.530549476657037,
          -1.550731195712601,
          -1.7384459910819856,
          -0.9078249514952067,
          -0.5390811901792363,
          2.0245770702001114,
          0.060145825037109524,
          0.19512977367730458,
          -0.906664515766312,
          -0.4579375421367402,
          1.5950732986077922,
          -0.06095303450437194,
          -0.7050404940898929,
          -0.7948447032770758,
          -0.5673176973672968,
          -1.2621608935191002,
          -0.6700539341340684,
          0.5446324881912484,
          -0.872920736801528,
          -0.917874519634289,
          -1.4537221534915523,
          0.16881163940843347,
          0.20088757260669715,
          0.18290911610110255,
          -1.476238336965387,
          -0.5561300294068415,
          -0.36454287791069184,
          -0.06220468912964303,
          -0.9794835695449904,
          1.9058757707845015,
          0.09730984282951217,
          0.974860478095882,
          -0.13908650831671687,
          0.7492916762415887,
          -0.5509520407165336,
          -0.6638932817154232,
          -0.08468534082475872,
          0.032786764332160115,
          -0.13758137168049833,
          1.0497203019324426,
          0.5940635515384379,
          -0.3397995017727589,
          0.2857793266688294,
          0.8331357511706957,
          0.24054536988523556,
          -0.6609910622382077,
          -1.015298446375443,
          0.7385713900137486,
          -0.43492175701388197
         ],
         "xaxis": "x10",
         "y": [
          -2.5143134923113903,
          -0.6509188072601796,
          -1.0929806376167406,
          -2.608523012686631,
          -0.6515439074095098,
          -0.0333064701190502,
          0.7606633089063881,
          0.4128709184030706,
          -0.6631434605605585,
          0.9383284809663233,
          -0.640923939094296,
          -1.451322224393623,
          -0.32452068357876357,
          0.8560062510029888,
          0.04874730079016477,
          -0.6502876099939146,
          2.0300873604999925,
          1.588622467301215,
          -0.02098210969456584,
          -0.5386063210027243,
          0.3939456041421512,
          0.5400582082029005,
          1.2029381600400066,
          -1.599263794059734,
          0.10677637474981985,
          1.5243359839917698,
          -0.5531122529989283,
          0.0018013257277539978,
          0.007243731819215415,
          0.3223473198321976,
          -1.0040855072140582,
          -0.5579320573624444,
          1.0706742691410756,
          -0.6889035466203947,
          0.2530161671325349,
          -1.743532298622672,
          -0.36352469284064715,
          1.0313892282054828,
          -0.3987531022294804,
          -0.1400567640821582,
          0.30414057790022453,
          -0.36640897480614737,
          -0.21419913181904907,
          1.241243088420183,
          -0.6739876378558262,
          0.07389182612537284,
          -0.03224726111307327,
          1.1194329765894249,
          -0.6761821835514656,
          -1.6134368534742802,
          -0.41960299481596236,
          -0.19060574059427185,
          -0.11993860090379943,
          0.31521309072533965,
          -2.021558231845061,
          -0.21644300192401225,
          -1.6877313200922548,
          -1.8076751235857098,
          -1.3852283577275846,
          -0.6661149941134256,
          1.0063768444171797,
          1.359618305861139,
          -1.469018277477196,
          -0.6577234211061695,
          -1.3683531470706467,
          -1.8237598616040247,
          0.41753443738107054,
          -1.1526259185288221,
          -1.4323469934265356,
          -0.8830593669489718,
          1.8431546945645012,
          -0.3625854899437133,
          0.7694279154705537,
          0.08941362971901017,
          1.4660643585433049,
          0.06829484146577768,
          -0.8511623078027825,
          -1.384913582089352,
          -1.1378261979375641,
          0.38386522671538453,
          -1.2932844941271617,
          0.7647470295737824,
          0.2632165909128464,
          1.2568833608738816,
          1.2665194060352905,
          -1.760462544297134,
          -0.38007233523979733,
          -2.2853515965367737,
          0.26537879693495575,
          -0.29996880981165763,
          -0.11434376808773915,
          0.6228937735392496,
          -0.22652070309699104,
          -1.3926389582870053,
          -0.21170574994847616,
          -1.0759943427876493,
          0.5140215484688332,
          0.19608037262269554,
          -2.171579893652071,
          -0.7156074544641537
         ],
         "yaxis": "y10"
        },
        {
         "histfunc": "count",
         "histnorm": "",
         "marker": {
          "color": "rgba(50, 171, 96, 1.0)",
          "line": {
           "color": "#4D5663",
           "width": 1.3
          }
         },
         "name": "C",
         "nbinsx": 10,
         "opacity": 0.8,
         "orientation": "v",
         "type": "histogram",
         "x": [
          -2.5143134923113903,
          -0.6509188072601796,
          -1.0929806376167406,
          -2.608523012686631,
          -0.6515439074095098,
          -0.0333064701190502,
          0.7606633089063881,
          0.4128709184030706,
          -0.6631434605605585,
          0.9383284809663233,
          -0.640923939094296,
          -1.451322224393623,
          -0.32452068357876357,
          0.8560062510029888,
          0.04874730079016477,
          -0.6502876099939146,
          2.0300873604999925,
          1.588622467301215,
          -0.02098210969456584,
          -0.5386063210027243,
          0.3939456041421512,
          0.5400582082029005,
          1.2029381600400066,
          -1.599263794059734,
          0.10677637474981985,
          1.5243359839917698,
          -0.5531122529989283,
          0.0018013257277539978,
          0.007243731819215415,
          0.3223473198321976,
          -1.0040855072140582,
          -0.5579320573624444,
          1.0706742691410756,
          -0.6889035466203947,
          0.2530161671325349,
          -1.743532298622672,
          -0.36352469284064715,
          1.0313892282054828,
          -0.3987531022294804,
          -0.1400567640821582,
          0.30414057790022453,
          -0.36640897480614737,
          -0.21419913181904907,
          1.241243088420183,
          -0.6739876378558262,
          0.07389182612537284,
          -0.03224726111307327,
          1.1194329765894249,
          -0.6761821835514656,
          -1.6134368534742802,
          -0.41960299481596236,
          -0.19060574059427185,
          -0.11993860090379943,
          0.31521309072533965,
          -2.021558231845061,
          -0.21644300192401225,
          -1.6877313200922548,
          -1.8076751235857098,
          -1.3852283577275846,
          -0.6661149941134256,
          1.0063768444171797,
          1.359618305861139,
          -1.469018277477196,
          -0.6577234211061695,
          -1.3683531470706467,
          -1.8237598616040247,
          0.41753443738107054,
          -1.1526259185288221,
          -1.4323469934265356,
          -0.8830593669489718,
          1.8431546945645012,
          -0.3625854899437133,
          0.7694279154705537,
          0.08941362971901017,
          1.4660643585433049,
          0.06829484146577768,
          -0.8511623078027825,
          -1.384913582089352,
          -1.1378261979375641,
          0.38386522671538453,
          -1.2932844941271617,
          0.7647470295737824,
          0.2632165909128464,
          1.2568833608738816,
          1.2665194060352905,
          -1.760462544297134,
          -0.38007233523979733,
          -2.2853515965367737,
          0.26537879693495575,
          -0.29996880981165763,
          -0.11434376808773915,
          0.6228937735392496,
          -0.22652070309699104,
          -1.3926389582870053,
          -0.21170574994847616,
          -1.0759943427876493,
          0.5140215484688332,
          0.19608037262269554,
          -2.171579893652071,
          -0.7156074544641537
         ],
         "xaxis": "x11",
         "yaxis": "y11"
        },
        {
         "line": {
          "color": "rgba(128, 128, 128, 1.0)",
          "dash": "solid",
          "shape": "linear",
          "width": 1.3
         },
         "marker": {
          "size": 2,
          "symbol": "circle"
         },
         "mode": "markers",
         "name": "C",
         "text": "",
         "type": "scatter",
         "x": [
          0.2635037826051746,
          -2.239900668127504,
          0.6287513844324132,
          -2.1948221717203333,
          0.6432799029201886,
          1.209932206786237,
          -2.3545318574450134,
          1.0745305466796755,
          -0.49275888145241564,
          -0.6669718697162098,
          0.655200056418349,
          1.5182651759676702,
          -1.5989561766263891,
          -0.5436935447528642,
          0.1531899904145127,
          -1.253636332403664,
          1.1026176291994954,
          0.12708566121369286,
          -0.8535306920291047,
          -1.0248348769183893,
          -0.6045196815864822,
          -0.3953328860122542,
          0.12003883366812776,
          0.5953865334820625,
          -0.06212991230184508,
          1.452689162912124,
          0.4406880123087512,
          -1.613173683413528,
          0.7772003829979456,
          -1.5631590743611659,
          1.1444928651886228,
          -1.3607397426450984,
          0.3505686485630722,
          0.6601026213592619,
          0.553392942363766,
          -0.23098918344720173,
          0.8311318198942066,
          -0.08201430903256268,
          0.2824545751892871,
          -0.03172367883037509,
          0.3743088818050335,
          0.5397953798154068,
          -1.2004762068784165,
          0.2968361571745551,
          0.14457907383222568,
          -0.5028088116733017,
          0.5961255166425773,
          -1.7844469407248074,
          -2.496330914118227,
          -1.0261280768372907,
          1.9368714651311647,
          -0.3674146748731469,
          1.799442623225765,
          0.2755359292972475,
          -0.14710677085185983,
          -0.687086704638258,
          0.1999909696944079,
          0.05105367380417333,
          -1.6961422920296267,
          1.3147773687954898,
          0.995116497484058,
          -0.8658822037081225,
          -0.004408572653071275,
          -1.4414798499456125,
          -0.5405079236279586,
          -0.533085208042458,
          1.0943498426037666,
          -1.282138908622184,
          -0.6725787172001605,
          0.43632191387047947,
          1.8237296763666204,
          -1.7046840650369615,
          -0.860871824186915,
          1.4634316445135658,
          0.39371432565306586,
          -0.6469203777739958,
          -0.8556891941805826,
          -0.3353507357876152,
          0.8028157715863787,
          -0.1639592906043109,
          -0.44702553786145677,
          -0.38310852317831606,
          -0.4570542510733638,
          1.0845518642914551,
          0.5169438264391508,
          -0.5641824896873722,
          0.8100973323193629,
          2.3351595477119416,
          -2.111058499254949,
          0.5262861952143004,
          -0.853625275955298,
          -0.9682396772350652,
          -0.7774006438523732,
          -2.5104955678597096,
          0.3598120367191213,
          -0.25608224070565877,
          0.006413200965211256,
          0.0524766666787389,
          0.3074201403453346,
          0.12702927894046318
         ],
         "xaxis": "x12",
         "y": [
          -2.5143134923113903,
          -0.6509188072601796,
          -1.0929806376167406,
          -2.608523012686631,
          -0.6515439074095098,
          -0.0333064701190502,
          0.7606633089063881,
          0.4128709184030706,
          -0.6631434605605585,
          0.9383284809663233,
          -0.640923939094296,
          -1.451322224393623,
          -0.32452068357876357,
          0.8560062510029888,
          0.04874730079016477,
          -0.6502876099939146,
          2.0300873604999925,
          1.588622467301215,
          -0.02098210969456584,
          -0.5386063210027243,
          0.3939456041421512,
          0.5400582082029005,
          1.2029381600400066,
          -1.599263794059734,
          0.10677637474981985,
          1.5243359839917698,
          -0.5531122529989283,
          0.0018013257277539978,
          0.007243731819215415,
          0.3223473198321976,
          -1.0040855072140582,
          -0.5579320573624444,
          1.0706742691410756,
          -0.6889035466203947,
          0.2530161671325349,
          -1.743532298622672,
          -0.36352469284064715,
          1.0313892282054828,
          -0.3987531022294804,
          -0.1400567640821582,
          0.30414057790022453,
          -0.36640897480614737,
          -0.21419913181904907,
          1.241243088420183,
          -0.6739876378558262,
          0.07389182612537284,
          -0.03224726111307327,
          1.1194329765894249,
          -0.6761821835514656,
          -1.6134368534742802,
          -0.41960299481596236,
          -0.19060574059427185,
          -0.11993860090379943,
          0.31521309072533965,
          -2.021558231845061,
          -0.21644300192401225,
          -1.6877313200922548,
          -1.8076751235857098,
          -1.3852283577275846,
          -0.6661149941134256,
          1.0063768444171797,
          1.359618305861139,
          -1.469018277477196,
          -0.6577234211061695,
          -1.3683531470706467,
          -1.8237598616040247,
          0.41753443738107054,
          -1.1526259185288221,
          -1.4323469934265356,
          -0.8830593669489718,
          1.8431546945645012,
          -0.3625854899437133,
          0.7694279154705537,
          0.08941362971901017,
          1.4660643585433049,
          0.06829484146577768,
          -0.8511623078027825,
          -1.384913582089352,
          -1.1378261979375641,
          0.38386522671538453,
          -1.2932844941271617,
          0.7647470295737824,
          0.2632165909128464,
          1.2568833608738816,
          1.2665194060352905,
          -1.760462544297134,
          -0.38007233523979733,
          -2.2853515965367737,
          0.26537879693495575,
          -0.29996880981165763,
          -0.11434376808773915,
          0.6228937735392496,
          -0.22652070309699104,
          -1.3926389582870053,
          -0.21170574994847616,
          -1.0759943427876493,
          0.5140215484688332,
          0.19608037262269554,
          -2.171579893652071,
          -0.7156074544641537
         ],
         "yaxis": "y12"
        },
        {
         "line": {
          "color": "rgba(128, 128, 128, 1.0)",
          "dash": "solid",
          "shape": "linear",
          "width": 1.3
         },
         "marker": {
          "size": 2,
          "symbol": "circle"
         },
         "mode": "markers",
         "name": "D",
         "text": "",
         "type": "scatter",
         "x": [
          -1.7328184700099154,
          -0.6655392531642427,
          -0.5141887381353419,
          -0.5307819801565642,
          -1.118698345400647,
          -0.015307381413286457,
          -1.4557398829714918,
          0.8591588400819069,
          -0.26492340869200365,
          0.4967984376875904,
          0.04182940727328566,
          -1.7386011275388331,
          0.6969431444672501,
          -0.052871581583919115,
          -1.6601792523085324,
          0.05748666839097407,
          0.1837621355327402,
          1.4962874424816663,
          -0.6205832412165161,
          0.1520623253012091,
          -0.0038386316317565086,
          0.5512624161773946,
          0.2036636174075826,
          -1.52475862710216,
          0.9236883896430348,
          2.046445624318661,
          -1.6928966996502095,
          -0.49450683165912346,
          -0.32097571153166865,
          0.18429648757950035,
          0.9590315555760798,
          0.24518063014786312,
          1.1035536863820947,
          -0.4262789193890452,
          0.38796398237909235,
          0.06095890635811224,
          -0.12080953360031857,
          0.720045065572963,
          1.1384712663936534,
          0.91631532775539,
          -1.3971319160459976,
          0.15533512015255674,
          -0.24322476528350576,
          -1.876186615785088,
          1.3283670094396747,
          1.4762463769813379,
          -0.0720559521924466,
          0.7329609025539923,
          -0.6413826991069103,
          0.12982126874312913,
          1.518939354007646,
          -1.1545144296807108,
          0.1470207356938776,
          -0.6908031760314431,
          -0.055941386298454326,
          1.3156460053880759,
          0.619892489089758,
          0.6088290563295004,
          -0.5374672551116969,
          -0.6880550583755078,
          0.7168531852731158,
          0.007647487232779944,
          2.211320735120686,
          0.6438165866259979,
          -1.0666772238124416,
          1.1185433129275277,
          -1.7299998201445086,
          -0.25975599587783443,
          0.4226172574698807,
          0.3941769709373833,
          0.5160961375330596,
          1.81819966745681,
          0.7991786252320352,
          1.046987568805078,
          -1.128395723062902,
          1.7936925593507211,
          -0.5149323886783681,
          -0.9802210244604053,
          0.2019466283016788,
          0.5362430245906857,
          -1.8460225900728473,
          1.1210128548791507,
          0.4428581166140847,
          -0.3971102158075737,
          1.0099720456684251,
          0.04323912485309805,
          0.16186786619863405,
          -0.8532924235905249,
          0.5683047812022923,
          -0.7182340782336945,
          -0.33714320289360633,
          1.6558347652323795,
          0.4051329252254166,
          0.7723889649324748,
          0.9858257378129331,
          0.3393662311036916,
          1.251335110862688,
          -0.8894527872587709,
          0.022788498965433734,
          0.1529745603304253
         ],
         "xaxis": "x13",
         "y": [
          0.2635037826051746,
          -2.239900668127504,
          0.6287513844324132,
          -2.1948221717203333,
          0.6432799029201886,
          1.209932206786237,
          -2.3545318574450134,
          1.0745305466796755,
          -0.49275888145241564,
          -0.6669718697162098,
          0.655200056418349,
          1.5182651759676702,
          -1.5989561766263891,
          -0.5436935447528642,
          0.1531899904145127,
          -1.253636332403664,
          1.1026176291994954,
          0.12708566121369286,
          -0.8535306920291047,
          -1.0248348769183893,
          -0.6045196815864822,
          -0.3953328860122542,
          0.12003883366812776,
          0.5953865334820625,
          -0.06212991230184508,
          1.452689162912124,
          0.4406880123087512,
          -1.613173683413528,
          0.7772003829979456,
          -1.5631590743611659,
          1.1444928651886228,
          -1.3607397426450984,
          0.3505686485630722,
          0.6601026213592619,
          0.553392942363766,
          -0.23098918344720173,
          0.8311318198942066,
          -0.08201430903256268,
          0.2824545751892871,
          -0.03172367883037509,
          0.3743088818050335,
          0.5397953798154068,
          -1.2004762068784165,
          0.2968361571745551,
          0.14457907383222568,
          -0.5028088116733017,
          0.5961255166425773,
          -1.7844469407248074,
          -2.496330914118227,
          -1.0261280768372907,
          1.9368714651311647,
          -0.3674146748731469,
          1.799442623225765,
          0.2755359292972475,
          -0.14710677085185983,
          -0.687086704638258,
          0.1999909696944079,
          0.05105367380417333,
          -1.6961422920296267,
          1.3147773687954898,
          0.995116497484058,
          -0.8658822037081225,
          -0.004408572653071275,
          -1.4414798499456125,
          -0.5405079236279586,
          -0.533085208042458,
          1.0943498426037666,
          -1.282138908622184,
          -0.6725787172001605,
          0.43632191387047947,
          1.8237296763666204,
          -1.7046840650369615,
          -0.860871824186915,
          1.4634316445135658,
          0.39371432565306586,
          -0.6469203777739958,
          -0.8556891941805826,
          -0.3353507357876152,
          0.8028157715863787,
          -0.1639592906043109,
          -0.44702553786145677,
          -0.38310852317831606,
          -0.4570542510733638,
          1.0845518642914551,
          0.5169438264391508,
          -0.5641824896873722,
          0.8100973323193629,
          2.3351595477119416,
          -2.111058499254949,
          0.5262861952143004,
          -0.853625275955298,
          -0.9682396772350652,
          -0.7774006438523732,
          -2.5104955678597096,
          0.3598120367191213,
          -0.25608224070565877,
          0.006413200965211256,
          0.0524766666787389,
          0.3074201403453346,
          0.12702927894046318
         ],
         "yaxis": "y13"
        },
        {
         "line": {
          "color": "rgba(128, 128, 128, 1.0)",
          "dash": "solid",
          "shape": "linear",
          "width": 1.3
         },
         "marker": {
          "size": 2,
          "symbol": "circle"
         },
         "mode": "markers",
         "name": "D",
         "text": "",
         "type": "scatter",
         "x": [
          -0.5737945545380813,
          1.10681733267001,
          -0.8642735138565506,
          0.5403727191652674,
          1.3446585111575515,
          0.9707770371986021,
          -0.4758158228346009,
          -1.7206476733987262,
          -0.5213925667074699,
          -1.3160304741085156,
          1.7139340392948705,
          -1.081772196858882,
          0.6852193539140005,
          0.2357121945272125,
          -0.21621060736553435,
          -1.16561783610473,
          -0.7160992151206331,
          -0.7963619994131266,
          -5.734197369323232e-05,
          0.4121475843934423,
          -0.5346345063636659,
          0.9800828890027675,
          -0.17355190502161186,
          0.50663665254452,
          -0.9743640840943804,
          2.4442193260237777,
          -1.5127481904255589,
          -0.4463273169784612,
          0.2863886544997744,
          -2.6366488568868967,
          0.3399990001282703,
          -0.4238775381884636,
          0.09553159887378632,
          0.030443516590440534,
          -0.117465978296997,
          0.5680994389852261,
          0.8986361709059272,
          0.05807554994885092,
          -0.573788376859282,
          0.07770170114819182,
          -0.1532975170574101,
          -1.7259334090059024,
          1.9288714395457591,
          -0.5540020564911894,
          0.7437781696058638,
          0.09207992430893966,
          -0.09103602463885366,
          0.4550902656062467,
          -1.049078831656769,
          0.39971184330269044,
          1.8580764136015517,
          1.530549476657037,
          -1.550731195712601,
          -1.7384459910819856,
          -0.9078249514952067,
          -0.5390811901792363,
          2.0245770702001114,
          0.060145825037109524,
          0.19512977367730458,
          -0.906664515766312,
          -0.4579375421367402,
          1.5950732986077922,
          -0.06095303450437194,
          -0.7050404940898929,
          -0.7948447032770758,
          -0.5673176973672968,
          -1.2621608935191002,
          -0.6700539341340684,
          0.5446324881912484,
          -0.872920736801528,
          -0.917874519634289,
          -1.4537221534915523,
          0.16881163940843347,
          0.20088757260669715,
          0.18290911610110255,
          -1.476238336965387,
          -0.5561300294068415,
          -0.36454287791069184,
          -0.06220468912964303,
          -0.9794835695449904,
          1.9058757707845015,
          0.09730984282951217,
          0.974860478095882,
          -0.13908650831671687,
          0.7492916762415887,
          -0.5509520407165336,
          -0.6638932817154232,
          -0.08468534082475872,
          0.032786764332160115,
          -0.13758137168049833,
          1.0497203019324426,
          0.5940635515384379,
          -0.3397995017727589,
          0.2857793266688294,
          0.8331357511706957,
          0.24054536988523556,
          -0.6609910622382077,
          -1.015298446375443,
          0.7385713900137486,
          -0.43492175701388197
         ],
         "xaxis": "x14",
         "y": [
          0.2635037826051746,
          -2.239900668127504,
          0.6287513844324132,
          -2.1948221717203333,
          0.6432799029201886,
          1.209932206786237,
          -2.3545318574450134,
          1.0745305466796755,
          -0.49275888145241564,
          -0.6669718697162098,
          0.655200056418349,
          1.5182651759676702,
          -1.5989561766263891,
          -0.5436935447528642,
          0.1531899904145127,
          -1.253636332403664,
          1.1026176291994954,
          0.12708566121369286,
          -0.8535306920291047,
          -1.0248348769183893,
          -0.6045196815864822,
          -0.3953328860122542,
          0.12003883366812776,
          0.5953865334820625,
          -0.06212991230184508,
          1.452689162912124,
          0.4406880123087512,
          -1.613173683413528,
          0.7772003829979456,
          -1.5631590743611659,
          1.1444928651886228,
          -1.3607397426450984,
          0.3505686485630722,
          0.6601026213592619,
          0.553392942363766,
          -0.23098918344720173,
          0.8311318198942066,
          -0.08201430903256268,
          0.2824545751892871,
          -0.03172367883037509,
          0.3743088818050335,
          0.5397953798154068,
          -1.2004762068784165,
          0.2968361571745551,
          0.14457907383222568,
          -0.5028088116733017,
          0.5961255166425773,
          -1.7844469407248074,
          -2.496330914118227,
          -1.0261280768372907,
          1.9368714651311647,
          -0.3674146748731469,
          1.799442623225765,
          0.2755359292972475,
          -0.14710677085185983,
          -0.687086704638258,
          0.1999909696944079,
          0.05105367380417333,
          -1.6961422920296267,
          1.3147773687954898,
          0.995116497484058,
          -0.8658822037081225,
          -0.004408572653071275,
          -1.4414798499456125,
          -0.5405079236279586,
          -0.533085208042458,
          1.0943498426037666,
          -1.282138908622184,
          -0.6725787172001605,
          0.43632191387047947,
          1.8237296763666204,
          -1.7046840650369615,
          -0.860871824186915,
          1.4634316445135658,
          0.39371432565306586,
          -0.6469203777739958,
          -0.8556891941805826,
          -0.3353507357876152,
          0.8028157715863787,
          -0.1639592906043109,
          -0.44702553786145677,
          -0.38310852317831606,
          -0.4570542510733638,
          1.0845518642914551,
          0.5169438264391508,
          -0.5641824896873722,
          0.8100973323193629,
          2.3351595477119416,
          -2.111058499254949,
          0.5262861952143004,
          -0.853625275955298,
          -0.9682396772350652,
          -0.7774006438523732,
          -2.5104955678597096,
          0.3598120367191213,
          -0.25608224070565877,
          0.006413200965211256,
          0.0524766666787389,
          0.3074201403453346,
          0.12702927894046318
         ],
         "yaxis": "y14"
        },
        {
         "line": {
          "color": "rgba(128, 128, 128, 1.0)",
          "dash": "solid",
          "shape": "linear",
          "width": 1.3
         },
         "marker": {
          "size": 2,
          "symbol": "circle"
         },
         "mode": "markers",
         "name": "D",
         "text": "",
         "type": "scatter",
         "x": [
          -2.5143134923113903,
          -0.6509188072601796,
          -1.0929806376167406,
          -2.608523012686631,
          -0.6515439074095098,
          -0.0333064701190502,
          0.7606633089063881,
          0.4128709184030706,
          -0.6631434605605585,
          0.9383284809663233,
          -0.640923939094296,
          -1.451322224393623,
          -0.32452068357876357,
          0.8560062510029888,
          0.04874730079016477,
          -0.6502876099939146,
          2.0300873604999925,
          1.588622467301215,
          -0.02098210969456584,
          -0.5386063210027243,
          0.3939456041421512,
          0.5400582082029005,
          1.2029381600400066,
          -1.599263794059734,
          0.10677637474981985,
          1.5243359839917698,
          -0.5531122529989283,
          0.0018013257277539978,
          0.007243731819215415,
          0.3223473198321976,
          -1.0040855072140582,
          -0.5579320573624444,
          1.0706742691410756,
          -0.6889035466203947,
          0.2530161671325349,
          -1.743532298622672,
          -0.36352469284064715,
          1.0313892282054828,
          -0.3987531022294804,
          -0.1400567640821582,
          0.30414057790022453,
          -0.36640897480614737,
          -0.21419913181904907,
          1.241243088420183,
          -0.6739876378558262,
          0.07389182612537284,
          -0.03224726111307327,
          1.1194329765894249,
          -0.6761821835514656,
          -1.6134368534742802,
          -0.41960299481596236,
          -0.19060574059427185,
          -0.11993860090379943,
          0.31521309072533965,
          -2.021558231845061,
          -0.21644300192401225,
          -1.6877313200922548,
          -1.8076751235857098,
          -1.3852283577275846,
          -0.6661149941134256,
          1.0063768444171797,
          1.359618305861139,
          -1.469018277477196,
          -0.6577234211061695,
          -1.3683531470706467,
          -1.8237598616040247,
          0.41753443738107054,
          -1.1526259185288221,
          -1.4323469934265356,
          -0.8830593669489718,
          1.8431546945645012,
          -0.3625854899437133,
          0.7694279154705537,
          0.08941362971901017,
          1.4660643585433049,
          0.06829484146577768,
          -0.8511623078027825,
          -1.384913582089352,
          -1.1378261979375641,
          0.38386522671538453,
          -1.2932844941271617,
          0.7647470295737824,
          0.2632165909128464,
          1.2568833608738816,
          1.2665194060352905,
          -1.760462544297134,
          -0.38007233523979733,
          -2.2853515965367737,
          0.26537879693495575,
          -0.29996880981165763,
          -0.11434376808773915,
          0.6228937735392496,
          -0.22652070309699104,
          -1.3926389582870053,
          -0.21170574994847616,
          -1.0759943427876493,
          0.5140215484688332,
          0.19608037262269554,
          -2.171579893652071,
          -0.7156074544641537
         ],
         "xaxis": "x15",
         "y": [
          0.2635037826051746,
          -2.239900668127504,
          0.6287513844324132,
          -2.1948221717203333,
          0.6432799029201886,
          1.209932206786237,
          -2.3545318574450134,
          1.0745305466796755,
          -0.49275888145241564,
          -0.6669718697162098,
          0.655200056418349,
          1.5182651759676702,
          -1.5989561766263891,
          -0.5436935447528642,
          0.1531899904145127,
          -1.253636332403664,
          1.1026176291994954,
          0.12708566121369286,
          -0.8535306920291047,
          -1.0248348769183893,
          -0.6045196815864822,
          -0.3953328860122542,
          0.12003883366812776,
          0.5953865334820625,
          -0.06212991230184508,
          1.452689162912124,
          0.4406880123087512,
          -1.613173683413528,
          0.7772003829979456,
          -1.5631590743611659,
          1.1444928651886228,
          -1.3607397426450984,
          0.3505686485630722,
          0.6601026213592619,
          0.553392942363766,
          -0.23098918344720173,
          0.8311318198942066,
          -0.08201430903256268,
          0.2824545751892871,
          -0.03172367883037509,
          0.3743088818050335,
          0.5397953798154068,
          -1.2004762068784165,
          0.2968361571745551,
          0.14457907383222568,
          -0.5028088116733017,
          0.5961255166425773,
          -1.7844469407248074,
          -2.496330914118227,
          -1.0261280768372907,
          1.9368714651311647,
          -0.3674146748731469,
          1.799442623225765,
          0.2755359292972475,
          -0.14710677085185983,
          -0.687086704638258,
          0.1999909696944079,
          0.05105367380417333,
          -1.6961422920296267,
          1.3147773687954898,
          0.995116497484058,
          -0.8658822037081225,
          -0.004408572653071275,
          -1.4414798499456125,
          -0.5405079236279586,
          -0.533085208042458,
          1.0943498426037666,
          -1.282138908622184,
          -0.6725787172001605,
          0.43632191387047947,
          1.8237296763666204,
          -1.7046840650369615,
          -0.860871824186915,
          1.4634316445135658,
          0.39371432565306586,
          -0.6469203777739958,
          -0.8556891941805826,
          -0.3353507357876152,
          0.8028157715863787,
          -0.1639592906043109,
          -0.44702553786145677,
          -0.38310852317831606,
          -0.4570542510733638,
          1.0845518642914551,
          0.5169438264391508,
          -0.5641824896873722,
          0.8100973323193629,
          2.3351595477119416,
          -2.111058499254949,
          0.5262861952143004,
          -0.853625275955298,
          -0.9682396772350652,
          -0.7774006438523732,
          -2.5104955678597096,
          0.3598120367191213,
          -0.25608224070565877,
          0.006413200965211256,
          0.0524766666787389,
          0.3074201403453346,
          0.12702927894046318
         ],
         "yaxis": "y15"
        },
        {
         "histfunc": "count",
         "histnorm": "",
         "marker": {
          "color": "rgba(128, 0, 128, 1.0)",
          "line": {
           "color": "#4D5663",
           "width": 1.3
          }
         },
         "name": "D",
         "nbinsx": 10,
         "opacity": 0.8,
         "orientation": "v",
         "type": "histogram",
         "x": [
          0.2635037826051746,
          -2.239900668127504,
          0.6287513844324132,
          -2.1948221717203333,
          0.6432799029201886,
          1.209932206786237,
          -2.3545318574450134,
          1.0745305466796755,
          -0.49275888145241564,
          -0.6669718697162098,
          0.655200056418349,
          1.5182651759676702,
          -1.5989561766263891,
          -0.5436935447528642,
          0.1531899904145127,
          -1.253636332403664,
          1.1026176291994954,
          0.12708566121369286,
          -0.8535306920291047,
          -1.0248348769183893,
          -0.6045196815864822,
          -0.3953328860122542,
          0.12003883366812776,
          0.5953865334820625,
          -0.06212991230184508,
          1.452689162912124,
          0.4406880123087512,
          -1.613173683413528,
          0.7772003829979456,
          -1.5631590743611659,
          1.1444928651886228,
          -1.3607397426450984,
          0.3505686485630722,
          0.6601026213592619,
          0.553392942363766,
          -0.23098918344720173,
          0.8311318198942066,
          -0.08201430903256268,
          0.2824545751892871,
          -0.03172367883037509,
          0.3743088818050335,
          0.5397953798154068,
          -1.2004762068784165,
          0.2968361571745551,
          0.14457907383222568,
          -0.5028088116733017,
          0.5961255166425773,
          -1.7844469407248074,
          -2.496330914118227,
          -1.0261280768372907,
          1.9368714651311647,
          -0.3674146748731469,
          1.799442623225765,
          0.2755359292972475,
          -0.14710677085185983,
          -0.687086704638258,
          0.1999909696944079,
          0.05105367380417333,
          -1.6961422920296267,
          1.3147773687954898,
          0.995116497484058,
          -0.8658822037081225,
          -0.004408572653071275,
          -1.4414798499456125,
          -0.5405079236279586,
          -0.533085208042458,
          1.0943498426037666,
          -1.282138908622184,
          -0.6725787172001605,
          0.43632191387047947,
          1.8237296763666204,
          -1.7046840650369615,
          -0.860871824186915,
          1.4634316445135658,
          0.39371432565306586,
          -0.6469203777739958,
          -0.8556891941805826,
          -0.3353507357876152,
          0.8028157715863787,
          -0.1639592906043109,
          -0.44702553786145677,
          -0.38310852317831606,
          -0.4570542510733638,
          1.0845518642914551,
          0.5169438264391508,
          -0.5641824896873722,
          0.8100973323193629,
          2.3351595477119416,
          -2.111058499254949,
          0.5262861952143004,
          -0.853625275955298,
          -0.9682396772350652,
          -0.7774006438523732,
          -2.5104955678597096,
          0.3598120367191213,
          -0.25608224070565877,
          0.006413200965211256,
          0.0524766666787389,
          0.3074201403453346,
          0.12702927894046318
         ],
         "xaxis": "x16",
         "yaxis": "y16"
        }
       ],
       "layout": {
        "bargap": 0.02,
        "legend": {
         "bgcolor": "#F5F6F9",
         "font": {
          "color": "#4D5663"
         }
        },
        "paper_bgcolor": "#F5F6F9",
        "plot_bgcolor": "#F5F6F9",
        "showlegend": false,
        "template": {
         "data": {
          "bar": [
           {
            "error_x": {
             "color": "#2a3f5f"
            },
            "error_y": {
             "color": "#2a3f5f"
            },
            "marker": {
             "line": {
              "color": "#E5ECF6",
              "width": 0.5
             }
            },
            "type": "bar"
           }
          ],
          "barpolar": [
           {
            "marker": {
             "line": {
              "color": "#E5ECF6",
              "width": 0.5
             }
            },
            "type": "barpolar"
           }
          ],
          "carpet": [
           {
            "aaxis": {
             "endlinecolor": "#2a3f5f",
             "gridcolor": "white",
             "linecolor": "white",
             "minorgridcolor": "white",
             "startlinecolor": "#2a3f5f"
            },
            "baxis": {
             "endlinecolor": "#2a3f5f",
             "gridcolor": "white",
             "linecolor": "white",
             "minorgridcolor": "white",
             "startlinecolor": "#2a3f5f"
            },
            "type": "carpet"
           }
          ],
          "choropleth": [
           {
            "colorbar": {
             "outlinewidth": 0,
             "ticks": ""
            },
            "type": "choropleth"
           }
          ],
          "contour": [
           {
            "colorbar": {
             "outlinewidth": 0,
             "ticks": ""
            },
            "colorscale": [
             [
              0,
              "#0d0887"
             ],
             [
              0.1111111111111111,
              "#46039f"
             ],
             [
              0.2222222222222222,
              "#7201a8"
             ],
             [
              0.3333333333333333,
              "#9c179e"
             ],
             [
              0.4444444444444444,
              "#bd3786"
             ],
             [
              0.5555555555555556,
              "#d8576b"
             ],
             [
              0.6666666666666666,
              "#ed7953"
             ],
             [
              0.7777777777777778,
              "#fb9f3a"
             ],
             [
              0.8888888888888888,
              "#fdca26"
             ],
             [
              1,
              "#f0f921"
             ]
            ],
            "type": "contour"
           }
          ],
          "contourcarpet": [
           {
            "colorbar": {
             "outlinewidth": 0,
             "ticks": ""
            },
            "type": "contourcarpet"
           }
          ],
          "heatmap": [
           {
            "colorbar": {
             "outlinewidth": 0,
             "ticks": ""
            },
            "colorscale": [
             [
              0,
              "#0d0887"
             ],
             [
              0.1111111111111111,
              "#46039f"
             ],
             [
              0.2222222222222222,
              "#7201a8"
             ],
             [
              0.3333333333333333,
              "#9c179e"
             ],
             [
              0.4444444444444444,
              "#bd3786"
             ],
             [
              0.5555555555555556,
              "#d8576b"
             ],
             [
              0.6666666666666666,
              "#ed7953"
             ],
             [
              0.7777777777777778,
              "#fb9f3a"
             ],
             [
              0.8888888888888888,
              "#fdca26"
             ],
             [
              1,
              "#f0f921"
             ]
            ],
            "type": "heatmap"
           }
          ],
          "heatmapgl": [
           {
            "colorbar": {
             "outlinewidth": 0,
             "ticks": ""
            },
            "colorscale": [
             [
              0,
              "#0d0887"
             ],
             [
              0.1111111111111111,
              "#46039f"
             ],
             [
              0.2222222222222222,
              "#7201a8"
             ],
             [
              0.3333333333333333,
              "#9c179e"
             ],
             [
              0.4444444444444444,
              "#bd3786"
             ],
             [
              0.5555555555555556,
              "#d8576b"
             ],
             [
              0.6666666666666666,
              "#ed7953"
             ],
             [
              0.7777777777777778,
              "#fb9f3a"
             ],
             [
              0.8888888888888888,
              "#fdca26"
             ],
             [
              1,
              "#f0f921"
             ]
            ],
            "type": "heatmapgl"
           }
          ],
          "histogram": [
           {
            "marker": {
             "colorbar": {
              "outlinewidth": 0,
              "ticks": ""
             }
            },
            "type": "histogram"
           }
          ],
          "histogram2d": [
           {
            "colorbar": {
             "outlinewidth": 0,
             "ticks": ""
            },
            "colorscale": [
             [
              0,
              "#0d0887"
             ],
             [
              0.1111111111111111,
              "#46039f"
             ],
             [
              0.2222222222222222,
              "#7201a8"
             ],
             [
              0.3333333333333333,
              "#9c179e"
             ],
             [
              0.4444444444444444,
              "#bd3786"
             ],
             [
              0.5555555555555556,
              "#d8576b"
             ],
             [
              0.6666666666666666,
              "#ed7953"
             ],
             [
              0.7777777777777778,
              "#fb9f3a"
             ],
             [
              0.8888888888888888,
              "#fdca26"
             ],
             [
              1,
              "#f0f921"
             ]
            ],
            "type": "histogram2d"
           }
          ],
          "histogram2dcontour": [
           {
            "colorbar": {
             "outlinewidth": 0,
             "ticks": ""
            },
            "colorscale": [
             [
              0,
              "#0d0887"
             ],
             [
              0.1111111111111111,
              "#46039f"
             ],
             [
              0.2222222222222222,
              "#7201a8"
             ],
             [
              0.3333333333333333,
              "#9c179e"
             ],
             [
              0.4444444444444444,
              "#bd3786"
             ],
             [
              0.5555555555555556,
              "#d8576b"
             ],
             [
              0.6666666666666666,
              "#ed7953"
             ],
             [
              0.7777777777777778,
              "#fb9f3a"
             ],
             [
              0.8888888888888888,
              "#fdca26"
             ],
             [
              1,
              "#f0f921"
             ]
            ],
            "type": "histogram2dcontour"
           }
          ],
          "mesh3d": [
           {
            "colorbar": {
             "outlinewidth": 0,
             "ticks": ""
            },
            "type": "mesh3d"
           }
          ],
          "parcoords": [
           {
            "line": {
             "colorbar": {
              "outlinewidth": 0,
              "ticks": ""
             }
            },
            "type": "parcoords"
           }
          ],
          "pie": [
           {
            "automargin": true,
            "type": "pie"
           }
          ],
          "scatter": [
           {
            "marker": {
             "colorbar": {
              "outlinewidth": 0,
              "ticks": ""
             }
            },
            "type": "scatter"
           }
          ],
          "scatter3d": [
           {
            "line": {
             "colorbar": {
              "outlinewidth": 0,
              "ticks": ""
             }
            },
            "marker": {
             "colorbar": {
              "outlinewidth": 0,
              "ticks": ""
             }
            },
            "type": "scatter3d"
           }
          ],
          "scattercarpet": [
           {
            "marker": {
             "colorbar": {
              "outlinewidth": 0,
              "ticks": ""
             }
            },
            "type": "scattercarpet"
           }
          ],
          "scattergeo": [
           {
            "marker": {
             "colorbar": {
              "outlinewidth": 0,
              "ticks": ""
             }
            },
            "type": "scattergeo"
           }
          ],
          "scattergl": [
           {
            "marker": {
             "colorbar": {
              "outlinewidth": 0,
              "ticks": ""
             }
            },
            "type": "scattergl"
           }
          ],
          "scattermapbox": [
           {
            "marker": {
             "colorbar": {
              "outlinewidth": 0,
              "ticks": ""
             }
            },
            "type": "scattermapbox"
           }
          ],
          "scatterpolar": [
           {
            "marker": {
             "colorbar": {
              "outlinewidth": 0,
              "ticks": ""
             }
            },
            "type": "scatterpolar"
           }
          ],
          "scatterpolargl": [
           {
            "marker": {
             "colorbar": {
              "outlinewidth": 0,
              "ticks": ""
             }
            },
            "type": "scatterpolargl"
           }
          ],
          "scatterternary": [
           {
            "marker": {
             "colorbar": {
              "outlinewidth": 0,
              "ticks": ""
             }
            },
            "type": "scatterternary"
           }
          ],
          "surface": [
           {
            "colorbar": {
             "outlinewidth": 0,
             "ticks": ""
            },
            "colorscale": [
             [
              0,
              "#0d0887"
             ],
             [
              0.1111111111111111,
              "#46039f"
             ],
             [
              0.2222222222222222,
              "#7201a8"
             ],
             [
              0.3333333333333333,
              "#9c179e"
             ],
             [
              0.4444444444444444,
              "#bd3786"
             ],
             [
              0.5555555555555556,
              "#d8576b"
             ],
             [
              0.6666666666666666,
              "#ed7953"
             ],
             [
              0.7777777777777778,
              "#fb9f3a"
             ],
             [
              0.8888888888888888,
              "#fdca26"
             ],
             [
              1,
              "#f0f921"
             ]
            ],
            "type": "surface"
           }
          ],
          "table": [
           {
            "cells": {
             "fill": {
              "color": "#EBF0F8"
             },
             "line": {
              "color": "white"
             }
            },
            "header": {
             "fill": {
              "color": "#C8D4E3"
             },
             "line": {
              "color": "white"
             }
            },
            "type": "table"
           }
          ]
         },
         "layout": {
          "annotationdefaults": {
           "arrowcolor": "#2a3f5f",
           "arrowhead": 0,
           "arrowwidth": 1
          },
          "coloraxis": {
           "colorbar": {
            "outlinewidth": 0,
            "ticks": ""
           }
          },
          "colorscale": {
           "diverging": [
            [
             0,
             "#8e0152"
            ],
            [
             0.1,
             "#c51b7d"
            ],
            [
             0.2,
             "#de77ae"
            ],
            [
             0.3,
             "#f1b6da"
            ],
            [
             0.4,
             "#fde0ef"
            ],
            [
             0.5,
             "#f7f7f7"
            ],
            [
             0.6,
             "#e6f5d0"
            ],
            [
             0.7,
             "#b8e186"
            ],
            [
             0.8,
             "#7fbc41"
            ],
            [
             0.9,
             "#4d9221"
            ],
            [
             1,
             "#276419"
            ]
           ],
           "sequential": [
            [
             0,
             "#0d0887"
            ],
            [
             0.1111111111111111,
             "#46039f"
            ],
            [
             0.2222222222222222,
             "#7201a8"
            ],
            [
             0.3333333333333333,
             "#9c179e"
            ],
            [
             0.4444444444444444,
             "#bd3786"
            ],
            [
             0.5555555555555556,
             "#d8576b"
            ],
            [
             0.6666666666666666,
             "#ed7953"
            ],
            [
             0.7777777777777778,
             "#fb9f3a"
            ],
            [
             0.8888888888888888,
             "#fdca26"
            ],
            [
             1,
             "#f0f921"
            ]
           ],
           "sequentialminus": [
            [
             0,
             "#0d0887"
            ],
            [
             0.1111111111111111,
             "#46039f"
            ],
            [
             0.2222222222222222,
             "#7201a8"
            ],
            [
             0.3333333333333333,
             "#9c179e"
            ],
            [
             0.4444444444444444,
             "#bd3786"
            ],
            [
             0.5555555555555556,
             "#d8576b"
            ],
            [
             0.6666666666666666,
             "#ed7953"
            ],
            [
             0.7777777777777778,
             "#fb9f3a"
            ],
            [
             0.8888888888888888,
             "#fdca26"
            ],
            [
             1,
             "#f0f921"
            ]
           ]
          },
          "colorway": [
           "#636efa",
           "#EF553B",
           "#00cc96",
           "#ab63fa",
           "#FFA15A",
           "#19d3f3",
           "#FF6692",
           "#B6E880",
           "#FF97FF",
           "#FECB52"
          ],
          "font": {
           "color": "#2a3f5f"
          },
          "geo": {
           "bgcolor": "white",
           "lakecolor": "white",
           "landcolor": "#E5ECF6",
           "showlakes": true,
           "showland": true,
           "subunitcolor": "white"
          },
          "hoverlabel": {
           "align": "left"
          },
          "hovermode": "closest",
          "mapbox": {
           "style": "light"
          },
          "paper_bgcolor": "white",
          "plot_bgcolor": "#E5ECF6",
          "polar": {
           "angularaxis": {
            "gridcolor": "white",
            "linecolor": "white",
            "ticks": ""
           },
           "bgcolor": "#E5ECF6",
           "radialaxis": {
            "gridcolor": "white",
            "linecolor": "white",
            "ticks": ""
           }
          },
          "scene": {
           "xaxis": {
            "backgroundcolor": "#E5ECF6",
            "gridcolor": "white",
            "gridwidth": 2,
            "linecolor": "white",
            "showbackground": true,
            "ticks": "",
            "zerolinecolor": "white"
           },
           "yaxis": {
            "backgroundcolor": "#E5ECF6",
            "gridcolor": "white",
            "gridwidth": 2,
            "linecolor": "white",
            "showbackground": true,
            "ticks": "",
            "zerolinecolor": "white"
           },
           "zaxis": {
            "backgroundcolor": "#E5ECF6",
            "gridcolor": "white",
            "gridwidth": 2,
            "linecolor": "white",
            "showbackground": true,
            "ticks": "",
            "zerolinecolor": "white"
           }
          },
          "shapedefaults": {
           "line": {
            "color": "#2a3f5f"
           }
          },
          "ternary": {
           "aaxis": {
            "gridcolor": "white",
            "linecolor": "white",
            "ticks": ""
           },
           "baxis": {
            "gridcolor": "white",
            "linecolor": "white",
            "ticks": ""
           },
           "bgcolor": "#E5ECF6",
           "caxis": {
            "gridcolor": "white",
            "linecolor": "white",
            "ticks": ""
           }
          },
          "title": {
           "x": 0.05
          },
          "xaxis": {
           "automargin": true,
           "gridcolor": "white",
           "linecolor": "white",
           "ticks": "",
           "title": {
            "standoff": 15
           },
           "zerolinecolor": "white",
           "zerolinewidth": 2
          },
          "yaxis": {
           "automargin": true,
           "gridcolor": "white",
           "linecolor": "white",
           "ticks": "",
           "title": {
            "standoff": 15
           },
           "zerolinecolor": "white",
           "zerolinewidth": 2
          }
         }
        },
        "title": {
         "font": {
          "color": "#4D5663"
         }
        },
        "xaxis": {
         "anchor": "y",
         "domain": [
          0,
          0.2125
         ],
         "gridcolor": "#E1E5ED",
         "showgrid": false,
         "tickfont": {
          "color": "#4D5663"
         },
         "title": {
          "font": {
           "color": "#4D5663"
          },
          "text": ""
         },
         "zerolinecolor": "#E1E5ED"
        },
        "xaxis10": {
         "anchor": "y10",
         "domain": [
          0.2625,
          0.475
         ],
         "gridcolor": "#E1E5ED",
         "showgrid": false,
         "tickfont": {
          "color": "#4D5663"
         },
         "title": {
          "font": {
           "color": "#4D5663"
          },
          "text": ""
         },
         "zerolinecolor": "#E1E5ED"
        },
        "xaxis11": {
         "anchor": "y11",
         "domain": [
          0.525,
          0.7375
         ],
         "gridcolor": "#E1E5ED",
         "showgrid": false,
         "tickfont": {
          "color": "#4D5663"
         },
         "title": {
          "font": {
           "color": "#4D5663"
          },
          "text": ""
         },
         "zerolinecolor": "#E1E5ED"
        },
        "xaxis12": {
         "anchor": "y12",
         "domain": [
          0.7875,
          1
         ],
         "gridcolor": "#E1E5ED",
         "showgrid": false,
         "tickfont": {
          "color": "#4D5663"
         },
         "title": {
          "font": {
           "color": "#4D5663"
          },
          "text": ""
         },
         "zerolinecolor": "#E1E5ED"
        },
        "xaxis13": {
         "anchor": "y13",
         "domain": [
          0,
          0.2125
         ],
         "gridcolor": "#E1E5ED",
         "showgrid": false,
         "tickfont": {
          "color": "#4D5663"
         },
         "title": {
          "font": {
           "color": "#4D5663"
          },
          "text": ""
         },
         "zerolinecolor": "#E1E5ED"
        },
        "xaxis14": {
         "anchor": "y14",
         "domain": [
          0.2625,
          0.475
         ],
         "gridcolor": "#E1E5ED",
         "showgrid": false,
         "tickfont": {
          "color": "#4D5663"
         },
         "title": {
          "font": {
           "color": "#4D5663"
          },
          "text": ""
         },
         "zerolinecolor": "#E1E5ED"
        },
        "xaxis15": {
         "anchor": "y15",
         "domain": [
          0.525,
          0.7375
         ],
         "gridcolor": "#E1E5ED",
         "showgrid": false,
         "tickfont": {
          "color": "#4D5663"
         },
         "title": {
          "font": {
           "color": "#4D5663"
          },
          "text": ""
         },
         "zerolinecolor": "#E1E5ED"
        },
        "xaxis16": {
         "anchor": "y16",
         "domain": [
          0.7875,
          1
         ],
         "gridcolor": "#E1E5ED",
         "showgrid": false,
         "tickfont": {
          "color": "#4D5663"
         },
         "title": {
          "font": {
           "color": "#4D5663"
          },
          "text": ""
         },
         "zerolinecolor": "#E1E5ED"
        },
        "xaxis2": {
         "anchor": "y2",
         "domain": [
          0.2625,
          0.475
         ],
         "gridcolor": "#E1E5ED",
         "showgrid": false,
         "tickfont": {
          "color": "#4D5663"
         },
         "title": {
          "font": {
           "color": "#4D5663"
          },
          "text": ""
         },
         "zerolinecolor": "#E1E5ED"
        },
        "xaxis3": {
         "anchor": "y3",
         "domain": [
          0.525,
          0.7375
         ],
         "gridcolor": "#E1E5ED",
         "showgrid": false,
         "tickfont": {
          "color": "#4D5663"
         },
         "title": {
          "font": {
           "color": "#4D5663"
          },
          "text": ""
         },
         "zerolinecolor": "#E1E5ED"
        },
        "xaxis4": {
         "anchor": "y4",
         "domain": [
          0.7875,
          1
         ],
         "gridcolor": "#E1E5ED",
         "showgrid": false,
         "tickfont": {
          "color": "#4D5663"
         },
         "title": {
          "font": {
           "color": "#4D5663"
          },
          "text": ""
         },
         "zerolinecolor": "#E1E5ED"
        },
        "xaxis5": {
         "anchor": "y5",
         "domain": [
          0,
          0.2125
         ],
         "gridcolor": "#E1E5ED",
         "showgrid": false,
         "tickfont": {
          "color": "#4D5663"
         },
         "title": {
          "font": {
           "color": "#4D5663"
          },
          "text": ""
         },
         "zerolinecolor": "#E1E5ED"
        },
        "xaxis6": {
         "anchor": "y6",
         "domain": [
          0.2625,
          0.475
         ],
         "gridcolor": "#E1E5ED",
         "showgrid": false,
         "tickfont": {
          "color": "#4D5663"
         },
         "title": {
          "font": {
           "color": "#4D5663"
          },
          "text": ""
         },
         "zerolinecolor": "#E1E5ED"
        },
        "xaxis7": {
         "anchor": "y7",
         "domain": [
          0.525,
          0.7375
         ],
         "gridcolor": "#E1E5ED",
         "showgrid": false,
         "tickfont": {
          "color": "#4D5663"
         },
         "title": {
          "font": {
           "color": "#4D5663"
          },
          "text": ""
         },
         "zerolinecolor": "#E1E5ED"
        },
        "xaxis8": {
         "anchor": "y8",
         "domain": [
          0.7875,
          1
         ],
         "gridcolor": "#E1E5ED",
         "showgrid": false,
         "tickfont": {
          "color": "#4D5663"
         },
         "title": {
          "font": {
           "color": "#4D5663"
          },
          "text": ""
         },
         "zerolinecolor": "#E1E5ED"
        },
        "xaxis9": {
         "anchor": "y9",
         "domain": [
          0,
          0.2125
         ],
         "gridcolor": "#E1E5ED",
         "showgrid": false,
         "tickfont": {
          "color": "#4D5663"
         },
         "title": {
          "font": {
           "color": "#4D5663"
          },
          "text": ""
         },
         "zerolinecolor": "#E1E5ED"
        },
        "yaxis": {
         "anchor": "x",
         "domain": [
          0.8025,
          1
         ],
         "gridcolor": "#E1E5ED",
         "showgrid": false,
         "tickfont": {
          "color": "#4D5663"
         },
         "title": {
          "font": {
           "color": "#4D5663"
          },
          "text": ""
         },
         "zerolinecolor": "#E1E5ED"
        },
        "yaxis10": {
         "anchor": "x10",
         "domain": [
          0.2675,
          0.465
         ],
         "gridcolor": "#E1E5ED",
         "showgrid": false,
         "tickfont": {
          "color": "#4D5663"
         },
         "title": {
          "font": {
           "color": "#4D5663"
          },
          "text": ""
         },
         "zerolinecolor": "#E1E5ED"
        },
        "yaxis11": {
         "anchor": "x11",
         "domain": [
          0.2675,
          0.465
         ],
         "gridcolor": "#E1E5ED",
         "showgrid": false,
         "tickfont": {
          "color": "#4D5663"
         },
         "title": {
          "font": {
           "color": "#4D5663"
          },
          "text": ""
         },
         "zerolinecolor": "#E1E5ED"
        },
        "yaxis12": {
         "anchor": "x12",
         "domain": [
          0.2675,
          0.465
         ],
         "gridcolor": "#E1E5ED",
         "showgrid": false,
         "tickfont": {
          "color": "#4D5663"
         },
         "title": {
          "font": {
           "color": "#4D5663"
          },
          "text": ""
         },
         "zerolinecolor": "#E1E5ED"
        },
        "yaxis13": {
         "anchor": "x13",
         "domain": [
          0,
          0.1975
         ],
         "gridcolor": "#E1E5ED",
         "showgrid": false,
         "tickfont": {
          "color": "#4D5663"
         },
         "title": {
          "font": {
           "color": "#4D5663"
          },
          "text": ""
         },
         "zerolinecolor": "#E1E5ED"
        },
        "yaxis14": {
         "anchor": "x14",
         "domain": [
          0,
          0.1975
         ],
         "gridcolor": "#E1E5ED",
         "showgrid": false,
         "tickfont": {
          "color": "#4D5663"
         },
         "title": {
          "font": {
           "color": "#4D5663"
          },
          "text": ""
         },
         "zerolinecolor": "#E1E5ED"
        },
        "yaxis15": {
         "anchor": "x15",
         "domain": [
          0,
          0.1975
         ],
         "gridcolor": "#E1E5ED",
         "showgrid": false,
         "tickfont": {
          "color": "#4D5663"
         },
         "title": {
          "font": {
           "color": "#4D5663"
          },
          "text": ""
         },
         "zerolinecolor": "#E1E5ED"
        },
        "yaxis16": {
         "anchor": "x16",
         "domain": [
          0,
          0.1975
         ],
         "gridcolor": "#E1E5ED",
         "showgrid": false,
         "tickfont": {
          "color": "#4D5663"
         },
         "title": {
          "font": {
           "color": "#4D5663"
          },
          "text": ""
         },
         "zerolinecolor": "#E1E5ED"
        },
        "yaxis2": {
         "anchor": "x2",
         "domain": [
          0.8025,
          1
         ],
         "gridcolor": "#E1E5ED",
         "showgrid": false,
         "tickfont": {
          "color": "#4D5663"
         },
         "title": {
          "font": {
           "color": "#4D5663"
          },
          "text": ""
         },
         "zerolinecolor": "#E1E5ED"
        },
        "yaxis3": {
         "anchor": "x3",
         "domain": [
          0.8025,
          1
         ],
         "gridcolor": "#E1E5ED",
         "showgrid": false,
         "tickfont": {
          "color": "#4D5663"
         },
         "title": {
          "font": {
           "color": "#4D5663"
          },
          "text": ""
         },
         "zerolinecolor": "#E1E5ED"
        },
        "yaxis4": {
         "anchor": "x4",
         "domain": [
          0.8025,
          1
         ],
         "gridcolor": "#E1E5ED",
         "showgrid": false,
         "tickfont": {
          "color": "#4D5663"
         },
         "title": {
          "font": {
           "color": "#4D5663"
          },
          "text": ""
         },
         "zerolinecolor": "#E1E5ED"
        },
        "yaxis5": {
         "anchor": "x5",
         "domain": [
          0.535,
          0.7325
         ],
         "gridcolor": "#E1E5ED",
         "showgrid": false,
         "tickfont": {
          "color": "#4D5663"
         },
         "title": {
          "font": {
           "color": "#4D5663"
          },
          "text": ""
         },
         "zerolinecolor": "#E1E5ED"
        },
        "yaxis6": {
         "anchor": "x6",
         "domain": [
          0.535,
          0.7325
         ],
         "gridcolor": "#E1E5ED",
         "showgrid": false,
         "tickfont": {
          "color": "#4D5663"
         },
         "title": {
          "font": {
           "color": "#4D5663"
          },
          "text": ""
         },
         "zerolinecolor": "#E1E5ED"
        },
        "yaxis7": {
         "anchor": "x7",
         "domain": [
          0.535,
          0.7325
         ],
         "gridcolor": "#E1E5ED",
         "showgrid": false,
         "tickfont": {
          "color": "#4D5663"
         },
         "title": {
          "font": {
           "color": "#4D5663"
          },
          "text": ""
         },
         "zerolinecolor": "#E1E5ED"
        },
        "yaxis8": {
         "anchor": "x8",
         "domain": [
          0.535,
          0.7325
         ],
         "gridcolor": "#E1E5ED",
         "showgrid": false,
         "tickfont": {
          "color": "#4D5663"
         },
         "title": {
          "font": {
           "color": "#4D5663"
          },
          "text": ""
         },
         "zerolinecolor": "#E1E5ED"
        },
        "yaxis9": {
         "anchor": "x9",
         "domain": [
          0.2675,
          0.465
         ],
         "gridcolor": "#E1E5ED",
         "showgrid": false,
         "tickfont": {
          "color": "#4D5663"
         },
         "title": {
          "font": {
           "color": "#4D5663"
          },
          "text": ""
         },
         "zerolinecolor": "#E1E5ED"
        }
       }
      },
      "text/html": [
       "<div>\n",
       "        \n",
       "        \n",
       "            <div id=\"2cadbb16-5d74-4697-b369-8218f6ced836\" class=\"plotly-graph-div\" style=\"height:525px; width:100%;\"></div>\n",
       "            <script type=\"text/javascript\">\n",
       "                require([\"plotly\"], function(Plotly) {\n",
       "                    window.PLOTLYENV=window.PLOTLYENV || {};\n",
       "                    window.PLOTLYENV.BASE_URL='https://plot.ly';\n",
       "                    \n",
       "                if (document.getElementById(\"2cadbb16-5d74-4697-b369-8218f6ced836\")) {\n",
       "                    Plotly.newPlot(\n",
       "                        '2cadbb16-5d74-4697-b369-8218f6ced836',\n",
       "                        [{\"histfunc\": \"count\", \"histnorm\": \"\", \"marker\": {\"color\": \"rgba(255, 153, 51, 1.0)\", \"line\": {\"color\": \"#4D5663\", \"width\": 1.3}}, \"name\": \"A\", \"nbinsx\": 10, \"opacity\": 0.8, \"orientation\": \"v\", \"type\": \"histogram\", \"x\": [-1.7328184700099154, -0.6655392531642427, -0.5141887381353419, -0.5307819801565642, -1.118698345400647, -0.015307381413286457, -1.4557398829714918, 0.8591588400819069, -0.26492340869200365, 0.4967984376875904, 0.04182940727328566, -1.7386011275388331, 0.6969431444672501, -0.052871581583919115, -1.6601792523085324, 0.05748666839097407, 0.1837621355327402, 1.4962874424816663, -0.6205832412165161, 0.1520623253012091, -0.0038386316317565086, 0.5512624161773946, 0.2036636174075826, -1.52475862710216, 0.9236883896430348, 2.046445624318661, -1.6928966996502095, -0.49450683165912346, -0.32097571153166865, 0.18429648757950035, 0.9590315555760798, 0.24518063014786312, 1.1035536863820947, -0.4262789193890452, 0.38796398237909235, 0.06095890635811224, -0.12080953360031857, 0.720045065572963, 1.1384712663936534, 0.91631532775539, -1.3971319160459976, 0.15533512015255674, -0.24322476528350576, -1.876186615785088, 1.3283670094396747, 1.4762463769813379, -0.0720559521924466, 0.7329609025539923, -0.6413826991069103, 0.12982126874312913, 1.518939354007646, -1.1545144296807108, 0.1470207356938776, -0.6908031760314431, -0.055941386298454326, 1.3156460053880759, 0.619892489089758, 0.6088290563295004, -0.5374672551116969, -0.6880550583755078, 0.7168531852731158, 0.007647487232779944, 2.211320735120686, 0.6438165866259979, -1.0666772238124416, 1.1185433129275277, -1.7299998201445086, -0.25975599587783443, 0.4226172574698807, 0.3941769709373833, 0.5160961375330596, 1.81819966745681, 0.7991786252320352, 1.046987568805078, -1.128395723062902, 1.7936925593507211, -0.5149323886783681, -0.9802210244604053, 0.2019466283016788, 0.5362430245906857, -1.8460225900728473, 1.1210128548791507, 0.4428581166140847, -0.3971102158075737, 1.0099720456684251, 0.04323912485309805, 0.16186786619863405, -0.8532924235905249, 0.5683047812022923, -0.7182340782336945, -0.33714320289360633, 1.6558347652323795, 0.4051329252254166, 0.7723889649324748, 0.9858257378129331, 0.3393662311036916, 1.251335110862688, -0.8894527872587709, 0.022788498965433734, 0.1529745603304253], \"xaxis\": \"x\", \"yaxis\": \"y\"}, {\"line\": {\"color\": \"rgba(128, 128, 128, 1.0)\", \"dash\": \"solid\", \"shape\": \"linear\", \"width\": 1.3}, \"marker\": {\"size\": 2, \"symbol\": \"circle\"}, \"mode\": \"markers\", \"name\": \"A\", \"text\": \"\", \"type\": \"scatter\", \"x\": [-0.5737945545380813, 1.10681733267001, -0.8642735138565506, 0.5403727191652674, 1.3446585111575515, 0.9707770371986021, -0.4758158228346009, -1.7206476733987262, -0.5213925667074699, -1.3160304741085156, 1.7139340392948705, -1.081772196858882, 0.6852193539140005, 0.2357121945272125, -0.21621060736553435, -1.16561783610473, -0.7160992151206331, -0.7963619994131266, -5.734197369323232e-05, 0.4121475843934423, -0.5346345063636659, 0.9800828890027675, -0.17355190502161186, 0.50663665254452, -0.9743640840943804, 2.4442193260237777, -1.5127481904255589, -0.4463273169784612, 0.2863886544997744, -2.6366488568868967, 0.3399990001282703, -0.4238775381884636, 0.09553159887378632, 0.030443516590440534, -0.117465978296997, 0.5680994389852261, 0.8986361709059272, 0.05807554994885092, -0.573788376859282, 0.07770170114819182, -0.1532975170574101, -1.7259334090059024, 1.9288714395457591, -0.5540020564911894, 0.7437781696058638, 0.09207992430893966, -0.09103602463885366, 0.4550902656062467, -1.049078831656769, 0.39971184330269044, 1.8580764136015517, 1.530549476657037, -1.550731195712601, -1.7384459910819856, -0.9078249514952067, -0.5390811901792363, 2.0245770702001114, 0.060145825037109524, 0.19512977367730458, -0.906664515766312, -0.4579375421367402, 1.5950732986077922, -0.06095303450437194, -0.7050404940898929, -0.7948447032770758, -0.5673176973672968, -1.2621608935191002, -0.6700539341340684, 0.5446324881912484, -0.872920736801528, -0.917874519634289, -1.4537221534915523, 0.16881163940843347, 0.20088757260669715, 0.18290911610110255, -1.476238336965387, -0.5561300294068415, -0.36454287791069184, -0.06220468912964303, -0.9794835695449904, 1.9058757707845015, 0.09730984282951217, 0.974860478095882, -0.13908650831671687, 0.7492916762415887, -0.5509520407165336, -0.6638932817154232, -0.08468534082475872, 0.032786764332160115, -0.13758137168049833, 1.0497203019324426, 0.5940635515384379, -0.3397995017727589, 0.2857793266688294, 0.8331357511706957, 0.24054536988523556, -0.6609910622382077, -1.015298446375443, 0.7385713900137486, -0.43492175701388197], \"xaxis\": \"x2\", \"y\": [-1.7328184700099154, -0.6655392531642427, -0.5141887381353419, -0.5307819801565642, -1.118698345400647, -0.015307381413286457, -1.4557398829714918, 0.8591588400819069, -0.26492340869200365, 0.4967984376875904, 0.04182940727328566, -1.7386011275388331, 0.6969431444672501, -0.052871581583919115, -1.6601792523085324, 0.05748666839097407, 0.1837621355327402, 1.4962874424816663, -0.6205832412165161, 0.1520623253012091, -0.0038386316317565086, 0.5512624161773946, 0.2036636174075826, -1.52475862710216, 0.9236883896430348, 2.046445624318661, -1.6928966996502095, -0.49450683165912346, -0.32097571153166865, 0.18429648757950035, 0.9590315555760798, 0.24518063014786312, 1.1035536863820947, -0.4262789193890452, 0.38796398237909235, 0.06095890635811224, -0.12080953360031857, 0.720045065572963, 1.1384712663936534, 0.91631532775539, -1.3971319160459976, 0.15533512015255674, -0.24322476528350576, -1.876186615785088, 1.3283670094396747, 1.4762463769813379, -0.0720559521924466, 0.7329609025539923, -0.6413826991069103, 0.12982126874312913, 1.518939354007646, -1.1545144296807108, 0.1470207356938776, -0.6908031760314431, -0.055941386298454326, 1.3156460053880759, 0.619892489089758, 0.6088290563295004, -0.5374672551116969, -0.6880550583755078, 0.7168531852731158, 0.007647487232779944, 2.211320735120686, 0.6438165866259979, -1.0666772238124416, 1.1185433129275277, -1.7299998201445086, -0.25975599587783443, 0.4226172574698807, 0.3941769709373833, 0.5160961375330596, 1.81819966745681, 0.7991786252320352, 1.046987568805078, -1.128395723062902, 1.7936925593507211, -0.5149323886783681, -0.9802210244604053, 0.2019466283016788, 0.5362430245906857, -1.8460225900728473, 1.1210128548791507, 0.4428581166140847, -0.3971102158075737, 1.0099720456684251, 0.04323912485309805, 0.16186786619863405, -0.8532924235905249, 0.5683047812022923, -0.7182340782336945, -0.33714320289360633, 1.6558347652323795, 0.4051329252254166, 0.7723889649324748, 0.9858257378129331, 0.3393662311036916, 1.251335110862688, -0.8894527872587709, 0.022788498965433734, 0.1529745603304253], \"yaxis\": \"y2\"}, {\"line\": {\"color\": \"rgba(128, 128, 128, 1.0)\", \"dash\": \"solid\", \"shape\": \"linear\", \"width\": 1.3}, \"marker\": {\"size\": 2, \"symbol\": \"circle\"}, \"mode\": \"markers\", \"name\": \"A\", \"text\": \"\", \"type\": \"scatter\", \"x\": [-2.5143134923113903, -0.6509188072601796, -1.0929806376167406, -2.608523012686631, -0.6515439074095098, -0.0333064701190502, 0.7606633089063881, 0.4128709184030706, -0.6631434605605585, 0.9383284809663233, -0.640923939094296, -1.451322224393623, -0.32452068357876357, 0.8560062510029888, 0.04874730079016477, -0.6502876099939146, 2.0300873604999925, 1.588622467301215, -0.02098210969456584, -0.5386063210027243, 0.3939456041421512, 0.5400582082029005, 1.2029381600400066, -1.599263794059734, 0.10677637474981985, 1.5243359839917698, -0.5531122529989283, 0.0018013257277539978, 0.007243731819215415, 0.3223473198321976, -1.0040855072140582, -0.5579320573624444, 1.0706742691410756, -0.6889035466203947, 0.2530161671325349, -1.743532298622672, -0.36352469284064715, 1.0313892282054828, -0.3987531022294804, -0.1400567640821582, 0.30414057790022453, -0.36640897480614737, -0.21419913181904907, 1.241243088420183, -0.6739876378558262, 0.07389182612537284, -0.03224726111307327, 1.1194329765894249, -0.6761821835514656, -1.6134368534742802, -0.41960299481596236, -0.19060574059427185, -0.11993860090379943, 0.31521309072533965, -2.021558231845061, -0.21644300192401225, -1.6877313200922548, -1.8076751235857098, -1.3852283577275846, -0.6661149941134256, 1.0063768444171797, 1.359618305861139, -1.469018277477196, -0.6577234211061695, -1.3683531470706467, -1.8237598616040247, 0.41753443738107054, -1.1526259185288221, -1.4323469934265356, -0.8830593669489718, 1.8431546945645012, -0.3625854899437133, 0.7694279154705537, 0.08941362971901017, 1.4660643585433049, 0.06829484146577768, -0.8511623078027825, -1.384913582089352, -1.1378261979375641, 0.38386522671538453, -1.2932844941271617, 0.7647470295737824, 0.2632165909128464, 1.2568833608738816, 1.2665194060352905, -1.760462544297134, -0.38007233523979733, -2.2853515965367737, 0.26537879693495575, -0.29996880981165763, -0.11434376808773915, 0.6228937735392496, -0.22652070309699104, -1.3926389582870053, -0.21170574994847616, -1.0759943427876493, 0.5140215484688332, 0.19608037262269554, -2.171579893652071, -0.7156074544641537], \"xaxis\": \"x3\", \"y\": [-1.7328184700099154, -0.6655392531642427, -0.5141887381353419, -0.5307819801565642, -1.118698345400647, -0.015307381413286457, -1.4557398829714918, 0.8591588400819069, -0.26492340869200365, 0.4967984376875904, 0.04182940727328566, -1.7386011275388331, 0.6969431444672501, -0.052871581583919115, -1.6601792523085324, 0.05748666839097407, 0.1837621355327402, 1.4962874424816663, -0.6205832412165161, 0.1520623253012091, -0.0038386316317565086, 0.5512624161773946, 0.2036636174075826, -1.52475862710216, 0.9236883896430348, 2.046445624318661, -1.6928966996502095, -0.49450683165912346, -0.32097571153166865, 0.18429648757950035, 0.9590315555760798, 0.24518063014786312, 1.1035536863820947, -0.4262789193890452, 0.38796398237909235, 0.06095890635811224, -0.12080953360031857, 0.720045065572963, 1.1384712663936534, 0.91631532775539, -1.3971319160459976, 0.15533512015255674, -0.24322476528350576, -1.876186615785088, 1.3283670094396747, 1.4762463769813379, -0.0720559521924466, 0.7329609025539923, -0.6413826991069103, 0.12982126874312913, 1.518939354007646, -1.1545144296807108, 0.1470207356938776, -0.6908031760314431, -0.055941386298454326, 1.3156460053880759, 0.619892489089758, 0.6088290563295004, -0.5374672551116969, -0.6880550583755078, 0.7168531852731158, 0.007647487232779944, 2.211320735120686, 0.6438165866259979, -1.0666772238124416, 1.1185433129275277, -1.7299998201445086, -0.25975599587783443, 0.4226172574698807, 0.3941769709373833, 0.5160961375330596, 1.81819966745681, 0.7991786252320352, 1.046987568805078, -1.128395723062902, 1.7936925593507211, -0.5149323886783681, -0.9802210244604053, 0.2019466283016788, 0.5362430245906857, -1.8460225900728473, 1.1210128548791507, 0.4428581166140847, -0.3971102158075737, 1.0099720456684251, 0.04323912485309805, 0.16186786619863405, -0.8532924235905249, 0.5683047812022923, -0.7182340782336945, -0.33714320289360633, 1.6558347652323795, 0.4051329252254166, 0.7723889649324748, 0.9858257378129331, 0.3393662311036916, 1.251335110862688, -0.8894527872587709, 0.022788498965433734, 0.1529745603304253], \"yaxis\": \"y3\"}, {\"line\": {\"color\": \"rgba(128, 128, 128, 1.0)\", \"dash\": \"solid\", \"shape\": \"linear\", \"width\": 1.3}, \"marker\": {\"size\": 2, \"symbol\": \"circle\"}, \"mode\": \"markers\", \"name\": \"A\", \"text\": \"\", \"type\": \"scatter\", \"x\": [0.2635037826051746, -2.239900668127504, 0.6287513844324132, -2.1948221717203333, 0.6432799029201886, 1.209932206786237, -2.3545318574450134, 1.0745305466796755, -0.49275888145241564, -0.6669718697162098, 0.655200056418349, 1.5182651759676702, -1.5989561766263891, -0.5436935447528642, 0.1531899904145127, -1.253636332403664, 1.1026176291994954, 0.12708566121369286, -0.8535306920291047, -1.0248348769183893, -0.6045196815864822, -0.3953328860122542, 0.12003883366812776, 0.5953865334820625, -0.06212991230184508, 1.452689162912124, 0.4406880123087512, -1.613173683413528, 0.7772003829979456, -1.5631590743611659, 1.1444928651886228, -1.3607397426450984, 0.3505686485630722, 0.6601026213592619, 0.553392942363766, -0.23098918344720173, 0.8311318198942066, -0.08201430903256268, 0.2824545751892871, -0.03172367883037509, 0.3743088818050335, 0.5397953798154068, -1.2004762068784165, 0.2968361571745551, 0.14457907383222568, -0.5028088116733017, 0.5961255166425773, -1.7844469407248074, -2.496330914118227, -1.0261280768372907, 1.9368714651311647, -0.3674146748731469, 1.799442623225765, 0.2755359292972475, -0.14710677085185983, -0.687086704638258, 0.1999909696944079, 0.05105367380417333, -1.6961422920296267, 1.3147773687954898, 0.995116497484058, -0.8658822037081225, -0.004408572653071275, -1.4414798499456125, -0.5405079236279586, -0.533085208042458, 1.0943498426037666, -1.282138908622184, -0.6725787172001605, 0.43632191387047947, 1.8237296763666204, -1.7046840650369615, -0.860871824186915, 1.4634316445135658, 0.39371432565306586, -0.6469203777739958, -0.8556891941805826, -0.3353507357876152, 0.8028157715863787, -0.1639592906043109, -0.44702553786145677, -0.38310852317831606, -0.4570542510733638, 1.0845518642914551, 0.5169438264391508, -0.5641824896873722, 0.8100973323193629, 2.3351595477119416, -2.111058499254949, 0.5262861952143004, -0.853625275955298, -0.9682396772350652, -0.7774006438523732, -2.5104955678597096, 0.3598120367191213, -0.25608224070565877, 0.006413200965211256, 0.0524766666787389, 0.3074201403453346, 0.12702927894046318], \"xaxis\": \"x4\", \"y\": [-1.7328184700099154, -0.6655392531642427, -0.5141887381353419, -0.5307819801565642, -1.118698345400647, -0.015307381413286457, -1.4557398829714918, 0.8591588400819069, -0.26492340869200365, 0.4967984376875904, 0.04182940727328566, -1.7386011275388331, 0.6969431444672501, -0.052871581583919115, -1.6601792523085324, 0.05748666839097407, 0.1837621355327402, 1.4962874424816663, -0.6205832412165161, 0.1520623253012091, -0.0038386316317565086, 0.5512624161773946, 0.2036636174075826, -1.52475862710216, 0.9236883896430348, 2.046445624318661, -1.6928966996502095, -0.49450683165912346, -0.32097571153166865, 0.18429648757950035, 0.9590315555760798, 0.24518063014786312, 1.1035536863820947, -0.4262789193890452, 0.38796398237909235, 0.06095890635811224, -0.12080953360031857, 0.720045065572963, 1.1384712663936534, 0.91631532775539, -1.3971319160459976, 0.15533512015255674, -0.24322476528350576, -1.876186615785088, 1.3283670094396747, 1.4762463769813379, -0.0720559521924466, 0.7329609025539923, -0.6413826991069103, 0.12982126874312913, 1.518939354007646, -1.1545144296807108, 0.1470207356938776, -0.6908031760314431, -0.055941386298454326, 1.3156460053880759, 0.619892489089758, 0.6088290563295004, -0.5374672551116969, -0.6880550583755078, 0.7168531852731158, 0.007647487232779944, 2.211320735120686, 0.6438165866259979, -1.0666772238124416, 1.1185433129275277, -1.7299998201445086, -0.25975599587783443, 0.4226172574698807, 0.3941769709373833, 0.5160961375330596, 1.81819966745681, 0.7991786252320352, 1.046987568805078, -1.128395723062902, 1.7936925593507211, -0.5149323886783681, -0.9802210244604053, 0.2019466283016788, 0.5362430245906857, -1.8460225900728473, 1.1210128548791507, 0.4428581166140847, -0.3971102158075737, 1.0099720456684251, 0.04323912485309805, 0.16186786619863405, -0.8532924235905249, 0.5683047812022923, -0.7182340782336945, -0.33714320289360633, 1.6558347652323795, 0.4051329252254166, 0.7723889649324748, 0.9858257378129331, 0.3393662311036916, 1.251335110862688, -0.8894527872587709, 0.022788498965433734, 0.1529745603304253], \"yaxis\": \"y4\"}, {\"line\": {\"color\": \"rgba(128, 128, 128, 1.0)\", \"dash\": \"solid\", \"shape\": \"linear\", \"width\": 1.3}, \"marker\": {\"size\": 2, \"symbol\": \"circle\"}, \"mode\": \"markers\", \"name\": \"B\", \"text\": \"\", \"type\": \"scatter\", \"x\": [-1.7328184700099154, -0.6655392531642427, -0.5141887381353419, -0.5307819801565642, -1.118698345400647, -0.015307381413286457, -1.4557398829714918, 0.8591588400819069, -0.26492340869200365, 0.4967984376875904, 0.04182940727328566, -1.7386011275388331, 0.6969431444672501, -0.052871581583919115, -1.6601792523085324, 0.05748666839097407, 0.1837621355327402, 1.4962874424816663, -0.6205832412165161, 0.1520623253012091, -0.0038386316317565086, 0.5512624161773946, 0.2036636174075826, -1.52475862710216, 0.9236883896430348, 2.046445624318661, -1.6928966996502095, -0.49450683165912346, -0.32097571153166865, 0.18429648757950035, 0.9590315555760798, 0.24518063014786312, 1.1035536863820947, -0.4262789193890452, 0.38796398237909235, 0.06095890635811224, -0.12080953360031857, 0.720045065572963, 1.1384712663936534, 0.91631532775539, -1.3971319160459976, 0.15533512015255674, -0.24322476528350576, -1.876186615785088, 1.3283670094396747, 1.4762463769813379, -0.0720559521924466, 0.7329609025539923, -0.6413826991069103, 0.12982126874312913, 1.518939354007646, -1.1545144296807108, 0.1470207356938776, -0.6908031760314431, -0.055941386298454326, 1.3156460053880759, 0.619892489089758, 0.6088290563295004, -0.5374672551116969, -0.6880550583755078, 0.7168531852731158, 0.007647487232779944, 2.211320735120686, 0.6438165866259979, -1.0666772238124416, 1.1185433129275277, -1.7299998201445086, -0.25975599587783443, 0.4226172574698807, 0.3941769709373833, 0.5160961375330596, 1.81819966745681, 0.7991786252320352, 1.046987568805078, -1.128395723062902, 1.7936925593507211, -0.5149323886783681, -0.9802210244604053, 0.2019466283016788, 0.5362430245906857, -1.8460225900728473, 1.1210128548791507, 0.4428581166140847, -0.3971102158075737, 1.0099720456684251, 0.04323912485309805, 0.16186786619863405, -0.8532924235905249, 0.5683047812022923, -0.7182340782336945, -0.33714320289360633, 1.6558347652323795, 0.4051329252254166, 0.7723889649324748, 0.9858257378129331, 0.3393662311036916, 1.251335110862688, -0.8894527872587709, 0.022788498965433734, 0.1529745603304253], \"xaxis\": \"x5\", \"y\": [-0.5737945545380813, 1.10681733267001, -0.8642735138565506, 0.5403727191652674, 1.3446585111575515, 0.9707770371986021, -0.4758158228346009, -1.7206476733987262, -0.5213925667074699, -1.3160304741085156, 1.7139340392948705, -1.081772196858882, 0.6852193539140005, 0.2357121945272125, -0.21621060736553435, -1.16561783610473, -0.7160992151206331, -0.7963619994131266, -5.734197369323232e-05, 0.4121475843934423, -0.5346345063636659, 0.9800828890027675, -0.17355190502161186, 0.50663665254452, -0.9743640840943804, 2.4442193260237777, -1.5127481904255589, -0.4463273169784612, 0.2863886544997744, -2.6366488568868967, 0.3399990001282703, -0.4238775381884636, 0.09553159887378632, 0.030443516590440534, -0.117465978296997, 0.5680994389852261, 0.8986361709059272, 0.05807554994885092, -0.573788376859282, 0.07770170114819182, -0.1532975170574101, -1.7259334090059024, 1.9288714395457591, -0.5540020564911894, 0.7437781696058638, 0.09207992430893966, -0.09103602463885366, 0.4550902656062467, -1.049078831656769, 0.39971184330269044, 1.8580764136015517, 1.530549476657037, -1.550731195712601, -1.7384459910819856, -0.9078249514952067, -0.5390811901792363, 2.0245770702001114, 0.060145825037109524, 0.19512977367730458, -0.906664515766312, -0.4579375421367402, 1.5950732986077922, -0.06095303450437194, -0.7050404940898929, -0.7948447032770758, -0.5673176973672968, -1.2621608935191002, -0.6700539341340684, 0.5446324881912484, -0.872920736801528, -0.917874519634289, -1.4537221534915523, 0.16881163940843347, 0.20088757260669715, 0.18290911610110255, -1.476238336965387, -0.5561300294068415, -0.36454287791069184, -0.06220468912964303, -0.9794835695449904, 1.9058757707845015, 0.09730984282951217, 0.974860478095882, -0.13908650831671687, 0.7492916762415887, -0.5509520407165336, -0.6638932817154232, -0.08468534082475872, 0.032786764332160115, -0.13758137168049833, 1.0497203019324426, 0.5940635515384379, -0.3397995017727589, 0.2857793266688294, 0.8331357511706957, 0.24054536988523556, -0.6609910622382077, -1.015298446375443, 0.7385713900137486, -0.43492175701388197], \"yaxis\": \"y5\"}, {\"histfunc\": \"count\", \"histnorm\": \"\", \"marker\": {\"color\": \"rgba(55, 128, 191, 1.0)\", \"line\": {\"color\": \"#4D5663\", \"width\": 1.3}}, \"name\": \"B\", \"nbinsx\": 10, \"opacity\": 0.8, \"orientation\": \"v\", \"type\": \"histogram\", \"x\": [-0.5737945545380813, 1.10681733267001, -0.8642735138565506, 0.5403727191652674, 1.3446585111575515, 0.9707770371986021, -0.4758158228346009, -1.7206476733987262, -0.5213925667074699, -1.3160304741085156, 1.7139340392948705, -1.081772196858882, 0.6852193539140005, 0.2357121945272125, -0.21621060736553435, -1.16561783610473, -0.7160992151206331, -0.7963619994131266, -5.734197369323232e-05, 0.4121475843934423, -0.5346345063636659, 0.9800828890027675, -0.17355190502161186, 0.50663665254452, -0.9743640840943804, 2.4442193260237777, -1.5127481904255589, -0.4463273169784612, 0.2863886544997744, -2.6366488568868967, 0.3399990001282703, -0.4238775381884636, 0.09553159887378632, 0.030443516590440534, -0.117465978296997, 0.5680994389852261, 0.8986361709059272, 0.05807554994885092, -0.573788376859282, 0.07770170114819182, -0.1532975170574101, -1.7259334090059024, 1.9288714395457591, -0.5540020564911894, 0.7437781696058638, 0.09207992430893966, -0.09103602463885366, 0.4550902656062467, -1.049078831656769, 0.39971184330269044, 1.8580764136015517, 1.530549476657037, -1.550731195712601, -1.7384459910819856, -0.9078249514952067, -0.5390811901792363, 2.0245770702001114, 0.060145825037109524, 0.19512977367730458, -0.906664515766312, -0.4579375421367402, 1.5950732986077922, -0.06095303450437194, -0.7050404940898929, -0.7948447032770758, -0.5673176973672968, -1.2621608935191002, -0.6700539341340684, 0.5446324881912484, -0.872920736801528, -0.917874519634289, -1.4537221534915523, 0.16881163940843347, 0.20088757260669715, 0.18290911610110255, -1.476238336965387, -0.5561300294068415, -0.36454287791069184, -0.06220468912964303, -0.9794835695449904, 1.9058757707845015, 0.09730984282951217, 0.974860478095882, -0.13908650831671687, 0.7492916762415887, -0.5509520407165336, -0.6638932817154232, -0.08468534082475872, 0.032786764332160115, -0.13758137168049833, 1.0497203019324426, 0.5940635515384379, -0.3397995017727589, 0.2857793266688294, 0.8331357511706957, 0.24054536988523556, -0.6609910622382077, -1.015298446375443, 0.7385713900137486, -0.43492175701388197], \"xaxis\": \"x6\", \"yaxis\": \"y6\"}, {\"line\": {\"color\": \"rgba(128, 128, 128, 1.0)\", \"dash\": \"solid\", \"shape\": \"linear\", \"width\": 1.3}, \"marker\": {\"size\": 2, \"symbol\": \"circle\"}, \"mode\": \"markers\", \"name\": \"B\", \"text\": \"\", \"type\": \"scatter\", \"x\": [-2.5143134923113903, -0.6509188072601796, -1.0929806376167406, -2.608523012686631, -0.6515439074095098, -0.0333064701190502, 0.7606633089063881, 0.4128709184030706, -0.6631434605605585, 0.9383284809663233, -0.640923939094296, -1.451322224393623, -0.32452068357876357, 0.8560062510029888, 0.04874730079016477, -0.6502876099939146, 2.0300873604999925, 1.588622467301215, -0.02098210969456584, -0.5386063210027243, 0.3939456041421512, 0.5400582082029005, 1.2029381600400066, -1.599263794059734, 0.10677637474981985, 1.5243359839917698, -0.5531122529989283, 0.0018013257277539978, 0.007243731819215415, 0.3223473198321976, -1.0040855072140582, -0.5579320573624444, 1.0706742691410756, -0.6889035466203947, 0.2530161671325349, -1.743532298622672, -0.36352469284064715, 1.0313892282054828, -0.3987531022294804, -0.1400567640821582, 0.30414057790022453, -0.36640897480614737, -0.21419913181904907, 1.241243088420183, -0.6739876378558262, 0.07389182612537284, -0.03224726111307327, 1.1194329765894249, -0.6761821835514656, -1.6134368534742802, -0.41960299481596236, -0.19060574059427185, -0.11993860090379943, 0.31521309072533965, -2.021558231845061, -0.21644300192401225, -1.6877313200922548, -1.8076751235857098, -1.3852283577275846, -0.6661149941134256, 1.0063768444171797, 1.359618305861139, -1.469018277477196, -0.6577234211061695, -1.3683531470706467, -1.8237598616040247, 0.41753443738107054, -1.1526259185288221, -1.4323469934265356, -0.8830593669489718, 1.8431546945645012, -0.3625854899437133, 0.7694279154705537, 0.08941362971901017, 1.4660643585433049, 0.06829484146577768, -0.8511623078027825, -1.384913582089352, -1.1378261979375641, 0.38386522671538453, -1.2932844941271617, 0.7647470295737824, 0.2632165909128464, 1.2568833608738816, 1.2665194060352905, -1.760462544297134, -0.38007233523979733, -2.2853515965367737, 0.26537879693495575, -0.29996880981165763, -0.11434376808773915, 0.6228937735392496, -0.22652070309699104, -1.3926389582870053, -0.21170574994847616, -1.0759943427876493, 0.5140215484688332, 0.19608037262269554, -2.171579893652071, -0.7156074544641537], \"xaxis\": \"x7\", \"y\": [-0.5737945545380813, 1.10681733267001, -0.8642735138565506, 0.5403727191652674, 1.3446585111575515, 0.9707770371986021, -0.4758158228346009, -1.7206476733987262, -0.5213925667074699, -1.3160304741085156, 1.7139340392948705, -1.081772196858882, 0.6852193539140005, 0.2357121945272125, -0.21621060736553435, -1.16561783610473, -0.7160992151206331, -0.7963619994131266, -5.734197369323232e-05, 0.4121475843934423, -0.5346345063636659, 0.9800828890027675, -0.17355190502161186, 0.50663665254452, -0.9743640840943804, 2.4442193260237777, -1.5127481904255589, -0.4463273169784612, 0.2863886544997744, -2.6366488568868967, 0.3399990001282703, -0.4238775381884636, 0.09553159887378632, 0.030443516590440534, -0.117465978296997, 0.5680994389852261, 0.8986361709059272, 0.05807554994885092, -0.573788376859282, 0.07770170114819182, -0.1532975170574101, -1.7259334090059024, 1.9288714395457591, -0.5540020564911894, 0.7437781696058638, 0.09207992430893966, -0.09103602463885366, 0.4550902656062467, -1.049078831656769, 0.39971184330269044, 1.8580764136015517, 1.530549476657037, -1.550731195712601, -1.7384459910819856, -0.9078249514952067, -0.5390811901792363, 2.0245770702001114, 0.060145825037109524, 0.19512977367730458, -0.906664515766312, -0.4579375421367402, 1.5950732986077922, -0.06095303450437194, -0.7050404940898929, -0.7948447032770758, -0.5673176973672968, -1.2621608935191002, -0.6700539341340684, 0.5446324881912484, -0.872920736801528, -0.917874519634289, -1.4537221534915523, 0.16881163940843347, 0.20088757260669715, 0.18290911610110255, -1.476238336965387, -0.5561300294068415, -0.36454287791069184, -0.06220468912964303, -0.9794835695449904, 1.9058757707845015, 0.09730984282951217, 0.974860478095882, -0.13908650831671687, 0.7492916762415887, -0.5509520407165336, -0.6638932817154232, -0.08468534082475872, 0.032786764332160115, -0.13758137168049833, 1.0497203019324426, 0.5940635515384379, -0.3397995017727589, 0.2857793266688294, 0.8331357511706957, 0.24054536988523556, -0.6609910622382077, -1.015298446375443, 0.7385713900137486, -0.43492175701388197], \"yaxis\": \"y7\"}, {\"line\": {\"color\": \"rgba(128, 128, 128, 1.0)\", \"dash\": \"solid\", \"shape\": \"linear\", \"width\": 1.3}, \"marker\": {\"size\": 2, \"symbol\": \"circle\"}, \"mode\": \"markers\", \"name\": \"B\", \"text\": \"\", \"type\": \"scatter\", \"x\": [0.2635037826051746, -2.239900668127504, 0.6287513844324132, -2.1948221717203333, 0.6432799029201886, 1.209932206786237, -2.3545318574450134, 1.0745305466796755, -0.49275888145241564, -0.6669718697162098, 0.655200056418349, 1.5182651759676702, -1.5989561766263891, -0.5436935447528642, 0.1531899904145127, -1.253636332403664, 1.1026176291994954, 0.12708566121369286, -0.8535306920291047, -1.0248348769183893, -0.6045196815864822, -0.3953328860122542, 0.12003883366812776, 0.5953865334820625, -0.06212991230184508, 1.452689162912124, 0.4406880123087512, -1.613173683413528, 0.7772003829979456, -1.5631590743611659, 1.1444928651886228, -1.3607397426450984, 0.3505686485630722, 0.6601026213592619, 0.553392942363766, -0.23098918344720173, 0.8311318198942066, -0.08201430903256268, 0.2824545751892871, -0.03172367883037509, 0.3743088818050335, 0.5397953798154068, -1.2004762068784165, 0.2968361571745551, 0.14457907383222568, -0.5028088116733017, 0.5961255166425773, -1.7844469407248074, -2.496330914118227, -1.0261280768372907, 1.9368714651311647, -0.3674146748731469, 1.799442623225765, 0.2755359292972475, -0.14710677085185983, -0.687086704638258, 0.1999909696944079, 0.05105367380417333, -1.6961422920296267, 1.3147773687954898, 0.995116497484058, -0.8658822037081225, -0.004408572653071275, -1.4414798499456125, -0.5405079236279586, -0.533085208042458, 1.0943498426037666, -1.282138908622184, -0.6725787172001605, 0.43632191387047947, 1.8237296763666204, -1.7046840650369615, -0.860871824186915, 1.4634316445135658, 0.39371432565306586, -0.6469203777739958, -0.8556891941805826, -0.3353507357876152, 0.8028157715863787, -0.1639592906043109, -0.44702553786145677, -0.38310852317831606, -0.4570542510733638, 1.0845518642914551, 0.5169438264391508, -0.5641824896873722, 0.8100973323193629, 2.3351595477119416, -2.111058499254949, 0.5262861952143004, -0.853625275955298, -0.9682396772350652, -0.7774006438523732, -2.5104955678597096, 0.3598120367191213, -0.25608224070565877, 0.006413200965211256, 0.0524766666787389, 0.3074201403453346, 0.12702927894046318], \"xaxis\": \"x8\", \"y\": [-0.5737945545380813, 1.10681733267001, -0.8642735138565506, 0.5403727191652674, 1.3446585111575515, 0.9707770371986021, -0.4758158228346009, -1.7206476733987262, -0.5213925667074699, -1.3160304741085156, 1.7139340392948705, -1.081772196858882, 0.6852193539140005, 0.2357121945272125, -0.21621060736553435, -1.16561783610473, -0.7160992151206331, -0.7963619994131266, -5.734197369323232e-05, 0.4121475843934423, -0.5346345063636659, 0.9800828890027675, -0.17355190502161186, 0.50663665254452, -0.9743640840943804, 2.4442193260237777, -1.5127481904255589, -0.4463273169784612, 0.2863886544997744, -2.6366488568868967, 0.3399990001282703, -0.4238775381884636, 0.09553159887378632, 0.030443516590440534, -0.117465978296997, 0.5680994389852261, 0.8986361709059272, 0.05807554994885092, -0.573788376859282, 0.07770170114819182, -0.1532975170574101, -1.7259334090059024, 1.9288714395457591, -0.5540020564911894, 0.7437781696058638, 0.09207992430893966, -0.09103602463885366, 0.4550902656062467, -1.049078831656769, 0.39971184330269044, 1.8580764136015517, 1.530549476657037, -1.550731195712601, -1.7384459910819856, -0.9078249514952067, -0.5390811901792363, 2.0245770702001114, 0.060145825037109524, 0.19512977367730458, -0.906664515766312, -0.4579375421367402, 1.5950732986077922, -0.06095303450437194, -0.7050404940898929, -0.7948447032770758, -0.5673176973672968, -1.2621608935191002, -0.6700539341340684, 0.5446324881912484, -0.872920736801528, -0.917874519634289, -1.4537221534915523, 0.16881163940843347, 0.20088757260669715, 0.18290911610110255, -1.476238336965387, -0.5561300294068415, -0.36454287791069184, -0.06220468912964303, -0.9794835695449904, 1.9058757707845015, 0.09730984282951217, 0.974860478095882, -0.13908650831671687, 0.7492916762415887, -0.5509520407165336, -0.6638932817154232, -0.08468534082475872, 0.032786764332160115, -0.13758137168049833, 1.0497203019324426, 0.5940635515384379, -0.3397995017727589, 0.2857793266688294, 0.8331357511706957, 0.24054536988523556, -0.6609910622382077, -1.015298446375443, 0.7385713900137486, -0.43492175701388197], \"yaxis\": \"y8\"}, {\"line\": {\"color\": \"rgba(128, 128, 128, 1.0)\", \"dash\": \"solid\", \"shape\": \"linear\", \"width\": 1.3}, \"marker\": {\"size\": 2, \"symbol\": \"circle\"}, \"mode\": \"markers\", \"name\": \"C\", \"text\": \"\", \"type\": \"scatter\", \"x\": [-1.7328184700099154, -0.6655392531642427, -0.5141887381353419, -0.5307819801565642, -1.118698345400647, -0.015307381413286457, -1.4557398829714918, 0.8591588400819069, -0.26492340869200365, 0.4967984376875904, 0.04182940727328566, -1.7386011275388331, 0.6969431444672501, -0.052871581583919115, -1.6601792523085324, 0.05748666839097407, 0.1837621355327402, 1.4962874424816663, -0.6205832412165161, 0.1520623253012091, -0.0038386316317565086, 0.5512624161773946, 0.2036636174075826, -1.52475862710216, 0.9236883896430348, 2.046445624318661, -1.6928966996502095, -0.49450683165912346, -0.32097571153166865, 0.18429648757950035, 0.9590315555760798, 0.24518063014786312, 1.1035536863820947, -0.4262789193890452, 0.38796398237909235, 0.06095890635811224, -0.12080953360031857, 0.720045065572963, 1.1384712663936534, 0.91631532775539, -1.3971319160459976, 0.15533512015255674, -0.24322476528350576, -1.876186615785088, 1.3283670094396747, 1.4762463769813379, -0.0720559521924466, 0.7329609025539923, -0.6413826991069103, 0.12982126874312913, 1.518939354007646, -1.1545144296807108, 0.1470207356938776, -0.6908031760314431, -0.055941386298454326, 1.3156460053880759, 0.619892489089758, 0.6088290563295004, -0.5374672551116969, -0.6880550583755078, 0.7168531852731158, 0.007647487232779944, 2.211320735120686, 0.6438165866259979, -1.0666772238124416, 1.1185433129275277, -1.7299998201445086, -0.25975599587783443, 0.4226172574698807, 0.3941769709373833, 0.5160961375330596, 1.81819966745681, 0.7991786252320352, 1.046987568805078, -1.128395723062902, 1.7936925593507211, -0.5149323886783681, -0.9802210244604053, 0.2019466283016788, 0.5362430245906857, -1.8460225900728473, 1.1210128548791507, 0.4428581166140847, -0.3971102158075737, 1.0099720456684251, 0.04323912485309805, 0.16186786619863405, -0.8532924235905249, 0.5683047812022923, -0.7182340782336945, -0.33714320289360633, 1.6558347652323795, 0.4051329252254166, 0.7723889649324748, 0.9858257378129331, 0.3393662311036916, 1.251335110862688, -0.8894527872587709, 0.022788498965433734, 0.1529745603304253], \"xaxis\": \"x9\", \"y\": [-2.5143134923113903, -0.6509188072601796, -1.0929806376167406, -2.608523012686631, -0.6515439074095098, -0.0333064701190502, 0.7606633089063881, 0.4128709184030706, -0.6631434605605585, 0.9383284809663233, -0.640923939094296, -1.451322224393623, -0.32452068357876357, 0.8560062510029888, 0.04874730079016477, -0.6502876099939146, 2.0300873604999925, 1.588622467301215, -0.02098210969456584, -0.5386063210027243, 0.3939456041421512, 0.5400582082029005, 1.2029381600400066, -1.599263794059734, 0.10677637474981985, 1.5243359839917698, -0.5531122529989283, 0.0018013257277539978, 0.007243731819215415, 0.3223473198321976, -1.0040855072140582, -0.5579320573624444, 1.0706742691410756, -0.6889035466203947, 0.2530161671325349, -1.743532298622672, -0.36352469284064715, 1.0313892282054828, -0.3987531022294804, -0.1400567640821582, 0.30414057790022453, -0.36640897480614737, -0.21419913181904907, 1.241243088420183, -0.6739876378558262, 0.07389182612537284, -0.03224726111307327, 1.1194329765894249, -0.6761821835514656, -1.6134368534742802, -0.41960299481596236, -0.19060574059427185, -0.11993860090379943, 0.31521309072533965, -2.021558231845061, -0.21644300192401225, -1.6877313200922548, -1.8076751235857098, -1.3852283577275846, -0.6661149941134256, 1.0063768444171797, 1.359618305861139, -1.469018277477196, -0.6577234211061695, -1.3683531470706467, -1.8237598616040247, 0.41753443738107054, -1.1526259185288221, -1.4323469934265356, -0.8830593669489718, 1.8431546945645012, -0.3625854899437133, 0.7694279154705537, 0.08941362971901017, 1.4660643585433049, 0.06829484146577768, -0.8511623078027825, -1.384913582089352, -1.1378261979375641, 0.38386522671538453, -1.2932844941271617, 0.7647470295737824, 0.2632165909128464, 1.2568833608738816, 1.2665194060352905, -1.760462544297134, -0.38007233523979733, -2.2853515965367737, 0.26537879693495575, -0.29996880981165763, -0.11434376808773915, 0.6228937735392496, -0.22652070309699104, -1.3926389582870053, -0.21170574994847616, -1.0759943427876493, 0.5140215484688332, 0.19608037262269554, -2.171579893652071, -0.7156074544641537], \"yaxis\": \"y9\"}, {\"line\": {\"color\": \"rgba(128, 128, 128, 1.0)\", \"dash\": \"solid\", \"shape\": \"linear\", \"width\": 1.3}, \"marker\": {\"size\": 2, \"symbol\": \"circle\"}, \"mode\": \"markers\", \"name\": \"C\", \"text\": \"\", \"type\": \"scatter\", \"x\": [-0.5737945545380813, 1.10681733267001, -0.8642735138565506, 0.5403727191652674, 1.3446585111575515, 0.9707770371986021, -0.4758158228346009, -1.7206476733987262, -0.5213925667074699, -1.3160304741085156, 1.7139340392948705, -1.081772196858882, 0.6852193539140005, 0.2357121945272125, -0.21621060736553435, -1.16561783610473, -0.7160992151206331, -0.7963619994131266, -5.734197369323232e-05, 0.4121475843934423, -0.5346345063636659, 0.9800828890027675, -0.17355190502161186, 0.50663665254452, -0.9743640840943804, 2.4442193260237777, -1.5127481904255589, -0.4463273169784612, 0.2863886544997744, -2.6366488568868967, 0.3399990001282703, -0.4238775381884636, 0.09553159887378632, 0.030443516590440534, -0.117465978296997, 0.5680994389852261, 0.8986361709059272, 0.05807554994885092, -0.573788376859282, 0.07770170114819182, -0.1532975170574101, -1.7259334090059024, 1.9288714395457591, -0.5540020564911894, 0.7437781696058638, 0.09207992430893966, -0.09103602463885366, 0.4550902656062467, -1.049078831656769, 0.39971184330269044, 1.8580764136015517, 1.530549476657037, -1.550731195712601, -1.7384459910819856, -0.9078249514952067, -0.5390811901792363, 2.0245770702001114, 0.060145825037109524, 0.19512977367730458, -0.906664515766312, -0.4579375421367402, 1.5950732986077922, -0.06095303450437194, -0.7050404940898929, -0.7948447032770758, -0.5673176973672968, -1.2621608935191002, -0.6700539341340684, 0.5446324881912484, -0.872920736801528, -0.917874519634289, -1.4537221534915523, 0.16881163940843347, 0.20088757260669715, 0.18290911610110255, -1.476238336965387, -0.5561300294068415, -0.36454287791069184, -0.06220468912964303, -0.9794835695449904, 1.9058757707845015, 0.09730984282951217, 0.974860478095882, -0.13908650831671687, 0.7492916762415887, -0.5509520407165336, -0.6638932817154232, -0.08468534082475872, 0.032786764332160115, -0.13758137168049833, 1.0497203019324426, 0.5940635515384379, -0.3397995017727589, 0.2857793266688294, 0.8331357511706957, 0.24054536988523556, -0.6609910622382077, -1.015298446375443, 0.7385713900137486, -0.43492175701388197], \"xaxis\": \"x10\", \"y\": [-2.5143134923113903, -0.6509188072601796, -1.0929806376167406, -2.608523012686631, -0.6515439074095098, -0.0333064701190502, 0.7606633089063881, 0.4128709184030706, -0.6631434605605585, 0.9383284809663233, -0.640923939094296, -1.451322224393623, -0.32452068357876357, 0.8560062510029888, 0.04874730079016477, -0.6502876099939146, 2.0300873604999925, 1.588622467301215, -0.02098210969456584, -0.5386063210027243, 0.3939456041421512, 0.5400582082029005, 1.2029381600400066, -1.599263794059734, 0.10677637474981985, 1.5243359839917698, -0.5531122529989283, 0.0018013257277539978, 0.007243731819215415, 0.3223473198321976, -1.0040855072140582, -0.5579320573624444, 1.0706742691410756, -0.6889035466203947, 0.2530161671325349, -1.743532298622672, -0.36352469284064715, 1.0313892282054828, -0.3987531022294804, -0.1400567640821582, 0.30414057790022453, -0.36640897480614737, -0.21419913181904907, 1.241243088420183, -0.6739876378558262, 0.07389182612537284, -0.03224726111307327, 1.1194329765894249, -0.6761821835514656, -1.6134368534742802, -0.41960299481596236, -0.19060574059427185, -0.11993860090379943, 0.31521309072533965, -2.021558231845061, -0.21644300192401225, -1.6877313200922548, -1.8076751235857098, -1.3852283577275846, -0.6661149941134256, 1.0063768444171797, 1.359618305861139, -1.469018277477196, -0.6577234211061695, -1.3683531470706467, -1.8237598616040247, 0.41753443738107054, -1.1526259185288221, -1.4323469934265356, -0.8830593669489718, 1.8431546945645012, -0.3625854899437133, 0.7694279154705537, 0.08941362971901017, 1.4660643585433049, 0.06829484146577768, -0.8511623078027825, -1.384913582089352, -1.1378261979375641, 0.38386522671538453, -1.2932844941271617, 0.7647470295737824, 0.2632165909128464, 1.2568833608738816, 1.2665194060352905, -1.760462544297134, -0.38007233523979733, -2.2853515965367737, 0.26537879693495575, -0.29996880981165763, -0.11434376808773915, 0.6228937735392496, -0.22652070309699104, -1.3926389582870053, -0.21170574994847616, -1.0759943427876493, 0.5140215484688332, 0.19608037262269554, -2.171579893652071, -0.7156074544641537], \"yaxis\": \"y10\"}, {\"histfunc\": \"count\", \"histnorm\": \"\", \"marker\": {\"color\": \"rgba(50, 171, 96, 1.0)\", \"line\": {\"color\": \"#4D5663\", \"width\": 1.3}}, \"name\": \"C\", \"nbinsx\": 10, \"opacity\": 0.8, \"orientation\": \"v\", \"type\": \"histogram\", \"x\": [-2.5143134923113903, -0.6509188072601796, -1.0929806376167406, -2.608523012686631, -0.6515439074095098, -0.0333064701190502, 0.7606633089063881, 0.4128709184030706, -0.6631434605605585, 0.9383284809663233, -0.640923939094296, -1.451322224393623, -0.32452068357876357, 0.8560062510029888, 0.04874730079016477, -0.6502876099939146, 2.0300873604999925, 1.588622467301215, -0.02098210969456584, -0.5386063210027243, 0.3939456041421512, 0.5400582082029005, 1.2029381600400066, -1.599263794059734, 0.10677637474981985, 1.5243359839917698, -0.5531122529989283, 0.0018013257277539978, 0.007243731819215415, 0.3223473198321976, -1.0040855072140582, -0.5579320573624444, 1.0706742691410756, -0.6889035466203947, 0.2530161671325349, -1.743532298622672, -0.36352469284064715, 1.0313892282054828, -0.3987531022294804, -0.1400567640821582, 0.30414057790022453, -0.36640897480614737, -0.21419913181904907, 1.241243088420183, -0.6739876378558262, 0.07389182612537284, -0.03224726111307327, 1.1194329765894249, -0.6761821835514656, -1.6134368534742802, -0.41960299481596236, -0.19060574059427185, -0.11993860090379943, 0.31521309072533965, -2.021558231845061, -0.21644300192401225, -1.6877313200922548, -1.8076751235857098, -1.3852283577275846, -0.6661149941134256, 1.0063768444171797, 1.359618305861139, -1.469018277477196, -0.6577234211061695, -1.3683531470706467, -1.8237598616040247, 0.41753443738107054, -1.1526259185288221, -1.4323469934265356, -0.8830593669489718, 1.8431546945645012, -0.3625854899437133, 0.7694279154705537, 0.08941362971901017, 1.4660643585433049, 0.06829484146577768, -0.8511623078027825, -1.384913582089352, -1.1378261979375641, 0.38386522671538453, -1.2932844941271617, 0.7647470295737824, 0.2632165909128464, 1.2568833608738816, 1.2665194060352905, -1.760462544297134, -0.38007233523979733, -2.2853515965367737, 0.26537879693495575, -0.29996880981165763, -0.11434376808773915, 0.6228937735392496, -0.22652070309699104, -1.3926389582870053, -0.21170574994847616, -1.0759943427876493, 0.5140215484688332, 0.19608037262269554, -2.171579893652071, -0.7156074544641537], \"xaxis\": \"x11\", \"yaxis\": \"y11\"}, {\"line\": {\"color\": \"rgba(128, 128, 128, 1.0)\", \"dash\": \"solid\", \"shape\": \"linear\", \"width\": 1.3}, \"marker\": {\"size\": 2, \"symbol\": \"circle\"}, \"mode\": \"markers\", \"name\": \"C\", \"text\": \"\", \"type\": \"scatter\", \"x\": [0.2635037826051746, -2.239900668127504, 0.6287513844324132, -2.1948221717203333, 0.6432799029201886, 1.209932206786237, -2.3545318574450134, 1.0745305466796755, -0.49275888145241564, -0.6669718697162098, 0.655200056418349, 1.5182651759676702, -1.5989561766263891, -0.5436935447528642, 0.1531899904145127, -1.253636332403664, 1.1026176291994954, 0.12708566121369286, -0.8535306920291047, -1.0248348769183893, -0.6045196815864822, -0.3953328860122542, 0.12003883366812776, 0.5953865334820625, -0.06212991230184508, 1.452689162912124, 0.4406880123087512, -1.613173683413528, 0.7772003829979456, -1.5631590743611659, 1.1444928651886228, -1.3607397426450984, 0.3505686485630722, 0.6601026213592619, 0.553392942363766, -0.23098918344720173, 0.8311318198942066, -0.08201430903256268, 0.2824545751892871, -0.03172367883037509, 0.3743088818050335, 0.5397953798154068, -1.2004762068784165, 0.2968361571745551, 0.14457907383222568, -0.5028088116733017, 0.5961255166425773, -1.7844469407248074, -2.496330914118227, -1.0261280768372907, 1.9368714651311647, -0.3674146748731469, 1.799442623225765, 0.2755359292972475, -0.14710677085185983, -0.687086704638258, 0.1999909696944079, 0.05105367380417333, -1.6961422920296267, 1.3147773687954898, 0.995116497484058, -0.8658822037081225, -0.004408572653071275, -1.4414798499456125, -0.5405079236279586, -0.533085208042458, 1.0943498426037666, -1.282138908622184, -0.6725787172001605, 0.43632191387047947, 1.8237296763666204, -1.7046840650369615, -0.860871824186915, 1.4634316445135658, 0.39371432565306586, -0.6469203777739958, -0.8556891941805826, -0.3353507357876152, 0.8028157715863787, -0.1639592906043109, -0.44702553786145677, -0.38310852317831606, -0.4570542510733638, 1.0845518642914551, 0.5169438264391508, -0.5641824896873722, 0.8100973323193629, 2.3351595477119416, -2.111058499254949, 0.5262861952143004, -0.853625275955298, -0.9682396772350652, -0.7774006438523732, -2.5104955678597096, 0.3598120367191213, -0.25608224070565877, 0.006413200965211256, 0.0524766666787389, 0.3074201403453346, 0.12702927894046318], \"xaxis\": \"x12\", \"y\": [-2.5143134923113903, -0.6509188072601796, -1.0929806376167406, -2.608523012686631, -0.6515439074095098, -0.0333064701190502, 0.7606633089063881, 0.4128709184030706, -0.6631434605605585, 0.9383284809663233, -0.640923939094296, -1.451322224393623, -0.32452068357876357, 0.8560062510029888, 0.04874730079016477, -0.6502876099939146, 2.0300873604999925, 1.588622467301215, -0.02098210969456584, -0.5386063210027243, 0.3939456041421512, 0.5400582082029005, 1.2029381600400066, -1.599263794059734, 0.10677637474981985, 1.5243359839917698, -0.5531122529989283, 0.0018013257277539978, 0.007243731819215415, 0.3223473198321976, -1.0040855072140582, -0.5579320573624444, 1.0706742691410756, -0.6889035466203947, 0.2530161671325349, -1.743532298622672, -0.36352469284064715, 1.0313892282054828, -0.3987531022294804, -0.1400567640821582, 0.30414057790022453, -0.36640897480614737, -0.21419913181904907, 1.241243088420183, -0.6739876378558262, 0.07389182612537284, -0.03224726111307327, 1.1194329765894249, -0.6761821835514656, -1.6134368534742802, -0.41960299481596236, -0.19060574059427185, -0.11993860090379943, 0.31521309072533965, -2.021558231845061, -0.21644300192401225, -1.6877313200922548, -1.8076751235857098, -1.3852283577275846, -0.6661149941134256, 1.0063768444171797, 1.359618305861139, -1.469018277477196, -0.6577234211061695, -1.3683531470706467, -1.8237598616040247, 0.41753443738107054, -1.1526259185288221, -1.4323469934265356, -0.8830593669489718, 1.8431546945645012, -0.3625854899437133, 0.7694279154705537, 0.08941362971901017, 1.4660643585433049, 0.06829484146577768, -0.8511623078027825, -1.384913582089352, -1.1378261979375641, 0.38386522671538453, -1.2932844941271617, 0.7647470295737824, 0.2632165909128464, 1.2568833608738816, 1.2665194060352905, -1.760462544297134, -0.38007233523979733, -2.2853515965367737, 0.26537879693495575, -0.29996880981165763, -0.11434376808773915, 0.6228937735392496, -0.22652070309699104, -1.3926389582870053, -0.21170574994847616, -1.0759943427876493, 0.5140215484688332, 0.19608037262269554, -2.171579893652071, -0.7156074544641537], \"yaxis\": \"y12\"}, {\"line\": {\"color\": \"rgba(128, 128, 128, 1.0)\", \"dash\": \"solid\", \"shape\": \"linear\", \"width\": 1.3}, \"marker\": {\"size\": 2, \"symbol\": \"circle\"}, \"mode\": \"markers\", \"name\": \"D\", \"text\": \"\", \"type\": \"scatter\", \"x\": [-1.7328184700099154, -0.6655392531642427, -0.5141887381353419, -0.5307819801565642, -1.118698345400647, -0.015307381413286457, -1.4557398829714918, 0.8591588400819069, -0.26492340869200365, 0.4967984376875904, 0.04182940727328566, -1.7386011275388331, 0.6969431444672501, -0.052871581583919115, -1.6601792523085324, 0.05748666839097407, 0.1837621355327402, 1.4962874424816663, -0.6205832412165161, 0.1520623253012091, -0.0038386316317565086, 0.5512624161773946, 0.2036636174075826, -1.52475862710216, 0.9236883896430348, 2.046445624318661, -1.6928966996502095, -0.49450683165912346, -0.32097571153166865, 0.18429648757950035, 0.9590315555760798, 0.24518063014786312, 1.1035536863820947, -0.4262789193890452, 0.38796398237909235, 0.06095890635811224, -0.12080953360031857, 0.720045065572963, 1.1384712663936534, 0.91631532775539, -1.3971319160459976, 0.15533512015255674, -0.24322476528350576, -1.876186615785088, 1.3283670094396747, 1.4762463769813379, -0.0720559521924466, 0.7329609025539923, -0.6413826991069103, 0.12982126874312913, 1.518939354007646, -1.1545144296807108, 0.1470207356938776, -0.6908031760314431, -0.055941386298454326, 1.3156460053880759, 0.619892489089758, 0.6088290563295004, -0.5374672551116969, -0.6880550583755078, 0.7168531852731158, 0.007647487232779944, 2.211320735120686, 0.6438165866259979, -1.0666772238124416, 1.1185433129275277, -1.7299998201445086, -0.25975599587783443, 0.4226172574698807, 0.3941769709373833, 0.5160961375330596, 1.81819966745681, 0.7991786252320352, 1.046987568805078, -1.128395723062902, 1.7936925593507211, -0.5149323886783681, -0.9802210244604053, 0.2019466283016788, 0.5362430245906857, -1.8460225900728473, 1.1210128548791507, 0.4428581166140847, -0.3971102158075737, 1.0099720456684251, 0.04323912485309805, 0.16186786619863405, -0.8532924235905249, 0.5683047812022923, -0.7182340782336945, -0.33714320289360633, 1.6558347652323795, 0.4051329252254166, 0.7723889649324748, 0.9858257378129331, 0.3393662311036916, 1.251335110862688, -0.8894527872587709, 0.022788498965433734, 0.1529745603304253], \"xaxis\": \"x13\", \"y\": [0.2635037826051746, -2.239900668127504, 0.6287513844324132, -2.1948221717203333, 0.6432799029201886, 1.209932206786237, -2.3545318574450134, 1.0745305466796755, -0.49275888145241564, -0.6669718697162098, 0.655200056418349, 1.5182651759676702, -1.5989561766263891, -0.5436935447528642, 0.1531899904145127, -1.253636332403664, 1.1026176291994954, 0.12708566121369286, -0.8535306920291047, -1.0248348769183893, -0.6045196815864822, -0.3953328860122542, 0.12003883366812776, 0.5953865334820625, -0.06212991230184508, 1.452689162912124, 0.4406880123087512, -1.613173683413528, 0.7772003829979456, -1.5631590743611659, 1.1444928651886228, -1.3607397426450984, 0.3505686485630722, 0.6601026213592619, 0.553392942363766, -0.23098918344720173, 0.8311318198942066, -0.08201430903256268, 0.2824545751892871, -0.03172367883037509, 0.3743088818050335, 0.5397953798154068, -1.2004762068784165, 0.2968361571745551, 0.14457907383222568, -0.5028088116733017, 0.5961255166425773, -1.7844469407248074, -2.496330914118227, -1.0261280768372907, 1.9368714651311647, -0.3674146748731469, 1.799442623225765, 0.2755359292972475, -0.14710677085185983, -0.687086704638258, 0.1999909696944079, 0.05105367380417333, -1.6961422920296267, 1.3147773687954898, 0.995116497484058, -0.8658822037081225, -0.004408572653071275, -1.4414798499456125, -0.5405079236279586, -0.533085208042458, 1.0943498426037666, -1.282138908622184, -0.6725787172001605, 0.43632191387047947, 1.8237296763666204, -1.7046840650369615, -0.860871824186915, 1.4634316445135658, 0.39371432565306586, -0.6469203777739958, -0.8556891941805826, -0.3353507357876152, 0.8028157715863787, -0.1639592906043109, -0.44702553786145677, -0.38310852317831606, -0.4570542510733638, 1.0845518642914551, 0.5169438264391508, -0.5641824896873722, 0.8100973323193629, 2.3351595477119416, -2.111058499254949, 0.5262861952143004, -0.853625275955298, -0.9682396772350652, -0.7774006438523732, -2.5104955678597096, 0.3598120367191213, -0.25608224070565877, 0.006413200965211256, 0.0524766666787389, 0.3074201403453346, 0.12702927894046318], \"yaxis\": \"y13\"}, {\"line\": {\"color\": \"rgba(128, 128, 128, 1.0)\", \"dash\": \"solid\", \"shape\": \"linear\", \"width\": 1.3}, \"marker\": {\"size\": 2, \"symbol\": \"circle\"}, \"mode\": \"markers\", \"name\": \"D\", \"text\": \"\", \"type\": \"scatter\", \"x\": [-0.5737945545380813, 1.10681733267001, -0.8642735138565506, 0.5403727191652674, 1.3446585111575515, 0.9707770371986021, -0.4758158228346009, -1.7206476733987262, -0.5213925667074699, -1.3160304741085156, 1.7139340392948705, -1.081772196858882, 0.6852193539140005, 0.2357121945272125, -0.21621060736553435, -1.16561783610473, -0.7160992151206331, -0.7963619994131266, -5.734197369323232e-05, 0.4121475843934423, -0.5346345063636659, 0.9800828890027675, -0.17355190502161186, 0.50663665254452, -0.9743640840943804, 2.4442193260237777, -1.5127481904255589, -0.4463273169784612, 0.2863886544997744, -2.6366488568868967, 0.3399990001282703, -0.4238775381884636, 0.09553159887378632, 0.030443516590440534, -0.117465978296997, 0.5680994389852261, 0.8986361709059272, 0.05807554994885092, -0.573788376859282, 0.07770170114819182, -0.1532975170574101, -1.7259334090059024, 1.9288714395457591, -0.5540020564911894, 0.7437781696058638, 0.09207992430893966, -0.09103602463885366, 0.4550902656062467, -1.049078831656769, 0.39971184330269044, 1.8580764136015517, 1.530549476657037, -1.550731195712601, -1.7384459910819856, -0.9078249514952067, -0.5390811901792363, 2.0245770702001114, 0.060145825037109524, 0.19512977367730458, -0.906664515766312, -0.4579375421367402, 1.5950732986077922, -0.06095303450437194, -0.7050404940898929, -0.7948447032770758, -0.5673176973672968, -1.2621608935191002, -0.6700539341340684, 0.5446324881912484, -0.872920736801528, -0.917874519634289, -1.4537221534915523, 0.16881163940843347, 0.20088757260669715, 0.18290911610110255, -1.476238336965387, -0.5561300294068415, -0.36454287791069184, -0.06220468912964303, -0.9794835695449904, 1.9058757707845015, 0.09730984282951217, 0.974860478095882, -0.13908650831671687, 0.7492916762415887, -0.5509520407165336, -0.6638932817154232, -0.08468534082475872, 0.032786764332160115, -0.13758137168049833, 1.0497203019324426, 0.5940635515384379, -0.3397995017727589, 0.2857793266688294, 0.8331357511706957, 0.24054536988523556, -0.6609910622382077, -1.015298446375443, 0.7385713900137486, -0.43492175701388197], \"xaxis\": \"x14\", \"y\": [0.2635037826051746, -2.239900668127504, 0.6287513844324132, -2.1948221717203333, 0.6432799029201886, 1.209932206786237, -2.3545318574450134, 1.0745305466796755, -0.49275888145241564, -0.6669718697162098, 0.655200056418349, 1.5182651759676702, -1.5989561766263891, -0.5436935447528642, 0.1531899904145127, -1.253636332403664, 1.1026176291994954, 0.12708566121369286, -0.8535306920291047, -1.0248348769183893, -0.6045196815864822, -0.3953328860122542, 0.12003883366812776, 0.5953865334820625, -0.06212991230184508, 1.452689162912124, 0.4406880123087512, -1.613173683413528, 0.7772003829979456, -1.5631590743611659, 1.1444928651886228, -1.3607397426450984, 0.3505686485630722, 0.6601026213592619, 0.553392942363766, -0.23098918344720173, 0.8311318198942066, -0.08201430903256268, 0.2824545751892871, -0.03172367883037509, 0.3743088818050335, 0.5397953798154068, -1.2004762068784165, 0.2968361571745551, 0.14457907383222568, -0.5028088116733017, 0.5961255166425773, -1.7844469407248074, -2.496330914118227, -1.0261280768372907, 1.9368714651311647, -0.3674146748731469, 1.799442623225765, 0.2755359292972475, -0.14710677085185983, -0.687086704638258, 0.1999909696944079, 0.05105367380417333, -1.6961422920296267, 1.3147773687954898, 0.995116497484058, -0.8658822037081225, -0.004408572653071275, -1.4414798499456125, -0.5405079236279586, -0.533085208042458, 1.0943498426037666, -1.282138908622184, -0.6725787172001605, 0.43632191387047947, 1.8237296763666204, -1.7046840650369615, -0.860871824186915, 1.4634316445135658, 0.39371432565306586, -0.6469203777739958, -0.8556891941805826, -0.3353507357876152, 0.8028157715863787, -0.1639592906043109, -0.44702553786145677, -0.38310852317831606, -0.4570542510733638, 1.0845518642914551, 0.5169438264391508, -0.5641824896873722, 0.8100973323193629, 2.3351595477119416, -2.111058499254949, 0.5262861952143004, -0.853625275955298, -0.9682396772350652, -0.7774006438523732, -2.5104955678597096, 0.3598120367191213, -0.25608224070565877, 0.006413200965211256, 0.0524766666787389, 0.3074201403453346, 0.12702927894046318], \"yaxis\": \"y14\"}, {\"line\": {\"color\": \"rgba(128, 128, 128, 1.0)\", \"dash\": \"solid\", \"shape\": \"linear\", \"width\": 1.3}, \"marker\": {\"size\": 2, \"symbol\": \"circle\"}, \"mode\": \"markers\", \"name\": \"D\", \"text\": \"\", \"type\": \"scatter\", \"x\": [-2.5143134923113903, -0.6509188072601796, -1.0929806376167406, -2.608523012686631, -0.6515439074095098, -0.0333064701190502, 0.7606633089063881, 0.4128709184030706, -0.6631434605605585, 0.9383284809663233, -0.640923939094296, -1.451322224393623, -0.32452068357876357, 0.8560062510029888, 0.04874730079016477, -0.6502876099939146, 2.0300873604999925, 1.588622467301215, -0.02098210969456584, -0.5386063210027243, 0.3939456041421512, 0.5400582082029005, 1.2029381600400066, -1.599263794059734, 0.10677637474981985, 1.5243359839917698, -0.5531122529989283, 0.0018013257277539978, 0.007243731819215415, 0.3223473198321976, -1.0040855072140582, -0.5579320573624444, 1.0706742691410756, -0.6889035466203947, 0.2530161671325349, -1.743532298622672, -0.36352469284064715, 1.0313892282054828, -0.3987531022294804, -0.1400567640821582, 0.30414057790022453, -0.36640897480614737, -0.21419913181904907, 1.241243088420183, -0.6739876378558262, 0.07389182612537284, -0.03224726111307327, 1.1194329765894249, -0.6761821835514656, -1.6134368534742802, -0.41960299481596236, -0.19060574059427185, -0.11993860090379943, 0.31521309072533965, -2.021558231845061, -0.21644300192401225, -1.6877313200922548, -1.8076751235857098, -1.3852283577275846, -0.6661149941134256, 1.0063768444171797, 1.359618305861139, -1.469018277477196, -0.6577234211061695, -1.3683531470706467, -1.8237598616040247, 0.41753443738107054, -1.1526259185288221, -1.4323469934265356, -0.8830593669489718, 1.8431546945645012, -0.3625854899437133, 0.7694279154705537, 0.08941362971901017, 1.4660643585433049, 0.06829484146577768, -0.8511623078027825, -1.384913582089352, -1.1378261979375641, 0.38386522671538453, -1.2932844941271617, 0.7647470295737824, 0.2632165909128464, 1.2568833608738816, 1.2665194060352905, -1.760462544297134, -0.38007233523979733, -2.2853515965367737, 0.26537879693495575, -0.29996880981165763, -0.11434376808773915, 0.6228937735392496, -0.22652070309699104, -1.3926389582870053, -0.21170574994847616, -1.0759943427876493, 0.5140215484688332, 0.19608037262269554, -2.171579893652071, -0.7156074544641537], \"xaxis\": \"x15\", \"y\": [0.2635037826051746, -2.239900668127504, 0.6287513844324132, -2.1948221717203333, 0.6432799029201886, 1.209932206786237, -2.3545318574450134, 1.0745305466796755, -0.49275888145241564, -0.6669718697162098, 0.655200056418349, 1.5182651759676702, -1.5989561766263891, -0.5436935447528642, 0.1531899904145127, -1.253636332403664, 1.1026176291994954, 0.12708566121369286, -0.8535306920291047, -1.0248348769183893, -0.6045196815864822, -0.3953328860122542, 0.12003883366812776, 0.5953865334820625, -0.06212991230184508, 1.452689162912124, 0.4406880123087512, -1.613173683413528, 0.7772003829979456, -1.5631590743611659, 1.1444928651886228, -1.3607397426450984, 0.3505686485630722, 0.6601026213592619, 0.553392942363766, -0.23098918344720173, 0.8311318198942066, -0.08201430903256268, 0.2824545751892871, -0.03172367883037509, 0.3743088818050335, 0.5397953798154068, -1.2004762068784165, 0.2968361571745551, 0.14457907383222568, -0.5028088116733017, 0.5961255166425773, -1.7844469407248074, -2.496330914118227, -1.0261280768372907, 1.9368714651311647, -0.3674146748731469, 1.799442623225765, 0.2755359292972475, -0.14710677085185983, -0.687086704638258, 0.1999909696944079, 0.05105367380417333, -1.6961422920296267, 1.3147773687954898, 0.995116497484058, -0.8658822037081225, -0.004408572653071275, -1.4414798499456125, -0.5405079236279586, -0.533085208042458, 1.0943498426037666, -1.282138908622184, -0.6725787172001605, 0.43632191387047947, 1.8237296763666204, -1.7046840650369615, -0.860871824186915, 1.4634316445135658, 0.39371432565306586, -0.6469203777739958, -0.8556891941805826, -0.3353507357876152, 0.8028157715863787, -0.1639592906043109, -0.44702553786145677, -0.38310852317831606, -0.4570542510733638, 1.0845518642914551, 0.5169438264391508, -0.5641824896873722, 0.8100973323193629, 2.3351595477119416, -2.111058499254949, 0.5262861952143004, -0.853625275955298, -0.9682396772350652, -0.7774006438523732, -2.5104955678597096, 0.3598120367191213, -0.25608224070565877, 0.006413200965211256, 0.0524766666787389, 0.3074201403453346, 0.12702927894046318], \"yaxis\": \"y15\"}, {\"histfunc\": \"count\", \"histnorm\": \"\", \"marker\": {\"color\": \"rgba(128, 0, 128, 1.0)\", \"line\": {\"color\": \"#4D5663\", \"width\": 1.3}}, \"name\": \"D\", \"nbinsx\": 10, \"opacity\": 0.8, \"orientation\": \"v\", \"type\": \"histogram\", \"x\": [0.2635037826051746, -2.239900668127504, 0.6287513844324132, -2.1948221717203333, 0.6432799029201886, 1.209932206786237, -2.3545318574450134, 1.0745305466796755, -0.49275888145241564, -0.6669718697162098, 0.655200056418349, 1.5182651759676702, -1.5989561766263891, -0.5436935447528642, 0.1531899904145127, -1.253636332403664, 1.1026176291994954, 0.12708566121369286, -0.8535306920291047, -1.0248348769183893, -0.6045196815864822, -0.3953328860122542, 0.12003883366812776, 0.5953865334820625, -0.06212991230184508, 1.452689162912124, 0.4406880123087512, -1.613173683413528, 0.7772003829979456, -1.5631590743611659, 1.1444928651886228, -1.3607397426450984, 0.3505686485630722, 0.6601026213592619, 0.553392942363766, -0.23098918344720173, 0.8311318198942066, -0.08201430903256268, 0.2824545751892871, -0.03172367883037509, 0.3743088818050335, 0.5397953798154068, -1.2004762068784165, 0.2968361571745551, 0.14457907383222568, -0.5028088116733017, 0.5961255166425773, -1.7844469407248074, -2.496330914118227, -1.0261280768372907, 1.9368714651311647, -0.3674146748731469, 1.799442623225765, 0.2755359292972475, -0.14710677085185983, -0.687086704638258, 0.1999909696944079, 0.05105367380417333, -1.6961422920296267, 1.3147773687954898, 0.995116497484058, -0.8658822037081225, -0.004408572653071275, -1.4414798499456125, -0.5405079236279586, -0.533085208042458, 1.0943498426037666, -1.282138908622184, -0.6725787172001605, 0.43632191387047947, 1.8237296763666204, -1.7046840650369615, -0.860871824186915, 1.4634316445135658, 0.39371432565306586, -0.6469203777739958, -0.8556891941805826, -0.3353507357876152, 0.8028157715863787, -0.1639592906043109, -0.44702553786145677, -0.38310852317831606, -0.4570542510733638, 1.0845518642914551, 0.5169438264391508, -0.5641824896873722, 0.8100973323193629, 2.3351595477119416, -2.111058499254949, 0.5262861952143004, -0.853625275955298, -0.9682396772350652, -0.7774006438523732, -2.5104955678597096, 0.3598120367191213, -0.25608224070565877, 0.006413200965211256, 0.0524766666787389, 0.3074201403453346, 0.12702927894046318], \"xaxis\": \"x16\", \"yaxis\": \"y16\"}],\n",
       "                        {\"bargap\": 0.02, \"legend\": {\"bgcolor\": \"#F5F6F9\", \"font\": {\"color\": \"#4D5663\"}}, \"paper_bgcolor\": \"#F5F6F9\", \"plot_bgcolor\": \"#F5F6F9\", \"showlegend\": false, \"template\": {\"data\": {\"bar\": [{\"error_x\": {\"color\": \"#2a3f5f\"}, \"error_y\": {\"color\": \"#2a3f5f\"}, \"marker\": {\"line\": {\"color\": \"#E5ECF6\", \"width\": 0.5}}, \"type\": \"bar\"}], \"barpolar\": [{\"marker\": {\"line\": {\"color\": \"#E5ECF6\", \"width\": 0.5}}, \"type\": \"barpolar\"}], \"carpet\": [{\"aaxis\": {\"endlinecolor\": \"#2a3f5f\", \"gridcolor\": \"white\", \"linecolor\": \"white\", \"minorgridcolor\": \"white\", \"startlinecolor\": \"#2a3f5f\"}, \"baxis\": {\"endlinecolor\": \"#2a3f5f\", \"gridcolor\": \"white\", \"linecolor\": \"white\", \"minorgridcolor\": \"white\", \"startlinecolor\": \"#2a3f5f\"}, \"type\": \"carpet\"}], \"choropleth\": [{\"colorbar\": {\"outlinewidth\": 0, \"ticks\": \"\"}, \"type\": \"choropleth\"}], \"contour\": [{\"colorbar\": {\"outlinewidth\": 0, \"ticks\": \"\"}, \"colorscale\": [[0.0, \"#0d0887\"], [0.1111111111111111, \"#46039f\"], [0.2222222222222222, \"#7201a8\"], [0.3333333333333333, \"#9c179e\"], [0.4444444444444444, \"#bd3786\"], [0.5555555555555556, \"#d8576b\"], [0.6666666666666666, \"#ed7953\"], [0.7777777777777778, \"#fb9f3a\"], [0.8888888888888888, \"#fdca26\"], [1.0, \"#f0f921\"]], \"type\": \"contour\"}], \"contourcarpet\": [{\"colorbar\": {\"outlinewidth\": 0, \"ticks\": \"\"}, \"type\": \"contourcarpet\"}], \"heatmap\": [{\"colorbar\": {\"outlinewidth\": 0, \"ticks\": \"\"}, \"colorscale\": [[0.0, \"#0d0887\"], [0.1111111111111111, \"#46039f\"], [0.2222222222222222, \"#7201a8\"], [0.3333333333333333, \"#9c179e\"], [0.4444444444444444, \"#bd3786\"], [0.5555555555555556, \"#d8576b\"], [0.6666666666666666, \"#ed7953\"], [0.7777777777777778, \"#fb9f3a\"], [0.8888888888888888, \"#fdca26\"], [1.0, \"#f0f921\"]], \"type\": \"heatmap\"}], \"heatmapgl\": [{\"colorbar\": {\"outlinewidth\": 0, \"ticks\": \"\"}, \"colorscale\": [[0.0, \"#0d0887\"], [0.1111111111111111, \"#46039f\"], [0.2222222222222222, \"#7201a8\"], [0.3333333333333333, \"#9c179e\"], [0.4444444444444444, \"#bd3786\"], [0.5555555555555556, \"#d8576b\"], [0.6666666666666666, \"#ed7953\"], [0.7777777777777778, \"#fb9f3a\"], [0.8888888888888888, \"#fdca26\"], [1.0, \"#f0f921\"]], \"type\": \"heatmapgl\"}], \"histogram\": [{\"marker\": {\"colorbar\": {\"outlinewidth\": 0, \"ticks\": \"\"}}, \"type\": \"histogram\"}], \"histogram2d\": [{\"colorbar\": {\"outlinewidth\": 0, \"ticks\": \"\"}, \"colorscale\": [[0.0, \"#0d0887\"], [0.1111111111111111, \"#46039f\"], [0.2222222222222222, \"#7201a8\"], [0.3333333333333333, \"#9c179e\"], [0.4444444444444444, \"#bd3786\"], [0.5555555555555556, \"#d8576b\"], [0.6666666666666666, \"#ed7953\"], [0.7777777777777778, \"#fb9f3a\"], [0.8888888888888888, \"#fdca26\"], [1.0, \"#f0f921\"]], \"type\": \"histogram2d\"}], \"histogram2dcontour\": [{\"colorbar\": {\"outlinewidth\": 0, \"ticks\": \"\"}, \"colorscale\": [[0.0, \"#0d0887\"], [0.1111111111111111, \"#46039f\"], [0.2222222222222222, \"#7201a8\"], [0.3333333333333333, \"#9c179e\"], [0.4444444444444444, \"#bd3786\"], [0.5555555555555556, \"#d8576b\"], [0.6666666666666666, \"#ed7953\"], [0.7777777777777778, \"#fb9f3a\"], [0.8888888888888888, \"#fdca26\"], [1.0, \"#f0f921\"]], \"type\": \"histogram2dcontour\"}], \"mesh3d\": [{\"colorbar\": {\"outlinewidth\": 0, \"ticks\": \"\"}, \"type\": \"mesh3d\"}], \"parcoords\": [{\"line\": {\"colorbar\": {\"outlinewidth\": 0, \"ticks\": \"\"}}, \"type\": \"parcoords\"}], \"pie\": [{\"automargin\": true, \"type\": \"pie\"}], \"scatter\": [{\"marker\": {\"colorbar\": {\"outlinewidth\": 0, \"ticks\": \"\"}}, \"type\": \"scatter\"}], \"scatter3d\": [{\"line\": {\"colorbar\": {\"outlinewidth\": 0, \"ticks\": \"\"}}, \"marker\": {\"colorbar\": {\"outlinewidth\": 0, \"ticks\": \"\"}}, \"type\": \"scatter3d\"}], \"scattercarpet\": [{\"marker\": {\"colorbar\": {\"outlinewidth\": 0, \"ticks\": \"\"}}, \"type\": \"scattercarpet\"}], \"scattergeo\": [{\"marker\": {\"colorbar\": {\"outlinewidth\": 0, \"ticks\": \"\"}}, \"type\": \"scattergeo\"}], \"scattergl\": [{\"marker\": {\"colorbar\": {\"outlinewidth\": 0, \"ticks\": \"\"}}, \"type\": \"scattergl\"}], \"scattermapbox\": [{\"marker\": {\"colorbar\": {\"outlinewidth\": 0, \"ticks\": \"\"}}, \"type\": \"scattermapbox\"}], \"scatterpolar\": [{\"marker\": {\"colorbar\": {\"outlinewidth\": 0, \"ticks\": \"\"}}, \"type\": \"scatterpolar\"}], \"scatterpolargl\": [{\"marker\": {\"colorbar\": {\"outlinewidth\": 0, \"ticks\": \"\"}}, \"type\": \"scatterpolargl\"}], \"scatterternary\": [{\"marker\": {\"colorbar\": {\"outlinewidth\": 0, \"ticks\": \"\"}}, \"type\": \"scatterternary\"}], \"surface\": [{\"colorbar\": {\"outlinewidth\": 0, \"ticks\": \"\"}, \"colorscale\": [[0.0, \"#0d0887\"], [0.1111111111111111, \"#46039f\"], [0.2222222222222222, \"#7201a8\"], [0.3333333333333333, \"#9c179e\"], [0.4444444444444444, \"#bd3786\"], [0.5555555555555556, \"#d8576b\"], [0.6666666666666666, \"#ed7953\"], [0.7777777777777778, \"#fb9f3a\"], [0.8888888888888888, \"#fdca26\"], [1.0, \"#f0f921\"]], \"type\": \"surface\"}], \"table\": [{\"cells\": {\"fill\": {\"color\": \"#EBF0F8\"}, \"line\": {\"color\": \"white\"}}, \"header\": {\"fill\": {\"color\": \"#C8D4E3\"}, \"line\": {\"color\": \"white\"}}, \"type\": \"table\"}]}, \"layout\": {\"annotationdefaults\": {\"arrowcolor\": \"#2a3f5f\", \"arrowhead\": 0, \"arrowwidth\": 1}, \"coloraxis\": {\"colorbar\": {\"outlinewidth\": 0, \"ticks\": \"\"}}, \"colorscale\": {\"diverging\": [[0, \"#8e0152\"], [0.1, \"#c51b7d\"], [0.2, \"#de77ae\"], [0.3, \"#f1b6da\"], [0.4, \"#fde0ef\"], [0.5, \"#f7f7f7\"], [0.6, \"#e6f5d0\"], [0.7, \"#b8e186\"], [0.8, \"#7fbc41\"], [0.9, \"#4d9221\"], [1, \"#276419\"]], \"sequential\": [[0.0, \"#0d0887\"], [0.1111111111111111, \"#46039f\"], [0.2222222222222222, \"#7201a8\"], [0.3333333333333333, \"#9c179e\"], [0.4444444444444444, \"#bd3786\"], [0.5555555555555556, \"#d8576b\"], [0.6666666666666666, \"#ed7953\"], [0.7777777777777778, \"#fb9f3a\"], [0.8888888888888888, \"#fdca26\"], [1.0, \"#f0f921\"]], \"sequentialminus\": [[0.0, \"#0d0887\"], [0.1111111111111111, \"#46039f\"], [0.2222222222222222, \"#7201a8\"], [0.3333333333333333, \"#9c179e\"], [0.4444444444444444, \"#bd3786\"], [0.5555555555555556, \"#d8576b\"], [0.6666666666666666, \"#ed7953\"], [0.7777777777777778, \"#fb9f3a\"], [0.8888888888888888, \"#fdca26\"], [1.0, \"#f0f921\"]]}, \"colorway\": [\"#636efa\", \"#EF553B\", \"#00cc96\", \"#ab63fa\", \"#FFA15A\", \"#19d3f3\", \"#FF6692\", \"#B6E880\", \"#FF97FF\", \"#FECB52\"], \"font\": {\"color\": \"#2a3f5f\"}, \"geo\": {\"bgcolor\": \"white\", \"lakecolor\": \"white\", \"landcolor\": \"#E5ECF6\", \"showlakes\": true, \"showland\": true, \"subunitcolor\": \"white\"}, \"hoverlabel\": {\"align\": \"left\"}, \"hovermode\": \"closest\", \"mapbox\": {\"style\": \"light\"}, \"paper_bgcolor\": \"white\", \"plot_bgcolor\": \"#E5ECF6\", \"polar\": {\"angularaxis\": {\"gridcolor\": \"white\", \"linecolor\": \"white\", \"ticks\": \"\"}, \"bgcolor\": \"#E5ECF6\", \"radialaxis\": {\"gridcolor\": \"white\", \"linecolor\": \"white\", \"ticks\": \"\"}}, \"scene\": {\"xaxis\": {\"backgroundcolor\": \"#E5ECF6\", \"gridcolor\": \"white\", \"gridwidth\": 2, \"linecolor\": \"white\", \"showbackground\": true, \"ticks\": \"\", \"zerolinecolor\": \"white\"}, \"yaxis\": {\"backgroundcolor\": \"#E5ECF6\", \"gridcolor\": \"white\", \"gridwidth\": 2, \"linecolor\": \"white\", \"showbackground\": true, \"ticks\": \"\", \"zerolinecolor\": \"white\"}, \"zaxis\": {\"backgroundcolor\": \"#E5ECF6\", \"gridcolor\": \"white\", \"gridwidth\": 2, \"linecolor\": \"white\", \"showbackground\": true, \"ticks\": \"\", \"zerolinecolor\": \"white\"}}, \"shapedefaults\": {\"line\": {\"color\": \"#2a3f5f\"}}, \"ternary\": {\"aaxis\": {\"gridcolor\": \"white\", \"linecolor\": \"white\", \"ticks\": \"\"}, \"baxis\": {\"gridcolor\": \"white\", \"linecolor\": \"white\", \"ticks\": \"\"}, \"bgcolor\": \"#E5ECF6\", \"caxis\": {\"gridcolor\": \"white\", \"linecolor\": \"white\", \"ticks\": \"\"}}, \"title\": {\"x\": 0.05}, \"xaxis\": {\"automargin\": true, \"gridcolor\": \"white\", \"linecolor\": \"white\", \"ticks\": \"\", \"title\": {\"standoff\": 15}, \"zerolinecolor\": \"white\", \"zerolinewidth\": 2}, \"yaxis\": {\"automargin\": true, \"gridcolor\": \"white\", \"linecolor\": \"white\", \"ticks\": \"\", \"title\": {\"standoff\": 15}, \"zerolinecolor\": \"white\", \"zerolinewidth\": 2}}}, \"title\": {\"font\": {\"color\": \"#4D5663\"}}, \"xaxis\": {\"anchor\": \"y\", \"domain\": [0.0, 0.2125], \"gridcolor\": \"#E1E5ED\", \"showgrid\": false, \"tickfont\": {\"color\": \"#4D5663\"}, \"title\": {\"font\": {\"color\": \"#4D5663\"}, \"text\": \"\"}, \"zerolinecolor\": \"#E1E5ED\"}, \"xaxis10\": {\"anchor\": \"y10\", \"domain\": [0.2625, 0.475], \"gridcolor\": \"#E1E5ED\", \"showgrid\": false, \"tickfont\": {\"color\": \"#4D5663\"}, \"title\": {\"font\": {\"color\": \"#4D5663\"}, \"text\": \"\"}, \"zerolinecolor\": \"#E1E5ED\"}, \"xaxis11\": {\"anchor\": \"y11\", \"domain\": [0.525, 0.7375], \"gridcolor\": \"#E1E5ED\", \"showgrid\": false, \"tickfont\": {\"color\": \"#4D5663\"}, \"title\": {\"font\": {\"color\": \"#4D5663\"}, \"text\": \"\"}, \"zerolinecolor\": \"#E1E5ED\"}, \"xaxis12\": {\"anchor\": \"y12\", \"domain\": [0.7875, 1.0], \"gridcolor\": \"#E1E5ED\", \"showgrid\": false, \"tickfont\": {\"color\": \"#4D5663\"}, \"title\": {\"font\": {\"color\": \"#4D5663\"}, \"text\": \"\"}, \"zerolinecolor\": \"#E1E5ED\"}, \"xaxis13\": {\"anchor\": \"y13\", \"domain\": [0.0, 0.2125], \"gridcolor\": \"#E1E5ED\", \"showgrid\": false, \"tickfont\": {\"color\": \"#4D5663\"}, \"title\": {\"font\": {\"color\": \"#4D5663\"}, \"text\": \"\"}, \"zerolinecolor\": \"#E1E5ED\"}, \"xaxis14\": {\"anchor\": \"y14\", \"domain\": [0.2625, 0.475], \"gridcolor\": \"#E1E5ED\", \"showgrid\": false, \"tickfont\": {\"color\": \"#4D5663\"}, \"title\": {\"font\": {\"color\": \"#4D5663\"}, \"text\": \"\"}, \"zerolinecolor\": \"#E1E5ED\"}, \"xaxis15\": {\"anchor\": \"y15\", \"domain\": [0.525, 0.7375], \"gridcolor\": \"#E1E5ED\", \"showgrid\": false, \"tickfont\": {\"color\": \"#4D5663\"}, \"title\": {\"font\": {\"color\": \"#4D5663\"}, \"text\": \"\"}, \"zerolinecolor\": \"#E1E5ED\"}, \"xaxis16\": {\"anchor\": \"y16\", \"domain\": [0.7875, 1.0], \"gridcolor\": \"#E1E5ED\", \"showgrid\": false, \"tickfont\": {\"color\": \"#4D5663\"}, \"title\": {\"font\": {\"color\": \"#4D5663\"}, \"text\": \"\"}, \"zerolinecolor\": \"#E1E5ED\"}, \"xaxis2\": {\"anchor\": \"y2\", \"domain\": [0.2625, 0.475], \"gridcolor\": \"#E1E5ED\", \"showgrid\": false, \"tickfont\": {\"color\": \"#4D5663\"}, \"title\": {\"font\": {\"color\": \"#4D5663\"}, \"text\": \"\"}, \"zerolinecolor\": \"#E1E5ED\"}, \"xaxis3\": {\"anchor\": \"y3\", \"domain\": [0.525, 0.7375], \"gridcolor\": \"#E1E5ED\", \"showgrid\": false, \"tickfont\": {\"color\": \"#4D5663\"}, \"title\": {\"font\": {\"color\": \"#4D5663\"}, \"text\": \"\"}, \"zerolinecolor\": \"#E1E5ED\"}, \"xaxis4\": {\"anchor\": \"y4\", \"domain\": [0.7875, 1.0], \"gridcolor\": \"#E1E5ED\", \"showgrid\": false, \"tickfont\": {\"color\": \"#4D5663\"}, \"title\": {\"font\": {\"color\": \"#4D5663\"}, \"text\": \"\"}, \"zerolinecolor\": \"#E1E5ED\"}, \"xaxis5\": {\"anchor\": \"y5\", \"domain\": [0.0, 0.2125], \"gridcolor\": \"#E1E5ED\", \"showgrid\": false, \"tickfont\": {\"color\": \"#4D5663\"}, \"title\": {\"font\": {\"color\": \"#4D5663\"}, \"text\": \"\"}, \"zerolinecolor\": \"#E1E5ED\"}, \"xaxis6\": {\"anchor\": \"y6\", \"domain\": [0.2625, 0.475], \"gridcolor\": \"#E1E5ED\", \"showgrid\": false, \"tickfont\": {\"color\": \"#4D5663\"}, \"title\": {\"font\": {\"color\": \"#4D5663\"}, \"text\": \"\"}, \"zerolinecolor\": \"#E1E5ED\"}, \"xaxis7\": {\"anchor\": \"y7\", \"domain\": [0.525, 0.7375], \"gridcolor\": \"#E1E5ED\", \"showgrid\": false, \"tickfont\": {\"color\": \"#4D5663\"}, \"title\": {\"font\": {\"color\": \"#4D5663\"}, \"text\": \"\"}, \"zerolinecolor\": \"#E1E5ED\"}, \"xaxis8\": {\"anchor\": \"y8\", \"domain\": [0.7875, 1.0], \"gridcolor\": \"#E1E5ED\", \"showgrid\": false, \"tickfont\": {\"color\": \"#4D5663\"}, \"title\": {\"font\": {\"color\": \"#4D5663\"}, \"text\": \"\"}, \"zerolinecolor\": \"#E1E5ED\"}, \"xaxis9\": {\"anchor\": \"y9\", \"domain\": [0.0, 0.2125], \"gridcolor\": \"#E1E5ED\", \"showgrid\": false, \"tickfont\": {\"color\": \"#4D5663\"}, \"title\": {\"font\": {\"color\": \"#4D5663\"}, \"text\": \"\"}, \"zerolinecolor\": \"#E1E5ED\"}, \"yaxis\": {\"anchor\": \"x\", \"domain\": [0.8025, 1.0], \"gridcolor\": \"#E1E5ED\", \"showgrid\": false, \"tickfont\": {\"color\": \"#4D5663\"}, \"title\": {\"font\": {\"color\": \"#4D5663\"}, \"text\": \"\"}, \"zerolinecolor\": \"#E1E5ED\"}, \"yaxis10\": {\"anchor\": \"x10\", \"domain\": [0.2675, 0.465], \"gridcolor\": \"#E1E5ED\", \"showgrid\": false, \"tickfont\": {\"color\": \"#4D5663\"}, \"title\": {\"font\": {\"color\": \"#4D5663\"}, \"text\": \"\"}, \"zerolinecolor\": \"#E1E5ED\"}, \"yaxis11\": {\"anchor\": \"x11\", \"domain\": [0.2675, 0.465], \"gridcolor\": \"#E1E5ED\", \"showgrid\": false, \"tickfont\": {\"color\": \"#4D5663\"}, \"title\": {\"font\": {\"color\": \"#4D5663\"}, \"text\": \"\"}, \"zerolinecolor\": \"#E1E5ED\"}, \"yaxis12\": {\"anchor\": \"x12\", \"domain\": [0.2675, 0.465], \"gridcolor\": \"#E1E5ED\", \"showgrid\": false, \"tickfont\": {\"color\": \"#4D5663\"}, \"title\": {\"font\": {\"color\": \"#4D5663\"}, \"text\": \"\"}, \"zerolinecolor\": \"#E1E5ED\"}, \"yaxis13\": {\"anchor\": \"x13\", \"domain\": [0.0, 0.1975], \"gridcolor\": \"#E1E5ED\", \"showgrid\": false, \"tickfont\": {\"color\": \"#4D5663\"}, \"title\": {\"font\": {\"color\": \"#4D5663\"}, \"text\": \"\"}, \"zerolinecolor\": \"#E1E5ED\"}, \"yaxis14\": {\"anchor\": \"x14\", \"domain\": [0.0, 0.1975], \"gridcolor\": \"#E1E5ED\", \"showgrid\": false, \"tickfont\": {\"color\": \"#4D5663\"}, \"title\": {\"font\": {\"color\": \"#4D5663\"}, \"text\": \"\"}, \"zerolinecolor\": \"#E1E5ED\"}, \"yaxis15\": {\"anchor\": \"x15\", \"domain\": [0.0, 0.1975], \"gridcolor\": \"#E1E5ED\", \"showgrid\": false, \"tickfont\": {\"color\": \"#4D5663\"}, \"title\": {\"font\": {\"color\": \"#4D5663\"}, \"text\": \"\"}, \"zerolinecolor\": \"#E1E5ED\"}, \"yaxis16\": {\"anchor\": \"x16\", \"domain\": [0.0, 0.1975], \"gridcolor\": \"#E1E5ED\", \"showgrid\": false, \"tickfont\": {\"color\": \"#4D5663\"}, \"title\": {\"font\": {\"color\": \"#4D5663\"}, \"text\": \"\"}, \"zerolinecolor\": \"#E1E5ED\"}, \"yaxis2\": {\"anchor\": \"x2\", \"domain\": [0.8025, 1.0], \"gridcolor\": \"#E1E5ED\", \"showgrid\": false, \"tickfont\": {\"color\": \"#4D5663\"}, \"title\": {\"font\": {\"color\": \"#4D5663\"}, \"text\": \"\"}, \"zerolinecolor\": \"#E1E5ED\"}, \"yaxis3\": {\"anchor\": \"x3\", \"domain\": [0.8025, 1.0], \"gridcolor\": \"#E1E5ED\", \"showgrid\": false, \"tickfont\": {\"color\": \"#4D5663\"}, \"title\": {\"font\": {\"color\": \"#4D5663\"}, \"text\": \"\"}, \"zerolinecolor\": \"#E1E5ED\"}, \"yaxis4\": {\"anchor\": \"x4\", \"domain\": [0.8025, 1.0], \"gridcolor\": \"#E1E5ED\", \"showgrid\": false, \"tickfont\": {\"color\": \"#4D5663\"}, \"title\": {\"font\": {\"color\": \"#4D5663\"}, \"text\": \"\"}, \"zerolinecolor\": \"#E1E5ED\"}, \"yaxis5\": {\"anchor\": \"x5\", \"domain\": [0.535, 0.7325], \"gridcolor\": \"#E1E5ED\", \"showgrid\": false, \"tickfont\": {\"color\": \"#4D5663\"}, \"title\": {\"font\": {\"color\": \"#4D5663\"}, \"text\": \"\"}, \"zerolinecolor\": \"#E1E5ED\"}, \"yaxis6\": {\"anchor\": \"x6\", \"domain\": [0.535, 0.7325], \"gridcolor\": \"#E1E5ED\", \"showgrid\": false, \"tickfont\": {\"color\": \"#4D5663\"}, \"title\": {\"font\": {\"color\": \"#4D5663\"}, \"text\": \"\"}, \"zerolinecolor\": \"#E1E5ED\"}, \"yaxis7\": {\"anchor\": \"x7\", \"domain\": [0.535, 0.7325], \"gridcolor\": \"#E1E5ED\", \"showgrid\": false, \"tickfont\": {\"color\": \"#4D5663\"}, \"title\": {\"font\": {\"color\": \"#4D5663\"}, \"text\": \"\"}, \"zerolinecolor\": \"#E1E5ED\"}, \"yaxis8\": {\"anchor\": \"x8\", \"domain\": [0.535, 0.7325], \"gridcolor\": \"#E1E5ED\", \"showgrid\": false, \"tickfont\": {\"color\": \"#4D5663\"}, \"title\": {\"font\": {\"color\": \"#4D5663\"}, \"text\": \"\"}, \"zerolinecolor\": \"#E1E5ED\"}, \"yaxis9\": {\"anchor\": \"x9\", \"domain\": [0.2675, 0.465], \"gridcolor\": \"#E1E5ED\", \"showgrid\": false, \"tickfont\": {\"color\": \"#4D5663\"}, \"title\": {\"font\": {\"color\": \"#4D5663\"}, \"text\": \"\"}, \"zerolinecolor\": \"#E1E5ED\"}},\n",
       "                        {\"showLink\": true, \"linkText\": \"Export to plot.ly\", \"plotlyServerURL\": \"https://plot.ly\", \"responsive\": true}\n",
       "                    ).then(function(){\n",
       "                            \n",
       "var gd = document.getElementById('2cadbb16-5d74-4697-b369-8218f6ced836');\n",
       "var x = new MutationObserver(function (mutations, observer) {{\n",
       "        var display = window.getComputedStyle(gd).display;\n",
       "        if (!display || display === 'none') {{\n",
       "            console.log([gd, 'removed!']);\n",
       "            Plotly.purge(gd);\n",
       "            observer.disconnect();\n",
       "        }}\n",
       "}});\n",
       "\n",
       "// Listen for the removal of the full notebook cells\n",
       "var notebookContainer = gd.closest('#notebook-container');\n",
       "if (notebookContainer) {{\n",
       "    x.observe(notebookContainer, {childList: true});\n",
       "}}\n",
       "\n",
       "// Listen for the clearing of the current output cell\n",
       "var outputEl = gd.closest('.output');\n",
       "if (outputEl) {{\n",
       "    x.observe(outputEl, {childList: true});\n",
       "}}\n",
       "\n",
       "                        })\n",
       "                };\n",
       "                });\n",
       "            </script>\n",
       "        </div>"
      ]
     },
     "metadata": {},
     "output_type": "display_data"
    }
   ],
   "source": [
    "df.scatter_matrix()"
   ]
  },
  {
   "cell_type": "code",
   "execution_count": null,
   "metadata": {},
   "outputs": [],
   "source": []
  }
 ],
 "metadata": {
  "kernelspec": {
   "display_name": "Python 3",
   "language": "python",
   "name": "python3"
  },
  "language_info": {
   "codemirror_mode": {
    "name": "ipython",
    "version": 3
   },
   "file_extension": ".py",
   "mimetype": "text/x-python",
   "name": "python",
   "nbconvert_exporter": "python",
   "pygments_lexer": "ipython3",
   "version": "3.7.6"
  }
 },
 "nbformat": 4,
 "nbformat_minor": 4
}
